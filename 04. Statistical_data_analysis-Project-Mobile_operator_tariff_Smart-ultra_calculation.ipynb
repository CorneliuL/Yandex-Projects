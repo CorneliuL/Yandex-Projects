{
 "cells": [
  {
   "cell_type": "markdown",
   "id": "f6a7ac03",
   "metadata": {},
   "source": [
    "<div class=\"alert alert-success\"; style=\"border-left: 7px solid green\">\n",
    "<h3>✔ Комментарий ревьюера V.3</h3>\n",
    "    \n",
    "Спасибо, что поправил. Результат поменялся, потому что ты больше не делишь длительность на 60 :) Удачи в следующих спринтах, оставил ещё в конце небольшой комментарий, советую про проверку гипотез ещё что-то почитать/посмотреть спринт для закрепления\n",
    "</div>    \n"
   ]
  },
  {
   "cell_type": "markdown",
   "id": "81cde64c",
   "metadata": {},
   "source": [
    "<div class=\"alert alert-success\"; style=\"border-left: 7px solid green\">\n",
    "<h3>✔ Комментарий ревьюера V.2</h3>\n",
    "    \n",
    "Спасибо, что поправил, осталось разобраться с объединением таблиц и округлением звонков</div>   "
   ]
  },
  {
   "cell_type": "markdown",
   "id": "17422558",
   "metadata": {},
   "source": [
    "<div class = \"alert alert-info\" style=\"border-left: 7px solid blue\">\n",
    "<h3>Комментарий студента</h3>\n",
    "\n",
    "    + еще поменялся результат 2-ого ttesta... \n",
    "    \n",
    "</div>"
   ]
  },
  {
   "cell_type": "markdown",
   "id": "8a70b3ae",
   "metadata": {},
   "source": [
    "# <div class=\"alert alert-success\">\n",
    "<h2> Комментарий ревьюера</h2>\n",
    "    \n",
    "Привет! Меня зовут Алексей Тюрин, я буду делать ревью твоей работы. Давай будем общаться на «ты».\n",
    "\n",
    "У тебя хорошая, аккуратная работа 👍. Есть несколько неточностей, которые довольно быстро испрвляются. Основное -- нужно поправить подсчёт выручки и пересмотреть спринт про проверку гипотез и поправить неточности с формулировкой, интерпретацией, выбором теста. Советую также в обоих случаях использовать двухсторонний тест.\n",
    "\n",
    "---\n",
    "Комментарии делятся на 3 группы:\n",
    "    \n",
    "Зелёным цветом отмечены комментарии, либо подчёркивающие удачные решения, либо содержащие какую-то дополнительную информацию или советы, они формально не требуют правки, но правки приветствуются. Выделены они так:\n",
    "\n",
    "<div class=\"alert alert-success\"; style=\"border-left: 7px solid green\">\n",
    "<h3>✔ Комментарий ревьюера</h3>\n",
    "    \n",
    "Тут текст    \n",
    "</div>    \n",
    "\n",
    "Жёлтым цветом выделены правки, которые желательны:\n",
    "\n",
    "<div class=\"alert alert-warning\"; style=\"border-left: 7px solid yellow\" >\n",
    "<h3>!! Комментарий ревьюера</h3>\n",
    "    \n",
    "Тут текст    \n",
    "</div>    \n",
    "\n",
    "Красным выделены правки, которые обязательны\n",
    "    \n",
    "<div class=\"alert alert-danger\"; style=\"border-left: 7px solid red\">\n",
    "<h3>👀 Комментарий ревьюера</h3>\n",
    "    \n",
    "Тут текст    \n",
    "</div>    \n",
    "    \n",
    "Давай работать над проектом в диалоге: если ты **что-то меняешь** в проекте по моим рекомендациям — **пиши об этом**. Выбери для своих комментариев какой-то заметный цвет, так мне будет легче отследить изменения. Пожалуйста, **не перемещай, не изменяй и не удаляй мои комментарии**. Всё это поможет выполнить повторную проверку твоего проекта оперативнее. Если оставляешь комментарии на какой-то итерации ревью, пиши что-то вроде `комментарий студента V.{номер итерации}`\n",
    "</div>\n",
    "\n",
    "Цвет можно сделать, например, так\n",
    "\n",
    "<div class = \"alert alert-info\" style=\"border-left: 7px solid blue\">\n",
    "<h3>Комментарий студента</h3>\n",
    "Ревьюер душнила :)\n",
    "</div>\n",
    "\n",
    "Или так:\n",
    "    \n",
    "<div class=\"alert alert-info\" style=\"background:#ffdbf1;color:#2e00ab;border-left:7px solid #2e00ab\">\n",
    "<h3>Комментарий студента </h3>\n",
    "    ...\n",
    "</div>"
   ]
  },
  {
   "cell_type": "markdown",
   "id": "ba0f6bb4",
   "metadata": {},
   "source": [
    "\n",
    "<div class = \"alert alert-info\" style=\"border-left: 7px solid blue\">\n",
    "<h3>Комментарий студента</h3>\n",
    "Ревьюер душнила :)\n",
    "</div>"
   ]
  },
  {
   "cell_type": "markdown",
   "id": "0031590f",
   "metadata": {},
   "source": [
    "<div class=\"alert alert-warning\"; style=\"border-left: 7px solid yellow\" >\n",
    "<h3>!! Комментарий ревьюера</h3>\n",
    "    \n",
    "В проекте очень желательно иметь введение, название и постановку всех задач, чтобы понятно было о чём идёт речь и чтобы проект выглядел аккуратно</div>    \n",
    "\n"
   ]
  },
  {
   "cell_type": "code",
   "execution_count": 1,
   "id": "1fe40a76",
   "metadata": {},
   "outputs": [],
   "source": [
    "import pandas as pd"
   ]
  },
  {
   "cell_type": "code",
   "execution_count": 2,
   "id": "2a17046f",
   "metadata": {},
   "outputs": [],
   "source": [
    "import numpy as np"
   ]
  },
  {
   "cell_type": "code",
   "execution_count": 3,
   "id": "b025c770",
   "metadata": {},
   "outputs": [],
   "source": [
    "import matplotlib.pyplot as plt"
   ]
  },
  {
   "cell_type": "markdown",
   "id": "bbf7588a",
   "metadata": {},
   "source": [
    "<div class=\"alert alert-warning\"; style=\"border-left: 7px solid yellow\" >\n",
    "<h3>!! Комментарий ревьюера</h3>\n",
    "    \n",
    "Здорово, что делаешь проект локально, но работа проверяется в окружении Практикума, где твоих локальных файлов нет, поэтому указывай, пожалуйста, пути так, чтобы их не нужно бы исправлять. Я ниже поправил\n",
    "</div>    \n",
    "\n"
   ]
  },
  {
   "cell_type": "markdown",
   "id": "b5ab6f4c",
   "metadata": {},
   "source": [
    "\n",
    "<div class = \"alert alert-info\" style=\"border-left: 7px solid blue\">\n",
    "<h3>Комментарий студента</h3>\n",
    "понял, спасибо ! не делал раньше проект локально\n",
    "    \n",
    "</div>"
   ]
  },
  {
   "cell_type": "markdown",
   "id": "a65cb9db",
   "metadata": {},
   "source": [
    "<div class=\"alert alert-success\"; style=\"border-left: 7px solid green\">\n",
    "<h3>✔ Комментарий ревьюера V.2</h3>\n",
    "    \n",
    "Если далее будешь так же локально делать, то нужно убедиться, что локально у тебя такое же окружение, как в Практикуме в смысле версий библиотек. На платформе стоят такие версии:\n",
    "</div>    \n"
   ]
  },
  {
   "cell_type": "code",
   "execution_count": 4,
   "id": "61c91102",
   "metadata": {},
   "outputs": [
    {
     "name": "stdout",
     "output_type": "stream",
     "text": [
      "# This file may be used to create an environment using:\n",
      "# $ conda create --name <env> --file <this file>\n",
      "# platform: win-64\n",
      "_ipyw_jlab_nb_ext_conf=0.1.0=py39haa95532_0\n",
      "alabaster=0.7.12=pyhd3eb1b0_0\n",
      "anaconda=2021.11=py39_0\n",
      "anaconda-client=1.9.0=py39haa95532_0\n",
      "anaconda-navigator=2.1.1=py39_0\n",
      "anaconda-project=0.10.1=pyhd3eb1b0_0\n",
      "anyio=2.2.0=py39haa95532_2\n",
      "appdirs=1.4.4=pyhd3eb1b0_0\n",
      "argh=0.26.2=py39haa95532_0\n",
      "argon2-cffi=20.1.0=py39h2bbff1b_1\n",
      "arrow=0.13.1=py39haa95532_0\n",
      "asn1crypto=1.4.0=py_0\n",
      "astroid=2.6.6=py39haa95532_0\n",
      "astropy=4.3.1=py39hc7d831d_0\n",
      "async_generator=1.10=pyhd3eb1b0_0\n",
      "atomicwrites=1.4.0=py_0\n",
      "attrs=21.2.0=pyhd3eb1b0_0\n",
      "autopep8=1.5.7=pyhd3eb1b0_0\n",
      "babel=2.9.1=pyhd3eb1b0_0\n",
      "backcall=0.2.0=pyhd3eb1b0_0\n",
      "backports=1.0=pyhd3eb1b0_2\n",
      "backports.functools_lru_cache=1.6.4=pyhd3eb1b0_0\n",
      "backports.shutil_get_terminal_size=1.0.0=pyhd3eb1b0_3\n",
      "backports.tempfile=1.0=pyhd3eb1b0_1\n",
      "backports.weakref=1.0.post1=py_1\n",
      "bcrypt=3.2.0=py39h196d8e1_0\n",
      "beautifulsoup4=4.10.0=pyh06a4308_0\n",
      "binaryornot=0.4.4=pyhd3eb1b0_1\n",
      "bitarray=2.3.0=py39h2bbff1b_1\n",
      "bkcharts=0.2=py39haa95532_0\n",
      "black=19.10b0=py_0\n",
      "blas=1.0=mkl\n",
      "bleach=4.0.0=pyhd3eb1b0_0\n",
      "blosc=1.21.0=h19a0ad4_0\n",
      "bokeh=2.4.1=py39haa95532_0\n",
      "boto=2.49.0=py39haa95532_0\n",
      "bottleneck=1.3.2=py39h7cc1a96_1\n",
      "brotli=1.0.9=pypi_0\n",
      "brotlipy=0.7.0=py39h2bbff1b_1003\n",
      "bzip2=1.0.8=he774522_0\n",
      "ca-certificates=2021.10.26=haa95532_2\n",
      "cached-property=1.5.2=py_0\n",
      "certifi=2021.10.8=py39haa95532_0\n",
      "cffi=1.14.6=py39h2bbff1b_0\n",
      "cfitsio=3.470=he774522_6\n",
      "chardet=4.0.0=py39haa95532_1003\n",
      "charls=2.2.0=h6c2663c_0\n",
      "charset-normalizer=2.0.4=pyhd3eb1b0_0\n",
      "click=8.0.3=pyhd3eb1b0_0\n",
      "cloudpickle=2.0.0=pyhd3eb1b0_0\n",
      "clyent=1.2.2=py39haa95532_1\n",
      "colorama=0.4.4=pyhd3eb1b0_0\n",
      "comtypes=1.1.10=py39haa95532_1002\n",
      "conda=4.10.3=py39haa95532_0\n",
      "conda-build=3.21.6=py39haa95532_0\n",
      "conda-content-trust=0.1.1=pyhd3eb1b0_0\n",
      "conda-env=2.6.0=1\n",
      "conda-pack=0.6.0=pyhd3eb1b0_0\n",
      "conda-package-handling=1.7.3=py39h8cc25b3_1\n",
      "conda-repo-cli=1.0.4=pyhd3eb1b0_0\n",
      "conda-token=0.3.0=pyhd3eb1b0_0\n",
      "conda-verify=3.4.2=py_1\n",
      "console_shortcut=0.1.1=4\n",
      "contextlib2=0.6.0.post1=pyhd3eb1b0_0\n",
      "cookiecutter=1.7.2=pyhd3eb1b0_0\n",
      "cryptography=3.4.8=py39h71e12ea_0\n",
      "curl=7.78.0=h86230a5_0\n",
      "cycler=0.10.0=py39haa95532_0\n",
      "cython=0.29.24=py39h604cdb4_0\n",
      "cytoolz=0.11.0=py39h2bbff1b_0\n",
      "daal4py=2021.3.0=py39h757b272_0\n",
      "dal=2021.3.0=haa95532_564\n",
      "dash=2.6.0=pypi_0\n",
      "dash-core-components=2.0.0=pypi_0\n",
      "dash-html-components=2.0.0=pypi_0\n",
      "dash-table=5.0.0=pypi_0\n",
      "dask=2021.10.0=pyhd3eb1b0_0\n",
      "dask-core=2021.10.0=pyhd3eb1b0_0\n",
      "dataclasses=0.8=pyh6d0b6a4_7\n",
      "debugpy=1.4.1=py39hd77b12b_0\n",
      "decorator=5.1.0=pyhd3eb1b0_0\n",
      "defusedxml=0.7.1=pyhd3eb1b0_0\n",
      "diff-match-patch=20200713=pyhd3eb1b0_0\n",
      "distributed=2021.10.0=py39haa95532_0\n",
      "docutils=0.17.1=py39haa95532_1\n",
      "entrypoints=0.3=py39haa95532_0\n",
      "et_xmlfile=1.1.0=py39haa95532_0\n",
      "fastcache=1.1.0=py39h196d8e1_0\n",
      "filelock=3.3.1=pyhd3eb1b0_1\n",
      "flake8=3.9.2=pyhd3eb1b0_0\n",
      "flask=1.1.2=pyhd3eb1b0_0\n",
      "flask-compress=1.12=pypi_0\n",
      "fonttools=4.25.0=pyhd3eb1b0_0\n",
      "freetype=2.10.4=hd328e21_0\n",
      "fsspec=2021.10.1=pyhd3eb1b0_0\n",
      "future=0.18.2=py39haa95532_1\n",
      "get_terminal_size=1.0.0=h38e98db_0\n",
      "gevent=21.8.0=py39h2bbff1b_1\n",
      "giflib=5.2.1=h62dcd97_0\n",
      "glob2=0.7=pyhd3eb1b0_0\n",
      "greenlet=1.1.1=py39hd77b12b_0\n",
      "h5py=3.2.1=py39h3de5c98_0\n",
      "hdf5=1.10.6=h7ebc959_0\n",
      "heapdict=1.0.1=pyhd3eb1b0_0\n",
      "html5lib=1.1=pyhd3eb1b0_0\n",
      "icc_rt=2019.0.0=h0cc432a_1\n",
      "icu=58.2=ha925a31_3\n",
      "idna=3.2=pyhd3eb1b0_0\n",
      "imagecodecs=2021.8.26=py39ha1f97ea_0\n",
      "imageio=2.9.0=pyhd3eb1b0_0\n",
      "imagesize=1.2.0=pyhd3eb1b0_0\n",
      "importlib-metadata=4.8.1=py39haa95532_0\n",
      "importlib_metadata=4.8.1=hd3eb1b0_0\n",
      "inflection=0.5.1=py39haa95532_0\n",
      "iniconfig=1.1.1=pyhd3eb1b0_0\n",
      "intel-openmp=2021.4.0=haa95532_3556\n",
      "intervaltree=3.1.0=pyhd3eb1b0_0\n",
      "ipykernel=6.4.1=py39haa95532_1\n",
      "ipython=7.29.0=py39hd4e2768_0\n",
      "ipython_genutils=0.2.0=pyhd3eb1b0_1\n",
      "ipywidgets=7.6.5=pyhd3eb1b0_1\n",
      "isort=5.9.3=pyhd3eb1b0_0\n",
      "itsdangerous=2.0.1=pyhd3eb1b0_0\n",
      "jdcal=1.4.1=pyhd3eb1b0_0\n",
      "jedi=0.18.0=py39haa95532_1\n",
      "jinja2=2.11.3=pyhd3eb1b0_0\n",
      "jinja2-time=0.2.0=pyhd3eb1b0_2\n",
      "joblib=1.1.0=pyhd3eb1b0_0\n",
      "jpeg=9d=h2bbff1b_0\n",
      "json5=0.9.6=pyhd3eb1b0_0\n",
      "jsonschema=3.2.0=pyhd3eb1b0_2\n",
      "jupyter=1.0.0=py39haa95532_7\n",
      "jupyter_client=6.1.12=pyhd3eb1b0_0\n",
      "jupyter_console=6.4.0=pyhd3eb1b0_0\n",
      "jupyter_core=4.8.1=py39haa95532_0\n",
      "jupyter_server=1.4.1=py39haa95532_0\n",
      "jupyterlab=3.2.1=pyhd3eb1b0_1\n",
      "jupyterlab_pygments=0.1.2=py_0\n",
      "jupyterlab_server=2.8.2=pyhd3eb1b0_0\n",
      "jupyterlab_widgets=1.0.0=pyhd3eb1b0_1\n",
      "keyring=23.1.0=py39haa95532_0\n",
      "kiwisolver=1.3.1=py39hd77b12b_0\n",
      "krb5=1.19.2=h5b6d351_0\n",
      "lazy-object-proxy=1.6.0=py39h2bbff1b_0\n",
      "lcms2=2.12=h83e58a3_0\n",
      "lerc=3.0=hd77b12b_0\n",
      "libaec=1.0.4=h33f27b4_1\n",
      "libarchive=3.4.2=h5e25573_0\n",
      "libcurl=7.78.0=h86230a5_0\n",
      "libdeflate=1.8=h2bbff1b_5\n",
      "libiconv=1.15=h1df5818_7\n",
      "liblief=0.10.1=hd77b12b_1\n",
      "libpng=1.6.37=h2a8f88b_0\n",
      "libspatialindex=1.9.3=h6c2663c_0\n",
      "libssh2=1.9.0=h7a1dbc1_1\n",
      "libtiff=4.2.0=hd0e1b90_0\n",
      "libwebp=1.2.0=h2bbff1b_0\n",
      "libxml2=2.9.12=h0ad7f3c_0\n",
      "libxslt=1.1.34=he774522_0\n",
      "libzopfli=1.0.3=ha925a31_0\n",
      "llvmlite=0.37.0=py39h23ce68f_1\n",
      "locket=0.2.1=py39haa95532_1\n",
      "lxml=4.6.3=py39h9b66d53_0\n",
      "lz4-c=1.9.3=h2bbff1b_1\n",
      "lzo=2.10=he774522_2\n",
      "m2w64-gcc-libgfortran=5.3.0=6\n",
      "m2w64-gcc-libs=5.3.0=7\n",
      "m2w64-gcc-libs-core=5.3.0=7\n",
      "m2w64-gmp=6.1.0=2\n",
      "m2w64-libwinpthread-git=5.0.0.4634.697f757=2\n",
      "markupsafe=1.1.1=py39h2bbff1b_0\n",
      "matplotlib=3.4.3=py39haa95532_0\n",
      "matplotlib-base=3.4.3=py39h49ac443_0\n",
      "matplotlib-inline=0.1.2=pyhd3eb1b0_2\n",
      "mccabe=0.6.1=py39haa95532_1\n",
      "menuinst=1.4.18=py39h59b6b97_0\n",
      "mistune=0.8.4=py39h2bbff1b_1000\n",
      "mkl=2021.4.0=haa95532_640\n",
      "mkl-service=2.4.0=py39h2bbff1b_0\n",
      "mkl_fft=1.3.1=py39h277e83a_0\n",
      "mkl_random=1.2.2=py39hf11a4ad_0\n",
      "mock=4.0.3=pyhd3eb1b0_0\n",
      "more-itertools=8.10.0=pyhd3eb1b0_0\n",
      "mpmath=1.2.1=py39haa95532_0\n",
      "msgpack-python=1.0.2=py39h59b6b97_1\n",
      "msys2-conda-epoch=20160418=1\n",
      "multipledispatch=0.6.0=py39haa95532_0\n",
      "munkres=1.1.4=py_0\n",
      "mypy_extensions=0.4.3=py39haa95532_0\n",
      "navigator-updater=0.2.1=py39haa95532_0\n",
      "nbclassic=0.2.6=pyhd3eb1b0_0\n",
      "nbclient=0.5.3=pyhd3eb1b0_0\n",
      "nbconvert=6.1.0=py39haa95532_0\n",
      "nbformat=5.1.3=pyhd3eb1b0_0\n",
      "nest-asyncio=1.5.1=pyhd3eb1b0_0\n",
      "networkx=2.6.3=pyhd3eb1b0_0\n",
      "nltk=3.6.5=pyhd3eb1b0_0\n",
      "nose=1.3.7=pyhd3eb1b0_1006\n",
      "notebook=6.4.5=py39haa95532_0\n",
      "numba=0.54.1=py39hf11a4ad_0\n",
      "numexpr=2.7.3=py39hb80d3ca_1\n",
      "numpy=1.20.3=py39ha4e8547_0\n",
      "numpy-base=1.20.3=py39hc2deb75_0\n",
      "numpydoc=1.1.0=pyhd3eb1b0_1\n",
      "olefile=0.46=pyhd3eb1b0_0\n",
      "openjpeg=2.4.0=h4fc8c34_0\n",
      "openpyxl=3.0.9=pyhd3eb1b0_0\n",
      "openssl=1.1.1l=h2bbff1b_0\n",
      "packaging=21.0=pyhd3eb1b0_0\n",
      "pandas=1.3.4=py39h6214cd6_0\n",
      "pandocfilters=1.4.3=py39haa95532_1\n",
      "paramiko=2.7.2=py_0\n",
      "parso=0.8.2=pyhd3eb1b0_0\n",
      "partd=1.2.0=pyhd3eb1b0_0\n",
      "path=16.0.0=py39haa95532_0\n",
      "path.py=12.5.0=hd3eb1b0_0\n",
      "pathlib2=2.3.6=py39haa95532_2\n",
      "pathspec=0.7.0=py_0\n",
      "patsy=0.5.2=py39haa95532_0\n",
      "pep8=1.7.1=py39haa95532_0\n",
      "pexpect=4.8.0=pyhd3eb1b0_3\n",
      "pickleshare=0.7.5=pyhd3eb1b0_1003\n",
      "pillow=8.4.0=py39hd45dc43_0\n",
      "pip=21.2.4=py39haa95532_0\n",
      "pkginfo=1.7.1=py39haa95532_0\n",
      "plotly=5.9.0=pypi_0\n",
      "pluggy=0.13.1=py39haa95532_0\n",
      "ply=3.11=py39haa95532_0\n",
      "powershell_shortcut=0.0.1=3\n",
      "poyo=0.5.0=pyhd3eb1b0_0\n",
      "prometheus_client=0.11.0=pyhd3eb1b0_0\n",
      "prompt-toolkit=3.0.20=pyhd3eb1b0_0\n",
      "prompt_toolkit=3.0.20=hd3eb1b0_0\n",
      "psutil=5.8.0=py39h2bbff1b_1\n",
      "psycopg2-binary=2.9.3=pypi_0\n",
      "ptyprocess=0.7.0=pyhd3eb1b0_2\n",
      "py=1.10.0=pyhd3eb1b0_0\n",
      "py-lief=0.10.1=py39hd77b12b_1\n",
      "pycodestyle=2.7.0=pyhd3eb1b0_0\n",
      "pycosat=0.6.3=py39h2bbff1b_0\n",
      "pycparser=2.20=py_2\n",
      "pycurl=7.44.1=py39hcd4344a_1\n",
      "pydocstyle=6.1.1=pyhd3eb1b0_0\n",
      "pyerfa=2.0.0=py39h2bbff1b_0\n",
      "pyflakes=2.3.1=pyhd3eb1b0_0\n",
      "pygments=2.10.0=pyhd3eb1b0_0\n",
      "pyjwt=2.1.0=py39haa95532_0\n",
      "pylint=2.9.6=py39haa95532_1\n",
      "pyls-spyder=0.4.0=pyhd3eb1b0_0\n",
      "pynacl=1.4.0=py39hbd8134f_1\n",
      "pyodbc=4.0.31=py39hd77b12b_0\n",
      "pyopenssl=21.0.0=pyhd3eb1b0_1\n",
      "pyparsing=3.0.4=pyhd3eb1b0_0\n",
      "pyqt=5.9.2=py39hd77b12b_6\n",
      "pyreadline=2.1=py39haa95532_1\n",
      "pyrsistent=0.18.0=py39h196d8e1_0\n",
      "pysocks=1.7.1=py39haa95532_0\n",
      "pytables=3.6.1=py39h56d22b6_1\n",
      "pytest=6.2.4=py39haa95532_2\n",
      "python=3.9.7=h6244533_1\n",
      "python-dateutil=2.8.2=pyhd3eb1b0_0\n",
      "python-libarchive-c=2.9=pyhd3eb1b0_1\n",
      "python-lsp-black=1.0.0=pyhd3eb1b0_0\n",
      "python-lsp-jsonrpc=1.0.0=pyhd3eb1b0_0\n",
      "python-lsp-server=1.2.4=pyhd3eb1b0_0\n",
      "python-slugify=5.0.2=pyhd3eb1b0_0\n",
      "pytz=2021.3=pyhd3eb1b0_0\n",
      "pywavelets=1.1.1=py39h080aedc_4\n",
      "pywin32=228=py39he774522_0\n",
      "pywin32-ctypes=0.2.0=py39haa95532_1000\n",
      "pywinpty=0.5.7=py39haa95532_0\n",
      "pyyaml=6.0=py39h2bbff1b_1\n",
      "pyzmq=22.2.1=py39hd77b12b_1\n",
      "qdarkstyle=3.0.2=pyhd3eb1b0_0\n",
      "qstylizer=0.1.10=pyhd3eb1b0_0\n",
      "qt=5.9.7=vc14h73c81de_0\n",
      "qtawesome=1.0.2=pyhd3eb1b0_0\n",
      "qtconsole=5.1.1=pyhd3eb1b0_0\n",
      "qtpy=1.10.0=pyhd3eb1b0_0\n",
      "regex=2021.8.3=py39h2bbff1b_0\n",
      "requests=2.26.0=pyhd3eb1b0_0\n",
      "rope=0.19.0=pyhd3eb1b0_0\n",
      "rtree=0.9.7=py39h2eaa2aa_1\n",
      "ruamel_yaml=0.15.100=py39h2bbff1b_0\n",
      "scikit-image=0.18.3=py39hf11a4ad_0\n",
      "scikit-learn=0.24.2=py39hf11a4ad_1\n",
      "scikit-learn-intelex=2021.3.0=py39haa95532_0\n",
      "scipy=1.7.1=py39hbe87c03_2\n",
      "seaborn=0.11.2=pyhd3eb1b0_0\n",
      "send2trash=1.8.0=pyhd3eb1b0_1\n",
      "setuptools=58.0.4=py39haa95532_0\n",
      "simplegeneric=0.8.1=py39haa95532_2\n",
      "singledispatch=3.7.0=pyhd3eb1b0_1001\n",
      "sip=4.19.13=py39hd77b12b_0\n",
      "six=1.16.0=pyhd3eb1b0_0\n",
      "snappy=1.1.8=h33f27b4_0\n",
      "sniffio=1.2.0=py39haa95532_1\n",
      "snowballstemmer=2.1.0=pyhd3eb1b0_0\n",
      "sortedcollections=2.1.0=pyhd3eb1b0_0\n",
      "sortedcontainers=2.4.0=pyhd3eb1b0_0\n",
      "soupsieve=2.2.1=pyhd3eb1b0_0\n",
      "sphinx=4.2.0=pyhd3eb1b0_1\n",
      "sphinxcontrib=1.0=py39haa95532_1\n",
      "sphinxcontrib-applehelp=1.0.2=pyhd3eb1b0_0\n",
      "sphinxcontrib-devhelp=1.0.2=pyhd3eb1b0_0\n",
      "sphinxcontrib-htmlhelp=2.0.0=pyhd3eb1b0_0\n",
      "sphinxcontrib-jsmath=1.0.1=pyhd3eb1b0_0\n",
      "sphinxcontrib-qthelp=1.0.3=pyhd3eb1b0_0\n",
      "sphinxcontrib-serializinghtml=1.1.5=pyhd3eb1b0_0\n",
      "sphinxcontrib-websupport=1.2.4=py_0\n",
      "spyder=5.1.5=py39haa95532_1\n",
      "spyder-kernels=2.1.3=py39haa95532_0\n",
      "sqlalchemy=1.4.22=py39h2bbff1b_0\n",
      "sqlite=3.36.0=h2bbff1b_0\n",
      "statsmodels=0.12.2=py39h2bbff1b_0\n",
      "sympy=1.9=py39haa95532_0\n",
      "tbb=2021.4.0=h59b6b97_0\n",
      "tbb4py=2021.4.0=py39h59b6b97_0\n",
      "tblib=1.7.0=pyhd3eb1b0_0\n",
      "tenacity=8.0.1=pypi_0\n",
      "terminado=0.9.4=py39haa95532_0\n",
      "testpath=0.5.0=pyhd3eb1b0_0\n",
      "text-unidecode=1.3=pyhd3eb1b0_0\n",
      "textdistance=4.2.1=pyhd3eb1b0_0\n",
      "threadpoolctl=2.2.0=pyh0d69192_0\n",
      "three-merge=0.1.1=pyhd3eb1b0_0\n",
      "tifffile=2021.7.2=pyhd3eb1b0_2\n",
      "tinycss=0.4=pyhd3eb1b0_1002\n",
      "tk=8.6.11=h2bbff1b_0\n",
      "toml=0.10.2=pyhd3eb1b0_0\n",
      "toolz=0.11.1=pyhd3eb1b0_0\n",
      "tornado=6.1=py39h2bbff1b_0\n",
      "tqdm=4.62.3=pyhd3eb1b0_1\n",
      "traitlets=5.1.0=pyhd3eb1b0_0\n",
      "typed-ast=1.4.3=py39h2bbff1b_1\n",
      "typing_extensions=3.10.0.2=pyh06a4308_0\n",
      "tzdata=2021e=hda174b7_0\n",
      "ujson=4.0.2=py39hd77b12b_0\n",
      "unicodecsv=0.14.1=py39haa95532_0\n",
      "unidecode=1.2.0=pyhd3eb1b0_0\n",
      "urllib3=1.26.7=pyhd3eb1b0_0\n",
      "vc=14.2=h21ff451_1\n",
      "vs2015_runtime=14.27.29016=h5e58377_2\n",
      "watchdog=2.1.3=py39haa95532_0\n",
      "wcwidth=0.2.5=pyhd3eb1b0_0\n",
      "webencodings=0.5.1=py39haa95532_1\n",
      "werkzeug=2.0.2=pyhd3eb1b0_0\n",
      "wheel=0.37.0=pyhd3eb1b0_1\n",
      "whichcraft=0.6.1=pyhd3eb1b0_0\n",
      "widgetsnbextension=3.5.1=py39haa95532_0\n",
      "win_inet_pton=1.1.0=py39haa95532_0\n",
      "win_unicode_console=0.5=py39haa95532_0\n",
      "wincertstore=0.2=py39haa95532_2\n",
      "winpty=0.4.3=4\n",
      "wrapt=1.12.1=py39h196d8e1_1\n",
      "xlrd=2.0.1=pyhd3eb1b0_0\n",
      "xlsxwriter=3.0.1=pyhd3eb1b0_0\n",
      "xlwings=0.24.9=py39haa95532_0\n",
      "xlwt=1.3.0=py39haa95532_0\n",
      "xmltodict=0.12.0=pyhd3eb1b0_0\n",
      "xz=5.2.5=h62dcd97_0\n",
      "yaml=0.2.5=he774522_0\n",
      "yapf=0.31.0=pyhd3eb1b0_0\n",
      "zfp=0.5.5=hd77b12b_6\n",
      "zict=2.0.0=pyhd3eb1b0_0\n",
      "zipp=3.6.0=pyhd3eb1b0_0\n",
      "zlib=1.2.11=h62dcd97_4\n",
      "zope=1.0=py39haa95532_1\n",
      "zope.event=4.5.0=py39haa95532_0\n",
      "zope.interface=5.4.0=py39h2bbff1b_0\n",
      "zstd=1.4.9=h19a0ad4_0\n"
     ]
    }
   ],
   "source": [
    "# Код ревьюера\n",
    "\n",
    "!conda list -e"
   ]
  },
  {
   "cell_type": "markdown",
   "id": "855007c8",
   "metadata": {},
   "source": [
    "\n",
    "<div class = \"alert alert-info\" style=\"border-left: 7px solid blue\">\n",
    "<h3>Комментарий студента</h3>\n",
    "\n",
    "ok, спс\n",
    "    \n",
    "</div>"
   ]
  },
  {
   "cell_type": "code",
   "execution_count": 5,
   "id": "742c8e06",
   "metadata": {},
   "outputs": [],
   "source": [
    "try:\n",
    "    data_calls = pd.read_csv(r'C:\\Users\\corneliu.leahu\\OneDrive - Overseas Administration Management\\Main Work Folder\\Screen docs\\STUDIES\\CV - Financial Controller Linkedin\\Yandex\\1. Yandex_Prakctikum\\1. Python\\04. Статистика\\calls.csv')\n",
    "    data_internet = pd.read_csv(r'C:\\Users\\corneliu.leahu\\OneDrive - Overseas Administration Management\\Main Work Folder\\Screen docs\\STUDIES\\CV - Financial Controller Linkedin\\Yandex\\1. Yandex_Prakctikum\\1. Python\\04. Статистика\\internet.csv',index_col=0)\n",
    "    data_tariffs = pd.read_csv(r'C:\\Users\\corneliu.leahu\\OneDrive - Overseas Administration Management\\Main Work Folder\\Screen docs\\STUDIES\\CV - Financial Controller Linkedin\\Yandex\\1. Yandex_Prakctikum\\1. Python\\04. Статистика\\tariffs.csv')\n",
    "    data_users = pd.read_csv(r'C:\\Users\\corneliu.leahu\\OneDrive - Overseas Administration Management\\Main Work Folder\\Screen docs\\STUDIES\\CV - Financial Controller Linkedin\\Yandex\\1. Yandex_Prakctikum\\1. Python\\04. Статистика\\users.csv')\n",
    "    data_messages = pd.read_csv(r'C:\\Users\\corneliu.leahu\\OneDrive - Overseas Administration Management\\Main Work Folder\\Screen docs\\STUDIES\\CV - Financial Controller Linkedin\\Yandex\\1. Yandex_Prakctikum\\1. Python\\04. Статистика\\messages.csv')\n",
    "except FileNotFoundError as e:\n",
    "    print(repr(e))\n",
    "    data_calls = pd.read_csv('/datasets/calls.csv')\n",
    "    data_internet = pd.read_csv('/datasets/internet.csv',index_col=0)\n",
    "    data_tariffs = pd.read_csv('/datasets/tariffs.csv')\n",
    "    data_users = pd.read_csv('/datasets/users.csv')\n",
    "    data_messages = pd.read_csv('/datasets/messages.csv')"
   ]
  },
  {
   "cell_type": "code",
   "execution_count": 6,
   "id": "64dc6c84",
   "metadata": {},
   "outputs": [],
   "source": [
    "# data_internet = pd.read_csv(r'C:\\Users\\corneliu.leahu\\OneDrive - Overseas Administration Management\\Main Work Folder\\Screen docs\\STUDIES\\CV - Financial Controller Linkedin\\Yandex\\1. Yandex_Prakctikum\\99. support\\Шпаргалки\\04. Статистика\\internet.csv')"
   ]
  },
  {
   "cell_type": "code",
   "execution_count": 7,
   "id": "c0984822",
   "metadata": {},
   "outputs": [],
   "source": [
    "# data_tariffs = pd.read_csv(r'C:\\Users\\corneliu.leahu\\OneDrive - Overseas Administration Management\\Main Work Folder\\Screen docs\\STUDIES\\CV - Financial Controller Linkedin\\Yandex\\1. Yandex_Prakctikum\\99. support\\Шпаргалки\\04. Статистика\\tariffs.csv')"
   ]
  },
  {
   "cell_type": "code",
   "execution_count": 8,
   "id": "f151ca46",
   "metadata": {},
   "outputs": [],
   "source": [
    "# data_users = pd.read_csv(r'C:\\Users\\corneliu.leahu\\OneDrive - Overseas Administration Management\\Main Work Folder\\Screen docs\\STUDIES\\CV - Financial Controller Linkedin\\Yandex\\1. Yandex_Prakctikum\\99. support\\Шпаргалки\\04. Статистика\\users.csv')"
   ]
  },
  {
   "cell_type": "code",
   "execution_count": 9,
   "id": "86863af3",
   "metadata": {},
   "outputs": [],
   "source": [
    "# data_messages = pd.read_csv(r'C:\\Users\\corneliu.leahu\\OneDrive - Overseas Administration Management\\Main Work Folder\\Screen docs\\STUDIES\\CV - Financial Controller Linkedin\\Yandex\\1. Yandex_Prakctikum\\99. support\\Шпаргалки\\04. Статистика\\messages.csv')"
   ]
  },
  {
   "cell_type": "code",
   "execution_count": 10,
   "id": "5a45321d",
   "metadata": {},
   "outputs": [
    {
     "data": {
      "text/html": [
       "<div>\n",
       "<style scoped>\n",
       "    .dataframe tbody tr th:only-of-type {\n",
       "        vertical-align: middle;\n",
       "    }\n",
       "\n",
       "    .dataframe tbody tr th {\n",
       "        vertical-align: top;\n",
       "    }\n",
       "\n",
       "    .dataframe thead th {\n",
       "        text-align: right;\n",
       "    }\n",
       "</style>\n",
       "<table border=\"1\" class=\"dataframe\">\n",
       "  <thead>\n",
       "    <tr style=\"text-align: right;\">\n",
       "      <th></th>\n",
       "      <th>id</th>\n",
       "      <th>message_date</th>\n",
       "      <th>user_id</th>\n",
       "    </tr>\n",
       "  </thead>\n",
       "  <tbody>\n",
       "    <tr>\n",
       "      <th>0</th>\n",
       "      <td>1000_0</td>\n",
       "      <td>2018-06-27</td>\n",
       "      <td>1000</td>\n",
       "    </tr>\n",
       "    <tr>\n",
       "      <th>1</th>\n",
       "      <td>1000_1</td>\n",
       "      <td>2018-10-08</td>\n",
       "      <td>1000</td>\n",
       "    </tr>\n",
       "    <tr>\n",
       "      <th>2</th>\n",
       "      <td>1000_2</td>\n",
       "      <td>2018-08-04</td>\n",
       "      <td>1000</td>\n",
       "    </tr>\n",
       "    <tr>\n",
       "      <th>3</th>\n",
       "      <td>1000_3</td>\n",
       "      <td>2018-06-16</td>\n",
       "      <td>1000</td>\n",
       "    </tr>\n",
       "    <tr>\n",
       "      <th>4</th>\n",
       "      <td>1000_4</td>\n",
       "      <td>2018-12-05</td>\n",
       "      <td>1000</td>\n",
       "    </tr>\n",
       "    <tr>\n",
       "      <th>...</th>\n",
       "      <td>...</td>\n",
       "      <td>...</td>\n",
       "      <td>...</td>\n",
       "    </tr>\n",
       "    <tr>\n",
       "      <th>123031</th>\n",
       "      <td>1499_179</td>\n",
       "      <td>2018-12-12</td>\n",
       "      <td>1499</td>\n",
       "    </tr>\n",
       "    <tr>\n",
       "      <th>123032</th>\n",
       "      <td>1499_180</td>\n",
       "      <td>2018-09-28</td>\n",
       "      <td>1499</td>\n",
       "    </tr>\n",
       "    <tr>\n",
       "      <th>123033</th>\n",
       "      <td>1499_181</td>\n",
       "      <td>2018-09-27</td>\n",
       "      <td>1499</td>\n",
       "    </tr>\n",
       "    <tr>\n",
       "      <th>123034</th>\n",
       "      <td>1499_182</td>\n",
       "      <td>2018-11-15</td>\n",
       "      <td>1499</td>\n",
       "    </tr>\n",
       "    <tr>\n",
       "      <th>123035</th>\n",
       "      <td>1499_183</td>\n",
       "      <td>2018-11-16</td>\n",
       "      <td>1499</td>\n",
       "    </tr>\n",
       "  </tbody>\n",
       "</table>\n",
       "<p>123036 rows × 3 columns</p>\n",
       "</div>"
      ],
      "text/plain": [
       "              id message_date  user_id\n",
       "0         1000_0   2018-06-27     1000\n",
       "1         1000_1   2018-10-08     1000\n",
       "2         1000_2   2018-08-04     1000\n",
       "3         1000_3   2018-06-16     1000\n",
       "4         1000_4   2018-12-05     1000\n",
       "...          ...          ...      ...\n",
       "123031  1499_179   2018-12-12     1499\n",
       "123032  1499_180   2018-09-28     1499\n",
       "123033  1499_181   2018-09-27     1499\n",
       "123034  1499_182   2018-11-15     1499\n",
       "123035  1499_183   2018-11-16     1499\n",
       "\n",
       "[123036 rows x 3 columns]"
      ]
     },
     "execution_count": 10,
     "metadata": {},
     "output_type": "execute_result"
    }
   ],
   "source": [
    "data_messages"
   ]
  },
  {
   "cell_type": "code",
   "execution_count": 11,
   "id": "74c516f3",
   "metadata": {},
   "outputs": [
    {
     "data": {
      "text/html": [
       "<div>\n",
       "<style scoped>\n",
       "    .dataframe tbody tr th:only-of-type {\n",
       "        vertical-align: middle;\n",
       "    }\n",
       "\n",
       "    .dataframe tbody tr th {\n",
       "        vertical-align: top;\n",
       "    }\n",
       "\n",
       "    .dataframe thead th {\n",
       "        text-align: right;\n",
       "    }\n",
       "</style>\n",
       "<table border=\"1\" class=\"dataframe\">\n",
       "  <thead>\n",
       "    <tr style=\"text-align: right;\">\n",
       "      <th></th>\n",
       "      <th>id</th>\n",
       "      <th>call_date</th>\n",
       "      <th>duration</th>\n",
       "      <th>user_id</th>\n",
       "    </tr>\n",
       "  </thead>\n",
       "  <tbody>\n",
       "    <tr>\n",
       "      <th>0</th>\n",
       "      <td>1000_0</td>\n",
       "      <td>2018-07-25</td>\n",
       "      <td>0.00</td>\n",
       "      <td>1000</td>\n",
       "    </tr>\n",
       "    <tr>\n",
       "      <th>1</th>\n",
       "      <td>1000_1</td>\n",
       "      <td>2018-08-17</td>\n",
       "      <td>0.00</td>\n",
       "      <td>1000</td>\n",
       "    </tr>\n",
       "    <tr>\n",
       "      <th>2</th>\n",
       "      <td>1000_2</td>\n",
       "      <td>2018-06-11</td>\n",
       "      <td>2.85</td>\n",
       "      <td>1000</td>\n",
       "    </tr>\n",
       "    <tr>\n",
       "      <th>3</th>\n",
       "      <td>1000_3</td>\n",
       "      <td>2018-09-21</td>\n",
       "      <td>13.80</td>\n",
       "      <td>1000</td>\n",
       "    </tr>\n",
       "    <tr>\n",
       "      <th>4</th>\n",
       "      <td>1000_4</td>\n",
       "      <td>2018-12-15</td>\n",
       "      <td>5.18</td>\n",
       "      <td>1000</td>\n",
       "    </tr>\n",
       "    <tr>\n",
       "      <th>...</th>\n",
       "      <td>...</td>\n",
       "      <td>...</td>\n",
       "      <td>...</td>\n",
       "      <td>...</td>\n",
       "    </tr>\n",
       "    <tr>\n",
       "      <th>202602</th>\n",
       "      <td>1499_215</td>\n",
       "      <td>2018-12-26</td>\n",
       "      <td>0.76</td>\n",
       "      <td>1499</td>\n",
       "    </tr>\n",
       "    <tr>\n",
       "      <th>202603</th>\n",
       "      <td>1499_216</td>\n",
       "      <td>2018-10-18</td>\n",
       "      <td>18.83</td>\n",
       "      <td>1499</td>\n",
       "    </tr>\n",
       "    <tr>\n",
       "      <th>202604</th>\n",
       "      <td>1499_217</td>\n",
       "      <td>2018-11-10</td>\n",
       "      <td>10.81</td>\n",
       "      <td>1499</td>\n",
       "    </tr>\n",
       "    <tr>\n",
       "      <th>202605</th>\n",
       "      <td>1499_218</td>\n",
       "      <td>2018-10-06</td>\n",
       "      <td>4.27</td>\n",
       "      <td>1499</td>\n",
       "    </tr>\n",
       "    <tr>\n",
       "      <th>202606</th>\n",
       "      <td>1499_219</td>\n",
       "      <td>2018-12-14</td>\n",
       "      <td>19.62</td>\n",
       "      <td>1499</td>\n",
       "    </tr>\n",
       "  </tbody>\n",
       "</table>\n",
       "<p>202607 rows × 4 columns</p>\n",
       "</div>"
      ],
      "text/plain": [
       "              id   call_date  duration  user_id\n",
       "0         1000_0  2018-07-25      0.00     1000\n",
       "1         1000_1  2018-08-17      0.00     1000\n",
       "2         1000_2  2018-06-11      2.85     1000\n",
       "3         1000_3  2018-09-21     13.80     1000\n",
       "4         1000_4  2018-12-15      5.18     1000\n",
       "...          ...         ...       ...      ...\n",
       "202602  1499_215  2018-12-26      0.76     1499\n",
       "202603  1499_216  2018-10-18     18.83     1499\n",
       "202604  1499_217  2018-11-10     10.81     1499\n",
       "202605  1499_218  2018-10-06      4.27     1499\n",
       "202606  1499_219  2018-12-14     19.62     1499\n",
       "\n",
       "[202607 rows x 4 columns]"
      ]
     },
     "execution_count": 11,
     "metadata": {},
     "output_type": "execute_result"
    }
   ],
   "source": [
    "data_calls"
   ]
  },
  {
   "cell_type": "code",
   "execution_count": 12,
   "id": "497dec58",
   "metadata": {},
   "outputs": [
    {
     "data": {
      "text/html": [
       "<div>\n",
       "<style scoped>\n",
       "    .dataframe tbody tr th:only-of-type {\n",
       "        vertical-align: middle;\n",
       "    }\n",
       "\n",
       "    .dataframe tbody tr th {\n",
       "        vertical-align: top;\n",
       "    }\n",
       "\n",
       "    .dataframe thead th {\n",
       "        text-align: right;\n",
       "    }\n",
       "</style>\n",
       "<table border=\"1\" class=\"dataframe\">\n",
       "  <thead>\n",
       "    <tr style=\"text-align: right;\">\n",
       "      <th></th>\n",
       "      <th>id</th>\n",
       "      <th>mb_used</th>\n",
       "      <th>session_date</th>\n",
       "      <th>user_id</th>\n",
       "    </tr>\n",
       "  </thead>\n",
       "  <tbody>\n",
       "    <tr>\n",
       "      <th>0</th>\n",
       "      <td>1000_0</td>\n",
       "      <td>112.95</td>\n",
       "      <td>2018-11-25</td>\n",
       "      <td>1000</td>\n",
       "    </tr>\n",
       "    <tr>\n",
       "      <th>1</th>\n",
       "      <td>1000_1</td>\n",
       "      <td>1052.81</td>\n",
       "      <td>2018-09-07</td>\n",
       "      <td>1000</td>\n",
       "    </tr>\n",
       "    <tr>\n",
       "      <th>2</th>\n",
       "      <td>1000_2</td>\n",
       "      <td>1197.26</td>\n",
       "      <td>2018-06-25</td>\n",
       "      <td>1000</td>\n",
       "    </tr>\n",
       "    <tr>\n",
       "      <th>3</th>\n",
       "      <td>1000_3</td>\n",
       "      <td>550.27</td>\n",
       "      <td>2018-08-22</td>\n",
       "      <td>1000</td>\n",
       "    </tr>\n",
       "    <tr>\n",
       "      <th>4</th>\n",
       "      <td>1000_4</td>\n",
       "      <td>302.56</td>\n",
       "      <td>2018-09-24</td>\n",
       "      <td>1000</td>\n",
       "    </tr>\n",
       "    <tr>\n",
       "      <th>...</th>\n",
       "      <td>...</td>\n",
       "      <td>...</td>\n",
       "      <td>...</td>\n",
       "      <td>...</td>\n",
       "    </tr>\n",
       "    <tr>\n",
       "      <th>149391</th>\n",
       "      <td>1499_152</td>\n",
       "      <td>318.90</td>\n",
       "      <td>2018-10-03</td>\n",
       "      <td>1499</td>\n",
       "    </tr>\n",
       "    <tr>\n",
       "      <th>149392</th>\n",
       "      <td>1499_153</td>\n",
       "      <td>490.13</td>\n",
       "      <td>2018-12-14</td>\n",
       "      <td>1499</td>\n",
       "    </tr>\n",
       "    <tr>\n",
       "      <th>149393</th>\n",
       "      <td>1499_154</td>\n",
       "      <td>0.00</td>\n",
       "      <td>2018-10-27</td>\n",
       "      <td>1499</td>\n",
       "    </tr>\n",
       "    <tr>\n",
       "      <th>149394</th>\n",
       "      <td>1499_155</td>\n",
       "      <td>1246.32</td>\n",
       "      <td>2018-11-26</td>\n",
       "      <td>1499</td>\n",
       "    </tr>\n",
       "    <tr>\n",
       "      <th>149395</th>\n",
       "      <td>1499_156</td>\n",
       "      <td>544.37</td>\n",
       "      <td>2018-10-26</td>\n",
       "      <td>1499</td>\n",
       "    </tr>\n",
       "  </tbody>\n",
       "</table>\n",
       "<p>149396 rows × 4 columns</p>\n",
       "</div>"
      ],
      "text/plain": [
       "              id  mb_used session_date  user_id\n",
       "0         1000_0   112.95   2018-11-25     1000\n",
       "1         1000_1  1052.81   2018-09-07     1000\n",
       "2         1000_2  1197.26   2018-06-25     1000\n",
       "3         1000_3   550.27   2018-08-22     1000\n",
       "4         1000_4   302.56   2018-09-24     1000\n",
       "...          ...      ...          ...      ...\n",
       "149391  1499_152   318.90   2018-10-03     1499\n",
       "149392  1499_153   490.13   2018-12-14     1499\n",
       "149393  1499_154     0.00   2018-10-27     1499\n",
       "149394  1499_155  1246.32   2018-11-26     1499\n",
       "149395  1499_156   544.37   2018-10-26     1499\n",
       "\n",
       "[149396 rows x 4 columns]"
      ]
     },
     "execution_count": 12,
     "metadata": {},
     "output_type": "execute_result"
    }
   ],
   "source": [
    "data_internet"
   ]
  },
  {
   "cell_type": "code",
   "execution_count": 13,
   "id": "b5904e71",
   "metadata": {},
   "outputs": [
    {
     "data": {
      "text/html": [
       "<div>\n",
       "<style scoped>\n",
       "    .dataframe tbody tr th:only-of-type {\n",
       "        vertical-align: middle;\n",
       "    }\n",
       "\n",
       "    .dataframe tbody tr th {\n",
       "        vertical-align: top;\n",
       "    }\n",
       "\n",
       "    .dataframe thead th {\n",
       "        text-align: right;\n",
       "    }\n",
       "</style>\n",
       "<table border=\"1\" class=\"dataframe\">\n",
       "  <thead>\n",
       "    <tr style=\"text-align: right;\">\n",
       "      <th></th>\n",
       "      <th>messages_included</th>\n",
       "      <th>mb_per_month_included</th>\n",
       "      <th>minutes_included</th>\n",
       "      <th>rub_monthly_fee</th>\n",
       "      <th>rub_per_gb</th>\n",
       "      <th>rub_per_message</th>\n",
       "      <th>rub_per_minute</th>\n",
       "      <th>tariff_name</th>\n",
       "    </tr>\n",
       "  </thead>\n",
       "  <tbody>\n",
       "    <tr>\n",
       "      <th>0</th>\n",
       "      <td>50</td>\n",
       "      <td>15360</td>\n",
       "      <td>500</td>\n",
       "      <td>550</td>\n",
       "      <td>200</td>\n",
       "      <td>3</td>\n",
       "      <td>3</td>\n",
       "      <td>smart</td>\n",
       "    </tr>\n",
       "    <tr>\n",
       "      <th>1</th>\n",
       "      <td>1000</td>\n",
       "      <td>30720</td>\n",
       "      <td>3000</td>\n",
       "      <td>1950</td>\n",
       "      <td>150</td>\n",
       "      <td>1</td>\n",
       "      <td>1</td>\n",
       "      <td>ultra</td>\n",
       "    </tr>\n",
       "  </tbody>\n",
       "</table>\n",
       "</div>"
      ],
      "text/plain": [
       "   messages_included  mb_per_month_included  minutes_included  \\\n",
       "0                 50                  15360               500   \n",
       "1               1000                  30720              3000   \n",
       "\n",
       "   rub_monthly_fee  rub_per_gb  rub_per_message  rub_per_minute tariff_name  \n",
       "0              550         200                3               3       smart  \n",
       "1             1950         150                1               1       ultra  "
      ]
     },
     "execution_count": 13,
     "metadata": {},
     "output_type": "execute_result"
    }
   ],
   "source": [
    "data_tariffs"
   ]
  },
  {
   "cell_type": "code",
   "execution_count": 14,
   "id": "0a8b0318",
   "metadata": {},
   "outputs": [
    {
     "data": {
      "text/html": [
       "<div>\n",
       "<style scoped>\n",
       "    .dataframe tbody tr th:only-of-type {\n",
       "        vertical-align: middle;\n",
       "    }\n",
       "\n",
       "    .dataframe tbody tr th {\n",
       "        vertical-align: top;\n",
       "    }\n",
       "\n",
       "    .dataframe thead th {\n",
       "        text-align: right;\n",
       "    }\n",
       "</style>\n",
       "<table border=\"1\" class=\"dataframe\">\n",
       "  <thead>\n",
       "    <tr style=\"text-align: right;\">\n",
       "      <th></th>\n",
       "      <th>user_id</th>\n",
       "      <th>age</th>\n",
       "      <th>churn_date</th>\n",
       "      <th>city</th>\n",
       "      <th>first_name</th>\n",
       "      <th>last_name</th>\n",
       "      <th>reg_date</th>\n",
       "      <th>tariff</th>\n",
       "    </tr>\n",
       "  </thead>\n",
       "  <tbody>\n",
       "    <tr>\n",
       "      <th>0</th>\n",
       "      <td>1000</td>\n",
       "      <td>52</td>\n",
       "      <td>NaN</td>\n",
       "      <td>Краснодар</td>\n",
       "      <td>Рафаил</td>\n",
       "      <td>Верещагин</td>\n",
       "      <td>2018-05-25</td>\n",
       "      <td>ultra</td>\n",
       "    </tr>\n",
       "    <tr>\n",
       "      <th>1</th>\n",
       "      <td>1001</td>\n",
       "      <td>41</td>\n",
       "      <td>NaN</td>\n",
       "      <td>Москва</td>\n",
       "      <td>Иван</td>\n",
       "      <td>Ежов</td>\n",
       "      <td>2018-11-01</td>\n",
       "      <td>smart</td>\n",
       "    </tr>\n",
       "    <tr>\n",
       "      <th>2</th>\n",
       "      <td>1002</td>\n",
       "      <td>59</td>\n",
       "      <td>NaN</td>\n",
       "      <td>Стерлитамак</td>\n",
       "      <td>Евгений</td>\n",
       "      <td>Абрамович</td>\n",
       "      <td>2018-06-17</td>\n",
       "      <td>smart</td>\n",
       "    </tr>\n",
       "    <tr>\n",
       "      <th>3</th>\n",
       "      <td>1003</td>\n",
       "      <td>23</td>\n",
       "      <td>NaN</td>\n",
       "      <td>Москва</td>\n",
       "      <td>Белла</td>\n",
       "      <td>Белякова</td>\n",
       "      <td>2018-08-17</td>\n",
       "      <td>ultra</td>\n",
       "    </tr>\n",
       "    <tr>\n",
       "      <th>4</th>\n",
       "      <td>1004</td>\n",
       "      <td>68</td>\n",
       "      <td>NaN</td>\n",
       "      <td>Новокузнецк</td>\n",
       "      <td>Татьяна</td>\n",
       "      <td>Авдеенко</td>\n",
       "      <td>2018-05-14</td>\n",
       "      <td>ultra</td>\n",
       "    </tr>\n",
       "    <tr>\n",
       "      <th>...</th>\n",
       "      <td>...</td>\n",
       "      <td>...</td>\n",
       "      <td>...</td>\n",
       "      <td>...</td>\n",
       "      <td>...</td>\n",
       "      <td>...</td>\n",
       "      <td>...</td>\n",
       "      <td>...</td>\n",
       "    </tr>\n",
       "    <tr>\n",
       "      <th>495</th>\n",
       "      <td>1495</td>\n",
       "      <td>65</td>\n",
       "      <td>NaN</td>\n",
       "      <td>Иркутск</td>\n",
       "      <td>Авксентий</td>\n",
       "      <td>Фокин</td>\n",
       "      <td>2018-08-28</td>\n",
       "      <td>ultra</td>\n",
       "    </tr>\n",
       "    <tr>\n",
       "      <th>496</th>\n",
       "      <td>1496</td>\n",
       "      <td>36</td>\n",
       "      <td>NaN</td>\n",
       "      <td>Вологда</td>\n",
       "      <td>Трифон</td>\n",
       "      <td>Блохин</td>\n",
       "      <td>2018-01-27</td>\n",
       "      <td>smart</td>\n",
       "    </tr>\n",
       "    <tr>\n",
       "      <th>497</th>\n",
       "      <td>1497</td>\n",
       "      <td>32</td>\n",
       "      <td>NaN</td>\n",
       "      <td>Челябинск</td>\n",
       "      <td>Каролина</td>\n",
       "      <td>Агеева</td>\n",
       "      <td>2018-10-09</td>\n",
       "      <td>smart</td>\n",
       "    </tr>\n",
       "    <tr>\n",
       "      <th>498</th>\n",
       "      <td>1498</td>\n",
       "      <td>68</td>\n",
       "      <td>2018-10-25</td>\n",
       "      <td>Владикавказ</td>\n",
       "      <td>Всеволод</td>\n",
       "      <td>Акимчин</td>\n",
       "      <td>2018-07-19</td>\n",
       "      <td>smart</td>\n",
       "    </tr>\n",
       "    <tr>\n",
       "      <th>499</th>\n",
       "      <td>1499</td>\n",
       "      <td>35</td>\n",
       "      <td>NaN</td>\n",
       "      <td>Пермь</td>\n",
       "      <td>Гектор</td>\n",
       "      <td>Корнилов</td>\n",
       "      <td>2018-09-27</td>\n",
       "      <td>smart</td>\n",
       "    </tr>\n",
       "  </tbody>\n",
       "</table>\n",
       "<p>500 rows × 8 columns</p>\n",
       "</div>"
      ],
      "text/plain": [
       "     user_id  age  churn_date         city first_name  last_name    reg_date  \\\n",
       "0       1000   52         NaN    Краснодар     Рафаил  Верещагин  2018-05-25   \n",
       "1       1001   41         NaN       Москва       Иван       Ежов  2018-11-01   \n",
       "2       1002   59         NaN  Стерлитамак    Евгений  Абрамович  2018-06-17   \n",
       "3       1003   23         NaN       Москва      Белла   Белякова  2018-08-17   \n",
       "4       1004   68         NaN  Новокузнецк    Татьяна   Авдеенко  2018-05-14   \n",
       "..       ...  ...         ...          ...        ...        ...         ...   \n",
       "495     1495   65         NaN      Иркутск  Авксентий      Фокин  2018-08-28   \n",
       "496     1496   36         NaN      Вологда     Трифон     Блохин  2018-01-27   \n",
       "497     1497   32         NaN    Челябинск   Каролина     Агеева  2018-10-09   \n",
       "498     1498   68  2018-10-25  Владикавказ   Всеволод    Акимчин  2018-07-19   \n",
       "499     1499   35         NaN        Пермь     Гектор   Корнилов  2018-09-27   \n",
       "\n",
       "    tariff  \n",
       "0    ultra  \n",
       "1    smart  \n",
       "2    smart  \n",
       "3    ultra  \n",
       "4    ultra  \n",
       "..     ...  \n",
       "495  ultra  \n",
       "496  smart  \n",
       "497  smart  \n",
       "498  smart  \n",
       "499  smart  \n",
       "\n",
       "[500 rows x 8 columns]"
      ]
     },
     "execution_count": 14,
     "metadata": {},
     "output_type": "execute_result"
    }
   ],
   "source": [
    "data_users"
   ]
  },
  {
   "cell_type": "code",
   "execution_count": 15,
   "id": "9401355c",
   "metadata": {},
   "outputs": [
    {
     "name": "stdout",
     "output_type": "stream",
     "text": [
      "<class 'pandas.core.frame.DataFrame'>\n",
      "RangeIndex: 202607 entries, 0 to 202606\n",
      "Data columns (total 4 columns):\n",
      " #   Column     Non-Null Count   Dtype  \n",
      "---  ------     --------------   -----  \n",
      " 0   id         202607 non-null  object \n",
      " 1   call_date  202607 non-null  object \n",
      " 2   duration   202607 non-null  float64\n",
      " 3   user_id    202607 non-null  int64  \n",
      "dtypes: float64(1), int64(1), object(2)\n",
      "memory usage: 6.2+ MB\n"
     ]
    }
   ],
   "source": [
    "data_calls.info()"
   ]
  },
  {
   "cell_type": "code",
   "execution_count": 16,
   "id": "e493b539",
   "metadata": {},
   "outputs": [
    {
     "name": "stdout",
     "output_type": "stream",
     "text": [
      "<class 'pandas.core.frame.DataFrame'>\n",
      "Int64Index: 149396 entries, 0 to 149395\n",
      "Data columns (total 4 columns):\n",
      " #   Column        Non-Null Count   Dtype  \n",
      "---  ------        --------------   -----  \n",
      " 0   id            149396 non-null  object \n",
      " 1   mb_used       149396 non-null  float64\n",
      " 2   session_date  149396 non-null  object \n",
      " 3   user_id       149396 non-null  int64  \n",
      "dtypes: float64(1), int64(1), object(2)\n",
      "memory usage: 5.7+ MB\n"
     ]
    }
   ],
   "source": [
    "data_internet.info()"
   ]
  },
  {
   "cell_type": "code",
   "execution_count": 17,
   "id": "9bb99599",
   "metadata": {},
   "outputs": [
    {
     "name": "stdout",
     "output_type": "stream",
     "text": [
      "<class 'pandas.core.frame.DataFrame'>\n",
      "RangeIndex: 2 entries, 0 to 1\n",
      "Data columns (total 8 columns):\n",
      " #   Column                 Non-Null Count  Dtype \n",
      "---  ------                 --------------  ----- \n",
      " 0   messages_included      2 non-null      int64 \n",
      " 1   mb_per_month_included  2 non-null      int64 \n",
      " 2   minutes_included       2 non-null      int64 \n",
      " 3   rub_monthly_fee        2 non-null      int64 \n",
      " 4   rub_per_gb             2 non-null      int64 \n",
      " 5   rub_per_message        2 non-null      int64 \n",
      " 6   rub_per_minute         2 non-null      int64 \n",
      " 7   tariff_name            2 non-null      object\n",
      "dtypes: int64(7), object(1)\n",
      "memory usage: 256.0+ bytes\n"
     ]
    }
   ],
   "source": [
    "data_tariffs.info()"
   ]
  },
  {
   "cell_type": "code",
   "execution_count": 18,
   "id": "013ead0a",
   "metadata": {},
   "outputs": [
    {
     "name": "stdout",
     "output_type": "stream",
     "text": [
      "<class 'pandas.core.frame.DataFrame'>\n",
      "RangeIndex: 500 entries, 0 to 499\n",
      "Data columns (total 8 columns):\n",
      " #   Column      Non-Null Count  Dtype \n",
      "---  ------      --------------  ----- \n",
      " 0   user_id     500 non-null    int64 \n",
      " 1   age         500 non-null    int64 \n",
      " 2   churn_date  38 non-null     object\n",
      " 3   city        500 non-null    object\n",
      " 4   first_name  500 non-null    object\n",
      " 5   last_name   500 non-null    object\n",
      " 6   reg_date    500 non-null    object\n",
      " 7   tariff      500 non-null    object\n",
      "dtypes: int64(2), object(6)\n",
      "memory usage: 31.4+ KB\n"
     ]
    }
   ],
   "source": [
    "data_users.info()"
   ]
  },
  {
   "cell_type": "code",
   "execution_count": 19,
   "id": "10e0ea7a",
   "metadata": {},
   "outputs": [
    {
     "name": "stdout",
     "output_type": "stream",
     "text": [
      "<class 'pandas.core.frame.DataFrame'>\n",
      "RangeIndex: 123036 entries, 0 to 123035\n",
      "Data columns (total 3 columns):\n",
      " #   Column        Non-Null Count   Dtype \n",
      "---  ------        --------------   ----- \n",
      " 0   id            123036 non-null  object\n",
      " 1   message_date  123036 non-null  object\n",
      " 2   user_id       123036 non-null  int64 \n",
      "dtypes: int64(1), object(2)\n",
      "memory usage: 2.8+ MB\n"
     ]
    }
   ],
   "source": [
    "data_messages.info()"
   ]
  },
  {
   "cell_type": "markdown",
   "id": "05ce40af",
   "metadata": {},
   "source": [
    "<div class=\"alert alert-warning\"; style=\"border-left: 7px solid yellow\" >\n",
    "<h3>!! Комментарий ревьюера</h3>\n",
    "    \n",
    "Выводов не хватает по первому взгляду. Можно дополнительно посмотреть на `describe`, чтобы убедиться, что значения в адекватных пределах и поискать дубликаты по `user_id` в таблице с пользователями.\n",
    "    \n",
    "    \n",
    "Можно также заметить столбец `Unnamed: 0` в таблице с интернетом, если интересно, то такой стобец возникает, когда данные сохраняют с указанием индекса `pd.DataFrame().to_csv(..., index=column)`. Если при чтении указать этот столбец `pd.read_csv(..., index_col=0)` - данные сразу прочитаются корректно.\n",
    "    \n",
    "    \n",
    "P.S. частично ниже увидел\n",
    "</div>    \n",
    "    "
   ]
  },
  {
   "cell_type": "markdown",
   "id": "279f13f3",
   "metadata": {},
   "source": [
    "\n",
    "<div class = \"alert alert-info\" style=\"border-left: 7px solid blue\">\n",
    "<h3>Комментарий студента</h3>\n",
    "понял, спасибо ! \n",
    "\n",
    " - сначала я поверял таблички методом  \".describe\" но потом удалил, так как много всего получалось...  \n",
    "    \n",
    "ниже:    \n",
    "\n",
    " - в табличке user_id нету дубликатов\n",
    " - \"pd.read_csv(..., index_col=0)\", спасиюо за совет ! так сделал !\n",
    " - \"данные сразу прочитаются корректно.\" - cool!\n",
    "       \n",
    "    \n",
    "</div>"
   ]
  },
  {
   "cell_type": "markdown",
   "id": "024ae9be",
   "metadata": {},
   "source": [
    "<div class=\"alert alert-success\"; style=\"border-left: 7px solid green\">\n",
    "<h3>✔ Комментарий ревьюера V.2</h3>\n",
    "    \n",
    "> сначала я поверял таблички методом \".describe\" но потом удалил, так как много всего получалось...\n",
    "\n",
    "В целом это неплохая идея, стоит в таком случае писать, что удалось увидеть в таких `describe'ах` или если всё ок, то писать, что всё ок :)\n",
    "</div>    \n"
   ]
  },
  {
   "cell_type": "code",
   "execution_count": 20,
   "id": "e34b940f",
   "metadata": {},
   "outputs": [
    {
     "data": {
      "text/html": [
       "<div>\n",
       "<style scoped>\n",
       "    .dataframe tbody tr th:only-of-type {\n",
       "        vertical-align: middle;\n",
       "    }\n",
       "\n",
       "    .dataframe tbody tr th {\n",
       "        vertical-align: top;\n",
       "    }\n",
       "\n",
       "    .dataframe thead th {\n",
       "        text-align: right;\n",
       "    }\n",
       "</style>\n",
       "<table border=\"1\" class=\"dataframe\">\n",
       "  <thead>\n",
       "    <tr style=\"text-align: right;\">\n",
       "      <th></th>\n",
       "      <th>user_id</th>\n",
       "      <th>age</th>\n",
       "    </tr>\n",
       "  </thead>\n",
       "  <tbody>\n",
       "    <tr>\n",
       "      <th>count</th>\n",
       "      <td>500.000000</td>\n",
       "      <td>500.00000</td>\n",
       "    </tr>\n",
       "    <tr>\n",
       "      <th>mean</th>\n",
       "      <td>1249.500000</td>\n",
       "      <td>46.58800</td>\n",
       "    </tr>\n",
       "    <tr>\n",
       "      <th>std</th>\n",
       "      <td>144.481833</td>\n",
       "      <td>16.66763</td>\n",
       "    </tr>\n",
       "    <tr>\n",
       "      <th>min</th>\n",
       "      <td>1000.000000</td>\n",
       "      <td>18.00000</td>\n",
       "    </tr>\n",
       "    <tr>\n",
       "      <th>25%</th>\n",
       "      <td>1124.750000</td>\n",
       "      <td>32.00000</td>\n",
       "    </tr>\n",
       "    <tr>\n",
       "      <th>50%</th>\n",
       "      <td>1249.500000</td>\n",
       "      <td>46.00000</td>\n",
       "    </tr>\n",
       "    <tr>\n",
       "      <th>75%</th>\n",
       "      <td>1374.250000</td>\n",
       "      <td>62.00000</td>\n",
       "    </tr>\n",
       "    <tr>\n",
       "      <th>max</th>\n",
       "      <td>1499.000000</td>\n",
       "      <td>75.00000</td>\n",
       "    </tr>\n",
       "  </tbody>\n",
       "</table>\n",
       "</div>"
      ],
      "text/plain": [
       "           user_id        age\n",
       "count   500.000000  500.00000\n",
       "mean   1249.500000   46.58800\n",
       "std     144.481833   16.66763\n",
       "min    1000.000000   18.00000\n",
       "25%    1124.750000   32.00000\n",
       "50%    1249.500000   46.00000\n",
       "75%    1374.250000   62.00000\n",
       "max    1499.000000   75.00000"
      ]
     },
     "execution_count": 20,
     "metadata": {},
     "output_type": "execute_result"
    }
   ],
   "source": [
    "data_users.describe()"
   ]
  },
  {
   "cell_type": "code",
   "execution_count": 21,
   "id": "9d99d912",
   "metadata": {},
   "outputs": [
    {
     "data": {
      "text/plain": [
       "0"
      ]
     },
     "execution_count": 21,
     "metadata": {},
     "output_type": "execute_result"
    }
   ],
   "source": [
    "data_users['user_id'].duplicated().sum()"
   ]
  },
  {
   "cell_type": "markdown",
   "id": "abd08f8b",
   "metadata": {},
   "source": [
    "# Приведите данные к нужным типам"
   ]
  },
  {
   "cell_type": "markdown",
   "id": "5ed2ce9d",
   "metadata": {},
   "source": [
    " - приведу данные колонок \"Month\" к типу \"datetime\""
   ]
  },
  {
   "cell_type": "code",
   "execution_count": 22,
   "id": "1d4a33f8",
   "metadata": {},
   "outputs": [
    {
     "data": {
      "text/plain": [
       "0        2018-07-25\n",
       "1        2018-08-17\n",
       "2        2018-06-11\n",
       "3        2018-09-21\n",
       "4        2018-12-15\n",
       "            ...    \n",
       "202602   2018-12-26\n",
       "202603   2018-10-18\n",
       "202604   2018-11-10\n",
       "202605   2018-10-06\n",
       "202606   2018-12-14\n",
       "Name: call_date, Length: 202607, dtype: datetime64[ns]"
      ]
     },
     "execution_count": 22,
     "metadata": {},
     "output_type": "execute_result"
    }
   ],
   "source": [
    "pd.to_datetime(data_calls['call_date'], format = '%Y-%m-%d')"
   ]
  },
  {
   "cell_type": "code",
   "execution_count": 23,
   "id": "09e72556",
   "metadata": {},
   "outputs": [],
   "source": [
    "data_calls['call_date'] = pd.to_datetime(data_calls['call_date'], format = '%Y-%m-%d')"
   ]
  },
  {
   "cell_type": "code",
   "execution_count": 24,
   "id": "4656e068",
   "metadata": {},
   "outputs": [],
   "source": [
    "data_internet['session_date'] = pd.to_datetime(data_internet['session_date'], format = '%Y-%m-%d')"
   ]
  },
  {
   "cell_type": "code",
   "execution_count": 25,
   "id": "cd885351",
   "metadata": {},
   "outputs": [],
   "source": [
    "data_messages['message_date'] = pd.to_datetime(data_messages['message_date'], format = '%Y-%m-%d')"
   ]
  },
  {
   "cell_type": "code",
   "execution_count": 26,
   "id": "5264f027",
   "metadata": {},
   "outputs": [],
   "source": [
    "data_users['reg_date'] = pd.to_datetime(data_users['reg_date'], format = '%Y-%m-%d')"
   ]
  },
  {
   "cell_type": "code",
   "execution_count": 27,
   "id": "330e4819",
   "metadata": {},
   "outputs": [
    {
     "data": {
      "text/html": [
       "<div>\n",
       "<style scoped>\n",
       "    .dataframe tbody tr th:only-of-type {\n",
       "        vertical-align: middle;\n",
       "    }\n",
       "\n",
       "    .dataframe tbody tr th {\n",
       "        vertical-align: top;\n",
       "    }\n",
       "\n",
       "    .dataframe thead th {\n",
       "        text-align: right;\n",
       "    }\n",
       "</style>\n",
       "<table border=\"1\" class=\"dataframe\">\n",
       "  <thead>\n",
       "    <tr style=\"text-align: right;\">\n",
       "      <th></th>\n",
       "      <th>id</th>\n",
       "      <th>message_date</th>\n",
       "      <th>user_id</th>\n",
       "    </tr>\n",
       "  </thead>\n",
       "  <tbody>\n",
       "    <tr>\n",
       "      <th>0</th>\n",
       "      <td>1000_0</td>\n",
       "      <td>2018-06-27</td>\n",
       "      <td>1000</td>\n",
       "    </tr>\n",
       "    <tr>\n",
       "      <th>1</th>\n",
       "      <td>1000_1</td>\n",
       "      <td>2018-10-08</td>\n",
       "      <td>1000</td>\n",
       "    </tr>\n",
       "    <tr>\n",
       "      <th>2</th>\n",
       "      <td>1000_2</td>\n",
       "      <td>2018-08-04</td>\n",
       "      <td>1000</td>\n",
       "    </tr>\n",
       "    <tr>\n",
       "      <th>3</th>\n",
       "      <td>1000_3</td>\n",
       "      <td>2018-06-16</td>\n",
       "      <td>1000</td>\n",
       "    </tr>\n",
       "    <tr>\n",
       "      <th>4</th>\n",
       "      <td>1000_4</td>\n",
       "      <td>2018-12-05</td>\n",
       "      <td>1000</td>\n",
       "    </tr>\n",
       "    <tr>\n",
       "      <th>...</th>\n",
       "      <td>...</td>\n",
       "      <td>...</td>\n",
       "      <td>...</td>\n",
       "    </tr>\n",
       "    <tr>\n",
       "      <th>123031</th>\n",
       "      <td>1499_179</td>\n",
       "      <td>2018-12-12</td>\n",
       "      <td>1499</td>\n",
       "    </tr>\n",
       "    <tr>\n",
       "      <th>123032</th>\n",
       "      <td>1499_180</td>\n",
       "      <td>2018-09-28</td>\n",
       "      <td>1499</td>\n",
       "    </tr>\n",
       "    <tr>\n",
       "      <th>123033</th>\n",
       "      <td>1499_181</td>\n",
       "      <td>2018-09-27</td>\n",
       "      <td>1499</td>\n",
       "    </tr>\n",
       "    <tr>\n",
       "      <th>123034</th>\n",
       "      <td>1499_182</td>\n",
       "      <td>2018-11-15</td>\n",
       "      <td>1499</td>\n",
       "    </tr>\n",
       "    <tr>\n",
       "      <th>123035</th>\n",
       "      <td>1499_183</td>\n",
       "      <td>2018-11-16</td>\n",
       "      <td>1499</td>\n",
       "    </tr>\n",
       "  </tbody>\n",
       "</table>\n",
       "<p>123036 rows × 3 columns</p>\n",
       "</div>"
      ],
      "text/plain": [
       "              id message_date  user_id\n",
       "0         1000_0   2018-06-27     1000\n",
       "1         1000_1   2018-10-08     1000\n",
       "2         1000_2   2018-08-04     1000\n",
       "3         1000_3   2018-06-16     1000\n",
       "4         1000_4   2018-12-05     1000\n",
       "...          ...          ...      ...\n",
       "123031  1499_179   2018-12-12     1499\n",
       "123032  1499_180   2018-09-28     1499\n",
       "123033  1499_181   2018-09-27     1499\n",
       "123034  1499_182   2018-11-15     1499\n",
       "123035  1499_183   2018-11-16     1499\n",
       "\n",
       "[123036 rows x 3 columns]"
      ]
     },
     "execution_count": 27,
     "metadata": {},
     "output_type": "execute_result"
    }
   ],
   "source": [
    "data_messages"
   ]
  },
  {
   "cell_type": "markdown",
   "id": "1afcd7d6",
   "metadata": {},
   "source": [
    "Добовляю в нужные таблички колоны с номерами месяца"
   ]
  },
  {
   "cell_type": "code",
   "execution_count": 28,
   "id": "c150638c",
   "metadata": {},
   "outputs": [],
   "source": [
    "data_messages['month'] = pd.DatetimeIndex(data_messages['message_date']).month"
   ]
  },
  {
   "cell_type": "code",
   "execution_count": 29,
   "id": "babc082c",
   "metadata": {},
   "outputs": [],
   "source": [
    "data_calls['month'] = pd.DatetimeIndex(data_calls['call_date']).month"
   ]
  },
  {
   "cell_type": "code",
   "execution_count": 30,
   "id": "b198908d",
   "metadata": {},
   "outputs": [],
   "source": [
    "data_internet['month'] = pd.DatetimeIndex(data_internet['session_date']).month"
   ]
  },
  {
   "cell_type": "code",
   "execution_count": 31,
   "id": "85be88a1",
   "metadata": {},
   "outputs": [],
   "source": [
    "data_users['month'] = pd.DatetimeIndex(data_users['reg_date']).month"
   ]
  },
  {
   "cell_type": "markdown",
   "id": "9ab30ab1",
   "metadata": {},
   "source": [
    "\n",
    "<div class=\"alert alert-success\"; style=\"border-left: 7px solid green\">\n",
    "<h3>✔ Комментарий ревьюера</h3>\n",
    "    \n",
    "Всё верно. В задании хоть и написано, что данные за 2018 год, но в идеале стоит првоерять, действительно ли все сессии были в пределах одного года, потому что иначе можно склеить месяцы для разных лет в один через `.month`. Чуть короче также делать `.dt.month`. \n",
    "</div> "
   ]
  },
  {
   "cell_type": "markdown",
   "id": "154d4bf5",
   "metadata": {},
   "source": [
    "- Найдите и исправьте ошибки в данных, если они есть."
   ]
  },
  {
   "cell_type": "code",
   "execution_count": 32,
   "id": "b5dbf1e7",
   "metadata": {},
   "outputs": [
    {
     "data": {
      "text/plain": [
       "user_id         0\n",
       "age             0\n",
       "churn_date    462\n",
       "city            0\n",
       "first_name      0\n",
       "last_name       0\n",
       "reg_date        0\n",
       "tariff          0\n",
       "month           0\n",
       "dtype: int64"
      ]
     },
     "execution_count": 32,
     "metadata": {},
     "output_type": "execute_result"
    }
   ],
   "source": [
    "data_users.isna().sum()"
   ]
  },
  {
   "cell_type": "markdown",
   "id": "51e9efc4",
   "metadata": {},
   "source": [
    "только в табличку \"data_users\" нашел ошибок в колонке \"churn_date\", формулой \"isna()\""
   ]
  },
  {
   "cell_type": "code",
   "execution_count": 33,
   "id": "ae47a2af",
   "metadata": {},
   "outputs": [
    {
     "data": {
      "text/html": [
       "<div>\n",
       "<style scoped>\n",
       "    .dataframe tbody tr th:only-of-type {\n",
       "        vertical-align: middle;\n",
       "    }\n",
       "\n",
       "    .dataframe tbody tr th {\n",
       "        vertical-align: top;\n",
       "    }\n",
       "\n",
       "    .dataframe thead th {\n",
       "        text-align: right;\n",
       "    }\n",
       "</style>\n",
       "<table border=\"1\" class=\"dataframe\">\n",
       "  <thead>\n",
       "    <tr style=\"text-align: right;\">\n",
       "      <th></th>\n",
       "      <th>mb_used</th>\n",
       "      <th>user_id</th>\n",
       "      <th>month</th>\n",
       "    </tr>\n",
       "  </thead>\n",
       "  <tbody>\n",
       "    <tr>\n",
       "      <th>count</th>\n",
       "      <td>149396.000000</td>\n",
       "      <td>149396.000000</td>\n",
       "      <td>149396.000000</td>\n",
       "    </tr>\n",
       "    <tr>\n",
       "      <th>mean</th>\n",
       "      <td>370.192426</td>\n",
       "      <td>1252.099842</td>\n",
       "      <td>8.563315</td>\n",
       "    </tr>\n",
       "    <tr>\n",
       "      <th>std</th>\n",
       "      <td>278.300951</td>\n",
       "      <td>144.050823</td>\n",
       "      <td>2.788717</td>\n",
       "    </tr>\n",
       "    <tr>\n",
       "      <th>min</th>\n",
       "      <td>0.000000</td>\n",
       "      <td>1000.000000</td>\n",
       "      <td>1.000000</td>\n",
       "    </tr>\n",
       "    <tr>\n",
       "      <th>25%</th>\n",
       "      <td>138.187500</td>\n",
       "      <td>1130.000000</td>\n",
       "      <td>7.000000</td>\n",
       "    </tr>\n",
       "    <tr>\n",
       "      <th>50%</th>\n",
       "      <td>348.015000</td>\n",
       "      <td>1251.000000</td>\n",
       "      <td>9.000000</td>\n",
       "    </tr>\n",
       "    <tr>\n",
       "      <th>75%</th>\n",
       "      <td>559.552500</td>\n",
       "      <td>1380.000000</td>\n",
       "      <td>11.000000</td>\n",
       "    </tr>\n",
       "    <tr>\n",
       "      <th>max</th>\n",
       "      <td>1724.830000</td>\n",
       "      <td>1499.000000</td>\n",
       "      <td>12.000000</td>\n",
       "    </tr>\n",
       "  </tbody>\n",
       "</table>\n",
       "</div>"
      ],
      "text/plain": [
       "             mb_used        user_id          month\n",
       "count  149396.000000  149396.000000  149396.000000\n",
       "mean      370.192426    1252.099842       8.563315\n",
       "std       278.300951     144.050823       2.788717\n",
       "min         0.000000    1000.000000       1.000000\n",
       "25%       138.187500    1130.000000       7.000000\n",
       "50%       348.015000    1251.000000       9.000000\n",
       "75%       559.552500    1380.000000      11.000000\n",
       "max      1724.830000    1499.000000      12.000000"
      ]
     },
     "execution_count": 33,
     "metadata": {},
     "output_type": "execute_result"
    }
   ],
   "source": [
    "data_internet.describe()"
   ]
  },
  {
   "cell_type": "code",
   "execution_count": 34,
   "id": "9f4bfbc5",
   "metadata": {},
   "outputs": [
    {
     "data": {
      "text/html": [
       "<div>\n",
       "<style scoped>\n",
       "    .dataframe tbody tr th:only-of-type {\n",
       "        vertical-align: middle;\n",
       "    }\n",
       "\n",
       "    .dataframe tbody tr th {\n",
       "        vertical-align: top;\n",
       "    }\n",
       "\n",
       "    .dataframe thead th {\n",
       "        text-align: right;\n",
       "    }\n",
       "</style>\n",
       "<table border=\"1\" class=\"dataframe\">\n",
       "  <thead>\n",
       "    <tr style=\"text-align: right;\">\n",
       "      <th></th>\n",
       "      <th>id</th>\n",
       "      <th>mb_used</th>\n",
       "      <th>session_date</th>\n",
       "      <th>user_id</th>\n",
       "      <th>month</th>\n",
       "    </tr>\n",
       "  </thead>\n",
       "  <tbody>\n",
       "    <tr>\n",
       "      <th>0</th>\n",
       "      <td>1000_0</td>\n",
       "      <td>112.95</td>\n",
       "      <td>2018-11-25</td>\n",
       "      <td>1000</td>\n",
       "      <td>11</td>\n",
       "    </tr>\n",
       "    <tr>\n",
       "      <th>1</th>\n",
       "      <td>1000_1</td>\n",
       "      <td>1052.81</td>\n",
       "      <td>2018-09-07</td>\n",
       "      <td>1000</td>\n",
       "      <td>9</td>\n",
       "    </tr>\n",
       "    <tr>\n",
       "      <th>2</th>\n",
       "      <td>1000_2</td>\n",
       "      <td>1197.26</td>\n",
       "      <td>2018-06-25</td>\n",
       "      <td>1000</td>\n",
       "      <td>6</td>\n",
       "    </tr>\n",
       "    <tr>\n",
       "      <th>3</th>\n",
       "      <td>1000_3</td>\n",
       "      <td>550.27</td>\n",
       "      <td>2018-08-22</td>\n",
       "      <td>1000</td>\n",
       "      <td>8</td>\n",
       "    </tr>\n",
       "    <tr>\n",
       "      <th>4</th>\n",
       "      <td>1000_4</td>\n",
       "      <td>302.56</td>\n",
       "      <td>2018-09-24</td>\n",
       "      <td>1000</td>\n",
       "      <td>9</td>\n",
       "    </tr>\n",
       "    <tr>\n",
       "      <th>...</th>\n",
       "      <td>...</td>\n",
       "      <td>...</td>\n",
       "      <td>...</td>\n",
       "      <td>...</td>\n",
       "      <td>...</td>\n",
       "    </tr>\n",
       "    <tr>\n",
       "      <th>149391</th>\n",
       "      <td>1499_152</td>\n",
       "      <td>318.90</td>\n",
       "      <td>2018-10-03</td>\n",
       "      <td>1499</td>\n",
       "      <td>10</td>\n",
       "    </tr>\n",
       "    <tr>\n",
       "      <th>149392</th>\n",
       "      <td>1499_153</td>\n",
       "      <td>490.13</td>\n",
       "      <td>2018-12-14</td>\n",
       "      <td>1499</td>\n",
       "      <td>12</td>\n",
       "    </tr>\n",
       "    <tr>\n",
       "      <th>149393</th>\n",
       "      <td>1499_154</td>\n",
       "      <td>0.00</td>\n",
       "      <td>2018-10-27</td>\n",
       "      <td>1499</td>\n",
       "      <td>10</td>\n",
       "    </tr>\n",
       "    <tr>\n",
       "      <th>149394</th>\n",
       "      <td>1499_155</td>\n",
       "      <td>1246.32</td>\n",
       "      <td>2018-11-26</td>\n",
       "      <td>1499</td>\n",
       "      <td>11</td>\n",
       "    </tr>\n",
       "    <tr>\n",
       "      <th>149395</th>\n",
       "      <td>1499_156</td>\n",
       "      <td>544.37</td>\n",
       "      <td>2018-10-26</td>\n",
       "      <td>1499</td>\n",
       "      <td>10</td>\n",
       "    </tr>\n",
       "  </tbody>\n",
       "</table>\n",
       "<p>149396 rows × 5 columns</p>\n",
       "</div>"
      ],
      "text/plain": [
       "              id  mb_used session_date  user_id  month\n",
       "0         1000_0   112.95   2018-11-25     1000     11\n",
       "1         1000_1  1052.81   2018-09-07     1000      9\n",
       "2         1000_2  1197.26   2018-06-25     1000      6\n",
       "3         1000_3   550.27   2018-08-22     1000      8\n",
       "4         1000_4   302.56   2018-09-24     1000      9\n",
       "...          ...      ...          ...      ...    ...\n",
       "149391  1499_152   318.90   2018-10-03     1499     10\n",
       "149392  1499_153   490.13   2018-12-14     1499     12\n",
       "149393  1499_154     0.00   2018-10-27     1499     10\n",
       "149394  1499_155  1246.32   2018-11-26     1499     11\n",
       "149395  1499_156   544.37   2018-10-26     1499     10\n",
       "\n",
       "[149396 rows x 5 columns]"
      ]
     },
     "execution_count": 34,
     "metadata": {},
     "output_type": "execute_result"
    }
   ],
   "source": [
    "data_internet"
   ]
  },
  {
   "cell_type": "code",
   "execution_count": 35,
   "id": "8fc55b0a",
   "metadata": {},
   "outputs": [
    {
     "data": {
      "text/html": [
       "<div>\n",
       "<style scoped>\n",
       "    .dataframe tbody tr th:only-of-type {\n",
       "        vertical-align: middle;\n",
       "    }\n",
       "\n",
       "    .dataframe tbody tr th {\n",
       "        vertical-align: top;\n",
       "    }\n",
       "\n",
       "    .dataframe thead th {\n",
       "        text-align: right;\n",
       "    }\n",
       "</style>\n",
       "<table border=\"1\" class=\"dataframe\">\n",
       "  <thead>\n",
       "    <tr style=\"text-align: right;\">\n",
       "      <th></th>\n",
       "      <th>duration</th>\n",
       "      <th>user_id</th>\n",
       "      <th>month</th>\n",
       "    </tr>\n",
       "  </thead>\n",
       "  <tbody>\n",
       "    <tr>\n",
       "      <th>count</th>\n",
       "      <td>202607.000000</td>\n",
       "      <td>202607.000000</td>\n",
       "      <td>202607.000000</td>\n",
       "    </tr>\n",
       "    <tr>\n",
       "      <th>mean</th>\n",
       "      <td>6.755887</td>\n",
       "      <td>1253.940619</td>\n",
       "      <td>8.574067</td>\n",
       "    </tr>\n",
       "    <tr>\n",
       "      <th>std</th>\n",
       "      <td>5.843365</td>\n",
       "      <td>144.722751</td>\n",
       "      <td>2.787093</td>\n",
       "    </tr>\n",
       "    <tr>\n",
       "      <th>min</th>\n",
       "      <td>0.000000</td>\n",
       "      <td>1000.000000</td>\n",
       "      <td>1.000000</td>\n",
       "    </tr>\n",
       "    <tr>\n",
       "      <th>25%</th>\n",
       "      <td>1.300000</td>\n",
       "      <td>1126.000000</td>\n",
       "      <td>7.000000</td>\n",
       "    </tr>\n",
       "    <tr>\n",
       "      <th>50%</th>\n",
       "      <td>6.000000</td>\n",
       "      <td>1260.000000</td>\n",
       "      <td>9.000000</td>\n",
       "    </tr>\n",
       "    <tr>\n",
       "      <th>75%</th>\n",
       "      <td>10.700000</td>\n",
       "      <td>1379.000000</td>\n",
       "      <td>11.000000</td>\n",
       "    </tr>\n",
       "    <tr>\n",
       "      <th>max</th>\n",
       "      <td>38.000000</td>\n",
       "      <td>1499.000000</td>\n",
       "      <td>12.000000</td>\n",
       "    </tr>\n",
       "  </tbody>\n",
       "</table>\n",
       "</div>"
      ],
      "text/plain": [
       "            duration        user_id          month\n",
       "count  202607.000000  202607.000000  202607.000000\n",
       "mean        6.755887    1253.940619       8.574067\n",
       "std         5.843365     144.722751       2.787093\n",
       "min         0.000000    1000.000000       1.000000\n",
       "25%         1.300000    1126.000000       7.000000\n",
       "50%         6.000000    1260.000000       9.000000\n",
       "75%        10.700000    1379.000000      11.000000\n",
       "max        38.000000    1499.000000      12.000000"
      ]
     },
     "execution_count": 35,
     "metadata": {},
     "output_type": "execute_result"
    }
   ],
   "source": [
    "data_calls.describe()"
   ]
  },
  {
   "cell_type": "code",
   "execution_count": 36,
   "id": "b010f36b",
   "metadata": {},
   "outputs": [
    {
     "data": {
      "text/plain": [
       "39613"
      ]
     },
     "execution_count": 36,
     "metadata": {},
     "output_type": "execute_result"
    }
   ],
   "source": [
    "len(data_calls[data_calls['duration'] == 0])"
   ]
  },
  {
   "cell_type": "code",
   "execution_count": 37,
   "id": "cc77eafd",
   "metadata": {},
   "outputs": [
    {
     "data": {
      "text/plain": [
       "0.19551644316336553"
      ]
     },
     "execution_count": 37,
     "metadata": {},
     "output_type": "execute_result"
    }
   ],
   "source": [
    "len(data_calls[data_calls['duration'] == 0]) / len(data_calls)"
   ]
  },
  {
   "cell_type": "markdown",
   "id": "29de0147",
   "metadata": {},
   "source": [
    "<div class=\"alert alert-success\"; style=\"border-left: 7px solid green\">\n",
    "<h3>✔ Комментарий ревьюера</h3>\n",
    "    \n",
    "Чуть удобнее на такое смотреть как `(data_calls['duration'] == 0).mean()`</div>    - согласен\n"
   ]
  },
  {
   "cell_type": "markdown",
   "id": "ea6d252b",
   "metadata": {},
   "source": [
    "В данных действительно нашел звонки с нулевой продолжительностью, методои \".describe\" но это нормально, остовляю,нулями обозначены пропущенные звонки"
   ]
  },
  {
   "cell_type": "code",
   "execution_count": 38,
   "id": "f0624577",
   "metadata": {},
   "outputs": [
    {
     "data": {
      "text/html": [
       "<div>\n",
       "<style scoped>\n",
       "    .dataframe tbody tr th:only-of-type {\n",
       "        vertical-align: middle;\n",
       "    }\n",
       "\n",
       "    .dataframe tbody tr th {\n",
       "        vertical-align: top;\n",
       "    }\n",
       "\n",
       "    .dataframe thead th {\n",
       "        text-align: right;\n",
       "    }\n",
       "</style>\n",
       "<table border=\"1\" class=\"dataframe\">\n",
       "  <thead>\n",
       "    <tr style=\"text-align: right;\">\n",
       "      <th></th>\n",
       "      <th>mb_used</th>\n",
       "      <th>user_id</th>\n",
       "      <th>month</th>\n",
       "    </tr>\n",
       "  </thead>\n",
       "  <tbody>\n",
       "    <tr>\n",
       "      <th>count</th>\n",
       "      <td>149396.000000</td>\n",
       "      <td>149396.000000</td>\n",
       "      <td>149396.000000</td>\n",
       "    </tr>\n",
       "    <tr>\n",
       "      <th>mean</th>\n",
       "      <td>370.192426</td>\n",
       "      <td>1252.099842</td>\n",
       "      <td>8.563315</td>\n",
       "    </tr>\n",
       "    <tr>\n",
       "      <th>std</th>\n",
       "      <td>278.300951</td>\n",
       "      <td>144.050823</td>\n",
       "      <td>2.788717</td>\n",
       "    </tr>\n",
       "    <tr>\n",
       "      <th>min</th>\n",
       "      <td>0.000000</td>\n",
       "      <td>1000.000000</td>\n",
       "      <td>1.000000</td>\n",
       "    </tr>\n",
       "    <tr>\n",
       "      <th>25%</th>\n",
       "      <td>138.187500</td>\n",
       "      <td>1130.000000</td>\n",
       "      <td>7.000000</td>\n",
       "    </tr>\n",
       "    <tr>\n",
       "      <th>50%</th>\n",
       "      <td>348.015000</td>\n",
       "      <td>1251.000000</td>\n",
       "      <td>9.000000</td>\n",
       "    </tr>\n",
       "    <tr>\n",
       "      <th>75%</th>\n",
       "      <td>559.552500</td>\n",
       "      <td>1380.000000</td>\n",
       "      <td>11.000000</td>\n",
       "    </tr>\n",
       "    <tr>\n",
       "      <th>max</th>\n",
       "      <td>1724.830000</td>\n",
       "      <td>1499.000000</td>\n",
       "      <td>12.000000</td>\n",
       "    </tr>\n",
       "  </tbody>\n",
       "</table>\n",
       "</div>"
      ],
      "text/plain": [
       "             mb_used        user_id          month\n",
       "count  149396.000000  149396.000000  149396.000000\n",
       "mean      370.192426    1252.099842       8.563315\n",
       "std       278.300951     144.050823       2.788717\n",
       "min         0.000000    1000.000000       1.000000\n",
       "25%       138.187500    1130.000000       7.000000\n",
       "50%       348.015000    1251.000000       9.000000\n",
       "75%       559.552500    1380.000000      11.000000\n",
       "max      1724.830000    1499.000000      12.000000"
      ]
     },
     "execution_count": 38,
     "metadata": {},
     "output_type": "execute_result"
    }
   ],
   "source": [
    "data_internet.describe()"
   ]
  },
  {
   "cell_type": "markdown",
   "id": "a61a2838",
   "metadata": {},
   "source": [
    "## Посчитайте для каждого пользователя:"
   ]
  },
  {
   "cell_type": "markdown",
   "id": "4393bca6",
   "metadata": {},
   "source": [
    "- количество сделанных звонков и израсходованных минут разговора по месяцам;"
   ]
  },
  {
   "cell_type": "markdown",
   "id": "67ed6982",
   "metadata": {},
   "source": [
    "для дальнейшего анализа, беру в расчет следуйщие таблички: call, internet, messages"
   ]
  },
  {
   "cell_type": "markdown",
   "id": "97c6510d",
   "metadata": {},
   "source": [
    "<div class=\"alert alert-danger\"; style=\"border-left: 7px solid red\">\n",
    "<h3>👀 Комментарий ревьюера</h3>\n",
    "    \n",
    "Прежде чем группировать, нужно было округлить сессии звонков:\n",
    "    \n",
    "> «Мегалайн» всегда округляет секунды до минут, а мегабайты — до гигабайт. Каждый звонок округляется отдельно: даже если он длился всего 1 секунду, будет засчитан как 1 минута.\n",
    "Для веб-трафика отдельные сессии не считаются. Вместо этого общая сумма за месяц округляется в бо́льшую сторону. Если абонент использует 1025 мегабайт в этом месяце, с него возьмут плату за 2 гигабайта. Примите, что неиспользованные за предыдущий месяц звонки, смс, интернет на следующий месяц не переносятся.\n",
    "</div>    \n"
   ]
  },
  {
   "cell_type": "markdown",
   "id": "4fdac7fc",
   "metadata": {},
   "source": [
    "<div class = \"alert alert-info\" style=\"border-left: 7px solid blue\">\n",
    "<h3>Комментарий студента</h3>\n",
    "понял, спасибо ! \n",
    "\n",
    " ниже округлил сессии звонков \n",
    "    \n",
    "</div>"
   ]
  },
  {
   "cell_type": "markdown",
   "id": "fe83d027",
   "metadata": {},
   "source": [
    "<div class=\"alert alert-danger\"; style=\"border-left: 7px solid red\">\n",
    "<h3>👀 Комментарий ревьюера V.2</h3>\n",
    "    \n",
    "Время уже указано в минутах, поэтому на 60 делить не нужно:\n",
    "    \n",
    "> duration — длительность звонка в минутах  \n",
    "</div>    \n"
   ]
  },
  {
   "cell_type": "markdown",
   "id": "3b5737e1",
   "metadata": {},
   "source": [
    "<div class = \"alert alert-info\" style=\"border-left: 7px solid blue\">\n",
    "<h3>Комментарий студента</h3>\n",
    "понял, спасибо ! \n",
    "\n",
    "а я что-то в секундах думал :)) ок, тогда только np.ceil, поменял в этот раз ниже : old/new\n",
    "    \n",
    "</div>"
   ]
  },
  {
   "cell_type": "code",
   "execution_count": 39,
   "id": "fd0a75a0",
   "metadata": {},
   "outputs": [
    {
     "data": {
      "text/html": [
       "<div>\n",
       "<style scoped>\n",
       "    .dataframe tbody tr th:only-of-type {\n",
       "        vertical-align: middle;\n",
       "    }\n",
       "\n",
       "    .dataframe tbody tr th {\n",
       "        vertical-align: top;\n",
       "    }\n",
       "\n",
       "    .dataframe thead th {\n",
       "        text-align: right;\n",
       "    }\n",
       "</style>\n",
       "<table border=\"1\" class=\"dataframe\">\n",
       "  <thead>\n",
       "    <tr style=\"text-align: right;\">\n",
       "      <th></th>\n",
       "      <th>id</th>\n",
       "      <th>call_date</th>\n",
       "      <th>duration</th>\n",
       "      <th>user_id</th>\n",
       "      <th>month</th>\n",
       "    </tr>\n",
       "  </thead>\n",
       "  <tbody>\n",
       "    <tr>\n",
       "      <th>0</th>\n",
       "      <td>1000_0</td>\n",
       "      <td>2018-07-25</td>\n",
       "      <td>0.00</td>\n",
       "      <td>1000</td>\n",
       "      <td>7</td>\n",
       "    </tr>\n",
       "    <tr>\n",
       "      <th>1</th>\n",
       "      <td>1000_1</td>\n",
       "      <td>2018-08-17</td>\n",
       "      <td>0.00</td>\n",
       "      <td>1000</td>\n",
       "      <td>8</td>\n",
       "    </tr>\n",
       "    <tr>\n",
       "      <th>2</th>\n",
       "      <td>1000_2</td>\n",
       "      <td>2018-06-11</td>\n",
       "      <td>2.85</td>\n",
       "      <td>1000</td>\n",
       "      <td>6</td>\n",
       "    </tr>\n",
       "    <tr>\n",
       "      <th>3</th>\n",
       "      <td>1000_3</td>\n",
       "      <td>2018-09-21</td>\n",
       "      <td>13.80</td>\n",
       "      <td>1000</td>\n",
       "      <td>9</td>\n",
       "    </tr>\n",
       "    <tr>\n",
       "      <th>4</th>\n",
       "      <td>1000_4</td>\n",
       "      <td>2018-12-15</td>\n",
       "      <td>5.18</td>\n",
       "      <td>1000</td>\n",
       "      <td>12</td>\n",
       "    </tr>\n",
       "    <tr>\n",
       "      <th>...</th>\n",
       "      <td>...</td>\n",
       "      <td>...</td>\n",
       "      <td>...</td>\n",
       "      <td>...</td>\n",
       "      <td>...</td>\n",
       "    </tr>\n",
       "    <tr>\n",
       "      <th>202602</th>\n",
       "      <td>1499_215</td>\n",
       "      <td>2018-12-26</td>\n",
       "      <td>0.76</td>\n",
       "      <td>1499</td>\n",
       "      <td>12</td>\n",
       "    </tr>\n",
       "    <tr>\n",
       "      <th>202603</th>\n",
       "      <td>1499_216</td>\n",
       "      <td>2018-10-18</td>\n",
       "      <td>18.83</td>\n",
       "      <td>1499</td>\n",
       "      <td>10</td>\n",
       "    </tr>\n",
       "    <tr>\n",
       "      <th>202604</th>\n",
       "      <td>1499_217</td>\n",
       "      <td>2018-11-10</td>\n",
       "      <td>10.81</td>\n",
       "      <td>1499</td>\n",
       "      <td>11</td>\n",
       "    </tr>\n",
       "    <tr>\n",
       "      <th>202605</th>\n",
       "      <td>1499_218</td>\n",
       "      <td>2018-10-06</td>\n",
       "      <td>4.27</td>\n",
       "      <td>1499</td>\n",
       "      <td>10</td>\n",
       "    </tr>\n",
       "    <tr>\n",
       "      <th>202606</th>\n",
       "      <td>1499_219</td>\n",
       "      <td>2018-12-14</td>\n",
       "      <td>19.62</td>\n",
       "      <td>1499</td>\n",
       "      <td>12</td>\n",
       "    </tr>\n",
       "  </tbody>\n",
       "</table>\n",
       "<p>202607 rows × 5 columns</p>\n",
       "</div>"
      ],
      "text/plain": [
       "              id  call_date  duration  user_id  month\n",
       "0         1000_0 2018-07-25      0.00     1000      7\n",
       "1         1000_1 2018-08-17      0.00     1000      8\n",
       "2         1000_2 2018-06-11      2.85     1000      6\n",
       "3         1000_3 2018-09-21     13.80     1000      9\n",
       "4         1000_4 2018-12-15      5.18     1000     12\n",
       "...          ...        ...       ...      ...    ...\n",
       "202602  1499_215 2018-12-26      0.76     1499     12\n",
       "202603  1499_216 2018-10-18     18.83     1499     10\n",
       "202604  1499_217 2018-11-10     10.81     1499     11\n",
       "202605  1499_218 2018-10-06      4.27     1499     10\n",
       "202606  1499_219 2018-12-14     19.62     1499     12\n",
       "\n",
       "[202607 rows x 5 columns]"
      ]
     },
     "execution_count": 39,
     "metadata": {},
     "output_type": "execute_result"
    }
   ],
   "source": [
    "data_calls"
   ]
  },
  {
   "cell_type": "code",
   "execution_count": 40,
   "id": "24c6bc61",
   "metadata": {},
   "outputs": [],
   "source": [
    "#old\n",
    "#data_calls['duration_min'] = (data_calls['duration']/60).apply(np.ceil)"
   ]
  },
  {
   "cell_type": "code",
   "execution_count": 41,
   "id": "d6b3c40c",
   "metadata": {},
   "outputs": [],
   "source": [
    "#new\n",
    "data_calls['duration_min'] = (data_calls['duration']).apply(np.ceil)"
   ]
  },
  {
   "cell_type": "code",
   "execution_count": 42,
   "id": "071613f2",
   "metadata": {},
   "outputs": [
    {
     "data": {
      "text/html": [
       "<div>\n",
       "<style scoped>\n",
       "    .dataframe tbody tr th:only-of-type {\n",
       "        vertical-align: middle;\n",
       "    }\n",
       "\n",
       "    .dataframe tbody tr th {\n",
       "        vertical-align: top;\n",
       "    }\n",
       "\n",
       "    .dataframe thead th {\n",
       "        text-align: right;\n",
       "    }\n",
       "</style>\n",
       "<table border=\"1\" class=\"dataframe\">\n",
       "  <thead>\n",
       "    <tr style=\"text-align: right;\">\n",
       "      <th></th>\n",
       "      <th>id</th>\n",
       "      <th>call_date</th>\n",
       "      <th>duration</th>\n",
       "      <th>user_id</th>\n",
       "      <th>month</th>\n",
       "      <th>duration_min</th>\n",
       "    </tr>\n",
       "  </thead>\n",
       "  <tbody>\n",
       "    <tr>\n",
       "      <th>0</th>\n",
       "      <td>1000_0</td>\n",
       "      <td>2018-07-25</td>\n",
       "      <td>0.00</td>\n",
       "      <td>1000</td>\n",
       "      <td>7</td>\n",
       "      <td>0.0</td>\n",
       "    </tr>\n",
       "    <tr>\n",
       "      <th>1</th>\n",
       "      <td>1000_1</td>\n",
       "      <td>2018-08-17</td>\n",
       "      <td>0.00</td>\n",
       "      <td>1000</td>\n",
       "      <td>8</td>\n",
       "      <td>0.0</td>\n",
       "    </tr>\n",
       "    <tr>\n",
       "      <th>2</th>\n",
       "      <td>1000_2</td>\n",
       "      <td>2018-06-11</td>\n",
       "      <td>2.85</td>\n",
       "      <td>1000</td>\n",
       "      <td>6</td>\n",
       "      <td>3.0</td>\n",
       "    </tr>\n",
       "    <tr>\n",
       "      <th>3</th>\n",
       "      <td>1000_3</td>\n",
       "      <td>2018-09-21</td>\n",
       "      <td>13.80</td>\n",
       "      <td>1000</td>\n",
       "      <td>9</td>\n",
       "      <td>14.0</td>\n",
       "    </tr>\n",
       "    <tr>\n",
       "      <th>4</th>\n",
       "      <td>1000_4</td>\n",
       "      <td>2018-12-15</td>\n",
       "      <td>5.18</td>\n",
       "      <td>1000</td>\n",
       "      <td>12</td>\n",
       "      <td>6.0</td>\n",
       "    </tr>\n",
       "    <tr>\n",
       "      <th>...</th>\n",
       "      <td>...</td>\n",
       "      <td>...</td>\n",
       "      <td>...</td>\n",
       "      <td>...</td>\n",
       "      <td>...</td>\n",
       "      <td>...</td>\n",
       "    </tr>\n",
       "    <tr>\n",
       "      <th>202602</th>\n",
       "      <td>1499_215</td>\n",
       "      <td>2018-12-26</td>\n",
       "      <td>0.76</td>\n",
       "      <td>1499</td>\n",
       "      <td>12</td>\n",
       "      <td>1.0</td>\n",
       "    </tr>\n",
       "    <tr>\n",
       "      <th>202603</th>\n",
       "      <td>1499_216</td>\n",
       "      <td>2018-10-18</td>\n",
       "      <td>18.83</td>\n",
       "      <td>1499</td>\n",
       "      <td>10</td>\n",
       "      <td>19.0</td>\n",
       "    </tr>\n",
       "    <tr>\n",
       "      <th>202604</th>\n",
       "      <td>1499_217</td>\n",
       "      <td>2018-11-10</td>\n",
       "      <td>10.81</td>\n",
       "      <td>1499</td>\n",
       "      <td>11</td>\n",
       "      <td>11.0</td>\n",
       "    </tr>\n",
       "    <tr>\n",
       "      <th>202605</th>\n",
       "      <td>1499_218</td>\n",
       "      <td>2018-10-06</td>\n",
       "      <td>4.27</td>\n",
       "      <td>1499</td>\n",
       "      <td>10</td>\n",
       "      <td>5.0</td>\n",
       "    </tr>\n",
       "    <tr>\n",
       "      <th>202606</th>\n",
       "      <td>1499_219</td>\n",
       "      <td>2018-12-14</td>\n",
       "      <td>19.62</td>\n",
       "      <td>1499</td>\n",
       "      <td>12</td>\n",
       "      <td>20.0</td>\n",
       "    </tr>\n",
       "  </tbody>\n",
       "</table>\n",
       "<p>202607 rows × 6 columns</p>\n",
       "</div>"
      ],
      "text/plain": [
       "              id  call_date  duration  user_id  month  duration_min\n",
       "0         1000_0 2018-07-25      0.00     1000      7           0.0\n",
       "1         1000_1 2018-08-17      0.00     1000      8           0.0\n",
       "2         1000_2 2018-06-11      2.85     1000      6           3.0\n",
       "3         1000_3 2018-09-21     13.80     1000      9          14.0\n",
       "4         1000_4 2018-12-15      5.18     1000     12           6.0\n",
       "...          ...        ...       ...      ...    ...           ...\n",
       "202602  1499_215 2018-12-26      0.76     1499     12           1.0\n",
       "202603  1499_216 2018-10-18     18.83     1499     10          19.0\n",
       "202604  1499_217 2018-11-10     10.81     1499     11          11.0\n",
       "202605  1499_218 2018-10-06      4.27     1499     10           5.0\n",
       "202606  1499_219 2018-12-14     19.62     1499     12          20.0\n",
       "\n",
       "[202607 rows x 6 columns]"
      ]
     },
     "execution_count": 42,
     "metadata": {},
     "output_type": "execute_result"
    }
   ],
   "source": [
    "data_calls"
   ]
  },
  {
   "cell_type": "markdown",
   "id": "5100ca58",
   "metadata": {},
   "source": [
    "<div class=\"alert alert-success\"; style=\"border-left: 7px solid green\">\n",
    "<h3>✔ Комментарий ревьюера</h3>\n",
    "    \n",
    "Чтобы не было мультииндексов, можно делать так: `data_calls.groupby(['user_id','month']).agg(duration=('duration','sum'), count=('duration','count'))`</div>    \n"
   ]
  },
  {
   "cell_type": "code",
   "execution_count": 43,
   "id": "f6904165",
   "metadata": {},
   "outputs": [],
   "source": [
    "data_calls = data_calls.pivot_table(index = ['user_id','month'],values = \"duration_min\",aggfunc=['sum','count'])"
   ]
  },
  {
   "cell_type": "code",
   "execution_count": 44,
   "id": "924fe14a",
   "metadata": {},
   "outputs": [
    {
     "data": {
      "text/html": [
       "<div>\n",
       "<style scoped>\n",
       "    .dataframe tbody tr th:only-of-type {\n",
       "        vertical-align: middle;\n",
       "    }\n",
       "\n",
       "    .dataframe tbody tr th {\n",
       "        vertical-align: top;\n",
       "    }\n",
       "\n",
       "    .dataframe thead tr th {\n",
       "        text-align: left;\n",
       "    }\n",
       "\n",
       "    .dataframe thead tr:last-of-type th {\n",
       "        text-align: right;\n",
       "    }\n",
       "</style>\n",
       "<table border=\"1\" class=\"dataframe\">\n",
       "  <thead>\n",
       "    <tr>\n",
       "      <th></th>\n",
       "      <th></th>\n",
       "      <th>sum</th>\n",
       "      <th>count</th>\n",
       "    </tr>\n",
       "    <tr>\n",
       "      <th></th>\n",
       "      <th></th>\n",
       "      <th>duration_min</th>\n",
       "      <th>duration_min</th>\n",
       "    </tr>\n",
       "    <tr>\n",
       "      <th>user_id</th>\n",
       "      <th>month</th>\n",
       "      <th></th>\n",
       "      <th></th>\n",
       "    </tr>\n",
       "  </thead>\n",
       "  <tbody>\n",
       "    <tr>\n",
       "      <th rowspan=\"5\" valign=\"top\">1000</th>\n",
       "      <th>5</th>\n",
       "      <td>159.0</td>\n",
       "      <td>22</td>\n",
       "    </tr>\n",
       "    <tr>\n",
       "      <th>6</th>\n",
       "      <td>172.0</td>\n",
       "      <td>43</td>\n",
       "    </tr>\n",
       "    <tr>\n",
       "      <th>7</th>\n",
       "      <td>340.0</td>\n",
       "      <td>47</td>\n",
       "    </tr>\n",
       "    <tr>\n",
       "      <th>8</th>\n",
       "      <td>408.0</td>\n",
       "      <td>52</td>\n",
       "    </tr>\n",
       "    <tr>\n",
       "      <th>9</th>\n",
       "      <td>466.0</td>\n",
       "      <td>58</td>\n",
       "    </tr>\n",
       "    <tr>\n",
       "      <th>...</th>\n",
       "      <th>...</th>\n",
       "      <td>...</td>\n",
       "      <td>...</td>\n",
       "    </tr>\n",
       "    <tr>\n",
       "      <th>1498</th>\n",
       "      <th>10</th>\n",
       "      <td>247.0</td>\n",
       "      <td>41</td>\n",
       "    </tr>\n",
       "    <tr>\n",
       "      <th rowspan=\"4\" valign=\"top\">1499</th>\n",
       "      <th>9</th>\n",
       "      <td>70.0</td>\n",
       "      <td>9</td>\n",
       "    </tr>\n",
       "    <tr>\n",
       "      <th>10</th>\n",
       "      <td>449.0</td>\n",
       "      <td>68</td>\n",
       "    </tr>\n",
       "    <tr>\n",
       "      <th>11</th>\n",
       "      <td>612.0</td>\n",
       "      <td>74</td>\n",
       "    </tr>\n",
       "    <tr>\n",
       "      <th>12</th>\n",
       "      <td>492.0</td>\n",
       "      <td>69</td>\n",
       "    </tr>\n",
       "  </tbody>\n",
       "</table>\n",
       "<p>3174 rows × 2 columns</p>\n",
       "</div>"
      ],
      "text/plain": [
       "                       sum        count\n",
       "              duration_min duration_min\n",
       "user_id month                          \n",
       "1000    5            159.0           22\n",
       "        6            172.0           43\n",
       "        7            340.0           47\n",
       "        8            408.0           52\n",
       "        9            466.0           58\n",
       "...                    ...          ...\n",
       "1498    10           247.0           41\n",
       "1499    9             70.0            9\n",
       "        10           449.0           68\n",
       "        11           612.0           74\n",
       "        12           492.0           69\n",
       "\n",
       "[3174 rows x 2 columns]"
      ]
     },
     "execution_count": 44,
     "metadata": {},
     "output_type": "execute_result"
    }
   ],
   "source": [
    "data_calls"
   ]
  },
  {
   "cell_type": "markdown",
   "id": "00739106",
   "metadata": {},
   "source": [
    "- количество отправленных сообщений по месяцам;"
   ]
  },
  {
   "cell_type": "code",
   "execution_count": 45,
   "id": "cf225931",
   "metadata": {},
   "outputs": [
    {
     "data": {
      "text/html": [
       "<div>\n",
       "<style scoped>\n",
       "    .dataframe tbody tr th:only-of-type {\n",
       "        vertical-align: middle;\n",
       "    }\n",
       "\n",
       "    .dataframe tbody tr th {\n",
       "        vertical-align: top;\n",
       "    }\n",
       "\n",
       "    .dataframe thead th {\n",
       "        text-align: right;\n",
       "    }\n",
       "</style>\n",
       "<table border=\"1\" class=\"dataframe\">\n",
       "  <thead>\n",
       "    <tr style=\"text-align: right;\">\n",
       "      <th></th>\n",
       "      <th>id</th>\n",
       "      <th>message_date</th>\n",
       "      <th>user_id</th>\n",
       "      <th>month</th>\n",
       "    </tr>\n",
       "  </thead>\n",
       "  <tbody>\n",
       "    <tr>\n",
       "      <th>0</th>\n",
       "      <td>1000_0</td>\n",
       "      <td>2018-06-27</td>\n",
       "      <td>1000</td>\n",
       "      <td>6</td>\n",
       "    </tr>\n",
       "    <tr>\n",
       "      <th>1</th>\n",
       "      <td>1000_1</td>\n",
       "      <td>2018-10-08</td>\n",
       "      <td>1000</td>\n",
       "      <td>10</td>\n",
       "    </tr>\n",
       "    <tr>\n",
       "      <th>2</th>\n",
       "      <td>1000_2</td>\n",
       "      <td>2018-08-04</td>\n",
       "      <td>1000</td>\n",
       "      <td>8</td>\n",
       "    </tr>\n",
       "    <tr>\n",
       "      <th>3</th>\n",
       "      <td>1000_3</td>\n",
       "      <td>2018-06-16</td>\n",
       "      <td>1000</td>\n",
       "      <td>6</td>\n",
       "    </tr>\n",
       "    <tr>\n",
       "      <th>4</th>\n",
       "      <td>1000_4</td>\n",
       "      <td>2018-12-05</td>\n",
       "      <td>1000</td>\n",
       "      <td>12</td>\n",
       "    </tr>\n",
       "    <tr>\n",
       "      <th>...</th>\n",
       "      <td>...</td>\n",
       "      <td>...</td>\n",
       "      <td>...</td>\n",
       "      <td>...</td>\n",
       "    </tr>\n",
       "    <tr>\n",
       "      <th>123031</th>\n",
       "      <td>1499_179</td>\n",
       "      <td>2018-12-12</td>\n",
       "      <td>1499</td>\n",
       "      <td>12</td>\n",
       "    </tr>\n",
       "    <tr>\n",
       "      <th>123032</th>\n",
       "      <td>1499_180</td>\n",
       "      <td>2018-09-28</td>\n",
       "      <td>1499</td>\n",
       "      <td>9</td>\n",
       "    </tr>\n",
       "    <tr>\n",
       "      <th>123033</th>\n",
       "      <td>1499_181</td>\n",
       "      <td>2018-09-27</td>\n",
       "      <td>1499</td>\n",
       "      <td>9</td>\n",
       "    </tr>\n",
       "    <tr>\n",
       "      <th>123034</th>\n",
       "      <td>1499_182</td>\n",
       "      <td>2018-11-15</td>\n",
       "      <td>1499</td>\n",
       "      <td>11</td>\n",
       "    </tr>\n",
       "    <tr>\n",
       "      <th>123035</th>\n",
       "      <td>1499_183</td>\n",
       "      <td>2018-11-16</td>\n",
       "      <td>1499</td>\n",
       "      <td>11</td>\n",
       "    </tr>\n",
       "  </tbody>\n",
       "</table>\n",
       "<p>123036 rows × 4 columns</p>\n",
       "</div>"
      ],
      "text/plain": [
       "              id message_date  user_id  month\n",
       "0         1000_0   2018-06-27     1000      6\n",
       "1         1000_1   2018-10-08     1000     10\n",
       "2         1000_2   2018-08-04     1000      8\n",
       "3         1000_3   2018-06-16     1000      6\n",
       "4         1000_4   2018-12-05     1000     12\n",
       "...          ...          ...      ...    ...\n",
       "123031  1499_179   2018-12-12     1499     12\n",
       "123032  1499_180   2018-09-28     1499      9\n",
       "123033  1499_181   2018-09-27     1499      9\n",
       "123034  1499_182   2018-11-15     1499     11\n",
       "123035  1499_183   2018-11-16     1499     11\n",
       "\n",
       "[123036 rows x 4 columns]"
      ]
     },
     "execution_count": 45,
     "metadata": {},
     "output_type": "execute_result"
    }
   ],
   "source": [
    "data_messages"
   ]
  },
  {
   "cell_type": "code",
   "execution_count": 46,
   "id": "82fc809b",
   "metadata": {},
   "outputs": [],
   "source": [
    "data_messages = data_messages.pivot_table(index = ['user_id','month'],values = 'id',aggfunc=['count'])"
   ]
  },
  {
   "cell_type": "code",
   "execution_count": 47,
   "id": "1de4629f",
   "metadata": {},
   "outputs": [
    {
     "data": {
      "text/html": [
       "<div>\n",
       "<style scoped>\n",
       "    .dataframe tbody tr th:only-of-type {\n",
       "        vertical-align: middle;\n",
       "    }\n",
       "\n",
       "    .dataframe tbody tr th {\n",
       "        vertical-align: top;\n",
       "    }\n",
       "\n",
       "    .dataframe thead tr th {\n",
       "        text-align: left;\n",
       "    }\n",
       "\n",
       "    .dataframe thead tr:last-of-type th {\n",
       "        text-align: right;\n",
       "    }\n",
       "</style>\n",
       "<table border=\"1\" class=\"dataframe\">\n",
       "  <thead>\n",
       "    <tr>\n",
       "      <th></th>\n",
       "      <th></th>\n",
       "      <th>count</th>\n",
       "    </tr>\n",
       "    <tr>\n",
       "      <th></th>\n",
       "      <th></th>\n",
       "      <th>id</th>\n",
       "    </tr>\n",
       "    <tr>\n",
       "      <th>user_id</th>\n",
       "      <th>month</th>\n",
       "      <th></th>\n",
       "    </tr>\n",
       "  </thead>\n",
       "  <tbody>\n",
       "    <tr>\n",
       "      <th rowspan=\"5\" valign=\"top\">1000</th>\n",
       "      <th>5</th>\n",
       "      <td>22</td>\n",
       "    </tr>\n",
       "    <tr>\n",
       "      <th>6</th>\n",
       "      <td>60</td>\n",
       "    </tr>\n",
       "    <tr>\n",
       "      <th>7</th>\n",
       "      <td>75</td>\n",
       "    </tr>\n",
       "    <tr>\n",
       "      <th>8</th>\n",
       "      <td>81</td>\n",
       "    </tr>\n",
       "    <tr>\n",
       "      <th>9</th>\n",
       "      <td>57</td>\n",
       "    </tr>\n",
       "    <tr>\n",
       "      <th>...</th>\n",
       "      <th>...</th>\n",
       "      <td>...</td>\n",
       "    </tr>\n",
       "    <tr>\n",
       "      <th>1498</th>\n",
       "      <th>10</th>\n",
       "      <td>42</td>\n",
       "    </tr>\n",
       "    <tr>\n",
       "      <th rowspan=\"4\" valign=\"top\">1499</th>\n",
       "      <th>9</th>\n",
       "      <td>11</td>\n",
       "    </tr>\n",
       "    <tr>\n",
       "      <th>10</th>\n",
       "      <td>48</td>\n",
       "    </tr>\n",
       "    <tr>\n",
       "      <th>11</th>\n",
       "      <td>59</td>\n",
       "    </tr>\n",
       "    <tr>\n",
       "      <th>12</th>\n",
       "      <td>66</td>\n",
       "    </tr>\n",
       "  </tbody>\n",
       "</table>\n",
       "<p>2717 rows × 1 columns</p>\n",
       "</div>"
      ],
      "text/plain": [
       "              count\n",
       "                 id\n",
       "user_id month      \n",
       "1000    5        22\n",
       "        6        60\n",
       "        7        75\n",
       "        8        81\n",
       "        9        57\n",
       "...             ...\n",
       "1498    10       42\n",
       "1499    9        11\n",
       "        10       48\n",
       "        11       59\n",
       "        12       66\n",
       "\n",
       "[2717 rows x 1 columns]"
      ]
     },
     "execution_count": 47,
     "metadata": {},
     "output_type": "execute_result"
    }
   ],
   "source": [
    "data_messages"
   ]
  },
  {
   "cell_type": "markdown",
   "id": "77408ccf",
   "metadata": {},
   "source": [
    "- oбъем израсходованного интернет-трафика по месяцам;"
   ]
  },
  {
   "cell_type": "code",
   "execution_count": 48,
   "id": "645bdf85",
   "metadata": {},
   "outputs": [],
   "source": [
    "data_internet = data_internet.pivot_table(index = ['user_id','month'],values = 'mb_used',aggfunc=['sum'])"
   ]
  },
  {
   "cell_type": "code",
   "execution_count": 49,
   "id": "4371f421",
   "metadata": {},
   "outputs": [
    {
     "data": {
      "text/html": [
       "<div>\n",
       "<style scoped>\n",
       "    .dataframe tbody tr th:only-of-type {\n",
       "        vertical-align: middle;\n",
       "    }\n",
       "\n",
       "    .dataframe tbody tr th {\n",
       "        vertical-align: top;\n",
       "    }\n",
       "\n",
       "    .dataframe thead tr th {\n",
       "        text-align: left;\n",
       "    }\n",
       "\n",
       "    .dataframe thead tr:last-of-type th {\n",
       "        text-align: right;\n",
       "    }\n",
       "</style>\n",
       "<table border=\"1\" class=\"dataframe\">\n",
       "  <thead>\n",
       "    <tr>\n",
       "      <th></th>\n",
       "      <th></th>\n",
       "      <th>sum</th>\n",
       "    </tr>\n",
       "    <tr>\n",
       "      <th></th>\n",
       "      <th></th>\n",
       "      <th>mb_used</th>\n",
       "    </tr>\n",
       "    <tr>\n",
       "      <th>user_id</th>\n",
       "      <th>month</th>\n",
       "      <th></th>\n",
       "    </tr>\n",
       "  </thead>\n",
       "  <tbody>\n",
       "    <tr>\n",
       "      <th rowspan=\"5\" valign=\"top\">1000</th>\n",
       "      <th>5</th>\n",
       "      <td>2253.49</td>\n",
       "    </tr>\n",
       "    <tr>\n",
       "      <th>6</th>\n",
       "      <td>23233.77</td>\n",
       "    </tr>\n",
       "    <tr>\n",
       "      <th>7</th>\n",
       "      <td>14003.64</td>\n",
       "    </tr>\n",
       "    <tr>\n",
       "      <th>8</th>\n",
       "      <td>14055.93</td>\n",
       "    </tr>\n",
       "    <tr>\n",
       "      <th>9</th>\n",
       "      <td>14568.91</td>\n",
       "    </tr>\n",
       "    <tr>\n",
       "      <th>...</th>\n",
       "      <th>...</th>\n",
       "      <td>...</td>\n",
       "    </tr>\n",
       "    <tr>\n",
       "      <th>1498</th>\n",
       "      <th>10</th>\n",
       "      <td>20579.36</td>\n",
       "    </tr>\n",
       "    <tr>\n",
       "      <th rowspan=\"4\" valign=\"top\">1499</th>\n",
       "      <th>9</th>\n",
       "      <td>1845.75</td>\n",
       "    </tr>\n",
       "    <tr>\n",
       "      <th>10</th>\n",
       "      <td>17788.51</td>\n",
       "    </tr>\n",
       "    <tr>\n",
       "      <th>11</th>\n",
       "      <td>17963.31</td>\n",
       "    </tr>\n",
       "    <tr>\n",
       "      <th>12</th>\n",
       "      <td>13055.58</td>\n",
       "    </tr>\n",
       "  </tbody>\n",
       "</table>\n",
       "<p>3203 rows × 1 columns</p>\n",
       "</div>"
      ],
      "text/plain": [
       "                    sum\n",
       "                mb_used\n",
       "user_id month          \n",
       "1000    5       2253.49\n",
       "        6      23233.77\n",
       "        7      14003.64\n",
       "        8      14055.93\n",
       "        9      14568.91\n",
       "...                 ...\n",
       "1498    10     20579.36\n",
       "1499    9       1845.75\n",
       "        10     17788.51\n",
       "        11     17963.31\n",
       "        12     13055.58\n",
       "\n",
       "[3203 rows x 1 columns]"
      ]
     },
     "execution_count": 49,
     "metadata": {},
     "output_type": "execute_result"
    }
   ],
   "source": [
    "data_internet"
   ]
  },
  {
   "cell_type": "markdown",
   "id": "1ab943b8",
   "metadata": {},
   "source": [
    "найду подходящию структуру табличек  которая позволит обьединить их по двум столбцам: df.groupby([‘user_id’, ‘month’])"
   ]
  },
  {
   "cell_type": "code",
   "execution_count": 50,
   "id": "04543a99",
   "metadata": {},
   "outputs": [],
   "source": [
    "data_calls_messages = data_calls.merge(data_messages, on = ['user_id','month'], how = 'outer').reset_index()"
   ]
  },
  {
   "cell_type": "code",
   "execution_count": 51,
   "id": "342cde89",
   "metadata": {},
   "outputs": [
    {
     "data": {
      "text/html": [
       "<div>\n",
       "<style scoped>\n",
       "    .dataframe tbody tr th:only-of-type {\n",
       "        vertical-align: middle;\n",
       "    }\n",
       "\n",
       "    .dataframe tbody tr th {\n",
       "        vertical-align: top;\n",
       "    }\n",
       "\n",
       "    .dataframe thead tr th {\n",
       "        text-align: left;\n",
       "    }\n",
       "</style>\n",
       "<table border=\"1\" class=\"dataframe\">\n",
       "  <thead>\n",
       "    <tr>\n",
       "      <th></th>\n",
       "      <th>user_id</th>\n",
       "      <th>month</th>\n",
       "      <th>sum</th>\n",
       "      <th colspan=\"2\" halign=\"left\">count</th>\n",
       "    </tr>\n",
       "    <tr>\n",
       "      <th></th>\n",
       "      <th></th>\n",
       "      <th></th>\n",
       "      <th>duration_min</th>\n",
       "      <th>duration_min</th>\n",
       "      <th>id</th>\n",
       "    </tr>\n",
       "  </thead>\n",
       "  <tbody>\n",
       "    <tr>\n",
       "      <th>0</th>\n",
       "      <td>1000</td>\n",
       "      <td>5</td>\n",
       "      <td>159.0</td>\n",
       "      <td>22.0</td>\n",
       "      <td>22.0</td>\n",
       "    </tr>\n",
       "    <tr>\n",
       "      <th>1</th>\n",
       "      <td>1000</td>\n",
       "      <td>6</td>\n",
       "      <td>172.0</td>\n",
       "      <td>43.0</td>\n",
       "      <td>60.0</td>\n",
       "    </tr>\n",
       "    <tr>\n",
       "      <th>2</th>\n",
       "      <td>1000</td>\n",
       "      <td>7</td>\n",
       "      <td>340.0</td>\n",
       "      <td>47.0</td>\n",
       "      <td>75.0</td>\n",
       "    </tr>\n",
       "    <tr>\n",
       "      <th>3</th>\n",
       "      <td>1000</td>\n",
       "      <td>8</td>\n",
       "      <td>408.0</td>\n",
       "      <td>52.0</td>\n",
       "      <td>81.0</td>\n",
       "    </tr>\n",
       "    <tr>\n",
       "      <th>4</th>\n",
       "      <td>1000</td>\n",
       "      <td>9</td>\n",
       "      <td>466.0</td>\n",
       "      <td>58.0</td>\n",
       "      <td>57.0</td>\n",
       "    </tr>\n",
       "    <tr>\n",
       "      <th>5</th>\n",
       "      <td>1000</td>\n",
       "      <td>10</td>\n",
       "      <td>350.0</td>\n",
       "      <td>57.0</td>\n",
       "      <td>73.0</td>\n",
       "    </tr>\n",
       "    <tr>\n",
       "      <th>6</th>\n",
       "      <td>1000</td>\n",
       "      <td>11</td>\n",
       "      <td>338.0</td>\n",
       "      <td>43.0</td>\n",
       "      <td>58.0</td>\n",
       "    </tr>\n",
       "    <tr>\n",
       "      <th>7</th>\n",
       "      <td>1000</td>\n",
       "      <td>12</td>\n",
       "      <td>333.0</td>\n",
       "      <td>46.0</td>\n",
       "      <td>70.0</td>\n",
       "    </tr>\n",
       "    <tr>\n",
       "      <th>8</th>\n",
       "      <td>1001</td>\n",
       "      <td>11</td>\n",
       "      <td>430.0</td>\n",
       "      <td>59.0</td>\n",
       "      <td>NaN</td>\n",
       "    </tr>\n",
       "    <tr>\n",
       "      <th>9</th>\n",
       "      <td>1001</td>\n",
       "      <td>12</td>\n",
       "      <td>414.0</td>\n",
       "      <td>63.0</td>\n",
       "      <td>NaN</td>\n",
       "    </tr>\n",
       "    <tr>\n",
       "      <th>10</th>\n",
       "      <td>1002</td>\n",
       "      <td>6</td>\n",
       "      <td>117.0</td>\n",
       "      <td>15.0</td>\n",
       "      <td>4.0</td>\n",
       "    </tr>\n",
       "    <tr>\n",
       "      <th>11</th>\n",
       "      <td>1002</td>\n",
       "      <td>7</td>\n",
       "      <td>214.0</td>\n",
       "      <td>26.0</td>\n",
       "      <td>11.0</td>\n",
       "    </tr>\n",
       "    <tr>\n",
       "      <th>12</th>\n",
       "      <td>1002</td>\n",
       "      <td>8</td>\n",
       "      <td>289.0</td>\n",
       "      <td>42.0</td>\n",
       "      <td>13.0</td>\n",
       "    </tr>\n",
       "    <tr>\n",
       "      <th>13</th>\n",
       "      <td>1002</td>\n",
       "      <td>9</td>\n",
       "      <td>206.0</td>\n",
       "      <td>36.0</td>\n",
       "      <td>4.0</td>\n",
       "    </tr>\n",
       "    <tr>\n",
       "      <th>14</th>\n",
       "      <td>1002</td>\n",
       "      <td>10</td>\n",
       "      <td>212.0</td>\n",
       "      <td>33.0</td>\n",
       "      <td>10.0</td>\n",
       "    </tr>\n",
       "    <tr>\n",
       "      <th>15</th>\n",
       "      <td>1002</td>\n",
       "      <td>11</td>\n",
       "      <td>243.0</td>\n",
       "      <td>32.0</td>\n",
       "      <td>16.0</td>\n",
       "    </tr>\n",
       "    <tr>\n",
       "      <th>16</th>\n",
       "      <td>1002</td>\n",
       "      <td>12</td>\n",
       "      <td>236.0</td>\n",
       "      <td>33.0</td>\n",
       "      <td>12.0</td>\n",
       "    </tr>\n",
       "    <tr>\n",
       "      <th>17</th>\n",
       "      <td>1003</td>\n",
       "      <td>8</td>\n",
       "      <td>380.0</td>\n",
       "      <td>55.0</td>\n",
       "      <td>37.0</td>\n",
       "    </tr>\n",
       "    <tr>\n",
       "      <th>18</th>\n",
       "      <td>1003</td>\n",
       "      <td>9</td>\n",
       "      <td>961.0</td>\n",
       "      <td>134.0</td>\n",
       "      <td>91.0</td>\n",
       "    </tr>\n",
       "    <tr>\n",
       "      <th>19</th>\n",
       "      <td>1003</td>\n",
       "      <td>10</td>\n",
       "      <td>855.0</td>\n",
       "      <td>108.0</td>\n",
       "      <td>83.0</td>\n",
       "    </tr>\n",
       "  </tbody>\n",
       "</table>\n",
       "</div>"
      ],
      "text/plain": [
       "   user_id month          sum        count      \n",
       "                 duration_min duration_min    id\n",
       "0     1000     5        159.0         22.0  22.0\n",
       "1     1000     6        172.0         43.0  60.0\n",
       "2     1000     7        340.0         47.0  75.0\n",
       "3     1000     8        408.0         52.0  81.0\n",
       "4     1000     9        466.0         58.0  57.0\n",
       "5     1000    10        350.0         57.0  73.0\n",
       "6     1000    11        338.0         43.0  58.0\n",
       "7     1000    12        333.0         46.0  70.0\n",
       "8     1001    11        430.0         59.0   NaN\n",
       "9     1001    12        414.0         63.0   NaN\n",
       "10    1002     6        117.0         15.0   4.0\n",
       "11    1002     7        214.0         26.0  11.0\n",
       "12    1002     8        289.0         42.0  13.0\n",
       "13    1002     9        206.0         36.0   4.0\n",
       "14    1002    10        212.0         33.0  10.0\n",
       "15    1002    11        243.0         32.0  16.0\n",
       "16    1002    12        236.0         33.0  12.0\n",
       "17    1003     8        380.0         55.0  37.0\n",
       "18    1003     9        961.0        134.0  91.0\n",
       "19    1003    10        855.0        108.0  83.0"
      ]
     },
     "execution_count": 51,
     "metadata": {},
     "output_type": "execute_result"
    }
   ],
   "source": [
    "data_calls_messages.head(20)"
   ]
  },
  {
   "cell_type": "code",
   "execution_count": 52,
   "id": "dff5fc7a",
   "metadata": {},
   "outputs": [],
   "source": [
    "# создаю финальную табличку где есть данные на calls - messages - internet\n",
    "data_calls_messages_internet = data_calls_messages.merge(data_internet,on = ['user_id','month'], how = 'outer').reset_index()"
   ]
  },
  {
   "cell_type": "code",
   "execution_count": 53,
   "id": "46e0c51a",
   "metadata": {},
   "outputs": [
    {
     "data": {
      "text/html": [
       "<div>\n",
       "<style scoped>\n",
       "    .dataframe tbody tr th:only-of-type {\n",
       "        vertical-align: middle;\n",
       "    }\n",
       "\n",
       "    .dataframe tbody tr th {\n",
       "        vertical-align: top;\n",
       "    }\n",
       "\n",
       "    .dataframe thead tr th {\n",
       "        text-align: left;\n",
       "    }\n",
       "</style>\n",
       "<table border=\"1\" class=\"dataframe\">\n",
       "  <thead>\n",
       "    <tr>\n",
       "      <th></th>\n",
       "      <th>index</th>\n",
       "      <th>user_id</th>\n",
       "      <th>month</th>\n",
       "      <th>sum</th>\n",
       "      <th colspan=\"2\" halign=\"left\">count</th>\n",
       "      <th>sum</th>\n",
       "    </tr>\n",
       "    <tr>\n",
       "      <th></th>\n",
       "      <th></th>\n",
       "      <th></th>\n",
       "      <th></th>\n",
       "      <th>duration_min</th>\n",
       "      <th>duration_min</th>\n",
       "      <th>id</th>\n",
       "      <th>mb_used</th>\n",
       "    </tr>\n",
       "  </thead>\n",
       "  <tbody>\n",
       "    <tr>\n",
       "      <th>0</th>\n",
       "      <td>0</td>\n",
       "      <td>1000</td>\n",
       "      <td>5</td>\n",
       "      <td>159.0</td>\n",
       "      <td>22.0</td>\n",
       "      <td>22.0</td>\n",
       "      <td>2253.49</td>\n",
       "    </tr>\n",
       "    <tr>\n",
       "      <th>1</th>\n",
       "      <td>1</td>\n",
       "      <td>1000</td>\n",
       "      <td>6</td>\n",
       "      <td>172.0</td>\n",
       "      <td>43.0</td>\n",
       "      <td>60.0</td>\n",
       "      <td>23233.77</td>\n",
       "    </tr>\n",
       "    <tr>\n",
       "      <th>2</th>\n",
       "      <td>2</td>\n",
       "      <td>1000</td>\n",
       "      <td>7</td>\n",
       "      <td>340.0</td>\n",
       "      <td>47.0</td>\n",
       "      <td>75.0</td>\n",
       "      <td>14003.64</td>\n",
       "    </tr>\n",
       "    <tr>\n",
       "      <th>3</th>\n",
       "      <td>3</td>\n",
       "      <td>1000</td>\n",
       "      <td>8</td>\n",
       "      <td>408.0</td>\n",
       "      <td>52.0</td>\n",
       "      <td>81.0</td>\n",
       "      <td>14055.93</td>\n",
       "    </tr>\n",
       "    <tr>\n",
       "      <th>4</th>\n",
       "      <td>4</td>\n",
       "      <td>1000</td>\n",
       "      <td>9</td>\n",
       "      <td>466.0</td>\n",
       "      <td>58.0</td>\n",
       "      <td>57.0</td>\n",
       "      <td>14568.91</td>\n",
       "    </tr>\n",
       "    <tr>\n",
       "      <th>5</th>\n",
       "      <td>5</td>\n",
       "      <td>1000</td>\n",
       "      <td>10</td>\n",
       "      <td>350.0</td>\n",
       "      <td>57.0</td>\n",
       "      <td>73.0</td>\n",
       "      <td>14702.49</td>\n",
       "    </tr>\n",
       "    <tr>\n",
       "      <th>6</th>\n",
       "      <td>6</td>\n",
       "      <td>1000</td>\n",
       "      <td>11</td>\n",
       "      <td>338.0</td>\n",
       "      <td>43.0</td>\n",
       "      <td>58.0</td>\n",
       "      <td>14756.47</td>\n",
       "    </tr>\n",
       "    <tr>\n",
       "      <th>7</th>\n",
       "      <td>7</td>\n",
       "      <td>1000</td>\n",
       "      <td>12</td>\n",
       "      <td>333.0</td>\n",
       "      <td>46.0</td>\n",
       "      <td>70.0</td>\n",
       "      <td>9817.61</td>\n",
       "    </tr>\n",
       "    <tr>\n",
       "      <th>8</th>\n",
       "      <td>8</td>\n",
       "      <td>1001</td>\n",
       "      <td>11</td>\n",
       "      <td>430.0</td>\n",
       "      <td>59.0</td>\n",
       "      <td>NaN</td>\n",
       "      <td>18429.34</td>\n",
       "    </tr>\n",
       "    <tr>\n",
       "      <th>9</th>\n",
       "      <td>9</td>\n",
       "      <td>1001</td>\n",
       "      <td>12</td>\n",
       "      <td>414.0</td>\n",
       "      <td>63.0</td>\n",
       "      <td>NaN</td>\n",
       "      <td>14036.66</td>\n",
       "    </tr>\n",
       "    <tr>\n",
       "      <th>10</th>\n",
       "      <td>10</td>\n",
       "      <td>1002</td>\n",
       "      <td>6</td>\n",
       "      <td>117.0</td>\n",
       "      <td>15.0</td>\n",
       "      <td>4.0</td>\n",
       "      <td>10856.82</td>\n",
       "    </tr>\n",
       "    <tr>\n",
       "      <th>11</th>\n",
       "      <td>11</td>\n",
       "      <td>1002</td>\n",
       "      <td>7</td>\n",
       "      <td>214.0</td>\n",
       "      <td>26.0</td>\n",
       "      <td>11.0</td>\n",
       "      <td>17580.10</td>\n",
       "    </tr>\n",
       "    <tr>\n",
       "      <th>12</th>\n",
       "      <td>12</td>\n",
       "      <td>1002</td>\n",
       "      <td>8</td>\n",
       "      <td>289.0</td>\n",
       "      <td>42.0</td>\n",
       "      <td>13.0</td>\n",
       "      <td>20319.26</td>\n",
       "    </tr>\n",
       "    <tr>\n",
       "      <th>13</th>\n",
       "      <td>13</td>\n",
       "      <td>1002</td>\n",
       "      <td>9</td>\n",
       "      <td>206.0</td>\n",
       "      <td>36.0</td>\n",
       "      <td>4.0</td>\n",
       "      <td>16691.08</td>\n",
       "    </tr>\n",
       "    <tr>\n",
       "      <th>14</th>\n",
       "      <td>14</td>\n",
       "      <td>1002</td>\n",
       "      <td>10</td>\n",
       "      <td>212.0</td>\n",
       "      <td>33.0</td>\n",
       "      <td>10.0</td>\n",
       "      <td>13888.25</td>\n",
       "    </tr>\n",
       "    <tr>\n",
       "      <th>15</th>\n",
       "      <td>15</td>\n",
       "      <td>1002</td>\n",
       "      <td>11</td>\n",
       "      <td>243.0</td>\n",
       "      <td>32.0</td>\n",
       "      <td>16.0</td>\n",
       "      <td>18587.28</td>\n",
       "    </tr>\n",
       "    <tr>\n",
       "      <th>16</th>\n",
       "      <td>16</td>\n",
       "      <td>1002</td>\n",
       "      <td>12</td>\n",
       "      <td>236.0</td>\n",
       "      <td>33.0</td>\n",
       "      <td>12.0</td>\n",
       "      <td>18113.73</td>\n",
       "    </tr>\n",
       "    <tr>\n",
       "      <th>17</th>\n",
       "      <td>17</td>\n",
       "      <td>1003</td>\n",
       "      <td>8</td>\n",
       "      <td>380.0</td>\n",
       "      <td>55.0</td>\n",
       "      <td>37.0</td>\n",
       "      <td>8565.21</td>\n",
       "    </tr>\n",
       "    <tr>\n",
       "      <th>18</th>\n",
       "      <td>18</td>\n",
       "      <td>1003</td>\n",
       "      <td>9</td>\n",
       "      <td>961.0</td>\n",
       "      <td>134.0</td>\n",
       "      <td>91.0</td>\n",
       "      <td>12468.87</td>\n",
       "    </tr>\n",
       "    <tr>\n",
       "      <th>19</th>\n",
       "      <td>19</td>\n",
       "      <td>1003</td>\n",
       "      <td>10</td>\n",
       "      <td>855.0</td>\n",
       "      <td>108.0</td>\n",
       "      <td>83.0</td>\n",
       "      <td>14768.14</td>\n",
       "    </tr>\n",
       "  </tbody>\n",
       "</table>\n",
       "</div>"
      ],
      "text/plain": [
       "   index user_id month          sum        count             sum\n",
       "                       duration_min duration_min    id   mb_used\n",
       "0      0    1000     5        159.0         22.0  22.0   2253.49\n",
       "1      1    1000     6        172.0         43.0  60.0  23233.77\n",
       "2      2    1000     7        340.0         47.0  75.0  14003.64\n",
       "3      3    1000     8        408.0         52.0  81.0  14055.93\n",
       "4      4    1000     9        466.0         58.0  57.0  14568.91\n",
       "5      5    1000    10        350.0         57.0  73.0  14702.49\n",
       "6      6    1000    11        338.0         43.0  58.0  14756.47\n",
       "7      7    1000    12        333.0         46.0  70.0   9817.61\n",
       "8      8    1001    11        430.0         59.0   NaN  18429.34\n",
       "9      9    1001    12        414.0         63.0   NaN  14036.66\n",
       "10    10    1002     6        117.0         15.0   4.0  10856.82\n",
       "11    11    1002     7        214.0         26.0  11.0  17580.10\n",
       "12    12    1002     8        289.0         42.0  13.0  20319.26\n",
       "13    13    1002     9        206.0         36.0   4.0  16691.08\n",
       "14    14    1002    10        212.0         33.0  10.0  13888.25\n",
       "15    15    1002    11        243.0         32.0  16.0  18587.28\n",
       "16    16    1002    12        236.0         33.0  12.0  18113.73\n",
       "17    17    1003     8        380.0         55.0  37.0   8565.21\n",
       "18    18    1003     9        961.0        134.0  91.0  12468.87\n",
       "19    19    1003    10        855.0        108.0  83.0  14768.14"
      ]
     },
     "execution_count": 53,
     "metadata": {},
     "output_type": "execute_result"
    }
   ],
   "source": [
    "data_calls_messages_internet.head(20)"
   ]
  },
  {
   "cell_type": "code",
   "execution_count": 54,
   "id": "68c2c092",
   "metadata": {},
   "outputs": [],
   "source": [
    "data_calls_messages_internet.columns = ['index','user_id','month','call_duration', 'nb_calls','nb_messages','mb_used_total']"
   ]
  },
  {
   "cell_type": "code",
   "execution_count": 55,
   "id": "bf11659f",
   "metadata": {},
   "outputs": [
    {
     "data": {
      "text/html": [
       "<div>\n",
       "<style scoped>\n",
       "    .dataframe tbody tr th:only-of-type {\n",
       "        vertical-align: middle;\n",
       "    }\n",
       "\n",
       "    .dataframe tbody tr th {\n",
       "        vertical-align: top;\n",
       "    }\n",
       "\n",
       "    .dataframe thead th {\n",
       "        text-align: right;\n",
       "    }\n",
       "</style>\n",
       "<table border=\"1\" class=\"dataframe\">\n",
       "  <thead>\n",
       "    <tr style=\"text-align: right;\">\n",
       "      <th></th>\n",
       "      <th>index</th>\n",
       "      <th>user_id</th>\n",
       "      <th>month</th>\n",
       "      <th>call_duration</th>\n",
       "      <th>nb_calls</th>\n",
       "      <th>nb_messages</th>\n",
       "      <th>mb_used_total</th>\n",
       "    </tr>\n",
       "  </thead>\n",
       "  <tbody>\n",
       "    <tr>\n",
       "      <th>0</th>\n",
       "      <td>0</td>\n",
       "      <td>1000</td>\n",
       "      <td>5</td>\n",
       "      <td>159.0</td>\n",
       "      <td>22.0</td>\n",
       "      <td>22.0</td>\n",
       "      <td>2253.49</td>\n",
       "    </tr>\n",
       "    <tr>\n",
       "      <th>1</th>\n",
       "      <td>1</td>\n",
       "      <td>1000</td>\n",
       "      <td>6</td>\n",
       "      <td>172.0</td>\n",
       "      <td>43.0</td>\n",
       "      <td>60.0</td>\n",
       "      <td>23233.77</td>\n",
       "    </tr>\n",
       "    <tr>\n",
       "      <th>2</th>\n",
       "      <td>2</td>\n",
       "      <td>1000</td>\n",
       "      <td>7</td>\n",
       "      <td>340.0</td>\n",
       "      <td>47.0</td>\n",
       "      <td>75.0</td>\n",
       "      <td>14003.64</td>\n",
       "    </tr>\n",
       "    <tr>\n",
       "      <th>3</th>\n",
       "      <td>3</td>\n",
       "      <td>1000</td>\n",
       "      <td>8</td>\n",
       "      <td>408.0</td>\n",
       "      <td>52.0</td>\n",
       "      <td>81.0</td>\n",
       "      <td>14055.93</td>\n",
       "    </tr>\n",
       "    <tr>\n",
       "      <th>4</th>\n",
       "      <td>4</td>\n",
       "      <td>1000</td>\n",
       "      <td>9</td>\n",
       "      <td>466.0</td>\n",
       "      <td>58.0</td>\n",
       "      <td>57.0</td>\n",
       "      <td>14568.91</td>\n",
       "    </tr>\n",
       "    <tr>\n",
       "      <th>...</th>\n",
       "      <td>...</td>\n",
       "      <td>...</td>\n",
       "      <td>...</td>\n",
       "      <td>...</td>\n",
       "      <td>...</td>\n",
       "      <td>...</td>\n",
       "      <td>...</td>\n",
       "    </tr>\n",
       "    <tr>\n",
       "      <th>3209</th>\n",
       "      <td>3209</td>\n",
       "      <td>1489</td>\n",
       "      <td>9</td>\n",
       "      <td>NaN</td>\n",
       "      <td>NaN</td>\n",
       "      <td>32.0</td>\n",
       "      <td>17206.30</td>\n",
       "    </tr>\n",
       "    <tr>\n",
       "      <th>3210</th>\n",
       "      <td>3210</td>\n",
       "      <td>1489</td>\n",
       "      <td>10</td>\n",
       "      <td>NaN</td>\n",
       "      <td>NaN</td>\n",
       "      <td>21.0</td>\n",
       "      <td>19559.44</td>\n",
       "    </tr>\n",
       "    <tr>\n",
       "      <th>3211</th>\n",
       "      <td>3211</td>\n",
       "      <td>1489</td>\n",
       "      <td>11</td>\n",
       "      <td>NaN</td>\n",
       "      <td>NaN</td>\n",
       "      <td>20.0</td>\n",
       "      <td>17491.56</td>\n",
       "    </tr>\n",
       "    <tr>\n",
       "      <th>3212</th>\n",
       "      <td>3212</td>\n",
       "      <td>1489</td>\n",
       "      <td>12</td>\n",
       "      <td>NaN</td>\n",
       "      <td>NaN</td>\n",
       "      <td>35.0</td>\n",
       "      <td>17322.51</td>\n",
       "    </tr>\n",
       "    <tr>\n",
       "      <th>3213</th>\n",
       "      <td>3213</td>\n",
       "      <td>1476</td>\n",
       "      <td>4</td>\n",
       "      <td>NaN</td>\n",
       "      <td>NaN</td>\n",
       "      <td>NaN</td>\n",
       "      <td>530.78</td>\n",
       "    </tr>\n",
       "  </tbody>\n",
       "</table>\n",
       "<p>3214 rows × 7 columns</p>\n",
       "</div>"
      ],
      "text/plain": [
       "      index  user_id  month  call_duration  nb_calls  nb_messages  \\\n",
       "0         0     1000      5          159.0      22.0         22.0   \n",
       "1         1     1000      6          172.0      43.0         60.0   \n",
       "2         2     1000      7          340.0      47.0         75.0   \n",
       "3         3     1000      8          408.0      52.0         81.0   \n",
       "4         4     1000      9          466.0      58.0         57.0   \n",
       "...     ...      ...    ...            ...       ...          ...   \n",
       "3209   3209     1489      9            NaN       NaN         32.0   \n",
       "3210   3210     1489     10            NaN       NaN         21.0   \n",
       "3211   3211     1489     11            NaN       NaN         20.0   \n",
       "3212   3212     1489     12            NaN       NaN         35.0   \n",
       "3213   3213     1476      4            NaN       NaN          NaN   \n",
       "\n",
       "      mb_used_total  \n",
       "0           2253.49  \n",
       "1          23233.77  \n",
       "2          14003.64  \n",
       "3          14055.93  \n",
       "4          14568.91  \n",
       "...             ...  \n",
       "3209       17206.30  \n",
       "3210       19559.44  \n",
       "3211       17491.56  \n",
       "3212       17322.51  \n",
       "3213         530.78  \n",
       "\n",
       "[3214 rows x 7 columns]"
      ]
     },
     "execution_count": 55,
     "metadata": {},
     "output_type": "execute_result"
    }
   ],
   "source": [
    "data_calls_messages_internet"
   ]
  },
  {
   "cell_type": "markdown",
   "id": "558f198d",
   "metadata": {},
   "source": [
    "<div class=\"alert alert-danger\"; style=\"border-left: 7px solid red\">\n",
    "<h3>👀 Комментарий ревьюера</h3>\n",
    "    \n",
    "Ты объединяешь по нужным колонкам, но не с той стратегией объединения. Что произойдёт, если в левой таблице не будет пара `user_id,month` из правой?</div>    \n"
   ]
  },
  {
   "cell_type": "markdown",
   "id": "4846bde5",
   "metadata": {},
   "source": [
    "<div class = \"alert alert-info\" style=\"border-left: 7px solid blue\">\n",
    "<h3>Комментарий студента</h3>\n",
    "понял, спасибо ! \n",
    "\n",
    "я тоже это подумал в начале, но потом гдето в чат прочитал по left. чтобы мы взяли в расчет дата из обях табличек, мы можем ставить inner. сделал ниже\n",
    "    \n",
    "</div>"
   ]
  },
  {
   "cell_type": "markdown",
   "id": "81d77a35",
   "metadata": {},
   "source": [
    "<div class=\"alert alert-danger\"; style=\"border-left: 7px solid red\">\n",
    "<h3>👀 Комментарий ревьюера V.2</h3>\n",
    "\n",
    "Так ты теряешь записи там, где какой-то пользователь не пользовался одним из видов услуг. Сравни, о скольки пользователях есть информация о сессиях и сколько осталорсь у тебя:\n",
    "</div>"
   ]
  },
  {
   "cell_type": "code",
   "execution_count": 56,
   "id": "f1552be2",
   "metadata": {},
   "outputs": [
    {
     "data": {
      "text/plain": [
       "498"
      ]
     },
     "metadata": {},
     "output_type": "display_data"
    },
    {
     "data": {
      "text/plain": [
       "498"
      ]
     },
     "execution_count": 56,
     "metadata": {},
     "output_type": "execute_result"
    }
   ],
   "source": [
    "# Код ревьюера\n",
    "\n",
    "display(len(set(data_calls.reset_index()['user_id'].unique()) | set(data_messages.reset_index()['user_id'].unique()) | set(data_internet.reset_index()['user_id'].unique())))\n",
    "data_calls_messages_internet['user_id'].nunique()"
   ]
  },
  {
   "cell_type": "markdown",
   "id": "94f18aff",
   "metadata": {},
   "source": [
    "<div class=\"alert alert-danger\"; style=\"border-left: 7px solid red\">\n",
    "<h3>👀 Комментарий ревьюера V.2</h3>\n",
    "    \n",
    "Сводные таблицы нужно объединить с `outer`, а с пользователями можно через `inner`\n",
    "</div>    \n"
   ]
  },
  {
   "cell_type": "markdown",
   "id": "a5a1e08c",
   "metadata": {},
   "source": [
    "<div class = \"alert alert-info\" style=\"border-left: 7px solid blue\">\n",
    "<h3>Комментарий студента</h3>\n",
    "понял, спасибо ! \n",
    "\n",
    "поменял метод обеденения выше с inner на outer, теперь по метод проверки выше с 419 польз. стало 498\n",
    "    \n",
    "</div>"
   ]
  },
  {
   "cell_type": "markdown",
   "id": "125529a9",
   "metadata": {},
   "source": [
    "<div class=\"alert alert-success\"; style=\"border-left: 7px solid green\">\n",
    "<h3>✔ Комментарий ревьюера V.3</h3>\n",
    "    \n",
    "👍 Можно ещё в качестве проверки сравнивать сумму числа сообщений в итоговой таблицей с числом строк в таблице сообщений, например\n",
    "</div>    \n"
   ]
  },
  {
   "cell_type": "markdown",
   "id": "3f871edd",
   "metadata": {},
   "source": []
  },
  {
   "cell_type": "code",
   "execution_count": 57,
   "id": "95215f2d",
   "metadata": {},
   "outputs": [],
   "source": [
    "# создаю финальную табличку где есть данные на calls - messages - internet\n",
    "data_final = data_calls_messages_internet.merge(data_users,on = ['user_id'], how = 'inner').reset_index().drop(['month_y','level_0','index'],axis = 1)"
   ]
  },
  {
   "cell_type": "markdown",
   "id": "d5ddec24",
   "metadata": {},
   "source": [
    "<div class=\"alert alert-success\"; style=\"border-left: 7px solid green\">\n",
    "<h3>✔ Комментарий ревьюера</h3>\n",
    "    \n",
    "Из-за того, что ты выделяешь месяц для `reg_date`, выше у тебя дублируется столбец с месяцем</div>    \n"
   ]
  },
  {
   "cell_type": "code",
   "execution_count": 58,
   "id": "859f560b",
   "metadata": {},
   "outputs": [
    {
     "data": {
      "text/plain": [
       "user_id             0\n",
       "month_x             0\n",
       "call_duration      40\n",
       "nb_calls           40\n",
       "nb_messages       497\n",
       "mb_used_total      11\n",
       "age                 0\n",
       "churn_date       3027\n",
       "city                0\n",
       "first_name          0\n",
       "last_name           0\n",
       "reg_date            0\n",
       "tariff              0\n",
       "dtype: int64"
      ]
     },
     "execution_count": 58,
     "metadata": {},
     "output_type": "execute_result"
    }
   ],
   "source": [
    "data_final.isna().sum()"
   ]
  },
  {
   "cell_type": "code",
   "execution_count": 59,
   "id": "eb3e519d",
   "metadata": {},
   "outputs": [],
   "source": [
    "# создаю финальную табличку где есть данные на calls - messages - internet_user ID\n",
    "#data_final = data_calls_messages_internet.merge(data_users,on = ['user_id'], how = 'left').reset_index().drop(columns = ['level_0','month_y'])"
   ]
  },
  {
   "cell_type": "code",
   "execution_count": 60,
   "id": "4b626044",
   "metadata": {},
   "outputs": [
    {
     "data": {
      "text/html": [
       "<div>\n",
       "<style scoped>\n",
       "    .dataframe tbody tr th:only-of-type {\n",
       "        vertical-align: middle;\n",
       "    }\n",
       "\n",
       "    .dataframe tbody tr th {\n",
       "        vertical-align: top;\n",
       "    }\n",
       "\n",
       "    .dataframe thead th {\n",
       "        text-align: right;\n",
       "    }\n",
       "</style>\n",
       "<table border=\"1\" class=\"dataframe\">\n",
       "  <thead>\n",
       "    <tr style=\"text-align: right;\">\n",
       "      <th></th>\n",
       "      <th>user_id</th>\n",
       "      <th>month_x</th>\n",
       "      <th>call_duration</th>\n",
       "      <th>nb_calls</th>\n",
       "      <th>nb_messages</th>\n",
       "      <th>mb_used_total</th>\n",
       "      <th>age</th>\n",
       "      <th>churn_date</th>\n",
       "      <th>city</th>\n",
       "      <th>first_name</th>\n",
       "      <th>last_name</th>\n",
       "      <th>reg_date</th>\n",
       "      <th>tariff</th>\n",
       "    </tr>\n",
       "  </thead>\n",
       "  <tbody>\n",
       "    <tr>\n",
       "      <th>0</th>\n",
       "      <td>1000</td>\n",
       "      <td>5</td>\n",
       "      <td>159.0</td>\n",
       "      <td>22.0</td>\n",
       "      <td>22.0</td>\n",
       "      <td>2253.49</td>\n",
       "      <td>52</td>\n",
       "      <td>NaN</td>\n",
       "      <td>Краснодар</td>\n",
       "      <td>Рафаил</td>\n",
       "      <td>Верещагин</td>\n",
       "      <td>2018-05-25</td>\n",
       "      <td>ultra</td>\n",
       "    </tr>\n",
       "    <tr>\n",
       "      <th>1</th>\n",
       "      <td>1000</td>\n",
       "      <td>6</td>\n",
       "      <td>172.0</td>\n",
       "      <td>43.0</td>\n",
       "      <td>60.0</td>\n",
       "      <td>23233.77</td>\n",
       "      <td>52</td>\n",
       "      <td>NaN</td>\n",
       "      <td>Краснодар</td>\n",
       "      <td>Рафаил</td>\n",
       "      <td>Верещагин</td>\n",
       "      <td>2018-05-25</td>\n",
       "      <td>ultra</td>\n",
       "    </tr>\n",
       "    <tr>\n",
       "      <th>2</th>\n",
       "      <td>1000</td>\n",
       "      <td>7</td>\n",
       "      <td>340.0</td>\n",
       "      <td>47.0</td>\n",
       "      <td>75.0</td>\n",
       "      <td>14003.64</td>\n",
       "      <td>52</td>\n",
       "      <td>NaN</td>\n",
       "      <td>Краснодар</td>\n",
       "      <td>Рафаил</td>\n",
       "      <td>Верещагин</td>\n",
       "      <td>2018-05-25</td>\n",
       "      <td>ultra</td>\n",
       "    </tr>\n",
       "    <tr>\n",
       "      <th>3</th>\n",
       "      <td>1000</td>\n",
       "      <td>8</td>\n",
       "      <td>408.0</td>\n",
       "      <td>52.0</td>\n",
       "      <td>81.0</td>\n",
       "      <td>14055.93</td>\n",
       "      <td>52</td>\n",
       "      <td>NaN</td>\n",
       "      <td>Краснодар</td>\n",
       "      <td>Рафаил</td>\n",
       "      <td>Верещагин</td>\n",
       "      <td>2018-05-25</td>\n",
       "      <td>ultra</td>\n",
       "    </tr>\n",
       "    <tr>\n",
       "      <th>4</th>\n",
       "      <td>1000</td>\n",
       "      <td>9</td>\n",
       "      <td>466.0</td>\n",
       "      <td>58.0</td>\n",
       "      <td>57.0</td>\n",
       "      <td>14568.91</td>\n",
       "      <td>52</td>\n",
       "      <td>NaN</td>\n",
       "      <td>Краснодар</td>\n",
       "      <td>Рафаил</td>\n",
       "      <td>Верещагин</td>\n",
       "      <td>2018-05-25</td>\n",
       "      <td>ultra</td>\n",
       "    </tr>\n",
       "    <tr>\n",
       "      <th>...</th>\n",
       "      <td>...</td>\n",
       "      <td>...</td>\n",
       "      <td>...</td>\n",
       "      <td>...</td>\n",
       "      <td>...</td>\n",
       "      <td>...</td>\n",
       "      <td>...</td>\n",
       "      <td>...</td>\n",
       "      <td>...</td>\n",
       "      <td>...</td>\n",
       "      <td>...</td>\n",
       "      <td>...</td>\n",
       "      <td>...</td>\n",
       "    </tr>\n",
       "    <tr>\n",
       "      <th>3209</th>\n",
       "      <td>1489</td>\n",
       "      <td>8</td>\n",
       "      <td>NaN</td>\n",
       "      <td>NaN</td>\n",
       "      <td>17.0</td>\n",
       "      <td>11050.56</td>\n",
       "      <td>35</td>\n",
       "      <td>NaN</td>\n",
       "      <td>Санкт-Петербург</td>\n",
       "      <td>Павел</td>\n",
       "      <td>Гончаров</td>\n",
       "      <td>2018-08-15</td>\n",
       "      <td>smart</td>\n",
       "    </tr>\n",
       "    <tr>\n",
       "      <th>3210</th>\n",
       "      <td>1489</td>\n",
       "      <td>9</td>\n",
       "      <td>NaN</td>\n",
       "      <td>NaN</td>\n",
       "      <td>32.0</td>\n",
       "      <td>17206.30</td>\n",
       "      <td>35</td>\n",
       "      <td>NaN</td>\n",
       "      <td>Санкт-Петербург</td>\n",
       "      <td>Павел</td>\n",
       "      <td>Гончаров</td>\n",
       "      <td>2018-08-15</td>\n",
       "      <td>smart</td>\n",
       "    </tr>\n",
       "    <tr>\n",
       "      <th>3211</th>\n",
       "      <td>1489</td>\n",
       "      <td>10</td>\n",
       "      <td>NaN</td>\n",
       "      <td>NaN</td>\n",
       "      <td>21.0</td>\n",
       "      <td>19559.44</td>\n",
       "      <td>35</td>\n",
       "      <td>NaN</td>\n",
       "      <td>Санкт-Петербург</td>\n",
       "      <td>Павел</td>\n",
       "      <td>Гончаров</td>\n",
       "      <td>2018-08-15</td>\n",
       "      <td>smart</td>\n",
       "    </tr>\n",
       "    <tr>\n",
       "      <th>3212</th>\n",
       "      <td>1489</td>\n",
       "      <td>11</td>\n",
       "      <td>NaN</td>\n",
       "      <td>NaN</td>\n",
       "      <td>20.0</td>\n",
       "      <td>17491.56</td>\n",
       "      <td>35</td>\n",
       "      <td>NaN</td>\n",
       "      <td>Санкт-Петербург</td>\n",
       "      <td>Павел</td>\n",
       "      <td>Гончаров</td>\n",
       "      <td>2018-08-15</td>\n",
       "      <td>smart</td>\n",
       "    </tr>\n",
       "    <tr>\n",
       "      <th>3213</th>\n",
       "      <td>1489</td>\n",
       "      <td>12</td>\n",
       "      <td>NaN</td>\n",
       "      <td>NaN</td>\n",
       "      <td>35.0</td>\n",
       "      <td>17322.51</td>\n",
       "      <td>35</td>\n",
       "      <td>NaN</td>\n",
       "      <td>Санкт-Петербург</td>\n",
       "      <td>Павел</td>\n",
       "      <td>Гончаров</td>\n",
       "      <td>2018-08-15</td>\n",
       "      <td>smart</td>\n",
       "    </tr>\n",
       "  </tbody>\n",
       "</table>\n",
       "<p>3214 rows × 13 columns</p>\n",
       "</div>"
      ],
      "text/plain": [
       "      user_id  month_x  call_duration  nb_calls  nb_messages  mb_used_total  \\\n",
       "0        1000        5          159.0      22.0         22.0        2253.49   \n",
       "1        1000        6          172.0      43.0         60.0       23233.77   \n",
       "2        1000        7          340.0      47.0         75.0       14003.64   \n",
       "3        1000        8          408.0      52.0         81.0       14055.93   \n",
       "4        1000        9          466.0      58.0         57.0       14568.91   \n",
       "...       ...      ...            ...       ...          ...            ...   \n",
       "3209     1489        8            NaN       NaN         17.0       11050.56   \n",
       "3210     1489        9            NaN       NaN         32.0       17206.30   \n",
       "3211     1489       10            NaN       NaN         21.0       19559.44   \n",
       "3212     1489       11            NaN       NaN         20.0       17491.56   \n",
       "3213     1489       12            NaN       NaN         35.0       17322.51   \n",
       "\n",
       "      age churn_date             city first_name  last_name   reg_date tariff  \n",
       "0      52        NaN        Краснодар     Рафаил  Верещагин 2018-05-25  ultra  \n",
       "1      52        NaN        Краснодар     Рафаил  Верещагин 2018-05-25  ultra  \n",
       "2      52        NaN        Краснодар     Рафаил  Верещагин 2018-05-25  ultra  \n",
       "3      52        NaN        Краснодар     Рафаил  Верещагин 2018-05-25  ultra  \n",
       "4      52        NaN        Краснодар     Рафаил  Верещагин 2018-05-25  ultra  \n",
       "...   ...        ...              ...        ...        ...        ...    ...  \n",
       "3209   35        NaN  Санкт-Петербург      Павел   Гончаров 2018-08-15  smart  \n",
       "3210   35        NaN  Санкт-Петербург      Павел   Гончаров 2018-08-15  smart  \n",
       "3211   35        NaN  Санкт-Петербург      Павел   Гончаров 2018-08-15  smart  \n",
       "3212   35        NaN  Санкт-Петербург      Павел   Гончаров 2018-08-15  smart  \n",
       "3213   35        NaN  Санкт-Петербург      Павел   Гончаров 2018-08-15  smart  \n",
       "\n",
       "[3214 rows x 13 columns]"
      ]
     },
     "execution_count": 60,
     "metadata": {},
     "output_type": "execute_result"
    }
   ],
   "source": [
    "data_final"
   ]
  },
  {
   "cell_type": "code",
   "execution_count": 61,
   "id": "1c882509",
   "metadata": {},
   "outputs": [
    {
     "data": {
      "text/plain": [
       "user_id             0\n",
       "month_x             0\n",
       "call_duration      40\n",
       "nb_calls           40\n",
       "nb_messages       497\n",
       "mb_used_total      11\n",
       "age                 0\n",
       "churn_date       3027\n",
       "city                0\n",
       "first_name          0\n",
       "last_name           0\n",
       "reg_date            0\n",
       "tariff              0\n",
       "dtype: int64"
      ]
     },
     "execution_count": 61,
     "metadata": {},
     "output_type": "execute_result"
    }
   ],
   "source": [
    "# меняю NAN на \"0\", это возникла после того как обединил табички чтобы сформировать нужную\"data_final\"\n",
    "data_final.isna().sum()"
   ]
  },
  {
   "cell_type": "code",
   "execution_count": 62,
   "id": "e0f3a861",
   "metadata": {},
   "outputs": [],
   "source": [
    "# nb_messages появились \"NAN\" скорее всего потому что при совмещание табличек , не все клиенты которые делали звонки - отправили сообщения   \n",
    "data_final['nb_messages']= data_final['nb_messages'].fillna(0)"
   ]
  },
  {
   "cell_type": "markdown",
   "id": "071ea74e",
   "metadata": {},
   "source": [
    "<div class=\"alert alert-danger\"; style=\"border-left: 7px solid red\">\n",
    "<h3>👀 Комментарий ревьюера V.2</h3>\n",
    "    \n",
    "Нужно будет не забыть заполнить пропуски нулями для звонков, если будут</div>    \n"
   ]
  },
  {
   "cell_type": "markdown",
   "id": "d055394a",
   "metadata": {},
   "source": [
    "<div class = \"alert alert-info\" style=\"border-left: 7px solid blue\">\n",
    "<h3>Комментарий студента</h3>\n",
    "\n",
    "    да, после обединения через outer, NaN значения появились... \n",
    "    \n",
    "</div>"
   ]
  },
  {
   "cell_type": "code",
   "execution_count": 63,
   "id": "0a3ea6c8",
   "metadata": {},
   "outputs": [],
   "source": [
    "data_final['call_duration']= data_final['call_duration'].fillna(0)"
   ]
  },
  {
   "cell_type": "code",
   "execution_count": 64,
   "id": "e8a1fc08",
   "metadata": {},
   "outputs": [
    {
     "data": {
      "text/plain": [
       "user_id             0\n",
       "month_x             0\n",
       "call_duration       0\n",
       "nb_calls           40\n",
       "nb_messages         0\n",
       "mb_used_total      11\n",
       "age                 0\n",
       "churn_date       3027\n",
       "city                0\n",
       "first_name          0\n",
       "last_name           0\n",
       "reg_date            0\n",
       "tariff              0\n",
       "dtype: int64"
      ]
     },
     "execution_count": 64,
     "metadata": {},
     "output_type": "execute_result"
    }
   ],
   "source": [
    "data_final.isna().sum()"
   ]
  },
  {
   "cell_type": "markdown",
   "id": "c95478c5",
   "metadata": {},
   "source": [
    "<div class=\"alert alert-success\"; style=\"border-left: 7px solid green\">\n",
    "<h3>✔ Комментарий ревьюера</h3>\n",
    "    \n",
    "Да, всё верно 👍</div>    \n"
   ]
  },
  {
   "cell_type": "code",
   "execution_count": 65,
   "id": "3d117bc0",
   "metadata": {},
   "outputs": [],
   "source": [
    "data_final['mb_used_total']= data_final['mb_used_total'].fillna(0)"
   ]
  },
  {
   "cell_type": "code",
   "execution_count": 66,
   "id": "a9cb1022",
   "metadata": {},
   "outputs": [
    {
     "data": {
      "text/plain": [
       "user_id             0\n",
       "month_x             0\n",
       "call_duration       0\n",
       "nb_calls           40\n",
       "nb_messages         0\n",
       "mb_used_total       0\n",
       "age                 0\n",
       "churn_date       3027\n",
       "city                0\n",
       "first_name          0\n",
       "last_name           0\n",
       "reg_date            0\n",
       "tariff              0\n",
       "dtype: int64"
      ]
     },
     "execution_count": 66,
     "metadata": {},
     "output_type": "execute_result"
    }
   ],
   "source": [
    "data_final.isna().sum()"
   ]
  },
  {
   "cell_type": "markdown",
   "id": "3514c9f5",
   "metadata": {},
   "source": [
    "столбец \"Churn date\" пока остовляю нетроннатым, не интересует данные"
   ]
  },
  {
   "cell_type": "code",
   "execution_count": 67,
   "id": "72cb6958",
   "metadata": {},
   "outputs": [],
   "source": [
    "# созждаю столбец который выдает количество gb из mb\n",
    "data_final['gb_used'] = (data_final['mb_used_total'] /1024).apply(np.ceil)"
   ]
  },
  {
   "cell_type": "code",
   "execution_count": 68,
   "id": "e5146f0a",
   "metadata": {},
   "outputs": [],
   "source": [
    "# созждаю столбец который выдает количество gb из mb\n",
    "data_tariffs['gb_per_month_included'] = (data_tariffs['mb_per_month_included']/1024).apply(np.ceil)"
   ]
  },
  {
   "cell_type": "markdown",
   "id": "9f6e0991",
   "metadata": {},
   "source": [
    "<div class=\"alert alert-success\"; style=\"border-left: 7px solid green\">\n",
    "<h3>✔ Комментарий ревьюера</h3>\n",
    "    \n",
    "Тут тоже всё верно, т.к. в таблице с интернетом число ГБ целое, то округлять не нужно. `np.ceil` принимает `ndarray`, поэотому функцию можно применять сразу к серии, т.е. `np.ceil(data_final['mb_used_total'] / 1024)`</div>    \n"
   ]
  },
  {
   "cell_type": "code",
   "execution_count": 69,
   "id": "e598e90a",
   "metadata": {},
   "outputs": [
    {
     "data": {
      "text/html": [
       "<div>\n",
       "<style scoped>\n",
       "    .dataframe tbody tr th:only-of-type {\n",
       "        vertical-align: middle;\n",
       "    }\n",
       "\n",
       "    .dataframe tbody tr th {\n",
       "        vertical-align: top;\n",
       "    }\n",
       "\n",
       "    .dataframe thead th {\n",
       "        text-align: right;\n",
       "    }\n",
       "</style>\n",
       "<table border=\"1\" class=\"dataframe\">\n",
       "  <thead>\n",
       "    <tr style=\"text-align: right;\">\n",
       "      <th></th>\n",
       "      <th>user_id</th>\n",
       "      <th>month_x</th>\n",
       "      <th>call_duration</th>\n",
       "      <th>nb_calls</th>\n",
       "      <th>nb_messages</th>\n",
       "      <th>mb_used_total</th>\n",
       "      <th>age</th>\n",
       "      <th>churn_date</th>\n",
       "      <th>city</th>\n",
       "      <th>first_name</th>\n",
       "      <th>last_name</th>\n",
       "      <th>reg_date</th>\n",
       "      <th>tariff</th>\n",
       "      <th>gb_used</th>\n",
       "    </tr>\n",
       "  </thead>\n",
       "  <tbody>\n",
       "    <tr>\n",
       "      <th>0</th>\n",
       "      <td>1000</td>\n",
       "      <td>5</td>\n",
       "      <td>159.0</td>\n",
       "      <td>22.0</td>\n",
       "      <td>22.0</td>\n",
       "      <td>2253.49</td>\n",
       "      <td>52</td>\n",
       "      <td>NaN</td>\n",
       "      <td>Краснодар</td>\n",
       "      <td>Рафаил</td>\n",
       "      <td>Верещагин</td>\n",
       "      <td>2018-05-25</td>\n",
       "      <td>ultra</td>\n",
       "      <td>3.0</td>\n",
       "    </tr>\n",
       "    <tr>\n",
       "      <th>1</th>\n",
       "      <td>1000</td>\n",
       "      <td>6</td>\n",
       "      <td>172.0</td>\n",
       "      <td>43.0</td>\n",
       "      <td>60.0</td>\n",
       "      <td>23233.77</td>\n",
       "      <td>52</td>\n",
       "      <td>NaN</td>\n",
       "      <td>Краснодар</td>\n",
       "      <td>Рафаил</td>\n",
       "      <td>Верещагин</td>\n",
       "      <td>2018-05-25</td>\n",
       "      <td>ultra</td>\n",
       "      <td>23.0</td>\n",
       "    </tr>\n",
       "    <tr>\n",
       "      <th>2</th>\n",
       "      <td>1000</td>\n",
       "      <td>7</td>\n",
       "      <td>340.0</td>\n",
       "      <td>47.0</td>\n",
       "      <td>75.0</td>\n",
       "      <td>14003.64</td>\n",
       "      <td>52</td>\n",
       "      <td>NaN</td>\n",
       "      <td>Краснодар</td>\n",
       "      <td>Рафаил</td>\n",
       "      <td>Верещагин</td>\n",
       "      <td>2018-05-25</td>\n",
       "      <td>ultra</td>\n",
       "      <td>14.0</td>\n",
       "    </tr>\n",
       "    <tr>\n",
       "      <th>3</th>\n",
       "      <td>1000</td>\n",
       "      <td>8</td>\n",
       "      <td>408.0</td>\n",
       "      <td>52.0</td>\n",
       "      <td>81.0</td>\n",
       "      <td>14055.93</td>\n",
       "      <td>52</td>\n",
       "      <td>NaN</td>\n",
       "      <td>Краснодар</td>\n",
       "      <td>Рафаил</td>\n",
       "      <td>Верещагин</td>\n",
       "      <td>2018-05-25</td>\n",
       "      <td>ultra</td>\n",
       "      <td>14.0</td>\n",
       "    </tr>\n",
       "    <tr>\n",
       "      <th>4</th>\n",
       "      <td>1000</td>\n",
       "      <td>9</td>\n",
       "      <td>466.0</td>\n",
       "      <td>58.0</td>\n",
       "      <td>57.0</td>\n",
       "      <td>14568.91</td>\n",
       "      <td>52</td>\n",
       "      <td>NaN</td>\n",
       "      <td>Краснодар</td>\n",
       "      <td>Рафаил</td>\n",
       "      <td>Верещагин</td>\n",
       "      <td>2018-05-25</td>\n",
       "      <td>ultra</td>\n",
       "      <td>15.0</td>\n",
       "    </tr>\n",
       "    <tr>\n",
       "      <th>5</th>\n",
       "      <td>1000</td>\n",
       "      <td>10</td>\n",
       "      <td>350.0</td>\n",
       "      <td>57.0</td>\n",
       "      <td>73.0</td>\n",
       "      <td>14702.49</td>\n",
       "      <td>52</td>\n",
       "      <td>NaN</td>\n",
       "      <td>Краснодар</td>\n",
       "      <td>Рафаил</td>\n",
       "      <td>Верещагин</td>\n",
       "      <td>2018-05-25</td>\n",
       "      <td>ultra</td>\n",
       "      <td>15.0</td>\n",
       "    </tr>\n",
       "    <tr>\n",
       "      <th>6</th>\n",
       "      <td>1000</td>\n",
       "      <td>11</td>\n",
       "      <td>338.0</td>\n",
       "      <td>43.0</td>\n",
       "      <td>58.0</td>\n",
       "      <td>14756.47</td>\n",
       "      <td>52</td>\n",
       "      <td>NaN</td>\n",
       "      <td>Краснодар</td>\n",
       "      <td>Рафаил</td>\n",
       "      <td>Верещагин</td>\n",
       "      <td>2018-05-25</td>\n",
       "      <td>ultra</td>\n",
       "      <td>15.0</td>\n",
       "    </tr>\n",
       "    <tr>\n",
       "      <th>7</th>\n",
       "      <td>1000</td>\n",
       "      <td>12</td>\n",
       "      <td>333.0</td>\n",
       "      <td>46.0</td>\n",
       "      <td>70.0</td>\n",
       "      <td>9817.61</td>\n",
       "      <td>52</td>\n",
       "      <td>NaN</td>\n",
       "      <td>Краснодар</td>\n",
       "      <td>Рафаил</td>\n",
       "      <td>Верещагин</td>\n",
       "      <td>2018-05-25</td>\n",
       "      <td>ultra</td>\n",
       "      <td>10.0</td>\n",
       "    </tr>\n",
       "    <tr>\n",
       "      <th>8</th>\n",
       "      <td>1001</td>\n",
       "      <td>11</td>\n",
       "      <td>430.0</td>\n",
       "      <td>59.0</td>\n",
       "      <td>0.0</td>\n",
       "      <td>18429.34</td>\n",
       "      <td>41</td>\n",
       "      <td>NaN</td>\n",
       "      <td>Москва</td>\n",
       "      <td>Иван</td>\n",
       "      <td>Ежов</td>\n",
       "      <td>2018-11-01</td>\n",
       "      <td>smart</td>\n",
       "      <td>18.0</td>\n",
       "    </tr>\n",
       "    <tr>\n",
       "      <th>9</th>\n",
       "      <td>1001</td>\n",
       "      <td>12</td>\n",
       "      <td>414.0</td>\n",
       "      <td>63.0</td>\n",
       "      <td>0.0</td>\n",
       "      <td>14036.66</td>\n",
       "      <td>41</td>\n",
       "      <td>NaN</td>\n",
       "      <td>Москва</td>\n",
       "      <td>Иван</td>\n",
       "      <td>Ежов</td>\n",
       "      <td>2018-11-01</td>\n",
       "      <td>smart</td>\n",
       "      <td>14.0</td>\n",
       "    </tr>\n",
       "    <tr>\n",
       "      <th>10</th>\n",
       "      <td>1002</td>\n",
       "      <td>6</td>\n",
       "      <td>117.0</td>\n",
       "      <td>15.0</td>\n",
       "      <td>4.0</td>\n",
       "      <td>10856.82</td>\n",
       "      <td>59</td>\n",
       "      <td>NaN</td>\n",
       "      <td>Стерлитамак</td>\n",
       "      <td>Евгений</td>\n",
       "      <td>Абрамович</td>\n",
       "      <td>2018-06-17</td>\n",
       "      <td>smart</td>\n",
       "      <td>11.0</td>\n",
       "    </tr>\n",
       "    <tr>\n",
       "      <th>11</th>\n",
       "      <td>1002</td>\n",
       "      <td>7</td>\n",
       "      <td>214.0</td>\n",
       "      <td>26.0</td>\n",
       "      <td>11.0</td>\n",
       "      <td>17580.10</td>\n",
       "      <td>59</td>\n",
       "      <td>NaN</td>\n",
       "      <td>Стерлитамак</td>\n",
       "      <td>Евгений</td>\n",
       "      <td>Абрамович</td>\n",
       "      <td>2018-06-17</td>\n",
       "      <td>smart</td>\n",
       "      <td>18.0</td>\n",
       "    </tr>\n",
       "    <tr>\n",
       "      <th>12</th>\n",
       "      <td>1002</td>\n",
       "      <td>8</td>\n",
       "      <td>289.0</td>\n",
       "      <td>42.0</td>\n",
       "      <td>13.0</td>\n",
       "      <td>20319.26</td>\n",
       "      <td>59</td>\n",
       "      <td>NaN</td>\n",
       "      <td>Стерлитамак</td>\n",
       "      <td>Евгений</td>\n",
       "      <td>Абрамович</td>\n",
       "      <td>2018-06-17</td>\n",
       "      <td>smart</td>\n",
       "      <td>20.0</td>\n",
       "    </tr>\n",
       "    <tr>\n",
       "      <th>13</th>\n",
       "      <td>1002</td>\n",
       "      <td>9</td>\n",
       "      <td>206.0</td>\n",
       "      <td>36.0</td>\n",
       "      <td>4.0</td>\n",
       "      <td>16691.08</td>\n",
       "      <td>59</td>\n",
       "      <td>NaN</td>\n",
       "      <td>Стерлитамак</td>\n",
       "      <td>Евгений</td>\n",
       "      <td>Абрамович</td>\n",
       "      <td>2018-06-17</td>\n",
       "      <td>smart</td>\n",
       "      <td>17.0</td>\n",
       "    </tr>\n",
       "    <tr>\n",
       "      <th>14</th>\n",
       "      <td>1002</td>\n",
       "      <td>10</td>\n",
       "      <td>212.0</td>\n",
       "      <td>33.0</td>\n",
       "      <td>10.0</td>\n",
       "      <td>13888.25</td>\n",
       "      <td>59</td>\n",
       "      <td>NaN</td>\n",
       "      <td>Стерлитамак</td>\n",
       "      <td>Евгений</td>\n",
       "      <td>Абрамович</td>\n",
       "      <td>2018-06-17</td>\n",
       "      <td>smart</td>\n",
       "      <td>14.0</td>\n",
       "    </tr>\n",
       "  </tbody>\n",
       "</table>\n",
       "</div>"
      ],
      "text/plain": [
       "    user_id  month_x  call_duration  nb_calls  nb_messages  mb_used_total  \\\n",
       "0      1000        5          159.0      22.0         22.0        2253.49   \n",
       "1      1000        6          172.0      43.0         60.0       23233.77   \n",
       "2      1000        7          340.0      47.0         75.0       14003.64   \n",
       "3      1000        8          408.0      52.0         81.0       14055.93   \n",
       "4      1000        9          466.0      58.0         57.0       14568.91   \n",
       "5      1000       10          350.0      57.0         73.0       14702.49   \n",
       "6      1000       11          338.0      43.0         58.0       14756.47   \n",
       "7      1000       12          333.0      46.0         70.0        9817.61   \n",
       "8      1001       11          430.0      59.0          0.0       18429.34   \n",
       "9      1001       12          414.0      63.0          0.0       14036.66   \n",
       "10     1002        6          117.0      15.0          4.0       10856.82   \n",
       "11     1002        7          214.0      26.0         11.0       17580.10   \n",
       "12     1002        8          289.0      42.0         13.0       20319.26   \n",
       "13     1002        9          206.0      36.0          4.0       16691.08   \n",
       "14     1002       10          212.0      33.0         10.0       13888.25   \n",
       "\n",
       "    age churn_date         city first_name  last_name   reg_date tariff  \\\n",
       "0    52        NaN    Краснодар     Рафаил  Верещагин 2018-05-25  ultra   \n",
       "1    52        NaN    Краснодар     Рафаил  Верещагин 2018-05-25  ultra   \n",
       "2    52        NaN    Краснодар     Рафаил  Верещагин 2018-05-25  ultra   \n",
       "3    52        NaN    Краснодар     Рафаил  Верещагин 2018-05-25  ultra   \n",
       "4    52        NaN    Краснодар     Рафаил  Верещагин 2018-05-25  ultra   \n",
       "5    52        NaN    Краснодар     Рафаил  Верещагин 2018-05-25  ultra   \n",
       "6    52        NaN    Краснодар     Рафаил  Верещагин 2018-05-25  ultra   \n",
       "7    52        NaN    Краснодар     Рафаил  Верещагин 2018-05-25  ultra   \n",
       "8    41        NaN       Москва       Иван       Ежов 2018-11-01  smart   \n",
       "9    41        NaN       Москва       Иван       Ежов 2018-11-01  smart   \n",
       "10   59        NaN  Стерлитамак    Евгений  Абрамович 2018-06-17  smart   \n",
       "11   59        NaN  Стерлитамак    Евгений  Абрамович 2018-06-17  smart   \n",
       "12   59        NaN  Стерлитамак    Евгений  Абрамович 2018-06-17  smart   \n",
       "13   59        NaN  Стерлитамак    Евгений  Абрамович 2018-06-17  smart   \n",
       "14   59        NaN  Стерлитамак    Евгений  Абрамович 2018-06-17  smart   \n",
       "\n",
       "    gb_used  \n",
       "0       3.0  \n",
       "1      23.0  \n",
       "2      14.0  \n",
       "3      14.0  \n",
       "4      15.0  \n",
       "5      15.0  \n",
       "6      15.0  \n",
       "7      10.0  \n",
       "8      18.0  \n",
       "9      14.0  \n",
       "10     11.0  \n",
       "11     18.0  \n",
       "12     20.0  \n",
       "13     17.0  \n",
       "14     14.0  "
      ]
     },
     "execution_count": 69,
     "metadata": {},
     "output_type": "execute_result"
    }
   ],
   "source": [
    "data_final.head(15)"
   ]
  },
  {
   "cell_type": "code",
   "execution_count": 70,
   "id": "bc2ef2b0",
   "metadata": {},
   "outputs": [
    {
     "data": {
      "text/plain": [
       "Index(['user_id', 'month_x', 'call_duration', 'nb_calls', 'nb_messages',\n",
       "       'mb_used_total', 'age', 'churn_date', 'city', 'first_name', 'last_name',\n",
       "       'reg_date', 'tariff', 'gb_used'],\n",
       "      dtype='object')"
      ]
     },
     "execution_count": 70,
     "metadata": {},
     "output_type": "execute_result"
    }
   ],
   "source": [
    "data_final.columns"
   ]
  },
  {
   "cell_type": "code",
   "execution_count": 71,
   "id": "ae37d6f7",
   "metadata": {},
   "outputs": [],
   "source": [
    "data_tariffs = data_tariffs.set_index('tariff_name')"
   ]
  },
  {
   "cell_type": "code",
   "execution_count": 72,
   "id": "95343737",
   "metadata": {},
   "outputs": [
    {
     "data": {
      "text/plain": [
       "500"
      ]
     },
     "execution_count": 72,
     "metadata": {},
     "output_type": "execute_result"
    }
   ],
   "source": [
    "data_tariffs.loc['smart','minutes_included']"
   ]
  },
  {
   "cell_type": "code",
   "execution_count": 73,
   "id": "674d86e1",
   "metadata": {},
   "outputs": [],
   "source": [
    "def extra_cost_calls(row):\n",
    "    extra_calls_price =0\n",
    "    extra_messages_price = 0\n",
    "    extra_internet_price = 0\n",
    "    actual_tariff = row['tariff']\n",
    "    \n",
    "    \n",
    "    if row['call_duration']>data_tariffs.loc[actual_tariff,'minutes_included']:\n",
    "        acttual_call_expenses = np.ceil(row['call_duration'] - data_tariffs.loc[actual_tariff,'minutes_included'])*data_tariffs.loc[actual_tariff,'rub_per_minute']+data_tariffs.loc[actual_tariff,'rub_monthly_fee']\n",
    "        extra_calls_price = extra_calls_price+acttual_call_expenses\n",
    "    else:\n",
    "        extra_calls_price = data_tariffs.loc[actual_tariff,'rub_monthly_fee']\n",
    "    return extra_calls_price"
   ]
  },
  {
   "cell_type": "code",
   "execution_count": 74,
   "id": "ce2f45bf",
   "metadata": {},
   "outputs": [],
   "source": [
    "data_final['cost_call'] = data_final.apply(extra_cost_calls, axis = 1)"
   ]
  },
  {
   "cell_type": "code",
   "execution_count": 75,
   "id": "411ba078",
   "metadata": {},
   "outputs": [
    {
     "data": {
      "text/html": [
       "<div>\n",
       "<style scoped>\n",
       "    .dataframe tbody tr th:only-of-type {\n",
       "        vertical-align: middle;\n",
       "    }\n",
       "\n",
       "    .dataframe tbody tr th {\n",
       "        vertical-align: top;\n",
       "    }\n",
       "\n",
       "    .dataframe thead th {\n",
       "        text-align: right;\n",
       "    }\n",
       "</style>\n",
       "<table border=\"1\" class=\"dataframe\">\n",
       "  <thead>\n",
       "    <tr style=\"text-align: right;\">\n",
       "      <th></th>\n",
       "      <th>messages_included</th>\n",
       "      <th>mb_per_month_included</th>\n",
       "      <th>minutes_included</th>\n",
       "      <th>rub_monthly_fee</th>\n",
       "      <th>rub_per_gb</th>\n",
       "      <th>rub_per_message</th>\n",
       "      <th>rub_per_minute</th>\n",
       "      <th>gb_per_month_included</th>\n",
       "    </tr>\n",
       "    <tr>\n",
       "      <th>tariff_name</th>\n",
       "      <th></th>\n",
       "      <th></th>\n",
       "      <th></th>\n",
       "      <th></th>\n",
       "      <th></th>\n",
       "      <th></th>\n",
       "      <th></th>\n",
       "      <th></th>\n",
       "    </tr>\n",
       "  </thead>\n",
       "  <tbody>\n",
       "    <tr>\n",
       "      <th>smart</th>\n",
       "      <td>50</td>\n",
       "      <td>15360</td>\n",
       "      <td>500</td>\n",
       "      <td>550</td>\n",
       "      <td>200</td>\n",
       "      <td>3</td>\n",
       "      <td>3</td>\n",
       "      <td>15.0</td>\n",
       "    </tr>\n",
       "    <tr>\n",
       "      <th>ultra</th>\n",
       "      <td>1000</td>\n",
       "      <td>30720</td>\n",
       "      <td>3000</td>\n",
       "      <td>1950</td>\n",
       "      <td>150</td>\n",
       "      <td>1</td>\n",
       "      <td>1</td>\n",
       "      <td>30.0</td>\n",
       "    </tr>\n",
       "  </tbody>\n",
       "</table>\n",
       "</div>"
      ],
      "text/plain": [
       "             messages_included  mb_per_month_included  minutes_included  \\\n",
       "tariff_name                                                               \n",
       "smart                       50                  15360               500   \n",
       "ultra                     1000                  30720              3000   \n",
       "\n",
       "             rub_monthly_fee  rub_per_gb  rub_per_message  rub_per_minute  \\\n",
       "tariff_name                                                                 \n",
       "smart                    550         200                3               3   \n",
       "ultra                   1950         150                1               1   \n",
       "\n",
       "             gb_per_month_included  \n",
       "tariff_name                         \n",
       "smart                         15.0  \n",
       "ultra                         30.0  "
      ]
     },
     "execution_count": 75,
     "metadata": {},
     "output_type": "execute_result"
    }
   ],
   "source": [
    "data_tariffs"
   ]
  },
  {
   "cell_type": "code",
   "execution_count": 76,
   "id": "59372b20",
   "metadata": {},
   "outputs": [
    {
     "data": {
      "text/html": [
       "<div>\n",
       "<style scoped>\n",
       "    .dataframe tbody tr th:only-of-type {\n",
       "        vertical-align: middle;\n",
       "    }\n",
       "\n",
       "    .dataframe tbody tr th {\n",
       "        vertical-align: top;\n",
       "    }\n",
       "\n",
       "    .dataframe thead th {\n",
       "        text-align: right;\n",
       "    }\n",
       "</style>\n",
       "<table border=\"1\" class=\"dataframe\">\n",
       "  <thead>\n",
       "    <tr style=\"text-align: right;\">\n",
       "      <th></th>\n",
       "      <th>user_id</th>\n",
       "      <th>month_x</th>\n",
       "      <th>call_duration</th>\n",
       "      <th>nb_calls</th>\n",
       "      <th>nb_messages</th>\n",
       "      <th>mb_used_total</th>\n",
       "      <th>age</th>\n",
       "      <th>churn_date</th>\n",
       "      <th>city</th>\n",
       "      <th>first_name</th>\n",
       "      <th>last_name</th>\n",
       "      <th>reg_date</th>\n",
       "      <th>tariff</th>\n",
       "      <th>gb_used</th>\n",
       "      <th>cost_call</th>\n",
       "    </tr>\n",
       "  </thead>\n",
       "  <tbody>\n",
       "    <tr>\n",
       "      <th>0</th>\n",
       "      <td>1000</td>\n",
       "      <td>5</td>\n",
       "      <td>159.0</td>\n",
       "      <td>22.0</td>\n",
       "      <td>22.0</td>\n",
       "      <td>2253.49</td>\n",
       "      <td>52</td>\n",
       "      <td>NaN</td>\n",
       "      <td>Краснодар</td>\n",
       "      <td>Рафаил</td>\n",
       "      <td>Верещагин</td>\n",
       "      <td>2018-05-25</td>\n",
       "      <td>ultra</td>\n",
       "      <td>3.0</td>\n",
       "      <td>1950.0</td>\n",
       "    </tr>\n",
       "    <tr>\n",
       "      <th>1</th>\n",
       "      <td>1000</td>\n",
       "      <td>6</td>\n",
       "      <td>172.0</td>\n",
       "      <td>43.0</td>\n",
       "      <td>60.0</td>\n",
       "      <td>23233.77</td>\n",
       "      <td>52</td>\n",
       "      <td>NaN</td>\n",
       "      <td>Краснодар</td>\n",
       "      <td>Рафаил</td>\n",
       "      <td>Верещагин</td>\n",
       "      <td>2018-05-25</td>\n",
       "      <td>ultra</td>\n",
       "      <td>23.0</td>\n",
       "      <td>1950.0</td>\n",
       "    </tr>\n",
       "    <tr>\n",
       "      <th>2</th>\n",
       "      <td>1000</td>\n",
       "      <td>7</td>\n",
       "      <td>340.0</td>\n",
       "      <td>47.0</td>\n",
       "      <td>75.0</td>\n",
       "      <td>14003.64</td>\n",
       "      <td>52</td>\n",
       "      <td>NaN</td>\n",
       "      <td>Краснодар</td>\n",
       "      <td>Рафаил</td>\n",
       "      <td>Верещагин</td>\n",
       "      <td>2018-05-25</td>\n",
       "      <td>ultra</td>\n",
       "      <td>14.0</td>\n",
       "      <td>1950.0</td>\n",
       "    </tr>\n",
       "    <tr>\n",
       "      <th>3</th>\n",
       "      <td>1000</td>\n",
       "      <td>8</td>\n",
       "      <td>408.0</td>\n",
       "      <td>52.0</td>\n",
       "      <td>81.0</td>\n",
       "      <td>14055.93</td>\n",
       "      <td>52</td>\n",
       "      <td>NaN</td>\n",
       "      <td>Краснодар</td>\n",
       "      <td>Рафаил</td>\n",
       "      <td>Верещагин</td>\n",
       "      <td>2018-05-25</td>\n",
       "      <td>ultra</td>\n",
       "      <td>14.0</td>\n",
       "      <td>1950.0</td>\n",
       "    </tr>\n",
       "    <tr>\n",
       "      <th>4</th>\n",
       "      <td>1000</td>\n",
       "      <td>9</td>\n",
       "      <td>466.0</td>\n",
       "      <td>58.0</td>\n",
       "      <td>57.0</td>\n",
       "      <td>14568.91</td>\n",
       "      <td>52</td>\n",
       "      <td>NaN</td>\n",
       "      <td>Краснодар</td>\n",
       "      <td>Рафаил</td>\n",
       "      <td>Верещагин</td>\n",
       "      <td>2018-05-25</td>\n",
       "      <td>ultra</td>\n",
       "      <td>15.0</td>\n",
       "      <td>1950.0</td>\n",
       "    </tr>\n",
       "    <tr>\n",
       "      <th>...</th>\n",
       "      <td>...</td>\n",
       "      <td>...</td>\n",
       "      <td>...</td>\n",
       "      <td>...</td>\n",
       "      <td>...</td>\n",
       "      <td>...</td>\n",
       "      <td>...</td>\n",
       "      <td>...</td>\n",
       "      <td>...</td>\n",
       "      <td>...</td>\n",
       "      <td>...</td>\n",
       "      <td>...</td>\n",
       "      <td>...</td>\n",
       "      <td>...</td>\n",
       "      <td>...</td>\n",
       "    </tr>\n",
       "    <tr>\n",
       "      <th>3209</th>\n",
       "      <td>1489</td>\n",
       "      <td>8</td>\n",
       "      <td>0.0</td>\n",
       "      <td>NaN</td>\n",
       "      <td>17.0</td>\n",
       "      <td>11050.56</td>\n",
       "      <td>35</td>\n",
       "      <td>NaN</td>\n",
       "      <td>Санкт-Петербург</td>\n",
       "      <td>Павел</td>\n",
       "      <td>Гончаров</td>\n",
       "      <td>2018-08-15</td>\n",
       "      <td>smart</td>\n",
       "      <td>11.0</td>\n",
       "      <td>550.0</td>\n",
       "    </tr>\n",
       "    <tr>\n",
       "      <th>3210</th>\n",
       "      <td>1489</td>\n",
       "      <td>9</td>\n",
       "      <td>0.0</td>\n",
       "      <td>NaN</td>\n",
       "      <td>32.0</td>\n",
       "      <td>17206.30</td>\n",
       "      <td>35</td>\n",
       "      <td>NaN</td>\n",
       "      <td>Санкт-Петербург</td>\n",
       "      <td>Павел</td>\n",
       "      <td>Гончаров</td>\n",
       "      <td>2018-08-15</td>\n",
       "      <td>smart</td>\n",
       "      <td>17.0</td>\n",
       "      <td>550.0</td>\n",
       "    </tr>\n",
       "    <tr>\n",
       "      <th>3211</th>\n",
       "      <td>1489</td>\n",
       "      <td>10</td>\n",
       "      <td>0.0</td>\n",
       "      <td>NaN</td>\n",
       "      <td>21.0</td>\n",
       "      <td>19559.44</td>\n",
       "      <td>35</td>\n",
       "      <td>NaN</td>\n",
       "      <td>Санкт-Петербург</td>\n",
       "      <td>Павел</td>\n",
       "      <td>Гончаров</td>\n",
       "      <td>2018-08-15</td>\n",
       "      <td>smart</td>\n",
       "      <td>20.0</td>\n",
       "      <td>550.0</td>\n",
       "    </tr>\n",
       "    <tr>\n",
       "      <th>3212</th>\n",
       "      <td>1489</td>\n",
       "      <td>11</td>\n",
       "      <td>0.0</td>\n",
       "      <td>NaN</td>\n",
       "      <td>20.0</td>\n",
       "      <td>17491.56</td>\n",
       "      <td>35</td>\n",
       "      <td>NaN</td>\n",
       "      <td>Санкт-Петербург</td>\n",
       "      <td>Павел</td>\n",
       "      <td>Гончаров</td>\n",
       "      <td>2018-08-15</td>\n",
       "      <td>smart</td>\n",
       "      <td>18.0</td>\n",
       "      <td>550.0</td>\n",
       "    </tr>\n",
       "    <tr>\n",
       "      <th>3213</th>\n",
       "      <td>1489</td>\n",
       "      <td>12</td>\n",
       "      <td>0.0</td>\n",
       "      <td>NaN</td>\n",
       "      <td>35.0</td>\n",
       "      <td>17322.51</td>\n",
       "      <td>35</td>\n",
       "      <td>NaN</td>\n",
       "      <td>Санкт-Петербург</td>\n",
       "      <td>Павел</td>\n",
       "      <td>Гончаров</td>\n",
       "      <td>2018-08-15</td>\n",
       "      <td>smart</td>\n",
       "      <td>17.0</td>\n",
       "      <td>550.0</td>\n",
       "    </tr>\n",
       "  </tbody>\n",
       "</table>\n",
       "<p>3214 rows × 15 columns</p>\n",
       "</div>"
      ],
      "text/plain": [
       "      user_id  month_x  call_duration  nb_calls  nb_messages  mb_used_total  \\\n",
       "0        1000        5          159.0      22.0         22.0        2253.49   \n",
       "1        1000        6          172.0      43.0         60.0       23233.77   \n",
       "2        1000        7          340.0      47.0         75.0       14003.64   \n",
       "3        1000        8          408.0      52.0         81.0       14055.93   \n",
       "4        1000        9          466.0      58.0         57.0       14568.91   \n",
       "...       ...      ...            ...       ...          ...            ...   \n",
       "3209     1489        8            0.0       NaN         17.0       11050.56   \n",
       "3210     1489        9            0.0       NaN         32.0       17206.30   \n",
       "3211     1489       10            0.0       NaN         21.0       19559.44   \n",
       "3212     1489       11            0.0       NaN         20.0       17491.56   \n",
       "3213     1489       12            0.0       NaN         35.0       17322.51   \n",
       "\n",
       "      age churn_date             city first_name  last_name   reg_date tariff  \\\n",
       "0      52        NaN        Краснодар     Рафаил  Верещагин 2018-05-25  ultra   \n",
       "1      52        NaN        Краснодар     Рафаил  Верещагин 2018-05-25  ultra   \n",
       "2      52        NaN        Краснодар     Рафаил  Верещагин 2018-05-25  ultra   \n",
       "3      52        NaN        Краснодар     Рафаил  Верещагин 2018-05-25  ultra   \n",
       "4      52        NaN        Краснодар     Рафаил  Верещагин 2018-05-25  ultra   \n",
       "...   ...        ...              ...        ...        ...        ...    ...   \n",
       "3209   35        NaN  Санкт-Петербург      Павел   Гончаров 2018-08-15  smart   \n",
       "3210   35        NaN  Санкт-Петербург      Павел   Гончаров 2018-08-15  smart   \n",
       "3211   35        NaN  Санкт-Петербург      Павел   Гончаров 2018-08-15  smart   \n",
       "3212   35        NaN  Санкт-Петербург      Павел   Гончаров 2018-08-15  smart   \n",
       "3213   35        NaN  Санкт-Петербург      Павел   Гончаров 2018-08-15  smart   \n",
       "\n",
       "      gb_used  cost_call  \n",
       "0         3.0     1950.0  \n",
       "1        23.0     1950.0  \n",
       "2        14.0     1950.0  \n",
       "3        14.0     1950.0  \n",
       "4        15.0     1950.0  \n",
       "...       ...        ...  \n",
       "3209     11.0      550.0  \n",
       "3210     17.0      550.0  \n",
       "3211     20.0      550.0  \n",
       "3212     18.0      550.0  \n",
       "3213     17.0      550.0  \n",
       "\n",
       "[3214 rows x 15 columns]"
      ]
     },
     "execution_count": 76,
     "metadata": {},
     "output_type": "execute_result"
    }
   ],
   "source": [
    "data_final"
   ]
  },
  {
   "cell_type": "code",
   "execution_count": 77,
   "id": "cac5cf26",
   "metadata": {},
   "outputs": [
    {
     "data": {
      "text/plain": [
       "3424917"
      ]
     },
     "execution_count": 77,
     "metadata": {},
     "output_type": "execute_result"
    }
   ],
   "source": [
    "int(data_final['cost_call'].sum())"
   ]
  },
  {
   "cell_type": "markdown",
   "id": "35244d7c",
   "metadata": {},
   "source": [
    "<div class=\"alert alert-danger\"; style=\"border-left: 7px solid red\">\n",
    "<h3>👀 Комментарий ревьюера</h3>\n",
    "    \n",
    "ниже у тебя дублируется код и данные из таблицы с тарифами, так легче наделать ошибок и опечаток. Информация о тарифах есть в табличке `data_tariffs`, поэтому логично обращаться прямо к ней. Для этого удобно сделать `data_tariffs = data_tariffs.set_index('tariff_name')`. Тогда обращаться можно будет как `data_tariffs.loc[actual_tariff,'minutes_included']` и т.п. Альтернативно можно объединить `data_final` и `data_tariffs`, тогда вся нужная информация будет в одной строке\n",
    "</div>    \n"
   ]
  },
  {
   "cell_type": "markdown",
   "id": "4d0d3f86",
   "metadata": {},
   "source": [
    "<div class = \"alert alert-info\" style=\"border-left: 7px solid blue\">\n",
    "<h3>Комментарий студента</h3>\n",
    "\n",
    "потеоял пол дня,\n",
    "\n",
    "вы можете дать пример или обяснить где мне в функции писать:data_tariffs = data_tariffs.set_index('tariff_name') И потом data_tariffs.loc[actual_tariff,'minutes_included']\n",
    "    \n",
    "    как я не писал, мне дает следуйщие:\n",
    "    KeyError: 'actual_tariff' или \"Local Variable Referenced Before Assignment in Python\"\n",
    "    \n",
    "    внутри функции, как ссыллатся на data_tariffs?\n",
    "    \n",
    "    чтобф ийти дальше я выбрал Альтернативный вариант -  объединить data_final и data_tariffs\n",
    "    \n",
    "</div>"
   ]
  },
  {
   "cell_type": "markdown",
   "id": "b2e10eb7",
   "metadata": {},
   "source": [
    "не работает !\n",
    "\n",
    "\n",
    "data_tariffs = data_tariffs.set_index('tariff_name')\n",
    "\n",
    "\n",
    "def revenue_minutes_extra_tariff(row):\n",
    "    minutes_spent = row['call_duration']\n",
    "    actual_tariff = row['tariff']\n",
    "    \n",
    "    data_tariffs = data_tariffs.set_index('tariff_name')\n",
    "    minutes_inlcuded_tariff = data_tariffs.loc['actual_tariff','minutes_included']    \n",
    "    rub_per_minute_fee = data_tariffs.loc['actual_tariff','rub_per_minute']\n",
    "    \n",
    "    \n",
    "    \n",
    "    if actual_tariff == 'ultra' and minutes_spent > minutes_inlcuded_tariff:\n",
    "        return (minutes_spent - minutes_inlcuded_tariff)*rub_per_minute_fee\n",
    "    if actual_tariff == 'smart' and minutes_spent > minutes_inlcuded_tariff:\n",
    "        return (minutes_spent - minutes_inlcuded_tariff)*rub_per_minute_fee\n",
    "    else:\n",
    "        return 0"
   ]
  },
  {
   "cell_type": "markdown",
   "id": "e9288bf2",
   "metadata": {},
   "source": [
    "<div class=\"alert alert-success\"; style=\"border-left: 7px solid green\">\n",
    "<h3>✔ Комментарий ревьюера V.2</h3>\n",
    "    \n",
    "`actual_tariff` это была переменная внутри твоей первоначальной функции, выше справедливо ругается на то, что такого ключа в датафрейме нет. Соответственно передавать в `.loc` нужно переменную, а не строку:\n",
    " \n",
    "    \n",
    "     - вы имеете ввиду row[row['tariff']] ?... - так тоже не работатет... вы можете пожалуйста написать код который работает? \n",
    "    \n",
    "    \n",
    "```python\n",
    "    \n",
    "data_tariffs = data_tariffs.set_index('tariff_name')\n",
    "   \n",
    "def user_month_profit(row):\n",
    "    extra_calls_price = 0\n",
    "    extra_messages_price = 0\n",
    "    extra_internet_price = 0\n",
    "    \n",
    "    actual_tariff = row['tariff']\n",
    "    \n",
    "    if row['call_duration'] > data_tariffs.loc[actual_tariff, 'minutes_included']:\n",
    "        extra_calls_duration = row['call_duration'] - data_tariffs.loc[actual_tariff, 'minutes_included']\n",
    "        extra_calls_price = extra_calls_duration * data_tariffs.loc[actual_tariff, 'rub_per_minute']\n",
    "    ...\n",
    "    \n",
    "```\n",
    "</div>    \n"
   ]
  },
  {
   "cell_type": "code",
   "execution_count": 78,
   "id": "85ea3f43",
   "metadata": {},
   "outputs": [
    {
     "data": {
      "text/plain": [
       "0       ultra\n",
       "1       ultra\n",
       "2       ultra\n",
       "3       ultra\n",
       "4       ultra\n",
       "        ...  \n",
       "3209    smart\n",
       "3210    smart\n",
       "3211    smart\n",
       "3212    smart\n",
       "3213    smart\n",
       "Name: tariff, Length: 3214, dtype: object"
      ]
     },
     "execution_count": 78,
     "metadata": {},
     "output_type": "execute_result"
    }
   ],
   "source": [
    "data_final['tariff']"
   ]
  },
  {
   "cell_type": "markdown",
   "id": "382cfb88",
   "metadata": {},
   "source": [
    " - создою общию назвния столбца  чтоьы объединить data_final и data_tariffs"
   ]
  },
  {
   "cell_type": "code",
   "execution_count": 79,
   "id": "2ed26cca",
   "metadata": {},
   "outputs": [],
   "source": [
    "data_tariffs = data_tariffs.rename(columns = {'tariff_name':'tariff'}).reset_index()"
   ]
  },
  {
   "cell_type": "code",
   "execution_count": 80,
   "id": "ae5bd9c0",
   "metadata": {},
   "outputs": [
    {
     "data": {
      "text/html": [
       "<div>\n",
       "<style scoped>\n",
       "    .dataframe tbody tr th:only-of-type {\n",
       "        vertical-align: middle;\n",
       "    }\n",
       "\n",
       "    .dataframe tbody tr th {\n",
       "        vertical-align: top;\n",
       "    }\n",
       "\n",
       "    .dataframe thead th {\n",
       "        text-align: right;\n",
       "    }\n",
       "</style>\n",
       "<table border=\"1\" class=\"dataframe\">\n",
       "  <thead>\n",
       "    <tr style=\"text-align: right;\">\n",
       "      <th></th>\n",
       "      <th>tariff_name</th>\n",
       "      <th>messages_included</th>\n",
       "      <th>mb_per_month_included</th>\n",
       "      <th>minutes_included</th>\n",
       "      <th>rub_monthly_fee</th>\n",
       "      <th>rub_per_gb</th>\n",
       "      <th>rub_per_message</th>\n",
       "      <th>rub_per_minute</th>\n",
       "      <th>gb_per_month_included</th>\n",
       "    </tr>\n",
       "  </thead>\n",
       "  <tbody>\n",
       "    <tr>\n",
       "      <th>0</th>\n",
       "      <td>smart</td>\n",
       "      <td>50</td>\n",
       "      <td>15360</td>\n",
       "      <td>500</td>\n",
       "      <td>550</td>\n",
       "      <td>200</td>\n",
       "      <td>3</td>\n",
       "      <td>3</td>\n",
       "      <td>15.0</td>\n",
       "    </tr>\n",
       "    <tr>\n",
       "      <th>1</th>\n",
       "      <td>ultra</td>\n",
       "      <td>1000</td>\n",
       "      <td>30720</td>\n",
       "      <td>3000</td>\n",
       "      <td>1950</td>\n",
       "      <td>150</td>\n",
       "      <td>1</td>\n",
       "      <td>1</td>\n",
       "      <td>30.0</td>\n",
       "    </tr>\n",
       "  </tbody>\n",
       "</table>\n",
       "</div>"
      ],
      "text/plain": [
       "  tariff_name  messages_included  mb_per_month_included  minutes_included  \\\n",
       "0       smart                 50                  15360               500   \n",
       "1       ultra               1000                  30720              3000   \n",
       "\n",
       "   rub_monthly_fee  rub_per_gb  rub_per_message  rub_per_minute  \\\n",
       "0              550         200                3               3   \n",
       "1             1950         150                1               1   \n",
       "\n",
       "   gb_per_month_included  \n",
       "0                   15.0  \n",
       "1                   30.0  "
      ]
     },
     "execution_count": 80,
     "metadata": {},
     "output_type": "execute_result"
    }
   ],
   "source": [
    "data_tariffs"
   ]
  },
  {
   "cell_type": "code",
   "execution_count": 81,
   "id": "858b8b73",
   "metadata": {},
   "outputs": [],
   "source": [
    "data_final = data_final.merge(data_tariffs, left_on = 'tariff',right_on = 'tariff_name', how = 'left')"
   ]
  },
  {
   "cell_type": "code",
   "execution_count": 82,
   "id": "55167aba",
   "metadata": {},
   "outputs": [
    {
     "data": {
      "text/html": [
       "<div>\n",
       "<style scoped>\n",
       "    .dataframe tbody tr th:only-of-type {\n",
       "        vertical-align: middle;\n",
       "    }\n",
       "\n",
       "    .dataframe tbody tr th {\n",
       "        vertical-align: top;\n",
       "    }\n",
       "\n",
       "    .dataframe thead th {\n",
       "        text-align: right;\n",
       "    }\n",
       "</style>\n",
       "<table border=\"1\" class=\"dataframe\">\n",
       "  <thead>\n",
       "    <tr style=\"text-align: right;\">\n",
       "      <th></th>\n",
       "      <th>user_id</th>\n",
       "      <th>month_x</th>\n",
       "      <th>call_duration</th>\n",
       "      <th>nb_calls</th>\n",
       "      <th>nb_messages</th>\n",
       "      <th>mb_used_total</th>\n",
       "      <th>age</th>\n",
       "      <th>churn_date</th>\n",
       "      <th>city</th>\n",
       "      <th>first_name</th>\n",
       "      <th>...</th>\n",
       "      <th>cost_call</th>\n",
       "      <th>tariff_name</th>\n",
       "      <th>messages_included</th>\n",
       "      <th>mb_per_month_included</th>\n",
       "      <th>minutes_included</th>\n",
       "      <th>rub_monthly_fee</th>\n",
       "      <th>rub_per_gb</th>\n",
       "      <th>rub_per_message</th>\n",
       "      <th>rub_per_minute</th>\n",
       "      <th>gb_per_month_included</th>\n",
       "    </tr>\n",
       "  </thead>\n",
       "  <tbody>\n",
       "    <tr>\n",
       "      <th>0</th>\n",
       "      <td>1000</td>\n",
       "      <td>5</td>\n",
       "      <td>159.0</td>\n",
       "      <td>22.0</td>\n",
       "      <td>22.0</td>\n",
       "      <td>2253.49</td>\n",
       "      <td>52</td>\n",
       "      <td>NaN</td>\n",
       "      <td>Краснодар</td>\n",
       "      <td>Рафаил</td>\n",
       "      <td>...</td>\n",
       "      <td>1950.0</td>\n",
       "      <td>ultra</td>\n",
       "      <td>1000</td>\n",
       "      <td>30720</td>\n",
       "      <td>3000</td>\n",
       "      <td>1950</td>\n",
       "      <td>150</td>\n",
       "      <td>1</td>\n",
       "      <td>1</td>\n",
       "      <td>30.0</td>\n",
       "    </tr>\n",
       "    <tr>\n",
       "      <th>1</th>\n",
       "      <td>1000</td>\n",
       "      <td>6</td>\n",
       "      <td>172.0</td>\n",
       "      <td>43.0</td>\n",
       "      <td>60.0</td>\n",
       "      <td>23233.77</td>\n",
       "      <td>52</td>\n",
       "      <td>NaN</td>\n",
       "      <td>Краснодар</td>\n",
       "      <td>Рафаил</td>\n",
       "      <td>...</td>\n",
       "      <td>1950.0</td>\n",
       "      <td>ultra</td>\n",
       "      <td>1000</td>\n",
       "      <td>30720</td>\n",
       "      <td>3000</td>\n",
       "      <td>1950</td>\n",
       "      <td>150</td>\n",
       "      <td>1</td>\n",
       "      <td>1</td>\n",
       "      <td>30.0</td>\n",
       "    </tr>\n",
       "    <tr>\n",
       "      <th>2</th>\n",
       "      <td>1000</td>\n",
       "      <td>7</td>\n",
       "      <td>340.0</td>\n",
       "      <td>47.0</td>\n",
       "      <td>75.0</td>\n",
       "      <td>14003.64</td>\n",
       "      <td>52</td>\n",
       "      <td>NaN</td>\n",
       "      <td>Краснодар</td>\n",
       "      <td>Рафаил</td>\n",
       "      <td>...</td>\n",
       "      <td>1950.0</td>\n",
       "      <td>ultra</td>\n",
       "      <td>1000</td>\n",
       "      <td>30720</td>\n",
       "      <td>3000</td>\n",
       "      <td>1950</td>\n",
       "      <td>150</td>\n",
       "      <td>1</td>\n",
       "      <td>1</td>\n",
       "      <td>30.0</td>\n",
       "    </tr>\n",
       "    <tr>\n",
       "      <th>3</th>\n",
       "      <td>1000</td>\n",
       "      <td>8</td>\n",
       "      <td>408.0</td>\n",
       "      <td>52.0</td>\n",
       "      <td>81.0</td>\n",
       "      <td>14055.93</td>\n",
       "      <td>52</td>\n",
       "      <td>NaN</td>\n",
       "      <td>Краснодар</td>\n",
       "      <td>Рафаил</td>\n",
       "      <td>...</td>\n",
       "      <td>1950.0</td>\n",
       "      <td>ultra</td>\n",
       "      <td>1000</td>\n",
       "      <td>30720</td>\n",
       "      <td>3000</td>\n",
       "      <td>1950</td>\n",
       "      <td>150</td>\n",
       "      <td>1</td>\n",
       "      <td>1</td>\n",
       "      <td>30.0</td>\n",
       "    </tr>\n",
       "    <tr>\n",
       "      <th>4</th>\n",
       "      <td>1000</td>\n",
       "      <td>9</td>\n",
       "      <td>466.0</td>\n",
       "      <td>58.0</td>\n",
       "      <td>57.0</td>\n",
       "      <td>14568.91</td>\n",
       "      <td>52</td>\n",
       "      <td>NaN</td>\n",
       "      <td>Краснодар</td>\n",
       "      <td>Рафаил</td>\n",
       "      <td>...</td>\n",
       "      <td>1950.0</td>\n",
       "      <td>ultra</td>\n",
       "      <td>1000</td>\n",
       "      <td>30720</td>\n",
       "      <td>3000</td>\n",
       "      <td>1950</td>\n",
       "      <td>150</td>\n",
       "      <td>1</td>\n",
       "      <td>1</td>\n",
       "      <td>30.0</td>\n",
       "    </tr>\n",
       "    <tr>\n",
       "      <th>...</th>\n",
       "      <td>...</td>\n",
       "      <td>...</td>\n",
       "      <td>...</td>\n",
       "      <td>...</td>\n",
       "      <td>...</td>\n",
       "      <td>...</td>\n",
       "      <td>...</td>\n",
       "      <td>...</td>\n",
       "      <td>...</td>\n",
       "      <td>...</td>\n",
       "      <td>...</td>\n",
       "      <td>...</td>\n",
       "      <td>...</td>\n",
       "      <td>...</td>\n",
       "      <td>...</td>\n",
       "      <td>...</td>\n",
       "      <td>...</td>\n",
       "      <td>...</td>\n",
       "      <td>...</td>\n",
       "      <td>...</td>\n",
       "      <td>...</td>\n",
       "    </tr>\n",
       "    <tr>\n",
       "      <th>3209</th>\n",
       "      <td>1489</td>\n",
       "      <td>8</td>\n",
       "      <td>0.0</td>\n",
       "      <td>NaN</td>\n",
       "      <td>17.0</td>\n",
       "      <td>11050.56</td>\n",
       "      <td>35</td>\n",
       "      <td>NaN</td>\n",
       "      <td>Санкт-Петербург</td>\n",
       "      <td>Павел</td>\n",
       "      <td>...</td>\n",
       "      <td>550.0</td>\n",
       "      <td>smart</td>\n",
       "      <td>50</td>\n",
       "      <td>15360</td>\n",
       "      <td>500</td>\n",
       "      <td>550</td>\n",
       "      <td>200</td>\n",
       "      <td>3</td>\n",
       "      <td>3</td>\n",
       "      <td>15.0</td>\n",
       "    </tr>\n",
       "    <tr>\n",
       "      <th>3210</th>\n",
       "      <td>1489</td>\n",
       "      <td>9</td>\n",
       "      <td>0.0</td>\n",
       "      <td>NaN</td>\n",
       "      <td>32.0</td>\n",
       "      <td>17206.30</td>\n",
       "      <td>35</td>\n",
       "      <td>NaN</td>\n",
       "      <td>Санкт-Петербург</td>\n",
       "      <td>Павел</td>\n",
       "      <td>...</td>\n",
       "      <td>550.0</td>\n",
       "      <td>smart</td>\n",
       "      <td>50</td>\n",
       "      <td>15360</td>\n",
       "      <td>500</td>\n",
       "      <td>550</td>\n",
       "      <td>200</td>\n",
       "      <td>3</td>\n",
       "      <td>3</td>\n",
       "      <td>15.0</td>\n",
       "    </tr>\n",
       "    <tr>\n",
       "      <th>3211</th>\n",
       "      <td>1489</td>\n",
       "      <td>10</td>\n",
       "      <td>0.0</td>\n",
       "      <td>NaN</td>\n",
       "      <td>21.0</td>\n",
       "      <td>19559.44</td>\n",
       "      <td>35</td>\n",
       "      <td>NaN</td>\n",
       "      <td>Санкт-Петербург</td>\n",
       "      <td>Павел</td>\n",
       "      <td>...</td>\n",
       "      <td>550.0</td>\n",
       "      <td>smart</td>\n",
       "      <td>50</td>\n",
       "      <td>15360</td>\n",
       "      <td>500</td>\n",
       "      <td>550</td>\n",
       "      <td>200</td>\n",
       "      <td>3</td>\n",
       "      <td>3</td>\n",
       "      <td>15.0</td>\n",
       "    </tr>\n",
       "    <tr>\n",
       "      <th>3212</th>\n",
       "      <td>1489</td>\n",
       "      <td>11</td>\n",
       "      <td>0.0</td>\n",
       "      <td>NaN</td>\n",
       "      <td>20.0</td>\n",
       "      <td>17491.56</td>\n",
       "      <td>35</td>\n",
       "      <td>NaN</td>\n",
       "      <td>Санкт-Петербург</td>\n",
       "      <td>Павел</td>\n",
       "      <td>...</td>\n",
       "      <td>550.0</td>\n",
       "      <td>smart</td>\n",
       "      <td>50</td>\n",
       "      <td>15360</td>\n",
       "      <td>500</td>\n",
       "      <td>550</td>\n",
       "      <td>200</td>\n",
       "      <td>3</td>\n",
       "      <td>3</td>\n",
       "      <td>15.0</td>\n",
       "    </tr>\n",
       "    <tr>\n",
       "      <th>3213</th>\n",
       "      <td>1489</td>\n",
       "      <td>12</td>\n",
       "      <td>0.0</td>\n",
       "      <td>NaN</td>\n",
       "      <td>35.0</td>\n",
       "      <td>17322.51</td>\n",
       "      <td>35</td>\n",
       "      <td>NaN</td>\n",
       "      <td>Санкт-Петербург</td>\n",
       "      <td>Павел</td>\n",
       "      <td>...</td>\n",
       "      <td>550.0</td>\n",
       "      <td>smart</td>\n",
       "      <td>50</td>\n",
       "      <td>15360</td>\n",
       "      <td>500</td>\n",
       "      <td>550</td>\n",
       "      <td>200</td>\n",
       "      <td>3</td>\n",
       "      <td>3</td>\n",
       "      <td>15.0</td>\n",
       "    </tr>\n",
       "  </tbody>\n",
       "</table>\n",
       "<p>3214 rows × 24 columns</p>\n",
       "</div>"
      ],
      "text/plain": [
       "      user_id  month_x  call_duration  nb_calls  nb_messages  mb_used_total  \\\n",
       "0        1000        5          159.0      22.0         22.0        2253.49   \n",
       "1        1000        6          172.0      43.0         60.0       23233.77   \n",
       "2        1000        7          340.0      47.0         75.0       14003.64   \n",
       "3        1000        8          408.0      52.0         81.0       14055.93   \n",
       "4        1000        9          466.0      58.0         57.0       14568.91   \n",
       "...       ...      ...            ...       ...          ...            ...   \n",
       "3209     1489        8            0.0       NaN         17.0       11050.56   \n",
       "3210     1489        9            0.0       NaN         32.0       17206.30   \n",
       "3211     1489       10            0.0       NaN         21.0       19559.44   \n",
       "3212     1489       11            0.0       NaN         20.0       17491.56   \n",
       "3213     1489       12            0.0       NaN         35.0       17322.51   \n",
       "\n",
       "      age churn_date             city first_name  ... cost_call tariff_name  \\\n",
       "0      52        NaN        Краснодар     Рафаил  ...    1950.0       ultra   \n",
       "1      52        NaN        Краснодар     Рафаил  ...    1950.0       ultra   \n",
       "2      52        NaN        Краснодар     Рафаил  ...    1950.0       ultra   \n",
       "3      52        NaN        Краснодар     Рафаил  ...    1950.0       ultra   \n",
       "4      52        NaN        Краснодар     Рафаил  ...    1950.0       ultra   \n",
       "...   ...        ...              ...        ...  ...       ...         ...   \n",
       "3209   35        NaN  Санкт-Петербург      Павел  ...     550.0       smart   \n",
       "3210   35        NaN  Санкт-Петербург      Павел  ...     550.0       smart   \n",
       "3211   35        NaN  Санкт-Петербург      Павел  ...     550.0       smart   \n",
       "3212   35        NaN  Санкт-Петербург      Павел  ...     550.0       smart   \n",
       "3213   35        NaN  Санкт-Петербург      Павел  ...     550.0       smart   \n",
       "\n",
       "     messages_included  mb_per_month_included  minutes_included  \\\n",
       "0                 1000                  30720              3000   \n",
       "1                 1000                  30720              3000   \n",
       "2                 1000                  30720              3000   \n",
       "3                 1000                  30720              3000   \n",
       "4                 1000                  30720              3000   \n",
       "...                ...                    ...               ...   \n",
       "3209                50                  15360               500   \n",
       "3210                50                  15360               500   \n",
       "3211                50                  15360               500   \n",
       "3212                50                  15360               500   \n",
       "3213                50                  15360               500   \n",
       "\n",
       "     rub_monthly_fee  rub_per_gb  rub_per_message  rub_per_minute  \\\n",
       "0               1950         150                1               1   \n",
       "1               1950         150                1               1   \n",
       "2               1950         150                1               1   \n",
       "3               1950         150                1               1   \n",
       "4               1950         150                1               1   \n",
       "...              ...         ...              ...             ...   \n",
       "3209             550         200                3               3   \n",
       "3210             550         200                3               3   \n",
       "3211             550         200                3               3   \n",
       "3212             550         200                3               3   \n",
       "3213             550         200                3               3   \n",
       "\n",
       "      gb_per_month_included  \n",
       "0                      30.0  \n",
       "1                      30.0  \n",
       "2                      30.0  \n",
       "3                      30.0  \n",
       "4                      30.0  \n",
       "...                     ...  \n",
       "3209                   15.0  \n",
       "3210                   15.0  \n",
       "3211                   15.0  \n",
       "3212                   15.0  \n",
       "3213                   15.0  \n",
       "\n",
       "[3214 rows x 24 columns]"
      ]
     },
     "execution_count": 82,
     "metadata": {},
     "output_type": "execute_result"
    }
   ],
   "source": [
    "data_final"
   ]
  },
  {
   "cell_type": "code",
   "execution_count": 83,
   "id": "80fbab92",
   "metadata": {},
   "outputs": [
    {
     "data": {
      "text/plain": [
       "Index(['user_id', 'month_x', 'call_duration', 'nb_calls', 'nb_messages',\n",
       "       'mb_used_total', 'age', 'churn_date', 'city', 'first_name', 'last_name',\n",
       "       'reg_date', 'tariff', 'gb_used', 'cost_call', 'tariff_name',\n",
       "       'messages_included', 'mb_per_month_included', 'minutes_included',\n",
       "       'rub_monthly_fee', 'rub_per_gb', 'rub_per_message', 'rub_per_minute',\n",
       "       'gb_per_month_included'],\n",
       "      dtype='object')"
      ]
     },
     "execution_count": 83,
     "metadata": {},
     "output_type": "execute_result"
    }
   ],
   "source": [
    "data_final.columns"
   ]
  },
  {
   "cell_type": "code",
   "execution_count": 84,
   "id": "b7d78455",
   "metadata": {},
   "outputs": [],
   "source": [
    "def user_month_profit(row):\n",
    "    extra_calls_price = 0\n",
    "    extra_messages_price = 0\n",
    "    extra_internet_price = 0\n",
    "    \n",
    "    if row['call_duration'] > row['minutes_included']:\n",
    "        extra_calls_duration = row['call_duration'] - row['minutes_included']\n",
    "        extra_calls_price = extra_calls_duration * row['rub_per_minute']\n",
    "    if row['nb_messages'] > row['messages_included']:\n",
    "        extra_messages_count = row['nb_messages'] - row['messages_included']\n",
    "        extra_messages_price = extra_messages_count * row['rub_per_message']\n",
    "    if row['gb_used'] > row['gb_per_month_included']:\n",
    "        extra_gb_count = row['gb_used'] - row['gb_per_month_included']\n",
    "        extra_internet_price = extra_gb_count * row['rub_per_gb']\n",
    "    return (row['rub_monthly_fee'] + extra_calls_price + extra_messages_price + extra_internet_price)\n"
   ]
  },
  {
   "cell_type": "markdown",
   "id": "d004588c",
   "metadata": {},
   "source": [
    "<div class=\"alert alert-success\"; style=\"border-left: 7px solid green\">\n",
    "<h3>✔ Комментарий ревьюера V.2</h3>\n",
    "    \n",
    "Тут всё здорово 👍</div>    \n"
   ]
  },
  {
   "cell_type": "code",
   "execution_count": 85,
   "id": "d0d7570d",
   "metadata": {},
   "outputs": [],
   "source": [
    "data_final['revenue'] = data_final.apply(user_month_profit,axis=1)"
   ]
  },
  {
   "cell_type": "code",
   "execution_count": 86,
   "id": "4ae318d3",
   "metadata": {},
   "outputs": [
    {
     "data": {
      "text/html": [
       "<div>\n",
       "<style scoped>\n",
       "    .dataframe tbody tr th:only-of-type {\n",
       "        vertical-align: middle;\n",
       "    }\n",
       "\n",
       "    .dataframe tbody tr th {\n",
       "        vertical-align: top;\n",
       "    }\n",
       "\n",
       "    .dataframe thead th {\n",
       "        text-align: right;\n",
       "    }\n",
       "</style>\n",
       "<table border=\"1\" class=\"dataframe\">\n",
       "  <thead>\n",
       "    <tr style=\"text-align: right;\">\n",
       "      <th></th>\n",
       "      <th>user_id</th>\n",
       "      <th>month_x</th>\n",
       "      <th>call_duration</th>\n",
       "      <th>nb_calls</th>\n",
       "      <th>nb_messages</th>\n",
       "      <th>mb_used_total</th>\n",
       "      <th>age</th>\n",
       "      <th>churn_date</th>\n",
       "      <th>city</th>\n",
       "      <th>first_name</th>\n",
       "      <th>...</th>\n",
       "      <th>tariff_name</th>\n",
       "      <th>messages_included</th>\n",
       "      <th>mb_per_month_included</th>\n",
       "      <th>minutes_included</th>\n",
       "      <th>rub_monthly_fee</th>\n",
       "      <th>rub_per_gb</th>\n",
       "      <th>rub_per_message</th>\n",
       "      <th>rub_per_minute</th>\n",
       "      <th>gb_per_month_included</th>\n",
       "      <th>revenue</th>\n",
       "    </tr>\n",
       "  </thead>\n",
       "  <tbody>\n",
       "    <tr>\n",
       "      <th>0</th>\n",
       "      <td>1000</td>\n",
       "      <td>5</td>\n",
       "      <td>159.0</td>\n",
       "      <td>22.0</td>\n",
       "      <td>22.0</td>\n",
       "      <td>2253.49</td>\n",
       "      <td>52</td>\n",
       "      <td>NaN</td>\n",
       "      <td>Краснодар</td>\n",
       "      <td>Рафаил</td>\n",
       "      <td>...</td>\n",
       "      <td>ultra</td>\n",
       "      <td>1000</td>\n",
       "      <td>30720</td>\n",
       "      <td>3000</td>\n",
       "      <td>1950</td>\n",
       "      <td>150</td>\n",
       "      <td>1</td>\n",
       "      <td>1</td>\n",
       "      <td>30.0</td>\n",
       "      <td>1950.0</td>\n",
       "    </tr>\n",
       "    <tr>\n",
       "      <th>1</th>\n",
       "      <td>1000</td>\n",
       "      <td>6</td>\n",
       "      <td>172.0</td>\n",
       "      <td>43.0</td>\n",
       "      <td>60.0</td>\n",
       "      <td>23233.77</td>\n",
       "      <td>52</td>\n",
       "      <td>NaN</td>\n",
       "      <td>Краснодар</td>\n",
       "      <td>Рафаил</td>\n",
       "      <td>...</td>\n",
       "      <td>ultra</td>\n",
       "      <td>1000</td>\n",
       "      <td>30720</td>\n",
       "      <td>3000</td>\n",
       "      <td>1950</td>\n",
       "      <td>150</td>\n",
       "      <td>1</td>\n",
       "      <td>1</td>\n",
       "      <td>30.0</td>\n",
       "      <td>1950.0</td>\n",
       "    </tr>\n",
       "    <tr>\n",
       "      <th>2</th>\n",
       "      <td>1000</td>\n",
       "      <td>7</td>\n",
       "      <td>340.0</td>\n",
       "      <td>47.0</td>\n",
       "      <td>75.0</td>\n",
       "      <td>14003.64</td>\n",
       "      <td>52</td>\n",
       "      <td>NaN</td>\n",
       "      <td>Краснодар</td>\n",
       "      <td>Рафаил</td>\n",
       "      <td>...</td>\n",
       "      <td>ultra</td>\n",
       "      <td>1000</td>\n",
       "      <td>30720</td>\n",
       "      <td>3000</td>\n",
       "      <td>1950</td>\n",
       "      <td>150</td>\n",
       "      <td>1</td>\n",
       "      <td>1</td>\n",
       "      <td>30.0</td>\n",
       "      <td>1950.0</td>\n",
       "    </tr>\n",
       "    <tr>\n",
       "      <th>3</th>\n",
       "      <td>1000</td>\n",
       "      <td>8</td>\n",
       "      <td>408.0</td>\n",
       "      <td>52.0</td>\n",
       "      <td>81.0</td>\n",
       "      <td>14055.93</td>\n",
       "      <td>52</td>\n",
       "      <td>NaN</td>\n",
       "      <td>Краснодар</td>\n",
       "      <td>Рафаил</td>\n",
       "      <td>...</td>\n",
       "      <td>ultra</td>\n",
       "      <td>1000</td>\n",
       "      <td>30720</td>\n",
       "      <td>3000</td>\n",
       "      <td>1950</td>\n",
       "      <td>150</td>\n",
       "      <td>1</td>\n",
       "      <td>1</td>\n",
       "      <td>30.0</td>\n",
       "      <td>1950.0</td>\n",
       "    </tr>\n",
       "    <tr>\n",
       "      <th>4</th>\n",
       "      <td>1000</td>\n",
       "      <td>9</td>\n",
       "      <td>466.0</td>\n",
       "      <td>58.0</td>\n",
       "      <td>57.0</td>\n",
       "      <td>14568.91</td>\n",
       "      <td>52</td>\n",
       "      <td>NaN</td>\n",
       "      <td>Краснодар</td>\n",
       "      <td>Рафаил</td>\n",
       "      <td>...</td>\n",
       "      <td>ultra</td>\n",
       "      <td>1000</td>\n",
       "      <td>30720</td>\n",
       "      <td>3000</td>\n",
       "      <td>1950</td>\n",
       "      <td>150</td>\n",
       "      <td>1</td>\n",
       "      <td>1</td>\n",
       "      <td>30.0</td>\n",
       "      <td>1950.0</td>\n",
       "    </tr>\n",
       "    <tr>\n",
       "      <th>...</th>\n",
       "      <td>...</td>\n",
       "      <td>...</td>\n",
       "      <td>...</td>\n",
       "      <td>...</td>\n",
       "      <td>...</td>\n",
       "      <td>...</td>\n",
       "      <td>...</td>\n",
       "      <td>...</td>\n",
       "      <td>...</td>\n",
       "      <td>...</td>\n",
       "      <td>...</td>\n",
       "      <td>...</td>\n",
       "      <td>...</td>\n",
       "      <td>...</td>\n",
       "      <td>...</td>\n",
       "      <td>...</td>\n",
       "      <td>...</td>\n",
       "      <td>...</td>\n",
       "      <td>...</td>\n",
       "      <td>...</td>\n",
       "      <td>...</td>\n",
       "    </tr>\n",
       "    <tr>\n",
       "      <th>3209</th>\n",
       "      <td>1489</td>\n",
       "      <td>8</td>\n",
       "      <td>0.0</td>\n",
       "      <td>NaN</td>\n",
       "      <td>17.0</td>\n",
       "      <td>11050.56</td>\n",
       "      <td>35</td>\n",
       "      <td>NaN</td>\n",
       "      <td>Санкт-Петербург</td>\n",
       "      <td>Павел</td>\n",
       "      <td>...</td>\n",
       "      <td>smart</td>\n",
       "      <td>50</td>\n",
       "      <td>15360</td>\n",
       "      <td>500</td>\n",
       "      <td>550</td>\n",
       "      <td>200</td>\n",
       "      <td>3</td>\n",
       "      <td>3</td>\n",
       "      <td>15.0</td>\n",
       "      <td>550.0</td>\n",
       "    </tr>\n",
       "    <tr>\n",
       "      <th>3210</th>\n",
       "      <td>1489</td>\n",
       "      <td>9</td>\n",
       "      <td>0.0</td>\n",
       "      <td>NaN</td>\n",
       "      <td>32.0</td>\n",
       "      <td>17206.30</td>\n",
       "      <td>35</td>\n",
       "      <td>NaN</td>\n",
       "      <td>Санкт-Петербург</td>\n",
       "      <td>Павел</td>\n",
       "      <td>...</td>\n",
       "      <td>smart</td>\n",
       "      <td>50</td>\n",
       "      <td>15360</td>\n",
       "      <td>500</td>\n",
       "      <td>550</td>\n",
       "      <td>200</td>\n",
       "      <td>3</td>\n",
       "      <td>3</td>\n",
       "      <td>15.0</td>\n",
       "      <td>950.0</td>\n",
       "    </tr>\n",
       "    <tr>\n",
       "      <th>3211</th>\n",
       "      <td>1489</td>\n",
       "      <td>10</td>\n",
       "      <td>0.0</td>\n",
       "      <td>NaN</td>\n",
       "      <td>21.0</td>\n",
       "      <td>19559.44</td>\n",
       "      <td>35</td>\n",
       "      <td>NaN</td>\n",
       "      <td>Санкт-Петербург</td>\n",
       "      <td>Павел</td>\n",
       "      <td>...</td>\n",
       "      <td>smart</td>\n",
       "      <td>50</td>\n",
       "      <td>15360</td>\n",
       "      <td>500</td>\n",
       "      <td>550</td>\n",
       "      <td>200</td>\n",
       "      <td>3</td>\n",
       "      <td>3</td>\n",
       "      <td>15.0</td>\n",
       "      <td>1550.0</td>\n",
       "    </tr>\n",
       "    <tr>\n",
       "      <th>3212</th>\n",
       "      <td>1489</td>\n",
       "      <td>11</td>\n",
       "      <td>0.0</td>\n",
       "      <td>NaN</td>\n",
       "      <td>20.0</td>\n",
       "      <td>17491.56</td>\n",
       "      <td>35</td>\n",
       "      <td>NaN</td>\n",
       "      <td>Санкт-Петербург</td>\n",
       "      <td>Павел</td>\n",
       "      <td>...</td>\n",
       "      <td>smart</td>\n",
       "      <td>50</td>\n",
       "      <td>15360</td>\n",
       "      <td>500</td>\n",
       "      <td>550</td>\n",
       "      <td>200</td>\n",
       "      <td>3</td>\n",
       "      <td>3</td>\n",
       "      <td>15.0</td>\n",
       "      <td>1150.0</td>\n",
       "    </tr>\n",
       "    <tr>\n",
       "      <th>3213</th>\n",
       "      <td>1489</td>\n",
       "      <td>12</td>\n",
       "      <td>0.0</td>\n",
       "      <td>NaN</td>\n",
       "      <td>35.0</td>\n",
       "      <td>17322.51</td>\n",
       "      <td>35</td>\n",
       "      <td>NaN</td>\n",
       "      <td>Санкт-Петербург</td>\n",
       "      <td>Павел</td>\n",
       "      <td>...</td>\n",
       "      <td>smart</td>\n",
       "      <td>50</td>\n",
       "      <td>15360</td>\n",
       "      <td>500</td>\n",
       "      <td>550</td>\n",
       "      <td>200</td>\n",
       "      <td>3</td>\n",
       "      <td>3</td>\n",
       "      <td>15.0</td>\n",
       "      <td>950.0</td>\n",
       "    </tr>\n",
       "  </tbody>\n",
       "</table>\n",
       "<p>3214 rows × 25 columns</p>\n",
       "</div>"
      ],
      "text/plain": [
       "      user_id  month_x  call_duration  nb_calls  nb_messages  mb_used_total  \\\n",
       "0        1000        5          159.0      22.0         22.0        2253.49   \n",
       "1        1000        6          172.0      43.0         60.0       23233.77   \n",
       "2        1000        7          340.0      47.0         75.0       14003.64   \n",
       "3        1000        8          408.0      52.0         81.0       14055.93   \n",
       "4        1000        9          466.0      58.0         57.0       14568.91   \n",
       "...       ...      ...            ...       ...          ...            ...   \n",
       "3209     1489        8            0.0       NaN         17.0       11050.56   \n",
       "3210     1489        9            0.0       NaN         32.0       17206.30   \n",
       "3211     1489       10            0.0       NaN         21.0       19559.44   \n",
       "3212     1489       11            0.0       NaN         20.0       17491.56   \n",
       "3213     1489       12            0.0       NaN         35.0       17322.51   \n",
       "\n",
       "      age churn_date             city first_name  ... tariff_name  \\\n",
       "0      52        NaN        Краснодар     Рафаил  ...       ultra   \n",
       "1      52        NaN        Краснодар     Рафаил  ...       ultra   \n",
       "2      52        NaN        Краснодар     Рафаил  ...       ultra   \n",
       "3      52        NaN        Краснодар     Рафаил  ...       ultra   \n",
       "4      52        NaN        Краснодар     Рафаил  ...       ultra   \n",
       "...   ...        ...              ...        ...  ...         ...   \n",
       "3209   35        NaN  Санкт-Петербург      Павел  ...       smart   \n",
       "3210   35        NaN  Санкт-Петербург      Павел  ...       smart   \n",
       "3211   35        NaN  Санкт-Петербург      Павел  ...       smart   \n",
       "3212   35        NaN  Санкт-Петербург      Павел  ...       smart   \n",
       "3213   35        NaN  Санкт-Петербург      Павел  ...       smart   \n",
       "\n",
       "     messages_included mb_per_month_included  minutes_included  \\\n",
       "0                 1000                 30720              3000   \n",
       "1                 1000                 30720              3000   \n",
       "2                 1000                 30720              3000   \n",
       "3                 1000                 30720              3000   \n",
       "4                 1000                 30720              3000   \n",
       "...                ...                   ...               ...   \n",
       "3209                50                 15360               500   \n",
       "3210                50                 15360               500   \n",
       "3211                50                 15360               500   \n",
       "3212                50                 15360               500   \n",
       "3213                50                 15360               500   \n",
       "\n",
       "      rub_monthly_fee rub_per_gb  rub_per_message  rub_per_minute  \\\n",
       "0                1950        150                1               1   \n",
       "1                1950        150                1               1   \n",
       "2                1950        150                1               1   \n",
       "3                1950        150                1               1   \n",
       "4                1950        150                1               1   \n",
       "...               ...        ...              ...             ...   \n",
       "3209              550        200                3               3   \n",
       "3210              550        200                3               3   \n",
       "3211              550        200                3               3   \n",
       "3212              550        200                3               3   \n",
       "3213              550        200                3               3   \n",
       "\n",
       "      gb_per_month_included  revenue  \n",
       "0                      30.0   1950.0  \n",
       "1                      30.0   1950.0  \n",
       "2                      30.0   1950.0  \n",
       "3                      30.0   1950.0  \n",
       "4                      30.0   1950.0  \n",
       "...                     ...      ...  \n",
       "3209                   15.0    550.0  \n",
       "3210                   15.0    950.0  \n",
       "3211                   15.0   1550.0  \n",
       "3212                   15.0   1150.0  \n",
       "3213                   15.0    950.0  \n",
       "\n",
       "[3214 rows x 25 columns]"
      ]
     },
     "execution_count": 86,
     "metadata": {},
     "output_type": "execute_result"
    }
   ],
   "source": [
    "data_final"
   ]
  },
  {
   "cell_type": "markdown",
   "id": "16851238",
   "metadata": {},
   "source": [
    "<div class=\"alert alert-danger\"; style=\"border-left: 7px solid red\">\n",
    "<h3>👀 Комментарий ревьюера</h3>\n",
    "    \n",
    "С большой буквы называют классы, поэтому функцию стоит называть с маленькой буквы. Также подсчёт выше не совсем верный:\n",
    "    \n",
    "Если клиент использовал больше минут, чем у него в лимите, то он заплатит `(minutes_spent - minutes_inlcuded_ultra)*1+monthly_fees_ultra` а если этот же клиент и интернета больше использовал? Ты эти траты уже не учитываешь. Проще всего посчитать траты сверх тарифа по каждой услуге, их просуммировать и прибавить абоненскую плату\n",
    "    \n",
    "    \n",
    "\n",
    "</div>    \n"
   ]
  },
  {
   "cell_type": "markdown",
   "id": "544fb691",
   "metadata": {},
   "source": [
    "<div class = \"alert alert-info\" style=\"border-left: 7px solid blue\">\n",
    "<h3>Комментарий студента</h3>\n",
    "\n",
    "сделал уже выше !\n",
    "    \n",
    "   сказали просто сразу и протсо что нужно обединять таблички иначе ничего не выйдет иняче жду от вас ответа как считать суммарную выручку если не обьединить таблички datd_final и dtd_tariffs \n",
    "    \n",
    "</div>"
   ]
  },
  {
   "cell_type": "markdown",
   "id": "39fe8065",
   "metadata": {},
   "source": [
    " функция котора я считает помесячную выручку с каждого пользователя\n",
    "\n",
    "СТАРАЯ Функция\n",
    "\n",
    "def Revenue(row):\n",
    "    minutes_spent = row['call_duration']\n",
    "    gb_spent = row['gb_used']\n",
    "    messages_sent = row['nb_messages']\n",
    "    actual_tariff= row['tariff']\n",
    "    \n",
    "    message_inlcuded_ultra = 1000\n",
    "    gb_inlcuded_ultra = 30\n",
    "    minutes_inlcuded_ultra = 3000\n",
    "    message_inlcuded_smart = 50\n",
    "    gb_inlcuded_smart = 15\n",
    "    minutes_inlcuded_smart = 500\n",
    "    monthly_fees_smart = 550\n",
    "    monthly_fees_ultra = 1950    \n",
    "    if actual_tariff == 'ultra' and minutes_spent > minutes_inlcuded_ultra:\n",
    "        return (minutes_spent - minutes_inlcuded_ultra)*1+monthly_fees_ultra\n",
    "    if actual_tariff == 'ultra' and messages_sent > message_inlcuded_ultra:\n",
    "        return (messages_sent - message_inlcuded_ultra)*1+monthly_fees_ultra\n",
    "    if actual_tariff == 'ultra' and gb_spent > gb_inlcuded_ultra:\n",
    "        return (gb_spent - gb_inlcuded_ultra)*150+monthly_fees_ultra \n",
    "    if actual_tariff == 'smart' and minutes_spent > minutes_inlcuded_smart:\n",
    "        return (minutes_spent - minutes_inlcuded_smart)*3+monthly_fees_smart\n",
    "    if actual_tariff == 'smart' and messages_sent > message_inlcuded_smart:\n",
    "        return (messages_sent - message_inlcuded_smart)*3+monthly_fees_smart\n",
    "    if actual_tariff == 'smart' and gb_spent > gb_inlcuded_smart:\n",
    "        return (gb_spent - gb_inlcuded_smart)*200+monthly_fees_smart\n",
    "    else:\n",
    "        if actual_tariff == 'ultra':\n",
    "            return monthly_fees_ultra\n",
    "        if actual_tariff == 'smart':\n",
    "            return monthly_fees_smart\n",
    "           "
   ]
  },
  {
   "cell_type": "code",
   "execution_count": 87,
   "id": "847e4baf",
   "metadata": {},
   "outputs": [
    {
     "data": {
      "text/plain": [
       "4914451"
      ]
     },
     "execution_count": 87,
     "metadata": {},
     "output_type": "execute_result"
    }
   ],
   "source": [
    "# суммарная выручка\n",
    "int(data_final['revenue'].sum())"
   ]
  },
  {
   "cell_type": "markdown",
   "id": "cee0b1a8",
   "metadata": {},
   "source": [
    "'- выручка состоит из абонетской платы + дополнительная стоимость за всех минут - гигобайт  - и сообщения потрачены вне абонемента "
   ]
  },
  {
   "cell_type": "markdown",
   "id": "55f19aa6",
   "metadata": {},
   "source": [
    "- Шаг 3. Проанализируйте данные\n",
    "Опишите поведение клиентов оператора, исходя из выборки. Сколько минут разговора, сколько сообщений и какой объём интернет-трафика требуется пользователям каждого тарифа в месяц? Посчитайте среднее количество, дисперсию и стандартное отклонение. Постройте гистограммы. Опишите распределения."
   ]
  },
  {
   "cell_type": "markdown",
   "id": "e628954e",
   "metadata": {},
   "source": []
  },
  {
   "cell_type": "markdown",
   "id": "6c91de43",
   "metadata": {},
   "source": [
    "начну анализ с тарифа смарт: Сколько минут разговора, сколько сообщений и какой объём интернет-трафика требуется пользователям каждого тарифа в месяц?"
   ]
  },
  {
   "cell_type": "code",
   "execution_count": 88,
   "id": "5faddddc",
   "metadata": {},
   "outputs": [],
   "source": [
    "data_smart = data_final[data_final['tariff'] == 'smart']"
   ]
  },
  {
   "cell_type": "code",
   "execution_count": 89,
   "id": "8e2b07f9",
   "metadata": {},
   "outputs": [],
   "source": [
    "data_analyse_smart = data_smart.pivot_table(index =['tariff','month_x'], values=['call_duration','nb_messages','gb_used'],aggfunc = 'sum').reset_index()"
   ]
  },
  {
   "cell_type": "code",
   "execution_count": 90,
   "id": "ce7bb7ca",
   "metadata": {},
   "outputs": [
    {
     "data": {
      "text/html": [
       "<div>\n",
       "<style scoped>\n",
       "    .dataframe tbody tr th:only-of-type {\n",
       "        vertical-align: middle;\n",
       "    }\n",
       "\n",
       "    .dataframe tbody tr th {\n",
       "        vertical-align: top;\n",
       "    }\n",
       "\n",
       "    .dataframe thead th {\n",
       "        text-align: right;\n",
       "    }\n",
       "</style>\n",
       "<table border=\"1\" class=\"dataframe\">\n",
       "  <thead>\n",
       "    <tr style=\"text-align: right;\">\n",
       "      <th></th>\n",
       "      <th>tariff</th>\n",
       "      <th>month_x</th>\n",
       "      <th>call_duration</th>\n",
       "      <th>gb_used</th>\n",
       "      <th>nb_messages</th>\n",
       "    </tr>\n",
       "  </thead>\n",
       "  <tbody>\n",
       "    <tr>\n",
       "      <th>0</th>\n",
       "      <td>smart</td>\n",
       "      <td>1</td>\n",
       "      <td>6931.0</td>\n",
       "      <td>297.0</td>\n",
       "      <td>620.0</td>\n",
       "    </tr>\n",
       "    <tr>\n",
       "      <th>1</th>\n",
       "      <td>smart</td>\n",
       "      <td>2</td>\n",
       "      <td>17324.0</td>\n",
       "      <td>687.0</td>\n",
       "      <td>1397.0</td>\n",
       "    </tr>\n",
       "    <tr>\n",
       "      <th>2</th>\n",
       "      <td>smart</td>\n",
       "      <td>3</td>\n",
       "      <td>30034.0</td>\n",
       "      <td>1173.0</td>\n",
       "      <td>2453.0</td>\n",
       "    </tr>\n",
       "    <tr>\n",
       "      <th>3</th>\n",
       "      <td>smart</td>\n",
       "      <td>4</td>\n",
       "      <td>41119.0</td>\n",
       "      <td>1526.0</td>\n",
       "      <td>3443.0</td>\n",
       "    </tr>\n",
       "    <tr>\n",
       "      <th>4</th>\n",
       "      <td>smart</td>\n",
       "      <td>5</td>\n",
       "      <td>54618.0</td>\n",
       "      <td>2243.0</td>\n",
       "      <td>4762.0</td>\n",
       "    </tr>\n",
       "    <tr>\n",
       "      <th>5</th>\n",
       "      <td>smart</td>\n",
       "      <td>6</td>\n",
       "      <td>64885.0</td>\n",
       "      <td>2616.0</td>\n",
       "      <td>5478.0</td>\n",
       "    </tr>\n",
       "    <tr>\n",
       "      <th>6</th>\n",
       "      <td>smart</td>\n",
       "      <td>7</td>\n",
       "      <td>82079.0</td>\n",
       "      <td>3191.0</td>\n",
       "      <td>6784.0</td>\n",
       "    </tr>\n",
       "    <tr>\n",
       "      <th>7</th>\n",
       "      <td>smart</td>\n",
       "      <td>8</td>\n",
       "      <td>99045.0</td>\n",
       "      <td>3933.0</td>\n",
       "      <td>7905.0</td>\n",
       "    </tr>\n",
       "    <tr>\n",
       "      <th>8</th>\n",
       "      <td>smart</td>\n",
       "      <td>9</td>\n",
       "      <td>111439.0</td>\n",
       "      <td>4262.0</td>\n",
       "      <td>8746.0</td>\n",
       "    </tr>\n",
       "    <tr>\n",
       "      <th>9</th>\n",
       "      <td>smart</td>\n",
       "      <td>10</td>\n",
       "      <td>125284.0</td>\n",
       "      <td>4963.0</td>\n",
       "      <td>9927.0</td>\n",
       "    </tr>\n",
       "    <tr>\n",
       "      <th>10</th>\n",
       "      <td>smart</td>\n",
       "      <td>11</td>\n",
       "      <td>137544.0</td>\n",
       "      <td>5372.0</td>\n",
       "      <td>10768.0</td>\n",
       "    </tr>\n",
       "    <tr>\n",
       "      <th>11</th>\n",
       "      <td>smart</td>\n",
       "      <td>12</td>\n",
       "      <td>161275.0</td>\n",
       "      <td>6134.0</td>\n",
       "      <td>12130.0</td>\n",
       "    </tr>\n",
       "  </tbody>\n",
       "</table>\n",
       "</div>"
      ],
      "text/plain": [
       "   tariff  month_x  call_duration  gb_used  nb_messages\n",
       "0   smart        1         6931.0    297.0        620.0\n",
       "1   smart        2        17324.0    687.0       1397.0\n",
       "2   smart        3        30034.0   1173.0       2453.0\n",
       "3   smart        4        41119.0   1526.0       3443.0\n",
       "4   smart        5        54618.0   2243.0       4762.0\n",
       "5   smart        6        64885.0   2616.0       5478.0\n",
       "6   smart        7        82079.0   3191.0       6784.0\n",
       "7   smart        8        99045.0   3933.0       7905.0\n",
       "8   smart        9       111439.0   4262.0       8746.0\n",
       "9   smart       10       125284.0   4963.0       9927.0\n",
       "10  smart       11       137544.0   5372.0      10768.0\n",
       "11  smart       12       161275.0   6134.0      12130.0"
      ]
     },
     "execution_count": 90,
     "metadata": {},
     "output_type": "execute_result"
    }
   ],
   "source": [
    "data_analyse_smart"
   ]
  },
  {
   "cell_type": "code",
   "execution_count": 91,
   "id": "83031a20",
   "metadata": {},
   "outputs": [],
   "source": [
    "data_ultra = data_final[data_final['tariff'] == 'ultra']"
   ]
  },
  {
   "cell_type": "code",
   "execution_count": 92,
   "id": "76d2c75d",
   "metadata": {},
   "outputs": [],
   "source": [
    "data_analyse_ultra = data_ultra.pivot_table(index =['tariff','month_x'], values=['call_duration','nb_messages','gb_used'],aggfunc = 'sum').reset_index()"
   ]
  },
  {
   "cell_type": "markdown",
   "id": "dbb87f93",
   "metadata": {},
   "source": [
    "мы видим что пользователям склонны употреблять больше трафика в каждый месяц все больше и больше, в расстущем порядке."
   ]
  },
  {
   "cell_type": "markdown",
   "id": "93d908f2",
   "metadata": {},
   "source": [
    "<div class=\"alert alert-success\"; style=\"border-left: 7px solid green\">\n",
    "<h3>✔ Комментарий ревьюера</h3>\n",
    "    \n",
    "Есть идеи почему так?\n",
    "</div>    \n"
   ]
  },
  {
   "cell_type": "markdown",
   "id": "e1ea05b8",
   "metadata": {},
   "source": [
    "<div class = \"alert alert-info\" style=\"border-left: 7px solid blue\">\n",
    "<h3>Комментарий студента</h3>\n",
    "\n",
    "Да, потому что каличество пользователей ростет, \n",
    "привожу ниже пример по тарифу СМАРТ\n",
    "    \n",
    "    \n",
    "</div>"
   ]
  },
  {
   "cell_type": "markdown",
   "id": "740e4a72",
   "metadata": {},
   "source": [
    "<div class=\"alert alert-success\"; style=\"border-left: 7px solid green\">\n",
    "<h3>✔ Комментарий ревьюера V.2</h3>\n",
    "    \n",
    "Ну да\n",
    "</div>    \n"
   ]
  },
  {
   "cell_type": "code",
   "execution_count": 93,
   "id": "1758de81",
   "metadata": {},
   "outputs": [
    {
     "data": {
      "text/html": [
       "<div>\n",
       "<style scoped>\n",
       "    .dataframe tbody tr th:only-of-type {\n",
       "        vertical-align: middle;\n",
       "    }\n",
       "\n",
       "    .dataframe tbody tr th {\n",
       "        vertical-align: top;\n",
       "    }\n",
       "\n",
       "    .dataframe thead th {\n",
       "        text-align: right;\n",
       "    }\n",
       "</style>\n",
       "<table border=\"1\" class=\"dataframe\">\n",
       "  <thead>\n",
       "    <tr style=\"text-align: right;\">\n",
       "      <th></th>\n",
       "      <th>user_id</th>\n",
       "      <th>month_x</th>\n",
       "      <th>call_duration</th>\n",
       "      <th>nb_calls</th>\n",
       "      <th>nb_messages</th>\n",
       "      <th>mb_used_total</th>\n",
       "      <th>age</th>\n",
       "      <th>churn_date</th>\n",
       "      <th>city</th>\n",
       "      <th>first_name</th>\n",
       "      <th>...</th>\n",
       "      <th>tariff_name</th>\n",
       "      <th>messages_included</th>\n",
       "      <th>mb_per_month_included</th>\n",
       "      <th>minutes_included</th>\n",
       "      <th>rub_monthly_fee</th>\n",
       "      <th>rub_per_gb</th>\n",
       "      <th>rub_per_message</th>\n",
       "      <th>rub_per_minute</th>\n",
       "      <th>gb_per_month_included</th>\n",
       "      <th>revenue</th>\n",
       "    </tr>\n",
       "  </thead>\n",
       "  <tbody>\n",
       "    <tr>\n",
       "      <th>0</th>\n",
       "      <td>1000</td>\n",
       "      <td>5</td>\n",
       "      <td>159.0</td>\n",
       "      <td>22.0</td>\n",
       "      <td>22.0</td>\n",
       "      <td>2253.49</td>\n",
       "      <td>52</td>\n",
       "      <td>NaN</td>\n",
       "      <td>Краснодар</td>\n",
       "      <td>Рафаил</td>\n",
       "      <td>...</td>\n",
       "      <td>ultra</td>\n",
       "      <td>1000</td>\n",
       "      <td>30720</td>\n",
       "      <td>3000</td>\n",
       "      <td>1950</td>\n",
       "      <td>150</td>\n",
       "      <td>1</td>\n",
       "      <td>1</td>\n",
       "      <td>30.0</td>\n",
       "      <td>1950.0</td>\n",
       "    </tr>\n",
       "    <tr>\n",
       "      <th>1</th>\n",
       "      <td>1000</td>\n",
       "      <td>6</td>\n",
       "      <td>172.0</td>\n",
       "      <td>43.0</td>\n",
       "      <td>60.0</td>\n",
       "      <td>23233.77</td>\n",
       "      <td>52</td>\n",
       "      <td>NaN</td>\n",
       "      <td>Краснодар</td>\n",
       "      <td>Рафаил</td>\n",
       "      <td>...</td>\n",
       "      <td>ultra</td>\n",
       "      <td>1000</td>\n",
       "      <td>30720</td>\n",
       "      <td>3000</td>\n",
       "      <td>1950</td>\n",
       "      <td>150</td>\n",
       "      <td>1</td>\n",
       "      <td>1</td>\n",
       "      <td>30.0</td>\n",
       "      <td>1950.0</td>\n",
       "    </tr>\n",
       "    <tr>\n",
       "      <th>2</th>\n",
       "      <td>1000</td>\n",
       "      <td>7</td>\n",
       "      <td>340.0</td>\n",
       "      <td>47.0</td>\n",
       "      <td>75.0</td>\n",
       "      <td>14003.64</td>\n",
       "      <td>52</td>\n",
       "      <td>NaN</td>\n",
       "      <td>Краснодар</td>\n",
       "      <td>Рафаил</td>\n",
       "      <td>...</td>\n",
       "      <td>ultra</td>\n",
       "      <td>1000</td>\n",
       "      <td>30720</td>\n",
       "      <td>3000</td>\n",
       "      <td>1950</td>\n",
       "      <td>150</td>\n",
       "      <td>1</td>\n",
       "      <td>1</td>\n",
       "      <td>30.0</td>\n",
       "      <td>1950.0</td>\n",
       "    </tr>\n",
       "    <tr>\n",
       "      <th>3</th>\n",
       "      <td>1000</td>\n",
       "      <td>8</td>\n",
       "      <td>408.0</td>\n",
       "      <td>52.0</td>\n",
       "      <td>81.0</td>\n",
       "      <td>14055.93</td>\n",
       "      <td>52</td>\n",
       "      <td>NaN</td>\n",
       "      <td>Краснодар</td>\n",
       "      <td>Рафаил</td>\n",
       "      <td>...</td>\n",
       "      <td>ultra</td>\n",
       "      <td>1000</td>\n",
       "      <td>30720</td>\n",
       "      <td>3000</td>\n",
       "      <td>1950</td>\n",
       "      <td>150</td>\n",
       "      <td>1</td>\n",
       "      <td>1</td>\n",
       "      <td>30.0</td>\n",
       "      <td>1950.0</td>\n",
       "    </tr>\n",
       "    <tr>\n",
       "      <th>4</th>\n",
       "      <td>1000</td>\n",
       "      <td>9</td>\n",
       "      <td>466.0</td>\n",
       "      <td>58.0</td>\n",
       "      <td>57.0</td>\n",
       "      <td>14568.91</td>\n",
       "      <td>52</td>\n",
       "      <td>NaN</td>\n",
       "      <td>Краснодар</td>\n",
       "      <td>Рафаил</td>\n",
       "      <td>...</td>\n",
       "      <td>ultra</td>\n",
       "      <td>1000</td>\n",
       "      <td>30720</td>\n",
       "      <td>3000</td>\n",
       "      <td>1950</td>\n",
       "      <td>150</td>\n",
       "      <td>1</td>\n",
       "      <td>1</td>\n",
       "      <td>30.0</td>\n",
       "      <td>1950.0</td>\n",
       "    </tr>\n",
       "    <tr>\n",
       "      <th>5</th>\n",
       "      <td>1000</td>\n",
       "      <td>10</td>\n",
       "      <td>350.0</td>\n",
       "      <td>57.0</td>\n",
       "      <td>73.0</td>\n",
       "      <td>14702.49</td>\n",
       "      <td>52</td>\n",
       "      <td>NaN</td>\n",
       "      <td>Краснодар</td>\n",
       "      <td>Рафаил</td>\n",
       "      <td>...</td>\n",
       "      <td>ultra</td>\n",
       "      <td>1000</td>\n",
       "      <td>30720</td>\n",
       "      <td>3000</td>\n",
       "      <td>1950</td>\n",
       "      <td>150</td>\n",
       "      <td>1</td>\n",
       "      <td>1</td>\n",
       "      <td>30.0</td>\n",
       "      <td>1950.0</td>\n",
       "    </tr>\n",
       "    <tr>\n",
       "      <th>6</th>\n",
       "      <td>1000</td>\n",
       "      <td>11</td>\n",
       "      <td>338.0</td>\n",
       "      <td>43.0</td>\n",
       "      <td>58.0</td>\n",
       "      <td>14756.47</td>\n",
       "      <td>52</td>\n",
       "      <td>NaN</td>\n",
       "      <td>Краснодар</td>\n",
       "      <td>Рафаил</td>\n",
       "      <td>...</td>\n",
       "      <td>ultra</td>\n",
       "      <td>1000</td>\n",
       "      <td>30720</td>\n",
       "      <td>3000</td>\n",
       "      <td>1950</td>\n",
       "      <td>150</td>\n",
       "      <td>1</td>\n",
       "      <td>1</td>\n",
       "      <td>30.0</td>\n",
       "      <td>1950.0</td>\n",
       "    </tr>\n",
       "    <tr>\n",
       "      <th>7</th>\n",
       "      <td>1000</td>\n",
       "      <td>12</td>\n",
       "      <td>333.0</td>\n",
       "      <td>46.0</td>\n",
       "      <td>70.0</td>\n",
       "      <td>9817.61</td>\n",
       "      <td>52</td>\n",
       "      <td>NaN</td>\n",
       "      <td>Краснодар</td>\n",
       "      <td>Рафаил</td>\n",
       "      <td>...</td>\n",
       "      <td>ultra</td>\n",
       "      <td>1000</td>\n",
       "      <td>30720</td>\n",
       "      <td>3000</td>\n",
       "      <td>1950</td>\n",
       "      <td>150</td>\n",
       "      <td>1</td>\n",
       "      <td>1</td>\n",
       "      <td>30.0</td>\n",
       "      <td>1950.0</td>\n",
       "    </tr>\n",
       "    <tr>\n",
       "      <th>8</th>\n",
       "      <td>1001</td>\n",
       "      <td>11</td>\n",
       "      <td>430.0</td>\n",
       "      <td>59.0</td>\n",
       "      <td>0.0</td>\n",
       "      <td>18429.34</td>\n",
       "      <td>41</td>\n",
       "      <td>NaN</td>\n",
       "      <td>Москва</td>\n",
       "      <td>Иван</td>\n",
       "      <td>...</td>\n",
       "      <td>smart</td>\n",
       "      <td>50</td>\n",
       "      <td>15360</td>\n",
       "      <td>500</td>\n",
       "      <td>550</td>\n",
       "      <td>200</td>\n",
       "      <td>3</td>\n",
       "      <td>3</td>\n",
       "      <td>15.0</td>\n",
       "      <td>1150.0</td>\n",
       "    </tr>\n",
       "    <tr>\n",
       "      <th>9</th>\n",
       "      <td>1001</td>\n",
       "      <td>12</td>\n",
       "      <td>414.0</td>\n",
       "      <td>63.0</td>\n",
       "      <td>0.0</td>\n",
       "      <td>14036.66</td>\n",
       "      <td>41</td>\n",
       "      <td>NaN</td>\n",
       "      <td>Москва</td>\n",
       "      <td>Иван</td>\n",
       "      <td>...</td>\n",
       "      <td>smart</td>\n",
       "      <td>50</td>\n",
       "      <td>15360</td>\n",
       "      <td>500</td>\n",
       "      <td>550</td>\n",
       "      <td>200</td>\n",
       "      <td>3</td>\n",
       "      <td>3</td>\n",
       "      <td>15.0</td>\n",
       "      <td>550.0</td>\n",
       "    </tr>\n",
       "    <tr>\n",
       "      <th>10</th>\n",
       "      <td>1002</td>\n",
       "      <td>6</td>\n",
       "      <td>117.0</td>\n",
       "      <td>15.0</td>\n",
       "      <td>4.0</td>\n",
       "      <td>10856.82</td>\n",
       "      <td>59</td>\n",
       "      <td>NaN</td>\n",
       "      <td>Стерлитамак</td>\n",
       "      <td>Евгений</td>\n",
       "      <td>...</td>\n",
       "      <td>smart</td>\n",
       "      <td>50</td>\n",
       "      <td>15360</td>\n",
       "      <td>500</td>\n",
       "      <td>550</td>\n",
       "      <td>200</td>\n",
       "      <td>3</td>\n",
       "      <td>3</td>\n",
       "      <td>15.0</td>\n",
       "      <td>550.0</td>\n",
       "    </tr>\n",
       "    <tr>\n",
       "      <th>11</th>\n",
       "      <td>1002</td>\n",
       "      <td>7</td>\n",
       "      <td>214.0</td>\n",
       "      <td>26.0</td>\n",
       "      <td>11.0</td>\n",
       "      <td>17580.10</td>\n",
       "      <td>59</td>\n",
       "      <td>NaN</td>\n",
       "      <td>Стерлитамак</td>\n",
       "      <td>Евгений</td>\n",
       "      <td>...</td>\n",
       "      <td>smart</td>\n",
       "      <td>50</td>\n",
       "      <td>15360</td>\n",
       "      <td>500</td>\n",
       "      <td>550</td>\n",
       "      <td>200</td>\n",
       "      <td>3</td>\n",
       "      <td>3</td>\n",
       "      <td>15.0</td>\n",
       "      <td>1150.0</td>\n",
       "    </tr>\n",
       "    <tr>\n",
       "      <th>12</th>\n",
       "      <td>1002</td>\n",
       "      <td>8</td>\n",
       "      <td>289.0</td>\n",
       "      <td>42.0</td>\n",
       "      <td>13.0</td>\n",
       "      <td>20319.26</td>\n",
       "      <td>59</td>\n",
       "      <td>NaN</td>\n",
       "      <td>Стерлитамак</td>\n",
       "      <td>Евгений</td>\n",
       "      <td>...</td>\n",
       "      <td>smart</td>\n",
       "      <td>50</td>\n",
       "      <td>15360</td>\n",
       "      <td>500</td>\n",
       "      <td>550</td>\n",
       "      <td>200</td>\n",
       "      <td>3</td>\n",
       "      <td>3</td>\n",
       "      <td>15.0</td>\n",
       "      <td>1550.0</td>\n",
       "    </tr>\n",
       "    <tr>\n",
       "      <th>13</th>\n",
       "      <td>1002</td>\n",
       "      <td>9</td>\n",
       "      <td>206.0</td>\n",
       "      <td>36.0</td>\n",
       "      <td>4.0</td>\n",
       "      <td>16691.08</td>\n",
       "      <td>59</td>\n",
       "      <td>NaN</td>\n",
       "      <td>Стерлитамак</td>\n",
       "      <td>Евгений</td>\n",
       "      <td>...</td>\n",
       "      <td>smart</td>\n",
       "      <td>50</td>\n",
       "      <td>15360</td>\n",
       "      <td>500</td>\n",
       "      <td>550</td>\n",
       "      <td>200</td>\n",
       "      <td>3</td>\n",
       "      <td>3</td>\n",
       "      <td>15.0</td>\n",
       "      <td>950.0</td>\n",
       "    </tr>\n",
       "    <tr>\n",
       "      <th>14</th>\n",
       "      <td>1002</td>\n",
       "      <td>10</td>\n",
       "      <td>212.0</td>\n",
       "      <td>33.0</td>\n",
       "      <td>10.0</td>\n",
       "      <td>13888.25</td>\n",
       "      <td>59</td>\n",
       "      <td>NaN</td>\n",
       "      <td>Стерлитамак</td>\n",
       "      <td>Евгений</td>\n",
       "      <td>...</td>\n",
       "      <td>smart</td>\n",
       "      <td>50</td>\n",
       "      <td>15360</td>\n",
       "      <td>500</td>\n",
       "      <td>550</td>\n",
       "      <td>200</td>\n",
       "      <td>3</td>\n",
       "      <td>3</td>\n",
       "      <td>15.0</td>\n",
       "      <td>550.0</td>\n",
       "    </tr>\n",
       "    <tr>\n",
       "      <th>15</th>\n",
       "      <td>1002</td>\n",
       "      <td>11</td>\n",
       "      <td>243.0</td>\n",
       "      <td>32.0</td>\n",
       "      <td>16.0</td>\n",
       "      <td>18587.28</td>\n",
       "      <td>59</td>\n",
       "      <td>NaN</td>\n",
       "      <td>Стерлитамак</td>\n",
       "      <td>Евгений</td>\n",
       "      <td>...</td>\n",
       "      <td>smart</td>\n",
       "      <td>50</td>\n",
       "      <td>15360</td>\n",
       "      <td>500</td>\n",
       "      <td>550</td>\n",
       "      <td>200</td>\n",
       "      <td>3</td>\n",
       "      <td>3</td>\n",
       "      <td>15.0</td>\n",
       "      <td>1350.0</td>\n",
       "    </tr>\n",
       "    <tr>\n",
       "      <th>16</th>\n",
       "      <td>1002</td>\n",
       "      <td>12</td>\n",
       "      <td>236.0</td>\n",
       "      <td>33.0</td>\n",
       "      <td>12.0</td>\n",
       "      <td>18113.73</td>\n",
       "      <td>59</td>\n",
       "      <td>NaN</td>\n",
       "      <td>Стерлитамак</td>\n",
       "      <td>Евгений</td>\n",
       "      <td>...</td>\n",
       "      <td>smart</td>\n",
       "      <td>50</td>\n",
       "      <td>15360</td>\n",
       "      <td>500</td>\n",
       "      <td>550</td>\n",
       "      <td>200</td>\n",
       "      <td>3</td>\n",
       "      <td>3</td>\n",
       "      <td>15.0</td>\n",
       "      <td>1150.0</td>\n",
       "    </tr>\n",
       "    <tr>\n",
       "      <th>17</th>\n",
       "      <td>1003</td>\n",
       "      <td>8</td>\n",
       "      <td>380.0</td>\n",
       "      <td>55.0</td>\n",
       "      <td>37.0</td>\n",
       "      <td>8565.21</td>\n",
       "      <td>23</td>\n",
       "      <td>NaN</td>\n",
       "      <td>Москва</td>\n",
       "      <td>Белла</td>\n",
       "      <td>...</td>\n",
       "      <td>ultra</td>\n",
       "      <td>1000</td>\n",
       "      <td>30720</td>\n",
       "      <td>3000</td>\n",
       "      <td>1950</td>\n",
       "      <td>150</td>\n",
       "      <td>1</td>\n",
       "      <td>1</td>\n",
       "      <td>30.0</td>\n",
       "      <td>1950.0</td>\n",
       "    </tr>\n",
       "    <tr>\n",
       "      <th>18</th>\n",
       "      <td>1003</td>\n",
       "      <td>9</td>\n",
       "      <td>961.0</td>\n",
       "      <td>134.0</td>\n",
       "      <td>91.0</td>\n",
       "      <td>12468.87</td>\n",
       "      <td>23</td>\n",
       "      <td>NaN</td>\n",
       "      <td>Москва</td>\n",
       "      <td>Белла</td>\n",
       "      <td>...</td>\n",
       "      <td>ultra</td>\n",
       "      <td>1000</td>\n",
       "      <td>30720</td>\n",
       "      <td>3000</td>\n",
       "      <td>1950</td>\n",
       "      <td>150</td>\n",
       "      <td>1</td>\n",
       "      <td>1</td>\n",
       "      <td>30.0</td>\n",
       "      <td>1950.0</td>\n",
       "    </tr>\n",
       "    <tr>\n",
       "      <th>19</th>\n",
       "      <td>1003</td>\n",
       "      <td>10</td>\n",
       "      <td>855.0</td>\n",
       "      <td>108.0</td>\n",
       "      <td>83.0</td>\n",
       "      <td>14768.14</td>\n",
       "      <td>23</td>\n",
       "      <td>NaN</td>\n",
       "      <td>Москва</td>\n",
       "      <td>Белла</td>\n",
       "      <td>...</td>\n",
       "      <td>ultra</td>\n",
       "      <td>1000</td>\n",
       "      <td>30720</td>\n",
       "      <td>3000</td>\n",
       "      <td>1950</td>\n",
       "      <td>150</td>\n",
       "      <td>1</td>\n",
       "      <td>1</td>\n",
       "      <td>30.0</td>\n",
       "      <td>1950.0</td>\n",
       "    </tr>\n",
       "  </tbody>\n",
       "</table>\n",
       "<p>20 rows × 25 columns</p>\n",
       "</div>"
      ],
      "text/plain": [
       "    user_id  month_x  call_duration  nb_calls  nb_messages  mb_used_total  \\\n",
       "0      1000        5          159.0      22.0         22.0        2253.49   \n",
       "1      1000        6          172.0      43.0         60.0       23233.77   \n",
       "2      1000        7          340.0      47.0         75.0       14003.64   \n",
       "3      1000        8          408.0      52.0         81.0       14055.93   \n",
       "4      1000        9          466.0      58.0         57.0       14568.91   \n",
       "5      1000       10          350.0      57.0         73.0       14702.49   \n",
       "6      1000       11          338.0      43.0         58.0       14756.47   \n",
       "7      1000       12          333.0      46.0         70.0        9817.61   \n",
       "8      1001       11          430.0      59.0          0.0       18429.34   \n",
       "9      1001       12          414.0      63.0          0.0       14036.66   \n",
       "10     1002        6          117.0      15.0          4.0       10856.82   \n",
       "11     1002        7          214.0      26.0         11.0       17580.10   \n",
       "12     1002        8          289.0      42.0         13.0       20319.26   \n",
       "13     1002        9          206.0      36.0          4.0       16691.08   \n",
       "14     1002       10          212.0      33.0         10.0       13888.25   \n",
       "15     1002       11          243.0      32.0         16.0       18587.28   \n",
       "16     1002       12          236.0      33.0         12.0       18113.73   \n",
       "17     1003        8          380.0      55.0         37.0        8565.21   \n",
       "18     1003        9          961.0     134.0         91.0       12468.87   \n",
       "19     1003       10          855.0     108.0         83.0       14768.14   \n",
       "\n",
       "    age churn_date         city first_name  ... tariff_name messages_included  \\\n",
       "0    52        NaN    Краснодар     Рафаил  ...       ultra              1000   \n",
       "1    52        NaN    Краснодар     Рафаил  ...       ultra              1000   \n",
       "2    52        NaN    Краснодар     Рафаил  ...       ultra              1000   \n",
       "3    52        NaN    Краснодар     Рафаил  ...       ultra              1000   \n",
       "4    52        NaN    Краснодар     Рафаил  ...       ultra              1000   \n",
       "5    52        NaN    Краснодар     Рафаил  ...       ultra              1000   \n",
       "6    52        NaN    Краснодар     Рафаил  ...       ultra              1000   \n",
       "7    52        NaN    Краснодар     Рафаил  ...       ultra              1000   \n",
       "8    41        NaN       Москва       Иван  ...       smart                50   \n",
       "9    41        NaN       Москва       Иван  ...       smart                50   \n",
       "10   59        NaN  Стерлитамак    Евгений  ...       smart                50   \n",
       "11   59        NaN  Стерлитамак    Евгений  ...       smart                50   \n",
       "12   59        NaN  Стерлитамак    Евгений  ...       smart                50   \n",
       "13   59        NaN  Стерлитамак    Евгений  ...       smart                50   \n",
       "14   59        NaN  Стерлитамак    Евгений  ...       smart                50   \n",
       "15   59        NaN  Стерлитамак    Евгений  ...       smart                50   \n",
       "16   59        NaN  Стерлитамак    Евгений  ...       smart                50   \n",
       "17   23        NaN       Москва      Белла  ...       ultra              1000   \n",
       "18   23        NaN       Москва      Белла  ...       ultra              1000   \n",
       "19   23        NaN       Москва      Белла  ...       ultra              1000   \n",
       "\n",
       "   mb_per_month_included  minutes_included  rub_monthly_fee rub_per_gb  \\\n",
       "0                  30720              3000             1950        150   \n",
       "1                  30720              3000             1950        150   \n",
       "2                  30720              3000             1950        150   \n",
       "3                  30720              3000             1950        150   \n",
       "4                  30720              3000             1950        150   \n",
       "5                  30720              3000             1950        150   \n",
       "6                  30720              3000             1950        150   \n",
       "7                  30720              3000             1950        150   \n",
       "8                  15360               500              550        200   \n",
       "9                  15360               500              550        200   \n",
       "10                 15360               500              550        200   \n",
       "11                 15360               500              550        200   \n",
       "12                 15360               500              550        200   \n",
       "13                 15360               500              550        200   \n",
       "14                 15360               500              550        200   \n",
       "15                 15360               500              550        200   \n",
       "16                 15360               500              550        200   \n",
       "17                 30720              3000             1950        150   \n",
       "18                 30720              3000             1950        150   \n",
       "19                 30720              3000             1950        150   \n",
       "\n",
       "    rub_per_message  rub_per_minute  gb_per_month_included  revenue  \n",
       "0                 1               1                   30.0   1950.0  \n",
       "1                 1               1                   30.0   1950.0  \n",
       "2                 1               1                   30.0   1950.0  \n",
       "3                 1               1                   30.0   1950.0  \n",
       "4                 1               1                   30.0   1950.0  \n",
       "5                 1               1                   30.0   1950.0  \n",
       "6                 1               1                   30.0   1950.0  \n",
       "7                 1               1                   30.0   1950.0  \n",
       "8                 3               3                   15.0   1150.0  \n",
       "9                 3               3                   15.0    550.0  \n",
       "10                3               3                   15.0    550.0  \n",
       "11                3               3                   15.0   1150.0  \n",
       "12                3               3                   15.0   1550.0  \n",
       "13                3               3                   15.0    950.0  \n",
       "14                3               3                   15.0    550.0  \n",
       "15                3               3                   15.0   1350.0  \n",
       "16                3               3                   15.0   1150.0  \n",
       "17                1               1                   30.0   1950.0  \n",
       "18                1               1                   30.0   1950.0  \n",
       "19                1               1                   30.0   1950.0  \n",
       "\n",
       "[20 rows x 25 columns]"
      ]
     },
     "execution_count": 93,
     "metadata": {},
     "output_type": "execute_result"
    }
   ],
   "source": [
    "data_final.head(20)"
   ]
  },
  {
   "cell_type": "code",
   "execution_count": 94,
   "id": "bf0ee3d2",
   "metadata": {},
   "outputs": [],
   "source": [
    "data_smart = data_final[data_final['tariff'] == 'smart']"
   ]
  },
  {
   "cell_type": "code",
   "execution_count": 95,
   "id": "cb000c5e",
   "metadata": {},
   "outputs": [
    {
     "data": {
      "text/html": [
       "<div>\n",
       "<style scoped>\n",
       "    .dataframe tbody tr th:only-of-type {\n",
       "        vertical-align: middle;\n",
       "    }\n",
       "\n",
       "    .dataframe tbody tr th {\n",
       "        vertical-align: top;\n",
       "    }\n",
       "\n",
       "    .dataframe thead th {\n",
       "        text-align: right;\n",
       "    }\n",
       "</style>\n",
       "<table border=\"1\" class=\"dataframe\">\n",
       "  <thead>\n",
       "    <tr style=\"text-align: right;\">\n",
       "      <th></th>\n",
       "      <th>user_id</th>\n",
       "    </tr>\n",
       "    <tr>\n",
       "      <th>month_x</th>\n",
       "      <th></th>\n",
       "    </tr>\n",
       "  </thead>\n",
       "  <tbody>\n",
       "    <tr>\n",
       "      <th>1</th>\n",
       "      <td>34</td>\n",
       "    </tr>\n",
       "    <tr>\n",
       "      <th>2</th>\n",
       "      <td>58</td>\n",
       "    </tr>\n",
       "    <tr>\n",
       "      <th>3</th>\n",
       "      <td>77</td>\n",
       "    </tr>\n",
       "    <tr>\n",
       "      <th>4</th>\n",
       "      <td>112</td>\n",
       "    </tr>\n",
       "    <tr>\n",
       "      <th>5</th>\n",
       "      <td>141</td>\n",
       "    </tr>\n",
       "    <tr>\n",
       "      <th>6</th>\n",
       "      <td>164</td>\n",
       "    </tr>\n",
       "    <tr>\n",
       "      <th>7</th>\n",
       "      <td>201</td>\n",
       "    </tr>\n",
       "    <tr>\n",
       "      <th>8</th>\n",
       "      <td>235</td>\n",
       "    </tr>\n",
       "    <tr>\n",
       "      <th>9</th>\n",
       "      <td>260</td>\n",
       "    </tr>\n",
       "    <tr>\n",
       "      <th>10</th>\n",
       "      <td>294</td>\n",
       "    </tr>\n",
       "    <tr>\n",
       "      <th>11</th>\n",
       "      <td>316</td>\n",
       "    </tr>\n",
       "    <tr>\n",
       "      <th>12</th>\n",
       "      <td>337</td>\n",
       "    </tr>\n",
       "  </tbody>\n",
       "</table>\n",
       "</div>"
      ],
      "text/plain": [
       "         user_id\n",
       "month_x         \n",
       "1             34\n",
       "2             58\n",
       "3             77\n",
       "4            112\n",
       "5            141\n",
       "6            164\n",
       "7            201\n",
       "8            235\n",
       "9            260\n",
       "10           294\n",
       "11           316\n",
       "12           337"
      ]
     },
     "execution_count": 95,
     "metadata": {},
     "output_type": "execute_result"
    }
   ],
   "source": [
    "data_smart.pivot_table(index = 'month_x', values = 'user_id', aggfunc = 'count')"
   ]
  },
  {
   "cell_type": "code",
   "execution_count": 96,
   "id": "82f716dc",
   "metadata": {},
   "outputs": [
    {
     "data": {
      "text/html": [
       "<div>\n",
       "<style scoped>\n",
       "    .dataframe tbody tr th:only-of-type {\n",
       "        vertical-align: middle;\n",
       "    }\n",
       "\n",
       "    .dataframe tbody tr th {\n",
       "        vertical-align: top;\n",
       "    }\n",
       "\n",
       "    .dataframe thead th {\n",
       "        text-align: right;\n",
       "    }\n",
       "</style>\n",
       "<table border=\"1\" class=\"dataframe\">\n",
       "  <thead>\n",
       "    <tr style=\"text-align: right;\">\n",
       "      <th></th>\n",
       "      <th>user_id</th>\n",
       "    </tr>\n",
       "    <tr>\n",
       "      <th>month_x</th>\n",
       "      <th></th>\n",
       "    </tr>\n",
       "  </thead>\n",
       "  <tbody>\n",
       "    <tr>\n",
       "      <th>1</th>\n",
       "      <td>34</td>\n",
       "    </tr>\n",
       "    <tr>\n",
       "      <th>2</th>\n",
       "      <td>58</td>\n",
       "    </tr>\n",
       "    <tr>\n",
       "      <th>3</th>\n",
       "      <td>77</td>\n",
       "    </tr>\n",
       "    <tr>\n",
       "      <th>4</th>\n",
       "      <td>112</td>\n",
       "    </tr>\n",
       "    <tr>\n",
       "      <th>5</th>\n",
       "      <td>141</td>\n",
       "    </tr>\n",
       "    <tr>\n",
       "      <th>6</th>\n",
       "      <td>164</td>\n",
       "    </tr>\n",
       "    <tr>\n",
       "      <th>7</th>\n",
       "      <td>201</td>\n",
       "    </tr>\n",
       "    <tr>\n",
       "      <th>8</th>\n",
       "      <td>235</td>\n",
       "    </tr>\n",
       "    <tr>\n",
       "      <th>9</th>\n",
       "      <td>260</td>\n",
       "    </tr>\n",
       "    <tr>\n",
       "      <th>10</th>\n",
       "      <td>294</td>\n",
       "    </tr>\n",
       "    <tr>\n",
       "      <th>11</th>\n",
       "      <td>316</td>\n",
       "    </tr>\n",
       "    <tr>\n",
       "      <th>12</th>\n",
       "      <td>337</td>\n",
       "    </tr>\n",
       "  </tbody>\n",
       "</table>\n",
       "</div>"
      ],
      "text/plain": [
       "         user_id\n",
       "month_x         \n",
       "1             34\n",
       "2             58\n",
       "3             77\n",
       "4            112\n",
       "5            141\n",
       "6            164\n",
       "7            201\n",
       "8            235\n",
       "9            260\n",
       "10           294\n",
       "11           316\n",
       "12           337"
      ]
     },
     "execution_count": 96,
     "metadata": {},
     "output_type": "execute_result"
    }
   ],
   "source": [
    "data_smart.groupby('month_x').count()['user_id'].reset_index('month_x').set_index('month_x')"
   ]
  },
  {
   "cell_type": "code",
   "execution_count": 97,
   "id": "3088cd62",
   "metadata": {},
   "outputs": [
    {
     "data": {
      "text/html": [
       "<div>\n",
       "<style scoped>\n",
       "    .dataframe tbody tr th:only-of-type {\n",
       "        vertical-align: middle;\n",
       "    }\n",
       "\n",
       "    .dataframe tbody tr th {\n",
       "        vertical-align: top;\n",
       "    }\n",
       "\n",
       "    .dataframe thead th {\n",
       "        text-align: right;\n",
       "    }\n",
       "</style>\n",
       "<table border=\"1\" class=\"dataframe\">\n",
       "  <thead>\n",
       "    <tr style=\"text-align: right;\">\n",
       "      <th></th>\n",
       "      <th>month_x</th>\n",
       "      <th>call_duration</th>\n",
       "      <th>gb_used</th>\n",
       "      <th>nb_messages</th>\n",
       "    </tr>\n",
       "  </thead>\n",
       "  <tbody>\n",
       "    <tr>\n",
       "      <th>count</th>\n",
       "      <td>12.000000</td>\n",
       "      <td>12.000000</td>\n",
       "      <td>12.000000</td>\n",
       "      <td>12.000000</td>\n",
       "    </tr>\n",
       "    <tr>\n",
       "      <th>mean</th>\n",
       "      <td>6.500000</td>\n",
       "      <td>77631.416667</td>\n",
       "      <td>3033.083333</td>\n",
       "      <td>6201.083333</td>\n",
       "    </tr>\n",
       "    <tr>\n",
       "      <th>std</th>\n",
       "      <td>3.605551</td>\n",
       "      <td>49912.744923</td>\n",
       "      <td>1922.958821</td>\n",
       "      <td>3790.989687</td>\n",
       "    </tr>\n",
       "    <tr>\n",
       "      <th>min</th>\n",
       "      <td>1.000000</td>\n",
       "      <td>6931.000000</td>\n",
       "      <td>297.000000</td>\n",
       "      <td>620.000000</td>\n",
       "    </tr>\n",
       "    <tr>\n",
       "      <th>25%</th>\n",
       "      <td>3.750000</td>\n",
       "      <td>38347.750000</td>\n",
       "      <td>1437.750000</td>\n",
       "      <td>3195.500000</td>\n",
       "    </tr>\n",
       "    <tr>\n",
       "      <th>50%</th>\n",
       "      <td>6.500000</td>\n",
       "      <td>73482.000000</td>\n",
       "      <td>2903.500000</td>\n",
       "      <td>6131.000000</td>\n",
       "    </tr>\n",
       "    <tr>\n",
       "      <th>75%</th>\n",
       "      <td>9.250000</td>\n",
       "      <td>114900.250000</td>\n",
       "      <td>4437.250000</td>\n",
       "      <td>9041.250000</td>\n",
       "    </tr>\n",
       "    <tr>\n",
       "      <th>max</th>\n",
       "      <td>12.000000</td>\n",
       "      <td>161275.000000</td>\n",
       "      <td>6134.000000</td>\n",
       "      <td>12130.000000</td>\n",
       "    </tr>\n",
       "  </tbody>\n",
       "</table>\n",
       "</div>"
      ],
      "text/plain": [
       "         month_x  call_duration      gb_used   nb_messages\n",
       "count  12.000000      12.000000    12.000000     12.000000\n",
       "mean    6.500000   77631.416667  3033.083333   6201.083333\n",
       "std     3.605551   49912.744923  1922.958821   3790.989687\n",
       "min     1.000000    6931.000000   297.000000    620.000000\n",
       "25%     3.750000   38347.750000  1437.750000   3195.500000\n",
       "50%     6.500000   73482.000000  2903.500000   6131.000000\n",
       "75%     9.250000  114900.250000  4437.250000   9041.250000\n",
       "max    12.000000  161275.000000  6134.000000  12130.000000"
      ]
     },
     "execution_count": 97,
     "metadata": {},
     "output_type": "execute_result"
    }
   ],
   "source": [
    "data_analyse_smart.describe()"
   ]
  },
  {
   "cell_type": "markdown",
   "id": "42ec4755",
   "metadata": {},
   "source": [
    "пользователи Smart тарифа тратят в среднем 73264 минут, 3025 Gb и пишут почти 6200 сообщения в каждый месяц, исходя из доступных данных и временный промежуток. Стандартное отклонения соотвественно 47102 минут, 1915 Gb и 3780 сообщения, что достаточно большие показатели в сравнения со среднем, то что говорит нам о большым разбросом данных."
   ]
  },
  {
   "cell_type": "code",
   "execution_count": 98,
   "id": "9a842c33",
   "metadata": {},
   "outputs": [],
   "source": [
    "#data_analyse_smart.plot(figsize=(16,6), kind = 'bar')"
   ]
  },
  {
   "cell_type": "markdown",
   "id": "5d3d63c4",
   "metadata": {},
   "source": [
    "<div class=\"alert alert-danger\"; style=\"border-left: 7px solid red\">\n",
    "<h3>👀 Комментарий ревьюера</h3>\n",
    "    \n",
    "Т.к. значения изменряются в разных величинах, то на одном графике их отображать нельзя, иначе ты сравниваешь мегабайты и минуты и штуки\n",
    "</div>    \n"
   ]
  },
  {
   "cell_type": "code",
   "execution_count": 99,
   "id": "6bb9d4f4",
   "metadata": {},
   "outputs": [
    {
     "data": {
      "image/png": "[encoded data removed]",
      "text/plain": [
       "<Figure size 1152x432 with 1 Axes>"
      ]
     },
     "metadata": {
      "needs_background": "light"
     },
     "output_type": "display_data"
    },
    {
     "data": {
      "image/png": "[encoded data removed]",
      "text/plain": [
       "<Figure size 1152x432 with 1 Axes>"
      ]
     },
     "metadata": {
      "needs_background": "light"
     },
     "output_type": "display_data"
    },
    {
     "data": {
      "image/png": "[encoded data removed]",
      "text/plain": [
       "<Figure size 1152x432 with 1 Axes>"
      ]
     },
     "metadata": {
      "needs_background": "light"
     },
     "output_type": "display_data"
    }
   ],
   "source": [
    "plt.figure(figsize=(25, 25))\n",
    "for j, i in enumerate(['call_duration','gb_used','nb_messages']):\n",
    "    ax = plt.subplot(1,3,j+1)\n",
    "    ax.set(xlabel='Month', ylabel='Revenue')\n",
    "    data_analyse_smart[i].plot.bar(x = 'month_x', color='red',label='smart',figsize=(16,6),alpha=0.5)\n",
    "    data_analyse_ultra[i].plot.bar(x = 'month_x',color='orange',label='ultra',figsize=(16,6),alpha=0.5)\n",
    "    plt.legend()\n",
    "    plt.title(i)\n",
    "    plt.show()"
   ]
  },
  {
   "cell_type": "code",
   "execution_count": 100,
   "id": "b192d53b",
   "metadata": {},
   "outputs": [
    {
     "data": {
      "image/png": "[encoded data removed]",
      "text/plain": [
       "<Figure size 1152x432 with 1 Axes>"
      ]
     },
     "metadata": {
      "needs_background": "light"
     },
     "output_type": "display_data"
    }
   ],
   "source": [
    "data_analyse_smart['call_duration'].plot.bar(x = 'month_x', color='red',label='smart',figsize=(16,6),alpha=0.5)\n",
    "data_analyse_ultra['call_duration'].plot.bar(x = 'month_x',color='orange',label='ultra',figsize=(16,6),alpha=0.5)\n",
    "plt.legend();"
   ]
  },
  {
   "cell_type": "code",
   "execution_count": 101,
   "id": "5b270d30",
   "metadata": {},
   "outputs": [
    {
     "data": {
      "image/png": "[encoded data removed]",
      "text/plain": [
       "<Figure size 1152x432 with 1 Axes>"
      ]
     },
     "metadata": {
      "needs_background": "light"
     },
     "output_type": "display_data"
    }
   ],
   "source": [
    "data_analyse_smart['gb_used'].plot.bar(x = 'month_x', color='red',label='smart',figsize=(16,6),alpha=0.5)\n",
    "data_analyse_ultra['gb_used'].plot.bar(x = 'month_x',color='orange',y = 'call_duration',label='ultra',figsize=(16,6),alpha=0.5)\n",
    "plt.legend();"
   ]
  },
  {
   "cell_type": "code",
   "execution_count": 102,
   "id": "dc360eca",
   "metadata": {},
   "outputs": [
    {
     "data": {
      "image/png": "[encoded data removed]",
      "text/plain": [
       "<Figure size 1152x432 with 1 Axes>"
      ]
     },
     "metadata": {
      "needs_background": "light"
     },
     "output_type": "display_data"
    }
   ],
   "source": [
    "data_analyse_smart['nb_messages'].plot.bar(x = 'month_x', color='red',label='smart',figsize=(16,6),alpha=0.5)\n",
    "data_analyse_ultra['nb_messages'].plot.bar(x = 'month_x',color='orange',y = 'call_duration',label='ultra',figsize=(16,6),alpha=0.5)\n",
    "plt.legend();"
   ]
  },
  {
   "cell_type": "markdown",
   "id": "94422d68",
   "metadata": {},
   "source": [
    "по диаграмме Barchart можно легко увидить наростающий тренд по затратам по месяцам "
   ]
  },
  {
   "cell_type": "markdown",
   "id": "a511404c",
   "metadata": {},
   "source": [
    " - Посчитайте среднее количество, дисперсию и стандартное отклонение."
   ]
  },
  {
   "cell_type": "code",
   "execution_count": 103,
   "id": "3799a667",
   "metadata": {},
   "outputs": [
    {
     "name": "stderr",
     "output_type": "stream",
     "text": [
      "C:\\Users\\CORNEL~1.LEA\\AppData\\Local\\Temp/ipykernel_18084/2992899846.py:1: FutureWarning: Dropping of nuisance columns in DataFrame reductions (with 'numeric_only=None') is deprecated; in a future version this will raise TypeError.  Select only valid columns before calling the reduction.\n",
      "  data_analyse_smart.var()\n"
     ]
    },
    {
     "data": {
      "text/plain": [
       "month_x          1.300000e+01\n",
       "call_duration    2.491282e+09\n",
       "gb_used          3.697771e+06\n",
       "nb_messages      1.437160e+07\n",
       "dtype: float64"
      ]
     },
     "execution_count": 103,
     "metadata": {},
     "output_type": "execute_result"
    }
   ],
   "source": [
    "data_analyse_smart.var()"
   ]
  },
  {
   "cell_type": "code",
   "execution_count": 104,
   "id": "a312d596",
   "metadata": {},
   "outputs": [
    {
     "name": "stderr",
     "output_type": "stream",
     "text": [
      "C:\\Users\\CORNEL~1.LEA\\AppData\\Local\\Temp/ipykernel_18084/1862253254.py:1: FutureWarning: Dropping of nuisance columns in DataFrame reductions (with 'numeric_only=None') is deprecated; in a future version this will raise TypeError.  Select only valid columns before calling the reduction.\n",
      "  data_analyse_smart.std()\n"
     ]
    },
    {
     "data": {
      "text/plain": [
       "month_x              3.605551\n",
       "call_duration    49912.744923\n",
       "gb_used           1922.958821\n",
       "nb_messages       3790.989687\n",
       "dtype: float64"
      ]
     },
     "execution_count": 104,
     "metadata": {},
     "output_type": "execute_result"
    }
   ],
   "source": [
    "data_analyse_smart.std()"
   ]
  },
  {
   "cell_type": "code",
   "execution_count": 105,
   "id": "9bf857d6",
   "metadata": {},
   "outputs": [
    {
     "name": "stderr",
     "output_type": "stream",
     "text": [
      "C:\\Users\\CORNEL~1.LEA\\AppData\\Local\\Temp/ipykernel_18084/3832778751.py:1: FutureWarning: Dropping of nuisance columns in DataFrame reductions (with 'numeric_only=None') is deprecated; in a future version this will raise TypeError.  Select only valid columns before calling the reduction.\n",
      "  data_analyse_smart.mean()\n"
     ]
    },
    {
     "data": {
      "text/plain": [
       "month_x              6.500000\n",
       "call_duration    77631.416667\n",
       "gb_used           3033.083333\n",
       "nb_messages       6201.083333\n",
       "dtype: float64"
      ]
     },
     "execution_count": 105,
     "metadata": {},
     "output_type": "execute_result"
    }
   ],
   "source": [
    "data_analyse_smart.mean()"
   ]
  },
  {
   "cell_type": "markdown",
   "id": "36f56f4f",
   "metadata": {},
   "source": [
    "<div class=\"alert alert-danger\"; style=\"border-left: 7px solid red\">\n",
    "<h3>👀 Комментарий ревьюера</h3>\n",
    "    \n",
    "Выше ты считаешь средние, отклонения и дисперсию для **сумм сессий за каждый месяц**, это мало что даёт с учётом того, что в течение года число пользователей растёт. Нужно же смотреть на средние, отклонения и дисперсию для отдельных человеко-месяцев. Т.е. для стольцов `call_duration`, `gb_used` и `nb_messages` для таблицы `data_final`. Тут удобнее всего сгруппировать по тарифу и применить нужные функции к нужным столбцам\n",
    "\n",
    "</div>    \n"
   ]
  },
  {
   "cell_type": "markdown",
   "id": "691ba28a",
   "metadata": {},
   "source": [
    "<div class = \"alert alert-info\" style=\"border-left: 7px solid blue\">\n",
    "<h3>Комментарий студента</h3>\n",
    "\n",
    "ок, сделал ниже\n",
    "    \n",
    "    \n",
    "</div>"
   ]
  },
  {
   "cell_type": "code",
   "execution_count": 106,
   "id": "7c16041d",
   "metadata": {},
   "outputs": [
    {
     "data": {
      "text/html": [
       "<div>\n",
       "<style scoped>\n",
       "    .dataframe tbody tr th:only-of-type {\n",
       "        vertical-align: middle;\n",
       "    }\n",
       "\n",
       "    .dataframe tbody tr th {\n",
       "        vertical-align: top;\n",
       "    }\n",
       "\n",
       "    .dataframe thead tr th {\n",
       "        text-align: left;\n",
       "    }\n",
       "\n",
       "    .dataframe thead tr:last-of-type th {\n",
       "        text-align: right;\n",
       "    }\n",
       "</style>\n",
       "<table border=\"1\" class=\"dataframe\">\n",
       "  <thead>\n",
       "    <tr>\n",
       "      <th></th>\n",
       "      <th colspan=\"6\" halign=\"left\">mean</th>\n",
       "      <th colspan=\"6\" halign=\"left\">var</th>\n",
       "      <th colspan=\"6\" halign=\"left\">std</th>\n",
       "    </tr>\n",
       "    <tr>\n",
       "      <th></th>\n",
       "      <th colspan=\"2\" halign=\"left\">call_duration</th>\n",
       "      <th colspan=\"2\" halign=\"left\">gb_used</th>\n",
       "      <th colspan=\"2\" halign=\"left\">nb_messages</th>\n",
       "      <th colspan=\"2\" halign=\"left\">call_duration</th>\n",
       "      <th colspan=\"2\" halign=\"left\">gb_used</th>\n",
       "      <th colspan=\"2\" halign=\"left\">nb_messages</th>\n",
       "      <th colspan=\"2\" halign=\"left\">call_duration</th>\n",
       "      <th colspan=\"2\" halign=\"left\">gb_used</th>\n",
       "      <th colspan=\"2\" halign=\"left\">nb_messages</th>\n",
       "    </tr>\n",
       "    <tr>\n",
       "      <th>tariff</th>\n",
       "      <th>smart</th>\n",
       "      <th>ultra</th>\n",
       "      <th>smart</th>\n",
       "      <th>ultra</th>\n",
       "      <th>smart</th>\n",
       "      <th>ultra</th>\n",
       "      <th>smart</th>\n",
       "      <th>ultra</th>\n",
       "      <th>smart</th>\n",
       "      <th>ultra</th>\n",
       "      <th>smart</th>\n",
       "      <th>ultra</th>\n",
       "      <th>smart</th>\n",
       "      <th>ultra</th>\n",
       "      <th>smart</th>\n",
       "      <th>ultra</th>\n",
       "      <th>smart</th>\n",
       "      <th>ultra</th>\n",
       "    </tr>\n",
       "    <tr>\n",
       "      <th>month_x</th>\n",
       "      <th></th>\n",
       "      <th></th>\n",
       "      <th></th>\n",
       "      <th></th>\n",
       "      <th></th>\n",
       "      <th></th>\n",
       "      <th></th>\n",
       "      <th></th>\n",
       "      <th></th>\n",
       "      <th></th>\n",
       "      <th></th>\n",
       "      <th></th>\n",
       "      <th></th>\n",
       "      <th></th>\n",
       "      <th></th>\n",
       "      <th></th>\n",
       "      <th></th>\n",
       "      <th></th>\n",
       "    </tr>\n",
       "  </thead>\n",
       "  <tbody>\n",
       "    <tr>\n",
       "      <th>1</th>\n",
       "      <td>203.852941</td>\n",
       "      <td>428.111111</td>\n",
       "      <td>8.735294</td>\n",
       "      <td>13.222222</td>\n",
       "      <td>18.235294</td>\n",
       "      <td>33.777778</td>\n",
       "      <td>23787.341355</td>\n",
       "      <td>72769.361111</td>\n",
       "      <td>39.412656</td>\n",
       "      <td>44.444444</td>\n",
       "      <td>262.367201</td>\n",
       "      <td>940.694444</td>\n",
       "      <td>154.231454</td>\n",
       "      <td>269.757968</td>\n",
       "      <td>6.277950</td>\n",
       "      <td>6.666667</td>\n",
       "      <td>16.197753</td>\n",
       "      <td>30.670742</td>\n",
       "    </tr>\n",
       "    <tr>\n",
       "      <th>2</th>\n",
       "      <td>298.689655</td>\n",
       "      <td>297.125000</td>\n",
       "      <td>11.844828</td>\n",
       "      <td>12.000000</td>\n",
       "      <td>24.086207</td>\n",
       "      <td>21.958333</td>\n",
       "      <td>36412.287961</td>\n",
       "      <td>87919.679348</td>\n",
       "      <td>37.150938</td>\n",
       "      <td>109.130435</td>\n",
       "      <td>473.097701</td>\n",
       "      <td>716.824275</td>\n",
       "      <td>190.820041</td>\n",
       "      <td>296.512528</td>\n",
       "      <td>6.095157</td>\n",
       "      <td>10.446551</td>\n",
       "      <td>21.750809</td>\n",
       "      <td>26.773574</td>\n",
       "    </tr>\n",
       "    <tr>\n",
       "      <th>3</th>\n",
       "      <td>390.051948</td>\n",
       "      <td>489.648649</td>\n",
       "      <td>15.233766</td>\n",
       "      <td>17.648649</td>\n",
       "      <td>31.857143</td>\n",
       "      <td>32.297297</td>\n",
       "      <td>36823.155161</td>\n",
       "      <td>111384.900901</td>\n",
       "      <td>32.549897</td>\n",
       "      <td>114.345345</td>\n",
       "      <td>718.492481</td>\n",
       "      <td>1732.381381</td>\n",
       "      <td>191.893604</td>\n",
       "      <td>333.743765</td>\n",
       "      <td>5.705252</td>\n",
       "      <td>10.693238</td>\n",
       "      <td>26.804710</td>\n",
       "      <td>41.621886</td>\n",
       "    </tr>\n",
       "    <tr>\n",
       "      <th>4</th>\n",
       "      <td>367.133929</td>\n",
       "      <td>458.018182</td>\n",
       "      <td>13.625000</td>\n",
       "      <td>16.963636</td>\n",
       "      <td>30.741071</td>\n",
       "      <td>31.563636</td>\n",
       "      <td>34778.207127</td>\n",
       "      <td>71653.870034</td>\n",
       "      <td>31.299550</td>\n",
       "      <td>89.443098</td>\n",
       "      <td>602.139559</td>\n",
       "      <td>1407.287542</td>\n",
       "      <td>186.489161</td>\n",
       "      <td>267.682405</td>\n",
       "      <td>5.594600</td>\n",
       "      <td>9.457436</td>\n",
       "      <td>24.538532</td>\n",
       "      <td>37.513831</td>\n",
       "    </tr>\n",
       "    <tr>\n",
       "      <th>5</th>\n",
       "      <td>387.361702</td>\n",
       "      <td>510.328358</td>\n",
       "      <td>15.907801</td>\n",
       "      <td>19.373134</td>\n",
       "      <td>33.773050</td>\n",
       "      <td>37.850746</td>\n",
       "      <td>34820.061094</td>\n",
       "      <td>83870.193578</td>\n",
       "      <td>34.370010</td>\n",
       "      <td>95.631389</td>\n",
       "      <td>730.990983</td>\n",
       "      <td>1624.644052</td>\n",
       "      <td>186.601343</td>\n",
       "      <td>289.603511</td>\n",
       "      <td>5.862594</td>\n",
       "      <td>9.779130</td>\n",
       "      <td>27.036845</td>\n",
       "      <td>40.306874</td>\n",
       "    </tr>\n",
       "    <tr>\n",
       "      <th>6</th>\n",
       "      <td>395.640244</td>\n",
       "      <td>479.702381</td>\n",
       "      <td>15.951220</td>\n",
       "      <td>18.940476</td>\n",
       "      <td>33.402439</td>\n",
       "      <td>41.726190</td>\n",
       "      <td>30742.918861</td>\n",
       "      <td>91535.946500</td>\n",
       "      <td>31.911716</td>\n",
       "      <td>82.394005</td>\n",
       "      <td>806.806374</td>\n",
       "      <td>1986.297619</td>\n",
       "      <td>175.336587</td>\n",
       "      <td>302.549081</td>\n",
       "      <td>5.649046</td>\n",
       "      <td>9.077114</td>\n",
       "      <td>28.404337</td>\n",
       "      <td>44.567899</td>\n",
       "    </tr>\n",
       "    <tr>\n",
       "      <th>7</th>\n",
       "      <td>408.353234</td>\n",
       "      <td>545.791209</td>\n",
       "      <td>15.875622</td>\n",
       "      <td>20.505495</td>\n",
       "      <td>33.751244</td>\n",
       "      <td>49.846154</td>\n",
       "      <td>32250.269602</td>\n",
       "      <td>94322.278144</td>\n",
       "      <td>33.419453</td>\n",
       "      <td>96.430525</td>\n",
       "      <td>799.887811</td>\n",
       "      <td>2372.042735</td>\n",
       "      <td>179.583601</td>\n",
       "      <td>307.119322</td>\n",
       "      <td>5.780956</td>\n",
       "      <td>9.819905</td>\n",
       "      <td>28.282288</td>\n",
       "      <td>48.703621</td>\n",
       "    </tr>\n",
       "    <tr>\n",
       "      <th>8</th>\n",
       "      <td>421.468085</td>\n",
       "      <td>510.775701</td>\n",
       "      <td>16.736170</td>\n",
       "      <td>19.598131</td>\n",
       "      <td>33.638298</td>\n",
       "      <td>48.439252</td>\n",
       "      <td>34793.583379</td>\n",
       "      <td>97956.496385</td>\n",
       "      <td>30.041207</td>\n",
       "      <td>105.148298</td>\n",
       "      <td>838.257501</td>\n",
       "      <td>2171.739199</td>\n",
       "      <td>186.530382</td>\n",
       "      <td>312.980026</td>\n",
       "      <td>5.480986</td>\n",
       "      <td>10.254184</td>\n",
       "      <td>28.952677</td>\n",
       "      <td>46.601923</td>\n",
       "    </tr>\n",
       "    <tr>\n",
       "      <th>9</th>\n",
       "      <td>428.611538</td>\n",
       "      <td>539.443478</td>\n",
       "      <td>16.392308</td>\n",
       "      <td>19.243478</td>\n",
       "      <td>33.638462</td>\n",
       "      <td>52.286957</td>\n",
       "      <td>33535.342723</td>\n",
       "      <td>105716.775286</td>\n",
       "      <td>25.884110</td>\n",
       "      <td>86.255988</td>\n",
       "      <td>790.617820</td>\n",
       "      <td>2152.855530</td>\n",
       "      <td>183.126576</td>\n",
       "      <td>325.141162</td>\n",
       "      <td>5.087643</td>\n",
       "      <td>9.287410</td>\n",
       "      <td>28.117927</td>\n",
       "      <td>46.398874</td>\n",
       "    </tr>\n",
       "    <tr>\n",
       "      <th>10</th>\n",
       "      <td>426.136054</td>\n",
       "      <td>558.081301</td>\n",
       "      <td>16.880952</td>\n",
       "      <td>20.065041</td>\n",
       "      <td>33.765306</td>\n",
       "      <td>58.430894</td>\n",
       "      <td>35392.336375</td>\n",
       "      <td>106464.583500</td>\n",
       "      <td>32.897042</td>\n",
       "      <td>91.258030</td>\n",
       "      <td>816.111966</td>\n",
       "      <td>2697.181661</td>\n",
       "      <td>188.128510</td>\n",
       "      <td>326.289110</td>\n",
       "      <td>5.735594</td>\n",
       "      <td>9.552907</td>\n",
       "      <td>28.567673</td>\n",
       "      <td>51.934398</td>\n",
       "    </tr>\n",
       "    <tr>\n",
       "      <th>11</th>\n",
       "      <td>435.265823</td>\n",
       "      <td>541.380597</td>\n",
       "      <td>17.000000</td>\n",
       "      <td>19.805970</td>\n",
       "      <td>34.075949</td>\n",
       "      <td>55.791045</td>\n",
       "      <td>31605.237050</td>\n",
       "      <td>96570.057064</td>\n",
       "      <td>27.180952</td>\n",
       "      <td>93.796656</td>\n",
       "      <td>805.937071</td>\n",
       "      <td>2476.948491</td>\n",
       "      <td>177.778618</td>\n",
       "      <td>310.757232</td>\n",
       "      <td>5.213535</td>\n",
       "      <td>9.684867</td>\n",
       "      <td>28.389031</td>\n",
       "      <td>49.768951</td>\n",
       "    </tr>\n",
       "    <tr>\n",
       "      <th>12</th>\n",
       "      <td>478.560831</td>\n",
       "      <td>592.805755</td>\n",
       "      <td>18.201780</td>\n",
       "      <td>21.741007</td>\n",
       "      <td>35.994065</td>\n",
       "      <td>60.611511</td>\n",
       "      <td>39698.622033</td>\n",
       "      <td>117276.331561</td>\n",
       "      <td>29.786544</td>\n",
       "      <td>103.236784</td>\n",
       "      <td>934.952346</td>\n",
       "      <td>2681.978417</td>\n",
       "      <td>199.245131</td>\n",
       "      <td>342.456321</td>\n",
       "      <td>5.457705</td>\n",
       "      <td>10.160550</td>\n",
       "      <td>30.576990</td>\n",
       "      <td>51.787821</td>\n",
       "    </tr>\n",
       "  </tbody>\n",
       "</table>\n",
       "</div>"
      ],
      "text/plain": [
       "                 mean                                                \\\n",
       "        call_duration                gb_used            nb_messages   \n",
       "tariff          smart       ultra      smart      ultra       smart   \n",
       "month_x                                                               \n",
       "1          203.852941  428.111111   8.735294  13.222222   18.235294   \n",
       "2          298.689655  297.125000  11.844828  12.000000   24.086207   \n",
       "3          390.051948  489.648649  15.233766  17.648649   31.857143   \n",
       "4          367.133929  458.018182  13.625000  16.963636   30.741071   \n",
       "5          387.361702  510.328358  15.907801  19.373134   33.773050   \n",
       "6          395.640244  479.702381  15.951220  18.940476   33.402439   \n",
       "7          408.353234  545.791209  15.875622  20.505495   33.751244   \n",
       "8          421.468085  510.775701  16.736170  19.598131   33.638298   \n",
       "9          428.611538  539.443478  16.392308  19.243478   33.638462   \n",
       "10         426.136054  558.081301  16.880952  20.065041   33.765306   \n",
       "11         435.265823  541.380597  17.000000  19.805970   34.075949   \n",
       "12         478.560831  592.805755  18.201780  21.741007   35.994065   \n",
       "\n",
       "                             var                                        \\\n",
       "                   call_duration                   gb_used               \n",
       "tariff       ultra         smart          ultra      smart       ultra   \n",
       "month_x                                                                  \n",
       "1        33.777778  23787.341355   72769.361111  39.412656   44.444444   \n",
       "2        21.958333  36412.287961   87919.679348  37.150938  109.130435   \n",
       "3        32.297297  36823.155161  111384.900901  32.549897  114.345345   \n",
       "4        31.563636  34778.207127   71653.870034  31.299550   89.443098   \n",
       "5        37.850746  34820.061094   83870.193578  34.370010   95.631389   \n",
       "6        41.726190  30742.918861   91535.946500  31.911716   82.394005   \n",
       "7        49.846154  32250.269602   94322.278144  33.419453   96.430525   \n",
       "8        48.439252  34793.583379   97956.496385  30.041207  105.148298   \n",
       "9        52.286957  33535.342723  105716.775286  25.884110   86.255988   \n",
       "10       58.430894  35392.336375  106464.583500  32.897042   91.258030   \n",
       "11       55.791045  31605.237050   96570.057064  27.180952   93.796656   \n",
       "12       60.611511  39698.622033  117276.331561  29.786544  103.236784   \n",
       "\n",
       "                                           std                        \\\n",
       "        nb_messages              call_duration               gb_used   \n",
       "tariff        smart        ultra         smart       ultra     smart   \n",
       "month_x                                                                \n",
       "1        262.367201   940.694444    154.231454  269.757968  6.277950   \n",
       "2        473.097701   716.824275    190.820041  296.512528  6.095157   \n",
       "3        718.492481  1732.381381    191.893604  333.743765  5.705252   \n",
       "4        602.139559  1407.287542    186.489161  267.682405  5.594600   \n",
       "5        730.990983  1624.644052    186.601343  289.603511  5.862594   \n",
       "6        806.806374  1986.297619    175.336587  302.549081  5.649046   \n",
       "7        799.887811  2372.042735    179.583601  307.119322  5.780956   \n",
       "8        838.257501  2171.739199    186.530382  312.980026  5.480986   \n",
       "9        790.617820  2152.855530    183.126576  325.141162  5.087643   \n",
       "10       816.111966  2697.181661    188.128510  326.289110  5.735594   \n",
       "11       805.937071  2476.948491    177.778618  310.757232  5.213535   \n",
       "12       934.952346  2681.978417    199.245131  342.456321  5.457705   \n",
       "\n",
       "                                           \n",
       "                   nb_messages             \n",
       "tariff       ultra       smart      ultra  \n",
       "month_x                                    \n",
       "1         6.666667   16.197753  30.670742  \n",
       "2        10.446551   21.750809  26.773574  \n",
       "3        10.693238   26.804710  41.621886  \n",
       "4         9.457436   24.538532  37.513831  \n",
       "5         9.779130   27.036845  40.306874  \n",
       "6         9.077114   28.404337  44.567899  \n",
       "7         9.819905   28.282288  48.703621  \n",
       "8        10.254184   28.952677  46.601923  \n",
       "9         9.287410   28.117927  46.398874  \n",
       "10        9.552907   28.567673  51.934398  \n",
       "11        9.684867   28.389031  49.768951  \n",
       "12       10.160550   30.576990  51.787821  "
      ]
     },
     "execution_count": 106,
     "metadata": {},
     "output_type": "execute_result"
    }
   ],
   "source": [
    "data_final.pivot_table(index = 'month_x',columns = 'tariff', values = ['call_duration','nb_messages','gb_used'],aggfunc = ['mean','var','std'])"
   ]
  },
  {
   "cell_type": "code",
   "execution_count": 107,
   "id": "52b44777",
   "metadata": {},
   "outputs": [
    {
     "data": {
      "text/html": [
       "<div>\n",
       "<style scoped>\n",
       "    .dataframe tbody tr th:only-of-type {\n",
       "        vertical-align: middle;\n",
       "    }\n",
       "\n",
       "    .dataframe tbody tr th {\n",
       "        vertical-align: top;\n",
       "    }\n",
       "\n",
       "    .dataframe thead tr th {\n",
       "        text-align: left;\n",
       "    }\n",
       "\n",
       "    .dataframe thead tr:last-of-type th {\n",
       "        text-align: right;\n",
       "    }\n",
       "</style>\n",
       "<table border=\"1\" class=\"dataframe\">\n",
       "  <thead>\n",
       "    <tr>\n",
       "      <th></th>\n",
       "      <th colspan=\"3\" halign=\"left\">mean</th>\n",
       "      <th colspan=\"3\" halign=\"left\">var</th>\n",
       "      <th colspan=\"3\" halign=\"left\">std</th>\n",
       "    </tr>\n",
       "    <tr>\n",
       "      <th></th>\n",
       "      <th>call_duration</th>\n",
       "      <th>gb_used</th>\n",
       "      <th>nb_messages</th>\n",
       "      <th>call_duration</th>\n",
       "      <th>gb_used</th>\n",
       "      <th>nb_messages</th>\n",
       "      <th>call_duration</th>\n",
       "      <th>gb_used</th>\n",
       "      <th>nb_messages</th>\n",
       "    </tr>\n",
       "    <tr>\n",
       "      <th>tariff</th>\n",
       "      <th></th>\n",
       "      <th></th>\n",
       "      <th></th>\n",
       "      <th></th>\n",
       "      <th></th>\n",
       "      <th></th>\n",
       "      <th></th>\n",
       "      <th></th>\n",
       "      <th></th>\n",
       "    </tr>\n",
       "  </thead>\n",
       "  <tbody>\n",
       "    <tr>\n",
       "      <th>smart</th>\n",
       "      <td>417.934948</td>\n",
       "      <td>16.328847</td>\n",
       "      <td>33.384029</td>\n",
       "      <td>36219.315784</td>\n",
       "      <td>33.028705</td>\n",
       "      <td>796.812958</td>\n",
       "      <td>190.313730</td>\n",
       "      <td>5.747061</td>\n",
       "      <td>28.227876</td>\n",
       "    </tr>\n",
       "    <tr>\n",
       "      <th>ultra</th>\n",
       "      <td>526.623350</td>\n",
       "      <td>19.494416</td>\n",
       "      <td>49.363452</td>\n",
       "      <td>100873.633397</td>\n",
       "      <td>97.091686</td>\n",
       "      <td>2285.266143</td>\n",
       "      <td>317.606098</td>\n",
       "      <td>9.853511</td>\n",
       "      <td>47.804457</td>\n",
       "    </tr>\n",
       "  </tbody>\n",
       "</table>\n",
       "</div>"
      ],
      "text/plain": [
       "                mean                                   var             \\\n",
       "       call_duration    gb_used nb_messages  call_duration    gb_used   \n",
       "tariff                                                                  \n",
       "smart     417.934948  16.328847   33.384029   36219.315784  33.028705   \n",
       "ultra     526.623350  19.494416   49.363452  100873.633397  97.091686   \n",
       "\n",
       "                              std                        \n",
       "        nb_messages call_duration   gb_used nb_messages  \n",
       "tariff                                                   \n",
       "smart    796.812958    190.313730  5.747061   28.227876  \n",
       "ultra   2285.266143    317.606098  9.853511   47.804457  "
      ]
     },
     "execution_count": 107,
     "metadata": {},
     "output_type": "execute_result"
    }
   ],
   "source": [
    "data_final.pivot_table(index = 'tariff', values = ['call_duration','nb_messages','gb_used'],aggfunc = ['mean','var','std'])"
   ]
  },
  {
   "cell_type": "markdown",
   "id": "8ca9b814",
   "metadata": {},
   "source": [
    "<div class=\"alert alert-success\"; style=\"border-left: 7px solid green\">\n",
    "<h3>✔ Комментарий ревьюера V.2</h3>\n",
    "    \n",
    "По месяцам можно не группировать, т.к. из-за этого по таблице тяжелее ориентироваться. Достаточно было сгруппировать по `tariff`\n",
    "</div>    \n"
   ]
  },
  {
   "cell_type": "markdown",
   "id": "ee77b438",
   "metadata": {},
   "source": [
    "- постройте гистограммы."
   ]
  },
  {
   "cell_type": "code",
   "execution_count": 108,
   "id": "c758a084",
   "metadata": {},
   "outputs": [
    {
     "data": {
      "text/plain": [
       "<AxesSubplot:ylabel='Frequency'>"
      ]
     },
     "execution_count": 108,
     "metadata": {},
     "output_type": "execute_result"
    },
    {
     "data": {
      "image/png": "[encoded data removed]",
      "text/plain": [
       "<Figure size 432x288 with 1 Axes>"
      ]
     },
     "metadata": {
      "needs_background": "light"
     },
     "output_type": "display_data"
    }
   ],
   "source": [
    "data_smart.plot(y = 'gb_used', kind = 'hist', bins = 100 )"
   ]
  },
  {
   "cell_type": "code",
   "execution_count": 109,
   "id": "275d28e8",
   "metadata": {},
   "outputs": [
    {
     "data": {
      "text/plain": [
       "<AxesSubplot:ylabel='Frequency'>"
      ]
     },
     "execution_count": 109,
     "metadata": {},
     "output_type": "execute_result"
    },
    {
     "data": {
      "image/png": "[encoded data removed]",
      "text/plain": [
       "<Figure size 432x288 with 1 Axes>"
      ]
     },
     "metadata": {
      "needs_background": "light"
     },
     "output_type": "display_data"
    }
   ],
   "source": [
    "data_smart.plot( y = 'call_duration', kind = 'hist', bins = 100 )"
   ]
  },
  {
   "cell_type": "code",
   "execution_count": 110,
   "id": "27c21099",
   "metadata": {},
   "outputs": [
    {
     "data": {
      "text/plain": [
       "<AxesSubplot:ylabel='Frequency'>"
      ]
     },
     "execution_count": 110,
     "metadata": {},
     "output_type": "execute_result"
    },
    {
     "data": {
      "image/png": "[encoded data removed]",
      "text/plain": [
       "<Figure size 432x288 with 1 Axes>"
      ]
     },
     "metadata": {
      "needs_background": "light"
     },
     "output_type": "display_data"
    }
   ],
   "source": [
    "data_smart.plot( y = 'nb_messages', kind = 'hist', bins = 100 )"
   ]
  },
  {
   "cell_type": "code",
   "execution_count": 111,
   "id": "3edfa5e8",
   "metadata": {},
   "outputs": [
    {
     "data": {
      "text/plain": [
       "<AxesSubplot:ylabel='Frequency'>"
      ]
     },
     "execution_count": 111,
     "metadata": {},
     "output_type": "execute_result"
    },
    {
     "data": {
      "image/png": "[encoded data removed]",
      "text/plain": [
       "<Figure size 432x288 with 1 Axes>"
      ]
     },
     "metadata": {
      "needs_background": "light"
     },
     "output_type": "display_data"
    }
   ],
   "source": [
    "# фильтрую нули чтоьы данные были нагляднее\n",
    "data_smart.plot( y = 'nb_messages', kind = 'hist', bins = 100 , range = (1,140))"
   ]
  },
  {
   "cell_type": "markdown",
   "id": "9007d05b",
   "metadata": {},
   "source": [
    "- Опишите распределения."
   ]
  },
  {
   "cell_type": "markdown",
   "id": "27ad415c",
   "metadata": {},
   "source": [
    "коментарии по Диаграм:\n",
    "гистаграмма \"gb_used\",\"call_duration\" напаминает гистаграму Гауса с нармальной расспределением данных, но в нашем случае  график скошенный влево. всреднем пользователи тратят 15Gb и 400мин. я думаю тарифы должны расчитовать пакеты исходя из диапозонах: 10-30 GB, 200-600 минут и < 100 сообщения. В случае с сообщением , не все клиенты совсем не пишут сообщения, скорее всего они пользуются другими источниками чата...  "
   ]
  },
  {
   "cell_type": "markdown",
   "id": "355222c1",
   "metadata": {},
   "source": [
    "<div class=\"alert alert-success\"; style=\"border-left: 7px solid green\">\n",
    "<h3>✔ Комментарий ревьюера</h3>\n",
    "    \n",
    "С гистограммами всё верно. Если интересно, то число сообщений имеют расмпределение Пуассона</div>    \n"
   ]
  },
  {
   "cell_type": "markdown",
   "id": "8208bb56",
   "metadata": {},
   "source": [
    "ТАРИФ УЛЬТРА"
   ]
  },
  {
   "cell_type": "code",
   "execution_count": 112,
   "id": "ab94babe",
   "metadata": {},
   "outputs": [],
   "source": [
    "data_analyse_ultra = data_ultra.pivot_table(index =['tariff','month_x'], values=['call_duration','nb_messages','gb_used'],aggfunc = 'sum').reset_index()"
   ]
  },
  {
   "cell_type": "markdown",
   "id": "b33fa632",
   "metadata": {},
   "source": [
    "- постройте гистограммы. Опишите распределения."
   ]
  },
  {
   "cell_type": "code",
   "execution_count": 113,
   "id": "d840b235",
   "metadata": {},
   "outputs": [
    {
     "data": {
      "text/plain": [
       "<AxesSubplot:ylabel='Frequency'>"
      ]
     },
     "execution_count": 113,
     "metadata": {},
     "output_type": "execute_result"
    },
    {
     "data": {
      "image/png": "[encoded data removed]",
      "text/plain": [
       "<Figure size 432x288 with 1 Axes>"
      ]
     },
     "metadata": {
      "needs_background": "light"
     },
     "output_type": "display_data"
    }
   ],
   "source": [
    "data_ultra.plot(y = 'gb_used', kind = 'hist', bins = 100 )"
   ]
  },
  {
   "cell_type": "code",
   "execution_count": 114,
   "id": "75243f22",
   "metadata": {},
   "outputs": [
    {
     "data": {
      "text/plain": [
       "<AxesSubplot:ylabel='Frequency'>"
      ]
     },
     "execution_count": 114,
     "metadata": {},
     "output_type": "execute_result"
    },
    {
     "data": {
      "image/png": "[encoded data removed]",
      "text/plain": [
       "<Figure size 432x288 with 1 Axes>"
      ]
     },
     "metadata": {
      "needs_background": "light"
     },
     "output_type": "display_data"
    }
   ],
   "source": [
    "data_ultra.plot(y = 'nb_messages', kind = 'hist', bins = 100 )"
   ]
  },
  {
   "cell_type": "code",
   "execution_count": 115,
   "id": "8b1f6088",
   "metadata": {},
   "outputs": [
    {
     "data": {
      "text/plain": [
       "0.19289340101522842"
      ]
     },
     "execution_count": 115,
     "metadata": {},
     "output_type": "execute_result"
    }
   ],
   "source": [
    "len(data_ultra[data_ultra['nb_messages'] == 0])/len(data_ultra['nb_messages'])"
   ]
  },
  {
   "cell_type": "code",
   "execution_count": 116,
   "id": "085067d3",
   "metadata": {},
   "outputs": [
    {
     "data": {
      "text/plain": [
       "<AxesSubplot:ylabel='Frequency'>"
      ]
     },
     "execution_count": 116,
     "metadata": {},
     "output_type": "execute_result"
    },
    {
     "data": {
      "image/png": "[encoded data removed]",
      "text/plain": [
       "<Figure size 432x288 with 1 Axes>"
      ]
     },
     "metadata": {
      "needs_background": "light"
     },
     "output_type": "display_data"
    }
   ],
   "source": [
    "data_ultra.plot(y = 'nb_messages', kind = 'hist', bins = 100, range = (1,250) )"
   ]
  },
  {
   "cell_type": "code",
   "execution_count": 117,
   "id": "c1d16536",
   "metadata": {},
   "outputs": [
    {
     "data": {
      "text/plain": [
       "<AxesSubplot:ylabel='Frequency'>"
      ]
     },
     "execution_count": 117,
     "metadata": {},
     "output_type": "execute_result"
    },
    {
     "data": {
      "image/png": "[encoded data removed]",
      "text/plain": [
       "<Figure size 432x288 with 1 Axes>"
      ]
     },
     "metadata": {
      "needs_background": "light"
     },
     "output_type": "display_data"
    }
   ],
   "source": [
    "data_ultra.plot(y = 'call_duration', kind = 'hist', bins = 100 )"
   ]
  },
  {
   "cell_type": "code",
   "execution_count": 118,
   "id": "c740506f",
   "metadata": {},
   "outputs": [
    {
     "data": {
      "image/png": "[encoded data removed]",
      "text/plain": [
       "<Figure size 432x288 with 1 Axes>"
      ]
     },
     "metadata": {
      "needs_background": "light"
     },
     "output_type": "display_data"
    }
   ],
   "source": [
    "data_ultra['call_duration'].hist(bins = 30, alpha=0.5, color='c', label='ultra', density=True)\n",
    "data_smart['call_duration'].hist(bins = 30, alpha=0.5, color='orange', label='smart', density=True)\n",
    "plt.legend();"
   ]
  },
  {
   "cell_type": "code",
   "execution_count": 119,
   "id": "1acb32e6",
   "metadata": {},
   "outputs": [
    {
     "data": {
      "image/png": "[encoded data removed]",
      "text/plain": [
       "<Figure size 432x288 with 1 Axes>"
      ]
     },
     "metadata": {
      "needs_background": "light"
     },
     "output_type": "display_data"
    }
   ],
   "source": [
    "data_ultra['gb_used'].hist(bins = 30, alpha=0.5, color='c', label='ultra', density=True)\n",
    "data_smart['gb_used'].hist(bins = 30,  alpha=0.5, color='orange', label='smart', density=True)\n",
    "plt.legend();"
   ]
  },
  {
   "cell_type": "markdown",
   "id": "713f7221",
   "metadata": {},
   "source": [
    "-  Опишите распределения."
   ]
  },
  {
   "cell_type": "markdown",
   "id": "142b3447",
   "metadata": {},
   "source": []
  },
  {
   "cell_type": "markdown",
   "id": "f19f4d2c",
   "metadata": {},
   "source": [
    "Вывод:\n",
    "в чем отличаются пользователи тарифа Ультра от Смарт, это то что они больше активные в розговоров (средняе выше 600 мин) и тратят больше трафик интернета - распределения по больше в кстегории 20-40 Gb. А вот сообщения они даже  меньше пишуте чеи пользователи Смарт.   "
   ]
  },
  {
   "cell_type": "markdown",
   "id": "e3014be6",
   "metadata": {},
   "source": [
    "<div class=\"alert alert-success\"; style=\"border-left: 7px solid green\">\n",
    "<h3>✔ Комментарий ревьюера</h3>\n",
    "    \n",
    "Всё верно, чтобы сравнить тарифы, нагляднее можно сделать так:\n",
    "</div>    \n"
   ]
  },
  {
   "cell_type": "markdown",
   "id": "1f786566",
   "metadata": {},
   "source": [
    "<div class = \"alert alert-info\" style=\"border-left: 7px solid blue\">\n",
    "<h3>Комментарий студента</h3>\n",
    "\n",
    "спасибо что дали пример! построил еще 2 табличке выше наподобие\n",
    "    \n",
    "    \n",
    "</div>"
   ]
  },
  {
   "cell_type": "markdown",
   "id": "845dfbb2",
   "metadata": {},
   "source": [
    "<div class=\"alert alert-success\"; style=\"border-left: 7px solid green\">\n",
    "<h3>✔ Комментарий ревьюера V.2</h3>\n",
    "    \n",
    "👍\n",
    "</div>    \n"
   ]
  },
  {
   "cell_type": "code",
   "execution_count": 120,
   "id": "97795664",
   "metadata": {},
   "outputs": [
    {
     "data": {
      "image/png": "[encoded data removed]",
      "text/plain": [
       "<Figure size 432x288 with 1 Axes>"
      ]
     },
     "metadata": {
      "needs_background": "light"
     },
     "output_type": "display_data"
    }
   ],
   "source": [
    "# Код ревьюера\n",
    "\n",
    "data_ultra['nb_messages'].hist(bins = 30, range = (1,250), alpha=0.5, color='c', label='ultra', density=True)\n",
    "data_smart['nb_messages'].hist(bins = 30, range = (1,250), alpha=0.5, color='orange', label='smart', density=True)\n",
    "plt.legend();"
   ]
  },
  {
   "cell_type": "markdown",
   "id": "3d727581",
   "metadata": {},
   "source": [
    "<div class=\"alert alert-success\"; style=\"border-left: 7px solid green\">\n",
    "<h3>✔ Комментарий ревьюера</h3>\n",
    "    \n",
    "Видно, что в Ультре клиенты всё же больше сообешний отправляют</div>    \n"
   ]
  },
  {
   "cell_type": "markdown",
   "id": "118b2791",
   "metadata": {},
   "source": [
    "- Шаг 4. Проверьте гипотезы\n",
    "\n",
    "    - средняя выручка пользователей тарифов «Ультра» и «Смарт» различаются;\n",
    "    - средняя выручка пользователей из Москвы отличается от выручки пользователей из других регионов.\n",
    "Пороговое значение alpha задайте самостоятельно.\n",
    "Поясните:\n",
    "    - как вы формулировали нулевую и альтернативную гипотезы;\n",
    "    - какой критерий использовали для проверки гипотез и почему."
   ]
  },
  {
   "cell_type": "markdown",
   "id": "1934c41f",
   "metadata": {},
   "source": [
    "<div class=\"alert alert-success\"; style=\"border-left: 7px solid green\">\n",
    "<h3>✔ Комментарий ревьюера</h3>\n",
    "    \n",
    "Все импорты лучше собирать в самом начале работы, чтобы сразу было понятно, какие у проекта зависимости</div>    \n"
   ]
  },
  {
   "cell_type": "code",
   "execution_count": 121,
   "id": "86945653",
   "metadata": {},
   "outputs": [],
   "source": [
    "from scipy import stats as st"
   ]
  },
  {
   "cell_type": "markdown",
   "id": "78b8b40b",
   "metadata": {},
   "source": [
    "средняя выручка пользователей тарифов «Ультра» и «Смарт» различаются;"
   ]
  },
  {
   "cell_type": "markdown",
   "id": "867ff44b",
   "metadata": {},
   "source": [
    "преготовляю двнные , датасеты"
   ]
  },
  {
   "cell_type": "code",
   "execution_count": 122,
   "id": "f39c0629",
   "metadata": {},
   "outputs": [],
   "source": [
    "ultra_mean = data_ultra['revenue'].mean()"
   ]
  },
  {
   "cell_type": "code",
   "execution_count": 123,
   "id": "d1dceb41",
   "metadata": {},
   "outputs": [
    {
     "data": {
      "text/html": [
       "<div>\n",
       "<style scoped>\n",
       "    .dataframe tbody tr th:only-of-type {\n",
       "        vertical-align: middle;\n",
       "    }\n",
       "\n",
       "    .dataframe tbody tr th {\n",
       "        vertical-align: top;\n",
       "    }\n",
       "\n",
       "    .dataframe thead th {\n",
       "        text-align: right;\n",
       "    }\n",
       "</style>\n",
       "<table border=\"1\" class=\"dataframe\">\n",
       "  <thead>\n",
       "    <tr style=\"text-align: right;\">\n",
       "      <th></th>\n",
       "      <th>user_id</th>\n",
       "      <th>month_x</th>\n",
       "      <th>call_duration</th>\n",
       "      <th>nb_calls</th>\n",
       "      <th>nb_messages</th>\n",
       "      <th>mb_used_total</th>\n",
       "      <th>age</th>\n",
       "      <th>churn_date</th>\n",
       "      <th>city</th>\n",
       "      <th>first_name</th>\n",
       "      <th>...</th>\n",
       "      <th>tariff_name</th>\n",
       "      <th>messages_included</th>\n",
       "      <th>mb_per_month_included</th>\n",
       "      <th>minutes_included</th>\n",
       "      <th>rub_monthly_fee</th>\n",
       "      <th>rub_per_gb</th>\n",
       "      <th>rub_per_message</th>\n",
       "      <th>rub_per_minute</th>\n",
       "      <th>gb_per_month_included</th>\n",
       "      <th>revenue</th>\n",
       "    </tr>\n",
       "  </thead>\n",
       "  <tbody>\n",
       "    <tr>\n",
       "      <th>0</th>\n",
       "      <td>1000</td>\n",
       "      <td>5</td>\n",
       "      <td>159.0</td>\n",
       "      <td>22.0</td>\n",
       "      <td>22.0</td>\n",
       "      <td>2253.49</td>\n",
       "      <td>52</td>\n",
       "      <td>NaN</td>\n",
       "      <td>Краснодар</td>\n",
       "      <td>Рафаил</td>\n",
       "      <td>...</td>\n",
       "      <td>ultra</td>\n",
       "      <td>1000</td>\n",
       "      <td>30720</td>\n",
       "      <td>3000</td>\n",
       "      <td>1950</td>\n",
       "      <td>150</td>\n",
       "      <td>1</td>\n",
       "      <td>1</td>\n",
       "      <td>30.0</td>\n",
       "      <td>1950.0</td>\n",
       "    </tr>\n",
       "    <tr>\n",
       "      <th>1</th>\n",
       "      <td>1000</td>\n",
       "      <td>6</td>\n",
       "      <td>172.0</td>\n",
       "      <td>43.0</td>\n",
       "      <td>60.0</td>\n",
       "      <td>23233.77</td>\n",
       "      <td>52</td>\n",
       "      <td>NaN</td>\n",
       "      <td>Краснодар</td>\n",
       "      <td>Рафаил</td>\n",
       "      <td>...</td>\n",
       "      <td>ultra</td>\n",
       "      <td>1000</td>\n",
       "      <td>30720</td>\n",
       "      <td>3000</td>\n",
       "      <td>1950</td>\n",
       "      <td>150</td>\n",
       "      <td>1</td>\n",
       "      <td>1</td>\n",
       "      <td>30.0</td>\n",
       "      <td>1950.0</td>\n",
       "    </tr>\n",
       "    <tr>\n",
       "      <th>2</th>\n",
       "      <td>1000</td>\n",
       "      <td>7</td>\n",
       "      <td>340.0</td>\n",
       "      <td>47.0</td>\n",
       "      <td>75.0</td>\n",
       "      <td>14003.64</td>\n",
       "      <td>52</td>\n",
       "      <td>NaN</td>\n",
       "      <td>Краснодар</td>\n",
       "      <td>Рафаил</td>\n",
       "      <td>...</td>\n",
       "      <td>ultra</td>\n",
       "      <td>1000</td>\n",
       "      <td>30720</td>\n",
       "      <td>3000</td>\n",
       "      <td>1950</td>\n",
       "      <td>150</td>\n",
       "      <td>1</td>\n",
       "      <td>1</td>\n",
       "      <td>30.0</td>\n",
       "      <td>1950.0</td>\n",
       "    </tr>\n",
       "    <tr>\n",
       "      <th>3</th>\n",
       "      <td>1000</td>\n",
       "      <td>8</td>\n",
       "      <td>408.0</td>\n",
       "      <td>52.0</td>\n",
       "      <td>81.0</td>\n",
       "      <td>14055.93</td>\n",
       "      <td>52</td>\n",
       "      <td>NaN</td>\n",
       "      <td>Краснодар</td>\n",
       "      <td>Рафаил</td>\n",
       "      <td>...</td>\n",
       "      <td>ultra</td>\n",
       "      <td>1000</td>\n",
       "      <td>30720</td>\n",
       "      <td>3000</td>\n",
       "      <td>1950</td>\n",
       "      <td>150</td>\n",
       "      <td>1</td>\n",
       "      <td>1</td>\n",
       "      <td>30.0</td>\n",
       "      <td>1950.0</td>\n",
       "    </tr>\n",
       "    <tr>\n",
       "      <th>4</th>\n",
       "      <td>1000</td>\n",
       "      <td>9</td>\n",
       "      <td>466.0</td>\n",
       "      <td>58.0</td>\n",
       "      <td>57.0</td>\n",
       "      <td>14568.91</td>\n",
       "      <td>52</td>\n",
       "      <td>NaN</td>\n",
       "      <td>Краснодар</td>\n",
       "      <td>Рафаил</td>\n",
       "      <td>...</td>\n",
       "      <td>ultra</td>\n",
       "      <td>1000</td>\n",
       "      <td>30720</td>\n",
       "      <td>3000</td>\n",
       "      <td>1950</td>\n",
       "      <td>150</td>\n",
       "      <td>1</td>\n",
       "      <td>1</td>\n",
       "      <td>30.0</td>\n",
       "      <td>1950.0</td>\n",
       "    </tr>\n",
       "    <tr>\n",
       "      <th>...</th>\n",
       "      <td>...</td>\n",
       "      <td>...</td>\n",
       "      <td>...</td>\n",
       "      <td>...</td>\n",
       "      <td>...</td>\n",
       "      <td>...</td>\n",
       "      <td>...</td>\n",
       "      <td>...</td>\n",
       "      <td>...</td>\n",
       "      <td>...</td>\n",
       "      <td>...</td>\n",
       "      <td>...</td>\n",
       "      <td>...</td>\n",
       "      <td>...</td>\n",
       "      <td>...</td>\n",
       "      <td>...</td>\n",
       "      <td>...</td>\n",
       "      <td>...</td>\n",
       "      <td>...</td>\n",
       "      <td>...</td>\n",
       "      <td>...</td>\n",
       "    </tr>\n",
       "    <tr>\n",
       "      <th>3204</th>\n",
       "      <td>1473</td>\n",
       "      <td>8</td>\n",
       "      <td>0.0</td>\n",
       "      <td>NaN</td>\n",
       "      <td>17.0</td>\n",
       "      <td>12905.40</td>\n",
       "      <td>18</td>\n",
       "      <td>NaN</td>\n",
       "      <td>Красноярск</td>\n",
       "      <td>Николай</td>\n",
       "      <td>...</td>\n",
       "      <td>ultra</td>\n",
       "      <td>1000</td>\n",
       "      <td>30720</td>\n",
       "      <td>3000</td>\n",
       "      <td>1950</td>\n",
       "      <td>150</td>\n",
       "      <td>1</td>\n",
       "      <td>1</td>\n",
       "      <td>30.0</td>\n",
       "      <td>1950.0</td>\n",
       "    </tr>\n",
       "    <tr>\n",
       "      <th>3205</th>\n",
       "      <td>1473</td>\n",
       "      <td>9</td>\n",
       "      <td>0.0</td>\n",
       "      <td>NaN</td>\n",
       "      <td>19.0</td>\n",
       "      <td>17289.85</td>\n",
       "      <td>18</td>\n",
       "      <td>NaN</td>\n",
       "      <td>Красноярск</td>\n",
       "      <td>Николай</td>\n",
       "      <td>...</td>\n",
       "      <td>ultra</td>\n",
       "      <td>1000</td>\n",
       "      <td>30720</td>\n",
       "      <td>3000</td>\n",
       "      <td>1950</td>\n",
       "      <td>150</td>\n",
       "      <td>1</td>\n",
       "      <td>1</td>\n",
       "      <td>30.0</td>\n",
       "      <td>1950.0</td>\n",
       "    </tr>\n",
       "    <tr>\n",
       "      <th>3206</th>\n",
       "      <td>1473</td>\n",
       "      <td>10</td>\n",
       "      <td>0.0</td>\n",
       "      <td>NaN</td>\n",
       "      <td>20.0</td>\n",
       "      <td>13688.65</td>\n",
       "      <td>18</td>\n",
       "      <td>NaN</td>\n",
       "      <td>Красноярск</td>\n",
       "      <td>Николай</td>\n",
       "      <td>...</td>\n",
       "      <td>ultra</td>\n",
       "      <td>1000</td>\n",
       "      <td>30720</td>\n",
       "      <td>3000</td>\n",
       "      <td>1950</td>\n",
       "      <td>150</td>\n",
       "      <td>1</td>\n",
       "      <td>1</td>\n",
       "      <td>30.0</td>\n",
       "      <td>1950.0</td>\n",
       "    </tr>\n",
       "    <tr>\n",
       "      <th>3207</th>\n",
       "      <td>1473</td>\n",
       "      <td>11</td>\n",
       "      <td>0.0</td>\n",
       "      <td>NaN</td>\n",
       "      <td>14.0</td>\n",
       "      <td>21673.80</td>\n",
       "      <td>18</td>\n",
       "      <td>NaN</td>\n",
       "      <td>Красноярск</td>\n",
       "      <td>Николай</td>\n",
       "      <td>...</td>\n",
       "      <td>ultra</td>\n",
       "      <td>1000</td>\n",
       "      <td>30720</td>\n",
       "      <td>3000</td>\n",
       "      <td>1950</td>\n",
       "      <td>150</td>\n",
       "      <td>1</td>\n",
       "      <td>1</td>\n",
       "      <td>30.0</td>\n",
       "      <td>1950.0</td>\n",
       "    </tr>\n",
       "    <tr>\n",
       "      <th>3208</th>\n",
       "      <td>1473</td>\n",
       "      <td>12</td>\n",
       "      <td>0.0</td>\n",
       "      <td>NaN</td>\n",
       "      <td>20.0</td>\n",
       "      <td>18418.26</td>\n",
       "      <td>18</td>\n",
       "      <td>NaN</td>\n",
       "      <td>Красноярск</td>\n",
       "      <td>Николай</td>\n",
       "      <td>...</td>\n",
       "      <td>ultra</td>\n",
       "      <td>1000</td>\n",
       "      <td>30720</td>\n",
       "      <td>3000</td>\n",
       "      <td>1950</td>\n",
       "      <td>150</td>\n",
       "      <td>1</td>\n",
       "      <td>1</td>\n",
       "      <td>30.0</td>\n",
       "      <td>1950.0</td>\n",
       "    </tr>\n",
       "  </tbody>\n",
       "</table>\n",
       "<p>985 rows × 25 columns</p>\n",
       "</div>"
      ],
      "text/plain": [
       "      user_id  month_x  call_duration  nb_calls  nb_messages  mb_used_total  \\\n",
       "0        1000        5          159.0      22.0         22.0        2253.49   \n",
       "1        1000        6          172.0      43.0         60.0       23233.77   \n",
       "2        1000        7          340.0      47.0         75.0       14003.64   \n",
       "3        1000        8          408.0      52.0         81.0       14055.93   \n",
       "4        1000        9          466.0      58.0         57.0       14568.91   \n",
       "...       ...      ...            ...       ...          ...            ...   \n",
       "3204     1473        8            0.0       NaN         17.0       12905.40   \n",
       "3205     1473        9            0.0       NaN         19.0       17289.85   \n",
       "3206     1473       10            0.0       NaN         20.0       13688.65   \n",
       "3207     1473       11            0.0       NaN         14.0       21673.80   \n",
       "3208     1473       12            0.0       NaN         20.0       18418.26   \n",
       "\n",
       "      age churn_date        city first_name  ... tariff_name  \\\n",
       "0      52        NaN   Краснодар     Рафаил  ...       ultra   \n",
       "1      52        NaN   Краснодар     Рафаил  ...       ultra   \n",
       "2      52        NaN   Краснодар     Рафаил  ...       ultra   \n",
       "3      52        NaN   Краснодар     Рафаил  ...       ultra   \n",
       "4      52        NaN   Краснодар     Рафаил  ...       ultra   \n",
       "...   ...        ...         ...        ...  ...         ...   \n",
       "3204   18        NaN  Красноярск    Николай  ...       ultra   \n",
       "3205   18        NaN  Красноярск    Николай  ...       ultra   \n",
       "3206   18        NaN  Красноярск    Николай  ...       ultra   \n",
       "3207   18        NaN  Красноярск    Николай  ...       ultra   \n",
       "3208   18        NaN  Красноярск    Николай  ...       ultra   \n",
       "\n",
       "     messages_included mb_per_month_included  minutes_included  \\\n",
       "0                 1000                 30720              3000   \n",
       "1                 1000                 30720              3000   \n",
       "2                 1000                 30720              3000   \n",
       "3                 1000                 30720              3000   \n",
       "4                 1000                 30720              3000   \n",
       "...                ...                   ...               ...   \n",
       "3204              1000                 30720              3000   \n",
       "3205              1000                 30720              3000   \n",
       "3206              1000                 30720              3000   \n",
       "3207              1000                 30720              3000   \n",
       "3208              1000                 30720              3000   \n",
       "\n",
       "      rub_monthly_fee rub_per_gb  rub_per_message  rub_per_minute  \\\n",
       "0                1950        150                1               1   \n",
       "1                1950        150                1               1   \n",
       "2                1950        150                1               1   \n",
       "3                1950        150                1               1   \n",
       "4                1950        150                1               1   \n",
       "...               ...        ...              ...             ...   \n",
       "3204             1950        150                1               1   \n",
       "3205             1950        150                1               1   \n",
       "3206             1950        150                1               1   \n",
       "3207             1950        150                1               1   \n",
       "3208             1950        150                1               1   \n",
       "\n",
       "      gb_per_month_included  revenue  \n",
       "0                      30.0   1950.0  \n",
       "1                      30.0   1950.0  \n",
       "2                      30.0   1950.0  \n",
       "3                      30.0   1950.0  \n",
       "4                      30.0   1950.0  \n",
       "...                     ...      ...  \n",
       "3204                   30.0   1950.0  \n",
       "3205                   30.0   1950.0  \n",
       "3206                   30.0   1950.0  \n",
       "3207                   30.0   1950.0  \n",
       "3208                   30.0   1950.0  \n",
       "\n",
       "[985 rows x 25 columns]"
      ]
     },
     "execution_count": 123,
     "metadata": {},
     "output_type": "execute_result"
    }
   ],
   "source": [
    "data_ultra"
   ]
  },
  {
   "cell_type": "code",
   "execution_count": 124,
   "id": "7d6ba046",
   "metadata": {},
   "outputs": [
    {
     "data": {
      "text/plain": [
       "<AxesSubplot:>"
      ]
     },
     "execution_count": 124,
     "metadata": {},
     "output_type": "execute_result"
    },
    {
     "data": {
      "image/png": "[encoded data removed]",
      "text/plain": [
       "<Figure size 432x288 with 1 Axes>"
      ]
     },
     "metadata": {
      "needs_background": "light"
     },
     "output_type": "display_data"
    }
   ],
   "source": [
    "data_ultra['revenue'].hist()"
   ]
  },
  {
   "cell_type": "code",
   "execution_count": 125,
   "id": "269cec80",
   "metadata": {},
   "outputs": [],
   "source": [
    "Revenue_ultra = data_ultra['revenue'].loc[:]"
   ]
  },
  {
   "cell_type": "code",
   "execution_count": 126,
   "id": "34c2c9e5",
   "metadata": {},
   "outputs": [
    {
     "data": {
      "text/plain": [
       "<AxesSubplot:>"
      ]
     },
     "execution_count": 126,
     "metadata": {},
     "output_type": "execute_result"
    },
    {
     "data": {
      "image/png": "[encoded data removed]",
      "text/plain": [
       "<Figure size 432x288 with 1 Axes>"
      ]
     },
     "metadata": {
      "needs_background": "light"
     },
     "output_type": "display_data"
    }
   ],
   "source": [
    "Revenue_ultra.hist(bins = 10)"
   ]
  },
  {
   "cell_type": "code",
   "execution_count": 127,
   "id": "cc2ae6a9",
   "metadata": {},
   "outputs": [
    {
     "data": {
      "text/plain": [
       "count     985.000000\n",
       "mean     2070.152284\n",
       "std       376.187114\n",
       "min      1950.000000\n",
       "25%      1950.000000\n",
       "50%      1950.000000\n",
       "75%      1950.000000\n",
       "max      4800.000000\n",
       "Name: revenue, dtype: float64"
      ]
     },
     "execution_count": 127,
     "metadata": {},
     "output_type": "execute_result"
    }
   ],
   "source": [
    "Revenue_ultra.describe()"
   ]
  },
  {
   "cell_type": "code",
   "execution_count": 128,
   "id": "4accf373",
   "metadata": {},
   "outputs": [],
   "source": [
    "smart_mean = data_smart['revenue'].mean()"
   ]
  },
  {
   "cell_type": "code",
   "execution_count": 129,
   "id": "9ca403c2",
   "metadata": {},
   "outputs": [
    {
     "data": {
      "text/plain": [
       "<AxesSubplot:>"
      ]
     },
     "execution_count": 129,
     "metadata": {},
     "output_type": "execute_result"
    },
    {
     "data": {
      "image/png": "[encoded data removed]",
      "text/plain": [
       "<Figure size 432x288 with 1 Axes>"
      ]
     },
     "metadata": {
      "needs_background": "light"
     },
     "output_type": "display_data"
    }
   ],
   "source": [
    "data_smart['revenue'].hist()"
   ]
  },
  {
   "cell_type": "code",
   "execution_count": 130,
   "id": "7a74fa89",
   "metadata": {},
   "outputs": [],
   "source": [
    "Revenue_smart = data_smart['revenue'].loc[:]"
   ]
  },
  {
   "cell_type": "code",
   "execution_count": 131,
   "id": "86262290",
   "metadata": {},
   "outputs": [
    {
     "data": {
      "text/plain": [
       "8       1150.0\n",
       "9        550.0\n",
       "10       550.0\n",
       "11      1150.0\n",
       "12      1550.0\n",
       "         ...  \n",
       "3209     550.0\n",
       "3210     950.0\n",
       "3211    1550.0\n",
       "3212    1150.0\n",
       "3213     950.0\n",
       "Name: revenue, Length: 2229, dtype: float64"
      ]
     },
     "execution_count": 131,
     "metadata": {},
     "output_type": "execute_result"
    }
   ],
   "source": [
    "data_smart['revenue']"
   ]
  },
  {
   "cell_type": "code",
   "execution_count": 132,
   "id": "72a8aba9",
   "metadata": {},
   "outputs": [
    {
     "data": {
      "text/plain": [
       "1023.0"
      ]
     },
     "execution_count": 132,
     "metadata": {},
     "output_type": "execute_result"
    }
   ],
   "source": [
    "Revenue_smart.median()"
   ]
  },
  {
   "cell_type": "code",
   "execution_count": 133,
   "id": "9884a4c7",
   "metadata": {},
   "outputs": [
    {
     "data": {
      "text/plain": [
       "1950.0"
      ]
     },
     "execution_count": 133,
     "metadata": {},
     "output_type": "execute_result"
    }
   ],
   "source": [
    "Revenue_ultra.median()"
   ]
  },
  {
   "cell_type": "code",
   "execution_count": 134,
   "id": "523f7287",
   "metadata": {},
   "outputs": [
    {
     "data": {
      "text/plain": [
       "1289.9735307312696"
      ]
     },
     "execution_count": 134,
     "metadata": {},
     "output_type": "execute_result"
    }
   ],
   "source": [
    "smart_mean"
   ]
  },
  {
   "cell_type": "code",
   "execution_count": 135,
   "id": "02d6e2e7",
   "metadata": {},
   "outputs": [
    {
     "data": {
      "text/plain": [
       "2070.1522842639592"
      ]
     },
     "execution_count": 135,
     "metadata": {},
     "output_type": "execute_result"
    }
   ],
   "source": [
    "ultra_mean"
   ]
  },
  {
   "cell_type": "markdown",
   "id": "5952854f",
   "metadata": {},
   "source": [
    "- средняя выручка пользователей тарифов «Ультра» и «Смарт» различаются;"
   ]
  },
  {
   "cell_type": "markdown",
   "id": "266f386d",
   "metadata": {},
   "source": [
    "Гипотеза о равенстве средних двух генеральных совокупностей"
   ]
  },
  {
   "cell_type": "markdown",
   "id": "d5137500",
   "metadata": {},
   "source": [
    "проверяю гипотезу о равенстве средних двух независимых совокупностей :оавны ли среднии выручки пользователей тарифов «Ультра» и «Смарт» или не павны?"
   ]
  },
  {
   "cell_type": "markdown",
   "id": "0b99b8f8",
   "metadata": {},
   "source": [
    "<div class=\"alert alert-danger\"; style=\"border-left: 7px solid red\">\n",
    "<h3>👀 Комментарий ревьюера</h3>\n",
    "    \n",
    "Нужно в явном виде сформулировать нулевую и альтернативную гипотезы</div> "
   ]
  },
  {
   "cell_type": "markdown",
   "id": "3a395e9d",
   "metadata": {},
   "source": [
    "<div class = \"alert alert-info\" style=\"border-left: 7px solid blue\">\n",
    "<h3>Комментарий студента</h3>\n",
    "\n",
    "нулевая гипотеза звучит : средняя выручка пользователей тарифов «Ультра» и «Смарт» совпадает! альтернативная гипотеза соответвенно : средняя выручка пользователей тарифов «Ультра» и «Смарт» различаются;\n",
    "    \n",
    "    \n",
    "</div>"
   ]
  },
  {
   "cell_type": "markdown",
   "id": "858fb13a",
   "metadata": {},
   "source": [
    "<div class=\"alert alert-success\"; style=\"border-left: 7px solid green\">\n",
    "<h3>✔ Комментарий ревьюера V.2</h3>\n",
    "    \n",
    "👍\n",
    "</div>    \n"
   ]
  },
  {
   "cell_type": "code",
   "execution_count": 136,
   "id": "7564294d",
   "metadata": {},
   "outputs": [],
   "source": [
    "#критический уровень статистической значимости\n",
    "# если p-value окажется меньше него - отвергаю нулевую гипотезу\n",
    "alpha = .05"
   ]
  },
  {
   "cell_type": "markdown",
   "id": "9639d1e9",
   "metadata": {},
   "source": [
    "если Pvalue меньше чем alpha, значит :средняя выручка пользователей тарифов «Ультра» и «Смарт» различаются"
   ]
  },
  {
   "cell_type": "code",
   "execution_count": 164,
   "id": "57db1f96",
   "metadata": {},
   "outputs": [],
   "source": [
    "results = st.ttest_ind(Revenue_smart , Revenue_ultra)"
   ]
  },
  {
   "cell_type": "code",
   "execution_count": 165,
   "id": "248fe905",
   "metadata": {},
   "outputs": [
    {
     "name": "stdout",
     "output_type": "stream",
     "text": [
      "p-значение: 1.4229814360764067e-160\n"
     ]
    }
   ],
   "source": [
    "print('p-значение:', results.pvalue)"
   ]
  },
  {
   "cell_type": "code",
   "execution_count": 166,
   "id": "6f6023b6",
   "metadata": {},
   "outputs": [
    {
     "name": "stdout",
     "output_type": "stream",
     "text": [
      "Отвергаем нулевую гипотезу\n"
     ]
    }
   ],
   "source": [
    "if results.pvalue < alpha:\n",
    "    print(\"Отвергаем нулевую гипотезу\")\n",
    "else:\n",
    "    print(\"Не получилось отвергнуть нулевую гипотезу\") "
   ]
  },
  {
   "cell_type": "markdown",
   "id": "eae5f8fe",
   "metadata": {},
   "source": [
    "мы видим что PValue меньше при aplha 0.05, то что озночает что средняя выручка пользователей тарифов «Ультра» и «Смарт» различаются, значения не попадает в критическую зону. Полученное значение p-value говорит о том, что србытия когда средняя выручка пользователей тарифов «Ультра» и «Смарт» совподали является очень маловероятным."
   ]
  },
  {
   "cell_type": "markdown",
   "id": "5d391273",
   "metadata": {},
   "source": [
    "<div class=\"alert alert-danger\"; style=\"border-left: 7px solid red\">\n",
    "<h3>👀 Комментарий ревьюера</h3>\n",
    "    \n",
    "> Это явно слишком маленкая вероятность, чтобы делать вывод о значимом различии между средней выручке пользователей тарифов «Ультра» и «Смарт».\n",
    "    \n",
    "Эту строку не очень понял. Как раз мы наблюдаем маловероятное событие, поэтому отвергаем нулевую гипотезу, т.е. гипотезу о равенстве средних\n",
    "</div> \n"
   ]
  },
  {
   "cell_type": "markdown",
   "id": "1957750f",
   "metadata": {},
   "source": [
    "<div class = \"alert alert-info\" style=\"border-left: 7px solid blue\">\n",
    "<h3>Комментарий студента</h3>\n",
    "\n",
    "я чуть изменил коменрарии выше, и согласен,  что нулевая гипотеза как раз о том что сабытия \"равенство средних\" очень маловероятное\n",
    "    \n",
    "</div>"
   ]
  },
  {
   "cell_type": "markdown",
   "id": "2ff01146",
   "metadata": {},
   "source": [
    "<div class=\"alert alert-success\"; style=\"border-left: 7px solid green\">\n",
    "<h3>✔ Комментарий ревьюера V.2</h3>\n",
    "    \n",
    "`p_value` это вероятность получить **такое или большее различие в выборочных средних при условии, что нулевая гипотеза верна**, соотвественно, если большее различие (оно и так уже большое) получить маловероятно, то средние различаются. Можно тут почиатть: https://allatambov.github.io/psms/pdf/hypo-test.pdf\n",
    "</div>    \n"
   ]
  },
  {
   "cell_type": "markdown",
   "id": "6314d037",
   "metadata": {},
   "source": [
    "я использовал equal_var = False, потому что так как класс тарифов отличаются, выручка будет отличатся и есть снований полагать, что разброс будет сильно отличаться."
   ]
  },
  {
   "cell_type": "markdown",
   "id": "9359c2ce",
   "metadata": {},
   "source": [
    "<div class=\"alert alert-success\"; style=\"border-left: 7px solid green\">\n",
    "<h3>✔ Комментарий ревьюера</h3>\n",
    "    \n",
    "На практике на самом деле почти всегда можно указывать `equal_var=False`, так тест в общем случае ведёт себя лучше. Можно тут посмотреть табличку: https://ru.wikipedia.org/wiki/T-%D0%BA%D1%80%D0%B8%D1%82%D0%B5%D1%80%D0%B8%D0%B9_%D0%A3%D1%8D%D0%BB%D1%87%D0%B0</div>    \n"
   ]
  },
  {
   "cell_type": "markdown",
   "id": "fbe9cef6",
   "metadata": {},
   "source": [
    "вывод: средние выручки пользователей тарифов «Ультра» и «Смарт» не равны"
   ]
  },
  {
   "cell_type": "markdown",
   "id": "f6c7edc7",
   "metadata": {},
   "source": []
  },
  {
   "cell_type": "markdown",
   "id": "d2e19a16",
   "metadata": {},
   "source": [
    "- средняя выручка пользователей из Москвы отличается от выручки пользователей из других регионов."
   ]
  },
  {
   "cell_type": "code",
   "execution_count": 140,
   "id": "f64f74fb",
   "metadata": {},
   "outputs": [
    {
     "data": {
      "text/html": [
       "<div>\n",
       "<style scoped>\n",
       "    .dataframe tbody tr th:only-of-type {\n",
       "        vertical-align: middle;\n",
       "    }\n",
       "\n",
       "    .dataframe tbody tr th {\n",
       "        vertical-align: top;\n",
       "    }\n",
       "\n",
       "    .dataframe thead th {\n",
       "        text-align: right;\n",
       "    }\n",
       "</style>\n",
       "<table border=\"1\" class=\"dataframe\">\n",
       "  <thead>\n",
       "    <tr style=\"text-align: right;\">\n",
       "      <th></th>\n",
       "      <th>user_id</th>\n",
       "      <th>month_x</th>\n",
       "      <th>call_duration</th>\n",
       "      <th>nb_calls</th>\n",
       "      <th>nb_messages</th>\n",
       "      <th>mb_used_total</th>\n",
       "      <th>age</th>\n",
       "      <th>churn_date</th>\n",
       "      <th>city</th>\n",
       "      <th>first_name</th>\n",
       "      <th>...</th>\n",
       "      <th>tariff_name</th>\n",
       "      <th>messages_included</th>\n",
       "      <th>mb_per_month_included</th>\n",
       "      <th>minutes_included</th>\n",
       "      <th>rub_monthly_fee</th>\n",
       "      <th>rub_per_gb</th>\n",
       "      <th>rub_per_message</th>\n",
       "      <th>rub_per_minute</th>\n",
       "      <th>gb_per_month_included</th>\n",
       "      <th>revenue</th>\n",
       "    </tr>\n",
       "  </thead>\n",
       "  <tbody>\n",
       "    <tr>\n",
       "      <th>0</th>\n",
       "      <td>1000</td>\n",
       "      <td>5</td>\n",
       "      <td>159.0</td>\n",
       "      <td>22.0</td>\n",
       "      <td>22.0</td>\n",
       "      <td>2253.49</td>\n",
       "      <td>52</td>\n",
       "      <td>NaN</td>\n",
       "      <td>Краснодар</td>\n",
       "      <td>Рафаил</td>\n",
       "      <td>...</td>\n",
       "      <td>ultra</td>\n",
       "      <td>1000</td>\n",
       "      <td>30720</td>\n",
       "      <td>3000</td>\n",
       "      <td>1950</td>\n",
       "      <td>150</td>\n",
       "      <td>1</td>\n",
       "      <td>1</td>\n",
       "      <td>30.0</td>\n",
       "      <td>1950.0</td>\n",
       "    </tr>\n",
       "    <tr>\n",
       "      <th>1</th>\n",
       "      <td>1000</td>\n",
       "      <td>6</td>\n",
       "      <td>172.0</td>\n",
       "      <td>43.0</td>\n",
       "      <td>60.0</td>\n",
       "      <td>23233.77</td>\n",
       "      <td>52</td>\n",
       "      <td>NaN</td>\n",
       "      <td>Краснодар</td>\n",
       "      <td>Рафаил</td>\n",
       "      <td>...</td>\n",
       "      <td>ultra</td>\n",
       "      <td>1000</td>\n",
       "      <td>30720</td>\n",
       "      <td>3000</td>\n",
       "      <td>1950</td>\n",
       "      <td>150</td>\n",
       "      <td>1</td>\n",
       "      <td>1</td>\n",
       "      <td>30.0</td>\n",
       "      <td>1950.0</td>\n",
       "    </tr>\n",
       "    <tr>\n",
       "      <th>2</th>\n",
       "      <td>1000</td>\n",
       "      <td>7</td>\n",
       "      <td>340.0</td>\n",
       "      <td>47.0</td>\n",
       "      <td>75.0</td>\n",
       "      <td>14003.64</td>\n",
       "      <td>52</td>\n",
       "      <td>NaN</td>\n",
       "      <td>Краснодар</td>\n",
       "      <td>Рафаил</td>\n",
       "      <td>...</td>\n",
       "      <td>ultra</td>\n",
       "      <td>1000</td>\n",
       "      <td>30720</td>\n",
       "      <td>3000</td>\n",
       "      <td>1950</td>\n",
       "      <td>150</td>\n",
       "      <td>1</td>\n",
       "      <td>1</td>\n",
       "      <td>30.0</td>\n",
       "      <td>1950.0</td>\n",
       "    </tr>\n",
       "    <tr>\n",
       "      <th>3</th>\n",
       "      <td>1000</td>\n",
       "      <td>8</td>\n",
       "      <td>408.0</td>\n",
       "      <td>52.0</td>\n",
       "      <td>81.0</td>\n",
       "      <td>14055.93</td>\n",
       "      <td>52</td>\n",
       "      <td>NaN</td>\n",
       "      <td>Краснодар</td>\n",
       "      <td>Рафаил</td>\n",
       "      <td>...</td>\n",
       "      <td>ultra</td>\n",
       "      <td>1000</td>\n",
       "      <td>30720</td>\n",
       "      <td>3000</td>\n",
       "      <td>1950</td>\n",
       "      <td>150</td>\n",
       "      <td>1</td>\n",
       "      <td>1</td>\n",
       "      <td>30.0</td>\n",
       "      <td>1950.0</td>\n",
       "    </tr>\n",
       "    <tr>\n",
       "      <th>4</th>\n",
       "      <td>1000</td>\n",
       "      <td>9</td>\n",
       "      <td>466.0</td>\n",
       "      <td>58.0</td>\n",
       "      <td>57.0</td>\n",
       "      <td>14568.91</td>\n",
       "      <td>52</td>\n",
       "      <td>NaN</td>\n",
       "      <td>Краснодар</td>\n",
       "      <td>Рафаил</td>\n",
       "      <td>...</td>\n",
       "      <td>ultra</td>\n",
       "      <td>1000</td>\n",
       "      <td>30720</td>\n",
       "      <td>3000</td>\n",
       "      <td>1950</td>\n",
       "      <td>150</td>\n",
       "      <td>1</td>\n",
       "      <td>1</td>\n",
       "      <td>30.0</td>\n",
       "      <td>1950.0</td>\n",
       "    </tr>\n",
       "    <tr>\n",
       "      <th>...</th>\n",
       "      <td>...</td>\n",
       "      <td>...</td>\n",
       "      <td>...</td>\n",
       "      <td>...</td>\n",
       "      <td>...</td>\n",
       "      <td>...</td>\n",
       "      <td>...</td>\n",
       "      <td>...</td>\n",
       "      <td>...</td>\n",
       "      <td>...</td>\n",
       "      <td>...</td>\n",
       "      <td>...</td>\n",
       "      <td>...</td>\n",
       "      <td>...</td>\n",
       "      <td>...</td>\n",
       "      <td>...</td>\n",
       "      <td>...</td>\n",
       "      <td>...</td>\n",
       "      <td>...</td>\n",
       "      <td>...</td>\n",
       "      <td>...</td>\n",
       "    </tr>\n",
       "    <tr>\n",
       "      <th>3209</th>\n",
       "      <td>1489</td>\n",
       "      <td>8</td>\n",
       "      <td>0.0</td>\n",
       "      <td>NaN</td>\n",
       "      <td>17.0</td>\n",
       "      <td>11050.56</td>\n",
       "      <td>35</td>\n",
       "      <td>NaN</td>\n",
       "      <td>Санкт-Петербург</td>\n",
       "      <td>Павел</td>\n",
       "      <td>...</td>\n",
       "      <td>smart</td>\n",
       "      <td>50</td>\n",
       "      <td>15360</td>\n",
       "      <td>500</td>\n",
       "      <td>550</td>\n",
       "      <td>200</td>\n",
       "      <td>3</td>\n",
       "      <td>3</td>\n",
       "      <td>15.0</td>\n",
       "      <td>550.0</td>\n",
       "    </tr>\n",
       "    <tr>\n",
       "      <th>3210</th>\n",
       "      <td>1489</td>\n",
       "      <td>9</td>\n",
       "      <td>0.0</td>\n",
       "      <td>NaN</td>\n",
       "      <td>32.0</td>\n",
       "      <td>17206.30</td>\n",
       "      <td>35</td>\n",
       "      <td>NaN</td>\n",
       "      <td>Санкт-Петербург</td>\n",
       "      <td>Павел</td>\n",
       "      <td>...</td>\n",
       "      <td>smart</td>\n",
       "      <td>50</td>\n",
       "      <td>15360</td>\n",
       "      <td>500</td>\n",
       "      <td>550</td>\n",
       "      <td>200</td>\n",
       "      <td>3</td>\n",
       "      <td>3</td>\n",
       "      <td>15.0</td>\n",
       "      <td>950.0</td>\n",
       "    </tr>\n",
       "    <tr>\n",
       "      <th>3211</th>\n",
       "      <td>1489</td>\n",
       "      <td>10</td>\n",
       "      <td>0.0</td>\n",
       "      <td>NaN</td>\n",
       "      <td>21.0</td>\n",
       "      <td>19559.44</td>\n",
       "      <td>35</td>\n",
       "      <td>NaN</td>\n",
       "      <td>Санкт-Петербург</td>\n",
       "      <td>Павел</td>\n",
       "      <td>...</td>\n",
       "      <td>smart</td>\n",
       "      <td>50</td>\n",
       "      <td>15360</td>\n",
       "      <td>500</td>\n",
       "      <td>550</td>\n",
       "      <td>200</td>\n",
       "      <td>3</td>\n",
       "      <td>3</td>\n",
       "      <td>15.0</td>\n",
       "      <td>1550.0</td>\n",
       "    </tr>\n",
       "    <tr>\n",
       "      <th>3212</th>\n",
       "      <td>1489</td>\n",
       "      <td>11</td>\n",
       "      <td>0.0</td>\n",
       "      <td>NaN</td>\n",
       "      <td>20.0</td>\n",
       "      <td>17491.56</td>\n",
       "      <td>35</td>\n",
       "      <td>NaN</td>\n",
       "      <td>Санкт-Петербург</td>\n",
       "      <td>Павел</td>\n",
       "      <td>...</td>\n",
       "      <td>smart</td>\n",
       "      <td>50</td>\n",
       "      <td>15360</td>\n",
       "      <td>500</td>\n",
       "      <td>550</td>\n",
       "      <td>200</td>\n",
       "      <td>3</td>\n",
       "      <td>3</td>\n",
       "      <td>15.0</td>\n",
       "      <td>1150.0</td>\n",
       "    </tr>\n",
       "    <tr>\n",
       "      <th>3213</th>\n",
       "      <td>1489</td>\n",
       "      <td>12</td>\n",
       "      <td>0.0</td>\n",
       "      <td>NaN</td>\n",
       "      <td>35.0</td>\n",
       "      <td>17322.51</td>\n",
       "      <td>35</td>\n",
       "      <td>NaN</td>\n",
       "      <td>Санкт-Петербург</td>\n",
       "      <td>Павел</td>\n",
       "      <td>...</td>\n",
       "      <td>smart</td>\n",
       "      <td>50</td>\n",
       "      <td>15360</td>\n",
       "      <td>500</td>\n",
       "      <td>550</td>\n",
       "      <td>200</td>\n",
       "      <td>3</td>\n",
       "      <td>3</td>\n",
       "      <td>15.0</td>\n",
       "      <td>950.0</td>\n",
       "    </tr>\n",
       "  </tbody>\n",
       "</table>\n",
       "<p>3214 rows × 25 columns</p>\n",
       "</div>"
      ],
      "text/plain": [
       "      user_id  month_x  call_duration  nb_calls  nb_messages  mb_used_total  \\\n",
       "0        1000        5          159.0      22.0         22.0        2253.49   \n",
       "1        1000        6          172.0      43.0         60.0       23233.77   \n",
       "2        1000        7          340.0      47.0         75.0       14003.64   \n",
       "3        1000        8          408.0      52.0         81.0       14055.93   \n",
       "4        1000        9          466.0      58.0         57.0       14568.91   \n",
       "...       ...      ...            ...       ...          ...            ...   \n",
       "3209     1489        8            0.0       NaN         17.0       11050.56   \n",
       "3210     1489        9            0.0       NaN         32.0       17206.30   \n",
       "3211     1489       10            0.0       NaN         21.0       19559.44   \n",
       "3212     1489       11            0.0       NaN         20.0       17491.56   \n",
       "3213     1489       12            0.0       NaN         35.0       17322.51   \n",
       "\n",
       "      age churn_date             city first_name  ... tariff_name  \\\n",
       "0      52        NaN        Краснодар     Рафаил  ...       ultra   \n",
       "1      52        NaN        Краснодар     Рафаил  ...       ultra   \n",
       "2      52        NaN        Краснодар     Рафаил  ...       ultra   \n",
       "3      52        NaN        Краснодар     Рафаил  ...       ultra   \n",
       "4      52        NaN        Краснодар     Рафаил  ...       ultra   \n",
       "...   ...        ...              ...        ...  ...         ...   \n",
       "3209   35        NaN  Санкт-Петербург      Павел  ...       smart   \n",
       "3210   35        NaN  Санкт-Петербург      Павел  ...       smart   \n",
       "3211   35        NaN  Санкт-Петербург      Павел  ...       smart   \n",
       "3212   35        NaN  Санкт-Петербург      Павел  ...       smart   \n",
       "3213   35        NaN  Санкт-Петербург      Павел  ...       smart   \n",
       "\n",
       "     messages_included mb_per_month_included  minutes_included  \\\n",
       "0                 1000                 30720              3000   \n",
       "1                 1000                 30720              3000   \n",
       "2                 1000                 30720              3000   \n",
       "3                 1000                 30720              3000   \n",
       "4                 1000                 30720              3000   \n",
       "...                ...                   ...               ...   \n",
       "3209                50                 15360               500   \n",
       "3210                50                 15360               500   \n",
       "3211                50                 15360               500   \n",
       "3212                50                 15360               500   \n",
       "3213                50                 15360               500   \n",
       "\n",
       "      rub_monthly_fee rub_per_gb  rub_per_message  rub_per_minute  \\\n",
       "0                1950        150                1               1   \n",
       "1                1950        150                1               1   \n",
       "2                1950        150                1               1   \n",
       "3                1950        150                1               1   \n",
       "4                1950        150                1               1   \n",
       "...               ...        ...              ...             ...   \n",
       "3209              550        200                3               3   \n",
       "3210              550        200                3               3   \n",
       "3211              550        200                3               3   \n",
       "3212              550        200                3               3   \n",
       "3213              550        200                3               3   \n",
       "\n",
       "      gb_per_month_included  revenue  \n",
       "0                      30.0   1950.0  \n",
       "1                      30.0   1950.0  \n",
       "2                      30.0   1950.0  \n",
       "3                      30.0   1950.0  \n",
       "4                      30.0   1950.0  \n",
       "...                     ...      ...  \n",
       "3209                   15.0    550.0  \n",
       "3210                   15.0    950.0  \n",
       "3211                   15.0   1550.0  \n",
       "3212                   15.0   1150.0  \n",
       "3213                   15.0    950.0  \n",
       "\n",
       "[3214 rows x 25 columns]"
      ]
     },
     "execution_count": 140,
     "metadata": {},
     "output_type": "execute_result"
    }
   ],
   "source": [
    "data_final"
   ]
  },
  {
   "cell_type": "markdown",
   "id": "31a3f991",
   "metadata": {},
   "source": [
    "нулевая гипотеза:\n",
    "средняя выручка пользавателя из Москвы выше чем у пользавателя из других регионовю «выручка пользавателя из Москвы выше чем у пользавателя из регионов!» — так можно будет утверждать, только если выручка будет статистически значимо меньше заявленной суммы.\n",
    "\n",
    "\n"
   ]
  },
  {
   "cell_type": "markdown",
   "id": "2a44a6f6",
   "metadata": {},
   "source": [
    "<div class=\"alert alert-danger\"; style=\"border-left: 7px solid red\">\n",
    "<h3>👀 Комментарий ревьюера</h3>\n",
    "    \n",
    "Нулевая гипотеза всегда формулируется в терминах равенства, т.е. нулевая гипотеза должна звучать как \"средняя выручка клиентов из Москвы и регионов совпадает\". Альтернативная, если очень хочется использовать односторонний тест, так: \"средняя выручка клиентов из Москвы выше\". Но лучше пользоваться двухсторонним тестом, потому что с односторонним можно не поймать разницу с другой стороны\n",
    "    \n",
    "    \n",
    "Т.к. у тебя доступно две выборки, то нет смысла использовать `1samp`, нужно как и выше пользоваться `ttest_ind`, иначе ты теряешь информацию, которая даёт вторая выборка.\n",
    "    \n",
    "</div> "
   ]
  },
  {
   "cell_type": "markdown",
   "id": "3e9dc443",
   "metadata": {},
   "source": [
    "<div class = \"alert alert-info\" style=\"border-left: 7px solid blue\">\n",
    "<h3>Комментарий студента</h3>\n",
    "\n",
    "ок, я понял, тогда будет тест \"ttest_ind\"/ ниже:\n",
    "    \n",
    "    согласен и принимаю ваш совет: нулевая гипотеза : \"средняя выручка клиентов из Москвы и регионов совпадает\". \n",
    "    \n",
    "</div>"
   ]
  },
  {
   "cell_type": "code",
   "execution_count": 141,
   "id": "3cd96958",
   "metadata": {},
   "outputs": [],
   "source": [
    "moscow_region_revenue = data_final[data_final['city'] == 'Москва']['revenue']"
   ]
  },
  {
   "cell_type": "code",
   "execution_count": 142,
   "id": "4e4b1d89",
   "metadata": {},
   "outputs": [],
   "source": [
    "other_region_revenue = data_final[data_final['city'] != 'Москва']['revenue']"
   ]
  },
  {
   "cell_type": "code",
   "execution_count": 143,
   "id": "3cd1c9af",
   "metadata": {},
   "outputs": [
    {
     "data": {
      "text/plain": [
       "0       1950.0\n",
       "1       1950.0\n",
       "2       1950.0\n",
       "3       1950.0\n",
       "4       1950.0\n",
       "         ...  \n",
       "3209     550.0\n",
       "3210     950.0\n",
       "3211    1550.0\n",
       "3212    1150.0\n",
       "3213     950.0\n",
       "Name: revenue, Length: 2603, dtype: float64"
      ]
     },
     "execution_count": 143,
     "metadata": {},
     "output_type": "execute_result"
    }
   ],
   "source": [
    "other_region_revenue"
   ]
  },
  {
   "cell_type": "code",
   "execution_count": 144,
   "id": "5b523cd4",
   "metadata": {},
   "outputs": [],
   "source": [
    "results_mos_reg = st.ttest_ind(moscow_region_revenue , other_region_revenue)"
   ]
  },
  {
   "cell_type": "code",
   "execution_count": 145,
   "id": "b6fe01df",
   "metadata": {},
   "outputs": [
    {
     "data": {
      "text/plain": [
       "Ttest_indResult(statistic=0.606816942705698, pvalue=0.5440152911670224)"
      ]
     },
     "execution_count": 145,
     "metadata": {},
     "output_type": "execute_result"
    }
   ],
   "source": [
    "results_mos_reg"
   ]
  },
  {
   "cell_type": "code",
   "execution_count": 146,
   "id": "5328dc16",
   "metadata": {},
   "outputs": [
    {
     "name": "stdout",
     "output_type": "stream",
     "text": [
      "p-значение: 0.5440152911670224\n"
     ]
    }
   ],
   "source": [
    "print('p-значение:', results_mos_reg.pvalue)"
   ]
  },
  {
   "cell_type": "code",
   "execution_count": 147,
   "id": "a6c2c366",
   "metadata": {},
   "outputs": [
    {
     "name": "stdout",
     "output_type": "stream",
     "text": [
      "Не получилось отвергнуть нулевую гипотезу\n"
     ]
    }
   ],
   "source": [
    "if results_mos_reg.pvalue < alpha:\n",
    "    print(\"Отвергаем нулевую гипотезу\")\n",
    "else:\n",
    "    print(\"Не получилось отвергнуть нулевую гипотезу\") "
   ]
  },
  {
   "cell_type": "markdown",
   "id": "a11167ab",
   "metadata": {},
   "source": [
    "наблюдаемое значение меньше предполагаемого;\n",
    "разница между этими значениями (\"средняя выручка клиентов из Москвы и регионов\")достаточно велика, то есть вероятность её получить случайно очень низка. Говорят, что такая разница статистически значима, — вероятность, что она окажется такой случайно, ниже выбранного уровня значимости."
   ]
  },
  {
   "cell_type": "markdown",
   "id": "465a0aae",
   "metadata": {},
   "source": [
    "<div class=\"alert alert-success\"; style=\"border-left: 7px solid green\">\n",
    "<h3>✔ Комментарий ревьюера V.2</h3>\n",
    "    \n",
    "Опять же, стоит что-то дополнительно почитать или поспрашивать преподавателя, потому что `p_value` величину разницы не показывает.\n",
    "</div>   "
   ]
  },
  {
   "cell_type": "markdown",
   "id": "10e06b75",
   "metadata": {},
   "source": [
    "<div class=\"alert alert-success\"; style=\"border-left: 7px solid green\">\n",
    "<h3>✔ Комментарий ревьюера V.2</h3>\n",
    "    \n",
    "После того, как выше всё поправишь, результаты теста могут поменяться</div>   "
   ]
  },
  {
   "cell_type": "markdown",
   "id": "0effd93c",
   "metadata": {},
   "source": [
    "<div class = \"alert alert-info\" style=\"border-left: 7px solid blue\">\n",
    "<h3>Комментарий студента</h3>\n",
    "\n",
    "поменялось :)\n",
    "выходит что  results_mos_reg.pvalue > alpha - Не получилось отвергнуть нулевую гипотезу/\n",
    "\n",
    "Альтернативная гипотеза подверждается \"средняя выручка клиентов из Москвы выше\"\n",
    "\n",
    "</div>"
   ]
  },
  {
   "cell_type": "markdown",
   "id": "a65fc139",
   "metadata": {},
   "source": [
    "<div class=\"alert alert-success\"; style=\"border-left: 7px solid green\">\n",
    "<h3>✔ Комментарий ревьюера V.3</h3>\n",
    "    \n",
    "Т.к. нулевая гипотеза это \"Средняя выручка клиентов из Москвы и не из Москвы равна\", то такой результат означает, что мы не можем нулевую гипотезу опровергнуть. Но это ещё не означает, что средние равны. Можно тут прочитать последний абзац:\n",
    "    \n",
    "> https://allatambov.github.io/psms/pdf/hypo-test.pdf\n",
    "</div>    \n"
   ]
  },
  {
   "cell_type": "code",
   "execution_count": 148,
   "id": "1c3b1bbe",
   "metadata": {},
   "outputs": [],
   "source": [
    "#moscow_region_revenue = data_final[data_final['city'] == 'Москва']['Revenue']"
   ]
  },
  {
   "cell_type": "code",
   "execution_count": 149,
   "id": "4e96c90b",
   "metadata": {},
   "outputs": [],
   "source": [
    "#moscow_region_revenue_mean = moscow_region_revenue.mean()"
   ]
  },
  {
   "cell_type": "code",
   "execution_count": 150,
   "id": "304278e2",
   "metadata": {},
   "outputs": [],
   "source": [
    "#moscow_region_revenue_mean"
   ]
  },
  {
   "cell_type": "code",
   "execution_count": 151,
   "id": "3808b442",
   "metadata": {},
   "outputs": [],
   "source": [
    "#other_region_revenue = data_final[data_final['city'] != 'Москва']['Revenue']"
   ]
  },
  {
   "cell_type": "code",
   "execution_count": 152,
   "id": "e0b23914",
   "metadata": {},
   "outputs": [],
   "source": [
    "#other_region_revenue.mean()"
   ]
  },
  {
   "cell_type": "code",
   "execution_count": 153,
   "id": "7d98650f",
   "metadata": {},
   "outputs": [],
   "source": [
    "#results_moscow_region = st.ttest_1samp(other_region_revenue,moscow_region_revenue_mean)"
   ]
  },
  {
   "cell_type": "code",
   "execution_count": 154,
   "id": "e79435b6",
   "metadata": {},
   "outputs": [],
   "source": [
    "#if (results_moscow_region.pvalue < alpha/2) and (moscow_region_revenue_mean > other_region_revenue.mean()):\n",
    "#    print(\"Отвергаем нулевую гипотезу\")\n",
    "#else:\n",
    "#    print(\"Не получилось отвергнуть нулевую гипотезу\") \n"
   ]
  },
  {
   "cell_type": "markdown",
   "id": "9ff9b9c4",
   "metadata": {},
   "source": [
    "средняя выручка пользователей из Москвы существенно  отличается от выручки пользователей из других регионов"
   ]
  },
  {
   "cell_type": "markdown",
   "id": "6590cb9f",
   "metadata": {},
   "source": [
    "##Шаг 5. Напишите общий вывод"
   ]
  },
  {
   "cell_type": "markdown",
   "id": "89d2e8e0",
   "metadata": {},
   "source": [
    "<div class = \"alert alert-info\" style=\"border-left: 7px solid blue\">\n",
    "<h3>Комментарий студента</h3>\n",
    "\n",
    " - так как больше пользователей стоновится больше в каждом месяце, постораюсь понять, по мимо выручке сколько в среднем платит клиент смарт и клиент ультра \n",
    "    \n",
    "</div>"
   ]
  },
  {
   "cell_type": "code",
   "execution_count": 155,
   "id": "c491a2ff",
   "metadata": {},
   "outputs": [
    {
     "data": {
      "text/plain": [
       "2039100.0"
      ]
     },
     "execution_count": 155,
     "metadata": {},
     "output_type": "execute_result"
    }
   ],
   "source": [
    "data_ultra['revenue'].sum()"
   ]
  },
  {
   "cell_type": "code",
   "execution_count": 156,
   "id": "578db6a1",
   "metadata": {},
   "outputs": [
    {
     "data": {
      "text/plain": [
       "13777.702702702703"
      ]
     },
     "execution_count": 156,
     "metadata": {},
     "output_type": "execute_result"
    }
   ],
   "source": [
    "data_ultra.groupby('user_id')['revenue'].sum().mean()"
   ]
  },
  {
   "cell_type": "markdown",
   "id": "04660394",
   "metadata": {},
   "source": [
    "<div class=\"alert alert-success\"; style=\"border-left: 7px solid green\">\n",
    "<h3>✔ Комментарий ревьюера V.2</h3>\n",
    "    \n",
    "Это средняя годовая выручка с клиента, на неё кажется не очень много смысла смотреть, потому что у нас данные всего лишь за год и не все пользователи пользовались тарифом весь год</div>   "
   ]
  },
  {
   "cell_type": "code",
   "execution_count": 157,
   "id": "f66705c8",
   "metadata": {},
   "outputs": [
    {
     "data": {
      "text/plain": [
       "2875351.0"
      ]
     },
     "execution_count": 157,
     "metadata": {},
     "output_type": "execute_result"
    }
   ],
   "source": [
    "data_smart['revenue'].sum()"
   ]
  },
  {
   "cell_type": "code",
   "execution_count": 158,
   "id": "b3939b07",
   "metadata": {},
   "outputs": [
    {
     "data": {
      "text/plain": [
       "0.2908344059560033"
      ]
     },
     "execution_count": 158,
     "metadata": {},
     "output_type": "execute_result"
    }
   ],
   "source": [
    "#на сколько выручка смарт больше чем выручка ультпа\n",
    "(data_smart['revenue'].sum() - data_ultra['revenue'].sum())/data_smart['revenue'].sum()"
   ]
  },
  {
   "cell_type": "code",
   "execution_count": 159,
   "id": "f48e538d",
   "metadata": {},
   "outputs": [
    {
     "data": {
      "text/plain": [
       "8215.288571428571"
      ]
     },
     "execution_count": 159,
     "metadata": {},
     "output_type": "execute_result"
    }
   ],
   "source": [
    "data_smart.groupby('user_id')['revenue'].sum().mean()"
   ]
  },
  {
   "cell_type": "markdown",
   "id": "b6312d80",
   "metadata": {},
   "source": [
    "Общие выводы похожие на те выводы которые я написвл при сравнения тарифов Smart и Ultra. пользователи тарифа смарт где-то на 20% больше тратят тпафика интернет и минуты во время звонков чем пользователи тарифа Ultra. то что их обединякт это то что почти 20% полбзователеь не пользуются услугами \"отправить сообщения\". В общем, пользователи обеим тарифов тратят в каждый месяц все больше и больше сервиса/ минут и интернет трафика. В то же время, распределения средних показателей и медиану отличаяются у пользователей двух тарифов.    "
   ]
  },
  {
   "cell_type": "markdown",
   "id": "ba68f53e",
   "metadata": {},
   "source": [
    "<div class=\"alert alert-danger\"; style=\"border-left: 7px solid red\">\n",
    "<h3>👀 Комментарий ревьюера</h3>\n",
    "    \n",
    "Какой тариф выгоднее для оператора-то по итогу?\n",
    "\n",
    "> Нужно проанализировать поведение клиентов и сделать вывод — какой тариф лучше.\n",
    "\n",
    "\n",
    "> В общем, пользователи обеим тарифов тратят в каждый месяц все больше и больше сервиса/ минут и интернет трафика.\n",
    "\n",
    "Это тоже не совсем так, они тратят больше и больше потому, что растёт число пользователей. Можно отдельно посмотреть на средние траты для месяцев\n",
    "</div> "
   ]
  },
  {
   "cell_type": "markdown",
   "id": "cb14f055",
   "metadata": {},
   "source": [
    "<div class = \"alert alert-info\" style=\"border-left: 7px solid blue\">\n",
    "<h3>Комментарий студента</h3>\n",
    "\n",
    "Каждый клиент ультра преносят 2 раза больше выручки чем клиент смарт но при этом общая выпучка всех клиентов смарт на 30% больше чем у клиентов Ультра. Соотвествено Тариф Ультра лучше но клиентов меньше. \n",
    "    \n",
    "</div>"
   ]
  },
  {
   "cell_type": "markdown",
   "id": "742e3e9f",
   "metadata": {},
   "source": [
    "<div class=\"alert alert-success\"; style=\"border-left: 7px solid green\">\n",
    "<h3>✔ Комментарий ревьюера V.2</h3>\n",
    "    \n",
    "👍\n",
    "</div>   "
   ]
  }
 ],
 "metadata": {
  "ExecuteTimeLog": [
   {
    "duration": 498,
    "start_time": "2022-04-26T15:47:03.688Z"
   },
   {
    "duration": 3,
    "start_time": "2022-04-26T15:47:04.189Z"
   },
   {
    "duration": 324,
    "start_time": "2022-04-26T15:47:04.193Z"
   },
   {
    "duration": 547,
    "start_time": "2022-04-26T15:47:04.519Z"
   },
   {
    "duration": 3,
    "start_time": "2022-04-26T15:47:05.069Z"
   },
   {
    "duration": 9,
    "start_time": "2022-04-26T15:47:05.074Z"
   },
   {
    "duration": 21,
    "start_time": "2022-04-26T15:47:05.085Z"
   },
   {
    "duration": 15,
    "start_time": "2022-04-26T15:47:05.109Z"
   },
   {
    "duration": 28,
    "start_time": "2022-04-26T15:47:05.126Z"
   },
   {
    "duration": 17,
    "start_time": "2022-04-26T15:47:05.158Z"
   },
   {
    "duration": 17,
    "start_time": "2022-04-26T15:47:05.177Z"
   },
   {
    "duration": 31,
    "start_time": "2022-04-26T15:47:05.197Z"
   },
   {
    "duration": 18,
    "start_time": "2022-04-26T15:47:05.230Z"
   },
   {
    "duration": 50,
    "start_time": "2022-04-26T15:47:05.250Z"
   },
   {
    "duration": 25,
    "start_time": "2022-04-26T15:47:05.302Z"
   },
   {
    "duration": 23,
    "start_time": "2022-04-26T15:47:05.333Z"
   },
   {
    "duration": 19,
    "start_time": "2022-04-26T15:47:05.358Z"
   },
   {
    "duration": 28,
    "start_time": "2022-04-26T15:47:05.379Z"
   },
   {
    "duration": 37,
    "start_time": "2022-04-26T15:47:05.409Z"
   },
   {
    "duration": 40,
    "start_time": "2022-04-26T15:47:05.447Z"
   },
   {
    "duration": 54,
    "start_time": "2022-04-26T15:47:05.489Z"
   },
   {
    "duration": 25,
    "start_time": "2022-04-26T15:47:05.545Z"
   },
   {
    "duration": 5,
    "start_time": "2022-04-26T15:47:05.572Z"
   },
   {
    "duration": 24,
    "start_time": "2022-04-26T15:47:05.579Z"
   },
   {
    "duration": 35,
    "start_time": "2022-04-26T15:47:05.605Z"
   },
   {
    "duration": 26,
    "start_time": "2022-04-26T15:47:05.642Z"
   },
   {
    "duration": 20,
    "start_time": "2022-04-26T15:47:05.670Z"
   },
   {
    "duration": 4,
    "start_time": "2022-04-26T15:47:05.696Z"
   },
   {
    "duration": 35,
    "start_time": "2022-04-26T15:47:05.702Z"
   },
   {
    "duration": 46,
    "start_time": "2022-04-26T15:47:05.739Z"
   },
   {
    "duration": 16,
    "start_time": "2022-04-26T15:47:05.787Z"
   },
   {
    "duration": 64,
    "start_time": "2022-04-26T15:47:05.805Z"
   },
   {
    "duration": 12,
    "start_time": "2022-04-26T15:47:05.871Z"
   },
   {
    "duration": 10,
    "start_time": "2022-04-26T15:47:05.886Z"
   },
   {
    "duration": 64,
    "start_time": "2022-04-26T15:47:05.898Z"
   },
   {
    "duration": 70,
    "start_time": "2022-04-26T15:47:05.964Z"
   },
   {
    "duration": 17,
    "start_time": "2022-04-26T15:47:06.036Z"
   },
   {
    "duration": 47,
    "start_time": "2022-04-26T15:47:06.055Z"
   },
   {
    "duration": 16,
    "start_time": "2022-04-26T15:47:06.104Z"
   },
   {
    "duration": 49,
    "start_time": "2022-04-26T15:47:06.121Z"
   },
   {
    "duration": 15,
    "start_time": "2022-04-26T15:47:06.172Z"
   },
   {
    "duration": 33,
    "start_time": "2022-04-26T15:47:06.189Z"
   },
   {
    "duration": 24,
    "start_time": "2022-04-26T15:47:06.224Z"
   },
   {
    "duration": 29,
    "start_time": "2022-04-26T15:47:06.250Z"
   },
   {
    "duration": 27,
    "start_time": "2022-04-26T15:47:06.280Z"
   },
   {
    "duration": 32,
    "start_time": "2022-04-26T15:47:06.309Z"
   },
   {
    "duration": 35,
    "start_time": "2022-04-26T15:47:06.343Z"
   },
   {
    "duration": 28,
    "start_time": "2022-04-26T15:47:06.380Z"
   },
   {
    "duration": 32,
    "start_time": "2022-04-26T15:47:06.410Z"
   },
   {
    "duration": 12,
    "start_time": "2022-04-26T15:47:06.444Z"
   },
   {
    "duration": 13,
    "start_time": "2022-04-26T15:47:06.458Z"
   },
   {
    "duration": 27,
    "start_time": "2022-04-26T15:47:06.473Z"
   },
   {
    "duration": 36,
    "start_time": "2022-04-26T15:47:06.502Z"
   },
   {
    "duration": 12,
    "start_time": "2022-04-26T15:47:06.540Z"
   },
   {
    "duration": 20,
    "start_time": "2022-04-26T15:47:06.554Z"
   },
   {
    "duration": 27,
    "start_time": "2022-04-26T15:47:06.577Z"
   },
   {
    "duration": 7,
    "start_time": "2022-04-26T15:47:06.606Z"
   },
   {
    "duration": 34,
    "start_time": "2022-04-26T15:47:06.615Z"
   },
   {
    "duration": 31,
    "start_time": "2022-04-26T15:47:06.651Z"
   },
   {
    "duration": 39,
    "start_time": "2022-04-26T15:47:06.684Z"
   },
   {
    "duration": 32,
    "start_time": "2022-04-26T15:47:06.725Z"
   },
   {
    "duration": 88,
    "start_time": "2022-04-26T15:47:06.760Z"
   },
   {
    "duration": 21,
    "start_time": "2022-04-26T15:47:06.851Z"
   },
   {
    "duration": 17,
    "start_time": "2022-04-26T15:47:06.874Z"
   },
   {
    "duration": 32,
    "start_time": "2022-04-26T15:47:06.893Z"
   },
   {
    "duration": 32,
    "start_time": "2022-04-26T15:47:06.928Z"
   },
   {
    "duration": 38,
    "start_time": "2022-04-26T15:47:06.963Z"
   },
   {
    "duration": 46,
    "start_time": "2022-04-26T15:47:07.003Z"
   },
   {
    "duration": 401,
    "start_time": "2022-04-26T15:47:07.052Z"
   },
   {
    "duration": 7,
    "start_time": "2022-04-26T15:47:07.455Z"
   },
   {
    "duration": 25,
    "start_time": "2022-04-26T15:47:07.464Z"
   },
   {
    "duration": 16,
    "start_time": "2022-04-26T15:47:07.491Z"
   },
   {
    "duration": 339,
    "start_time": "2022-04-26T15:47:07.508Z"
   },
   {
    "duration": 397,
    "start_time": "2022-04-26T15:47:07.849Z"
   },
   {
    "duration": 343,
    "start_time": "2022-04-26T15:47:08.248Z"
   },
   {
    "duration": 335,
    "start_time": "2022-04-26T15:47:08.593Z"
   },
   {
    "duration": 5,
    "start_time": "2022-04-26T15:47:08.930Z"
   },
   {
    "duration": 28,
    "start_time": "2022-04-26T15:47:08.937Z"
   },
   {
    "duration": 331,
    "start_time": "2022-04-26T15:47:08.967Z"
   },
   {
    "duration": 9,
    "start_time": "2022-04-26T15:47:09.300Z"
   },
   {
    "duration": 28,
    "start_time": "2022-04-26T15:47:09.311Z"
   },
   {
    "duration": 14,
    "start_time": "2022-04-26T15:47:09.346Z"
   },
   {
    "duration": 341,
    "start_time": "2022-04-26T15:47:09.362Z"
   },
   {
    "duration": 451,
    "start_time": "2022-04-26T15:47:09.705Z"
   },
   {
    "duration": 7,
    "start_time": "2022-04-26T15:47:10.159Z"
   },
   {
    "duration": 397,
    "start_time": "2022-04-26T15:47:10.168Z"
   },
   {
    "duration": 352,
    "start_time": "2022-04-26T15:47:10.567Z"
   },
   {
    "duration": 279,
    "start_time": "2022-04-26T15:47:10.921Z"
   },
   {
    "duration": 544,
    "start_time": "2022-04-26T15:47:11.202Z"
   },
   {
    "duration": 4,
    "start_time": "2022-04-26T15:47:11.748Z"
   },
   {
    "duration": 8,
    "start_time": "2022-04-26T15:47:11.754Z"
   },
   {
    "duration": 7,
    "start_time": "2022-04-26T15:47:11.763Z"
   },
   {
    "duration": 6,
    "start_time": "2022-04-26T15:47:11.772Z"
   },
   {
    "duration": 16,
    "start_time": "2022-04-26T15:47:11.780Z"
   },
   {
    "duration": 9,
    "start_time": "2022-04-26T15:47:11.798Z"
   },
   {
    "duration": 26,
    "start_time": "2022-04-26T15:47:11.809Z"
   },
   {
    "duration": 4,
    "start_time": "2022-04-26T15:47:11.838Z"
   },
   {
    "duration": 9,
    "start_time": "2022-04-26T15:47:11.844Z"
   },
   {
    "duration": 16,
    "start_time": "2022-04-26T15:47:11.855Z"
   },
   {
    "duration": 7,
    "start_time": "2022-04-26T15:47:11.873Z"
   },
   {
    "duration": 10,
    "start_time": "2022-04-26T15:47:11.882Z"
   },
   {
    "duration": 46,
    "start_time": "2022-04-26T15:47:11.893Z"
   },
   {
    "duration": 5,
    "start_time": "2022-04-26T15:47:11.941Z"
   },
   {
    "duration": 8,
    "start_time": "2022-04-26T15:47:11.948Z"
   },
   {
    "duration": 7,
    "start_time": "2022-04-26T15:47:11.958Z"
   },
   {
    "duration": 8,
    "start_time": "2022-04-26T15:47:11.967Z"
   },
   {
    "duration": 8,
    "start_time": "2022-04-26T15:47:11.977Z"
   },
   {
    "duration": 14,
    "start_time": "2022-04-26T15:47:11.987Z"
   },
   {
    "duration": 33,
    "start_time": "2022-04-26T15:47:12.003Z"
   },
   {
    "duration": 176,
    "start_time": "2022-04-26T15:48:00.289Z"
   },
   {
    "duration": 275,
    "start_time": "2022-04-26T15:48:11.702Z"
   },
   {
    "duration": 163,
    "start_time": "2022-04-26T15:52:18.914Z"
   },
   {
    "duration": 106,
    "start_time": "2022-04-29T15:28:59.397Z"
   },
   {
    "duration": 62,
    "start_time": "2022-04-29T15:30:35.672Z"
   },
   {
    "duration": 8,
    "start_time": "2022-04-29T15:30:39.034Z"
   },
   {
    "duration": 7,
    "start_time": "2022-04-29T15:30:44.565Z"
   },
   {
    "duration": 8,
    "start_time": "2022-04-29T15:30:50.400Z"
   },
   {
    "duration": 644,
    "start_time": "2022-04-29T15:31:01.469Z"
   },
   {
    "duration": 4,
    "start_time": "2022-04-29T15:31:02.117Z"
   },
   {
    "duration": 637,
    "start_time": "2022-04-29T15:31:02.124Z"
   },
   {
    "duration": 516,
    "start_time": "2022-04-29T15:31:02.764Z"
   },
   {
    "duration": 4,
    "start_time": "2022-04-29T15:31:03.282Z"
   },
   {
    "duration": 6,
    "start_time": "2022-04-29T15:31:03.288Z"
   },
   {
    "duration": 10,
    "start_time": "2022-04-29T15:31:03.296Z"
   },
   {
    "duration": 6,
    "start_time": "2022-04-29T15:31:03.308Z"
   },
   {
    "duration": 48,
    "start_time": "2022-04-29T15:31:03.316Z"
   },
   {
    "duration": 17,
    "start_time": "2022-04-29T15:31:03.368Z"
   },
   {
    "duration": 25,
    "start_time": "2022-04-29T15:31:03.387Z"
   },
   {
    "duration": 46,
    "start_time": "2022-04-29T15:31:03.415Z"
   },
   {
    "duration": 22,
    "start_time": "2022-04-29T15:31:03.463Z"
   },
   {
    "duration": 35,
    "start_time": "2022-04-29T15:31:03.487Z"
   },
   {
    "duration": 55,
    "start_time": "2022-04-29T15:31:03.524Z"
   },
   {
    "duration": 14,
    "start_time": "2022-04-29T15:31:03.582Z"
   },
   {
    "duration": 55,
    "start_time": "2022-04-29T15:31:03.598Z"
   },
   {
    "duration": 32,
    "start_time": "2022-04-29T15:31:03.657Z"
   },
   {
    "duration": 182,
    "start_time": "2022-04-29T15:31:03.691Z"
   },
   {
    "duration": 0,
    "start_time": "2022-04-29T15:31:03.883Z"
   },
   {
    "duration": 0,
    "start_time": "2022-04-29T15:31:03.885Z"
   },
   {
    "duration": 0,
    "start_time": "2022-04-29T15:31:03.886Z"
   },
   {
    "duration": 0,
    "start_time": "2022-04-29T15:31:03.888Z"
   },
   {
    "duration": 0,
    "start_time": "2022-04-29T15:31:03.889Z"
   },
   {
    "duration": 0,
    "start_time": "2022-04-29T15:31:03.891Z"
   },
   {
    "duration": 0,
    "start_time": "2022-04-29T15:31:03.893Z"
   },
   {
    "duration": 0,
    "start_time": "2022-04-29T15:31:03.894Z"
   },
   {
    "duration": 0,
    "start_time": "2022-04-29T15:31:03.896Z"
   },
   {
    "duration": 0,
    "start_time": "2022-04-29T15:31:03.898Z"
   },
   {
    "duration": 0,
    "start_time": "2022-04-29T15:31:03.900Z"
   },
   {
    "duration": 0,
    "start_time": "2022-04-29T15:31:03.902Z"
   },
   {
    "duration": 0,
    "start_time": "2022-04-29T15:31:03.904Z"
   },
   {
    "duration": 0,
    "start_time": "2022-04-29T15:31:03.906Z"
   },
   {
    "duration": 0,
    "start_time": "2022-04-29T15:31:03.907Z"
   },
   {
    "duration": 0,
    "start_time": "2022-04-29T15:31:03.951Z"
   },
   {
    "duration": 0,
    "start_time": "2022-04-29T15:31:03.953Z"
   },
   {
    "duration": 0,
    "start_time": "2022-04-29T15:31:03.954Z"
   },
   {
    "duration": 0,
    "start_time": "2022-04-29T15:31:03.956Z"
   },
   {
    "duration": 0,
    "start_time": "2022-04-29T15:31:03.957Z"
   },
   {
    "duration": 0,
    "start_time": "2022-04-29T15:31:03.958Z"
   },
   {
    "duration": 0,
    "start_time": "2022-04-29T15:31:03.960Z"
   },
   {
    "duration": 0,
    "start_time": "2022-04-29T15:31:03.961Z"
   },
   {
    "duration": 0,
    "start_time": "2022-04-29T15:31:03.963Z"
   },
   {
    "duration": 0,
    "start_time": "2022-04-29T15:31:03.964Z"
   },
   {
    "duration": 0,
    "start_time": "2022-04-29T15:31:03.966Z"
   },
   {
    "duration": 0,
    "start_time": "2022-04-29T15:31:03.967Z"
   },
   {
    "duration": 0,
    "start_time": "2022-04-29T15:31:03.969Z"
   },
   {
    "duration": 0,
    "start_time": "2022-04-29T15:31:03.970Z"
   },
   {
    "duration": 0,
    "start_time": "2022-04-29T15:31:03.972Z"
   },
   {
    "duration": 0,
    "start_time": "2022-04-29T15:31:03.973Z"
   },
   {
    "duration": 0,
    "start_time": "2022-04-29T15:31:03.974Z"
   },
   {
    "duration": 0,
    "start_time": "2022-04-29T15:31:03.976Z"
   },
   {
    "duration": 0,
    "start_time": "2022-04-29T15:31:03.978Z"
   },
   {
    "duration": 0,
    "start_time": "2022-04-29T15:31:03.980Z"
   },
   {
    "duration": 0,
    "start_time": "2022-04-29T15:31:03.981Z"
   },
   {
    "duration": 0,
    "start_time": "2022-04-29T15:31:03.982Z"
   },
   {
    "duration": 0,
    "start_time": "2022-04-29T15:31:03.983Z"
   },
   {
    "duration": 0,
    "start_time": "2022-04-29T15:31:03.984Z"
   },
   {
    "duration": 0,
    "start_time": "2022-04-29T15:31:03.985Z"
   },
   {
    "duration": 0,
    "start_time": "2022-04-29T15:31:03.987Z"
   },
   {
    "duration": 0,
    "start_time": "2022-04-29T15:31:04.052Z"
   },
   {
    "duration": 0,
    "start_time": "2022-04-29T15:31:04.054Z"
   },
   {
    "duration": 0,
    "start_time": "2022-04-29T15:31:04.056Z"
   },
   {
    "duration": 0,
    "start_time": "2022-04-29T15:31:04.057Z"
   },
   {
    "duration": 0,
    "start_time": "2022-04-29T15:31:04.058Z"
   },
   {
    "duration": 0,
    "start_time": "2022-04-29T15:31:04.060Z"
   },
   {
    "duration": 0,
    "start_time": "2022-04-29T15:31:04.061Z"
   },
   {
    "duration": 0,
    "start_time": "2022-04-29T15:31:04.062Z"
   },
   {
    "duration": 0,
    "start_time": "2022-04-29T15:31:04.064Z"
   },
   {
    "duration": 0,
    "start_time": "2022-04-29T15:31:04.065Z"
   },
   {
    "duration": 0,
    "start_time": "2022-04-29T15:31:04.066Z"
   },
   {
    "duration": 1,
    "start_time": "2022-04-29T15:31:04.067Z"
   },
   {
    "duration": 0,
    "start_time": "2022-04-29T15:31:04.069Z"
   },
   {
    "duration": 0,
    "start_time": "2022-04-29T15:31:04.070Z"
   },
   {
    "duration": 0,
    "start_time": "2022-04-29T15:31:04.071Z"
   },
   {
    "duration": 0,
    "start_time": "2022-04-29T15:31:04.073Z"
   },
   {
    "duration": 0,
    "start_time": "2022-04-29T15:31:04.074Z"
   },
   {
    "duration": 0,
    "start_time": "2022-04-29T15:31:04.075Z"
   },
   {
    "duration": 0,
    "start_time": "2022-04-29T15:31:04.076Z"
   },
   {
    "duration": 0,
    "start_time": "2022-04-29T15:31:04.077Z"
   },
   {
    "duration": 0,
    "start_time": "2022-04-29T15:31:04.078Z"
   },
   {
    "duration": 1,
    "start_time": "2022-04-29T15:31:04.079Z"
   },
   {
    "duration": 0,
    "start_time": "2022-04-29T15:31:04.081Z"
   },
   {
    "duration": 0,
    "start_time": "2022-04-29T15:31:04.082Z"
   },
   {
    "duration": 0,
    "start_time": "2022-04-29T15:31:04.083Z"
   },
   {
    "duration": 0,
    "start_time": "2022-04-29T15:31:04.084Z"
   },
   {
    "duration": 0,
    "start_time": "2022-04-29T15:31:04.086Z"
   },
   {
    "duration": 0,
    "start_time": "2022-04-29T15:31:04.152Z"
   },
   {
    "duration": 0,
    "start_time": "2022-04-29T15:31:04.154Z"
   },
   {
    "duration": 0,
    "start_time": "2022-04-29T15:31:04.156Z"
   },
   {
    "duration": 0,
    "start_time": "2022-04-29T15:31:04.157Z"
   },
   {
    "duration": 0,
    "start_time": "2022-04-29T15:31:04.159Z"
   },
   {
    "duration": 1,
    "start_time": "2022-04-29T15:31:04.160Z"
   },
   {
    "duration": 0,
    "start_time": "2022-04-29T15:31:04.162Z"
   },
   {
    "duration": 0,
    "start_time": "2022-04-29T15:31:04.164Z"
   },
   {
    "duration": 0,
    "start_time": "2022-04-29T15:31:04.166Z"
   },
   {
    "duration": 0,
    "start_time": "2022-04-29T15:31:04.168Z"
   },
   {
    "duration": 0,
    "start_time": "2022-04-29T15:31:04.169Z"
   },
   {
    "duration": 0,
    "start_time": "2022-04-29T15:31:04.171Z"
   },
   {
    "duration": 0,
    "start_time": "2022-04-29T15:31:04.172Z"
   },
   {
    "duration": 0,
    "start_time": "2022-04-29T15:31:04.174Z"
   },
   {
    "duration": 0,
    "start_time": "2022-04-29T15:31:04.175Z"
   },
   {
    "duration": 0,
    "start_time": "2022-04-29T15:31:04.251Z"
   },
   {
    "duration": 1,
    "start_time": "2022-04-29T15:31:04.253Z"
   },
   {
    "duration": 0,
    "start_time": "2022-04-29T15:31:04.256Z"
   },
   {
    "duration": 0,
    "start_time": "2022-04-29T15:31:04.258Z"
   },
   {
    "duration": 0,
    "start_time": "2022-04-29T15:31:04.261Z"
   },
   {
    "duration": 0,
    "start_time": "2022-04-29T15:31:04.263Z"
   },
   {
    "duration": 0,
    "start_time": "2022-04-29T15:31:04.266Z"
   },
   {
    "duration": 0,
    "start_time": "2022-04-29T15:31:04.268Z"
   },
   {
    "duration": 9,
    "start_time": "2022-04-29T15:33:44.632Z"
   },
   {
    "duration": 22,
    "start_time": "2022-04-29T15:34:38.311Z"
   },
   {
    "duration": 14,
    "start_time": "2022-04-29T15:34:51.283Z"
   },
   {
    "duration": 10,
    "start_time": "2022-04-29T15:34:57.136Z"
   },
   {
    "duration": 12,
    "start_time": "2022-04-29T15:35:00.586Z"
   },
   {
    "duration": 12,
    "start_time": "2022-04-29T15:35:02.864Z"
   },
   {
    "duration": 6,
    "start_time": "2022-04-29T15:39:15.321Z"
   },
   {
    "duration": 19,
    "start_time": "2022-04-29T15:39:36.142Z"
   },
   {
    "duration": 530,
    "start_time": "2022-04-29T15:59:17.879Z"
   },
   {
    "duration": 567,
    "start_time": "2022-04-29T15:59:34.869Z"
   },
   {
    "duration": 3,
    "start_time": "2022-04-29T15:59:36.401Z"
   },
   {
    "duration": 4,
    "start_time": "2022-04-29T15:59:36.638Z"
   },
   {
    "duration": 4,
    "start_time": "2022-04-29T15:59:36.840Z"
   },
   {
    "duration": 3,
    "start_time": "2022-04-29T15:59:37.042Z"
   },
   {
    "duration": 16,
    "start_time": "2022-04-29T15:59:37.199Z"
   },
   {
    "duration": 18,
    "start_time": "2022-04-29T15:59:37.381Z"
   },
   {
    "duration": 20,
    "start_time": "2022-04-29T15:59:37.582Z"
   },
   {
    "duration": 12,
    "start_time": "2022-04-29T15:59:37.805Z"
   },
   {
    "duration": 21,
    "start_time": "2022-04-29T15:59:38.037Z"
   },
   {
    "duration": 34,
    "start_time": "2022-04-29T15:59:38.381Z"
   },
   {
    "duration": 45,
    "start_time": "2022-04-29T15:59:39.620Z"
   },
   {
    "duration": 15,
    "start_time": "2022-04-29T15:59:39.849Z"
   },
   {
    "duration": 16,
    "start_time": "2022-04-29T15:59:40.766Z"
   },
   {
    "duration": 25,
    "start_time": "2022-04-29T15:59:41.058Z"
   },
   {
    "duration": 10,
    "start_time": "2022-04-29T16:33:32.301Z"
   },
   {
    "duration": 9,
    "start_time": "2022-04-29T16:33:32.522Z"
   },
   {
    "duration": 16,
    "start_time": "2022-04-29T16:33:41.973Z"
   },
   {
    "duration": 10,
    "start_time": "2022-04-29T16:33:42.309Z"
   },
   {
    "duration": 18,
    "start_time": "2022-04-29T16:33:42.438Z"
   },
   {
    "duration": 49,
    "start_time": "2022-04-29T16:33:42.591Z"
   },
   {
    "duration": 43,
    "start_time": "2022-04-29T16:33:42.745Z"
   },
   {
    "duration": 18,
    "start_time": "2022-04-29T16:33:42.900Z"
   },
   {
    "duration": 20,
    "start_time": "2022-04-29T16:33:43.030Z"
   },
   {
    "duration": 35,
    "start_time": "2022-04-29T16:33:43.182Z"
   },
   {
    "duration": 26,
    "start_time": "2022-04-29T16:33:43.687Z"
   },
   {
    "duration": 6,
    "start_time": "2022-04-29T16:33:43.858Z"
   },
   {
    "duration": 46,
    "start_time": "2022-04-29T16:33:44.403Z"
   },
   {
    "duration": 44,
    "start_time": "2022-04-29T16:33:44.593Z"
   },
   {
    "duration": 35,
    "start_time": "2022-04-29T16:33:44.759Z"
   },
   {
    "duration": 28,
    "start_time": "2022-04-29T16:33:44.928Z"
   },
   {
    "duration": 6,
    "start_time": "2022-04-29T16:33:45.091Z"
   },
   {
    "duration": 15,
    "start_time": "2022-04-29T16:33:45.258Z"
   },
   {
    "duration": 22,
    "start_time": "2022-04-29T16:33:45.604Z"
   },
   {
    "duration": 30,
    "start_time": "2022-04-29T16:33:45.783Z"
   },
   {
    "duration": 24,
    "start_time": "2022-04-29T16:33:45.968Z"
   },
   {
    "duration": 6,
    "start_time": "2022-04-29T16:33:46.147Z"
   },
   {
    "duration": 9,
    "start_time": "2022-04-29T16:33:46.700Z"
   },
   {
    "duration": 38,
    "start_time": "2022-04-29T16:33:47.056Z"
   },
   {
    "duration": 17,
    "start_time": "2022-04-29T16:33:47.231Z"
   },
   {
    "duration": 46,
    "start_time": "2022-04-29T16:33:47.405Z"
   },
   {
    "duration": 17,
    "start_time": "2022-04-29T16:33:47.579Z"
   },
   {
    "duration": 12,
    "start_time": "2022-04-29T16:33:47.766Z"
   },
   {
    "duration": 37,
    "start_time": "2022-04-29T16:33:48.287Z"
   },
   {
    "duration": 65,
    "start_time": "2022-04-29T16:33:49.334Z"
   },
   {
    "duration": 23,
    "start_time": "2022-04-29T16:33:49.507Z"
   },
   {
    "duration": 34,
    "start_time": "2022-04-29T16:33:50.628Z"
   },
   {
    "duration": 21,
    "start_time": "2022-04-29T16:33:50.798Z"
   },
   {
    "duration": 31,
    "start_time": "2022-04-29T16:33:51.134Z"
   },
   {
    "duration": 20,
    "start_time": "2022-04-29T16:33:51.304Z"
   },
   {
    "duration": 26,
    "start_time": "2022-04-29T16:33:51.638Z"
   },
   {
    "duration": 20,
    "start_time": "2022-04-29T16:33:51.798Z"
   },
   {
    "duration": 21,
    "start_time": "2022-04-29T16:33:51.953Z"
   },
   {
    "duration": 22,
    "start_time": "2022-04-29T16:33:52.083Z"
   },
   {
    "duration": 5,
    "start_time": "2022-04-29T16:33:52.275Z"
   },
   {
    "duration": 25,
    "start_time": "2022-04-29T16:33:52.442Z"
   },
   {
    "duration": 17,
    "start_time": "2022-04-29T16:33:52.767Z"
   },
   {
    "duration": 32,
    "start_time": "2022-04-29T16:33:52.923Z"
   },
   {
    "duration": 4,
    "start_time": "2022-04-29T17:09:59.238Z"
   },
   {
    "duration": 9,
    "start_time": "2022-04-29T17:10:00.930Z"
   },
   {
    "duration": 5,
    "start_time": "2022-04-29T17:10:58.084Z"
   },
   {
    "duration": 1879,
    "start_time": "2022-04-29T17:30:29.686Z"
   },
   {
    "duration": 1436,
    "start_time": "2022-04-29T17:30:45.446Z"
   },
   {
    "duration": 22,
    "start_time": "2022-04-29T17:30:54.144Z"
   },
   {
    "duration": 1609,
    "start_time": "2022-04-29T17:30:54.968Z"
   },
   {
    "duration": 21,
    "start_time": "2022-04-29T17:31:22.770Z"
   },
   {
    "duration": 574,
    "start_time": "2022-04-29T17:31:32.910Z"
   },
   {
    "duration": 3,
    "start_time": "2022-04-29T17:31:33.487Z"
   },
   {
    "duration": 391,
    "start_time": "2022-04-29T17:31:33.493Z"
   },
   {
    "duration": 578,
    "start_time": "2022-04-29T17:31:33.887Z"
   },
   {
    "duration": 3,
    "start_time": "2022-04-29T17:31:34.467Z"
   },
   {
    "duration": 11,
    "start_time": "2022-04-29T17:31:34.473Z"
   },
   {
    "duration": 13,
    "start_time": "2022-04-29T17:31:34.487Z"
   },
   {
    "duration": 5,
    "start_time": "2022-04-29T17:31:34.502Z"
   },
   {
    "duration": 45,
    "start_time": "2022-04-29T17:31:34.510Z"
   },
   {
    "duration": 18,
    "start_time": "2022-04-29T17:31:34.559Z"
   },
   {
    "duration": 17,
    "start_time": "2022-04-29T17:31:34.580Z"
   },
   {
    "duration": 11,
    "start_time": "2022-04-29T17:31:34.599Z"
   },
   {
    "duration": 19,
    "start_time": "2022-04-29T17:31:34.652Z"
   },
   {
    "duration": 40,
    "start_time": "2022-04-29T17:31:34.674Z"
   },
   {
    "duration": 32,
    "start_time": "2022-04-29T17:31:34.753Z"
   },
   {
    "duration": 15,
    "start_time": "2022-04-29T17:31:34.788Z"
   },
   {
    "duration": 56,
    "start_time": "2022-04-29T17:31:34.805Z"
   },
   {
    "duration": 26,
    "start_time": "2022-04-29T17:31:34.863Z"
   },
   {
    "duration": 20,
    "start_time": "2022-04-29T17:31:34.891Z"
   },
   {
    "duration": 41,
    "start_time": "2022-04-29T17:31:34.913Z"
   },
   {
    "duration": 52,
    "start_time": "2022-04-29T17:31:34.956Z"
   },
   {
    "duration": 72,
    "start_time": "2022-04-29T17:31:35.010Z"
   },
   {
    "duration": 36,
    "start_time": "2022-04-29T17:31:35.084Z"
   },
   {
    "duration": 56,
    "start_time": "2022-04-29T17:31:35.122Z"
   },
   {
    "duration": 5,
    "start_time": "2022-04-29T17:31:35.181Z"
   },
   {
    "duration": 17,
    "start_time": "2022-04-29T17:31:35.188Z"
   },
   {
    "duration": 56,
    "start_time": "2022-04-29T17:31:35.207Z"
   },
   {
    "duration": 33,
    "start_time": "2022-04-29T17:31:35.269Z"
   },
   {
    "duration": 50,
    "start_time": "2022-04-29T17:31:35.305Z"
   },
   {
    "duration": 5,
    "start_time": "2022-04-29T17:31:35.357Z"
   },
   {
    "duration": 11,
    "start_time": "2022-04-29T17:31:35.365Z"
   },
   {
    "duration": 43,
    "start_time": "2022-04-29T17:31:35.379Z"
   },
   {
    "duration": 19,
    "start_time": "2022-04-29T17:31:35.452Z"
   },
   {
    "duration": 57,
    "start_time": "2022-04-29T17:31:35.473Z"
   },
   {
    "duration": 20,
    "start_time": "2022-04-29T17:31:35.553Z"
   },
   {
    "duration": 15,
    "start_time": "2022-04-29T17:31:35.576Z"
   },
   {
    "duration": 82,
    "start_time": "2022-04-29T17:31:35.594Z"
   },
   {
    "duration": 24,
    "start_time": "2022-04-29T17:31:35.678Z"
   },
   {
    "duration": 11,
    "start_time": "2022-04-29T17:31:35.704Z"
   },
   {
    "duration": 198,
    "start_time": "2022-04-29T17:31:35.718Z"
   },
   {
    "duration": 0,
    "start_time": "2022-04-29T17:31:35.921Z"
   },
   {
    "duration": 0,
    "start_time": "2022-04-29T17:31:35.923Z"
   },
   {
    "duration": 0,
    "start_time": "2022-04-29T17:31:35.925Z"
   },
   {
    "duration": 0,
    "start_time": "2022-04-29T17:31:35.927Z"
   },
   {
    "duration": 0,
    "start_time": "2022-04-29T17:31:35.929Z"
   },
   {
    "duration": 0,
    "start_time": "2022-04-29T17:31:35.931Z"
   },
   {
    "duration": 0,
    "start_time": "2022-04-29T17:31:35.952Z"
   },
   {
    "duration": 0,
    "start_time": "2022-04-29T17:31:35.954Z"
   },
   {
    "duration": 0,
    "start_time": "2022-04-29T17:31:35.956Z"
   },
   {
    "duration": 0,
    "start_time": "2022-04-29T17:31:35.958Z"
   },
   {
    "duration": 0,
    "start_time": "2022-04-29T17:31:35.960Z"
   },
   {
    "duration": 0,
    "start_time": "2022-04-29T17:31:35.962Z"
   },
   {
    "duration": 0,
    "start_time": "2022-04-29T17:31:35.963Z"
   },
   {
    "duration": 0,
    "start_time": "2022-04-29T17:31:35.966Z"
   },
   {
    "duration": 0,
    "start_time": "2022-04-29T17:31:35.967Z"
   },
   {
    "duration": 0,
    "start_time": "2022-04-29T17:31:35.969Z"
   },
   {
    "duration": 0,
    "start_time": "2022-04-29T17:31:35.971Z"
   },
   {
    "duration": 0,
    "start_time": "2022-04-29T17:31:35.973Z"
   },
   {
    "duration": 1,
    "start_time": "2022-04-29T17:31:35.974Z"
   },
   {
    "duration": 0,
    "start_time": "2022-04-29T17:31:35.977Z"
   },
   {
    "duration": 0,
    "start_time": "2022-04-29T17:31:35.978Z"
   },
   {
    "duration": 0,
    "start_time": "2022-04-29T17:31:35.980Z"
   },
   {
    "duration": 0,
    "start_time": "2022-04-29T17:31:35.982Z"
   },
   {
    "duration": 0,
    "start_time": "2022-04-29T17:31:35.983Z"
   },
   {
    "duration": 0,
    "start_time": "2022-04-29T17:31:35.985Z"
   },
   {
    "duration": 0,
    "start_time": "2022-04-29T17:31:35.987Z"
   },
   {
    "duration": 0,
    "start_time": "2022-04-29T17:31:35.988Z"
   },
   {
    "duration": 0,
    "start_time": "2022-04-29T17:31:35.990Z"
   },
   {
    "duration": 0,
    "start_time": "2022-04-29T17:31:35.992Z"
   },
   {
    "duration": 0,
    "start_time": "2022-04-29T17:31:36.052Z"
   },
   {
    "duration": 0,
    "start_time": "2022-04-29T17:31:36.055Z"
   },
   {
    "duration": 0,
    "start_time": "2022-04-29T17:31:36.057Z"
   },
   {
    "duration": 0,
    "start_time": "2022-04-29T17:31:36.059Z"
   },
   {
    "duration": 0,
    "start_time": "2022-04-29T17:31:36.061Z"
   },
   {
    "duration": 0,
    "start_time": "2022-04-29T17:31:36.063Z"
   },
   {
    "duration": 0,
    "start_time": "2022-04-29T17:31:36.064Z"
   },
   {
    "duration": 0,
    "start_time": "2022-04-29T17:31:36.066Z"
   },
   {
    "duration": 0,
    "start_time": "2022-04-29T17:31:36.068Z"
   },
   {
    "duration": 0,
    "start_time": "2022-04-29T17:31:36.069Z"
   },
   {
    "duration": 0,
    "start_time": "2022-04-29T17:31:36.071Z"
   },
   {
    "duration": 0,
    "start_time": "2022-04-29T17:31:36.072Z"
   },
   {
    "duration": 0,
    "start_time": "2022-04-29T17:31:36.074Z"
   },
   {
    "duration": 0,
    "start_time": "2022-04-29T17:31:36.076Z"
   },
   {
    "duration": 0,
    "start_time": "2022-04-29T17:31:36.077Z"
   },
   {
    "duration": 0,
    "start_time": "2022-04-29T17:31:36.079Z"
   },
   {
    "duration": 0,
    "start_time": "2022-04-29T17:31:36.081Z"
   },
   {
    "duration": 0,
    "start_time": "2022-04-29T17:31:36.082Z"
   },
   {
    "duration": 0,
    "start_time": "2022-04-29T17:31:36.084Z"
   },
   {
    "duration": 0,
    "start_time": "2022-04-29T17:31:36.085Z"
   },
   {
    "duration": 0,
    "start_time": "2022-04-29T17:31:36.087Z"
   },
   {
    "duration": 0,
    "start_time": "2022-04-29T17:31:36.152Z"
   },
   {
    "duration": 0,
    "start_time": "2022-04-29T17:31:36.154Z"
   },
   {
    "duration": 0,
    "start_time": "2022-04-29T17:31:36.156Z"
   },
   {
    "duration": 0,
    "start_time": "2022-04-29T17:31:36.157Z"
   },
   {
    "duration": 0,
    "start_time": "2022-04-29T17:31:36.159Z"
   },
   {
    "duration": 0,
    "start_time": "2022-04-29T17:31:36.161Z"
   },
   {
    "duration": 0,
    "start_time": "2022-04-29T17:31:36.162Z"
   },
   {
    "duration": 0,
    "start_time": "2022-04-29T17:31:36.163Z"
   },
   {
    "duration": 0,
    "start_time": "2022-04-29T17:31:36.165Z"
   },
   {
    "duration": 0,
    "start_time": "2022-04-29T17:31:36.166Z"
   },
   {
    "duration": 0,
    "start_time": "2022-04-29T17:31:36.169Z"
   },
   {
    "duration": 0,
    "start_time": "2022-04-29T17:31:36.170Z"
   },
   {
    "duration": 0,
    "start_time": "2022-04-29T17:31:36.171Z"
   },
   {
    "duration": 0,
    "start_time": "2022-04-29T17:31:36.173Z"
   },
   {
    "duration": 0,
    "start_time": "2022-04-29T17:31:36.174Z"
   },
   {
    "duration": 0,
    "start_time": "2022-04-29T17:31:36.176Z"
   },
   {
    "duration": 0,
    "start_time": "2022-04-29T17:31:36.177Z"
   },
   {
    "duration": 0,
    "start_time": "2022-04-29T17:31:36.178Z"
   },
   {
    "duration": 0,
    "start_time": "2022-04-29T17:31:36.179Z"
   },
   {
    "duration": 0,
    "start_time": "2022-04-29T17:31:36.181Z"
   },
   {
    "duration": 0,
    "start_time": "2022-04-29T17:31:36.182Z"
   },
   {
    "duration": 0,
    "start_time": "2022-04-29T17:31:36.184Z"
   },
   {
    "duration": 0,
    "start_time": "2022-04-29T17:31:36.185Z"
   },
   {
    "duration": 0,
    "start_time": "2022-04-29T17:31:36.186Z"
   },
   {
    "duration": 22,
    "start_time": "2022-04-29T17:32:05.759Z"
   },
   {
    "duration": 5,
    "start_time": "2022-04-29T17:32:44.325Z"
   },
   {
    "duration": 24,
    "start_time": "2022-04-29T17:32:45.359Z"
   },
   {
    "duration": 742,
    "start_time": "2022-04-30T11:15:35.529Z"
   },
   {
    "duration": 8,
    "start_time": "2022-04-30T11:15:36.274Z"
   },
   {
    "duration": 585,
    "start_time": "2022-04-30T11:15:36.285Z"
   },
   {
    "duration": 567,
    "start_time": "2022-04-30T11:15:36.875Z"
   },
   {
    "duration": 3,
    "start_time": "2022-04-30T11:15:37.445Z"
   },
   {
    "duration": 10,
    "start_time": "2022-04-30T11:15:37.450Z"
   },
   {
    "duration": 6,
    "start_time": "2022-04-30T11:15:37.463Z"
   },
   {
    "duration": 4,
    "start_time": "2022-04-30T11:15:37.482Z"
   },
   {
    "duration": 31,
    "start_time": "2022-04-30T11:15:37.489Z"
   },
   {
    "duration": 16,
    "start_time": "2022-04-30T11:15:37.524Z"
   },
   {
    "duration": 48,
    "start_time": "2022-04-30T11:15:37.542Z"
   },
   {
    "duration": 14,
    "start_time": "2022-04-30T11:15:37.592Z"
   },
   {
    "duration": 21,
    "start_time": "2022-04-30T11:15:37.608Z"
   },
   {
    "duration": 75,
    "start_time": "2022-04-30T11:15:37.631Z"
   },
   {
    "duration": 30,
    "start_time": "2022-04-30T11:15:37.708Z"
   },
   {
    "duration": 19,
    "start_time": "2022-04-30T11:15:37.740Z"
   },
   {
    "duration": 16,
    "start_time": "2022-04-30T11:15:37.783Z"
   },
   {
    "duration": 28,
    "start_time": "2022-04-30T11:15:37.802Z"
   },
   {
    "duration": 51,
    "start_time": "2022-04-30T11:15:37.832Z"
   },
   {
    "duration": 6,
    "start_time": "2022-04-30T11:15:37.886Z"
   },
   {
    "duration": 50,
    "start_time": "2022-04-30T11:15:37.895Z"
   },
   {
    "duration": 83,
    "start_time": "2022-04-30T11:15:37.947Z"
   },
   {
    "duration": 51,
    "start_time": "2022-04-30T11:15:38.032Z"
   },
   {
    "duration": 29,
    "start_time": "2022-04-30T11:15:38.085Z"
   },
   {
    "duration": 5,
    "start_time": "2022-04-30T11:15:38.117Z"
   },
   {
    "duration": 23,
    "start_time": "2022-04-30T11:15:38.124Z"
   },
   {
    "duration": 44,
    "start_time": "2022-04-30T11:15:38.149Z"
   },
   {
    "duration": 31,
    "start_time": "2022-04-30T11:15:38.200Z"
   },
   {
    "duration": 24,
    "start_time": "2022-04-30T11:15:38.233Z"
   },
   {
    "duration": 24,
    "start_time": "2022-04-30T11:15:38.259Z"
   },
   {
    "duration": 19,
    "start_time": "2022-04-30T11:15:38.285Z"
   },
   {
    "duration": 49,
    "start_time": "2022-04-30T11:15:38.306Z"
   },
   {
    "duration": 31,
    "start_time": "2022-04-30T11:15:38.357Z"
   },
   {
    "duration": 47,
    "start_time": "2022-04-30T11:15:38.391Z"
   },
   {
    "duration": 43,
    "start_time": "2022-04-30T11:15:38.441Z"
   },
   {
    "duration": 11,
    "start_time": "2022-04-30T11:15:38.486Z"
   },
   {
    "duration": 38,
    "start_time": "2022-04-30T11:15:38.499Z"
   },
   {
    "duration": 52,
    "start_time": "2022-04-30T11:15:38.540Z"
   },
   {
    "duration": 6,
    "start_time": "2022-04-30T11:15:38.595Z"
   },
   {
    "duration": 25,
    "start_time": "2022-04-30T11:15:38.604Z"
   },
   {
    "duration": 132,
    "start_time": "2022-04-30T11:15:38.631Z"
   },
   {
    "duration": 0,
    "start_time": "2022-04-30T11:15:38.767Z"
   },
   {
    "duration": 0,
    "start_time": "2022-04-30T11:15:38.768Z"
   },
   {
    "duration": 0,
    "start_time": "2022-04-30T11:15:38.770Z"
   },
   {
    "duration": 0,
    "start_time": "2022-04-30T11:15:38.771Z"
   },
   {
    "duration": 0,
    "start_time": "2022-04-30T11:15:38.772Z"
   },
   {
    "duration": 0,
    "start_time": "2022-04-30T11:15:38.781Z"
   },
   {
    "duration": 0,
    "start_time": "2022-04-30T11:15:38.783Z"
   },
   {
    "duration": 0,
    "start_time": "2022-04-30T11:15:38.785Z"
   },
   {
    "duration": 0,
    "start_time": "2022-04-30T11:15:38.786Z"
   },
   {
    "duration": 0,
    "start_time": "2022-04-30T11:15:38.788Z"
   },
   {
    "duration": 0,
    "start_time": "2022-04-30T11:15:38.789Z"
   },
   {
    "duration": 0,
    "start_time": "2022-04-30T11:15:38.791Z"
   },
   {
    "duration": 0,
    "start_time": "2022-04-30T11:15:38.793Z"
   },
   {
    "duration": 0,
    "start_time": "2022-04-30T11:15:38.794Z"
   },
   {
    "duration": 0,
    "start_time": "2022-04-30T11:15:38.796Z"
   },
   {
    "duration": 0,
    "start_time": "2022-04-30T11:15:38.797Z"
   },
   {
    "duration": 0,
    "start_time": "2022-04-30T11:15:38.799Z"
   },
   {
    "duration": 0,
    "start_time": "2022-04-30T11:15:38.801Z"
   },
   {
    "duration": 0,
    "start_time": "2022-04-30T11:15:38.802Z"
   },
   {
    "duration": 0,
    "start_time": "2022-04-30T11:15:38.804Z"
   },
   {
    "duration": 0,
    "start_time": "2022-04-30T11:15:38.806Z"
   },
   {
    "duration": 0,
    "start_time": "2022-04-30T11:15:38.807Z"
   },
   {
    "duration": 0,
    "start_time": "2022-04-30T11:15:38.809Z"
   },
   {
    "duration": 0,
    "start_time": "2022-04-30T11:15:38.811Z"
   },
   {
    "duration": 0,
    "start_time": "2022-04-30T11:15:38.813Z"
   },
   {
    "duration": 0,
    "start_time": "2022-04-30T11:15:38.814Z"
   },
   {
    "duration": 0,
    "start_time": "2022-04-30T11:15:38.816Z"
   },
   {
    "duration": 0,
    "start_time": "2022-04-30T11:15:38.817Z"
   },
   {
    "duration": 0,
    "start_time": "2022-04-30T11:15:38.882Z"
   },
   {
    "duration": 0,
    "start_time": "2022-04-30T11:15:38.884Z"
   },
   {
    "duration": 0,
    "start_time": "2022-04-30T11:15:38.885Z"
   },
   {
    "duration": 0,
    "start_time": "2022-04-30T11:15:38.887Z"
   },
   {
    "duration": 0,
    "start_time": "2022-04-30T11:15:38.889Z"
   },
   {
    "duration": 0,
    "start_time": "2022-04-30T11:15:38.890Z"
   },
   {
    "duration": 0,
    "start_time": "2022-04-30T11:15:38.892Z"
   },
   {
    "duration": 0,
    "start_time": "2022-04-30T11:15:38.893Z"
   },
   {
    "duration": 1,
    "start_time": "2022-04-30T11:15:38.894Z"
   },
   {
    "duration": 0,
    "start_time": "2022-04-30T11:15:38.896Z"
   },
   {
    "duration": 0,
    "start_time": "2022-04-30T11:15:38.898Z"
   },
   {
    "duration": 0,
    "start_time": "2022-04-30T11:15:38.900Z"
   },
   {
    "duration": 0,
    "start_time": "2022-04-30T11:15:38.902Z"
   },
   {
    "duration": 0,
    "start_time": "2022-04-30T11:15:38.903Z"
   },
   {
    "duration": 0,
    "start_time": "2022-04-30T11:15:38.905Z"
   },
   {
    "duration": 0,
    "start_time": "2022-04-30T11:15:38.906Z"
   },
   {
    "duration": 0,
    "start_time": "2022-04-30T11:15:38.908Z"
   },
   {
    "duration": 0,
    "start_time": "2022-04-30T11:15:38.910Z"
   },
   {
    "duration": 0,
    "start_time": "2022-04-30T11:15:38.911Z"
   },
   {
    "duration": 0,
    "start_time": "2022-04-30T11:15:38.913Z"
   },
   {
    "duration": 0,
    "start_time": "2022-04-30T11:15:38.915Z"
   },
   {
    "duration": 0,
    "start_time": "2022-04-30T11:15:38.917Z"
   },
   {
    "duration": 0,
    "start_time": "2022-04-30T11:15:38.982Z"
   },
   {
    "duration": 0,
    "start_time": "2022-04-30T11:15:38.983Z"
   },
   {
    "duration": 0,
    "start_time": "2022-04-30T11:15:38.985Z"
   },
   {
    "duration": 0,
    "start_time": "2022-04-30T11:15:38.987Z"
   },
   {
    "duration": 0,
    "start_time": "2022-04-30T11:15:38.989Z"
   },
   {
    "duration": 0,
    "start_time": "2022-04-30T11:15:38.990Z"
   },
   {
    "duration": 0,
    "start_time": "2022-04-30T11:15:38.992Z"
   },
   {
    "duration": 0,
    "start_time": "2022-04-30T11:15:38.993Z"
   },
   {
    "duration": 0,
    "start_time": "2022-04-30T11:15:38.995Z"
   },
   {
    "duration": 0,
    "start_time": "2022-04-30T11:15:38.997Z"
   },
   {
    "duration": 0,
    "start_time": "2022-04-30T11:15:38.999Z"
   },
   {
    "duration": 0,
    "start_time": "2022-04-30T11:15:39.000Z"
   },
   {
    "duration": 0,
    "start_time": "2022-04-30T11:15:39.002Z"
   },
   {
    "duration": 0,
    "start_time": "2022-04-30T11:15:39.004Z"
   },
   {
    "duration": 0,
    "start_time": "2022-04-30T11:15:39.006Z"
   },
   {
    "duration": 0,
    "start_time": "2022-04-30T11:15:39.007Z"
   },
   {
    "duration": 0,
    "start_time": "2022-04-30T11:15:39.009Z"
   },
   {
    "duration": 0,
    "start_time": "2022-04-30T11:15:39.011Z"
   },
   {
    "duration": 0,
    "start_time": "2022-04-30T11:15:39.013Z"
   },
   {
    "duration": 0,
    "start_time": "2022-04-30T11:15:39.014Z"
   },
   {
    "duration": 0,
    "start_time": "2022-04-30T11:15:39.016Z"
   },
   {
    "duration": 0,
    "start_time": "2022-04-30T11:15:39.018Z"
   },
   {
    "duration": 0,
    "start_time": "2022-04-30T11:15:39.019Z"
   },
   {
    "duration": 0,
    "start_time": "2022-04-30T11:15:39.081Z"
   },
   {
    "duration": 19,
    "start_time": "2022-04-30T11:17:17.376Z"
   },
   {
    "duration": 23,
    "start_time": "2022-04-30T11:20:19.997Z"
   },
   {
    "duration": 4,
    "start_time": "2022-04-30T11:23:49.968Z"
   },
   {
    "duration": 11,
    "start_time": "2022-04-30T11:23:59.154Z"
   },
   {
    "duration": 7,
    "start_time": "2022-04-30T11:24:05.147Z"
   },
   {
    "duration": 23,
    "start_time": "2022-04-30T11:24:06.460Z"
   },
   {
    "duration": 93,
    "start_time": "2022-04-30T13:41:02.759Z"
   },
   {
    "duration": 32,
    "start_time": "2022-04-30T13:41:03.660Z"
   },
   {
    "duration": 23,
    "start_time": "2022-04-30T14:01:29.034Z"
   },
   {
    "duration": 2008,
    "start_time": "2022-04-30T14:01:29.243Z"
   },
   {
    "duration": 23,
    "start_time": "2022-04-30T14:01:36.189Z"
   },
   {
    "duration": 23,
    "start_time": "2022-04-30T14:01:38.643Z"
   },
   {
    "duration": 1781,
    "start_time": "2022-04-30T14:01:57.225Z"
   },
   {
    "duration": 20,
    "start_time": "2022-04-30T14:01:59.379Z"
   },
   {
    "duration": 828,
    "start_time": "2022-04-30T14:02:16.745Z"
   },
   {
    "duration": 5,
    "start_time": "2022-04-30T14:02:17.580Z"
   },
   {
    "duration": 349,
    "start_time": "2022-04-30T14:02:17.588Z"
   },
   {
    "duration": 588,
    "start_time": "2022-04-30T14:02:17.940Z"
   },
   {
    "duration": 4,
    "start_time": "2022-04-30T14:02:18.530Z"
   },
   {
    "duration": 7,
    "start_time": "2022-04-30T14:02:18.535Z"
   },
   {
    "duration": 11,
    "start_time": "2022-04-30T14:02:18.544Z"
   },
   {
    "duration": 6,
    "start_time": "2022-04-30T14:02:18.557Z"
   },
   {
    "duration": 33,
    "start_time": "2022-04-30T14:02:18.565Z"
   },
   {
    "duration": 17,
    "start_time": "2022-04-30T14:02:18.602Z"
   },
   {
    "duration": 22,
    "start_time": "2022-04-30T14:02:18.622Z"
   },
   {
    "duration": 46,
    "start_time": "2022-04-30T14:02:18.647Z"
   },
   {
    "duration": 26,
    "start_time": "2022-04-30T14:02:18.696Z"
   },
   {
    "duration": 58,
    "start_time": "2022-04-30T14:02:18.724Z"
   },
   {
    "duration": 29,
    "start_time": "2022-04-30T14:02:18.784Z"
   },
   {
    "duration": 15,
    "start_time": "2022-04-30T14:02:18.815Z"
   },
   {
    "duration": 23,
    "start_time": "2022-04-30T14:02:18.831Z"
   },
   {
    "duration": 51,
    "start_time": "2022-04-30T14:02:18.855Z"
   },
   {
    "duration": 23,
    "start_time": "2022-04-30T14:02:18.909Z"
   },
   {
    "duration": 8,
    "start_time": "2022-04-30T14:02:18.935Z"
   },
   {
    "duration": 87,
    "start_time": "2022-04-30T14:02:18.945Z"
   },
   {
    "duration": 72,
    "start_time": "2022-04-30T14:02:19.034Z"
   },
   {
    "duration": 37,
    "start_time": "2022-04-30T14:02:19.108Z"
   },
   {
    "duration": 50,
    "start_time": "2022-04-30T14:02:19.147Z"
   },
   {
    "duration": 7,
    "start_time": "2022-04-30T14:02:19.200Z"
   },
   {
    "duration": 22,
    "start_time": "2022-04-30T14:02:19.210Z"
   },
   {
    "duration": 47,
    "start_time": "2022-04-30T14:02:19.235Z"
   },
   {
    "duration": 32,
    "start_time": "2022-04-30T14:02:19.289Z"
   },
   {
    "duration": 25,
    "start_time": "2022-04-30T14:02:19.323Z"
   },
   {
    "duration": 6,
    "start_time": "2022-04-30T14:02:19.350Z"
   },
   {
    "duration": 9,
    "start_time": "2022-04-30T14:02:19.383Z"
   },
   {
    "duration": 51,
    "start_time": "2022-04-30T14:02:19.394Z"
   },
   {
    "duration": 39,
    "start_time": "2022-04-30T14:02:19.448Z"
   },
   {
    "duration": 48,
    "start_time": "2022-04-30T14:02:19.489Z"
   },
   {
    "duration": 42,
    "start_time": "2022-04-30T14:02:19.541Z"
   },
   {
    "duration": 13,
    "start_time": "2022-04-30T14:02:19.586Z"
   },
   {
    "duration": 48,
    "start_time": "2022-04-30T14:02:19.602Z"
   },
   {
    "duration": 45,
    "start_time": "2022-04-30T14:02:19.653Z"
   },
   {
    "duration": 8,
    "start_time": "2022-04-30T14:02:19.700Z"
   },
   {
    "duration": 41,
    "start_time": "2022-04-30T14:02:19.711Z"
   },
   {
    "duration": 259,
    "start_time": "2022-04-30T14:02:19.755Z"
   },
   {
    "duration": 0,
    "start_time": "2022-04-30T14:02:20.020Z"
   },
   {
    "duration": 0,
    "start_time": "2022-04-30T14:02:20.022Z"
   },
   {
    "duration": 0,
    "start_time": "2022-04-30T14:02:20.024Z"
   },
   {
    "duration": 0,
    "start_time": "2022-04-30T14:02:20.026Z"
   },
   {
    "duration": 0,
    "start_time": "2022-04-30T14:02:20.028Z"
   },
   {
    "duration": 0,
    "start_time": "2022-04-30T14:02:20.029Z"
   },
   {
    "duration": 0,
    "start_time": "2022-04-30T14:02:20.032Z"
   },
   {
    "duration": 0,
    "start_time": "2022-04-30T14:02:20.034Z"
   },
   {
    "duration": 1,
    "start_time": "2022-04-30T14:02:20.036Z"
   },
   {
    "duration": 0,
    "start_time": "2022-04-30T14:02:20.038Z"
   },
   {
    "duration": 0,
    "start_time": "2022-04-30T14:02:20.039Z"
   },
   {
    "duration": 0,
    "start_time": "2022-04-30T14:02:20.041Z"
   },
   {
    "duration": 0,
    "start_time": "2022-04-30T14:02:20.042Z"
   },
   {
    "duration": 0,
    "start_time": "2022-04-30T14:02:20.043Z"
   },
   {
    "duration": 0,
    "start_time": "2022-04-30T14:02:20.045Z"
   },
   {
    "duration": 0,
    "start_time": "2022-04-30T14:02:20.082Z"
   },
   {
    "duration": 0,
    "start_time": "2022-04-30T14:02:20.083Z"
   },
   {
    "duration": 0,
    "start_time": "2022-04-30T14:02:20.085Z"
   },
   {
    "duration": 0,
    "start_time": "2022-04-30T14:02:20.087Z"
   },
   {
    "duration": 0,
    "start_time": "2022-04-30T14:02:20.088Z"
   },
   {
    "duration": 0,
    "start_time": "2022-04-30T14:02:20.090Z"
   },
   {
    "duration": 0,
    "start_time": "2022-04-30T14:02:20.091Z"
   },
   {
    "duration": 0,
    "start_time": "2022-04-30T14:02:20.093Z"
   },
   {
    "duration": 0,
    "start_time": "2022-04-30T14:02:20.094Z"
   },
   {
    "duration": 0,
    "start_time": "2022-04-30T14:02:20.095Z"
   },
   {
    "duration": 0,
    "start_time": "2022-04-30T14:02:20.096Z"
   },
   {
    "duration": 0,
    "start_time": "2022-04-30T14:02:20.098Z"
   },
   {
    "duration": 1,
    "start_time": "2022-04-30T14:02:20.099Z"
   },
   {
    "duration": 0,
    "start_time": "2022-04-30T14:02:20.101Z"
   },
   {
    "duration": 0,
    "start_time": "2022-04-30T14:02:20.102Z"
   },
   {
    "duration": 0,
    "start_time": "2022-04-30T14:02:20.103Z"
   },
   {
    "duration": 0,
    "start_time": "2022-04-30T14:02:20.104Z"
   },
   {
    "duration": 0,
    "start_time": "2022-04-30T14:02:20.106Z"
   },
   {
    "duration": 0,
    "start_time": "2022-04-30T14:02:20.107Z"
   },
   {
    "duration": 0,
    "start_time": "2022-04-30T14:02:20.109Z"
   },
   {
    "duration": 0,
    "start_time": "2022-04-30T14:02:20.111Z"
   },
   {
    "duration": 0,
    "start_time": "2022-04-30T14:02:20.113Z"
   },
   {
    "duration": 0,
    "start_time": "2022-04-30T14:02:20.114Z"
   },
   {
    "duration": 1,
    "start_time": "2022-04-30T14:02:20.115Z"
   },
   {
    "duration": 0,
    "start_time": "2022-04-30T14:02:20.117Z"
   },
   {
    "duration": 0,
    "start_time": "2022-04-30T14:02:20.119Z"
   },
   {
    "duration": 0,
    "start_time": "2022-04-30T14:02:20.186Z"
   },
   {
    "duration": 0,
    "start_time": "2022-04-30T14:02:20.188Z"
   },
   {
    "duration": 0,
    "start_time": "2022-04-30T14:02:20.189Z"
   },
   {
    "duration": 0,
    "start_time": "2022-04-30T14:02:20.191Z"
   },
   {
    "duration": 0,
    "start_time": "2022-04-30T14:02:20.192Z"
   },
   {
    "duration": 0,
    "start_time": "2022-04-30T14:02:20.193Z"
   },
   {
    "duration": 0,
    "start_time": "2022-04-30T14:02:20.195Z"
   },
   {
    "duration": 1,
    "start_time": "2022-04-30T14:02:20.196Z"
   },
   {
    "duration": 0,
    "start_time": "2022-04-30T14:02:20.198Z"
   },
   {
    "duration": 0,
    "start_time": "2022-04-30T14:02:20.200Z"
   },
   {
    "duration": 0,
    "start_time": "2022-04-30T14:02:20.202Z"
   },
   {
    "duration": 0,
    "start_time": "2022-04-30T14:02:20.203Z"
   },
   {
    "duration": 1,
    "start_time": "2022-04-30T14:02:20.204Z"
   },
   {
    "duration": 0,
    "start_time": "2022-04-30T14:02:20.206Z"
   },
   {
    "duration": 0,
    "start_time": "2022-04-30T14:02:20.207Z"
   },
   {
    "duration": 0,
    "start_time": "2022-04-30T14:02:20.208Z"
   },
   {
    "duration": 0,
    "start_time": "2022-04-30T14:02:20.210Z"
   },
   {
    "duration": 0,
    "start_time": "2022-04-30T14:02:20.212Z"
   },
   {
    "duration": 0,
    "start_time": "2022-04-30T14:02:20.213Z"
   },
   {
    "duration": 0,
    "start_time": "2022-04-30T14:02:20.214Z"
   },
   {
    "duration": 0,
    "start_time": "2022-04-30T14:02:20.216Z"
   },
   {
    "duration": 0,
    "start_time": "2022-04-30T14:02:20.217Z"
   },
   {
    "duration": 0,
    "start_time": "2022-04-30T14:02:20.218Z"
   },
   {
    "duration": 0,
    "start_time": "2022-04-30T14:02:20.220Z"
   },
   {
    "duration": 0,
    "start_time": "2022-04-30T14:02:20.221Z"
   },
   {
    "duration": 0,
    "start_time": "2022-04-30T14:02:20.222Z"
   },
   {
    "duration": 0,
    "start_time": "2022-04-30T14:02:20.282Z"
   },
   {
    "duration": 0,
    "start_time": "2022-04-30T14:02:20.283Z"
   },
   {
    "duration": 0,
    "start_time": "2022-04-30T14:02:20.285Z"
   },
   {
    "duration": 0,
    "start_time": "2022-04-30T14:02:20.287Z"
   },
   {
    "duration": 0,
    "start_time": "2022-04-30T14:02:20.288Z"
   },
   {
    "duration": 0,
    "start_time": "2022-04-30T14:02:20.290Z"
   },
   {
    "duration": 0,
    "start_time": "2022-04-30T14:02:20.291Z"
   },
   {
    "duration": 66,
    "start_time": "2022-04-30T14:55:25.523Z"
   },
   {
    "duration": 21,
    "start_time": "2022-04-30T14:55:25.706Z"
   },
   {
    "duration": 33,
    "start_time": "2022-04-30T14:55:28.755Z"
   },
   {
    "duration": 20,
    "start_time": "2022-04-30T14:55:29.004Z"
   },
   {
    "duration": 29,
    "start_time": "2022-04-30T14:55:32.271Z"
   },
   {
    "duration": 22,
    "start_time": "2022-04-30T14:55:32.622Z"
   },
   {
    "duration": 37,
    "start_time": "2022-04-30T15:02:55.239Z"
   },
   {
    "duration": 34,
    "start_time": "2022-04-30T15:02:58.910Z"
   },
   {
    "duration": 29,
    "start_time": "2022-04-30T15:02:59.777Z"
   },
   {
    "duration": 31,
    "start_time": "2022-04-30T15:03:13.770Z"
   },
   {
    "duration": 28,
    "start_time": "2022-04-30T15:03:13.969Z"
   },
   {
    "duration": 20,
    "start_time": "2022-04-30T15:03:17.016Z"
   },
   {
    "duration": 23,
    "start_time": "2022-04-30T15:03:17.273Z"
   },
   {
    "duration": 5,
    "start_time": "2022-04-30T15:03:17.475Z"
   },
   {
    "duration": 32,
    "start_time": "2022-04-30T15:03:17.656Z"
   },
   {
    "duration": 23,
    "start_time": "2022-04-30T15:05:12.086Z"
   },
   {
    "duration": 1741,
    "start_time": "2022-04-30T15:05:24.061Z"
   },
   {
    "duration": 0,
    "start_time": "2022-04-30T15:05:25.805Z"
   },
   {
    "duration": 14,
    "start_time": "2022-04-30T15:05:25.881Z"
   },
   {
    "duration": 19,
    "start_time": "2022-04-30T15:05:38.915Z"
   },
   {
    "duration": 24,
    "start_time": "2022-04-30T15:05:49.542Z"
   },
   {
    "duration": 2362,
    "start_time": "2022-04-30T15:05:49.569Z"
   },
   {
    "duration": 21,
    "start_time": "2022-04-30T15:05:56.251Z"
   },
   {
    "duration": 4600,
    "start_time": "2022-04-30T15:05:56.433Z"
   },
   {
    "duration": 29,
    "start_time": "2022-04-30T15:06:36.570Z"
   },
   {
    "duration": 1992,
    "start_time": "2022-04-30T15:06:36.788Z"
   },
   {
    "duration": 0,
    "start_time": "2022-04-30T15:06:38.783Z"
   },
   {
    "duration": 18,
    "start_time": "2022-04-30T15:06:38.994Z"
   },
   {
    "duration": 32,
    "start_time": "2022-04-30T15:06:39.204Z"
   },
   {
    "duration": 19,
    "start_time": "2022-04-30T15:06:40.167Z"
   },
   {
    "duration": 629,
    "start_time": "2022-04-30T15:06:48.990Z"
   },
   {
    "duration": 4,
    "start_time": "2022-04-30T15:06:49.623Z"
   },
   {
    "duration": 489,
    "start_time": "2022-04-30T15:06:49.630Z"
   },
   {
    "duration": 912,
    "start_time": "2022-04-30T15:06:50.122Z"
   },
   {
    "duration": 4,
    "start_time": "2022-04-30T15:06:51.037Z"
   },
   {
    "duration": 6,
    "start_time": "2022-04-30T15:06:51.044Z"
   },
   {
    "duration": 10,
    "start_time": "2022-04-30T15:06:51.052Z"
   },
   {
    "duration": 21,
    "start_time": "2022-04-30T15:06:51.065Z"
   },
   {
    "duration": 27,
    "start_time": "2022-04-30T15:06:51.089Z"
   },
   {
    "duration": 16,
    "start_time": "2022-04-30T15:06:51.120Z"
   },
   {
    "duration": 45,
    "start_time": "2022-04-30T15:06:51.138Z"
   },
   {
    "duration": 11,
    "start_time": "2022-04-30T15:06:51.185Z"
   },
   {
    "duration": 31,
    "start_time": "2022-04-30T15:06:51.200Z"
   },
   {
    "duration": 62,
    "start_time": "2022-04-30T15:06:51.234Z"
   },
   {
    "duration": 42,
    "start_time": "2022-04-30T15:06:51.299Z"
   },
   {
    "duration": 17,
    "start_time": "2022-04-30T15:06:51.344Z"
   },
   {
    "duration": 17,
    "start_time": "2022-04-30T15:06:51.383Z"
   },
   {
    "duration": 33,
    "start_time": "2022-04-30T15:06:51.403Z"
   },
   {
    "duration": 44,
    "start_time": "2022-04-30T15:06:51.439Z"
   },
   {
    "duration": 7,
    "start_time": "2022-04-30T15:06:51.486Z"
   },
   {
    "duration": 49,
    "start_time": "2022-04-30T15:06:51.496Z"
   },
   {
    "duration": 80,
    "start_time": "2022-04-30T15:06:51.548Z"
   },
   {
    "duration": 53,
    "start_time": "2022-04-30T15:06:51.630Z"
   },
   {
    "duration": 31,
    "start_time": "2022-04-30T15:06:51.687Z"
   },
   {
    "duration": 6,
    "start_time": "2022-04-30T15:06:51.720Z"
   },
   {
    "duration": 17,
    "start_time": "2022-04-30T15:06:51.729Z"
   },
   {
    "duration": 52,
    "start_time": "2022-04-30T15:06:51.748Z"
   },
   {
    "duration": 32,
    "start_time": "2022-04-30T15:06:51.807Z"
   },
   {
    "duration": 49,
    "start_time": "2022-04-30T15:06:51.841Z"
   },
   {
    "duration": 6,
    "start_time": "2022-04-30T15:06:51.892Z"
   },
   {
    "duration": 15,
    "start_time": "2022-04-30T15:06:51.900Z"
   },
   {
    "duration": 41,
    "start_time": "2022-04-30T15:06:51.918Z"
   },
   {
    "duration": 20,
    "start_time": "2022-04-30T15:06:51.982Z"
   },
   {
    "duration": 48,
    "start_time": "2022-04-30T15:06:52.006Z"
   },
   {
    "duration": 17,
    "start_time": "2022-04-30T15:06:52.081Z"
   },
   {
    "duration": 11,
    "start_time": "2022-04-30T15:06:52.101Z"
   },
   {
    "duration": 69,
    "start_time": "2022-04-30T15:06:52.114Z"
   },
   {
    "duration": 20,
    "start_time": "2022-04-30T15:06:52.186Z"
   },
   {
    "duration": 9,
    "start_time": "2022-04-30T15:06:52.209Z"
   },
   {
    "duration": 24,
    "start_time": "2022-04-30T15:06:52.220Z"
   },
   {
    "duration": 61,
    "start_time": "2022-04-30T15:06:52.283Z"
   },
   {
    "duration": 37,
    "start_time": "2022-04-30T15:06:52.346Z"
   },
   {
    "duration": 32,
    "start_time": "2022-04-30T15:06:52.386Z"
   },
   {
    "duration": 20,
    "start_time": "2022-04-30T15:06:52.421Z"
   },
   {
    "duration": 64,
    "start_time": "2022-04-30T15:06:52.443Z"
   },
   {
    "duration": 20,
    "start_time": "2022-04-30T15:06:52.509Z"
   },
   {
    "duration": 60,
    "start_time": "2022-04-30T15:06:52.533Z"
   },
   {
    "duration": 19,
    "start_time": "2022-04-30T15:06:52.595Z"
   },
   {
    "duration": 19,
    "start_time": "2022-04-30T15:06:52.616Z"
   },
   {
    "duration": 51,
    "start_time": "2022-04-30T15:06:52.638Z"
   },
   {
    "duration": 15,
    "start_time": "2022-04-30T15:06:52.691Z"
   },
   {
    "duration": 44,
    "start_time": "2022-04-30T15:06:52.709Z"
   },
   {
    "duration": 35,
    "start_time": "2022-04-30T15:06:52.756Z"
   },
   {
    "duration": 50,
    "start_time": "2022-04-30T15:06:52.794Z"
   },
   {
    "duration": 37,
    "start_time": "2022-04-30T15:06:52.846Z"
   },
   {
    "duration": 16,
    "start_time": "2022-04-30T15:06:52.886Z"
   },
   {
    "duration": 36,
    "start_time": "2022-04-30T15:06:52.904Z"
   },
   {
    "duration": 40,
    "start_time": "2022-04-30T15:06:52.943Z"
   },
   {
    "duration": 8,
    "start_time": "2022-04-30T15:06:52.986Z"
   },
   {
    "duration": 6,
    "start_time": "2022-04-30T15:06:52.996Z"
   },
   {
    "duration": 14,
    "start_time": "2022-04-30T15:06:53.004Z"
   },
   {
    "duration": 8,
    "start_time": "2022-04-30T15:06:53.020Z"
   },
   {
    "duration": 52,
    "start_time": "2022-04-30T15:06:53.030Z"
   },
   {
    "duration": 31,
    "start_time": "2022-04-30T15:06:53.084Z"
   },
   {
    "duration": 14,
    "start_time": "2022-04-30T15:06:53.117Z"
   },
   {
    "duration": 9,
    "start_time": "2022-04-30T15:06:53.133Z"
   },
   {
    "duration": 162,
    "start_time": "2022-04-30T15:06:53.144Z"
   },
   {
    "duration": 27,
    "start_time": "2022-04-30T15:06:53.309Z"
   },
   {
    "duration": 13,
    "start_time": "2022-04-30T15:06:53.338Z"
   },
   {
    "duration": 8,
    "start_time": "2022-04-30T15:06:53.353Z"
   },
   {
    "duration": 21,
    "start_time": "2022-04-30T15:06:53.364Z"
   },
   {
    "duration": 18,
    "start_time": "2022-04-30T15:06:53.387Z"
   },
   {
    "duration": 42,
    "start_time": "2022-04-30T15:06:53.408Z"
   },
   {
    "duration": 834,
    "start_time": "2022-04-30T15:06:53.452Z"
   },
   {
    "duration": 11,
    "start_time": "2022-04-30T15:06:54.289Z"
   },
   {
    "duration": 13,
    "start_time": "2022-04-30T15:06:54.303Z"
   },
   {
    "duration": 11,
    "start_time": "2022-04-30T15:06:54.318Z"
   },
   {
    "duration": 878,
    "start_time": "2022-04-30T15:06:54.383Z"
   },
   {
    "duration": 855,
    "start_time": "2022-04-30T15:06:55.264Z"
   },
   {
    "duration": 486,
    "start_time": "2022-04-30T15:06:56.122Z"
   },
   {
    "duration": 470,
    "start_time": "2022-04-30T15:06:56.611Z"
   },
   {
    "duration": 6,
    "start_time": "2022-04-30T15:06:57.091Z"
   },
   {
    "duration": 20,
    "start_time": "2022-04-30T15:06:57.100Z"
   },
   {
    "duration": 383,
    "start_time": "2022-04-30T15:06:57.122Z"
   },
   {
    "duration": 9,
    "start_time": "2022-04-30T15:06:57.508Z"
   },
   {
    "duration": 11,
    "start_time": "2022-04-30T15:06:57.519Z"
   },
   {
    "duration": 12,
    "start_time": "2022-04-30T15:06:57.532Z"
   },
   {
    "duration": 506,
    "start_time": "2022-04-30T15:06:57.546Z"
   },
   {
    "duration": 529,
    "start_time": "2022-04-30T15:06:58.056Z"
   },
   {
    "duration": 7,
    "start_time": "2022-04-30T15:06:58.587Z"
   },
   {
    "duration": 596,
    "start_time": "2022-04-30T15:06:58.597Z"
   },
   {
    "duration": 467,
    "start_time": "2022-04-30T15:06:59.196Z"
   },
   {
    "duration": 384,
    "start_time": "2022-04-30T15:06:59.665Z"
   },
   {
    "duration": 650,
    "start_time": "2022-04-30T15:07:00.052Z"
   },
   {
    "duration": 5,
    "start_time": "2022-04-30T15:07:00.705Z"
   },
   {
    "duration": 9,
    "start_time": "2022-04-30T15:07:00.713Z"
   },
   {
    "duration": 19,
    "start_time": "2022-04-30T15:07:00.724Z"
   },
   {
    "duration": 11,
    "start_time": "2022-04-30T15:07:00.745Z"
   },
   {
    "duration": 27,
    "start_time": "2022-04-30T15:07:00.759Z"
   },
   {
    "duration": 26,
    "start_time": "2022-04-30T15:07:00.788Z"
   },
   {
    "duration": 20,
    "start_time": "2022-04-30T15:07:00.816Z"
   },
   {
    "duration": 10,
    "start_time": "2022-04-30T15:07:00.839Z"
   },
   {
    "duration": 12,
    "start_time": "2022-04-30T15:07:00.852Z"
   },
   {
    "duration": 18,
    "start_time": "2022-04-30T15:07:00.867Z"
   },
   {
    "duration": 10,
    "start_time": "2022-04-30T15:07:00.888Z"
   },
   {
    "duration": 16,
    "start_time": "2022-04-30T15:07:00.901Z"
   },
   {
    "duration": 68,
    "start_time": "2022-04-30T15:07:00.920Z"
   },
   {
    "duration": 8,
    "start_time": "2022-04-30T15:07:00.991Z"
   },
   {
    "duration": 37,
    "start_time": "2022-04-30T15:07:01.002Z"
   },
   {
    "duration": 18,
    "start_time": "2022-04-30T15:07:01.042Z"
   },
   {
    "duration": 16,
    "start_time": "2022-04-30T15:07:01.062Z"
   },
   {
    "duration": 23,
    "start_time": "2022-04-30T15:07:01.080Z"
   },
   {
    "duration": 17,
    "start_time": "2022-04-30T15:07:01.107Z"
   },
   {
    "duration": 15,
    "start_time": "2022-04-30T15:07:01.127Z"
   },
   {
    "duration": 288,
    "start_time": "2022-04-30T15:07:16.468Z"
   },
   {
    "duration": 22,
    "start_time": "2022-04-30T15:07:16.904Z"
   },
   {
    "duration": 20,
    "start_time": "2022-04-30T15:07:44.135Z"
   },
   {
    "duration": 1998,
    "start_time": "2022-04-30T15:07:48.489Z"
   },
   {
    "duration": 32,
    "start_time": "2022-04-30T15:07:50.520Z"
   },
   {
    "duration": 596,
    "start_time": "2022-04-30T15:08:39.129Z"
   },
   {
    "duration": 4,
    "start_time": "2022-04-30T15:08:39.728Z"
   },
   {
    "duration": 376,
    "start_time": "2022-04-30T15:08:39.735Z"
   },
   {
    "duration": 548,
    "start_time": "2022-04-30T15:08:40.115Z"
   },
   {
    "duration": 4,
    "start_time": "2022-04-30T15:08:40.666Z"
   },
   {
    "duration": 5,
    "start_time": "2022-04-30T15:08:40.682Z"
   },
   {
    "duration": 13,
    "start_time": "2022-04-30T15:08:40.689Z"
   },
   {
    "duration": 8,
    "start_time": "2022-04-30T15:08:40.704Z"
   },
   {
    "duration": 21,
    "start_time": "2022-04-30T15:08:40.714Z"
   },
   {
    "duration": 17,
    "start_time": "2022-04-30T15:08:40.739Z"
   },
   {
    "duration": 17,
    "start_time": "2022-04-30T15:08:40.783Z"
   },
   {
    "duration": 13,
    "start_time": "2022-04-30T15:08:40.802Z"
   },
   {
    "duration": 21,
    "start_time": "2022-04-30T15:08:40.817Z"
   },
   {
    "duration": 68,
    "start_time": "2022-04-30T15:08:40.840Z"
   },
   {
    "duration": 29,
    "start_time": "2022-04-30T15:08:40.910Z"
   },
   {
    "duration": 14,
    "start_time": "2022-04-30T15:08:40.941Z"
   },
   {
    "duration": 16,
    "start_time": "2022-04-30T15:08:40.981Z"
   },
   {
    "duration": 29,
    "start_time": "2022-04-30T15:08:40.999Z"
   },
   {
    "duration": 21,
    "start_time": "2022-04-30T15:08:41.030Z"
   },
   {
    "duration": 9,
    "start_time": "2022-04-30T15:08:41.082Z"
   },
   {
    "duration": 51,
    "start_time": "2022-04-30T15:08:41.093Z"
   },
   {
    "duration": 75,
    "start_time": "2022-04-30T15:08:41.146Z"
   },
   {
    "duration": 39,
    "start_time": "2022-04-30T15:08:41.223Z"
   },
   {
    "duration": 31,
    "start_time": "2022-04-30T15:08:41.283Z"
   },
   {
    "duration": 5,
    "start_time": "2022-04-30T15:08:41.316Z"
   },
   {
    "duration": 22,
    "start_time": "2022-04-30T15:08:41.323Z"
   },
   {
    "duration": 43,
    "start_time": "2022-04-30T15:08:41.347Z"
   },
   {
    "duration": 31,
    "start_time": "2022-04-30T15:08:41.397Z"
   },
   {
    "duration": 24,
    "start_time": "2022-04-30T15:08:41.430Z"
   },
   {
    "duration": 28,
    "start_time": "2022-04-30T15:08:41.456Z"
   },
   {
    "duration": 12,
    "start_time": "2022-04-30T15:08:41.486Z"
   },
   {
    "duration": 44,
    "start_time": "2022-04-30T15:08:41.500Z"
   },
   {
    "duration": 43,
    "start_time": "2022-04-30T15:08:41.546Z"
   },
   {
    "duration": 45,
    "start_time": "2022-04-30T15:08:41.591Z"
   },
   {
    "duration": 16,
    "start_time": "2022-04-30T15:08:41.638Z"
   },
   {
    "duration": 36,
    "start_time": "2022-04-30T15:08:41.656Z"
   },
   {
    "duration": 37,
    "start_time": "2022-04-30T15:08:41.694Z"
   },
   {
    "duration": 48,
    "start_time": "2022-04-30T15:08:41.733Z"
   },
   {
    "duration": 6,
    "start_time": "2022-04-30T15:08:41.784Z"
   },
   {
    "duration": 28,
    "start_time": "2022-04-30T15:08:41.792Z"
   },
   {
    "duration": 88,
    "start_time": "2022-04-30T15:08:41.823Z"
   },
   {
    "duration": 20,
    "start_time": "2022-04-30T15:08:41.914Z"
   },
   {
    "duration": 50,
    "start_time": "2022-04-30T15:08:41.936Z"
   },
   {
    "duration": 18,
    "start_time": "2022-04-30T15:08:41.988Z"
   },
   {
    "duration": 38,
    "start_time": "2022-04-30T15:08:42.008Z"
   },
   {
    "duration": 34,
    "start_time": "2022-04-30T15:08:42.049Z"
   },
   {
    "duration": 25,
    "start_time": "2022-04-30T15:08:42.086Z"
   },
   {
    "duration": 20,
    "start_time": "2022-04-30T15:08:42.114Z"
   },
   {
    "duration": 17,
    "start_time": "2022-04-30T15:08:42.137Z"
   },
   {
    "duration": 24,
    "start_time": "2022-04-30T15:08:42.182Z"
   },
   {
    "duration": 5,
    "start_time": "2022-04-30T15:08:42.209Z"
   },
   {
    "duration": 27,
    "start_time": "2022-04-30T15:08:42.217Z"
   },
   {
    "duration": 46,
    "start_time": "2022-04-30T15:08:42.246Z"
   },
   {
    "duration": 32,
    "start_time": "2022-04-30T15:08:42.295Z"
   },
   {
    "duration": 12,
    "start_time": "2022-04-30T15:08:42.329Z"
   },
   {
    "duration": 44,
    "start_time": "2022-04-30T15:08:42.343Z"
   },
   {
    "duration": 33,
    "start_time": "2022-04-30T15:08:42.389Z"
   },
   {
    "duration": 16,
    "start_time": "2022-04-30T15:08:42.424Z"
   },
   {
    "duration": 7,
    "start_time": "2022-04-30T15:08:42.442Z"
   },
   {
    "duration": 6,
    "start_time": "2022-04-30T15:08:42.451Z"
   },
   {
    "duration": 11,
    "start_time": "2022-04-30T15:08:42.482Z"
   },
   {
    "duration": 7,
    "start_time": "2022-04-30T15:08:42.495Z"
   },
   {
    "duration": 7,
    "start_time": "2022-04-30T15:08:42.505Z"
   },
   {
    "duration": 34,
    "start_time": "2022-04-30T15:08:42.514Z"
   },
   {
    "duration": 13,
    "start_time": "2022-04-30T15:08:42.582Z"
   },
   {
    "duration": 9,
    "start_time": "2022-04-30T15:08:42.597Z"
   },
   {
    "duration": 128,
    "start_time": "2022-04-30T15:08:42.608Z"
   },
   {
    "duration": 27,
    "start_time": "2022-04-30T15:08:42.738Z"
   },
   {
    "duration": 19,
    "start_time": "2022-04-30T15:08:42.767Z"
   },
   {
    "duration": 6,
    "start_time": "2022-04-30T15:08:42.789Z"
   },
   {
    "duration": 16,
    "start_time": "2022-04-30T15:08:42.798Z"
   },
   {
    "duration": 15,
    "start_time": "2022-04-30T15:08:42.817Z"
   },
   {
    "duration": 65,
    "start_time": "2022-04-30T15:08:42.834Z"
   },
   {
    "duration": 562,
    "start_time": "2022-04-30T15:08:42.901Z"
   },
   {
    "duration": 16,
    "start_time": "2022-04-30T15:08:43.465Z"
   },
   {
    "duration": 8,
    "start_time": "2022-04-30T15:08:43.484Z"
   },
   {
    "duration": 8,
    "start_time": "2022-04-30T15:08:43.495Z"
   },
   {
    "duration": 479,
    "start_time": "2022-04-30T15:08:43.505Z"
   },
   {
    "duration": 568,
    "start_time": "2022-04-30T15:08:43.986Z"
   },
   {
    "duration": 465,
    "start_time": "2022-04-30T15:08:44.556Z"
   },
   {
    "duration": 457,
    "start_time": "2022-04-30T15:08:45.024Z"
   },
   {
    "duration": 7,
    "start_time": "2022-04-30T15:08:45.490Z"
   },
   {
    "duration": 21,
    "start_time": "2022-04-30T15:08:45.499Z"
   },
   {
    "duration": 402,
    "start_time": "2022-04-30T15:08:45.522Z"
   },
   {
    "duration": 11,
    "start_time": "2022-04-30T15:08:45.926Z"
   },
   {
    "duration": 9,
    "start_time": "2022-04-30T15:08:45.940Z"
   },
   {
    "duration": 37,
    "start_time": "2022-04-30T15:08:45.952Z"
   },
   {
    "duration": 476,
    "start_time": "2022-04-30T15:08:45.992Z"
   },
   {
    "duration": 587,
    "start_time": "2022-04-30T15:08:46.471Z"
   },
   {
    "duration": 8,
    "start_time": "2022-04-30T15:08:47.060Z"
   },
   {
    "duration": 597,
    "start_time": "2022-04-30T15:08:47.082Z"
   },
   {
    "duration": 704,
    "start_time": "2022-04-30T15:08:47.682Z"
   },
   {
    "duration": 523,
    "start_time": "2022-04-30T15:08:48.389Z"
   },
   {
    "duration": 647,
    "start_time": "2022-04-30T15:08:48.914Z"
   },
   {
    "duration": 4,
    "start_time": "2022-04-30T15:08:49.563Z"
   },
   {
    "duration": 14,
    "start_time": "2022-04-30T15:08:49.569Z"
   },
   {
    "duration": 6,
    "start_time": "2022-04-30T15:08:49.585Z"
   },
   {
    "duration": 5,
    "start_time": "2022-04-30T15:08:49.593Z"
   },
   {
    "duration": 10,
    "start_time": "2022-04-30T15:08:49.600Z"
   },
   {
    "duration": 8,
    "start_time": "2022-04-30T15:08:49.612Z"
   },
   {
    "duration": 7,
    "start_time": "2022-04-30T15:08:49.623Z"
   },
   {
    "duration": 51,
    "start_time": "2022-04-30T15:08:49.633Z"
   },
   {
    "duration": 6,
    "start_time": "2022-04-30T15:08:49.687Z"
   },
   {
    "duration": 9,
    "start_time": "2022-04-30T15:08:49.696Z"
   },
   {
    "duration": 7,
    "start_time": "2022-04-30T15:08:49.708Z"
   },
   {
    "duration": 5,
    "start_time": "2022-04-30T15:08:49.718Z"
   },
   {
    "duration": 74,
    "start_time": "2022-04-30T15:08:49.725Z"
   },
   {
    "duration": 6,
    "start_time": "2022-04-30T15:08:49.802Z"
   },
   {
    "duration": 6,
    "start_time": "2022-04-30T15:08:49.810Z"
   },
   {
    "duration": 8,
    "start_time": "2022-04-30T15:08:49.819Z"
   },
   {
    "duration": 8,
    "start_time": "2022-04-30T15:08:49.830Z"
   },
   {
    "duration": 46,
    "start_time": "2022-04-30T15:08:49.840Z"
   },
   {
    "duration": 10,
    "start_time": "2022-04-30T15:08:49.888Z"
   },
   {
    "duration": 8,
    "start_time": "2022-04-30T15:08:49.900Z"
   },
   {
    "duration": 199,
    "start_time": "2022-04-30T15:10:17.685Z"
   },
   {
    "duration": 19,
    "start_time": "2022-04-30T15:10:18.061Z"
   },
   {
    "duration": 29,
    "start_time": "2022-04-30T15:10:35.188Z"
   },
   {
    "duration": 30,
    "start_time": "2022-04-30T15:12:41.903Z"
   },
   {
    "duration": 24,
    "start_time": "2022-04-30T15:12:43.902Z"
   },
   {
    "duration": 24,
    "start_time": "2022-04-30T15:12:52.914Z"
   },
   {
    "duration": 20,
    "start_time": "2022-04-30T15:12:54.058Z"
   },
   {
    "duration": 5,
    "start_time": "2022-04-30T15:13:05.146Z"
   },
   {
    "duration": 24,
    "start_time": "2022-04-30T15:13:06.318Z"
   },
   {
    "duration": 17,
    "start_time": "2022-04-30T15:13:31.660Z"
   },
   {
    "duration": 19,
    "start_time": "2022-04-30T15:13:36.688Z"
   },
   {
    "duration": 47,
    "start_time": "2022-04-30T15:13:37.191Z"
   },
   {
    "duration": 13,
    "start_time": "2022-04-30T15:14:06.449Z"
   },
   {
    "duration": 15,
    "start_time": "2022-04-30T15:14:29.223Z"
   },
   {
    "duration": 34,
    "start_time": "2022-04-30T15:14:30.028Z"
   },
   {
    "duration": 11,
    "start_time": "2022-04-30T15:14:33.528Z"
   },
   {
    "duration": 5,
    "start_time": "2022-04-30T15:14:33.968Z"
   },
   {
    "duration": 4,
    "start_time": "2022-04-30T15:14:39.766Z"
   },
   {
    "duration": 10,
    "start_time": "2022-04-30T15:14:40.317Z"
   },
   {
    "duration": 6,
    "start_time": "2022-04-30T15:14:42.335Z"
   },
   {
    "duration": 6,
    "start_time": "2022-04-30T15:14:49.189Z"
   },
   {
    "duration": 5,
    "start_time": "2022-04-30T15:14:49.721Z"
   },
   {
    "duration": 27,
    "start_time": "2022-04-30T15:15:10.579Z"
   },
   {
    "duration": 6,
    "start_time": "2022-04-30T15:43:33.606Z"
   },
   {
    "duration": 6,
    "start_time": "2022-04-30T15:43:33.812Z"
   },
   {
    "duration": 39,
    "start_time": "2022-04-30T15:43:34.662Z"
   },
   {
    "duration": 18,
    "start_time": "2022-04-30T15:43:53.171Z"
   },
   {
    "duration": 101,
    "start_time": "2022-04-30T16:49:40.557Z"
   },
   {
    "duration": 14,
    "start_time": "2022-04-30T16:50:17.027Z"
   },
   {
    "duration": 59,
    "start_time": "2022-04-30T17:05:06.488Z"
   },
   {
    "duration": 623,
    "start_time": "2022-04-30T17:07:23.874Z"
   },
   {
    "duration": 3,
    "start_time": "2022-04-30T17:07:24.500Z"
   },
   {
    "duration": 450,
    "start_time": "2022-04-30T17:07:24.506Z"
   },
   {
    "duration": 596,
    "start_time": "2022-04-30T17:07:24.959Z"
   },
   {
    "duration": 4,
    "start_time": "2022-04-30T17:07:25.557Z"
   },
   {
    "duration": 19,
    "start_time": "2022-04-30T17:07:25.563Z"
   },
   {
    "duration": 16,
    "start_time": "2022-04-30T17:07:25.584Z"
   },
   {
    "duration": 6,
    "start_time": "2022-04-30T17:07:25.603Z"
   },
   {
    "duration": 19,
    "start_time": "2022-04-30T17:07:25.611Z"
   },
   {
    "duration": 47,
    "start_time": "2022-04-30T17:07:25.634Z"
   },
   {
    "duration": 19,
    "start_time": "2022-04-30T17:07:25.692Z"
   },
   {
    "duration": 14,
    "start_time": "2022-04-30T17:07:25.713Z"
   },
   {
    "duration": 20,
    "start_time": "2022-04-30T17:07:25.730Z"
   },
   {
    "duration": 90,
    "start_time": "2022-04-30T17:07:25.753Z"
   },
   {
    "duration": 71,
    "start_time": "2022-04-30T17:07:25.846Z"
   },
   {
    "duration": 22,
    "start_time": "2022-04-30T17:07:25.920Z"
   },
   {
    "duration": 54,
    "start_time": "2022-04-30T17:07:25.944Z"
   },
   {
    "duration": 47,
    "start_time": "2022-04-30T17:07:26.001Z"
   },
   {
    "duration": 42,
    "start_time": "2022-04-30T17:07:26.051Z"
   },
   {
    "duration": 7,
    "start_time": "2022-04-30T17:07:26.096Z"
   },
   {
    "duration": 48,
    "start_time": "2022-04-30T17:07:26.105Z"
   },
   {
    "duration": 84,
    "start_time": "2022-04-30T17:07:26.156Z"
   },
   {
    "duration": 59,
    "start_time": "2022-04-30T17:07:26.243Z"
   },
   {
    "duration": 30,
    "start_time": "2022-04-30T17:07:26.305Z"
   },
   {
    "duration": 7,
    "start_time": "2022-04-30T17:07:26.338Z"
   },
   {
    "duration": 53,
    "start_time": "2022-04-30T17:07:26.348Z"
   },
   {
    "duration": 24,
    "start_time": "2022-04-30T17:07:26.403Z"
   },
   {
    "duration": 31,
    "start_time": "2022-04-30T17:07:26.434Z"
   },
   {
    "duration": 37,
    "start_time": "2022-04-30T17:07:26.467Z"
   },
   {
    "duration": 6,
    "start_time": "2022-04-30T17:07:26.506Z"
   },
   {
    "duration": 11,
    "start_time": "2022-04-30T17:07:26.514Z"
   },
   {
    "duration": 78,
    "start_time": "2022-04-30T17:07:26.527Z"
   },
   {
    "duration": 18,
    "start_time": "2022-04-30T17:07:26.607Z"
   },
   {
    "duration": 72,
    "start_time": "2022-04-30T17:07:26.629Z"
   },
   {
    "duration": 16,
    "start_time": "2022-04-30T17:07:26.703Z"
   },
   {
    "duration": 10,
    "start_time": "2022-04-30T17:07:26.721Z"
   },
   {
    "duration": 74,
    "start_time": "2022-04-30T17:07:26.733Z"
   },
   {
    "duration": 17,
    "start_time": "2022-04-30T17:07:26.809Z"
   },
   {
    "duration": 6,
    "start_time": "2022-04-30T17:07:26.829Z"
   },
   {
    "duration": 50,
    "start_time": "2022-04-30T17:07:26.837Z"
   },
   {
    "duration": 76,
    "start_time": "2022-04-30T17:07:26.889Z"
   },
   {
    "duration": 31,
    "start_time": "2022-04-30T17:07:26.968Z"
   },
   {
    "duration": 542,
    "start_time": "2022-04-30T17:07:27.002Z"
   },
   {
    "duration": 39,
    "start_time": "2022-04-30T17:07:27.546Z"
   },
   {
    "duration": 30,
    "start_time": "2022-04-30T17:07:27.588Z"
   },
   {
    "duration": 20,
    "start_time": "2022-04-30T17:07:27.620Z"
   },
   {
    "duration": 54,
    "start_time": "2022-04-30T17:07:27.642Z"
   },
   {
    "duration": 20,
    "start_time": "2022-04-30T17:07:27.699Z"
   },
   {
    "duration": 27,
    "start_time": "2022-04-30T17:07:27.722Z"
   },
   {
    "duration": 60,
    "start_time": "2022-04-30T17:07:27.752Z"
   },
   {
    "duration": 573,
    "start_time": "2022-04-30T17:07:27.814Z"
   },
   {
    "duration": 0,
    "start_time": "2022-04-30T17:07:28.394Z"
   },
   {
    "duration": 0,
    "start_time": "2022-04-30T17:07:28.395Z"
   },
   {
    "duration": 0,
    "start_time": "2022-04-30T17:07:28.397Z"
   },
   {
    "duration": 0,
    "start_time": "2022-04-30T17:07:28.399Z"
   },
   {
    "duration": 0,
    "start_time": "2022-04-30T17:07:28.400Z"
   },
   {
    "duration": 0,
    "start_time": "2022-04-30T17:07:28.402Z"
   },
   {
    "duration": 0,
    "start_time": "2022-04-30T17:07:28.404Z"
   },
   {
    "duration": 0,
    "start_time": "2022-04-30T17:07:28.405Z"
   },
   {
    "duration": 0,
    "start_time": "2022-04-30T17:07:28.407Z"
   },
   {
    "duration": 0,
    "start_time": "2022-04-30T17:07:28.409Z"
   },
   {
    "duration": 0,
    "start_time": "2022-04-30T17:07:28.412Z"
   },
   {
    "duration": 0,
    "start_time": "2022-04-30T17:07:28.414Z"
   },
   {
    "duration": 0,
    "start_time": "2022-04-30T17:07:28.415Z"
   },
   {
    "duration": 0,
    "start_time": "2022-04-30T17:07:28.416Z"
   },
   {
    "duration": 0,
    "start_time": "2022-04-30T17:07:28.417Z"
   },
   {
    "duration": 0,
    "start_time": "2022-04-30T17:07:28.419Z"
   },
   {
    "duration": 0,
    "start_time": "2022-04-30T17:07:28.420Z"
   },
   {
    "duration": 0,
    "start_time": "2022-04-30T17:07:28.421Z"
   },
   {
    "duration": 0,
    "start_time": "2022-04-30T17:07:28.423Z"
   },
   {
    "duration": 0,
    "start_time": "2022-04-30T17:07:28.424Z"
   },
   {
    "duration": 0,
    "start_time": "2022-04-30T17:07:28.425Z"
   },
   {
    "duration": 0,
    "start_time": "2022-04-30T17:07:28.427Z"
   },
   {
    "duration": 0,
    "start_time": "2022-04-30T17:07:28.428Z"
   },
   {
    "duration": 0,
    "start_time": "2022-04-30T17:07:28.486Z"
   },
   {
    "duration": 0,
    "start_time": "2022-04-30T17:07:28.487Z"
   },
   {
    "duration": 1,
    "start_time": "2022-04-30T17:07:28.489Z"
   },
   {
    "duration": 0,
    "start_time": "2022-04-30T17:07:28.491Z"
   },
   {
    "duration": 0,
    "start_time": "2022-04-30T17:07:28.492Z"
   },
   {
    "duration": 0,
    "start_time": "2022-04-30T17:07:28.494Z"
   },
   {
    "duration": 0,
    "start_time": "2022-04-30T17:07:28.495Z"
   },
   {
    "duration": 0,
    "start_time": "2022-04-30T17:07:28.502Z"
   },
   {
    "duration": 0,
    "start_time": "2022-04-30T17:07:28.504Z"
   },
   {
    "duration": 0,
    "start_time": "2022-04-30T17:07:28.508Z"
   },
   {
    "duration": 0,
    "start_time": "2022-04-30T17:07:28.509Z"
   },
   {
    "duration": 0,
    "start_time": "2022-04-30T17:07:28.511Z"
   },
   {
    "duration": 0,
    "start_time": "2022-04-30T17:07:28.512Z"
   },
   {
    "duration": 0,
    "start_time": "2022-04-30T17:07:28.514Z"
   },
   {
    "duration": 0,
    "start_time": "2022-04-30T17:07:28.515Z"
   },
   {
    "duration": 0,
    "start_time": "2022-04-30T17:07:28.516Z"
   },
   {
    "duration": 0,
    "start_time": "2022-04-30T17:07:28.517Z"
   },
   {
    "duration": 0,
    "start_time": "2022-04-30T17:07:28.519Z"
   },
   {
    "duration": 0,
    "start_time": "2022-04-30T17:07:28.521Z"
   },
   {
    "duration": 0,
    "start_time": "2022-04-30T17:07:28.522Z"
   },
   {
    "duration": 0,
    "start_time": "2022-04-30T17:07:28.524Z"
   },
   {
    "duration": 0,
    "start_time": "2022-04-30T17:07:28.525Z"
   },
   {
    "duration": 0,
    "start_time": "2022-04-30T17:07:28.527Z"
   },
   {
    "duration": 0,
    "start_time": "2022-04-30T17:07:28.528Z"
   },
   {
    "duration": 0,
    "start_time": "2022-04-30T17:07:28.530Z"
   },
   {
    "duration": 0,
    "start_time": "2022-04-30T17:07:28.583Z"
   },
   {
    "duration": 0,
    "start_time": "2022-04-30T17:07:28.584Z"
   },
   {
    "duration": 0,
    "start_time": "2022-04-30T17:07:28.586Z"
   },
   {
    "duration": 0,
    "start_time": "2022-04-30T17:07:28.598Z"
   },
   {
    "duration": 0,
    "start_time": "2022-04-30T17:07:28.599Z"
   },
   {
    "duration": 0,
    "start_time": "2022-04-30T17:07:28.600Z"
   },
   {
    "duration": 0,
    "start_time": "2022-04-30T17:07:28.601Z"
   },
   {
    "duration": 0,
    "start_time": "2022-04-30T17:07:28.602Z"
   },
   {
    "duration": 0,
    "start_time": "2022-04-30T17:07:28.603Z"
   },
   {
    "duration": 0,
    "start_time": "2022-04-30T17:07:28.606Z"
   },
   {
    "duration": 0,
    "start_time": "2022-04-30T17:07:28.608Z"
   },
   {
    "duration": 0,
    "start_time": "2022-04-30T17:07:28.610Z"
   },
   {
    "duration": 0,
    "start_time": "2022-04-30T17:07:28.612Z"
   },
   {
    "duration": 0,
    "start_time": "2022-04-30T17:07:28.614Z"
   },
   {
    "duration": 1,
    "start_time": "2022-04-30T17:07:28.615Z"
   },
   {
    "duration": 0,
    "start_time": "2022-04-30T17:07:28.618Z"
   },
   {
    "duration": 12,
    "start_time": "2022-04-30T17:07:47.000Z"
   },
   {
    "duration": 10,
    "start_time": "2022-04-30T17:07:49.262Z"
   },
   {
    "duration": 11,
    "start_time": "2022-04-30T17:07:51.199Z"
   },
   {
    "duration": 9,
    "start_time": "2022-04-30T17:07:52.539Z"
   },
   {
    "duration": 10,
    "start_time": "2022-04-30T17:07:53.341Z"
   },
   {
    "duration": 25,
    "start_time": "2022-04-30T17:09:10.097Z"
   },
   {
    "duration": 23,
    "start_time": "2022-04-30T17:09:11.200Z"
   },
   {
    "duration": 21,
    "start_time": "2022-04-30T17:09:50.556Z"
   },
   {
    "duration": 596,
    "start_time": "2022-04-30T17:09:58.664Z"
   },
   {
    "duration": 5,
    "start_time": "2022-04-30T17:09:59.283Z"
   },
   {
    "duration": 352,
    "start_time": "2022-04-30T17:09:59.290Z"
   },
   {
    "duration": 589,
    "start_time": "2022-04-30T17:09:59.645Z"
   },
   {
    "duration": 4,
    "start_time": "2022-04-30T17:10:00.236Z"
   },
   {
    "duration": 30,
    "start_time": "2022-04-30T17:10:00.242Z"
   },
   {
    "duration": 45,
    "start_time": "2022-04-30T17:10:00.274Z"
   },
   {
    "duration": 26,
    "start_time": "2022-04-30T17:10:00.321Z"
   },
   {
    "duration": 49,
    "start_time": "2022-04-30T17:10:00.350Z"
   },
   {
    "duration": 30,
    "start_time": "2022-04-30T17:10:00.404Z"
   },
   {
    "duration": 37,
    "start_time": "2022-04-30T17:10:00.437Z"
   },
   {
    "duration": 31,
    "start_time": "2022-04-30T17:10:00.476Z"
   },
   {
    "duration": 45,
    "start_time": "2022-04-30T17:10:00.510Z"
   },
   {
    "duration": 56,
    "start_time": "2022-04-30T17:10:00.557Z"
   },
   {
    "duration": 28,
    "start_time": "2022-04-30T17:10:00.615Z"
   },
   {
    "duration": 15,
    "start_time": "2022-04-30T17:10:00.646Z"
   },
   {
    "duration": 21,
    "start_time": "2022-04-30T17:10:00.682Z"
   },
   {
    "duration": 35,
    "start_time": "2022-04-30T17:10:00.705Z"
   },
   {
    "duration": 20,
    "start_time": "2022-04-30T17:10:00.742Z"
   },
   {
    "duration": 18,
    "start_time": "2022-04-30T17:10:00.782Z"
   },
   {
    "duration": 71,
    "start_time": "2022-04-30T17:10:00.802Z"
   },
   {
    "duration": 57,
    "start_time": "2022-04-30T17:10:00.875Z"
   },
   {
    "duration": 52,
    "start_time": "2022-04-30T17:10:00.934Z"
   },
   {
    "duration": 33,
    "start_time": "2022-04-30T17:10:00.988Z"
   },
   {
    "duration": 6,
    "start_time": "2022-04-30T17:10:01.023Z"
   },
   {
    "duration": 28,
    "start_time": "2022-04-30T17:10:01.031Z"
   },
   {
    "duration": 55,
    "start_time": "2022-04-30T17:10:01.061Z"
   },
   {
    "duration": 52,
    "start_time": "2022-04-30T17:10:01.123Z"
   },
   {
    "duration": 28,
    "start_time": "2022-04-30T17:10:01.177Z"
   },
   {
    "duration": 6,
    "start_time": "2022-04-30T17:10:01.207Z"
   },
   {
    "duration": 17,
    "start_time": "2022-04-30T17:10:01.215Z"
   },
   {
    "duration": 60,
    "start_time": "2022-04-30T17:10:01.234Z"
   },
   {
    "duration": 18,
    "start_time": "2022-04-30T17:10:01.297Z"
   },
   {
    "duration": 72,
    "start_time": "2022-04-30T17:10:01.317Z"
   },
   {
    "duration": 17,
    "start_time": "2022-04-30T17:10:01.392Z"
   },
   {
    "duration": 18,
    "start_time": "2022-04-30T17:10:01.411Z"
   },
   {
    "duration": 61,
    "start_time": "2022-04-30T17:10:01.432Z"
   },
   {
    "duration": 19,
    "start_time": "2022-04-30T17:10:01.498Z"
   },
   {
    "duration": 7,
    "start_time": "2022-04-30T17:10:01.519Z"
   },
   {
    "duration": 22,
    "start_time": "2022-04-30T17:10:01.529Z"
   },
   {
    "duration": 98,
    "start_time": "2022-04-30T17:10:01.554Z"
   },
   {
    "duration": 31,
    "start_time": "2022-04-30T17:10:01.654Z"
   },
   {
    "duration": 30,
    "start_time": "2022-04-30T17:10:01.687Z"
   },
   {
    "duration": 539,
    "start_time": "2022-04-30T17:10:01.719Z"
   },
   {
    "duration": 35,
    "start_time": "2022-04-30T17:10:02.261Z"
   },
   {
    "duration": 37,
    "start_time": "2022-04-30T17:10:02.299Z"
   },
   {
    "duration": 20,
    "start_time": "2022-04-30T17:10:02.339Z"
   },
   {
    "duration": 55,
    "start_time": "2022-04-30T17:10:02.361Z"
   },
   {
    "duration": 22,
    "start_time": "2022-04-30T17:10:02.418Z"
   },
   {
    "duration": 20,
    "start_time": "2022-04-30T17:10:02.442Z"
   },
   {
    "duration": 38,
    "start_time": "2022-04-30T17:10:02.464Z"
   },
   {
    "duration": 770,
    "start_time": "2022-04-30T17:10:02.505Z"
   },
   {
    "duration": 0,
    "start_time": "2022-04-30T17:10:03.282Z"
   },
   {
    "duration": 0,
    "start_time": "2022-04-30T17:10:03.284Z"
   },
   {
    "duration": 0,
    "start_time": "2022-04-30T17:10:03.286Z"
   },
   {
    "duration": 0,
    "start_time": "2022-04-30T17:10:03.288Z"
   },
   {
    "duration": 0,
    "start_time": "2022-04-30T17:10:03.291Z"
   },
   {
    "duration": 0,
    "start_time": "2022-04-30T17:10:03.293Z"
   },
   {
    "duration": 0,
    "start_time": "2022-04-30T17:10:03.294Z"
   },
   {
    "duration": 0,
    "start_time": "2022-04-30T17:10:03.296Z"
   },
   {
    "duration": 0,
    "start_time": "2022-04-30T17:10:03.298Z"
   },
   {
    "duration": 1,
    "start_time": "2022-04-30T17:10:03.299Z"
   },
   {
    "duration": 0,
    "start_time": "2022-04-30T17:10:03.301Z"
   },
   {
    "duration": 0,
    "start_time": "2022-04-30T17:10:03.303Z"
   },
   {
    "duration": 0,
    "start_time": "2022-04-30T17:10:03.305Z"
   },
   {
    "duration": 0,
    "start_time": "2022-04-30T17:10:03.306Z"
   },
   {
    "duration": 0,
    "start_time": "2022-04-30T17:10:03.307Z"
   },
   {
    "duration": 0,
    "start_time": "2022-04-30T17:10:03.309Z"
   },
   {
    "duration": 0,
    "start_time": "2022-04-30T17:10:03.311Z"
   },
   {
    "duration": 0,
    "start_time": "2022-04-30T17:10:03.313Z"
   },
   {
    "duration": 0,
    "start_time": "2022-04-30T17:10:03.314Z"
   },
   {
    "duration": 0,
    "start_time": "2022-04-30T17:10:03.316Z"
   },
   {
    "duration": 0,
    "start_time": "2022-04-30T17:10:03.318Z"
   },
   {
    "duration": 0,
    "start_time": "2022-04-30T17:10:03.319Z"
   },
   {
    "duration": 0,
    "start_time": "2022-04-30T17:10:03.321Z"
   },
   {
    "duration": 0,
    "start_time": "2022-04-30T17:10:03.322Z"
   },
   {
    "duration": 0,
    "start_time": "2022-04-30T17:10:03.323Z"
   },
   {
    "duration": 0,
    "start_time": "2022-04-30T17:10:03.387Z"
   },
   {
    "duration": 0,
    "start_time": "2022-04-30T17:10:03.392Z"
   },
   {
    "duration": 0,
    "start_time": "2022-04-30T17:10:03.397Z"
   },
   {
    "duration": 0,
    "start_time": "2022-04-30T17:10:03.398Z"
   },
   {
    "duration": 0,
    "start_time": "2022-04-30T17:10:03.400Z"
   },
   {
    "duration": 0,
    "start_time": "2022-04-30T17:10:03.401Z"
   },
   {
    "duration": 0,
    "start_time": "2022-04-30T17:10:03.403Z"
   },
   {
    "duration": 0,
    "start_time": "2022-04-30T17:10:03.404Z"
   },
   {
    "duration": 0,
    "start_time": "2022-04-30T17:10:03.405Z"
   },
   {
    "duration": 0,
    "start_time": "2022-04-30T17:10:03.407Z"
   },
   {
    "duration": 0,
    "start_time": "2022-04-30T17:10:03.409Z"
   },
   {
    "duration": 0,
    "start_time": "2022-04-30T17:10:03.410Z"
   },
   {
    "duration": 0,
    "start_time": "2022-04-30T17:10:03.412Z"
   },
   {
    "duration": 0,
    "start_time": "2022-04-30T17:10:03.413Z"
   },
   {
    "duration": 0,
    "start_time": "2022-04-30T17:10:03.414Z"
   },
   {
    "duration": 0,
    "start_time": "2022-04-30T17:10:03.416Z"
   },
   {
    "duration": 0,
    "start_time": "2022-04-30T17:10:03.417Z"
   },
   {
    "duration": 0,
    "start_time": "2022-04-30T17:10:03.419Z"
   },
   {
    "duration": 0,
    "start_time": "2022-04-30T17:10:03.420Z"
   },
   {
    "duration": 0,
    "start_time": "2022-04-30T17:10:03.422Z"
   },
   {
    "duration": 0,
    "start_time": "2022-04-30T17:10:03.423Z"
   },
   {
    "duration": 1,
    "start_time": "2022-04-30T17:10:03.486Z"
   },
   {
    "duration": 0,
    "start_time": "2022-04-30T17:10:03.488Z"
   },
   {
    "duration": 0,
    "start_time": "2022-04-30T17:10:03.490Z"
   },
   {
    "duration": 0,
    "start_time": "2022-04-30T17:10:03.494Z"
   },
   {
    "duration": 0,
    "start_time": "2022-04-30T17:10:03.496Z"
   },
   {
    "duration": 0,
    "start_time": "2022-04-30T17:10:03.498Z"
   },
   {
    "duration": 0,
    "start_time": "2022-04-30T17:10:03.499Z"
   },
   {
    "duration": 0,
    "start_time": "2022-04-30T17:10:03.500Z"
   },
   {
    "duration": 0,
    "start_time": "2022-04-30T17:10:03.502Z"
   },
   {
    "duration": 0,
    "start_time": "2022-04-30T17:10:03.503Z"
   },
   {
    "duration": 0,
    "start_time": "2022-04-30T17:10:03.504Z"
   },
   {
    "duration": 0,
    "start_time": "2022-04-30T17:10:03.505Z"
   },
   {
    "duration": 0,
    "start_time": "2022-04-30T17:10:03.506Z"
   },
   {
    "duration": 0,
    "start_time": "2022-04-30T17:10:03.508Z"
   },
   {
    "duration": 0,
    "start_time": "2022-04-30T17:10:03.509Z"
   },
   {
    "duration": 0,
    "start_time": "2022-04-30T17:10:03.510Z"
   },
   {
    "duration": 0,
    "start_time": "2022-04-30T17:10:03.511Z"
   },
   {
    "duration": 0,
    "start_time": "2022-04-30T17:10:03.513Z"
   },
   {
    "duration": 6,
    "start_time": "2022-04-30T17:10:54.958Z"
   },
   {
    "duration": 17,
    "start_time": "2022-04-30T17:11:01.226Z"
   },
   {
    "duration": 539,
    "start_time": "2022-04-30T17:11:12.293Z"
   },
   {
    "duration": 3,
    "start_time": "2022-04-30T17:11:12.835Z"
   },
   {
    "duration": 356,
    "start_time": "2022-04-30T17:11:12.840Z"
   },
   {
    "duration": 544,
    "start_time": "2022-04-30T17:11:13.199Z"
   },
   {
    "duration": 4,
    "start_time": "2022-04-30T17:11:13.745Z"
   },
   {
    "duration": 17,
    "start_time": "2022-04-30T17:11:13.751Z"
   },
   {
    "duration": 16,
    "start_time": "2022-04-30T17:11:13.770Z"
   },
   {
    "duration": 6,
    "start_time": "2022-04-30T17:11:13.788Z"
   },
   {
    "duration": 21,
    "start_time": "2022-04-30T17:11:13.795Z"
   },
   {
    "duration": 16,
    "start_time": "2022-04-30T17:11:13.820Z"
   },
   {
    "duration": 22,
    "start_time": "2022-04-30T17:11:13.838Z"
   },
   {
    "duration": 10,
    "start_time": "2022-04-30T17:11:13.882Z"
   },
   {
    "duration": 19,
    "start_time": "2022-04-30T17:11:13.894Z"
   },
   {
    "duration": 37,
    "start_time": "2022-04-30T17:11:13.915Z"
   },
   {
    "duration": 52,
    "start_time": "2022-04-30T17:11:13.954Z"
   },
   {
    "duration": 14,
    "start_time": "2022-04-30T17:11:14.008Z"
   },
   {
    "duration": 17,
    "start_time": "2022-04-30T17:11:14.024Z"
   },
   {
    "duration": 57,
    "start_time": "2022-04-30T17:11:14.043Z"
   },
   {
    "duration": 20,
    "start_time": "2022-04-30T17:11:14.102Z"
   },
   {
    "duration": 13,
    "start_time": "2022-04-30T17:11:14.124Z"
   },
   {
    "duration": 75,
    "start_time": "2022-04-30T17:11:14.139Z"
   },
   {
    "duration": 52,
    "start_time": "2022-04-30T17:11:14.216Z"
   },
   {
    "duration": 35,
    "start_time": "2022-04-30T17:11:14.281Z"
   },
   {
    "duration": 30,
    "start_time": "2022-04-30T17:11:14.318Z"
   },
   {
    "duration": 5,
    "start_time": "2022-04-30T17:11:14.350Z"
   },
   {
    "duration": 15,
    "start_time": "2022-04-30T17:11:14.382Z"
   },
   {
    "duration": 22,
    "start_time": "2022-04-30T17:11:14.399Z"
   },
   {
    "duration": 53,
    "start_time": "2022-04-30T17:11:14.428Z"
   },
   {
    "duration": 24,
    "start_time": "2022-04-30T17:11:14.484Z"
   },
   {
    "duration": 5,
    "start_time": "2022-04-30T17:11:14.510Z"
   },
   {
    "duration": 18,
    "start_time": "2022-04-30T17:11:14.517Z"
   },
   {
    "duration": 65,
    "start_time": "2022-04-30T17:11:14.537Z"
   },
   {
    "duration": 17,
    "start_time": "2022-04-30T17:11:14.604Z"
   },
   {
    "duration": 64,
    "start_time": "2022-04-30T17:11:14.623Z"
   },
   {
    "duration": 15,
    "start_time": "2022-04-30T17:11:14.689Z"
   },
   {
    "duration": 11,
    "start_time": "2022-04-30T17:11:14.706Z"
   },
   {
    "duration": 65,
    "start_time": "2022-04-30T17:11:14.720Z"
   },
   {
    "duration": 17,
    "start_time": "2022-04-30T17:11:14.787Z"
   },
   {
    "duration": 8,
    "start_time": "2022-04-30T17:11:14.806Z"
   },
   {
    "duration": 22,
    "start_time": "2022-04-30T17:11:14.816Z"
   },
   {
    "duration": 96,
    "start_time": "2022-04-30T17:11:14.840Z"
   },
   {
    "duration": 23,
    "start_time": "2022-04-30T17:11:14.939Z"
   },
   {
    "duration": 19,
    "start_time": "2022-04-30T17:11:14.982Z"
   },
   {
    "duration": 49,
    "start_time": "2022-04-30T17:11:15.003Z"
   },
   {
    "duration": 30,
    "start_time": "2022-04-30T17:11:15.054Z"
   },
   {
    "duration": 34,
    "start_time": "2022-04-30T17:11:15.086Z"
   },
   {
    "duration": 20,
    "start_time": "2022-04-30T17:11:15.122Z"
   },
   {
    "duration": 49,
    "start_time": "2022-04-30T17:11:15.144Z"
   },
   {
    "duration": 19,
    "start_time": "2022-04-30T17:11:15.195Z"
   },
   {
    "duration": 20,
    "start_time": "2022-04-30T17:11:15.216Z"
   },
   {
    "duration": 21,
    "start_time": "2022-04-30T17:11:15.238Z"
   },
   {
    "duration": 4,
    "start_time": "2022-04-30T17:11:15.282Z"
   },
   {
    "duration": 31,
    "start_time": "2022-04-30T17:11:15.288Z"
   },
   {
    "duration": 19,
    "start_time": "2022-04-30T17:11:15.321Z"
   },
   {
    "duration": 54,
    "start_time": "2022-04-30T17:11:15.343Z"
   },
   {
    "duration": 9,
    "start_time": "2022-04-30T17:11:15.399Z"
   },
   {
    "duration": 21,
    "start_time": "2022-04-30T17:11:15.410Z"
   },
   {
    "duration": 60,
    "start_time": "2022-04-30T17:11:15.433Z"
   },
   {
    "duration": 9,
    "start_time": "2022-04-30T17:11:15.495Z"
   },
   {
    "duration": 22,
    "start_time": "2022-04-30T17:11:15.506Z"
   },
   {
    "duration": 12,
    "start_time": "2022-04-30T17:11:15.531Z"
   },
   {
    "duration": 14,
    "start_time": "2022-04-30T17:11:15.545Z"
   },
   {
    "duration": 9,
    "start_time": "2022-04-30T17:11:15.561Z"
   },
   {
    "duration": 13,
    "start_time": "2022-04-30T17:11:15.572Z"
   },
   {
    "duration": 31,
    "start_time": "2022-04-30T17:11:15.587Z"
   },
   {
    "duration": 16,
    "start_time": "2022-04-30T17:11:15.620Z"
   },
   {
    "duration": 13,
    "start_time": "2022-04-30T17:11:15.638Z"
   },
   {
    "duration": 156,
    "start_time": "2022-04-30T17:11:15.653Z"
   },
   {
    "duration": 0,
    "start_time": "2022-04-30T17:11:15.813Z"
   },
   {
    "duration": 0,
    "start_time": "2022-04-30T17:11:15.815Z"
   },
   {
    "duration": 0,
    "start_time": "2022-04-30T17:11:15.817Z"
   },
   {
    "duration": 0,
    "start_time": "2022-04-30T17:11:15.818Z"
   },
   {
    "duration": 0,
    "start_time": "2022-04-30T17:11:15.820Z"
   },
   {
    "duration": 0,
    "start_time": "2022-04-30T17:11:15.822Z"
   },
   {
    "duration": 0,
    "start_time": "2022-04-30T17:11:15.823Z"
   },
   {
    "duration": 0,
    "start_time": "2022-04-30T17:11:15.825Z"
   },
   {
    "duration": 0,
    "start_time": "2022-04-30T17:11:15.827Z"
   },
   {
    "duration": 0,
    "start_time": "2022-04-30T17:11:15.828Z"
   },
   {
    "duration": 0,
    "start_time": "2022-04-30T17:11:15.830Z"
   },
   {
    "duration": 0,
    "start_time": "2022-04-30T17:11:15.831Z"
   },
   {
    "duration": 0,
    "start_time": "2022-04-30T17:11:15.833Z"
   },
   {
    "duration": 0,
    "start_time": "2022-04-30T17:11:15.834Z"
   },
   {
    "duration": 0,
    "start_time": "2022-04-30T17:11:15.836Z"
   },
   {
    "duration": 0,
    "start_time": "2022-04-30T17:11:15.837Z"
   },
   {
    "duration": 0,
    "start_time": "2022-04-30T17:11:15.839Z"
   },
   {
    "duration": 0,
    "start_time": "2022-04-30T17:11:15.881Z"
   },
   {
    "duration": 0,
    "start_time": "2022-04-30T17:11:15.884Z"
   },
   {
    "duration": 0,
    "start_time": "2022-04-30T17:11:15.886Z"
   },
   {
    "duration": 0,
    "start_time": "2022-04-30T17:11:15.888Z"
   },
   {
    "duration": 0,
    "start_time": "2022-04-30T17:11:15.889Z"
   },
   {
    "duration": 0,
    "start_time": "2022-04-30T17:11:15.891Z"
   },
   {
    "duration": 0,
    "start_time": "2022-04-30T17:11:15.892Z"
   },
   {
    "duration": 0,
    "start_time": "2022-04-30T17:11:15.894Z"
   },
   {
    "duration": 0,
    "start_time": "2022-04-30T17:11:15.896Z"
   },
   {
    "duration": 0,
    "start_time": "2022-04-30T17:11:15.897Z"
   },
   {
    "duration": 0,
    "start_time": "2022-04-30T17:11:15.899Z"
   },
   {
    "duration": 0,
    "start_time": "2022-04-30T17:11:15.901Z"
   },
   {
    "duration": 0,
    "start_time": "2022-04-30T17:11:15.902Z"
   },
   {
    "duration": 0,
    "start_time": "2022-04-30T17:11:15.903Z"
   },
   {
    "duration": 0,
    "start_time": "2022-04-30T17:11:15.905Z"
   },
   {
    "duration": 0,
    "start_time": "2022-04-30T17:11:15.907Z"
   },
   {
    "duration": 0,
    "start_time": "2022-04-30T17:11:15.909Z"
   },
   {
    "duration": 0,
    "start_time": "2022-04-30T17:11:15.910Z"
   },
   {
    "duration": 0,
    "start_time": "2022-04-30T17:11:15.912Z"
   },
   {
    "duration": 0,
    "start_time": "2022-04-30T17:11:15.913Z"
   },
   {
    "duration": 0,
    "start_time": "2022-04-30T17:11:15.915Z"
   },
   {
    "duration": 0,
    "start_time": "2022-04-30T17:11:15.916Z"
   },
   {
    "duration": 0,
    "start_time": "2022-04-30T17:11:15.983Z"
   },
   {
    "duration": 0,
    "start_time": "2022-04-30T17:11:15.984Z"
   },
   {
    "duration": 0,
    "start_time": "2022-04-30T17:11:15.986Z"
   },
   {
    "duration": 0,
    "start_time": "2022-04-30T17:11:15.988Z"
   },
   {
    "duration": 0,
    "start_time": "2022-04-30T17:11:15.990Z"
   },
   {
    "duration": 0,
    "start_time": "2022-04-30T17:11:15.991Z"
   },
   {
    "duration": 0,
    "start_time": "2022-04-30T17:11:15.993Z"
   },
   {
    "duration": 0,
    "start_time": "2022-04-30T17:11:15.994Z"
   },
   {
    "duration": 0,
    "start_time": "2022-04-30T17:11:15.996Z"
   },
   {
    "duration": 21,
    "start_time": "2022-04-30T17:12:03.224Z"
   },
   {
    "duration": 16,
    "start_time": "2022-04-30T17:12:03.979Z"
   },
   {
    "duration": 18,
    "start_time": "2022-04-30T17:12:07.481Z"
   },
   {
    "duration": 21,
    "start_time": "2022-04-30T17:12:07.754Z"
   },
   {
    "duration": 4,
    "start_time": "2022-04-30T17:12:08.083Z"
   },
   {
    "duration": 20,
    "start_time": "2022-04-30T17:12:09.503Z"
   },
   {
    "duration": 15,
    "start_time": "2022-04-30T17:12:14.895Z"
   },
   {
    "duration": 30,
    "start_time": "2022-04-30T17:12:15.348Z"
   },
   {
    "duration": 10,
    "start_time": "2022-04-30T17:12:21.065Z"
   },
   {
    "duration": 13,
    "start_time": "2022-04-30T17:12:21.646Z"
   },
   {
    "duration": 31,
    "start_time": "2022-04-30T17:12:22.252Z"
   },
   {
    "duration": 9,
    "start_time": "2022-04-30T17:12:24.322Z"
   },
   {
    "duration": 5,
    "start_time": "2022-04-30T17:12:31.339Z"
   },
   {
    "duration": 5,
    "start_time": "2022-04-30T17:12:31.934Z"
   },
   {
    "duration": 10,
    "start_time": "2022-04-30T17:12:32.232Z"
   },
   {
    "duration": 6,
    "start_time": "2022-04-30T17:12:37.781Z"
   },
   {
    "duration": 5,
    "start_time": "2022-04-30T17:12:37.968Z"
   },
   {
    "duration": 28,
    "start_time": "2022-04-30T17:12:38.851Z"
   },
   {
    "duration": 13,
    "start_time": "2022-04-30T17:12:39.407Z"
   },
   {
    "duration": 10,
    "start_time": "2022-04-30T17:12:44.949Z"
   },
   {
    "duration": 31,
    "start_time": "2022-04-30T17:12:47.069Z"
   },
   {
    "duration": 25,
    "start_time": "2022-04-30T17:12:47.634Z"
   },
   {
    "duration": 24,
    "start_time": "2022-04-30T17:13:26.921Z"
   },
   {
    "duration": 24,
    "start_time": "2022-04-30T17:13:27.720Z"
   },
   {
    "duration": 30,
    "start_time": "2022-04-30T17:14:00.934Z"
   },
   {
    "duration": 31,
    "start_time": "2022-04-30T17:15:03.223Z"
   },
   {
    "duration": 7,
    "start_time": "2022-04-30T17:21:40.096Z"
   },
   {
    "duration": 40,
    "start_time": "2022-04-30T17:22:25.670Z"
   },
   {
    "duration": 517,
    "start_time": "2022-04-30T17:23:14.323Z"
   },
   {
    "duration": 4,
    "start_time": "2022-04-30T17:23:14.843Z"
   },
   {
    "duration": 382,
    "start_time": "2022-04-30T17:23:14.849Z"
   },
   {
    "duration": 591,
    "start_time": "2022-04-30T17:23:15.234Z"
   },
   {
    "duration": 3,
    "start_time": "2022-04-30T17:23:15.828Z"
   },
   {
    "duration": 7,
    "start_time": "2022-04-30T17:23:15.833Z"
   },
   {
    "duration": 11,
    "start_time": "2022-04-30T17:23:15.842Z"
   },
   {
    "duration": 6,
    "start_time": "2022-04-30T17:23:15.855Z"
   },
   {
    "duration": 37,
    "start_time": "2022-04-30T17:23:15.863Z"
   },
   {
    "duration": 17,
    "start_time": "2022-04-30T17:23:15.906Z"
   },
   {
    "duration": 21,
    "start_time": "2022-04-30T17:23:15.926Z"
   },
   {
    "duration": 44,
    "start_time": "2022-04-30T17:23:15.949Z"
   },
   {
    "duration": 27,
    "start_time": "2022-04-30T17:23:15.996Z"
   },
   {
    "duration": 36,
    "start_time": "2022-04-30T17:23:16.026Z"
   },
   {
    "duration": 51,
    "start_time": "2022-04-30T17:23:16.064Z"
   },
   {
    "duration": 15,
    "start_time": "2022-04-30T17:23:16.117Z"
   },
   {
    "duration": 55,
    "start_time": "2022-04-30T17:23:16.133Z"
   },
   {
    "duration": 27,
    "start_time": "2022-04-30T17:23:16.191Z"
   },
   {
    "duration": 20,
    "start_time": "2022-04-30T17:23:16.220Z"
   },
   {
    "duration": 6,
    "start_time": "2022-04-30T17:23:16.242Z"
   },
   {
    "duration": 78,
    "start_time": "2022-04-30T17:23:16.250Z"
   },
   {
    "duration": 72,
    "start_time": "2022-04-30T17:23:16.330Z"
   },
   {
    "duration": 38,
    "start_time": "2022-04-30T17:23:16.404Z"
   },
   {
    "duration": 54,
    "start_time": "2022-04-30T17:23:16.444Z"
   },
   {
    "duration": 7,
    "start_time": "2022-04-30T17:23:16.500Z"
   },
   {
    "duration": 20,
    "start_time": "2022-04-30T17:23:16.509Z"
   },
   {
    "duration": 21,
    "start_time": "2022-04-30T17:23:16.531Z"
   },
   {
    "duration": 35,
    "start_time": "2022-04-30T17:23:16.587Z"
   },
   {
    "duration": 25,
    "start_time": "2022-04-30T17:23:16.624Z"
   },
   {
    "duration": 5,
    "start_time": "2022-04-30T17:23:16.651Z"
   },
   {
    "duration": 33,
    "start_time": "2022-04-30T17:23:16.658Z"
   },
   {
    "duration": 47,
    "start_time": "2022-04-30T17:23:16.693Z"
   },
   {
    "duration": 18,
    "start_time": "2022-04-30T17:23:16.743Z"
   },
   {
    "duration": 54,
    "start_time": "2022-04-30T17:23:16.784Z"
   },
   {
    "duration": 16,
    "start_time": "2022-04-30T17:23:16.840Z"
   },
   {
    "duration": 34,
    "start_time": "2022-04-30T17:23:16.858Z"
   },
   {
    "duration": 41,
    "start_time": "2022-04-30T17:23:16.896Z"
   },
   {
    "duration": 18,
    "start_time": "2022-04-30T17:23:16.939Z"
   },
   {
    "duration": 6,
    "start_time": "2022-04-30T17:23:16.983Z"
   },
   {
    "duration": 28,
    "start_time": "2022-04-30T17:23:16.994Z"
   },
   {
    "duration": 89,
    "start_time": "2022-04-30T17:23:17.024Z"
   },
   {
    "duration": 21,
    "start_time": "2022-04-30T17:23:17.116Z"
   },
   {
    "duration": 16,
    "start_time": "2022-04-30T17:23:17.139Z"
   },
   {
    "duration": 37,
    "start_time": "2022-04-30T17:23:17.181Z"
   },
   {
    "duration": 20,
    "start_time": "2022-04-30T17:23:17.221Z"
   },
   {
    "duration": 56,
    "start_time": "2022-04-30T17:23:17.243Z"
   },
   {
    "duration": 18,
    "start_time": "2022-04-30T17:23:17.301Z"
   },
   {
    "duration": 35,
    "start_time": "2022-04-30T17:23:17.321Z"
   },
   {
    "duration": 31,
    "start_time": "2022-04-30T17:23:17.358Z"
   },
   {
    "duration": 22,
    "start_time": "2022-04-30T17:23:17.391Z"
   },
   {
    "duration": 25,
    "start_time": "2022-04-30T17:23:17.415Z"
   },
   {
    "duration": 6,
    "start_time": "2022-04-30T17:23:17.443Z"
   },
   {
    "duration": 56,
    "start_time": "2022-04-30T17:23:17.452Z"
   },
   {
    "duration": 14,
    "start_time": "2022-04-30T17:23:17.510Z"
   },
   {
    "duration": 33,
    "start_time": "2022-04-30T17:23:17.527Z"
   },
   {
    "duration": 11,
    "start_time": "2022-04-30T17:23:17.581Z"
   },
   {
    "duration": 29,
    "start_time": "2022-04-30T17:23:17.594Z"
   },
   {
    "duration": 33,
    "start_time": "2022-04-30T17:23:17.625Z"
   },
   {
    "duration": 32,
    "start_time": "2022-04-30T17:23:17.660Z"
   },
   {
    "duration": 12,
    "start_time": "2022-04-30T17:23:17.695Z"
   },
   {
    "duration": 7,
    "start_time": "2022-04-30T17:23:17.709Z"
   },
   {
    "duration": 12,
    "start_time": "2022-04-30T17:23:17.718Z"
   },
   {
    "duration": 6,
    "start_time": "2022-04-30T17:23:17.732Z"
   },
   {
    "duration": 7,
    "start_time": "2022-04-30T17:23:17.740Z"
   },
   {
    "duration": 58,
    "start_time": "2022-04-30T17:23:17.749Z"
   },
   {
    "duration": 13,
    "start_time": "2022-04-30T17:23:17.809Z"
   },
   {
    "duration": 8,
    "start_time": "2022-04-30T17:23:17.824Z"
   },
   {
    "duration": 160,
    "start_time": "2022-04-30T17:23:17.834Z"
   },
   {
    "duration": 0,
    "start_time": "2022-04-30T17:23:17.999Z"
   },
   {
    "duration": 0,
    "start_time": "2022-04-30T17:23:18.001Z"
   },
   {
    "duration": 0,
    "start_time": "2022-04-30T17:23:18.003Z"
   },
   {
    "duration": 0,
    "start_time": "2022-04-30T17:23:18.004Z"
   },
   {
    "duration": 0,
    "start_time": "2022-04-30T17:23:18.006Z"
   },
   {
    "duration": 0,
    "start_time": "2022-04-30T17:23:18.008Z"
   },
   {
    "duration": 0,
    "start_time": "2022-04-30T17:23:18.009Z"
   },
   {
    "duration": 0,
    "start_time": "2022-04-30T17:23:18.010Z"
   },
   {
    "duration": 0,
    "start_time": "2022-04-30T17:23:18.012Z"
   },
   {
    "duration": 0,
    "start_time": "2022-04-30T17:23:18.014Z"
   },
   {
    "duration": 0,
    "start_time": "2022-04-30T17:23:18.016Z"
   },
   {
    "duration": 0,
    "start_time": "2022-04-30T17:23:18.018Z"
   },
   {
    "duration": 0,
    "start_time": "2022-04-30T17:23:18.019Z"
   },
   {
    "duration": 0,
    "start_time": "2022-04-30T17:23:18.021Z"
   },
   {
    "duration": 0,
    "start_time": "2022-04-30T17:23:18.022Z"
   },
   {
    "duration": 0,
    "start_time": "2022-04-30T17:23:18.024Z"
   },
   {
    "duration": 0,
    "start_time": "2022-04-30T17:23:18.025Z"
   },
   {
    "duration": 0,
    "start_time": "2022-04-30T17:23:18.027Z"
   },
   {
    "duration": 0,
    "start_time": "2022-04-30T17:23:18.028Z"
   },
   {
    "duration": 0,
    "start_time": "2022-04-30T17:23:18.030Z"
   },
   {
    "duration": 1,
    "start_time": "2022-04-30T17:23:18.031Z"
   },
   {
    "duration": 0,
    "start_time": "2022-04-30T17:23:18.093Z"
   },
   {
    "duration": 0,
    "start_time": "2022-04-30T17:23:18.094Z"
   },
   {
    "duration": 0,
    "start_time": "2022-04-30T17:23:18.095Z"
   },
   {
    "duration": 0,
    "start_time": "2022-04-30T17:23:18.096Z"
   },
   {
    "duration": 0,
    "start_time": "2022-04-30T17:23:18.098Z"
   },
   {
    "duration": 0,
    "start_time": "2022-04-30T17:23:18.099Z"
   },
   {
    "duration": 0,
    "start_time": "2022-04-30T17:23:18.100Z"
   },
   {
    "duration": 0,
    "start_time": "2022-04-30T17:23:18.102Z"
   },
   {
    "duration": 0,
    "start_time": "2022-04-30T17:23:18.103Z"
   },
   {
    "duration": 0,
    "start_time": "2022-04-30T17:23:18.104Z"
   },
   {
    "duration": 0,
    "start_time": "2022-04-30T17:23:18.106Z"
   },
   {
    "duration": 0,
    "start_time": "2022-04-30T17:23:18.107Z"
   },
   {
    "duration": 0,
    "start_time": "2022-04-30T17:23:18.108Z"
   },
   {
    "duration": 0,
    "start_time": "2022-04-30T17:23:18.109Z"
   },
   {
    "duration": 0,
    "start_time": "2022-04-30T17:23:18.111Z"
   },
   {
    "duration": 0,
    "start_time": "2022-04-30T17:23:18.112Z"
   },
   {
    "duration": 0,
    "start_time": "2022-04-30T17:23:18.113Z"
   },
   {
    "duration": 0,
    "start_time": "2022-04-30T17:23:18.115Z"
   },
   {
    "duration": 0,
    "start_time": "2022-04-30T17:23:18.116Z"
   },
   {
    "duration": 0,
    "start_time": "2022-04-30T17:23:18.118Z"
   },
   {
    "duration": 0,
    "start_time": "2022-04-30T17:23:18.119Z"
   },
   {
    "duration": 0,
    "start_time": "2022-04-30T17:23:18.120Z"
   },
   {
    "duration": 0,
    "start_time": "2022-04-30T17:23:18.122Z"
   },
   {
    "duration": 0,
    "start_time": "2022-04-30T17:23:18.123Z"
   },
   {
    "duration": 0,
    "start_time": "2022-04-30T17:23:18.124Z"
   },
   {
    "duration": 0,
    "start_time": "2022-04-30T17:23:18.125Z"
   },
   {
    "duration": 0,
    "start_time": "2022-04-30T17:23:18.127Z"
   },
   {
    "duration": 0,
    "start_time": "2022-04-30T17:23:18.128Z"
   },
   {
    "duration": 0,
    "start_time": "2022-04-30T17:23:18.129Z"
   },
   {
    "duration": 107,
    "start_time": "2022-04-30T17:24:47.855Z"
   },
   {
    "duration": 6,
    "start_time": "2022-04-30T17:25:01.832Z"
   },
   {
    "duration": 1712,
    "start_time": "2022-04-30T17:25:05.614Z"
   },
   {
    "duration": 11,
    "start_time": "2022-04-30T17:25:31.703Z"
   },
   {
    "duration": 13,
    "start_time": "2022-04-30T17:25:32.072Z"
   },
   {
    "duration": 1924,
    "start_time": "2022-04-30T17:25:32.559Z"
   },
   {
    "duration": 6,
    "start_time": "2022-04-30T17:29:37.018Z"
   },
   {
    "duration": 35,
    "start_time": "2022-04-30T17:29:42.352Z"
   },
   {
    "duration": 13,
    "start_time": "2022-04-30T17:30:17.238Z"
   },
   {
    "duration": 32,
    "start_time": "2022-04-30T17:30:17.844Z"
   },
   {
    "duration": 601,
    "start_time": "2022-04-30T17:31:21.691Z"
   },
   {
    "duration": 4,
    "start_time": "2022-04-30T17:31:22.296Z"
   },
   {
    "duration": 491,
    "start_time": "2022-04-30T17:31:22.303Z"
   },
   {
    "duration": 653,
    "start_time": "2022-04-30T17:31:22.798Z"
   },
   {
    "duration": 4,
    "start_time": "2022-04-30T17:31:23.454Z"
   },
   {
    "duration": 17,
    "start_time": "2022-04-30T17:31:23.460Z"
   },
   {
    "duration": 24,
    "start_time": "2022-04-30T17:31:23.480Z"
   },
   {
    "duration": 8,
    "start_time": "2022-04-30T17:31:23.507Z"
   },
   {
    "duration": 33,
    "start_time": "2022-04-30T17:31:23.517Z"
   },
   {
    "duration": 19,
    "start_time": "2022-04-30T17:31:23.556Z"
   },
   {
    "duration": 40,
    "start_time": "2022-04-30T17:31:23.578Z"
   },
   {
    "duration": 16,
    "start_time": "2022-04-30T17:31:23.621Z"
   },
   {
    "duration": 22,
    "start_time": "2022-04-30T17:31:23.639Z"
   },
   {
    "duration": 47,
    "start_time": "2022-04-30T17:31:23.664Z"
   },
   {
    "duration": 29,
    "start_time": "2022-04-30T17:31:23.713Z"
   },
   {
    "duration": 39,
    "start_time": "2022-04-30T17:31:23.745Z"
   },
   {
    "duration": 17,
    "start_time": "2022-04-30T17:31:23.787Z"
   },
   {
    "duration": 37,
    "start_time": "2022-04-30T17:31:23.807Z"
   },
   {
    "duration": 51,
    "start_time": "2022-04-30T17:31:23.846Z"
   },
   {
    "duration": 7,
    "start_time": "2022-04-30T17:31:23.900Z"
   },
   {
    "duration": 75,
    "start_time": "2022-04-30T17:31:23.909Z"
   },
   {
    "duration": 55,
    "start_time": "2022-04-30T17:31:23.986Z"
   },
   {
    "duration": 58,
    "start_time": "2022-04-30T17:31:24.043Z"
   },
   {
    "duration": 45,
    "start_time": "2022-04-30T17:31:24.103Z"
   },
   {
    "duration": 6,
    "start_time": "2022-04-30T17:31:24.151Z"
   },
   {
    "duration": 40,
    "start_time": "2022-04-30T17:31:24.159Z"
   },
   {
    "duration": 24,
    "start_time": "2022-04-30T17:31:24.202Z"
   },
   {
    "duration": 57,
    "start_time": "2022-04-30T17:31:24.233Z"
   },
   {
    "duration": 26,
    "start_time": "2022-04-30T17:31:24.292Z"
   },
   {
    "duration": 6,
    "start_time": "2022-04-30T17:31:24.320Z"
   },
   {
    "duration": 13,
    "start_time": "2022-04-30T17:31:24.328Z"
   },
   {
    "duration": 70,
    "start_time": "2022-04-30T17:31:24.343Z"
   },
   {
    "duration": 18,
    "start_time": "2022-04-30T17:31:24.416Z"
   },
   {
    "duration": 72,
    "start_time": "2022-04-30T17:31:24.437Z"
   },
   {
    "duration": 17,
    "start_time": "2022-04-30T17:31:24.512Z"
   },
   {
    "duration": 12,
    "start_time": "2022-04-30T17:31:24.532Z"
   },
   {
    "duration": 69,
    "start_time": "2022-04-30T17:31:24.547Z"
   },
   {
    "duration": 19,
    "start_time": "2022-04-30T17:31:24.619Z"
   },
   {
    "duration": 8,
    "start_time": "2022-04-30T17:31:24.641Z"
   },
   {
    "duration": 56,
    "start_time": "2022-04-30T17:31:24.652Z"
   },
   {
    "duration": 81,
    "start_time": "2022-04-30T17:31:24.710Z"
   },
   {
    "duration": 25,
    "start_time": "2022-04-30T17:31:24.793Z"
   },
   {
    "duration": 17,
    "start_time": "2022-04-30T17:31:24.820Z"
   },
   {
    "duration": 65,
    "start_time": "2022-04-30T17:31:24.839Z"
   },
   {
    "duration": 23,
    "start_time": "2022-04-30T17:31:24.906Z"
   },
   {
    "duration": 51,
    "start_time": "2022-04-30T17:31:24.931Z"
   },
   {
    "duration": 27,
    "start_time": "2022-04-30T17:31:24.984Z"
   },
   {
    "duration": 24,
    "start_time": "2022-04-30T17:31:25.014Z"
   },
   {
    "duration": 42,
    "start_time": "2022-04-30T17:31:25.041Z"
   },
   {
    "duration": 34,
    "start_time": "2022-04-30T17:31:25.085Z"
   },
   {
    "duration": 22,
    "start_time": "2022-04-30T17:31:25.122Z"
   },
   {
    "duration": 5,
    "start_time": "2022-04-30T17:31:25.146Z"
   },
   {
    "duration": 45,
    "start_time": "2022-04-30T17:31:25.153Z"
   },
   {
    "duration": 15,
    "start_time": "2022-04-30T17:31:25.200Z"
   },
   {
    "duration": 31,
    "start_time": "2022-04-30T17:31:25.217Z"
   },
   {
    "duration": 41,
    "start_time": "2022-04-30T17:31:25.250Z"
   },
   {
    "duration": 16,
    "start_time": "2022-04-30T17:31:25.294Z"
   },
   {
    "duration": 33,
    "start_time": "2022-04-30T17:31:25.312Z"
   },
   {
    "duration": 9,
    "start_time": "2022-04-30T17:31:25.347Z"
   },
   {
    "duration": 11,
    "start_time": "2022-04-30T17:31:25.385Z"
   },
   {
    "duration": 6,
    "start_time": "2022-04-30T17:31:25.399Z"
   },
   {
    "duration": 15,
    "start_time": "2022-04-30T17:31:25.407Z"
   },
   {
    "duration": 11,
    "start_time": "2022-04-30T17:31:25.424Z"
   },
   {
    "duration": 7,
    "start_time": "2022-04-30T17:31:25.437Z"
   },
   {
    "duration": 59,
    "start_time": "2022-04-30T17:31:25.446Z"
   },
   {
    "duration": 13,
    "start_time": "2022-04-30T17:31:25.509Z"
   },
   {
    "duration": 7,
    "start_time": "2022-04-30T17:31:25.524Z"
   },
   {
    "duration": 1930,
    "start_time": "2022-04-30T17:31:25.533Z"
   },
   {
    "duration": 0,
    "start_time": "2022-04-30T17:31:27.469Z"
   },
   {
    "duration": 0,
    "start_time": "2022-04-30T17:31:27.470Z"
   },
   {
    "duration": 0,
    "start_time": "2022-04-30T17:31:27.473Z"
   },
   {
    "duration": 0,
    "start_time": "2022-04-30T17:31:27.475Z"
   },
   {
    "duration": 0,
    "start_time": "2022-04-30T17:31:27.478Z"
   },
   {
    "duration": 0,
    "start_time": "2022-04-30T17:31:27.480Z"
   },
   {
    "duration": 0,
    "start_time": "2022-04-30T17:31:27.482Z"
   },
   {
    "duration": 0,
    "start_time": "2022-04-30T17:31:27.484Z"
   },
   {
    "duration": 0,
    "start_time": "2022-04-30T17:31:27.490Z"
   },
   {
    "duration": 0,
    "start_time": "2022-04-30T17:31:27.491Z"
   },
   {
    "duration": 0,
    "start_time": "2022-04-30T17:31:27.493Z"
   },
   {
    "duration": 0,
    "start_time": "2022-04-30T17:31:27.500Z"
   },
   {
    "duration": 0,
    "start_time": "2022-04-30T17:31:27.502Z"
   },
   {
    "duration": 0,
    "start_time": "2022-04-30T17:31:27.504Z"
   },
   {
    "duration": 0,
    "start_time": "2022-04-30T17:31:27.505Z"
   },
   {
    "duration": 0,
    "start_time": "2022-04-30T17:31:27.507Z"
   },
   {
    "duration": 0,
    "start_time": "2022-04-30T17:31:27.509Z"
   },
   {
    "duration": 0,
    "start_time": "2022-04-30T17:31:27.511Z"
   },
   {
    "duration": 0,
    "start_time": "2022-04-30T17:31:27.512Z"
   },
   {
    "duration": 0,
    "start_time": "2022-04-30T17:31:27.514Z"
   },
   {
    "duration": 0,
    "start_time": "2022-04-30T17:31:27.516Z"
   },
   {
    "duration": 1,
    "start_time": "2022-04-30T17:31:27.517Z"
   },
   {
    "duration": 0,
    "start_time": "2022-04-30T17:31:27.519Z"
   },
   {
    "duration": 0,
    "start_time": "2022-04-30T17:31:27.521Z"
   },
   {
    "duration": 0,
    "start_time": "2022-04-30T17:31:27.522Z"
   },
   {
    "duration": 0,
    "start_time": "2022-04-30T17:31:27.524Z"
   },
   {
    "duration": 0,
    "start_time": "2022-04-30T17:31:27.526Z"
   },
   {
    "duration": 0,
    "start_time": "2022-04-30T17:31:27.589Z"
   },
   {
    "duration": 0,
    "start_time": "2022-04-30T17:31:27.591Z"
   },
   {
    "duration": 1,
    "start_time": "2022-04-30T17:31:27.592Z"
   },
   {
    "duration": 0,
    "start_time": "2022-04-30T17:31:27.598Z"
   },
   {
    "duration": 0,
    "start_time": "2022-04-30T17:31:27.600Z"
   },
   {
    "duration": 0,
    "start_time": "2022-04-30T17:31:27.601Z"
   },
   {
    "duration": 0,
    "start_time": "2022-04-30T17:31:27.603Z"
   },
   {
    "duration": 0,
    "start_time": "2022-04-30T17:31:27.604Z"
   },
   {
    "duration": 0,
    "start_time": "2022-04-30T17:31:27.605Z"
   },
   {
    "duration": 0,
    "start_time": "2022-04-30T17:31:27.606Z"
   },
   {
    "duration": 0,
    "start_time": "2022-04-30T17:31:27.607Z"
   },
   {
    "duration": 0,
    "start_time": "2022-04-30T17:31:27.608Z"
   },
   {
    "duration": 0,
    "start_time": "2022-04-30T17:31:27.610Z"
   },
   {
    "duration": 0,
    "start_time": "2022-04-30T17:31:27.611Z"
   },
   {
    "duration": 0,
    "start_time": "2022-04-30T17:31:27.612Z"
   },
   {
    "duration": 1,
    "start_time": "2022-04-30T17:31:27.613Z"
   },
   {
    "duration": 0,
    "start_time": "2022-04-30T17:31:27.615Z"
   },
   {
    "duration": 0,
    "start_time": "2022-04-30T17:31:27.616Z"
   },
   {
    "duration": 0,
    "start_time": "2022-04-30T17:31:27.617Z"
   },
   {
    "duration": 0,
    "start_time": "2022-04-30T17:31:27.618Z"
   },
   {
    "duration": 0,
    "start_time": "2022-04-30T17:31:27.619Z"
   },
   {
    "duration": 0,
    "start_time": "2022-04-30T17:31:27.620Z"
   },
   {
    "duration": 0,
    "start_time": "2022-04-30T17:31:27.621Z"
   },
   {
    "duration": 16,
    "start_time": "2022-04-30T17:32:17.088Z"
   },
   {
    "duration": 1572,
    "start_time": "2022-04-30T17:32:17.943Z"
   },
   {
    "duration": 597,
    "start_time": "2022-04-30T17:33:15.013Z"
   },
   {
    "duration": 3,
    "start_time": "2022-04-30T17:33:15.613Z"
   },
   {
    "duration": 493,
    "start_time": "2022-04-30T17:33:15.619Z"
   },
   {
    "duration": 645,
    "start_time": "2022-04-30T17:33:16.116Z"
   },
   {
    "duration": 4,
    "start_time": "2022-04-30T17:33:16.764Z"
   },
   {
    "duration": 13,
    "start_time": "2022-04-30T17:33:16.770Z"
   },
   {
    "duration": 22,
    "start_time": "2022-04-30T17:33:16.785Z"
   },
   {
    "duration": 7,
    "start_time": "2022-04-30T17:33:16.809Z"
   },
   {
    "duration": 22,
    "start_time": "2022-04-30T17:33:16.818Z"
   },
   {
    "duration": 16,
    "start_time": "2022-04-30T17:33:16.844Z"
   },
   {
    "duration": 36,
    "start_time": "2022-04-30T17:33:16.862Z"
   },
   {
    "duration": 15,
    "start_time": "2022-04-30T17:33:16.901Z"
   },
   {
    "duration": 21,
    "start_time": "2022-04-30T17:33:16.918Z"
   },
   {
    "duration": 63,
    "start_time": "2022-04-30T17:33:16.941Z"
   },
   {
    "duration": 35,
    "start_time": "2022-04-30T17:33:17.009Z"
   },
   {
    "duration": 35,
    "start_time": "2022-04-30T17:33:17.047Z"
   },
   {
    "duration": 28,
    "start_time": "2022-04-30T17:33:17.090Z"
   },
   {
    "duration": 37,
    "start_time": "2022-04-30T17:33:17.120Z"
   },
   {
    "duration": 32,
    "start_time": "2022-04-30T17:33:17.160Z"
   },
   {
    "duration": 14,
    "start_time": "2022-04-30T17:33:17.194Z"
   },
   {
    "duration": 53,
    "start_time": "2022-04-30T17:33:17.210Z"
   },
   {
    "duration": 65,
    "start_time": "2022-04-30T17:33:17.265Z"
   },
   {
    "duration": 36,
    "start_time": "2022-04-30T17:33:17.332Z"
   },
   {
    "duration": 36,
    "start_time": "2022-04-30T17:33:17.385Z"
   },
   {
    "duration": 6,
    "start_time": "2022-04-30T17:33:17.424Z"
   },
   {
    "duration": 20,
    "start_time": "2022-04-30T17:33:17.433Z"
   },
   {
    "duration": 45,
    "start_time": "2022-04-30T17:33:17.455Z"
   },
   {
    "duration": 31,
    "start_time": "2022-04-30T17:33:17.509Z"
   },
   {
    "duration": 53,
    "start_time": "2022-04-30T17:33:17.542Z"
   },
   {
    "duration": 6,
    "start_time": "2022-04-30T17:33:17.598Z"
   },
   {
    "duration": 15,
    "start_time": "2022-04-30T17:33:17.607Z"
   },
   {
    "duration": 68,
    "start_time": "2022-04-30T17:33:17.625Z"
   },
   {
    "duration": 18,
    "start_time": "2022-04-30T17:33:17.695Z"
   },
   {
    "duration": 68,
    "start_time": "2022-04-30T17:33:17.715Z"
   },
   {
    "duration": 20,
    "start_time": "2022-04-30T17:33:17.785Z"
   },
   {
    "duration": 12,
    "start_time": "2022-04-30T17:33:17.807Z"
   },
   {
    "duration": 62,
    "start_time": "2022-04-30T17:33:17.821Z"
   },
   {
    "duration": 24,
    "start_time": "2022-04-30T17:33:17.886Z"
   },
   {
    "duration": 6,
    "start_time": "2022-04-30T17:33:17.913Z"
   },
   {
    "duration": 31,
    "start_time": "2022-04-30T17:33:17.922Z"
   },
   {
    "duration": 95,
    "start_time": "2022-04-30T17:33:17.955Z"
   },
   {
    "duration": 42,
    "start_time": "2022-04-30T17:33:18.053Z"
   },
   {
    "duration": 22,
    "start_time": "2022-04-30T17:33:18.103Z"
   },
   {
    "duration": 63,
    "start_time": "2022-04-30T17:33:18.128Z"
   },
   {
    "duration": 22,
    "start_time": "2022-04-30T17:33:18.193Z"
   },
   {
    "duration": 37,
    "start_time": "2022-04-30T17:33:18.218Z"
   },
   {
    "duration": 51,
    "start_time": "2022-04-30T17:33:18.258Z"
   },
   {
    "duration": 24,
    "start_time": "2022-04-30T17:33:18.312Z"
   },
   {
    "duration": 18,
    "start_time": "2022-04-30T17:33:18.338Z"
   },
   {
    "duration": 39,
    "start_time": "2022-04-30T17:33:18.358Z"
   },
   {
    "duration": 26,
    "start_time": "2022-04-30T17:33:18.401Z"
   },
   {
    "duration": 5,
    "start_time": "2022-04-30T17:33:18.429Z"
   },
   {
    "duration": 54,
    "start_time": "2022-04-30T17:33:18.436Z"
   },
   {
    "duration": 22,
    "start_time": "2022-04-30T17:33:18.494Z"
   },
   {
    "duration": 30,
    "start_time": "2022-04-30T17:33:18.518Z"
   },
   {
    "duration": 9,
    "start_time": "2022-04-30T17:33:18.550Z"
   },
   {
    "duration": 44,
    "start_time": "2022-04-30T17:33:18.561Z"
   },
   {
    "duration": 44,
    "start_time": "2022-04-30T17:33:18.607Z"
   },
   {
    "duration": 40,
    "start_time": "2022-04-30T17:33:18.654Z"
   },
   {
    "duration": 5,
    "start_time": "2022-04-30T17:33:18.697Z"
   },
   {
    "duration": 7,
    "start_time": "2022-04-30T17:33:18.704Z"
   },
   {
    "duration": 15,
    "start_time": "2022-04-30T17:33:18.713Z"
   },
   {
    "duration": 5,
    "start_time": "2022-04-30T17:33:18.731Z"
   },
   {
    "duration": 9,
    "start_time": "2022-04-30T17:33:18.738Z"
   },
   {
    "duration": 56,
    "start_time": "2022-04-30T17:33:18.749Z"
   },
   {
    "duration": 18,
    "start_time": "2022-04-30T17:33:18.807Z"
   },
   {
    "duration": 12,
    "start_time": "2022-04-30T17:33:18.827Z"
   },
   {
    "duration": 1901,
    "start_time": "2022-04-30T17:33:18.841Z"
   },
   {
    "duration": 0,
    "start_time": "2022-04-30T17:33:20.746Z"
   },
   {
    "duration": 0,
    "start_time": "2022-04-30T17:33:20.748Z"
   },
   {
    "duration": 0,
    "start_time": "2022-04-30T17:33:20.750Z"
   },
   {
    "duration": 0,
    "start_time": "2022-04-30T17:33:20.751Z"
   },
   {
    "duration": 0,
    "start_time": "2022-04-30T17:33:20.753Z"
   },
   {
    "duration": 0,
    "start_time": "2022-04-30T17:33:20.754Z"
   },
   {
    "duration": 0,
    "start_time": "2022-04-30T17:33:20.756Z"
   },
   {
    "duration": 0,
    "start_time": "2022-04-30T17:33:20.758Z"
   },
   {
    "duration": 0,
    "start_time": "2022-04-30T17:33:20.759Z"
   },
   {
    "duration": 0,
    "start_time": "2022-04-30T17:33:20.760Z"
   },
   {
    "duration": 0,
    "start_time": "2022-04-30T17:33:20.762Z"
   },
   {
    "duration": 0,
    "start_time": "2022-04-30T17:33:20.764Z"
   },
   {
    "duration": 0,
    "start_time": "2022-04-30T17:33:20.765Z"
   },
   {
    "duration": 0,
    "start_time": "2022-04-30T17:33:20.767Z"
   },
   {
    "duration": 0,
    "start_time": "2022-04-30T17:33:20.768Z"
   },
   {
    "duration": 0,
    "start_time": "2022-04-30T17:33:20.769Z"
   },
   {
    "duration": 0,
    "start_time": "2022-04-30T17:33:20.771Z"
   },
   {
    "duration": 0,
    "start_time": "2022-04-30T17:33:20.773Z"
   },
   {
    "duration": 0,
    "start_time": "2022-04-30T17:33:20.774Z"
   },
   {
    "duration": 0,
    "start_time": "2022-04-30T17:33:20.776Z"
   },
   {
    "duration": 0,
    "start_time": "2022-04-30T17:33:20.777Z"
   },
   {
    "duration": 0,
    "start_time": "2022-04-30T17:33:20.779Z"
   },
   {
    "duration": 0,
    "start_time": "2022-04-30T17:33:20.781Z"
   },
   {
    "duration": 0,
    "start_time": "2022-04-30T17:33:20.782Z"
   },
   {
    "duration": 0,
    "start_time": "2022-04-30T17:33:20.784Z"
   },
   {
    "duration": 0,
    "start_time": "2022-04-30T17:33:20.785Z"
   },
   {
    "duration": 0,
    "start_time": "2022-04-30T17:33:20.786Z"
   },
   {
    "duration": 0,
    "start_time": "2022-04-30T17:33:20.788Z"
   },
   {
    "duration": 0,
    "start_time": "2022-04-30T17:33:20.789Z"
   },
   {
    "duration": 0,
    "start_time": "2022-04-30T17:33:20.790Z"
   },
   {
    "duration": 0,
    "start_time": "2022-04-30T17:33:20.792Z"
   },
   {
    "duration": 0,
    "start_time": "2022-04-30T17:33:20.801Z"
   },
   {
    "duration": 0,
    "start_time": "2022-04-30T17:33:20.802Z"
   },
   {
    "duration": 0,
    "start_time": "2022-04-30T17:33:20.805Z"
   },
   {
    "duration": 0,
    "start_time": "2022-04-30T17:33:20.807Z"
   },
   {
    "duration": 0,
    "start_time": "2022-04-30T17:33:20.808Z"
   },
   {
    "duration": 0,
    "start_time": "2022-04-30T17:33:20.810Z"
   },
   {
    "duration": 0,
    "start_time": "2022-04-30T17:33:20.811Z"
   },
   {
    "duration": 0,
    "start_time": "2022-04-30T17:33:20.813Z"
   },
   {
    "duration": 0,
    "start_time": "2022-04-30T17:33:20.814Z"
   },
   {
    "duration": 0,
    "start_time": "2022-04-30T17:33:20.815Z"
   },
   {
    "duration": 0,
    "start_time": "2022-04-30T17:33:20.816Z"
   },
   {
    "duration": 0,
    "start_time": "2022-04-30T17:33:20.817Z"
   },
   {
    "duration": 0,
    "start_time": "2022-04-30T17:33:20.819Z"
   },
   {
    "duration": 0,
    "start_time": "2022-04-30T17:33:20.820Z"
   },
   {
    "duration": 0,
    "start_time": "2022-04-30T17:33:20.821Z"
   },
   {
    "duration": 0,
    "start_time": "2022-04-30T17:33:20.822Z"
   },
   {
    "duration": 0,
    "start_time": "2022-04-30T17:33:20.823Z"
   },
   {
    "duration": 0,
    "start_time": "2022-04-30T17:33:20.826Z"
   },
   {
    "duration": 0,
    "start_time": "2022-04-30T17:33:20.827Z"
   },
   {
    "duration": 13,
    "start_time": "2022-04-30T17:34:31.823Z"
   },
   {
    "duration": 1725,
    "start_time": "2022-04-30T17:34:32.146Z"
   },
   {
    "duration": 14,
    "start_time": "2022-04-30T17:36:24.271Z"
   },
   {
    "duration": 12,
    "start_time": "2022-04-30T17:36:24.473Z"
   },
   {
    "duration": 11,
    "start_time": "2022-04-30T17:37:16.454Z"
   },
   {
    "duration": 581,
    "start_time": "2022-04-30T17:37:39.212Z"
   },
   {
    "duration": 4,
    "start_time": "2022-04-30T17:37:39.796Z"
   },
   {
    "duration": 348,
    "start_time": "2022-04-30T17:37:39.802Z"
   },
   {
    "duration": 580,
    "start_time": "2022-04-30T17:37:40.153Z"
   },
   {
    "duration": 4,
    "start_time": "2022-04-30T17:37:40.735Z"
   },
   {
    "duration": 9,
    "start_time": "2022-04-30T17:37:40.741Z"
   },
   {
    "duration": 8,
    "start_time": "2022-04-30T17:37:40.752Z"
   },
   {
    "duration": 38,
    "start_time": "2022-04-30T17:37:40.763Z"
   },
   {
    "duration": 20,
    "start_time": "2022-04-30T17:37:40.804Z"
   },
   {
    "duration": 17,
    "start_time": "2022-04-30T17:37:40.829Z"
   },
   {
    "duration": 24,
    "start_time": "2022-04-30T17:37:40.848Z"
   },
   {
    "duration": 24,
    "start_time": "2022-04-30T17:37:40.874Z"
   },
   {
    "duration": 24,
    "start_time": "2022-04-30T17:37:40.900Z"
   },
   {
    "duration": 57,
    "start_time": "2022-04-30T17:37:40.927Z"
   },
   {
    "duration": 33,
    "start_time": "2022-04-30T17:37:40.987Z"
   },
   {
    "duration": 19,
    "start_time": "2022-04-30T17:37:41.023Z"
   },
   {
    "duration": 44,
    "start_time": "2022-04-30T17:37:41.045Z"
   },
   {
    "duration": 44,
    "start_time": "2022-04-30T17:37:41.092Z"
   },
   {
    "duration": 23,
    "start_time": "2022-04-30T17:37:41.138Z"
   },
   {
    "duration": 7,
    "start_time": "2022-04-30T17:37:41.163Z"
   },
   {
    "duration": 63,
    "start_time": "2022-04-30T17:37:41.172Z"
   },
   {
    "duration": 82,
    "start_time": "2022-04-30T17:37:41.237Z"
   },
   {
    "duration": 35,
    "start_time": "2022-04-30T17:37:41.321Z"
   },
   {
    "duration": 47,
    "start_time": "2022-04-30T17:37:41.358Z"
   },
   {
    "duration": 6,
    "start_time": "2022-04-30T17:37:41.407Z"
   },
   {
    "duration": 27,
    "start_time": "2022-04-30T17:37:41.415Z"
   },
   {
    "duration": 52,
    "start_time": "2022-04-30T17:37:41.444Z"
   },
   {
    "duration": 31,
    "start_time": "2022-04-30T17:37:41.504Z"
   },
   {
    "duration": 47,
    "start_time": "2022-04-30T17:37:41.538Z"
   },
   {
    "duration": 7,
    "start_time": "2022-04-30T17:37:41.589Z"
   },
   {
    "duration": 16,
    "start_time": "2022-04-30T17:37:41.598Z"
   },
   {
    "duration": 44,
    "start_time": "2022-04-30T17:37:41.617Z"
   },
   {
    "duration": 40,
    "start_time": "2022-04-30T17:37:41.663Z"
   },
   {
    "duration": 81,
    "start_time": "2022-04-30T17:37:41.706Z"
   },
   {
    "duration": 20,
    "start_time": "2022-04-30T17:37:41.789Z"
   },
   {
    "duration": 12,
    "start_time": "2022-04-30T17:37:41.811Z"
   },
   {
    "duration": 78,
    "start_time": "2022-04-30T17:37:41.825Z"
   },
   {
    "duration": 17,
    "start_time": "2022-04-30T17:37:41.905Z"
   },
   {
    "duration": 11,
    "start_time": "2022-04-30T17:37:41.924Z"
   },
   {
    "duration": 23,
    "start_time": "2022-04-30T17:37:41.938Z"
   },
   {
    "duration": 72,
    "start_time": "2022-04-30T17:37:41.981Z"
   },
   {
    "duration": 38,
    "start_time": "2022-04-30T17:37:42.056Z"
   },
   {
    "duration": 20,
    "start_time": "2022-04-30T17:37:42.099Z"
   },
   {
    "duration": 34,
    "start_time": "2022-04-30T17:37:42.121Z"
   },
   {
    "duration": 49,
    "start_time": "2022-04-30T17:37:42.157Z"
   },
   {
    "duration": 28,
    "start_time": "2022-04-30T17:37:42.210Z"
   },
   {
    "duration": 19,
    "start_time": "2022-04-30T17:37:42.241Z"
   },
   {
    "duration": 29,
    "start_time": "2022-04-30T17:37:42.291Z"
   },
   {
    "duration": 17,
    "start_time": "2022-04-30T17:37:42.323Z"
   },
   {
    "duration": 48,
    "start_time": "2022-04-30T17:37:42.343Z"
   },
   {
    "duration": 22,
    "start_time": "2022-04-30T17:37:42.393Z"
   },
   {
    "duration": 5,
    "start_time": "2022-04-30T17:37:42.418Z"
   },
   {
    "duration": 24,
    "start_time": "2022-04-30T17:37:42.426Z"
   },
   {
    "duration": 48,
    "start_time": "2022-04-30T17:37:42.453Z"
   },
   {
    "duration": 33,
    "start_time": "2022-04-30T17:37:42.503Z"
   },
   {
    "duration": 14,
    "start_time": "2022-04-30T17:37:42.539Z"
   },
   {
    "duration": 43,
    "start_time": "2022-04-30T17:37:42.556Z"
   },
   {
    "duration": 43,
    "start_time": "2022-04-30T17:37:42.601Z"
   },
   {
    "duration": 42,
    "start_time": "2022-04-30T17:37:42.646Z"
   },
   {
    "duration": 8,
    "start_time": "2022-04-30T17:37:42.691Z"
   },
   {
    "duration": 9,
    "start_time": "2022-04-30T17:37:42.701Z"
   },
   {
    "duration": 11,
    "start_time": "2022-04-30T17:37:42.713Z"
   },
   {
    "duration": 6,
    "start_time": "2022-04-30T17:37:42.727Z"
   },
   {
    "duration": 8,
    "start_time": "2022-04-30T17:37:42.735Z"
   },
   {
    "duration": 70,
    "start_time": "2022-04-30T17:37:42.745Z"
   },
   {
    "duration": 20,
    "start_time": "2022-04-30T17:37:42.818Z"
   },
   {
    "duration": 7,
    "start_time": "2022-04-30T17:37:42.840Z"
   },
   {
    "duration": 124,
    "start_time": "2022-04-30T17:37:42.849Z"
   },
   {
    "duration": 0,
    "start_time": "2022-04-30T17:37:42.983Z"
   },
   {
    "duration": 0,
    "start_time": "2022-04-30T17:37:42.985Z"
   },
   {
    "duration": 0,
    "start_time": "2022-04-30T17:37:42.987Z"
   },
   {
    "duration": 0,
    "start_time": "2022-04-30T17:37:42.990Z"
   },
   {
    "duration": 0,
    "start_time": "2022-04-30T17:37:42.992Z"
   },
   {
    "duration": 0,
    "start_time": "2022-04-30T17:37:42.996Z"
   },
   {
    "duration": 1,
    "start_time": "2022-04-30T17:37:42.998Z"
   },
   {
    "duration": 0,
    "start_time": "2022-04-30T17:37:43.001Z"
   },
   {
    "duration": 0,
    "start_time": "2022-04-30T17:37:43.003Z"
   },
   {
    "duration": 0,
    "start_time": "2022-04-30T17:37:43.005Z"
   },
   {
    "duration": 0,
    "start_time": "2022-04-30T17:37:43.008Z"
   },
   {
    "duration": 0,
    "start_time": "2022-04-30T17:37:43.012Z"
   },
   {
    "duration": 0,
    "start_time": "2022-04-30T17:37:43.013Z"
   },
   {
    "duration": 0,
    "start_time": "2022-04-30T17:37:43.018Z"
   },
   {
    "duration": 0,
    "start_time": "2022-04-30T17:37:43.021Z"
   },
   {
    "duration": 0,
    "start_time": "2022-04-30T17:37:43.023Z"
   },
   {
    "duration": 0,
    "start_time": "2022-04-30T17:37:43.025Z"
   },
   {
    "duration": 0,
    "start_time": "2022-04-30T17:37:43.026Z"
   },
   {
    "duration": 0,
    "start_time": "2022-04-30T17:37:43.028Z"
   },
   {
    "duration": 0,
    "start_time": "2022-04-30T17:37:43.085Z"
   },
   {
    "duration": 1,
    "start_time": "2022-04-30T17:37:43.088Z"
   },
   {
    "duration": 0,
    "start_time": "2022-04-30T17:37:43.090Z"
   },
   {
    "duration": 0,
    "start_time": "2022-04-30T17:37:43.092Z"
   },
   {
    "duration": 0,
    "start_time": "2022-04-30T17:37:43.094Z"
   },
   {
    "duration": 0,
    "start_time": "2022-04-30T17:37:43.096Z"
   },
   {
    "duration": 0,
    "start_time": "2022-04-30T17:37:43.098Z"
   },
   {
    "duration": 1,
    "start_time": "2022-04-30T17:37:43.100Z"
   },
   {
    "duration": 0,
    "start_time": "2022-04-30T17:37:43.103Z"
   },
   {
    "duration": 0,
    "start_time": "2022-04-30T17:37:43.105Z"
   },
   {
    "duration": 0,
    "start_time": "2022-04-30T17:37:43.107Z"
   },
   {
    "duration": 0,
    "start_time": "2022-04-30T17:37:43.109Z"
   },
   {
    "duration": 0,
    "start_time": "2022-04-30T17:37:43.111Z"
   },
   {
    "duration": 0,
    "start_time": "2022-04-30T17:37:43.113Z"
   },
   {
    "duration": 0,
    "start_time": "2022-04-30T17:37:43.115Z"
   },
   {
    "duration": 0,
    "start_time": "2022-04-30T17:37:43.118Z"
   },
   {
    "duration": 0,
    "start_time": "2022-04-30T17:37:43.120Z"
   },
   {
    "duration": 0,
    "start_time": "2022-04-30T17:37:43.122Z"
   },
   {
    "duration": 1,
    "start_time": "2022-04-30T17:37:43.124Z"
   },
   {
    "duration": 0,
    "start_time": "2022-04-30T17:37:43.126Z"
   },
   {
    "duration": 0,
    "start_time": "2022-04-30T17:37:43.128Z"
   },
   {
    "duration": 0,
    "start_time": "2022-04-30T17:37:43.182Z"
   },
   {
    "duration": 0,
    "start_time": "2022-04-30T17:37:43.184Z"
   },
   {
    "duration": 0,
    "start_time": "2022-04-30T17:37:43.187Z"
   },
   {
    "duration": 0,
    "start_time": "2022-04-30T17:37:43.189Z"
   },
   {
    "duration": 0,
    "start_time": "2022-04-30T17:37:43.191Z"
   },
   {
    "duration": 0,
    "start_time": "2022-04-30T17:37:43.193Z"
   },
   {
    "duration": 0,
    "start_time": "2022-04-30T17:37:43.195Z"
   },
   {
    "duration": 0,
    "start_time": "2022-04-30T17:37:43.197Z"
   },
   {
    "duration": 0,
    "start_time": "2022-04-30T17:37:43.199Z"
   },
   {
    "duration": 0,
    "start_time": "2022-04-30T17:37:43.201Z"
   },
   {
    "duration": 0,
    "start_time": "2022-04-30T17:37:43.203Z"
   },
   {
    "duration": 11,
    "start_time": "2022-04-30T17:38:06.991Z"
   },
   {
    "duration": 34,
    "start_time": "2022-04-30T17:38:09.920Z"
   },
   {
    "duration": 6,
    "start_time": "2022-04-30T17:39:44.591Z"
   },
   {
    "duration": 39,
    "start_time": "2022-04-30T17:39:45.168Z"
   },
   {
    "duration": 13,
    "start_time": "2022-04-30T17:40:49.142Z"
   },
   {
    "duration": 34,
    "start_time": "2022-04-30T17:40:49.855Z"
   },
   {
    "duration": 7,
    "start_time": "2022-04-30T17:41:07.449Z"
   },
   {
    "duration": 1702,
    "start_time": "2022-04-30T17:41:08.054Z"
   },
   {
    "duration": 573,
    "start_time": "2022-04-30T17:42:12.020Z"
   },
   {
    "duration": 3,
    "start_time": "2022-04-30T17:42:12.597Z"
   },
   {
    "duration": 341,
    "start_time": "2022-04-30T17:42:12.604Z"
   },
   {
    "duration": 655,
    "start_time": "2022-04-30T17:42:12.948Z"
   },
   {
    "duration": 4,
    "start_time": "2022-04-30T17:42:13.605Z"
   },
   {
    "duration": 6,
    "start_time": "2022-04-30T17:42:13.612Z"
   },
   {
    "duration": 8,
    "start_time": "2022-04-30T17:42:13.621Z"
   },
   {
    "duration": 7,
    "start_time": "2022-04-30T17:42:13.632Z"
   },
   {
    "duration": 50,
    "start_time": "2022-04-30T17:42:13.641Z"
   },
   {
    "duration": 19,
    "start_time": "2022-04-30T17:42:13.696Z"
   },
   {
    "duration": 17,
    "start_time": "2022-04-30T17:42:13.717Z"
   },
   {
    "duration": 14,
    "start_time": "2022-04-30T17:42:13.736Z"
   },
   {
    "duration": 52,
    "start_time": "2022-04-30T17:42:13.753Z"
   },
   {
    "duration": 33,
    "start_time": "2022-04-30T17:42:13.808Z"
   },
   {
    "duration": 64,
    "start_time": "2022-04-30T17:42:13.843Z"
   },
   {
    "duration": 14,
    "start_time": "2022-04-30T17:42:13.910Z"
   },
   {
    "duration": 21,
    "start_time": "2022-04-30T17:42:13.926Z"
   },
   {
    "duration": 55,
    "start_time": "2022-04-30T17:42:13.949Z"
   },
   {
    "duration": 27,
    "start_time": "2022-04-30T17:42:14.007Z"
   },
   {
    "duration": 9,
    "start_time": "2022-04-30T17:42:14.037Z"
   },
   {
    "duration": 75,
    "start_time": "2022-04-30T17:42:14.082Z"
   },
   {
    "duration": 94,
    "start_time": "2022-04-30T17:42:14.161Z"
   },
   {
    "duration": 61,
    "start_time": "2022-04-30T17:42:14.258Z"
   },
   {
    "duration": 31,
    "start_time": "2022-04-30T17:42:14.321Z"
   },
   {
    "duration": 5,
    "start_time": "2022-04-30T17:42:14.355Z"
   },
   {
    "duration": 31,
    "start_time": "2022-04-30T17:42:14.362Z"
   },
   {
    "duration": 21,
    "start_time": "2022-04-30T17:42:14.396Z"
   },
   {
    "duration": 68,
    "start_time": "2022-04-30T17:42:14.424Z"
   },
   {
    "duration": 25,
    "start_time": "2022-04-30T17:42:14.495Z"
   },
   {
    "duration": 5,
    "start_time": "2022-04-30T17:42:14.522Z"
   },
   {
    "duration": 17,
    "start_time": "2022-04-30T17:42:14.529Z"
   },
   {
    "duration": 60,
    "start_time": "2022-04-30T17:42:14.548Z"
   },
   {
    "duration": 25,
    "start_time": "2022-04-30T17:42:14.611Z"
   },
   {
    "duration": 90,
    "start_time": "2022-04-30T17:42:14.639Z"
   },
   {
    "duration": 20,
    "start_time": "2022-04-30T17:42:14.731Z"
   },
   {
    "duration": 40,
    "start_time": "2022-04-30T17:42:14.754Z"
   },
   {
    "duration": 52,
    "start_time": "2022-04-30T17:42:14.796Z"
   },
   {
    "duration": 41,
    "start_time": "2022-04-30T17:42:14.851Z"
   },
   {
    "duration": 12,
    "start_time": "2022-04-30T17:42:14.895Z"
   },
   {
    "duration": 24,
    "start_time": "2022-04-30T17:42:14.910Z"
   },
   {
    "duration": 93,
    "start_time": "2022-04-30T17:42:14.937Z"
   },
   {
    "duration": 27,
    "start_time": "2022-04-30T17:42:15.032Z"
   },
   {
    "duration": 39,
    "start_time": "2022-04-30T17:42:15.062Z"
   },
   {
    "duration": 38,
    "start_time": "2022-04-30T17:42:15.104Z"
   },
   {
    "duration": 19,
    "start_time": "2022-04-30T17:42:15.145Z"
   },
   {
    "duration": 49,
    "start_time": "2022-04-30T17:42:15.166Z"
   },
   {
    "duration": 21,
    "start_time": "2022-04-30T17:42:15.217Z"
   },
   {
    "duration": 57,
    "start_time": "2022-04-30T17:42:15.240Z"
   },
   {
    "duration": 18,
    "start_time": "2022-04-30T17:42:15.299Z"
   },
   {
    "duration": 24,
    "start_time": "2022-04-30T17:42:15.320Z"
   },
   {
    "duration": 58,
    "start_time": "2022-04-30T17:42:15.347Z"
   },
   {
    "duration": 5,
    "start_time": "2022-04-30T17:42:15.408Z"
   },
   {
    "duration": 30,
    "start_time": "2022-04-30T17:42:15.415Z"
   },
   {
    "duration": 38,
    "start_time": "2022-04-30T17:42:15.447Z"
   },
   {
    "duration": 32,
    "start_time": "2022-04-30T17:42:15.488Z"
   },
   {
    "duration": 12,
    "start_time": "2022-04-30T17:42:15.523Z"
   },
   {
    "duration": 50,
    "start_time": "2022-04-30T17:42:15.538Z"
   },
   {
    "duration": 36,
    "start_time": "2022-04-30T17:42:15.590Z"
   },
   {
    "duration": 12,
    "start_time": "2022-04-30T17:42:15.629Z"
   },
   {
    "duration": 12,
    "start_time": "2022-04-30T17:42:15.644Z"
   },
   {
    "duration": 11,
    "start_time": "2022-04-30T17:42:15.682Z"
   },
   {
    "duration": 20,
    "start_time": "2022-04-30T17:42:15.695Z"
   },
   {
    "duration": 7,
    "start_time": "2022-04-30T17:42:15.717Z"
   },
   {
    "duration": 9,
    "start_time": "2022-04-30T17:42:15.726Z"
   },
   {
    "duration": 52,
    "start_time": "2022-04-30T17:42:15.737Z"
   },
   {
    "duration": 17,
    "start_time": "2022-04-30T17:42:15.791Z"
   },
   {
    "duration": 12,
    "start_time": "2022-04-30T17:42:15.811Z"
   },
   {
    "duration": 8,
    "start_time": "2022-04-30T17:42:15.825Z"
   },
   {
    "duration": 1900,
    "start_time": "2022-04-30T17:42:15.835Z"
   },
   {
    "duration": 0,
    "start_time": "2022-04-30T17:42:17.740Z"
   },
   {
    "duration": 0,
    "start_time": "2022-04-30T17:42:17.741Z"
   },
   {
    "duration": 0,
    "start_time": "2022-04-30T17:42:17.743Z"
   },
   {
    "duration": 0,
    "start_time": "2022-04-30T17:42:17.745Z"
   },
   {
    "duration": 0,
    "start_time": "2022-04-30T17:42:17.747Z"
   },
   {
    "duration": 0,
    "start_time": "2022-04-30T17:42:17.748Z"
   },
   {
    "duration": 0,
    "start_time": "2022-04-30T17:42:17.750Z"
   },
   {
    "duration": 0,
    "start_time": "2022-04-30T17:42:17.751Z"
   },
   {
    "duration": 0,
    "start_time": "2022-04-30T17:42:17.753Z"
   },
   {
    "duration": 0,
    "start_time": "2022-04-30T17:42:17.755Z"
   },
   {
    "duration": 0,
    "start_time": "2022-04-30T17:42:17.756Z"
   },
   {
    "duration": 0,
    "start_time": "2022-04-30T17:42:17.758Z"
   },
   {
    "duration": 0,
    "start_time": "2022-04-30T17:42:17.759Z"
   },
   {
    "duration": 0,
    "start_time": "2022-04-30T17:42:17.761Z"
   },
   {
    "duration": 0,
    "start_time": "2022-04-30T17:42:17.763Z"
   },
   {
    "duration": 1,
    "start_time": "2022-04-30T17:42:17.764Z"
   },
   {
    "duration": 0,
    "start_time": "2022-04-30T17:42:17.766Z"
   },
   {
    "duration": 0,
    "start_time": "2022-04-30T17:42:17.768Z"
   },
   {
    "duration": 0,
    "start_time": "2022-04-30T17:42:17.769Z"
   },
   {
    "duration": 0,
    "start_time": "2022-04-30T17:42:17.770Z"
   },
   {
    "duration": 0,
    "start_time": "2022-04-30T17:42:17.772Z"
   },
   {
    "duration": 0,
    "start_time": "2022-04-30T17:42:17.774Z"
   },
   {
    "duration": 0,
    "start_time": "2022-04-30T17:42:17.786Z"
   },
   {
    "duration": 0,
    "start_time": "2022-04-30T17:42:17.788Z"
   },
   {
    "duration": 0,
    "start_time": "2022-04-30T17:42:17.789Z"
   },
   {
    "duration": 0,
    "start_time": "2022-04-30T17:42:17.791Z"
   },
   {
    "duration": 0,
    "start_time": "2022-04-30T17:42:17.793Z"
   },
   {
    "duration": 0,
    "start_time": "2022-04-30T17:42:17.795Z"
   },
   {
    "duration": 0,
    "start_time": "2022-04-30T17:42:17.797Z"
   },
   {
    "duration": 0,
    "start_time": "2022-04-30T17:42:17.798Z"
   },
   {
    "duration": 0,
    "start_time": "2022-04-30T17:42:17.800Z"
   },
   {
    "duration": 0,
    "start_time": "2022-04-30T17:42:17.801Z"
   },
   {
    "duration": 0,
    "start_time": "2022-04-30T17:42:17.802Z"
   },
   {
    "duration": 0,
    "start_time": "2022-04-30T17:42:17.808Z"
   },
   {
    "duration": 0,
    "start_time": "2022-04-30T17:42:17.810Z"
   },
   {
    "duration": 0,
    "start_time": "2022-04-30T17:42:17.812Z"
   },
   {
    "duration": 0,
    "start_time": "2022-04-30T17:42:17.815Z"
   },
   {
    "duration": 0,
    "start_time": "2022-04-30T17:42:17.816Z"
   },
   {
    "duration": 0,
    "start_time": "2022-04-30T17:42:17.818Z"
   },
   {
    "duration": 1,
    "start_time": "2022-04-30T17:42:17.819Z"
   },
   {
    "duration": 0,
    "start_time": "2022-04-30T17:42:17.822Z"
   },
   {
    "duration": 0,
    "start_time": "2022-04-30T17:42:17.824Z"
   },
   {
    "duration": 0,
    "start_time": "2022-04-30T17:42:17.825Z"
   },
   {
    "duration": 0,
    "start_time": "2022-04-30T17:42:17.827Z"
   },
   {
    "duration": 0,
    "start_time": "2022-04-30T17:42:17.829Z"
   },
   {
    "duration": 0,
    "start_time": "2022-04-30T17:42:17.889Z"
   },
   {
    "duration": 0,
    "start_time": "2022-04-30T17:42:17.890Z"
   },
   {
    "duration": 0,
    "start_time": "2022-04-30T17:42:17.891Z"
   },
   {
    "duration": 0,
    "start_time": "2022-04-30T17:42:17.893Z"
   },
   {
    "duration": 0,
    "start_time": "2022-04-30T17:42:17.894Z"
   },
   {
    "duration": 18,
    "start_time": "2022-04-30T17:45:18.726Z"
   },
   {
    "duration": 1847,
    "start_time": "2022-04-30T17:45:19.332Z"
   },
   {
    "duration": 1666,
    "start_time": "2022-04-30T17:45:42.969Z"
   },
   {
    "duration": 0,
    "start_time": "2022-04-30T17:45:44.637Z"
   },
   {
    "duration": 5,
    "start_time": "2022-04-30T17:46:11.617Z"
   },
   {
    "duration": 1660,
    "start_time": "2022-04-30T17:46:12.071Z"
   },
   {
    "duration": 7,
    "start_time": "2022-04-30T17:46:56.880Z"
   },
   {
    "duration": 1868,
    "start_time": "2022-04-30T17:47:08.776Z"
   },
   {
    "duration": 6,
    "start_time": "2022-04-30T17:49:39.334Z"
   },
   {
    "duration": 33,
    "start_time": "2022-04-30T17:49:42.744Z"
   },
   {
    "duration": 3,
    "start_time": "2022-04-30T17:49:52.241Z"
   },
   {
    "duration": 7,
    "start_time": "2022-04-30T17:49:52.765Z"
   },
   {
    "duration": 34,
    "start_time": "2022-04-30T17:50:00.723Z"
   },
   {
    "duration": 694,
    "start_time": "2022-04-30T17:50:40.903Z"
   },
   {
    "duration": 8,
    "start_time": "2022-04-30T17:50:41.600Z"
   },
   {
    "duration": 534,
    "start_time": "2022-04-30T17:50:41.611Z"
   },
   {
    "duration": 818,
    "start_time": "2022-04-30T17:50:42.152Z"
   },
   {
    "duration": 3,
    "start_time": "2022-04-30T17:50:42.973Z"
   },
   {
    "duration": 10,
    "start_time": "2022-04-30T17:50:42.983Z"
   },
   {
    "duration": 15,
    "start_time": "2022-04-30T17:50:42.996Z"
   },
   {
    "duration": 6,
    "start_time": "2022-04-30T17:50:43.014Z"
   },
   {
    "duration": 30,
    "start_time": "2022-04-30T17:50:43.023Z"
   },
   {
    "duration": 43,
    "start_time": "2022-04-30T17:50:43.059Z"
   },
   {
    "duration": 20,
    "start_time": "2022-04-30T17:50:43.105Z"
   },
   {
    "duration": 15,
    "start_time": "2022-04-30T17:50:43.128Z"
   },
   {
    "duration": 53,
    "start_time": "2022-04-30T17:50:43.146Z"
   },
   {
    "duration": 56,
    "start_time": "2022-04-30T17:50:43.202Z"
   },
   {
    "duration": 49,
    "start_time": "2022-04-30T17:50:43.282Z"
   },
   {
    "duration": 21,
    "start_time": "2022-04-30T17:50:43.334Z"
   },
   {
    "duration": 43,
    "start_time": "2022-04-30T17:50:43.358Z"
   },
   {
    "duration": 47,
    "start_time": "2022-04-30T17:50:43.404Z"
   },
   {
    "duration": 51,
    "start_time": "2022-04-30T17:50:43.454Z"
   },
   {
    "duration": 8,
    "start_time": "2022-04-30T17:50:43.508Z"
   },
   {
    "duration": 101,
    "start_time": "2022-04-30T17:50:43.520Z"
   },
   {
    "duration": 65,
    "start_time": "2022-04-30T17:50:43.626Z"
   },
   {
    "duration": 40,
    "start_time": "2022-04-30T17:50:43.693Z"
   },
   {
    "duration": 53,
    "start_time": "2022-04-30T17:50:43.736Z"
   },
   {
    "duration": 7,
    "start_time": "2022-04-30T17:50:43.792Z"
   },
   {
    "duration": 25,
    "start_time": "2022-04-30T17:50:43.802Z"
   },
   {
    "duration": 31,
    "start_time": "2022-04-30T17:50:43.829Z"
   },
   {
    "duration": 40,
    "start_time": "2022-04-30T17:50:43.889Z"
   },
   {
    "duration": 50,
    "start_time": "2022-04-30T17:50:43.932Z"
   },
   {
    "duration": 7,
    "start_time": "2022-04-30T17:50:43.985Z"
   },
   {
    "duration": 19,
    "start_time": "2022-04-30T17:50:43.995Z"
   },
   {
    "duration": 65,
    "start_time": "2022-04-30T17:50:44.017Z"
   },
   {
    "duration": 19,
    "start_time": "2022-04-30T17:50:44.084Z"
   },
   {
    "duration": 90,
    "start_time": "2022-04-30T17:50:44.105Z"
   },
   {
    "duration": 20,
    "start_time": "2022-04-30T17:50:44.198Z"
   },
   {
    "duration": 15,
    "start_time": "2022-04-30T17:50:44.220Z"
   },
   {
    "duration": 87,
    "start_time": "2022-04-30T17:50:44.238Z"
   },
   {
    "duration": 27,
    "start_time": "2022-04-30T17:50:44.327Z"
   },
   {
    "duration": 30,
    "start_time": "2022-04-30T17:50:44.356Z"
   },
   {
    "duration": 32,
    "start_time": "2022-04-30T17:50:44.389Z"
   },
   {
    "duration": 119,
    "start_time": "2022-04-30T17:50:44.424Z"
   },
   {
    "duration": 42,
    "start_time": "2022-04-30T17:50:44.546Z"
   },
   {
    "duration": 24,
    "start_time": "2022-04-30T17:50:44.591Z"
   },
   {
    "duration": 35,
    "start_time": "2022-04-30T17:50:44.618Z"
   },
   {
    "duration": 21,
    "start_time": "2022-04-30T17:50:44.682Z"
   },
   {
    "duration": 32,
    "start_time": "2022-04-30T17:50:44.705Z"
   },
   {
    "duration": 51,
    "start_time": "2022-04-30T17:50:44.739Z"
   },
   {
    "duration": 34,
    "start_time": "2022-04-30T17:50:44.793Z"
   },
   {
    "duration": 23,
    "start_time": "2022-04-30T17:50:44.830Z"
   },
   {
    "duration": 20,
    "start_time": "2022-04-30T17:50:44.883Z"
   },
   {
    "duration": 21,
    "start_time": "2022-04-30T17:50:44.905Z"
   },
   {
    "duration": 5,
    "start_time": "2022-04-30T17:50:44.929Z"
   },
   {
    "duration": 59,
    "start_time": "2022-04-30T17:50:44.937Z"
   },
   {
    "duration": 28,
    "start_time": "2022-04-30T17:50:44.999Z"
   },
   {
    "duration": 64,
    "start_time": "2022-04-30T17:50:45.030Z"
   },
   {
    "duration": 16,
    "start_time": "2022-04-30T17:50:45.097Z"
   },
   {
    "duration": 23,
    "start_time": "2022-04-30T17:50:45.116Z"
   },
   {
    "duration": 63,
    "start_time": "2022-04-30T17:50:45.141Z"
   },
   {
    "duration": 10,
    "start_time": "2022-04-30T17:50:45.206Z"
   },
   {
    "duration": 11,
    "start_time": "2022-04-30T17:50:45.218Z"
   },
   {
    "duration": 8,
    "start_time": "2022-04-30T17:50:45.232Z"
   },
   {
    "duration": 47,
    "start_time": "2022-04-30T17:50:45.243Z"
   },
   {
    "duration": 8,
    "start_time": "2022-04-30T17:50:45.293Z"
   },
   {
    "duration": 10,
    "start_time": "2022-04-30T17:50:45.303Z"
   },
   {
    "duration": 36,
    "start_time": "2022-04-30T17:50:45.316Z"
   },
   {
    "duration": 37,
    "start_time": "2022-04-30T17:50:45.355Z"
   },
   {
    "duration": 13,
    "start_time": "2022-04-30T17:50:45.396Z"
   },
   {
    "duration": 18,
    "start_time": "2022-04-30T17:50:45.412Z"
   },
   {
    "duration": 253,
    "start_time": "2022-04-30T17:50:45.433Z"
   },
   {
    "duration": 0,
    "start_time": "2022-04-30T17:50:45.692Z"
   },
   {
    "duration": 0,
    "start_time": "2022-04-30T17:50:45.695Z"
   },
   {
    "duration": 0,
    "start_time": "2022-04-30T17:50:45.697Z"
   },
   {
    "duration": 0,
    "start_time": "2022-04-30T17:50:45.699Z"
   },
   {
    "duration": 0,
    "start_time": "2022-04-30T17:50:45.701Z"
   },
   {
    "duration": 0,
    "start_time": "2022-04-30T17:50:45.703Z"
   },
   {
    "duration": 0,
    "start_time": "2022-04-30T17:50:45.705Z"
   },
   {
    "duration": 0,
    "start_time": "2022-04-30T17:50:45.707Z"
   },
   {
    "duration": 0,
    "start_time": "2022-04-30T17:50:45.708Z"
   },
   {
    "duration": 0,
    "start_time": "2022-04-30T17:50:45.710Z"
   },
   {
    "duration": 1,
    "start_time": "2022-04-30T17:50:45.712Z"
   },
   {
    "duration": 0,
    "start_time": "2022-04-30T17:50:45.715Z"
   },
   {
    "duration": 0,
    "start_time": "2022-04-30T17:50:45.717Z"
   },
   {
    "duration": 0,
    "start_time": "2022-04-30T17:50:45.719Z"
   },
   {
    "duration": 0,
    "start_time": "2022-04-30T17:50:45.721Z"
   },
   {
    "duration": 0,
    "start_time": "2022-04-30T17:50:45.723Z"
   },
   {
    "duration": 0,
    "start_time": "2022-04-30T17:50:45.785Z"
   },
   {
    "duration": 1,
    "start_time": "2022-04-30T17:50:45.788Z"
   },
   {
    "duration": 0,
    "start_time": "2022-04-30T17:50:45.790Z"
   },
   {
    "duration": 0,
    "start_time": "2022-04-30T17:50:45.792Z"
   },
   {
    "duration": 0,
    "start_time": "2022-04-30T17:50:45.795Z"
   },
   {
    "duration": 0,
    "start_time": "2022-04-30T17:50:45.797Z"
   },
   {
    "duration": 0,
    "start_time": "2022-04-30T17:50:45.799Z"
   },
   {
    "duration": 0,
    "start_time": "2022-04-30T17:50:45.800Z"
   },
   {
    "duration": 1,
    "start_time": "2022-04-30T17:50:45.802Z"
   },
   {
    "duration": 0,
    "start_time": "2022-04-30T17:50:45.804Z"
   },
   {
    "duration": 0,
    "start_time": "2022-04-30T17:50:45.806Z"
   },
   {
    "duration": 0,
    "start_time": "2022-04-30T17:50:45.807Z"
   },
   {
    "duration": 0,
    "start_time": "2022-04-30T17:50:45.809Z"
   },
   {
    "duration": 0,
    "start_time": "2022-04-30T17:50:45.810Z"
   },
   {
    "duration": 0,
    "start_time": "2022-04-30T17:50:45.812Z"
   },
   {
    "duration": 0,
    "start_time": "2022-04-30T17:50:45.813Z"
   },
   {
    "duration": 0,
    "start_time": "2022-04-30T17:50:45.815Z"
   },
   {
    "duration": 0,
    "start_time": "2022-04-30T17:50:45.816Z"
   },
   {
    "duration": 0,
    "start_time": "2022-04-30T17:50:45.818Z"
   },
   {
    "duration": 0,
    "start_time": "2022-04-30T17:50:45.820Z"
   },
   {
    "duration": 0,
    "start_time": "2022-04-30T17:50:45.821Z"
   },
   {
    "duration": 0,
    "start_time": "2022-04-30T17:50:45.822Z"
   },
   {
    "duration": 0,
    "start_time": "2022-04-30T17:50:45.824Z"
   },
   {
    "duration": 0,
    "start_time": "2022-04-30T17:50:45.825Z"
   },
   {
    "duration": 0,
    "start_time": "2022-04-30T17:50:45.882Z"
   },
   {
    "duration": 0,
    "start_time": "2022-04-30T17:50:45.883Z"
   },
   {
    "duration": 0,
    "start_time": "2022-04-30T17:50:45.885Z"
   },
   {
    "duration": 0,
    "start_time": "2022-04-30T17:50:45.886Z"
   },
   {
    "duration": 0,
    "start_time": "2022-04-30T17:50:45.888Z"
   },
   {
    "duration": 0,
    "start_time": "2022-04-30T17:50:45.890Z"
   },
   {
    "duration": 0,
    "start_time": "2022-04-30T17:50:45.891Z"
   },
   {
    "duration": 0,
    "start_time": "2022-04-30T17:50:45.893Z"
   },
   {
    "duration": 0,
    "start_time": "2022-04-30T17:50:45.894Z"
   },
   {
    "duration": 1,
    "start_time": "2022-04-30T17:50:45.896Z"
   },
   {
    "duration": 7,
    "start_time": "2022-04-30T17:51:13.752Z"
   },
   {
    "duration": 47,
    "start_time": "2022-04-30T17:51:16.148Z"
   },
   {
    "duration": 1787,
    "start_time": "2022-04-30T17:52:08.031Z"
   },
   {
    "duration": 0,
    "start_time": "2022-04-30T17:52:09.822Z"
   },
   {
    "duration": 13,
    "start_time": "2022-04-30T17:52:38.402Z"
   },
   {
    "duration": 31,
    "start_time": "2022-04-30T17:52:38.925Z"
   },
   {
    "duration": 640,
    "start_time": "2022-04-30T17:52:51.258Z"
   },
   {
    "duration": 4,
    "start_time": "2022-04-30T17:52:51.900Z"
   },
   {
    "duration": 390,
    "start_time": "2022-04-30T17:52:51.907Z"
   },
   {
    "duration": 583,
    "start_time": "2022-04-30T17:52:52.301Z"
   },
   {
    "duration": 4,
    "start_time": "2022-04-30T17:52:52.886Z"
   },
   {
    "duration": 10,
    "start_time": "2022-04-30T17:52:52.892Z"
   },
   {
    "duration": 8,
    "start_time": "2022-04-30T17:52:52.904Z"
   },
   {
    "duration": 7,
    "start_time": "2022-04-30T17:52:52.914Z"
   },
   {
    "duration": 21,
    "start_time": "2022-04-30T17:52:52.924Z"
   },
   {
    "duration": 24,
    "start_time": "2022-04-30T17:52:52.984Z"
   },
   {
    "duration": 34,
    "start_time": "2022-04-30T17:52:53.011Z"
   },
   {
    "duration": 34,
    "start_time": "2022-04-30T17:52:53.048Z"
   },
   {
    "duration": 26,
    "start_time": "2022-04-30T17:52:53.084Z"
   },
   {
    "duration": 75,
    "start_time": "2022-04-30T17:52:53.112Z"
   },
   {
    "duration": 30,
    "start_time": "2022-04-30T17:52:53.189Z"
   },
   {
    "duration": 18,
    "start_time": "2022-04-30T17:52:53.222Z"
   },
   {
    "duration": 46,
    "start_time": "2022-04-30T17:52:53.242Z"
   },
   {
    "duration": 26,
    "start_time": "2022-04-30T17:52:53.291Z"
   },
   {
    "duration": 30,
    "start_time": "2022-04-30T17:52:53.320Z"
   },
   {
    "duration": 33,
    "start_time": "2022-04-30T17:52:53.352Z"
   },
   {
    "duration": 55,
    "start_time": "2022-04-30T17:52:53.388Z"
   },
   {
    "duration": 70,
    "start_time": "2022-04-30T17:52:53.445Z"
   },
   {
    "duration": 37,
    "start_time": "2022-04-30T17:52:53.518Z"
   },
   {
    "duration": 45,
    "start_time": "2022-04-30T17:52:53.557Z"
   },
   {
    "duration": 6,
    "start_time": "2022-04-30T17:52:53.604Z"
   },
   {
    "duration": 23,
    "start_time": "2022-04-30T17:52:53.613Z"
   },
   {
    "duration": 44,
    "start_time": "2022-04-30T17:52:53.638Z"
   },
   {
    "duration": 32,
    "start_time": "2022-04-30T17:52:53.689Z"
   },
   {
    "duration": 25,
    "start_time": "2022-04-30T17:52:53.723Z"
   },
   {
    "duration": 6,
    "start_time": "2022-04-30T17:52:53.750Z"
   },
   {
    "duration": 10,
    "start_time": "2022-04-30T17:52:53.781Z"
   },
   {
    "duration": 44,
    "start_time": "2022-04-30T17:52:53.793Z"
   },
   {
    "duration": 44,
    "start_time": "2022-04-30T17:52:53.839Z"
   },
   {
    "duration": 51,
    "start_time": "2022-04-30T17:52:53.886Z"
   },
   {
    "duration": 15,
    "start_time": "2022-04-30T17:52:53.939Z"
   },
   {
    "duration": 29,
    "start_time": "2022-04-30T17:52:53.957Z"
   },
   {
    "duration": 47,
    "start_time": "2022-04-30T17:52:53.988Z"
   },
   {
    "duration": 19,
    "start_time": "2022-04-30T17:52:54.037Z"
   },
   {
    "duration": 7,
    "start_time": "2022-04-30T17:52:54.082Z"
   },
   {
    "duration": 30,
    "start_time": "2022-04-30T17:52:54.091Z"
   },
   {
    "duration": 115,
    "start_time": "2022-04-30T17:52:54.124Z"
   },
   {
    "duration": 42,
    "start_time": "2022-04-30T17:52:54.242Z"
   },
   {
    "duration": 22,
    "start_time": "2022-04-30T17:52:54.287Z"
   },
   {
    "duration": 33,
    "start_time": "2022-04-30T17:52:54.312Z"
   },
   {
    "duration": 54,
    "start_time": "2022-04-30T17:52:54.347Z"
   },
   {
    "duration": 44,
    "start_time": "2022-04-30T17:52:54.404Z"
   },
   {
    "duration": 49,
    "start_time": "2022-04-30T17:52:54.450Z"
   },
   {
    "duration": 34,
    "start_time": "2022-04-30T17:52:54.502Z"
   },
   {
    "duration": 49,
    "start_time": "2022-04-30T17:52:54.540Z"
   },
   {
    "duration": 22,
    "start_time": "2022-04-30T17:52:54.592Z"
   },
   {
    "duration": 65,
    "start_time": "2022-04-30T17:52:54.617Z"
   },
   {
    "duration": 4,
    "start_time": "2022-04-30T17:52:54.685Z"
   },
   {
    "duration": 34,
    "start_time": "2022-04-30T17:52:54.692Z"
   },
   {
    "duration": 17,
    "start_time": "2022-04-30T17:52:54.729Z"
   },
   {
    "duration": 72,
    "start_time": "2022-04-30T17:52:54.749Z"
   },
   {
    "duration": 13,
    "start_time": "2022-04-30T17:52:54.824Z"
   },
   {
    "duration": 51,
    "start_time": "2022-04-30T17:52:54.840Z"
   },
   {
    "duration": 46,
    "start_time": "2022-04-30T17:52:54.894Z"
   },
   {
    "duration": 43,
    "start_time": "2022-04-30T17:52:54.944Z"
   },
   {
    "duration": 10,
    "start_time": "2022-04-30T17:52:54.989Z"
   },
   {
    "duration": 6,
    "start_time": "2022-04-30T17:52:55.002Z"
   },
   {
    "duration": 19,
    "start_time": "2022-04-30T17:52:55.011Z"
   },
   {
    "duration": 7,
    "start_time": "2022-04-30T17:52:55.032Z"
   },
   {
    "duration": 41,
    "start_time": "2022-04-30T17:52:55.041Z"
   },
   {
    "duration": 30,
    "start_time": "2022-04-30T17:52:55.084Z"
   },
   {
    "duration": 25,
    "start_time": "2022-04-30T17:52:55.118Z"
   },
   {
    "duration": 5,
    "start_time": "2022-04-30T17:52:55.146Z"
   },
   {
    "duration": 2309,
    "start_time": "2022-04-30T17:52:55.182Z"
   },
   {
    "duration": 0,
    "start_time": "2022-04-30T17:52:57.496Z"
   },
   {
    "duration": 1,
    "start_time": "2022-04-30T17:52:57.499Z"
   },
   {
    "duration": 0,
    "start_time": "2022-04-30T17:52:57.502Z"
   },
   {
    "duration": 0,
    "start_time": "2022-04-30T17:52:57.503Z"
   },
   {
    "duration": 1,
    "start_time": "2022-04-30T17:52:57.505Z"
   },
   {
    "duration": 0,
    "start_time": "2022-04-30T17:52:57.507Z"
   },
   {
    "duration": 0,
    "start_time": "2022-04-30T17:52:57.508Z"
   },
   {
    "duration": 0,
    "start_time": "2022-04-30T17:52:57.510Z"
   },
   {
    "duration": 0,
    "start_time": "2022-04-30T17:52:57.512Z"
   },
   {
    "duration": 0,
    "start_time": "2022-04-30T17:52:57.514Z"
   },
   {
    "duration": 0,
    "start_time": "2022-04-30T17:52:57.516Z"
   },
   {
    "duration": 0,
    "start_time": "2022-04-30T17:52:57.517Z"
   },
   {
    "duration": 0,
    "start_time": "2022-04-30T17:52:57.519Z"
   },
   {
    "duration": 0,
    "start_time": "2022-04-30T17:52:57.520Z"
   },
   {
    "duration": 0,
    "start_time": "2022-04-30T17:52:57.522Z"
   },
   {
    "duration": 0,
    "start_time": "2022-04-30T17:52:57.523Z"
   },
   {
    "duration": 0,
    "start_time": "2022-04-30T17:52:57.525Z"
   },
   {
    "duration": 0,
    "start_time": "2022-04-30T17:52:57.527Z"
   },
   {
    "duration": 0,
    "start_time": "2022-04-30T17:52:57.529Z"
   },
   {
    "duration": 0,
    "start_time": "2022-04-30T17:52:57.531Z"
   },
   {
    "duration": 0,
    "start_time": "2022-04-30T17:52:57.533Z"
   },
   {
    "duration": 0,
    "start_time": "2022-04-30T17:52:57.584Z"
   },
   {
    "duration": 0,
    "start_time": "2022-04-30T17:52:57.586Z"
   },
   {
    "duration": 0,
    "start_time": "2022-04-30T17:52:57.589Z"
   },
   {
    "duration": 0,
    "start_time": "2022-04-30T17:52:57.590Z"
   },
   {
    "duration": 0,
    "start_time": "2022-04-30T17:52:57.592Z"
   },
   {
    "duration": 0,
    "start_time": "2022-04-30T17:52:57.595Z"
   },
   {
    "duration": 1,
    "start_time": "2022-04-30T17:52:57.596Z"
   },
   {
    "duration": 0,
    "start_time": "2022-04-30T17:52:57.598Z"
   },
   {
    "duration": 0,
    "start_time": "2022-04-30T17:52:57.600Z"
   },
   {
    "duration": 0,
    "start_time": "2022-04-30T17:52:57.603Z"
   },
   {
    "duration": 0,
    "start_time": "2022-04-30T17:52:57.604Z"
   },
   {
    "duration": 0,
    "start_time": "2022-04-30T17:52:57.607Z"
   },
   {
    "duration": 0,
    "start_time": "2022-04-30T17:52:57.609Z"
   },
   {
    "duration": 0,
    "start_time": "2022-04-30T17:52:57.611Z"
   },
   {
    "duration": 0,
    "start_time": "2022-04-30T17:52:57.613Z"
   },
   {
    "duration": 0,
    "start_time": "2022-04-30T17:52:57.615Z"
   },
   {
    "duration": 0,
    "start_time": "2022-04-30T17:52:57.617Z"
   },
   {
    "duration": 0,
    "start_time": "2022-04-30T17:52:57.619Z"
   },
   {
    "duration": 0,
    "start_time": "2022-04-30T17:52:57.682Z"
   },
   {
    "duration": 0,
    "start_time": "2022-04-30T17:52:57.684Z"
   },
   {
    "duration": 0,
    "start_time": "2022-04-30T17:52:57.686Z"
   },
   {
    "duration": 0,
    "start_time": "2022-04-30T17:52:57.689Z"
   },
   {
    "duration": 0,
    "start_time": "2022-04-30T17:52:57.690Z"
   },
   {
    "duration": 0,
    "start_time": "2022-04-30T17:52:57.693Z"
   },
   {
    "duration": 0,
    "start_time": "2022-04-30T17:52:57.695Z"
   },
   {
    "duration": 0,
    "start_time": "2022-04-30T17:52:57.697Z"
   },
   {
    "duration": 0,
    "start_time": "2022-04-30T17:52:57.699Z"
   },
   {
    "duration": 0,
    "start_time": "2022-04-30T17:52:57.701Z"
   },
   {
    "duration": 0,
    "start_time": "2022-04-30T17:52:57.703Z"
   },
   {
    "duration": 0,
    "start_time": "2022-04-30T17:52:57.705Z"
   },
   {
    "duration": 7,
    "start_time": "2022-04-30T17:54:08.593Z"
   },
   {
    "duration": 50,
    "start_time": "2022-04-30T17:54:12.850Z"
   },
   {
    "duration": 5,
    "start_time": "2022-04-30T17:56:08.131Z"
   },
   {
    "duration": 11,
    "start_time": "2022-04-30T17:56:12.511Z"
   },
   {
    "duration": 5,
    "start_time": "2022-04-30T17:56:12.856Z"
   },
   {
    "duration": 1741,
    "start_time": "2022-04-30T17:56:13.236Z"
   },
   {
    "duration": 10,
    "start_time": "2022-04-30T17:56:25.431Z"
   },
   {
    "duration": 554,
    "start_time": "2022-04-30T17:56:54.006Z"
   },
   {
    "duration": 19,
    "start_time": "2022-04-30T17:56:54.563Z"
   },
   {
    "duration": 366,
    "start_time": "2022-04-30T17:56:54.584Z"
   },
   {
    "duration": 1470,
    "start_time": "2022-04-30T17:56:54.954Z"
   },
   {
    "duration": 4,
    "start_time": "2022-04-30T17:56:56.426Z"
   },
   {
    "duration": 8,
    "start_time": "2022-04-30T17:56:56.433Z"
   },
   {
    "duration": 10,
    "start_time": "2022-04-30T17:56:56.443Z"
   },
   {
    "duration": 218,
    "start_time": "2022-04-30T17:56:56.455Z"
   },
   {
    "duration": 27,
    "start_time": "2022-04-30T17:56:56.676Z"
   },
   {
    "duration": 16,
    "start_time": "2022-04-30T17:56:56.707Z"
   },
   {
    "duration": 19,
    "start_time": "2022-04-30T17:56:56.725Z"
   },
   {
    "duration": 12,
    "start_time": "2022-04-30T17:56:56.746Z"
   },
   {
    "duration": 48,
    "start_time": "2022-04-30T17:56:56.760Z"
   },
   {
    "duration": 36,
    "start_time": "2022-04-30T17:56:56.810Z"
   },
   {
    "duration": 53,
    "start_time": "2022-04-30T17:56:56.848Z"
   },
   {
    "duration": 15,
    "start_time": "2022-04-30T17:56:56.903Z"
   },
   {
    "duration": 21,
    "start_time": "2022-04-30T17:56:56.921Z"
   },
   {
    "duration": 60,
    "start_time": "2022-04-30T17:56:56.945Z"
   },
   {
    "duration": 22,
    "start_time": "2022-04-30T17:56:57.008Z"
   },
   {
    "duration": 6,
    "start_time": "2022-04-30T17:56:57.033Z"
   },
   {
    "duration": 85,
    "start_time": "2022-04-30T17:56:57.041Z"
   },
   {
    "duration": 63,
    "start_time": "2022-04-30T17:56:57.129Z"
   },
   {
    "duration": 36,
    "start_time": "2022-04-30T17:56:57.197Z"
   },
   {
    "duration": 62,
    "start_time": "2022-04-30T17:56:57.235Z"
   },
   {
    "duration": 7,
    "start_time": "2022-04-30T17:56:57.299Z"
   },
   {
    "duration": 20,
    "start_time": "2022-04-30T17:56:57.309Z"
   },
   {
    "duration": 50,
    "start_time": "2022-04-30T17:56:57.332Z"
   },
   {
    "duration": 41,
    "start_time": "2022-04-30T17:56:57.392Z"
   },
   {
    "duration": 48,
    "start_time": "2022-04-30T17:56:57.436Z"
   },
   {
    "duration": 6,
    "start_time": "2022-04-30T17:56:57.487Z"
   },
   {
    "duration": 12,
    "start_time": "2022-04-30T17:56:57.496Z"
   },
   {
    "duration": 76,
    "start_time": "2022-04-30T17:56:57.510Z"
   },
   {
    "duration": 24,
    "start_time": "2022-04-30T17:56:57.588Z"
   },
   {
    "duration": 86,
    "start_time": "2022-04-30T17:56:57.614Z"
   },
   {
    "duration": 19,
    "start_time": "2022-04-30T17:56:57.703Z"
   },
   {
    "duration": 14,
    "start_time": "2022-04-30T17:56:57.724Z"
   },
   {
    "duration": 73,
    "start_time": "2022-04-30T17:56:57.740Z"
   },
   {
    "duration": 23,
    "start_time": "2022-04-30T17:56:57.816Z"
   },
   {
    "duration": 11,
    "start_time": "2022-04-30T17:56:57.842Z"
   },
   {
    "duration": 53,
    "start_time": "2022-04-30T17:56:57.855Z"
   },
   {
    "duration": 85,
    "start_time": "2022-04-30T17:56:57.911Z"
   },
   {
    "duration": 23,
    "start_time": "2022-04-30T17:56:57.998Z"
   },
   {
    "duration": 27,
    "start_time": "2022-04-30T17:56:58.023Z"
   },
   {
    "duration": 53,
    "start_time": "2022-04-30T17:56:58.053Z"
   },
   {
    "duration": 18,
    "start_time": "2022-04-30T17:56:58.109Z"
   },
   {
    "duration": 32,
    "start_time": "2022-04-30T17:56:58.130Z"
   },
   {
    "duration": 33,
    "start_time": "2022-04-30T17:56:58.164Z"
   },
   {
    "duration": 22,
    "start_time": "2022-04-30T17:56:58.200Z"
   },
   {
    "duration": 16,
    "start_time": "2022-04-30T17:56:58.224Z"
   },
   {
    "duration": 53,
    "start_time": "2022-04-30T17:56:58.242Z"
   },
   {
    "duration": 21,
    "start_time": "2022-04-30T17:56:58.297Z"
   },
   {
    "duration": 6,
    "start_time": "2022-04-30T17:56:58.321Z"
   },
   {
    "duration": 23,
    "start_time": "2022-04-30T17:56:58.330Z"
   },
   {
    "duration": 16,
    "start_time": "2022-04-30T17:56:58.382Z"
   },
   {
    "duration": 31,
    "start_time": "2022-04-30T17:56:58.401Z"
   },
   {
    "duration": 10,
    "start_time": "2022-04-30T17:56:58.434Z"
   },
   {
    "duration": 49,
    "start_time": "2022-04-30T17:56:58.446Z"
   },
   {
    "duration": 30,
    "start_time": "2022-04-30T17:56:58.498Z"
   },
   {
    "duration": 11,
    "start_time": "2022-04-30T17:56:58.530Z"
   },
   {
    "duration": 39,
    "start_time": "2022-04-30T17:56:58.543Z"
   },
   {
    "duration": 10,
    "start_time": "2022-04-30T17:56:58.584Z"
   },
   {
    "duration": 11,
    "start_time": "2022-04-30T17:56:58.596Z"
   },
   {
    "duration": 5,
    "start_time": "2022-04-30T17:56:58.610Z"
   },
   {
    "duration": 8,
    "start_time": "2022-04-30T17:56:58.617Z"
   },
   {
    "duration": 56,
    "start_time": "2022-04-30T17:56:58.627Z"
   },
   {
    "duration": 13,
    "start_time": "2022-04-30T17:56:58.685Z"
   },
   {
    "duration": 9,
    "start_time": "2022-04-30T17:56:58.700Z"
   },
   {
    "duration": 9,
    "start_time": "2022-04-30T17:56:58.711Z"
   },
   {
    "duration": 1913,
    "start_time": "2022-04-30T17:56:58.723Z"
   },
   {
    "duration": 0,
    "start_time": "2022-04-30T17:57:00.641Z"
   },
   {
    "duration": 0,
    "start_time": "2022-04-30T17:57:00.643Z"
   },
   {
    "duration": 0,
    "start_time": "2022-04-30T17:57:00.645Z"
   },
   {
    "duration": 0,
    "start_time": "2022-04-30T17:57:00.646Z"
   },
   {
    "duration": 0,
    "start_time": "2022-04-30T17:57:00.648Z"
   },
   {
    "duration": 0,
    "start_time": "2022-04-30T17:57:00.649Z"
   },
   {
    "duration": 0,
    "start_time": "2022-04-30T17:57:00.651Z"
   },
   {
    "duration": 0,
    "start_time": "2022-04-30T17:57:00.653Z"
   },
   {
    "duration": 0,
    "start_time": "2022-04-30T17:57:00.654Z"
   },
   {
    "duration": 0,
    "start_time": "2022-04-30T17:57:00.656Z"
   },
   {
    "duration": 0,
    "start_time": "2022-04-30T17:57:00.657Z"
   },
   {
    "duration": 0,
    "start_time": "2022-04-30T17:57:00.659Z"
   },
   {
    "duration": 0,
    "start_time": "2022-04-30T17:57:00.660Z"
   },
   {
    "duration": 0,
    "start_time": "2022-04-30T17:57:00.662Z"
   },
   {
    "duration": 0,
    "start_time": "2022-04-30T17:57:00.663Z"
   },
   {
    "duration": 0,
    "start_time": "2022-04-30T17:57:00.665Z"
   },
   {
    "duration": 0,
    "start_time": "2022-04-30T17:57:00.666Z"
   },
   {
    "duration": 0,
    "start_time": "2022-04-30T17:57:00.668Z"
   },
   {
    "duration": 0,
    "start_time": "2022-04-30T17:57:00.670Z"
   },
   {
    "duration": 0,
    "start_time": "2022-04-30T17:57:00.671Z"
   },
   {
    "duration": 0,
    "start_time": "2022-04-30T17:57:00.673Z"
   },
   {
    "duration": 0,
    "start_time": "2022-04-30T17:57:00.674Z"
   },
   {
    "duration": 0,
    "start_time": "2022-04-30T17:57:00.676Z"
   },
   {
    "duration": 0,
    "start_time": "2022-04-30T17:57:00.677Z"
   },
   {
    "duration": 0,
    "start_time": "2022-04-30T17:57:00.679Z"
   },
   {
    "duration": 0,
    "start_time": "2022-04-30T17:57:00.681Z"
   },
   {
    "duration": 0,
    "start_time": "2022-04-30T17:57:00.683Z"
   },
   {
    "duration": 0,
    "start_time": "2022-04-30T17:57:00.684Z"
   },
   {
    "duration": 0,
    "start_time": "2022-04-30T17:57:00.686Z"
   },
   {
    "duration": 0,
    "start_time": "2022-04-30T17:57:00.687Z"
   },
   {
    "duration": 0,
    "start_time": "2022-04-30T17:57:00.688Z"
   },
   {
    "duration": 0,
    "start_time": "2022-04-30T17:57:00.690Z"
   },
   {
    "duration": 0,
    "start_time": "2022-04-30T17:57:00.691Z"
   },
   {
    "duration": 0,
    "start_time": "2022-04-30T17:57:00.693Z"
   },
   {
    "duration": 0,
    "start_time": "2022-04-30T17:57:00.694Z"
   },
   {
    "duration": 0,
    "start_time": "2022-04-30T17:57:00.696Z"
   },
   {
    "duration": 0,
    "start_time": "2022-04-30T17:57:00.697Z"
   },
   {
    "duration": 0,
    "start_time": "2022-04-30T17:57:00.698Z"
   },
   {
    "duration": 0,
    "start_time": "2022-04-30T17:57:00.700Z"
   },
   {
    "duration": 0,
    "start_time": "2022-04-30T17:57:00.702Z"
   },
   {
    "duration": 0,
    "start_time": "2022-04-30T17:57:00.704Z"
   },
   {
    "duration": 0,
    "start_time": "2022-04-30T17:57:00.706Z"
   },
   {
    "duration": 0,
    "start_time": "2022-04-30T17:57:00.708Z"
   },
   {
    "duration": 0,
    "start_time": "2022-04-30T17:57:00.710Z"
   },
   {
    "duration": 0,
    "start_time": "2022-04-30T17:57:00.712Z"
   },
   {
    "duration": 0,
    "start_time": "2022-04-30T17:57:00.714Z"
   },
   {
    "duration": 0,
    "start_time": "2022-04-30T17:57:00.716Z"
   },
   {
    "duration": 0,
    "start_time": "2022-04-30T17:57:00.718Z"
   },
   {
    "duration": 0,
    "start_time": "2022-04-30T17:57:00.719Z"
   },
   {
    "duration": 0,
    "start_time": "2022-04-30T17:57:00.721Z"
   },
   {
    "duration": 32,
    "start_time": "2022-04-30T17:58:23.367Z"
   },
   {
    "duration": 2065,
    "start_time": "2022-04-30T17:58:30.498Z"
   },
   {
    "duration": 23,
    "start_time": "2022-04-30T17:58:46.484Z"
   },
   {
    "duration": 2131,
    "start_time": "2022-04-30T17:59:02.886Z"
   },
   {
    "duration": 1782,
    "start_time": "2022-04-30T18:00:59.416Z"
   },
   {
    "duration": 0,
    "start_time": "2022-04-30T18:01:01.201Z"
   },
   {
    "duration": 6,
    "start_time": "2022-04-30T18:01:44.427Z"
   },
   {
    "duration": 5,
    "start_time": "2022-04-30T18:02:12.819Z"
   },
   {
    "duration": 64,
    "start_time": "2022-04-30T18:02:13.303Z"
   },
   {
    "duration": 51,
    "start_time": "2022-04-30T18:02:17.296Z"
   },
   {
    "duration": 12,
    "start_time": "2022-04-30T18:03:45.001Z"
   },
   {
    "duration": 7,
    "start_time": "2022-04-30T18:04:23.089Z"
   },
   {
    "duration": 7,
    "start_time": "2022-04-30T18:04:47.664Z"
   },
   {
    "duration": 6,
    "start_time": "2022-04-30T18:05:07.124Z"
   },
   {
    "duration": 7,
    "start_time": "2022-04-30T18:05:42.198Z"
   },
   {
    "duration": 5,
    "start_time": "2022-04-30T18:06:43.775Z"
   },
   {
    "duration": 6,
    "start_time": "2022-04-30T18:06:49.265Z"
   },
   {
    "duration": 13,
    "start_time": "2022-04-30T18:06:58.717Z"
   },
   {
    "duration": 6,
    "start_time": "2022-04-30T18:09:02.015Z"
   },
   {
    "duration": 4,
    "start_time": "2022-04-30T18:09:02.433Z"
   },
   {
    "duration": 63,
    "start_time": "2022-04-30T18:09:09.680Z"
   },
   {
    "duration": 36,
    "start_time": "2022-04-30T18:09:10.295Z"
   },
   {
    "duration": 6,
    "start_time": "2022-04-30T18:09:26.515Z"
   },
   {
    "duration": 5,
    "start_time": "2022-04-30T18:09:26.741Z"
   },
   {
    "duration": 1685,
    "start_time": "2022-04-30T18:09:27.221Z"
   },
   {
    "duration": 1572,
    "start_time": "2022-04-30T18:10:26.441Z"
   },
   {
    "duration": 4,
    "start_time": "2022-04-30T18:10:28.124Z"
   },
   {
    "duration": 1586,
    "start_time": "2022-04-30T18:10:28.420Z"
   },
   {
    "duration": 7,
    "start_time": "2022-04-30T18:10:53.899Z"
   },
   {
    "duration": 7,
    "start_time": "2022-04-30T18:11:06.602Z"
   },
   {
    "duration": 5,
    "start_time": "2022-04-30T18:11:06.855Z"
   },
   {
    "duration": 1595,
    "start_time": "2022-04-30T18:11:08.023Z"
   },
   {
    "duration": 6,
    "start_time": "2022-04-30T18:11:36.174Z"
   },
   {
    "duration": 5,
    "start_time": "2022-04-30T18:11:36.660Z"
   },
   {
    "duration": 56,
    "start_time": "2022-04-30T18:11:36.874Z"
   },
   {
    "duration": 44,
    "start_time": "2022-04-30T18:11:38.110Z"
   },
   {
    "duration": 20,
    "start_time": "2022-04-30T18:11:54.483Z"
   },
   {
    "duration": 5,
    "start_time": "2022-04-30T18:11:54.649Z"
   },
   {
    "duration": 38,
    "start_time": "2022-04-30T18:11:54.800Z"
   },
   {
    "duration": 90,
    "start_time": "2022-04-30T18:12:11.209Z"
   },
   {
    "duration": 47,
    "start_time": "2022-04-30T18:12:12.151Z"
   },
   {
    "duration": 686,
    "start_time": "2022-04-30T18:12:58.748Z"
   },
   {
    "duration": 3,
    "start_time": "2022-04-30T18:12:59.437Z"
   },
   {
    "duration": 431,
    "start_time": "2022-04-30T18:12:59.443Z"
   },
   {
    "duration": 771,
    "start_time": "2022-04-30T18:12:59.877Z"
   },
   {
    "duration": 4,
    "start_time": "2022-04-30T18:13:00.651Z"
   },
   {
    "duration": 15,
    "start_time": "2022-04-30T18:13:00.658Z"
   },
   {
    "duration": 45,
    "start_time": "2022-04-30T18:13:00.676Z"
   },
   {
    "duration": 11,
    "start_time": "2022-04-30T18:13:00.723Z"
   },
   {
    "duration": 22,
    "start_time": "2022-04-30T18:13:00.736Z"
   },
   {
    "duration": 33,
    "start_time": "2022-04-30T18:13:00.764Z"
   },
   {
    "duration": 44,
    "start_time": "2022-04-30T18:13:00.803Z"
   },
   {
    "duration": 23,
    "start_time": "2022-04-30T18:13:00.849Z"
   },
   {
    "duration": 61,
    "start_time": "2022-04-30T18:13:00.874Z"
   },
   {
    "duration": 42,
    "start_time": "2022-04-30T18:13:00.937Z"
   },
   {
    "duration": 43,
    "start_time": "2022-04-30T18:13:00.990Z"
   },
   {
    "duration": 18,
    "start_time": "2022-04-30T18:13:01.035Z"
   },
   {
    "duration": 28,
    "start_time": "2022-04-30T18:13:01.055Z"
   },
   {
    "duration": 67,
    "start_time": "2022-04-30T18:13:01.086Z"
   },
   {
    "duration": 22,
    "start_time": "2022-04-30T18:13:01.155Z"
   },
   {
    "duration": 13,
    "start_time": "2022-04-30T18:13:01.179Z"
   },
   {
    "duration": 118,
    "start_time": "2022-04-30T18:13:01.196Z"
   },
   {
    "duration": 77,
    "start_time": "2022-04-30T18:13:01.316Z"
   },
   {
    "duration": 58,
    "start_time": "2022-04-30T18:13:01.396Z"
   },
   {
    "duration": 57,
    "start_time": "2022-04-30T18:13:01.456Z"
   },
   {
    "duration": 25,
    "start_time": "2022-04-30T18:13:01.517Z"
   },
   {
    "duration": 18,
    "start_time": "2022-04-30T18:13:01.545Z"
   },
   {
    "duration": 59,
    "start_time": "2022-04-30T18:13:01.566Z"
   },
   {
    "duration": 32,
    "start_time": "2022-04-30T18:13:01.633Z"
   },
   {
    "duration": 34,
    "start_time": "2022-04-30T18:13:01.668Z"
   },
   {
    "duration": 20,
    "start_time": "2022-04-30T18:13:01.704Z"
   },
   {
    "duration": 13,
    "start_time": "2022-04-30T18:13:01.726Z"
   },
   {
    "duration": 52,
    "start_time": "2022-04-30T18:13:01.741Z"
   },
   {
    "duration": 31,
    "start_time": "2022-04-30T18:13:01.796Z"
   },
   {
    "duration": 75,
    "start_time": "2022-04-30T18:13:01.829Z"
   },
   {
    "duration": 19,
    "start_time": "2022-04-30T18:13:01.906Z"
   },
   {
    "duration": 22,
    "start_time": "2022-04-30T18:13:01.928Z"
   },
   {
    "duration": 66,
    "start_time": "2022-04-30T18:13:01.953Z"
   },
   {
    "duration": 19,
    "start_time": "2022-04-30T18:13:02.021Z"
   },
   {
    "duration": 35,
    "start_time": "2022-04-30T18:13:02.043Z"
   },
   {
    "duration": 53,
    "start_time": "2022-04-30T18:13:02.081Z"
   },
   {
    "duration": 81,
    "start_time": "2022-04-30T18:13:02.137Z"
   },
   {
    "duration": 22,
    "start_time": "2022-04-30T18:13:02.221Z"
   },
   {
    "duration": 41,
    "start_time": "2022-04-30T18:13:02.246Z"
   },
   {
    "duration": 53,
    "start_time": "2022-04-30T18:13:02.289Z"
   },
   {
    "duration": 19,
    "start_time": "2022-04-30T18:13:02.344Z"
   },
   {
    "duration": 70,
    "start_time": "2022-04-30T18:13:02.365Z"
   },
   {
    "duration": 20,
    "start_time": "2022-04-30T18:13:02.438Z"
   },
   {
    "duration": 39,
    "start_time": "2022-04-30T18:13:02.460Z"
   },
   {
    "duration": 27,
    "start_time": "2022-04-30T18:13:02.502Z"
   },
   {
    "duration": 25,
    "start_time": "2022-04-30T18:13:02.532Z"
   },
   {
    "duration": 61,
    "start_time": "2022-04-30T18:13:02.559Z"
   },
   {
    "duration": 5,
    "start_time": "2022-04-30T18:13:02.623Z"
   },
   {
    "duration": 37,
    "start_time": "2022-04-30T18:13:02.630Z"
   },
   {
    "duration": 43,
    "start_time": "2022-04-30T18:13:02.670Z"
   },
   {
    "duration": 58,
    "start_time": "2022-04-30T18:13:02.716Z"
   },
   {
    "duration": 19,
    "start_time": "2022-04-30T18:13:02.777Z"
   },
   {
    "duration": 35,
    "start_time": "2022-04-30T18:13:02.801Z"
   },
   {
    "duration": 47,
    "start_time": "2022-04-30T18:13:02.838Z"
   },
   {
    "duration": 17,
    "start_time": "2022-04-30T18:13:02.891Z"
   },
   {
    "duration": 16,
    "start_time": "2022-04-30T18:13:02.912Z"
   },
   {
    "duration": 5,
    "start_time": "2022-04-30T18:13:02.934Z"
   },
   {
    "duration": 12,
    "start_time": "2022-04-30T18:13:02.941Z"
   },
   {
    "duration": 29,
    "start_time": "2022-04-30T18:13:02.956Z"
   },
   {
    "duration": 9,
    "start_time": "2022-04-30T18:13:02.988Z"
   },
   {
    "duration": 49,
    "start_time": "2022-04-30T18:13:03.000Z"
   },
   {
    "duration": 14,
    "start_time": "2022-04-30T18:13:03.051Z"
   },
   {
    "duration": 24,
    "start_time": "2022-04-30T18:13:03.067Z"
   },
   {
    "duration": 34,
    "start_time": "2022-04-30T18:13:03.094Z"
   },
   {
    "duration": 125,
    "start_time": "2022-04-30T18:13:03.131Z"
   },
   {
    "duration": 0,
    "start_time": "2022-04-30T18:13:03.263Z"
   },
   {
    "duration": 0,
    "start_time": "2022-04-30T18:13:03.265Z"
   },
   {
    "duration": 0,
    "start_time": "2022-04-30T18:13:03.266Z"
   },
   {
    "duration": 0,
    "start_time": "2022-04-30T18:13:03.269Z"
   },
   {
    "duration": 0,
    "start_time": "2022-04-30T18:13:03.283Z"
   },
   {
    "duration": 0,
    "start_time": "2022-04-30T18:13:03.285Z"
   },
   {
    "duration": 0,
    "start_time": "2022-04-30T18:13:03.287Z"
   },
   {
    "duration": 0,
    "start_time": "2022-04-30T18:13:03.289Z"
   },
   {
    "duration": 0,
    "start_time": "2022-04-30T18:13:03.291Z"
   },
   {
    "duration": 0,
    "start_time": "2022-04-30T18:13:03.295Z"
   },
   {
    "duration": 0,
    "start_time": "2022-04-30T18:13:03.300Z"
   },
   {
    "duration": 0,
    "start_time": "2022-04-30T18:13:03.308Z"
   },
   {
    "duration": 0,
    "start_time": "2022-04-30T18:13:03.310Z"
   },
   {
    "duration": 0,
    "start_time": "2022-04-30T18:13:03.312Z"
   },
   {
    "duration": 0,
    "start_time": "2022-04-30T18:13:03.320Z"
   },
   {
    "duration": 0,
    "start_time": "2022-04-30T18:13:03.325Z"
   },
   {
    "duration": 0,
    "start_time": "2022-04-30T18:13:03.327Z"
   },
   {
    "duration": 0,
    "start_time": "2022-04-30T18:13:03.329Z"
   },
   {
    "duration": 0,
    "start_time": "2022-04-30T18:13:03.331Z"
   },
   {
    "duration": 0,
    "start_time": "2022-04-30T18:13:03.333Z"
   },
   {
    "duration": 0,
    "start_time": "2022-04-30T18:13:03.336Z"
   },
   {
    "duration": 0,
    "start_time": "2022-04-30T18:13:03.339Z"
   },
   {
    "duration": 0,
    "start_time": "2022-04-30T18:13:03.389Z"
   },
   {
    "duration": 0,
    "start_time": "2022-04-30T18:13:03.390Z"
   },
   {
    "duration": 0,
    "start_time": "2022-04-30T18:13:03.392Z"
   },
   {
    "duration": 0,
    "start_time": "2022-04-30T18:13:03.393Z"
   },
   {
    "duration": 0,
    "start_time": "2022-04-30T18:13:03.394Z"
   },
   {
    "duration": 0,
    "start_time": "2022-04-30T18:13:03.396Z"
   },
   {
    "duration": 0,
    "start_time": "2022-04-30T18:13:03.397Z"
   },
   {
    "duration": 0,
    "start_time": "2022-04-30T18:13:03.401Z"
   },
   {
    "duration": 0,
    "start_time": "2022-04-30T18:13:03.409Z"
   },
   {
    "duration": 0,
    "start_time": "2022-04-30T18:13:03.411Z"
   },
   {
    "duration": 0,
    "start_time": "2022-04-30T18:13:03.414Z"
   },
   {
    "duration": 0,
    "start_time": "2022-04-30T18:13:03.416Z"
   },
   {
    "duration": 0,
    "start_time": "2022-04-30T18:13:03.420Z"
   },
   {
    "duration": 0,
    "start_time": "2022-04-30T18:13:03.422Z"
   },
   {
    "duration": 0,
    "start_time": "2022-04-30T18:13:03.423Z"
   },
   {
    "duration": 0,
    "start_time": "2022-04-30T18:13:03.424Z"
   },
   {
    "duration": 0,
    "start_time": "2022-04-30T18:13:03.428Z"
   },
   {
    "duration": 0,
    "start_time": "2022-04-30T18:13:03.429Z"
   },
   {
    "duration": 0,
    "start_time": "2022-04-30T18:13:03.431Z"
   },
   {
    "duration": 0,
    "start_time": "2022-04-30T18:13:03.433Z"
   },
   {
    "duration": 0,
    "start_time": "2022-04-30T18:13:03.434Z"
   },
   {
    "duration": 0,
    "start_time": "2022-04-30T18:13:03.491Z"
   },
   {
    "duration": 0,
    "start_time": "2022-04-30T18:13:03.493Z"
   },
   {
    "duration": 0,
    "start_time": "2022-04-30T18:13:03.498Z"
   },
   {
    "duration": 0,
    "start_time": "2022-04-30T18:13:03.499Z"
   },
   {
    "duration": 0,
    "start_time": "2022-04-30T18:13:03.500Z"
   },
   {
    "duration": 0,
    "start_time": "2022-04-30T18:13:03.501Z"
   },
   {
    "duration": 0,
    "start_time": "2022-04-30T18:13:03.502Z"
   },
   {
    "duration": 0,
    "start_time": "2022-04-30T18:13:03.503Z"
   },
   {
    "duration": 0,
    "start_time": "2022-04-30T18:13:03.504Z"
   },
   {
    "duration": 0,
    "start_time": "2022-04-30T18:13:03.508Z"
   },
   {
    "duration": 13,
    "start_time": "2022-04-30T18:13:29.865Z"
   },
   {
    "duration": 5,
    "start_time": "2022-04-30T18:13:30.709Z"
   },
   {
    "duration": 96,
    "start_time": "2022-04-30T18:13:31.153Z"
   },
   {
    "duration": 39,
    "start_time": "2022-04-30T18:13:31.716Z"
   },
   {
    "duration": 572,
    "start_time": "2022-04-30T18:23:08.924Z"
   },
   {
    "duration": 4,
    "start_time": "2022-04-30T18:23:09.500Z"
   },
   {
    "duration": 379,
    "start_time": "2022-04-30T18:23:09.506Z"
   },
   {
    "duration": 564,
    "start_time": "2022-04-30T18:23:09.889Z"
   },
   {
    "duration": 3,
    "start_time": "2022-04-30T18:23:10.456Z"
   },
   {
    "duration": 10,
    "start_time": "2022-04-30T18:23:10.461Z"
   },
   {
    "duration": 4,
    "start_time": "2022-04-30T18:23:10.482Z"
   },
   {
    "duration": 7,
    "start_time": "2022-04-30T18:23:10.488Z"
   },
   {
    "duration": 27,
    "start_time": "2022-04-30T18:23:10.497Z"
   },
   {
    "duration": 17,
    "start_time": "2022-04-30T18:23:10.530Z"
   },
   {
    "duration": 19,
    "start_time": "2022-04-30T18:23:10.581Z"
   },
   {
    "duration": 20,
    "start_time": "2022-04-30T18:23:10.603Z"
   },
   {
    "duration": 27,
    "start_time": "2022-04-30T18:23:10.626Z"
   },
   {
    "duration": 53,
    "start_time": "2022-04-30T18:23:10.682Z"
   },
   {
    "duration": 63,
    "start_time": "2022-04-30T18:23:10.737Z"
   },
   {
    "duration": 15,
    "start_time": "2022-04-30T18:23:10.803Z"
   },
   {
    "duration": 25,
    "start_time": "2022-04-30T18:23:10.821Z"
   },
   {
    "duration": 63,
    "start_time": "2022-04-30T18:23:10.849Z"
   },
   {
    "duration": 21,
    "start_time": "2022-04-30T18:23:10.914Z"
   },
   {
    "duration": 7,
    "start_time": "2022-04-30T18:23:10.938Z"
   },
   {
    "duration": 79,
    "start_time": "2022-04-30T18:23:10.948Z"
   },
   {
    "duration": 71,
    "start_time": "2022-04-30T18:23:11.030Z"
   },
   {
    "duration": 37,
    "start_time": "2022-04-30T18:23:11.103Z"
   },
   {
    "duration": 49,
    "start_time": "2022-04-30T18:23:11.143Z"
   },
   {
    "duration": 6,
    "start_time": "2022-04-30T18:23:11.194Z"
   },
   {
    "duration": 22,
    "start_time": "2022-04-30T18:23:11.203Z"
   },
   {
    "duration": 24,
    "start_time": "2022-04-30T18:23:11.227Z"
   },
   {
    "duration": 32,
    "start_time": "2022-04-30T18:23:11.282Z"
   },
   {
    "duration": 25,
    "start_time": "2022-04-30T18:23:11.316Z"
   },
   {
    "duration": 6,
    "start_time": "2022-04-30T18:23:11.343Z"
   },
   {
    "duration": 38,
    "start_time": "2022-04-30T18:23:11.352Z"
   },
   {
    "duration": 45,
    "start_time": "2022-04-30T18:23:11.393Z"
   },
   {
    "duration": 42,
    "start_time": "2022-04-30T18:23:11.440Z"
   },
   {
    "duration": 61,
    "start_time": "2022-04-30T18:23:11.485Z"
   },
   {
    "duration": 40,
    "start_time": "2022-04-30T18:23:11.548Z"
   },
   {
    "duration": 12,
    "start_time": "2022-04-30T18:23:11.592Z"
   },
   {
    "duration": 39,
    "start_time": "2022-04-30T18:23:11.606Z"
   },
   {
    "duration": 47,
    "start_time": "2022-04-30T18:23:11.647Z"
   },
   {
    "duration": 8,
    "start_time": "2022-04-30T18:23:11.697Z"
   },
   {
    "duration": 26,
    "start_time": "2022-04-30T18:23:11.708Z"
   },
   {
    "duration": 99,
    "start_time": "2022-04-30T18:23:11.736Z"
   },
   {
    "duration": 23,
    "start_time": "2022-04-30T18:23:11.837Z"
   },
   {
    "duration": 35,
    "start_time": "2022-04-30T18:23:11.863Z"
   },
   {
    "duration": 37,
    "start_time": "2022-04-30T18:23:11.901Z"
   },
   {
    "duration": 41,
    "start_time": "2022-04-30T18:23:11.940Z"
   },
   {
    "duration": 29,
    "start_time": "2022-04-30T18:23:11.984Z"
   },
   {
    "duration": 19,
    "start_time": "2022-04-30T18:23:12.015Z"
   },
   {
    "duration": 58,
    "start_time": "2022-04-30T18:23:12.037Z"
   },
   {
    "duration": 17,
    "start_time": "2022-04-30T18:23:12.097Z"
   },
   {
    "duration": 17,
    "start_time": "2022-04-30T18:23:12.117Z"
   },
   {
    "duration": 50,
    "start_time": "2022-04-30T18:23:12.137Z"
   },
   {
    "duration": 4,
    "start_time": "2022-04-30T18:23:12.190Z"
   },
   {
    "duration": 25,
    "start_time": "2022-04-30T18:23:12.196Z"
   },
   {
    "duration": 16,
    "start_time": "2022-04-30T18:23:12.223Z"
   },
   {
    "duration": 67,
    "start_time": "2022-04-30T18:23:12.241Z"
   },
   {
    "duration": 10,
    "start_time": "2022-04-30T18:23:12.310Z"
   },
   {
    "duration": 16,
    "start_time": "2022-04-30T18:23:12.322Z"
   },
   {
    "duration": 61,
    "start_time": "2022-04-30T18:23:12.341Z"
   },
   {
    "duration": 16,
    "start_time": "2022-04-30T18:23:12.404Z"
   },
   {
    "duration": 6,
    "start_time": "2022-04-30T18:23:12.422Z"
   },
   {
    "duration": 8,
    "start_time": "2022-04-30T18:23:12.431Z"
   },
   {
    "duration": 41,
    "start_time": "2022-04-30T18:23:12.442Z"
   },
   {
    "duration": 7,
    "start_time": "2022-04-30T18:23:12.486Z"
   },
   {
    "duration": 10,
    "start_time": "2022-04-30T18:23:12.495Z"
   },
   {
    "duration": 50,
    "start_time": "2022-04-30T18:23:12.507Z"
   },
   {
    "duration": 33,
    "start_time": "2022-04-30T18:23:12.560Z"
   },
   {
    "duration": 18,
    "start_time": "2022-04-30T18:23:12.596Z"
   },
   {
    "duration": 19,
    "start_time": "2022-04-30T18:23:12.616Z"
   },
   {
    "duration": 8,
    "start_time": "2022-04-30T18:23:12.638Z"
   },
   {
    "duration": 34,
    "start_time": "2022-04-30T18:23:12.648Z"
   },
   {
    "duration": 70,
    "start_time": "2022-04-30T18:23:12.684Z"
   },
   {
    "duration": 56,
    "start_time": "2022-04-30T18:23:12.757Z"
   },
   {
    "duration": 4,
    "start_time": "2022-04-30T18:23:12.815Z"
   },
   {
    "duration": 28,
    "start_time": "2022-04-30T18:23:12.821Z"
   },
   {
    "duration": 39,
    "start_time": "2022-04-30T18:23:12.852Z"
   },
   {
    "duration": 1733,
    "start_time": "2022-04-30T18:23:12.893Z"
   },
   {
    "duration": 0,
    "start_time": "2022-04-30T18:23:14.631Z"
   },
   {
    "duration": 0,
    "start_time": "2022-04-30T18:23:14.633Z"
   },
   {
    "duration": 0,
    "start_time": "2022-04-30T18:23:14.635Z"
   },
   {
    "duration": 0,
    "start_time": "2022-04-30T18:23:14.637Z"
   },
   {
    "duration": 0,
    "start_time": "2022-04-30T18:23:14.640Z"
   },
   {
    "duration": 0,
    "start_time": "2022-04-30T18:23:14.642Z"
   },
   {
    "duration": 0,
    "start_time": "2022-04-30T18:23:14.643Z"
   },
   {
    "duration": 0,
    "start_time": "2022-04-30T18:23:14.645Z"
   },
   {
    "duration": 0,
    "start_time": "2022-04-30T18:23:14.647Z"
   },
   {
    "duration": 1,
    "start_time": "2022-04-30T18:23:14.648Z"
   },
   {
    "duration": 0,
    "start_time": "2022-04-30T18:23:14.650Z"
   },
   {
    "duration": 0,
    "start_time": "2022-04-30T18:23:14.652Z"
   },
   {
    "duration": 0,
    "start_time": "2022-04-30T18:23:14.654Z"
   },
   {
    "duration": 0,
    "start_time": "2022-04-30T18:23:14.656Z"
   },
   {
    "duration": 0,
    "start_time": "2022-04-30T18:23:14.657Z"
   },
   {
    "duration": 0,
    "start_time": "2022-04-30T18:23:14.659Z"
   },
   {
    "duration": 0,
    "start_time": "2022-04-30T18:23:14.661Z"
   },
   {
    "duration": 0,
    "start_time": "2022-04-30T18:23:14.662Z"
   },
   {
    "duration": 0,
    "start_time": "2022-04-30T18:23:14.664Z"
   },
   {
    "duration": 0,
    "start_time": "2022-04-30T18:23:14.666Z"
   },
   {
    "duration": 0,
    "start_time": "2022-04-30T18:23:14.667Z"
   },
   {
    "duration": 0,
    "start_time": "2022-04-30T18:23:14.669Z"
   },
   {
    "duration": 0,
    "start_time": "2022-04-30T18:23:14.682Z"
   },
   {
    "duration": 0,
    "start_time": "2022-04-30T18:23:14.684Z"
   },
   {
    "duration": 0,
    "start_time": "2022-04-30T18:23:14.685Z"
   },
   {
    "duration": 0,
    "start_time": "2022-04-30T18:23:14.687Z"
   },
   {
    "duration": 0,
    "start_time": "2022-04-30T18:23:14.689Z"
   },
   {
    "duration": 0,
    "start_time": "2022-04-30T18:23:14.691Z"
   },
   {
    "duration": 0,
    "start_time": "2022-04-30T18:23:14.693Z"
   },
   {
    "duration": 0,
    "start_time": "2022-04-30T18:23:14.695Z"
   },
   {
    "duration": 0,
    "start_time": "2022-04-30T18:23:14.696Z"
   },
   {
    "duration": 0,
    "start_time": "2022-04-30T18:23:14.699Z"
   },
   {
    "duration": 1,
    "start_time": "2022-04-30T18:23:14.700Z"
   },
   {
    "duration": 0,
    "start_time": "2022-04-30T18:23:14.702Z"
   },
   {
    "duration": 0,
    "start_time": "2022-04-30T18:23:14.704Z"
   },
   {
    "duration": 0,
    "start_time": "2022-04-30T18:23:14.706Z"
   },
   {
    "duration": 1,
    "start_time": "2022-04-30T18:23:14.708Z"
   },
   {
    "duration": 0,
    "start_time": "2022-04-30T18:23:14.710Z"
   },
   {
    "duration": 0,
    "start_time": "2022-04-30T18:23:14.712Z"
   },
   {
    "duration": 0,
    "start_time": "2022-04-30T18:23:14.714Z"
   },
   {
    "duration": 0,
    "start_time": "2022-04-30T18:23:14.716Z"
   },
   {
    "duration": 0,
    "start_time": "2022-04-30T18:23:14.717Z"
   },
   {
    "duration": 0,
    "start_time": "2022-04-30T18:23:14.719Z"
   },
   {
    "duration": 0,
    "start_time": "2022-04-30T18:23:14.721Z"
   },
   {
    "duration": 0,
    "start_time": "2022-04-30T18:23:14.723Z"
   },
   {
    "duration": 0,
    "start_time": "2022-04-30T18:23:14.725Z"
   },
   {
    "duration": 1610,
    "start_time": "2022-04-30T18:23:35.207Z"
   },
   {
    "duration": 6,
    "start_time": "2022-04-30T18:27:59.020Z"
   },
   {
    "duration": 6,
    "start_time": "2022-04-30T18:29:16.214Z"
   },
   {
    "duration": 4,
    "start_time": "2022-04-30T18:29:16.954Z"
   },
   {
    "duration": 32,
    "start_time": "2022-04-30T18:29:17.258Z"
   },
   {
    "duration": 5,
    "start_time": "2022-04-30T18:29:28.620Z"
   },
   {
    "duration": 6,
    "start_time": "2022-04-30T18:29:28.920Z"
   },
   {
    "duration": 45,
    "start_time": "2022-04-30T18:29:29.155Z"
   },
   {
    "duration": 123,
    "start_time": "2022-04-30T18:30:17.932Z"
   },
   {
    "duration": 5,
    "start_time": "2022-04-30T18:30:18.450Z"
   },
   {
    "duration": 54,
    "start_time": "2022-04-30T18:30:18.960Z"
   },
   {
    "duration": 18,
    "start_time": "2022-04-30T18:30:39.364Z"
   },
   {
    "duration": 774,
    "start_time": "2022-04-30T18:31:19.241Z"
   },
   {
    "duration": 4,
    "start_time": "2022-04-30T18:31:20.019Z"
   },
   {
    "duration": 547,
    "start_time": "2022-04-30T18:31:20.026Z"
   },
   {
    "duration": 837,
    "start_time": "2022-04-30T18:31:20.578Z"
   },
   {
    "duration": 5,
    "start_time": "2022-04-30T18:31:21.418Z"
   },
   {
    "duration": 7,
    "start_time": "2022-04-30T18:31:21.425Z"
   },
   {
    "duration": 13,
    "start_time": "2022-04-30T18:31:21.435Z"
   },
   {
    "duration": 9,
    "start_time": "2022-04-30T18:31:21.451Z"
   },
   {
    "duration": 40,
    "start_time": "2022-04-30T18:31:21.464Z"
   },
   {
    "duration": 24,
    "start_time": "2022-04-30T18:31:21.509Z"
   },
   {
    "duration": 54,
    "start_time": "2022-04-30T18:31:21.536Z"
   },
   {
    "duration": 18,
    "start_time": "2022-04-30T18:31:21.594Z"
   },
   {
    "duration": 31,
    "start_time": "2022-04-30T18:31:21.615Z"
   },
   {
    "duration": 63,
    "start_time": "2022-04-30T18:31:21.649Z"
   },
   {
    "duration": 42,
    "start_time": "2022-04-30T18:31:21.715Z"
   },
   {
    "duration": 20,
    "start_time": "2022-04-30T18:31:21.783Z"
   },
   {
    "duration": 22,
    "start_time": "2022-04-30T18:31:21.806Z"
   },
   {
    "duration": 61,
    "start_time": "2022-04-30T18:31:21.831Z"
   },
   {
    "duration": 26,
    "start_time": "2022-04-30T18:31:21.894Z"
   },
   {
    "duration": 6,
    "start_time": "2022-04-30T18:31:21.924Z"
   },
   {
    "duration": 113,
    "start_time": "2022-04-30T18:31:21.934Z"
   },
   {
    "duration": 91,
    "start_time": "2022-04-30T18:31:22.050Z"
   },
   {
    "duration": 67,
    "start_time": "2022-04-30T18:31:22.144Z"
   },
   {
    "duration": 45,
    "start_time": "2022-04-30T18:31:22.214Z"
   },
   {
    "duration": 23,
    "start_time": "2022-04-30T18:31:22.262Z"
   },
   {
    "duration": 19,
    "start_time": "2022-04-30T18:31:22.287Z"
   },
   {
    "duration": 23,
    "start_time": "2022-04-30T18:31:22.308Z"
   },
   {
    "duration": 68,
    "start_time": "2022-04-30T18:31:22.338Z"
   },
   {
    "duration": 25,
    "start_time": "2022-04-30T18:31:22.408Z"
   },
   {
    "duration": 6,
    "start_time": "2022-04-30T18:31:22.436Z"
   },
   {
    "duration": 42,
    "start_time": "2022-04-30T18:31:22.445Z"
   },
   {
    "duration": 58,
    "start_time": "2022-04-30T18:31:22.490Z"
   },
   {
    "duration": 52,
    "start_time": "2022-04-30T18:31:22.551Z"
   },
   {
    "duration": 48,
    "start_time": "2022-04-30T18:31:22.605Z"
   },
   {
    "duration": 22,
    "start_time": "2022-04-30T18:31:22.681Z"
   },
   {
    "duration": 17,
    "start_time": "2022-04-30T18:31:22.706Z"
   },
   {
    "duration": 82,
    "start_time": "2022-04-30T18:31:22.726Z"
   },
   {
    "duration": 25,
    "start_time": "2022-04-30T18:31:22.811Z"
   },
   {
    "duration": 6,
    "start_time": "2022-04-30T18:31:22.841Z"
   },
   {
    "duration": 55,
    "start_time": "2022-04-30T18:31:22.850Z"
   },
   {
    "duration": 80,
    "start_time": "2022-04-30T18:31:22.908Z"
   },
   {
    "duration": 22,
    "start_time": "2022-04-30T18:31:22.991Z"
   },
   {
    "duration": 24,
    "start_time": "2022-04-30T18:31:23.015Z"
   },
   {
    "duration": 80,
    "start_time": "2022-04-30T18:31:23.042Z"
   },
   {
    "duration": 29,
    "start_time": "2022-04-30T18:31:23.125Z"
   },
   {
    "duration": 56,
    "start_time": "2022-04-30T18:31:23.157Z"
   },
   {
    "duration": 27,
    "start_time": "2022-04-30T18:31:23.219Z"
   },
   {
    "duration": 60,
    "start_time": "2022-04-30T18:31:23.249Z"
   },
   {
    "duration": 26,
    "start_time": "2022-04-30T18:31:23.313Z"
   },
   {
    "duration": 48,
    "start_time": "2022-04-30T18:31:23.343Z"
   },
   {
    "duration": 39,
    "start_time": "2022-04-30T18:31:23.395Z"
   },
   {
    "duration": 8,
    "start_time": "2022-04-30T18:31:23.436Z"
   },
   {
    "duration": 54,
    "start_time": "2022-04-30T18:31:23.447Z"
   },
   {
    "duration": 24,
    "start_time": "2022-04-30T18:31:23.504Z"
   },
   {
    "duration": 72,
    "start_time": "2022-04-30T18:31:23.531Z"
   },
   {
    "duration": 13,
    "start_time": "2022-04-30T18:31:23.605Z"
   },
   {
    "duration": 29,
    "start_time": "2022-04-30T18:31:23.623Z"
   },
   {
    "duration": 69,
    "start_time": "2022-04-30T18:31:23.656Z"
   },
   {
    "duration": 14,
    "start_time": "2022-04-30T18:31:23.729Z"
   },
   {
    "duration": 34,
    "start_time": "2022-04-30T18:31:23.749Z"
   },
   {
    "duration": 7,
    "start_time": "2022-04-30T18:31:23.786Z"
   },
   {
    "duration": 26,
    "start_time": "2022-04-30T18:31:23.796Z"
   },
   {
    "duration": 7,
    "start_time": "2022-04-30T18:31:23.828Z"
   },
   {
    "duration": 21,
    "start_time": "2022-04-30T18:31:23.838Z"
   },
   {
    "duration": 58,
    "start_time": "2022-04-30T18:31:23.862Z"
   },
   {
    "duration": 19,
    "start_time": "2022-04-30T18:31:23.923Z"
   },
   {
    "duration": 4,
    "start_time": "2022-04-30T18:31:23.945Z"
   },
   {
    "duration": 21,
    "start_time": "2022-04-30T18:31:23.982Z"
   },
   {
    "duration": 2327,
    "start_time": "2022-04-30T18:31:24.006Z"
   },
   {
    "duration": 0,
    "start_time": "2022-04-30T18:31:26.340Z"
   },
   {
    "duration": 0,
    "start_time": "2022-04-30T18:31:26.342Z"
   },
   {
    "duration": 0,
    "start_time": "2022-04-30T18:31:26.345Z"
   },
   {
    "duration": 0,
    "start_time": "2022-04-30T18:31:26.347Z"
   },
   {
    "duration": 0,
    "start_time": "2022-04-30T18:31:26.349Z"
   },
   {
    "duration": 0,
    "start_time": "2022-04-30T18:31:26.351Z"
   },
   {
    "duration": 0,
    "start_time": "2022-04-30T18:31:26.353Z"
   },
   {
    "duration": 0,
    "start_time": "2022-04-30T18:31:26.355Z"
   },
   {
    "duration": 0,
    "start_time": "2022-04-30T18:31:26.357Z"
   },
   {
    "duration": 0,
    "start_time": "2022-04-30T18:31:26.359Z"
   },
   {
    "duration": 0,
    "start_time": "2022-04-30T18:31:26.361Z"
   },
   {
    "duration": 0,
    "start_time": "2022-04-30T18:31:26.363Z"
   },
   {
    "duration": 0,
    "start_time": "2022-04-30T18:31:26.365Z"
   },
   {
    "duration": 0,
    "start_time": "2022-04-30T18:31:26.366Z"
   },
   {
    "duration": 0,
    "start_time": "2022-04-30T18:31:26.369Z"
   },
   {
    "duration": 0,
    "start_time": "2022-04-30T18:31:26.371Z"
   },
   {
    "duration": 0,
    "start_time": "2022-04-30T18:31:26.373Z"
   },
   {
    "duration": 0,
    "start_time": "2022-04-30T18:31:26.382Z"
   },
   {
    "duration": 0,
    "start_time": "2022-04-30T18:31:26.384Z"
   },
   {
    "duration": 0,
    "start_time": "2022-04-30T18:31:26.386Z"
   },
   {
    "duration": 0,
    "start_time": "2022-04-30T18:31:26.388Z"
   },
   {
    "duration": 0,
    "start_time": "2022-04-30T18:31:26.389Z"
   },
   {
    "duration": 0,
    "start_time": "2022-04-30T18:31:26.391Z"
   },
   {
    "duration": 0,
    "start_time": "2022-04-30T18:31:26.393Z"
   },
   {
    "duration": 0,
    "start_time": "2022-04-30T18:31:26.394Z"
   },
   {
    "duration": 0,
    "start_time": "2022-04-30T18:31:26.396Z"
   },
   {
    "duration": 0,
    "start_time": "2022-04-30T18:31:26.398Z"
   },
   {
    "duration": 0,
    "start_time": "2022-04-30T18:31:26.399Z"
   },
   {
    "duration": 0,
    "start_time": "2022-04-30T18:31:26.401Z"
   },
   {
    "duration": 0,
    "start_time": "2022-04-30T18:31:26.403Z"
   },
   {
    "duration": 0,
    "start_time": "2022-04-30T18:31:26.405Z"
   },
   {
    "duration": 0,
    "start_time": "2022-04-30T18:31:26.407Z"
   },
   {
    "duration": 0,
    "start_time": "2022-04-30T18:31:26.409Z"
   },
   {
    "duration": 0,
    "start_time": "2022-04-30T18:31:26.411Z"
   },
   {
    "duration": 0,
    "start_time": "2022-04-30T18:31:26.413Z"
   },
   {
    "duration": 0,
    "start_time": "2022-04-30T18:31:26.416Z"
   },
   {
    "duration": 0,
    "start_time": "2022-04-30T18:31:26.417Z"
   },
   {
    "duration": 0,
    "start_time": "2022-04-30T18:31:26.420Z"
   },
   {
    "duration": 0,
    "start_time": "2022-04-30T18:31:26.422Z"
   },
   {
    "duration": 0,
    "start_time": "2022-04-30T18:31:26.424Z"
   },
   {
    "duration": 0,
    "start_time": "2022-04-30T18:31:26.426Z"
   },
   {
    "duration": 0,
    "start_time": "2022-04-30T18:31:26.482Z"
   },
   {
    "duration": 0,
    "start_time": "2022-04-30T18:31:26.485Z"
   },
   {
    "duration": 0,
    "start_time": "2022-04-30T18:31:26.487Z"
   },
   {
    "duration": 0,
    "start_time": "2022-04-30T18:31:26.489Z"
   },
   {
    "duration": 0,
    "start_time": "2022-04-30T18:31:26.492Z"
   },
   {
    "duration": 0,
    "start_time": "2022-04-30T18:31:26.494Z"
   },
   {
    "duration": 0,
    "start_time": "2022-04-30T18:31:26.496Z"
   },
   {
    "duration": 0,
    "start_time": "2022-04-30T18:31:26.498Z"
   },
   {
    "duration": 0,
    "start_time": "2022-04-30T18:31:26.500Z"
   },
   {
    "duration": 0,
    "start_time": "2022-04-30T18:31:26.502Z"
   },
   {
    "duration": 0,
    "start_time": "2022-04-30T18:31:26.504Z"
   },
   {
    "duration": 0,
    "start_time": "2022-04-30T18:31:26.506Z"
   },
   {
    "duration": 22,
    "start_time": "2022-04-30T18:32:49.531Z"
   },
   {
    "duration": 14,
    "start_time": "2022-04-30T18:33:27.180Z"
   },
   {
    "duration": 6,
    "start_time": "2022-04-30T18:39:29.843Z"
   },
   {
    "duration": 6,
    "start_time": "2022-04-30T18:39:57.556Z"
   },
   {
    "duration": 5,
    "start_time": "2022-04-30T18:41:49.320Z"
   },
   {
    "duration": 6,
    "start_time": "2022-04-30T18:47:42.673Z"
   },
   {
    "duration": 25,
    "start_time": "2022-04-30T19:23:03.412Z"
   },
   {
    "duration": 13,
    "start_time": "2022-04-30T19:24:39.618Z"
   },
   {
    "duration": 6,
    "start_time": "2022-04-30T19:27:41.334Z"
   },
   {
    "duration": 23,
    "start_time": "2022-04-30T19:29:41.398Z"
   },
   {
    "duration": 7,
    "start_time": "2022-04-30T19:30:32.749Z"
   },
   {
    "duration": 6,
    "start_time": "2022-04-30T19:31:03.058Z"
   },
   {
    "duration": 22,
    "start_time": "2022-04-30T19:31:03.428Z"
   },
   {
    "duration": 10,
    "start_time": "2022-04-30T19:31:41.413Z"
   },
   {
    "duration": 25,
    "start_time": "2022-04-30T19:47:16.955Z"
   },
   {
    "duration": 18,
    "start_time": "2022-04-30T19:47:43.240Z"
   },
   {
    "duration": 15,
    "start_time": "2022-04-30T19:51:05.861Z"
   },
   {
    "duration": 3,
    "start_time": "2022-04-30T19:51:32.281Z"
   },
   {
    "duration": 4,
    "start_time": "2022-04-30T19:51:32.418Z"
   },
   {
    "duration": 4,
    "start_time": "2022-04-30T19:51:32.644Z"
   },
   {
    "duration": 756,
    "start_time": "2022-04-30T19:51:33.482Z"
   },
   {
    "duration": 3,
    "start_time": "2022-04-30T19:51:34.242Z"
   },
   {
    "duration": 19,
    "start_time": "2022-04-30T19:51:34.247Z"
   },
   {
    "duration": 17,
    "start_time": "2022-04-30T19:51:34.271Z"
   },
   {
    "duration": 9,
    "start_time": "2022-04-30T19:51:34.293Z"
   },
   {
    "duration": 25,
    "start_time": "2022-04-30T19:51:34.305Z"
   },
   {
    "duration": 16,
    "start_time": "2022-04-30T19:51:34.375Z"
   },
   {
    "duration": 18,
    "start_time": "2022-04-30T19:51:34.525Z"
   },
   {
    "duration": 14,
    "start_time": "2022-04-30T19:51:34.666Z"
   },
   {
    "duration": 22,
    "start_time": "2022-04-30T19:51:34.807Z"
   },
   {
    "duration": 34,
    "start_time": "2022-04-30T19:51:34.973Z"
   },
   {
    "duration": 31,
    "start_time": "2022-04-30T19:51:35.116Z"
   },
   {
    "duration": 15,
    "start_time": "2022-04-30T19:51:35.270Z"
   },
   {
    "duration": 17,
    "start_time": "2022-04-30T19:51:35.424Z"
   },
   {
    "duration": 39,
    "start_time": "2022-04-30T19:51:35.567Z"
   },
   {
    "duration": 29,
    "start_time": "2022-04-30T19:51:36.014Z"
   },
   {
    "duration": 7,
    "start_time": "2022-04-30T19:51:36.178Z"
   },
   {
    "duration": 65,
    "start_time": "2022-04-30T19:51:36.609Z"
   },
   {
    "duration": 67,
    "start_time": "2022-04-30T19:51:36.782Z"
   },
   {
    "duration": 54,
    "start_time": "2022-04-30T19:51:36.918Z"
   },
   {
    "duration": 47,
    "start_time": "2022-04-30T19:51:37.069Z"
   },
   {
    "duration": 6,
    "start_time": "2022-04-30T19:51:37.221Z"
   },
   {
    "duration": 22,
    "start_time": "2022-04-30T19:51:37.368Z"
   },
   {
    "duration": 26,
    "start_time": "2022-04-30T19:51:37.678Z"
   },
   {
    "duration": 40,
    "start_time": "2022-04-30T19:51:37.824Z"
   },
   {
    "duration": 30,
    "start_time": "2022-04-30T19:51:37.984Z"
   },
   {
    "duration": 6,
    "start_time": "2022-04-30T19:51:38.136Z"
   },
   {
    "duration": 10,
    "start_time": "2022-04-30T19:51:38.606Z"
   },
   {
    "duration": 52,
    "start_time": "2022-04-30T19:51:38.929Z"
   },
   {
    "duration": 21,
    "start_time": "2022-04-30T19:51:39.133Z"
   },
   {
    "duration": 61,
    "start_time": "2022-04-30T19:51:39.269Z"
   },
   {
    "duration": 15,
    "start_time": "2022-04-30T19:51:39.431Z"
   },
   {
    "duration": 16,
    "start_time": "2022-04-30T19:51:39.582Z"
   },
   {
    "duration": 49,
    "start_time": "2022-04-30T19:51:40.060Z"
   },
   {
    "duration": 25,
    "start_time": "2022-04-30T19:51:43.163Z"
   },
   {
    "duration": 7,
    "start_time": "2022-04-30T19:51:43.343Z"
   },
   {
    "duration": 31,
    "start_time": "2022-04-30T19:51:43.488Z"
   },
   {
    "duration": 88,
    "start_time": "2022-04-30T19:51:43.802Z"
   },
   {
    "duration": 37,
    "start_time": "2022-04-30T19:51:43.956Z"
   },
   {
    "duration": 25,
    "start_time": "2022-04-30T19:51:44.673Z"
   },
   {
    "duration": 43,
    "start_time": "2022-04-30T19:51:44.878Z"
   },
   {
    "duration": 27,
    "start_time": "2022-04-30T19:51:45.047Z"
   },
   {
    "duration": 35,
    "start_time": "2022-04-30T19:51:45.969Z"
   },
   {
    "duration": 29,
    "start_time": "2022-04-30T19:51:46.340Z"
   },
   {
    "duration": 24,
    "start_time": "2022-04-30T19:51:46.907Z"
   },
   {
    "duration": 24,
    "start_time": "2022-04-30T19:51:47.135Z"
   },
   {
    "duration": 31,
    "start_time": "2022-04-30T19:51:47.361Z"
   },
   {
    "duration": 39,
    "start_time": "2022-04-30T19:51:47.705Z"
   },
   {
    "duration": 9,
    "start_time": "2022-04-30T19:51:47.915Z"
   },
   {
    "duration": 23,
    "start_time": "2022-04-30T19:51:58.067Z"
   },
   {
    "duration": 21,
    "start_time": "2022-04-30T19:51:58.995Z"
   },
   {
    "duration": 48,
    "start_time": "2022-04-30T19:51:59.347Z"
   },
   {
    "duration": 14,
    "start_time": "2022-04-30T19:51:59.912Z"
   },
   {
    "duration": 20,
    "start_time": "2022-04-30T19:52:00.132Z"
   },
   {
    "duration": 52,
    "start_time": "2022-04-30T19:52:00.346Z"
   },
   {
    "duration": 14,
    "start_time": "2022-04-30T19:52:00.551Z"
   },
   {
    "duration": 6,
    "start_time": "2022-04-30T19:52:00.719Z"
   },
   {
    "duration": 5,
    "start_time": "2022-04-30T19:52:01.231Z"
   },
   {
    "duration": 9,
    "start_time": "2022-04-30T19:52:01.433Z"
   },
   {
    "duration": 8,
    "start_time": "2022-04-30T19:52:02.134Z"
   },
   {
    "duration": 7,
    "start_time": "2022-04-30T19:52:02.308Z"
   },
   {
    "duration": 27,
    "start_time": "2022-04-30T19:52:02.633Z"
   },
   {
    "duration": 8,
    "start_time": "2022-04-30T19:52:02.827Z"
   },
   {
    "duration": 14,
    "start_time": "2022-04-30T19:52:03.023Z"
   },
   {
    "duration": 19,
    "start_time": "2022-04-30T19:52:07.710Z"
   },
   {
    "duration": 18,
    "start_time": "2022-04-30T19:52:28.274Z"
   },
   {
    "duration": 15,
    "start_time": "2022-04-30T19:52:52.275Z"
   },
   {
    "duration": 6,
    "start_time": "2022-04-30T19:53:00.602Z"
   },
   {
    "duration": 14,
    "start_time": "2022-04-30T19:53:01.980Z"
   },
   {
    "duration": 16,
    "start_time": "2022-04-30T19:53:04.969Z"
   },
   {
    "duration": 68,
    "start_time": "2022-04-30T19:53:08.998Z"
   },
   {
    "duration": 20,
    "start_time": "2022-04-30T19:57:11.334Z"
   },
   {
    "duration": 36,
    "start_time": "2022-04-30T19:57:12.693Z"
   },
   {
    "duration": 706,
    "start_time": "2022-04-30T19:59:09.240Z"
   },
   {
    "duration": 7,
    "start_time": "2022-04-30T19:59:09.950Z"
   },
   {
    "duration": 366,
    "start_time": "2022-04-30T19:59:09.982Z"
   },
   {
    "duration": 630,
    "start_time": "2022-04-30T19:59:10.352Z"
   },
   {
    "duration": 3,
    "start_time": "2022-04-30T19:59:10.985Z"
   },
   {
    "duration": 16,
    "start_time": "2022-04-30T19:59:10.991Z"
   },
   {
    "duration": 8,
    "start_time": "2022-04-30T19:59:11.010Z"
   },
   {
    "duration": 8,
    "start_time": "2022-04-30T19:59:11.020Z"
   },
   {
    "duration": 22,
    "start_time": "2022-04-30T19:59:11.030Z"
   },
   {
    "duration": 34,
    "start_time": "2022-04-30T19:59:11.056Z"
   },
   {
    "duration": 21,
    "start_time": "2022-04-30T19:59:11.092Z"
   },
   {
    "duration": 14,
    "start_time": "2022-04-30T19:59:11.116Z"
   },
   {
    "duration": 52,
    "start_time": "2022-04-30T19:59:11.133Z"
   },
   {
    "duration": 36,
    "start_time": "2022-04-30T19:59:11.188Z"
   },
   {
    "duration": 30,
    "start_time": "2022-04-30T19:59:11.227Z"
   },
   {
    "duration": 15,
    "start_time": "2022-04-30T19:59:11.283Z"
   },
   {
    "duration": 20,
    "start_time": "2022-04-30T19:59:11.301Z"
   },
   {
    "duration": 31,
    "start_time": "2022-04-30T19:59:11.323Z"
   },
   {
    "duration": 43,
    "start_time": "2022-04-30T19:59:11.356Z"
   },
   {
    "duration": 13,
    "start_time": "2022-04-30T19:59:11.401Z"
   },
   {
    "duration": 66,
    "start_time": "2022-04-30T19:59:11.417Z"
   },
   {
    "duration": 51,
    "start_time": "2022-04-30T19:59:11.486Z"
   },
   {
    "duration": 57,
    "start_time": "2022-04-30T19:59:11.539Z"
   },
   {
    "duration": 32,
    "start_time": "2022-04-30T19:59:11.599Z"
   },
   {
    "duration": 6,
    "start_time": "2022-04-30T19:59:11.634Z"
   },
   {
    "duration": 43,
    "start_time": "2022-04-30T19:59:11.643Z"
   },
   {
    "duration": 26,
    "start_time": "2022-04-30T19:59:11.688Z"
   },
   {
    "duration": 31,
    "start_time": "2022-04-30T19:59:11.720Z"
   },
   {
    "duration": 49,
    "start_time": "2022-04-30T19:59:11.753Z"
   },
   {
    "duration": 6,
    "start_time": "2022-04-30T19:59:11.804Z"
   },
   {
    "duration": 13,
    "start_time": "2022-04-30T19:59:11.812Z"
   },
   {
    "duration": 61,
    "start_time": "2022-04-30T19:59:11.828Z"
   },
   {
    "duration": 19,
    "start_time": "2022-04-30T19:59:11.892Z"
   },
   {
    "duration": 70,
    "start_time": "2022-04-30T19:59:11.914Z"
   },
   {
    "duration": 16,
    "start_time": "2022-04-30T19:59:11.987Z"
   },
   {
    "duration": 11,
    "start_time": "2022-04-30T19:59:12.006Z"
   },
   {
    "duration": 65,
    "start_time": "2022-04-30T19:59:12.019Z"
   },
   {
    "duration": 19,
    "start_time": "2022-04-30T19:59:12.086Z"
   },
   {
    "duration": 13,
    "start_time": "2022-04-30T19:59:12.107Z"
   },
   {
    "duration": 23,
    "start_time": "2022-04-30T19:59:12.122Z"
   },
   {
    "duration": 94,
    "start_time": "2022-04-30T19:59:12.149Z"
   },
   {
    "duration": 22,
    "start_time": "2022-04-30T19:59:12.245Z"
   },
   {
    "duration": 29,
    "start_time": "2022-04-30T19:59:12.270Z"
   },
   {
    "duration": 34,
    "start_time": "2022-04-30T19:59:12.302Z"
   },
   {
    "duration": 49,
    "start_time": "2022-04-30T19:59:12.339Z"
   },
   {
    "duration": 31,
    "start_time": "2022-04-30T19:59:12.390Z"
   },
   {
    "duration": 20,
    "start_time": "2022-04-30T19:59:12.423Z"
   },
   {
    "duration": 52,
    "start_time": "2022-04-30T19:59:12.446Z"
   },
   {
    "duration": 17,
    "start_time": "2022-04-30T19:59:12.500Z"
   },
   {
    "duration": 22,
    "start_time": "2022-04-30T19:59:12.519Z"
   },
   {
    "duration": 49,
    "start_time": "2022-04-30T19:59:12.543Z"
   },
   {
    "duration": 7,
    "start_time": "2022-04-30T19:59:12.595Z"
   },
   {
    "duration": 37,
    "start_time": "2022-04-30T19:59:12.604Z"
   },
   {
    "duration": 42,
    "start_time": "2022-04-30T19:59:12.643Z"
   },
   {
    "duration": 13,
    "start_time": "2022-04-30T19:59:12.688Z"
   },
   {
    "duration": 7,
    "start_time": "2022-04-30T19:59:12.704Z"
   },
   {
    "duration": 74,
    "start_time": "2022-04-30T19:59:12.714Z"
   },
   {
    "duration": 11,
    "start_time": "2022-04-30T19:59:12.790Z"
   },
   {
    "duration": 7,
    "start_time": "2022-04-30T19:59:12.804Z"
   },
   {
    "duration": 9,
    "start_time": "2022-04-30T19:59:12.814Z"
   },
   {
    "duration": 18,
    "start_time": "2022-04-30T19:59:12.827Z"
   },
   {
    "duration": 9,
    "start_time": "2022-04-30T19:59:12.883Z"
   },
   {
    "duration": 6,
    "start_time": "2022-04-30T19:59:12.895Z"
   },
   {
    "duration": 32,
    "start_time": "2022-04-30T19:59:12.904Z"
   },
   {
    "duration": 42,
    "start_time": "2022-04-30T19:59:12.939Z"
   },
   {
    "duration": 19,
    "start_time": "2022-04-30T19:59:12.984Z"
   },
   {
    "duration": 8,
    "start_time": "2022-04-30T19:59:13.006Z"
   },
   {
    "duration": 18,
    "start_time": "2022-04-30T19:59:13.016Z"
   },
   {
    "duration": 47,
    "start_time": "2022-04-30T19:59:13.036Z"
   },
   {
    "duration": 49,
    "start_time": "2022-04-30T19:59:13.086Z"
   },
   {
    "duration": 126,
    "start_time": "2022-04-30T19:59:13.138Z"
   },
   {
    "duration": 0,
    "start_time": "2022-04-30T19:59:13.271Z"
   },
   {
    "duration": 0,
    "start_time": "2022-04-30T19:59:13.274Z"
   },
   {
    "duration": 0,
    "start_time": "2022-04-30T19:59:13.282Z"
   },
   {
    "duration": 0,
    "start_time": "2022-04-30T19:59:13.285Z"
   },
   {
    "duration": 0,
    "start_time": "2022-04-30T19:59:13.287Z"
   },
   {
    "duration": 0,
    "start_time": "2022-04-30T19:59:13.289Z"
   },
   {
    "duration": 0,
    "start_time": "2022-04-30T19:59:13.291Z"
   },
   {
    "duration": 0,
    "start_time": "2022-04-30T19:59:13.293Z"
   },
   {
    "duration": 0,
    "start_time": "2022-04-30T19:59:13.295Z"
   },
   {
    "duration": 0,
    "start_time": "2022-04-30T19:59:13.297Z"
   },
   {
    "duration": 0,
    "start_time": "2022-04-30T19:59:13.299Z"
   },
   {
    "duration": 0,
    "start_time": "2022-04-30T19:59:13.301Z"
   },
   {
    "duration": 0,
    "start_time": "2022-04-30T19:59:13.304Z"
   },
   {
    "duration": 0,
    "start_time": "2022-04-30T19:59:13.306Z"
   },
   {
    "duration": 0,
    "start_time": "2022-04-30T19:59:13.308Z"
   },
   {
    "duration": 0,
    "start_time": "2022-04-30T19:59:13.310Z"
   },
   {
    "duration": 0,
    "start_time": "2022-04-30T19:59:13.313Z"
   },
   {
    "duration": 0,
    "start_time": "2022-04-30T19:59:13.314Z"
   },
   {
    "duration": 0,
    "start_time": "2022-04-30T19:59:13.318Z"
   },
   {
    "duration": 0,
    "start_time": "2022-04-30T19:59:13.320Z"
   },
   {
    "duration": 0,
    "start_time": "2022-04-30T19:59:13.322Z"
   },
   {
    "duration": 0,
    "start_time": "2022-04-30T19:59:13.384Z"
   },
   {
    "duration": 0,
    "start_time": "2022-04-30T19:59:13.386Z"
   },
   {
    "duration": 0,
    "start_time": "2022-04-30T19:59:13.388Z"
   },
   {
    "duration": 0,
    "start_time": "2022-04-30T19:59:13.390Z"
   },
   {
    "duration": 0,
    "start_time": "2022-04-30T19:59:13.393Z"
   },
   {
    "duration": 0,
    "start_time": "2022-04-30T19:59:13.396Z"
   },
   {
    "duration": 0,
    "start_time": "2022-04-30T19:59:13.398Z"
   },
   {
    "duration": 0,
    "start_time": "2022-04-30T19:59:13.401Z"
   },
   {
    "duration": 0,
    "start_time": "2022-04-30T19:59:13.403Z"
   },
   {
    "duration": 0,
    "start_time": "2022-04-30T19:59:13.405Z"
   },
   {
    "duration": 0,
    "start_time": "2022-04-30T19:59:13.407Z"
   },
   {
    "duration": 0,
    "start_time": "2022-04-30T19:59:13.409Z"
   },
   {
    "duration": 0,
    "start_time": "2022-04-30T19:59:13.411Z"
   },
   {
    "duration": 0,
    "start_time": "2022-04-30T19:59:13.412Z"
   },
   {
    "duration": 0,
    "start_time": "2022-04-30T19:59:13.414Z"
   },
   {
    "duration": 0,
    "start_time": "2022-04-30T19:59:13.416Z"
   },
   {
    "duration": 0,
    "start_time": "2022-04-30T19:59:13.419Z"
   },
   {
    "duration": 0,
    "start_time": "2022-04-30T19:59:13.482Z"
   },
   {
    "duration": 0,
    "start_time": "2022-04-30T19:59:13.484Z"
   },
   {
    "duration": 0,
    "start_time": "2022-04-30T19:59:13.486Z"
   },
   {
    "duration": 0,
    "start_time": "2022-04-30T19:59:13.494Z"
   },
   {
    "duration": 0,
    "start_time": "2022-04-30T19:59:13.495Z"
   },
   {
    "duration": 0,
    "start_time": "2022-04-30T19:59:13.498Z"
   },
   {
    "duration": 0,
    "start_time": "2022-04-30T19:59:13.500Z"
   },
   {
    "duration": 0,
    "start_time": "2022-04-30T19:59:13.502Z"
   },
   {
    "duration": 1,
    "start_time": "2022-04-30T19:59:13.504Z"
   },
   {
    "duration": 0,
    "start_time": "2022-04-30T19:59:13.506Z"
   },
   {
    "duration": 0,
    "start_time": "2022-04-30T19:59:13.509Z"
   },
   {
    "duration": 0,
    "start_time": "2022-04-30T19:59:13.511Z"
   },
   {
    "duration": 0,
    "start_time": "2022-04-30T19:59:13.513Z"
   },
   {
    "duration": 0,
    "start_time": "2022-04-30T19:59:13.515Z"
   },
   {
    "duration": 0,
    "start_time": "2022-04-30T19:59:13.517Z"
   },
   {
    "duration": 0,
    "start_time": "2022-04-30T19:59:13.519Z"
   },
   {
    "duration": 0,
    "start_time": "2022-04-30T19:59:13.521Z"
   },
   {
    "duration": 0,
    "start_time": "2022-04-30T19:59:13.583Z"
   },
   {
    "duration": 0,
    "start_time": "2022-04-30T19:59:13.585Z"
   },
   {
    "duration": 0,
    "start_time": "2022-04-30T19:59:13.587Z"
   },
   {
    "duration": 0,
    "start_time": "2022-04-30T19:59:13.590Z"
   },
   {
    "duration": 0,
    "start_time": "2022-04-30T19:59:13.593Z"
   },
   {
    "duration": 0,
    "start_time": "2022-04-30T19:59:13.595Z"
   },
   {
    "duration": 14,
    "start_time": "2022-04-30T20:01:27.652Z"
   },
   {
    "duration": 53,
    "start_time": "2022-04-30T20:01:27.853Z"
   },
   {
    "duration": 9,
    "start_time": "2022-04-30T20:06:56.510Z"
   },
   {
    "duration": 44,
    "start_time": "2022-04-30T20:07:10.892Z"
   },
   {
    "duration": 6,
    "start_time": "2022-04-30T20:09:45.696Z"
   },
   {
    "duration": 1146,
    "start_time": "2022-04-30T20:09:46.018Z"
   },
   {
    "duration": 1486,
    "start_time": "2022-04-30T20:10:22.136Z"
   },
   {
    "duration": 583,
    "start_time": "2022-04-30T20:10:42.325Z"
   },
   {
    "duration": 4,
    "start_time": "2022-04-30T20:10:42.912Z"
   },
   {
    "duration": 543,
    "start_time": "2022-04-30T20:10:42.919Z"
   },
   {
    "duration": 619,
    "start_time": "2022-04-30T20:10:43.467Z"
   },
   {
    "duration": 5,
    "start_time": "2022-04-30T20:10:44.088Z"
   },
   {
    "duration": 8,
    "start_time": "2022-04-30T20:10:44.096Z"
   },
   {
    "duration": 9,
    "start_time": "2022-04-30T20:10:44.110Z"
   },
   {
    "duration": 11,
    "start_time": "2022-04-30T20:10:44.122Z"
   },
   {
    "duration": 50,
    "start_time": "2022-04-30T20:10:44.136Z"
   },
   {
    "duration": 19,
    "start_time": "2022-04-30T20:10:44.190Z"
   },
   {
    "duration": 21,
    "start_time": "2022-04-30T20:10:44.213Z"
   },
   {
    "duration": 53,
    "start_time": "2022-04-30T20:10:44.237Z"
   },
   {
    "duration": 27,
    "start_time": "2022-04-30T20:10:44.293Z"
   },
   {
    "duration": 72,
    "start_time": "2022-04-30T20:10:44.323Z"
   },
   {
    "duration": 31,
    "start_time": "2022-04-30T20:10:44.399Z"
   },
   {
    "duration": 15,
    "start_time": "2022-04-30T20:10:44.432Z"
   },
   {
    "duration": 45,
    "start_time": "2022-04-30T20:10:44.449Z"
   },
   {
    "duration": 30,
    "start_time": "2022-04-30T20:10:44.496Z"
   },
   {
    "duration": 21,
    "start_time": "2022-04-30T20:10:44.529Z"
   },
   {
    "duration": 34,
    "start_time": "2022-04-30T20:10:44.553Z"
   },
   {
    "duration": 61,
    "start_time": "2022-04-30T20:10:44.589Z"
   },
   {
    "duration": 65,
    "start_time": "2022-04-30T20:10:44.653Z"
   },
   {
    "duration": 75,
    "start_time": "2022-04-30T20:10:44.721Z"
   },
   {
    "duration": 48,
    "start_time": "2022-04-30T20:10:44.798Z"
   },
   {
    "duration": 8,
    "start_time": "2022-04-30T20:10:44.849Z"
   },
   {
    "duration": 40,
    "start_time": "2022-04-30T20:10:44.860Z"
   },
   {
    "duration": 26,
    "start_time": "2022-04-30T20:10:44.903Z"
   },
   {
    "duration": 56,
    "start_time": "2022-04-30T20:10:44.938Z"
   },
   {
    "duration": 29,
    "start_time": "2022-04-30T20:10:44.997Z"
   },
   {
    "duration": 11,
    "start_time": "2022-04-30T20:10:45.029Z"
   },
   {
    "duration": 19,
    "start_time": "2022-04-30T20:10:45.043Z"
   },
   {
    "duration": 56,
    "start_time": "2022-04-30T20:10:45.081Z"
   },
   {
    "duration": 41,
    "start_time": "2022-04-30T20:10:45.141Z"
   },
   {
    "duration": 46,
    "start_time": "2022-04-30T20:10:45.185Z"
   },
   {
    "duration": 17,
    "start_time": "2022-04-30T20:10:45.234Z"
   },
   {
    "duration": 39,
    "start_time": "2022-04-30T20:10:45.253Z"
   },
   {
    "duration": 39,
    "start_time": "2022-04-30T20:10:45.294Z"
   },
   {
    "duration": 21,
    "start_time": "2022-04-30T20:10:45.335Z"
   },
   {
    "duration": 9,
    "start_time": "2022-04-30T20:10:45.383Z"
   },
   {
    "duration": 26,
    "start_time": "2022-04-30T20:10:45.394Z"
   },
   {
    "duration": 95,
    "start_time": "2022-04-30T20:10:45.423Z"
   },
   {
    "duration": 20,
    "start_time": "2022-04-30T20:10:45.521Z"
   },
   {
    "duration": 38,
    "start_time": "2022-04-30T20:10:45.544Z"
   },
   {
    "duration": 51,
    "start_time": "2022-04-30T20:10:45.585Z"
   },
   {
    "duration": 47,
    "start_time": "2022-04-30T20:10:45.639Z"
   },
   {
    "duration": 47,
    "start_time": "2022-04-30T20:10:45.689Z"
   },
   {
    "duration": 44,
    "start_time": "2022-04-30T20:10:45.740Z"
   },
   {
    "duration": 31,
    "start_time": "2022-04-30T20:10:45.787Z"
   },
   {
    "duration": 18,
    "start_time": "2022-04-30T20:10:45.821Z"
   },
   {
    "duration": 48,
    "start_time": "2022-04-30T20:10:45.842Z"
   },
   {
    "duration": 30,
    "start_time": "2022-04-30T20:10:45.894Z"
   },
   {
    "duration": 12,
    "start_time": "2022-04-30T20:10:45.927Z"
   },
   {
    "duration": 29,
    "start_time": "2022-04-30T20:10:45.942Z"
   },
   {
    "duration": 22,
    "start_time": "2022-04-30T20:10:45.980Z"
   },
   {
    "duration": 13,
    "start_time": "2022-04-30T20:10:46.005Z"
   },
   {
    "duration": 12,
    "start_time": "2022-04-30T20:10:46.021Z"
   },
   {
    "duration": 78,
    "start_time": "2022-04-30T20:10:46.036Z"
   },
   {
    "duration": 14,
    "start_time": "2022-04-30T20:10:46.117Z"
   },
   {
    "duration": 17,
    "start_time": "2022-04-30T20:10:46.134Z"
   },
   {
    "duration": 28,
    "start_time": "2022-04-30T20:10:46.154Z"
   },
   {
    "duration": 13,
    "start_time": "2022-04-30T20:10:46.186Z"
   },
   {
    "duration": 27,
    "start_time": "2022-04-30T20:10:46.202Z"
   },
   {
    "duration": 10,
    "start_time": "2022-04-30T20:10:46.232Z"
   },
   {
    "duration": 40,
    "start_time": "2022-04-30T20:10:46.245Z"
   },
   {
    "duration": 18,
    "start_time": "2022-04-30T20:10:46.288Z"
   },
   {
    "duration": 13,
    "start_time": "2022-04-30T20:10:46.309Z"
   },
   {
    "duration": 24,
    "start_time": "2022-04-30T20:10:46.324Z"
   },
   {
    "duration": 87,
    "start_time": "2022-04-30T20:10:46.351Z"
   },
   {
    "duration": 14,
    "start_time": "2022-04-30T20:10:46.441Z"
   },
   {
    "duration": 1410,
    "start_time": "2022-04-30T20:10:46.458Z"
   },
   {
    "duration": 0,
    "start_time": "2022-04-30T20:10:47.875Z"
   },
   {
    "duration": 0,
    "start_time": "2022-04-30T20:10:47.876Z"
   },
   {
    "duration": 0,
    "start_time": "2022-04-30T20:10:47.878Z"
   },
   {
    "duration": 0,
    "start_time": "2022-04-30T20:10:47.880Z"
   },
   {
    "duration": 0,
    "start_time": "2022-04-30T20:10:47.882Z"
   },
   {
    "duration": 0,
    "start_time": "2022-04-30T20:10:47.883Z"
   },
   {
    "duration": 0,
    "start_time": "2022-04-30T20:10:47.885Z"
   },
   {
    "duration": 0,
    "start_time": "2022-04-30T20:10:47.887Z"
   },
   {
    "duration": 0,
    "start_time": "2022-04-30T20:10:47.889Z"
   },
   {
    "duration": 1,
    "start_time": "2022-04-30T20:10:47.890Z"
   },
   {
    "duration": 0,
    "start_time": "2022-04-30T20:10:47.893Z"
   },
   {
    "duration": 0,
    "start_time": "2022-04-30T20:10:47.896Z"
   },
   {
    "duration": 0,
    "start_time": "2022-04-30T20:10:47.898Z"
   },
   {
    "duration": 0,
    "start_time": "2022-04-30T20:10:47.900Z"
   },
   {
    "duration": 0,
    "start_time": "2022-04-30T20:10:47.902Z"
   },
   {
    "duration": 0,
    "start_time": "2022-04-30T20:10:47.905Z"
   },
   {
    "duration": 0,
    "start_time": "2022-04-30T20:10:47.907Z"
   },
   {
    "duration": 0,
    "start_time": "2022-04-30T20:10:47.909Z"
   },
   {
    "duration": 0,
    "start_time": "2022-04-30T20:10:47.912Z"
   },
   {
    "duration": 0,
    "start_time": "2022-04-30T20:10:47.913Z"
   },
   {
    "duration": 0,
    "start_time": "2022-04-30T20:10:47.915Z"
   },
   {
    "duration": 0,
    "start_time": "2022-04-30T20:10:47.917Z"
   },
   {
    "duration": 0,
    "start_time": "2022-04-30T20:10:47.918Z"
   },
   {
    "duration": 0,
    "start_time": "2022-04-30T20:10:47.920Z"
   },
   {
    "duration": 0,
    "start_time": "2022-04-30T20:10:47.921Z"
   },
   {
    "duration": 0,
    "start_time": "2022-04-30T20:10:47.922Z"
   },
   {
    "duration": 1,
    "start_time": "2022-04-30T20:10:47.923Z"
   },
   {
    "duration": 0,
    "start_time": "2022-04-30T20:10:47.925Z"
   },
   {
    "duration": 0,
    "start_time": "2022-04-30T20:10:47.982Z"
   },
   {
    "duration": 0,
    "start_time": "2022-04-30T20:10:47.985Z"
   },
   {
    "duration": 0,
    "start_time": "2022-04-30T20:10:47.987Z"
   },
   {
    "duration": 0,
    "start_time": "2022-04-30T20:10:47.988Z"
   },
   {
    "duration": 0,
    "start_time": "2022-04-30T20:10:47.990Z"
   },
   {
    "duration": 0,
    "start_time": "2022-04-30T20:10:47.992Z"
   },
   {
    "duration": 0,
    "start_time": "2022-04-30T20:10:47.993Z"
   },
   {
    "duration": 0,
    "start_time": "2022-04-30T20:10:47.994Z"
   },
   {
    "duration": 0,
    "start_time": "2022-04-30T20:10:47.996Z"
   },
   {
    "duration": 0,
    "start_time": "2022-04-30T20:10:47.997Z"
   },
   {
    "duration": 0,
    "start_time": "2022-04-30T20:10:47.998Z"
   },
   {
    "duration": 0,
    "start_time": "2022-04-30T20:10:48.000Z"
   },
   {
    "duration": 0,
    "start_time": "2022-04-30T20:10:48.001Z"
   },
   {
    "duration": 0,
    "start_time": "2022-04-30T20:10:48.003Z"
   },
   {
    "duration": 0,
    "start_time": "2022-04-30T20:10:48.004Z"
   },
   {
    "duration": 1,
    "start_time": "2022-04-30T20:10:48.005Z"
   },
   {
    "duration": 0,
    "start_time": "2022-04-30T20:10:48.007Z"
   },
   {
    "duration": 0,
    "start_time": "2022-04-30T20:10:48.008Z"
   },
   {
    "duration": 0,
    "start_time": "2022-04-30T20:10:48.010Z"
   },
   {
    "duration": 0,
    "start_time": "2022-04-30T20:10:48.011Z"
   },
   {
    "duration": 0,
    "start_time": "2022-04-30T20:10:48.013Z"
   },
   {
    "duration": 0,
    "start_time": "2022-04-30T20:10:48.015Z"
   },
   {
    "duration": 0,
    "start_time": "2022-04-30T20:10:48.016Z"
   },
   {
    "duration": 0,
    "start_time": "2022-04-30T20:10:48.017Z"
   },
   {
    "duration": 0,
    "start_time": "2022-04-30T20:10:48.018Z"
   },
   {
    "duration": 0,
    "start_time": "2022-04-30T20:10:48.019Z"
   },
   {
    "duration": 0,
    "start_time": "2022-04-30T20:10:48.021Z"
   },
   {
    "duration": 0,
    "start_time": "2022-04-30T20:10:48.082Z"
   },
   {
    "duration": 0,
    "start_time": "2022-04-30T20:10:48.084Z"
   },
   {
    "duration": 0,
    "start_time": "2022-04-30T20:10:48.085Z"
   },
   {
    "duration": 0,
    "start_time": "2022-04-30T20:10:48.087Z"
   },
   {
    "duration": 9,
    "start_time": "2022-04-30T20:12:24.356Z"
   },
   {
    "duration": 7,
    "start_time": "2022-04-30T20:12:28.532Z"
   },
   {
    "duration": 6,
    "start_time": "2022-04-30T20:12:43.472Z"
   },
   {
    "duration": 1192,
    "start_time": "2022-04-30T20:12:44.829Z"
   },
   {
    "duration": 222,
    "start_time": "2022-04-30T20:14:53.416Z"
   },
   {
    "duration": 46,
    "start_time": "2022-04-30T20:14:57.272Z"
   },
   {
    "duration": 1823,
    "start_time": "2022-04-30T20:16:22.725Z"
   },
   {
    "duration": 171,
    "start_time": "2022-04-30T20:16:45.511Z"
   },
   {
    "duration": 46,
    "start_time": "2022-04-30T20:16:46.234Z"
   },
   {
    "duration": 13,
    "start_time": "2022-04-30T20:16:48.044Z"
   },
   {
    "duration": 104,
    "start_time": "2022-04-30T20:21:21.923Z"
   },
   {
    "duration": 7,
    "start_time": "2022-04-30T20:21:56.448Z"
   },
   {
    "duration": 22,
    "start_time": "2022-04-30T20:21:56.613Z"
   },
   {
    "duration": 15,
    "start_time": "2022-04-30T20:21:56.779Z"
   },
   {
    "duration": 29,
    "start_time": "2022-04-30T20:21:58.062Z"
   },
   {
    "duration": 29,
    "start_time": "2022-04-30T20:22:59.416Z"
   },
   {
    "duration": 670,
    "start_time": "2022-04-30T20:23:08.507Z"
   },
   {
    "duration": 405,
    "start_time": "2022-04-30T20:24:12.210Z"
   },
   {
    "duration": 340,
    "start_time": "2022-04-30T20:27:12.014Z"
   },
   {
    "duration": 373,
    "start_time": "2022-04-30T20:27:32.480Z"
   },
   {
    "duration": 455,
    "start_time": "2022-04-30T20:27:38.537Z"
   },
   {
    "duration": 437,
    "start_time": "2022-04-30T20:27:54.653Z"
   },
   {
    "duration": 309,
    "start_time": "2022-04-30T20:31:13.353Z"
   },
   {
    "duration": 479,
    "start_time": "2022-04-30T20:31:44.560Z"
   },
   {
    "duration": 344,
    "start_time": "2022-04-30T20:32:08.089Z"
   },
   {
    "duration": 405,
    "start_time": "2022-04-30T20:32:17.271Z"
   },
   {
    "duration": 3,
    "start_time": "2022-04-30T20:33:07.161Z"
   },
   {
    "duration": 47,
    "start_time": "2022-04-30T20:38:05.724Z"
   },
   {
    "duration": 1969,
    "start_time": "2022-04-30T20:39:33.102Z"
   },
   {
    "duration": 10,
    "start_time": "2022-04-30T20:40:01.101Z"
   },
   {
    "duration": 46,
    "start_time": "2022-04-30T20:40:10.467Z"
   },
   {
    "duration": 6,
    "start_time": "2022-04-30T20:40:19.734Z"
   },
   {
    "duration": 12,
    "start_time": "2022-04-30T20:41:06.960Z"
   },
   {
    "duration": 17,
    "start_time": "2022-04-30T20:41:12.236Z"
   },
   {
    "duration": 131,
    "start_time": "2022-04-30T20:42:53.315Z"
   },
   {
    "duration": 10,
    "start_time": "2022-04-30T20:44:12.790Z"
   },
   {
    "duration": 9,
    "start_time": "2022-04-30T20:44:12.983Z"
   },
   {
    "duration": 9,
    "start_time": "2022-04-30T20:44:13.163Z"
   },
   {
    "duration": 441,
    "start_time": "2022-04-30T20:47:55.134Z"
   },
   {
    "duration": 546,
    "start_time": "2022-04-30T20:47:55.582Z"
   },
   {
    "duration": 465,
    "start_time": "2022-04-30T20:47:56.131Z"
   },
   {
    "duration": 460,
    "start_time": "2022-04-30T20:47:56.599Z"
   },
   {
    "duration": 12,
    "start_time": "2022-04-30T20:51:55.238Z"
   },
   {
    "duration": 5,
    "start_time": "2022-04-30T20:52:00.817Z"
   },
   {
    "duration": 27,
    "start_time": "2022-04-30T20:52:00.825Z"
   },
   {
    "duration": 402,
    "start_time": "2022-04-30T20:52:00.854Z"
   },
   {
    "duration": 9,
    "start_time": "2022-04-30T20:52:01.259Z"
   },
   {
    "duration": 10,
    "start_time": "2022-04-30T20:52:01.284Z"
   },
   {
    "duration": 28,
    "start_time": "2022-04-30T20:52:01.296Z"
   },
   {
    "duration": 446,
    "start_time": "2022-04-30T20:52:01.326Z"
   },
   {
    "duration": 528,
    "start_time": "2022-04-30T20:52:01.782Z"
   },
   {
    "duration": 7,
    "start_time": "2022-04-30T20:52:02.312Z"
   },
   {
    "duration": 445,
    "start_time": "2022-04-30T20:52:02.322Z"
   },
   {
    "duration": 476,
    "start_time": "2022-04-30T20:52:02.772Z"
   },
   {
    "duration": 382,
    "start_time": "2022-04-30T20:52:03.251Z"
   },
   {
    "duration": 709,
    "start_time": "2022-04-30T20:52:03.635Z"
   },
   {
    "duration": 5,
    "start_time": "2022-04-30T20:52:04.346Z"
   },
   {
    "duration": 7,
    "start_time": "2022-04-30T20:52:04.353Z"
   },
   {
    "duration": 19,
    "start_time": "2022-04-30T20:52:04.363Z"
   },
   {
    "duration": 6,
    "start_time": "2022-04-30T20:52:04.385Z"
   },
   {
    "duration": 10,
    "start_time": "2022-04-30T20:52:04.394Z"
   },
   {
    "duration": 15,
    "start_time": "2022-04-30T20:52:04.407Z"
   },
   {
    "duration": 9,
    "start_time": "2022-04-30T20:52:04.424Z"
   },
   {
    "duration": 48,
    "start_time": "2022-04-30T20:52:04.436Z"
   },
   {
    "duration": 6,
    "start_time": "2022-04-30T20:54:11.106Z"
   },
   {
    "duration": 3,
    "start_time": "2022-04-30T20:54:14.527Z"
   },
   {
    "duration": 23,
    "start_time": "2022-04-30T20:55:38.335Z"
   },
   {
    "duration": 15,
    "start_time": "2022-04-30T20:55:45.422Z"
   },
   {
    "duration": 6,
    "start_time": "2022-04-30T20:59:38.982Z"
   },
   {
    "duration": 21,
    "start_time": "2022-04-30T21:01:14.766Z"
   },
   {
    "duration": 31,
    "start_time": "2022-04-30T21:01:17.115Z"
   },
   {
    "duration": 7,
    "start_time": "2022-04-30T21:01:23.798Z"
   },
   {
    "duration": 17,
    "start_time": "2022-04-30T21:01:23.979Z"
   },
   {
    "duration": 29,
    "start_time": "2022-04-30T21:01:24.165Z"
   },
   {
    "duration": 644,
    "start_time": "2022-04-30T21:01:38.490Z"
   },
   {
    "duration": 1031,
    "start_time": "2022-04-30T21:03:27.513Z"
   },
   {
    "duration": 657,
    "start_time": "2022-04-30T21:03:39.536Z"
   },
   {
    "duration": 898,
    "start_time": "2022-04-30T21:04:29.539Z"
   },
   {
    "duration": 371,
    "start_time": "2022-04-30T21:04:42.286Z"
   },
   {
    "duration": 360,
    "start_time": "2022-04-30T21:05:08.507Z"
   },
   {
    "duration": 365,
    "start_time": "2022-04-30T21:05:51.107Z"
   },
   {
    "duration": 358,
    "start_time": "2022-04-30T21:06:18.718Z"
   },
   {
    "duration": 287,
    "start_time": "2022-04-30T21:06:50.656Z"
   },
   {
    "duration": 361,
    "start_time": "2022-04-30T21:06:59.737Z"
   },
   {
    "duration": 359,
    "start_time": "2022-04-30T21:07:15.322Z"
   },
   {
    "duration": 527,
    "start_time": "2022-04-30T21:08:05.649Z"
   },
   {
    "duration": 343,
    "start_time": "2022-04-30T21:08:32.111Z"
   },
   {
    "duration": 354,
    "start_time": "2022-04-30T21:09:02.004Z"
   },
   {
    "duration": 3,
    "start_time": "2022-04-30T21:15:01.032Z"
   },
   {
    "duration": 4,
    "start_time": "2022-04-30T21:15:01.666Z"
   },
   {
    "duration": 3,
    "start_time": "2022-04-30T21:15:01.875Z"
   },
   {
    "duration": 4,
    "start_time": "2022-04-30T21:15:02.055Z"
   },
   {
    "duration": 5,
    "start_time": "2022-04-30T21:15:02.235Z"
   },
   {
    "duration": 6,
    "start_time": "2022-04-30T21:15:02.417Z"
   },
   {
    "duration": 6,
    "start_time": "2022-04-30T21:15:02.610Z"
   },
   {
    "duration": 5,
    "start_time": "2022-04-30T21:15:03.068Z"
   },
   {
    "duration": 5,
    "start_time": "2022-04-30T21:15:03.575Z"
   },
   {
    "duration": 20,
    "start_time": "2022-04-30T21:16:22.448Z"
   },
   {
    "duration": 417,
    "start_time": "2022-04-30T21:16:25.039Z"
   },
   {
    "duration": 44,
    "start_time": "2022-04-30T21:22:27.671Z"
   },
   {
    "duration": 35,
    "start_time": "2022-04-30T21:22:33.083Z"
   },
   {
    "duration": 16,
    "start_time": "2022-04-30T21:23:26.356Z"
   },
   {
    "duration": 143,
    "start_time": "2022-04-30T21:23:32.786Z"
   },
   {
    "duration": 6,
    "start_time": "2022-04-30T21:23:35.438Z"
   },
   {
    "duration": 40,
    "start_time": "2022-04-30T21:25:27.331Z"
   },
   {
    "duration": 95,
    "start_time": "2022-04-30T21:28:21.437Z"
   },
   {
    "duration": 394,
    "start_time": "2022-04-30T21:39:04.946Z"
   },
   {
    "duration": 398,
    "start_time": "2022-04-30T21:39:59.797Z"
   },
   {
    "duration": 372,
    "start_time": "2022-04-30T21:40:21.941Z"
   },
   {
    "duration": 511,
    "start_time": "2022-04-30T21:40:38.337Z"
   },
   {
    "duration": 8,
    "start_time": "2022-04-30T21:43:37.061Z"
   },
   {
    "duration": 4,
    "start_time": "2022-04-30T21:43:37.937Z"
   },
   {
    "duration": 5,
    "start_time": "2022-04-30T21:43:38.240Z"
   },
   {
    "duration": 6,
    "start_time": "2022-04-30T21:43:38.478Z"
   },
   {
    "duration": 5,
    "start_time": "2022-04-30T21:43:38.733Z"
   },
   {
    "duration": 397,
    "start_time": "2022-05-01T05:34:09.522Z"
   },
   {
    "duration": 2,
    "start_time": "2022-05-01T05:34:09.921Z"
   },
   {
    "duration": 440,
    "start_time": "2022-05-01T05:34:09.924Z"
   },
   {
    "duration": 438,
    "start_time": "2022-05-01T05:34:10.367Z"
   },
   {
    "duration": 3,
    "start_time": "2022-05-01T05:34:10.807Z"
   },
   {
    "duration": 7,
    "start_time": "2022-05-01T05:34:10.811Z"
   },
   {
    "duration": 8,
    "start_time": "2022-05-01T05:34:10.819Z"
   },
   {
    "duration": 5,
    "start_time": "2022-05-01T05:34:10.828Z"
   },
   {
    "duration": 14,
    "start_time": "2022-05-01T05:34:10.835Z"
   },
   {
    "duration": 11,
    "start_time": "2022-05-01T05:34:10.851Z"
   },
   {
    "duration": 11,
    "start_time": "2022-05-01T05:34:10.863Z"
   },
   {
    "duration": 21,
    "start_time": "2022-05-01T05:34:10.876Z"
   },
   {
    "duration": 15,
    "start_time": "2022-05-01T05:34:10.899Z"
   },
   {
    "duration": 28,
    "start_time": "2022-05-01T05:34:10.916Z"
   },
   {
    "duration": 19,
    "start_time": "2022-05-01T05:34:10.945Z"
   },
   {
    "duration": 28,
    "start_time": "2022-05-01T05:34:10.965Z"
   },
   {
    "duration": 9,
    "start_time": "2022-05-01T05:34:10.994Z"
   },
   {
    "duration": 20,
    "start_time": "2022-05-01T05:34:11.005Z"
   },
   {
    "duration": 13,
    "start_time": "2022-05-01T05:34:11.026Z"
   },
   {
    "duration": 7,
    "start_time": "2022-05-01T05:34:11.040Z"
   },
   {
    "duration": 56,
    "start_time": "2022-05-01T05:34:11.049Z"
   },
   {
    "duration": 34,
    "start_time": "2022-05-01T05:34:11.106Z"
   },
   {
    "duration": 23,
    "start_time": "2022-05-01T05:34:11.142Z"
   },
   {
    "duration": 37,
    "start_time": "2022-05-01T05:34:11.167Z"
   },
   {
    "duration": 3,
    "start_time": "2022-05-01T05:34:11.206Z"
   },
   {
    "duration": 11,
    "start_time": "2022-05-01T05:34:11.211Z"
   },
   {
    "duration": 16,
    "start_time": "2022-05-01T05:34:11.223Z"
   },
   {
    "duration": 22,
    "start_time": "2022-05-01T05:34:11.243Z"
   },
   {
    "duration": 37,
    "start_time": "2022-05-01T05:34:11.267Z"
   },
   {
    "duration": 3,
    "start_time": "2022-05-01T05:34:11.306Z"
   },
   {
    "duration": 7,
    "start_time": "2022-05-01T05:34:11.311Z"
   },
   {
    "duration": 30,
    "start_time": "2022-05-01T05:34:11.320Z"
   },
   {
    "duration": 10,
    "start_time": "2022-05-01T05:34:11.352Z"
   },
   {
    "duration": 59,
    "start_time": "2022-05-01T05:34:11.364Z"
   },
   {
    "duration": 12,
    "start_time": "2022-05-01T05:34:11.424Z"
   },
   {
    "duration": 8,
    "start_time": "2022-05-01T05:34:11.438Z"
   },
   {
    "duration": 26,
    "start_time": "2022-05-01T05:34:11.447Z"
   },
   {
    "duration": 11,
    "start_time": "2022-05-01T05:34:11.492Z"
   },
   {
    "duration": 7,
    "start_time": "2022-05-01T05:34:11.504Z"
   },
   {
    "duration": 13,
    "start_time": "2022-05-01T05:34:11.513Z"
   },
   {
    "duration": 65,
    "start_time": "2022-05-01T05:34:11.527Z"
   },
   {
    "duration": 15,
    "start_time": "2022-05-01T05:34:11.594Z"
   },
   {
    "duration": 12,
    "start_time": "2022-05-01T05:34:11.610Z"
   },
   {
    "duration": 23,
    "start_time": "2022-05-01T05:34:11.624Z"
   },
   {
    "duration": 12,
    "start_time": "2022-05-01T05:34:11.650Z"
   },
   {
    "duration": 49,
    "start_time": "2022-05-01T05:34:11.663Z"
   },
   {
    "duration": 12,
    "start_time": "2022-05-01T05:34:11.714Z"
   },
   {
    "duration": 21,
    "start_time": "2022-05-01T05:34:11.727Z"
   },
   {
    "duration": 10,
    "start_time": "2022-05-01T05:34:11.750Z"
   },
   {
    "duration": 35,
    "start_time": "2022-05-01T05:34:11.762Z"
   },
   {
    "duration": 12,
    "start_time": "2022-05-01T05:34:11.799Z"
   },
   {
    "duration": 8,
    "start_time": "2022-05-01T05:34:11.812Z"
   },
   {
    "duration": 17,
    "start_time": "2022-05-01T05:34:11.821Z"
   },
   {
    "duration": 9,
    "start_time": "2022-05-01T05:34:11.840Z"
   },
   {
    "duration": 6,
    "start_time": "2022-05-01T05:34:11.851Z"
   },
   {
    "duration": 5,
    "start_time": "2022-05-01T05:34:11.858Z"
   },
   {
    "duration": 38,
    "start_time": "2022-05-01T05:34:11.864Z"
   },
   {
    "duration": 6,
    "start_time": "2022-05-01T05:34:11.904Z"
   },
   {
    "duration": 5,
    "start_time": "2022-05-01T05:34:11.911Z"
   },
   {
    "duration": 7,
    "start_time": "2022-05-01T05:34:11.918Z"
   },
   {
    "duration": 11,
    "start_time": "2022-05-01T05:34:11.927Z"
   },
   {
    "duration": 6,
    "start_time": "2022-05-01T05:34:11.939Z"
   },
   {
    "duration": 9,
    "start_time": "2022-05-01T05:34:11.947Z"
   },
   {
    "duration": 21,
    "start_time": "2022-05-01T05:34:11.958Z"
   },
   {
    "duration": 19,
    "start_time": "2022-05-01T05:34:11.980Z"
   },
   {
    "duration": 6,
    "start_time": "2022-05-01T05:34:12.001Z"
   },
   {
    "duration": 12,
    "start_time": "2022-05-01T05:34:12.009Z"
   },
   {
    "duration": 28,
    "start_time": "2022-05-01T05:34:12.022Z"
   },
   {
    "duration": 4,
    "start_time": "2022-05-01T05:34:12.052Z"
   },
   {
    "duration": 8,
    "start_time": "2022-05-01T05:34:12.057Z"
   },
   {
    "duration": 98,
    "start_time": "2022-05-01T05:34:12.067Z"
   },
   {
    "duration": 38,
    "start_time": "2022-05-01T05:34:12.167Z"
   },
   {
    "duration": 4,
    "start_time": "2022-05-01T05:34:12.207Z"
   },
   {
    "duration": 7,
    "start_time": "2022-05-01T05:34:12.213Z"
   },
   {
    "duration": 13,
    "start_time": "2022-05-01T05:34:12.222Z"
   },
   {
    "duration": 9,
    "start_time": "2022-05-01T05:34:12.237Z"
   },
   {
    "duration": 5,
    "start_time": "2022-05-01T05:34:12.248Z"
   },
   {
    "duration": 42,
    "start_time": "2022-05-01T05:34:12.255Z"
   },
   {
    "duration": 19,
    "start_time": "2022-05-01T05:34:12.299Z"
   },
   {
    "duration": 5,
    "start_time": "2022-05-01T05:34:12.320Z"
   },
   {
    "duration": 11,
    "start_time": "2022-05-01T05:34:12.326Z"
   },
   {
    "duration": 48,
    "start_time": "2022-05-01T05:34:12.344Z"
   },
   {
    "duration": 3,
    "start_time": "2022-05-01T05:34:12.393Z"
   },
   {
    "duration": 220,
    "start_time": "2022-05-01T05:34:12.398Z"
   },
   {
    "duration": 195,
    "start_time": "2022-05-01T05:34:12.620Z"
   },
   {
    "duration": 240,
    "start_time": "2022-05-01T05:34:12.817Z"
   },
   {
    "duration": 7,
    "start_time": "2022-05-01T05:34:13.059Z"
   },
   {
    "duration": 6,
    "start_time": "2022-05-01T05:34:13.068Z"
   },
   {
    "duration": 20,
    "start_time": "2022-05-01T05:34:13.076Z"
   },
   {
    "duration": 48,
    "start_time": "2022-05-01T05:34:13.098Z"
   },
   {
    "duration": 271,
    "start_time": "2022-05-01T05:34:13.148Z"
   },
   {
    "duration": 244,
    "start_time": "2022-05-01T05:34:13.421Z"
   },
   {
    "duration": 258,
    "start_time": "2022-05-01T05:34:13.667Z"
   },
   {
    "duration": 275,
    "start_time": "2022-05-01T05:34:13.927Z"
   },
   {
    "duration": 14,
    "start_time": "2022-05-01T05:34:14.204Z"
   },
   {
    "duration": 261,
    "start_time": "2022-05-01T05:34:14.220Z"
   },
   {
    "duration": 311,
    "start_time": "2022-05-01T05:34:14.483Z"
   },
   {
    "duration": 5,
    "start_time": "2022-05-01T05:34:14.796Z"
   },
   {
    "duration": 253,
    "start_time": "2022-05-01T05:34:14.802Z"
   },
   {
    "duration": 270,
    "start_time": "2022-05-01T05:34:15.057Z"
   },
   {
    "duration": 227,
    "start_time": "2022-05-01T05:34:15.328Z"
   },
   {
    "duration": 204,
    "start_time": "2022-05-01T05:34:15.557Z"
   },
   {
    "duration": 293,
    "start_time": "2022-05-01T05:34:15.763Z"
   },
   {
    "duration": 423,
    "start_time": "2022-05-01T05:34:16.058Z"
   },
   {
    "duration": 4,
    "start_time": "2022-05-01T05:34:16.482Z"
   },
   {
    "duration": 7,
    "start_time": "2022-05-01T05:34:16.487Z"
   },
   {
    "duration": 5,
    "start_time": "2022-05-01T05:34:16.495Z"
   },
   {
    "duration": 4,
    "start_time": "2022-05-01T05:34:16.502Z"
   },
   {
    "duration": 6,
    "start_time": "2022-05-01T05:34:16.508Z"
   },
   {
    "duration": 5,
    "start_time": "2022-05-01T05:34:16.515Z"
   },
   {
    "duration": 7,
    "start_time": "2022-05-01T05:34:16.521Z"
   },
   {
    "duration": 8,
    "start_time": "2022-05-01T05:34:16.529Z"
   },
   {
    "duration": 11,
    "start_time": "2022-05-01T05:34:16.539Z"
   },
   {
    "duration": 8,
    "start_time": "2022-05-01T05:34:16.551Z"
   },
   {
    "duration": 9,
    "start_time": "2022-05-01T05:34:16.561Z"
   },
   {
    "duration": 9,
    "start_time": "2022-05-01T05:34:16.571Z"
   },
   {
    "duration": 28,
    "start_time": "2022-05-01T05:34:16.592Z"
   },
   {
    "duration": 4,
    "start_time": "2022-05-01T05:34:16.621Z"
   },
   {
    "duration": 6,
    "start_time": "2022-05-01T05:34:16.627Z"
   },
   {
    "duration": 9,
    "start_time": "2022-05-01T05:34:16.635Z"
   },
   {
    "duration": 9,
    "start_time": "2022-05-01T05:34:16.645Z"
   },
   {
    "duration": 12,
    "start_time": "2022-05-01T05:34:16.655Z"
   },
   {
    "duration": 8,
    "start_time": "2022-05-01T05:34:16.669Z"
   },
   {
    "duration": 17,
    "start_time": "2022-05-01T05:34:16.678Z"
   },
   {
    "duration": 6,
    "start_time": "2022-05-01T05:35:39.646Z"
   },
   {
    "duration": 92,
    "start_time": "2022-05-01T05:35:50.920Z"
   },
   {
    "duration": 8,
    "start_time": "2022-05-01T05:35:56.419Z"
   },
   {
    "duration": 140,
    "start_time": "2022-05-01T05:36:01.322Z"
   },
   {
    "duration": 8,
    "start_time": "2022-05-01T05:36:38.370Z"
   },
   {
    "duration": 128,
    "start_time": "2022-05-01T05:36:50.293Z"
   },
   {
    "duration": 3,
    "start_time": "2022-05-01T05:37:22.233Z"
   },
   {
    "duration": 27,
    "start_time": "2022-05-01T05:37:34.839Z"
   },
   {
    "duration": 935,
    "start_time": "2022-05-01T05:38:12.060Z"
   },
   {
    "duration": 123,
    "start_time": "2022-05-01T05:38:42.617Z"
   },
   {
    "duration": 119,
    "start_time": "2022-05-01T05:38:50.478Z"
   },
   {
    "duration": 8,
    "start_time": "2022-05-01T05:39:16.801Z"
   },
   {
    "duration": 114,
    "start_time": "2022-05-01T05:39:24.181Z"
   },
   {
    "duration": 118,
    "start_time": "2022-05-01T05:40:05.470Z"
   },
   {
    "duration": 6,
    "start_time": "2022-05-01T05:40:28.538Z"
   },
   {
    "duration": 108,
    "start_time": "2022-05-01T05:40:32.734Z"
   },
   {
    "duration": 25,
    "start_time": "2022-05-01T05:41:32.957Z"
   },
   {
    "duration": 6,
    "start_time": "2022-05-01T05:50:15.534Z"
   },
   {
    "duration": 28,
    "start_time": "2022-05-01T05:50:52.449Z"
   },
   {
    "duration": 3,
    "start_time": "2022-05-01T05:53:55.882Z"
   },
   {
    "duration": 3,
    "start_time": "2022-05-01T05:54:00.784Z"
   },
   {
    "duration": 3,
    "start_time": "2022-05-01T07:34:57.042Z"
   },
   {
    "duration": 4,
    "start_time": "2022-05-01T07:34:57.554Z"
   },
   {
    "duration": 3,
    "start_time": "2022-05-01T07:34:58.630Z"
   },
   {
    "duration": 3,
    "start_time": "2022-05-01T07:36:54.674Z"
   },
   {
    "duration": 3,
    "start_time": "2022-05-01T07:36:55.243Z"
   },
   {
    "duration": 5,
    "start_time": "2022-05-01T07:36:55.605Z"
   },
   {
    "duration": 3,
    "start_time": "2022-05-01T07:36:56.235Z"
   },
   {
    "duration": 3,
    "start_time": "2022-05-01T07:37:01.120Z"
   },
   {
    "duration": 4,
    "start_time": "2022-05-01T07:37:01.490Z"
   },
   {
    "duration": 4,
    "start_time": "2022-05-01T07:37:01.666Z"
   },
   {
    "duration": 4,
    "start_time": "2022-05-01T07:37:01.903Z"
   },
   {
    "duration": 8,
    "start_time": "2022-05-01T07:53:56.749Z"
   },
   {
    "duration": 8,
    "start_time": "2022-05-01T07:55:25.273Z"
   },
   {
    "duration": 5,
    "start_time": "2022-05-01T07:55:32.232Z"
   },
   {
    "duration": 5,
    "start_time": "2022-05-01T07:55:33.285Z"
   },
   {
    "duration": 16,
    "start_time": "2022-05-01T07:55:44.271Z"
   },
   {
    "duration": 7,
    "start_time": "2022-05-01T07:58:51.634Z"
   },
   {
    "duration": 5,
    "start_time": "2022-05-01T07:58:52.603Z"
   },
   {
    "duration": 4,
    "start_time": "2022-05-01T08:00:41.901Z"
   },
   {
    "duration": 3,
    "start_time": "2022-05-01T08:00:42.679Z"
   },
   {
    "duration": 4,
    "start_time": "2022-05-01T08:00:56.642Z"
   },
   {
    "duration": 4,
    "start_time": "2022-05-01T08:00:57.201Z"
   },
   {
    "duration": 3,
    "start_time": "2022-05-01T08:00:58.084Z"
   },
   {
    "duration": 4,
    "start_time": "2022-05-01T08:01:07.115Z"
   },
   {
    "duration": 4,
    "start_time": "2022-05-01T08:01:07.392Z"
   },
   {
    "duration": 4,
    "start_time": "2022-05-01T08:01:07.902Z"
   },
   {
    "duration": 5,
    "start_time": "2022-05-01T08:03:56.679Z"
   },
   {
    "duration": 5,
    "start_time": "2022-05-01T08:04:03.454Z"
   },
   {
    "duration": 3,
    "start_time": "2022-05-01T08:04:27.925Z"
   },
   {
    "duration": 4,
    "start_time": "2022-05-01T08:04:51.571Z"
   },
   {
    "duration": 4,
    "start_time": "2022-05-01T08:05:00.619Z"
   },
   {
    "duration": 4,
    "start_time": "2022-05-01T08:05:27.731Z"
   },
   {
    "duration": 378,
    "start_time": "2022-05-01T16:51:57.560Z"
   },
   {
    "duration": 3,
    "start_time": "2022-05-01T16:51:57.940Z"
   },
   {
    "duration": 492,
    "start_time": "2022-05-01T16:51:57.944Z"
   },
   {
    "duration": 521,
    "start_time": "2022-05-01T16:51:58.439Z"
   },
   {
    "duration": 3,
    "start_time": "2022-05-01T16:51:58.961Z"
   },
   {
    "duration": 6,
    "start_time": "2022-05-01T16:51:58.966Z"
   },
   {
    "duration": 5,
    "start_time": "2022-05-01T16:51:58.973Z"
   },
   {
    "duration": 4,
    "start_time": "2022-05-01T16:51:58.980Z"
   },
   {
    "duration": 16,
    "start_time": "2022-05-01T16:51:58.985Z"
   },
   {
    "duration": 29,
    "start_time": "2022-05-01T16:51:59.003Z"
   },
   {
    "duration": 10,
    "start_time": "2022-05-01T16:51:59.034Z"
   },
   {
    "duration": 8,
    "start_time": "2022-05-01T16:51:59.045Z"
   },
   {
    "duration": 15,
    "start_time": "2022-05-01T16:51:59.055Z"
   },
   {
    "duration": 29,
    "start_time": "2022-05-01T16:51:59.071Z"
   },
   {
    "duration": 21,
    "start_time": "2022-05-01T16:51:59.123Z"
   },
   {
    "duration": 10,
    "start_time": "2022-05-01T16:51:59.145Z"
   },
   {
    "duration": 11,
    "start_time": "2022-05-01T16:51:59.156Z"
   },
   {
    "duration": 19,
    "start_time": "2022-05-01T16:51:59.168Z"
   },
   {
    "duration": 44,
    "start_time": "2022-05-01T16:51:59.188Z"
   },
   {
    "duration": 6,
    "start_time": "2022-05-01T16:51:59.233Z"
   },
   {
    "duration": 33,
    "start_time": "2022-05-01T16:51:59.240Z"
   },
   {
    "duration": 55,
    "start_time": "2022-05-01T16:51:59.275Z"
   },
   {
    "duration": 24,
    "start_time": "2022-05-01T16:51:59.332Z"
   },
   {
    "duration": 21,
    "start_time": "2022-05-01T16:51:59.358Z"
   },
   {
    "duration": 4,
    "start_time": "2022-05-01T16:51:59.381Z"
   },
   {
    "duration": 37,
    "start_time": "2022-05-01T16:51:59.387Z"
   },
   {
    "duration": 15,
    "start_time": "2022-05-01T16:51:59.426Z"
   },
   {
    "duration": 24,
    "start_time": "2022-05-01T16:51:59.446Z"
   },
   {
    "duration": 18,
    "start_time": "2022-05-01T16:51:59.472Z"
   },
   {
    "duration": 3,
    "start_time": "2022-05-01T16:51:59.492Z"
   },
   {
    "duration": 6,
    "start_time": "2022-05-01T16:51:59.522Z"
   },
   {
    "duration": 30,
    "start_time": "2022-05-01T16:51:59.530Z"
   },
   {
    "duration": 14,
    "start_time": "2022-05-01T16:51:59.562Z"
   },
   {
    "duration": 58,
    "start_time": "2022-05-01T16:51:59.577Z"
   },
   {
    "duration": 13,
    "start_time": "2022-05-01T16:51:59.636Z"
   },
   {
    "duration": 9,
    "start_time": "2022-05-01T16:51:59.650Z"
   },
   {
    "duration": 27,
    "start_time": "2022-05-01T16:51:59.660Z"
   },
   {
    "duration": 40,
    "start_time": "2022-05-01T16:51:59.688Z"
   },
   {
    "duration": 5,
    "start_time": "2022-05-01T16:51:59.730Z"
   },
   {
    "duration": 15,
    "start_time": "2022-05-01T16:51:59.737Z"
   },
   {
    "duration": 45,
    "start_time": "2022-05-01T16:51:59.754Z"
   },
   {
    "duration": 32,
    "start_time": "2022-05-01T16:51:59.801Z"
   },
   {
    "duration": 13,
    "start_time": "2022-05-01T16:51:59.835Z"
   },
   {
    "duration": 25,
    "start_time": "2022-05-01T16:51:59.850Z"
   },
   {
    "duration": 13,
    "start_time": "2022-05-01T16:51:59.877Z"
   },
   {
    "duration": 46,
    "start_time": "2022-05-01T16:51:59.892Z"
   },
   {
    "duration": 13,
    "start_time": "2022-05-01T16:51:59.940Z"
   },
   {
    "duration": 16,
    "start_time": "2022-05-01T16:51:59.955Z"
   },
   {
    "duration": 11,
    "start_time": "2022-05-01T16:51:59.972Z"
   },
   {
    "duration": 45,
    "start_time": "2022-05-01T16:51:59.985Z"
   },
   {
    "duration": 14,
    "start_time": "2022-05-01T16:52:00.031Z"
   },
   {
    "duration": 4,
    "start_time": "2022-05-01T16:52:00.047Z"
   },
   {
    "duration": 16,
    "start_time": "2022-05-01T16:52:00.052Z"
   },
   {
    "duration": 20,
    "start_time": "2022-05-01T16:52:00.070Z"
   },
   {
    "duration": 32,
    "start_time": "2022-05-01T16:52:00.091Z"
   },
   {
    "duration": 2,
    "start_time": "2022-05-01T16:52:00.125Z"
   },
   {
    "duration": 35,
    "start_time": "2022-05-01T16:52:00.129Z"
   },
   {
    "duration": 18,
    "start_time": "2022-05-01T16:52:00.166Z"
   },
   {
    "duration": 12,
    "start_time": "2022-05-01T16:52:00.186Z"
   },
   {
    "duration": 16,
    "start_time": "2022-05-01T16:52:00.200Z"
   },
   {
    "duration": 19,
    "start_time": "2022-05-01T16:52:00.218Z"
   },
   {
    "duration": 23,
    "start_time": "2022-05-01T16:52:00.239Z"
   },
   {
    "duration": 15,
    "start_time": "2022-05-01T16:52:00.264Z"
   },
   {
    "duration": 32,
    "start_time": "2022-05-01T16:52:00.280Z"
   },
   {
    "duration": 17,
    "start_time": "2022-05-01T16:52:00.314Z"
   },
   {
    "duration": 15,
    "start_time": "2022-05-01T16:52:00.332Z"
   },
   {
    "duration": 20,
    "start_time": "2022-05-01T16:52:00.349Z"
   },
   {
    "duration": 36,
    "start_time": "2022-05-01T16:52:00.371Z"
   },
   {
    "duration": 4,
    "start_time": "2022-05-01T16:52:00.409Z"
   },
   {
    "duration": 8,
    "start_time": "2022-05-01T16:52:00.415Z"
   },
   {
    "duration": 118,
    "start_time": "2022-05-01T16:52:00.424Z"
   },
   {
    "duration": 27,
    "start_time": "2022-05-01T16:52:00.543Z"
   },
   {
    "duration": 4,
    "start_time": "2022-05-01T16:52:00.572Z"
   },
   {
    "duration": 15,
    "start_time": "2022-05-01T16:52:00.578Z"
   },
   {
    "duration": 31,
    "start_time": "2022-05-01T16:52:00.595Z"
   },
   {
    "duration": 12,
    "start_time": "2022-05-01T16:52:00.628Z"
   },
   {
    "duration": 19,
    "start_time": "2022-05-01T16:52:00.642Z"
   },
   {
    "duration": 26,
    "start_time": "2022-05-01T16:52:00.662Z"
   },
   {
    "duration": 45,
    "start_time": "2022-05-01T16:52:00.690Z"
   },
   {
    "duration": 9,
    "start_time": "2022-05-01T16:52:00.737Z"
   },
   {
    "duration": 16,
    "start_time": "2022-05-01T16:52:00.747Z"
   },
   {
    "duration": 18,
    "start_time": "2022-05-01T16:52:00.769Z"
   },
   {
    "duration": 8,
    "start_time": "2022-05-01T16:52:00.789Z"
   },
   {
    "duration": 227,
    "start_time": "2022-05-01T16:52:00.798Z"
   },
   {
    "duration": 212,
    "start_time": "2022-05-01T16:52:01.027Z"
   },
   {
    "duration": 213,
    "start_time": "2022-05-01T16:52:01.240Z"
   },
   {
    "duration": 7,
    "start_time": "2022-05-01T16:52:01.454Z"
   },
   {
    "duration": 15,
    "start_time": "2022-05-01T16:52:01.463Z"
   },
   {
    "duration": 16,
    "start_time": "2022-05-01T16:52:01.480Z"
   },
   {
    "duration": 69,
    "start_time": "2022-05-01T16:52:01.498Z"
   },
   {
    "duration": 337,
    "start_time": "2022-05-01T16:52:01.569Z"
   },
   {
    "duration": 273,
    "start_time": "2022-05-01T16:52:01.907Z"
   },
   {
    "duration": 281,
    "start_time": "2022-05-01T16:52:02.182Z"
   },
   {
    "duration": 277,
    "start_time": "2022-05-01T16:52:02.465Z"
   },
   {
    "duration": 14,
    "start_time": "2022-05-01T16:52:02.743Z"
   },
   {
    "duration": 273,
    "start_time": "2022-05-01T16:52:02.759Z"
   },
   {
    "duration": 313,
    "start_time": "2022-05-01T16:52:03.033Z"
   },
   {
    "duration": 5,
    "start_time": "2022-05-01T16:52:03.347Z"
   },
   {
    "duration": 270,
    "start_time": "2022-05-01T16:52:03.354Z"
   },
   {
    "duration": 284,
    "start_time": "2022-05-01T16:52:03.626Z"
   },
   {
    "duration": 237,
    "start_time": "2022-05-01T16:52:03.912Z"
   },
   {
    "duration": 220,
    "start_time": "2022-05-01T16:52:04.150Z"
   },
   {
    "duration": 231,
    "start_time": "2022-05-01T16:52:04.372Z"
   },
   {
    "duration": 528,
    "start_time": "2022-05-01T16:52:04.606Z"
   },
   {
    "duration": 3,
    "start_time": "2022-05-01T16:52:05.136Z"
   },
   {
    "duration": 30,
    "start_time": "2022-05-01T16:52:05.141Z"
   },
   {
    "duration": 152,
    "start_time": "2022-05-01T16:52:05.172Z"
   },
   {
    "duration": 3,
    "start_time": "2022-05-01T16:52:05.325Z"
   },
   {
    "duration": 143,
    "start_time": "2022-05-01T16:52:05.330Z"
   },
   {
    "duration": 8,
    "start_time": "2022-05-01T16:52:05.475Z"
   },
   {
    "duration": 10,
    "start_time": "2022-05-01T16:52:05.485Z"
   },
   {
    "duration": 132,
    "start_time": "2022-05-01T16:52:05.497Z"
   },
   {
    "duration": 3,
    "start_time": "2022-05-01T16:52:05.631Z"
   },
   {
    "duration": 10,
    "start_time": "2022-05-01T16:52:05.635Z"
   },
   {
    "duration": 5,
    "start_time": "2022-05-01T16:52:05.647Z"
   },
   {
    "duration": 4,
    "start_time": "2022-05-01T16:52:05.654Z"
   },
   {
    "duration": 4,
    "start_time": "2022-05-01T16:52:05.660Z"
   },
   {
    "duration": 4,
    "start_time": "2022-05-01T16:52:05.666Z"
   },
   {
    "duration": 7,
    "start_time": "2022-05-01T16:52:05.672Z"
   },
   {
    "duration": 10,
    "start_time": "2022-05-01T16:52:05.681Z"
   },
   {
    "duration": 31,
    "start_time": "2022-05-01T16:52:05.693Z"
   },
   {
    "duration": 30,
    "start_time": "2022-05-01T16:52:05.725Z"
   },
   {
    "duration": 4,
    "start_time": "2022-05-01T16:52:05.757Z"
   },
   {
    "duration": 7,
    "start_time": "2022-05-01T16:52:05.763Z"
   },
   {
    "duration": 7,
    "start_time": "2022-05-01T16:52:05.772Z"
   },
   {
    "duration": 10,
    "start_time": "2022-05-01T16:52:05.781Z"
   },
   {
    "duration": 30,
    "start_time": "2022-05-01T16:52:05.792Z"
   },
   {
    "duration": 2,
    "start_time": "2022-05-01T16:52:05.824Z"
   },
   {
    "duration": 10,
    "start_time": "2022-05-01T16:52:05.828Z"
   },
   {
    "duration": 7,
    "start_time": "2022-05-01T16:52:05.840Z"
   },
   {
    "duration": 9,
    "start_time": "2022-05-01T16:52:05.848Z"
   },
   {
    "duration": 8,
    "start_time": "2022-05-01T16:52:05.858Z"
   },
   {
    "duration": 10,
    "start_time": "2022-05-01T16:52:05.867Z"
   },
   {
    "duration": 7,
    "start_time": "2022-05-01T16:52:05.879Z"
   },
   {
    "duration": 3,
    "start_time": "2022-05-01T16:52:39.966Z"
   },
   {
    "duration": 3,
    "start_time": "2022-05-01T16:52:51.702Z"
   },
   {
    "duration": 4,
    "start_time": "2022-05-01T16:52:52.406Z"
   },
   {
    "duration": 4,
    "start_time": "2022-05-01T16:52:52.796Z"
   },
   {
    "duration": 4,
    "start_time": "2022-05-01T16:52:53.476Z"
   },
   {
    "duration": 3,
    "start_time": "2022-05-01T16:52:58.939Z"
   },
   {
    "duration": 4,
    "start_time": "2022-05-01T16:52:59.561Z"
   },
   {
    "duration": 4,
    "start_time": "2022-05-01T16:52:59.797Z"
   },
   {
    "duration": 4,
    "start_time": "2022-05-01T16:52:59.974Z"
   },
   {
    "duration": 3,
    "start_time": "2022-05-01T16:53:04.754Z"
   },
   {
    "duration": 3,
    "start_time": "2022-05-01T16:53:05.144Z"
   },
   {
    "duration": 31,
    "start_time": "2022-05-01T16:53:17.449Z"
   },
   {
    "duration": 4,
    "start_time": "2022-05-01T16:53:18.738Z"
   },
   {
    "duration": 5,
    "start_time": "2022-05-01T16:53:18.944Z"
   },
   {
    "duration": 4,
    "start_time": "2022-05-01T16:53:19.118Z"
   },
   {
    "duration": 4,
    "start_time": "2022-05-01T16:53:19.275Z"
   },
   {
    "duration": 4,
    "start_time": "2022-05-01T16:53:19.486Z"
   },
   {
    "duration": 4,
    "start_time": "2022-05-01T16:53:30.147Z"
   },
   {
    "duration": 3,
    "start_time": "2022-05-01T16:53:35.830Z"
   },
   {
    "duration": 3,
    "start_time": "2022-05-01T16:54:17.769Z"
   },
   {
    "duration": 3,
    "start_time": "2022-05-01T16:54:25.036Z"
   },
   {
    "duration": 533,
    "start_time": "2022-05-02T16:46:30.519Z"
   },
   {
    "duration": 3,
    "start_time": "2022-05-02T16:46:31.056Z"
   },
   {
    "duration": 560,
    "start_time": "2022-05-02T16:46:31.061Z"
   },
   {
    "duration": 588,
    "start_time": "2022-05-02T16:46:31.623Z"
   },
   {
    "duration": 3,
    "start_time": "2022-05-02T16:46:32.213Z"
   },
   {
    "duration": 10,
    "start_time": "2022-05-02T16:46:32.218Z"
   },
   {
    "duration": 7,
    "start_time": "2022-05-02T16:46:32.230Z"
   },
   {
    "duration": 16,
    "start_time": "2022-05-02T16:46:32.239Z"
   },
   {
    "duration": 17,
    "start_time": "2022-05-02T16:46:32.258Z"
   },
   {
    "duration": 17,
    "start_time": "2022-05-02T16:46:32.277Z"
   },
   {
    "duration": 42,
    "start_time": "2022-05-02T16:46:32.296Z"
   },
   {
    "duration": 11,
    "start_time": "2022-05-02T16:46:32.341Z"
   },
   {
    "duration": 30,
    "start_time": "2022-05-02T16:46:32.354Z"
   },
   {
    "duration": 54,
    "start_time": "2022-05-02T16:46:32.385Z"
   },
   {
    "duration": 23,
    "start_time": "2022-05-02T16:46:32.441Z"
   },
   {
    "duration": 11,
    "start_time": "2022-05-02T16:46:32.466Z"
   },
   {
    "duration": 18,
    "start_time": "2022-05-02T16:46:32.478Z"
   },
   {
    "duration": 59,
    "start_time": "2022-05-02T16:46:32.498Z"
   },
   {
    "duration": 15,
    "start_time": "2022-05-02T16:46:32.559Z"
   },
   {
    "duration": 6,
    "start_time": "2022-05-02T16:46:32.575Z"
   },
   {
    "duration": 78,
    "start_time": "2022-05-02T16:46:32.582Z"
   },
   {
    "duration": 37,
    "start_time": "2022-05-02T16:46:32.662Z"
   },
   {
    "duration": 45,
    "start_time": "2022-05-02T16:46:32.701Z"
   },
   {
    "duration": 21,
    "start_time": "2022-05-02T16:46:32.748Z"
   },
   {
    "duration": 4,
    "start_time": "2022-05-02T16:46:32.771Z"
   },
   {
    "duration": 12,
    "start_time": "2022-05-02T16:46:32.777Z"
   },
   {
    "duration": 19,
    "start_time": "2022-05-02T16:46:32.822Z"
   },
   {
    "duration": 25,
    "start_time": "2022-05-02T16:46:32.844Z"
   },
   {
    "duration": 19,
    "start_time": "2022-05-02T16:46:32.871Z"
   },
   {
    "duration": 4,
    "start_time": "2022-05-02T16:46:32.892Z"
   },
   {
    "duration": 11,
    "start_time": "2022-05-02T16:46:32.923Z"
   },
   {
    "duration": 33,
    "start_time": "2022-05-02T16:46:32.937Z"
   },
   {
    "duration": 13,
    "start_time": "2022-05-02T16:46:32.972Z"
   },
   {
    "duration": 42,
    "start_time": "2022-05-02T16:46:33.023Z"
   },
   {
    "duration": 19,
    "start_time": "2022-05-02T16:46:33.067Z"
   },
   {
    "duration": 43,
    "start_time": "2022-05-02T16:46:33.088Z"
   },
   {
    "duration": 30,
    "start_time": "2022-05-02T16:46:33.135Z"
   },
   {
    "duration": 13,
    "start_time": "2022-05-02T16:46:33.167Z"
   },
   {
    "duration": 7,
    "start_time": "2022-05-02T16:46:33.182Z"
   },
   {
    "duration": 44,
    "start_time": "2022-05-02T16:46:33.190Z"
   },
   {
    "duration": 52,
    "start_time": "2022-05-02T16:46:33.236Z"
   },
   {
    "duration": 42,
    "start_time": "2022-05-02T16:46:33.290Z"
   },
   {
    "duration": 16,
    "start_time": "2022-05-02T16:46:33.334Z"
   },
   {
    "duration": 22,
    "start_time": "2022-05-02T16:46:33.351Z"
   },
   {
    "duration": 12,
    "start_time": "2022-05-02T16:46:33.375Z"
   },
   {
    "duration": 63,
    "start_time": "2022-05-02T16:46:33.389Z"
   },
   {
    "duration": 17,
    "start_time": "2022-05-02T16:46:33.454Z"
   },
   {
    "duration": 18,
    "start_time": "2022-05-02T16:46:33.473Z"
   },
   {
    "duration": 44,
    "start_time": "2022-05-02T16:46:33.494Z"
   },
   {
    "duration": 13,
    "start_time": "2022-05-02T16:46:33.540Z"
   },
   {
    "duration": 13,
    "start_time": "2022-05-02T16:46:33.554Z"
   },
   {
    "duration": 4,
    "start_time": "2022-05-02T16:46:33.569Z"
   },
   {
    "duration": 49,
    "start_time": "2022-05-02T16:46:33.574Z"
   },
   {
    "duration": 14,
    "start_time": "2022-05-02T16:46:33.625Z"
   },
   {
    "duration": 10,
    "start_time": "2022-05-02T16:46:33.640Z"
   },
   {
    "duration": 4,
    "start_time": "2022-05-02T16:46:33.652Z"
   },
   {
    "duration": 29,
    "start_time": "2022-05-02T16:46:33.657Z"
   },
   {
    "duration": 9,
    "start_time": "2022-05-02T16:46:33.688Z"
   },
   {
    "duration": 4,
    "start_time": "2022-05-02T16:46:33.722Z"
   },
   {
    "duration": 11,
    "start_time": "2022-05-02T16:46:33.727Z"
   },
   {
    "duration": 13,
    "start_time": "2022-05-02T16:46:33.740Z"
   },
   {
    "duration": 5,
    "start_time": "2022-05-02T16:46:33.755Z"
   },
   {
    "duration": 11,
    "start_time": "2022-05-02T16:46:33.761Z"
   },
   {
    "duration": 22,
    "start_time": "2022-05-02T16:46:33.774Z"
   },
   {
    "duration": 14,
    "start_time": "2022-05-02T16:46:33.822Z"
   },
   {
    "duration": 15,
    "start_time": "2022-05-02T16:46:33.838Z"
   },
   {
    "duration": 12,
    "start_time": "2022-05-02T16:46:33.855Z"
   },
   {
    "duration": 30,
    "start_time": "2022-05-02T16:46:33.869Z"
   },
   {
    "duration": 21,
    "start_time": "2022-05-02T16:46:33.901Z"
   },
   {
    "duration": 11,
    "start_time": "2022-05-02T16:46:33.924Z"
   },
   {
    "duration": 164,
    "start_time": "2022-05-02T16:46:33.937Z"
   },
   {
    "duration": 48,
    "start_time": "2022-05-02T16:46:34.102Z"
   },
   {
    "duration": 6,
    "start_time": "2022-05-02T16:46:34.152Z"
   },
   {
    "duration": 9,
    "start_time": "2022-05-02T16:46:34.160Z"
   },
   {
    "duration": 19,
    "start_time": "2022-05-02T16:46:34.171Z"
   },
   {
    "duration": 33,
    "start_time": "2022-05-02T16:46:34.191Z"
   },
   {
    "duration": 5,
    "start_time": "2022-05-02T16:46:34.226Z"
   },
   {
    "duration": 21,
    "start_time": "2022-05-02T16:46:34.233Z"
   },
   {
    "duration": 25,
    "start_time": "2022-05-02T16:46:34.256Z"
   },
   {
    "duration": 41,
    "start_time": "2022-05-02T16:46:34.283Z"
   },
   {
    "duration": 16,
    "start_time": "2022-05-02T16:46:34.335Z"
   },
   {
    "duration": 18,
    "start_time": "2022-05-02T16:46:34.353Z"
   },
   {
    "duration": 2,
    "start_time": "2022-05-02T16:46:34.373Z"
   },
   {
    "duration": 408,
    "start_time": "2022-05-02T16:46:34.377Z"
   },
   {
    "duration": 224,
    "start_time": "2022-05-02T16:46:34.787Z"
   },
   {
    "duration": 244,
    "start_time": "2022-05-02T16:46:35.013Z"
   },
   {
    "duration": 7,
    "start_time": "2022-05-02T16:46:35.259Z"
   },
   {
    "duration": 10,
    "start_time": "2022-05-02T16:46:35.267Z"
   },
   {
    "duration": 8,
    "start_time": "2022-05-02T16:46:35.278Z"
   },
   {
    "duration": 101,
    "start_time": "2022-05-02T16:46:35.288Z"
   },
   {
    "duration": 495,
    "start_time": "2022-05-02T16:46:35.391Z"
   },
   {
    "duration": 313,
    "start_time": "2022-05-02T16:46:35.888Z"
   },
   {
    "duration": 322,
    "start_time": "2022-05-02T16:46:36.203Z"
   },
   {
    "duration": 322,
    "start_time": "2022-05-02T16:46:36.527Z"
   },
   {
    "duration": 17,
    "start_time": "2022-05-02T16:46:36.851Z"
   },
   {
    "duration": 316,
    "start_time": "2022-05-02T16:46:36.870Z"
   },
   {
    "duration": 372,
    "start_time": "2022-05-02T16:46:37.188Z"
   },
   {
    "duration": 7,
    "start_time": "2022-05-02T16:46:37.563Z"
   },
   {
    "duration": 427,
    "start_time": "2022-05-02T16:46:37.572Z"
   },
   {
    "duration": 364,
    "start_time": "2022-05-02T16:46:38.001Z"
   },
   {
    "duration": 397,
    "start_time": "2022-05-02T16:46:38.367Z"
   },
   {
    "duration": 335,
    "start_time": "2022-05-02T16:46:38.766Z"
   },
   {
    "duration": 369,
    "start_time": "2022-05-02T16:46:39.103Z"
   },
   {
    "duration": 591,
    "start_time": "2022-05-02T16:46:39.474Z"
   },
   {
    "duration": 3,
    "start_time": "2022-05-02T16:46:40.067Z"
   },
   {
    "duration": 36,
    "start_time": "2022-05-02T16:46:40.072Z"
   },
   {
    "duration": 193,
    "start_time": "2022-05-02T16:46:40.110Z"
   },
   {
    "duration": 3,
    "start_time": "2022-05-02T16:46:40.304Z"
   },
   {
    "duration": 163,
    "start_time": "2022-05-02T16:46:40.309Z"
   },
   {
    "duration": 8,
    "start_time": "2022-05-02T16:46:40.474Z"
   },
   {
    "duration": 8,
    "start_time": "2022-05-02T16:46:40.484Z"
   },
   {
    "duration": 209,
    "start_time": "2022-05-02T16:46:40.493Z"
   },
   {
    "duration": 3,
    "start_time": "2022-05-02T16:46:40.704Z"
   },
   {
    "duration": 13,
    "start_time": "2022-05-02T16:46:40.709Z"
   },
   {
    "duration": 4,
    "start_time": "2022-05-02T16:46:40.725Z"
   },
   {
    "duration": 8,
    "start_time": "2022-05-02T16:46:40.731Z"
   },
   {
    "duration": 5,
    "start_time": "2022-05-02T16:46:40.741Z"
   },
   {
    "duration": 3,
    "start_time": "2022-05-02T16:46:40.749Z"
   },
   {
    "duration": 7,
    "start_time": "2022-05-02T16:46:40.754Z"
   },
   {
    "duration": 9,
    "start_time": "2022-05-02T16:46:40.763Z"
   },
   {
    "duration": 49,
    "start_time": "2022-05-02T16:46:40.774Z"
   },
   {
    "duration": 41,
    "start_time": "2022-05-02T16:46:40.826Z"
   },
   {
    "duration": 5,
    "start_time": "2022-05-02T16:46:40.869Z"
   },
   {
    "duration": 7,
    "start_time": "2022-05-02T16:46:40.876Z"
   },
   {
    "duration": 40,
    "start_time": "2022-05-02T16:46:40.885Z"
   },
   {
    "duration": 5,
    "start_time": "2022-05-02T16:46:40.928Z"
   },
   {
    "duration": 5,
    "start_time": "2022-05-02T16:46:40.935Z"
   },
   {
    "duration": 6,
    "start_time": "2022-05-02T16:46:40.942Z"
   },
   {
    "duration": 17,
    "start_time": "2022-05-02T16:46:40.950Z"
   },
   {
    "duration": 8,
    "start_time": "2022-05-02T16:46:40.969Z"
   },
   {
    "duration": 7,
    "start_time": "2022-05-02T16:46:40.979Z"
   },
   {
    "duration": 40,
    "start_time": "2022-05-02T16:46:40.988Z"
   },
   {
    "duration": 5,
    "start_time": "2022-05-02T16:46:41.033Z"
   },
   {
    "duration": 8,
    "start_time": "2022-05-02T16:46:41.041Z"
   },
   {
    "duration": 32,
    "start_time": "2022-05-02T16:46:48.871Z"
   },
   {
    "duration": 119,
    "start_time": "2022-05-02T16:47:57.650Z"
   },
   {
    "duration": 29,
    "start_time": "2022-05-02T16:47:58.182Z"
   },
   {
    "duration": 3757,
    "start_time": "2022-05-02T16:48:47.311Z"
   },
   {
    "duration": 0,
    "start_time": "2022-05-02T16:48:51.070Z"
   },
   {
    "duration": 442,
    "start_time": "2022-05-02T16:49:54.345Z"
   },
   {
    "duration": 3,
    "start_time": "2022-05-02T16:49:54.789Z"
   },
   {
    "duration": 368,
    "start_time": "2022-05-02T16:49:54.793Z"
   },
   {
    "duration": 551,
    "start_time": "2022-05-02T16:49:55.164Z"
   },
   {
    "duration": 2,
    "start_time": "2022-05-02T16:49:55.717Z"
   },
   {
    "duration": 8,
    "start_time": "2022-05-02T16:49:55.721Z"
   },
   {
    "duration": 6,
    "start_time": "2022-05-02T16:49:55.731Z"
   },
   {
    "duration": 5,
    "start_time": "2022-05-02T16:49:55.739Z"
   },
   {
    "duration": 25,
    "start_time": "2022-05-02T16:49:55.745Z"
   },
   {
    "duration": 11,
    "start_time": "2022-05-02T16:49:55.774Z"
   },
   {
    "duration": 44,
    "start_time": "2022-05-02T16:49:55.787Z"
   },
   {
    "duration": 20,
    "start_time": "2022-05-02T16:49:55.832Z"
   },
   {
    "duration": 18,
    "start_time": "2022-05-02T16:49:55.854Z"
   },
   {
    "duration": 57,
    "start_time": "2022-05-02T16:49:55.874Z"
   },
   {
    "duration": 35,
    "start_time": "2022-05-02T16:49:55.934Z"
   },
   {
    "duration": 11,
    "start_time": "2022-05-02T16:49:55.970Z"
   },
   {
    "duration": 47,
    "start_time": "2022-05-02T16:49:55.983Z"
   },
   {
    "duration": 34,
    "start_time": "2022-05-02T16:49:56.031Z"
   },
   {
    "duration": 15,
    "start_time": "2022-05-02T16:49:56.067Z"
   },
   {
    "duration": 5,
    "start_time": "2022-05-02T16:49:56.083Z"
   },
   {
    "duration": 89,
    "start_time": "2022-05-02T16:49:56.089Z"
   },
   {
    "duration": 52,
    "start_time": "2022-05-02T16:49:56.180Z"
   },
   {
    "duration": 38,
    "start_time": "2022-05-02T16:49:56.234Z"
   },
   {
    "duration": 22,
    "start_time": "2022-05-02T16:49:56.274Z"
   },
   {
    "duration": 4,
    "start_time": "2022-05-02T16:49:56.298Z"
   },
   {
    "duration": 36,
    "start_time": "2022-05-02T16:49:56.304Z"
   },
   {
    "duration": 37,
    "start_time": "2022-05-02T16:49:56.344Z"
   },
   {
    "duration": 29,
    "start_time": "2022-05-02T16:49:56.387Z"
   },
   {
    "duration": 29,
    "start_time": "2022-05-02T16:49:56.422Z"
   },
   {
    "duration": 4,
    "start_time": "2022-05-02T16:49:56.456Z"
   },
   {
    "duration": 7,
    "start_time": "2022-05-02T16:49:56.462Z"
   },
   {
    "duration": 53,
    "start_time": "2022-05-02T16:49:56.471Z"
   },
   {
    "duration": 24,
    "start_time": "2022-05-02T16:49:56.526Z"
   },
   {
    "duration": 33,
    "start_time": "2022-05-02T16:49:56.554Z"
   },
   {
    "duration": 11,
    "start_time": "2022-05-02T16:49:56.588Z"
   },
   {
    "duration": 31,
    "start_time": "2022-05-02T16:49:56.600Z"
   },
   {
    "duration": 34,
    "start_time": "2022-05-02T16:49:56.633Z"
   },
   {
    "duration": 12,
    "start_time": "2022-05-02T16:49:56.669Z"
   },
   {
    "duration": 5,
    "start_time": "2022-05-02T16:49:56.682Z"
   },
   {
    "duration": 29,
    "start_time": "2022-05-02T16:49:56.722Z"
   },
   {
    "duration": 47,
    "start_time": "2022-05-02T16:49:56.753Z"
   },
   {
    "duration": 35,
    "start_time": "2022-05-02T16:49:56.801Z"
   },
   {
    "duration": 16,
    "start_time": "2022-05-02T16:49:56.838Z"
   },
   {
    "duration": 26,
    "start_time": "2022-05-02T16:49:56.855Z"
   },
   {
    "duration": 40,
    "start_time": "2022-05-02T16:49:56.883Z"
   },
   {
    "duration": 31,
    "start_time": "2022-05-02T16:49:56.925Z"
   },
   {
    "duration": 15,
    "start_time": "2022-05-02T16:49:56.960Z"
   },
   {
    "duration": 17,
    "start_time": "2022-05-02T16:49:56.977Z"
   },
   {
    "duration": 44,
    "start_time": "2022-05-02T16:49:56.996Z"
   },
   {
    "duration": 16,
    "start_time": "2022-05-02T16:49:57.041Z"
   },
   {
    "duration": 16,
    "start_time": "2022-05-02T16:49:57.059Z"
   },
   {
    "duration": 4,
    "start_time": "2022-05-02T16:49:57.077Z"
   },
   {
    "duration": 57,
    "start_time": "2022-05-02T16:49:57.083Z"
   },
   {
    "duration": 16,
    "start_time": "2022-05-02T16:49:57.144Z"
   },
   {
    "duration": 10,
    "start_time": "2022-05-02T16:49:57.162Z"
   },
   {
    "duration": 3,
    "start_time": "2022-05-02T16:49:57.173Z"
   },
   {
    "duration": 69,
    "start_time": "2022-05-02T16:49:57.177Z"
   },
   {
    "duration": 10,
    "start_time": "2022-05-02T16:49:57.249Z"
   },
   {
    "duration": 6,
    "start_time": "2022-05-02T16:49:57.260Z"
   },
   {
    "duration": 11,
    "start_time": "2022-05-02T16:49:57.268Z"
   },
   {
    "duration": 10,
    "start_time": "2022-05-02T16:49:57.281Z"
   },
   {
    "duration": 31,
    "start_time": "2022-05-02T16:49:57.293Z"
   },
   {
    "duration": 11,
    "start_time": "2022-05-02T16:49:57.337Z"
   },
   {
    "duration": 22,
    "start_time": "2022-05-02T16:49:57.349Z"
   },
   {
    "duration": 11,
    "start_time": "2022-05-02T16:49:57.373Z"
   },
   {
    "duration": 10,
    "start_time": "2022-05-02T16:49:57.386Z"
   },
   {
    "duration": 18,
    "start_time": "2022-05-02T16:49:57.397Z"
   },
   {
    "duration": 36,
    "start_time": "2022-05-02T16:49:57.422Z"
   },
   {
    "duration": 3,
    "start_time": "2022-05-02T16:49:57.460Z"
   },
   {
    "duration": 5,
    "start_time": "2022-05-02T16:49:57.465Z"
   },
   {
    "duration": 132,
    "start_time": "2022-05-02T16:49:57.471Z"
   },
   {
    "duration": 37,
    "start_time": "2022-05-02T16:49:57.605Z"
   },
   {
    "duration": 5,
    "start_time": "2022-05-02T16:49:57.645Z"
   },
   {
    "duration": 8,
    "start_time": "2022-05-02T16:49:57.653Z"
   },
   {
    "duration": 45,
    "start_time": "2022-05-02T16:49:57.663Z"
   },
   {
    "duration": 10,
    "start_time": "2022-05-02T16:49:57.709Z"
   },
   {
    "duration": 9,
    "start_time": "2022-05-02T16:49:57.721Z"
   },
   {
    "duration": 15,
    "start_time": "2022-05-02T16:49:57.732Z"
   },
   {
    "duration": 29,
    "start_time": "2022-05-02T16:49:57.749Z"
   },
   {
    "duration": 4,
    "start_time": "2022-05-02T16:49:57.779Z"
   },
   {
    "duration": 42,
    "start_time": "2022-05-02T16:49:57.785Z"
   },
   {
    "duration": 30,
    "start_time": "2022-05-02T16:49:57.840Z"
   },
   {
    "duration": 2,
    "start_time": "2022-05-02T16:49:57.872Z"
   },
   {
    "duration": 291,
    "start_time": "2022-05-02T16:49:57.876Z"
   },
   {
    "duration": 240,
    "start_time": "2022-05-02T16:49:58.168Z"
   },
   {
    "duration": 247,
    "start_time": "2022-05-02T16:49:58.410Z"
   },
   {
    "duration": 7,
    "start_time": "2022-05-02T16:49:58.659Z"
   },
   {
    "duration": 8,
    "start_time": "2022-05-02T16:49:58.667Z"
   },
   {
    "duration": 7,
    "start_time": "2022-05-02T16:49:58.677Z"
   },
   {
    "duration": 97,
    "start_time": "2022-05-02T16:49:58.686Z"
   },
   {
    "duration": 383,
    "start_time": "2022-05-02T16:49:58.784Z"
   },
   {
    "duration": 303,
    "start_time": "2022-05-02T16:49:59.169Z"
   },
   {
    "duration": 316,
    "start_time": "2022-05-02T16:49:59.474Z"
   },
   {
    "duration": 322,
    "start_time": "2022-05-02T16:49:59.792Z"
   },
   {
    "duration": 22,
    "start_time": "2022-05-02T16:50:00.116Z"
   },
   {
    "duration": 328,
    "start_time": "2022-05-02T16:50:00.143Z"
   },
   {
    "duration": 346,
    "start_time": "2022-05-02T16:50:00.473Z"
   },
   {
    "duration": 6,
    "start_time": "2022-05-02T16:50:00.823Z"
   },
   {
    "duration": 320,
    "start_time": "2022-05-02T16:50:00.831Z"
   },
   {
    "duration": 330,
    "start_time": "2022-05-02T16:50:01.154Z"
   },
   {
    "duration": 267,
    "start_time": "2022-05-02T16:50:01.486Z"
   },
   {
    "duration": 237,
    "start_time": "2022-05-02T16:50:01.755Z"
   },
   {
    "duration": 247,
    "start_time": "2022-05-02T16:50:01.995Z"
   },
   {
    "duration": 510,
    "start_time": "2022-05-02T16:50:02.245Z"
   },
   {
    "duration": 4,
    "start_time": "2022-05-02T16:50:02.757Z"
   },
   {
    "duration": 30,
    "start_time": "2022-05-02T16:50:02.762Z"
   },
   {
    "duration": 172,
    "start_time": "2022-05-02T16:50:02.793Z"
   },
   {
    "duration": 3,
    "start_time": "2022-05-02T16:50:02.967Z"
   },
   {
    "duration": 157,
    "start_time": "2022-05-02T16:50:02.972Z"
   },
   {
    "duration": 10,
    "start_time": "2022-05-02T16:50:03.131Z"
   },
   {
    "duration": 4,
    "start_time": "2022-05-02T16:50:03.144Z"
   },
   {
    "duration": 171,
    "start_time": "2022-05-02T16:50:03.151Z"
   },
   {
    "duration": 4,
    "start_time": "2022-05-02T16:50:03.324Z"
   },
   {
    "duration": 8,
    "start_time": "2022-05-02T16:50:03.329Z"
   },
   {
    "duration": 5,
    "start_time": "2022-05-02T16:50:03.339Z"
   },
   {
    "duration": 5,
    "start_time": "2022-05-02T16:50:03.346Z"
   },
   {
    "duration": 9,
    "start_time": "2022-05-02T16:50:03.353Z"
   },
   {
    "duration": 2,
    "start_time": "2022-05-02T16:50:03.364Z"
   },
   {
    "duration": 6,
    "start_time": "2022-05-02T16:50:03.368Z"
   },
   {
    "duration": 54,
    "start_time": "2022-05-02T16:50:03.376Z"
   },
   {
    "duration": 8,
    "start_time": "2022-05-02T16:50:03.434Z"
   },
   {
    "duration": 37,
    "start_time": "2022-05-02T16:50:03.444Z"
   },
   {
    "duration": 3376,
    "start_time": "2022-05-02T16:50:03.483Z"
   },
   {
    "duration": 0,
    "start_time": "2022-05-02T16:50:06.861Z"
   },
   {
    "duration": 0,
    "start_time": "2022-05-02T16:50:06.862Z"
   },
   {
    "duration": 0,
    "start_time": "2022-05-02T16:50:06.863Z"
   },
   {
    "duration": 0,
    "start_time": "2022-05-02T16:50:06.865Z"
   },
   {
    "duration": 0,
    "start_time": "2022-05-02T16:50:06.866Z"
   },
   {
    "duration": 0,
    "start_time": "2022-05-02T16:50:06.867Z"
   },
   {
    "duration": 0,
    "start_time": "2022-05-02T16:50:06.868Z"
   },
   {
    "duration": 0,
    "start_time": "2022-05-02T16:50:06.869Z"
   },
   {
    "duration": 0,
    "start_time": "2022-05-02T16:50:06.870Z"
   },
   {
    "duration": 0,
    "start_time": "2022-05-02T16:50:06.871Z"
   },
   {
    "duration": 0,
    "start_time": "2022-05-02T16:50:06.872Z"
   },
   {
    "duration": 0,
    "start_time": "2022-05-02T16:50:06.873Z"
   },
   {
    "duration": 3157,
    "start_time": "2022-05-02T16:50:34.583Z"
   },
   {
    "duration": 6,
    "start_time": "2022-05-02T16:50:41.507Z"
   },
   {
    "duration": 0,
    "start_time": "2022-05-02T16:50:45.591Z"
   },
   {
    "duration": 8,
    "start_time": "2022-05-02T16:50:48.681Z"
   },
   {
    "duration": 11,
    "start_time": "2022-05-02T16:50:48.924Z"
   },
   {
    "duration": 5,
    "start_time": "2022-05-02T16:50:59.952Z"
   },
   {
    "duration": 6,
    "start_time": "2022-05-02T16:51:00.128Z"
   },
   {
    "duration": 3,
    "start_time": "2022-05-02T16:51:00.293Z"
   },
   {
    "duration": 4,
    "start_time": "2022-05-02T16:51:00.750Z"
   },
   {
    "duration": 4,
    "start_time": "2022-05-02T16:51:01.063Z"
   },
   {
    "duration": 3,
    "start_time": "2022-05-02T16:51:01.402Z"
   },
   {
    "duration": 2,
    "start_time": "2022-05-02T16:51:02.684Z"
   },
   {
    "duration": 2,
    "start_time": "2022-05-02T16:51:02.863Z"
   },
   {
    "duration": 3,
    "start_time": "2022-05-02T16:51:03.018Z"
   },
   {
    "duration": 3,
    "start_time": "2022-05-02T16:51:03.173Z"
   },
   {
    "duration": 3,
    "start_time": "2022-05-02T16:51:03.314Z"
   },
   {
    "duration": 3,
    "start_time": "2022-05-02T16:51:03.471Z"
   },
   {
    "duration": 3245,
    "start_time": "2022-05-02T16:51:04.233Z"
   },
   {
    "duration": 7,
    "start_time": "2022-05-02T16:51:09.124Z"
   },
   {
    "duration": 7,
    "start_time": "2022-05-02T16:51:11.887Z"
   },
   {
    "duration": 5,
    "start_time": "2022-05-02T16:51:13.817Z"
   },
   {
    "duration": 7,
    "start_time": "2022-05-02T16:51:24.848Z"
   },
   {
    "duration": 5,
    "start_time": "2022-05-02T16:51:58.462Z"
   },
   {
    "duration": 5,
    "start_time": "2022-05-02T16:52:10.373Z"
   },
   {
    "duration": 6,
    "start_time": "2022-05-02T16:52:45.652Z"
   },
   {
    "duration": 7,
    "start_time": "2022-05-02T16:52:50.202Z"
   },
   {
    "duration": 9,
    "start_time": "2022-05-02T16:53:04.871Z"
   },
   {
    "duration": 13,
    "start_time": "2022-05-02T16:53:27.523Z"
   },
   {
    "duration": 12,
    "start_time": "2022-05-02T16:53:34.016Z"
   },
   {
    "duration": 8,
    "start_time": "2022-05-02T16:53:48.195Z"
   },
   {
    "duration": 11,
    "start_time": "2022-05-02T16:53:54.428Z"
   },
   {
    "duration": 10,
    "start_time": "2022-05-02T16:54:07.040Z"
   },
   {
    "duration": 15,
    "start_time": "2022-05-02T16:54:29.868Z"
   },
   {
    "duration": 12,
    "start_time": "2022-05-02T16:54:46.741Z"
   },
   {
    "duration": 9,
    "start_time": "2022-05-02T16:54:52.026Z"
   },
   {
    "duration": 9,
    "start_time": "2022-05-02T16:55:06.279Z"
   },
   {
    "duration": 8,
    "start_time": "2022-05-02T16:55:23.348Z"
   },
   {
    "duration": 5,
    "start_time": "2022-05-02T16:55:37.631Z"
   },
   {
    "duration": 4,
    "start_time": "2022-05-02T16:55:39.976Z"
   },
   {
    "duration": 5,
    "start_time": "2022-05-02T16:55:52.997Z"
   },
   {
    "duration": 5,
    "start_time": "2022-05-02T16:56:07.479Z"
   },
   {
    "duration": 5,
    "start_time": "2022-05-02T16:56:09.817Z"
   },
   {
    "duration": 6,
    "start_time": "2022-05-02T16:56:09.998Z"
   },
   {
    "duration": 6,
    "start_time": "2022-05-02T16:56:15.594Z"
   },
   {
    "duration": 5,
    "start_time": "2022-05-02T16:56:21.531Z"
   },
   {
    "duration": 7,
    "start_time": "2022-05-02T16:56:45.260Z"
   },
   {
    "duration": 6,
    "start_time": "2022-05-02T17:04:14.145Z"
   },
   {
    "duration": 7827,
    "start_time": "2022-05-03T10:51:39.369Z"
   },
   {
    "duration": 47,
    "start_time": "2022-05-03T11:00:15.257Z"
   },
   {
    "duration": 129,
    "start_time": "2022-05-03T11:03:17.865Z"
   },
   {
    "duration": 7,
    "start_time": "2022-05-03T11:08:08.612Z"
   },
   {
    "duration": 551,
    "start_time": "2022-05-03T11:08:13.524Z"
   },
   {
    "duration": 3,
    "start_time": "2022-05-03T11:08:14.078Z"
   },
   {
    "duration": 622,
    "start_time": "2022-05-03T11:08:14.083Z"
   },
   {
    "duration": 10946,
    "start_time": "2022-05-03T11:08:14.709Z"
   },
   {
    "duration": 398,
    "start_time": "2022-05-03T11:08:25.657Z"
   },
   {
    "duration": 3,
    "start_time": "2022-05-03T11:08:26.057Z"
   },
   {
    "duration": 5,
    "start_time": "2022-05-03T11:08:26.062Z"
   },
   {
    "duration": 13,
    "start_time": "2022-05-03T11:08:26.069Z"
   },
   {
    "duration": 5,
    "start_time": "2022-05-03T11:08:26.084Z"
   },
   {
    "duration": 16,
    "start_time": "2022-05-03T11:08:26.092Z"
   },
   {
    "duration": 19,
    "start_time": "2022-05-03T11:08:26.109Z"
   },
   {
    "duration": 13,
    "start_time": "2022-05-03T11:08:26.129Z"
   },
   {
    "duration": 9,
    "start_time": "2022-05-03T11:08:26.144Z"
   },
   {
    "duration": 15,
    "start_time": "2022-05-03T11:08:26.155Z"
   },
   {
    "duration": 26,
    "start_time": "2022-05-03T11:08:26.172Z"
   },
   {
    "duration": 39,
    "start_time": "2022-05-03T11:08:26.200Z"
   },
   {
    "duration": 10,
    "start_time": "2022-05-03T11:08:26.241Z"
   },
   {
    "duration": 14,
    "start_time": "2022-05-03T11:08:26.253Z"
   },
   {
    "duration": 19,
    "start_time": "2022-05-03T11:08:26.269Z"
   },
   {
    "duration": 35,
    "start_time": "2022-05-03T11:08:26.290Z"
   },
   {
    "duration": 5,
    "start_time": "2022-05-03T11:08:26.327Z"
   },
   {
    "duration": 33,
    "start_time": "2022-05-03T11:08:26.333Z"
   },
   {
    "duration": 32,
    "start_time": "2022-05-03T11:08:26.368Z"
   },
   {
    "duration": 39,
    "start_time": "2022-05-03T11:08:26.402Z"
   },
   {
    "duration": 20,
    "start_time": "2022-05-03T11:08:26.443Z"
   },
   {
    "duration": 4,
    "start_time": "2022-05-03T11:08:26.465Z"
   },
   {
    "duration": 12,
    "start_time": "2022-05-03T11:08:26.471Z"
   },
   {
    "duration": 44,
    "start_time": "2022-05-03T11:08:26.487Z"
   },
   {
    "duration": 23,
    "start_time": "2022-05-03T11:08:26.532Z"
   },
   {
    "duration": 17,
    "start_time": "2022-05-03T11:08:26.558Z"
   },
   {
    "duration": 3,
    "start_time": "2022-05-03T11:08:26.577Z"
   },
   {
    "duration": 8,
    "start_time": "2022-05-03T11:08:26.582Z"
   },
   {
    "duration": 54,
    "start_time": "2022-05-03T11:08:26.592Z"
   },
   {
    "duration": 12,
    "start_time": "2022-05-03T11:08:26.648Z"
   },
   {
    "duration": 36,
    "start_time": "2022-05-03T11:08:26.662Z"
   },
   {
    "duration": 28,
    "start_time": "2022-05-03T11:08:26.699Z"
   },
   {
    "duration": 8,
    "start_time": "2022-05-03T11:08:26.729Z"
   },
   {
    "duration": 26,
    "start_time": "2022-05-03T11:08:26.738Z"
   },
   {
    "duration": 12,
    "start_time": "2022-05-03T11:08:26.765Z"
   },
   {
    "duration": 6,
    "start_time": "2022-05-03T11:08:26.779Z"
   },
   {
    "duration": 47,
    "start_time": "2022-05-03T11:08:26.787Z"
   },
   {
    "duration": 41,
    "start_time": "2022-05-03T11:08:26.836Z"
   },
   {
    "duration": 15,
    "start_time": "2022-05-03T11:08:26.879Z"
   },
   {
    "duration": 30,
    "start_time": "2022-05-03T11:08:26.896Z"
   },
   {
    "duration": 25,
    "start_time": "2022-05-03T11:08:26.928Z"
   },
   {
    "duration": 12,
    "start_time": "2022-05-03T11:08:26.955Z"
   },
   {
    "duration": 20,
    "start_time": "2022-05-03T11:08:26.968Z"
   },
   {
    "duration": 42,
    "start_time": "2022-05-03T11:08:26.989Z"
   },
   {
    "duration": 18,
    "start_time": "2022-05-03T11:08:27.032Z"
   },
   {
    "duration": 11,
    "start_time": "2022-05-03T11:08:27.052Z"
   },
   {
    "duration": 14,
    "start_time": "2022-05-03T11:08:27.065Z"
   },
   {
    "duration": 15,
    "start_time": "2022-05-03T11:08:27.081Z"
   },
   {
    "duration": 28,
    "start_time": "2022-05-03T11:08:27.098Z"
   },
   {
    "duration": 15,
    "start_time": "2022-05-03T11:08:27.129Z"
   },
   {
    "duration": 1900,
    "start_time": "2022-05-03T11:08:27.146Z"
   },
   {
    "duration": 0,
    "start_time": "2022-05-03T11:08:29.050Z"
   },
   {
    "duration": 0,
    "start_time": "2022-05-03T11:08:29.051Z"
   },
   {
    "duration": 1,
    "start_time": "2022-05-03T11:08:29.052Z"
   },
   {
    "duration": 0,
    "start_time": "2022-05-03T11:08:29.054Z"
   },
   {
    "duration": 0,
    "start_time": "2022-05-03T11:08:29.055Z"
   },
   {
    "duration": 0,
    "start_time": "2022-05-03T11:08:29.056Z"
   },
   {
    "duration": 0,
    "start_time": "2022-05-03T11:08:29.057Z"
   },
   {
    "duration": 0,
    "start_time": "2022-05-03T11:08:29.058Z"
   },
   {
    "duration": 0,
    "start_time": "2022-05-03T11:08:29.059Z"
   },
   {
    "duration": 0,
    "start_time": "2022-05-03T11:08:29.060Z"
   },
   {
    "duration": 0,
    "start_time": "2022-05-03T11:08:29.061Z"
   },
   {
    "duration": 0,
    "start_time": "2022-05-03T11:08:29.062Z"
   },
   {
    "duration": 0,
    "start_time": "2022-05-03T11:08:29.063Z"
   },
   {
    "duration": 0,
    "start_time": "2022-05-03T11:08:29.064Z"
   },
   {
    "duration": 0,
    "start_time": "2022-05-03T11:08:29.065Z"
   },
   {
    "duration": 0,
    "start_time": "2022-05-03T11:08:29.066Z"
   },
   {
    "duration": 0,
    "start_time": "2022-05-03T11:08:29.068Z"
   },
   {
    "duration": 0,
    "start_time": "2022-05-03T11:08:29.069Z"
   },
   {
    "duration": 0,
    "start_time": "2022-05-03T11:08:29.070Z"
   },
   {
    "duration": 0,
    "start_time": "2022-05-03T11:08:29.071Z"
   },
   {
    "duration": 0,
    "start_time": "2022-05-03T11:08:29.072Z"
   },
   {
    "duration": 0,
    "start_time": "2022-05-03T11:08:29.073Z"
   },
   {
    "duration": 0,
    "start_time": "2022-05-03T11:08:29.074Z"
   },
   {
    "duration": 0,
    "start_time": "2022-05-03T11:08:29.074Z"
   },
   {
    "duration": 0,
    "start_time": "2022-05-03T11:08:29.076Z"
   },
   {
    "duration": 0,
    "start_time": "2022-05-03T11:08:29.077Z"
   },
   {
    "duration": 0,
    "start_time": "2022-05-03T11:08:29.079Z"
   },
   {
    "duration": 0,
    "start_time": "2022-05-03T11:08:29.080Z"
   },
   {
    "duration": 0,
    "start_time": "2022-05-03T11:08:29.081Z"
   },
   {
    "duration": 0,
    "start_time": "2022-05-03T11:08:29.082Z"
   },
   {
    "duration": 0,
    "start_time": "2022-05-03T11:08:29.083Z"
   },
   {
    "duration": 0,
    "start_time": "2022-05-03T11:08:29.085Z"
   },
   {
    "duration": 0,
    "start_time": "2022-05-03T11:08:29.086Z"
   },
   {
    "duration": 0,
    "start_time": "2022-05-03T11:08:29.123Z"
   },
   {
    "duration": 0,
    "start_time": "2022-05-03T11:08:29.125Z"
   },
   {
    "duration": 0,
    "start_time": "2022-05-03T11:08:29.126Z"
   },
   {
    "duration": 0,
    "start_time": "2022-05-03T11:08:29.127Z"
   },
   {
    "duration": 0,
    "start_time": "2022-05-03T11:08:29.129Z"
   },
   {
    "duration": 0,
    "start_time": "2022-05-03T11:08:29.130Z"
   },
   {
    "duration": 0,
    "start_time": "2022-05-03T11:08:29.132Z"
   },
   {
    "duration": 0,
    "start_time": "2022-05-03T11:08:29.133Z"
   },
   {
    "duration": 0,
    "start_time": "2022-05-03T11:08:29.134Z"
   },
   {
    "duration": 0,
    "start_time": "2022-05-03T11:08:29.135Z"
   },
   {
    "duration": 0,
    "start_time": "2022-05-03T11:08:29.136Z"
   },
   {
    "duration": 0,
    "start_time": "2022-05-03T11:08:29.138Z"
   },
   {
    "duration": 0,
    "start_time": "2022-05-03T11:08:29.139Z"
   },
   {
    "duration": 0,
    "start_time": "2022-05-03T11:08:29.139Z"
   },
   {
    "duration": 0,
    "start_time": "2022-05-03T11:08:29.140Z"
   },
   {
    "duration": 0,
    "start_time": "2022-05-03T11:08:29.142Z"
   },
   {
    "duration": 0,
    "start_time": "2022-05-03T11:08:29.143Z"
   },
   {
    "duration": 0,
    "start_time": "2022-05-03T11:08:29.143Z"
   },
   {
    "duration": 0,
    "start_time": "2022-05-03T11:08:29.144Z"
   },
   {
    "duration": 0,
    "start_time": "2022-05-03T11:08:29.146Z"
   },
   {
    "duration": 0,
    "start_time": "2022-05-03T11:08:29.147Z"
   },
   {
    "duration": 0,
    "start_time": "2022-05-03T11:08:29.148Z"
   },
   {
    "duration": 0,
    "start_time": "2022-05-03T11:08:29.149Z"
   },
   {
    "duration": 0,
    "start_time": "2022-05-03T11:08:29.150Z"
   },
   {
    "duration": 0,
    "start_time": "2022-05-03T11:08:29.151Z"
   },
   {
    "duration": 0,
    "start_time": "2022-05-03T11:08:29.152Z"
   },
   {
    "duration": 0,
    "start_time": "2022-05-03T11:08:29.153Z"
   },
   {
    "duration": 0,
    "start_time": "2022-05-03T11:08:29.154Z"
   },
   {
    "duration": 0,
    "start_time": "2022-05-03T11:08:29.155Z"
   },
   {
    "duration": 0,
    "start_time": "2022-05-03T11:08:29.157Z"
   },
   {
    "duration": 0,
    "start_time": "2022-05-03T11:08:29.158Z"
   },
   {
    "duration": 0,
    "start_time": "2022-05-03T11:08:29.159Z"
   },
   {
    "duration": 0,
    "start_time": "2022-05-03T11:08:29.225Z"
   },
   {
    "duration": 0,
    "start_time": "2022-05-03T11:08:29.226Z"
   },
   {
    "duration": 0,
    "start_time": "2022-05-03T11:08:29.227Z"
   },
   {
    "duration": 0,
    "start_time": "2022-05-03T11:08:29.228Z"
   },
   {
    "duration": 0,
    "start_time": "2022-05-03T11:08:29.229Z"
   },
   {
    "duration": 0,
    "start_time": "2022-05-03T11:08:29.230Z"
   },
   {
    "duration": 0,
    "start_time": "2022-05-03T11:08:29.231Z"
   },
   {
    "duration": 1,
    "start_time": "2022-05-03T11:08:29.232Z"
   },
   {
    "duration": 0,
    "start_time": "2022-05-03T11:08:29.234Z"
   },
   {
    "duration": 0,
    "start_time": "2022-05-03T11:08:29.235Z"
   },
   {
    "duration": 0,
    "start_time": "2022-05-03T11:08:29.236Z"
   },
   {
    "duration": 0,
    "start_time": "2022-05-03T11:08:29.237Z"
   },
   {
    "duration": 0,
    "start_time": "2022-05-03T11:08:29.238Z"
   },
   {
    "duration": 0,
    "start_time": "2022-05-03T11:08:29.239Z"
   },
   {
    "duration": 0,
    "start_time": "2022-05-03T11:08:29.240Z"
   },
   {
    "duration": 0,
    "start_time": "2022-05-03T11:08:29.241Z"
   },
   {
    "duration": 0,
    "start_time": "2022-05-03T11:08:29.242Z"
   },
   {
    "duration": 0,
    "start_time": "2022-05-03T11:08:29.243Z"
   },
   {
    "duration": 0,
    "start_time": "2022-05-03T11:08:29.244Z"
   },
   {
    "duration": 0,
    "start_time": "2022-05-03T11:08:29.245Z"
   },
   {
    "duration": 0,
    "start_time": "2022-05-03T11:08:29.246Z"
   },
   {
    "duration": 20,
    "start_time": "2022-05-03T11:13:14.923Z"
   },
   {
    "duration": 21,
    "start_time": "2022-05-03T11:13:42.824Z"
   },
   {
    "duration": 3,
    "start_time": "2022-05-03T11:14:06.776Z"
   },
   {
    "duration": 8,
    "start_time": "2022-05-03T11:14:06.780Z"
   },
   {
    "duration": 6,
    "start_time": "2022-05-03T11:14:06.790Z"
   },
   {
    "duration": 6630,
    "start_time": "2022-05-03T11:14:06.798Z"
   },
   {
    "duration": 423,
    "start_time": "2022-05-03T11:14:13.430Z"
   },
   {
    "duration": 3,
    "start_time": "2022-05-03T11:14:13.855Z"
   },
   {
    "duration": 6,
    "start_time": "2022-05-03T11:14:13.860Z"
   },
   {
    "duration": 4,
    "start_time": "2022-05-03T11:14:13.868Z"
   },
   {
    "duration": 4,
    "start_time": "2022-05-03T11:14:13.875Z"
   },
   {
    "duration": 13,
    "start_time": "2022-05-03T11:14:13.880Z"
   },
   {
    "duration": 35,
    "start_time": "2022-05-03T11:14:13.895Z"
   },
   {
    "duration": 11,
    "start_time": "2022-05-03T11:14:13.932Z"
   },
   {
    "duration": 9,
    "start_time": "2022-05-03T11:14:13.945Z"
   },
   {
    "duration": 18,
    "start_time": "2022-05-03T11:14:13.957Z"
   },
   {
    "duration": 60,
    "start_time": "2022-05-03T11:14:13.976Z"
   },
   {
    "duration": 19,
    "start_time": "2022-05-03T11:14:14.038Z"
   },
   {
    "duration": 10,
    "start_time": "2022-05-03T11:14:14.058Z"
   },
   {
    "duration": 11,
    "start_time": "2022-05-03T11:14:14.069Z"
   },
   {
    "duration": 42,
    "start_time": "2022-05-03T11:14:14.082Z"
   },
   {
    "duration": 14,
    "start_time": "2022-05-03T11:14:14.125Z"
   },
   {
    "duration": 6,
    "start_time": "2022-05-03T11:14:14.140Z"
   },
   {
    "duration": 32,
    "start_time": "2022-05-03T11:14:14.148Z"
   },
   {
    "duration": 49,
    "start_time": "2022-05-03T11:14:14.181Z"
   },
   {
    "duration": 24,
    "start_time": "2022-05-03T11:14:14.234Z"
   },
   {
    "duration": 21,
    "start_time": "2022-05-03T11:14:14.259Z"
   },
   {
    "duration": 4,
    "start_time": "2022-05-03T11:14:14.281Z"
   },
   {
    "duration": 37,
    "start_time": "2022-05-03T11:14:14.287Z"
   },
   {
    "duration": 17,
    "start_time": "2022-05-03T11:14:14.326Z"
   },
   {
    "duration": 22,
    "start_time": "2022-05-03T11:14:14.345Z"
   },
   {
    "duration": 16,
    "start_time": "2022-05-03T11:14:14.369Z"
   },
   {
    "duration": 4,
    "start_time": "2022-05-03T11:14:14.387Z"
   },
   {
    "duration": 35,
    "start_time": "2022-05-03T11:14:14.392Z"
   },
   {
    "duration": 30,
    "start_time": "2022-05-03T11:14:14.429Z"
   },
   {
    "duration": 12,
    "start_time": "2022-05-03T11:14:14.461Z"
   },
   {
    "duration": 57,
    "start_time": "2022-05-03T11:14:14.475Z"
   },
   {
    "duration": 9,
    "start_time": "2022-05-03T11:14:14.534Z"
   },
   {
    "duration": 9,
    "start_time": "2022-05-03T11:14:14.544Z"
   },
   {
    "duration": 26,
    "start_time": "2022-05-03T11:14:14.555Z"
   },
   {
    "duration": 11,
    "start_time": "2022-05-03T11:14:14.583Z"
   },
   {
    "duration": 6,
    "start_time": "2022-05-03T11:14:14.623Z"
   },
   {
    "duration": 17,
    "start_time": "2022-05-03T11:14:14.631Z"
   },
   {
    "duration": 75,
    "start_time": "2022-05-03T11:14:14.650Z"
   },
   {
    "duration": 19,
    "start_time": "2022-05-03T11:14:14.727Z"
   },
   {
    "duration": 16,
    "start_time": "2022-05-03T11:14:14.748Z"
   },
   {
    "duration": 36,
    "start_time": "2022-05-03T11:14:14.766Z"
   },
   {
    "duration": 34,
    "start_time": "2022-05-03T11:14:14.804Z"
   },
   {
    "duration": 18,
    "start_time": "2022-05-03T11:14:14.840Z"
   },
   {
    "duration": 13,
    "start_time": "2022-05-03T11:14:14.860Z"
   },
   {
    "duration": 15,
    "start_time": "2022-05-03T11:14:14.875Z"
   },
   {
    "duration": 40,
    "start_time": "2022-05-03T11:14:14.892Z"
   },
   {
    "duration": 13,
    "start_time": "2022-05-03T11:14:14.934Z"
   },
   {
    "duration": 15,
    "start_time": "2022-05-03T11:14:14.948Z"
   },
   {
    "duration": 6,
    "start_time": "2022-05-03T11:14:14.965Z"
   },
   {
    "duration": 17,
    "start_time": "2022-05-03T11:14:14.972Z"
   },
   {
    "duration": 42,
    "start_time": "2022-05-03T11:14:14.991Z"
   },
   {
    "duration": 10,
    "start_time": "2022-05-03T11:14:15.035Z"
   },
   {
    "duration": 20,
    "start_time": "2022-05-03T11:14:15.047Z"
   },
   {
    "duration": 6,
    "start_time": "2022-05-03T11:14:15.068Z"
   },
   {
    "duration": 24,
    "start_time": "2022-05-03T11:14:15.076Z"
   },
   {
    "duration": 25,
    "start_time": "2022-05-03T11:14:15.102Z"
   },
   {
    "duration": 5,
    "start_time": "2022-05-03T11:14:15.129Z"
   },
   {
    "duration": 5,
    "start_time": "2022-05-03T11:14:15.136Z"
   },
   {
    "duration": 8,
    "start_time": "2022-05-03T11:14:15.142Z"
   },
   {
    "duration": 4,
    "start_time": "2022-05-03T11:14:15.152Z"
   },
   {
    "duration": 6,
    "start_time": "2022-05-03T11:14:15.157Z"
   },
   {
    "duration": 18,
    "start_time": "2022-05-03T11:14:15.164Z"
   },
   {
    "duration": 43,
    "start_time": "2022-05-03T11:14:15.184Z"
   },
   {
    "duration": 5,
    "start_time": "2022-05-03T11:14:15.229Z"
   },
   {
    "duration": 9,
    "start_time": "2022-05-03T11:14:15.240Z"
   },
   {
    "duration": 27,
    "start_time": "2022-05-03T11:14:15.251Z"
   },
   {
    "duration": 5,
    "start_time": "2022-05-03T11:14:15.280Z"
   },
   {
    "duration": 5,
    "start_time": "2022-05-03T11:14:15.286Z"
   },
   {
    "duration": 86,
    "start_time": "2022-05-03T11:14:15.324Z"
   },
   {
    "duration": 34,
    "start_time": "2022-05-03T11:14:15.412Z"
   },
   {
    "duration": 4,
    "start_time": "2022-05-03T11:14:15.448Z"
   },
   {
    "duration": 8,
    "start_time": "2022-05-03T11:14:15.453Z"
   },
   {
    "duration": 15,
    "start_time": "2022-05-03T11:14:15.463Z"
   },
   {
    "duration": 9,
    "start_time": "2022-05-03T11:14:15.479Z"
   },
   {
    "duration": 6,
    "start_time": "2022-05-03T11:14:15.489Z"
   },
   {
    "duration": 34,
    "start_time": "2022-05-03T11:14:15.496Z"
   },
   {
    "duration": 25,
    "start_time": "2022-05-03T11:14:15.532Z"
   },
   {
    "duration": 5,
    "start_time": "2022-05-03T11:14:15.559Z"
   },
   {
    "duration": 14,
    "start_time": "2022-05-03T11:14:15.566Z"
   },
   {
    "duration": 43,
    "start_time": "2022-05-03T11:14:15.582Z"
   },
   {
    "duration": 3,
    "start_time": "2022-05-03T11:14:15.626Z"
   },
   {
    "duration": 221,
    "start_time": "2022-05-03T11:14:15.630Z"
   },
   {
    "duration": 244,
    "start_time": "2022-05-03T11:14:15.853Z"
   },
   {
    "duration": 201,
    "start_time": "2022-05-03T11:14:16.098Z"
   },
   {
    "duration": 5,
    "start_time": "2022-05-03T11:14:16.301Z"
   },
   {
    "duration": 17,
    "start_time": "2022-05-03T11:14:16.308Z"
   },
   {
    "duration": 8,
    "start_time": "2022-05-03T11:14:16.326Z"
   },
   {
    "duration": 52,
    "start_time": "2022-05-03T11:14:16.336Z"
   },
   {
    "duration": 280,
    "start_time": "2022-05-03T11:14:16.390Z"
   },
   {
    "duration": 266,
    "start_time": "2022-05-03T11:14:16.672Z"
   },
   {
    "duration": 269,
    "start_time": "2022-05-03T11:14:16.939Z"
   },
   {
    "duration": 284,
    "start_time": "2022-05-03T11:14:17.210Z"
   },
   {
    "duration": 14,
    "start_time": "2022-05-03T11:14:17.496Z"
   },
   {
    "duration": 345,
    "start_time": "2022-05-03T11:14:17.523Z"
   },
   {
    "duration": 247,
    "start_time": "2022-05-03T11:14:17.870Z"
   },
   {
    "duration": 6,
    "start_time": "2022-05-03T11:14:18.123Z"
   },
   {
    "duration": 251,
    "start_time": "2022-05-03T11:14:18.132Z"
   },
   {
    "duration": 279,
    "start_time": "2022-05-03T11:14:18.385Z"
   },
   {
    "duration": 224,
    "start_time": "2022-05-03T11:14:18.666Z"
   },
   {
    "duration": 197,
    "start_time": "2022-05-03T11:14:18.892Z"
   },
   {
    "duration": 306,
    "start_time": "2022-05-03T11:14:19.091Z"
   },
   {
    "duration": 552,
    "start_time": "2022-05-03T11:14:19.399Z"
   },
   {
    "duration": 5,
    "start_time": "2022-05-03T11:14:19.953Z"
   },
   {
    "duration": 50,
    "start_time": "2022-05-03T11:14:19.960Z"
   },
   {
    "duration": 203,
    "start_time": "2022-05-03T11:14:20.025Z"
   },
   {
    "duration": 3,
    "start_time": "2022-05-03T11:14:20.230Z"
   },
   {
    "duration": 140,
    "start_time": "2022-05-03T11:14:20.235Z"
   },
   {
    "duration": 9,
    "start_time": "2022-05-03T11:14:20.377Z"
   },
   {
    "duration": 9,
    "start_time": "2022-05-03T11:14:20.387Z"
   },
   {
    "duration": 126,
    "start_time": "2022-05-03T11:14:20.398Z"
   },
   {
    "duration": 3,
    "start_time": "2022-05-03T11:14:20.525Z"
   },
   {
    "duration": 7,
    "start_time": "2022-05-03T11:14:20.530Z"
   },
   {
    "duration": 6,
    "start_time": "2022-05-03T11:14:20.539Z"
   },
   {
    "duration": 7,
    "start_time": "2022-05-03T11:14:20.546Z"
   },
   {
    "duration": 6,
    "start_time": "2022-05-03T11:14:20.555Z"
   },
   {
    "duration": 4,
    "start_time": "2022-05-03T11:14:20.562Z"
   },
   {
    "duration": 6,
    "start_time": "2022-05-03T11:14:20.568Z"
   },
   {
    "duration": 7,
    "start_time": "2022-05-03T11:14:20.575Z"
   },
   {
    "duration": 6,
    "start_time": "2022-05-03T11:14:20.583Z"
   },
   {
    "duration": 60,
    "start_time": "2022-05-03T11:14:20.590Z"
   },
   {
    "duration": 4,
    "start_time": "2022-05-03T11:14:20.652Z"
   },
   {
    "duration": 8,
    "start_time": "2022-05-03T11:14:20.658Z"
   },
   {
    "duration": 9,
    "start_time": "2022-05-03T11:14:20.668Z"
   },
   {
    "duration": 9,
    "start_time": "2022-05-03T11:14:20.678Z"
   },
   {
    "duration": 9,
    "start_time": "2022-05-03T11:14:20.689Z"
   },
   {
    "duration": 9,
    "start_time": "2022-05-03T11:14:20.699Z"
   },
   {
    "duration": 8,
    "start_time": "2022-05-03T11:14:20.709Z"
   },
   {
    "duration": 5,
    "start_time": "2022-05-03T11:14:20.719Z"
   },
   {
    "duration": 9,
    "start_time": "2022-05-03T11:14:20.726Z"
   },
   {
    "duration": 7,
    "start_time": "2022-05-03T11:14:20.737Z"
   },
   {
    "duration": 7,
    "start_time": "2022-05-03T11:14:20.746Z"
   },
   {
    "duration": 9,
    "start_time": "2022-05-03T11:14:20.755Z"
   },
   {
    "duration": 6,
    "start_time": "2022-05-03T11:14:20.766Z"
   },
   {
    "duration": 6,
    "start_time": "2022-05-03T11:14:20.774Z"
   },
   {
    "duration": 14,
    "start_time": "2022-05-03T11:14:20.781Z"
   },
   {
    "duration": 6,
    "start_time": "2022-05-03T11:14:20.796Z"
   },
   {
    "duration": 22,
    "start_time": "2022-05-03T11:14:20.804Z"
   },
   {
    "duration": 205,
    "start_time": "2022-05-03T11:14:54.432Z"
   },
   {
    "duration": 69,
    "start_time": "2022-05-04T05:23:40.569Z"
   },
   {
    "duration": 589,
    "start_time": "2022-05-04T05:23:55.166Z"
   },
   {
    "duration": 4,
    "start_time": "2022-05-04T05:23:55.758Z"
   },
   {
    "duration": 642,
    "start_time": "2022-05-04T05:23:55.792Z"
   },
   {
    "duration": 11251,
    "start_time": "2022-05-04T05:23:56.438Z"
   },
   {
    "duration": 666,
    "start_time": "2022-05-04T05:24:07.692Z"
   },
   {
    "duration": 4,
    "start_time": "2022-05-04T05:24:08.360Z"
   },
   {
    "duration": 8,
    "start_time": "2022-05-04T05:24:08.367Z"
   },
   {
    "duration": 15,
    "start_time": "2022-05-04T05:24:08.378Z"
   },
   {
    "duration": 6,
    "start_time": "2022-05-04T05:24:08.395Z"
   },
   {
    "duration": 21,
    "start_time": "2022-05-04T05:24:08.406Z"
   },
   {
    "duration": 16,
    "start_time": "2022-05-04T05:24:08.430Z"
   },
   {
    "duration": 52,
    "start_time": "2022-05-04T05:24:08.450Z"
   },
   {
    "duration": 15,
    "start_time": "2022-05-04T05:24:08.504Z"
   },
   {
    "duration": 20,
    "start_time": "2022-05-04T05:24:08.522Z"
   },
   {
    "duration": 68,
    "start_time": "2022-05-04T05:24:08.545Z"
   },
   {
    "duration": 27,
    "start_time": "2022-05-04T05:24:08.615Z"
   },
   {
    "duration": 15,
    "start_time": "2022-05-04T05:24:08.645Z"
   },
   {
    "duration": 44,
    "start_time": "2022-05-04T05:24:08.662Z"
   },
   {
    "duration": 29,
    "start_time": "2022-05-04T05:24:08.708Z"
   },
   {
    "duration": 21,
    "start_time": "2022-05-04T05:24:08.739Z"
   },
   {
    "duration": 32,
    "start_time": "2022-05-04T05:24:08.763Z"
   },
   {
    "duration": 76,
    "start_time": "2022-05-04T05:24:08.797Z"
   },
   {
    "duration": 89,
    "start_time": "2022-05-04T05:24:08.875Z"
   },
   {
    "duration": 60,
    "start_time": "2022-05-04T05:24:08.967Z"
   },
   {
    "duration": 43,
    "start_time": "2022-05-04T05:24:09.029Z"
   },
   {
    "duration": 23,
    "start_time": "2022-05-04T05:24:09.075Z"
   },
   {
    "duration": 22,
    "start_time": "2022-05-04T05:24:09.100Z"
   },
   {
    "duration": 35,
    "start_time": "2022-05-04T05:24:09.130Z"
   },
   {
    "duration": 56,
    "start_time": "2022-05-04T05:24:09.168Z"
   },
   {
    "duration": 24,
    "start_time": "2022-05-04T05:24:09.226Z"
   },
   {
    "duration": 5,
    "start_time": "2022-05-04T05:24:09.253Z"
   },
   {
    "duration": 38,
    "start_time": "2022-05-04T05:24:09.261Z"
   },
   {
    "duration": 65,
    "start_time": "2022-05-04T05:24:09.302Z"
   },
   {
    "duration": 33,
    "start_time": "2022-05-04T05:24:09.369Z"
   },
   {
    "duration": 58,
    "start_time": "2022-05-04T05:24:09.404Z"
   },
   {
    "duration": 30,
    "start_time": "2022-05-04T05:24:09.464Z"
   },
   {
    "duration": 11,
    "start_time": "2022-05-04T05:24:09.498Z"
   },
   {
    "duration": 38,
    "start_time": "2022-05-04T05:24:09.511Z"
   },
   {
    "duration": 46,
    "start_time": "2022-05-04T05:24:09.551Z"
   },
   {
    "duration": 8,
    "start_time": "2022-05-04T05:24:09.600Z"
   },
   {
    "duration": 30,
    "start_time": "2022-05-04T05:24:09.611Z"
   },
   {
    "duration": 103,
    "start_time": "2022-05-04T05:24:09.644Z"
   },
   {
    "duration": 29,
    "start_time": "2022-05-04T05:24:09.749Z"
   },
   {
    "duration": 19,
    "start_time": "2022-05-04T05:24:09.794Z"
   },
   {
    "duration": 44,
    "start_time": "2022-05-04T05:24:09.815Z"
   },
   {
    "duration": 42,
    "start_time": "2022-05-04T05:24:09.861Z"
   },
   {
    "duration": 29,
    "start_time": "2022-05-04T05:24:09.905Z"
   },
   {
    "duration": 20,
    "start_time": "2022-05-04T05:24:09.936Z"
   },
   {
    "duration": 25,
    "start_time": "2022-05-04T05:24:09.994Z"
   },
   {
    "duration": 17,
    "start_time": "2022-05-04T05:24:10.021Z"
   },
   {
    "duration": 25,
    "start_time": "2022-05-04T05:24:10.040Z"
   },
   {
    "duration": 44,
    "start_time": "2022-05-04T05:24:10.067Z"
   },
   {
    "duration": 5,
    "start_time": "2022-05-04T05:24:10.114Z"
   },
   {
    "duration": 38,
    "start_time": "2022-05-04T05:24:10.122Z"
   },
   {
    "duration": 51,
    "start_time": "2022-05-04T05:24:10.163Z"
   },
   {
    "duration": 17,
    "start_time": "2022-05-04T05:24:10.216Z"
   },
   {
    "duration": 13,
    "start_time": "2022-05-04T05:24:10.235Z"
   },
   {
    "duration": 10,
    "start_time": "2022-05-04T05:24:10.250Z"
   },
   {
    "duration": 62,
    "start_time": "2022-05-04T05:24:10.262Z"
   },
   {
    "duration": 9,
    "start_time": "2022-05-04T05:24:10.327Z"
   },
   {
    "duration": 5,
    "start_time": "2022-05-04T05:24:10.339Z"
   },
   {
    "duration": 5,
    "start_time": "2022-05-04T05:24:10.349Z"
   },
   {
    "duration": 43,
    "start_time": "2022-05-04T05:24:10.357Z"
   },
   {
    "duration": 6,
    "start_time": "2022-05-04T05:24:10.402Z"
   },
   {
    "duration": 10,
    "start_time": "2022-05-04T05:24:10.411Z"
   },
   {
    "duration": 32,
    "start_time": "2022-05-04T05:24:10.423Z"
   },
   {
    "duration": 39,
    "start_time": "2022-05-04T05:24:10.457Z"
   },
   {
    "duration": 7,
    "start_time": "2022-05-04T05:24:10.499Z"
   },
   {
    "duration": 12,
    "start_time": "2022-05-04T05:24:10.508Z"
   },
   {
    "duration": 44,
    "start_time": "2022-05-04T05:24:10.522Z"
   },
   {
    "duration": 6,
    "start_time": "2022-05-04T05:24:10.593Z"
   },
   {
    "duration": 8,
    "start_time": "2022-05-04T05:24:10.602Z"
   },
   {
    "duration": 181,
    "start_time": "2022-05-04T05:24:10.613Z"
   },
   {
    "duration": 61,
    "start_time": "2022-05-04T05:24:10.796Z"
   },
   {
    "duration": 5,
    "start_time": "2022-05-04T05:24:10.859Z"
   },
   {
    "duration": 28,
    "start_time": "2022-05-04T05:24:10.867Z"
   },
   {
    "duration": 22,
    "start_time": "2022-05-04T05:24:10.897Z"
   },
   {
    "duration": 14,
    "start_time": "2022-05-04T05:24:10.921Z"
   },
   {
    "duration": 6,
    "start_time": "2022-05-04T05:24:10.937Z"
   },
   {
    "duration": 52,
    "start_time": "2022-05-04T05:24:10.945Z"
   },
   {
    "duration": 41,
    "start_time": "2022-05-04T05:24:10.999Z"
   },
   {
    "duration": 6,
    "start_time": "2022-05-04T05:24:11.050Z"
   },
   {
    "duration": 42,
    "start_time": "2022-05-04T05:24:11.057Z"
   },
   {
    "duration": 27,
    "start_time": "2022-05-04T05:24:11.102Z"
   },
   {
    "duration": 3,
    "start_time": "2022-05-04T05:24:11.132Z"
   },
   {
    "duration": 394,
    "start_time": "2022-05-04T05:24:11.137Z"
   },
   {
    "duration": 345,
    "start_time": "2022-05-04T05:24:11.533Z"
   },
   {
    "duration": 343,
    "start_time": "2022-05-04T05:24:11.880Z"
   },
   {
    "duration": 8,
    "start_time": "2022-05-04T05:24:12.225Z"
   },
   {
    "duration": 12,
    "start_time": "2022-05-04T05:24:12.235Z"
   },
   {
    "duration": 10,
    "start_time": "2022-05-04T05:24:12.249Z"
   },
   {
    "duration": 106,
    "start_time": "2022-05-04T05:24:12.261Z"
   },
   {
    "duration": 518,
    "start_time": "2022-05-04T05:24:12.370Z"
   },
   {
    "duration": 440,
    "start_time": "2022-05-04T05:24:12.893Z"
   },
   {
    "duration": 450,
    "start_time": "2022-05-04T05:24:13.336Z"
   },
   {
    "duration": 447,
    "start_time": "2022-05-04T05:24:13.788Z"
   },
   {
    "duration": 22,
    "start_time": "2022-05-04T05:24:14.238Z"
   },
   {
    "duration": 462,
    "start_time": "2022-05-04T05:24:14.262Z"
   },
   {
    "duration": 527,
    "start_time": "2022-05-04T05:24:14.727Z"
   },
   {
    "duration": 9,
    "start_time": "2022-05-04T05:24:15.257Z"
   },
   {
    "duration": 459,
    "start_time": "2022-05-04T05:24:15.268Z"
   },
   {
    "duration": 684,
    "start_time": "2022-05-04T05:24:15.729Z"
   },
   {
    "duration": 470,
    "start_time": "2022-05-04T05:24:16.415Z"
   },
   {
    "duration": 480,
    "start_time": "2022-05-04T05:24:16.892Z"
   },
   {
    "duration": 522,
    "start_time": "2022-05-04T05:24:17.375Z"
   },
   {
    "duration": 796,
    "start_time": "2022-05-04T05:24:17.900Z"
   },
   {
    "duration": 5,
    "start_time": "2022-05-04T05:24:18.699Z"
   },
   {
    "duration": 48,
    "start_time": "2022-05-04T05:24:18.706Z"
   },
   {
    "duration": 239,
    "start_time": "2022-05-04T05:24:18.756Z"
   },
   {
    "duration": 4,
    "start_time": "2022-05-04T05:24:18.997Z"
   },
   {
    "duration": 224,
    "start_time": "2022-05-04T05:24:19.003Z"
   },
   {
    "duration": 11,
    "start_time": "2022-05-04T05:24:19.229Z"
   },
   {
    "duration": 6,
    "start_time": "2022-05-04T05:24:19.243Z"
   },
   {
    "duration": 223,
    "start_time": "2022-05-04T05:24:19.252Z"
   },
   {
    "duration": 4,
    "start_time": "2022-05-04T05:24:19.477Z"
   },
   {
    "duration": 14,
    "start_time": "2022-05-04T05:24:19.483Z"
   },
   {
    "duration": 6,
    "start_time": "2022-05-04T05:24:19.499Z"
   },
   {
    "duration": 7,
    "start_time": "2022-05-04T05:24:19.507Z"
   },
   {
    "duration": 11,
    "start_time": "2022-05-04T05:24:19.516Z"
   },
   {
    "duration": 12,
    "start_time": "2022-05-04T05:24:19.529Z"
   },
   {
    "duration": 19,
    "start_time": "2022-05-04T05:24:19.543Z"
   },
   {
    "duration": 30,
    "start_time": "2022-05-04T05:24:19.565Z"
   },
   {
    "duration": 11,
    "start_time": "2022-05-04T05:24:19.597Z"
   },
   {
    "duration": 63,
    "start_time": "2022-05-04T05:24:19.611Z"
   },
   {
    "duration": 20,
    "start_time": "2022-05-04T05:24:19.676Z"
   },
   {
    "duration": 10,
    "start_time": "2022-05-04T05:24:19.698Z"
   },
   {
    "duration": 5,
    "start_time": "2022-05-04T05:24:19.711Z"
   },
   {
    "duration": 8,
    "start_time": "2022-05-04T05:24:19.719Z"
   },
   {
    "duration": 7,
    "start_time": "2022-05-04T05:24:19.729Z"
   },
   {
    "duration": 15,
    "start_time": "2022-05-04T05:24:19.738Z"
   },
   {
    "duration": 38,
    "start_time": "2022-05-04T05:24:19.756Z"
   },
   {
    "duration": 9,
    "start_time": "2022-05-04T05:24:19.796Z"
   },
   {
    "duration": 8,
    "start_time": "2022-05-04T05:24:19.807Z"
   },
   {
    "duration": 7,
    "start_time": "2022-05-04T05:24:19.817Z"
   },
   {
    "duration": 6,
    "start_time": "2022-05-04T05:24:19.826Z"
   },
   {
    "duration": 6,
    "start_time": "2022-05-04T05:24:19.834Z"
   },
   {
    "duration": 9,
    "start_time": "2022-05-04T05:24:19.842Z"
   },
   {
    "duration": 43,
    "start_time": "2022-05-04T05:24:19.853Z"
   },
   {
    "duration": 6,
    "start_time": "2022-05-04T05:24:19.898Z"
   },
   {
    "duration": 9,
    "start_time": "2022-05-04T05:24:19.906Z"
   },
   {
    "duration": 10,
    "start_time": "2022-05-04T05:24:19.917Z"
   },
   {
    "duration": 26,
    "start_time": "2022-05-04T05:30:27.617Z"
   },
   {
    "duration": 23,
    "start_time": "2022-05-04T05:30:33.411Z"
   },
   {
    "duration": 13,
    "start_time": "2022-05-04T05:30:53.715Z"
   },
   {
    "duration": 15,
    "start_time": "2022-05-04T05:31:05.892Z"
   },
   {
    "duration": 14,
    "start_time": "2022-05-04T05:31:32.392Z"
   },
   {
    "duration": 10,
    "start_time": "2022-05-04T05:31:42.550Z"
   },
   {
    "duration": 19,
    "start_time": "2022-05-04T05:38:23.030Z"
   },
   {
    "duration": 142,
    "start_time": "2022-05-04T05:38:35.563Z"
   },
   {
    "duration": 21,
    "start_time": "2022-05-04T05:38:43.124Z"
   },
   {
    "duration": 13,
    "start_time": "2022-05-04T05:38:59.069Z"
   },
   {
    "duration": 22,
    "start_time": "2022-05-04T05:45:22.673Z"
   },
   {
    "duration": 21,
    "start_time": "2022-05-04T05:45:24.862Z"
   },
   {
    "duration": 35,
    "start_time": "2022-05-04T05:45:33.217Z"
   },
   {
    "duration": 24,
    "start_time": "2022-05-04T05:45:33.842Z"
   },
   {
    "duration": 17,
    "start_time": "2022-05-04T05:45:43.777Z"
   },
   {
    "duration": 25,
    "start_time": "2022-05-04T05:45:44.514Z"
   },
   {
    "duration": 32,
    "start_time": "2022-05-04T05:45:50.086Z"
   },
   {
    "duration": 25,
    "start_time": "2022-05-04T05:45:50.307Z"
   },
   {
    "duration": 4,
    "start_time": "2022-05-04T05:45:54.503Z"
   },
   {
    "duration": 24,
    "start_time": "2022-05-04T05:45:54.945Z"
   },
   {
    "duration": 26,
    "start_time": "2022-05-04T05:46:11.498Z"
   },
   {
    "duration": 13,
    "start_time": "2022-05-04T05:46:38.996Z"
   },
   {
    "duration": 11,
    "start_time": "2022-05-04T05:46:39.707Z"
   },
   {
    "duration": 17,
    "start_time": "2022-05-04T05:48:34.413Z"
   },
   {
    "duration": 13,
    "start_time": "2022-05-04T05:48:35.368Z"
   },
   {
    "duration": 3,
    "start_time": "2022-05-04T05:49:04.493Z"
   },
   {
    "duration": 50,
    "start_time": "2022-05-04T05:49:05.204Z"
   },
   {
    "duration": 10,
    "start_time": "2022-05-04T05:49:08.711Z"
   },
   {
    "duration": 5,
    "start_time": "2022-05-04T05:50:35.034Z"
   },
   {
    "duration": 13,
    "start_time": "2022-05-04T05:50:48.492Z"
   },
   {
    "duration": 5,
    "start_time": "2022-05-04T05:52:01.084Z"
   },
   {
    "duration": 13,
    "start_time": "2022-05-04T05:52:01.307Z"
   },
   {
    "duration": 7,
    "start_time": "2022-05-04T05:52:17.330Z"
   },
   {
    "duration": 6,
    "start_time": "2022-05-04T05:52:18.559Z"
   },
   {
    "duration": 12,
    "start_time": "2022-05-04T05:52:19.084Z"
   },
   {
    "duration": 519,
    "start_time": "2022-05-04T07:20:40.706Z"
   },
   {
    "duration": 4,
    "start_time": "2022-05-04T07:20:41.227Z"
   },
   {
    "duration": 402,
    "start_time": "2022-05-04T07:20:41.234Z"
   },
   {
    "duration": 536,
    "start_time": "2022-05-04T07:20:53.102Z"
   },
   {
    "duration": 4,
    "start_time": "2022-05-04T07:20:53.640Z"
   },
   {
    "duration": 412,
    "start_time": "2022-05-04T07:20:53.646Z"
   },
   {
    "duration": 10416,
    "start_time": "2022-05-04T07:20:54.060Z"
   },
   {
    "duration": 692,
    "start_time": "2022-05-04T07:21:04.479Z"
   },
   {
    "duration": 4,
    "start_time": "2022-05-04T07:21:05.173Z"
   },
   {
    "duration": 14,
    "start_time": "2022-05-04T07:21:05.179Z"
   },
   {
    "duration": 11,
    "start_time": "2022-05-04T07:21:05.195Z"
   },
   {
    "duration": 8,
    "start_time": "2022-05-04T07:21:05.208Z"
   },
   {
    "duration": 24,
    "start_time": "2022-05-04T07:21:05.218Z"
   },
   {
    "duration": 15,
    "start_time": "2022-05-04T07:21:05.244Z"
   },
   {
    "duration": 44,
    "start_time": "2022-05-04T07:21:05.262Z"
   },
   {
    "duration": 10,
    "start_time": "2022-05-04T07:21:05.308Z"
   },
   {
    "duration": 18,
    "start_time": "2022-05-04T07:21:05.323Z"
   },
   {
    "duration": 74,
    "start_time": "2022-05-04T07:21:05.344Z"
   },
   {
    "duration": 27,
    "start_time": "2022-05-04T07:21:05.420Z"
   },
   {
    "duration": 14,
    "start_time": "2022-05-04T07:21:05.450Z"
   },
   {
    "duration": 16,
    "start_time": "2022-05-04T07:21:05.494Z"
   },
   {
    "duration": 35,
    "start_time": "2022-05-04T07:21:05.512Z"
   },
   {
    "duration": 45,
    "start_time": "2022-05-04T07:21:05.549Z"
   },
   {
    "duration": 6,
    "start_time": "2022-05-04T07:21:05.597Z"
   },
   {
    "duration": 51,
    "start_time": "2022-05-04T07:21:05.606Z"
   },
   {
    "duration": 72,
    "start_time": "2022-05-04T07:21:05.659Z"
   },
   {
    "duration": 34,
    "start_time": "2022-05-04T07:21:05.734Z"
   },
   {
    "duration": 49,
    "start_time": "2022-05-04T07:21:05.770Z"
   },
   {
    "duration": 5,
    "start_time": "2022-05-04T07:21:05.822Z"
   },
   {
    "duration": 19,
    "start_time": "2022-05-04T07:21:05.830Z"
   },
   {
    "duration": 47,
    "start_time": "2022-05-04T07:21:05.852Z"
   },
   {
    "duration": 32,
    "start_time": "2022-05-04T07:21:05.901Z"
   },
   {
    "duration": 25,
    "start_time": "2022-05-04T07:21:05.935Z"
   },
   {
    "duration": 5,
    "start_time": "2022-05-04T07:21:05.962Z"
   },
   {
    "duration": 9,
    "start_time": "2022-05-04T07:21:05.994Z"
   },
   {
    "duration": 44,
    "start_time": "2022-05-04T07:21:06.006Z"
   },
   {
    "duration": 42,
    "start_time": "2022-05-04T07:21:06.053Z"
   },
   {
    "duration": 53,
    "start_time": "2022-05-04T07:21:06.097Z"
   },
   {
    "duration": 18,
    "start_time": "2022-05-04T07:21:06.152Z"
   },
   {
    "duration": 28,
    "start_time": "2022-05-04T07:21:06.172Z"
   },
   {
    "duration": 36,
    "start_time": "2022-05-04T07:21:06.202Z"
   },
   {
    "duration": 18,
    "start_time": "2022-05-04T07:21:06.240Z"
   },
   {
    "duration": 34,
    "start_time": "2022-05-04T07:21:06.260Z"
   },
   {
    "duration": 9,
    "start_time": "2022-05-04T07:21:06.303Z"
   },
   {
    "duration": 21,
    "start_time": "2022-05-04T07:21:06.315Z"
   },
   {
    "duration": 100,
    "start_time": "2022-05-04T07:21:06.338Z"
   },
   {
    "duration": 22,
    "start_time": "2022-05-04T07:21:06.440Z"
   },
   {
    "duration": 42,
    "start_time": "2022-05-04T07:21:06.465Z"
   },
   {
    "duration": 48,
    "start_time": "2022-05-04T07:21:06.510Z"
   },
   {
    "duration": 41,
    "start_time": "2022-05-04T07:21:06.561Z"
   },
   {
    "duration": 36,
    "start_time": "2022-05-04T07:21:06.604Z"
   },
   {
    "duration": 20,
    "start_time": "2022-05-04T07:21:06.642Z"
   },
   {
    "duration": 23,
    "start_time": "2022-05-04T07:21:06.693Z"
   },
   {
    "duration": 21,
    "start_time": "2022-05-04T07:21:06.719Z"
   },
   {
    "duration": 59,
    "start_time": "2022-05-04T07:21:06.743Z"
   },
   {
    "duration": 23,
    "start_time": "2022-05-04T07:21:06.805Z"
   },
   {
    "duration": 7,
    "start_time": "2022-05-04T07:21:06.831Z"
   },
   {
    "duration": 24,
    "start_time": "2022-05-04T07:21:06.840Z"
   },
   {
    "duration": 52,
    "start_time": "2022-05-04T07:21:06.866Z"
   },
   {
    "duration": 17,
    "start_time": "2022-05-04T07:21:06.921Z"
   },
   {
    "duration": 10,
    "start_time": "2022-05-04T07:21:06.940Z"
   },
   {
    "duration": 41,
    "start_time": "2022-05-04T07:21:06.952Z"
   },
   {
    "duration": 31,
    "start_time": "2022-05-04T07:21:06.995Z"
   },
   {
    "duration": 10,
    "start_time": "2022-05-04T07:21:07.028Z"
   },
   {
    "duration": 6,
    "start_time": "2022-05-04T07:21:07.040Z"
   },
   {
    "duration": 6,
    "start_time": "2022-05-04T07:21:07.048Z"
   },
   {
    "duration": 10,
    "start_time": "2022-05-04T07:21:07.093Z"
   },
   {
    "duration": 8,
    "start_time": "2022-05-04T07:21:07.106Z"
   },
   {
    "duration": 14,
    "start_time": "2022-05-04T07:21:07.116Z"
   },
   {
    "duration": 6,
    "start_time": "2022-05-04T07:21:07.132Z"
   },
   {
    "duration": 6,
    "start_time": "2022-05-04T07:21:07.140Z"
   },
   {
    "duration": 68,
    "start_time": "2022-05-04T07:21:07.148Z"
   },
   {
    "duration": 13,
    "start_time": "2022-05-04T07:21:07.219Z"
   },
   {
    "duration": 5,
    "start_time": "2022-05-04T07:21:07.235Z"
   },
   {
    "duration": 14,
    "start_time": "2022-05-04T07:21:07.243Z"
   },
   {
    "duration": 68,
    "start_time": "2022-05-04T07:21:07.259Z"
   },
   {
    "duration": 6,
    "start_time": "2022-05-04T07:21:07.329Z"
   },
   {
    "duration": 15,
    "start_time": "2022-05-04T07:21:07.337Z"
   },
   {
    "duration": 193,
    "start_time": "2022-05-04T07:21:07.354Z"
   },
   {
    "duration": 55,
    "start_time": "2022-05-04T07:21:07.549Z"
   },
   {
    "duration": 5,
    "start_time": "2022-05-04T07:21:07.606Z"
   },
   {
    "duration": 11,
    "start_time": "2022-05-04T07:21:07.613Z"
   },
   {
    "duration": 17,
    "start_time": "2022-05-04T07:21:07.626Z"
   },
   {
    "duration": 15,
    "start_time": "2022-05-04T07:21:07.645Z"
   },
   {
    "duration": 8,
    "start_time": "2022-05-04T07:21:07.694Z"
   },
   {
    "duration": 19,
    "start_time": "2022-05-04T07:21:07.704Z"
   },
   {
    "duration": 43,
    "start_time": "2022-05-04T07:21:07.725Z"
   },
   {
    "duration": 7,
    "start_time": "2022-05-04T07:21:07.794Z"
   },
   {
    "duration": 19,
    "start_time": "2022-05-04T07:21:07.803Z"
   },
   {
    "duration": 27,
    "start_time": "2022-05-04T07:21:07.824Z"
   },
   {
    "duration": 3,
    "start_time": "2022-05-04T07:21:07.854Z"
   },
   {
    "duration": 579,
    "start_time": "2022-05-04T07:21:07.894Z"
   },
   {
    "duration": 352,
    "start_time": "2022-05-04T07:21:08.475Z"
   },
   {
    "duration": 344,
    "start_time": "2022-05-04T07:21:08.830Z"
   },
   {
    "duration": 9,
    "start_time": "2022-05-04T07:21:09.176Z"
   },
   {
    "duration": 8,
    "start_time": "2022-05-04T07:21:09.194Z"
   },
   {
    "duration": 12,
    "start_time": "2022-05-04T07:21:09.205Z"
   },
   {
    "duration": 98,
    "start_time": "2022-05-04T07:21:09.220Z"
   },
   {
    "duration": 503,
    "start_time": "2022-05-04T07:21:09.321Z"
   },
   {
    "duration": 438,
    "start_time": "2022-05-04T07:21:09.827Z"
   },
   {
    "duration": 434,
    "start_time": "2022-05-04T07:21:10.268Z"
   },
   {
    "duration": 449,
    "start_time": "2022-05-04T07:21:10.704Z"
   },
   {
    "duration": 17,
    "start_time": "2022-05-04T07:21:11.155Z"
   },
   {
    "duration": 424,
    "start_time": "2022-05-04T07:21:11.174Z"
   },
   {
    "duration": 513,
    "start_time": "2022-05-04T07:21:11.600Z"
   },
   {
    "duration": 8,
    "start_time": "2022-05-04T07:21:12.116Z"
   },
   {
    "duration": 441,
    "start_time": "2022-05-04T07:21:12.127Z"
   },
   {
    "duration": 428,
    "start_time": "2022-05-04T07:21:12.571Z"
   },
   {
    "duration": 384,
    "start_time": "2022-05-04T07:21:13.002Z"
   },
   {
    "duration": 354,
    "start_time": "2022-05-04T07:21:13.393Z"
   },
   {
    "duration": 358,
    "start_time": "2022-05-04T07:21:13.749Z"
   },
   {
    "duration": 599,
    "start_time": "2022-05-04T07:21:14.110Z"
   },
   {
    "duration": 4,
    "start_time": "2022-05-04T07:21:14.712Z"
   },
   {
    "duration": 44,
    "start_time": "2022-05-04T07:21:14.718Z"
   },
   {
    "duration": 316,
    "start_time": "2022-05-04T07:21:14.766Z"
   },
   {
    "duration": 9,
    "start_time": "2022-05-04T07:21:15.085Z"
   },
   {
    "duration": 285,
    "start_time": "2022-05-04T07:21:15.097Z"
   },
   {
    "duration": 14,
    "start_time": "2022-05-04T07:21:15.392Z"
   },
   {
    "duration": 4,
    "start_time": "2022-05-04T07:21:15.409Z"
   },
   {
    "duration": 233,
    "start_time": "2022-05-04T07:21:15.416Z"
   },
   {
    "duration": 5,
    "start_time": "2022-05-04T07:21:15.652Z"
   },
   {
    "duration": 12,
    "start_time": "2022-05-04T07:21:15.659Z"
   },
   {
    "duration": 23,
    "start_time": "2022-05-04T07:21:15.674Z"
   },
   {
    "duration": 8,
    "start_time": "2022-05-04T07:21:15.699Z"
   },
   {
    "duration": 6,
    "start_time": "2022-05-04T07:21:15.718Z"
   },
   {
    "duration": 6,
    "start_time": "2022-05-04T07:21:15.726Z"
   },
   {
    "duration": 6,
    "start_time": "2022-05-04T07:21:15.734Z"
   },
   {
    "duration": 7,
    "start_time": "2022-05-04T07:21:15.742Z"
   },
   {
    "duration": 5,
    "start_time": "2022-05-04T07:21:15.794Z"
   },
   {
    "duration": 46,
    "start_time": "2022-05-04T07:21:15.801Z"
   },
   {
    "duration": 7,
    "start_time": "2022-05-04T07:21:15.849Z"
   },
   {
    "duration": 36,
    "start_time": "2022-05-04T07:21:15.859Z"
   },
   {
    "duration": 5,
    "start_time": "2022-05-04T07:21:15.898Z"
   },
   {
    "duration": 6,
    "start_time": "2022-05-04T07:21:15.906Z"
   },
   {
    "duration": 6,
    "start_time": "2022-05-04T07:21:15.915Z"
   },
   {
    "duration": 4,
    "start_time": "2022-05-04T07:21:15.924Z"
   },
   {
    "duration": 11,
    "start_time": "2022-05-04T07:21:15.931Z"
   },
   {
    "duration": 52,
    "start_time": "2022-05-04T07:21:15.944Z"
   },
   {
    "duration": 5,
    "start_time": "2022-05-04T07:21:15.999Z"
   },
   {
    "duration": 8,
    "start_time": "2022-05-04T07:21:16.006Z"
   },
   {
    "duration": 7,
    "start_time": "2022-05-04T07:21:16.016Z"
   },
   {
    "duration": 9,
    "start_time": "2022-05-04T07:21:16.025Z"
   },
   {
    "duration": 11,
    "start_time": "2022-05-04T07:21:16.037Z"
   },
   {
    "duration": 12,
    "start_time": "2022-05-04T07:21:16.050Z"
   },
   {
    "duration": 31,
    "start_time": "2022-05-04T07:21:16.064Z"
   },
   {
    "duration": 8,
    "start_time": "2022-05-04T07:21:16.097Z"
   },
   {
    "duration": 9,
    "start_time": "2022-05-04T07:21:16.107Z"
   },
   {
    "duration": 29,
    "start_time": "2022-05-04T07:21:29.602Z"
   },
   {
    "duration": 16,
    "start_time": "2022-05-04T07:21:33.862Z"
   },
   {
    "duration": 10,
    "start_time": "2022-05-04T07:21:34.565Z"
   },
   {
    "duration": 4,
    "start_time": "2022-05-04T07:21:35.150Z"
   },
   {
    "duration": 31,
    "start_time": "2022-05-04T07:21:37.830Z"
   },
   {
    "duration": 11,
    "start_time": "2022-05-04T07:21:38.272Z"
   },
   {
    "duration": 4,
    "start_time": "2022-05-04T07:22:09.084Z"
   },
   {
    "duration": 4,
    "start_time": "2022-05-04T07:22:11.266Z"
   },
   {
    "duration": 6,
    "start_time": "2022-05-04T07:22:11.844Z"
   },
   {
    "duration": 13,
    "start_time": "2022-05-04T07:22:12.296Z"
   },
   {
    "duration": 5,
    "start_time": "2022-05-04T07:22:57.858Z"
   },
   {
    "duration": 9,
    "start_time": "2022-05-04T07:22:59.225Z"
   },
   {
    "duration": 19,
    "start_time": "2022-05-04T07:23:03.965Z"
   },
   {
    "duration": 5,
    "start_time": "2022-05-04T07:23:04.700Z"
   },
   {
    "duration": 29,
    "start_time": "2022-05-04T07:23:08.408Z"
   },
   {
    "duration": 14,
    "start_time": "2022-05-04T07:23:12.799Z"
   },
   {
    "duration": 5,
    "start_time": "2022-05-04T07:24:51.845Z"
   },
   {
    "duration": 13,
    "start_time": "2022-05-04T07:24:52.088Z"
   },
   {
    "duration": 45,
    "start_time": "2022-05-04T07:24:52.300Z"
   },
   {
    "duration": 5,
    "start_time": "2022-05-04T07:33:22.386Z"
   },
   {
    "duration": 12,
    "start_time": "2022-05-04T07:33:22.517Z"
   },
   {
    "duration": 6,
    "start_time": "2022-05-04T07:33:26.176Z"
   },
   {
    "duration": 5,
    "start_time": "2022-05-04T07:33:26.777Z"
   },
   {
    "duration": 42,
    "start_time": "2022-05-04T07:33:28.937Z"
   },
   {
    "duration": 12,
    "start_time": "2022-05-04T07:33:29.187Z"
   },
   {
    "duration": 4,
    "start_time": "2022-05-04T07:53:58.928Z"
   },
   {
    "duration": 639,
    "start_time": "2022-05-04T07:54:02.524Z"
   },
   {
    "duration": 4,
    "start_time": "2022-05-04T07:54:03.166Z"
   },
   {
    "duration": 411,
    "start_time": "2022-05-04T07:54:03.172Z"
   },
   {
    "duration": 10394,
    "start_time": "2022-05-04T07:54:03.586Z"
   },
   {
    "duration": 622,
    "start_time": "2022-05-04T07:54:13.983Z"
   },
   {
    "duration": 3,
    "start_time": "2022-05-04T07:54:14.607Z"
   },
   {
    "duration": 9,
    "start_time": "2022-05-04T07:54:14.613Z"
   },
   {
    "duration": 8,
    "start_time": "2022-05-04T07:54:14.624Z"
   },
   {
    "duration": 7,
    "start_time": "2022-05-04T07:54:14.634Z"
   },
   {
    "duration": 49,
    "start_time": "2022-05-04T07:54:14.645Z"
   },
   {
    "duration": 16,
    "start_time": "2022-05-04T07:54:14.696Z"
   },
   {
    "duration": 18,
    "start_time": "2022-05-04T07:54:14.715Z"
   },
   {
    "duration": 14,
    "start_time": "2022-05-04T07:54:14.735Z"
   },
   {
    "duration": 48,
    "start_time": "2022-05-04T07:54:14.751Z"
   },
   {
    "duration": 39,
    "start_time": "2022-05-04T07:54:14.802Z"
   },
   {
    "duration": 59,
    "start_time": "2022-05-04T07:54:14.844Z"
   },
   {
    "duration": 20,
    "start_time": "2022-05-04T07:54:14.906Z"
   },
   {
    "duration": 18,
    "start_time": "2022-05-04T07:54:14.928Z"
   },
   {
    "duration": 61,
    "start_time": "2022-05-04T07:54:14.948Z"
   },
   {
    "duration": 54,
    "start_time": "2022-05-04T07:54:15.011Z"
   },
   {
    "duration": 77,
    "start_time": "2022-05-04T07:54:15.068Z"
   },
   {
    "duration": 52,
    "start_time": "2022-05-04T07:54:15.147Z"
   },
   {
    "duration": 51,
    "start_time": "2022-05-04T07:54:15.201Z"
   },
   {
    "duration": 54,
    "start_time": "2022-05-04T07:54:15.254Z"
   },
   {
    "duration": 29,
    "start_time": "2022-05-04T07:54:15.311Z"
   },
   {
    "duration": 5,
    "start_time": "2022-05-04T07:54:15.343Z"
   },
   {
    "duration": 43,
    "start_time": "2022-05-04T07:54:15.351Z"
   },
   {
    "duration": 20,
    "start_time": "2022-05-04T07:54:15.401Z"
   },
   {
    "duration": 31,
    "start_time": "2022-05-04T07:54:15.424Z"
   },
   {
    "duration": 47,
    "start_time": "2022-05-04T07:54:15.457Z"
   },
   {
    "duration": 5,
    "start_time": "2022-05-04T07:54:15.506Z"
   },
   {
    "duration": 21,
    "start_time": "2022-05-04T07:54:15.514Z"
   },
   {
    "duration": 45,
    "start_time": "2022-05-04T07:54:15.537Z"
   },
   {
    "duration": 23,
    "start_time": "2022-05-04T07:54:15.594Z"
   },
   {
    "duration": 49,
    "start_time": "2022-05-04T07:54:15.618Z"
   },
   {
    "duration": 16,
    "start_time": "2022-05-04T07:54:15.693Z"
   },
   {
    "duration": 11,
    "start_time": "2022-05-04T07:54:15.711Z"
   },
   {
    "duration": 73,
    "start_time": "2022-05-04T07:54:15.724Z"
   },
   {
    "duration": 17,
    "start_time": "2022-05-04T07:54:15.799Z"
   },
   {
    "duration": 26,
    "start_time": "2022-05-04T07:54:15.818Z"
   },
   {
    "duration": 8,
    "start_time": "2022-05-04T07:54:15.846Z"
   },
   {
    "duration": 38,
    "start_time": "2022-05-04T07:54:15.856Z"
   },
   {
    "duration": 61,
    "start_time": "2022-05-04T07:54:15.896Z"
   },
   {
    "duration": 43,
    "start_time": "2022-05-04T07:54:15.959Z"
   },
   {
    "duration": 18,
    "start_time": "2022-05-04T07:54:16.004Z"
   },
   {
    "duration": 35,
    "start_time": "2022-05-04T07:54:16.025Z"
   },
   {
    "duration": 46,
    "start_time": "2022-05-04T07:54:16.063Z"
   },
   {
    "duration": 38,
    "start_time": "2022-05-04T07:54:16.111Z"
   },
   {
    "duration": 47,
    "start_time": "2022-05-04T07:54:16.151Z"
   },
   {
    "duration": 21,
    "start_time": "2022-05-04T07:54:16.200Z"
   },
   {
    "duration": 21,
    "start_time": "2022-05-04T07:54:16.224Z"
   },
   {
    "duration": 71,
    "start_time": "2022-05-04T07:54:16.248Z"
   },
   {
    "duration": 24,
    "start_time": "2022-05-04T07:54:16.321Z"
   },
   {
    "duration": 11,
    "start_time": "2022-05-04T07:54:16.346Z"
   },
   {
    "duration": 39,
    "start_time": "2022-05-04T07:54:16.359Z"
   },
   {
    "duration": 25,
    "start_time": "2022-05-04T07:54:16.400Z"
   },
   {
    "duration": 14,
    "start_time": "2022-05-04T07:54:16.427Z"
   },
   {
    "duration": 9,
    "start_time": "2022-05-04T07:54:16.444Z"
   },
   {
    "duration": 38,
    "start_time": "2022-05-04T07:54:16.455Z"
   },
   {
    "duration": 34,
    "start_time": "2022-05-04T07:54:16.495Z"
   },
   {
    "duration": 10,
    "start_time": "2022-05-04T07:54:16.532Z"
   },
   {
    "duration": 7,
    "start_time": "2022-05-04T07:54:16.544Z"
   },
   {
    "duration": 44,
    "start_time": "2022-05-04T07:54:16.553Z"
   },
   {
    "duration": 15,
    "start_time": "2022-05-04T07:54:16.599Z"
   },
   {
    "duration": 5,
    "start_time": "2022-05-04T07:54:16.617Z"
   },
   {
    "duration": 12,
    "start_time": "2022-05-04T07:54:16.624Z"
   },
   {
    "duration": 8,
    "start_time": "2022-05-04T07:54:16.638Z"
   },
   {
    "duration": 7,
    "start_time": "2022-05-04T07:54:16.648Z"
   },
   {
    "duration": 61,
    "start_time": "2022-05-04T07:54:16.657Z"
   },
   {
    "duration": 12,
    "start_time": "2022-05-04T07:54:16.721Z"
   },
   {
    "duration": 12,
    "start_time": "2022-05-04T07:54:16.735Z"
   },
   {
    "duration": 14,
    "start_time": "2022-05-04T07:54:16.749Z"
   },
   {
    "duration": 67,
    "start_time": "2022-05-04T07:54:16.765Z"
   },
   {
    "duration": 5,
    "start_time": "2022-05-04T07:54:16.834Z"
   },
   {
    "duration": 7,
    "start_time": "2022-05-04T07:54:16.841Z"
   },
   {
    "duration": 201,
    "start_time": "2022-05-04T07:54:16.850Z"
   },
   {
    "duration": 50,
    "start_time": "2022-05-04T07:54:17.053Z"
   },
   {
    "duration": 6,
    "start_time": "2022-05-04T07:54:17.106Z"
   },
   {
    "duration": 9,
    "start_time": "2022-05-04T07:54:17.115Z"
   },
   {
    "duration": 20,
    "start_time": "2022-05-04T07:54:17.126Z"
   },
   {
    "duration": 14,
    "start_time": "2022-05-04T07:54:17.148Z"
   },
   {
    "duration": 7,
    "start_time": "2022-05-04T07:54:17.207Z"
   },
   {
    "duration": 28,
    "start_time": "2022-05-04T07:54:17.217Z"
   },
   {
    "duration": 90,
    "start_time": "2022-05-04T07:54:17.248Z"
   },
   {
    "duration": 7,
    "start_time": "2022-05-04T07:54:17.341Z"
   },
   {
    "duration": 45,
    "start_time": "2022-05-04T07:54:17.351Z"
   },
   {
    "duration": 41,
    "start_time": "2022-05-04T07:54:17.399Z"
   },
   {
    "duration": 4,
    "start_time": "2022-05-04T07:54:17.443Z"
   },
   {
    "duration": 406,
    "start_time": "2022-05-04T07:54:17.450Z"
   },
   {
    "duration": 365,
    "start_time": "2022-05-04T07:54:17.858Z"
   },
   {
    "duration": 370,
    "start_time": "2022-05-04T07:54:18.226Z"
   },
   {
    "duration": 9,
    "start_time": "2022-05-04T07:54:18.598Z"
   },
   {
    "duration": 15,
    "start_time": "2022-05-04T07:54:18.610Z"
   },
   {
    "duration": 11,
    "start_time": "2022-05-04T07:54:18.627Z"
   },
   {
    "duration": 111,
    "start_time": "2022-05-04T07:54:18.640Z"
   },
   {
    "duration": 511,
    "start_time": "2022-05-04T07:54:18.754Z"
   },
   {
    "duration": 476,
    "start_time": "2022-05-04T07:54:19.268Z"
   },
   {
    "duration": 462,
    "start_time": "2022-05-04T07:54:19.747Z"
   },
   {
    "duration": 465,
    "start_time": "2022-05-04T07:54:20.212Z"
   },
   {
    "duration": 26,
    "start_time": "2022-05-04T07:54:20.680Z"
   },
   {
    "duration": 428,
    "start_time": "2022-05-04T07:54:20.708Z"
   },
   {
    "duration": 513,
    "start_time": "2022-05-04T07:54:21.139Z"
   },
   {
    "duration": 8,
    "start_time": "2022-05-04T07:54:21.654Z"
   },
   {
    "duration": 736,
    "start_time": "2022-05-04T07:54:21.665Z"
   },
   {
    "duration": 720,
    "start_time": "2022-05-04T07:54:22.404Z"
   },
   {
    "duration": 625,
    "start_time": "2022-05-04T07:54:23.126Z"
   },
   {
    "duration": 561,
    "start_time": "2022-05-04T07:54:23.753Z"
   },
   {
    "duration": 607,
    "start_time": "2022-05-04T07:54:24.317Z"
   },
   {
    "duration": 803,
    "start_time": "2022-05-04T07:54:24.927Z"
   },
   {
    "duration": 6,
    "start_time": "2022-05-04T07:54:25.733Z"
   },
   {
    "duration": 57,
    "start_time": "2022-05-04T07:54:25.742Z"
   },
   {
    "duration": 208,
    "start_time": "2022-05-04T07:54:25.802Z"
   },
   {
    "duration": 5,
    "start_time": "2022-05-04T07:54:26.013Z"
   },
   {
    "duration": 300,
    "start_time": "2022-05-04T07:54:26.020Z"
   },
   {
    "duration": 12,
    "start_time": "2022-05-04T07:54:26.323Z"
   },
   {
    "duration": 6,
    "start_time": "2022-05-04T07:54:26.337Z"
   },
   {
    "duration": 242,
    "start_time": "2022-05-04T07:54:26.345Z"
   },
   {
    "duration": 4,
    "start_time": "2022-05-04T07:54:26.593Z"
   },
   {
    "duration": 9,
    "start_time": "2022-05-04T07:54:26.599Z"
   },
   {
    "duration": 5,
    "start_time": "2022-05-04T07:54:26.610Z"
   },
   {
    "duration": 8,
    "start_time": "2022-05-04T07:54:26.617Z"
   },
   {
    "duration": 8,
    "start_time": "2022-05-04T07:54:26.627Z"
   },
   {
    "duration": 10,
    "start_time": "2022-05-04T07:54:26.637Z"
   },
   {
    "duration": 4,
    "start_time": "2022-05-04T07:54:26.694Z"
   },
   {
    "duration": 6,
    "start_time": "2022-05-04T07:54:26.701Z"
   },
   {
    "duration": 6,
    "start_time": "2022-05-04T07:54:26.709Z"
   },
   {
    "duration": 81,
    "start_time": "2022-05-04T07:54:26.717Z"
   },
   {
    "duration": 6,
    "start_time": "2022-05-04T07:54:26.800Z"
   },
   {
    "duration": 8,
    "start_time": "2022-05-04T07:54:26.808Z"
   },
   {
    "duration": 8,
    "start_time": "2022-05-04T07:54:26.818Z"
   },
   {
    "duration": 6,
    "start_time": "2022-05-04T07:54:26.828Z"
   },
   {
    "duration": 6,
    "start_time": "2022-05-04T07:54:26.837Z"
   },
   {
    "duration": 48,
    "start_time": "2022-05-04T07:54:26.845Z"
   },
   {
    "duration": 8,
    "start_time": "2022-05-04T07:54:26.896Z"
   },
   {
    "duration": 5,
    "start_time": "2022-05-04T07:54:26.907Z"
   },
   {
    "duration": 9,
    "start_time": "2022-05-04T07:54:26.914Z"
   },
   {
    "duration": 6,
    "start_time": "2022-05-04T07:54:26.926Z"
   },
   {
    "duration": 11,
    "start_time": "2022-05-04T07:54:26.934Z"
   },
   {
    "duration": 7,
    "start_time": "2022-05-04T07:54:26.947Z"
   },
   {
    "duration": 9,
    "start_time": "2022-05-04T07:54:26.956Z"
   },
   {
    "duration": 10,
    "start_time": "2022-05-04T07:54:26.994Z"
   },
   {
    "duration": 8,
    "start_time": "2022-05-04T07:54:27.007Z"
   },
   {
    "duration": 10,
    "start_time": "2022-05-04T07:54:27.017Z"
   },
   {
    "duration": 11,
    "start_time": "2022-05-04T07:54:27.030Z"
   },
   {
    "duration": 217,
    "start_time": "2022-05-04T08:04:51.606Z"
   },
   {
    "duration": 4528,
    "start_time": "2022-05-04T08:10:58.754Z"
   },
   {
    "duration": 21,
    "start_time": "2022-05-04T08:11:04.938Z"
   },
   {
    "duration": 16,
    "start_time": "2022-05-04T08:11:05.936Z"
   },
   {
    "duration": 684,
    "start_time": "2022-05-04T08:11:16.213Z"
   },
   {
    "duration": 3,
    "start_time": "2022-05-04T08:11:16.900Z"
   },
   {
    "duration": 388,
    "start_time": "2022-05-04T08:11:16.905Z"
   },
   {
    "duration": 11063,
    "start_time": "2022-05-04T08:11:17.296Z"
   },
   {
    "duration": 637,
    "start_time": "2022-05-04T08:11:28.362Z"
   },
   {
    "duration": 4,
    "start_time": "2022-05-04T08:11:29.001Z"
   },
   {
    "duration": 9,
    "start_time": "2022-05-04T08:11:29.007Z"
   },
   {
    "duration": 10,
    "start_time": "2022-05-04T08:11:29.018Z"
   },
   {
    "duration": 6,
    "start_time": "2022-05-04T08:11:29.030Z"
   },
   {
    "duration": 22,
    "start_time": "2022-05-04T08:11:29.041Z"
   },
   {
    "duration": 36,
    "start_time": "2022-05-04T08:11:29.065Z"
   },
   {
    "duration": 19,
    "start_time": "2022-05-04T08:11:29.103Z"
   },
   {
    "duration": 16,
    "start_time": "2022-05-04T08:11:29.124Z"
   },
   {
    "duration": 52,
    "start_time": "2022-05-04T08:11:29.143Z"
   },
   {
    "duration": 35,
    "start_time": "2022-05-04T08:11:29.197Z"
   },
   {
    "duration": 28,
    "start_time": "2022-05-04T08:11:29.234Z"
   },
   {
    "duration": 41,
    "start_time": "2022-05-04T08:11:29.264Z"
   },
   {
    "duration": 24,
    "start_time": "2022-05-04T08:11:29.307Z"
   },
   {
    "duration": 32,
    "start_time": "2022-05-04T08:11:29.333Z"
   },
   {
    "duration": 43,
    "start_time": "2022-05-04T08:11:29.367Z"
   },
   {
    "duration": 6,
    "start_time": "2022-05-04T08:11:29.412Z"
   },
   {
    "duration": 74,
    "start_time": "2022-05-04T08:11:29.420Z"
   },
   {
    "duration": 51,
    "start_time": "2022-05-04T08:11:29.496Z"
   },
   {
    "duration": 53,
    "start_time": "2022-05-04T08:11:29.549Z"
   },
   {
    "duration": 29,
    "start_time": "2022-05-04T08:11:29.605Z"
   },
   {
    "duration": 5,
    "start_time": "2022-05-04T08:11:29.636Z"
   },
   {
    "duration": 19,
    "start_time": "2022-05-04T08:11:29.643Z"
   },
   {
    "duration": 41,
    "start_time": "2022-05-04T08:11:29.669Z"
   },
   {
    "duration": 30,
    "start_time": "2022-05-04T08:11:29.712Z"
   },
   {
    "duration": 48,
    "start_time": "2022-05-04T08:11:29.745Z"
   },
   {
    "duration": 6,
    "start_time": "2022-05-04T08:11:29.796Z"
   },
   {
    "duration": 11,
    "start_time": "2022-05-04T08:11:29.805Z"
   },
   {
    "duration": 40,
    "start_time": "2022-05-04T08:11:29.819Z"
   },
   {
    "duration": 47,
    "start_time": "2022-05-04T08:11:29.862Z"
   },
   {
    "duration": 44,
    "start_time": "2022-05-04T08:11:29.911Z"
   },
   {
    "duration": 43,
    "start_time": "2022-05-04T08:11:29.958Z"
   },
   {
    "duration": 13,
    "start_time": "2022-05-04T08:11:30.004Z"
   },
   {
    "duration": 39,
    "start_time": "2022-05-04T08:11:30.019Z"
   },
   {
    "duration": 19,
    "start_time": "2022-05-04T08:11:30.093Z"
   },
   {
    "duration": 4,
    "start_time": "2022-05-04T08:11:30.115Z"
   },
   {
    "duration": 17,
    "start_time": "2022-05-04T08:11:30.121Z"
   },
   {
    "duration": 54,
    "start_time": "2022-05-04T08:11:30.140Z"
   },
   {
    "duration": 66,
    "start_time": "2022-05-04T08:11:30.196Z"
   },
   {
    "duration": 41,
    "start_time": "2022-05-04T08:11:30.264Z"
   },
   {
    "duration": 17,
    "start_time": "2022-05-04T08:11:30.307Z"
   },
   {
    "duration": 38,
    "start_time": "2022-05-04T08:11:30.326Z"
   },
   {
    "duration": 40,
    "start_time": "2022-05-04T08:11:30.366Z"
   },
   {
    "duration": 45,
    "start_time": "2022-05-04T08:11:30.408Z"
   },
   {
    "duration": 20,
    "start_time": "2022-05-04T08:11:30.455Z"
   },
   {
    "duration": 24,
    "start_time": "2022-05-04T08:11:30.494Z"
   },
   {
    "duration": 23,
    "start_time": "2022-05-04T08:11:30.521Z"
   },
   {
    "duration": 61,
    "start_time": "2022-05-04T08:11:30.547Z"
   },
   {
    "duration": 27,
    "start_time": "2022-05-04T08:11:30.610Z"
   },
   {
    "duration": 11,
    "start_time": "2022-05-04T08:11:30.639Z"
   },
   {
    "duration": 43,
    "start_time": "2022-05-04T08:11:30.652Z"
   },
   {
    "duration": 31,
    "start_time": "2022-05-04T08:11:30.697Z"
   },
   {
    "duration": 18,
    "start_time": "2022-05-04T08:11:30.731Z"
   },
   {
    "duration": 42,
    "start_time": "2022-05-04T08:11:30.751Z"
   },
   {
    "duration": 4,
    "start_time": "2022-05-04T08:11:30.796Z"
   },
   {
    "duration": 53,
    "start_time": "2022-05-04T08:11:30.802Z"
   },
   {
    "duration": 24,
    "start_time": "2022-05-04T08:11:30.857Z"
   },
   {
    "duration": 18,
    "start_time": "2022-05-04T08:11:30.883Z"
   },
   {
    "duration": 12,
    "start_time": "2022-05-04T08:11:30.903Z"
   },
   {
    "duration": 30,
    "start_time": "2022-05-04T08:11:30.917Z"
   },
   {
    "duration": 26,
    "start_time": "2022-05-04T08:11:30.949Z"
   },
   {
    "duration": 65,
    "start_time": "2022-05-04T08:11:30.978Z"
   },
   {
    "duration": 15,
    "start_time": "2022-05-04T08:11:31.046Z"
   },
   {
    "duration": 16,
    "start_time": "2022-05-04T08:11:31.063Z"
   },
   {
    "duration": 33,
    "start_time": "2022-05-04T08:11:31.081Z"
   },
   {
    "duration": 17,
    "start_time": "2022-05-04T08:11:31.117Z"
   },
   {
    "duration": 7,
    "start_time": "2022-05-04T08:11:31.136Z"
   },
   {
    "duration": 13,
    "start_time": "2022-05-04T08:11:31.145Z"
   },
   {
    "duration": 68,
    "start_time": "2022-05-04T08:11:31.160Z"
   },
   {
    "duration": 6,
    "start_time": "2022-05-04T08:11:31.230Z"
   },
   {
    "duration": 8,
    "start_time": "2022-05-04T08:11:31.238Z"
   },
   {
    "duration": 191,
    "start_time": "2022-05-04T08:11:31.248Z"
   },
   {
    "duration": 53,
    "start_time": "2022-05-04T08:11:31.441Z"
   },
   {
    "duration": 7,
    "start_time": "2022-05-04T08:11:31.496Z"
   },
   {
    "duration": 15,
    "start_time": "2022-05-04T08:11:31.505Z"
   },
   {
    "duration": 25,
    "start_time": "2022-05-04T08:11:31.522Z"
   },
   {
    "duration": 15,
    "start_time": "2022-05-04T08:11:31.550Z"
   },
   {
    "duration": 6,
    "start_time": "2022-05-04T08:11:31.600Z"
   },
   {
    "duration": 22,
    "start_time": "2022-05-04T08:11:31.608Z"
   },
   {
    "duration": 61,
    "start_time": "2022-05-04T08:11:31.633Z"
   },
   {
    "duration": 6,
    "start_time": "2022-05-04T08:11:31.696Z"
   },
   {
    "duration": 24,
    "start_time": "2022-05-04T08:11:31.704Z"
   },
   {
    "duration": 32,
    "start_time": "2022-05-04T08:11:31.730Z"
   },
   {
    "duration": 3,
    "start_time": "2022-05-04T08:11:31.765Z"
   },
   {
    "duration": 384,
    "start_time": "2022-05-04T08:11:31.792Z"
   },
   {
    "duration": 538,
    "start_time": "2022-05-04T08:11:32.179Z"
   },
   {
    "duration": 539,
    "start_time": "2022-05-04T08:11:32.721Z"
   },
   {
    "duration": 11,
    "start_time": "2022-05-04T08:11:33.263Z"
   },
   {
    "duration": 9,
    "start_time": "2022-05-04T08:11:33.294Z"
   },
   {
    "duration": 9,
    "start_time": "2022-05-04T08:11:33.305Z"
   },
   {
    "duration": 99,
    "start_time": "2022-05-04T08:11:33.316Z"
   },
   {
    "duration": 505,
    "start_time": "2022-05-04T08:11:33.417Z"
   },
   {
    "duration": 454,
    "start_time": "2022-05-04T08:11:33.924Z"
   },
   {
    "duration": 450,
    "start_time": "2022-05-04T08:11:34.380Z"
   },
   {
    "duration": 435,
    "start_time": "2022-05-04T08:11:34.832Z"
   },
   {
    "duration": 30,
    "start_time": "2022-05-04T08:11:35.269Z"
   },
   {
    "duration": 438,
    "start_time": "2022-05-04T08:11:35.302Z"
   },
   {
    "duration": 633,
    "start_time": "2022-05-04T08:11:35.744Z"
   },
   {
    "duration": 13,
    "start_time": "2022-05-04T08:11:36.380Z"
   },
   {
    "duration": 470,
    "start_time": "2022-05-04T08:11:36.395Z"
   },
   {
    "duration": 437,
    "start_time": "2022-05-04T08:11:36.867Z"
   },
   {
    "duration": 377,
    "start_time": "2022-05-04T08:11:37.307Z"
   },
   {
    "duration": 337,
    "start_time": "2022-05-04T08:11:37.686Z"
   },
   {
    "duration": 360,
    "start_time": "2022-05-04T08:11:38.025Z"
   },
   {
    "duration": 620,
    "start_time": "2022-05-04T08:11:38.387Z"
   },
   {
    "duration": 5,
    "start_time": "2022-05-04T08:11:39.009Z"
   },
   {
    "duration": 44,
    "start_time": "2022-05-04T08:11:39.015Z"
   },
   {
    "duration": 216,
    "start_time": "2022-05-04T08:11:39.062Z"
   },
   {
    "duration": 4,
    "start_time": "2022-05-04T08:11:39.280Z"
   },
   {
    "duration": 202,
    "start_time": "2022-05-04T08:11:39.293Z"
   },
   {
    "duration": 13,
    "start_time": "2022-05-04T08:11:39.497Z"
   },
   {
    "duration": 7,
    "start_time": "2022-05-04T08:11:39.512Z"
   },
   {
    "duration": 234,
    "start_time": "2022-05-04T08:11:39.521Z"
   },
   {
    "duration": 4,
    "start_time": "2022-05-04T08:11:39.757Z"
   },
   {
    "duration": 10,
    "start_time": "2022-05-04T08:11:39.763Z"
   },
   {
    "duration": 19,
    "start_time": "2022-05-04T08:11:39.775Z"
   },
   {
    "duration": 8,
    "start_time": "2022-05-04T08:11:39.796Z"
   },
   {
    "duration": 6,
    "start_time": "2022-05-04T08:11:39.806Z"
   },
   {
    "duration": 4,
    "start_time": "2022-05-04T08:11:39.814Z"
   },
   {
    "duration": 6,
    "start_time": "2022-05-04T08:11:39.820Z"
   },
   {
    "duration": 10,
    "start_time": "2022-05-04T08:11:39.828Z"
   },
   {
    "duration": 28,
    "start_time": "2022-05-04T08:11:39.839Z"
   },
   {
    "duration": 68,
    "start_time": "2022-05-04T08:11:39.870Z"
   },
   {
    "duration": 7,
    "start_time": "2022-05-04T08:11:39.940Z"
   },
   {
    "duration": 8,
    "start_time": "2022-05-04T08:11:39.949Z"
   },
   {
    "duration": 6,
    "start_time": "2022-05-04T08:11:39.959Z"
   },
   {
    "duration": 6,
    "start_time": "2022-05-04T08:11:39.993Z"
   },
   {
    "duration": 8,
    "start_time": "2022-05-04T08:11:40.001Z"
   },
   {
    "duration": 6,
    "start_time": "2022-05-04T08:11:40.012Z"
   },
   {
    "duration": 10,
    "start_time": "2022-05-04T08:11:40.020Z"
   },
   {
    "duration": 10,
    "start_time": "2022-05-04T08:11:40.032Z"
   },
   {
    "duration": 13,
    "start_time": "2022-05-04T08:11:40.045Z"
   },
   {
    "duration": 35,
    "start_time": "2022-05-04T08:11:40.060Z"
   },
   {
    "duration": 12,
    "start_time": "2022-05-04T08:11:40.097Z"
   },
   {
    "duration": 7,
    "start_time": "2022-05-04T08:11:40.111Z"
   },
   {
    "duration": 9,
    "start_time": "2022-05-04T08:11:40.120Z"
   },
   {
    "duration": 10,
    "start_time": "2022-05-04T08:11:40.131Z"
   },
   {
    "duration": 6,
    "start_time": "2022-05-04T08:11:40.143Z"
   },
   {
    "duration": 47,
    "start_time": "2022-05-04T08:11:40.151Z"
   },
   {
    "duration": 9,
    "start_time": "2022-05-04T08:11:40.201Z"
   },
   {
    "duration": 13,
    "start_time": "2022-05-04T08:14:55.769Z"
   },
   {
    "duration": 151,
    "start_time": "2022-05-04T08:22:42.422Z"
   },
   {
    "duration": 14,
    "start_time": "2022-05-04T08:23:39.077Z"
   },
   {
    "duration": 7,
    "start_time": "2022-05-04T08:23:57.015Z"
   },
   {
    "duration": 3685,
    "start_time": "2022-05-04T08:24:39.305Z"
   },
   {
    "duration": 0,
    "start_time": "2022-05-04T08:24:42.993Z"
   },
   {
    "duration": 3426,
    "start_time": "2022-05-04T08:25:29.898Z"
   },
   {
    "duration": 0,
    "start_time": "2022-05-04T08:25:33.327Z"
   },
   {
    "duration": 3738,
    "start_time": "2022-05-04T08:25:44.144Z"
   },
   {
    "duration": 45,
    "start_time": "2022-05-04T08:26:28.820Z"
   },
   {
    "duration": 3574,
    "start_time": "2022-05-04T08:26:51.815Z"
   },
   {
    "duration": 8,
    "start_time": "2022-05-04T08:26:55.518Z"
   },
   {
    "duration": 18,
    "start_time": "2022-05-04T08:27:49.577Z"
   },
   {
    "duration": 7,
    "start_time": "2022-05-04T08:28:05.926Z"
   },
   {
    "duration": 15,
    "start_time": "2022-05-04T08:28:19.153Z"
   },
   {
    "duration": 3728,
    "start_time": "2022-05-04T08:28:19.801Z"
   },
   {
    "duration": 46,
    "start_time": "2022-05-04T08:41:18.988Z"
   },
   {
    "duration": 200,
    "start_time": "2022-05-04T10:02:50.797Z"
   }
  ],
  "kernelspec": {
   "display_name": "Python 3 (ipykernel)",
   "language": "python",
   "name": "python3"
  },
  "language_info": {
   "codemirror_mode": {
    "name": "ipython",
    "version": 3
   },
   "file_extension": ".py",
   "mimetype": "text/x-python",
   "name": "python",
   "nbconvert_exporter": "python",
   "pygments_lexer": "ipython3",
   "version": "3.9.7"
  },
  "toc": {
   "base_numbering": 1,
   "nav_menu": {},
   "number_sections": true,
   "sideBar": true,
   "skip_h1_title": true,
   "title_cell": "Table of Contents",
   "title_sidebar": "Contents",
   "toc_cell": false,
   "toc_position": {},
   "toc_section_display": true,
   "toc_window_display": false
  }
 },
 "nbformat": 4,
 "nbformat_minor": 5
}
