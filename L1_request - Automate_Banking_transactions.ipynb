{
 "cells": [
  {
   "cell_type": "markdown",
   "id": "1c8e6352-81c0-4696-8f5b-434b16fcc15c",
   "metadata": {},
   "source": [
    "***Method 1***\n",
    "Automating payments using a **CSV** file with **Python** for import in the Bank applicaiton:\n",
    "\n",
    "This **Python** code will generate a *CSV* file from data in an Excel sheet called \"Payments\". Assume the sheet has columns for \"Account Number\", \"Amount\", \"Currency\", and \"Payment Description\".\n",
    " * I can use the following Python code to generate a CSV file from Excel:\n"
   ]
  },
  {
   "cell_type": "code",
   "execution_count": null,
   "id": "21d3dbf7-e259-4c97-b5e7-59e68b78e3c8",
   "metadata": {},
   "outputs": [],
   "source": [
    "import pandas as pd\n",
    "\n",
    "# Load the Excel file\n",
    "excel_path = \"Payments.xlsx\"\n",
    "sheet_name = \"Payments\"\n",
    "data = pd.read_excel(excel_path, sheet_name=sheet_name)\n",
    "\n",
    "# Assuming the columns are named: 'Account Number', 'Amount', 'Currency', 'Payment Description'\n",
    "csv_path = \"PaymentBatch.csv\"\n",
    "\n",
    "# Save the selected columns to a CSV file\n",
    "data[['Account Number', 'Amount', 'Currency', 'Payment Description']].to_csv(csv_path, index=False)\n",
    "\n",
    "print(f\"CSV file created successfully at {csv_path}\")"
   ]
  },
  {
   "cell_type": "markdown",
   "id": "5de88e7e-c5e8-4805-878d-d94507160cbf",
   "metadata": {},
   "source": [
    "***Method 2***\n",
    "Automating payments using a **XML** file with **Python** for import in the Bank applicaiton:\n",
    "\n",
    "This **Python** code will create an *XML* file for a batch payment using xml.etree.ElementTree. The Excel sheet has columns named \"Account Number,\" \"Amount,\" \"Currency,\" and \"Payment Description.\" \n",
    " * The generated XML structure is simplistic and can be adjusted according to the bank's required format:cel:"
   ]
  },
  {
   "cell_type": "code",
   "execution_count": null,
   "id": "e0bbf5f0-99ee-4bad-a0dc-c7b3f764c7cb",
   "metadata": {},
   "outputs": [],
   "source": [
    "import pandas as pd\n",
    "import xml.etree.ElementTree as ET\n",
    "\n",
    "# Load the Excel file\n",
    "excel_path = \"Payments.xlsx\"\n",
    "sheet_name = \"Payments\"\n",
    "data = pd.read_excel(excel_path, sheet_name=sheet_name)\n",
    "\n",
    "# Create the root element\n",
    "root = ET.Element(\"Payments\")\n",
    "\n",
    "# Loop through the data and add payment elements\n",
    "for _, row in data.iterrows():\n",
    "    payment = ET.SubElement(root, \"Payment\")\n",
    "    \n",
    "    account_number = ET.SubElement(payment, \"AccountNumber\")\n",
    "    account_number.text = str(row['Account Number'])\n",
    "    \n",
    "    amount = ET.SubElement(payment, \"Amount\")\n",
    "    amount.text = str(row['Amount'])\n",
    "    \n",
    "    currency = ET.SubElement(payment, \"Currency\")\n",
    "    currency.text = row['Currency']\n",
    "    \n",
    "    description = ET.SubElement(payment, \"Description\")\n",
    "    description.text = row['Payment Description']\n",
    "\n",
    "# Create the tree and write it to an XML file\n",
    "tree = ET.ElementTree(root)\n",
    "xml_path = \"PaymentBatch.xml\"\n",
    "tree.write(xml_path, encoding=\"utf-8\", xml_declaration=True)\n",
    "\n",
    "print(f\"XML file created successfully at {xml_path}\")\n"
   ]
  },
  {
   "cell_type": "markdown",
   "id": "85b6d521-f21e-448e-856a-2d25b532257a",
   "metadata": {},
   "source": [
    "***Method 3***\n",
    "\n",
    "Automating payments using a **Bank API Integration** with **Python**, let’s consider a fictional bank that provides an API for initiating payments.\n",
    " * I have an API key provided by the bank to authenticate your requests.\n",
    " * The bank has provided an API endpoint for initiating payments, example: https://api.fictionalbank.com/v1/payments.\n",
    " * The Excel file has columns like *Account Number*, *Beneficiary Name*, *Amount*, and *Currency*.\n",
    " * I will use **Python** to make the HTTP request to the bank API. (Python libraries: *requests, pandas, openpyxl*)"
   ]
  },
  {
   "cell_type": "code",
   "execution_count": null,
   "id": "24679f5a-8398-4faa-8778-664d64797284",
   "metadata": {},
   "outputs": [],
   "source": [
    "pip install requests pandas openpyxl\n",
    "import pandas as pd\n",
    "import requests\n",
    "\n",
    "# Load the payment data from Excel\n",
    "excel_path = \"Payments.xlsx\"\n",
    "sheet_name = \"Payments\"\n",
    "payments_data = pd.read_excel(excel_path, sheet_name=sheet_name)\n",
    "\n",
    "# API Endpoint and Authentication\n",
    "api_endpoint = \"https://api.fictionalbank.com/v1/payments\"\n",
    "api_key = \"your_api_key_here\"  # This would be provided by your bank\n",
    "\n",
    "# Headers for the API request\n",
    "headers = {\n",
    "    \"Authorization\": f\"Bearer {api_key}\",\n",
    "    \"Content-Type\": \"application/json\"\n",
    "}\n",
    "\n",
    "# Loop through each row and send the payment request\n",
    "for _, payment in payments_data.iterrows():\n",
    "    # Prepare payment data as required by the bank API\n",
    "    payment_payload = {\n",
    "        \"account_number\": payment['Account Number'],\n",
    "        \"beneficiary_name\": payment['Beneficiary Name'],\n",
    "        \"amount\": float(payment['Amount']),\n",
    "        \"currency\": payment['Currency'],\n",
    "        \"payment_description\": payment.get('Payment Description', 'Batch Payment')\n",
    "    }\n",
    "    \n",
    "    # Make the API request to initiate payment\n",
    "    try:\n",
    "        response = requests.post(api_endpoint, json=payment_payload, headers=headers)\n",
    "\n",
    "        # Check the response from the bank\n",
    "        if response.status_code == 201:\n",
    "            print(f\"Payment to {payment['Beneficiary Name']} of {payment['Amount']} {payment['Currency']} was successful.\")\n",
    "        else:\n",
    "            print(f\"Failed to make payment to {payment['Beneficiary Name']}. Response: {response.status_code} - {response.text}\")\n",
    "\n",
    "    except requests.exceptions.RequestException as e:\n",
    "        print(f\"An error occurred: {e}\")\n"
   ]
  }
 ],
 "metadata": {
  "kernelspec": {
   "display_name": "Python 3 (ipykernel)",
   "language": "python",
   "name": "python3"
  },
  "language_info": {
   "codemirror_mode": {
    "name": "ipython",
    "version": 3
   },
   "file_extension": ".py",
   "mimetype": "text/x-python",
   "name": "python",
   "nbconvert_exporter": "python",
   "pygments_lexer": "ipython3",
   "version": "3.11.7"
  }
 },
 "nbformat": 4,
 "nbformat_minor": 5
}
