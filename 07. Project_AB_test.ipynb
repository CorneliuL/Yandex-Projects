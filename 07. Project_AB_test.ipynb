{
 "cells": [
  {
   "cell_type": "markdown",
   "metadata": {},
   "source": [
    "<div class=\"alert alert-info\"><big><b>Комментарий ревьюера</b></big><br>Привет! 👋<br><br>Меня зовут Дмитрий Кирсанов. Возможно комфортнее чтобы я обращался на «вы», а не на «ты»? <br><br>Мои комментарии обозначены пометкой <b>Комментарий ревьюера</b>. Ниже они будут расположены в ячейках разного цвета:<br><div class=\"alert alert-success\">Зелёный фон — ✔️ всё хорошо или даже 👍 отлично. 📝 Советы, учёт которых остаётся на твой вкус, указаны тем же цветом</div><div class=\"alert alert-warning\">Жёлтый — ⚠️ некритичные замечания и 💡 рекомендации, которые необходимо будет учитывать в будущем.</div><div class=\"alert alert-danger\">Красный — 🔧 необходима доработка, 🚫 исправление ошибок или 👀 пояснения. </div><br>Пожалуйста, не удаляй эти комментарии и постарайся учесть их в ходе выполнения данного проекта. Свои же комментарии ты можешь обозначать любым заметным способом, например вот так в отдельной ячейке:<br><code>&lt;div class=&quot;alert btn-primary&quot;&gt;&lt;b&gt;Комментарий студента:&lt;/b&gt;&lt;br&gt;   Ок   &lt;/div&gt;</code><br>Выглядеть это будет так:<br><br><div class=\"alert btn-primary\"><b>Комментарий студента:</b><br>   Ок   </div><br><br>Просьба реакцию на мои вопросы или замечания писать под ними. Я здесь, чтобы помогать, поэтому если у тебя будут какие-то вопроSсы, то прошу их задавать. 😊 <mark>Если вопросов не будет, то просьба об этом сказать.</mark> Иначе я могу вернуть работу, просто чтобы выяснить, что вопросов нет.<br><br><mark>Пожалуйста, описывай те изменения, которые ты будешь вносить в проект, это сильно ускорит повторную проверку</mark>.<br><br>Также я советую сохранить проект локально и загружать его в виде файла, так в случае неполадок ты не потеряешь свою работу!<br>If it is more convenient, I can write in English.</div>"
   ]
  },
  {
   "cell_type": "markdown",
   "metadata": {},
   "source": [
    "<div class=\"alert btn-primary\"><b>Комментарий студента:</b><br>   \n",
    "    привет Димитрий !    </div>"
   ]
  },
  {
   "cell_type": "markdown",
   "metadata": {},
   "source": [
    "<div class=\"alert alert-success\"><b>Комментарий ревьюера 2</b>&nbsp;👍<br>\n",
    "Спасибо за доработки! Работа принята! Удачи в следующем спринте!\n",
    "</div>"
   ]
  },
  {
   "cell_type": "markdown",
   "metadata": {},
   "source": [
    "### Контекст\n",
    "Я — аналитик крупного интернет-магазина. Вместе с отделом маркетинга Я подготовилю список гипотез для увеличения выручки.\n",
    "Буду Приоритизировать гипотезы, запусщу A/B-тест и проанализирую результаты."
   ]
  },
  {
   "cell_type": "markdown",
   "metadata": {},
   "source": [
    "<div class=\"alert alert-warning\"><b>Комментарий ревьюера</b>&nbsp;⚠️<br>\n",
    "В начале работы стоит поместить описание данных и более подробно описать цель работы, это позволит читателям быстро понять, о чём работа.\n",
    "</div>"
   ]
  },
  {
   "cell_type": "code",
   "execution_count": 1,
   "metadata": {},
   "outputs": [],
   "source": [
    "#import pandas as pd\n",
    "#import numpy as np\n",
    "#import scipy.stats as stats\n",
    "#from datetime import datetime, timedelta\n",
    "#from matplotlib import pyplot as plt\n",
    "#import datetime as dt\n"
   ]
  },
  {
   "cell_type": "markdown",
   "metadata": {},
   "source": [
    "<div class=\"alert alert-success\"><b>Комментарий ревьюера</b>&nbsp;📝<br>\n",
    "Импорт библиотек в самом начале позволит быстро понять, какое окружение нужно для ноутбука. Такой код проще поддерживать.\n",
    "\n",
    "Если ты не используешь потом какие-то библиотеки, их импорт можно закомментировать (timedelta). Если передумаешь, то сможешь убрать пометки комментирования и всё снова заработает. \n",
    "\n",
    "<a href='https://pythonworld.ru/osnovy/pep-8-rukovodstvo-po-napisaniyu-koda-na-python.html'>Материал по импорту.</a> Также есть простые правила — не стоит импортировать дважды одно и то же и импорт стоит делать от простого к сложному (например pandas основано на numpy, поэтому его лучше импортировать позже, чем numpy).\n",
    "</div>"
   ]
  },
  {
   "cell_type": "markdown",
   "metadata": {},
   "source": [
    "<div class=\"alert btn-primary\"><b>Комментарий студента:</b><br>   \n",
    "    думаю что тебя понял, Ниже:    </div>"
   ]
  },
  {
   "cell_type": "markdown",
   "metadata": {},
   "source": [
    "<div class=\"alert alert-success\"><b>Комментарий ревьюера 2&nbsp;<big>👍</big></b></div>"
   ]
  },
  {
   "cell_type": "code",
   "execution_count": 2,
   "metadata": {},
   "outputs": [],
   "source": [
    "import numpy as np\n",
    "import pandas as pd\n",
    "import scipy.stats as stats\n",
    "import datetime as dt\n",
    "#from datetime import datetime, timedelta\n",
    "from matplotlib import pyplot as plt"
   ]
  },
  {
   "cell_type": "code",
   "execution_count": 3,
   "metadata": {},
   "outputs": [],
   "source": [
    "hypothesis = pd.read_csv(r'C:\\Users\\corneliu.leahu\\OneDrive - Overseas Administration Management\\Main Work Folder\\Screen docs\\STUDIES\\CV - Financial Controller Linkedin\\Yandex\\1. Yandex_Prakctikum\\04. A-B test\\Project\\hypothesis.csv')"
   ]
  },
  {
   "cell_type": "code",
   "execution_count": 4,
   "metadata": {},
   "outputs": [
    {
     "data": {
      "text/html": [
       "<div>\n",
       "<style scoped>\n",
       "    .dataframe tbody tr th:only-of-type {\n",
       "        vertical-align: middle;\n",
       "    }\n",
       "\n",
       "    .dataframe tbody tr th {\n",
       "        vertical-align: top;\n",
       "    }\n",
       "\n",
       "    .dataframe thead th {\n",
       "        text-align: right;\n",
       "    }\n",
       "</style>\n",
       "<table border=\"1\" class=\"dataframe\">\n",
       "  <thead>\n",
       "    <tr style=\"text-align: right;\">\n",
       "      <th></th>\n",
       "      <th>Hypothesis</th>\n",
       "      <th>Reach</th>\n",
       "      <th>Impact</th>\n",
       "      <th>Confidence</th>\n",
       "      <th>Efforts</th>\n",
       "    </tr>\n",
       "  </thead>\n",
       "  <tbody>\n",
       "    <tr>\n",
       "      <th>0</th>\n",
       "      <td>Добавить два новых канала привлечения трафика, что позволит привлекать на 30% больше пользователей</td>\n",
       "      <td>3</td>\n",
       "      <td>10</td>\n",
       "      <td>8</td>\n",
       "      <td>6</td>\n",
       "    </tr>\n",
       "    <tr>\n",
       "      <th>1</th>\n",
       "      <td>Запустить собственную службу доставки, что сократит срок доставки заказов</td>\n",
       "      <td>2</td>\n",
       "      <td>5</td>\n",
       "      <td>4</td>\n",
       "      <td>10</td>\n",
       "    </tr>\n",
       "    <tr>\n",
       "      <th>2</th>\n",
       "      <td>Добавить блоки рекомендаций товаров на сайт интернет магазина, чтобы повысить конверсию и средний чек заказа</td>\n",
       "      <td>8</td>\n",
       "      <td>3</td>\n",
       "      <td>7</td>\n",
       "      <td>3</td>\n",
       "    </tr>\n",
       "    <tr>\n",
       "      <th>3</th>\n",
       "      <td>Изменить структура категорий, что увеличит конверсию, т.к. пользователи быстрее найдут нужный товар</td>\n",
       "      <td>8</td>\n",
       "      <td>3</td>\n",
       "      <td>3</td>\n",
       "      <td>8</td>\n",
       "    </tr>\n",
       "    <tr>\n",
       "      <th>4</th>\n",
       "      <td>Изменить цвет фона главной страницы, чтобы увеличить вовлеченность пользователей</td>\n",
       "      <td>3</td>\n",
       "      <td>1</td>\n",
       "      <td>1</td>\n",
       "      <td>1</td>\n",
       "    </tr>\n",
       "    <tr>\n",
       "      <th>5</th>\n",
       "      <td>Добавить страницу отзывов клиентов о магазине, что позволит увеличить количество заказов</td>\n",
       "      <td>3</td>\n",
       "      <td>2</td>\n",
       "      <td>2</td>\n",
       "      <td>3</td>\n",
       "    </tr>\n",
       "    <tr>\n",
       "      <th>6</th>\n",
       "      <td>Показать на главной странице баннеры с актуальными акциями и распродажами, чтобы увеличить конверсию</td>\n",
       "      <td>5</td>\n",
       "      <td>3</td>\n",
       "      <td>8</td>\n",
       "      <td>3</td>\n",
       "    </tr>\n",
       "    <tr>\n",
       "      <th>7</th>\n",
       "      <td>Добавить форму подписки на все основные страницы, чтобы собрать базу клиентов для email-рассылок</td>\n",
       "      <td>10</td>\n",
       "      <td>7</td>\n",
       "      <td>8</td>\n",
       "      <td>5</td>\n",
       "    </tr>\n",
       "    <tr>\n",
       "      <th>8</th>\n",
       "      <td>Запустить акцию, дающую скидку на товар в день рождения</td>\n",
       "      <td>1</td>\n",
       "      <td>9</td>\n",
       "      <td>9</td>\n",
       "      <td>5</td>\n",
       "    </tr>\n",
       "  </tbody>\n",
       "</table>\n",
       "</div>"
      ],
      "text/plain": [
       "                                                                                                     Hypothesis  \\\n",
       "0            Добавить два новых канала привлечения трафика, что позволит привлекать на 30% больше пользователей   \n",
       "1                                     Запустить собственную службу доставки, что сократит срок доставки заказов   \n",
       "2  Добавить блоки рекомендаций товаров на сайт интернет магазина, чтобы повысить конверсию и средний чек заказа   \n",
       "3           Изменить структура категорий, что увеличит конверсию, т.к. пользователи быстрее найдут нужный товар   \n",
       "4                              Изменить цвет фона главной страницы, чтобы увеличить вовлеченность пользователей   \n",
       "5                      Добавить страницу отзывов клиентов о магазине, что позволит увеличить количество заказов   \n",
       "6          Показать на главной странице баннеры с актуальными акциями и распродажами, чтобы увеличить конверсию   \n",
       "7              Добавить форму подписки на все основные страницы, чтобы собрать базу клиентов для email-рассылок   \n",
       "8                                                       Запустить акцию, дающую скидку на товар в день рождения   \n",
       "\n",
       "   Reach  Impact  Confidence  Efforts  \n",
       "0      3      10           8        6  \n",
       "1      2       5           4       10  \n",
       "2      8       3           7        3  \n",
       "3      8       3           3        8  \n",
       "4      3       1           1        1  \n",
       "5      3       2           2        3  \n",
       "6      5       3           8        3  \n",
       "7     10       7           8        5  \n",
       "8      1       9           9        5  "
      ]
     },
     "metadata": {},
     "output_type": "display_data"
    }
   ],
   "source": [
    "with pd.option_context('display.max_colwidth', None):\n",
    "  display(hypothesis)"
   ]
  },
  {
   "cell_type": "markdown",
   "metadata": {},
   "source": [
    "<div class=\"alert alert-success\"><b>Комментарий ревьюера</b>&nbsp;👍<br>\n",
    "Круто, что используешь pd.option_context, это позволяет не менять параметры по умолчанию для всей тетрадки.\n",
    "</div>"
   ]
  },
  {
   "cell_type": "code",
   "execution_count": 5,
   "metadata": {},
   "outputs": [],
   "source": [
    "hypothesis.columns  = hypothesis.columns.str.lower()"
   ]
  },
  {
   "cell_type": "markdown",
   "metadata": {},
   "source": [
    " - Примените фреймворк ICE для приоритизации гипотез. Отсортируйте их по убыванию приоритета."
   ]
  },
  {
   "cell_type": "code",
   "execution_count": 6,
   "metadata": {},
   "outputs": [],
   "source": [
    "hypothesis['ICE'] = hypothesis['impact'] * hypothesis['confidence']/  hypothesis['efforts']"
   ]
  },
  {
   "cell_type": "markdown",
   "metadata": {},
   "source": [
    "<div class=\"alert alert-success\"><b>Комментарий ревьюера</b>&nbsp;📝<br>\n",
    "В тетрадки можно вставлять красиво оформленные формулы, таблица с работающими функциями <a href='https://katex.org/docs/support_table.html'>тут</a>, пример ниже\n",
    "    \n",
    "$\\text{ICE} = \\frac{\\text{Impact} * \\text{Confidence}}{\\text{Efforts}}$\n",
    "\n",
    "</div>"
   ]
  },
  {
   "cell_type": "code",
   "execution_count": 7,
   "metadata": {},
   "outputs": [
    {
     "data": {
      "text/html": [
       "<div>\n",
       "<style scoped>\n",
       "    .dataframe tbody tr th:only-of-type {\n",
       "        vertical-align: middle;\n",
       "    }\n",
       "\n",
       "    .dataframe tbody tr th {\n",
       "        vertical-align: top;\n",
       "    }\n",
       "\n",
       "    .dataframe thead th {\n",
       "        text-align: right;\n",
       "    }\n",
       "</style>\n",
       "<table border=\"1\" class=\"dataframe\">\n",
       "  <thead>\n",
       "    <tr style=\"text-align: right;\">\n",
       "      <th></th>\n",
       "      <th>hypothesis</th>\n",
       "      <th>reach</th>\n",
       "      <th>impact</th>\n",
       "      <th>confidence</th>\n",
       "      <th>efforts</th>\n",
       "      <th>ICE</th>\n",
       "    </tr>\n",
       "  </thead>\n",
       "  <tbody>\n",
       "    <tr>\n",
       "      <th>8</th>\n",
       "      <td>Запустить акцию, дающую скидку на товар в день...</td>\n",
       "      <td>1</td>\n",
       "      <td>9</td>\n",
       "      <td>9</td>\n",
       "      <td>5</td>\n",
       "      <td>16.200000</td>\n",
       "    </tr>\n",
       "    <tr>\n",
       "      <th>0</th>\n",
       "      <td>Добавить два новых канала привлечения трафика,...</td>\n",
       "      <td>3</td>\n",
       "      <td>10</td>\n",
       "      <td>8</td>\n",
       "      <td>6</td>\n",
       "      <td>13.333333</td>\n",
       "    </tr>\n",
       "    <tr>\n",
       "      <th>7</th>\n",
       "      <td>Добавить форму подписки на все основные страни...</td>\n",
       "      <td>10</td>\n",
       "      <td>7</td>\n",
       "      <td>8</td>\n",
       "      <td>5</td>\n",
       "      <td>11.200000</td>\n",
       "    </tr>\n",
       "    <tr>\n",
       "      <th>6</th>\n",
       "      <td>Показать на главной странице баннеры с актуаль...</td>\n",
       "      <td>5</td>\n",
       "      <td>3</td>\n",
       "      <td>8</td>\n",
       "      <td>3</td>\n",
       "      <td>8.000000</td>\n",
       "    </tr>\n",
       "    <tr>\n",
       "      <th>2</th>\n",
       "      <td>Добавить блоки рекомендаций товаров на сайт ин...</td>\n",
       "      <td>8</td>\n",
       "      <td>3</td>\n",
       "      <td>7</td>\n",
       "      <td>3</td>\n",
       "      <td>7.000000</td>\n",
       "    </tr>\n",
       "    <tr>\n",
       "      <th>1</th>\n",
       "      <td>Запустить собственную службу доставки, что сок...</td>\n",
       "      <td>2</td>\n",
       "      <td>5</td>\n",
       "      <td>4</td>\n",
       "      <td>10</td>\n",
       "      <td>2.000000</td>\n",
       "    </tr>\n",
       "    <tr>\n",
       "      <th>5</th>\n",
       "      <td>Добавить страницу отзывов клиентов о магазине,...</td>\n",
       "      <td>3</td>\n",
       "      <td>2</td>\n",
       "      <td>2</td>\n",
       "      <td>3</td>\n",
       "      <td>1.333333</td>\n",
       "    </tr>\n",
       "    <tr>\n",
       "      <th>3</th>\n",
       "      <td>Изменить структура категорий, что увеличит кон...</td>\n",
       "      <td>8</td>\n",
       "      <td>3</td>\n",
       "      <td>3</td>\n",
       "      <td>8</td>\n",
       "      <td>1.125000</td>\n",
       "    </tr>\n",
       "    <tr>\n",
       "      <th>4</th>\n",
       "      <td>Изменить цвет фона главной страницы, чтобы уве...</td>\n",
       "      <td>3</td>\n",
       "      <td>1</td>\n",
       "      <td>1</td>\n",
       "      <td>1</td>\n",
       "      <td>1.000000</td>\n",
       "    </tr>\n",
       "  </tbody>\n",
       "</table>\n",
       "</div>"
      ],
      "text/plain": [
       "                                          hypothesis  reach  impact  \\\n",
       "8  Запустить акцию, дающую скидку на товар в день...      1       9   \n",
       "0  Добавить два новых канала привлечения трафика,...      3      10   \n",
       "7  Добавить форму подписки на все основные страни...     10       7   \n",
       "6  Показать на главной странице баннеры с актуаль...      5       3   \n",
       "2  Добавить блоки рекомендаций товаров на сайт ин...      8       3   \n",
       "1  Запустить собственную службу доставки, что сок...      2       5   \n",
       "5  Добавить страницу отзывов клиентов о магазине,...      3       2   \n",
       "3  Изменить структура категорий, что увеличит кон...      8       3   \n",
       "4  Изменить цвет фона главной страницы, чтобы уве...      3       1   \n",
       "\n",
       "   confidence  efforts        ICE  \n",
       "8           9        5  16.200000  \n",
       "0           8        6  13.333333  \n",
       "7           8        5  11.200000  \n",
       "6           8        3   8.000000  \n",
       "2           7        3   7.000000  \n",
       "1           4       10   2.000000  \n",
       "5           2        3   1.333333  \n",
       "3           3        8   1.125000  \n",
       "4           1        1   1.000000  "
      ]
     },
     "execution_count": 7,
     "metadata": {},
     "output_type": "execute_result"
    }
   ],
   "source": [
    "hypothesis.sort_values(by = 'ICE', ascending = False)"
   ]
  },
  {
   "cell_type": "markdown",
   "metadata": {},
   "source": [
    " - Примените фреймворк RICE для приоритизации гипотез. Отсортируйте их по убыванию приоритета."
   ]
  },
  {
   "cell_type": "code",
   "execution_count": 8,
   "metadata": {},
   "outputs": [],
   "source": [
    "hypothesis['RICE'] = hypothesis['reach'] * hypothesis['impact'] * hypothesis['confidence']/  hypothesis['efforts']"
   ]
  },
  {
   "cell_type": "code",
   "execution_count": 9,
   "metadata": {},
   "outputs": [
    {
     "data": {
      "text/html": [
       "<div>\n",
       "<style scoped>\n",
       "    .dataframe tbody tr th:only-of-type {\n",
       "        vertical-align: middle;\n",
       "    }\n",
       "\n",
       "    .dataframe tbody tr th {\n",
       "        vertical-align: top;\n",
       "    }\n",
       "\n",
       "    .dataframe thead th {\n",
       "        text-align: right;\n",
       "    }\n",
       "</style>\n",
       "<table border=\"1\" class=\"dataframe\">\n",
       "  <thead>\n",
       "    <tr style=\"text-align: right;\">\n",
       "      <th></th>\n",
       "      <th>hypothesis</th>\n",
       "      <th>reach</th>\n",
       "      <th>impact</th>\n",
       "      <th>confidence</th>\n",
       "      <th>efforts</th>\n",
       "      <th>ICE</th>\n",
       "      <th>RICE</th>\n",
       "    </tr>\n",
       "  </thead>\n",
       "  <tbody>\n",
       "    <tr>\n",
       "      <th>7</th>\n",
       "      <td>Добавить форму подписки на все основные страни...</td>\n",
       "      <td>10</td>\n",
       "      <td>7</td>\n",
       "      <td>8</td>\n",
       "      <td>5</td>\n",
       "      <td>11.200000</td>\n",
       "      <td>112.0</td>\n",
       "    </tr>\n",
       "    <tr>\n",
       "      <th>2</th>\n",
       "      <td>Добавить блоки рекомендаций товаров на сайт ин...</td>\n",
       "      <td>8</td>\n",
       "      <td>3</td>\n",
       "      <td>7</td>\n",
       "      <td>3</td>\n",
       "      <td>7.000000</td>\n",
       "      <td>56.0</td>\n",
       "    </tr>\n",
       "    <tr>\n",
       "      <th>0</th>\n",
       "      <td>Добавить два новых канала привлечения трафика,...</td>\n",
       "      <td>3</td>\n",
       "      <td>10</td>\n",
       "      <td>8</td>\n",
       "      <td>6</td>\n",
       "      <td>13.333333</td>\n",
       "      <td>40.0</td>\n",
       "    </tr>\n",
       "    <tr>\n",
       "      <th>6</th>\n",
       "      <td>Показать на главной странице баннеры с актуаль...</td>\n",
       "      <td>5</td>\n",
       "      <td>3</td>\n",
       "      <td>8</td>\n",
       "      <td>3</td>\n",
       "      <td>8.000000</td>\n",
       "      <td>40.0</td>\n",
       "    </tr>\n",
       "    <tr>\n",
       "      <th>8</th>\n",
       "      <td>Запустить акцию, дающую скидку на товар в день...</td>\n",
       "      <td>1</td>\n",
       "      <td>9</td>\n",
       "      <td>9</td>\n",
       "      <td>5</td>\n",
       "      <td>16.200000</td>\n",
       "      <td>16.2</td>\n",
       "    </tr>\n",
       "    <tr>\n",
       "      <th>3</th>\n",
       "      <td>Изменить структура категорий, что увеличит кон...</td>\n",
       "      <td>8</td>\n",
       "      <td>3</td>\n",
       "      <td>3</td>\n",
       "      <td>8</td>\n",
       "      <td>1.125000</td>\n",
       "      <td>9.0</td>\n",
       "    </tr>\n",
       "    <tr>\n",
       "      <th>1</th>\n",
       "      <td>Запустить собственную службу доставки, что сок...</td>\n",
       "      <td>2</td>\n",
       "      <td>5</td>\n",
       "      <td>4</td>\n",
       "      <td>10</td>\n",
       "      <td>2.000000</td>\n",
       "      <td>4.0</td>\n",
       "    </tr>\n",
       "    <tr>\n",
       "      <th>5</th>\n",
       "      <td>Добавить страницу отзывов клиентов о магазине,...</td>\n",
       "      <td>3</td>\n",
       "      <td>2</td>\n",
       "      <td>2</td>\n",
       "      <td>3</td>\n",
       "      <td>1.333333</td>\n",
       "      <td>4.0</td>\n",
       "    </tr>\n",
       "    <tr>\n",
       "      <th>4</th>\n",
       "      <td>Изменить цвет фона главной страницы, чтобы уве...</td>\n",
       "      <td>3</td>\n",
       "      <td>1</td>\n",
       "      <td>1</td>\n",
       "      <td>1</td>\n",
       "      <td>1.000000</td>\n",
       "      <td>3.0</td>\n",
       "    </tr>\n",
       "  </tbody>\n",
       "</table>\n",
       "</div>"
      ],
      "text/plain": [
       "                                          hypothesis  reach  impact  \\\n",
       "7  Добавить форму подписки на все основные страни...     10       7   \n",
       "2  Добавить блоки рекомендаций товаров на сайт ин...      8       3   \n",
       "0  Добавить два новых канала привлечения трафика,...      3      10   \n",
       "6  Показать на главной странице баннеры с актуаль...      5       3   \n",
       "8  Запустить акцию, дающую скидку на товар в день...      1       9   \n",
       "3  Изменить структура категорий, что увеличит кон...      8       3   \n",
       "1  Запустить собственную службу доставки, что сок...      2       5   \n",
       "5  Добавить страницу отзывов клиентов о магазине,...      3       2   \n",
       "4  Изменить цвет фона главной страницы, чтобы уве...      3       1   \n",
       "\n",
       "   confidence  efforts        ICE   RICE  \n",
       "7           8        5  11.200000  112.0  \n",
       "2           7        3   7.000000   56.0  \n",
       "0           8        6  13.333333   40.0  \n",
       "6           8        3   8.000000   40.0  \n",
       "8           9        5  16.200000   16.2  \n",
       "3           3        8   1.125000    9.0  \n",
       "1           4       10   2.000000    4.0  \n",
       "5           2        3   1.333333    4.0  \n",
       "4           1        1   1.000000    3.0  "
      ]
     },
     "execution_count": 9,
     "metadata": {},
     "output_type": "execute_result"
    }
   ],
   "source": [
    "hypothesis.sort_values(by = 'RICE', ascending = False)"
   ]
  },
  {
   "cell_type": "markdown",
   "metadata": {},
   "source": [
    " - Укажите, как изменилась приоритизация гипотез при применении RICE вместо ICE. Объясните, почему так произошло."
   ]
  },
  {
   "cell_type": "markdown",
   "metadata": {},
   "source": [
    "Выводы: Различия между методами  по приотерезации гипотез ICE И RICE в индикаторе  \"reach\". В нашем случае в топ 3 гипотезы 8,0 и 7 по методу ICE. А вот по методу RICE гипотеза 8 и 0 теряют позиции потому что у гипотеза 0 наберает только 3 баллов по критерии Reach а  гипотеза 8 еще меньше, 1 бал, и мы видим что она еще ниже стоновится по шкале приоритизации гипотез. "
   ]
  },
  {
   "cell_type": "markdown",
   "metadata": {},
   "source": [
    "<div class=\"alert alert-success\"><b>Комментарий ревьюера&nbsp;<big>✔️</big></b></div>"
   ]
  },
  {
   "cell_type": "markdown",
   "metadata": {},
   "source": [
    "### Часть 2. Анализ A/B-теста"
   ]
  },
  {
   "cell_type": "markdown",
   "metadata": {},
   "source": [
    "- Проанализируйте A/B-тест:"
   ]
  },
  {
   "cell_type": "code",
   "execution_count": 10,
   "metadata": {},
   "outputs": [],
   "source": [
    "orders  = pd.read_csv(r'C:\\Users\\corneliu.leahu\\OneDrive - Overseas Administration Management\\Main Work Folder\\Screen docs\\STUDIES\\CV - Financial Controller Linkedin\\Yandex\\1. Yandex_Prakctikum\\04. A-B test\\Project\\orders.csv')"
   ]
  },
  {
   "cell_type": "code",
   "execution_count": 11,
   "metadata": {},
   "outputs": [],
   "source": [
    "visitors = pd.read_csv(r'C:\\Users\\corneliu.leahu\\OneDrive - Overseas Administration Management\\Main Work Folder\\Screen docs\\STUDIES\\CV - Financial Controller Linkedin\\Yandex\\1. Yandex_Prakctikum\\04. A-B test\\Project\\visitors.csv')"
   ]
  },
  {
   "cell_type": "code",
   "execution_count": 12,
   "metadata": {},
   "outputs": [
    {
     "data": {
      "text/html": [
       "<div>\n",
       "<style scoped>\n",
       "    .dataframe tbody tr th:only-of-type {\n",
       "        vertical-align: middle;\n",
       "    }\n",
       "\n",
       "    .dataframe tbody tr th {\n",
       "        vertical-align: top;\n",
       "    }\n",
       "\n",
       "    .dataframe thead th {\n",
       "        text-align: right;\n",
       "    }\n",
       "</style>\n",
       "<table border=\"1\" class=\"dataframe\">\n",
       "  <thead>\n",
       "    <tr style=\"text-align: right;\">\n",
       "      <th></th>\n",
       "      <th>transactionId</th>\n",
       "      <th>visitorId</th>\n",
       "      <th>date</th>\n",
       "      <th>revenue</th>\n",
       "      <th>group</th>\n",
       "    </tr>\n",
       "  </thead>\n",
       "  <tbody>\n",
       "    <tr>\n",
       "      <th>0</th>\n",
       "      <td>3667963787</td>\n",
       "      <td>3312258926</td>\n",
       "      <td>2019-08-15</td>\n",
       "      <td>1650</td>\n",
       "      <td>B</td>\n",
       "    </tr>\n",
       "    <tr>\n",
       "      <th>1</th>\n",
       "      <td>2804400009</td>\n",
       "      <td>3642806036</td>\n",
       "      <td>2019-08-15</td>\n",
       "      <td>730</td>\n",
       "      <td>B</td>\n",
       "    </tr>\n",
       "    <tr>\n",
       "      <th>2</th>\n",
       "      <td>2961555356</td>\n",
       "      <td>4069496402</td>\n",
       "      <td>2019-08-15</td>\n",
       "      <td>400</td>\n",
       "      <td>A</td>\n",
       "    </tr>\n",
       "    <tr>\n",
       "      <th>3</th>\n",
       "      <td>3797467345</td>\n",
       "      <td>1196621759</td>\n",
       "      <td>2019-08-15</td>\n",
       "      <td>9759</td>\n",
       "      <td>B</td>\n",
       "    </tr>\n",
       "    <tr>\n",
       "      <th>4</th>\n",
       "      <td>2282983706</td>\n",
       "      <td>2322279887</td>\n",
       "      <td>2019-08-15</td>\n",
       "      <td>2308</td>\n",
       "      <td>B</td>\n",
       "    </tr>\n",
       "    <tr>\n",
       "      <th>...</th>\n",
       "      <td>...</td>\n",
       "      <td>...</td>\n",
       "      <td>...</td>\n",
       "      <td>...</td>\n",
       "      <td>...</td>\n",
       "    </tr>\n",
       "    <tr>\n",
       "      <th>1192</th>\n",
       "      <td>2662137336</td>\n",
       "      <td>3733762160</td>\n",
       "      <td>2019-08-14</td>\n",
       "      <td>6490</td>\n",
       "      <td>B</td>\n",
       "    </tr>\n",
       "    <tr>\n",
       "      <th>1193</th>\n",
       "      <td>2203539145</td>\n",
       "      <td>370388673</td>\n",
       "      <td>2019-08-14</td>\n",
       "      <td>3190</td>\n",
       "      <td>A</td>\n",
       "    </tr>\n",
       "    <tr>\n",
       "      <th>1194</th>\n",
       "      <td>1807773912</td>\n",
       "      <td>573423106</td>\n",
       "      <td>2019-08-14</td>\n",
       "      <td>10550</td>\n",
       "      <td>A</td>\n",
       "    </tr>\n",
       "    <tr>\n",
       "      <th>1195</th>\n",
       "      <td>1947021204</td>\n",
       "      <td>1614305549</td>\n",
       "      <td>2019-08-14</td>\n",
       "      <td>100</td>\n",
       "      <td>A</td>\n",
       "    </tr>\n",
       "    <tr>\n",
       "      <th>1196</th>\n",
       "      <td>3936777065</td>\n",
       "      <td>2108080724</td>\n",
       "      <td>2019-08-15</td>\n",
       "      <td>202740</td>\n",
       "      <td>B</td>\n",
       "    </tr>\n",
       "  </tbody>\n",
       "</table>\n",
       "<p>1197 rows × 5 columns</p>\n",
       "</div>"
      ],
      "text/plain": [
       "      transactionId   visitorId        date  revenue group\n",
       "0        3667963787  3312258926  2019-08-15     1650     B\n",
       "1        2804400009  3642806036  2019-08-15      730     B\n",
       "2        2961555356  4069496402  2019-08-15      400     A\n",
       "3        3797467345  1196621759  2019-08-15     9759     B\n",
       "4        2282983706  2322279887  2019-08-15     2308     B\n",
       "...             ...         ...         ...      ...   ...\n",
       "1192     2662137336  3733762160  2019-08-14     6490     B\n",
       "1193     2203539145   370388673  2019-08-14     3190     A\n",
       "1194     1807773912   573423106  2019-08-14    10550     A\n",
       "1195     1947021204  1614305549  2019-08-14      100     A\n",
       "1196     3936777065  2108080724  2019-08-15   202740     B\n",
       "\n",
       "[1197 rows x 5 columns]"
      ]
     },
     "metadata": {},
     "output_type": "display_data"
    }
   ],
   "source": [
    "display(orders)"
   ]
  },
  {
   "cell_type": "code",
   "execution_count": 13,
   "metadata": {},
   "outputs": [
    {
     "data": {
      "text/html": [
       "<div>\n",
       "<style scoped>\n",
       "    .dataframe tbody tr th:only-of-type {\n",
       "        vertical-align: middle;\n",
       "    }\n",
       "\n",
       "    .dataframe tbody tr th {\n",
       "        vertical-align: top;\n",
       "    }\n",
       "\n",
       "    .dataframe thead th {\n",
       "        text-align: right;\n",
       "    }\n",
       "</style>\n",
       "<table border=\"1\" class=\"dataframe\">\n",
       "  <thead>\n",
       "    <tr style=\"text-align: right;\">\n",
       "      <th></th>\n",
       "      <th>date</th>\n",
       "      <th>group</th>\n",
       "      <th>visitors</th>\n",
       "    </tr>\n",
       "  </thead>\n",
       "  <tbody>\n",
       "    <tr>\n",
       "      <th>0</th>\n",
       "      <td>2019-08-01</td>\n",
       "      <td>A</td>\n",
       "      <td>719</td>\n",
       "    </tr>\n",
       "    <tr>\n",
       "      <th>1</th>\n",
       "      <td>2019-08-02</td>\n",
       "      <td>A</td>\n",
       "      <td>619</td>\n",
       "    </tr>\n",
       "    <tr>\n",
       "      <th>2</th>\n",
       "      <td>2019-08-03</td>\n",
       "      <td>A</td>\n",
       "      <td>507</td>\n",
       "    </tr>\n",
       "    <tr>\n",
       "      <th>3</th>\n",
       "      <td>2019-08-04</td>\n",
       "      <td>A</td>\n",
       "      <td>717</td>\n",
       "    </tr>\n",
       "    <tr>\n",
       "      <th>4</th>\n",
       "      <td>2019-08-05</td>\n",
       "      <td>A</td>\n",
       "      <td>756</td>\n",
       "    </tr>\n",
       "    <tr>\n",
       "      <th>...</th>\n",
       "      <td>...</td>\n",
       "      <td>...</td>\n",
       "      <td>...</td>\n",
       "    </tr>\n",
       "    <tr>\n",
       "      <th>57</th>\n",
       "      <td>2019-08-27</td>\n",
       "      <td>B</td>\n",
       "      <td>720</td>\n",
       "    </tr>\n",
       "    <tr>\n",
       "      <th>58</th>\n",
       "      <td>2019-08-28</td>\n",
       "      <td>B</td>\n",
       "      <td>654</td>\n",
       "    </tr>\n",
       "    <tr>\n",
       "      <th>59</th>\n",
       "      <td>2019-08-29</td>\n",
       "      <td>B</td>\n",
       "      <td>531</td>\n",
       "    </tr>\n",
       "    <tr>\n",
       "      <th>60</th>\n",
       "      <td>2019-08-30</td>\n",
       "      <td>B</td>\n",
       "      <td>490</td>\n",
       "    </tr>\n",
       "    <tr>\n",
       "      <th>61</th>\n",
       "      <td>2019-08-31</td>\n",
       "      <td>B</td>\n",
       "      <td>718</td>\n",
       "    </tr>\n",
       "  </tbody>\n",
       "</table>\n",
       "<p>62 rows × 3 columns</p>\n",
       "</div>"
      ],
      "text/plain": [
       "          date group  visitors\n",
       "0   2019-08-01     A       719\n",
       "1   2019-08-02     A       619\n",
       "2   2019-08-03     A       507\n",
       "3   2019-08-04     A       717\n",
       "4   2019-08-05     A       756\n",
       "..         ...   ...       ...\n",
       "57  2019-08-27     B       720\n",
       "58  2019-08-28     B       654\n",
       "59  2019-08-29     B       531\n",
       "60  2019-08-30     B       490\n",
       "61  2019-08-31     B       718\n",
       "\n",
       "[62 rows x 3 columns]"
      ]
     },
     "metadata": {},
     "output_type": "display_data"
    }
   ],
   "source": [
    "display(visitors)"
   ]
  },
  {
   "cell_type": "markdown",
   "metadata": {},
   "source": [
    "<div class=\"alert alert-warning\"><b>Комментарий ревьюера</b>&nbsp;🔧<br>\n",
    "Правильные ли у нас тут типы данных? Нет ли пропусков или дубликатов? Нету ли пользователей, которые попали в обе группы? Каждой ли дате в одной таблице соответствует дата в другой таблице? Необходимо подготовить данные для работы.\n",
    "</div>"
   ]
  },
  {
   "cell_type": "markdown",
   "metadata": {},
   "source": [
    "<div class=\"alert btn-primary\"><b>Комментарий студента:</b><br>   \n",
    "    понял, я подумал что мы позже в проекте рассматриваем на дубликаты и оставил так... \n",
    "    делаю ниже:\n",
    "</div>"
   ]
  },
  {
   "cell_type": "code",
   "execution_count": 14,
   "metadata": {},
   "outputs": [
    {
     "name": "stdout",
     "output_type": "stream",
     "text": [
      "<class 'pandas.core.frame.DataFrame'>\n",
      "RangeIndex: 1197 entries, 0 to 1196\n",
      "Data columns (total 5 columns):\n",
      " #   Column         Non-Null Count  Dtype \n",
      "---  ------         --------------  ----- \n",
      " 0   transactionId  1197 non-null   int64 \n",
      " 1   visitorId      1197 non-null   int64 \n",
      " 2   date           1197 non-null   object\n",
      " 3   revenue        1197 non-null   int64 \n",
      " 4   group          1197 non-null   object\n",
      "dtypes: int64(3), object(2)\n",
      "memory usage: 46.9+ KB\n"
     ]
    }
   ],
   "source": [
    "orders.info()"
   ]
  },
  {
   "cell_type": "code",
   "execution_count": 15,
   "metadata": {},
   "outputs": [
    {
     "name": "stdout",
     "output_type": "stream",
     "text": [
      "<class 'pandas.core.frame.DataFrame'>\n",
      "RangeIndex: 62 entries, 0 to 61\n",
      "Data columns (total 3 columns):\n",
      " #   Column    Non-Null Count  Dtype \n",
      "---  ------    --------------  ----- \n",
      " 0   date      62 non-null     object\n",
      " 1   group     62 non-null     object\n",
      " 2   visitors  62 non-null     int64 \n",
      "dtypes: int64(1), object(2)\n",
      "memory usage: 1.6+ KB\n"
     ]
    }
   ],
   "source": [
    "visitors.info()"
   ]
  },
  {
   "cell_type": "code",
   "execution_count": 16,
   "metadata": {},
   "outputs": [],
   "source": [
    "# для даты передаю формат date \n",
    "orders['date'] = orders['date'].map(\n",
    "    lambda x: dt.datetime.strptime(x, '%Y-%m-%d'))"
   ]
  },
  {
   "cell_type": "code",
   "execution_count": 17,
   "metadata": {},
   "outputs": [],
   "source": [
    "# для даты передаю формат date \n",
    "visitors['date'] = visitors['date'].map(\n",
    "    lambda x: dt.datetime.strptime(x, '%Y-%m-%d'))"
   ]
  },
  {
   "cell_type": "code",
   "execution_count": 18,
   "metadata": {},
   "outputs": [
    {
     "name": "stdout",
     "output_type": "stream",
     "text": [
      "<class 'pandas.core.frame.DataFrame'>\n",
      "RangeIndex: 1197 entries, 0 to 1196\n",
      "Data columns (total 5 columns):\n",
      " #   Column         Non-Null Count  Dtype         \n",
      "---  ------         --------------  -----         \n",
      " 0   transactionId  1197 non-null   int64         \n",
      " 1   visitorId      1197 non-null   int64         \n",
      " 2   date           1197 non-null   datetime64[ns]\n",
      " 3   revenue        1197 non-null   int64         \n",
      " 4   group          1197 non-null   object        \n",
      "dtypes: datetime64[ns](1), int64(3), object(1)\n",
      "memory usage: 46.9+ KB\n"
     ]
    }
   ],
   "source": [
    "orders.info()"
   ]
  },
  {
   "cell_type": "code",
   "execution_count": 19,
   "metadata": {},
   "outputs": [
    {
     "name": "stdout",
     "output_type": "stream",
     "text": [
      "<class 'pandas.core.frame.DataFrame'>\n",
      "RangeIndex: 62 entries, 0 to 61\n",
      "Data columns (total 3 columns):\n",
      " #   Column    Non-Null Count  Dtype         \n",
      "---  ------    --------------  -----         \n",
      " 0   date      62 non-null     datetime64[ns]\n",
      " 1   group     62 non-null     object        \n",
      " 2   visitors  62 non-null     int64         \n",
      "dtypes: datetime64[ns](1), int64(1), object(1)\n",
      "memory usage: 1.6+ KB\n"
     ]
    }
   ],
   "source": [
    "visitors.info()"
   ]
  },
  {
   "cell_type": "markdown",
   "metadata": {},
   "source": [
    "сейчас тодже формат date в обя таблиц"
   ]
  },
  {
   "cell_type": "code",
   "execution_count": 20,
   "metadata": {},
   "outputs": [
    {
     "name": "stderr",
     "output_type": "stream",
     "text": [
      "C:\\Users\\CORNEL~1.LEA\\AppData\\Local\\Temp/ipykernel_13884/1802685696.py:2: FutureWarning: Dropping of nuisance columns in DataFrame reductions (with 'numeric_only=None') is deprecated; in a future version this will raise TypeError.  Select only valid columns before calling the reduction.\n",
      "  orders[orders.duplicated(keep = False)].sum()\n"
     ]
    },
    {
     "data": {
      "text/plain": [
       "transactionId    0.0\n",
       "visitorId        0.0\n",
       "revenue          0.0\n",
       "group            0.0\n",
       "dtype: float64"
      ]
     },
     "execution_count": 20,
     "metadata": {},
     "output_type": "execute_result"
    }
   ],
   "source": [
    "# проверяю на дубликаты:\n",
    "orders[orders.duplicated(keep = False)].sum()"
   ]
  },
  {
   "cell_type": "code",
   "execution_count": 21,
   "metadata": {},
   "outputs": [
    {
     "name": "stderr",
     "output_type": "stream",
     "text": [
      "C:\\Users\\CORNEL~1.LEA\\AppData\\Local\\Temp/ipykernel_13884/1249874292.py:2: FutureWarning: Dropping of nuisance columns in DataFrame reductions (with 'numeric_only=None') is deprecated; in a future version this will raise TypeError.  Select only valid columns before calling the reduction.\n",
      "  visitors[visitors.duplicated(keep = False)].sum()\n"
     ]
    },
    {
     "data": {
      "text/plain": [
       "group       0.0\n",
       "visitors    0.0\n",
       "dtype: float64"
      ]
     },
     "execution_count": 21,
     "metadata": {},
     "output_type": "execute_result"
    }
   ],
   "source": [
    "# проверяю на дубликаты:\n",
    "visitors[visitors.duplicated(keep = False)].sum()"
   ]
  },
  {
   "cell_type": "markdown",
   "metadata": {},
   "source": [
    "нет дубликатов по строк в таблице"
   ]
  },
  {
   "cell_type": "code",
   "execution_count": 22,
   "metadata": {},
   "outputs": [
    {
     "data": {
      "text/plain": [
       "transactionId    0\n",
       "visitorId        0\n",
       "date             0\n",
       "revenue          0\n",
       "group            0\n",
       "dtype: int64"
      ]
     },
     "execution_count": 22,
     "metadata": {},
     "output_type": "execute_result"
    }
   ],
   "source": [
    "#проверяю на проруски:\n",
    "orders.isna().sum()"
   ]
  },
  {
   "cell_type": "code",
   "execution_count": 23,
   "metadata": {},
   "outputs": [
    {
     "data": {
      "text/plain": [
       "date        0\n",
       "group       0\n",
       "visitors    0\n",
       "dtype: int64"
      ]
     },
     "execution_count": 23,
     "metadata": {},
     "output_type": "execute_result"
    }
   ],
   "source": [
    "#проверяю на проруски:\n",
    "visitors.isna().sum()"
   ]
  },
  {
   "cell_type": "code",
   "execution_count": 24,
   "metadata": {},
   "outputs": [
    {
     "data": {
      "text/html": [
       "<div>\n",
       "<style scoped>\n",
       "    .dataframe tbody tr th:only-of-type {\n",
       "        vertical-align: middle;\n",
       "    }\n",
       "\n",
       "    .dataframe tbody tr th {\n",
       "        vertical-align: top;\n",
       "    }\n",
       "\n",
       "    .dataframe thead th {\n",
       "        text-align: right;\n",
       "    }\n",
       "</style>\n",
       "<table border=\"1\" class=\"dataframe\">\n",
       "  <thead>\n",
       "    <tr style=\"text-align: right;\">\n",
       "      <th></th>\n",
       "      <th>date</th>\n",
       "      <th>group</th>\n",
       "      <th>visitors</th>\n",
       "    </tr>\n",
       "  </thead>\n",
       "  <tbody>\n",
       "    <tr>\n",
       "      <th>0</th>\n",
       "      <td>2019-08-01</td>\n",
       "      <td>A</td>\n",
       "      <td>719</td>\n",
       "    </tr>\n",
       "    <tr>\n",
       "      <th>1</th>\n",
       "      <td>2019-08-02</td>\n",
       "      <td>A</td>\n",
       "      <td>619</td>\n",
       "    </tr>\n",
       "    <tr>\n",
       "      <th>2</th>\n",
       "      <td>2019-08-03</td>\n",
       "      <td>A</td>\n",
       "      <td>507</td>\n",
       "    </tr>\n",
       "    <tr>\n",
       "      <th>3</th>\n",
       "      <td>2019-08-04</td>\n",
       "      <td>A</td>\n",
       "      <td>717</td>\n",
       "    </tr>\n",
       "    <tr>\n",
       "      <th>4</th>\n",
       "      <td>2019-08-05</td>\n",
       "      <td>A</td>\n",
       "      <td>756</td>\n",
       "    </tr>\n",
       "    <tr>\n",
       "      <th>...</th>\n",
       "      <td>...</td>\n",
       "      <td>...</td>\n",
       "      <td>...</td>\n",
       "    </tr>\n",
       "    <tr>\n",
       "      <th>57</th>\n",
       "      <td>2019-08-27</td>\n",
       "      <td>B</td>\n",
       "      <td>720</td>\n",
       "    </tr>\n",
       "    <tr>\n",
       "      <th>58</th>\n",
       "      <td>2019-08-28</td>\n",
       "      <td>B</td>\n",
       "      <td>654</td>\n",
       "    </tr>\n",
       "    <tr>\n",
       "      <th>59</th>\n",
       "      <td>2019-08-29</td>\n",
       "      <td>B</td>\n",
       "      <td>531</td>\n",
       "    </tr>\n",
       "    <tr>\n",
       "      <th>60</th>\n",
       "      <td>2019-08-30</td>\n",
       "      <td>B</td>\n",
       "      <td>490</td>\n",
       "    </tr>\n",
       "    <tr>\n",
       "      <th>61</th>\n",
       "      <td>2019-08-31</td>\n",
       "      <td>B</td>\n",
       "      <td>718</td>\n",
       "    </tr>\n",
       "  </tbody>\n",
       "</table>\n",
       "<p>62 rows × 3 columns</p>\n",
       "</div>"
      ],
      "text/plain": [
       "         date group  visitors\n",
       "0  2019-08-01     A       719\n",
       "1  2019-08-02     A       619\n",
       "2  2019-08-03     A       507\n",
       "3  2019-08-04     A       717\n",
       "4  2019-08-05     A       756\n",
       "..        ...   ...       ...\n",
       "57 2019-08-27     B       720\n",
       "58 2019-08-28     B       654\n",
       "59 2019-08-29     B       531\n",
       "60 2019-08-30     B       490\n",
       "61 2019-08-31     B       718\n",
       "\n",
       "[62 rows x 3 columns]"
      ]
     },
     "execution_count": 24,
     "metadata": {},
     "output_type": "execute_result"
    }
   ],
   "source": [
    "visitors"
   ]
  },
  {
   "cell_type": "markdown",
   "metadata": {},
   "source": [
    "нету не дубликатов/ нет пропусков"
   ]
  },
  {
   "cell_type": "markdown",
   "metadata": {},
   "source": [
    "<div class=\"alert alert-success\"><b>Комментарий ревьюера 2&nbsp;<big>👍</big></b></div>"
   ]
  },
  {
   "cell_type": "markdown",
   "metadata": {},
   "source": [
    "#### Постройте график кумулятивной выручки по группам. Сделайте выводы и предположения"
   ]
  },
  {
   "cell_type": "code",
   "execution_count": 25,
   "metadata": {},
   "outputs": [
    {
     "name": "stdout",
     "output_type": "stream",
     "text": [
      "        date group  orders  buyers  revenue  visitors\n",
      "0 2019-08-01     A      24      20   148579       719\n",
      "1 2019-08-01     B      21      20   101217       713\n",
      "2 2019-08-02     A      44      38   242401      1338\n",
      "3 2019-08-02     B      45      43   266748      1294\n",
      "4 2019-08-03     A      68      62   354874      1845\n",
      "5 2019-08-03     B      61      59   380996      1803\n",
      "6 2019-08-04     A      84      77   425699      2562\n",
      "7 2019-08-04     B      78      75   489567      2573\n",
      "8 2019-08-05     A     109     100   549917      3318\n",
      "9 2019-08-05     B     101      98   581995      3280\n"
     ]
    }
   ],
   "source": [
    "# создаем массив уникальных пар значений дат и групп теста\n",
    "datesGroups = orders[['date','group']].drop_duplicates()\n",
    "\n",
    "# получаем агрегированные кумулятивные по дням данные о заказах \n",
    "ordersAggregated = datesGroups.apply(\n",
    "    lambda x: orders[np.logical_and(orders['date'] <= x['date'], orders['group'] == x['group'])]\n",
    "    .agg({'date' : 'max', 'group' : 'max', 'transactionId' : 'nunique', 'visitorId' : 'nunique', 'revenue' : 'sum'}), \n",
    "    axis=1).sort_values(by=['date','group'])\n",
    "\n",
    "# получаем агрегированные кумулятивные по дням данные о посетителях интернет-магазина \n",
    "visitorsAggregated = datesGroups.apply(\n",
    "    lambda x: visitors[np.logical_and(visitors['date'] <= x['date'], visitors['group'] == x['group'])]\n",
    "    .agg({'date' : 'max', 'group' : 'max', 'visitors' : 'sum'}), axis=1).sort_values(by=['date','group'])\n",
    "\n",
    "# объединяем кумулятивные данные в одной таблице и присваиваем ее столбцам понятные названия\n",
    "cumulativeData = ordersAggregated.merge(visitorsAggregated, left_on=['date', 'group'], right_on=['date', 'group'])\n",
    "cumulativeData.columns = ['date', 'group', 'orders', 'buyers', 'revenue', 'visitors']\n",
    "\n",
    "print(cumulativeData.head(10)) "
   ]
  },
  {
   "cell_type": "markdown",
   "metadata": {},
   "source": [
    "<div class=\"alert alert-warning\"><b>Комментарий ревьюера</b>&nbsp;📌<br>\n",
    "Такой длинный код очень сложно читать. Тут стоит добавить переносы строк.\n",
    "</div>"
   ]
  },
  {
   "cell_type": "code",
   "execution_count": 26,
   "metadata": {},
   "outputs": [
    {
     "data": {
      "text/html": [
       "<div>\n",
       "<style scoped>\n",
       "    .dataframe tbody tr th:only-of-type {\n",
       "        vertical-align: middle;\n",
       "    }\n",
       "\n",
       "    .dataframe tbody tr th {\n",
       "        vertical-align: top;\n",
       "    }\n",
       "\n",
       "    .dataframe thead th {\n",
       "        text-align: right;\n",
       "    }\n",
       "</style>\n",
       "<table border=\"1\" class=\"dataframe\">\n",
       "  <thead>\n",
       "    <tr style=\"text-align: right;\">\n",
       "      <th></th>\n",
       "      <th>date</th>\n",
       "      <th>group</th>\n",
       "      <th>orders</th>\n",
       "      <th>buyers</th>\n",
       "      <th>revenue</th>\n",
       "      <th>visitors</th>\n",
       "    </tr>\n",
       "  </thead>\n",
       "  <tbody>\n",
       "    <tr>\n",
       "      <th>0</th>\n",
       "      <td>2019-08-01</td>\n",
       "      <td>A</td>\n",
       "      <td>24</td>\n",
       "      <td>20</td>\n",
       "      <td>148579</td>\n",
       "      <td>719</td>\n",
       "    </tr>\n",
       "    <tr>\n",
       "      <th>1</th>\n",
       "      <td>2019-08-01</td>\n",
       "      <td>B</td>\n",
       "      <td>21</td>\n",
       "      <td>20</td>\n",
       "      <td>101217</td>\n",
       "      <td>713</td>\n",
       "    </tr>\n",
       "    <tr>\n",
       "      <th>2</th>\n",
       "      <td>2019-08-02</td>\n",
       "      <td>A</td>\n",
       "      <td>44</td>\n",
       "      <td>38</td>\n",
       "      <td>242401</td>\n",
       "      <td>1338</td>\n",
       "    </tr>\n",
       "    <tr>\n",
       "      <th>3</th>\n",
       "      <td>2019-08-02</td>\n",
       "      <td>B</td>\n",
       "      <td>45</td>\n",
       "      <td>43</td>\n",
       "      <td>266748</td>\n",
       "      <td>1294</td>\n",
       "    </tr>\n",
       "    <tr>\n",
       "      <th>4</th>\n",
       "      <td>2019-08-03</td>\n",
       "      <td>A</td>\n",
       "      <td>68</td>\n",
       "      <td>62</td>\n",
       "      <td>354874</td>\n",
       "      <td>1845</td>\n",
       "    </tr>\n",
       "    <tr>\n",
       "      <th>...</th>\n",
       "      <td>...</td>\n",
       "      <td>...</td>\n",
       "      <td>...</td>\n",
       "      <td>...</td>\n",
       "      <td>...</td>\n",
       "      <td>...</td>\n",
       "    </tr>\n",
       "    <tr>\n",
       "      <th>57</th>\n",
       "      <td>2019-08-29</td>\n",
       "      <td>B</td>\n",
       "      <td>596</td>\n",
       "      <td>544</td>\n",
       "      <td>5559398</td>\n",
       "      <td>17708</td>\n",
       "    </tr>\n",
       "    <tr>\n",
       "      <th>58</th>\n",
       "      <td>2019-08-30</td>\n",
       "      <td>A</td>\n",
       "      <td>545</td>\n",
       "      <td>493</td>\n",
       "      <td>4022970</td>\n",
       "      <td>18037</td>\n",
       "    </tr>\n",
       "    <tr>\n",
       "      <th>59</th>\n",
       "      <td>2019-08-30</td>\n",
       "      <td>B</td>\n",
       "      <td>620</td>\n",
       "      <td>567</td>\n",
       "      <td>5774631</td>\n",
       "      <td>18198</td>\n",
       "    </tr>\n",
       "    <tr>\n",
       "      <th>60</th>\n",
       "      <td>2019-08-31</td>\n",
       "      <td>A</td>\n",
       "      <td>557</td>\n",
       "      <td>503</td>\n",
       "      <td>4084803</td>\n",
       "      <td>18736</td>\n",
       "    </tr>\n",
       "    <tr>\n",
       "      <th>61</th>\n",
       "      <td>2019-08-31</td>\n",
       "      <td>B</td>\n",
       "      <td>640</td>\n",
       "      <td>586</td>\n",
       "      <td>5907760</td>\n",
       "      <td>18916</td>\n",
       "    </tr>\n",
       "  </tbody>\n",
       "</table>\n",
       "<p>62 rows × 6 columns</p>\n",
       "</div>"
      ],
      "text/plain": [
       "         date group  orders  buyers  revenue  visitors\n",
       "0  2019-08-01     A      24      20   148579       719\n",
       "1  2019-08-01     B      21      20   101217       713\n",
       "2  2019-08-02     A      44      38   242401      1338\n",
       "3  2019-08-02     B      45      43   266748      1294\n",
       "4  2019-08-03     A      68      62   354874      1845\n",
       "..        ...   ...     ...     ...      ...       ...\n",
       "57 2019-08-29     B     596     544  5559398     17708\n",
       "58 2019-08-30     A     545     493  4022970     18037\n",
       "59 2019-08-30     B     620     567  5774631     18198\n",
       "60 2019-08-31     A     557     503  4084803     18736\n",
       "61 2019-08-31     B     640     586  5907760     18916\n",
       "\n",
       "[62 rows x 6 columns]"
      ]
     },
     "execution_count": 26,
     "metadata": {},
     "output_type": "execute_result"
    }
   ],
   "source": [
    "cumulativeData"
   ]
  },
  {
   "cell_type": "code",
   "execution_count": 27,
   "metadata": {},
   "outputs": [
    {
     "data": {
      "image/png": "[encoded data removed]",
      "text/plain": [
       "<Figure size 432x288 with 1 Axes>"
      ]
     },
     "metadata": {
      "needs_background": "light"
     },
     "output_type": "display_data"
    }
   ],
   "source": [
    "# датафрейм с кумулятивным количеством заказов и кумулятивной выручкой по дням в группе А\n",
    "cumulativeRevenueA = cumulativeData[cumulativeData['group']=='A'][['date','revenue', 'orders']]\n",
    "\n",
    "# датафрейм с кумулятивным количеством заказов и кумулятивной выручкой по дням в группе B\n",
    "cumulativeRevenueB = cumulativeData[cumulativeData['group']=='B'][['date','revenue', 'orders']]\n",
    "\n",
    "# Строим график выручки группы А\n",
    "plt.plot(cumulativeRevenueA['date'], cumulativeRevenueA['revenue'], label='A')\n",
    "\n",
    "# Строим график выручки группы B\n",
    "plt.plot(cumulativeRevenueB['date'], cumulativeRevenueB['revenue'], label='B')\n",
    "\n",
    "plt.legend() \n",
    "\n",
    "plt.title('график кумулятивной выручки по группам')\n",
    "\n",
    "plt.xlabel('Время')\n",
    "\n",
    "plt.ylabel('кумулятивная выручка')\n",
    "\n",
    "\n",
    "plt.xticks(rotation = 45)\n",
    "\n",
    "plt.show()\n"
   ]
  },
  {
   "cell_type": "markdown",
   "metadata": {},
   "source": [
    "<div class=\"alert alert-warning\"><span style=\"font-size:150%; font-weight: bold;\">Комментарий ревьюера</span>&nbsp;⚠️<br>При построении <tt>matplotlib</tt> графиков и основанных на данной библиотеке в конце последней строки ячейки можно ставить «<tt>;</tt>» или вызывать метод <tt>plt.show()</tt> для того, чтобы не выводились строки вида <tt>AxesSubplot:</tt> — возвращаемое значение последнего применённого метода.</div>"
   ]
  },
  {
   "cell_type": "markdown",
   "metadata": {},
   "source": [
    "<div class=\"alert btn-primary\"><b>Комментарий студента:</b><br>   \n",
    "    понял, добавил    </div>"
   ]
  },
  {
   "cell_type": "markdown",
   "metadata": {},
   "source": [
    "Выводы: Выручка почти равномерно увеличивается в течение всего теста. Хороший знак. Однако графики выручки группе B в середмне периода точках резко растет. Это может сигнализировать о всплесках числа заказов, либо о появлении очень дорогих заказов в выборке."
   ]
  },
  {
   "cell_type": "markdown",
   "metadata": {},
   "source": [
    "<div class=\"alert alert-success\"><b>Комментарий ревьюера&nbsp;<big>✔️</big></b></div>"
   ]
  },
  {
   "cell_type": "markdown",
   "metadata": {},
   "source": [
    "#### Постройте график кумулятивного среднего чека по группам. Сделайте выводы и предположения"
   ]
  },
  {
   "cell_type": "code",
   "execution_count": 28,
   "metadata": {},
   "outputs": [
    {
     "data": {
      "image/png": "[encoded data removed]",
      "text/plain": [
       "<Figure size 432x288 with 1 Axes>"
      ]
     },
     "metadata": {
      "needs_background": "light"
     },
     "output_type": "display_data"
    }
   ],
   "source": [
    "plt.plot(cumulativeRevenueA['date'], cumulativeRevenueA['revenue']/cumulativeRevenueA['orders'], label='A')\n",
    "plt.plot(cumulativeRevenueB['date'], cumulativeRevenueB['revenue']/cumulativeRevenueB['orders'], label='B')\n",
    "plt.legend() \n",
    "\n",
    "plt.xlabel('Время')\n",
    "plt.ylabel('средний чек')\n",
    "plt.title('график кумулятивного среднего чека по группам')\n",
    "plt.xticks(rotation = 45)\n",
    "plt.show() "
   ]
  },
  {
   "cell_type": "markdown",
   "metadata": {},
   "source": [
    "<div class=\"alert alert-warning\"><b>Комментарий ревьюера</b>&nbsp;🔧<br>\n",
    "Этому графику и графику выше, и вообще всем графикам в работе необходимо добавить названия и подписи осей.\n",
    "    \n",
    "Подписи по горизонтальной оси должны исправиться после правильной подготовки данных.\n",
    "</div>"
   ]
  },
  {
   "cell_type": "markdown",
   "metadata": {},
   "source": [
    "<div class=\"alert btn-primary\"><b>Комментарий студента:</b><br>   \n",
    "    ок,понял, добавил названия и подписи осей. \n",
    "    / горизонтальные оси исправились\n",
    "</div>"
   ]
  },
  {
   "cell_type": "markdown",
   "metadata": {},
   "source": [
    "Средний чек группе A отстоет в начале периода потом догоняет средний чек группе B в середине периода и стабилизировается в районе 7000. Но а средний чек группе B растет с самого начало периода до 7000 но потом в  середине переиода сильно скачет вверх выше планке 10000 за несколько дней с тенденции на поняжения до конца периода."
   ]
  },
  {
   "cell_type": "markdown",
   "metadata": {},
   "source": [
    "<div class=\"alert alert-success\"><b>Комментарий ревьюера&nbsp;<big>✔️</big></b></div>"
   ]
  },
  {
   "cell_type": "markdown",
   "metadata": {},
   "source": [
    "#### Постройте график относительного изменения кумулятивного среднего чека группы B к группе A. Сделайте выводы и предположения."
   ]
  },
  {
   "cell_type": "code",
   "execution_count": 29,
   "metadata": {},
   "outputs": [
    {
     "data": {
      "image/png": "[encoded data removed]",
      "text/plain": [
       "<Figure size 432x288 with 1 Axes>"
      ]
     },
     "metadata": {
      "needs_background": "light"
     },
     "output_type": "display_data"
    }
   ],
   "source": [
    "# собираем данные в одном датафрейме\n",
    "mergedCumulativeRevenue = cumulativeRevenueA.merge(cumulativeRevenueB, left_on='date', right_on='date', how='left', suffixes=['A', 'B'])\n",
    "\n",
    "# cтроим отношение средних чеков\n",
    "plt.plot(mergedCumulativeRevenue['date'], (mergedCumulativeRevenue['revenueB']/mergedCumulativeRevenue['ordersB'])/(mergedCumulativeRevenue['revenueA']/mergedCumulativeRevenue['ordersA'])-1)\n",
    "\n",
    "# добавляем ось X\n",
    "plt.axhline(y=0, color='black', linestyle='--') \n",
    "\n",
    "plt.xlabel('Время')\n",
    "plt.ylabel('кумулятивный средний чек')\n",
    "plt.title(' график относительного изменения кумулятивного среднего чека группы B к группе A')\n",
    "plt.xticks(rotation = 45)\n",
    "plt.show()"
   ]
  },
  {
   "cell_type": "markdown",
   "metadata": {},
   "source": [
    "В общем по графику ввидно что индикатор среднего чека группе B лучше чем у группе А. В нескольких точках график различия между сегментами резко «скачет». Где-то уж точно спрятались крупные заказы и выбросы! "
   ]
  },
  {
   "cell_type": "markdown",
   "metadata": {},
   "source": [
    "<div class=\"alert alert-success\"><b>Комментарий ревьюера&nbsp;<big>✔️</big></b></div><div class=\"alert alert-warning\"><b>Комментарий ревьюера</b>&nbsp;📌<br>\n",
    "Причиной подобного поведения (падения в начале) графика в некоторых местах может быть также отсутствие на протяжении какого-то времени заметных по суммарной стоимости заказов в одной из групп.\n",
    "</div>"
   ]
  },
  {
   "cell_type": "markdown",
   "metadata": {},
   "source": [
    "#### Постройте график кумулятивной конверсии по группам. Сделайте выводы и предположения."
   ]
  },
  {
   "cell_type": "code",
   "execution_count": 30,
   "metadata": {},
   "outputs": [
    {
     "data": {
      "image/png": "[encoded data removed]",
      "text/plain": [
       "<Figure size 432x288 with 1 Axes>"
      ]
     },
     "metadata": {
      "needs_background": "light"
     },
     "output_type": "display_data"
    }
   ],
   "source": [
    "# считаем кумулятивную конверсию\n",
    "cumulativeData['conversion'] = cumulativeData['orders'] / cumulativeData['visitors']\n",
    "# отделяем данные по группе A\n",
    "cumulativeDataA = cumulativeData[cumulativeData['group'] == 'A']\n",
    "\n",
    "# отделяем данные по группе B\n",
    "cumulativeDataB = cumulativeData[cumulativeData['group'] == 'B']\n",
    "\n",
    "# строим графики\n",
    "plt.plot(cumulativeDataA['date'], cumulativeDataA['conversion'], label='A')\n",
    "plt.plot(cumulativeDataB['date'], cumulativeDataB['conversion'], label='B')\n",
    "plt.legend()\n",
    "\n",
    "# задаем масштаб осей\n",
    "plt.axis([dt.date(2019,8,1), dt.date(2019,8,31), 0.025, 0.040]) \n",
    "\n",
    "plt.xlabel('Время')\n",
    "plt.ylabel('кумулятивная конверсия')\n",
    "plt.title('график кумулятивной конверсии по группам')\n",
    "plt.xticks(rotation = 45)\n",
    "plt.show()"
   ]
  },
  {
   "cell_type": "markdown",
   "metadata": {},
   "source": [
    "выводы: Симметричный график получился! Группы колебались около одного значения, но затем конверсия группы B вырвалась вперёд и зафиксировалась, а конверсия группы A просела и также зафиксировалась."
   ]
  },
  {
   "cell_type": "markdown",
   "metadata": {},
   "source": [
    "<div class=\"alert alert-success\"><b>Комментарий ревьюера&nbsp;<big>✔️</big></b> Очень хорошо выбран масштаб осей, подчёркивает, что графики стабилизировались!</div><div class=\"alert alert-warning\"><b>Комментарий ревьюера</b>&nbsp;🔧 Просьба не забыть исправить и этот график тоже.</div>"
   ]
  },
  {
   "cell_type": "markdown",
   "metadata": {},
   "source": [
    "#### Постройте график относительного изменения кумулятивной конверсии группы B к группе A. Сделайте выводы и предположения."
   ]
  },
  {
   "cell_type": "code",
   "execution_count": 31,
   "metadata": {},
   "outputs": [
    {
     "data": {
      "image/png": "[encoded data removed]",
      "text/plain": [
       "<Figure size 432x288 with 1 Axes>"
      ]
     },
     "metadata": {
      "needs_background": "light"
     },
     "output_type": "display_data"
    }
   ],
   "source": [
    "mergedCumulativeConversions = cumulativeDataA[['date','conversion']].merge(cumulativeDataB[['date','conversion']], left_on='date', right_on='date', how='left', suffixes=['A', 'B'])\n",
    "\n",
    "plt.plot(mergedCumulativeConversions['date'], mergedCumulativeConversions['conversionB']/mergedCumulativeConversions['conversionA']-1, label=\"Относительный прирост конверсии группы B относительно группы A\")\n",
    "plt.legend()\n",
    "\n",
    "plt.axhline(y=-0.1, color='black', linestyle='--')\n",
    "plt.axhline(y=0.1, color='grey', linestyle='--')\n",
    "plt.axis([dt.date(2019,8,1), dt.date(2019,8,31), -0.3, 0.3]) \n",
    "\n",
    "plt.xlabel('Время')\n",
    "plt.ylabel('кумулятивная конверсия')\n",
    "plt.title('график относительного изменения кумулятивной конверсии группы B к группе A')\n",
    "\n",
    "plt.show()"
   ]
  },
  {
   "cell_type": "markdown",
   "metadata": {},
   "source": [
    "выводы: В начале теста группа B значительно проигрывала группе A, затем ее конверсия вырвалась вперёд и  продолжает расти."
   ]
  },
  {
   "cell_type": "markdown",
   "metadata": {},
   "source": [
    "<div class=\"alert alert-warning\"><b>Комментарий ревьюера</b>&nbsp;🔧<br>\n",
    "Так тут относительный прирост конверсии группы Б относительно группы Аь продолжает расти или стабилизировался на каком-то уровне?\n",
    "\n",
    "Если произошла стабилизация вокруг какого-то значения, тогда нужно серую прерывистую линию туда передвинуть.\n",
    "</div>"
   ]
  },
  {
   "cell_type": "markdown",
   "metadata": {},
   "source": [
    "<div class=\"alert btn-primary\"><b>Комментарий студента:</b><br>   \n",
    "    понял, добавил  \n",
    "    конверсия группы Б стабилизируется в в районе 0.1\n",
    "    \n",
    "    plt.axhline(y=-0.1, color='black', linestyle='--')\n",
    "    plt.axhline(y=0.1, color='grey', linestyle='--')\n",
    "</div>"
   ]
  },
  {
   "cell_type": "markdown",
   "metadata": {},
   "source": [
    "<div class=\"alert alert-success\"><b>Комментарий ревьюера 2&nbsp;<big>👍</big></b></div>"
   ]
  },
  {
   "cell_type": "markdown",
   "metadata": {},
   "source": [
    "#### Постройте точечный график количества заказов по пользователям. Сделайте выводы и предположения."
   ]
  },
  {
   "cell_type": "code",
   "execution_count": 32,
   "metadata": {},
   "outputs": [
    {
     "data": {
      "text/html": [
       "<div>\n",
       "<style scoped>\n",
       "    .dataframe tbody tr th:only-of-type {\n",
       "        vertical-align: middle;\n",
       "    }\n",
       "\n",
       "    .dataframe tbody tr th {\n",
       "        vertical-align: top;\n",
       "    }\n",
       "\n",
       "    .dataframe thead th {\n",
       "        text-align: right;\n",
       "    }\n",
       "</style>\n",
       "<table border=\"1\" class=\"dataframe\">\n",
       "  <thead>\n",
       "    <tr style=\"text-align: right;\">\n",
       "      <th></th>\n",
       "      <th>transactionId</th>\n",
       "      <th>visitorId</th>\n",
       "      <th>date</th>\n",
       "      <th>revenue</th>\n",
       "      <th>group</th>\n",
       "    </tr>\n",
       "  </thead>\n",
       "  <tbody>\n",
       "    <tr>\n",
       "      <th>0</th>\n",
       "      <td>3667963787</td>\n",
       "      <td>3312258926</td>\n",
       "      <td>2019-08-15</td>\n",
       "      <td>1650</td>\n",
       "      <td>B</td>\n",
       "    </tr>\n",
       "    <tr>\n",
       "      <th>1</th>\n",
       "      <td>2804400009</td>\n",
       "      <td>3642806036</td>\n",
       "      <td>2019-08-15</td>\n",
       "      <td>730</td>\n",
       "      <td>B</td>\n",
       "    </tr>\n",
       "    <tr>\n",
       "      <th>2</th>\n",
       "      <td>2961555356</td>\n",
       "      <td>4069496402</td>\n",
       "      <td>2019-08-15</td>\n",
       "      <td>400</td>\n",
       "      <td>A</td>\n",
       "    </tr>\n",
       "    <tr>\n",
       "      <th>3</th>\n",
       "      <td>3797467345</td>\n",
       "      <td>1196621759</td>\n",
       "      <td>2019-08-15</td>\n",
       "      <td>9759</td>\n",
       "      <td>B</td>\n",
       "    </tr>\n",
       "    <tr>\n",
       "      <th>4</th>\n",
       "      <td>2282983706</td>\n",
       "      <td>2322279887</td>\n",
       "      <td>2019-08-15</td>\n",
       "      <td>2308</td>\n",
       "      <td>B</td>\n",
       "    </tr>\n",
       "    <tr>\n",
       "      <th>...</th>\n",
       "      <td>...</td>\n",
       "      <td>...</td>\n",
       "      <td>...</td>\n",
       "      <td>...</td>\n",
       "      <td>...</td>\n",
       "    </tr>\n",
       "    <tr>\n",
       "      <th>1192</th>\n",
       "      <td>2662137336</td>\n",
       "      <td>3733762160</td>\n",
       "      <td>2019-08-14</td>\n",
       "      <td>6490</td>\n",
       "      <td>B</td>\n",
       "    </tr>\n",
       "    <tr>\n",
       "      <th>1193</th>\n",
       "      <td>2203539145</td>\n",
       "      <td>370388673</td>\n",
       "      <td>2019-08-14</td>\n",
       "      <td>3190</td>\n",
       "      <td>A</td>\n",
       "    </tr>\n",
       "    <tr>\n",
       "      <th>1194</th>\n",
       "      <td>1807773912</td>\n",
       "      <td>573423106</td>\n",
       "      <td>2019-08-14</td>\n",
       "      <td>10550</td>\n",
       "      <td>A</td>\n",
       "    </tr>\n",
       "    <tr>\n",
       "      <th>1195</th>\n",
       "      <td>1947021204</td>\n",
       "      <td>1614305549</td>\n",
       "      <td>2019-08-14</td>\n",
       "      <td>100</td>\n",
       "      <td>A</td>\n",
       "    </tr>\n",
       "    <tr>\n",
       "      <th>1196</th>\n",
       "      <td>3936777065</td>\n",
       "      <td>2108080724</td>\n",
       "      <td>2019-08-15</td>\n",
       "      <td>202740</td>\n",
       "      <td>B</td>\n",
       "    </tr>\n",
       "  </tbody>\n",
       "</table>\n",
       "<p>1197 rows × 5 columns</p>\n",
       "</div>"
      ],
      "text/plain": [
       "      transactionId   visitorId       date  revenue group\n",
       "0        3667963787  3312258926 2019-08-15     1650     B\n",
       "1        2804400009  3642806036 2019-08-15      730     B\n",
       "2        2961555356  4069496402 2019-08-15      400     A\n",
       "3        3797467345  1196621759 2019-08-15     9759     B\n",
       "4        2282983706  2322279887 2019-08-15     2308     B\n",
       "...             ...         ...        ...      ...   ...\n",
       "1192     2662137336  3733762160 2019-08-14     6490     B\n",
       "1193     2203539145   370388673 2019-08-14     3190     A\n",
       "1194     1807773912   573423106 2019-08-14    10550     A\n",
       "1195     1947021204  1614305549 2019-08-14      100     A\n",
       "1196     3936777065  2108080724 2019-08-15   202740     B\n",
       "\n",
       "[1197 rows x 5 columns]"
      ]
     },
     "execution_count": 32,
     "metadata": {},
     "output_type": "execute_result"
    }
   ],
   "source": [
    "orders"
   ]
  },
  {
   "cell_type": "code",
   "execution_count": 33,
   "metadata": {},
   "outputs": [],
   "source": [
    "ordersByUsers = orders.groupby('visitorId',as_index = False).agg({'transactionId':'nunique'})"
   ]
  },
  {
   "cell_type": "code",
   "execution_count": 34,
   "metadata": {},
   "outputs": [],
   "source": [
    "ordersByUsers.columns = ['userId', 'orders']"
   ]
  },
  {
   "cell_type": "code",
   "execution_count": 35,
   "metadata": {},
   "outputs": [
    {
     "name": "stdout",
     "output_type": "stream",
     "text": [
      "          userId  orders\n",
      "1023  4256040402      11\n",
      "591   2458001652      11\n",
      "569   2378935119       9\n",
      "487   2038680547       8\n",
      "44     199603092       5\n",
      "744   3062433592       5\n",
      "55     237748145       5\n",
      "917   3803269165       5\n",
      "299   1230306981       5\n",
      "897   3717692402       5\n"
     ]
    }
   ],
   "source": [
    "print(ordersByUsers.sort_values(by='orders', ascending=False).head(10))"
   ]
  },
  {
   "cell_type": "markdown",
   "metadata": {},
   "source": [
    "Есть пользователи, которые совершали 5, 8, 9,11 заказов. Значительно больше, чем обычный пользователь за неделю."
   ]
  },
  {
   "cell_type": "code",
   "execution_count": 36,
   "metadata": {},
   "outputs": [
    {
     "data": {
      "text/plain": [
       "(array([937.,  64.,  17.,   3.,   6.,   0.,   0.,   1.,   1.,   2.]),\n",
       " array([ 1.,  2.,  3.,  4.,  5.,  6.,  7.,  8.,  9., 10., 11.]),\n",
       " <BarContainer object of 10 artists>)"
      ]
     },
     "execution_count": 36,
     "metadata": {},
     "output_type": "execute_result"
    },
    {
     "data": {
      "image/png": "[encoded data removed]",
      "text/plain": [
       "<Figure size 432x288 with 1 Axes>"
      ]
     },
     "metadata": {
      "needs_background": "light"
     },
     "output_type": "display_data"
    }
   ],
   "source": [
    "plt.hist(ordersByUsers['orders'])"
   ]
  },
  {
   "cell_type": "markdown",
   "metadata": {},
   "source": [
    "Большинство покупателей заказывали только один раз. Однако доля пользователей с двумя заказами тоже значительна."
   ]
  },
  {
   "cell_type": "code",
   "execution_count": 37,
   "metadata": {},
   "outputs": [],
   "source": [
    "#старый\n",
    "#x_values = pd.Series(0,range(len(ordersByUsers)))"
   ]
  },
  {
   "cell_type": "code",
   "execution_count": 38,
   "metadata": {},
   "outputs": [],
   "source": [
    "x_values = np.arange(0,len(ordersByUsers),1)"
   ]
  },
  {
   "cell_type": "code",
   "execution_count": 39,
   "metadata": {},
   "outputs": [
    {
     "data": {
      "text/plain": [
       "<matplotlib.collections.PathCollection at 0x20f5cb03700>"
      ]
     },
     "execution_count": 39,
     "metadata": {},
     "output_type": "execute_result"
    },
    {
     "data": {
      "image/png": "[encoded data removed]",
      "text/plain": [
       "<Figure size 432x288 with 1 Axes>"
      ]
     },
     "metadata": {
      "needs_background": "light"
     },
     "output_type": "display_data"
    }
   ],
   "source": [
    "plt.scatter(x_values,  ordersByUsers['orders'], color = \"blue\", edgecolors = \"white\", linewidths = 0.1, alpha = 0.5)"
   ]
  },
  {
   "cell_type": "markdown",
   "metadata": {},
   "source": [
    "<div class=\"alert alert-warning\"><b>Комментарий ревьюера</b>&nbsp;💡<br>\n",
    "У нас тут по горизонтальной оси, по сути, id пользователя. Один пользователь — одна точка. Такие графики приведены в тренажёре, это график из разряда «грубо, быстро, грязно» — важно понимать, что по нему мы не можем судить, насколько велика плотность точек в сплошных линиях. Тут это и не нужно, тут прежде всего анализируются выбросы. \n",
    "\n",
    "Для других целей такого типа графики применимы слабо. В некоторых случаях, при хорошей настройке (если добавлять точкам прозрачность, делать несколько слоёв точек с маркерами разного размера и прозрачности) подобные диаграммы рассеяния могут заменять 2D-гистограммы. Важно понимать что без такой настройки они этого делать не могут.\n",
    "\n",
    "Я рекомендую на таких графиках всегда указывать параметр alpha, чтобы иметь хотя бы поверхностное представление о плотности точек в тех местах, где они полностью сливаются.</div>"
   ]
  },
  {
   "cell_type": "markdown",
   "metadata": {},
   "source": [
    "<div class=\"alert btn-primary\"><b>Комментарий студента:</b><br>   \n",
    "    понял, добавил, график выше:  \n",
    "</div>"
   ]
  },
  {
   "cell_type": "markdown",
   "metadata": {},
   "source": [
    "<div class=\"alert alert-success\"><b>Комментарий ревьюера 2&nbsp;<big>👍</big></b> это просто для информации было, но круто, что сделал!</div>"
   ]
  },
  {
   "cell_type": "markdown",
   "metadata": {},
   "source": [
    "Выводы подтверждаются: много пользователей с 2-4 заказами. Их точная доля не ясна — непонятно, считать их аномалиями или нет."
   ]
  },
  {
   "cell_type": "markdown",
   "metadata": {},
   "source": [
    "#### Посчитайте 95-й и 99-й перцентили количества заказов на пользователя. Выберите границу для определения аномальных пользователей."
   ]
  },
  {
   "cell_type": "code",
   "execution_count": 40,
   "metadata": {},
   "outputs": [
    {
     "name": "stdout",
     "output_type": "stream",
     "text": [
      "[1. 2. 4.]\n"
     ]
    }
   ],
   "source": [
    "print(np.percentile(ordersByUsers['orders'], [90, 95, 99])) "
   ]
  },
  {
   "cell_type": "markdown",
   "metadata": {},
   "source": [
    "выводы: Не более 5% пользователей оформляли больше чем 2 заказов. И 10% пользователей заказывали более чем 1 раз. Разумно выбрать 3 заказов на одного пользователя за нижнюю границу числа заказов, и отсеять аномальных пользователей по ней. Удалением таких строк займёмся в следующем уроке."
   ]
  },
  {
   "cell_type": "markdown",
   "metadata": {},
   "source": [
    "<div class=\"alert alert-warning\"><b>Комментарий ревьюера</b>&nbsp;💡<br>\n",
    "Тут стоит запомнить какое-то значение в переменную, тогда при изменении данных не придётся ниже менять код руками.\n",
    "</div>"
   ]
  },
  {
   "cell_type": "markdown",
   "metadata": {},
   "source": [
    "<div class=\"alert btn-primary\"><b>Комментарий студента:</b><br>   \n",
    "    можем ставить переменные типа:\n",
    "    - orders_anomalies =  / revenue_anomalies=\n",
    "      \n",
    "</div>"
   ]
  },
  {
   "cell_type": "markdown",
   "metadata": {},
   "source": [
    "#### Постройте точечный график стоимостей заказов. Сделайте выводы и предположения."
   ]
  },
  {
   "cell_type": "code",
   "execution_count": 41,
   "metadata": {},
   "outputs": [
    {
     "data": {
      "text/plain": [
       "425     1294500\n",
       "1196     202740\n",
       "858       93940\n",
       "1136      92550\n",
       "744       86620\n",
       "682       78990\n",
       "662       78990\n",
       "743       67990\n",
       "1103      66350\n",
       "1099      65710\n",
       "949       60450\n",
       "940       58550\n",
       "1029      58220\n",
       "873       58220\n",
       "60        56650\n",
       "Name: revenue, dtype: int64"
      ]
     },
     "execution_count": 41,
     "metadata": {},
     "output_type": "execute_result"
    }
   ],
   "source": [
    "orders['revenue'].sort_values(ascending = False).head(15)"
   ]
  },
  {
   "cell_type": "code",
   "execution_count": 42,
   "metadata": {},
   "outputs": [
    {
     "data": {
      "text/plain": [
       "(array([1.195e+03, 1.000e+00, 0.000e+00, 0.000e+00, 0.000e+00, 0.000e+00,\n",
       "        0.000e+00, 0.000e+00, 0.000e+00, 1.000e+00]),\n",
       " array([5.000000e+01, 1.294950e+05, 2.589400e+05, 3.883850e+05,\n",
       "        5.178300e+05, 6.472750e+05, 7.767200e+05, 9.061650e+05,\n",
       "        1.035610e+06, 1.165055e+06, 1.294500e+06]),\n",
       " <BarContainer object of 10 artists>)"
      ]
     },
     "execution_count": 42,
     "metadata": {},
     "output_type": "execute_result"
    },
    {
     "data": {
      "image/png": "[encoded data removed]",
      "text/plain": [
       "<Figure size 432x288 with 1 Axes>"
      ]
     },
     "metadata": {
      "needs_background": "light"
     },
     "output_type": "display_data"
    }
   ],
   "source": [
    "plt.hist(orders['revenue'])"
   ]
  },
  {
   "cell_type": "code",
   "execution_count": 43,
   "metadata": {},
   "outputs": [
    {
     "data": {
      "text/plain": [
       "(array([931., 154.,  53.,  27.,  10.,   7.,   6.,   2.,   2.,   3.]),\n",
       " array([5.0000e+01, 9.4390e+03, 1.8828e+04, 2.8217e+04, 3.7606e+04,\n",
       "        4.6995e+04, 5.6384e+04, 6.5773e+04, 7.5162e+04, 8.4551e+04,\n",
       "        9.3940e+04]),\n",
       " <BarContainer object of 10 artists>)"
      ]
     },
     "execution_count": 43,
     "metadata": {},
     "output_type": "execute_result"
    },
    {
     "data": {
      "image/png": "[encoded data removed]",
      "text/plain": [
       "<Figure size 432x288 with 1 Axes>"
      ]
     },
     "metadata": {
      "needs_background": "light"
     },
     "output_type": "display_data"
    }
   ],
   "source": [
    "#ставлю маленкий фильтр чтобы убрать вервые 2 значения, так график будет выглядеть по понятнее:\n",
    "plt.hist(orders.query('revenue <=100000')['revenue'])"
   ]
  },
  {
   "cell_type": "markdown",
   "metadata": {},
   "source": [
    "В данных явно есть заказы дороже 20 000 — например,30 000, 50 000 рублей и выше. Однако большинство всё-таки имеет меньшую выручку."
   ]
  },
  {
   "cell_type": "code",
   "execution_count": 44,
   "metadata": {},
   "outputs": [
    {
     "data": {
      "text/plain": [
       "<matplotlib.collections.PathCollection at 0x20f5cc80400>"
      ]
     },
     "execution_count": 44,
     "metadata": {},
     "output_type": "execute_result"
    },
    {
     "data": {
      "image/png": "[encoded data removed]",
      "text/plain": [
       "<Figure size 432x288 with 1 Axes>"
      ]
     },
     "metadata": {
      "needs_background": "light"
     },
     "output_type": "display_data"
    }
   ],
   "source": [
    "x_values = pd.Series(range(0,len(orders['revenue'])))\n",
    "plt.scatter(x_values, orders['revenue'])"
   ]
  },
  {
   "cell_type": "markdown",
   "metadata": {},
   "source": [
    "<div class=\"alert alert-warning\"><b>Комментарий ревьюера</b>&nbsp;🔧<br>\n",
    "Построй, пожалуйста, дополнительный график, на котором будет видно основную массу заказов, тут на масштаб графика повлияли выбросы сильно.\n",
    "</div>"
   ]
  },
  {
   "cell_type": "markdown",
   "metadata": {},
   "source": [
    "<div class=\"alert btn-primary\"><b>Комментарий студента:</b><br>   \n",
    "    понял, добавил, график ниже:  \n",
    "</div>"
   ]
  },
  {
   "cell_type": "code",
   "execution_count": 45,
   "metadata": {},
   "outputs": [
    {
     "data": {
      "text/plain": [
       "<matplotlib.collections.PathCollection at 0x20f5cce38e0>"
      ]
     },
     "execution_count": 45,
     "metadata": {},
     "output_type": "execute_result"
    },
    {
     "data": {
      "image/png": "[encoded data removed]",
      "text/plain": [
       "<Figure size 432x288 with 1 Axes>"
      ]
     },
     "metadata": {
      "needs_background": "light"
     },
     "output_type": "display_data"
    }
   ],
   "source": [
    "x_values = np.arange(0,len(orders.query('revenue<100000')['revenue']),1)\n",
    "#x_values = pd.Series(range(0,len(orders['revenue'])))\n",
    "plt.scatter(x_values, y = orders.query('revenue<100000')['revenue'])"
   ]
  },
  {
   "cell_type": "markdown",
   "metadata": {},
   "source": [
    "<div class=\"alert alert-success\"><b>Комментарий ревьюера 2&nbsp;<big>✔️</big></b></div>"
   ]
  },
  {
   "cell_type": "markdown",
   "metadata": {},
   "source": [
    "#### Посчитайте 95-й и 99-й перцентили стоимости заказов. Выберите границу для определения аномальных заказов."
   ]
  },
  {
   "cell_type": "code",
   "execution_count": 46,
   "metadata": {},
   "outputs": [
    {
     "data": {
      "text/plain": [
       "array([18168. , 28000. , 58233.2])"
      ]
     },
     "execution_count": 46,
     "metadata": {},
     "output_type": "execute_result"
    }
   ],
   "source": [
    "np.percentile(orders['revenue'],[90,95,99])"
   ]
  },
  {
   "cell_type": "markdown",
   "metadata": {},
   "source": [
    "Не более 5% заказов дороже 28 000 рублей и не более 1% дороже 58233 рублей."
   ]
  },
  {
   "cell_type": "markdown",
   "metadata": {},
   "source": [
    "<div class=\"alert alert-warning\"><b>Комментарий ревьюера</b>&nbsp;⚠️<br>\n",
    "Тут стоит сразу сказать, какую границу ты будешь считать границей между нормальными и аномально большими заказами.\n",
    "</div>"
   ]
  },
  {
   "cell_type": "markdown",
   "metadata": {},
   "source": [
    "<div class=\"alert btn-primary\"><b>Комментарий студента:</b><br>   \n",
    "    Я выбрал границу \"30 000\" между нормальными и аномально большими заказами\n",
    "</div>"
   ]
  },
  {
   "cell_type": "markdown",
   "metadata": {},
   "source": [
    "#### Посчитайте статистическую значимость различий в конверсии между группами по «сырым» данным. Сделайте выводы и предположения."
   ]
  },
  {
   "cell_type": "markdown",
   "metadata": {},
   "source": [
    " - Сформулируем гипотезы. Нулевая: различий в конверсии между группами нет. Альтернативная: различия в конверсии между группами есть. alpha = 5%"
   ]
  },
  {
   "cell_type": "markdown",
   "metadata": {},
   "source": [
    "Начнём с подготовки данных:"
   ]
  },
  {
   "cell_type": "markdown",
   "metadata": {},
   "source": [
    "<div class=\"alert alert-warning\"><s><b>Комментарий ревьюера</b>&nbsp;👀<br>\n",
    "Зачем тут кумулятивная таблица? Ты из неё используешь столбцы 'visitorsPerDateA' и 'visitorsPerDateB', которые можешь получить и из таблицы визитов в том виде, в котором она предоставлена.\n",
    "</div>"
   ]
  },
  {
   "cell_type": "markdown",
   "metadata": {},
   "source": [
    "<div class=\"alert btn-primary\"><b>Комментарий студента:</b><br>   \n",
    "   Согласен, cumulative здесь лишнее - убераю \n",
    "</div>"
   ]
  },
  {
   "cell_type": "code",
   "execution_count": 47,
   "metadata": {},
   "outputs": [],
   "source": [
    "visitorsADaily = visitors[visitors['group'] == 'A'][['date', 'visitors']]\n",
    "visitorsADaily.columns = ['date', 'visitorsPerDateA']\n",
    "\n",
    "#visitorsACummulative = visitorsADaily.apply(\n",
    "#    lambda x: visitorsADaily[visitorsADaily['date'] <= x['date']].agg(\n",
    "#        {'date': 'max', 'visitorsPerDateA': 'sum'}\n",
    "#    ),\n",
    "#    axis=1,\n",
    "#)\n",
    "#visitorsACummulative.columns = ['date', 'visitorsCummulativeA']"
   ]
  },
  {
   "cell_type": "code",
   "execution_count": 48,
   "metadata": {},
   "outputs": [],
   "source": [
    "visitorsBDaily = visitors[visitors['group'] == 'B'][['date', 'visitors']]\n",
    "visitorsBDaily.columns = ['date', 'visitorsPerDateB']\n",
    "\n",
    "#visitorsBCummulative = visitorsBDaily.apply(\n",
    "#    lambda x: visitorsBDaily[visitorsBDaily['date'] <= x['date']].agg(\n",
    "#        {'date':'max', 'visitorsPerDateB':'sum' }\n",
    "#    ), axis = 1)\n",
    "#visitorsBCummulative.columns = ['date', 'visitorsCummulativeB']"
   ]
  },
  {
   "cell_type": "code",
   "execution_count": 49,
   "metadata": {},
   "outputs": [],
   "source": [
    "ordersADaily = (\n",
    "    orders[orders['group'] == 'A'][['date', 'transactionId', 'visitorId', 'revenue']]\n",
    "    .groupby('date', as_index=False)\n",
    "    .agg({'transactionId': pd.Series.nunique, 'revenue': 'sum'})\n",
    ")\n",
    "ordersADaily.columns = ['date', 'ordersPerDateA', 'revenuePerDateA']\n",
    "\n",
    "#ordersACummulative = ordersADaily.apply(\n",
    "#    lambda x: ordersADaily[ordersADaily['date'] <= x['date']].agg(\n",
    "#        {'date': 'max', 'ordersPerDateA': 'sum', 'revenuePerDateA': 'sum'}\n",
    "#    ),\n",
    "#    axis=1,\n",
    "#).sort_values(by=['date'])\n",
    "#ordersACummulative.columns = [\n",
    "#    'date',\n",
    "#    'ordersCummulativeA',\n",
    "#    'revenueCummulativeA',\n",
    "#]\n"
   ]
  },
  {
   "cell_type": "code",
   "execution_count": 50,
   "metadata": {},
   "outputs": [],
   "source": [
    "ordersBDaily = (\n",
    "    orders[orders['group'] == 'B'][['date', 'transactionId', 'visitorId', 'revenue']]\n",
    "    .groupby('date', as_index=False)\n",
    "    .agg({'transactionId': pd.Series.nunique, 'revenue': 'sum'})\n",
    ")\n",
    "ordersBDaily.columns = ['date', 'ordersPerDateB', 'revenuePerDateB']\n",
    "\n",
    "#ordersBCummulative = ordersBDaily.apply(\n",
    "#    lambda x: ordersBDaily[ordersBDaily['date'] <= x['date']].agg(\n",
    "#        {'date': 'max', 'ordersPerDateB': 'sum', 'revenuePerDateB': 'sum'}\n",
    "#    ),\n",
    "#    axis=1,\n",
    "#).sort_values(by=['date'])\n",
    "#ordersBCummulative.columns = [\n",
    "#    'date',\n",
    "#    'ordersCummulativeB',\n",
    "#    'revenueCummulativeB',\n",
    "#]\n"
   ]
  },
  {
   "cell_type": "code",
   "execution_count": 51,
   "metadata": {},
   "outputs": [
    {
     "data": {
      "text/html": [
       "<div>\n",
       "<style scoped>\n",
       "    .dataframe tbody tr th:only-of-type {\n",
       "        vertical-align: middle;\n",
       "    }\n",
       "\n",
       "    .dataframe tbody tr th {\n",
       "        vertical-align: top;\n",
       "    }\n",
       "\n",
       "    .dataframe thead th {\n",
       "        text-align: right;\n",
       "    }\n",
       "</style>\n",
       "<table border=\"1\" class=\"dataframe\">\n",
       "  <thead>\n",
       "    <tr style=\"text-align: right;\">\n",
       "      <th></th>\n",
       "      <th>date</th>\n",
       "      <th>ordersPerDateA</th>\n",
       "      <th>revenuePerDateA</th>\n",
       "      <th>ordersPerDateB</th>\n",
       "      <th>revenuePerDateB</th>\n",
       "      <th>visitorsPerDateA</th>\n",
       "      <th>visitorsPerDateB</th>\n",
       "    </tr>\n",
       "  </thead>\n",
       "  <tbody>\n",
       "    <tr>\n",
       "      <th>0</th>\n",
       "      <td>2019-08-01</td>\n",
       "      <td>24</td>\n",
       "      <td>148579</td>\n",
       "      <td>21</td>\n",
       "      <td>101217</td>\n",
       "      <td>719</td>\n",
       "      <td>713</td>\n",
       "    </tr>\n",
       "    <tr>\n",
       "      <th>1</th>\n",
       "      <td>2019-08-02</td>\n",
       "      <td>20</td>\n",
       "      <td>93822</td>\n",
       "      <td>24</td>\n",
       "      <td>165531</td>\n",
       "      <td>619</td>\n",
       "      <td>581</td>\n",
       "    </tr>\n",
       "    <tr>\n",
       "      <th>2</th>\n",
       "      <td>2019-08-03</td>\n",
       "      <td>24</td>\n",
       "      <td>112473</td>\n",
       "      <td>16</td>\n",
       "      <td>114248</td>\n",
       "      <td>507</td>\n",
       "      <td>509</td>\n",
       "    </tr>\n",
       "    <tr>\n",
       "      <th>3</th>\n",
       "      <td>2019-08-04</td>\n",
       "      <td>16</td>\n",
       "      <td>70825</td>\n",
       "      <td>17</td>\n",
       "      <td>108571</td>\n",
       "      <td>717</td>\n",
       "      <td>770</td>\n",
       "    </tr>\n",
       "    <tr>\n",
       "      <th>4</th>\n",
       "      <td>2019-08-05</td>\n",
       "      <td>25</td>\n",
       "      <td>124218</td>\n",
       "      <td>23</td>\n",
       "      <td>92428</td>\n",
       "      <td>756</td>\n",
       "      <td>707</td>\n",
       "    </tr>\n",
       "  </tbody>\n",
       "</table>\n",
       "</div>"
      ],
      "text/plain": [
       "        date  ordersPerDateA  revenuePerDateA  ordersPerDateB  \\\n",
       "0 2019-08-01              24           148579              21   \n",
       "1 2019-08-02              20            93822              24   \n",
       "2 2019-08-03              24           112473              16   \n",
       "3 2019-08-04              16            70825              17   \n",
       "4 2019-08-05              25           124218              23   \n",
       "\n",
       "   revenuePerDateB  visitorsPerDateA  visitorsPerDateB  \n",
       "0           101217               719               713  \n",
       "1           165531               619               581  \n",
       "2           114248               507               509  \n",
       "3           108571               717               770  \n",
       "4            92428               756               707  "
      ]
     },
     "metadata": {},
     "output_type": "display_data"
    }
   ],
   "source": [
    "data = (\n",
    "    ordersADaily.merge(\n",
    "        ordersBDaily, left_on='date', right_on='date', how='left'\n",
    "    )\n",
    "    #.merge(ordersACummulative, left_on='date', right_on='date', how='left')\n",
    "    #.merge(ordersBCummulative, left_on='date', right_on='date', how='left')\n",
    "    .merge(visitorsADaily, left_on='date', right_on='date', how='left')\n",
    "    .merge(visitorsBDaily, left_on='date', right_on='date', how='left')\n",
    "    #.merge(visitorsACummulative, left_on='date', right_on='date', how='left')\n",
    "    #.merge(visitorsBCummulative, left_on='date', right_on='date', how='left')\n",
    ")\n",
    "\n",
    "display(data.head(5)) "
   ]
  },
  {
   "cell_type": "code",
   "execution_count": 52,
   "metadata": {},
   "outputs": [
    {
     "data": {
      "text/plain": [
       "604.3870967741935"
      ]
     },
     "execution_count": 52,
     "metadata": {},
     "output_type": "execute_result"
    }
   ],
   "source": [
    "data['visitorsPerDateA'].mean()"
   ]
  },
  {
   "cell_type": "code",
   "execution_count": 53,
   "metadata": {},
   "outputs": [
    {
     "data": {
      "text/plain": [
       "610.1935483870968"
      ]
     },
     "execution_count": 53,
     "metadata": {},
     "output_type": "execute_result"
    }
   ],
   "source": [
    "data['visitorsPerDateB'].mean()"
   ]
  },
  {
   "cell_type": "markdown",
   "metadata": {},
   "source": [
    "<div class=\"alert alert-warning\"><b>Комментарий ревьюера</b>&nbsp;⚠️<br>\n",
    "Не используй print для отображения датафреймов, для этого есть функция display, которая автоматически срабатывает для результата работы последней строки.\n",
    "</div>"
   ]
  },
  {
   "cell_type": "markdown",
   "metadata": {},
   "source": [
    "<div class=\"alert btn-primary\"><b>Комментарий студента:</b><br>   \n",
    "    ok   - display\n",
    "</div>"
   ]
  },
  {
   "cell_type": "markdown",
   "metadata": {},
   "source": [
    " - Посчитаем статистическую значимость различия в конверсии между группами."
   ]
  },
  {
   "cell_type": "markdown",
   "metadata": {},
   "source": [
    "Создадим переменные ordersByUsersA и ordersByUsersB со столбцами ['userId', 'orders']. В них для пользователей, которые заказывали хотя бы 1 раз, укажем число совершённых заказов."
   ]
  },
  {
   "cell_type": "code",
   "execution_count": 54,
   "metadata": {},
   "outputs": [],
   "source": [
    "ordersByUsersA = (\n",
    "    orders[orders['group'] == 'A']\n",
    "    .groupby('visitorId', as_index=False)\n",
    "    .agg({'transactionId': pd.Series.nunique})\n",
    ")\n",
    "ordersByUsersA.columns = ['userId', 'orders']\n",
    "\n",
    "ordersByUsersB = (\n",
    "    orders[orders['group'] == 'B']\n",
    "    .groupby('visitorId', as_index=False)\n",
    "    .agg({'transactionId': pd.Series.nunique})\n",
    ")\n",
    "ordersByUsersB.columns = ['userId', 'orders'] "
   ]
  },
  {
   "cell_type": "code",
   "execution_count": 55,
   "metadata": {},
   "outputs": [],
   "source": [
    "sampleA = pd.concat([ordersByUsersA['orders'],pd.Series(0, index=np.arange(data['visitorsPerDateA'].sum() - len(ordersByUsersA['orders'])), name='orders')],axis=0)\n",
    "\n",
    "sampleB = pd.concat([ordersByUsersB['orders'],pd.Series(0, index=np.arange(data['visitorsPerDateB'].sum() - len(ordersByUsersB['orders'])), name='orders')],axis=0)"
   ]
  },
  {
   "cell_type": "code",
   "execution_count": 56,
   "metadata": {},
   "outputs": [],
   "source": [
    "#print(\"{0:.3f}\".format(stats.mannwhitneyu(sampleA, sampleB)[1]))\n",
    "\n",
    "#print(\"{0:.3f}\".format(sampleB.mean() / sampleA.mean() - 1))"
   ]
  },
  {
   "cell_type": "markdown",
   "metadata": {},
   "source": [
    "<div class=\"alert alert-warning\"><b>Комментарий ревьюера</b>&nbsp;👀<br>\n",
    "Тут стоит пару слов сказать о том, почему ты используешь именно U-критерий Манна-Уитни.\n",
    "    \n",
    "🚫 Также — не стоит округлять p-value, оно очень редко равно нулю, если оно очень малое, то его стоит выводить в экспоненциальной записи с ограничением числа значимых цифр. \n",
    "</div><div class=\"alert alert-warning\"><b>Комментарий ревьюера</b>&nbsp;💡<br>\n",
    "В библиотеке scipy версии 1.8.0 (именно такая версия на платформе) в методе <tt>stats.mannwhitneyu</tt> уже стоит по умолчанию параметр <tt>alternative='two-sided'</tt>. Что он означает и подходит ли он для проводимого нами теста?\n",
    "</div>"
   ]
  },
  {
   "cell_type": "markdown",
   "metadata": {},
   "source": [
    "<div class=\"alert btn-primary\"><b>Комментарий студента:</b><br>   \n",
    "    - не стоит округлять p-value - ok, убрал ниже\n",
    "</div>"
   ]
  },
  {
   "cell_type": "markdown",
   "metadata": {},
   "source": [
    "<div class=\"alert btn-primary\"><b>Комментарий студента:</b><br>   \n",
    "    - про  U-критерий Манна-Уитни:  Главное отличие непараметрических методов в том, что они работают с рангами; Поэтому к ним прибегают тогда, когда работа с самими значениями невозможна из-за выбросов, сильно сдвигающих параметрические результаты. И у нас так и получается, есть выбросы по среднем чеков  в группе B\n",
    "</div>"
   ]
  },
  {
   "cell_type": "markdown",
   "metadata": {},
   "source": [
    "<div class=\"alert alert-success\"><b>Комментарий ревьюера 2</b>&nbsp;👍<br>\n",
    "Совершенно верно! Круто, что ты уверен в том, что делаешь и знаешь, почему ты это делаешь именно так!\n",
    "    \n",
    "Если вдруг p-value стало равно нулю - это повод перепроверить вычисления. Так бывает, но очень редко.\n",
    "</div>"
   ]
  },
  {
   "cell_type": "code",
   "execution_count": 57,
   "metadata": {},
   "outputs": [
    {
     "name": "stdout",
     "output_type": "stream",
     "text": [
      "0.016792355056752608\n",
      "0.138\n"
     ]
    }
   ],
   "source": [
    "print(stats.mannwhitneyu(sampleA, sampleB)[1])\n",
    "\n",
    "print(\"{0:.3f}\".format(sampleB.mean() / sampleA.mean() - 1))"
   ]
  },
  {
   "cell_type": "markdown",
   "metadata": {},
   "source": [
    "##### старый/ неправельный коментарии\n",
    "Вывод: По «сырым» данным различий в конверсии групп A и B нет.\n",
    "Первое число — p-value = 0.017 больше 0.01. Значит, нулевую гипотезу о том, что статистически значимых различий в конверсии между группами нет, не отвергаем. Однако относительный выигрыш группы B равен 13.8% — второе число в выводе."
   ]
  },
  {
   "cell_type": "markdown",
   "metadata": {},
   "source": [
    "<div class=\"alert alert-warning\"><b>Комментарий ревьюера</b>&nbsp;🚫<br>\n",
    "Настрой, пожалуйста, if-else для того, чтобы автоматически выводилась строка о том, отвергнута нулевая гипотеза или нет.\n",
    "</div>"
   ]
  },
  {
   "cell_type": "markdown",
   "metadata": {},
   "source": [
    "<div class=\"alert btn-primary\"><b>Комментарий студента:</b><br>   \n",
    "    - сделал ниже\n",
    "</div>"
   ]
  },
  {
   "cell_type": "code",
   "execution_count": 58,
   "metadata": {},
   "outputs": [],
   "source": [
    "alpha = 0.05"
   ]
  },
  {
   "cell_type": "code",
   "execution_count": 59,
   "metadata": {},
   "outputs": [],
   "source": [
    "p_value_order = stats.mannwhitneyu(sampleA, sampleB)[1]"
   ]
  },
  {
   "cell_type": "code",
   "execution_count": 60,
   "metadata": {},
   "outputs": [
    {
     "name": "stdout",
     "output_type": "stream",
     "text": [
      "Отвергаем нулевую гипотезу: разница статистически значима\n"
     ]
    }
   ],
   "source": [
    "if p_value_order < alpha:\n",
    "    print('Отвергаем нулевую гипотезу: разница статистически значима')\n",
    "else:\n",
    "    print(\n",
    "        'Не получилось отвергнуть нулевую гипотезу, вывод о различии сделать нельзя')"
   ]
  },
  {
   "cell_type": "markdown",
   "metadata": {},
   "source": [
    "<div class=\"alert btn-primary\"><b>Комментарий студента:</b><br>   \n",
    "    Я ошибся p_value_order < alpha, Отвергаем нулевую гипотезу -  различия в конверсии между группами значима\n",
    "</div>\n"
   ]
  },
  {
   "cell_type": "markdown",
   "metadata": {},
   "source": [
    "<div class=\"alert alert-success\"><b>Комментарий ревьюера 2&nbsp;<big>👍</big></b> да, именно к этому я и подводил</div>"
   ]
  },
  {
   "cell_type": "markdown",
   "metadata": {},
   "source": [
    "#### Посчитайте статистическую значимость различий в среднем чеке заказа между группами по «сырым» данным. Сделайте выводы и предположения."
   ]
  },
  {
   "cell_type": "code",
   "execution_count": 61,
   "metadata": {},
   "outputs": [
    {
     "name": "stdout",
     "output_type": "stream",
     "text": [
      "0.7292909855432458\n",
      "0.259\n"
     ]
    }
   ],
   "source": [
    "print(stats.mannwhitneyu(orders[orders['group']=='A']['revenue'], orders[orders['group']=='B']['revenue'])[1])\n",
    "print('{0:.3f}'.format(orders[orders['group']=='B']['revenue'].mean()/orders[orders['group']=='A']['revenue'].mean()-1)) "
   ]
  },
  {
   "cell_type": "markdown",
   "metadata": {},
   "source": [
    "Выводы: P-value значительно больше 0.01. Значит, причин отвергать нулевую гипотезу и считать, что в среднем чеке есть различия, нет. Впрочем, средний чек группы B значительно выше среднего чека группы A."
   ]
  },
  {
   "cell_type": "markdown",
   "metadata": {},
   "source": [
    "<div class=\"alert alert-warning\"><b>Комментарий ревьюера</b>&nbsp;🔧<br>\n",
    "Устрани, пожалуйста, противоречие в формулировке. Различие есть (средний чек одной из групп значительно выше) или различия нет?\n",
    "</div>"
   ]
  },
  {
   "cell_type": "markdown",
   "metadata": {},
   "source": [
    "<div class=\"alert btn-primary\"><b>Комментарий студента:</b><br>   \n",
    "    Выводы: P-value значительно больше 0.05. Значит нет причин отвергать нулевую гипотезу, различия нет. Впрочем, средний чек группы B значительно выше среднего чека группы A.\n",
    "</div>\n",
    "\n"
   ]
  },
  {
   "cell_type": "markdown",
   "metadata": {},
   "source": [
    "<div class=\"alert alert-warning\"><b>Комментарий ревьюера</b>&nbsp;⚠️<br>\n",
    "Так противоречие не устраняется. Можно сказать что <i>\"средний чек группы B значительно выше среднего чека группы A, однако <b>это статистически незначимое отличие</b> согласно проведённому нами тесту\"</i>\n",
    "</div>\n"
   ]
  },
  {
   "cell_type": "code",
   "execution_count": 62,
   "metadata": {},
   "outputs": [],
   "source": [
    "p_value_revenue = stats.mannwhitneyu(orders[orders['group']=='A']['revenue'], orders[orders['group']=='B']['revenue'])[1]"
   ]
  },
  {
   "cell_type": "code",
   "execution_count": 63,
   "metadata": {},
   "outputs": [
    {
     "name": "stdout",
     "output_type": "stream",
     "text": [
      "Не получилось отвергнуть нулевую гипотезу, вывод о различии сделать нельзя\n"
     ]
    }
   ],
   "source": [
    "if p_value_revenue < alpha:\n",
    "    print('Отвергаем нулевую гипотезу: разница статистически значима')\n",
    "else:\n",
    "    print(\n",
    "        'Не получилось отвергнуть нулевую гипотезу, вывод о различии сделать нельзя')"
   ]
  },
  {
   "cell_type": "markdown",
   "metadata": {},
   "source": [
    "#### айте статистическую значимость различий в конверсии между группами по «очищенным» данным. Сделайте выводы и предположения."
   ]
  },
  {
   "cell_type": "markdown",
   "metadata": {},
   "source": [
    " - нам нужно создовать табличку abnormalUsers"
   ]
  },
  {
   "cell_type": "markdown",
   "metadata": {},
   "source": [
    "Напомним, что найденные в прошлых уроках 95-й и 99-й перцентили средних чеков равны 28 000 и 58 233рублям. А 95-й и 99-й перцентили количества заказов на одного пользователя равны 2 и 4 заказа на пользователя."
   ]
  },
  {
   "cell_type": "markdown",
   "metadata": {},
   "source": [
    "Примем за аномальных пользователей тех, кто совершил от 3 заказов или совершил заказ дороже 30 000 рублей. Так мы уберём 5% пользователей с наибольшим числом заказов и от 1% до 5% пользователей с дорогими заказами. Сделаем срезы пользователей с числом заказов больше 2 — usersWithManyOrders и пользователей, совершивших заказы дороже 30 000 — usersWithExpensiveOrders. Объединим их в таблице abnormalUsers."
   ]
  },
  {
   "cell_type": "code",
   "execution_count": 64,
   "metadata": {},
   "outputs": [
    {
     "name": "stdout",
     "output_type": "stream",
     "text": [
      "1099    148427295\n",
      "18      199603092\n",
      "928     204675465\n",
      "23      237748145\n",
      "37      249864742\n",
      "dtype: int64\n",
      "68\n"
     ]
    }
   ],
   "source": [
    "usersWithManyOrders = pd.concat(\n",
    "    [\n",
    "        ordersByUsersA[ordersByUsersA['orders'] > 2]['userId'],\n",
    "        ordersByUsersB[ordersByUsersB['orders'] > 2]['userId'],\n",
    "    ],\n",
    "    axis=0,\n",
    ")\n",
    "usersWithExpensiveOrders = orders[orders['revenue'] > 30000]['visitorId']\n",
    "abnormalUsers = (\n",
    "    pd.concat([usersWithManyOrders, usersWithExpensiveOrders], axis=0)\n",
    "    .drop_duplicates()\n",
    "    .sort_values()\n",
    ")\n",
    "print(abnormalUsers.head(5))\n",
    "print(abnormalUsers.shape[0]) "
   ]
  },
  {
   "cell_type": "markdown",
   "metadata": {},
   "source": [
    "68 аномальных пользователей."
   ]
  },
  {
   "cell_type": "markdown",
   "metadata": {},
   "source": [
    " - Узнаем, как их действия повлияли на результаты теста."
   ]
  },
  {
   "cell_type": "code",
   "execution_count": 65,
   "metadata": {},
   "outputs": [
    {
     "name": "stdout",
     "output_type": "stream",
     "text": [
      "0.013342593737128651\n",
      "0.172\n"
     ]
    }
   ],
   "source": [
    "sampleAFiltered = pd.concat(\n",
    "    [\n",
    "        ordersByUsersA[\n",
    "            np.logical_not(ordersByUsersA['userId'].isin(abnormalUsers))\n",
    "        ]['orders'],\n",
    "        pd.Series(\n",
    "            0,\n",
    "            index=np.arange(\n",
    "                data['visitorsPerDateA'].sum() - len(ordersByUsersA['orders'])\n",
    "            ),\n",
    "            name='orders',\n",
    "        ),\n",
    "    ],\n",
    "    axis=0,\n",
    ")\n",
    "\n",
    "sampleBFiltered = pd.concat(\n",
    "    [\n",
    "        ordersByUsersB[\n",
    "            np.logical_not(ordersByUsersB['userId'].isin(abnormalUsers))\n",
    "        ]['orders'],\n",
    "        pd.Series(\n",
    "            0,\n",
    "            index=np.arange(\n",
    "                data['visitorsPerDateB'].sum() - len(ordersByUsersB['orders'])\n",
    "            ),\n",
    "            name='orders',\n",
    "        ),\n",
    "    ],\n",
    "    axis=0,\n",
    ") \n",
    "print(stats.mannwhitneyu(sampleAFiltered, sampleBFiltered)[1])\n",
    "print('{0:.3f}'.format(sampleBFiltered.mean()/sampleAFiltered.mean()-1)) "
   ]
  },
  {
   "cell_type": "markdown",
   "metadata": {},
   "source": [
    "вывод: Результаты по конверсии практически не изменились И остоется высше alpha. Однако относительный выигрыш группы B увеличивался на 3.4%"
   ]
  },
  {
   "cell_type": "markdown",
   "metadata": {},
   "source": [
    "<div class=\"alert alert-warning\"><b>Комментарий ревьюера</b>&nbsp;🔧<br>\n",
    "Мне не вполне ясен вывод по данному подпункту.\n",
    "</div>"
   ]
  },
  {
   "cell_type": "code",
   "execution_count": 66,
   "metadata": {},
   "outputs": [],
   "source": [
    "p_value_orders_filtered = stats.mannwhitneyu(sampleAFiltered, sampleBFiltered)[1]"
   ]
  },
  {
   "cell_type": "code",
   "execution_count": 67,
   "metadata": {},
   "outputs": [
    {
     "name": "stdout",
     "output_type": "stream",
     "text": [
      "Отвергаем нулевую гипотезу: разница статистически значима\n"
     ]
    }
   ],
   "source": [
    "if p_value_orders_filtered < alpha:\n",
    "    print('Отвергаем нулевую гипотезу: разница статистически значима')\n",
    "else:\n",
    "    print(\n",
    "        'Не получилось отвергнуть нулевую гипотезу, вывод о различии сделать нельзя')"
   ]
  },
  {
   "cell_type": "markdown",
   "metadata": {},
   "source": [
    "<div class=\"alert btn-primary\"><b>Комментарий студента:</b><br>   \n",
    "    Выводы: Результаты по конверсии практически не изменились, p_value_orders_filtered< alpha, разница по конверсии между груп A и B статистически значима\n",
    "</div>\n",
    "\n"
   ]
  },
  {
   "cell_type": "markdown",
   "metadata": {},
   "source": [
    "<div class=\"alert alert-success\"><b>Комментарий ревьюера 2&nbsp;<big>✔️</big></b></div>"
   ]
  },
  {
   "cell_type": "markdown",
   "metadata": {},
   "source": [
    "#### Посчитайте статистическую значимость различий в среднем чеке заказа между группами по «очищенным» данным. Сделайте выводы и предположения."
   ]
  },
  {
   "cell_type": "code",
   "execution_count": 68,
   "metadata": {},
   "outputs": [
    {
     "name": "stdout",
     "output_type": "stream",
     "text": [
      "0.720\n",
      "-0.023\n"
     ]
    }
   ],
   "source": [
    "print(\n",
    "    '{0:.3f}'.format(\n",
    "        stats.mannwhitneyu(\n",
    "            orders[\n",
    "                np.logical_and(\n",
    "                    orders['group'] == 'A',\n",
    "                    np.logical_not(orders['visitorId'].isin(abnormalUsers)),\n",
    "                )\n",
    "            ]['revenue'],\n",
    "            orders[\n",
    "                np.logical_and(\n",
    "                    orders['group'] == 'B',\n",
    "                    np.logical_not(orders['visitorId'].isin(abnormalUsers)),\n",
    "                )\n",
    "            ]['revenue'],\n",
    "        )[1]\n",
    "    )\n",
    ")\n",
    "\n",
    "print(\n",
    "    \"{0:.3f}\".format(\n",
    "        orders[\n",
    "            np.logical_and(\n",
    "                orders['group'] == 'B',\n",
    "                np.logical_not(orders['visitorId'].isin(abnormalUsers)),\n",
    "            )\n",
    "        ]['revenue'].mean()\n",
    "        / orders[\n",
    "            np.logical_and(\n",
    "                orders['group'] == 'A',\n",
    "                np.logical_not(orders['visitorId'].isin(abnormalUsers)),\n",
    "            )\n",
    "        ]['revenue'].mean()\n",
    "        - 1\n",
    "    )\n",
    ") "
   ]
  },
  {
   "cell_type": "markdown",
   "metadata": {},
   "source": [
    " P-value значительно больше 0.05, и остоется на тоджем уровне, в районе 72%. Значит, причин отвергать нулевую гипотезу и считать, что в среднем чеке есть различия, нет. Но вот средний чек группы B значительно изменился между группами A и B по «очищенным» данным и средний чек ноуппы B стал ниже среднего чека группы A, то что мы не видели анализипуя группы с сырыми данными."
   ]
  },
  {
   "cell_type": "markdown",
   "metadata": {},
   "source": [
    "<div class=\"alert alert-success\"><b>Комментарий ревьюера&nbsp;<big>✔️</big></b></div>"
   ]
  },
  {
   "cell_type": "markdown",
   "metadata": {},
   "source": [
    "#### Примите решение по результатам теста и объясните его. Варианты решений: 1. Остановить тест, зафиксировать победу одной из групп. 2. Остановить тест, зафиксировать отсутствие различий между группами. 3. Продолжить тест."
   ]
  },
  {
   "cell_type": "markdown",
   "metadata": {},
   "source": [
    "Имеющиеся факты:\n",
    "- Нет статистически значимого различия по конверсии между группами ни по «сырым», ни по данным после фильтрации аномалий;\n",
    "- Есть статистически значимого различия по среднему чеку между группами ни по «сырым», и по данным после фильтрации аномалий;\n",
    "- График различия конверсии между группами сообщает, что результаты группы B лучше группы A с росстцущий тенденции ;\n",
    "- График различия среднего чека говорит о том, что результаты группы B выглядят лучше за счет аномалии,но фильтруя их (очень дорогие заказы), средний чек группе B стоновится на 2.3 % хуже."
   ]
  },
  {
   "cell_type": "markdown",
   "metadata": {},
   "source": [
    "<div class=\"alert alert-warning\"><b>Комментарий ревьюера</b>&nbsp;🔧<br>\n",
    "Уточни пожалуйста, есть статистически значимое различие, как ты говоришь сейчас, или нет статистически значимого различия по среднему чеку (как следует из расчётов выше). Также проверь свои расчёты и выводы по конверсии.\n",
    "</div>"
   ]
  },
  {
   "cell_type": "markdown",
   "metadata": {},
   "source": [
    "<div class=\"alert btn-primary\"><b>Комментарий студента:</b><br>   \n",
    "    Я ошибся, ниже исправил:\n",
    "</div>"
   ]
  },
  {
   "cell_type": "markdown",
   "metadata": {},
   "source": [
    "Имеющиеся факты:\n",
    "- Есть статистически значимого различия по конверсии между группами и по «сырым», и по данным после фильтрации аномалий;\n",
    "- НЕТ статистически значимого различия по среднему чеку между группами ни по «сырым», ни по данным после фильтрации аномалий;\n",
    "- График различия конверсии между группами сообщает, что результаты группы B лучше группы A с росстцущий тенденции ;\n",
    "- График различия среднего чека говорит о том, что результаты группы B выглядят лучше за счет аномалии,но фильтруя их (очень дорогидх заказов), средний чек группе B стоновится на 2.3 % хуже."
   ]
  },
  {
   "cell_type": "markdown",
   "metadata": {},
   "source": [
    "Вывод: Исходя из обнаруженных фактов, тест следует продолжать. Продолжать есть смысэл, потому как вероятность, что при имеющихся данных сегмент B лучше сегмента A — маленкая, так как конверсия между групами остоется практически без изменения ( даже чуть усиливается по очищенным данными) а вот средний чек стоновится чуть ниже у группы A сравня с группой B -  по очищенным данными; \n",
    "    Так как конверсия у группы B выше с тендении роста, но при этом средний чек ниже, вероятность что сегмент B на самом деле лучше сегмента A не может быть определена при имеющихся данных.  "
   ]
  },
  {
   "cell_type": "markdown",
   "metadata": {},
   "source": [
    "<div class=\"alert alert-warning\"><b>Комментарий ревьюера</b>&nbsp;🔧<br>\n",
    "Укажи, пожалуйста, в течении какого периода ещё нам необходимо продолжать тест, если такое твоё решение по данному заданию.\n",
    "</div>"
   ]
  },
  {
   "cell_type": "markdown",
   "metadata": {},
   "source": [
    "<div class=\"alert btn-primary\"><b>Комментарий студента:</b><br>   \n",
    "    после того как исправил ошибки , я думаю что можно остоновить тест и сказать что сегмент B  лучше чем  сегмент A в целом. Но при этом учесть, что если убрать часть дорогих заказов то средний чек группе B стоновится ниже среднего чека групе A. Но в тоже время, конверсия в групе B лучше и это ввидно по выручке тоже. \n",
    "</div>"
   ]
  },
  {
   "cell_type": "markdown",
   "metadata": {},
   "source": [
    "<div class=\"alert alert-success\"><b>Комментарий ревьюера 2&nbsp;<big>👍</big></b> это верный итоговый вывод!</div>"
   ]
  },
  {
   "cell_type": "markdown",
   "metadata": {},
   "source": [
    "<div class=\"alert alert-warning\"><b>Комментарий ревьюера</b>&nbsp;📌<br>Чек-лист доделок:\n",
    "    \n",
    "* [ ] провести подготовку данных для АБ-тестов\n",
    "* [ ] подписать графики и разместить линии поддержки в значимых местах\n",
    "* [ ] построить дополнительный точечный график стоимостей заказов\n",
    "* [ ] пояснить целесообразность расчёта кумулятивных данных\n",
    "* [ ] пояснить почему выбран именно этот статистический критерий\n",
    "* [ ] не округлять p-value\n",
    "* [ ] настроить автоматическое сравнение p-value и уровня значимости с выводом результатов\n",
    "* [ ] уточнить, есть ли по сырым данным различие в среднем чеке или его нет\n",
    "* [ ] уточнить выводы по конверсии \n",
    "* [ ] ответить на вопрос в течении какого периода стоит продолжать тест, если его стоит продолжать\n",
    "</div>"
   ]
  },
  {
   "cell_type": "markdown",
   "metadata": {},
   "source": [
    "![Молодец](https://i.gifer.com/embedded/download/EbNG.gif \"Молодец!\")"
   ]
  }
 ],
 "metadata": {
  "ExecuteTimeLog": [
   {
    "duration": 422,
    "start_time": "2022-06-14T08:20:41.955Z"
   },
   {
    "duration": 381,
    "start_time": "2022-06-14T08:23:15.115Z"
   },
   {
    "duration": 61,
    "start_time": "2022-06-14T08:23:39.457Z"
   },
   {
    "duration": 66,
    "start_time": "2022-06-14T08:23:47.828Z"
   },
   {
    "duration": 11,
    "start_time": "2022-06-14T08:23:50.444Z"
   },
   {
    "duration": 7,
    "start_time": "2022-06-14T08:24:04.436Z"
   },
   {
    "duration": 7,
    "start_time": "2022-06-14T08:24:54.739Z"
   },
   {
    "duration": 7,
    "start_time": "2022-06-14T08:25:28.974Z"
   },
   {
    "duration": 8,
    "start_time": "2022-06-14T08:52:30.454Z"
   },
   {
    "duration": 3,
    "start_time": "2022-06-14T08:52:35.589Z"
   },
   {
    "duration": 20,
    "start_time": "2022-06-14T08:52:43.216Z"
   },
   {
    "duration": 9,
    "start_time": "2022-06-14T08:52:49.123Z"
   },
   {
    "duration": 4,
    "start_time": "2022-06-14T08:53:37.490Z"
   },
   {
    "duration": 9,
    "start_time": "2022-06-14T08:53:39.240Z"
   },
   {
    "duration": 12,
    "start_time": "2022-06-14T08:54:43.888Z"
   },
   {
    "duration": 14,
    "start_time": "2022-06-14T08:54:50.488Z"
   },
   {
    "duration": 11,
    "start_time": "2022-06-14T08:55:00.413Z"
   },
   {
    "duration": 4,
    "start_time": "2022-06-14T08:56:42.776Z"
   },
   {
    "duration": 4,
    "start_time": "2022-06-14T08:57:32.475Z"
   },
   {
    "duration": 3,
    "start_time": "2022-06-14T09:06:05.389Z"
   },
   {
    "duration": 97,
    "start_time": "2022-06-14T09:06:48.229Z"
   },
   {
    "duration": 64,
    "start_time": "2022-06-14T09:07:05.377Z"
   },
   {
    "duration": 17,
    "start_time": "2022-06-14T09:07:18.501Z"
   },
   {
    "duration": 9,
    "start_time": "2022-06-14T09:07:18.622Z"
   },
   {
    "duration": 31,
    "start_time": "2022-06-14T11:08:51.807Z"
   },
   {
    "duration": 116,
    "start_time": "2022-06-14T11:08:58.757Z"
   },
   {
    "duration": 2,
    "start_time": "2022-06-14T11:09:53.460Z"
   },
   {
    "duration": 10,
    "start_time": "2022-06-14T11:09:57.206Z"
   },
   {
    "duration": 127,
    "start_time": "2022-06-14T11:10:14.184Z"
   },
   {
    "duration": 28,
    "start_time": "2022-06-14T11:10:39.483Z"
   },
   {
    "duration": 7,
    "start_time": "2022-06-14T11:10:42.296Z"
   },
   {
    "duration": 125,
    "start_time": "2022-06-14T11:10:52.230Z"
   },
   {
    "duration": 3,
    "start_time": "2022-06-14T11:11:16.466Z"
   },
   {
    "duration": 12,
    "start_time": "2022-06-14T11:11:21.659Z"
   },
   {
    "duration": 9,
    "start_time": "2022-06-14T11:11:30.204Z"
   },
   {
    "duration": 5,
    "start_time": "2022-06-14T11:20:18.491Z"
   },
   {
    "duration": 6,
    "start_time": "2022-06-14T11:20:29.314Z"
   },
   {
    "duration": 25,
    "start_time": "2022-06-14T11:21:11.583Z"
   },
   {
    "duration": 158,
    "start_time": "2022-06-14T11:23:14.067Z"
   },
   {
    "duration": 157,
    "start_time": "2022-06-14T11:23:44.981Z"
   },
   {
    "duration": 158,
    "start_time": "2022-06-14T11:24:16.492Z"
   },
   {
    "duration": 26,
    "start_time": "2022-06-14T11:24:57.176Z"
   },
   {
    "duration": 11,
    "start_time": "2022-06-14T11:24:57.331Z"
   },
   {
    "duration": 9,
    "start_time": "2022-06-14T11:25:01.454Z"
   },
   {
    "duration": 5,
    "start_time": "2022-06-14T11:25:07.166Z"
   },
   {
    "duration": 255,
    "start_time": "2022-06-14T11:25:23.599Z"
   },
   {
    "duration": 121,
    "start_time": "2022-06-14T11:25:40.205Z"
   },
   {
    "duration": 4,
    "start_time": "2022-06-14T11:25:40.366Z"
   },
   {
    "duration": 253,
    "start_time": "2022-06-14T11:25:42.016Z"
   },
   {
    "duration": 549,
    "start_time": "2022-06-14T11:26:23.681Z"
   },
   {
    "duration": 26,
    "start_time": "2022-06-14T11:26:24.232Z"
   },
   {
    "duration": 27,
    "start_time": "2022-06-14T11:26:24.261Z"
   },
   {
    "duration": 7,
    "start_time": "2022-06-14T11:26:24.289Z"
   },
   {
    "duration": 7,
    "start_time": "2022-06-14T11:26:24.297Z"
   },
   {
    "duration": 12,
    "start_time": "2022-06-14T11:26:24.305Z"
   },
   {
    "duration": 4,
    "start_time": "2022-06-14T11:26:24.318Z"
   },
   {
    "duration": 11,
    "start_time": "2022-06-14T11:26:24.324Z"
   },
   {
    "duration": 37,
    "start_time": "2022-06-14T11:26:24.336Z"
   },
   {
    "duration": 14,
    "start_time": "2022-06-14T11:26:24.374Z"
   },
   {
    "duration": 10,
    "start_time": "2022-06-14T11:26:24.389Z"
   },
   {
    "duration": 10,
    "start_time": "2022-06-14T11:26:24.400Z"
   },
   {
    "duration": 12,
    "start_time": "2022-06-14T11:26:24.411Z"
   },
   {
    "duration": 78,
    "start_time": "2022-06-14T11:26:24.424Z"
   },
   {
    "duration": 0,
    "start_time": "2022-06-14T11:26:24.503Z"
   },
   {
    "duration": 4,
    "start_time": "2022-06-14T11:26:33.402Z"
   },
   {
    "duration": 19,
    "start_time": "2022-06-14T11:26:35.932Z"
   },
   {
    "duration": 15,
    "start_time": "2022-06-14T11:26:36.129Z"
   },
   {
    "duration": 160,
    "start_time": "2022-06-14T11:26:36.350Z"
   },
   {
    "duration": 549,
    "start_time": "2022-06-14T11:26:55.475Z"
   },
   {
    "duration": 26,
    "start_time": "2022-06-14T11:26:56.026Z"
   },
   {
    "duration": 10,
    "start_time": "2022-06-14T11:26:56.053Z"
   },
   {
    "duration": 2,
    "start_time": "2022-06-14T11:26:56.065Z"
   },
   {
    "duration": 6,
    "start_time": "2022-06-14T11:26:56.069Z"
   },
   {
    "duration": 9,
    "start_time": "2022-06-14T11:26:56.076Z"
   },
   {
    "duration": 6,
    "start_time": "2022-06-14T11:26:56.086Z"
   },
   {
    "duration": 10,
    "start_time": "2022-06-14T11:26:56.094Z"
   },
   {
    "duration": 37,
    "start_time": "2022-06-14T11:26:56.106Z"
   },
   {
    "duration": 14,
    "start_time": "2022-06-14T11:26:56.145Z"
   },
   {
    "duration": 11,
    "start_time": "2022-06-14T11:26:56.161Z"
   },
   {
    "duration": 10,
    "start_time": "2022-06-14T11:26:56.173Z"
   },
   {
    "duration": 12,
    "start_time": "2022-06-14T11:26:56.184Z"
   },
   {
    "duration": 6,
    "start_time": "2022-06-14T11:26:56.197Z"
   },
   {
    "duration": 224,
    "start_time": "2022-06-14T11:26:56.204Z"
   },
   {
    "duration": 505,
    "start_time": "2022-06-14T11:27:28.119Z"
   },
   {
    "duration": 25,
    "start_time": "2022-06-14T11:27:28.626Z"
   },
   {
    "duration": 10,
    "start_time": "2022-06-14T11:27:28.652Z"
   },
   {
    "duration": 3,
    "start_time": "2022-06-14T11:27:28.663Z"
   },
   {
    "duration": 6,
    "start_time": "2022-06-14T11:27:28.668Z"
   },
   {
    "duration": 9,
    "start_time": "2022-06-14T11:27:28.675Z"
   },
   {
    "duration": 3,
    "start_time": "2022-06-14T11:27:28.691Z"
   },
   {
    "duration": 14,
    "start_time": "2022-06-14T11:27:28.695Z"
   },
   {
    "duration": 37,
    "start_time": "2022-06-14T11:27:28.710Z"
   },
   {
    "duration": 14,
    "start_time": "2022-06-14T11:27:28.749Z"
   },
   {
    "duration": 10,
    "start_time": "2022-06-14T11:27:28.764Z"
   },
   {
    "duration": 8,
    "start_time": "2022-06-14T11:27:28.775Z"
   },
   {
    "duration": 4,
    "start_time": "2022-06-14T11:27:28.784Z"
   },
   {
    "duration": 3,
    "start_time": "2022-06-14T11:27:28.790Z"
   },
   {
    "duration": 211,
    "start_time": "2022-06-14T11:27:28.795Z"
   },
   {
    "duration": 243,
    "start_time": "2022-06-14T11:28:19.968Z"
   },
   {
    "duration": 11,
    "start_time": "2022-06-14T11:29:12.774Z"
   },
   {
    "duration": 4,
    "start_time": "2022-06-14T11:29:14.153Z"
   },
   {
    "duration": 250,
    "start_time": "2022-06-14T11:29:17.278Z"
   },
   {
    "duration": 579,
    "start_time": "2022-06-14T11:29:26.697Z"
   },
   {
    "duration": 25,
    "start_time": "2022-06-14T11:29:27.278Z"
   },
   {
    "duration": 12,
    "start_time": "2022-06-14T11:29:27.304Z"
   },
   {
    "duration": 31,
    "start_time": "2022-06-14T11:29:27.317Z"
   },
   {
    "duration": 25,
    "start_time": "2022-06-14T11:29:27.350Z"
   },
   {
    "duration": 31,
    "start_time": "2022-06-14T11:29:27.376Z"
   },
   {
    "duration": 28,
    "start_time": "2022-06-14T11:29:27.408Z"
   },
   {
    "duration": 32,
    "start_time": "2022-06-14T11:29:27.437Z"
   },
   {
    "duration": 80,
    "start_time": "2022-06-14T11:29:27.470Z"
   },
   {
    "duration": 14,
    "start_time": "2022-06-14T11:29:27.552Z"
   },
   {
    "duration": 11,
    "start_time": "2022-06-14T11:29:27.567Z"
   },
   {
    "duration": 34,
    "start_time": "2022-06-14T11:29:27.580Z"
   },
   {
    "duration": 38,
    "start_time": "2022-06-14T11:29:27.616Z"
   },
   {
    "duration": 18,
    "start_time": "2022-06-14T11:29:27.657Z"
   },
   {
    "duration": 275,
    "start_time": "2022-06-14T11:29:27.676Z"
   },
   {
    "duration": 254,
    "start_time": "2022-06-14T11:33:16.146Z"
   },
   {
    "duration": 253,
    "start_time": "2022-06-14T11:36:05.755Z"
   },
   {
    "duration": 8,
    "start_time": "2022-06-14T11:36:37.842Z"
   },
   {
    "duration": 12,
    "start_time": "2022-06-14T11:37:10.402Z"
   },
   {
    "duration": 584,
    "start_time": "2022-06-14T11:37:19.411Z"
   },
   {
    "duration": 10,
    "start_time": "2022-06-14T11:37:33.277Z"
   },
   {
    "duration": 11,
    "start_time": "2022-06-14T11:37:42.068Z"
   },
   {
    "duration": 10,
    "start_time": "2022-06-14T11:37:52.068Z"
   },
   {
    "duration": 161,
    "start_time": "2022-06-14T11:39:13.941Z"
   },
   {
    "duration": 292,
    "start_time": "2022-06-14T11:42:01.069Z"
   },
   {
    "duration": 230,
    "start_time": "2022-06-14T11:48:31.849Z"
   },
   {
    "duration": 164,
    "start_time": "2022-06-14T11:49:25.807Z"
   },
   {
    "duration": 170,
    "start_time": "2022-06-14T11:50:26.350Z"
   },
   {
    "duration": 183,
    "start_time": "2022-06-14T11:51:13.183Z"
   },
   {
    "duration": 6,
    "start_time": "2022-06-14T11:51:55.274Z"
   },
   {
    "duration": 194,
    "start_time": "2022-06-14T11:52:07.093Z"
   },
   {
    "duration": 8,
    "start_time": "2022-06-14T11:52:20.045Z"
   },
   {
    "duration": 6,
    "start_time": "2022-06-14T11:52:23.688Z"
   },
   {
    "duration": 174,
    "start_time": "2022-06-14T11:52:55.745Z"
   },
   {
    "duration": 158,
    "start_time": "2022-06-14T11:54:29.859Z"
   },
   {
    "duration": 112,
    "start_time": "2022-06-14T11:54:41.532Z"
   },
   {
    "duration": 572,
    "start_time": "2022-06-14T11:54:57.776Z"
   },
   {
    "duration": 28,
    "start_time": "2022-06-14T11:54:58.350Z"
   },
   {
    "duration": 11,
    "start_time": "2022-06-14T11:54:58.379Z"
   },
   {
    "duration": 3,
    "start_time": "2022-06-14T11:54:58.391Z"
   },
   {
    "duration": 7,
    "start_time": "2022-06-14T11:54:58.396Z"
   },
   {
    "duration": 12,
    "start_time": "2022-06-14T11:54:58.404Z"
   },
   {
    "duration": 5,
    "start_time": "2022-06-14T11:54:58.417Z"
   },
   {
    "duration": 11,
    "start_time": "2022-06-14T11:54:58.424Z"
   },
   {
    "duration": 37,
    "start_time": "2022-06-14T11:54:58.437Z"
   },
   {
    "duration": 15,
    "start_time": "2022-06-14T11:54:58.475Z"
   },
   {
    "duration": 11,
    "start_time": "2022-06-14T11:54:58.491Z"
   },
   {
    "duration": 10,
    "start_time": "2022-06-14T11:54:58.504Z"
   },
   {
    "duration": 11,
    "start_time": "2022-06-14T11:54:58.516Z"
   },
   {
    "duration": 5,
    "start_time": "2022-06-14T11:54:58.530Z"
   },
   {
    "duration": 279,
    "start_time": "2022-06-14T11:54:58.537Z"
   },
   {
    "duration": 82,
    "start_time": "2022-06-14T11:54:58.818Z"
   },
   {
    "duration": 0,
    "start_time": "2022-06-14T11:54:58.902Z"
   },
   {
    "duration": 0,
    "start_time": "2022-06-14T11:54:58.903Z"
   },
   {
    "duration": 0,
    "start_time": "2022-06-14T11:54:58.905Z"
   },
   {
    "duration": 0,
    "start_time": "2022-06-14T11:54:58.906Z"
   },
   {
    "duration": 0,
    "start_time": "2022-06-14T11:54:58.907Z"
   },
   {
    "duration": 0,
    "start_time": "2022-06-14T11:54:58.908Z"
   },
   {
    "duration": 0,
    "start_time": "2022-06-14T11:54:58.909Z"
   },
   {
    "duration": 47,
    "start_time": "2022-06-14T11:55:53.966Z"
   },
   {
    "duration": 49,
    "start_time": "2022-06-14T11:55:54.014Z"
   },
   {
    "duration": 7,
    "start_time": "2022-06-14T11:55:54.065Z"
   },
   {
    "duration": 23,
    "start_time": "2022-06-14T11:55:54.073Z"
   },
   {
    "duration": 14,
    "start_time": "2022-06-14T11:55:54.099Z"
   },
   {
    "duration": 48,
    "start_time": "2022-06-14T11:55:54.114Z"
   },
   {
    "duration": 22,
    "start_time": "2022-06-14T11:55:54.163Z"
   },
   {
    "duration": 24,
    "start_time": "2022-06-14T11:55:54.187Z"
   },
   {
    "duration": 50,
    "start_time": "2022-06-14T11:55:54.212Z"
   },
   {
    "duration": 14,
    "start_time": "2022-06-14T11:55:54.263Z"
   },
   {
    "duration": 11,
    "start_time": "2022-06-14T11:55:54.279Z"
   },
   {
    "duration": 26,
    "start_time": "2022-06-14T11:55:54.291Z"
   },
   {
    "duration": 10,
    "start_time": "2022-06-14T11:55:54.318Z"
   },
   {
    "duration": 20,
    "start_time": "2022-06-14T11:55:54.329Z"
   },
   {
    "duration": 275,
    "start_time": "2022-06-14T11:55:54.351Z"
   },
   {
    "duration": 2,
    "start_time": "2022-06-14T11:55:54.628Z"
   },
   {
    "duration": 16,
    "start_time": "2022-06-14T11:55:54.631Z"
   },
   {
    "duration": 236,
    "start_time": "2022-06-14T11:55:54.648Z"
   },
   {
    "duration": 220,
    "start_time": "2022-06-14T11:55:54.885Z"
   },
   {
    "duration": 306,
    "start_time": "2022-06-14T11:55:55.106Z"
   },
   {
    "duration": 235,
    "start_time": "2022-06-14T11:55:55.414Z"
   },
   {
    "duration": 6,
    "start_time": "2022-06-14T11:55:55.650Z"
   },
   {
    "duration": 11,
    "start_time": "2022-06-14T11:55:55.657Z"
   },
   {
    "duration": 228,
    "start_time": "2022-06-14T11:56:16.446Z"
   },
   {
    "duration": 299,
    "start_time": "2022-06-14T11:58:29.228Z"
   },
   {
    "duration": 318,
    "start_time": "2022-06-14T11:58:42.141Z"
   },
   {
    "duration": 317,
    "start_time": "2022-06-14T11:58:52.913Z"
   },
   {
    "duration": 9,
    "start_time": "2022-06-14T11:59:06.304Z"
   },
   {
    "duration": 693,
    "start_time": "2022-06-14T15:27:19.831Z"
   },
   {
    "duration": 74,
    "start_time": "2022-06-14T15:27:20.526Z"
   },
   {
    "duration": 11,
    "start_time": "2022-06-14T15:27:20.601Z"
   },
   {
    "duration": 5,
    "start_time": "2022-06-14T15:27:20.614Z"
   },
   {
    "duration": 9,
    "start_time": "2022-06-14T15:27:20.621Z"
   },
   {
    "duration": 10,
    "start_time": "2022-06-14T15:27:20.632Z"
   },
   {
    "duration": 8,
    "start_time": "2022-06-14T15:27:20.644Z"
   },
   {
    "duration": 14,
    "start_time": "2022-06-14T15:27:20.653Z"
   },
   {
    "duration": 80,
    "start_time": "2022-06-14T15:27:20.668Z"
   },
   {
    "duration": 60,
    "start_time": "2022-06-14T15:27:20.750Z"
   },
   {
    "duration": 11,
    "start_time": "2022-06-14T15:27:20.811Z"
   },
   {
    "duration": 13,
    "start_time": "2022-06-14T15:27:20.824Z"
   },
   {
    "duration": 6,
    "start_time": "2022-06-14T15:27:20.838Z"
   },
   {
    "duration": 7,
    "start_time": "2022-06-14T15:27:20.845Z"
   },
   {
    "duration": 232,
    "start_time": "2022-06-14T15:27:20.853Z"
   },
   {
    "duration": 8,
    "start_time": "2022-06-14T15:27:21.087Z"
   },
   {
    "duration": 12,
    "start_time": "2022-06-14T15:27:21.097Z"
   },
   {
    "duration": 239,
    "start_time": "2022-06-14T15:27:21.111Z"
   },
   {
    "duration": 228,
    "start_time": "2022-06-14T15:27:21.351Z"
   },
   {
    "duration": 370,
    "start_time": "2022-06-14T15:27:21.581Z"
   },
   {
    "duration": 243,
    "start_time": "2022-06-14T15:27:21.953Z"
   },
   {
    "duration": 385,
    "start_time": "2022-06-14T15:27:22.197Z"
   },
   {
    "duration": 17,
    "start_time": "2022-06-14T15:27:22.584Z"
   },
   {
    "duration": 11,
    "start_time": "2022-06-14T15:41:17.567Z"
   },
   {
    "duration": 32,
    "start_time": "2022-06-14T15:43:11.736Z"
   },
   {
    "duration": 65,
    "start_time": "2022-06-14T15:43:24.208Z"
   },
   {
    "duration": 6,
    "start_time": "2022-06-14T15:43:28.143Z"
   },
   {
    "duration": 8,
    "start_time": "2022-06-14T15:43:54.030Z"
   },
   {
    "duration": 3,
    "start_time": "2022-06-14T15:44:07.110Z"
   },
   {
    "duration": 5,
    "start_time": "2022-06-14T15:44:52.474Z"
   },
   {
    "duration": 111,
    "start_time": "2022-06-14T15:45:16.332Z"
   },
   {
    "duration": 6,
    "start_time": "2022-06-14T15:46:10.371Z"
   },
   {
    "duration": 3,
    "start_time": "2022-06-14T15:46:12.803Z"
   },
   {
    "duration": 5,
    "start_time": "2022-06-14T15:46:13.160Z"
   },
   {
    "duration": 120,
    "start_time": "2022-06-14T15:46:14.493Z"
   },
   {
    "duration": 11,
    "start_time": "2022-06-14T15:47:50.696Z"
   },
   {
    "duration": 3,
    "start_time": "2022-06-14T15:48:14.528Z"
   },
   {
    "duration": 99,
    "start_time": "2022-06-14T15:48:34.310Z"
   },
   {
    "duration": 4,
    "start_time": "2022-06-14T15:54:00.682Z"
   },
   {
    "duration": 11,
    "start_time": "2022-06-14T15:55:20.570Z"
   },
   {
    "duration": 7,
    "start_time": "2022-06-14T15:55:23.898Z"
   },
   {
    "duration": 8,
    "start_time": "2022-06-14T15:55:28.602Z"
   },
   {
    "duration": 9,
    "start_time": "2022-06-14T15:55:31.422Z"
   },
   {
    "duration": 7,
    "start_time": "2022-06-14T15:55:51.066Z"
   },
   {
    "duration": 6,
    "start_time": "2022-06-14T15:56:08.795Z"
   },
   {
    "duration": 112,
    "start_time": "2022-06-14T15:56:22.115Z"
   },
   {
    "duration": 7,
    "start_time": "2022-06-14T15:56:53.219Z"
   },
   {
    "duration": 5,
    "start_time": "2022-06-14T15:58:28.841Z"
   },
   {
    "duration": 10,
    "start_time": "2022-06-14T15:58:48.780Z"
   },
   {
    "duration": 108,
    "start_time": "2022-06-14T16:00:01.041Z"
   },
   {
    "duration": 5,
    "start_time": "2022-06-14T16:00:31.648Z"
   },
   {
    "duration": 32,
    "start_time": "2022-06-14T16:01:25.280Z"
   },
   {
    "duration": 5,
    "start_time": "2022-06-14T16:01:32.940Z"
   },
   {
    "duration": 7,
    "start_time": "2022-06-14T16:01:39.121Z"
   },
   {
    "duration": 5,
    "start_time": "2022-06-14T16:03:47.064Z"
   },
   {
    "duration": 5,
    "start_time": "2022-06-14T16:03:50.869Z"
   },
   {
    "duration": 5,
    "start_time": "2022-06-14T19:06:14.130Z"
   },
   {
    "duration": 39,
    "start_time": "2022-06-14T19:06:44.672Z"
   },
   {
    "duration": 47,
    "start_time": "2022-06-14T19:07:03.826Z"
   },
   {
    "duration": 61,
    "start_time": "2022-06-14T19:07:17.583Z"
   },
   {
    "duration": 46,
    "start_time": "2022-06-14T19:07:23.545Z"
   },
   {
    "duration": 42,
    "start_time": "2022-06-14T19:07:26.539Z"
   },
   {
    "duration": 4,
    "start_time": "2022-06-14T19:08:17.629Z"
   },
   {
    "duration": 8,
    "start_time": "2022-06-14T19:08:21.835Z"
   },
   {
    "duration": 759,
    "start_time": "2022-06-15T07:09:57.311Z"
   },
   {
    "duration": 71,
    "start_time": "2022-06-15T07:09:58.072Z"
   },
   {
    "duration": 12,
    "start_time": "2022-06-15T07:09:58.145Z"
   },
   {
    "duration": 4,
    "start_time": "2022-06-15T07:09:58.159Z"
   },
   {
    "duration": 8,
    "start_time": "2022-06-15T07:09:58.165Z"
   },
   {
    "duration": 10,
    "start_time": "2022-06-15T07:09:58.175Z"
   },
   {
    "duration": 8,
    "start_time": "2022-06-15T07:09:58.187Z"
   },
   {
    "duration": 34,
    "start_time": "2022-06-15T07:09:58.197Z"
   },
   {
    "duration": 76,
    "start_time": "2022-06-15T07:09:58.233Z"
   },
   {
    "duration": 58,
    "start_time": "2022-06-15T07:09:58.312Z"
   },
   {
    "duration": 12,
    "start_time": "2022-06-15T07:09:58.371Z"
   },
   {
    "duration": 11,
    "start_time": "2022-06-15T07:09:58.384Z"
   },
   {
    "duration": 7,
    "start_time": "2022-06-15T07:09:58.397Z"
   },
   {
    "duration": 6,
    "start_time": "2022-06-15T07:09:58.406Z"
   },
   {
    "duration": 238,
    "start_time": "2022-06-15T07:09:58.413Z"
   },
   {
    "duration": 2,
    "start_time": "2022-06-15T07:09:58.653Z"
   },
   {
    "duration": 15,
    "start_time": "2022-06-15T07:09:58.656Z"
   },
   {
    "duration": 297,
    "start_time": "2022-06-15T07:09:58.672Z"
   },
   {
    "duration": 244,
    "start_time": "2022-06-15T07:09:58.971Z"
   },
   {
    "duration": 388,
    "start_time": "2022-06-15T07:09:59.217Z"
   },
   {
    "duration": 269,
    "start_time": "2022-06-15T07:09:59.607Z"
   },
   {
    "duration": 426,
    "start_time": "2022-06-15T07:09:59.878Z"
   },
   {
    "duration": 20,
    "start_time": "2022-06-15T07:10:00.306Z"
   },
   {
    "duration": 14,
    "start_time": "2022-06-15T07:10:00.328Z"
   },
   {
    "duration": 8,
    "start_time": "2022-06-15T07:10:00.344Z"
   },
   {
    "duration": 10,
    "start_time": "2022-06-15T07:10:00.354Z"
   },
   {
    "duration": 21,
    "start_time": "2022-06-15T07:10:00.366Z"
   },
   {
    "duration": 147,
    "start_time": "2022-06-15T07:10:00.390Z"
   },
   {
    "duration": 4,
    "start_time": "2022-06-15T07:10:00.539Z"
   },
   {
    "duration": 124,
    "start_time": "2022-06-15T07:10:00.544Z"
   },
   {
    "duration": 4,
    "start_time": "2022-06-15T07:10:00.670Z"
   },
   {
    "duration": 12,
    "start_time": "2022-06-15T07:10:00.675Z"
   },
   {
    "duration": 156,
    "start_time": "2022-06-15T07:10:00.689Z"
   },
   {
    "duration": 165,
    "start_time": "2022-06-15T07:10:00.847Z"
   },
   {
    "duration": 12,
    "start_time": "2022-06-15T07:10:01.014Z"
   },
   {
    "duration": 59,
    "start_time": "2022-06-15T07:10:01.028Z"
   },
   {
    "duration": 42,
    "start_time": "2022-06-15T07:10:01.089Z"
   },
   {
    "duration": 17,
    "start_time": "2022-06-15T07:10:01.133Z"
   },
   {
    "duration": 73,
    "start_time": "2022-06-15T07:16:19.048Z"
   },
   {
    "duration": 41,
    "start_time": "2022-06-15T07:18:02.300Z"
   },
   {
    "duration": 17,
    "start_time": "2022-06-15T07:18:08.099Z"
   },
   {
    "duration": 28,
    "start_time": "2022-06-15T07:18:27.439Z"
   },
   {
    "duration": 11,
    "start_time": "2022-06-15T07:19:10.685Z"
   },
   {
    "duration": 15,
    "start_time": "2022-06-15T07:19:41.930Z"
   },
   {
    "duration": 86,
    "start_time": "2022-06-15T07:20:10.027Z"
   },
   {
    "duration": 437,
    "start_time": "2022-06-15T07:20:19.737Z"
   },
   {
    "duration": 19,
    "start_time": "2022-06-15T07:21:28.584Z"
   },
   {
    "duration": 41,
    "start_time": "2022-06-15T07:21:43.328Z"
   },
   {
    "duration": 27,
    "start_time": "2022-06-15T07:22:38.764Z"
   },
   {
    "duration": 19,
    "start_time": "2022-06-15T07:22:57.540Z"
   },
   {
    "duration": 19,
    "start_time": "2022-06-15T07:23:03.388Z"
   },
   {
    "duration": 30,
    "start_time": "2022-06-15T07:23:10.905Z"
   },
   {
    "duration": 19,
    "start_time": "2022-06-15T07:23:25.871Z"
   },
   {
    "duration": 20,
    "start_time": "2022-06-15T07:23:47.944Z"
   },
   {
    "duration": 43,
    "start_time": "2022-06-15T07:24:02.903Z"
   },
   {
    "duration": 42,
    "start_time": "2022-06-15T07:24:29.947Z"
   },
   {
    "duration": 41,
    "start_time": "2022-06-15T07:25:16.844Z"
   },
   {
    "duration": 10,
    "start_time": "2022-06-15T07:25:23.081Z"
   },
   {
    "duration": 14,
    "start_time": "2022-06-15T07:29:19.752Z"
   },
   {
    "duration": 13,
    "start_time": "2022-06-15T07:29:46.882Z"
   },
   {
    "duration": 19,
    "start_time": "2022-06-15T07:30:30.950Z"
   },
   {
    "duration": 13,
    "start_time": "2022-06-15T07:30:42.803Z"
   },
   {
    "duration": 14,
    "start_time": "2022-06-15T07:30:58.313Z"
   },
   {
    "duration": 13,
    "start_time": "2022-06-15T07:31:00.796Z"
   },
   {
    "duration": 8,
    "start_time": "2022-06-15T07:31:04.984Z"
   },
   {
    "duration": 1914,
    "start_time": "2022-06-15T07:35:39.572Z"
   },
   {
    "duration": 7,
    "start_time": "2022-06-15T07:35:56.270Z"
   },
   {
    "duration": 9,
    "start_time": "2022-06-15T07:36:01.913Z"
   },
   {
    "duration": 48,
    "start_time": "2022-06-15T07:39:08.744Z"
   },
   {
    "duration": 56,
    "start_time": "2022-06-15T07:39:18.278Z"
   },
   {
    "duration": 41,
    "start_time": "2022-06-15T07:40:24.684Z"
   },
   {
    "duration": 66,
    "start_time": "2022-06-15T07:40:38.968Z"
   },
   {
    "duration": 63,
    "start_time": "2022-06-15T07:41:20.153Z"
   },
   {
    "duration": 15,
    "start_time": "2022-06-15T07:41:38.157Z"
   },
   {
    "duration": 56,
    "start_time": "2022-06-15T07:41:46.845Z"
   },
   {
    "duration": 33,
    "start_time": "2022-06-15T07:41:55.209Z"
   },
   {
    "duration": 15,
    "start_time": "2022-06-15T08:05:56.637Z"
   },
   {
    "duration": 12,
    "start_time": "2022-06-15T08:06:09.563Z"
   },
   {
    "duration": 122,
    "start_time": "2022-06-15T08:06:29.847Z"
   },
   {
    "duration": 8,
    "start_time": "2022-06-15T08:07:23.622Z"
   },
   {
    "duration": 7,
    "start_time": "2022-06-15T08:16:19.095Z"
   },
   {
    "duration": 6,
    "start_time": "2022-06-15T08:18:57.440Z"
   },
   {
    "duration": 7,
    "start_time": "2022-06-15T08:20:03.223Z"
   },
   {
    "duration": 435,
    "start_time": "2022-06-15T08:20:40.348Z"
   },
   {
    "duration": 942,
    "start_time": "2022-06-15T08:20:48.520Z"
   },
   {
    "duration": 75,
    "start_time": "2022-06-15T08:20:49.464Z"
   },
   {
    "duration": 10,
    "start_time": "2022-06-15T08:20:49.541Z"
   },
   {
    "duration": 3,
    "start_time": "2022-06-15T08:20:49.553Z"
   },
   {
    "duration": 7,
    "start_time": "2022-06-15T08:20:49.558Z"
   },
   {
    "duration": 12,
    "start_time": "2022-06-15T08:20:49.566Z"
   },
   {
    "duration": 8,
    "start_time": "2022-06-15T08:20:49.579Z"
   },
   {
    "duration": 43,
    "start_time": "2022-06-15T08:20:49.588Z"
   },
   {
    "duration": 41,
    "start_time": "2022-06-15T08:20:49.633Z"
   },
   {
    "duration": 16,
    "start_time": "2022-06-15T08:20:49.676Z"
   },
   {
    "duration": 11,
    "start_time": "2022-06-15T08:20:49.693Z"
   },
   {
    "duration": 9,
    "start_time": "2022-06-15T08:20:49.705Z"
   },
   {
    "duration": 5,
    "start_time": "2022-06-15T08:20:49.715Z"
   },
   {
    "duration": 5,
    "start_time": "2022-06-15T08:20:49.723Z"
   },
   {
    "duration": 245,
    "start_time": "2022-06-15T08:20:49.729Z"
   },
   {
    "duration": 2,
    "start_time": "2022-06-15T08:20:49.977Z"
   },
   {
    "duration": 13,
    "start_time": "2022-06-15T08:20:49.981Z"
   },
   {
    "duration": 267,
    "start_time": "2022-06-15T08:20:49.996Z"
   },
   {
    "duration": 237,
    "start_time": "2022-06-15T08:20:50.265Z"
   },
   {
    "duration": 352,
    "start_time": "2022-06-15T08:20:50.503Z"
   },
   {
    "duration": 243,
    "start_time": "2022-06-15T08:20:50.856Z"
   },
   {
    "duration": 375,
    "start_time": "2022-06-15T08:20:51.101Z"
   },
   {
    "duration": 10,
    "start_time": "2022-06-15T08:20:51.478Z"
   },
   {
    "duration": 13,
    "start_time": "2022-06-15T08:20:51.489Z"
   },
   {
    "duration": 25,
    "start_time": "2022-06-15T08:20:51.504Z"
   },
   {
    "duration": 3,
    "start_time": "2022-06-15T08:20:51.531Z"
   },
   {
    "duration": 7,
    "start_time": "2022-06-15T08:20:51.535Z"
   },
   {
    "duration": 118,
    "start_time": "2022-06-15T08:20:51.543Z"
   },
   {
    "duration": 4,
    "start_time": "2022-06-15T08:20:51.663Z"
   },
   {
    "duration": 123,
    "start_time": "2022-06-15T08:20:51.669Z"
   },
   {
    "duration": 5,
    "start_time": "2022-06-15T08:20:51.794Z"
   },
   {
    "duration": 14,
    "start_time": "2022-06-15T08:20:51.800Z"
   },
   {
    "duration": 140,
    "start_time": "2022-06-15T08:20:51.824Z"
   },
   {
    "duration": 125,
    "start_time": "2022-06-15T08:20:51.965Z"
   },
   {
    "duration": 5,
    "start_time": "2022-06-15T08:20:52.091Z"
   },
   {
    "duration": 54,
    "start_time": "2022-06-15T08:20:52.097Z"
   },
   {
    "duration": 41,
    "start_time": "2022-06-15T08:20:52.152Z"
   },
   {
    "duration": 15,
    "start_time": "2022-06-15T08:20:52.194Z"
   },
   {
    "duration": 53,
    "start_time": "2022-06-15T08:20:52.225Z"
   },
   {
    "duration": 33,
    "start_time": "2022-06-15T08:20:52.280Z"
   },
   {
    "duration": 62,
    "start_time": "2022-06-15T08:20:52.316Z"
   },
   {
    "duration": 21,
    "start_time": "2022-06-15T08:20:52.380Z"
   },
   {
    "duration": 143,
    "start_time": "2022-06-15T08:20:52.403Z"
   },
   {
    "duration": 6,
    "start_time": "2022-06-15T08:20:52.548Z"
   },
   {
    "duration": 12,
    "start_time": "2022-06-15T08:20:52.555Z"
   },
   {
    "duration": 20,
    "start_time": "2022-06-15T08:20:52.569Z"
   },
   {
    "duration": 27,
    "start_time": "2022-06-15T08:24:31.592Z"
   },
   {
    "duration": 28,
    "start_time": "2022-06-15T08:24:48.995Z"
   },
   {
    "duration": 37,
    "start_time": "2022-06-15T08:24:57.751Z"
   },
   {
    "duration": 4,
    "start_time": "2022-06-15T08:25:20.155Z"
   },
   {
    "duration": 26,
    "start_time": "2022-06-15T08:25:31.508Z"
   },
   {
    "duration": 8,
    "start_time": "2022-06-15T08:26:07.490Z"
   },
   {
    "duration": 86,
    "start_time": "2022-06-15T08:26:33.429Z"
   },
   {
    "duration": 5,
    "start_time": "2022-06-15T08:27:15.256Z"
   },
   {
    "duration": 33,
    "start_time": "2022-06-15T08:27:38.917Z"
   },
   {
    "duration": 4,
    "start_time": "2022-06-15T08:27:42.606Z"
   },
   {
    "duration": 5,
    "start_time": "2022-06-15T08:27:51.739Z"
   },
   {
    "duration": 10,
    "start_time": "2022-06-15T08:31:18.022Z"
   },
   {
    "duration": 10,
    "start_time": "2022-06-15T08:36:25.476Z"
   },
   {
    "duration": 651,
    "start_time": "2022-06-15T08:38:00.129Z"
   },
   {
    "duration": 451,
    "start_time": "2022-06-15T08:42:05.840Z"
   },
   {
    "duration": 12,
    "start_time": "2022-06-15T08:42:14.741Z"
   },
   {
    "duration": 10,
    "start_time": "2022-06-15T08:42:22.628Z"
   },
   {
    "duration": 9,
    "start_time": "2022-06-15T08:42:40.529Z"
   },
   {
    "duration": 11,
    "start_time": "2022-06-15T08:44:33.258Z"
   },
   {
    "duration": 28,
    "start_time": "2022-06-15T08:45:43.698Z"
   },
   {
    "duration": 407,
    "start_time": "2022-06-15T08:49:17.615Z"
   },
   {
    "duration": 12,
    "start_time": "2022-06-15T08:51:29.610Z"
   },
   {
    "duration": 38,
    "start_time": "2022-06-15T08:59:36.593Z"
   },
   {
    "duration": 106,
    "start_time": "2022-06-15T10:31:11.585Z"
   },
   {
    "duration": 955,
    "start_time": "2022-06-15T10:31:55.598Z"
   },
   {
    "duration": 91,
    "start_time": "2022-06-15T10:31:56.556Z"
   },
   {
    "duration": 12,
    "start_time": "2022-06-15T10:31:56.649Z"
   },
   {
    "duration": 22,
    "start_time": "2022-06-15T10:31:56.663Z"
   },
   {
    "duration": 13,
    "start_time": "2022-06-15T10:31:56.687Z"
   },
   {
    "duration": 12,
    "start_time": "2022-06-15T10:31:56.701Z"
   },
   {
    "duration": 35,
    "start_time": "2022-06-15T10:31:56.715Z"
   },
   {
    "duration": 21,
    "start_time": "2022-06-15T10:31:56.752Z"
   },
   {
    "duration": 41,
    "start_time": "2022-06-15T10:31:56.775Z"
   },
   {
    "duration": 24,
    "start_time": "2022-06-15T10:31:56.817Z"
   },
   {
    "duration": 12,
    "start_time": "2022-06-15T10:31:56.843Z"
   },
   {
    "duration": 10,
    "start_time": "2022-06-15T10:31:56.856Z"
   },
   {
    "duration": 245,
    "start_time": "2022-06-15T10:31:56.867Z"
   },
   {
    "duration": 23,
    "start_time": "2022-06-15T10:31:57.115Z"
   },
   {
    "duration": 247,
    "start_time": "2022-06-15T10:31:57.139Z"
   },
   {
    "duration": 241,
    "start_time": "2022-06-15T10:31:57.388Z"
   },
   {
    "duration": 339,
    "start_time": "2022-06-15T10:31:57.634Z"
   },
   {
    "duration": 242,
    "start_time": "2022-06-15T10:31:57.975Z"
   },
   {
    "duration": 347,
    "start_time": "2022-06-15T10:31:58.225Z"
   },
   {
    "duration": 11,
    "start_time": "2022-06-15T10:31:58.573Z"
   },
   {
    "duration": 8,
    "start_time": "2022-06-15T10:31:58.585Z"
   },
   {
    "duration": 4,
    "start_time": "2022-06-15T10:31:58.595Z"
   },
   {
    "duration": 11,
    "start_time": "2022-06-15T10:31:58.600Z"
   },
   {
    "duration": 111,
    "start_time": "2022-06-15T10:31:58.629Z"
   },
   {
    "duration": 4,
    "start_time": "2022-06-15T10:31:58.742Z"
   },
   {
    "duration": 136,
    "start_time": "2022-06-15T10:31:58.748Z"
   },
   {
    "duration": 4,
    "start_time": "2022-06-15T10:31:58.885Z"
   },
   {
    "duration": 9,
    "start_time": "2022-06-15T10:31:58.890Z"
   },
   {
    "duration": 139,
    "start_time": "2022-06-15T10:31:58.900Z"
   },
   {
    "duration": 200,
    "start_time": "2022-06-15T10:31:59.043Z"
   },
   {
    "duration": 0,
    "start_time": "2022-06-15T10:31:59.245Z"
   },
   {
    "duration": 0,
    "start_time": "2022-06-15T10:31:59.246Z"
   },
   {
    "duration": 0,
    "start_time": "2022-06-15T10:31:59.247Z"
   },
   {
    "duration": 0,
    "start_time": "2022-06-15T10:31:59.248Z"
   },
   {
    "duration": 0,
    "start_time": "2022-06-15T10:31:59.249Z"
   },
   {
    "duration": 0,
    "start_time": "2022-06-15T10:31:59.250Z"
   },
   {
    "duration": 0,
    "start_time": "2022-06-15T10:31:59.252Z"
   },
   {
    "duration": 0,
    "start_time": "2022-06-15T10:31:59.252Z"
   },
   {
    "duration": 0,
    "start_time": "2022-06-15T10:31:59.253Z"
   },
   {
    "duration": 0,
    "start_time": "2022-06-15T10:31:59.254Z"
   },
   {
    "duration": 0,
    "start_time": "2022-06-15T10:31:59.255Z"
   },
   {
    "duration": 0,
    "start_time": "2022-06-15T10:31:59.257Z"
   },
   {
    "duration": 0,
    "start_time": "2022-06-15T10:31:59.257Z"
   },
   {
    "duration": 0,
    "start_time": "2022-06-15T10:31:59.258Z"
   },
   {
    "duration": 0,
    "start_time": "2022-06-15T10:31:59.259Z"
   },
   {
    "duration": 0,
    "start_time": "2022-06-15T10:31:59.260Z"
   },
   {
    "duration": 136,
    "start_time": "2022-06-15T10:32:52.407Z"
   },
   {
    "duration": 166,
    "start_time": "2022-06-15T10:33:02.451Z"
   },
   {
    "duration": 53,
    "start_time": "2022-06-15T10:34:08.837Z"
   },
   {
    "duration": 120,
    "start_time": "2022-06-15T10:34:13.138Z"
   },
   {
    "duration": 125,
    "start_time": "2022-06-15T10:50:26.756Z"
   },
   {
    "duration": 925,
    "start_time": "2022-06-15T10:50:59.282Z"
   },
   {
    "duration": 82,
    "start_time": "2022-06-15T10:51:00.209Z"
   },
   {
    "duration": 11,
    "start_time": "2022-06-15T10:51:00.295Z"
   },
   {
    "duration": 13,
    "start_time": "2022-06-15T10:51:00.308Z"
   },
   {
    "duration": 15,
    "start_time": "2022-06-15T10:51:00.323Z"
   },
   {
    "duration": 14,
    "start_time": "2022-06-15T10:51:00.340Z"
   },
   {
    "duration": 9,
    "start_time": "2022-06-15T10:51:00.356Z"
   },
   {
    "duration": 36,
    "start_time": "2022-06-15T10:51:00.367Z"
   },
   {
    "duration": 51,
    "start_time": "2022-06-15T10:51:00.405Z"
   },
   {
    "duration": 16,
    "start_time": "2022-06-15T10:51:00.457Z"
   },
   {
    "duration": 17,
    "start_time": "2022-06-15T10:51:00.475Z"
   },
   {
    "duration": 15,
    "start_time": "2022-06-15T10:51:00.493Z"
   },
   {
    "duration": 259,
    "start_time": "2022-06-15T10:51:00.511Z"
   },
   {
    "duration": 11,
    "start_time": "2022-06-15T10:51:00.772Z"
   },
   {
    "duration": 288,
    "start_time": "2022-06-15T10:51:00.785Z"
   },
   {
    "duration": 250,
    "start_time": "2022-06-15T10:51:01.075Z"
   },
   {
    "duration": 352,
    "start_time": "2022-06-15T10:51:01.327Z"
   },
   {
    "duration": 284,
    "start_time": "2022-06-15T10:51:01.681Z"
   },
   {
    "duration": 358,
    "start_time": "2022-06-15T10:51:01.967Z"
   },
   {
    "duration": 11,
    "start_time": "2022-06-15T10:51:02.327Z"
   },
   {
    "duration": 9,
    "start_time": "2022-06-15T10:51:02.339Z"
   },
   {
    "duration": 5,
    "start_time": "2022-06-15T10:51:02.349Z"
   },
   {
    "duration": 8,
    "start_time": "2022-06-15T10:51:02.355Z"
   },
   {
    "duration": 132,
    "start_time": "2022-06-15T10:51:02.365Z"
   },
   {
    "duration": 3,
    "start_time": "2022-06-15T10:51:02.499Z"
   },
   {
    "duration": 126,
    "start_time": "2022-06-15T10:51:02.503Z"
   },
   {
    "duration": 4,
    "start_time": "2022-06-15T10:51:02.631Z"
   },
   {
    "duration": 11,
    "start_time": "2022-06-15T10:51:02.636Z"
   },
   {
    "duration": 140,
    "start_time": "2022-06-15T10:51:02.648Z"
   },
   {
    "duration": 116,
    "start_time": "2022-06-15T10:51:02.790Z"
   },
   {
    "duration": 134,
    "start_time": "2022-06-15T10:51:02.907Z"
   },
   {
    "duration": 5,
    "start_time": "2022-06-15T10:51:03.043Z"
   },
   {
    "duration": 130,
    "start_time": "2022-06-15T10:51:03.050Z"
   },
   {
    "duration": 50,
    "start_time": "2022-06-15T10:51:03.182Z"
   },
   {
    "duration": 17,
    "start_time": "2022-06-15T10:51:03.234Z"
   },
   {
    "duration": 56,
    "start_time": "2022-06-15T10:51:03.253Z"
   },
   {
    "duration": 17,
    "start_time": "2022-06-15T10:51:03.311Z"
   },
   {
    "duration": 53,
    "start_time": "2022-06-15T10:51:03.330Z"
   },
   {
    "duration": 48,
    "start_time": "2022-06-15T10:51:03.385Z"
   },
   {
    "duration": 134,
    "start_time": "2022-06-15T10:51:03.436Z"
   },
   {
    "duration": 6,
    "start_time": "2022-06-15T10:51:03.572Z"
   },
   {
    "duration": 35,
    "start_time": "2022-06-15T10:51:03.580Z"
   },
   {
    "duration": 15,
    "start_time": "2022-06-15T10:51:03.616Z"
   },
   {
    "duration": 11,
    "start_time": "2022-06-15T10:51:03.633Z"
   },
   {
    "duration": 25,
    "start_time": "2022-06-15T10:51:03.645Z"
   },
   {
    "duration": 12,
    "start_time": "2022-06-15T10:51:03.672Z"
   },
   {
    "duration": 38,
    "start_time": "2022-06-15T13:34:10.073Z"
   },
   {
    "duration": 37,
    "start_time": "2022-06-15T13:54:19.711Z"
   },
   {
    "duration": 44,
    "start_time": "2022-06-15T13:57:30.624Z"
   },
   {
    "duration": 32,
    "start_time": "2022-06-15T13:59:59.594Z"
   },
   {
    "duration": 117,
    "start_time": "2022-06-15T14:00:01.848Z"
   },
   {
    "duration": 33,
    "start_time": "2022-06-15T14:10:37.069Z"
   },
   {
    "duration": 40,
    "start_time": "2022-06-15T14:12:51.651Z"
   },
   {
    "duration": 939,
    "start_time": "2022-06-15T14:13:08.569Z"
   },
   {
    "duration": 68,
    "start_time": "2022-06-15T14:13:09.509Z"
   },
   {
    "duration": 10,
    "start_time": "2022-06-15T14:13:09.578Z"
   },
   {
    "duration": 5,
    "start_time": "2022-06-15T14:13:09.590Z"
   },
   {
    "duration": 6,
    "start_time": "2022-06-15T14:13:09.596Z"
   },
   {
    "duration": 8,
    "start_time": "2022-06-15T14:13:09.604Z"
   },
   {
    "duration": 8,
    "start_time": "2022-06-15T14:13:09.614Z"
   },
   {
    "duration": 11,
    "start_time": "2022-06-15T14:13:09.624Z"
   },
   {
    "duration": 37,
    "start_time": "2022-06-15T14:13:09.636Z"
   },
   {
    "duration": 14,
    "start_time": "2022-06-15T14:13:09.675Z"
   },
   {
    "duration": 10,
    "start_time": "2022-06-15T14:13:09.690Z"
   },
   {
    "duration": 10,
    "start_time": "2022-06-15T14:13:09.701Z"
   },
   {
    "duration": 232,
    "start_time": "2022-06-15T14:13:09.712Z"
   },
   {
    "duration": 11,
    "start_time": "2022-06-15T14:13:09.946Z"
   },
   {
    "duration": 250,
    "start_time": "2022-06-15T14:13:09.958Z"
   },
   {
    "duration": 220,
    "start_time": "2022-06-15T14:13:10.210Z"
   },
   {
    "duration": 316,
    "start_time": "2022-06-15T14:13:10.432Z"
   },
   {
    "duration": 242,
    "start_time": "2022-06-15T14:13:10.750Z"
   },
   {
    "duration": 327,
    "start_time": "2022-06-15T14:13:10.993Z"
   },
   {
    "duration": 19,
    "start_time": "2022-06-15T14:13:11.322Z"
   },
   {
    "duration": 11,
    "start_time": "2022-06-15T14:13:11.343Z"
   },
   {
    "duration": 4,
    "start_time": "2022-06-15T14:13:11.355Z"
   },
   {
    "duration": 18,
    "start_time": "2022-06-15T14:13:11.360Z"
   },
   {
    "duration": 106,
    "start_time": "2022-06-15T14:13:11.380Z"
   },
   {
    "duration": 2,
    "start_time": "2022-06-15T14:13:11.488Z"
   },
   {
    "duration": 104,
    "start_time": "2022-06-15T14:13:11.492Z"
   },
   {
    "duration": 4,
    "start_time": "2022-06-15T14:13:11.597Z"
   },
   {
    "duration": 5,
    "start_time": "2022-06-15T14:13:11.604Z"
   },
   {
    "duration": 126,
    "start_time": "2022-06-15T14:13:11.610Z"
   },
   {
    "duration": 102,
    "start_time": "2022-06-15T14:13:11.738Z"
   },
   {
    "duration": 121,
    "start_time": "2022-06-15T14:13:11.841Z"
   },
   {
    "duration": 5,
    "start_time": "2022-06-15T14:13:11.963Z"
   },
   {
    "duration": 110,
    "start_time": "2022-06-15T14:13:11.978Z"
   },
   {
    "duration": 42,
    "start_time": "2022-06-15T14:13:12.089Z"
   },
   {
    "duration": 59,
    "start_time": "2022-06-15T14:13:12.132Z"
   },
   {
    "duration": 50,
    "start_time": "2022-06-15T14:13:12.193Z"
   },
   {
    "duration": 36,
    "start_time": "2022-06-15T14:13:12.245Z"
   },
   {
    "duration": 140,
    "start_time": "2022-06-15T14:13:12.283Z"
   },
   {
    "duration": 6,
    "start_time": "2022-06-15T14:13:12.425Z"
   },
   {
    "duration": 20,
    "start_time": "2022-06-15T14:13:12.433Z"
   },
   {
    "duration": 24,
    "start_time": "2022-06-15T14:13:12.454Z"
   },
   {
    "duration": 9,
    "start_time": "2022-06-15T14:13:12.479Z"
   },
   {
    "duration": 38,
    "start_time": "2022-06-15T14:13:12.490Z"
   },
   {
    "duration": 12,
    "start_time": "2022-06-15T14:13:12.530Z"
   },
   {
    "duration": 34,
    "start_time": "2022-06-15T15:37:05.212Z"
   },
   {
    "duration": 28,
    "start_time": "2022-06-15T15:37:35.626Z"
   },
   {
    "duration": 4,
    "start_time": "2022-06-15T15:43:28.747Z"
   },
   {
    "duration": 3,
    "start_time": "2022-06-15T15:44:15.974Z"
   },
   {
    "duration": 3,
    "start_time": "2022-06-15T15:51:34.879Z"
   },
   {
    "duration": 956,
    "start_time": "2022-06-15T15:51:34.884Z"
   },
   {
    "duration": 75,
    "start_time": "2022-06-15T15:51:35.842Z"
   },
   {
    "duration": 13,
    "start_time": "2022-06-15T15:51:35.919Z"
   },
   {
    "duration": 2,
    "start_time": "2022-06-15T15:51:35.934Z"
   },
   {
    "duration": 19,
    "start_time": "2022-06-15T15:51:35.938Z"
   },
   {
    "duration": 14,
    "start_time": "2022-06-15T15:51:35.958Z"
   },
   {
    "duration": 15,
    "start_time": "2022-06-15T15:51:35.973Z"
   },
   {
    "duration": 17,
    "start_time": "2022-06-15T15:51:35.991Z"
   },
   {
    "duration": 39,
    "start_time": "2022-06-15T15:51:36.010Z"
   },
   {
    "duration": 14,
    "start_time": "2022-06-15T15:51:36.052Z"
   },
   {
    "duration": 10,
    "start_time": "2022-06-15T15:51:36.068Z"
   },
   {
    "duration": 24,
    "start_time": "2022-06-15T15:51:36.079Z"
   },
   {
    "duration": 238,
    "start_time": "2022-06-15T15:51:36.105Z"
   },
   {
    "duration": 10,
    "start_time": "2022-06-15T15:51:36.344Z"
   },
   {
    "duration": 279,
    "start_time": "2022-06-15T15:51:36.355Z"
   },
   {
    "duration": 280,
    "start_time": "2022-06-15T15:51:36.636Z"
   },
   {
    "duration": 344,
    "start_time": "2022-06-15T15:51:36.918Z"
   },
   {
    "duration": 241,
    "start_time": "2022-06-15T15:51:37.264Z"
   },
   {
    "duration": 381,
    "start_time": "2022-06-15T15:51:37.506Z"
   },
   {
    "duration": 10,
    "start_time": "2022-06-15T15:51:37.889Z"
   },
   {
    "duration": 11,
    "start_time": "2022-06-15T15:51:37.901Z"
   },
   {
    "duration": 23,
    "start_time": "2022-06-15T15:51:37.914Z"
   },
   {
    "duration": 7,
    "start_time": "2022-06-15T15:51:37.941Z"
   },
   {
    "duration": 101,
    "start_time": "2022-06-15T15:51:37.950Z"
   },
   {
    "duration": 3,
    "start_time": "2022-06-15T15:51:38.052Z"
   },
   {
    "duration": 112,
    "start_time": "2022-06-15T15:51:38.057Z"
   },
   {
    "duration": 4,
    "start_time": "2022-06-15T15:51:38.170Z"
   },
   {
    "duration": 25,
    "start_time": "2022-06-15T15:51:38.175Z"
   },
   {
    "duration": 124,
    "start_time": "2022-06-15T15:51:38.201Z"
   },
   {
    "duration": 105,
    "start_time": "2022-06-15T15:51:38.327Z"
   },
   {
    "duration": 127,
    "start_time": "2022-06-15T15:51:38.434Z"
   },
   {
    "duration": 6,
    "start_time": "2022-06-15T15:51:38.563Z"
   },
   {
    "duration": 131,
    "start_time": "2022-06-15T15:51:38.570Z"
   },
   {
    "duration": 45,
    "start_time": "2022-06-15T15:51:38.702Z"
   },
   {
    "duration": 62,
    "start_time": "2022-06-15T15:51:38.749Z"
   },
   {
    "duration": 61,
    "start_time": "2022-06-15T15:51:38.813Z"
   },
   {
    "duration": 21,
    "start_time": "2022-06-15T15:51:38.876Z"
   },
   {
    "duration": 174,
    "start_time": "2022-06-15T15:51:38.898Z"
   },
   {
    "duration": 5,
    "start_time": "2022-06-15T15:51:39.074Z"
   },
   {
    "duration": 21,
    "start_time": "2022-06-15T15:51:39.081Z"
   },
   {
    "duration": 24,
    "start_time": "2022-06-15T15:51:39.104Z"
   },
   {
    "duration": 8,
    "start_time": "2022-06-15T15:51:39.131Z"
   },
   {
    "duration": 38,
    "start_time": "2022-06-15T15:51:39.141Z"
   },
   {
    "duration": 13,
    "start_time": "2022-06-15T15:51:39.180Z"
   },
   {
    "duration": 270,
    "start_time": "2022-06-15T15:52:11.412Z"
   },
   {
    "duration": 219,
    "start_time": "2022-06-15T15:52:17.461Z"
   },
   {
    "duration": 236,
    "start_time": "2022-06-15T15:52:21.428Z"
   },
   {
    "duration": 270,
    "start_time": "2022-06-15T15:52:25.379Z"
   },
   {
    "duration": 229,
    "start_time": "2022-06-15T15:52:30.359Z"
   },
   {
    "duration": 225,
    "start_time": "2022-06-15T15:52:35.176Z"
   },
   {
    "duration": 228,
    "start_time": "2022-06-15T15:52:41.044Z"
   },
   {
    "duration": 243,
    "start_time": "2022-06-15T15:52:55.551Z"
   },
   {
    "duration": 243,
    "start_time": "2022-06-15T15:52:58.566Z"
   },
   {
    "duration": 221,
    "start_time": "2022-06-15T15:53:50.230Z"
   },
   {
    "duration": 414,
    "start_time": "2022-06-15T15:54:52.366Z"
   },
   {
    "duration": 289,
    "start_time": "2022-06-15T15:55:10.808Z"
   },
   {
    "duration": 335,
    "start_time": "2022-06-15T15:57:22.655Z"
   },
   {
    "duration": 356,
    "start_time": "2022-06-15T15:57:29.398Z"
   },
   {
    "duration": 317,
    "start_time": "2022-06-15T15:57:37.283Z"
   },
   {
    "duration": 371,
    "start_time": "2022-06-15T15:57:39.934Z"
   },
   {
    "duration": 180,
    "start_time": "2022-06-15T16:01:07.836Z"
   },
   {
    "duration": 93,
    "start_time": "2022-06-15T16:01:15.577Z"
   },
   {
    "duration": 143,
    "start_time": "2022-06-15T16:01:53.930Z"
   },
   {
    "duration": 111,
    "start_time": "2022-06-15T16:02:07.304Z"
   },
   {
    "duration": 127,
    "start_time": "2022-06-15T16:02:11.010Z"
   },
   {
    "duration": 3,
    "start_time": "2022-06-15T16:04:17.680Z"
   },
   {
    "duration": 95,
    "start_time": "2022-06-15T16:04:20.437Z"
   },
   {
    "duration": 192,
    "start_time": "2022-06-15T16:04:35.553Z"
   },
   {
    "duration": 95,
    "start_time": "2022-06-15T16:04:44.318Z"
   },
   {
    "duration": 4,
    "start_time": "2022-06-15T16:05:28.129Z"
   },
   {
    "duration": 8,
    "start_time": "2022-06-15T16:05:43.239Z"
   },
   {
    "duration": 3,
    "start_time": "2022-06-15T16:05:47.167Z"
   },
   {
    "duration": 124,
    "start_time": "2022-06-15T16:29:34.077Z"
   },
   {
    "duration": 122,
    "start_time": "2022-06-15T16:29:40.880Z"
   },
   {
    "duration": 196,
    "start_time": "2022-06-15T16:29:55.125Z"
   },
   {
    "duration": 116,
    "start_time": "2022-06-15T16:30:48.031Z"
   },
   {
    "duration": 102,
    "start_time": "2022-06-15T16:31:15.871Z"
   },
   {
    "duration": 118,
    "start_time": "2022-06-15T16:31:24.079Z"
   },
   {
    "duration": 28,
    "start_time": "2022-06-15T16:33:03.734Z"
   },
   {
    "duration": 23,
    "start_time": "2022-06-15T16:39:28.308Z"
   },
   {
    "duration": 29,
    "start_time": "2022-06-15T16:39:37.409Z"
   },
   {
    "duration": 23,
    "start_time": "2022-06-15T16:39:45.329Z"
   },
   {
    "duration": 34,
    "start_time": "2022-06-15T16:39:49.608Z"
   },
   {
    "duration": 29,
    "start_time": "2022-06-15T16:40:17.170Z"
   },
   {
    "duration": 15,
    "start_time": "2022-06-15T16:40:31.495Z"
   },
   {
    "duration": 19,
    "start_time": "2022-06-15T16:40:33.477Z"
   },
   {
    "duration": 5,
    "start_time": "2022-06-15T16:40:33.677Z"
   },
   {
    "duration": 4,
    "start_time": "2022-06-15T16:40:51.962Z"
   },
   {
    "duration": 25,
    "start_time": "2022-06-15T16:44:22.167Z"
   },
   {
    "duration": 3,
    "start_time": "2022-06-15T16:45:08.207Z"
   },
   {
    "duration": 3,
    "start_time": "2022-06-15T16:45:13.546Z"
   },
   {
    "duration": 23,
    "start_time": "2022-06-15T16:45:26.629Z"
   },
   {
    "duration": 3,
    "start_time": "2022-06-16T05:03:11.285Z"
   },
   {
    "duration": 1189,
    "start_time": "2022-06-16T05:03:11.306Z"
   },
   {
    "duration": 135,
    "start_time": "2022-06-16T05:03:12.498Z"
   },
   {
    "duration": 16,
    "start_time": "2022-06-16T05:03:12.635Z"
   },
   {
    "duration": 9,
    "start_time": "2022-06-16T05:03:12.654Z"
   },
   {
    "duration": 8,
    "start_time": "2022-06-16T05:03:12.666Z"
   },
   {
    "duration": 17,
    "start_time": "2022-06-16T05:03:12.676Z"
   },
   {
    "duration": 6,
    "start_time": "2022-06-16T05:03:12.694Z"
   },
   {
    "duration": 16,
    "start_time": "2022-06-16T05:03:12.701Z"
   },
   {
    "duration": 83,
    "start_time": "2022-06-16T05:03:12.719Z"
   },
   {
    "duration": 56,
    "start_time": "2022-06-16T05:03:12.807Z"
   },
   {
    "duration": 13,
    "start_time": "2022-06-16T05:03:12.864Z"
   },
   {
    "duration": 16,
    "start_time": "2022-06-16T05:03:12.879Z"
   },
   {
    "duration": 255,
    "start_time": "2022-06-16T05:03:12.896Z"
   },
   {
    "duration": 11,
    "start_time": "2022-06-16T05:03:13.155Z"
   },
   {
    "duration": 237,
    "start_time": "2022-06-16T05:03:13.167Z"
   },
   {
    "duration": 249,
    "start_time": "2022-06-16T05:03:13.406Z"
   },
   {
    "duration": 405,
    "start_time": "2022-06-16T05:03:13.656Z"
   },
   {
    "duration": 234,
    "start_time": "2022-06-16T05:03:14.062Z"
   },
   {
    "duration": 367,
    "start_time": "2022-06-16T05:03:14.298Z"
   },
   {
    "duration": 11,
    "start_time": "2022-06-16T05:03:14.667Z"
   },
   {
    "duration": 21,
    "start_time": "2022-06-16T05:03:14.680Z"
   },
   {
    "duration": 9,
    "start_time": "2022-06-16T05:03:14.702Z"
   },
   {
    "duration": 7,
    "start_time": "2022-06-16T05:03:14.712Z"
   },
   {
    "duration": 100,
    "start_time": "2022-06-16T05:03:14.721Z"
   },
   {
    "duration": 2,
    "start_time": "2022-06-16T05:03:14.826Z"
   },
   {
    "duration": 5,
    "start_time": "2022-06-16T05:03:14.829Z"
   },
   {
    "duration": 105,
    "start_time": "2022-06-16T05:03:14.835Z"
   },
   {
    "duration": 4,
    "start_time": "2022-06-16T05:03:14.941Z"
   },
   {
    "duration": 7,
    "start_time": "2022-06-16T05:03:14.946Z"
   },
   {
    "duration": 132,
    "start_time": "2022-06-16T05:03:14.954Z"
   },
   {
    "duration": 103,
    "start_time": "2022-06-16T05:03:15.088Z"
   },
   {
    "duration": 116,
    "start_time": "2022-06-16T05:03:15.193Z"
   },
   {
    "duration": 173,
    "start_time": "2022-06-16T05:03:15.311Z"
   },
   {
    "duration": 5,
    "start_time": "2022-06-16T05:03:15.486Z"
   },
   {
    "duration": 58,
    "start_time": "2022-06-16T05:03:15.492Z"
   },
   {
    "duration": 45,
    "start_time": "2022-06-16T05:03:15.552Z"
   },
   {
    "duration": 56,
    "start_time": "2022-06-16T05:03:15.598Z"
   },
   {
    "duration": 51,
    "start_time": "2022-06-16T05:03:15.655Z"
   },
   {
    "duration": 38,
    "start_time": "2022-06-16T05:03:15.707Z"
   },
   {
    "duration": 154,
    "start_time": "2022-06-16T05:03:15.747Z"
   },
   {
    "duration": 6,
    "start_time": "2022-06-16T05:03:15.905Z"
   },
   {
    "duration": 12,
    "start_time": "2022-06-16T05:03:15.913Z"
   },
   {
    "duration": 27,
    "start_time": "2022-06-16T05:03:15.927Z"
   },
   {
    "duration": 18,
    "start_time": "2022-06-16T05:03:15.955Z"
   },
   {
    "duration": 4,
    "start_time": "2022-06-16T05:03:15.975Z"
   },
   {
    "duration": 16,
    "start_time": "2022-06-16T05:03:15.980Z"
   },
   {
    "duration": 30,
    "start_time": "2022-06-16T05:03:15.998Z"
   },
   {
    "duration": 18,
    "start_time": "2022-06-16T05:03:16.029Z"
   },
   {
    "duration": 43,
    "start_time": "2022-06-16T05:03:16.049Z"
   },
   {
    "duration": 12,
    "start_time": "2022-06-16T05:03:16.093Z"
   },
   {
    "duration": 13,
    "start_time": "2022-06-16T05:07:16.578Z"
   },
   {
    "duration": 4,
    "start_time": "2022-06-16T05:19:05.627Z"
   },
   {
    "duration": 9,
    "start_time": "2022-06-16T05:19:15.467Z"
   },
   {
    "duration": 11,
    "start_time": "2022-06-16T05:19:23.121Z"
   },
   {
    "duration": 80,
    "start_time": "2022-06-16T05:19:32.073Z"
   },
   {
    "duration": 9,
    "start_time": "2022-06-16T05:19:36.541Z"
   },
   {
    "duration": 9,
    "start_time": "2022-06-16T05:19:47.506Z"
   },
   {
    "duration": 4,
    "start_time": "2022-06-16T05:20:09.011Z"
   },
   {
    "duration": 11,
    "start_time": "2022-06-16T05:20:10.164Z"
   },
   {
    "duration": 11,
    "start_time": "2022-06-16T05:20:14.745Z"
   },
   {
    "duration": 10,
    "start_time": "2022-06-16T05:20:34.212Z"
   },
   {
    "duration": 10,
    "start_time": "2022-06-16T05:20:46.285Z"
   },
   {
    "duration": 9,
    "start_time": "2022-06-16T05:20:47.023Z"
   },
   {
    "duration": 5,
    "start_time": "2022-06-16T05:20:47.233Z"
   },
   {
    "duration": 3,
    "start_time": "2022-06-16T05:20:47.415Z"
   },
   {
    "duration": 9,
    "start_time": "2022-06-16T05:20:47.887Z"
   },
   {
    "duration": 11,
    "start_time": "2022-06-16T05:20:48.402Z"
   },
   {
    "duration": 11,
    "start_time": "2022-06-16T05:20:55.396Z"
   },
   {
    "duration": 6,
    "start_time": "2022-06-16T05:48:49.399Z"
   },
   {
    "duration": 6,
    "start_time": "2022-06-16T05:48:54.573Z"
   },
   {
    "duration": 7,
    "start_time": "2022-06-16T05:49:46.126Z"
   },
   {
    "duration": 6,
    "start_time": "2022-06-16T05:51:50.983Z"
   },
   {
    "duration": 9,
    "start_time": "2022-06-16T06:04:00.371Z"
   },
   {
    "duration": 7,
    "start_time": "2022-06-16T06:04:08.166Z"
   },
   {
    "duration": 8,
    "start_time": "2022-06-16T06:04:19.418Z"
   },
   {
    "duration": 7,
    "start_time": "2022-06-16T06:04:19.567Z"
   },
   {
    "duration": 10,
    "start_time": "2022-06-16T06:09:18.292Z"
   },
   {
    "duration": 7,
    "start_time": "2022-06-16T06:09:22.019Z"
   },
   {
    "duration": 10,
    "start_time": "2022-06-16T06:09:27.038Z"
   },
   {
    "duration": 6,
    "start_time": "2022-06-16T06:09:29.105Z"
   },
   {
    "duration": 6,
    "start_time": "2022-06-16T06:09:35.615Z"
   },
   {
    "duration": 19,
    "start_time": "2022-06-16T06:18:21.339Z"
   },
   {
    "duration": 8,
    "start_time": "2022-06-16T06:19:54.719Z"
   },
   {
    "duration": 4,
    "start_time": "2022-06-16T06:22:10.345Z"
   },
   {
    "duration": 6,
    "start_time": "2022-06-16T06:22:30.764Z"
   },
   {
    "duration": 35,
    "start_time": "2022-06-16T06:23:53.024Z"
   },
   {
    "duration": 25,
    "start_time": "2022-06-16T06:23:58.439Z"
   },
   {
    "duration": 8553,
    "start_time": "2022-06-16T06:24:05.899Z"
   },
   {
    "duration": 67,
    "start_time": "2022-06-16T06:25:13.684Z"
   },
   {
    "duration": 10,
    "start_time": "2022-06-16T06:25:18.917Z"
   },
   {
    "duration": 6,
    "start_time": "2022-06-16T06:26:15.231Z"
   },
   {
    "duration": 140,
    "start_time": "2022-06-16T06:26:51.024Z"
   },
   {
    "duration": 7,
    "start_time": "2022-06-16T06:27:45.397Z"
   },
   {
    "duration": 4,
    "start_time": "2022-06-16T06:27:45.700Z"
   },
   {
    "duration": 10,
    "start_time": "2022-06-16T06:27:46.198Z"
   },
   {
    "duration": 11,
    "start_time": "2022-06-16T06:27:47.864Z"
   },
   {
    "duration": 8,
    "start_time": "2022-06-16T06:27:49.494Z"
   },
   {
    "duration": 7,
    "start_time": "2022-06-16T06:27:49.752Z"
   },
   {
    "duration": 6,
    "start_time": "2022-06-16T06:27:49.956Z"
   },
   {
    "duration": 6,
    "start_time": "2022-06-16T06:27:50.345Z"
   },
   {
    "duration": 6,
    "start_time": "2022-06-16T06:27:50.555Z"
   },
   {
    "duration": 102,
    "start_time": "2022-06-16T06:27:50.987Z"
   },
   {
    "duration": 4,
    "start_time": "2022-06-16T06:28:07.698Z"
   },
   {
    "duration": 5,
    "start_time": "2022-06-16T06:28:07.902Z"
   },
   {
    "duration": 4,
    "start_time": "2022-06-16T06:28:08.321Z"
   },
   {
    "duration": 9,
    "start_time": "2022-06-16T06:28:08.540Z"
   },
   {
    "duration": 12,
    "start_time": "2022-06-16T06:28:08.717Z"
   },
   {
    "duration": 9,
    "start_time": "2022-06-16T06:28:09.092Z"
   },
   {
    "duration": 7,
    "start_time": "2022-06-16T06:28:09.283Z"
   },
   {
    "duration": 6,
    "start_time": "2022-06-16T06:28:09.483Z"
   },
   {
    "duration": 6,
    "start_time": "2022-06-16T06:28:09.687Z"
   },
   {
    "duration": 11,
    "start_time": "2022-06-16T06:28:09.890Z"
   },
   {
    "duration": 146,
    "start_time": "2022-06-16T06:28:10.326Z"
   },
   {
    "duration": 3,
    "start_time": "2022-06-16T06:28:52.916Z"
   },
   {
    "duration": 4,
    "start_time": "2022-06-16T06:28:53.091Z"
   },
   {
    "duration": 10,
    "start_time": "2022-06-16T06:28:53.648Z"
   },
   {
    "duration": 11,
    "start_time": "2022-06-16T06:28:53.839Z"
   },
   {
    "duration": 8,
    "start_time": "2022-06-16T06:28:54.177Z"
   },
   {
    "duration": 7,
    "start_time": "2022-06-16T06:28:54.380Z"
   },
   {
    "duration": 6,
    "start_time": "2022-06-16T06:28:54.565Z"
   },
   {
    "duration": 5,
    "start_time": "2022-06-16T06:28:54.874Z"
   },
   {
    "duration": 9,
    "start_time": "2022-06-16T06:28:55.099Z"
   },
   {
    "duration": 139,
    "start_time": "2022-06-16T06:28:55.321Z"
   },
   {
    "duration": 4,
    "start_time": "2022-06-16T06:29:23.415Z"
   },
   {
    "duration": 5,
    "start_time": "2022-06-16T06:29:23.635Z"
   },
   {
    "duration": 9,
    "start_time": "2022-06-16T06:29:24.344Z"
   },
   {
    "duration": 11,
    "start_time": "2022-06-16T06:29:24.543Z"
   },
   {
    "duration": 7,
    "start_time": "2022-06-16T06:29:24.911Z"
   },
   {
    "duration": 8,
    "start_time": "2022-06-16T06:29:25.111Z"
   },
   {
    "duration": 5,
    "start_time": "2022-06-16T06:29:25.368Z"
   },
   {
    "duration": 5,
    "start_time": "2022-06-16T06:29:25.770Z"
   },
   {
    "duration": 8,
    "start_time": "2022-06-16T06:29:26.173Z"
   },
   {
    "duration": 128,
    "start_time": "2022-06-16T06:29:26.802Z"
   },
   {
    "duration": 29,
    "start_time": "2022-06-16T06:29:44.929Z"
   },
   {
    "duration": 7,
    "start_time": "2022-06-16T06:29:48.662Z"
   },
   {
    "duration": 7,
    "start_time": "2022-06-16T06:30:13.596Z"
   },
   {
    "duration": 131,
    "start_time": "2022-06-16T06:30:18.101Z"
   },
   {
    "duration": 31,
    "start_time": "2022-06-16T06:30:47.835Z"
   },
   {
    "duration": 33,
    "start_time": "2022-06-16T06:30:52.942Z"
   },
   {
    "duration": 2,
    "start_time": "2022-06-16T06:30:58.999Z"
   },
   {
    "duration": 124,
    "start_time": "2022-06-16T06:31:08.309Z"
   },
   {
    "duration": 32,
    "start_time": "2022-06-16T06:31:57.920Z"
   },
   {
    "duration": 8,
    "start_time": "2022-06-16T06:47:12.750Z"
   },
   {
    "duration": 13,
    "start_time": "2022-06-16T06:48:16.406Z"
   },
   {
    "duration": 31,
    "start_time": "2022-06-16T06:48:34.060Z"
   },
   {
    "duration": 13,
    "start_time": "2022-06-16T06:48:40.821Z"
   },
   {
    "duration": 8,
    "start_time": "2022-06-16T06:50:01.748Z"
   },
   {
    "duration": 8,
    "start_time": "2022-06-16T06:50:19.359Z"
   },
   {
    "duration": 15,
    "start_time": "2022-06-16T06:50:38.311Z"
   },
   {
    "duration": 14,
    "start_time": "2022-06-16T06:50:55.084Z"
   },
   {
    "duration": 13,
    "start_time": "2022-06-16T06:51:01.713Z"
   },
   {
    "duration": 6,
    "start_time": "2022-06-16T06:51:29.567Z"
   },
   {
    "duration": 13,
    "start_time": "2022-06-16T06:51:46.638Z"
   },
   {
    "duration": 11,
    "start_time": "2022-06-16T06:51:56.261Z"
   },
   {
    "duration": 16,
    "start_time": "2022-06-16T06:52:05.966Z"
   },
   {
    "duration": 3,
    "start_time": "2022-06-16T06:52:38.483Z"
   },
   {
    "duration": 5,
    "start_time": "2022-06-16T06:53:35.851Z"
   },
   {
    "duration": 5,
    "start_time": "2022-06-16T06:53:38.549Z"
   },
   {
    "duration": 10,
    "start_time": "2022-06-16T06:53:52.285Z"
   },
   {
    "duration": 4,
    "start_time": "2022-06-16T06:53:57.136Z"
   },
   {
    "duration": 3,
    "start_time": "2022-06-16T06:54:13.117Z"
   },
   {
    "duration": 3,
    "start_time": "2022-06-16T06:54:19.460Z"
   },
   {
    "duration": 4,
    "start_time": "2022-06-16T06:57:19.871Z"
   },
   {
    "duration": 27,
    "start_time": "2022-06-16T06:58:17.555Z"
   },
   {
    "duration": 35,
    "start_time": "2022-06-16T06:59:25.171Z"
   },
   {
    "duration": 19,
    "start_time": "2022-06-16T06:59:55.221Z"
   },
   {
    "duration": 19,
    "start_time": "2022-06-16T07:00:16.917Z"
   },
   {
    "duration": 21,
    "start_time": "2022-06-16T07:00:26.082Z"
   },
   {
    "duration": 20,
    "start_time": "2022-06-16T07:01:08.590Z"
   },
   {
    "duration": 9,
    "start_time": "2022-06-16T07:01:43.973Z"
   },
   {
    "duration": 10,
    "start_time": "2022-06-16T07:05:32.471Z"
   },
   {
    "duration": 10,
    "start_time": "2022-06-16T07:06:00.260Z"
   },
   {
    "duration": 6,
    "start_time": "2022-06-16T07:06:18.803Z"
   },
   {
    "duration": 98,
    "start_time": "2022-06-16T07:06:54.994Z"
   },
   {
    "duration": 11,
    "start_time": "2022-06-16T07:07:04.017Z"
   },
   {
    "duration": 30,
    "start_time": "2022-06-16T07:10:13.646Z"
   },
   {
    "duration": 28,
    "start_time": "2022-06-16T07:10:19.308Z"
   },
   {
    "duration": 282,
    "start_time": "2022-06-16T07:10:26.541Z"
   },
   {
    "duration": 225,
    "start_time": "2022-06-16T07:10:43.230Z"
   },
   {
    "duration": 32,
    "start_time": "2022-06-16T07:10:49.783Z"
   },
   {
    "duration": 25,
    "start_time": "2022-06-16T07:10:53.792Z"
   },
   {
    "duration": 35,
    "start_time": "2022-06-16T07:10:57.436Z"
   },
   {
    "duration": 32,
    "start_time": "2022-06-16T07:11:05.000Z"
   },
   {
    "duration": 266,
    "start_time": "2022-06-16T07:11:09.863Z"
   },
   {
    "duration": 39,
    "start_time": "2022-06-16T07:13:15.866Z"
   },
   {
    "duration": 108,
    "start_time": "2022-06-16T07:13:25.050Z"
   },
   {
    "duration": 3,
    "start_time": "2022-06-16T07:15:03.909Z"
   },
   {
    "duration": 960,
    "start_time": "2022-06-16T07:15:03.914Z"
   },
   {
    "duration": 70,
    "start_time": "2022-06-16T07:15:04.876Z"
   },
   {
    "duration": 11,
    "start_time": "2022-06-16T07:15:04.948Z"
   },
   {
    "duration": 6,
    "start_time": "2022-06-16T07:15:04.960Z"
   },
   {
    "duration": 6,
    "start_time": "2022-06-16T07:15:04.967Z"
   },
   {
    "duration": 10,
    "start_time": "2022-06-16T07:15:04.974Z"
   },
   {
    "duration": 7,
    "start_time": "2022-06-16T07:15:04.986Z"
   },
   {
    "duration": 14,
    "start_time": "2022-06-16T07:15:04.994Z"
   },
   {
    "duration": 51,
    "start_time": "2022-06-16T07:15:05.010Z"
   },
   {
    "duration": 15,
    "start_time": "2022-06-16T07:15:05.064Z"
   },
   {
    "duration": 11,
    "start_time": "2022-06-16T07:15:05.080Z"
   },
   {
    "duration": 12,
    "start_time": "2022-06-16T07:15:05.092Z"
   },
   {
    "duration": 10,
    "start_time": "2022-06-16T07:15:05.106Z"
   },
   {
    "duration": 11,
    "start_time": "2022-06-16T07:15:05.117Z"
   },
   {
    "duration": 6,
    "start_time": "2022-06-16T07:15:05.130Z"
   },
   {
    "duration": 4,
    "start_time": "2022-06-16T07:15:05.137Z"
   },
   {
    "duration": 14,
    "start_time": "2022-06-16T07:15:05.142Z"
   },
   {
    "duration": 10,
    "start_time": "2022-06-16T07:15:05.157Z"
   },
   {
    "duration": 11,
    "start_time": "2022-06-16T07:15:05.168Z"
   },
   {
    "duration": 8,
    "start_time": "2022-06-16T07:15:05.181Z"
   },
   {
    "duration": 7,
    "start_time": "2022-06-16T07:15:05.190Z"
   },
   {
    "duration": 6,
    "start_time": "2022-06-16T07:15:05.198Z"
   },
   {
    "duration": 21,
    "start_time": "2022-06-16T07:15:05.206Z"
   },
   {
    "duration": 268,
    "start_time": "2022-06-16T07:15:05.228Z"
   },
   {
    "duration": 0,
    "start_time": "2022-06-16T07:15:05.498Z"
   },
   {
    "duration": 0,
    "start_time": "2022-06-16T07:15:05.499Z"
   },
   {
    "duration": 0,
    "start_time": "2022-06-16T07:15:05.500Z"
   },
   {
    "duration": 0,
    "start_time": "2022-06-16T07:15:05.501Z"
   },
   {
    "duration": 0,
    "start_time": "2022-06-16T07:15:05.502Z"
   },
   {
    "duration": 0,
    "start_time": "2022-06-16T07:15:05.503Z"
   },
   {
    "duration": 0,
    "start_time": "2022-06-16T07:15:05.504Z"
   },
   {
    "duration": 0,
    "start_time": "2022-06-16T07:15:05.505Z"
   },
   {
    "duration": 0,
    "start_time": "2022-06-16T07:15:05.506Z"
   },
   {
    "duration": 0,
    "start_time": "2022-06-16T07:15:05.507Z"
   },
   {
    "duration": 0,
    "start_time": "2022-06-16T07:15:05.526Z"
   },
   {
    "duration": 0,
    "start_time": "2022-06-16T07:15:05.527Z"
   },
   {
    "duration": 0,
    "start_time": "2022-06-16T07:15:05.528Z"
   },
   {
    "duration": 0,
    "start_time": "2022-06-16T07:15:05.528Z"
   },
   {
    "duration": 0,
    "start_time": "2022-06-16T07:15:05.529Z"
   },
   {
    "duration": 0,
    "start_time": "2022-06-16T07:15:05.530Z"
   },
   {
    "duration": 0,
    "start_time": "2022-06-16T07:15:05.531Z"
   },
   {
    "duration": 0,
    "start_time": "2022-06-16T07:15:05.532Z"
   },
   {
    "duration": 0,
    "start_time": "2022-06-16T07:15:05.533Z"
   },
   {
    "duration": 0,
    "start_time": "2022-06-16T07:15:05.534Z"
   },
   {
    "duration": 0,
    "start_time": "2022-06-16T07:15:05.535Z"
   },
   {
    "duration": 0,
    "start_time": "2022-06-16T07:15:05.536Z"
   },
   {
    "duration": 0,
    "start_time": "2022-06-16T07:15:05.537Z"
   },
   {
    "duration": 0,
    "start_time": "2022-06-16T07:15:05.538Z"
   },
   {
    "duration": 0,
    "start_time": "2022-06-16T07:15:05.539Z"
   },
   {
    "duration": 0,
    "start_time": "2022-06-16T07:15:05.539Z"
   },
   {
    "duration": 0,
    "start_time": "2022-06-16T07:15:05.540Z"
   },
   {
    "duration": 0,
    "start_time": "2022-06-16T07:15:05.541Z"
   },
   {
    "duration": 0,
    "start_time": "2022-06-16T07:15:05.542Z"
   },
   {
    "duration": 0,
    "start_time": "2022-06-16T07:15:05.543Z"
   },
   {
    "duration": 0,
    "start_time": "2022-06-16T07:15:05.544Z"
   },
   {
    "duration": 0,
    "start_time": "2022-06-16T07:15:05.545Z"
   },
   {
    "duration": 0,
    "start_time": "2022-06-16T07:15:05.546Z"
   },
   {
    "duration": 0,
    "start_time": "2022-06-16T07:15:05.547Z"
   },
   {
    "duration": 0,
    "start_time": "2022-06-16T07:15:05.548Z"
   },
   {
    "duration": 0,
    "start_time": "2022-06-16T07:15:05.549Z"
   },
   {
    "duration": 0,
    "start_time": "2022-06-16T07:15:05.550Z"
   },
   {
    "duration": 4,
    "start_time": "2022-06-16T07:15:57.391Z"
   },
   {
    "duration": 24,
    "start_time": "2022-06-16T07:16:00.384Z"
   },
   {
    "duration": 3,
    "start_time": "2022-06-16T07:16:36.341Z"
   },
   {
    "duration": 3,
    "start_time": "2022-06-16T07:16:44.192Z"
   },
   {
    "duration": 965,
    "start_time": "2022-06-16T07:16:44.197Z"
   },
   {
    "duration": 75,
    "start_time": "2022-06-16T07:16:45.164Z"
   },
   {
    "duration": 10,
    "start_time": "2022-06-16T07:16:45.240Z"
   },
   {
    "duration": 15,
    "start_time": "2022-06-16T07:16:45.252Z"
   },
   {
    "duration": 23,
    "start_time": "2022-06-16T07:16:45.268Z"
   },
   {
    "duration": 15,
    "start_time": "2022-06-16T07:16:45.293Z"
   },
   {
    "duration": 5,
    "start_time": "2022-06-16T07:16:45.310Z"
   },
   {
    "duration": 24,
    "start_time": "2022-06-16T07:16:45.317Z"
   },
   {
    "duration": 58,
    "start_time": "2022-06-16T07:16:45.343Z"
   },
   {
    "duration": 15,
    "start_time": "2022-06-16T07:16:45.403Z"
   },
   {
    "duration": 14,
    "start_time": "2022-06-16T07:16:45.419Z"
   },
   {
    "duration": 22,
    "start_time": "2022-06-16T07:16:45.435Z"
   },
   {
    "duration": 21,
    "start_time": "2022-06-16T07:16:45.459Z"
   },
   {
    "duration": 20,
    "start_time": "2022-06-16T07:16:45.482Z"
   },
   {
    "duration": 16,
    "start_time": "2022-06-16T07:16:45.503Z"
   },
   {
    "duration": 34,
    "start_time": "2022-06-16T07:16:45.521Z"
   },
   {
    "duration": 21,
    "start_time": "2022-06-16T07:16:45.556Z"
   },
   {
    "duration": 18,
    "start_time": "2022-06-16T07:16:45.578Z"
   },
   {
    "duration": 26,
    "start_time": "2022-06-16T07:16:45.597Z"
   },
   {
    "duration": 20,
    "start_time": "2022-06-16T07:16:45.624Z"
   },
   {
    "duration": 32,
    "start_time": "2022-06-16T07:16:45.645Z"
   },
   {
    "duration": 10,
    "start_time": "2022-06-16T07:16:45.679Z"
   },
   {
    "duration": 31,
    "start_time": "2022-06-16T07:16:45.690Z"
   },
   {
    "duration": 37,
    "start_time": "2022-06-16T07:16:45.722Z"
   },
   {
    "duration": 291,
    "start_time": "2022-06-16T07:16:45.761Z"
   },
   {
    "duration": 13,
    "start_time": "2022-06-16T07:16:46.054Z"
   },
   {
    "duration": 237,
    "start_time": "2022-06-16T07:16:46.068Z"
   },
   {
    "duration": 144,
    "start_time": "2022-06-16T07:16:46.308Z"
   },
   {
    "duration": 278,
    "start_time": "2022-06-16T07:16:46.453Z"
   },
   {
    "duration": 266,
    "start_time": "2022-06-16T07:16:46.732Z"
   },
   {
    "duration": 0,
    "start_time": "2022-06-16T07:16:46.999Z"
   },
   {
    "duration": 1,
    "start_time": "2022-06-16T07:16:47.000Z"
   },
   {
    "duration": 0,
    "start_time": "2022-06-16T07:16:47.001Z"
   },
   {
    "duration": 0,
    "start_time": "2022-06-16T07:16:47.002Z"
   },
   {
    "duration": 0,
    "start_time": "2022-06-16T07:16:47.003Z"
   },
   {
    "duration": 0,
    "start_time": "2022-06-16T07:16:47.004Z"
   },
   {
    "duration": 0,
    "start_time": "2022-06-16T07:16:47.005Z"
   },
   {
    "duration": 0,
    "start_time": "2022-06-16T07:16:47.006Z"
   },
   {
    "duration": 0,
    "start_time": "2022-06-16T07:16:47.007Z"
   },
   {
    "duration": 0,
    "start_time": "2022-06-16T07:16:47.007Z"
   },
   {
    "duration": 0,
    "start_time": "2022-06-16T07:16:47.008Z"
   },
   {
    "duration": 0,
    "start_time": "2022-06-16T07:16:47.025Z"
   },
   {
    "duration": 0,
    "start_time": "2022-06-16T07:16:47.026Z"
   },
   {
    "duration": 0,
    "start_time": "2022-06-16T07:16:47.026Z"
   },
   {
    "duration": 0,
    "start_time": "2022-06-16T07:16:47.027Z"
   },
   {
    "duration": 0,
    "start_time": "2022-06-16T07:16:47.028Z"
   },
   {
    "duration": 0,
    "start_time": "2022-06-16T07:16:47.029Z"
   },
   {
    "duration": 0,
    "start_time": "2022-06-16T07:16:47.030Z"
   },
   {
    "duration": 0,
    "start_time": "2022-06-16T07:16:47.031Z"
   },
   {
    "duration": 0,
    "start_time": "2022-06-16T07:16:47.031Z"
   },
   {
    "duration": 0,
    "start_time": "2022-06-16T07:16:47.032Z"
   },
   {
    "duration": 0,
    "start_time": "2022-06-16T07:16:47.033Z"
   },
   {
    "duration": 0,
    "start_time": "2022-06-16T07:16:47.034Z"
   },
   {
    "duration": 0,
    "start_time": "2022-06-16T07:16:47.035Z"
   },
   {
    "duration": 0,
    "start_time": "2022-06-16T07:16:47.036Z"
   },
   {
    "duration": 0,
    "start_time": "2022-06-16T07:16:47.037Z"
   },
   {
    "duration": 0,
    "start_time": "2022-06-16T07:16:47.038Z"
   },
   {
    "duration": 0,
    "start_time": "2022-06-16T07:16:47.039Z"
   },
   {
    "duration": 0,
    "start_time": "2022-06-16T07:16:47.040Z"
   },
   {
    "duration": 0,
    "start_time": "2022-06-16T07:16:47.040Z"
   },
   {
    "duration": 0,
    "start_time": "2022-06-16T07:16:47.041Z"
   },
   {
    "duration": 0,
    "start_time": "2022-06-16T07:16:47.043Z"
   },
   {
    "duration": 10,
    "start_time": "2022-06-16T07:17:04.452Z"
   },
   {
    "duration": 9,
    "start_time": "2022-06-16T07:17:11.888Z"
   },
   {
    "duration": 10,
    "start_time": "2022-06-16T07:17:14.454Z"
   },
   {
    "duration": 39,
    "start_time": "2022-06-16T07:19:15.551Z"
   },
   {
    "duration": 144,
    "start_time": "2022-06-16T07:19:22.457Z"
   },
   {
    "duration": 2,
    "start_time": "2022-06-16T07:19:31.510Z"
   },
   {
    "duration": 278,
    "start_time": "2022-06-16T07:19:32.660Z"
   },
   {
    "duration": 286,
    "start_time": "2022-06-16T07:19:46.367Z"
   },
   {
    "duration": 238,
    "start_time": "2022-06-16T07:20:05.660Z"
   },
   {
    "duration": 3,
    "start_time": "2022-06-16T07:20:22.680Z"
   },
   {
    "duration": 1098,
    "start_time": "2022-06-16T07:20:22.684Z"
   },
   {
    "duration": 79,
    "start_time": "2022-06-16T07:20:23.783Z"
   },
   {
    "duration": 11,
    "start_time": "2022-06-16T07:20:23.864Z"
   },
   {
    "duration": 19,
    "start_time": "2022-06-16T07:20:23.877Z"
   },
   {
    "duration": 6,
    "start_time": "2022-06-16T07:20:23.897Z"
   },
   {
    "duration": 9,
    "start_time": "2022-06-16T07:20:23.905Z"
   },
   {
    "duration": 11,
    "start_time": "2022-06-16T07:20:23.916Z"
   },
   {
    "duration": 11,
    "start_time": "2022-06-16T07:20:23.930Z"
   },
   {
    "duration": 39,
    "start_time": "2022-06-16T07:20:23.943Z"
   },
   {
    "duration": 15,
    "start_time": "2022-06-16T07:20:23.984Z"
   },
   {
    "duration": 12,
    "start_time": "2022-06-16T07:20:24.001Z"
   },
   {
    "duration": 14,
    "start_time": "2022-06-16T07:20:24.015Z"
   },
   {
    "duration": 14,
    "start_time": "2022-06-16T07:20:24.031Z"
   },
   {
    "duration": 11,
    "start_time": "2022-06-16T07:20:24.047Z"
   },
   {
    "duration": 3,
    "start_time": "2022-06-16T07:20:24.060Z"
   },
   {
    "duration": 4,
    "start_time": "2022-06-16T07:20:24.065Z"
   },
   {
    "duration": 12,
    "start_time": "2022-06-16T07:20:24.070Z"
   },
   {
    "duration": 6,
    "start_time": "2022-06-16T07:20:24.084Z"
   },
   {
    "duration": 34,
    "start_time": "2022-06-16T07:20:24.091Z"
   },
   {
    "duration": 11,
    "start_time": "2022-06-16T07:20:24.127Z"
   },
   {
    "duration": 11,
    "start_time": "2022-06-16T07:20:24.140Z"
   },
   {
    "duration": 12,
    "start_time": "2022-06-16T07:20:24.152Z"
   },
   {
    "duration": 7,
    "start_time": "2022-06-16T07:20:24.168Z"
   },
   {
    "duration": 6,
    "start_time": "2022-06-16T07:20:24.176Z"
   },
   {
    "duration": 11,
    "start_time": "2022-06-16T07:20:24.184Z"
   },
   {
    "duration": 31,
    "start_time": "2022-06-16T07:20:24.196Z"
   },
   {
    "duration": 281,
    "start_time": "2022-06-16T07:20:24.228Z"
   },
   {
    "duration": 18,
    "start_time": "2022-06-16T07:20:24.512Z"
   },
   {
    "duration": 244,
    "start_time": "2022-06-16T07:20:24.531Z"
   },
   {
    "duration": 165,
    "start_time": "2022-06-16T07:20:24.776Z"
   },
   {
    "duration": 256,
    "start_time": "2022-06-16T07:20:24.943Z"
   },
   {
    "duration": 170,
    "start_time": "2022-06-16T07:20:25.201Z"
   },
   {
    "duration": 2,
    "start_time": "2022-06-16T07:20:25.373Z"
   },
   {
    "duration": 255,
    "start_time": "2022-06-16T07:20:25.377Z"
   },
   {
    "duration": 13,
    "start_time": "2022-06-16T07:20:25.634Z"
   },
   {
    "duration": 6,
    "start_time": "2022-06-16T07:20:25.648Z"
   },
   {
    "duration": 2,
    "start_time": "2022-06-16T07:20:25.655Z"
   },
   {
    "duration": 6,
    "start_time": "2022-06-16T07:20:25.659Z"
   },
   {
    "duration": 122,
    "start_time": "2022-06-16T07:20:25.667Z"
   },
   {
    "duration": 2,
    "start_time": "2022-06-16T07:20:25.791Z"
   },
   {
    "duration": 7,
    "start_time": "2022-06-16T07:20:25.794Z"
   },
   {
    "duration": 110,
    "start_time": "2022-06-16T07:20:25.803Z"
   },
   {
    "duration": 12,
    "start_time": "2022-06-16T07:20:25.915Z"
   },
   {
    "duration": 8,
    "start_time": "2022-06-16T07:20:25.928Z"
   },
   {
    "duration": 128,
    "start_time": "2022-06-16T07:20:25.938Z"
   },
   {
    "duration": 110,
    "start_time": "2022-06-16T07:20:26.067Z"
   },
   {
    "duration": 196,
    "start_time": "2022-06-16T07:20:26.178Z"
   },
   {
    "duration": 122,
    "start_time": "2022-06-16T07:20:26.376Z"
   },
   {
    "duration": 9,
    "start_time": "2022-06-16T07:20:26.500Z"
   },
   {
    "duration": 73,
    "start_time": "2022-06-16T07:20:26.510Z"
   },
   {
    "duration": 65,
    "start_time": "2022-06-16T07:20:26.585Z"
   },
   {
    "duration": 81,
    "start_time": "2022-06-16T07:20:26.651Z"
   },
   {
    "duration": 61,
    "start_time": "2022-06-16T07:20:26.733Z"
   },
   {
    "duration": 37,
    "start_time": "2022-06-16T07:20:26.796Z"
   },
   {
    "duration": 126,
    "start_time": "2022-06-16T07:20:26.834Z"
   },
   {
    "duration": 6,
    "start_time": "2022-06-16T07:20:26.961Z"
   },
   {
    "duration": 25,
    "start_time": "2022-06-16T07:20:26.968Z"
   },
   {
    "duration": 52,
    "start_time": "2022-06-16T07:20:26.995Z"
   },
   {
    "duration": 23,
    "start_time": "2022-06-16T07:20:27.049Z"
   },
   {
    "duration": 15,
    "start_time": "2022-06-16T07:20:27.073Z"
   },
   {
    "duration": 16,
    "start_time": "2022-06-16T07:20:27.090Z"
   },
   {
    "duration": 35,
    "start_time": "2022-06-16T07:20:27.107Z"
   },
   {
    "duration": 17,
    "start_time": "2022-06-16T07:20:27.144Z"
   },
   {
    "duration": 42,
    "start_time": "2022-06-16T07:20:27.162Z"
   },
   {
    "duration": 34,
    "start_time": "2022-06-16T07:20:27.205Z"
   },
   {
    "duration": 233,
    "start_time": "2022-06-16T07:22:51.508Z"
   },
   {
    "duration": 162,
    "start_time": "2022-06-16T07:23:17.615Z"
   },
   {
    "duration": 152,
    "start_time": "2022-06-16T07:23:33.319Z"
   },
   {
    "duration": 161,
    "start_time": "2022-06-16T07:23:42.623Z"
   },
   {
    "duration": 159,
    "start_time": "2022-06-16T07:24:35.001Z"
   },
   {
    "duration": 165,
    "start_time": "2022-06-16T07:25:21.742Z"
   },
   {
    "duration": 163,
    "start_time": "2022-06-16T07:26:37.611Z"
   },
   {
    "duration": 166,
    "start_time": "2022-06-16T07:27:17.864Z"
   },
   {
    "duration": 303,
    "start_time": "2022-06-16T07:48:10.228Z"
   },
   {
    "duration": 428,
    "start_time": "2022-06-16T07:48:24.061Z"
   },
   {
    "duration": 328,
    "start_time": "2022-06-16T07:51:50.494Z"
   },
   {
    "duration": 272,
    "start_time": "2022-06-16T07:52:08.455Z"
   },
   {
    "duration": 198,
    "start_time": "2022-06-16T07:52:27.930Z"
   },
   {
    "duration": 190,
    "start_time": "2022-06-16T07:52:48.289Z"
   },
   {
    "duration": 200,
    "start_time": "2022-06-16T07:52:50.732Z"
   },
   {
    "duration": 198,
    "start_time": "2022-06-16T07:53:11.482Z"
   },
   {
    "duration": 312,
    "start_time": "2022-06-16T07:54:24.908Z"
   },
   {
    "duration": 257,
    "start_time": "2022-06-16T07:54:36.880Z"
   },
   {
    "duration": 48,
    "start_time": "2022-06-16T08:02:28.293Z"
   },
   {
    "duration": 171,
    "start_time": "2022-06-16T08:14:10.455Z"
   },
   {
    "duration": 47,
    "start_time": "2022-06-16T08:14:39.357Z"
   },
   {
    "duration": 47,
    "start_time": "2022-06-16T08:14:39.570Z"
   },
   {
    "duration": 57,
    "start_time": "2022-06-16T08:14:39.776Z"
   },
   {
    "duration": 60,
    "start_time": "2022-06-16T08:14:39.990Z"
   },
   {
    "duration": 29,
    "start_time": "2022-06-16T08:14:40.302Z"
   },
   {
    "duration": 139,
    "start_time": "2022-06-16T08:14:46.858Z"
   },
   {
    "duration": 86,
    "start_time": "2022-06-16T08:15:22.674Z"
   },
   {
    "duration": 17,
    "start_time": "2022-06-16T08:41:08.506Z"
   },
   {
    "duration": 4,
    "start_time": "2022-06-16T08:45:10.135Z"
   },
   {
    "duration": 977,
    "start_time": "2022-06-16T08:45:10.141Z"
   },
   {
    "duration": 72,
    "start_time": "2022-06-16T08:45:11.119Z"
   },
   {
    "duration": 11,
    "start_time": "2022-06-16T08:45:11.192Z"
   },
   {
    "duration": 5,
    "start_time": "2022-06-16T08:45:11.204Z"
   },
   {
    "duration": 7,
    "start_time": "2022-06-16T08:45:11.210Z"
   },
   {
    "duration": 24,
    "start_time": "2022-06-16T08:45:11.218Z"
   },
   {
    "duration": 18,
    "start_time": "2022-06-16T08:45:11.243Z"
   },
   {
    "duration": 11,
    "start_time": "2022-06-16T08:45:11.263Z"
   },
   {
    "duration": 40,
    "start_time": "2022-06-16T08:45:11.276Z"
   },
   {
    "duration": 23,
    "start_time": "2022-06-16T08:45:11.318Z"
   },
   {
    "duration": 12,
    "start_time": "2022-06-16T08:45:11.342Z"
   },
   {
    "duration": 10,
    "start_time": "2022-06-16T08:45:11.356Z"
   },
   {
    "duration": 12,
    "start_time": "2022-06-16T08:45:11.368Z"
   },
   {
    "duration": 11,
    "start_time": "2022-06-16T08:45:11.381Z"
   },
   {
    "duration": 6,
    "start_time": "2022-06-16T08:45:11.393Z"
   },
   {
    "duration": 4,
    "start_time": "2022-06-16T08:45:11.401Z"
   },
   {
    "duration": 20,
    "start_time": "2022-06-16T08:45:11.406Z"
   },
   {
    "duration": 15,
    "start_time": "2022-06-16T08:45:11.429Z"
   },
   {
    "duration": 16,
    "start_time": "2022-06-16T08:45:11.445Z"
   },
   {
    "duration": 14,
    "start_time": "2022-06-16T08:45:11.462Z"
   },
   {
    "duration": 16,
    "start_time": "2022-06-16T08:45:11.477Z"
   },
   {
    "duration": 12,
    "start_time": "2022-06-16T08:45:11.494Z"
   },
   {
    "duration": 7,
    "start_time": "2022-06-16T08:45:11.509Z"
   },
   {
    "duration": 25,
    "start_time": "2022-06-16T08:45:11.517Z"
   },
   {
    "duration": 8,
    "start_time": "2022-06-16T08:45:11.543Z"
   },
   {
    "duration": 7,
    "start_time": "2022-06-16T08:45:11.553Z"
   },
   {
    "duration": 281,
    "start_time": "2022-06-16T08:45:11.561Z"
   },
   {
    "duration": 11,
    "start_time": "2022-06-16T08:45:11.843Z"
   },
   {
    "duration": 286,
    "start_time": "2022-06-16T08:45:11.856Z"
   },
   {
    "duration": 174,
    "start_time": "2022-06-16T08:45:12.144Z"
   },
   {
    "duration": 322,
    "start_time": "2022-06-16T08:45:12.320Z"
   },
   {
    "duration": 191,
    "start_time": "2022-06-16T08:45:12.644Z"
   },
   {
    "duration": 298,
    "start_time": "2022-06-16T08:45:12.837Z"
   },
   {
    "duration": 13,
    "start_time": "2022-06-16T08:45:13.137Z"
   },
   {
    "duration": 5,
    "start_time": "2022-06-16T08:45:13.151Z"
   },
   {
    "duration": 4,
    "start_time": "2022-06-16T08:45:13.157Z"
   },
   {
    "duration": 10,
    "start_time": "2022-06-16T08:45:13.162Z"
   },
   {
    "duration": 122,
    "start_time": "2022-06-16T08:45:13.173Z"
   },
   {
    "duration": 2,
    "start_time": "2022-06-16T08:45:13.296Z"
   },
   {
    "duration": 6,
    "start_time": "2022-06-16T08:45:13.300Z"
   },
   {
    "duration": 133,
    "start_time": "2022-06-16T08:45:13.307Z"
   },
   {
    "duration": 4,
    "start_time": "2022-06-16T08:45:13.442Z"
   },
   {
    "duration": 8,
    "start_time": "2022-06-16T08:45:13.448Z"
   },
   {
    "duration": 122,
    "start_time": "2022-06-16T08:45:13.458Z"
   },
   {
    "duration": 113,
    "start_time": "2022-06-16T08:45:13.582Z"
   },
   {
    "duration": 208,
    "start_time": "2022-06-16T08:45:13.697Z"
   },
   {
    "duration": 157,
    "start_time": "2022-06-16T08:45:13.907Z"
   },
   {
    "duration": 6,
    "start_time": "2022-06-16T08:45:14.066Z"
   },
   {
    "duration": 14,
    "start_time": "2022-06-16T08:45:14.073Z"
   },
   {
    "duration": 8,
    "start_time": "2022-06-16T08:45:14.088Z"
   },
   {
    "duration": 15,
    "start_time": "2022-06-16T08:45:14.097Z"
   },
   {
    "duration": 26,
    "start_time": "2022-06-16T08:45:14.113Z"
   },
   {
    "duration": 17,
    "start_time": "2022-06-16T08:45:14.141Z"
   },
   {
    "duration": 129,
    "start_time": "2022-06-16T08:45:14.159Z"
   },
   {
    "duration": 6,
    "start_time": "2022-06-16T08:45:14.289Z"
   },
   {
    "duration": 6,
    "start_time": "2022-06-16T08:45:14.297Z"
   },
   {
    "duration": 32,
    "start_time": "2022-06-16T08:45:14.305Z"
   },
   {
    "duration": 17,
    "start_time": "2022-06-16T08:45:14.338Z"
   },
   {
    "duration": 4,
    "start_time": "2022-06-16T08:45:14.357Z"
   },
   {
    "duration": 5,
    "start_time": "2022-06-16T08:45:14.363Z"
   },
   {
    "duration": 12,
    "start_time": "2022-06-16T08:45:14.369Z"
   },
   {
    "duration": 8,
    "start_time": "2022-06-16T08:45:14.382Z"
   },
   {
    "duration": 54,
    "start_time": "2022-06-16T08:45:14.391Z"
   },
   {
    "duration": 12,
    "start_time": "2022-06-16T08:45:14.446Z"
   },
   {
    "duration": 18,
    "start_time": "2022-06-16T08:46:49.053Z"
   },
   {
    "duration": 4,
    "start_time": "2022-06-16T08:46:59.431Z"
   },
   {
    "duration": 3,
    "start_time": "2022-06-16T08:46:59.764Z"
   },
   {
    "duration": 17,
    "start_time": "2022-06-16T08:48:34.020Z"
   },
   {
    "duration": 3,
    "start_time": "2022-06-16T08:48:53.546Z"
   },
   {
    "duration": 16,
    "start_time": "2022-06-16T08:48:53.792Z"
   },
   {
    "duration": 2,
    "start_time": "2022-06-16T08:49:17.123Z"
   },
   {
    "duration": 21,
    "start_time": "2022-06-16T08:49:18.830Z"
   },
   {
    "duration": 17,
    "start_time": "2022-06-16T08:49:24.691Z"
   },
   {
    "duration": 18,
    "start_time": "2022-06-16T08:49:37.784Z"
   },
   {
    "duration": 10,
    "start_time": "2022-06-16T08:49:58.514Z"
   },
   {
    "duration": 19,
    "start_time": "2022-06-16T08:50:36.199Z"
   },
   {
    "duration": 4,
    "start_time": "2022-06-16T08:50:36.353Z"
   },
   {
    "duration": 7,
    "start_time": "2022-06-16T08:51:09.968Z"
   },
   {
    "duration": 4,
    "start_time": "2022-06-16T08:51:17.027Z"
   },
   {
    "duration": 162,
    "start_time": "2022-06-16T09:01:57.945Z"
   },
   {
    "duration": 35,
    "start_time": "2022-06-16T09:08:00.664Z"
   },
   {
    "duration": 25,
    "start_time": "2022-06-16T09:08:02.699Z"
   },
   {
    "duration": 4,
    "start_time": "2022-06-16T09:08:36.771Z"
   },
   {
    "duration": 20,
    "start_time": "2022-06-16T09:08:37.186Z"
   },
   {
    "duration": 4,
    "start_time": "2022-06-16T09:08:37.558Z"
   },
   {
    "duration": 3,
    "start_time": "2022-06-16T09:14:16.589Z"
   },
   {
    "duration": 18,
    "start_time": "2022-06-16T09:14:16.802Z"
   },
   {
    "duration": 4,
    "start_time": "2022-06-16T09:14:16.994Z"
   },
   {
    "duration": 146,
    "start_time": "2022-06-16T09:14:19.456Z"
   },
   {
    "duration": 204,
    "start_time": "2022-06-16T09:20:04.169Z"
   },
   {
    "duration": 147,
    "start_time": "2022-06-16T09:21:30.438Z"
   },
   {
    "duration": 6,
    "start_time": "2022-06-16T09:22:13.588Z"
   },
   {
    "duration": 5,
    "start_time": "2022-06-16T09:22:48.954Z"
   },
   {
    "duration": 10,
    "start_time": "2022-06-16T09:23:40.479Z"
   },
   {
    "duration": 10,
    "start_time": "2022-06-16T09:24:05.274Z"
   },
   {
    "duration": 12,
    "start_time": "2022-06-16T09:24:16.743Z"
   },
   {
    "duration": 11,
    "start_time": "2022-06-16T09:24:26.445Z"
   },
   {
    "duration": 5,
    "start_time": "2022-06-16T09:31:16.182Z"
   },
   {
    "duration": 7,
    "start_time": "2022-06-16T09:31:28.725Z"
   },
   {
    "duration": 3,
    "start_time": "2022-06-16T09:48:44.539Z"
   },
   {
    "duration": 54,
    "start_time": "2022-06-16T09:51:56.410Z"
   },
   {
    "duration": 25,
    "start_time": "2022-06-16T09:51:58.382Z"
   },
   {
    "duration": 61,
    "start_time": "2022-06-16T09:52:19.777Z"
   },
   {
    "duration": 40,
    "start_time": "2022-06-16T10:02:02.130Z"
   },
   {
    "duration": 3,
    "start_time": "2022-06-16T10:33:32.856Z"
   },
   {
    "duration": 18,
    "start_time": "2022-06-16T10:33:33.056Z"
   },
   {
    "duration": 3,
    "start_time": "2022-06-16T10:33:33.787Z"
   },
   {
    "duration": 3,
    "start_time": "2022-06-16T10:41:48.109Z"
   },
   {
    "duration": 23,
    "start_time": "2022-06-16T10:43:59.375Z"
   },
   {
    "duration": 17,
    "start_time": "2022-06-16T10:44:21.241Z"
   },
   {
    "duration": 3,
    "start_time": "2022-06-16T10:44:37.604Z"
   },
   {
    "duration": 3,
    "start_time": "2022-06-16T10:44:53.453Z"
   },
   {
    "duration": 3,
    "start_time": "2022-06-16T10:46:19.582Z"
   },
   {
    "duration": 3,
    "start_time": "2022-06-16T10:46:28.091Z"
   },
   {
    "duration": 48,
    "start_time": "2022-06-16T10:53:11.394Z"
   },
   {
    "duration": 77,
    "start_time": "2022-06-16T11:19:12.600Z"
   },
   {
    "duration": 45,
    "start_time": "2022-06-17T09:04:55.019Z"
   }
  ],
  "kernelspec": {
   "display_name": "Python 3 (ipykernel)",
   "language": "python",
   "name": "python3"
  },
  "language_info": {
   "codemirror_mode": {
    "name": "ipython",
    "version": 3
   },
   "file_extension": ".py",
   "mimetype": "text/x-python",
   "name": "python",
   "nbconvert_exporter": "python",
   "pygments_lexer": "ipython3",
   "version": "3.9.7"
  },
  "toc": {
   "base_numbering": 1,
   "nav_menu": {},
   "number_sections": true,
   "sideBar": true,
   "skip_h1_title": true,
   "title_cell": "Table of Contents",
   "title_sidebar": "Contents",
   "toc_cell": false,
   "toc_position": {},
   "toc_section_display": true,
   "toc_window_display": false
  }
 },
 "nbformat": 4,
 "nbformat_minor": 2
}
