{
 "cells": [
  {
   "cell_type": "markdown",
   "id": "a38bf5aa",
   "metadata": {},
   "source": [
    "<div style=\"border:solid green 3px; padding: 20px\">\n",
    "\n",
    "<b>Привет!</b>\n",
    "\n",
    "Меня зовут Сороколетов Илья и я буду проверять твой проект. \n",
    "\n",
    "Предлагаю общаться на «**ты**», но если тебе будет комфортнее общаться на «**вы**», то сообщи об этом в комментариях)\n",
    "\n",
    "\n",
    "Для твоего удобства, я буду выделять свои комментарии следующим образом:\n",
    "\n",
    "<div class=\"alert alert-danger\">\n",
    "<b>❌ Комментарий ревьюера v1:</b> Самые важные замечания. Они указывают на ключевые моменты, которые влияют на конечный результат проекта. </div>\n",
    "\n",
    "<div class=\"alert alert-warning\">\n",
    "<b>⚠️ Комментарий ревьюера v1:</b> Советы или замечания, которые помогут сделать твою работу лучше, но необязательны к выполнению.\n",
    "\n",
    "</div>\n",
    "\n",
    "<div class=\"alert alert-success\">\n",
    "<b>✔️ Комментарий ревьюера v1:</b> Так я выделяю все остальные комментарии.</div>\n",
    "\n",
    "\n",
    "Пометками <b>v1-v2-v3-...</b> я буду отмечать версию проверки. Так ты сможешь быстро найти мои новые комментарии.\n",
    "\n",
    "Давай работать над проектом в диалоге: если ты что-то меняешь в проекте по моим рекомендациям — пиши об этом. Выбери для своих комментариев какой-то заметный цвет, так мне будет легче отследить изменения, например вот так:\n",
    "<div class=\"alert alert-info\">\n",
    "<b>Комментарий студента:</b>\n",
    "<br>\n",
    "</div>\n",
    "\n",
    "<b>Пожалуйста, не перемещай, не изменяй и не удаляй мои комментарии.</b> Если ты оставляешь свои комментарии, то делай это под моими, чтобы сообщения были расположены в хронологическом порядке. Всё это поможет выполнить повторную проверку твоего проекта быстрее. \n",
    " Если ты оставляешь свои комментарии, то делай это под моими, чтобы сообщения были расположены в хронологическом порядке. Всё это поможет выполнить повторную проверку твоего проекта быстрее. \n",
    "\n",
    "Перед отправкой работы я рекомендую нажимать Kernel -> Restart & Run All. Это перезапустит ядро и по очереди выполнит все ячейки. Так ты сможешь проверить, что всё работает корректно. Кнопка Kernel находится в панели сверху\n",
    "\n",
    "Обязательно задавай вопросы если они возникнут, а я перехожу к проверке)\n",
    "\n",
    "P.S. На всякий случай, я оставлю пустой шаблон для твоих комментариев в ячейке ниже. Кликни на него два раза, скопируй код и вставляй его в пустую ячейку там, где ты хочешь оставить комментарий. Не забудь только перед этим сменить тип ячейки на Markdown. Быстро это можно сделать так: кликнуть на ячейку-нажать ESC-нажать M. \n",
    "\n"
   ]
  },
  {
   "cell_type": "markdown",
   "id": "921999d7",
   "metadata": {},
   "source": [
    "<div class=\"alert alert-info\">\n",
    "<b>Комментарий студента:</b>\n",
    "<br>Место для твоего комментария\n",
    "</div>"
   ]
  },
  {
   "cell_type": "markdown",
   "id": "82b18842",
   "metadata": {},
   "source": [
    "# Исследование надежности заемщиков."
   ]
  },
  {
   "cell_type": "markdown",
   "id": "851aea9b",
   "metadata": {},
   "source": [
    "<div class=\"alert alert-warning\">\n",
    "<b>⚠️ Комментарий ревьюера v1:</b> \n",
    "<br>Лучше оставляй перед проектом краткое описание задачи. Это поможет тебе быстро вспомнить о чем проект, если спустя время ты решишь к нему вернуться)\n",
    "</div>"
   ]
  },
  {
   "cell_type": "markdown",
   "id": "c1a7bc62",
   "metadata": {},
   "source": [
    "### Шаг 1. Обзор данных"
   ]
  },
  {
   "cell_type": "code",
   "execution_count": 1,
   "id": "d4b94254",
   "metadata": {},
   "outputs": [],
   "source": [
    "import pandas as pd"
   ]
  },
  {
   "cell_type": "markdown",
   "id": "2efdde0c",
   "metadata": {},
   "source": [
    "<div class=\"alert alert-danger\">\n",
    "<b>❌ Комментарий ревьюера v1:</b> \n",
    "<br>В этом шаге производится загрузка данных и их анализ.   \n",
    "<br>Тут необходимо применить хотя бы метод info() и написать короткий вывод о проблемах с данными (пропуски, дубликаты, неверный тип данных, странные значения и т.д.)\n",
    "</div>"
   ]
  },
  {
   "cell_type": "markdown",
   "id": "6bc32387",
   "metadata": {},
   "source": [
    "<div class=\"alert alert-info\">\n",
    "<b>Комментарий студента:</b>\n",
    "<br> я все методы первой визуализации данных писал во втором шаге : info(), head(), data.isna().sum()... но сейчас добавил dtscribe ниже + оставил короткий вывод \n",
    "</div>"
   ]
  },
  {
   "cell_type": "markdown",
   "id": "3c952f67",
   "metadata": {},
   "source": [
    "<div class=\"alert alert-info\">\n",
    "<b>Комментарий студента:</b>\n",
    "<br> короткий вывод о проблемах с данными : в столбцов days_employed отрицательные значения и даже пропуски \"NAN\", в столбце education содержутся заглавных и строчных букв.. нужно проверять назвивания столбцов, скажем \"purpose\", и переминовать где нужно...\n",
    "</div>"
   ]
  },
  {
   "cell_type": "markdown",
   "id": "dc7fe287",
   "metadata": {},
   "source": [
    "<div class=\"alert alert-success\">\n",
    "<b>✔️ Комментарий ревьюера v2:</b> \n",
    "<br>Отличный анализ!\n",
    "</div>"
   ]
  },
  {
   "cell_type": "code",
   "execution_count": 2,
   "id": "297b93d8",
   "metadata": {},
   "outputs": [],
   "source": [
    "data = pd.read_csv('/datasets/data.csv')\n"
   ]
  },
  {
   "cell_type": "code",
   "execution_count": 3,
   "id": "40bdb009",
   "metadata": {},
   "outputs": [
    {
     "name": "stdout",
     "output_type": "stream",
     "text": [
      "<class 'pandas.core.frame.DataFrame'>\n",
      "RangeIndex: 21525 entries, 0 to 21524\n",
      "Data columns (total 12 columns):\n",
      "children            21525 non-null int64\n",
      "days_employed       19351 non-null float64\n",
      "dob_years           21525 non-null int64\n",
      "education           21525 non-null object\n",
      "education_id        21525 non-null int64\n",
      "family_status       21525 non-null object\n",
      "family_status_id    21525 non-null int64\n",
      "gender              21525 non-null object\n",
      "income_type         21525 non-null object\n",
      "debt                21525 non-null int64\n",
      "total_income        19351 non-null float64\n",
      "purpose             21525 non-null object\n",
      "dtypes: float64(2), int64(5), object(5)\n",
      "memory usage: 2.0+ MB\n"
     ]
    }
   ],
   "source": [
    "data.info()"
   ]
  },
  {
   "cell_type": "code",
   "execution_count": 4,
   "id": "c803d387",
   "metadata": {},
   "outputs": [
    {
     "data": {
      "text/html": [
       "<div>\n",
       "<style scoped>\n",
       "    .dataframe tbody tr th:only-of-type {\n",
       "        vertical-align: middle;\n",
       "    }\n",
       "\n",
       "    .dataframe tbody tr th {\n",
       "        vertical-align: top;\n",
       "    }\n",
       "\n",
       "    .dataframe thead th {\n",
       "        text-align: right;\n",
       "    }\n",
       "</style>\n",
       "<table border=\"1\" class=\"dataframe\">\n",
       "  <thead>\n",
       "    <tr style=\"text-align: right;\">\n",
       "      <th></th>\n",
       "      <th>children</th>\n",
       "      <th>days_employed</th>\n",
       "      <th>dob_years</th>\n",
       "      <th>education_id</th>\n",
       "      <th>family_status_id</th>\n",
       "      <th>debt</th>\n",
       "      <th>total_income</th>\n",
       "    </tr>\n",
       "  </thead>\n",
       "  <tbody>\n",
       "    <tr>\n",
       "      <td>count</td>\n",
       "      <td>21525.000000</td>\n",
       "      <td>19351.000000</td>\n",
       "      <td>21525.000000</td>\n",
       "      <td>21525.000000</td>\n",
       "      <td>21525.000000</td>\n",
       "      <td>21525.000000</td>\n",
       "      <td>1.935100e+04</td>\n",
       "    </tr>\n",
       "    <tr>\n",
       "      <td>mean</td>\n",
       "      <td>0.538908</td>\n",
       "      <td>63046.497661</td>\n",
       "      <td>43.293380</td>\n",
       "      <td>0.817236</td>\n",
       "      <td>0.972544</td>\n",
       "      <td>0.080883</td>\n",
       "      <td>1.674223e+05</td>\n",
       "    </tr>\n",
       "    <tr>\n",
       "      <td>std</td>\n",
       "      <td>1.381587</td>\n",
       "      <td>140827.311974</td>\n",
       "      <td>12.574584</td>\n",
       "      <td>0.548138</td>\n",
       "      <td>1.420324</td>\n",
       "      <td>0.272661</td>\n",
       "      <td>1.029716e+05</td>\n",
       "    </tr>\n",
       "    <tr>\n",
       "      <td>min</td>\n",
       "      <td>-1.000000</td>\n",
       "      <td>-18388.949901</td>\n",
       "      <td>0.000000</td>\n",
       "      <td>0.000000</td>\n",
       "      <td>0.000000</td>\n",
       "      <td>0.000000</td>\n",
       "      <td>2.066726e+04</td>\n",
       "    </tr>\n",
       "    <tr>\n",
       "      <td>25%</td>\n",
       "      <td>0.000000</td>\n",
       "      <td>-2747.423625</td>\n",
       "      <td>33.000000</td>\n",
       "      <td>1.000000</td>\n",
       "      <td>0.000000</td>\n",
       "      <td>0.000000</td>\n",
       "      <td>1.030532e+05</td>\n",
       "    </tr>\n",
       "    <tr>\n",
       "      <td>50%</td>\n",
       "      <td>0.000000</td>\n",
       "      <td>-1203.369529</td>\n",
       "      <td>42.000000</td>\n",
       "      <td>1.000000</td>\n",
       "      <td>0.000000</td>\n",
       "      <td>0.000000</td>\n",
       "      <td>1.450179e+05</td>\n",
       "    </tr>\n",
       "    <tr>\n",
       "      <td>75%</td>\n",
       "      <td>1.000000</td>\n",
       "      <td>-291.095954</td>\n",
       "      <td>53.000000</td>\n",
       "      <td>1.000000</td>\n",
       "      <td>1.000000</td>\n",
       "      <td>0.000000</td>\n",
       "      <td>2.034351e+05</td>\n",
       "    </tr>\n",
       "    <tr>\n",
       "      <td>max</td>\n",
       "      <td>20.000000</td>\n",
       "      <td>401755.400475</td>\n",
       "      <td>75.000000</td>\n",
       "      <td>4.000000</td>\n",
       "      <td>4.000000</td>\n",
       "      <td>1.000000</td>\n",
       "      <td>2.265604e+06</td>\n",
       "    </tr>\n",
       "  </tbody>\n",
       "</table>\n",
       "</div>"
      ],
      "text/plain": [
       "           children  days_employed     dob_years  education_id  \\\n",
       "count  21525.000000   19351.000000  21525.000000  21525.000000   \n",
       "mean       0.538908   63046.497661     43.293380      0.817236   \n",
       "std        1.381587  140827.311974     12.574584      0.548138   \n",
       "min       -1.000000  -18388.949901      0.000000      0.000000   \n",
       "25%        0.000000   -2747.423625     33.000000      1.000000   \n",
       "50%        0.000000   -1203.369529     42.000000      1.000000   \n",
       "75%        1.000000    -291.095954     53.000000      1.000000   \n",
       "max       20.000000  401755.400475     75.000000      4.000000   \n",
       "\n",
       "       family_status_id          debt  total_income  \n",
       "count      21525.000000  21525.000000  1.935100e+04  \n",
       "mean           0.972544      0.080883  1.674223e+05  \n",
       "std            1.420324      0.272661  1.029716e+05  \n",
       "min            0.000000      0.000000  2.066726e+04  \n",
       "25%            0.000000      0.000000  1.030532e+05  \n",
       "50%            0.000000      0.000000  1.450179e+05  \n",
       "75%            1.000000      0.000000  2.034351e+05  \n",
       "max            4.000000      1.000000  2.265604e+06  "
      ]
     },
     "execution_count": 4,
     "metadata": {},
     "output_type": "execute_result"
    }
   ],
   "source": [
    "data.describe()"
   ]
  },
  {
   "cell_type": "code",
   "execution_count": 5,
   "id": "d8d97d16",
   "metadata": {},
   "outputs": [
    {
     "data": {
      "text/html": [
       "<div>\n",
       "<style scoped>\n",
       "    .dataframe tbody tr th:only-of-type {\n",
       "        vertical-align: middle;\n",
       "    }\n",
       "\n",
       "    .dataframe tbody tr th {\n",
       "        vertical-align: top;\n",
       "    }\n",
       "\n",
       "    .dataframe thead th {\n",
       "        text-align: right;\n",
       "    }\n",
       "</style>\n",
       "<table border=\"1\" class=\"dataframe\">\n",
       "  <thead>\n",
       "    <tr style=\"text-align: right;\">\n",
       "      <th></th>\n",
       "      <th>children</th>\n",
       "      <th>days_employed</th>\n",
       "      <th>dob_years</th>\n",
       "      <th>education</th>\n",
       "      <th>education_id</th>\n",
       "      <th>family_status</th>\n",
       "      <th>family_status_id</th>\n",
       "      <th>gender</th>\n",
       "      <th>income_type</th>\n",
       "      <th>debt</th>\n",
       "      <th>total_income</th>\n",
       "      <th>purpose</th>\n",
       "    </tr>\n",
       "  </thead>\n",
       "  <tbody>\n",
       "    <tr>\n",
       "      <td>0</td>\n",
       "      <td>1</td>\n",
       "      <td>-8437.673028</td>\n",
       "      <td>42</td>\n",
       "      <td>высшее</td>\n",
       "      <td>0</td>\n",
       "      <td>женат / замужем</td>\n",
       "      <td>0</td>\n",
       "      <td>F</td>\n",
       "      <td>сотрудник</td>\n",
       "      <td>0</td>\n",
       "      <td>253875.639453</td>\n",
       "      <td>покупка жилья</td>\n",
       "    </tr>\n",
       "    <tr>\n",
       "      <td>1</td>\n",
       "      <td>1</td>\n",
       "      <td>-4024.803754</td>\n",
       "      <td>36</td>\n",
       "      <td>среднее</td>\n",
       "      <td>1</td>\n",
       "      <td>женат / замужем</td>\n",
       "      <td>0</td>\n",
       "      <td>F</td>\n",
       "      <td>сотрудник</td>\n",
       "      <td>0</td>\n",
       "      <td>112080.014102</td>\n",
       "      <td>приобретение автомобиля</td>\n",
       "    </tr>\n",
       "    <tr>\n",
       "      <td>2</td>\n",
       "      <td>0</td>\n",
       "      <td>-5623.422610</td>\n",
       "      <td>33</td>\n",
       "      <td>Среднее</td>\n",
       "      <td>1</td>\n",
       "      <td>женат / замужем</td>\n",
       "      <td>0</td>\n",
       "      <td>M</td>\n",
       "      <td>сотрудник</td>\n",
       "      <td>0</td>\n",
       "      <td>145885.952297</td>\n",
       "      <td>покупка жилья</td>\n",
       "    </tr>\n",
       "    <tr>\n",
       "      <td>3</td>\n",
       "      <td>3</td>\n",
       "      <td>-4124.747207</td>\n",
       "      <td>32</td>\n",
       "      <td>среднее</td>\n",
       "      <td>1</td>\n",
       "      <td>женат / замужем</td>\n",
       "      <td>0</td>\n",
       "      <td>M</td>\n",
       "      <td>сотрудник</td>\n",
       "      <td>0</td>\n",
       "      <td>267628.550329</td>\n",
       "      <td>дополнительное образование</td>\n",
       "    </tr>\n",
       "    <tr>\n",
       "      <td>4</td>\n",
       "      <td>0</td>\n",
       "      <td>340266.072047</td>\n",
       "      <td>53</td>\n",
       "      <td>среднее</td>\n",
       "      <td>1</td>\n",
       "      <td>гражданский брак</td>\n",
       "      <td>1</td>\n",
       "      <td>F</td>\n",
       "      <td>пенсионер</td>\n",
       "      <td>0</td>\n",
       "      <td>158616.077870</td>\n",
       "      <td>сыграть свадьбу</td>\n",
       "    </tr>\n",
       "  </tbody>\n",
       "</table>\n",
       "</div>"
      ],
      "text/plain": [
       "   children  days_employed  dob_years education  education_id  \\\n",
       "0         1   -8437.673028         42    высшее             0   \n",
       "1         1   -4024.803754         36   среднее             1   \n",
       "2         0   -5623.422610         33   Среднее             1   \n",
       "3         3   -4124.747207         32   среднее             1   \n",
       "4         0  340266.072047         53   среднее             1   \n",
       "\n",
       "      family_status  family_status_id gender income_type  debt   total_income  \\\n",
       "0   женат / замужем                 0      F   сотрудник     0  253875.639453   \n",
       "1   женат / замужем                 0      F   сотрудник     0  112080.014102   \n",
       "2   женат / замужем                 0      M   сотрудник     0  145885.952297   \n",
       "3   женат / замужем                 0      M   сотрудник     0  267628.550329   \n",
       "4  гражданский брак                 1      F   пенсионер     0  158616.077870   \n",
       "\n",
       "                      purpose  \n",
       "0               покупка жилья  \n",
       "1     приобретение автомобиля  \n",
       "2               покупка жилья  \n",
       "3  дополнительное образование  \n",
       "4             сыграть свадьбу  "
      ]
     },
     "execution_count": 5,
     "metadata": {},
     "output_type": "execute_result"
    }
   ],
   "source": [
    "data.head()"
   ]
  },
  {
   "cell_type": "code",
   "execution_count": 6,
   "id": "42a8f344",
   "metadata": {},
   "outputs": [
    {
     "data": {
      "text/plain": [
       "children               0\n",
       "days_employed       2174\n",
       "dob_years              0\n",
       "education              0\n",
       "education_id           0\n",
       "family_status          0\n",
       "family_status_id       0\n",
       "gender                 0\n",
       "income_type            0\n",
       "debt                   0\n",
       "total_income        2174\n",
       "purpose                0\n",
       "dtype: int64"
      ]
     },
     "execution_count": 6,
     "metadata": {},
     "output_type": "execute_result"
    }
   ],
   "source": [
    "data.isna().sum()"
   ]
  },
  {
   "cell_type": "markdown",
   "id": "8d539baa",
   "metadata": {},
   "source": [
    "### Шаг 2.1 Заполнение пропусков"
   ]
  },
  {
   "cell_type": "code",
   "execution_count": 7,
   "id": "07655628",
   "metadata": {},
   "outputs": [],
   "source": [
    "#Шаг 1. Откройте таблицу и изучите общую информацию о данных\n",
    "data = pd.read_csv('/datasets/data.csv')"
   ]
  },
  {
   "cell_type": "code",
   "execution_count": 8,
   "id": "0ac6bfb1",
   "metadata": {},
   "outputs": [
    {
     "data": {
      "text/html": [
       "<div>\n",
       "<style scoped>\n",
       "    .dataframe tbody tr th:only-of-type {\n",
       "        vertical-align: middle;\n",
       "    }\n",
       "\n",
       "    .dataframe tbody tr th {\n",
       "        vertical-align: top;\n",
       "    }\n",
       "\n",
       "    .dataframe thead th {\n",
       "        text-align: right;\n",
       "    }\n",
       "</style>\n",
       "<table border=\"1\" class=\"dataframe\">\n",
       "  <thead>\n",
       "    <tr style=\"text-align: right;\">\n",
       "      <th></th>\n",
       "      <th>children</th>\n",
       "      <th>days_employed</th>\n",
       "      <th>dob_years</th>\n",
       "      <th>education</th>\n",
       "      <th>education_id</th>\n",
       "      <th>family_status</th>\n",
       "      <th>family_status_id</th>\n",
       "      <th>gender</th>\n",
       "      <th>income_type</th>\n",
       "      <th>debt</th>\n",
       "      <th>total_income</th>\n",
       "      <th>purpose</th>\n",
       "    </tr>\n",
       "  </thead>\n",
       "  <tbody>\n",
       "    <tr>\n",
       "      <td>0</td>\n",
       "      <td>1</td>\n",
       "      <td>-8437.673028</td>\n",
       "      <td>42</td>\n",
       "      <td>высшее</td>\n",
       "      <td>0</td>\n",
       "      <td>женат / замужем</td>\n",
       "      <td>0</td>\n",
       "      <td>F</td>\n",
       "      <td>сотрудник</td>\n",
       "      <td>0</td>\n",
       "      <td>253875.639453</td>\n",
       "      <td>покупка жилья</td>\n",
       "    </tr>\n",
       "    <tr>\n",
       "      <td>1</td>\n",
       "      <td>1</td>\n",
       "      <td>-4024.803754</td>\n",
       "      <td>36</td>\n",
       "      <td>среднее</td>\n",
       "      <td>1</td>\n",
       "      <td>женат / замужем</td>\n",
       "      <td>0</td>\n",
       "      <td>F</td>\n",
       "      <td>сотрудник</td>\n",
       "      <td>0</td>\n",
       "      <td>112080.014102</td>\n",
       "      <td>приобретение автомобиля</td>\n",
       "    </tr>\n",
       "    <tr>\n",
       "      <td>2</td>\n",
       "      <td>0</td>\n",
       "      <td>-5623.422610</td>\n",
       "      <td>33</td>\n",
       "      <td>Среднее</td>\n",
       "      <td>1</td>\n",
       "      <td>женат / замужем</td>\n",
       "      <td>0</td>\n",
       "      <td>M</td>\n",
       "      <td>сотрудник</td>\n",
       "      <td>0</td>\n",
       "      <td>145885.952297</td>\n",
       "      <td>покупка жилья</td>\n",
       "    </tr>\n",
       "    <tr>\n",
       "      <td>3</td>\n",
       "      <td>3</td>\n",
       "      <td>-4124.747207</td>\n",
       "      <td>32</td>\n",
       "      <td>среднее</td>\n",
       "      <td>1</td>\n",
       "      <td>женат / замужем</td>\n",
       "      <td>0</td>\n",
       "      <td>M</td>\n",
       "      <td>сотрудник</td>\n",
       "      <td>0</td>\n",
       "      <td>267628.550329</td>\n",
       "      <td>дополнительное образование</td>\n",
       "    </tr>\n",
       "    <tr>\n",
       "      <td>4</td>\n",
       "      <td>0</td>\n",
       "      <td>340266.072047</td>\n",
       "      <td>53</td>\n",
       "      <td>среднее</td>\n",
       "      <td>1</td>\n",
       "      <td>гражданский брак</td>\n",
       "      <td>1</td>\n",
       "      <td>F</td>\n",
       "      <td>пенсионер</td>\n",
       "      <td>0</td>\n",
       "      <td>158616.077870</td>\n",
       "      <td>сыграть свадьбу</td>\n",
       "    </tr>\n",
       "    <tr>\n",
       "      <td>...</td>\n",
       "      <td>...</td>\n",
       "      <td>...</td>\n",
       "      <td>...</td>\n",
       "      <td>...</td>\n",
       "      <td>...</td>\n",
       "      <td>...</td>\n",
       "      <td>...</td>\n",
       "      <td>...</td>\n",
       "      <td>...</td>\n",
       "      <td>...</td>\n",
       "      <td>...</td>\n",
       "      <td>...</td>\n",
       "    </tr>\n",
       "    <tr>\n",
       "      <td>21520</td>\n",
       "      <td>1</td>\n",
       "      <td>-4529.316663</td>\n",
       "      <td>43</td>\n",
       "      <td>среднее</td>\n",
       "      <td>1</td>\n",
       "      <td>гражданский брак</td>\n",
       "      <td>1</td>\n",
       "      <td>F</td>\n",
       "      <td>компаньон</td>\n",
       "      <td>0</td>\n",
       "      <td>224791.862382</td>\n",
       "      <td>операции с жильем</td>\n",
       "    </tr>\n",
       "    <tr>\n",
       "      <td>21521</td>\n",
       "      <td>0</td>\n",
       "      <td>343937.404131</td>\n",
       "      <td>67</td>\n",
       "      <td>среднее</td>\n",
       "      <td>1</td>\n",
       "      <td>женат / замужем</td>\n",
       "      <td>0</td>\n",
       "      <td>F</td>\n",
       "      <td>пенсионер</td>\n",
       "      <td>0</td>\n",
       "      <td>155999.806512</td>\n",
       "      <td>сделка с автомобилем</td>\n",
       "    </tr>\n",
       "    <tr>\n",
       "      <td>21522</td>\n",
       "      <td>1</td>\n",
       "      <td>-2113.346888</td>\n",
       "      <td>38</td>\n",
       "      <td>среднее</td>\n",
       "      <td>1</td>\n",
       "      <td>гражданский брак</td>\n",
       "      <td>1</td>\n",
       "      <td>M</td>\n",
       "      <td>сотрудник</td>\n",
       "      <td>1</td>\n",
       "      <td>89672.561153</td>\n",
       "      <td>недвижимость</td>\n",
       "    </tr>\n",
       "    <tr>\n",
       "      <td>21523</td>\n",
       "      <td>3</td>\n",
       "      <td>-3112.481705</td>\n",
       "      <td>38</td>\n",
       "      <td>среднее</td>\n",
       "      <td>1</td>\n",
       "      <td>женат / замужем</td>\n",
       "      <td>0</td>\n",
       "      <td>M</td>\n",
       "      <td>сотрудник</td>\n",
       "      <td>1</td>\n",
       "      <td>244093.050500</td>\n",
       "      <td>на покупку своего автомобиля</td>\n",
       "    </tr>\n",
       "    <tr>\n",
       "      <td>21524</td>\n",
       "      <td>2</td>\n",
       "      <td>-1984.507589</td>\n",
       "      <td>40</td>\n",
       "      <td>среднее</td>\n",
       "      <td>1</td>\n",
       "      <td>женат / замужем</td>\n",
       "      <td>0</td>\n",
       "      <td>F</td>\n",
       "      <td>сотрудник</td>\n",
       "      <td>0</td>\n",
       "      <td>82047.418899</td>\n",
       "      <td>на покупку автомобиля</td>\n",
       "    </tr>\n",
       "  </tbody>\n",
       "</table>\n",
       "<p>21525 rows × 12 columns</p>\n",
       "</div>"
      ],
      "text/plain": [
       "       children  days_employed  dob_years education  education_id  \\\n",
       "0             1   -8437.673028         42    высшее             0   \n",
       "1             1   -4024.803754         36   среднее             1   \n",
       "2             0   -5623.422610         33   Среднее             1   \n",
       "3             3   -4124.747207         32   среднее             1   \n",
       "4             0  340266.072047         53   среднее             1   \n",
       "...         ...            ...        ...       ...           ...   \n",
       "21520         1   -4529.316663         43   среднее             1   \n",
       "21521         0  343937.404131         67   среднее             1   \n",
       "21522         1   -2113.346888         38   среднее             1   \n",
       "21523         3   -3112.481705         38   среднее             1   \n",
       "21524         2   -1984.507589         40   среднее             1   \n",
       "\n",
       "          family_status  family_status_id gender income_type  debt  \\\n",
       "0       женат / замужем                 0      F   сотрудник     0   \n",
       "1       женат / замужем                 0      F   сотрудник     0   \n",
       "2       женат / замужем                 0      M   сотрудник     0   \n",
       "3       женат / замужем                 0      M   сотрудник     0   \n",
       "4      гражданский брак                 1      F   пенсионер     0   \n",
       "...                 ...               ...    ...         ...   ...   \n",
       "21520  гражданский брак                 1      F   компаньон     0   \n",
       "21521   женат / замужем                 0      F   пенсионер     0   \n",
       "21522  гражданский брак                 1      M   сотрудник     1   \n",
       "21523   женат / замужем                 0      M   сотрудник     1   \n",
       "21524   женат / замужем                 0      F   сотрудник     0   \n",
       "\n",
       "        total_income                       purpose  \n",
       "0      253875.639453                 покупка жилья  \n",
       "1      112080.014102       приобретение автомобиля  \n",
       "2      145885.952297                 покупка жилья  \n",
       "3      267628.550329    дополнительное образование  \n",
       "4      158616.077870               сыграть свадьбу  \n",
       "...              ...                           ...  \n",
       "21520  224791.862382             операции с жильем  \n",
       "21521  155999.806512          сделка с автомобилем  \n",
       "21522   89672.561153                  недвижимость  \n",
       "21523  244093.050500  на покупку своего автомобиля  \n",
       "21524   82047.418899         на покупку автомобиля  \n",
       "\n",
       "[21525 rows x 12 columns]"
      ]
     },
     "metadata": {},
     "output_type": "display_data"
    }
   ],
   "source": [
    "display(data)"
   ]
  },
  {
   "cell_type": "markdown",
   "id": "30df59e2",
   "metadata": {},
   "source": [
    "Шаг 2. Предобработка данных\n",
    "\n",
    "В двух столбцах есть пропущенные значения, найдите их и заполните медианным значением по столбцу:\n",
    "опишите, какие пропущенные значения вы обнаружили;\n",
    "проверьте, какую долю составляют пропущенные значения в каждом из столбцов с пропусками;\n",
    "приведите возможные причины появления пропусков в данных;\n",
    "объясните, почему заполнить пропуски медианным значением — лучшее решение для количественных переменных.)\n"
   ]
  },
  {
   "cell_type": "markdown",
   "id": "cf3f09ba",
   "metadata": {},
   "source": [
    "<div class=\"alert alert-warning\">\n",
    "<b>⚠️ Комментарий ревьюера v1:</b> \n",
    "<br>Для своих комментариев используй ячейки типа markdown. Как это сделать я рассказываю в первом комментарии\n",
    "</div>"
   ]
  },
  {
   "cell_type": "markdown",
   "id": "877a0862",
   "metadata": {},
   "source": [
    "<div class=\"alert alert-info\">\n",
    "<b>Комментарий студента:</b>\n",
    "<br> понял, так и сделаю\n",
    "</div>"
   ]
  },
  {
   "cell_type": "markdown",
   "id": "26f2cd69",
   "metadata": {},
   "source": [
    "<div class=\"alert alert-success\">\n",
    "<b>✔️ Комментарий ревьюера v2:</b>\n",
    "<br>👍\n",
    "</div>"
   ]
  },
  {
   "cell_type": "code",
   "execution_count": 9,
   "id": "27f6ec4b",
   "metadata": {},
   "outputs": [],
   "source": [
    "# it is applied  object format for entries in columns:  days employed and total_income  \n",
    "#data.info()\n",
    "#data.isna().sum()\n",
    "# первое короткое исследования сделал выше ..."
   ]
  },
  {
   "cell_type": "markdown",
   "id": "4da28632",
   "metadata": {},
   "source": [
    "<div class=\"alert alert-warning\">\n",
    "<b>⚠️ Комментарий ревьюера v1:</b> \n",
    "<br>Подскажи, пожалуйста, а у тебя есть возможность оставлять свои комментарии и писать рассуждения на русском языке?\n",
    "</div>"
   ]
  },
  {
   "cell_type": "markdown",
   "id": "a362a357",
   "metadata": {},
   "source": [
    "<div class=\"alert alert-info\">\n",
    "<b>Комментарий студента:</b>\n",
    "<br> да могу, но мне на англииском легче оставить короткие заметки больше для себя . тпкже добавил коменрарии на русском в этот раз\n",
    "</div>"
   ]
  },
  {
   "cell_type": "markdown",
   "id": "aff6bc75",
   "metadata": {},
   "source": [
    "<div class=\"alert alert-success\">\n",
    "<b>✔️ Комментарий ревьюера v2:</b>\n",
    "<br>Спасибо!\n",
    "</div>"
   ]
  },
  {
   "cell_type": "code",
   "execution_count": 10,
   "id": "a8b587b7",
   "metadata": {},
   "outputs": [
    {
     "data": {
      "text/html": [
       "<div>\n",
       "<style scoped>\n",
       "    .dataframe tbody tr th:only-of-type {\n",
       "        vertical-align: middle;\n",
       "    }\n",
       "\n",
       "    .dataframe tbody tr th {\n",
       "        vertical-align: top;\n",
       "    }\n",
       "\n",
       "    .dataframe thead th {\n",
       "        text-align: right;\n",
       "    }\n",
       "</style>\n",
       "<table border=\"1\" class=\"dataframe\">\n",
       "  <thead>\n",
       "    <tr style=\"text-align: right;\">\n",
       "      <th></th>\n",
       "      <th>children</th>\n",
       "      <th>days_employed</th>\n",
       "      <th>dob_years</th>\n",
       "      <th>education</th>\n",
       "      <th>education_id</th>\n",
       "      <th>family_status</th>\n",
       "      <th>family_status_id</th>\n",
       "      <th>gender</th>\n",
       "      <th>income_type</th>\n",
       "      <th>debt</th>\n",
       "      <th>total_income</th>\n",
       "      <th>purpose</th>\n",
       "    </tr>\n",
       "  </thead>\n",
       "  <tbody>\n",
       "    <tr>\n",
       "      <td>12</td>\n",
       "      <td>0</td>\n",
       "      <td>NaN</td>\n",
       "      <td>65</td>\n",
       "      <td>среднее</td>\n",
       "      <td>1</td>\n",
       "      <td>гражданский брак</td>\n",
       "      <td>1</td>\n",
       "      <td>M</td>\n",
       "      <td>пенсионер</td>\n",
       "      <td>0</td>\n",
       "      <td>NaN</td>\n",
       "      <td>сыграть свадьбу</td>\n",
       "    </tr>\n",
       "    <tr>\n",
       "      <td>26</td>\n",
       "      <td>0</td>\n",
       "      <td>NaN</td>\n",
       "      <td>41</td>\n",
       "      <td>среднее</td>\n",
       "      <td>1</td>\n",
       "      <td>женат / замужем</td>\n",
       "      <td>0</td>\n",
       "      <td>M</td>\n",
       "      <td>госслужащий</td>\n",
       "      <td>0</td>\n",
       "      <td>NaN</td>\n",
       "      <td>образование</td>\n",
       "    </tr>\n",
       "    <tr>\n",
       "      <td>29</td>\n",
       "      <td>0</td>\n",
       "      <td>NaN</td>\n",
       "      <td>63</td>\n",
       "      <td>среднее</td>\n",
       "      <td>1</td>\n",
       "      <td>Не женат / не замужем</td>\n",
       "      <td>4</td>\n",
       "      <td>F</td>\n",
       "      <td>пенсионер</td>\n",
       "      <td>0</td>\n",
       "      <td>NaN</td>\n",
       "      <td>строительство жилой недвижимости</td>\n",
       "    </tr>\n",
       "    <tr>\n",
       "      <td>41</td>\n",
       "      <td>0</td>\n",
       "      <td>NaN</td>\n",
       "      <td>50</td>\n",
       "      <td>среднее</td>\n",
       "      <td>1</td>\n",
       "      <td>женат / замужем</td>\n",
       "      <td>0</td>\n",
       "      <td>F</td>\n",
       "      <td>госслужащий</td>\n",
       "      <td>0</td>\n",
       "      <td>NaN</td>\n",
       "      <td>сделка с подержанным автомобилем</td>\n",
       "    </tr>\n",
       "    <tr>\n",
       "      <td>55</td>\n",
       "      <td>0</td>\n",
       "      <td>NaN</td>\n",
       "      <td>54</td>\n",
       "      <td>среднее</td>\n",
       "      <td>1</td>\n",
       "      <td>гражданский брак</td>\n",
       "      <td>1</td>\n",
       "      <td>F</td>\n",
       "      <td>пенсионер</td>\n",
       "      <td>1</td>\n",
       "      <td>NaN</td>\n",
       "      <td>сыграть свадьбу</td>\n",
       "    </tr>\n",
       "  </tbody>\n",
       "</table>\n",
       "</div>"
      ],
      "text/plain": [
       "    children  days_employed  dob_years education  education_id  \\\n",
       "12         0            NaN         65   среднее             1   \n",
       "26         0            NaN         41   среднее             1   \n",
       "29         0            NaN         63   среднее             1   \n",
       "41         0            NaN         50   среднее             1   \n",
       "55         0            NaN         54   среднее             1   \n",
       "\n",
       "            family_status  family_status_id gender  income_type  debt  \\\n",
       "12       гражданский брак                 1      M    пенсионер     0   \n",
       "26        женат / замужем                 0      M  госслужащий     0   \n",
       "29  Не женат / не замужем                 4      F    пенсионер     0   \n",
       "41        женат / замужем                 0      F  госслужащий     0   \n",
       "55       гражданский брак                 1      F    пенсионер     1   \n",
       "\n",
       "    total_income                           purpose  \n",
       "12           NaN                   сыграть свадьбу  \n",
       "26           NaN                       образование  \n",
       "29           NaN  строительство жилой недвижимости  \n",
       "41           NaN  сделка с подержанным автомобилем  \n",
       "55           NaN                   сыграть свадьбу  "
      ]
     },
     "execution_count": 10,
     "metadata": {},
     "output_type": "execute_result"
    }
   ],
   "source": [
    "# I found NaN values on columns: days_employed and total_income\n",
    "\n",
    "#проверяю пропуски NaN в столбце \"total income\"  то сто может привести к ошибкам\n",
    "\n",
    "data[data['days_employed'].isna()].head()"
   ]
  },
  {
   "cell_type": "code",
   "execution_count": 11,
   "id": "b8e86323",
   "metadata": {},
   "outputs": [
    {
     "data": {
      "text/plain": [
       "0.10099883855981417"
      ]
     },
     "execution_count": 11,
     "metadata": {},
     "output_type": "execute_result"
    }
   ],
   "source": [
    "#проверьте, какую долю составляют пропущенные значения в каждом из столбцов с пропусками;\n",
    "len(data[data['total_income'].isna()]) / len(data) *1"
   ]
  },
  {
   "cell_type": "code",
   "execution_count": 12,
   "id": "3d046706",
   "metadata": {},
   "outputs": [
    {
     "data": {
      "text/plain": [
       "children            0.000000\n",
       "days_employed       0.100999\n",
       "dob_years           0.000000\n",
       "education           0.000000\n",
       "education_id        0.000000\n",
       "family_status       0.000000\n",
       "family_status_id    0.000000\n",
       "gender              0.000000\n",
       "income_type         0.000000\n",
       "debt                0.000000\n",
       "total_income        0.100999\n",
       "purpose             0.000000\n",
       "dtype: float64"
      ]
     },
     "execution_count": 12,
     "metadata": {},
     "output_type": "execute_result"
    }
   ],
   "source": [
    "# check if there is any  NaN\n",
    "#проверяю долю пропусков NaN\n",
    "data.isna().mean()"
   ]
  },
  {
   "cell_type": "markdown",
   "id": "dd3e3a72",
   "metadata": {},
   "source": [
    "<div class=\"alert alert-success\">\n",
    "<b>✔️ Комментарий ревьюера v1:</b> \n",
    "<br>Молодец! Ещё можно посмотреть долю пропущенных значений среди всех данных следующим способом\n",
    "    \n",
    "    df.isna().mean()\n",
    "</div>"
   ]
  },
  {
   "cell_type": "code",
   "execution_count": 13,
   "id": "7b26372a",
   "metadata": {},
   "outputs": [
    {
     "name": "stdout",
     "output_type": "stream",
     "text": [
      "-1203.369528770489\n",
      "145017.93753253992\n"
     ]
    }
   ],
   "source": [
    "#finding the median values\n",
    "# нахожу медиану по столбцу 'days_employed'и 'total_income'\n",
    "median_value_days_employed = data['days_employed'].median()\n",
    "median_value_total_income = data['total_income'].median()\n",
    "print(median_value_days_employed)\n",
    "print(median_value_total_income)"
   ]
  },
  {
   "cell_type": "code",
   "execution_count": 14,
   "id": "74fece2e",
   "metadata": {},
   "outputs": [],
   "source": [
    "# reconfigure the data to empty values \n",
    "#NaN переменяю на пустые значения \n",
    "data['total_income'] = data['total_income'].fillna(value='')\n",
    "data['days_employed'] = data['days_employed'].fillna(value='')"
   ]
  },
  {
   "cell_type": "code",
   "execution_count": 15,
   "id": "a0d14bcb",
   "metadata": {},
   "outputs": [],
   "source": [
    "# В двух столбцах есть пропущенные значения, найдите их и заполните медианным значением по столбцу:\n",
    "#допишите, какие пропущенные значения вы обнаружили;\n",
    "data.loc[data['total_income']=='','total_income'] = median_value_total_income\n",
    "data.loc[data['days_employed']=='','days_employed'] = median_value_days_employed"
   ]
  },
  {
   "cell_type": "markdown",
   "id": "8f4f137e",
   "metadata": {},
   "source": [
    "<div class=\"alert alert-success\">\n",
    "<b>✔️ Комментарий ревьюера v1:</b> \n",
    "<br>Всё верно! Также здесь можно заполнить пропуски более оптимальным способом - медианой, в зависимости от типа занятости. Для этого отлично подойдёт функция transform:\n",
    "\n",
    "    df['total_income'] = df['total_income'].fillna(df.groupby('income_type')['total_income'].transform(\"median\"))\n",
    "\n",
    "<br>Она создаёт новый столбец, который содержит столько же строк, сколько и изначальный, но только вместо оригинальных значений в каждой строке содержится медиана посчитанная по заданной группе. После этого вместо пропусков в оригинальном столбце мы подставляем значения из созданного столбца, то есть медианы в зависимости от группы.\n",
    "</div>"
   ]
  },
  {
   "cell_type": "markdown",
   "id": "693b2ec0",
   "metadata": {},
   "source": [
    "<div class=\"alert alert-info\">\n",
    "<b>Комментарий студента:</b>\n",
    "<br> понял, спасибо за совет\n",
    "</div>"
   ]
  },
  {
   "cell_type": "markdown",
   "id": "7f961b5b",
   "metadata": {},
   "source": [
    "<div class=\"alert alert-success\">\n",
    "<b>✔️ Комментарий ревьюера v2:</b>\n",
    "<br>👍\n",
    "</div>"
   ]
  },
  {
   "cell_type": "code",
   "execution_count": 16,
   "id": "705c93ee",
   "metadata": {},
   "outputs": [
    {
     "data": {
      "text/plain": [
       "children            0.0\n",
       "days_employed       0.0\n",
       "dob_years           0.0\n",
       "education           0.0\n",
       "education_id        0.0\n",
       "family_status       0.0\n",
       "family_status_id    0.0\n",
       "gender              0.0\n",
       "income_type         0.0\n",
       "debt                0.0\n",
       "total_income        0.0\n",
       "purpose             0.0\n",
       "dtype: float64"
      ]
     },
     "execution_count": 16,
     "metadata": {},
     "output_type": "execute_result"
    }
   ],
   "source": [
    "# check if there is no more NaN\n",
    "#проверяю если не осталось больше пропусков NaN\n",
    "data.isna().mean()"
   ]
  },
  {
   "cell_type": "markdown",
   "id": "6715c41e",
   "metadata": {},
   "source": [
    "приведите возможные причины появления пропусков в данных;\n",
    "\n",
    "Ответ: может быть total_income завиист от стажа столбец \"days_employed\" и ошибки появились в обях столбцов.  Может быть данные в столбец \"days_employed\" берет значения с другово столбца как \"Date\" и кто-то написал дату в правельный формат.     \n"
   ]
  },
  {
   "cell_type": "markdown",
   "id": "c73dc92f",
   "metadata": {},
   "source": [
    "объясните, почему заполнить пропуски медианным значением — лучшее решение для количественных переменных.\n",
    "\n",
    "\n",
    "Ответ: \"Median\" помогает уменьшить расхождение между значениями в dataset"
   ]
  },
  {
   "cell_type": "code",
   "execution_count": 17,
   "id": "df2529d7",
   "metadata": {},
   "outputs": [
    {
     "name": "stdout",
     "output_type": "stream",
     "text": [
      "<class 'pandas.core.frame.DataFrame'>\n",
      "RangeIndex: 21525 entries, 0 to 21524\n",
      "Data columns (total 12 columns):\n",
      "children            21525 non-null int64\n",
      "days_employed       21525 non-null object\n",
      "dob_years           21525 non-null int64\n",
      "education           21525 non-null object\n",
      "education_id        21525 non-null int64\n",
      "family_status       21525 non-null object\n",
      "family_status_id    21525 non-null int64\n",
      "gender              21525 non-null object\n",
      "income_type         21525 non-null object\n",
      "debt                21525 non-null int64\n",
      "total_income        21525 non-null object\n",
      "purpose             21525 non-null object\n",
      "dtypes: int64(5), object(7)\n",
      "memory usage: 2.0+ MB\n"
     ]
    }
   ],
   "source": [
    "#Обработайте значения в столбцах с аномалиями и опишите возможные причины появления таких данных.\n",
    "data.info()"
   ]
  },
  {
   "cell_type": "code",
   "execution_count": 18,
   "id": "ce63f76c",
   "metadata": {},
   "outputs": [],
   "source": [
    "data['days_employed'] = pd.to_numeric(data['days_employed'], errors = 'coerce')\n",
    "data['total_income'] = pd.to_numeric(data['total_income'], errors = 'coerce')\n"
   ]
  },
  {
   "cell_type": "code",
   "execution_count": 19,
   "id": "22057448",
   "metadata": {},
   "outputs": [],
   "source": [
    "try:\n",
    "    data['children'].astype('int')\n",
    "except:\n",
    "    print('Data is float and values are negative')"
   ]
  },
  {
   "cell_type": "code",
   "execution_count": 20,
   "id": "86373fa9",
   "metadata": {},
   "outputs": [],
   "source": [
    "data['children'] = data['children'].abs()\n",
    "data['days_employed'] = data['days_employed'].abs()"
   ]
  },
  {
   "cell_type": "code",
   "execution_count": 21,
   "id": "2969cbbf",
   "metadata": {},
   "outputs": [
    {
     "name": "stdout",
     "output_type": "stream",
     "text": [
      "Data is float and values are negative\n"
     ]
    }
   ],
   "source": [
    "try:\n",
    "    data['children'].to_numeric('int')\n",
    "except:\n",
    "    print('Data is float and values are negative')"
   ]
  },
  {
   "cell_type": "code",
   "execution_count": 22,
   "id": "19c62e0f",
   "metadata": {},
   "outputs": [
    {
     "data": {
      "text/html": [
       "<div>\n",
       "<style scoped>\n",
       "    .dataframe tbody tr th:only-of-type {\n",
       "        vertical-align: middle;\n",
       "    }\n",
       "\n",
       "    .dataframe tbody tr th {\n",
       "        vertical-align: top;\n",
       "    }\n",
       "\n",
       "    .dataframe thead th {\n",
       "        text-align: right;\n",
       "    }\n",
       "</style>\n",
       "<table border=\"1\" class=\"dataframe\">\n",
       "  <thead>\n",
       "    <tr style=\"text-align: right;\">\n",
       "      <th></th>\n",
       "      <th>children</th>\n",
       "      <th>days_employed</th>\n",
       "      <th>dob_years</th>\n",
       "      <th>education</th>\n",
       "      <th>education_id</th>\n",
       "      <th>family_status</th>\n",
       "      <th>family_status_id</th>\n",
       "      <th>gender</th>\n",
       "      <th>income_type</th>\n",
       "      <th>debt</th>\n",
       "      <th>total_income</th>\n",
       "      <th>purpose</th>\n",
       "    </tr>\n",
       "  </thead>\n",
       "  <tbody>\n",
       "    <tr>\n",
       "      <td>0</td>\n",
       "      <td>1</td>\n",
       "      <td>8437.673028</td>\n",
       "      <td>42</td>\n",
       "      <td>высшее</td>\n",
       "      <td>0</td>\n",
       "      <td>женат / замужем</td>\n",
       "      <td>0</td>\n",
       "      <td>F</td>\n",
       "      <td>сотрудник</td>\n",
       "      <td>0</td>\n",
       "      <td>253875.639453</td>\n",
       "      <td>покупка жилья</td>\n",
       "    </tr>\n",
       "    <tr>\n",
       "      <td>1</td>\n",
       "      <td>1</td>\n",
       "      <td>4024.803754</td>\n",
       "      <td>36</td>\n",
       "      <td>среднее</td>\n",
       "      <td>1</td>\n",
       "      <td>женат / замужем</td>\n",
       "      <td>0</td>\n",
       "      <td>F</td>\n",
       "      <td>сотрудник</td>\n",
       "      <td>0</td>\n",
       "      <td>112080.014102</td>\n",
       "      <td>приобретение автомобиля</td>\n",
       "    </tr>\n",
       "    <tr>\n",
       "      <td>2</td>\n",
       "      <td>0</td>\n",
       "      <td>5623.422610</td>\n",
       "      <td>33</td>\n",
       "      <td>Среднее</td>\n",
       "      <td>1</td>\n",
       "      <td>женат / замужем</td>\n",
       "      <td>0</td>\n",
       "      <td>M</td>\n",
       "      <td>сотрудник</td>\n",
       "      <td>0</td>\n",
       "      <td>145885.952297</td>\n",
       "      <td>покупка жилья</td>\n",
       "    </tr>\n",
       "    <tr>\n",
       "      <td>3</td>\n",
       "      <td>3</td>\n",
       "      <td>4124.747207</td>\n",
       "      <td>32</td>\n",
       "      <td>среднее</td>\n",
       "      <td>1</td>\n",
       "      <td>женат / замужем</td>\n",
       "      <td>0</td>\n",
       "      <td>M</td>\n",
       "      <td>сотрудник</td>\n",
       "      <td>0</td>\n",
       "      <td>267628.550329</td>\n",
       "      <td>дополнительное образование</td>\n",
       "    </tr>\n",
       "    <tr>\n",
       "      <td>4</td>\n",
       "      <td>0</td>\n",
       "      <td>340266.072047</td>\n",
       "      <td>53</td>\n",
       "      <td>среднее</td>\n",
       "      <td>1</td>\n",
       "      <td>гражданский брак</td>\n",
       "      <td>1</td>\n",
       "      <td>F</td>\n",
       "      <td>пенсионер</td>\n",
       "      <td>0</td>\n",
       "      <td>158616.077870</td>\n",
       "      <td>сыграть свадьбу</td>\n",
       "    </tr>\n",
       "    <tr>\n",
       "      <td>...</td>\n",
       "      <td>...</td>\n",
       "      <td>...</td>\n",
       "      <td>...</td>\n",
       "      <td>...</td>\n",
       "      <td>...</td>\n",
       "      <td>...</td>\n",
       "      <td>...</td>\n",
       "      <td>...</td>\n",
       "      <td>...</td>\n",
       "      <td>...</td>\n",
       "      <td>...</td>\n",
       "      <td>...</td>\n",
       "    </tr>\n",
       "    <tr>\n",
       "      <td>21520</td>\n",
       "      <td>1</td>\n",
       "      <td>4529.316663</td>\n",
       "      <td>43</td>\n",
       "      <td>среднее</td>\n",
       "      <td>1</td>\n",
       "      <td>гражданский брак</td>\n",
       "      <td>1</td>\n",
       "      <td>F</td>\n",
       "      <td>компаньон</td>\n",
       "      <td>0</td>\n",
       "      <td>224791.862382</td>\n",
       "      <td>операции с жильем</td>\n",
       "    </tr>\n",
       "    <tr>\n",
       "      <td>21521</td>\n",
       "      <td>0</td>\n",
       "      <td>343937.404131</td>\n",
       "      <td>67</td>\n",
       "      <td>среднее</td>\n",
       "      <td>1</td>\n",
       "      <td>женат / замужем</td>\n",
       "      <td>0</td>\n",
       "      <td>F</td>\n",
       "      <td>пенсионер</td>\n",
       "      <td>0</td>\n",
       "      <td>155999.806512</td>\n",
       "      <td>сделка с автомобилем</td>\n",
       "    </tr>\n",
       "    <tr>\n",
       "      <td>21522</td>\n",
       "      <td>1</td>\n",
       "      <td>2113.346888</td>\n",
       "      <td>38</td>\n",
       "      <td>среднее</td>\n",
       "      <td>1</td>\n",
       "      <td>гражданский брак</td>\n",
       "      <td>1</td>\n",
       "      <td>M</td>\n",
       "      <td>сотрудник</td>\n",
       "      <td>1</td>\n",
       "      <td>89672.561153</td>\n",
       "      <td>недвижимость</td>\n",
       "    </tr>\n",
       "    <tr>\n",
       "      <td>21523</td>\n",
       "      <td>3</td>\n",
       "      <td>3112.481705</td>\n",
       "      <td>38</td>\n",
       "      <td>среднее</td>\n",
       "      <td>1</td>\n",
       "      <td>женат / замужем</td>\n",
       "      <td>0</td>\n",
       "      <td>M</td>\n",
       "      <td>сотрудник</td>\n",
       "      <td>1</td>\n",
       "      <td>244093.050500</td>\n",
       "      <td>на покупку своего автомобиля</td>\n",
       "    </tr>\n",
       "    <tr>\n",
       "      <td>21524</td>\n",
       "      <td>2</td>\n",
       "      <td>1984.507589</td>\n",
       "      <td>40</td>\n",
       "      <td>среднее</td>\n",
       "      <td>1</td>\n",
       "      <td>женат / замужем</td>\n",
       "      <td>0</td>\n",
       "      <td>F</td>\n",
       "      <td>сотрудник</td>\n",
       "      <td>0</td>\n",
       "      <td>82047.418899</td>\n",
       "      <td>на покупку автомобиля</td>\n",
       "    </tr>\n",
       "  </tbody>\n",
       "</table>\n",
       "<p>21525 rows × 12 columns</p>\n",
       "</div>"
      ],
      "text/plain": [
       "       children  days_employed  dob_years education  education_id  \\\n",
       "0             1    8437.673028         42    высшее             0   \n",
       "1             1    4024.803754         36   среднее             1   \n",
       "2             0    5623.422610         33   Среднее             1   \n",
       "3             3    4124.747207         32   среднее             1   \n",
       "4             0  340266.072047         53   среднее             1   \n",
       "...         ...            ...        ...       ...           ...   \n",
       "21520         1    4529.316663         43   среднее             1   \n",
       "21521         0  343937.404131         67   среднее             1   \n",
       "21522         1    2113.346888         38   среднее             1   \n",
       "21523         3    3112.481705         38   среднее             1   \n",
       "21524         2    1984.507589         40   среднее             1   \n",
       "\n",
       "          family_status  family_status_id gender income_type  debt  \\\n",
       "0       женат / замужем                 0      F   сотрудник     0   \n",
       "1       женат / замужем                 0      F   сотрудник     0   \n",
       "2       женат / замужем                 0      M   сотрудник     0   \n",
       "3       женат / замужем                 0      M   сотрудник     0   \n",
       "4      гражданский брак                 1      F   пенсионер     0   \n",
       "...                 ...               ...    ...         ...   ...   \n",
       "21520  гражданский брак                 1      F   компаньон     0   \n",
       "21521   женат / замужем                 0      F   пенсионер     0   \n",
       "21522  гражданский брак                 1      M   сотрудник     1   \n",
       "21523   женат / замужем                 0      M   сотрудник     1   \n",
       "21524   женат / замужем                 0      F   сотрудник     0   \n",
       "\n",
       "        total_income                       purpose  \n",
       "0      253875.639453                 покупка жилья  \n",
       "1      112080.014102       приобретение автомобиля  \n",
       "2      145885.952297                 покупка жилья  \n",
       "3      267628.550329    дополнительное образование  \n",
       "4      158616.077870               сыграть свадьбу  \n",
       "...              ...                           ...  \n",
       "21520  224791.862382             операции с жильем  \n",
       "21521  155999.806512          сделка с автомобилем  \n",
       "21522   89672.561153                  недвижимость  \n",
       "21523  244093.050500  на покупку своего автомобиля  \n",
       "21524   82047.418899         на покупку автомобиля  \n",
       "\n",
       "[21525 rows x 12 columns]"
      ]
     },
     "metadata": {},
     "output_type": "display_data"
    }
   ],
   "source": [
    "display(data)"
   ]
  },
  {
   "cell_type": "markdown",
   "id": "af8ee0ba",
   "metadata": {},
   "source": [
    "### Шаг 2.2 Проверка данных на аномалии и исправления."
   ]
  },
  {
   "cell_type": "code",
   "execution_count": 23,
   "id": "4772f77d",
   "metadata": {},
   "outputs": [
    {
     "name": "stdout",
     "output_type": "stream",
     "text": [
      "<class 'pandas.core.frame.DataFrame'>\n",
      "RangeIndex: 21525 entries, 0 to 21524\n",
      "Data columns (total 12 columns):\n",
      "children            21525 non-null int64\n",
      "days_employed       21525 non-null float64\n",
      "dob_years           21525 non-null int64\n",
      "education           21525 non-null object\n",
      "education_id        21525 non-null int64\n",
      "family_status       21525 non-null object\n",
      "family_status_id    21525 non-null int64\n",
      "gender              21525 non-null object\n",
      "income_type         21525 non-null object\n",
      "debt                21525 non-null int64\n",
      "total_income        21525 non-null float64\n",
      "purpose             21525 non-null object\n",
      "dtypes: float64(2), int64(5), object(5)\n",
      "memory usage: 2.0+ MB\n"
     ]
    }
   ],
   "source": [
    "data.info()"
   ]
  },
  {
   "cell_type": "markdown",
   "id": "e45754fd",
   "metadata": {},
   "source": [
    "### Шаг 2.3. Изменение типов данных."
   ]
  },
  {
   "cell_type": "code",
   "execution_count": 24,
   "id": "64c51a10",
   "metadata": {},
   "outputs": [
    {
     "name": "stdout",
     "output_type": "stream",
     "text": [
      "<class 'pandas.core.frame.DataFrame'>\n",
      "RangeIndex: 21525 entries, 0 to 21524\n",
      "Data columns (total 12 columns):\n",
      "children            21525 non-null int64\n",
      "days_employed       21525 non-null float64\n",
      "dob_years           21525 non-null int64\n",
      "education           21525 non-null object\n",
      "education_id        21525 non-null int64\n",
      "family_status       21525 non-null object\n",
      "family_status_id    21525 non-null int64\n",
      "gender              21525 non-null object\n",
      "income_type         21525 non-null object\n",
      "debt                21525 non-null int64\n",
      "total_income        21525 non-null int64\n",
      "purpose             21525 non-null object\n",
      "dtypes: float64(1), int64(6), object(5)\n",
      "memory usage: 2.0+ MB\n"
     ]
    }
   ],
   "source": [
    "#Замените вещественный тип данных в столбце total_income на целочисленный, например, с помощью метода astype().\n",
    "\n",
    "\n",
    "data['total_income'] = data['total_income'].astype('int')\n",
    "data.info()"
   ]
  },
  {
   "cell_type": "code",
   "execution_count": 25,
   "id": "c2efa90c",
   "metadata": {},
   "outputs": [
    {
     "data": {
      "text/plain": [
       "54"
      ]
     },
     "execution_count": 25,
     "metadata": {},
     "output_type": "execute_result"
    }
   ],
   "source": [
    "data.duplicated().sum()"
   ]
  },
  {
   "cell_type": "markdown",
   "id": "e9d778e1",
   "metadata": {},
   "source": [
    "<div class=\"alert alert-success\">\n",
    "<b>✔️ Комментарий ревьюера v1:</b> \n",
    "<br>Тут всё верно!\n",
    "</div>"
   ]
  },
  {
   "cell_type": "markdown",
   "id": "b1898d1e",
   "metadata": {},
   "source": [
    "### Шаг 2.4. Удаление дубликатов."
   ]
  },
  {
   "cell_type": "code",
   "execution_count": 26,
   "id": "bcb4fee7",
   "metadata": {},
   "outputs": [
    {
     "data": {
      "text/html": [
       "<div>\n",
       "<style scoped>\n",
       "    .dataframe tbody tr th:only-of-type {\n",
       "        vertical-align: middle;\n",
       "    }\n",
       "\n",
       "    .dataframe tbody tr th {\n",
       "        vertical-align: top;\n",
       "    }\n",
       "\n",
       "    .dataframe thead th {\n",
       "        text-align: right;\n",
       "    }\n",
       "</style>\n",
       "<table border=\"1\" class=\"dataframe\">\n",
       "  <thead>\n",
       "    <tr style=\"text-align: right;\">\n",
       "      <th></th>\n",
       "      <th>children</th>\n",
       "      <th>days_employed</th>\n",
       "      <th>dob_years</th>\n",
       "      <th>education</th>\n",
       "      <th>education_id</th>\n",
       "      <th>family_status</th>\n",
       "      <th>family_status_id</th>\n",
       "      <th>gender</th>\n",
       "      <th>income_type</th>\n",
       "      <th>debt</th>\n",
       "      <th>total_income</th>\n",
       "      <th>purpose</th>\n",
       "    </tr>\n",
       "  </thead>\n",
       "  <tbody>\n",
       "    <tr>\n",
       "      <td>2849</td>\n",
       "      <td>0</td>\n",
       "      <td>1203.369529</td>\n",
       "      <td>41</td>\n",
       "      <td>среднее</td>\n",
       "      <td>1</td>\n",
       "      <td>женат / замужем</td>\n",
       "      <td>0</td>\n",
       "      <td>F</td>\n",
       "      <td>сотрудник</td>\n",
       "      <td>0</td>\n",
       "      <td>145017</td>\n",
       "      <td>покупка жилья для семьи</td>\n",
       "    </tr>\n",
       "    <tr>\n",
       "      <td>4182</td>\n",
       "      <td>1</td>\n",
       "      <td>1203.369529</td>\n",
       "      <td>34</td>\n",
       "      <td>ВЫСШЕЕ</td>\n",
       "      <td>0</td>\n",
       "      <td>гражданский брак</td>\n",
       "      <td>1</td>\n",
       "      <td>F</td>\n",
       "      <td>сотрудник</td>\n",
       "      <td>0</td>\n",
       "      <td>145017</td>\n",
       "      <td>свадьба</td>\n",
       "    </tr>\n",
       "    <tr>\n",
       "      <td>4851</td>\n",
       "      <td>0</td>\n",
       "      <td>1203.369529</td>\n",
       "      <td>60</td>\n",
       "      <td>среднее</td>\n",
       "      <td>1</td>\n",
       "      <td>гражданский брак</td>\n",
       "      <td>1</td>\n",
       "      <td>F</td>\n",
       "      <td>пенсионер</td>\n",
       "      <td>0</td>\n",
       "      <td>145017</td>\n",
       "      <td>свадьба</td>\n",
       "    </tr>\n",
       "    <tr>\n",
       "      <td>5557</td>\n",
       "      <td>0</td>\n",
       "      <td>1203.369529</td>\n",
       "      <td>58</td>\n",
       "      <td>среднее</td>\n",
       "      <td>1</td>\n",
       "      <td>гражданский брак</td>\n",
       "      <td>1</td>\n",
       "      <td>F</td>\n",
       "      <td>пенсионер</td>\n",
       "      <td>0</td>\n",
       "      <td>145017</td>\n",
       "      <td>сыграть свадьбу</td>\n",
       "    </tr>\n",
       "    <tr>\n",
       "      <td>7808</td>\n",
       "      <td>0</td>\n",
       "      <td>1203.369529</td>\n",
       "      <td>57</td>\n",
       "      <td>среднее</td>\n",
       "      <td>1</td>\n",
       "      <td>гражданский брак</td>\n",
       "      <td>1</td>\n",
       "      <td>F</td>\n",
       "      <td>пенсионер</td>\n",
       "      <td>0</td>\n",
       "      <td>145017</td>\n",
       "      <td>на проведение свадьбы</td>\n",
       "    </tr>\n",
       "    <tr>\n",
       "      <td>8583</td>\n",
       "      <td>0</td>\n",
       "      <td>1203.369529</td>\n",
       "      <td>58</td>\n",
       "      <td>высшее</td>\n",
       "      <td>0</td>\n",
       "      <td>Не женат / не замужем</td>\n",
       "      <td>4</td>\n",
       "      <td>F</td>\n",
       "      <td>пенсионер</td>\n",
       "      <td>0</td>\n",
       "      <td>145017</td>\n",
       "      <td>дополнительное образование</td>\n",
       "    </tr>\n",
       "    <tr>\n",
       "      <td>9238</td>\n",
       "      <td>2</td>\n",
       "      <td>1203.369529</td>\n",
       "      <td>34</td>\n",
       "      <td>среднее</td>\n",
       "      <td>1</td>\n",
       "      <td>женат / замужем</td>\n",
       "      <td>0</td>\n",
       "      <td>F</td>\n",
       "      <td>сотрудник</td>\n",
       "      <td>0</td>\n",
       "      <td>145017</td>\n",
       "      <td>покупка жилья для сдачи</td>\n",
       "    </tr>\n",
       "    <tr>\n",
       "      <td>9528</td>\n",
       "      <td>0</td>\n",
       "      <td>1203.369529</td>\n",
       "      <td>66</td>\n",
       "      <td>среднее</td>\n",
       "      <td>1</td>\n",
       "      <td>вдовец / вдова</td>\n",
       "      <td>2</td>\n",
       "      <td>F</td>\n",
       "      <td>пенсионер</td>\n",
       "      <td>0</td>\n",
       "      <td>145017</td>\n",
       "      <td>операции со своей недвижимостью</td>\n",
       "    </tr>\n",
       "    <tr>\n",
       "      <td>9627</td>\n",
       "      <td>0</td>\n",
       "      <td>1203.369529</td>\n",
       "      <td>56</td>\n",
       "      <td>среднее</td>\n",
       "      <td>1</td>\n",
       "      <td>женат / замужем</td>\n",
       "      <td>0</td>\n",
       "      <td>F</td>\n",
       "      <td>пенсионер</td>\n",
       "      <td>0</td>\n",
       "      <td>145017</td>\n",
       "      <td>операции со своей недвижимостью</td>\n",
       "    </tr>\n",
       "    <tr>\n",
       "      <td>10462</td>\n",
       "      <td>0</td>\n",
       "      <td>1203.369529</td>\n",
       "      <td>62</td>\n",
       "      <td>среднее</td>\n",
       "      <td>1</td>\n",
       "      <td>женат / замужем</td>\n",
       "      <td>0</td>\n",
       "      <td>F</td>\n",
       "      <td>пенсионер</td>\n",
       "      <td>0</td>\n",
       "      <td>145017</td>\n",
       "      <td>покупка коммерческой недвижимости</td>\n",
       "    </tr>\n",
       "    <tr>\n",
       "      <td>10697</td>\n",
       "      <td>0</td>\n",
       "      <td>1203.369529</td>\n",
       "      <td>40</td>\n",
       "      <td>среднее</td>\n",
       "      <td>1</td>\n",
       "      <td>гражданский брак</td>\n",
       "      <td>1</td>\n",
       "      <td>F</td>\n",
       "      <td>компаньон</td>\n",
       "      <td>0</td>\n",
       "      <td>145017</td>\n",
       "      <td>сыграть свадьбу</td>\n",
       "    </tr>\n",
       "    <tr>\n",
       "      <td>10864</td>\n",
       "      <td>0</td>\n",
       "      <td>1203.369529</td>\n",
       "      <td>62</td>\n",
       "      <td>среднее</td>\n",
       "      <td>1</td>\n",
       "      <td>женат / замужем</td>\n",
       "      <td>0</td>\n",
       "      <td>F</td>\n",
       "      <td>пенсионер</td>\n",
       "      <td>0</td>\n",
       "      <td>145017</td>\n",
       "      <td>ремонт жилью</td>\n",
       "    </tr>\n",
       "    <tr>\n",
       "      <td>10994</td>\n",
       "      <td>0</td>\n",
       "      <td>1203.369529</td>\n",
       "      <td>62</td>\n",
       "      <td>среднее</td>\n",
       "      <td>1</td>\n",
       "      <td>женат / замужем</td>\n",
       "      <td>0</td>\n",
       "      <td>F</td>\n",
       "      <td>пенсионер</td>\n",
       "      <td>0</td>\n",
       "      <td>145017</td>\n",
       "      <td>ремонт жилью</td>\n",
       "    </tr>\n",
       "    <tr>\n",
       "      <td>11791</td>\n",
       "      <td>0</td>\n",
       "      <td>1203.369529</td>\n",
       "      <td>47</td>\n",
       "      <td>среднее</td>\n",
       "      <td>1</td>\n",
       "      <td>женат / замужем</td>\n",
       "      <td>0</td>\n",
       "      <td>F</td>\n",
       "      <td>сотрудник</td>\n",
       "      <td>0</td>\n",
       "      <td>145017</td>\n",
       "      <td>строительство недвижимости</td>\n",
       "    </tr>\n",
       "    <tr>\n",
       "      <td>12373</td>\n",
       "      <td>0</td>\n",
       "      <td>1203.369529</td>\n",
       "      <td>58</td>\n",
       "      <td>среднее</td>\n",
       "      <td>1</td>\n",
       "      <td>женат / замужем</td>\n",
       "      <td>0</td>\n",
       "      <td>M</td>\n",
       "      <td>сотрудник</td>\n",
       "      <td>0</td>\n",
       "      <td>145017</td>\n",
       "      <td>покупка недвижимости</td>\n",
       "    </tr>\n",
       "    <tr>\n",
       "      <td>12375</td>\n",
       "      <td>1</td>\n",
       "      <td>1203.369529</td>\n",
       "      <td>37</td>\n",
       "      <td>среднее</td>\n",
       "      <td>1</td>\n",
       "      <td>женат / замужем</td>\n",
       "      <td>0</td>\n",
       "      <td>F</td>\n",
       "      <td>сотрудник</td>\n",
       "      <td>0</td>\n",
       "      <td>145017</td>\n",
       "      <td>покупка недвижимости</td>\n",
       "    </tr>\n",
       "    <tr>\n",
       "      <td>12736</td>\n",
       "      <td>0</td>\n",
       "      <td>1203.369529</td>\n",
       "      <td>59</td>\n",
       "      <td>среднее</td>\n",
       "      <td>1</td>\n",
       "      <td>женат / замужем</td>\n",
       "      <td>0</td>\n",
       "      <td>F</td>\n",
       "      <td>пенсионер</td>\n",
       "      <td>0</td>\n",
       "      <td>145017</td>\n",
       "      <td>заняться образованием</td>\n",
       "    </tr>\n",
       "    <tr>\n",
       "      <td>13025</td>\n",
       "      <td>1</td>\n",
       "      <td>1203.369529</td>\n",
       "      <td>44</td>\n",
       "      <td>среднее</td>\n",
       "      <td>1</td>\n",
       "      <td>женат / замужем</td>\n",
       "      <td>0</td>\n",
       "      <td>F</td>\n",
       "      <td>сотрудник</td>\n",
       "      <td>0</td>\n",
       "      <td>145017</td>\n",
       "      <td>сделка с подержанным автомобилем</td>\n",
       "    </tr>\n",
       "    <tr>\n",
       "      <td>13639</td>\n",
       "      <td>0</td>\n",
       "      <td>1203.369529</td>\n",
       "      <td>64</td>\n",
       "      <td>среднее</td>\n",
       "      <td>1</td>\n",
       "      <td>женат / замужем</td>\n",
       "      <td>0</td>\n",
       "      <td>F</td>\n",
       "      <td>пенсионер</td>\n",
       "      <td>0</td>\n",
       "      <td>145017</td>\n",
       "      <td>автомобиль</td>\n",
       "    </tr>\n",
       "    <tr>\n",
       "      <td>13773</td>\n",
       "      <td>0</td>\n",
       "      <td>1203.369529</td>\n",
       "      <td>35</td>\n",
       "      <td>среднее</td>\n",
       "      <td>1</td>\n",
       "      <td>гражданский брак</td>\n",
       "      <td>1</td>\n",
       "      <td>F</td>\n",
       "      <td>сотрудник</td>\n",
       "      <td>0</td>\n",
       "      <td>145017</td>\n",
       "      <td>сыграть свадьбу</td>\n",
       "    </tr>\n",
       "    <tr>\n",
       "      <td>13878</td>\n",
       "      <td>1</td>\n",
       "      <td>1203.369529</td>\n",
       "      <td>31</td>\n",
       "      <td>среднее</td>\n",
       "      <td>1</td>\n",
       "      <td>женат / замужем</td>\n",
       "      <td>0</td>\n",
       "      <td>F</td>\n",
       "      <td>компаньон</td>\n",
       "      <td>0</td>\n",
       "      <td>145017</td>\n",
       "      <td>покупка жилья</td>\n",
       "    </tr>\n",
       "    <tr>\n",
       "      <td>13942</td>\n",
       "      <td>0</td>\n",
       "      <td>1203.369529</td>\n",
       "      <td>44</td>\n",
       "      <td>среднее</td>\n",
       "      <td>1</td>\n",
       "      <td>женат / замужем</td>\n",
       "      <td>0</td>\n",
       "      <td>F</td>\n",
       "      <td>сотрудник</td>\n",
       "      <td>0</td>\n",
       "      <td>145017</td>\n",
       "      <td>приобретение автомобиля</td>\n",
       "    </tr>\n",
       "    <tr>\n",
       "      <td>14432</td>\n",
       "      <td>2</td>\n",
       "      <td>1203.369529</td>\n",
       "      <td>36</td>\n",
       "      <td>высшее</td>\n",
       "      <td>0</td>\n",
       "      <td>женат / замужем</td>\n",
       "      <td>0</td>\n",
       "      <td>F</td>\n",
       "      <td>госслужащий</td>\n",
       "      <td>0</td>\n",
       "      <td>145017</td>\n",
       "      <td>получение образования</td>\n",
       "    </tr>\n",
       "    <tr>\n",
       "      <td>14832</td>\n",
       "      <td>0</td>\n",
       "      <td>1203.369529</td>\n",
       "      <td>50</td>\n",
       "      <td>среднее</td>\n",
       "      <td>1</td>\n",
       "      <td>Не женат / не замужем</td>\n",
       "      <td>4</td>\n",
       "      <td>F</td>\n",
       "      <td>сотрудник</td>\n",
       "      <td>0</td>\n",
       "      <td>145017</td>\n",
       "      <td>недвижимость</td>\n",
       "    </tr>\n",
       "    <tr>\n",
       "      <td>15091</td>\n",
       "      <td>0</td>\n",
       "      <td>1203.369529</td>\n",
       "      <td>58</td>\n",
       "      <td>среднее</td>\n",
       "      <td>1</td>\n",
       "      <td>гражданский брак</td>\n",
       "      <td>1</td>\n",
       "      <td>M</td>\n",
       "      <td>сотрудник</td>\n",
       "      <td>0</td>\n",
       "      <td>145017</td>\n",
       "      <td>на проведение свадьбы</td>\n",
       "    </tr>\n",
       "    <tr>\n",
       "      <td>15188</td>\n",
       "      <td>0</td>\n",
       "      <td>1203.369529</td>\n",
       "      <td>60</td>\n",
       "      <td>среднее</td>\n",
       "      <td>1</td>\n",
       "      <td>женат / замужем</td>\n",
       "      <td>0</td>\n",
       "      <td>M</td>\n",
       "      <td>сотрудник</td>\n",
       "      <td>0</td>\n",
       "      <td>145017</td>\n",
       "      <td>покупка недвижимости</td>\n",
       "    </tr>\n",
       "    <tr>\n",
       "      <td>15273</td>\n",
       "      <td>0</td>\n",
       "      <td>1203.369529</td>\n",
       "      <td>57</td>\n",
       "      <td>среднее</td>\n",
       "      <td>1</td>\n",
       "      <td>гражданский брак</td>\n",
       "      <td>1</td>\n",
       "      <td>F</td>\n",
       "      <td>пенсионер</td>\n",
       "      <td>0</td>\n",
       "      <td>145017</td>\n",
       "      <td>свадьба</td>\n",
       "    </tr>\n",
       "    <tr>\n",
       "      <td>16176</td>\n",
       "      <td>0</td>\n",
       "      <td>1203.369529</td>\n",
       "      <td>47</td>\n",
       "      <td>среднее</td>\n",
       "      <td>1</td>\n",
       "      <td>женат / замужем</td>\n",
       "      <td>0</td>\n",
       "      <td>F</td>\n",
       "      <td>сотрудник</td>\n",
       "      <td>0</td>\n",
       "      <td>145017</td>\n",
       "      <td>ремонт жилью</td>\n",
       "    </tr>\n",
       "    <tr>\n",
       "      <td>16378</td>\n",
       "      <td>0</td>\n",
       "      <td>1203.369529</td>\n",
       "      <td>46</td>\n",
       "      <td>среднее</td>\n",
       "      <td>1</td>\n",
       "      <td>женат / замужем</td>\n",
       "      <td>0</td>\n",
       "      <td>F</td>\n",
       "      <td>сотрудник</td>\n",
       "      <td>0</td>\n",
       "      <td>145017</td>\n",
       "      <td>высшее образование</td>\n",
       "    </tr>\n",
       "    <tr>\n",
       "      <td>16902</td>\n",
       "      <td>2</td>\n",
       "      <td>1203.369529</td>\n",
       "      <td>39</td>\n",
       "      <td>среднее</td>\n",
       "      <td>1</td>\n",
       "      <td>гражданский брак</td>\n",
       "      <td>1</td>\n",
       "      <td>F</td>\n",
       "      <td>сотрудник</td>\n",
       "      <td>0</td>\n",
       "      <td>145017</td>\n",
       "      <td>сыграть свадьбу</td>\n",
       "    </tr>\n",
       "    <tr>\n",
       "      <td>16904</td>\n",
       "      <td>1</td>\n",
       "      <td>1203.369529</td>\n",
       "      <td>32</td>\n",
       "      <td>высшее</td>\n",
       "      <td>0</td>\n",
       "      <td>женат / замужем</td>\n",
       "      <td>0</td>\n",
       "      <td>F</td>\n",
       "      <td>сотрудник</td>\n",
       "      <td>0</td>\n",
       "      <td>145017</td>\n",
       "      <td>на покупку подержанного автомобиля</td>\n",
       "    </tr>\n",
       "    <tr>\n",
       "      <td>17379</td>\n",
       "      <td>0</td>\n",
       "      <td>1203.369529</td>\n",
       "      <td>54</td>\n",
       "      <td>высшее</td>\n",
       "      <td>0</td>\n",
       "      <td>женат / замужем</td>\n",
       "      <td>0</td>\n",
       "      <td>M</td>\n",
       "      <td>компаньон</td>\n",
       "      <td>0</td>\n",
       "      <td>145017</td>\n",
       "      <td>операции с коммерческой недвижимостью</td>\n",
       "    </tr>\n",
       "    <tr>\n",
       "      <td>17755</td>\n",
       "      <td>1</td>\n",
       "      <td>1203.369529</td>\n",
       "      <td>43</td>\n",
       "      <td>среднее</td>\n",
       "      <td>1</td>\n",
       "      <td>женат / замужем</td>\n",
       "      <td>0</td>\n",
       "      <td>M</td>\n",
       "      <td>сотрудник</td>\n",
       "      <td>0</td>\n",
       "      <td>145017</td>\n",
       "      <td>заняться образованием</td>\n",
       "    </tr>\n",
       "    <tr>\n",
       "      <td>17774</td>\n",
       "      <td>1</td>\n",
       "      <td>1203.369529</td>\n",
       "      <td>40</td>\n",
       "      <td>среднее</td>\n",
       "      <td>1</td>\n",
       "      <td>гражданский брак</td>\n",
       "      <td>1</td>\n",
       "      <td>F</td>\n",
       "      <td>компаньон</td>\n",
       "      <td>0</td>\n",
       "      <td>145017</td>\n",
       "      <td>строительство жилой недвижимости</td>\n",
       "    </tr>\n",
       "    <tr>\n",
       "      <td>18328</td>\n",
       "      <td>0</td>\n",
       "      <td>1203.369529</td>\n",
       "      <td>29</td>\n",
       "      <td>высшее</td>\n",
       "      <td>0</td>\n",
       "      <td>женат / замужем</td>\n",
       "      <td>0</td>\n",
       "      <td>M</td>\n",
       "      <td>сотрудник</td>\n",
       "      <td>0</td>\n",
       "      <td>145017</td>\n",
       "      <td>покупка жилой недвижимости</td>\n",
       "    </tr>\n",
       "    <tr>\n",
       "      <td>18349</td>\n",
       "      <td>1</td>\n",
       "      <td>1203.369529</td>\n",
       "      <td>30</td>\n",
       "      <td>высшее</td>\n",
       "      <td>0</td>\n",
       "      <td>женат / замужем</td>\n",
       "      <td>0</td>\n",
       "      <td>F</td>\n",
       "      <td>госслужащий</td>\n",
       "      <td>0</td>\n",
       "      <td>145017</td>\n",
       "      <td>покупка жилья для семьи</td>\n",
       "    </tr>\n",
       "    <tr>\n",
       "      <td>18428</td>\n",
       "      <td>0</td>\n",
       "      <td>1203.369529</td>\n",
       "      <td>64</td>\n",
       "      <td>среднее</td>\n",
       "      <td>1</td>\n",
       "      <td>женат / замужем</td>\n",
       "      <td>0</td>\n",
       "      <td>F</td>\n",
       "      <td>пенсионер</td>\n",
       "      <td>0</td>\n",
       "      <td>145017</td>\n",
       "      <td>жилье</td>\n",
       "    </tr>\n",
       "    <tr>\n",
       "      <td>18521</td>\n",
       "      <td>0</td>\n",
       "      <td>1203.369529</td>\n",
       "      <td>56</td>\n",
       "      <td>среднее</td>\n",
       "      <td>1</td>\n",
       "      <td>гражданский брак</td>\n",
       "      <td>1</td>\n",
       "      <td>F</td>\n",
       "      <td>сотрудник</td>\n",
       "      <td>0</td>\n",
       "      <td>145017</td>\n",
       "      <td>сыграть свадьбу</td>\n",
       "    </tr>\n",
       "    <tr>\n",
       "      <td>18563</td>\n",
       "      <td>0</td>\n",
       "      <td>1203.369529</td>\n",
       "      <td>54</td>\n",
       "      <td>среднее</td>\n",
       "      <td>1</td>\n",
       "      <td>женат / замужем</td>\n",
       "      <td>0</td>\n",
       "      <td>F</td>\n",
       "      <td>сотрудник</td>\n",
       "      <td>0</td>\n",
       "      <td>145017</td>\n",
       "      <td>операции со своей недвижимостью</td>\n",
       "    </tr>\n",
       "    <tr>\n",
       "      <td>18755</td>\n",
       "      <td>0</td>\n",
       "      <td>1203.369529</td>\n",
       "      <td>58</td>\n",
       "      <td>среднее</td>\n",
       "      <td>1</td>\n",
       "      <td>женат / замужем</td>\n",
       "      <td>0</td>\n",
       "      <td>F</td>\n",
       "      <td>пенсионер</td>\n",
       "      <td>0</td>\n",
       "      <td>145017</td>\n",
       "      <td>заняться образованием</td>\n",
       "    </tr>\n",
       "    <tr>\n",
       "      <td>19041</td>\n",
       "      <td>0</td>\n",
       "      <td>1203.369529</td>\n",
       "      <td>56</td>\n",
       "      <td>среднее</td>\n",
       "      <td>1</td>\n",
       "      <td>гражданский брак</td>\n",
       "      <td>1</td>\n",
       "      <td>F</td>\n",
       "      <td>сотрудник</td>\n",
       "      <td>0</td>\n",
       "      <td>145017</td>\n",
       "      <td>на проведение свадьбы</td>\n",
       "    </tr>\n",
       "    <tr>\n",
       "      <td>19184</td>\n",
       "      <td>0</td>\n",
       "      <td>1203.369529</td>\n",
       "      <td>46</td>\n",
       "      <td>среднее</td>\n",
       "      <td>1</td>\n",
       "      <td>женат / замужем</td>\n",
       "      <td>0</td>\n",
       "      <td>F</td>\n",
       "      <td>сотрудник</td>\n",
       "      <td>0</td>\n",
       "      <td>145017</td>\n",
       "      <td>свой автомобиль</td>\n",
       "    </tr>\n",
       "    <tr>\n",
       "      <td>19321</td>\n",
       "      <td>0</td>\n",
       "      <td>1203.369529</td>\n",
       "      <td>23</td>\n",
       "      <td>среднее</td>\n",
       "      <td>1</td>\n",
       "      <td>Не женат / не замужем</td>\n",
       "      <td>4</td>\n",
       "      <td>F</td>\n",
       "      <td>сотрудник</td>\n",
       "      <td>0</td>\n",
       "      <td>145017</td>\n",
       "      <td>сделка с подержанным автомобилем</td>\n",
       "    </tr>\n",
       "    <tr>\n",
       "      <td>19387</td>\n",
       "      <td>0</td>\n",
       "      <td>1203.369529</td>\n",
       "      <td>38</td>\n",
       "      <td>высшее</td>\n",
       "      <td>0</td>\n",
       "      <td>гражданский брак</td>\n",
       "      <td>1</td>\n",
       "      <td>F</td>\n",
       "      <td>компаньон</td>\n",
       "      <td>0</td>\n",
       "      <td>145017</td>\n",
       "      <td>на проведение свадьбы</td>\n",
       "    </tr>\n",
       "    <tr>\n",
       "      <td>19688</td>\n",
       "      <td>0</td>\n",
       "      <td>1203.369529</td>\n",
       "      <td>61</td>\n",
       "      <td>среднее</td>\n",
       "      <td>1</td>\n",
       "      <td>женат / замужем</td>\n",
       "      <td>0</td>\n",
       "      <td>F</td>\n",
       "      <td>пенсионер</td>\n",
       "      <td>0</td>\n",
       "      <td>145017</td>\n",
       "      <td>операции с недвижимостью</td>\n",
       "    </tr>\n",
       "    <tr>\n",
       "      <td>19832</td>\n",
       "      <td>0</td>\n",
       "      <td>1203.369529</td>\n",
       "      <td>48</td>\n",
       "      <td>среднее</td>\n",
       "      <td>1</td>\n",
       "      <td>женат / замужем</td>\n",
       "      <td>0</td>\n",
       "      <td>F</td>\n",
       "      <td>сотрудник</td>\n",
       "      <td>0</td>\n",
       "      <td>145017</td>\n",
       "      <td>ремонт жилью</td>\n",
       "    </tr>\n",
       "    <tr>\n",
       "      <td>19946</td>\n",
       "      <td>0</td>\n",
       "      <td>1203.369529</td>\n",
       "      <td>57</td>\n",
       "      <td>среднее</td>\n",
       "      <td>1</td>\n",
       "      <td>женат / замужем</td>\n",
       "      <td>0</td>\n",
       "      <td>F</td>\n",
       "      <td>сотрудник</td>\n",
       "      <td>0</td>\n",
       "      <td>145017</td>\n",
       "      <td>сделка с подержанным автомобилем</td>\n",
       "    </tr>\n",
       "    <tr>\n",
       "      <td>20116</td>\n",
       "      <td>0</td>\n",
       "      <td>1203.369529</td>\n",
       "      <td>57</td>\n",
       "      <td>среднее</td>\n",
       "      <td>1</td>\n",
       "      <td>гражданский брак</td>\n",
       "      <td>1</td>\n",
       "      <td>M</td>\n",
       "      <td>пенсионер</td>\n",
       "      <td>0</td>\n",
       "      <td>145017</td>\n",
       "      <td>свадьба</td>\n",
       "    </tr>\n",
       "    <tr>\n",
       "      <td>20165</td>\n",
       "      <td>0</td>\n",
       "      <td>1203.369529</td>\n",
       "      <td>42</td>\n",
       "      <td>среднее</td>\n",
       "      <td>1</td>\n",
       "      <td>женат / замужем</td>\n",
       "      <td>0</td>\n",
       "      <td>F</td>\n",
       "      <td>сотрудник</td>\n",
       "      <td>0</td>\n",
       "      <td>145017</td>\n",
       "      <td>покупка жилья для семьи</td>\n",
       "    </tr>\n",
       "    <tr>\n",
       "      <td>20702</td>\n",
       "      <td>0</td>\n",
       "      <td>1203.369529</td>\n",
       "      <td>64</td>\n",
       "      <td>среднее</td>\n",
       "      <td>1</td>\n",
       "      <td>женат / замужем</td>\n",
       "      <td>0</td>\n",
       "      <td>F</td>\n",
       "      <td>пенсионер</td>\n",
       "      <td>0</td>\n",
       "      <td>145017</td>\n",
       "      <td>дополнительное образование</td>\n",
       "    </tr>\n",
       "    <tr>\n",
       "      <td>21032</td>\n",
       "      <td>0</td>\n",
       "      <td>1203.369529</td>\n",
       "      <td>60</td>\n",
       "      <td>среднее</td>\n",
       "      <td>1</td>\n",
       "      <td>женат / замужем</td>\n",
       "      <td>0</td>\n",
       "      <td>F</td>\n",
       "      <td>пенсионер</td>\n",
       "      <td>0</td>\n",
       "      <td>145017</td>\n",
       "      <td>заняться образованием</td>\n",
       "    </tr>\n",
       "    <tr>\n",
       "      <td>21132</td>\n",
       "      <td>0</td>\n",
       "      <td>1203.369529</td>\n",
       "      <td>47</td>\n",
       "      <td>среднее</td>\n",
       "      <td>1</td>\n",
       "      <td>женат / замужем</td>\n",
       "      <td>0</td>\n",
       "      <td>F</td>\n",
       "      <td>сотрудник</td>\n",
       "      <td>0</td>\n",
       "      <td>145017</td>\n",
       "      <td>ремонт жилью</td>\n",
       "    </tr>\n",
       "    <tr>\n",
       "      <td>21281</td>\n",
       "      <td>1</td>\n",
       "      <td>1203.369529</td>\n",
       "      <td>30</td>\n",
       "      <td>высшее</td>\n",
       "      <td>0</td>\n",
       "      <td>женат / замужем</td>\n",
       "      <td>0</td>\n",
       "      <td>F</td>\n",
       "      <td>сотрудник</td>\n",
       "      <td>0</td>\n",
       "      <td>145017</td>\n",
       "      <td>покупка коммерческой недвижимости</td>\n",
       "    </tr>\n",
       "    <tr>\n",
       "      <td>21415</td>\n",
       "      <td>0</td>\n",
       "      <td>1203.369529</td>\n",
       "      <td>54</td>\n",
       "      <td>среднее</td>\n",
       "      <td>1</td>\n",
       "      <td>женат / замужем</td>\n",
       "      <td>0</td>\n",
       "      <td>F</td>\n",
       "      <td>пенсионер</td>\n",
       "      <td>0</td>\n",
       "      <td>145017</td>\n",
       "      <td>операции с жильем</td>\n",
       "    </tr>\n",
       "  </tbody>\n",
       "</table>\n",
       "</div>"
      ],
      "text/plain": [
       "       children  days_employed  dob_years education  education_id  \\\n",
       "2849          0    1203.369529         41   среднее             1   \n",
       "4182          1    1203.369529         34    ВЫСШЕЕ             0   \n",
       "4851          0    1203.369529         60   среднее             1   \n",
       "5557          0    1203.369529         58   среднее             1   \n",
       "7808          0    1203.369529         57   среднее             1   \n",
       "8583          0    1203.369529         58    высшее             0   \n",
       "9238          2    1203.369529         34   среднее             1   \n",
       "9528          0    1203.369529         66   среднее             1   \n",
       "9627          0    1203.369529         56   среднее             1   \n",
       "10462         0    1203.369529         62   среднее             1   \n",
       "10697         0    1203.369529         40   среднее             1   \n",
       "10864         0    1203.369529         62   среднее             1   \n",
       "10994         0    1203.369529         62   среднее             1   \n",
       "11791         0    1203.369529         47   среднее             1   \n",
       "12373         0    1203.369529         58   среднее             1   \n",
       "12375         1    1203.369529         37   среднее             1   \n",
       "12736         0    1203.369529         59   среднее             1   \n",
       "13025         1    1203.369529         44   среднее             1   \n",
       "13639         0    1203.369529         64   среднее             1   \n",
       "13773         0    1203.369529         35   среднее             1   \n",
       "13878         1    1203.369529         31   среднее             1   \n",
       "13942         0    1203.369529         44   среднее             1   \n",
       "14432         2    1203.369529         36    высшее             0   \n",
       "14832         0    1203.369529         50   среднее             1   \n",
       "15091         0    1203.369529         58   среднее             1   \n",
       "15188         0    1203.369529         60   среднее             1   \n",
       "15273         0    1203.369529         57   среднее             1   \n",
       "16176         0    1203.369529         47   среднее             1   \n",
       "16378         0    1203.369529         46   среднее             1   \n",
       "16902         2    1203.369529         39   среднее             1   \n",
       "16904         1    1203.369529         32    высшее             0   \n",
       "17379         0    1203.369529         54    высшее             0   \n",
       "17755         1    1203.369529         43   среднее             1   \n",
       "17774         1    1203.369529         40   среднее             1   \n",
       "18328         0    1203.369529         29    высшее             0   \n",
       "18349         1    1203.369529         30    высшее             0   \n",
       "18428         0    1203.369529         64   среднее             1   \n",
       "18521         0    1203.369529         56   среднее             1   \n",
       "18563         0    1203.369529         54   среднее             1   \n",
       "18755         0    1203.369529         58   среднее             1   \n",
       "19041         0    1203.369529         56   среднее             1   \n",
       "19184         0    1203.369529         46   среднее             1   \n",
       "19321         0    1203.369529         23   среднее             1   \n",
       "19387         0    1203.369529         38    высшее             0   \n",
       "19688         0    1203.369529         61   среднее             1   \n",
       "19832         0    1203.369529         48   среднее             1   \n",
       "19946         0    1203.369529         57   среднее             1   \n",
       "20116         0    1203.369529         57   среднее             1   \n",
       "20165         0    1203.369529         42   среднее             1   \n",
       "20702         0    1203.369529         64   среднее             1   \n",
       "21032         0    1203.369529         60   среднее             1   \n",
       "21132         0    1203.369529         47   среднее             1   \n",
       "21281         1    1203.369529         30    высшее             0   \n",
       "21415         0    1203.369529         54   среднее             1   \n",
       "\n",
       "               family_status  family_status_id gender  income_type  debt  \\\n",
       "2849         женат / замужем                 0      F    сотрудник     0   \n",
       "4182        гражданский брак                 1      F    сотрудник     0   \n",
       "4851        гражданский брак                 1      F    пенсионер     0   \n",
       "5557        гражданский брак                 1      F    пенсионер     0   \n",
       "7808        гражданский брак                 1      F    пенсионер     0   \n",
       "8583   Не женат / не замужем                 4      F    пенсионер     0   \n",
       "9238         женат / замужем                 0      F    сотрудник     0   \n",
       "9528          вдовец / вдова                 2      F    пенсионер     0   \n",
       "9627         женат / замужем                 0      F    пенсионер     0   \n",
       "10462        женат / замужем                 0      F    пенсионер     0   \n",
       "10697       гражданский брак                 1      F    компаньон     0   \n",
       "10864        женат / замужем                 0      F    пенсионер     0   \n",
       "10994        женат / замужем                 0      F    пенсионер     0   \n",
       "11791        женат / замужем                 0      F    сотрудник     0   \n",
       "12373        женат / замужем                 0      M    сотрудник     0   \n",
       "12375        женат / замужем                 0      F    сотрудник     0   \n",
       "12736        женат / замужем                 0      F    пенсионер     0   \n",
       "13025        женат / замужем                 0      F    сотрудник     0   \n",
       "13639        женат / замужем                 0      F    пенсионер     0   \n",
       "13773       гражданский брак                 1      F    сотрудник     0   \n",
       "13878        женат / замужем                 0      F    компаньон     0   \n",
       "13942        женат / замужем                 0      F    сотрудник     0   \n",
       "14432        женат / замужем                 0      F  госслужащий     0   \n",
       "14832  Не женат / не замужем                 4      F    сотрудник     0   \n",
       "15091       гражданский брак                 1      M    сотрудник     0   \n",
       "15188        женат / замужем                 0      M    сотрудник     0   \n",
       "15273       гражданский брак                 1      F    пенсионер     0   \n",
       "16176        женат / замужем                 0      F    сотрудник     0   \n",
       "16378        женат / замужем                 0      F    сотрудник     0   \n",
       "16902       гражданский брак                 1      F    сотрудник     0   \n",
       "16904        женат / замужем                 0      F    сотрудник     0   \n",
       "17379        женат / замужем                 0      M    компаньон     0   \n",
       "17755        женат / замужем                 0      M    сотрудник     0   \n",
       "17774       гражданский брак                 1      F    компаньон     0   \n",
       "18328        женат / замужем                 0      M    сотрудник     0   \n",
       "18349        женат / замужем                 0      F  госслужащий     0   \n",
       "18428        женат / замужем                 0      F    пенсионер     0   \n",
       "18521       гражданский брак                 1      F    сотрудник     0   \n",
       "18563        женат / замужем                 0      F    сотрудник     0   \n",
       "18755        женат / замужем                 0      F    пенсионер     0   \n",
       "19041       гражданский брак                 1      F    сотрудник     0   \n",
       "19184        женат / замужем                 0      F    сотрудник     0   \n",
       "19321  Не женат / не замужем                 4      F    сотрудник     0   \n",
       "19387       гражданский брак                 1      F    компаньон     0   \n",
       "19688        женат / замужем                 0      F    пенсионер     0   \n",
       "19832        женат / замужем                 0      F    сотрудник     0   \n",
       "19946        женат / замужем                 0      F    сотрудник     0   \n",
       "20116       гражданский брак                 1      M    пенсионер     0   \n",
       "20165        женат / замужем                 0      F    сотрудник     0   \n",
       "20702        женат / замужем                 0      F    пенсионер     0   \n",
       "21032        женат / замужем                 0      F    пенсионер     0   \n",
       "21132        женат / замужем                 0      F    сотрудник     0   \n",
       "21281        женат / замужем                 0      F    сотрудник     0   \n",
       "21415        женат / замужем                 0      F    пенсионер     0   \n",
       "\n",
       "       total_income                                purpose  \n",
       "2849         145017                покупка жилья для семьи  \n",
       "4182         145017                                свадьба  \n",
       "4851         145017                                свадьба  \n",
       "5557         145017                        сыграть свадьбу  \n",
       "7808         145017                  на проведение свадьбы  \n",
       "8583         145017             дополнительное образование  \n",
       "9238         145017                покупка жилья для сдачи  \n",
       "9528         145017        операции со своей недвижимостью  \n",
       "9627         145017        операции со своей недвижимостью  \n",
       "10462        145017      покупка коммерческой недвижимости  \n",
       "10697        145017                        сыграть свадьбу  \n",
       "10864        145017                           ремонт жилью  \n",
       "10994        145017                           ремонт жилью  \n",
       "11791        145017             строительство недвижимости  \n",
       "12373        145017                   покупка недвижимости  \n",
       "12375        145017                   покупка недвижимости  \n",
       "12736        145017                  заняться образованием  \n",
       "13025        145017       сделка с подержанным автомобилем  \n",
       "13639        145017                             автомобиль  \n",
       "13773        145017                        сыграть свадьбу  \n",
       "13878        145017                          покупка жилья  \n",
       "13942        145017                приобретение автомобиля  \n",
       "14432        145017                  получение образования  \n",
       "14832        145017                           недвижимость  \n",
       "15091        145017                  на проведение свадьбы  \n",
       "15188        145017                   покупка недвижимости  \n",
       "15273        145017                                свадьба  \n",
       "16176        145017                           ремонт жилью  \n",
       "16378        145017                     высшее образование  \n",
       "16902        145017                        сыграть свадьбу  \n",
       "16904        145017     на покупку подержанного автомобиля  \n",
       "17379        145017  операции с коммерческой недвижимостью  \n",
       "17755        145017                  заняться образованием  \n",
       "17774        145017       строительство жилой недвижимости  \n",
       "18328        145017             покупка жилой недвижимости  \n",
       "18349        145017                покупка жилья для семьи  \n",
       "18428        145017                                  жилье  \n",
       "18521        145017                        сыграть свадьбу  \n",
       "18563        145017        операции со своей недвижимостью  \n",
       "18755        145017                  заняться образованием  \n",
       "19041        145017                  на проведение свадьбы  \n",
       "19184        145017                        свой автомобиль  \n",
       "19321        145017       сделка с подержанным автомобилем  \n",
       "19387        145017                  на проведение свадьбы  \n",
       "19688        145017               операции с недвижимостью  \n",
       "19832        145017                           ремонт жилью  \n",
       "19946        145017       сделка с подержанным автомобилем  \n",
       "20116        145017                                свадьба  \n",
       "20165        145017                покупка жилья для семьи  \n",
       "20702        145017             дополнительное образование  \n",
       "21032        145017                  заняться образованием  \n",
       "21132        145017                           ремонт жилью  \n",
       "21281        145017      покупка коммерческой недвижимости  \n",
       "21415        145017                      операции с жильем  "
      ]
     },
     "execution_count": 26,
     "metadata": {},
     "output_type": "execute_result"
    }
   ],
   "source": [
    "# I  chose data.duplicated() to verify how many duplicates there are, but as well , \n",
    "#dipslay the rows in order to make sure I don't delete rows that has an impact on my statistics  \n",
    "data[data.duplicated()]\n"
   ]
  },
  {
   "cell_type": "code",
   "execution_count": 27,
   "id": "d8a52912",
   "metadata": {},
   "outputs": [
    {
     "data": {
      "text/plain": [
       "54"
      ]
     },
     "execution_count": 27,
     "metadata": {},
     "output_type": "execute_result"
    }
   ],
   "source": [
    "data.duplicated().sum()"
   ]
  },
  {
   "cell_type": "code",
   "execution_count": 28,
   "id": "79650114",
   "metadata": {},
   "outputs": [
    {
     "data": {
      "text/plain": [
       "children            54\n",
       "days_employed       54\n",
       "dob_years           54\n",
       "education           54\n",
       "education_id        54\n",
       "family_status       54\n",
       "family_status_id    54\n",
       "gender              54\n",
       "income_type         54\n",
       "debt                54\n",
       "total_income        54\n",
       "purpose             54\n",
       "dtype: int64"
      ]
     },
     "execution_count": 28,
     "metadata": {},
     "output_type": "execute_result"
    }
   ],
   "source": [
    "#поясните, как выбирали метод для поиска и удаления дубликатов в данных;\n",
    "# я проверел и убедится что во всех столбцов датасета содежутся дубликаты / we need to check as well weather we delete the rows doesn't have a big impact on our statistics\n",
    "# Дубликаты могут появится по множество причин: категории, ошибки...\n",
    "\n",
    "data[data.duplicated()]['total_income'].count()\n",
    "data[data.duplicated()].count()"
   ]
  },
  {
   "cell_type": "code",
   "execution_count": 29,
   "id": "cc41ad65",
   "metadata": {},
   "outputs": [
    {
     "data": {
      "text/plain": [
       "0"
      ]
     },
     "execution_count": 29,
     "metadata": {},
     "output_type": "execute_result"
    }
   ],
   "source": [
    "#Если в данных присутствуют строки-дубликаты, удалите их. \n",
    "# there is no risk that if I delete the rows with duplciates i lose any important data\n",
    "data = data.drop_duplicates().reset_index(drop = True)\n",
    "data.duplicated().sum()"
   ]
  },
  {
   "cell_type": "code",
   "execution_count": 30,
   "id": "685866bc",
   "metadata": {},
   "outputs": [
    {
     "data": {
      "text/plain": [
       "array(['высшее', 'среднее', 'Среднее', 'СРЕДНЕЕ', 'ВЫСШЕЕ',\n",
       "       'неоконченное высшее', 'начальное', 'Высшее',\n",
       "       'НЕОКОНЧЕННОЕ ВЫСШЕЕ', 'Неоконченное высшее', 'НАЧАЛЬНОЕ',\n",
       "       'Начальное', 'Ученая степень', 'УЧЕНАЯ СТЕПЕНЬ', 'ученая степень'],\n",
       "      dtype=object)"
      ]
     },
     "execution_count": 30,
     "metadata": {},
     "output_type": "execute_result"
    }
   ],
   "source": [
    "#Также обработайте неявные дубликаты. \n",
    "#Например, в столбце education есть одни и те же значения, но записанные по-разному: с использованием заглавных и строчных букв.\n",
    "\n",
    "data['education'].unique()"
   ]
  },
  {
   "cell_type": "code",
   "execution_count": 31,
   "id": "09212be6",
   "metadata": {},
   "outputs": [],
   "source": [
    "def replace_wrong_values(wrong_values, correct_value):\n",
    "    for wrong_vlaue in wrong_values:\n",
    "        data['education'] = data['education'].replace(wrong_values,correct_value) "
   ]
  },
  {
   "cell_type": "code",
   "execution_count": 32,
   "id": "82fc699e",
   "metadata": {},
   "outputs": [],
   "source": [
    "начальное_name = 'начальное'\n",
    "среднее_name = 'среднее'\n",
    "неоконченное_name = 'неоконченное высшее'\n",
    "высшее_name = 'высшее'\n",
    "ученая_степень_name = 'ученая степень'"
   ]
  },
  {
   "cell_type": "code",
   "execution_count": 33,
   "id": "365e661c",
   "metadata": {},
   "outputs": [],
   "source": [
    "duplicates_начальное = ['Начальное','НАЧАЛЬНОЕ']\n",
    "duplicates_среднее =['СРЕДНЕЕ','Среднее']\n",
    "duplicates_неоконченное = ['НЕОКОНЧЕННОЕ ВЫСШЕЕ','Неоконченное высшее']\n",
    "duplicates_высшее= ['Высшее','ВЫСШЕЕ']\n",
    "duplicates_ученая_степень = ['Ученая степень','УЧЕНАЯ СТЕПЕНЬ']\n"
   ]
  },
  {
   "cell_type": "code",
   "execution_count": 34,
   "id": "ad2e8566",
   "metadata": {},
   "outputs": [],
   "source": [
    "replace_wrong_values(duplicates_начальное, начальное_name)\n",
    "replace_wrong_values(duplicates_среднее,среднее_name)\n",
    "replace_wrong_values(duplicates_неоконченное,неоконченное_name)\n",
    "replace_wrong_values(duplicates_высшее,высшее_name)\n",
    "replace_wrong_values(duplicates_ученая_степень,ученая_степень_name)"
   ]
  },
  {
   "cell_type": "markdown",
   "id": "52a23695",
   "metadata": {},
   "source": [
    "<div class=\"alert alert-danger\">\n",
    "<b>❌ Комментарий ревьюера v1:</b> \n",
    "<br>Ты получаешь правильный результат, но неоптимальным способом. Можно привести все значения в столбце к нижнему регистру используя str.lower(). Поправь, пожалуйста, чтобы избежать дублирования кода\n",
    "</div>"
   ]
  },
  {
   "cell_type": "markdown",
   "id": "168663e0",
   "metadata": {},
   "source": [
    "<div class=\"alert alert-success\">\n",
    "<b>✔️ Комментарий ревьюера v1:</b> \n",
    "<br> понял, согласен, второй вариант ниже:\n",
    "</div>"
   ]
  },
  {
   "cell_type": "code",
   "execution_count": 35,
   "id": "0bf05fb0",
   "metadata": {},
   "outputs": [
    {
     "data": {
      "text/plain": [
       "array(['высшее', 'среднее', 'неоконченное высшее', 'начальное',\n",
       "       'ученая степень'], dtype=object)"
      ]
     },
     "execution_count": 35,
     "metadata": {},
     "output_type": "execute_result"
    }
   ],
   "source": [
    "# находим уникальные \n",
    "data['education'].str.lower().unique()"
   ]
  },
  {
   "cell_type": "code",
   "execution_count": 36,
   "id": "98759303",
   "metadata": {},
   "outputs": [],
   "source": [
    "# добоволение значения В столбец \"education\"\n",
    "data['education'] = data['education'].str.lower()"
   ]
  },
  {
   "cell_type": "markdown",
   "id": "4560e290",
   "metadata": {},
   "source": [
    "<div class=\"alert alert-success\">\n",
    "<b>✔️ Комментарий ревьюера v2:</b>\n",
    "<br>👍\n",
    "</div>"
   ]
  },
  {
   "cell_type": "code",
   "execution_count": 37,
   "id": "7ae894f6",
   "metadata": {},
   "outputs": [
    {
     "data": {
      "text/plain": [
       "array(['женат / замужем', 'гражданский брак', 'вдовец / вдова',\n",
       "       'в разводе', 'Не женат / не замужем'], dtype=object)"
      ]
     },
     "execution_count": 37,
     "metadata": {},
     "output_type": "execute_result"
    }
   ],
   "source": [
    "#check other columns as well, seems all ok\n",
    "#проверяю и другие столбцы на явные дубликаты\n",
    "data['family_status'].unique()"
   ]
  },
  {
   "cell_type": "code",
   "execution_count": 38,
   "id": "fe713733",
   "metadata": {},
   "outputs": [
    {
     "data": {
      "text/plain": [
       "array(['покупка жилья', 'приобретение автомобиля',\n",
       "       'дополнительное образование', 'сыграть свадьбу',\n",
       "       'операции с жильем', 'образование', 'на проведение свадьбы',\n",
       "       'покупка жилья для семьи', 'покупка недвижимости',\n",
       "       'покупка коммерческой недвижимости', 'покупка жилой недвижимости',\n",
       "       'строительство собственной недвижимости', 'недвижимость',\n",
       "       'строительство недвижимости', 'на покупку подержанного автомобиля',\n",
       "       'на покупку своего автомобиля',\n",
       "       'операции с коммерческой недвижимостью',\n",
       "       'строительство жилой недвижимости', 'жилье',\n",
       "       'операции со своей недвижимостью', 'автомобили',\n",
       "       'заняться образованием', 'сделка с подержанным автомобилем',\n",
       "       'получение образования', 'автомобиль', 'свадьба',\n",
       "       'получение дополнительного образования', 'покупка своего жилья',\n",
       "       'операции с недвижимостью', 'получение высшего образования',\n",
       "       'свой автомобиль', 'сделка с автомобилем',\n",
       "       'профильное образование', 'высшее образование',\n",
       "       'покупка жилья для сдачи', 'на покупку автомобиля', 'ремонт жилью',\n",
       "       'заняться высшим образованием'], dtype=object)"
      ]
     },
     "execution_count": 38,
     "metadata": {},
     "output_type": "execute_result"
    }
   ],
   "source": [
    "#check other columns as well, seems all ok\n",
    "#проверяю и другие столбцы на явные дубликаты\n",
    "data['purpose'].unique()"
   ]
  },
  {
   "cell_type": "code",
   "execution_count": 39,
   "id": "9711a470",
   "metadata": {},
   "outputs": [
    {
     "data": {
      "text/html": [
       "<div>\n",
       "<style scoped>\n",
       "    .dataframe tbody tr th:only-of-type {\n",
       "        vertical-align: middle;\n",
       "    }\n",
       "\n",
       "    .dataframe tbody tr th {\n",
       "        vertical-align: top;\n",
       "    }\n",
       "\n",
       "    .dataframe thead th {\n",
       "        text-align: right;\n",
       "    }\n",
       "</style>\n",
       "<table border=\"1\" class=\"dataframe\">\n",
       "  <thead>\n",
       "    <tr style=\"text-align: right;\">\n",
       "      <th></th>\n",
       "      <th>education_id</th>\n",
       "      <th>education</th>\n",
       "    </tr>\n",
       "  </thead>\n",
       "  <tbody>\n",
       "    <tr>\n",
       "      <td>0</td>\n",
       "      <td>0</td>\n",
       "      <td>высшее</td>\n",
       "    </tr>\n",
       "    <tr>\n",
       "      <td>1</td>\n",
       "      <td>1</td>\n",
       "      <td>среднее</td>\n",
       "    </tr>\n",
       "    <tr>\n",
       "      <td>2</td>\n",
       "      <td>1</td>\n",
       "      <td>среднее</td>\n",
       "    </tr>\n",
       "    <tr>\n",
       "      <td>3</td>\n",
       "      <td>1</td>\n",
       "      <td>среднее</td>\n",
       "    </tr>\n",
       "    <tr>\n",
       "      <td>4</td>\n",
       "      <td>1</td>\n",
       "      <td>среднее</td>\n",
       "    </tr>\n",
       "    <tr>\n",
       "      <td>...</td>\n",
       "      <td>...</td>\n",
       "      <td>...</td>\n",
       "    </tr>\n",
       "    <tr>\n",
       "      <td>21466</td>\n",
       "      <td>1</td>\n",
       "      <td>среднее</td>\n",
       "    </tr>\n",
       "    <tr>\n",
       "      <td>21467</td>\n",
       "      <td>1</td>\n",
       "      <td>среднее</td>\n",
       "    </tr>\n",
       "    <tr>\n",
       "      <td>21468</td>\n",
       "      <td>1</td>\n",
       "      <td>среднее</td>\n",
       "    </tr>\n",
       "    <tr>\n",
       "      <td>21469</td>\n",
       "      <td>1</td>\n",
       "      <td>среднее</td>\n",
       "    </tr>\n",
       "    <tr>\n",
       "      <td>21470</td>\n",
       "      <td>1</td>\n",
       "      <td>среднее</td>\n",
       "    </tr>\n",
       "  </tbody>\n",
       "</table>\n",
       "<p>21471 rows × 2 columns</p>\n",
       "</div>"
      ],
      "text/plain": [
       "       education_id education\n",
       "0                 0    высшее\n",
       "1                 1   среднее\n",
       "2                 1   среднее\n",
       "3                 1   среднее\n",
       "4                 1   среднее\n",
       "...             ...       ...\n",
       "21466             1   среднее\n",
       "21467             1   среднее\n",
       "21468             1   среднее\n",
       "21469             1   среднее\n",
       "21470             1   среднее\n",
       "\n",
       "[21471 rows x 2 columns]"
      ]
     },
     "metadata": {},
     "output_type": "display_data"
    }
   ],
   "source": [
    "#5. Создайте два новых датафрейма со столбцами:\n",
    "# education_id и education — в первом;\n",
    "data_education = pd.DataFrame(data=data,columns = ['education_id','education'])\n",
    "display(data_education)"
   ]
  },
  {
   "cell_type": "code",
   "execution_count": 40,
   "id": "53fd0287",
   "metadata": {},
   "outputs": [
    {
     "data": {
      "text/html": [
       "<div>\n",
       "<style scoped>\n",
       "    .dataframe tbody tr th:only-of-type {\n",
       "        vertical-align: middle;\n",
       "    }\n",
       "\n",
       "    .dataframe tbody tr th {\n",
       "        vertical-align: top;\n",
       "    }\n",
       "\n",
       "    .dataframe thead th {\n",
       "        text-align: right;\n",
       "    }\n",
       "</style>\n",
       "<table border=\"1\" class=\"dataframe\">\n",
       "  <thead>\n",
       "    <tr style=\"text-align: right;\">\n",
       "      <th></th>\n",
       "      <th>family_status_id</th>\n",
       "      <th>family_status</th>\n",
       "    </tr>\n",
       "  </thead>\n",
       "  <tbody>\n",
       "    <tr>\n",
       "      <td>0</td>\n",
       "      <td>0</td>\n",
       "      <td>женат / замужем</td>\n",
       "    </tr>\n",
       "    <tr>\n",
       "      <td>1</td>\n",
       "      <td>0</td>\n",
       "      <td>женат / замужем</td>\n",
       "    </tr>\n",
       "    <tr>\n",
       "      <td>2</td>\n",
       "      <td>0</td>\n",
       "      <td>женат / замужем</td>\n",
       "    </tr>\n",
       "    <tr>\n",
       "      <td>3</td>\n",
       "      <td>0</td>\n",
       "      <td>женат / замужем</td>\n",
       "    </tr>\n",
       "    <tr>\n",
       "      <td>4</td>\n",
       "      <td>1</td>\n",
       "      <td>гражданский брак</td>\n",
       "    </tr>\n",
       "    <tr>\n",
       "      <td>...</td>\n",
       "      <td>...</td>\n",
       "      <td>...</td>\n",
       "    </tr>\n",
       "    <tr>\n",
       "      <td>21466</td>\n",
       "      <td>1</td>\n",
       "      <td>гражданский брак</td>\n",
       "    </tr>\n",
       "    <tr>\n",
       "      <td>21467</td>\n",
       "      <td>0</td>\n",
       "      <td>женат / замужем</td>\n",
       "    </tr>\n",
       "    <tr>\n",
       "      <td>21468</td>\n",
       "      <td>1</td>\n",
       "      <td>гражданский брак</td>\n",
       "    </tr>\n",
       "    <tr>\n",
       "      <td>21469</td>\n",
       "      <td>0</td>\n",
       "      <td>женат / замужем</td>\n",
       "    </tr>\n",
       "    <tr>\n",
       "      <td>21470</td>\n",
       "      <td>0</td>\n",
       "      <td>женат / замужем</td>\n",
       "    </tr>\n",
       "  </tbody>\n",
       "</table>\n",
       "<p>21471 rows × 2 columns</p>\n",
       "</div>"
      ],
      "text/plain": [
       "       family_status_id     family_status\n",
       "0                     0   женат / замужем\n",
       "1                     0   женат / замужем\n",
       "2                     0   женат / замужем\n",
       "3                     0   женат / замужем\n",
       "4                     1  гражданский брак\n",
       "...                 ...               ...\n",
       "21466                 1  гражданский брак\n",
       "21467                 0   женат / замужем\n",
       "21468                 1  гражданский брак\n",
       "21469                 0   женат / замужем\n",
       "21470                 0   женат / замужем\n",
       "\n",
       "[21471 rows x 2 columns]"
      ]
     },
     "metadata": {},
     "output_type": "display_data"
    }
   ],
   "source": [
    "#family_status_id и family_status — во втором.\n",
    "data_family = pd.DataFrame(data=data, columns = ['family_status_id','family_status'])\n",
    "display(data_family)"
   ]
  },
  {
   "cell_type": "code",
   "execution_count": 41,
   "id": "3cd8b5db",
   "metadata": {},
   "outputs": [
    {
     "data": {
      "text/html": [
       "<div>\n",
       "<style scoped>\n",
       "    .dataframe tbody tr th:only-of-type {\n",
       "        vertical-align: middle;\n",
       "    }\n",
       "\n",
       "    .dataframe tbody tr th {\n",
       "        vertical-align: top;\n",
       "    }\n",
       "\n",
       "    .dataframe thead th {\n",
       "        text-align: right;\n",
       "    }\n",
       "</style>\n",
       "<table border=\"1\" class=\"dataframe\">\n",
       "  <thead>\n",
       "    <tr style=\"text-align: right;\">\n",
       "      <th></th>\n",
       "      <th>children</th>\n",
       "      <th>days_employed</th>\n",
       "      <th>dob_years</th>\n",
       "      <th>education_id</th>\n",
       "      <th>family_status_id</th>\n",
       "      <th>gender</th>\n",
       "      <th>income_type</th>\n",
       "      <th>debt</th>\n",
       "      <th>total_income</th>\n",
       "      <th>purpose</th>\n",
       "    </tr>\n",
       "  </thead>\n",
       "  <tbody>\n",
       "    <tr>\n",
       "      <td>0</td>\n",
       "      <td>1</td>\n",
       "      <td>8437.673028</td>\n",
       "      <td>42</td>\n",
       "      <td>0</td>\n",
       "      <td>0</td>\n",
       "      <td>F</td>\n",
       "      <td>сотрудник</td>\n",
       "      <td>0</td>\n",
       "      <td>253875</td>\n",
       "      <td>покупка жилья</td>\n",
       "    </tr>\n",
       "    <tr>\n",
       "      <td>1</td>\n",
       "      <td>1</td>\n",
       "      <td>4024.803754</td>\n",
       "      <td>36</td>\n",
       "      <td>1</td>\n",
       "      <td>0</td>\n",
       "      <td>F</td>\n",
       "      <td>сотрудник</td>\n",
       "      <td>0</td>\n",
       "      <td>112080</td>\n",
       "      <td>приобретение автомобиля</td>\n",
       "    </tr>\n",
       "    <tr>\n",
       "      <td>2</td>\n",
       "      <td>0</td>\n",
       "      <td>5623.422610</td>\n",
       "      <td>33</td>\n",
       "      <td>1</td>\n",
       "      <td>0</td>\n",
       "      <td>M</td>\n",
       "      <td>сотрудник</td>\n",
       "      <td>0</td>\n",
       "      <td>145885</td>\n",
       "      <td>покупка жилья</td>\n",
       "    </tr>\n",
       "    <tr>\n",
       "      <td>3</td>\n",
       "      <td>3</td>\n",
       "      <td>4124.747207</td>\n",
       "      <td>32</td>\n",
       "      <td>1</td>\n",
       "      <td>0</td>\n",
       "      <td>M</td>\n",
       "      <td>сотрудник</td>\n",
       "      <td>0</td>\n",
       "      <td>267628</td>\n",
       "      <td>дополнительное образование</td>\n",
       "    </tr>\n",
       "    <tr>\n",
       "      <td>4</td>\n",
       "      <td>0</td>\n",
       "      <td>340266.072047</td>\n",
       "      <td>53</td>\n",
       "      <td>1</td>\n",
       "      <td>1</td>\n",
       "      <td>F</td>\n",
       "      <td>пенсионер</td>\n",
       "      <td>0</td>\n",
       "      <td>158616</td>\n",
       "      <td>сыграть свадьбу</td>\n",
       "    </tr>\n",
       "    <tr>\n",
       "      <td>...</td>\n",
       "      <td>...</td>\n",
       "      <td>...</td>\n",
       "      <td>...</td>\n",
       "      <td>...</td>\n",
       "      <td>...</td>\n",
       "      <td>...</td>\n",
       "      <td>...</td>\n",
       "      <td>...</td>\n",
       "      <td>...</td>\n",
       "      <td>...</td>\n",
       "    </tr>\n",
       "    <tr>\n",
       "      <td>21466</td>\n",
       "      <td>1</td>\n",
       "      <td>4529.316663</td>\n",
       "      <td>43</td>\n",
       "      <td>1</td>\n",
       "      <td>1</td>\n",
       "      <td>F</td>\n",
       "      <td>компаньон</td>\n",
       "      <td>0</td>\n",
       "      <td>224791</td>\n",
       "      <td>операции с жильем</td>\n",
       "    </tr>\n",
       "    <tr>\n",
       "      <td>21467</td>\n",
       "      <td>0</td>\n",
       "      <td>343937.404131</td>\n",
       "      <td>67</td>\n",
       "      <td>1</td>\n",
       "      <td>0</td>\n",
       "      <td>F</td>\n",
       "      <td>пенсионер</td>\n",
       "      <td>0</td>\n",
       "      <td>155999</td>\n",
       "      <td>сделка с автомобилем</td>\n",
       "    </tr>\n",
       "    <tr>\n",
       "      <td>21468</td>\n",
       "      <td>1</td>\n",
       "      <td>2113.346888</td>\n",
       "      <td>38</td>\n",
       "      <td>1</td>\n",
       "      <td>1</td>\n",
       "      <td>M</td>\n",
       "      <td>сотрудник</td>\n",
       "      <td>1</td>\n",
       "      <td>89672</td>\n",
       "      <td>недвижимость</td>\n",
       "    </tr>\n",
       "    <tr>\n",
       "      <td>21469</td>\n",
       "      <td>3</td>\n",
       "      <td>3112.481705</td>\n",
       "      <td>38</td>\n",
       "      <td>1</td>\n",
       "      <td>0</td>\n",
       "      <td>M</td>\n",
       "      <td>сотрудник</td>\n",
       "      <td>1</td>\n",
       "      <td>244093</td>\n",
       "      <td>на покупку своего автомобиля</td>\n",
       "    </tr>\n",
       "    <tr>\n",
       "      <td>21470</td>\n",
       "      <td>2</td>\n",
       "      <td>1984.507589</td>\n",
       "      <td>40</td>\n",
       "      <td>1</td>\n",
       "      <td>0</td>\n",
       "      <td>F</td>\n",
       "      <td>сотрудник</td>\n",
       "      <td>0</td>\n",
       "      <td>82047</td>\n",
       "      <td>на покупку автомобиля</td>\n",
       "    </tr>\n",
       "  </tbody>\n",
       "</table>\n",
       "<p>21471 rows × 10 columns</p>\n",
       "</div>"
      ],
      "text/plain": [
       "       children  days_employed  dob_years  education_id  family_status_id  \\\n",
       "0             1    8437.673028         42             0                 0   \n",
       "1             1    4024.803754         36             1                 0   \n",
       "2             0    5623.422610         33             1                 0   \n",
       "3             3    4124.747207         32             1                 0   \n",
       "4             0  340266.072047         53             1                 1   \n",
       "...         ...            ...        ...           ...               ...   \n",
       "21466         1    4529.316663         43             1                 1   \n",
       "21467         0  343937.404131         67             1                 0   \n",
       "21468         1    2113.346888         38             1                 1   \n",
       "21469         3    3112.481705         38             1                 0   \n",
       "21470         2    1984.507589         40             1                 0   \n",
       "\n",
       "      gender income_type  debt  total_income                       purpose  \n",
       "0          F   сотрудник     0        253875                 покупка жилья  \n",
       "1          F   сотрудник     0        112080       приобретение автомобиля  \n",
       "2          M   сотрудник     0        145885                 покупка жилья  \n",
       "3          M   сотрудник     0        267628    дополнительное образование  \n",
       "4          F   пенсионер     0        158616               сыграть свадьбу  \n",
       "...      ...         ...   ...           ...                           ...  \n",
       "21466      F   компаньон     0        224791             операции с жильем  \n",
       "21467      F   пенсионер     0        155999          сделка с автомобилем  \n",
       "21468      M   сотрудник     1         89672                  недвижимость  \n",
       "21469      M   сотрудник     1        244093  на покупку своего автомобиля  \n",
       "21470      F   сотрудник     0         82047         на покупку автомобиля  \n",
       "\n",
       "[21471 rows x 10 columns]"
      ]
     },
     "metadata": {},
     "output_type": "display_data"
    }
   ],
   "source": [
    "data = data.drop(['education','family_status'],axis = 1)\n",
    "display(data)"
   ]
  },
  {
   "cell_type": "markdown",
   "id": "a418f59f",
   "metadata": {},
   "source": [
    "<div class=\"alert alert-success\">\n",
    "<b>✔️ Комментарий ревьюера v1:</b> \n",
    "<br>Тут всё правильно 👌\n",
    "</div>"
   ]
  },
  {
   "cell_type": "markdown",
   "id": "3b6ec2d8",
   "metadata": {},
   "source": [
    "### Шаг 2.5. Формирование дополнительных датафреймов словарей, декомпозиция исходного датафрейма."
   ]
  },
  {
   "cell_type": "code",
   "execution_count": 42,
   "id": "5fbd8051",
   "metadata": {},
   "outputs": [],
   "source": [
    "#На основании диапазонов, указанных ниже, создайте столбец total_income_category с категориями:\n",
    "#Например, кредитополучателю с доходом 25000 нужно назначить категорию 'E', а клиенту, получающему 235000, — 'B'.\n"
   ]
  },
  {
   "cell_type": "markdown",
   "id": "6bbd61f8",
   "metadata": {},
   "source": [
    "### Шаг 2.6. Категоризация дохода."
   ]
  },
  {
   "cell_type": "code",
   "execution_count": 1,
   "id": "526ce69b",
   "metadata": {},
   "outputs": [],
   "source": [
    "def income_category(income):\n",
    "    if income <= 30000:\n",
    "        return 'E'\n",
    "    if income > 30000 and income <= 50000:\n",
    "        return 'D'\n",
    "    if income > 50000 and income <= 200000:\n",
    "        return 'C'\n",
    "    if income >200000 and income <= 1000000:\n",
    "        return 'B'\n",
    "    if income > 1000000:\n",
    "        return 'A'\n",
    "        \n",
    "        "
   ]
  },
  {
   "cell_type": "code",
   "execution_count": 44,
   "id": "67d68a32",
   "metadata": {},
   "outputs": [],
   "source": [
    "data['total_income_category'] = data['total_income'].apply(income_category)"
   ]
  },
  {
   "cell_type": "code",
   "execution_count": 45,
   "id": "730f9f92",
   "metadata": {},
   "outputs": [
    {
     "data": {
      "text/html": [
       "<div>\n",
       "<style scoped>\n",
       "    .dataframe tbody tr th:only-of-type {\n",
       "        vertical-align: middle;\n",
       "    }\n",
       "\n",
       "    .dataframe tbody tr th {\n",
       "        vertical-align: top;\n",
       "    }\n",
       "\n",
       "    .dataframe thead th {\n",
       "        text-align: right;\n",
       "    }\n",
       "</style>\n",
       "<table border=\"1\" class=\"dataframe\">\n",
       "  <thead>\n",
       "    <tr style=\"text-align: right;\">\n",
       "      <th></th>\n",
       "      <th>children</th>\n",
       "      <th>days_employed</th>\n",
       "      <th>dob_years</th>\n",
       "      <th>education_id</th>\n",
       "      <th>family_status_id</th>\n",
       "      <th>gender</th>\n",
       "      <th>income_type</th>\n",
       "      <th>debt</th>\n",
       "      <th>total_income</th>\n",
       "      <th>purpose</th>\n",
       "      <th>total_income_category</th>\n",
       "    </tr>\n",
       "  </thead>\n",
       "  <tbody>\n",
       "    <tr>\n",
       "      <td>0</td>\n",
       "      <td>1</td>\n",
       "      <td>8437.673028</td>\n",
       "      <td>42</td>\n",
       "      <td>0</td>\n",
       "      <td>0</td>\n",
       "      <td>F</td>\n",
       "      <td>сотрудник</td>\n",
       "      <td>0</td>\n",
       "      <td>253875</td>\n",
       "      <td>покупка жилья</td>\n",
       "      <td>B</td>\n",
       "    </tr>\n",
       "    <tr>\n",
       "      <td>1</td>\n",
       "      <td>1</td>\n",
       "      <td>4024.803754</td>\n",
       "      <td>36</td>\n",
       "      <td>1</td>\n",
       "      <td>0</td>\n",
       "      <td>F</td>\n",
       "      <td>сотрудник</td>\n",
       "      <td>0</td>\n",
       "      <td>112080</td>\n",
       "      <td>приобретение автомобиля</td>\n",
       "      <td>C</td>\n",
       "    </tr>\n",
       "    <tr>\n",
       "      <td>2</td>\n",
       "      <td>0</td>\n",
       "      <td>5623.422610</td>\n",
       "      <td>33</td>\n",
       "      <td>1</td>\n",
       "      <td>0</td>\n",
       "      <td>M</td>\n",
       "      <td>сотрудник</td>\n",
       "      <td>0</td>\n",
       "      <td>145885</td>\n",
       "      <td>покупка жилья</td>\n",
       "      <td>C</td>\n",
       "    </tr>\n",
       "    <tr>\n",
       "      <td>3</td>\n",
       "      <td>3</td>\n",
       "      <td>4124.747207</td>\n",
       "      <td>32</td>\n",
       "      <td>1</td>\n",
       "      <td>0</td>\n",
       "      <td>M</td>\n",
       "      <td>сотрудник</td>\n",
       "      <td>0</td>\n",
       "      <td>267628</td>\n",
       "      <td>дополнительное образование</td>\n",
       "      <td>B</td>\n",
       "    </tr>\n",
       "    <tr>\n",
       "      <td>4</td>\n",
       "      <td>0</td>\n",
       "      <td>340266.072047</td>\n",
       "      <td>53</td>\n",
       "      <td>1</td>\n",
       "      <td>1</td>\n",
       "      <td>F</td>\n",
       "      <td>пенсионер</td>\n",
       "      <td>0</td>\n",
       "      <td>158616</td>\n",
       "      <td>сыграть свадьбу</td>\n",
       "      <td>C</td>\n",
       "    </tr>\n",
       "    <tr>\n",
       "      <td>...</td>\n",
       "      <td>...</td>\n",
       "      <td>...</td>\n",
       "      <td>...</td>\n",
       "      <td>...</td>\n",
       "      <td>...</td>\n",
       "      <td>...</td>\n",
       "      <td>...</td>\n",
       "      <td>...</td>\n",
       "      <td>...</td>\n",
       "      <td>...</td>\n",
       "      <td>...</td>\n",
       "    </tr>\n",
       "    <tr>\n",
       "      <td>21466</td>\n",
       "      <td>1</td>\n",
       "      <td>4529.316663</td>\n",
       "      <td>43</td>\n",
       "      <td>1</td>\n",
       "      <td>1</td>\n",
       "      <td>F</td>\n",
       "      <td>компаньон</td>\n",
       "      <td>0</td>\n",
       "      <td>224791</td>\n",
       "      <td>операции с жильем</td>\n",
       "      <td>B</td>\n",
       "    </tr>\n",
       "    <tr>\n",
       "      <td>21467</td>\n",
       "      <td>0</td>\n",
       "      <td>343937.404131</td>\n",
       "      <td>67</td>\n",
       "      <td>1</td>\n",
       "      <td>0</td>\n",
       "      <td>F</td>\n",
       "      <td>пенсионер</td>\n",
       "      <td>0</td>\n",
       "      <td>155999</td>\n",
       "      <td>сделка с автомобилем</td>\n",
       "      <td>C</td>\n",
       "    </tr>\n",
       "    <tr>\n",
       "      <td>21468</td>\n",
       "      <td>1</td>\n",
       "      <td>2113.346888</td>\n",
       "      <td>38</td>\n",
       "      <td>1</td>\n",
       "      <td>1</td>\n",
       "      <td>M</td>\n",
       "      <td>сотрудник</td>\n",
       "      <td>1</td>\n",
       "      <td>89672</td>\n",
       "      <td>недвижимость</td>\n",
       "      <td>C</td>\n",
       "    </tr>\n",
       "    <tr>\n",
       "      <td>21469</td>\n",
       "      <td>3</td>\n",
       "      <td>3112.481705</td>\n",
       "      <td>38</td>\n",
       "      <td>1</td>\n",
       "      <td>0</td>\n",
       "      <td>M</td>\n",
       "      <td>сотрудник</td>\n",
       "      <td>1</td>\n",
       "      <td>244093</td>\n",
       "      <td>на покупку своего автомобиля</td>\n",
       "      <td>B</td>\n",
       "    </tr>\n",
       "    <tr>\n",
       "      <td>21470</td>\n",
       "      <td>2</td>\n",
       "      <td>1984.507589</td>\n",
       "      <td>40</td>\n",
       "      <td>1</td>\n",
       "      <td>0</td>\n",
       "      <td>F</td>\n",
       "      <td>сотрудник</td>\n",
       "      <td>0</td>\n",
       "      <td>82047</td>\n",
       "      <td>на покупку автомобиля</td>\n",
       "      <td>C</td>\n",
       "    </tr>\n",
       "  </tbody>\n",
       "</table>\n",
       "<p>21471 rows × 11 columns</p>\n",
       "</div>"
      ],
      "text/plain": [
       "       children  days_employed  dob_years  education_id  family_status_id  \\\n",
       "0             1    8437.673028         42             0                 0   \n",
       "1             1    4024.803754         36             1                 0   \n",
       "2             0    5623.422610         33             1                 0   \n",
       "3             3    4124.747207         32             1                 0   \n",
       "4             0  340266.072047         53             1                 1   \n",
       "...         ...            ...        ...           ...               ...   \n",
       "21466         1    4529.316663         43             1                 1   \n",
       "21467         0  343937.404131         67             1                 0   \n",
       "21468         1    2113.346888         38             1                 1   \n",
       "21469         3    3112.481705         38             1                 0   \n",
       "21470         2    1984.507589         40             1                 0   \n",
       "\n",
       "      gender income_type  debt  total_income                       purpose  \\\n",
       "0          F   сотрудник     0        253875                 покупка жилья   \n",
       "1          F   сотрудник     0        112080       приобретение автомобиля   \n",
       "2          M   сотрудник     0        145885                 покупка жилья   \n",
       "3          M   сотрудник     0        267628    дополнительное образование   \n",
       "4          F   пенсионер     0        158616               сыграть свадьбу   \n",
       "...      ...         ...   ...           ...                           ...   \n",
       "21466      F   компаньон     0        224791             операции с жильем   \n",
       "21467      F   пенсионер     0        155999          сделка с автомобилем   \n",
       "21468      M   сотрудник     1         89672                  недвижимость   \n",
       "21469      M   сотрудник     1        244093  на покупку своего автомобиля   \n",
       "21470      F   сотрудник     0         82047         на покупку автомобиля   \n",
       "\n",
       "      total_income_category  \n",
       "0                         B  \n",
       "1                         C  \n",
       "2                         C  \n",
       "3                         B  \n",
       "4                         C  \n",
       "...                     ...  \n",
       "21466                     B  \n",
       "21467                     C  \n",
       "21468                     C  \n",
       "21469                     B  \n",
       "21470                     C  \n",
       "\n",
       "[21471 rows x 11 columns]"
      ]
     },
     "metadata": {},
     "output_type": "display_data"
    }
   ],
   "source": [
    "display(data)"
   ]
  },
  {
   "cell_type": "markdown",
   "id": "5bdba9ea",
   "metadata": {},
   "source": [
    "<div class=\"alert alert-success\">\n",
    "<b>✔️ Комментарий ревьюера v1:</b> \n",
    "<br>Категоризация клиентов по уровню дохода произведена верно\n",
    "</div>"
   ]
  },
  {
   "cell_type": "raw",
   "id": "2c95759d",
   "metadata": {},
   "source": [
    "### Шаг 2.7. Категоризация целей кредита."
   ]
  },
  {
   "cell_type": "markdown",
   "id": "372616a9",
   "metadata": {},
   "source": [
    "Создайте функцию, которая на основании данных из столбца purpose сформирует новый столбец purpose_category, в который войдут следующие категории:\n",
    "Например, если в столбце purpose находится подстрока 'на покупку автомобиля', \n",
    "то в столбце purpose_category должна появиться строка 'операции с автомобилем'."
   ]
  },
  {
   "cell_type": "code",
   "execution_count": 46,
   "id": "32ab1592",
   "metadata": {},
   "outputs": [
    {
     "data": {
      "text/plain": [
       "array(['покупка жилья', 'приобретение автомобиля',\n",
       "       'дополнительное образование', 'сыграть свадьбу',\n",
       "       'операции с жильем', 'образование', 'на проведение свадьбы',\n",
       "       'покупка жилья для семьи', 'покупка недвижимости',\n",
       "       'покупка коммерческой недвижимости', 'покупка жилой недвижимости',\n",
       "       'строительство собственной недвижимости', 'недвижимость',\n",
       "       'строительство недвижимости', 'на покупку подержанного автомобиля',\n",
       "       'на покупку своего автомобиля',\n",
       "       'операции с коммерческой недвижимостью',\n",
       "       'строительство жилой недвижимости', 'жилье',\n",
       "       'операции со своей недвижимостью', 'автомобили',\n",
       "       'заняться образованием', 'сделка с подержанным автомобилем',\n",
       "       'получение образования', 'автомобиль', 'свадьба',\n",
       "       'получение дополнительного образования', 'покупка своего жилья',\n",
       "       'операции с недвижимостью', 'получение высшего образования',\n",
       "       'свой автомобиль', 'сделка с автомобилем',\n",
       "       'профильное образование', 'высшее образование',\n",
       "       'покупка жилья для сдачи', 'на покупку автомобиля', 'ремонт жилью',\n",
       "       'заняться высшим образованием'], dtype=object)"
      ]
     },
     "execution_count": 46,
     "metadata": {},
     "output_type": "execute_result"
    }
   ],
   "source": [
    "#check the whole lsit first\n",
    "data['purpose'].unique()"
   ]
  },
  {
   "cell_type": "code",
   "execution_count": 47,
   "id": "3996d8ac",
   "metadata": {},
   "outputs": [],
   "source": [
    "def purpose_category(purpose):\n",
    "    if 'автомоб'in purpose:\n",
    "        return 'операции с автомобилем'\n",
    "    if 'недвижи' in purpose:\n",
    "        return 'операции с недвижимостью'\n",
    "    if 'жиль' in purpose:\n",
    "        return 'операции с недвижимостью'\n",
    "    if  'свадьб'in purpose:\n",
    "        return 'проведение свадьбы'\n",
    "    if 'образов' in purpose:\n",
    "        return 'получение образования'  "
   ]
  },
  {
   "cell_type": "code",
   "execution_count": 48,
   "id": "b26d578f",
   "metadata": {},
   "outputs": [
    {
     "data": {
      "text/html": [
       "<div>\n",
       "<style scoped>\n",
       "    .dataframe tbody tr th:only-of-type {\n",
       "        vertical-align: middle;\n",
       "    }\n",
       "\n",
       "    .dataframe tbody tr th {\n",
       "        vertical-align: top;\n",
       "    }\n",
       "\n",
       "    .dataframe thead th {\n",
       "        text-align: right;\n",
       "    }\n",
       "</style>\n",
       "<table border=\"1\" class=\"dataframe\">\n",
       "  <thead>\n",
       "    <tr style=\"text-align: right;\">\n",
       "      <th></th>\n",
       "      <th>children</th>\n",
       "      <th>days_employed</th>\n",
       "      <th>dob_years</th>\n",
       "      <th>education_id</th>\n",
       "      <th>family_status_id</th>\n",
       "      <th>gender</th>\n",
       "      <th>income_type</th>\n",
       "      <th>debt</th>\n",
       "      <th>total_income</th>\n",
       "      <th>purpose</th>\n",
       "      <th>total_income_category</th>\n",
       "      <th>purpose_category</th>\n",
       "    </tr>\n",
       "  </thead>\n",
       "  <tbody>\n",
       "    <tr>\n",
       "      <td>0</td>\n",
       "      <td>1</td>\n",
       "      <td>8437.673028</td>\n",
       "      <td>42</td>\n",
       "      <td>0</td>\n",
       "      <td>0</td>\n",
       "      <td>F</td>\n",
       "      <td>сотрудник</td>\n",
       "      <td>0</td>\n",
       "      <td>253875</td>\n",
       "      <td>покупка жилья</td>\n",
       "      <td>B</td>\n",
       "      <td>операции с недвижимостью</td>\n",
       "    </tr>\n",
       "    <tr>\n",
       "      <td>1</td>\n",
       "      <td>1</td>\n",
       "      <td>4024.803754</td>\n",
       "      <td>36</td>\n",
       "      <td>1</td>\n",
       "      <td>0</td>\n",
       "      <td>F</td>\n",
       "      <td>сотрудник</td>\n",
       "      <td>0</td>\n",
       "      <td>112080</td>\n",
       "      <td>приобретение автомобиля</td>\n",
       "      <td>C</td>\n",
       "      <td>операции с автомобилем</td>\n",
       "    </tr>\n",
       "    <tr>\n",
       "      <td>2</td>\n",
       "      <td>0</td>\n",
       "      <td>5623.422610</td>\n",
       "      <td>33</td>\n",
       "      <td>1</td>\n",
       "      <td>0</td>\n",
       "      <td>M</td>\n",
       "      <td>сотрудник</td>\n",
       "      <td>0</td>\n",
       "      <td>145885</td>\n",
       "      <td>покупка жилья</td>\n",
       "      <td>C</td>\n",
       "      <td>операции с недвижимостью</td>\n",
       "    </tr>\n",
       "    <tr>\n",
       "      <td>3</td>\n",
       "      <td>3</td>\n",
       "      <td>4124.747207</td>\n",
       "      <td>32</td>\n",
       "      <td>1</td>\n",
       "      <td>0</td>\n",
       "      <td>M</td>\n",
       "      <td>сотрудник</td>\n",
       "      <td>0</td>\n",
       "      <td>267628</td>\n",
       "      <td>дополнительное образование</td>\n",
       "      <td>B</td>\n",
       "      <td>получение образования</td>\n",
       "    </tr>\n",
       "    <tr>\n",
       "      <td>4</td>\n",
       "      <td>0</td>\n",
       "      <td>340266.072047</td>\n",
       "      <td>53</td>\n",
       "      <td>1</td>\n",
       "      <td>1</td>\n",
       "      <td>F</td>\n",
       "      <td>пенсионер</td>\n",
       "      <td>0</td>\n",
       "      <td>158616</td>\n",
       "      <td>сыграть свадьбу</td>\n",
       "      <td>C</td>\n",
       "      <td>проведение свадьбы</td>\n",
       "    </tr>\n",
       "    <tr>\n",
       "      <td>...</td>\n",
       "      <td>...</td>\n",
       "      <td>...</td>\n",
       "      <td>...</td>\n",
       "      <td>...</td>\n",
       "      <td>...</td>\n",
       "      <td>...</td>\n",
       "      <td>...</td>\n",
       "      <td>...</td>\n",
       "      <td>...</td>\n",
       "      <td>...</td>\n",
       "      <td>...</td>\n",
       "      <td>...</td>\n",
       "    </tr>\n",
       "    <tr>\n",
       "      <td>21466</td>\n",
       "      <td>1</td>\n",
       "      <td>4529.316663</td>\n",
       "      <td>43</td>\n",
       "      <td>1</td>\n",
       "      <td>1</td>\n",
       "      <td>F</td>\n",
       "      <td>компаньон</td>\n",
       "      <td>0</td>\n",
       "      <td>224791</td>\n",
       "      <td>операции с жильем</td>\n",
       "      <td>B</td>\n",
       "      <td>операции с недвижимостью</td>\n",
       "    </tr>\n",
       "    <tr>\n",
       "      <td>21467</td>\n",
       "      <td>0</td>\n",
       "      <td>343937.404131</td>\n",
       "      <td>67</td>\n",
       "      <td>1</td>\n",
       "      <td>0</td>\n",
       "      <td>F</td>\n",
       "      <td>пенсионер</td>\n",
       "      <td>0</td>\n",
       "      <td>155999</td>\n",
       "      <td>сделка с автомобилем</td>\n",
       "      <td>C</td>\n",
       "      <td>операции с автомобилем</td>\n",
       "    </tr>\n",
       "    <tr>\n",
       "      <td>21468</td>\n",
       "      <td>1</td>\n",
       "      <td>2113.346888</td>\n",
       "      <td>38</td>\n",
       "      <td>1</td>\n",
       "      <td>1</td>\n",
       "      <td>M</td>\n",
       "      <td>сотрудник</td>\n",
       "      <td>1</td>\n",
       "      <td>89672</td>\n",
       "      <td>недвижимость</td>\n",
       "      <td>C</td>\n",
       "      <td>операции с недвижимостью</td>\n",
       "    </tr>\n",
       "    <tr>\n",
       "      <td>21469</td>\n",
       "      <td>3</td>\n",
       "      <td>3112.481705</td>\n",
       "      <td>38</td>\n",
       "      <td>1</td>\n",
       "      <td>0</td>\n",
       "      <td>M</td>\n",
       "      <td>сотрудник</td>\n",
       "      <td>1</td>\n",
       "      <td>244093</td>\n",
       "      <td>на покупку своего автомобиля</td>\n",
       "      <td>B</td>\n",
       "      <td>операции с автомобилем</td>\n",
       "    </tr>\n",
       "    <tr>\n",
       "      <td>21470</td>\n",
       "      <td>2</td>\n",
       "      <td>1984.507589</td>\n",
       "      <td>40</td>\n",
       "      <td>1</td>\n",
       "      <td>0</td>\n",
       "      <td>F</td>\n",
       "      <td>сотрудник</td>\n",
       "      <td>0</td>\n",
       "      <td>82047</td>\n",
       "      <td>на покупку автомобиля</td>\n",
       "      <td>C</td>\n",
       "      <td>операции с автомобилем</td>\n",
       "    </tr>\n",
       "  </tbody>\n",
       "</table>\n",
       "<p>21471 rows × 12 columns</p>\n",
       "</div>"
      ],
      "text/plain": [
       "       children  days_employed  dob_years  education_id  family_status_id  \\\n",
       "0             1    8437.673028         42             0                 0   \n",
       "1             1    4024.803754         36             1                 0   \n",
       "2             0    5623.422610         33             1                 0   \n",
       "3             3    4124.747207         32             1                 0   \n",
       "4             0  340266.072047         53             1                 1   \n",
       "...         ...            ...        ...           ...               ...   \n",
       "21466         1    4529.316663         43             1                 1   \n",
       "21467         0  343937.404131         67             1                 0   \n",
       "21468         1    2113.346888         38             1                 1   \n",
       "21469         3    3112.481705         38             1                 0   \n",
       "21470         2    1984.507589         40             1                 0   \n",
       "\n",
       "      gender income_type  debt  total_income                       purpose  \\\n",
       "0          F   сотрудник     0        253875                 покупка жилья   \n",
       "1          F   сотрудник     0        112080       приобретение автомобиля   \n",
       "2          M   сотрудник     0        145885                 покупка жилья   \n",
       "3          M   сотрудник     0        267628    дополнительное образование   \n",
       "4          F   пенсионер     0        158616               сыграть свадьбу   \n",
       "...      ...         ...   ...           ...                           ...   \n",
       "21466      F   компаньон     0        224791             операции с жильем   \n",
       "21467      F   пенсионер     0        155999          сделка с автомобилем   \n",
       "21468      M   сотрудник     1         89672                  недвижимость   \n",
       "21469      M   сотрудник     1        244093  на покупку своего автомобиля   \n",
       "21470      F   сотрудник     0         82047         на покупку автомобиля   \n",
       "\n",
       "      total_income_category          purpose_category  \n",
       "0                         B  операции с недвижимостью  \n",
       "1                         C    операции с автомобилем  \n",
       "2                         C  операции с недвижимостью  \n",
       "3                         B     получение образования  \n",
       "4                         C        проведение свадьбы  \n",
       "...                     ...                       ...  \n",
       "21466                     B  операции с недвижимостью  \n",
       "21467                     C    операции с автомобилем  \n",
       "21468                     C  операции с недвижимостью  \n",
       "21469                     B    операции с автомобилем  \n",
       "21470                     C    операции с автомобилем  \n",
       "\n",
       "[21471 rows x 12 columns]"
      ]
     },
     "metadata": {},
     "output_type": "display_data"
    }
   ],
   "source": [
    "data['purpose_category'] = data['purpose'].apply(purpose_category)\n",
    "display(data)"
   ]
  },
  {
   "cell_type": "code",
   "execution_count": 49,
   "id": "4033d8b4",
   "metadata": {},
   "outputs": [
    {
     "data": {
      "text/plain": [
       "операции с недвижимостью    10814\n",
       "операции с автомобилем       4308\n",
       "получение образования        4014\n",
       "проведение свадьбы           2335\n",
       "Name: purpose_category, dtype: int64"
      ]
     },
     "execution_count": 49,
     "metadata": {},
     "output_type": "execute_result"
    }
   ],
   "source": [
    "# verify if no \"None\" value exisiting\n",
    "# сравнения общих значении в \"purpose_category\" с табличкой выше\n",
    "\n",
    "data['purpose_category'].value_counts()"
   ]
  },
  {
   "cell_type": "code",
   "execution_count": 50,
   "id": "f73993e1",
   "metadata": {},
   "outputs": [
    {
     "data": {
      "text/html": [
       "<div>\n",
       "<style scoped>\n",
       "    .dataframe tbody tr th:only-of-type {\n",
       "        vertical-align: middle;\n",
       "    }\n",
       "\n",
       "    .dataframe tbody tr th {\n",
       "        vertical-align: top;\n",
       "    }\n",
       "\n",
       "    .dataframe thead th {\n",
       "        text-align: right;\n",
       "    }\n",
       "</style>\n",
       "<table border=\"1\" class=\"dataframe\">\n",
       "  <thead>\n",
       "    <tr style=\"text-align: right;\">\n",
       "      <th></th>\n",
       "      <th>children</th>\n",
       "      <th>days_employed</th>\n",
       "      <th>dob_years</th>\n",
       "      <th>education_id</th>\n",
       "      <th>family_status_id</th>\n",
       "      <th>gender</th>\n",
       "      <th>income_type</th>\n",
       "      <th>debt</th>\n",
       "      <th>total_income</th>\n",
       "      <th>purpose</th>\n",
       "      <th>total_income_category</th>\n",
       "      <th>purpose_category</th>\n",
       "    </tr>\n",
       "  </thead>\n",
       "  <tbody>\n",
       "  </tbody>\n",
       "</table>\n",
       "</div>"
      ],
      "text/plain": [
       "Empty DataFrame\n",
       "Columns: [children, days_employed, dob_years, education_id, family_status_id, gender, income_type, debt, total_income, purpose, total_income_category, purpose_category]\n",
       "Index: []"
      ]
     },
     "execution_count": 50,
     "metadata": {},
     "output_type": "execute_result"
    }
   ],
   "source": [
    "# проверяю если не осталось None значения \n",
    "data[data['purpose_category'].isna() == True]"
   ]
  },
  {
   "cell_type": "markdown",
   "id": "954baee3",
   "metadata": {},
   "source": [
    "<div class=\"alert alert-danger\">\n",
    "<b>❌ Комментарий ревьюера v1:</b> \n",
    "<br>У нас 21 тысяча значений, а тут в сумме всего 16. 5000 значений не получили категорию\n",
    "</div>"
   ]
  },
  {
   "cell_type": "markdown",
   "id": "a34d302a",
   "metadata": {},
   "source": [
    "<div class=\"alert alert-success\">\n",
    "<b>✔️ Комментарий ревьюера v1:</b> \n",
    "<br> исправил выше : скоректировал Функцию def purpose_category(purpose):\n",
    "</div>"
   ]
  },
  {
   "cell_type": "markdown",
   "id": "f609939b",
   "metadata": {},
   "source": [
    "<div class=\"alert alert-success\">\n",
    "<b>✔️ Комментарий ревьюера v2:</b> \n",
    "<br>Основные цели кредита определены правильно! 👍 Используй, пожалуйста, друг цвет комментариев, чтобы не было путаницы)\n",
    "</div>"
   ]
  },
  {
   "cell_type": "markdown",
   "id": "cf37e670",
   "metadata": {},
   "source": [
    "### Ответы на вопросы."
   ]
  },
  {
   "cell_type": "markdown",
   "id": "9d513146",
   "metadata": {},
   "source": [
    "##### Вопрос 1:"
   ]
  },
  {
   "cell_type": "markdown",
   "id": "d7ca202c",
   "metadata": {},
   "source": [
    "Есть ли зависимость между количеством детей и возвратом кредита в срок?"
   ]
  },
  {
   "cell_type": "code",
   "execution_count": 51,
   "id": "63b0b847",
   "metadata": {},
   "outputs": [],
   "source": [
    "def group_family_status(nb_childrens):\n",
    "    if nb_childrens == 0:\n",
    "        return 'семья без детей'\n",
    "    if nb_childrens == 1:\n",
    "        return 'семья с 1 детей'\n",
    "    if nb_childrens == 2:\n",
    "        return 'семья с 2 детей'\n",
    "    if nb_childrens == 3:\n",
    "        return 'семья с 3 детей'\n",
    "    if nb_childrens > 3:\n",
    "        return 'семья с 3+ детей'\n",
    "   "
   ]
  },
  {
   "cell_type": "code",
   "execution_count": 52,
   "id": "93d965be",
   "metadata": {},
   "outputs": [],
   "source": [
    "data['family_status'] = data['children'].apply(group_family_status)"
   ]
  },
  {
   "cell_type": "code",
   "execution_count": 53,
   "id": "8aef62bf",
   "metadata": {},
   "outputs": [
    {
     "data": {
      "text/html": [
       "<div>\n",
       "<style scoped>\n",
       "    .dataframe tbody tr th:only-of-type {\n",
       "        vertical-align: middle;\n",
       "    }\n",
       "\n",
       "    .dataframe tbody tr th {\n",
       "        vertical-align: top;\n",
       "    }\n",
       "\n",
       "    .dataframe thead th {\n",
       "        text-align: right;\n",
       "    }\n",
       "</style>\n",
       "<table border=\"1\" class=\"dataframe\">\n",
       "  <thead>\n",
       "    <tr style=\"text-align: right;\">\n",
       "      <th></th>\n",
       "      <th>debt</th>\n",
       "    </tr>\n",
       "    <tr>\n",
       "      <th>family_status</th>\n",
       "      <th></th>\n",
       "    </tr>\n",
       "  </thead>\n",
       "  <tbody>\n",
       "    <tr>\n",
       "      <td>семья с 3+ детей</td>\n",
       "      <td>0.095238</td>\n",
       "    </tr>\n",
       "    <tr>\n",
       "      <td>семья с 2 детей</td>\n",
       "      <td>0.094542</td>\n",
       "    </tr>\n",
       "    <tr>\n",
       "      <td>семья с 1 детей</td>\n",
       "      <td>0.091639</td>\n",
       "    </tr>\n",
       "    <tr>\n",
       "      <td>семья с 3 детей</td>\n",
       "      <td>0.081818</td>\n",
       "    </tr>\n",
       "    <tr>\n",
       "      <td>семья без детей</td>\n",
       "      <td>0.075353</td>\n",
       "    </tr>\n",
       "  </tbody>\n",
       "</table>\n",
       "</div>"
      ],
      "text/plain": [
       "                      debt\n",
       "family_status             \n",
       "семья с 3+ детей  0.095238\n",
       "семья с 2 детей   0.094542\n",
       "семья с 1 детей   0.091639\n",
       "семья с 3 детей   0.081818\n",
       "семья без детей   0.075353"
      ]
     },
     "execution_count": 53,
     "metadata": {},
     "output_type": "execute_result"
    }
   ],
   "source": [
    "data.pivot_table(index = 'family_status', values= 'debt').sort_values(by = 'debt', ascending = False)"
   ]
  },
  {
   "cell_type": "markdown",
   "id": "2646fb99",
   "metadata": {},
   "source": [
    "##### Вывод 1:"
   ]
  },
  {
   "cell_type": "markdown",
   "id": "aa5fa260",
   "metadata": {},
   "source": [
    "Есть пости прямая зависимость между количеством детей и возвратом кредита в срок, это можно наблюдать по табличке высше. Мы видим что чеи больше детей в семье, теи больше клиенты допускают задолженность по возврату кредитов"
   ]
  },
  {
   "cell_type": "markdown",
   "id": "2a2ed50e",
   "metadata": {},
   "source": [
    "<div class=\"alert alert-success\">\n",
    "<b>✔️ Комментарий ревьюера v2:</b> \n",
    "<br>Верно! Отлично, что ты используешь свободную таблицу\n",
    "</div>"
   ]
  },
  {
   "cell_type": "markdown",
   "id": "da2b6426",
   "metadata": {},
   "source": [
    "##### Вопрос 2:"
   ]
  },
  {
   "cell_type": "markdown",
   "id": "1359d8df",
   "metadata": {},
   "source": [
    "Есть ли зависимость между семейным положением и возвратом кредита в срок?\n"
   ]
  },
  {
   "cell_type": "code",
   "execution_count": 54,
   "id": "fc8a69af",
   "metadata": {},
   "outputs": [
    {
     "data": {
      "text/html": [
       "<div>\n",
       "<style scoped>\n",
       "    .dataframe tbody tr th:only-of-type {\n",
       "        vertical-align: middle;\n",
       "    }\n",
       "\n",
       "    .dataframe tbody tr th {\n",
       "        vertical-align: top;\n",
       "    }\n",
       "\n",
       "    .dataframe thead th {\n",
       "        text-align: right;\n",
       "    }\n",
       "</style>\n",
       "<table border=\"1\" class=\"dataframe\">\n",
       "  <thead>\n",
       "    <tr style=\"text-align: right;\">\n",
       "      <th></th>\n",
       "      <th>debt</th>\n",
       "    </tr>\n",
       "    <tr>\n",
       "      <th>family_status_updated</th>\n",
       "      <th></th>\n",
       "    </tr>\n",
       "  </thead>\n",
       "  <tbody>\n",
       "    <tr>\n",
       "      <td>Не женат / не замужем</td>\n",
       "      <td>0.097509</td>\n",
       "    </tr>\n",
       "    <tr>\n",
       "      <td>гражданский брак</td>\n",
       "      <td>0.093202</td>\n",
       "    </tr>\n",
       "    <tr>\n",
       "      <td>женат / замужем</td>\n",
       "      <td>0.075421</td>\n",
       "    </tr>\n",
       "    <tr>\n",
       "      <td>в разводе</td>\n",
       "      <td>0.071130</td>\n",
       "    </tr>\n",
       "    <tr>\n",
       "      <td>вдовец / вдова</td>\n",
       "      <td>0.065693</td>\n",
       "    </tr>\n",
       "  </tbody>\n",
       "</table>\n",
       "</div>"
      ],
      "text/plain": [
       "                           debt\n",
       "family_status_updated          \n",
       "Не женат / не замужем  0.097509\n",
       "гражданский брак       0.093202\n",
       "женат / замужем        0.075421\n",
       "в разводе              0.071130\n",
       "вдовец / вдова         0.065693"
      ]
     },
     "execution_count": 54,
     "metadata": {},
     "output_type": "execute_result"
    }
   ],
   "source": [
    "# добовляю обратно столбец с family_status и строю pivot_table для анализа\n",
    "data_family.join(data,lsuffix = '_updated').pivot_table(index = 'family_status_updated', values = 'debt').sort_values(by = 'debt',ascending = False)"
   ]
  },
  {
   "cell_type": "markdown",
   "id": "d86eef94",
   "metadata": {},
   "source": [
    "##### Вывод 2:"
   ]
  },
  {
   "cell_type": "markdown",
   "id": "aeba506a",
   "metadata": {},
   "source": [
    " есть зависимость между семейным положением, есть высокая вероятность что женатые клиенты не будут платить вовремя, такая ситуация может произойти с клиентами гражданский брак. а вот категория клиентов вдовец / вдова, вероятность только 6,5%\n"
   ]
  },
  {
   "cell_type": "markdown",
   "id": "f9172b3e",
   "metadata": {},
   "source": [
    "<div class=\"alert alert-success\">\n",
    "<b>✔️ Комментарий ревьюера v2:</b> \n",
    "<br>Согласен! Идём дальше)\n",
    "</div>"
   ]
  },
  {
   "cell_type": "markdown",
   "id": "4fa7a424",
   "metadata": {},
   "source": [
    "##### Вопрос 3:"
   ]
  },
  {
   "cell_type": "markdown",
   "id": "591e4a89",
   "metadata": {},
   "source": [
    "Есть ли зависимость между уровнем дохода и возвратом кредита в срок?"
   ]
  },
  {
   "cell_type": "code",
   "execution_count": 55,
   "id": "1b682f3d",
   "metadata": {},
   "outputs": [
    {
     "data": {
      "text/html": [
       "<div>\n",
       "<style scoped>\n",
       "    .dataframe tbody tr th:only-of-type {\n",
       "        vertical-align: middle;\n",
       "    }\n",
       "\n",
       "    .dataframe tbody tr th {\n",
       "        vertical-align: top;\n",
       "    }\n",
       "\n",
       "    .dataframe thead th {\n",
       "        text-align: right;\n",
       "    }\n",
       "</style>\n",
       "<table border=\"1\" class=\"dataframe\">\n",
       "  <thead>\n",
       "    <tr style=\"text-align: right;\">\n",
       "      <th></th>\n",
       "      <th>debt</th>\n",
       "    </tr>\n",
       "    <tr>\n",
       "      <th>total_income_category</th>\n",
       "      <th></th>\n",
       "    </tr>\n",
       "  </thead>\n",
       "  <tbody>\n",
       "    <tr>\n",
       "      <td>E</td>\n",
       "      <td>0.090909</td>\n",
       "    </tr>\n",
       "    <tr>\n",
       "      <td>C</td>\n",
       "      <td>0.084825</td>\n",
       "    </tr>\n",
       "    <tr>\n",
       "      <td>A</td>\n",
       "      <td>0.080000</td>\n",
       "    </tr>\n",
       "    <tr>\n",
       "      <td>B</td>\n",
       "      <td>0.070621</td>\n",
       "    </tr>\n",
       "    <tr>\n",
       "      <td>D</td>\n",
       "      <td>0.060000</td>\n",
       "    </tr>\n",
       "  </tbody>\n",
       "</table>\n",
       "</div>"
      ],
      "text/plain": [
       "                           debt\n",
       "total_income_category          \n",
       "E                      0.090909\n",
       "C                      0.084825\n",
       "A                      0.080000\n",
       "B                      0.070621\n",
       "D                      0.060000"
      ]
     },
     "execution_count": 55,
     "metadata": {},
     "output_type": "execute_result"
    }
   ],
   "source": [
    "data.pivot_table(index = 'total_income_category', values = 'debt').sort_values(by = 'debt',ascending  = False)"
   ]
  },
  {
   "cell_type": "markdown",
   "id": "d1c67dfb",
   "metadata": {},
   "source": [
    "##### Вывод 3:"
   ]
  },
  {
   "cell_type": "raw",
   "id": "b397f9ff",
   "metadata": {},
   "source": [
    "я не нашел прямой зависимости между уровнем дохода и возвратом кредита в срок, по идеи, клиенты с самый вычоий зароботок (>1000 000) должны не иметь совсем задолженость или совсем минимальной, а выяснилось что есть 8,0% вероятность на задолженность среди нынешних клиентов. Самые плохие плателшики кредита это клиенты категории E что можно было ожидать, это коиенты с низким зароботком. самые лучшее плательшики это  средниий класс, категория D, вероятность только 6,0%."
   ]
  },
  {
   "cell_type": "markdown",
   "id": "415c4117",
   "metadata": {},
   "source": [
    "<div class=\"alert alert-success\">\n",
    "<b>✔️ Комментарий ревьюера v2:</b> \n",
    "<br>Тут всё правильно\n",
    "</div>"
   ]
  },
  {
   "cell_type": "markdown",
   "id": "3e04d226",
   "metadata": {},
   "source": [
    "##### Вопрос 4:"
   ]
  },
  {
   "cell_type": "markdown",
   "id": "a2eef517",
   "metadata": {},
   "source": [
    "Как разные цели кредита влияют на его возврат в срок?"
   ]
  },
  {
   "cell_type": "code",
   "execution_count": 56,
   "id": "a139ea50",
   "metadata": {},
   "outputs": [
    {
     "data": {
      "text/html": [
       "<div>\n",
       "<style scoped>\n",
       "    .dataframe tbody tr th:only-of-type {\n",
       "        vertical-align: middle;\n",
       "    }\n",
       "\n",
       "    .dataframe tbody tr th {\n",
       "        vertical-align: top;\n",
       "    }\n",
       "\n",
       "    .dataframe thead th {\n",
       "        text-align: right;\n",
       "    }\n",
       "</style>\n",
       "<table border=\"1\" class=\"dataframe\">\n",
       "  <thead>\n",
       "    <tr style=\"text-align: right;\">\n",
       "      <th></th>\n",
       "      <th>debt</th>\n",
       "    </tr>\n",
       "    <tr>\n",
       "      <th>purpose_category</th>\n",
       "      <th></th>\n",
       "    </tr>\n",
       "  </thead>\n",
       "  <tbody>\n",
       "    <tr>\n",
       "      <td>операции с автомобилем</td>\n",
       "      <td>0.093547</td>\n",
       "    </tr>\n",
       "    <tr>\n",
       "      <td>получение образования</td>\n",
       "      <td>0.092177</td>\n",
       "    </tr>\n",
       "    <tr>\n",
       "      <td>проведение свадьбы</td>\n",
       "      <td>0.079657</td>\n",
       "    </tr>\n",
       "    <tr>\n",
       "      <td>операции с недвижимостью</td>\n",
       "      <td>0.072314</td>\n",
       "    </tr>\n",
       "  </tbody>\n",
       "</table>\n",
       "</div>"
      ],
      "text/plain": [
       "                              debt\n",
       "purpose_category                  \n",
       "операции с автомобилем    0.093547\n",
       "получение образования     0.092177\n",
       "проведение свадьбы        0.079657\n",
       "операции с недвижимостью  0.072314"
      ]
     },
     "execution_count": 56,
     "metadata": {},
     "output_type": "execute_result"
    }
   ],
   "source": [
    "data.pivot_table( index = 'purpose_category', values = 'debt').sort_values(by = 'debt', ascending = False)"
   ]
  },
  {
   "cell_type": "markdown",
   "id": "fdccb1e3",
   "metadata": {},
   "source": [
    "##### Вывод 4:"
   ]
  },
  {
   "cell_type": "markdown",
   "id": "7a0bdd6f",
   "metadata": {},
   "source": [
    "клиенты которые берут кредит с целю купить недвижимость, самые Благоразумныe, вероятность задолженность по возврату кредитов только 7,0%, в то же время, клиенты которые берут кредит чтобы купить автомобиль - у них выше задолжнесть, вероятность 9,3%. \t"
   ]
  },
  {
   "cell_type": "markdown",
   "id": "a7b6017f",
   "metadata": {},
   "source": [
    "<div class=\"alert alert-success\">\n",
    "<b>✔️ Комментарий ревьюера v2:</b>\n",
    "<br>Абсолютно верно!\n",
    "</div>"
   ]
  },
  {
   "cell_type": "markdown",
   "id": "55c72208",
   "metadata": {},
   "source": [
    "<div class=\"alert alert-danger\">\n",
    "<b>❌ Комментарий ревьюера v1:</b> \n",
    "<br>Во всех четырёх вопросах тебе нужно найти именно долю должников внутри каждой группы:\n",
    "    \n",
    "    количество клиентов без детей и с долгом / (количество клиентов без детей и с долгом + количество клиентов без детей и без долга)\n",
    "    \n",
    "<br>Такие расчеты нужно произвести для каждой категории клиентов во всех четырёх вопросах. Лучше всего для этого построить сводные таблицы используя метод pivot_table. В каждом вопросе необходимо выделить группу с минимальной и максимальной вероятностью к просрочке\n",
    "</div>"
   ]
  },
  {
   "cell_type": "markdown",
   "id": "64b515c2",
   "metadata": {},
   "source": [
    "<div class=\"alert alert-success\">\n",
    "<b>✔️ Комментарий ревьюера v1:</b> \n",
    "<br> понял, исправил выше :коментарии и построил pivot_table чтобы отвутить на каждый ворос 1..4\n",
    "</div>"
   ]
  },
  {
   "cell_type": "markdown",
   "id": "2e0e1159",
   "metadata": {},
   "source": [
    " # Общий вывод:"
   ]
  },
  {
   "cell_type": "code",
   "execution_count": 57,
   "id": "53c13bd6",
   "metadata": {},
   "outputs": [
    {
     "data": {
      "text/html": [
       "<div>\n",
       "<style scoped>\n",
       "    .dataframe tbody tr th:only-of-type {\n",
       "        vertical-align: middle;\n",
       "    }\n",
       "\n",
       "    .dataframe tbody tr th {\n",
       "        vertical-align: top;\n",
       "    }\n",
       "\n",
       "    .dataframe thead tr th {\n",
       "        text-align: left;\n",
       "    }\n",
       "\n",
       "    .dataframe thead tr:last-of-type th {\n",
       "        text-align: right;\n",
       "    }\n",
       "</style>\n",
       "<table border=\"1\" class=\"dataframe\">\n",
       "  <thead>\n",
       "    <tr>\n",
       "      <th></th>\n",
       "      <th></th>\n",
       "      <th colspan=\"4\" halign=\"left\">count</th>\n",
       "      <th colspan=\"4\" halign=\"left\">mean</th>\n",
       "    </tr>\n",
       "    <tr>\n",
       "      <th></th>\n",
       "      <th>purpose_category</th>\n",
       "      <th>операции с автомобилем</th>\n",
       "      <th>операции с недвижимостью</th>\n",
       "      <th>получение образования</th>\n",
       "      <th>проведение свадьбы</th>\n",
       "      <th>операции с автомобилем</th>\n",
       "      <th>операции с недвижимостью</th>\n",
       "      <th>получение образования</th>\n",
       "      <th>проведение свадьбы</th>\n",
       "    </tr>\n",
       "    <tr>\n",
       "      <th>family_status</th>\n",
       "      <th>total_income_category</th>\n",
       "      <th></th>\n",
       "      <th></th>\n",
       "      <th></th>\n",
       "      <th></th>\n",
       "      <th></th>\n",
       "      <th></th>\n",
       "      <th></th>\n",
       "      <th></th>\n",
       "    </tr>\n",
       "  </thead>\n",
       "  <tbody>\n",
       "    <tr>\n",
       "      <td rowspan=\"5\" valign=\"top\">семья без детей</td>\n",
       "      <td>A</td>\n",
       "      <td>NaN</td>\n",
       "      <td>9.0</td>\n",
       "      <td>2.0</td>\n",
       "      <td>1.0</td>\n",
       "      <td>NaN</td>\n",
       "      <td>0.000000</td>\n",
       "      <td>0.500000</td>\n",
       "      <td>0.000000</td>\n",
       "    </tr>\n",
       "    <tr>\n",
       "      <td>B</td>\n",
       "      <td>652.0</td>\n",
       "      <td>1646.0</td>\n",
       "      <td>597.0</td>\n",
       "      <td>350.0</td>\n",
       "      <td>0.078221</td>\n",
       "      <td>0.063183</td>\n",
       "      <td>0.072027</td>\n",
       "      <td>0.062857</td>\n",
       "    </tr>\n",
       "    <tr>\n",
       "      <td>C</td>\n",
       "      <td>2148.0</td>\n",
       "      <td>5289.0</td>\n",
       "      <td>1990.0</td>\n",
       "      <td>1163.0</td>\n",
       "      <td>0.087058</td>\n",
       "      <td>0.069200</td>\n",
       "      <td>0.091960</td>\n",
       "      <td>0.079106</td>\n",
       "    </tr>\n",
       "    <tr>\n",
       "      <td>D</td>\n",
       "      <td>47.0</td>\n",
       "      <td>123.0</td>\n",
       "      <td>50.0</td>\n",
       "      <td>23.0</td>\n",
       "      <td>0.106383</td>\n",
       "      <td>0.032520</td>\n",
       "      <td>0.040000</td>\n",
       "      <td>0.043478</td>\n",
       "    </tr>\n",
       "    <tr>\n",
       "      <td>E</td>\n",
       "      <td>NaN</td>\n",
       "      <td>10.0</td>\n",
       "      <td>4.0</td>\n",
       "      <td>3.0</td>\n",
       "      <td>NaN</td>\n",
       "      <td>0.200000</td>\n",
       "      <td>0.000000</td>\n",
       "      <td>0.000000</td>\n",
       "    </tr>\n",
       "    <tr>\n",
       "      <td rowspan=\"5\" valign=\"top\">семья с 1 детей</td>\n",
       "      <td>A</td>\n",
       "      <td>2.0</td>\n",
       "      <td>5.0</td>\n",
       "      <td>1.0</td>\n",
       "      <td>1.0</td>\n",
       "      <td>0.000000</td>\n",
       "      <td>0.200000</td>\n",
       "      <td>0.000000</td>\n",
       "      <td>0.000000</td>\n",
       "    </tr>\n",
       "    <tr>\n",
       "      <td>B</td>\n",
       "      <td>251.0</td>\n",
       "      <td>606.0</td>\n",
       "      <td>191.0</td>\n",
       "      <td>127.0</td>\n",
       "      <td>0.079681</td>\n",
       "      <td>0.079208</td>\n",
       "      <td>0.083770</td>\n",
       "      <td>0.031496</td>\n",
       "    </tr>\n",
       "    <tr>\n",
       "      <td>C</td>\n",
       "      <td>702.0</td>\n",
       "      <td>1830.0</td>\n",
       "      <td>669.0</td>\n",
       "      <td>400.0</td>\n",
       "      <td>0.115385</td>\n",
       "      <td>0.082514</td>\n",
       "      <td>0.110613</td>\n",
       "      <td>0.115000</td>\n",
       "    </tr>\n",
       "    <tr>\n",
       "      <td>D</td>\n",
       "      <td>17.0</td>\n",
       "      <td>29.0</td>\n",
       "      <td>14.0</td>\n",
       "      <td>7.0</td>\n",
       "      <td>0.176471</td>\n",
       "      <td>0.000000</td>\n",
       "      <td>0.000000</td>\n",
       "      <td>0.142857</td>\n",
       "    </tr>\n",
       "    <tr>\n",
       "      <td>E</td>\n",
       "      <td>2.0</td>\n",
       "      <td>1.0</td>\n",
       "      <td>1.0</td>\n",
       "      <td>NaN</td>\n",
       "      <td>0.000000</td>\n",
       "      <td>0.000000</td>\n",
       "      <td>0.000000</td>\n",
       "      <td>NaN</td>\n",
       "    </tr>\n",
       "    <tr>\n",
       "      <td rowspan=\"5\" valign=\"top\">семья с 2 детей</td>\n",
       "      <td>A</td>\n",
       "      <td>NaN</td>\n",
       "      <td>2.0</td>\n",
       "      <td>1.0</td>\n",
       "      <td>NaN</td>\n",
       "      <td>NaN</td>\n",
       "      <td>0.000000</td>\n",
       "      <td>0.000000</td>\n",
       "      <td>NaN</td>\n",
       "    </tr>\n",
       "    <tr>\n",
       "      <td>B</td>\n",
       "      <td>98.0</td>\n",
       "      <td>265.0</td>\n",
       "      <td>83.0</td>\n",
       "      <td>56.0</td>\n",
       "      <td>0.112245</td>\n",
       "      <td>0.067925</td>\n",
       "      <td>0.120482</td>\n",
       "      <td>0.035714</td>\n",
       "    </tr>\n",
       "    <tr>\n",
       "      <td>C</td>\n",
       "      <td>294.0</td>\n",
       "      <td>755.0</td>\n",
       "      <td>308.0</td>\n",
       "      <td>155.0</td>\n",
       "      <td>0.119048</td>\n",
       "      <td>0.090066</td>\n",
       "      <td>0.116883</td>\n",
       "      <td>0.064516</td>\n",
       "    </tr>\n",
       "    <tr>\n",
       "      <td>D</td>\n",
       "      <td>7.0</td>\n",
       "      <td>13.0</td>\n",
       "      <td>11.0</td>\n",
       "      <td>3.0</td>\n",
       "      <td>0.285714</td>\n",
       "      <td>0.153846</td>\n",
       "      <td>0.000000</td>\n",
       "      <td>0.000000</td>\n",
       "    </tr>\n",
       "    <tr>\n",
       "      <td>E</td>\n",
       "      <td>NaN</td>\n",
       "      <td>NaN</td>\n",
       "      <td>NaN</td>\n",
       "      <td>1.0</td>\n",
       "      <td>NaN</td>\n",
       "      <td>NaN</td>\n",
       "      <td>NaN</td>\n",
       "      <td>0.000000</td>\n",
       "    </tr>\n",
       "    <tr>\n",
       "      <td rowspan=\"4\" valign=\"top\">семья с 3 детей</td>\n",
       "      <td>A</td>\n",
       "      <td>NaN</td>\n",
       "      <td>1.0</td>\n",
       "      <td>NaN</td>\n",
       "      <td>NaN</td>\n",
       "      <td>NaN</td>\n",
       "      <td>0.000000</td>\n",
       "      <td>NaN</td>\n",
       "      <td>NaN</td>\n",
       "    </tr>\n",
       "    <tr>\n",
       "      <td>B</td>\n",
       "      <td>18.0</td>\n",
       "      <td>40.0</td>\n",
       "      <td>20.0</td>\n",
       "      <td>10.0</td>\n",
       "      <td>0.111111</td>\n",
       "      <td>0.050000</td>\n",
       "      <td>0.000000</td>\n",
       "      <td>0.000000</td>\n",
       "    </tr>\n",
       "    <tr>\n",
       "      <td>C</td>\n",
       "      <td>41.0</td>\n",
       "      <td>126.0</td>\n",
       "      <td>48.0</td>\n",
       "      <td>21.0</td>\n",
       "      <td>0.073171</td>\n",
       "      <td>0.087302</td>\n",
       "      <td>0.083333</td>\n",
       "      <td>0.190476</td>\n",
       "    </tr>\n",
       "    <tr>\n",
       "      <td>D</td>\n",
       "      <td>1.0</td>\n",
       "      <td>2.0</td>\n",
       "      <td>1.0</td>\n",
       "      <td>1.0</td>\n",
       "      <td>0.000000</td>\n",
       "      <td>0.000000</td>\n",
       "      <td>0.000000</td>\n",
       "      <td>1.000000</td>\n",
       "    </tr>\n",
       "    <tr>\n",
       "      <td rowspan=\"3\" valign=\"top\">семья с 3+ детей</td>\n",
       "      <td>B</td>\n",
       "      <td>12.0</td>\n",
       "      <td>11.0</td>\n",
       "      <td>6.0</td>\n",
       "      <td>2.0</td>\n",
       "      <td>0.166667</td>\n",
       "      <td>0.000000</td>\n",
       "      <td>0.166667</td>\n",
       "      <td>0.000000</td>\n",
       "    </tr>\n",
       "    <tr>\n",
       "      <td>C</td>\n",
       "      <td>16.0</td>\n",
       "      <td>50.0</td>\n",
       "      <td>17.0</td>\n",
       "      <td>11.0</td>\n",
       "      <td>0.062500</td>\n",
       "      <td>0.100000</td>\n",
       "      <td>0.000000</td>\n",
       "      <td>0.272727</td>\n",
       "    </tr>\n",
       "    <tr>\n",
       "      <td>D</td>\n",
       "      <td>NaN</td>\n",
       "      <td>1.0</td>\n",
       "      <td>NaN</td>\n",
       "      <td>NaN</td>\n",
       "      <td>NaN</td>\n",
       "      <td>0.000000</td>\n",
       "      <td>NaN</td>\n",
       "      <td>NaN</td>\n",
       "    </tr>\n",
       "  </tbody>\n",
       "</table>\n",
       "</div>"
      ],
      "text/plain": [
       "                                                        count  \\\n",
       "purpose_category                       операции с автомобилем   \n",
       "family_status    total_income_category                          \n",
       "семья без детей  A                                        NaN   \n",
       "                 B                                      652.0   \n",
       "                 C                                     2148.0   \n",
       "                 D                                       47.0   \n",
       "                 E                                        NaN   \n",
       "семья с 1 детей  A                                        2.0   \n",
       "                 B                                      251.0   \n",
       "                 C                                      702.0   \n",
       "                 D                                       17.0   \n",
       "                 E                                        2.0   \n",
       "семья с 2 детей  A                                        NaN   \n",
       "                 B                                       98.0   \n",
       "                 C                                      294.0   \n",
       "                 D                                        7.0   \n",
       "                 E                                        NaN   \n",
       "семья с 3 детей  A                                        NaN   \n",
       "                 B                                       18.0   \n",
       "                 C                                       41.0   \n",
       "                 D                                        1.0   \n",
       "семья с 3+ детей B                                       12.0   \n",
       "                 C                                       16.0   \n",
       "                 D                                        NaN   \n",
       "\n",
       "                                                                 \\\n",
       "purpose_category                       операции с недвижимостью   \n",
       "family_status    total_income_category                            \n",
       "семья без детей  A                                          9.0   \n",
       "                 B                                       1646.0   \n",
       "                 C                                       5289.0   \n",
       "                 D                                        123.0   \n",
       "                 E                                         10.0   \n",
       "семья с 1 детей  A                                          5.0   \n",
       "                 B                                        606.0   \n",
       "                 C                                       1830.0   \n",
       "                 D                                         29.0   \n",
       "                 E                                          1.0   \n",
       "семья с 2 детей  A                                          2.0   \n",
       "                 B                                        265.0   \n",
       "                 C                                        755.0   \n",
       "                 D                                         13.0   \n",
       "                 E                                          NaN   \n",
       "семья с 3 детей  A                                          1.0   \n",
       "                 B                                         40.0   \n",
       "                 C                                        126.0   \n",
       "                 D                                          2.0   \n",
       "семья с 3+ детей B                                         11.0   \n",
       "                 C                                         50.0   \n",
       "                 D                                          1.0   \n",
       "\n",
       "                                                              \\\n",
       "purpose_category                       получение образования   \n",
       "family_status    total_income_category                         \n",
       "семья без детей  A                                       2.0   \n",
       "                 B                                     597.0   \n",
       "                 C                                    1990.0   \n",
       "                 D                                      50.0   \n",
       "                 E                                       4.0   \n",
       "семья с 1 детей  A                                       1.0   \n",
       "                 B                                     191.0   \n",
       "                 C                                     669.0   \n",
       "                 D                                      14.0   \n",
       "                 E                                       1.0   \n",
       "семья с 2 детей  A                                       1.0   \n",
       "                 B                                      83.0   \n",
       "                 C                                     308.0   \n",
       "                 D                                      11.0   \n",
       "                 E                                       NaN   \n",
       "семья с 3 детей  A                                       NaN   \n",
       "                 B                                      20.0   \n",
       "                 C                                      48.0   \n",
       "                 D                                       1.0   \n",
       "семья с 3+ детей B                                       6.0   \n",
       "                 C                                      17.0   \n",
       "                 D                                       NaN   \n",
       "\n",
       "                                                           \\\n",
       "purpose_category                       проведение свадьбы   \n",
       "family_status    total_income_category                      \n",
       "семья без детей  A                                    1.0   \n",
       "                 B                                  350.0   \n",
       "                 C                                 1163.0   \n",
       "                 D                                   23.0   \n",
       "                 E                                    3.0   \n",
       "семья с 1 детей  A                                    1.0   \n",
       "                 B                                  127.0   \n",
       "                 C                                  400.0   \n",
       "                 D                                    7.0   \n",
       "                 E                                    NaN   \n",
       "семья с 2 детей  A                                    NaN   \n",
       "                 B                                   56.0   \n",
       "                 C                                  155.0   \n",
       "                 D                                    3.0   \n",
       "                 E                                    1.0   \n",
       "семья с 3 детей  A                                    NaN   \n",
       "                 B                                   10.0   \n",
       "                 C                                   21.0   \n",
       "                 D                                    1.0   \n",
       "семья с 3+ детей B                                    2.0   \n",
       "                 C                                   11.0   \n",
       "                 D                                    NaN   \n",
       "\n",
       "                                                         mean  \\\n",
       "purpose_category                       операции с автомобилем   \n",
       "family_status    total_income_category                          \n",
       "семья без детей  A                                        NaN   \n",
       "                 B                                   0.078221   \n",
       "                 C                                   0.087058   \n",
       "                 D                                   0.106383   \n",
       "                 E                                        NaN   \n",
       "семья с 1 детей  A                                   0.000000   \n",
       "                 B                                   0.079681   \n",
       "                 C                                   0.115385   \n",
       "                 D                                   0.176471   \n",
       "                 E                                   0.000000   \n",
       "семья с 2 детей  A                                        NaN   \n",
       "                 B                                   0.112245   \n",
       "                 C                                   0.119048   \n",
       "                 D                                   0.285714   \n",
       "                 E                                        NaN   \n",
       "семья с 3 детей  A                                        NaN   \n",
       "                 B                                   0.111111   \n",
       "                 C                                   0.073171   \n",
       "                 D                                   0.000000   \n",
       "семья с 3+ детей B                                   0.166667   \n",
       "                 C                                   0.062500   \n",
       "                 D                                        NaN   \n",
       "\n",
       "                                                                 \\\n",
       "purpose_category                       операции с недвижимостью   \n",
       "family_status    total_income_category                            \n",
       "семья без детей  A                                     0.000000   \n",
       "                 B                                     0.063183   \n",
       "                 C                                     0.069200   \n",
       "                 D                                     0.032520   \n",
       "                 E                                     0.200000   \n",
       "семья с 1 детей  A                                     0.200000   \n",
       "                 B                                     0.079208   \n",
       "                 C                                     0.082514   \n",
       "                 D                                     0.000000   \n",
       "                 E                                     0.000000   \n",
       "семья с 2 детей  A                                     0.000000   \n",
       "                 B                                     0.067925   \n",
       "                 C                                     0.090066   \n",
       "                 D                                     0.153846   \n",
       "                 E                                          NaN   \n",
       "семья с 3 детей  A                                     0.000000   \n",
       "                 B                                     0.050000   \n",
       "                 C                                     0.087302   \n",
       "                 D                                     0.000000   \n",
       "семья с 3+ детей B                                     0.000000   \n",
       "                 C                                     0.100000   \n",
       "                 D                                     0.000000   \n",
       "\n",
       "                                                              \\\n",
       "purpose_category                       получение образования   \n",
       "family_status    total_income_category                         \n",
       "семья без детей  A                                  0.500000   \n",
       "                 B                                  0.072027   \n",
       "                 C                                  0.091960   \n",
       "                 D                                  0.040000   \n",
       "                 E                                  0.000000   \n",
       "семья с 1 детей  A                                  0.000000   \n",
       "                 B                                  0.083770   \n",
       "                 C                                  0.110613   \n",
       "                 D                                  0.000000   \n",
       "                 E                                  0.000000   \n",
       "семья с 2 детей  A                                  0.000000   \n",
       "                 B                                  0.120482   \n",
       "                 C                                  0.116883   \n",
       "                 D                                  0.000000   \n",
       "                 E                                       NaN   \n",
       "семья с 3 детей  A                                       NaN   \n",
       "                 B                                  0.000000   \n",
       "                 C                                  0.083333   \n",
       "                 D                                  0.000000   \n",
       "семья с 3+ детей B                                  0.166667   \n",
       "                 C                                  0.000000   \n",
       "                 D                                       NaN   \n",
       "\n",
       "                                                           \n",
       "purpose_category                       проведение свадьбы  \n",
       "family_status    total_income_category                     \n",
       "семья без детей  A                               0.000000  \n",
       "                 B                               0.062857  \n",
       "                 C                               0.079106  \n",
       "                 D                               0.043478  \n",
       "                 E                               0.000000  \n",
       "семья с 1 детей  A                               0.000000  \n",
       "                 B                               0.031496  \n",
       "                 C                               0.115000  \n",
       "                 D                               0.142857  \n",
       "                 E                                    NaN  \n",
       "семья с 2 детей  A                                    NaN  \n",
       "                 B                               0.035714  \n",
       "                 C                               0.064516  \n",
       "                 D                               0.000000  \n",
       "                 E                               0.000000  \n",
       "семья с 3 детей  A                                    NaN  \n",
       "                 B                               0.000000  \n",
       "                 C                               0.190476  \n",
       "                 D                               1.000000  \n",
       "семья с 3+ детей B                               0.000000  \n",
       "                 C                               0.272727  \n",
       "                 D                                    NaN  "
      ]
     },
     "execution_count": 57,
     "metadata": {},
     "output_type": "execute_result"
    }
   ],
   "source": [
    "data.pivot_table(index = ['family_status','total_income_category'], columns = 'purpose_category', values = 'debt', aggfunc = ['count', 'mean'])"
   ]
  },
  {
   "cell_type": "markdown",
   "id": "385be10a",
   "metadata": {},
   "source": [
    "с наибольшей вероятностью просрочки это клиенты с 3+ детьми,средний зароботок(категория С)и с  целю проведение свадьбы. В то же время, таких клент очень мало - 11 человек. в тaком же сегменте входит семья с 2 детей, средний зароботок,цель покупки автомобиль.\n"
   ]
  },
  {
   "cell_type": "markdown",
   "id": "40478af2",
   "metadata": {},
   "source": [
    "для семьях без детей клентов вероятность просрочки очень маленкая <10%, особены клиенты этой категлрии которые берут кредит на недвижимость и покупку автомобилей."
   ]
  },
  {
   "cell_type": "markdown",
   "id": "277f0eb0",
   "metadata": {},
   "source": [
    "Самые активные клиенты банка остоются семями без детей, с одного и с двумя."
   ]
  },
  {
   "cell_type": "markdown",
   "id": "f079b0d2",
   "metadata": {},
   "source": [
    "<div class=\"alert alert-danger\">\n",
    "<b>❌ Комментарий ревьюера v1:</b> \n",
    "<br>Добавь в общий вывод описание клиента с наибольшей вероятностью просрочки, например, женат, 3е детей, доход - такой-то, цель кредита - такая-то. Для этого используй ответы на вопросы выше\n",
    "</div>"
   ]
  },
  {
   "cell_type": "markdown",
   "id": "6957a6fd",
   "metadata": {},
   "source": [
    "<div class=\"alert alert-success\">\n",
    "<b>✔️ Комментарий ревьюера v1:</b> \n",
    "<br> понял, сделал таку. табличку выше + обновлял выводы \n",
    "</div>"
   ]
  },
  {
   "cell_type": "markdown",
   "id": "31b48852",
   "metadata": {},
   "source": [
    "<div class=\"alert alert-success\">\n",
    "<b>✔️ Комментарий ревьюера v2:</b> \n",
    "<br>Всё верно 👍\n",
    "</div>"
   ]
  },
  {
   "cell_type": "markdown",
   "id": "505b7778",
   "metadata": {},
   "source": [
    "<div class=\"alert alert-danger\">\n",
    "<b>❌ Итоговый комментарий ревьюера v1:</b> \n",
    "<br>Ты хорошо потрудился, большая часть работы сделана, но остаётся внести следующие правки:\n",
    "<br>- написать вывод после первичного анализа данных\t\n",
    "<br>- корректно привести значения к нижнему регистру\n",
    "<br>- поправить категоризацию клиентов по цели кредита\n",
    "<br>- произвести правильные расчеты для ответа на итоговые вопросы\n",
    "<br>- поправить ответы на итоговые вопросы\n",
    "<br>- дописать  общий вывод\n",
    "</div>"
   ]
  },
  {
   "cell_type": "markdown",
   "id": "ffaef909",
   "metadata": {},
   "source": [
    "<div class=\"alert alert-success\">\n",
    "<b>✔️ Итоговый комментарий ревьюера v2:</b>\n",
    "<br>Все правки выполнены. Молодец!\n",
    "<br>Ты проделал большую работу! У тебя точные выводы с хорошей аргументацией. Здорово, что ты пишешь свои рассуждения и предположения - это помогает видеть ход твоей мысли. Отдельно хочу выделить аккуратность и структурированность твоей работы. Рад был поработать над проверкой твоего проекта! Желаю удачи в дальнейшем обучении! 😉\n",
    "</div>"
   ]
  }
 ],
 "metadata": {
  "ExecuteTimeLog": [
   {
    "duration": 342,
    "start_time": "2022-02-18T04:11:17.891Z"
   },
   {
    "duration": 270,
    "start_time": "2022-02-18T04:11:31.104Z"
   },
   {
    "duration": 734,
    "start_time": "2022-02-18T04:11:34.966Z"
   },
   {
    "duration": 2057,
    "start_time": "2022-02-18T04:11:36.107Z"
   },
   {
    "duration": 67,
    "start_time": "2022-02-18T04:13:30.836Z"
   },
   {
    "duration": 47,
    "start_time": "2022-02-18T04:13:45.163Z"
   },
   {
    "duration": 62,
    "start_time": "2022-02-18T04:14:22.639Z"
   },
   {
    "duration": 61,
    "start_time": "2022-02-18T04:14:28.977Z"
   },
   {
    "duration": 34,
    "start_time": "2022-02-18T04:14:44.056Z"
   },
   {
    "duration": 305,
    "start_time": "2022-02-18T04:14:50.055Z"
   },
   {
    "duration": 308,
    "start_time": "2022-02-18T04:15:13.540Z"
   },
   {
    "duration": 4,
    "start_time": "2022-02-18T04:15:18.965Z"
   },
   {
    "duration": 61,
    "start_time": "2022-02-18T04:15:19.445Z"
   },
   {
    "duration": 311,
    "start_time": "2022-02-18T04:15:19.940Z"
   },
   {
    "duration": 35,
    "start_time": "2022-02-18T04:16:00.910Z"
   },
   {
    "duration": 3,
    "start_time": "2022-02-18T04:16:53.683Z"
   },
   {
    "duration": 27,
    "start_time": "2022-02-18T04:17:12.451Z"
   },
   {
    "duration": 26,
    "start_time": "2022-02-18T04:17:17.867Z"
   },
   {
    "duration": 20,
    "start_time": "2022-02-18T04:17:44.743Z"
   },
   {
    "duration": 20,
    "start_time": "2022-02-18T04:18:12.996Z"
   },
   {
    "duration": 5,
    "start_time": "2022-02-18T04:18:30.141Z"
   },
   {
    "duration": 5,
    "start_time": "2022-02-18T04:18:42.940Z"
   },
   {
    "duration": 9,
    "start_time": "2022-02-18T04:19:23.022Z"
   },
   {
    "duration": 10,
    "start_time": "2022-02-18T04:20:40.407Z"
   },
   {
    "duration": 8,
    "start_time": "2022-02-18T04:21:08.994Z"
   },
   {
    "duration": 8,
    "start_time": "2022-02-18T04:21:13.481Z"
   },
   {
    "duration": 9,
    "start_time": "2022-02-18T04:21:16.641Z"
   },
   {
    "duration": 82,
    "start_time": "2022-02-18T04:21:45.775Z"
   },
   {
    "duration": 95,
    "start_time": "2022-02-18T04:22:31.471Z"
   },
   {
    "duration": 9,
    "start_time": "2022-02-18T04:22:48.109Z"
   },
   {
    "duration": 12,
    "start_time": "2022-02-18T04:23:41.452Z"
   },
   {
    "duration": 14,
    "start_time": "2022-02-18T04:24:38.740Z"
   },
   {
    "duration": 16,
    "start_time": "2022-02-18T04:24:41.895Z"
   },
   {
    "duration": 3,
    "start_time": "2022-02-18T04:28:26.361Z"
   },
   {
    "duration": 3,
    "start_time": "2022-02-18T04:30:44.125Z"
   },
   {
    "duration": 89,
    "start_time": "2022-02-18T04:30:56.814Z"
   },
   {
    "duration": 89,
    "start_time": "2022-02-18T04:30:59.472Z"
   },
   {
    "duration": 7,
    "start_time": "2022-02-18T04:31:24.393Z"
   },
   {
    "duration": 25,
    "start_time": "2022-02-18T04:32:58.688Z"
   },
   {
    "duration": 16,
    "start_time": "2022-02-18T04:33:49.802Z"
   },
   {
    "duration": 4,
    "start_time": "2022-02-18T04:34:02.898Z"
   },
   {
    "duration": 16,
    "start_time": "2022-02-18T04:34:10.709Z"
   },
   {
    "duration": 285,
    "start_time": "2022-02-18T04:34:15.914Z"
   },
   {
    "duration": 289,
    "start_time": "2022-02-18T04:34:47.466Z"
   },
   {
    "duration": 94,
    "start_time": "2022-02-18T04:35:42.752Z"
   },
   {
    "duration": 89,
    "start_time": "2022-02-18T04:35:58.649Z"
   },
   {
    "duration": 16,
    "start_time": "2022-02-18T04:36:05.201Z"
   },
   {
    "duration": 14,
    "start_time": "2022-02-18T04:36:13.284Z"
   },
   {
    "duration": 10,
    "start_time": "2022-02-18T04:36:39.412Z"
   },
   {
    "duration": 6,
    "start_time": "2022-02-18T04:36:51.094Z"
   },
   {
    "duration": 292,
    "start_time": "2022-02-18T04:37:08.630Z"
   },
   {
    "duration": 6,
    "start_time": "2022-02-18T04:37:10.740Z"
   },
   {
    "duration": 7,
    "start_time": "2022-02-18T04:37:13.960Z"
   },
   {
    "duration": 9,
    "start_time": "2022-02-18T04:37:18.160Z"
   },
   {
    "duration": 7,
    "start_time": "2022-02-18T04:37:23.596Z"
   },
   {
    "duration": 284,
    "start_time": "2022-02-18T04:37:36.294Z"
   },
   {
    "duration": 270,
    "start_time": "2022-02-18T04:40:34.250Z"
   },
   {
    "duration": 17,
    "start_time": "2022-02-18T04:40:56.348Z"
   },
   {
    "duration": 67,
    "start_time": "2022-02-18T04:42:01.598Z"
   },
   {
    "duration": 45,
    "start_time": "2022-02-18T04:42:08.239Z"
   },
   {
    "duration": 45,
    "start_time": "2022-02-18T04:42:11.317Z"
   },
   {
    "duration": 24,
    "start_time": "2022-02-18T04:42:14.956Z"
   },
   {
    "duration": 3,
    "start_time": "2022-02-18T04:45:42.182Z"
   },
   {
    "duration": 62,
    "start_time": "2022-02-18T04:45:42.615Z"
   },
   {
    "duration": 42,
    "start_time": "2022-02-18T04:45:42.810Z"
   },
   {
    "duration": 3,
    "start_time": "2022-02-18T04:45:42.984Z"
   },
   {
    "duration": 25,
    "start_time": "2022-02-18T04:45:43.157Z"
   },
   {
    "duration": 25,
    "start_time": "2022-02-18T04:45:43.289Z"
   },
   {
    "duration": 10,
    "start_time": "2022-02-18T04:45:43.435Z"
   },
   {
    "duration": 9,
    "start_time": "2022-02-18T04:45:43.560Z"
   },
   {
    "duration": 12,
    "start_time": "2022-02-18T04:45:43.707Z"
   },
   {
    "duration": 18,
    "start_time": "2022-02-18T04:45:43.858Z"
   },
   {
    "duration": 22,
    "start_time": "2022-02-18T04:45:44.004Z"
   },
   {
    "duration": 4,
    "start_time": "2022-02-18T04:45:44.144Z"
   },
   {
    "duration": 4,
    "start_time": "2022-02-18T04:45:44.289Z"
   },
   {
    "duration": 4,
    "start_time": "2022-02-18T04:45:44.706Z"
   },
   {
    "duration": 17,
    "start_time": "2022-02-18T04:45:45.316Z"
   },
   {
    "duration": 16,
    "start_time": "2022-02-18T04:45:47.846Z"
   },
   {
    "duration": 16,
    "start_time": "2022-02-18T04:45:48.276Z"
   },
   {
    "duration": 19,
    "start_time": "2022-02-18T04:45:53.384Z"
   },
   {
    "duration": 66,
    "start_time": "2022-02-18T04:46:03.432Z"
   },
   {
    "duration": 24,
    "start_time": "2022-02-18T04:46:07.682Z"
   },
   {
    "duration": 27,
    "start_time": "2022-02-18T04:46:19.903Z"
   },
   {
    "duration": 23,
    "start_time": "2022-02-18T04:46:20.329Z"
   },
   {
    "duration": 3,
    "start_time": "2022-02-18T04:46:29.152Z"
   },
   {
    "duration": 62,
    "start_time": "2022-02-18T04:46:29.485Z"
   },
   {
    "duration": 32,
    "start_time": "2022-02-18T04:46:29.624Z"
   },
   {
    "duration": 3,
    "start_time": "2022-02-18T04:46:29.762Z"
   },
   {
    "duration": 23,
    "start_time": "2022-02-18T04:46:29.884Z"
   },
   {
    "duration": 21,
    "start_time": "2022-02-18T04:46:30.034Z"
   },
   {
    "duration": 8,
    "start_time": "2022-02-18T04:46:30.171Z"
   },
   {
    "duration": 8,
    "start_time": "2022-02-18T04:46:30.317Z"
   },
   {
    "duration": 11,
    "start_time": "2022-02-18T04:46:30.429Z"
   },
   {
    "duration": 14,
    "start_time": "2022-02-18T04:46:30.603Z"
   },
   {
    "duration": 14,
    "start_time": "2022-02-18T04:46:30.744Z"
   },
   {
    "duration": 3,
    "start_time": "2022-02-18T04:46:30.902Z"
   },
   {
    "duration": 3,
    "start_time": "2022-02-18T04:46:31.064Z"
   },
   {
    "duration": 3,
    "start_time": "2022-02-18T04:46:31.573Z"
   },
   {
    "duration": 19,
    "start_time": "2022-02-18T04:46:31.758Z"
   },
   {
    "duration": 16,
    "start_time": "2022-02-18T04:46:32.189Z"
   },
   {
    "duration": 18,
    "start_time": "2022-02-18T04:46:32.765Z"
   },
   {
    "duration": 17,
    "start_time": "2022-02-18T04:46:33.866Z"
   },
   {
    "duration": 23,
    "start_time": "2022-02-18T04:46:37.710Z"
   },
   {
    "duration": 27,
    "start_time": "2022-02-18T04:46:47.604Z"
   },
   {
    "duration": 55,
    "start_time": "2022-02-18T04:50:34.447Z"
   },
   {
    "duration": 29,
    "start_time": "2022-02-18T04:51:00.623Z"
   },
   {
    "duration": 29,
    "start_time": "2022-02-18T04:51:06.086Z"
   },
   {
    "duration": 26,
    "start_time": "2022-02-18T04:51:23.146Z"
   },
   {
    "duration": 297,
    "start_time": "2022-02-18T04:51:27.118Z"
   },
   {
    "duration": 25,
    "start_time": "2022-02-18T04:51:30.121Z"
   },
   {
    "duration": 3,
    "start_time": "2022-02-18T04:52:11.844Z"
   },
   {
    "duration": 62,
    "start_time": "2022-02-18T04:52:12.152Z"
   },
   {
    "duration": 33,
    "start_time": "2022-02-18T04:52:12.290Z"
   },
   {
    "duration": 3,
    "start_time": "2022-02-18T04:52:12.422Z"
   },
   {
    "duration": 26,
    "start_time": "2022-02-18T04:52:12.554Z"
   },
   {
    "duration": 22,
    "start_time": "2022-02-18T04:52:12.680Z"
   },
   {
    "duration": 8,
    "start_time": "2022-02-18T04:52:12.830Z"
   },
   {
    "duration": 8,
    "start_time": "2022-02-18T04:52:12.961Z"
   },
   {
    "duration": 12,
    "start_time": "2022-02-18T04:52:13.097Z"
   },
   {
    "duration": 15,
    "start_time": "2022-02-18T04:52:13.378Z"
   },
   {
    "duration": 15,
    "start_time": "2022-02-18T04:52:13.509Z"
   },
   {
    "duration": 3,
    "start_time": "2022-02-18T04:52:13.652Z"
   },
   {
    "duration": 4,
    "start_time": "2022-02-18T04:52:13.788Z"
   },
   {
    "duration": 4,
    "start_time": "2022-02-18T04:52:14.069Z"
   },
   {
    "duration": 17,
    "start_time": "2022-02-18T04:52:14.222Z"
   },
   {
    "duration": 14,
    "start_time": "2022-02-18T04:52:14.784Z"
   },
   {
    "duration": 16,
    "start_time": "2022-02-18T04:52:15.528Z"
   },
   {
    "duration": 15,
    "start_time": "2022-02-18T04:52:15.873Z"
   },
   {
    "duration": 23,
    "start_time": "2022-02-18T04:52:16.023Z"
   },
   {
    "duration": 51,
    "start_time": "2022-02-18T04:52:17.853Z"
   },
   {
    "duration": 26,
    "start_time": "2022-02-18T04:52:19.594Z"
   },
   {
    "duration": 13,
    "start_time": "2022-02-18T04:53:41.169Z"
   },
   {
    "duration": 23,
    "start_time": "2022-02-18T04:53:59.518Z"
   },
   {
    "duration": 39,
    "start_time": "2022-02-18T04:55:48.935Z"
   },
   {
    "duration": 46,
    "start_time": "2022-02-18T04:58:50.209Z"
   },
   {
    "duration": 48,
    "start_time": "2022-02-18T04:59:00.287Z"
   },
   {
    "duration": 27,
    "start_time": "2022-02-18T05:08:18.564Z"
   },
   {
    "duration": 44,
    "start_time": "2022-02-18T05:08:43.927Z"
   },
   {
    "duration": 4,
    "start_time": "2022-02-18T05:09:07.013Z"
   },
   {
    "duration": 64,
    "start_time": "2022-02-18T05:09:07.623Z"
   },
   {
    "duration": 33,
    "start_time": "2022-02-18T05:09:07.766Z"
   },
   {
    "duration": 3,
    "start_time": "2022-02-18T05:09:07.914Z"
   },
   {
    "duration": 25,
    "start_time": "2022-02-18T05:09:08.064Z"
   },
   {
    "duration": 22,
    "start_time": "2022-02-18T05:09:08.200Z"
   },
   {
    "duration": 9,
    "start_time": "2022-02-18T05:09:08.334Z"
   },
   {
    "duration": 7,
    "start_time": "2022-02-18T05:09:08.480Z"
   },
   {
    "duration": 11,
    "start_time": "2022-02-18T05:09:08.579Z"
   },
   {
    "duration": 15,
    "start_time": "2022-02-18T05:09:08.758Z"
   },
   {
    "duration": 16,
    "start_time": "2022-02-18T05:09:08.882Z"
   },
   {
    "duration": 3,
    "start_time": "2022-02-18T05:09:09.026Z"
   },
   {
    "duration": 3,
    "start_time": "2022-02-18T05:09:09.180Z"
   },
   {
    "duration": 3,
    "start_time": "2022-02-18T05:09:09.467Z"
   },
   {
    "duration": 17,
    "start_time": "2022-02-18T05:09:09.623Z"
   },
   {
    "duration": 14,
    "start_time": "2022-02-18T05:09:09.779Z"
   },
   {
    "duration": 16,
    "start_time": "2022-02-18T05:09:10.130Z"
   },
   {
    "duration": 16,
    "start_time": "2022-02-18T05:09:10.503Z"
   },
   {
    "duration": 23,
    "start_time": "2022-02-18T05:09:10.721Z"
   },
   {
    "duration": 52,
    "start_time": "2022-02-18T05:09:11.178Z"
   },
   {
    "duration": 25,
    "start_time": "2022-02-18T05:09:14.586Z"
   },
   {
    "duration": 45,
    "start_time": "2022-02-18T05:09:16.006Z"
   },
   {
    "duration": 45,
    "start_time": "2022-02-18T05:09:24.598Z"
   },
   {
    "duration": 44,
    "start_time": "2022-02-18T05:09:31.089Z"
   },
   {
    "duration": 25,
    "start_time": "2022-02-18T05:09:38.702Z"
   },
   {
    "duration": 47,
    "start_time": "2022-02-18T05:10:40.568Z"
   },
   {
    "duration": 46,
    "start_time": "2022-02-18T05:10:44.728Z"
   },
   {
    "duration": 7,
    "start_time": "2022-02-18T05:12:08.041Z"
   },
   {
    "duration": 4,
    "start_time": "2022-02-18T05:12:08.795Z"
   },
   {
    "duration": 5,
    "start_time": "2022-02-18T05:13:21.881Z"
   },
   {
    "duration": 4,
    "start_time": "2022-02-18T05:13:30.117Z"
   },
   {
    "duration": 4,
    "start_time": "2022-02-18T05:13:40.405Z"
   },
   {
    "duration": 4,
    "start_time": "2022-02-18T05:14:41.744Z"
   },
   {
    "duration": 544,
    "start_time": "2022-02-18T05:15:44.479Z"
   },
   {
    "duration": 599,
    "start_time": "2022-02-18T05:16:00.968Z"
   },
   {
    "duration": 7,
    "start_time": "2022-02-18T05:16:29.162Z"
   },
   {
    "duration": 4,
    "start_time": "2022-02-18T05:16:47.391Z"
   },
   {
    "duration": 7,
    "start_time": "2022-02-18T05:16:47.397Z"
   },
   {
    "duration": 575,
    "start_time": "2022-02-18T05:16:47.776Z"
   },
   {
    "duration": 4,
    "start_time": "2022-02-18T05:17:25.318Z"
   },
   {
    "duration": 5,
    "start_time": "2022-02-18T05:17:25.471Z"
   },
   {
    "duration": 538,
    "start_time": "2022-02-18T05:17:26.246Z"
   },
   {
    "duration": 3,
    "start_time": "2022-02-18T06:32:01.982Z"
   },
   {
    "duration": 66,
    "start_time": "2022-02-18T06:32:02.310Z"
   },
   {
    "duration": 34,
    "start_time": "2022-02-18T06:32:02.444Z"
   },
   {
    "duration": 3,
    "start_time": "2022-02-18T06:32:02.586Z"
   },
   {
    "duration": 24,
    "start_time": "2022-02-18T06:32:02.719Z"
   },
   {
    "duration": 20,
    "start_time": "2022-02-18T06:32:02.857Z"
   },
   {
    "duration": 8,
    "start_time": "2022-02-18T06:32:03.003Z"
   },
   {
    "duration": 9,
    "start_time": "2022-02-18T06:32:03.150Z"
   },
   {
    "duration": 11,
    "start_time": "2022-02-18T06:32:03.327Z"
   },
   {
    "duration": 17,
    "start_time": "2022-02-18T06:32:03.486Z"
   },
   {
    "duration": 16,
    "start_time": "2022-02-18T06:32:03.693Z"
   },
   {
    "duration": 3,
    "start_time": "2022-02-18T06:32:03.886Z"
   },
   {
    "duration": 3,
    "start_time": "2022-02-18T06:32:04.040Z"
   },
   {
    "duration": 3,
    "start_time": "2022-02-18T06:32:04.421Z"
   },
   {
    "duration": 17,
    "start_time": "2022-02-18T06:32:04.600Z"
   },
   {
    "duration": 14,
    "start_time": "2022-02-18T06:32:04.782Z"
   },
   {
    "duration": 17,
    "start_time": "2022-02-18T06:32:05.141Z"
   },
   {
    "duration": 17,
    "start_time": "2022-02-18T06:32:05.509Z"
   },
   {
    "duration": 27,
    "start_time": "2022-02-18T06:32:05.660Z"
   },
   {
    "duration": 56,
    "start_time": "2022-02-18T06:32:06.023Z"
   },
   {
    "duration": 24,
    "start_time": "2022-02-18T06:32:06.160Z"
   },
   {
    "duration": 46,
    "start_time": "2022-02-18T06:32:06.355Z"
   },
   {
    "duration": 47,
    "start_time": "2022-02-18T06:32:06.542Z"
   },
   {
    "duration": 6,
    "start_time": "2022-02-18T06:32:07.010Z"
   },
   {
    "duration": 4,
    "start_time": "2022-02-18T06:32:07.258Z"
   },
   {
    "duration": 3,
    "start_time": "2022-02-18T06:32:07.502Z"
   },
   {
    "duration": 100,
    "start_time": "2022-02-18T06:32:08.641Z"
   },
   {
    "duration": 4,
    "start_time": "2022-02-18T06:32:34.491Z"
   },
   {
    "duration": 658,
    "start_time": "2022-02-18T06:32:34.869Z"
   },
   {
    "duration": 7,
    "start_time": "2022-02-18T06:32:35.561Z"
   },
   {
    "duration": 4,
    "start_time": "2022-02-18T07:37:51.495Z"
   },
   {
    "duration": 60,
    "start_time": "2022-02-18T07:37:51.945Z"
   },
   {
    "duration": 57,
    "start_time": "2022-02-18T07:37:52.067Z"
   },
   {
    "duration": 4,
    "start_time": "2022-02-18T07:37:52.228Z"
   },
   {
    "duration": 25,
    "start_time": "2022-02-18T07:37:52.377Z"
   },
   {
    "duration": 23,
    "start_time": "2022-02-18T07:37:52.527Z"
   },
   {
    "duration": 9,
    "start_time": "2022-02-18T07:37:52.847Z"
   },
   {
    "duration": 8,
    "start_time": "2022-02-18T07:37:52.957Z"
   },
   {
    "duration": 13,
    "start_time": "2022-02-18T07:37:53.107Z"
   },
   {
    "duration": 14,
    "start_time": "2022-02-18T07:37:53.287Z"
   },
   {
    "duration": 16,
    "start_time": "2022-02-18T07:37:53.545Z"
   },
   {
    "duration": 3,
    "start_time": "2022-02-18T07:37:53.633Z"
   },
   {
    "duration": 3,
    "start_time": "2022-02-18T07:37:53.807Z"
   },
   {
    "duration": 3,
    "start_time": "2022-02-18T07:37:54.097Z"
   },
   {
    "duration": 19,
    "start_time": "2022-02-18T07:37:54.287Z"
   },
   {
    "duration": 15,
    "start_time": "2022-02-18T07:37:54.428Z"
   },
   {
    "duration": 17,
    "start_time": "2022-02-18T07:37:54.815Z"
   },
   {
    "duration": 18,
    "start_time": "2022-02-18T07:37:55.156Z"
   },
   {
    "duration": 26,
    "start_time": "2022-02-18T07:37:55.266Z"
   },
   {
    "duration": 56,
    "start_time": "2022-02-18T07:37:55.647Z"
   },
   {
    "duration": 26,
    "start_time": "2022-02-18T07:37:55.765Z"
   },
   {
    "duration": 47,
    "start_time": "2022-02-18T07:37:55.958Z"
   },
   {
    "duration": 52,
    "start_time": "2022-02-18T07:37:56.087Z"
   },
   {
    "duration": 8,
    "start_time": "2022-02-18T07:37:56.246Z"
   },
   {
    "duration": 4,
    "start_time": "2022-02-18T07:37:56.398Z"
   },
   {
    "duration": 4,
    "start_time": "2022-02-18T07:37:56.587Z"
   },
   {
    "duration": 6,
    "start_time": "2022-02-18T07:37:56.727Z"
   },
   {
    "duration": 567,
    "start_time": "2022-02-18T07:37:56.927Z"
   },
   {
    "duration": 830,
    "start_time": "2022-02-18T07:37:56.666Z"
   },
   {
    "duration": 5,
    "start_time": "2022-02-18T07:39:57.206Z"
   },
   {
    "duration": 4,
    "start_time": "2022-02-18T07:42:09.409Z"
   },
   {
    "duration": 4,
    "start_time": "2022-02-18T07:42:12.565Z"
   },
   {
    "duration": 4,
    "start_time": "2022-02-18T07:42:30.402Z"
   },
   {
    "duration": 524,
    "start_time": "2022-02-18T07:43:55.567Z"
   },
   {
    "duration": 539,
    "start_time": "2022-02-18T07:44:02.139Z"
   },
   {
    "duration": 5,
    "start_time": "2022-02-18T07:46:23.306Z"
   },
   {
    "duration": 512,
    "start_time": "2022-02-18T07:46:23.747Z"
   },
   {
    "duration": 3,
    "start_time": "2022-02-18T07:46:30.214Z"
   },
   {
    "duration": 532,
    "start_time": "2022-02-18T07:50:04.039Z"
   },
   {
    "duration": 515,
    "start_time": "2022-02-18T07:50:10.713Z"
   },
   {
    "duration": 569,
    "start_time": "2022-02-18T07:50:13.527Z"
   },
   {
    "duration": 791,
    "start_time": "2022-02-18T07:50:27.759Z"
   },
   {
    "duration": 526,
    "start_time": "2022-02-18T07:52:38.584Z"
   },
   {
    "duration": 4,
    "start_time": "2022-02-18T07:57:23.151Z"
   },
   {
    "duration": 66,
    "start_time": "2022-02-18T07:57:23.491Z"
   },
   {
    "duration": 35,
    "start_time": "2022-02-18T07:57:23.598Z"
   },
   {
    "duration": 4,
    "start_time": "2022-02-18T07:57:23.767Z"
   },
   {
    "duration": 26,
    "start_time": "2022-02-18T07:57:23.951Z"
   },
   {
    "duration": 23,
    "start_time": "2022-02-18T07:57:24.114Z"
   },
   {
    "duration": 9,
    "start_time": "2022-02-18T07:57:24.284Z"
   },
   {
    "duration": 10,
    "start_time": "2022-02-18T07:57:24.435Z"
   },
   {
    "duration": 12,
    "start_time": "2022-02-18T07:57:24.600Z"
   },
   {
    "duration": 16,
    "start_time": "2022-02-18T07:57:24.767Z"
   },
   {
    "duration": 18,
    "start_time": "2022-02-18T07:57:24.975Z"
   },
   {
    "duration": 3,
    "start_time": "2022-02-18T07:57:25.099Z"
   },
   {
    "duration": 3,
    "start_time": "2022-02-18T07:57:25.275Z"
   },
   {
    "duration": 4,
    "start_time": "2022-02-18T07:57:25.655Z"
   },
   {
    "duration": 17,
    "start_time": "2022-02-18T07:57:25.795Z"
   },
   {
    "duration": 15,
    "start_time": "2022-02-18T07:57:25.999Z"
   },
   {
    "duration": 16,
    "start_time": "2022-02-18T07:57:26.328Z"
   },
   {
    "duration": 17,
    "start_time": "2022-02-18T07:57:26.719Z"
   },
   {
    "duration": 35,
    "start_time": "2022-02-18T07:57:26.867Z"
   },
   {
    "duration": 85,
    "start_time": "2022-02-18T07:57:27.259Z"
   },
   {
    "duration": 23,
    "start_time": "2022-02-18T07:57:27.747Z"
   },
   {
    "duration": 46,
    "start_time": "2022-02-18T07:57:27.971Z"
   },
   {
    "duration": 46,
    "start_time": "2022-02-18T07:57:28.718Z"
   },
   {
    "duration": 7,
    "start_time": "2022-02-18T07:57:28.918Z"
   },
   {
    "duration": 4,
    "start_time": "2022-02-18T07:57:29.095Z"
   },
   {
    "duration": 4,
    "start_time": "2022-02-18T07:57:30.503Z"
   },
   {
    "duration": 4,
    "start_time": "2022-02-18T07:57:31.362Z"
   },
   {
    "duration": 8,
    "start_time": "2022-02-18T07:57:33.756Z"
   },
   {
    "duration": 29,
    "start_time": "2022-02-18T07:57:38.462Z"
   },
   {
    "duration": 3,
    "start_time": "2022-02-18T07:57:40.482Z"
   },
   {
    "duration": 7,
    "start_time": "2022-02-18T07:57:40.683Z"
   },
   {
    "duration": 4,
    "start_time": "2022-02-18T07:58:05.303Z"
   },
   {
    "duration": 8,
    "start_time": "2022-02-18T07:58:05.511Z"
   },
   {
    "duration": 28,
    "start_time": "2022-02-18T07:58:05.638Z"
   },
   {
    "duration": 4,
    "start_time": "2022-02-18T07:58:05.880Z"
   },
   {
    "duration": 7,
    "start_time": "2022-02-18T07:58:06.241Z"
   },
   {
    "duration": 4,
    "start_time": "2022-02-18T07:58:48.653Z"
   },
   {
    "duration": 8,
    "start_time": "2022-02-18T07:58:48.883Z"
   },
   {
    "duration": 21,
    "start_time": "2022-02-18T07:58:49.102Z"
   },
   {
    "duration": 4,
    "start_time": "2022-02-18T07:58:49.343Z"
   },
   {
    "duration": 7,
    "start_time": "2022-02-18T07:58:49.723Z"
   },
   {
    "duration": 297,
    "start_time": "2022-02-18T07:59:22.455Z"
   },
   {
    "duration": 282,
    "start_time": "2022-02-18T08:00:01.108Z"
   },
   {
    "duration": 354,
    "start_time": "2022-02-18T08:00:09.611Z"
   },
   {
    "duration": 5,
    "start_time": "2022-02-18T08:00:32.014Z"
   },
   {
    "duration": 261,
    "start_time": "2022-02-18T08:00:54.852Z"
   },
   {
    "duration": 7,
    "start_time": "2022-02-18T08:00:58.451Z"
   },
   {
    "duration": 297,
    "start_time": "2022-02-18T08:01:09.657Z"
   },
   {
    "duration": 7,
    "start_time": "2022-02-18T08:02:05.362Z"
   },
   {
    "duration": 36,
    "start_time": "2022-02-18T08:02:35.699Z"
   },
   {
    "duration": 10,
    "start_time": "2022-02-18T08:03:14.570Z"
   },
   {
    "duration": 3,
    "start_time": "2022-02-18T08:04:24.603Z"
   },
   {
    "duration": 6287,
    "start_time": "2022-02-18T08:08:04.576Z"
   },
   {
    "duration": 6656,
    "start_time": "2022-02-18T08:08:55.356Z"
   },
   {
    "duration": 7103,
    "start_time": "2022-02-18T08:09:04.103Z"
   },
   {
    "duration": 4,
    "start_time": "2022-02-18T08:09:16.580Z"
   },
   {
    "duration": 58,
    "start_time": "2022-02-18T08:09:16.869Z"
   },
   {
    "duration": 36,
    "start_time": "2022-02-18T08:09:17.007Z"
   },
   {
    "duration": 3,
    "start_time": "2022-02-18T08:09:17.145Z"
   },
   {
    "duration": 25,
    "start_time": "2022-02-18T08:09:17.268Z"
   },
   {
    "duration": 22,
    "start_time": "2022-02-18T08:09:17.412Z"
   },
   {
    "duration": 8,
    "start_time": "2022-02-18T08:09:17.572Z"
   },
   {
    "duration": 9,
    "start_time": "2022-02-18T08:09:17.701Z"
   },
   {
    "duration": 13,
    "start_time": "2022-02-18T08:09:17.829Z"
   },
   {
    "duration": 17,
    "start_time": "2022-02-18T08:09:17.992Z"
   },
   {
    "duration": 15,
    "start_time": "2022-02-18T08:09:18.129Z"
   },
   {
    "duration": 3,
    "start_time": "2022-02-18T08:09:18.289Z"
   },
   {
    "duration": 3,
    "start_time": "2022-02-18T08:09:18.426Z"
   },
   {
    "duration": 4,
    "start_time": "2022-02-18T08:09:18.938Z"
   },
   {
    "duration": 21,
    "start_time": "2022-02-18T08:09:19.114Z"
   },
   {
    "duration": 14,
    "start_time": "2022-02-18T08:09:19.310Z"
   },
   {
    "duration": 16,
    "start_time": "2022-02-18T08:09:19.613Z"
   },
   {
    "duration": 16,
    "start_time": "2022-02-18T08:09:19.958Z"
   },
   {
    "duration": 25,
    "start_time": "2022-02-18T08:09:20.095Z"
   },
   {
    "duration": 53,
    "start_time": "2022-02-18T08:09:20.417Z"
   },
   {
    "duration": 23,
    "start_time": "2022-02-18T08:09:20.566Z"
   },
   {
    "duration": 44,
    "start_time": "2022-02-18T08:09:20.705Z"
   },
   {
    "duration": 49,
    "start_time": "2022-02-18T08:09:20.859Z"
   },
   {
    "duration": 7,
    "start_time": "2022-02-18T08:09:20.988Z"
   },
   {
    "duration": 4,
    "start_time": "2022-02-18T08:09:21.137Z"
   },
   {
    "duration": 4,
    "start_time": "2022-02-18T08:09:21.259Z"
   },
   {
    "duration": 5,
    "start_time": "2022-02-18T08:09:21.417Z"
   },
   {
    "duration": 8,
    "start_time": "2022-02-18T08:09:21.566Z"
   },
   {
    "duration": 24,
    "start_time": "2022-02-18T08:09:21.697Z"
   },
   {
    "duration": 4,
    "start_time": "2022-02-18T08:09:21.850Z"
   },
   {
    "duration": 8,
    "start_time": "2022-02-18T08:09:22.025Z"
   },
   {
    "duration": 8,
    "start_time": "2022-02-18T08:09:22.150Z"
   },
   {
    "duration": 6795,
    "start_time": "2022-02-18T08:09:22.357Z"
   },
   {
    "duration": 925,
    "start_time": "2022-02-18T08:09:28.231Z"
   },
   {
    "duration": 6438,
    "start_time": "2022-02-18T08:28:25.124Z"
   },
   {
    "duration": 6411,
    "start_time": "2022-02-18T08:28:42.246Z"
   },
   {
    "duration": 27,
    "start_time": "2022-02-18T08:44:15.991Z"
   },
   {
    "duration": 7,
    "start_time": "2022-02-18T08:44:16.159Z"
   },
   {
    "duration": 7,
    "start_time": "2022-02-18T08:44:16.363Z"
   },
   {
    "duration": 6675,
    "start_time": "2022-02-18T08:44:55.199Z"
   },
   {
    "duration": 259,
    "start_time": "2022-02-18T08:46:45.996Z"
   },
   {
    "duration": 5,
    "start_time": "2022-02-18T08:46:53.121Z"
   },
   {
    "duration": 10,
    "start_time": "2022-02-18T08:47:05.700Z"
   },
   {
    "duration": 6,
    "start_time": "2022-02-18T08:48:16.523Z"
   },
   {
    "duration": 11,
    "start_time": "2022-02-18T08:48:34.397Z"
   },
   {
    "duration": 14,
    "start_time": "2022-02-18T08:48:41.520Z"
   },
   {
    "duration": 15,
    "start_time": "2022-02-18T08:48:41.668Z"
   },
   {
    "duration": 263,
    "start_time": "2022-02-18T08:54:58.383Z"
   },
   {
    "duration": 38,
    "start_time": "2022-02-18T08:55:08.410Z"
   },
   {
    "duration": 30,
    "start_time": "2022-02-18T08:55:42.864Z"
   },
   {
    "duration": 266,
    "start_time": "2022-02-18T08:56:02.336Z"
   },
   {
    "duration": 259,
    "start_time": "2022-02-18T08:56:05.842Z"
   },
   {
    "duration": 262,
    "start_time": "2022-02-18T08:56:12.824Z"
   },
   {
    "duration": 744,
    "start_time": "2022-02-18T08:56:44.059Z"
   },
   {
    "duration": 66,
    "start_time": "2022-02-18T08:56:44.806Z"
   },
   {
    "duration": 58,
    "start_time": "2022-02-18T08:56:44.876Z"
   },
   {
    "duration": 3,
    "start_time": "2022-02-18T08:56:44.937Z"
   },
   {
    "duration": 51,
    "start_time": "2022-02-18T08:56:44.943Z"
   },
   {
    "duration": 31,
    "start_time": "2022-02-18T08:56:44.996Z"
   },
   {
    "duration": 7,
    "start_time": "2022-02-18T08:56:45.030Z"
   },
   {
    "duration": 35,
    "start_time": "2022-02-18T08:56:45.040Z"
   },
   {
    "duration": 26,
    "start_time": "2022-02-18T08:56:45.078Z"
   },
   {
    "duration": 26,
    "start_time": "2022-02-18T08:56:45.107Z"
   },
   {
    "duration": 42,
    "start_time": "2022-02-18T08:56:45.135Z"
   },
   {
    "duration": 11,
    "start_time": "2022-02-18T08:56:45.179Z"
   },
   {
    "duration": 36,
    "start_time": "2022-02-18T08:56:45.192Z"
   },
   {
    "duration": 13,
    "start_time": "2022-02-18T08:56:45.230Z"
   },
   {
    "duration": 40,
    "start_time": "2022-02-18T08:56:45.246Z"
   },
   {
    "duration": 29,
    "start_time": "2022-02-18T08:56:45.289Z"
   },
   {
    "duration": 29,
    "start_time": "2022-02-18T08:56:45.320Z"
   },
   {
    "duration": 16,
    "start_time": "2022-02-18T08:56:45.351Z"
   },
   {
    "duration": 23,
    "start_time": "2022-02-18T08:56:45.370Z"
   },
   {
    "duration": 73,
    "start_time": "2022-02-18T08:56:45.395Z"
   },
   {
    "duration": 24,
    "start_time": "2022-02-18T08:56:45.471Z"
   },
   {
    "duration": 69,
    "start_time": "2022-02-18T08:56:45.498Z"
   },
   {
    "duration": 72,
    "start_time": "2022-02-18T08:56:45.574Z"
   },
   {
    "duration": 7,
    "start_time": "2022-02-18T08:56:45.649Z"
   },
   {
    "duration": 5,
    "start_time": "2022-02-18T08:56:45.660Z"
   },
   {
    "duration": 7,
    "start_time": "2022-02-18T08:56:45.668Z"
   },
   {
    "duration": 9,
    "start_time": "2022-02-18T08:56:45.677Z"
   },
   {
    "duration": 66,
    "start_time": "2022-02-18T08:56:45.688Z"
   },
   {
    "duration": 9,
    "start_time": "2022-02-18T08:56:45.757Z"
   },
   {
    "duration": 7,
    "start_time": "2022-02-18T08:56:45.768Z"
   },
   {
    "duration": 54,
    "start_time": "2022-02-18T08:56:45.778Z"
   },
   {
    "duration": 20,
    "start_time": "2022-02-18T08:56:45.835Z"
   },
   {
    "duration": 42,
    "start_time": "2022-02-18T08:56:45.858Z"
   },
   {
    "duration": 3,
    "start_time": "2022-02-18T08:59:21.447Z"
   },
   {
    "duration": 5,
    "start_time": "2022-02-18T09:10:35.115Z"
   },
   {
    "duration": 16,
    "start_time": "2022-02-18T09:11:27.552Z"
   },
   {
    "duration": 18,
    "start_time": "2022-02-18T09:11:44.577Z"
   },
   {
    "duration": 33,
    "start_time": "2022-02-18T09:11:52.198Z"
   },
   {
    "duration": 4,
    "start_time": "2022-02-18T09:16:18.869Z"
   },
   {
    "duration": 9,
    "start_time": "2022-02-18T09:16:20.057Z"
   },
   {
    "duration": 6,
    "start_time": "2022-02-18T09:21:53.180Z"
   },
   {
    "duration": 6,
    "start_time": "2022-02-18T09:27:31.729Z"
   },
   {
    "duration": 15,
    "start_time": "2022-02-18T09:27:31.921Z"
   },
   {
    "duration": 30,
    "start_time": "2022-02-18T09:27:39.762Z"
   },
   {
    "duration": 52,
    "start_time": "2022-02-18T09:27:43.299Z"
   },
   {
    "duration": 85,
    "start_time": "2022-02-18T09:31:45.889Z"
   },
   {
    "duration": 42,
    "start_time": "2022-02-18T09:31:46.085Z"
   },
   {
    "duration": 5,
    "start_time": "2022-02-18T09:31:54.378Z"
   },
   {
    "duration": 44,
    "start_time": "2022-02-18T09:31:54.649Z"
   },
   {
    "duration": 5,
    "start_time": "2022-02-18T09:32:51.681Z"
   },
   {
    "duration": 1441,
    "start_time": "2022-02-18T09:32:51.878Z"
   },
   {
    "duration": 4,
    "start_time": "2022-02-18T09:33:12.578Z"
   },
   {
    "duration": 45,
    "start_time": "2022-02-18T09:33:12.755Z"
   },
   {
    "duration": 40,
    "start_time": "2022-02-18T09:33:25.879Z"
   },
   {
    "duration": 266,
    "start_time": "2022-02-18T09:33:44.759Z"
   },
   {
    "duration": 10,
    "start_time": "2022-02-18T09:33:58.602Z"
   },
   {
    "duration": 5,
    "start_time": "2022-02-18T09:40:06.606Z"
   },
   {
    "duration": 3,
    "start_time": "2022-02-18T09:43:50.481Z"
   },
   {
    "duration": 3,
    "start_time": "2022-02-18T09:44:06.102Z"
   },
   {
    "duration": 4,
    "start_time": "2022-02-18T09:45:06.923Z"
   },
   {
    "duration": 262,
    "start_time": "2022-02-18T10:35:08.845Z"
   },
   {
    "duration": 258,
    "start_time": "2022-02-18T10:43:35.598Z"
   },
   {
    "duration": 261,
    "start_time": "2022-02-18T10:43:58.778Z"
   },
   {
    "duration": 258,
    "start_time": "2022-02-18T10:44:26.892Z"
   },
   {
    "duration": 265,
    "start_time": "2022-02-18T10:44:55.905Z"
   },
   {
    "duration": 297,
    "start_time": "2022-02-18T10:44:59.738Z"
   },
   {
    "duration": 197,
    "start_time": "2022-02-18T10:45:14.144Z"
   },
   {
    "duration": 261,
    "start_time": "2022-02-18T10:45:16.918Z"
   },
   {
    "duration": 440,
    "start_time": "2022-02-18T10:45:23.040Z"
   },
   {
    "duration": 96,
    "start_time": "2022-02-18T10:46:19.913Z"
   },
   {
    "duration": 274,
    "start_time": "2022-02-18T10:46:23.538Z"
   },
   {
    "duration": 24,
    "start_time": "2022-02-18T10:46:37.208Z"
   },
   {
    "duration": 7,
    "start_time": "2022-02-18T10:47:22.093Z"
   },
   {
    "duration": 28,
    "start_time": "2022-02-18T10:47:27.067Z"
   },
   {
    "duration": 21,
    "start_time": "2022-02-18T10:47:38.756Z"
   },
   {
    "duration": 21,
    "start_time": "2022-02-18T10:47:49.502Z"
   },
   {
    "duration": 23,
    "start_time": "2022-02-18T10:48:03.949Z"
   },
   {
    "duration": 8,
    "start_time": "2022-02-18T10:49:09.119Z"
   },
   {
    "duration": 17,
    "start_time": "2022-02-18T10:49:09.717Z"
   },
   {
    "duration": 17,
    "start_time": "2022-02-18T10:49:10.025Z"
   },
   {
    "duration": 25,
    "start_time": "2022-02-18T10:49:25.589Z"
   },
   {
    "duration": 794,
    "start_time": "2022-02-18T10:49:38.636Z"
   },
   {
    "duration": 65,
    "start_time": "2022-02-18T10:49:39.432Z"
   },
   {
    "duration": 56,
    "start_time": "2022-02-18T10:49:39.500Z"
   },
   {
    "duration": 4,
    "start_time": "2022-02-18T10:49:39.559Z"
   },
   {
    "duration": 30,
    "start_time": "2022-02-18T10:49:39.565Z"
   },
   {
    "duration": 47,
    "start_time": "2022-02-18T10:49:39.597Z"
   },
   {
    "duration": 8,
    "start_time": "2022-02-18T10:49:39.647Z"
   },
   {
    "duration": 13,
    "start_time": "2022-02-18T10:49:39.658Z"
   },
   {
    "duration": 54,
    "start_time": "2022-02-18T10:49:39.674Z"
   },
   {
    "duration": 18,
    "start_time": "2022-02-18T10:49:39.731Z"
   },
   {
    "duration": 18,
    "start_time": "2022-02-18T10:49:39.752Z"
   },
   {
    "duration": 3,
    "start_time": "2022-02-18T10:49:39.773Z"
   },
   {
    "duration": 6,
    "start_time": "2022-02-18T10:49:39.778Z"
   },
   {
    "duration": 39,
    "start_time": "2022-02-18T10:49:39.787Z"
   },
   {
    "duration": 26,
    "start_time": "2022-02-18T10:49:39.828Z"
   },
   {
    "duration": 16,
    "start_time": "2022-02-18T10:49:39.856Z"
   },
   {
    "duration": 30,
    "start_time": "2022-02-18T10:49:39.874Z"
   },
   {
    "duration": 33,
    "start_time": "2022-02-18T10:49:39.907Z"
   },
   {
    "duration": 24,
    "start_time": "2022-02-18T10:49:39.943Z"
   },
   {
    "duration": 84,
    "start_time": "2022-02-18T10:49:39.970Z"
   },
   {
    "duration": 25,
    "start_time": "2022-02-18T10:49:40.057Z"
   },
   {
    "duration": 71,
    "start_time": "2022-02-18T10:49:40.085Z"
   },
   {
    "duration": 65,
    "start_time": "2022-02-18T10:49:40.163Z"
   },
   {
    "duration": 8,
    "start_time": "2022-02-18T10:49:40.231Z"
   },
   {
    "duration": 6,
    "start_time": "2022-02-18T10:49:40.241Z"
   },
   {
    "duration": 7,
    "start_time": "2022-02-18T10:49:40.249Z"
   },
   {
    "duration": 8,
    "start_time": "2022-02-18T10:49:40.258Z"
   },
   {
    "duration": 69,
    "start_time": "2022-02-18T10:49:40.270Z"
   },
   {
    "duration": 7,
    "start_time": "2022-02-18T10:49:40.341Z"
   },
   {
    "duration": 9,
    "start_time": "2022-02-18T10:49:40.350Z"
   },
   {
    "duration": 16,
    "start_time": "2022-02-18T10:49:40.361Z"
   },
   {
    "duration": 48,
    "start_time": "2022-02-18T10:49:40.380Z"
   },
   {
    "duration": 45,
    "start_time": "2022-02-18T10:49:40.431Z"
   },
   {
    "duration": 8,
    "start_time": "2022-02-18T10:49:40.479Z"
   },
   {
    "duration": 6,
    "start_time": "2022-02-18T10:49:40.490Z"
   },
   {
    "duration": 34,
    "start_time": "2022-02-18T10:49:40.499Z"
   },
   {
    "duration": 46,
    "start_time": "2022-02-18T10:49:40.536Z"
   },
   {
    "duration": 5,
    "start_time": "2022-02-18T10:49:40.585Z"
   },
   {
    "duration": 36,
    "start_time": "2022-02-18T10:49:40.593Z"
   },
   {
    "duration": 4,
    "start_time": "2022-02-18T10:49:40.631Z"
   },
   {
    "duration": 52,
    "start_time": "2022-02-18T10:49:40.638Z"
   },
   {
    "duration": 33,
    "start_time": "2022-02-18T10:49:40.693Z"
   },
   {
    "duration": 27,
    "start_time": "2022-02-18T10:49:40.729Z"
   },
   {
    "duration": 35,
    "start_time": "2022-02-18T10:51:34.025Z"
   },
   {
    "duration": 4,
    "start_time": "2022-02-18T10:55:38.690Z"
   },
   {
    "duration": 5,
    "start_time": "2022-02-18T10:55:43.993Z"
   },
   {
    "duration": 72,
    "start_time": "2022-02-18T10:55:45.474Z"
   },
   {
    "duration": 34,
    "start_time": "2022-02-18T10:55:45.655Z"
   },
   {
    "duration": 4,
    "start_time": "2022-02-18T10:56:13.866Z"
   },
   {
    "duration": 25,
    "start_time": "2022-02-18T10:56:14.150Z"
   },
   {
    "duration": 21,
    "start_time": "2022-02-18T10:56:14.666Z"
   },
   {
    "duration": 8,
    "start_time": "2022-02-18T10:56:19.142Z"
   },
   {
    "duration": 10,
    "start_time": "2022-02-18T10:57:09.881Z"
   },
   {
    "duration": 12,
    "start_time": "2022-02-18T10:57:10.439Z"
   },
   {
    "duration": 19,
    "start_time": "2022-02-18T10:57:26.393Z"
   },
   {
    "duration": 15,
    "start_time": "2022-02-18T10:57:27.259Z"
   },
   {
    "duration": 3,
    "start_time": "2022-02-18T10:57:30.173Z"
   },
   {
    "duration": 3,
    "start_time": "2022-02-18T10:57:30.617Z"
   },
   {
    "duration": 18,
    "start_time": "2022-02-18T10:57:59.122Z"
   },
   {
    "duration": 15,
    "start_time": "2022-02-18T10:58:05.183Z"
   },
   {
    "duration": 33,
    "start_time": "2022-02-18T10:58:18.081Z"
   },
   {
    "duration": 36,
    "start_time": "2022-02-18T10:59:00.555Z"
   },
   {
    "duration": 36,
    "start_time": "2022-02-18T11:00:04.166Z"
   },
   {
    "duration": 3,
    "start_time": "2022-02-18T11:00:04.422Z"
   },
   {
    "duration": 17,
    "start_time": "2022-02-18T11:00:04.759Z"
   },
   {
    "duration": 16,
    "start_time": "2022-02-18T11:00:06.875Z"
   },
   {
    "duration": 44,
    "start_time": "2022-02-18T11:00:07.293Z"
   },
   {
    "duration": 21,
    "start_time": "2022-02-18T11:00:09.112Z"
   },
   {
    "duration": 94,
    "start_time": "2022-02-18T11:00:35.800Z"
   },
   {
    "duration": 30,
    "start_time": "2022-02-18T11:00:49.438Z"
   },
   {
    "duration": 6,
    "start_time": "2022-02-18T11:01:01.903Z"
   },
   {
    "duration": 41,
    "start_time": "2022-02-18T11:01:02.105Z"
   },
   {
    "duration": 34,
    "start_time": "2022-02-18T11:01:09.957Z"
   },
   {
    "duration": 8,
    "start_time": "2022-02-18T11:02:59.062Z"
   },
   {
    "duration": 34,
    "start_time": "2022-02-18T11:02:59.351Z"
   },
   {
    "duration": 4,
    "start_time": "2022-02-18T11:03:10.483Z"
   },
   {
    "duration": 66,
    "start_time": "2022-02-18T11:03:10.815Z"
   },
   {
    "duration": 39,
    "start_time": "2022-02-18T11:03:11.009Z"
   },
   {
    "duration": 3,
    "start_time": "2022-02-18T11:03:11.220Z"
   },
   {
    "duration": 25,
    "start_time": "2022-02-18T11:03:11.457Z"
   },
   {
    "duration": 21,
    "start_time": "2022-02-18T11:03:11.655Z"
   },
   {
    "duration": 8,
    "start_time": "2022-02-18T11:03:11.847Z"
   },
   {
    "duration": 11,
    "start_time": "2022-02-18T11:03:12.032Z"
   },
   {
    "duration": 13,
    "start_time": "2022-02-18T11:03:12.218Z"
   },
   {
    "duration": 18,
    "start_time": "2022-02-18T11:03:12.403Z"
   },
   {
    "duration": 15,
    "start_time": "2022-02-18T11:03:12.665Z"
   },
   {
    "duration": 3,
    "start_time": "2022-02-18T11:03:12.949Z"
   },
   {
    "duration": 3,
    "start_time": "2022-02-18T11:03:13.820Z"
   },
   {
    "duration": 35,
    "start_time": "2022-02-18T11:03:14.309Z"
   },
   {
    "duration": 36,
    "start_time": "2022-02-18T11:03:14.763Z"
   },
   {
    "duration": 4,
    "start_time": "2022-02-18T11:03:22.941Z"
   },
   {
    "duration": 17,
    "start_time": "2022-02-18T11:03:23.738Z"
   },
   {
    "duration": 15,
    "start_time": "2022-02-18T11:03:24.437Z"
   },
   {
    "duration": 5,
    "start_time": "2022-02-18T11:03:25.353Z"
   },
   {
    "duration": 36,
    "start_time": "2022-02-18T11:03:26.655Z"
   },
   {
    "duration": 6,
    "start_time": "2022-02-18T11:03:45.004Z"
   },
   {
    "duration": 24,
    "start_time": "2022-02-18T11:03:46.206Z"
   },
   {
    "duration": 6,
    "start_time": "2022-02-18T11:03:59.905Z"
   },
   {
    "duration": 12,
    "start_time": "2022-02-18T11:04:00.176Z"
   },
   {
    "duration": 14,
    "start_time": "2022-02-18T11:04:40.105Z"
   },
   {
    "duration": 6,
    "start_time": "2022-02-18T11:05:02.788Z"
   },
   {
    "duration": 55,
    "start_time": "2022-02-18T11:05:02.981Z"
   },
   {
    "duration": 6,
    "start_time": "2022-02-18T11:05:09.541Z"
   },
   {
    "duration": 6,
    "start_time": "2022-02-18T11:05:28.189Z"
   },
   {
    "duration": 34,
    "start_time": "2022-02-18T11:05:28.640Z"
   },
   {
    "duration": 22,
    "start_time": "2022-02-18T11:05:50.119Z"
   },
   {
    "duration": 19,
    "start_time": "2022-02-18T11:05:50.186Z"
   },
   {
    "duration": 27,
    "start_time": "2022-02-18T11:05:50.213Z"
   },
   {
    "duration": 63,
    "start_time": "2022-02-18T11:05:50.277Z"
   },
   {
    "duration": 24,
    "start_time": "2022-02-18T11:05:50.343Z"
   },
   {
    "duration": 70,
    "start_time": "2022-02-18T11:05:50.370Z"
   },
   {
    "duration": 46,
    "start_time": "2022-02-18T11:05:50.442Z"
   },
   {
    "duration": 7,
    "start_time": "2022-02-18T11:05:50.490Z"
   },
   {
    "duration": 30,
    "start_time": "2022-02-18T11:05:50.500Z"
   },
   {
    "duration": 18,
    "start_time": "2022-02-18T11:05:50.534Z"
   },
   {
    "duration": 8,
    "start_time": "2022-02-18T11:05:50.555Z"
   },
   {
    "duration": 30,
    "start_time": "2022-02-18T11:05:50.567Z"
   },
   {
    "duration": 33,
    "start_time": "2022-02-18T11:05:50.600Z"
   },
   {
    "duration": 8,
    "start_time": "2022-02-18T11:05:50.636Z"
   },
   {
    "duration": 20,
    "start_time": "2022-02-18T11:05:50.648Z"
   },
   {
    "duration": 15,
    "start_time": "2022-02-18T11:05:50.670Z"
   },
   {
    "duration": 63,
    "start_time": "2022-02-18T11:05:50.688Z"
   },
   {
    "duration": 16,
    "start_time": "2022-02-18T11:05:50.754Z"
   },
   {
    "duration": 5,
    "start_time": "2022-02-18T11:05:50.808Z"
   },
   {
    "duration": 17,
    "start_time": "2022-02-18T11:05:50.839Z"
   },
   {
    "duration": 29,
    "start_time": "2022-02-18T11:05:50.870Z"
   },
   {
    "duration": 3,
    "start_time": "2022-02-18T11:05:50.940Z"
   },
   {
    "duration": 9,
    "start_time": "2022-02-18T11:05:50.968Z"
   },
   {
    "duration": 4,
    "start_time": "2022-02-18T11:05:50.996Z"
   },
   {
    "duration": 48,
    "start_time": "2022-02-18T11:05:51.027Z"
   },
   {
    "duration": 11,
    "start_time": "2022-02-18T11:05:51.078Z"
   },
   {
    "duration": 24,
    "start_time": "2022-02-18T11:05:51.182Z"
   },
   {
    "duration": 22,
    "start_time": "2022-02-18T11:09:13.680Z"
   },
   {
    "duration": 24,
    "start_time": "2022-02-18T11:10:40.050Z"
   },
   {
    "duration": 330,
    "start_time": "2022-02-18T11:10:48.636Z"
   },
   {
    "duration": 7,
    "start_time": "2022-02-18T11:12:07.066Z"
   },
   {
    "duration": 22,
    "start_time": "2022-02-18T11:12:10.762Z"
   },
   {
    "duration": 317,
    "start_time": "2022-02-18T11:12:33.255Z"
   },
   {
    "duration": 288,
    "start_time": "2022-02-18T11:12:47.494Z"
   },
   {
    "duration": 3,
    "start_time": "2022-02-18T11:31:18.476Z"
   },
   {
    "duration": 314,
    "start_time": "2022-02-18T11:33:33.420Z"
   },
   {
    "duration": 833,
    "start_time": "2022-02-18T11:34:07.117Z"
   },
   {
    "duration": 70,
    "start_time": "2022-02-18T11:34:07.953Z"
   },
   {
    "duration": 44,
    "start_time": "2022-02-18T11:34:08.026Z"
   },
   {
    "duration": 5,
    "start_time": "2022-02-18T11:34:08.073Z"
   },
   {
    "duration": 58,
    "start_time": "2022-02-18T11:34:08.080Z"
   },
   {
    "duration": 21,
    "start_time": "2022-02-18T11:34:08.141Z"
   },
   {
    "duration": 12,
    "start_time": "2022-02-18T11:34:08.164Z"
   },
   {
    "duration": 9,
    "start_time": "2022-02-18T11:34:08.180Z"
   },
   {
    "duration": 14,
    "start_time": "2022-02-18T11:34:08.229Z"
   },
   {
    "duration": 23,
    "start_time": "2022-02-18T11:34:08.246Z"
   },
   {
    "duration": 17,
    "start_time": "2022-02-18T11:34:08.272Z"
   },
   {
    "duration": 4,
    "start_time": "2022-02-18T11:34:08.327Z"
   },
   {
    "duration": 15,
    "start_time": "2022-02-18T11:34:08.334Z"
   },
   {
    "duration": 38,
    "start_time": "2022-02-18T11:34:08.351Z"
   },
   {
    "duration": 6,
    "start_time": "2022-02-18T11:34:08.392Z"
   },
   {
    "duration": 37,
    "start_time": "2022-02-18T11:34:08.401Z"
   },
   {
    "duration": 16,
    "start_time": "2022-02-18T11:34:08.441Z"
   },
   {
    "duration": 16,
    "start_time": "2022-02-18T11:34:08.460Z"
   },
   {
    "duration": 6,
    "start_time": "2022-02-18T11:34:08.478Z"
   },
   {
    "duration": 70,
    "start_time": "2022-02-18T11:34:08.487Z"
   },
   {
    "duration": 19,
    "start_time": "2022-02-18T11:34:08.561Z"
   },
   {
    "duration": 54,
    "start_time": "2022-02-18T11:34:08.583Z"
   },
   {
    "duration": 26,
    "start_time": "2022-02-18T11:34:08.646Z"
   },
   {
    "duration": 81,
    "start_time": "2022-02-18T11:34:08.676Z"
   },
   {
    "duration": 24,
    "start_time": "2022-02-18T11:34:08.759Z"
   },
   {
    "duration": 75,
    "start_time": "2022-02-18T11:34:08.786Z"
   },
   {
    "duration": 46,
    "start_time": "2022-02-18T11:34:08.864Z"
   },
   {
    "duration": 7,
    "start_time": "2022-02-18T11:34:08.927Z"
   },
   {
    "duration": 15,
    "start_time": "2022-02-18T11:34:08.937Z"
   },
   {
    "duration": 8,
    "start_time": "2022-02-18T11:34:08.955Z"
   },
   {
    "duration": 6,
    "start_time": "2022-02-18T11:34:08.966Z"
   },
   {
    "duration": 56,
    "start_time": "2022-02-18T11:34:08.975Z"
   },
   {
    "duration": 8,
    "start_time": "2022-02-18T11:34:09.033Z"
   },
   {
    "duration": 11,
    "start_time": "2022-02-18T11:34:09.045Z"
   },
   {
    "duration": 17,
    "start_time": "2022-02-18T11:34:09.059Z"
   },
   {
    "duration": 59,
    "start_time": "2022-02-18T11:34:09.079Z"
   },
   {
    "duration": 51,
    "start_time": "2022-02-18T11:34:09.141Z"
   },
   {
    "duration": 8,
    "start_time": "2022-02-18T11:34:09.195Z"
   },
   {
    "duration": 30,
    "start_time": "2022-02-18T11:34:09.206Z"
   },
   {
    "duration": 30,
    "start_time": "2022-02-18T11:34:09.239Z"
   },
   {
    "duration": 36,
    "start_time": "2022-02-18T11:34:09.272Z"
   },
   {
    "duration": 22,
    "start_time": "2022-02-18T11:34:09.311Z"
   },
   {
    "duration": 26,
    "start_time": "2022-02-18T11:34:09.342Z"
   },
   {
    "duration": 6,
    "start_time": "2022-02-18T11:34:09.372Z"
   },
   {
    "duration": 73,
    "start_time": "2022-02-18T11:34:09.380Z"
   },
   {
    "duration": 10,
    "start_time": "2022-02-18T11:34:09.456Z"
   },
   {
    "duration": 29,
    "start_time": "2022-02-18T11:34:09.468Z"
   },
   {
    "duration": 113,
    "start_time": "2022-02-18T11:34:09.500Z"
   },
   {
    "duration": 44,
    "start_time": "2022-02-18T11:34:09.572Z"
   },
   {
    "duration": 44,
    "start_time": "2022-02-18T11:34:09.574Z"
   },
   {
    "duration": 358,
    "start_time": "2022-02-18T11:35:17.561Z"
   },
   {
    "duration": 845,
    "start_time": "2022-02-18T11:35:31.510Z"
   },
   {
    "duration": 66,
    "start_time": "2022-02-18T11:35:32.358Z"
   },
   {
    "duration": 45,
    "start_time": "2022-02-18T11:35:32.427Z"
   },
   {
    "duration": 9,
    "start_time": "2022-02-18T11:35:32.474Z"
   },
   {
    "duration": 55,
    "start_time": "2022-02-18T11:35:32.485Z"
   },
   {
    "duration": 21,
    "start_time": "2022-02-18T11:35:32.545Z"
   },
   {
    "duration": 9,
    "start_time": "2022-02-18T11:35:32.569Z"
   },
   {
    "duration": 46,
    "start_time": "2022-02-18T11:35:32.582Z"
   },
   {
    "duration": 19,
    "start_time": "2022-02-18T11:35:32.631Z"
   },
   {
    "duration": 32,
    "start_time": "2022-02-18T11:35:32.653Z"
   },
   {
    "duration": 21,
    "start_time": "2022-02-18T11:35:32.688Z"
   },
   {
    "duration": 16,
    "start_time": "2022-02-18T11:35:32.711Z"
   },
   {
    "duration": 25,
    "start_time": "2022-02-18T11:35:32.730Z"
   },
   {
    "duration": 42,
    "start_time": "2022-02-18T11:35:32.759Z"
   },
   {
    "duration": 5,
    "start_time": "2022-02-18T11:35:32.804Z"
   },
   {
    "duration": 31,
    "start_time": "2022-02-18T11:35:32.813Z"
   },
   {
    "duration": 17,
    "start_time": "2022-02-18T11:35:32.847Z"
   },
   {
    "duration": 28,
    "start_time": "2022-02-18T11:35:32.870Z"
   },
   {
    "duration": 27,
    "start_time": "2022-02-18T11:35:32.901Z"
   },
   {
    "duration": 51,
    "start_time": "2022-02-18T11:35:32.931Z"
   },
   {
    "duration": 27,
    "start_time": "2022-02-18T11:35:32.985Z"
   },
   {
    "duration": 35,
    "start_time": "2022-02-18T11:35:33.015Z"
   },
   {
    "duration": 32,
    "start_time": "2022-02-18T11:35:33.054Z"
   },
   {
    "duration": 68,
    "start_time": "2022-02-18T11:35:33.088Z"
   },
   {
    "duration": 26,
    "start_time": "2022-02-18T11:35:33.158Z"
   },
   {
    "duration": 87,
    "start_time": "2022-02-18T11:35:33.187Z"
   },
   {
    "duration": 66,
    "start_time": "2022-02-18T11:35:33.277Z"
   },
   {
    "duration": 9,
    "start_time": "2022-02-18T11:35:33.346Z"
   },
   {
    "duration": 14,
    "start_time": "2022-02-18T11:35:33.358Z"
   },
   {
    "duration": 24,
    "start_time": "2022-02-18T11:35:33.375Z"
   },
   {
    "duration": 14,
    "start_time": "2022-02-18T11:35:33.401Z"
   },
   {
    "duration": 45,
    "start_time": "2022-02-18T11:35:33.418Z"
   },
   {
    "duration": 12,
    "start_time": "2022-02-18T11:35:33.466Z"
   },
   {
    "duration": 17,
    "start_time": "2022-02-18T11:35:33.480Z"
   },
   {
    "duration": 35,
    "start_time": "2022-02-18T11:35:33.499Z"
   },
   {
    "duration": 18,
    "start_time": "2022-02-18T11:35:33.537Z"
   },
   {
    "duration": 35,
    "start_time": "2022-02-18T11:35:33.559Z"
   },
   {
    "duration": 29,
    "start_time": "2022-02-18T11:35:33.597Z"
   },
   {
    "duration": 15,
    "start_time": "2022-02-18T11:35:33.629Z"
   },
   {
    "duration": 55,
    "start_time": "2022-02-18T11:35:33.647Z"
   },
   {
    "duration": 42,
    "start_time": "2022-02-18T11:35:33.705Z"
   },
   {
    "duration": 11,
    "start_time": "2022-02-18T11:35:33.750Z"
   },
   {
    "duration": 20,
    "start_time": "2022-02-18T11:35:33.764Z"
   },
   {
    "duration": 6,
    "start_time": "2022-02-18T11:35:33.787Z"
   },
   {
    "duration": 54,
    "start_time": "2022-02-18T11:35:33.796Z"
   },
   {
    "duration": 10,
    "start_time": "2022-02-18T11:35:33.852Z"
   },
   {
    "duration": 33,
    "start_time": "2022-02-18T11:35:33.865Z"
   },
   {
    "duration": 3,
    "start_time": "2022-02-18T11:35:33.900Z"
   },
   {
    "duration": 314,
    "start_time": "2022-02-18T11:35:40.027Z"
   },
   {
    "duration": 1055,
    "start_time": "2022-02-18T11:35:53.571Z"
   },
   {
    "duration": 91,
    "start_time": "2022-02-18T11:35:54.629Z"
   },
   {
    "duration": 69,
    "start_time": "2022-02-18T11:35:55.131Z"
   },
   {
    "duration": 3,
    "start_time": "2022-02-18T11:35:55.544Z"
   },
   {
    "duration": 24,
    "start_time": "2022-02-18T11:35:55.860Z"
   },
   {
    "duration": 22,
    "start_time": "2022-02-18T11:35:56.086Z"
   },
   {
    "duration": 10,
    "start_time": "2022-02-18T11:35:56.342Z"
   },
   {
    "duration": 8,
    "start_time": "2022-02-18T11:35:56.614Z"
   },
   {
    "duration": 14,
    "start_time": "2022-02-18T11:35:56.840Z"
   },
   {
    "duration": 27,
    "start_time": "2022-02-18T11:35:57.051Z"
   },
   {
    "duration": 28,
    "start_time": "2022-02-18T11:35:57.234Z"
   },
   {
    "duration": 3,
    "start_time": "2022-02-18T11:35:57.415Z"
   },
   {
    "duration": 3,
    "start_time": "2022-02-18T11:35:57.595Z"
   },
   {
    "duration": 33,
    "start_time": "2022-02-18T11:35:57.778Z"
   },
   {
    "duration": 3,
    "start_time": "2022-02-18T11:35:57.957Z"
   },
   {
    "duration": 26,
    "start_time": "2022-02-18T11:35:58.135Z"
   },
   {
    "duration": 24,
    "start_time": "2022-02-18T11:35:58.289Z"
   },
   {
    "duration": 13,
    "start_time": "2022-02-18T11:35:58.473Z"
   },
   {
    "duration": 6,
    "start_time": "2022-02-18T11:35:58.661Z"
   },
   {
    "duration": 39,
    "start_time": "2022-02-18T11:35:58.851Z"
   },
   {
    "duration": 15,
    "start_time": "2022-02-18T11:35:59.180Z"
   },
   {
    "duration": 17,
    "start_time": "2022-02-18T11:35:59.499Z"
   },
   {
    "duration": 25,
    "start_time": "2022-02-18T11:35:59.664Z"
   },
   {
    "duration": 53,
    "start_time": "2022-02-18T11:35:59.974Z"
   },
   {
    "duration": 34,
    "start_time": "2022-02-18T11:36:00.141Z"
   },
   {
    "duration": 68,
    "start_time": "2022-02-18T11:36:00.291Z"
   },
   {
    "duration": 70,
    "start_time": "2022-02-18T11:36:00.451Z"
   },
   {
    "duration": 9,
    "start_time": "2022-02-18T11:36:00.612Z"
   },
   {
    "duration": 4,
    "start_time": "2022-02-18T11:36:00.753Z"
   },
   {
    "duration": 5,
    "start_time": "2022-02-18T11:36:00.915Z"
   },
   {
    "duration": 6,
    "start_time": "2022-02-18T11:36:01.079Z"
   },
   {
    "duration": 40,
    "start_time": "2022-02-18T11:36:01.259Z"
   },
   {
    "duration": 10,
    "start_time": "2022-02-18T11:36:01.442Z"
   },
   {
    "duration": 11,
    "start_time": "2022-02-18T11:36:01.616Z"
   },
   {
    "duration": 21,
    "start_time": "2022-02-18T11:36:01.794Z"
   },
   {
    "duration": 14,
    "start_time": "2022-02-18T11:36:01.975Z"
   },
   {
    "duration": 47,
    "start_time": "2022-02-18T11:36:02.137Z"
   },
   {
    "duration": 3,
    "start_time": "2022-02-18T11:36:02.468Z"
   },
   {
    "duration": 5,
    "start_time": "2022-02-18T11:36:02.791Z"
   },
   {
    "duration": 27,
    "start_time": "2022-02-18T11:36:02.991Z"
   },
   {
    "duration": 32,
    "start_time": "2022-02-18T11:36:03.139Z"
   },
   {
    "duration": 3,
    "start_time": "2022-02-18T11:36:03.484Z"
   },
   {
    "duration": 8,
    "start_time": "2022-02-18T11:36:03.645Z"
   },
   {
    "duration": 4,
    "start_time": "2022-02-18T11:36:03.821Z"
   },
   {
    "duration": 43,
    "start_time": "2022-02-18T11:36:04.011Z"
   },
   {
    "duration": 9,
    "start_time": "2022-02-18T11:36:04.193Z"
   },
   {
    "duration": 34,
    "start_time": "2022-02-18T11:36:05.488Z"
   },
   {
    "duration": 3,
    "start_time": "2022-02-18T11:36:06.887Z"
   },
   {
    "duration": 430,
    "start_time": "2022-02-18T11:36:22.354Z"
   },
   {
    "duration": 311,
    "start_time": "2022-02-18T11:38:54.459Z"
   },
   {
    "duration": 759,
    "start_time": "2022-02-18T11:39:22.871Z"
   },
   {
    "duration": 62,
    "start_time": "2022-02-18T11:39:23.633Z"
   },
   {
    "duration": 57,
    "start_time": "2022-02-18T11:39:23.697Z"
   },
   {
    "duration": 3,
    "start_time": "2022-02-18T11:39:23.908Z"
   },
   {
    "duration": 24,
    "start_time": "2022-02-18T11:39:24.119Z"
   },
   {
    "duration": 24,
    "start_time": "2022-02-18T11:39:24.338Z"
   },
   {
    "duration": 9,
    "start_time": "2022-02-18T11:39:24.531Z"
   },
   {
    "duration": 9,
    "start_time": "2022-02-18T11:39:24.750Z"
   },
   {
    "duration": 11,
    "start_time": "2022-02-18T11:39:24.959Z"
   },
   {
    "duration": 20,
    "start_time": "2022-02-18T11:39:25.141Z"
   },
   {
    "duration": 15,
    "start_time": "2022-02-18T11:39:25.333Z"
   },
   {
    "duration": 3,
    "start_time": "2022-02-18T11:39:25.522Z"
   },
   {
    "duration": 3,
    "start_time": "2022-02-18T11:39:25.698Z"
   },
   {
    "duration": 33,
    "start_time": "2022-02-18T11:39:25.875Z"
   },
   {
    "duration": 4,
    "start_time": "2022-02-18T11:39:26.078Z"
   },
   {
    "duration": 17,
    "start_time": "2022-02-18T11:39:26.386Z"
   },
   {
    "duration": 17,
    "start_time": "2022-02-18T11:39:26.664Z"
   },
   {
    "duration": 13,
    "start_time": "2022-02-18T11:39:26.856Z"
   },
   {
    "duration": 6,
    "start_time": "2022-02-18T11:39:27.073Z"
   },
   {
    "duration": 36,
    "start_time": "2022-02-18T11:39:27.266Z"
   },
   {
    "duration": 16,
    "start_time": "2022-02-18T11:39:27.672Z"
   },
   {
    "duration": 16,
    "start_time": "2022-02-18T11:39:28.285Z"
   },
   {
    "duration": 24,
    "start_time": "2022-02-18T11:39:28.505Z"
   },
   {
    "duration": 57,
    "start_time": "2022-02-18T11:39:28.913Z"
   },
   {
    "duration": 26,
    "start_time": "2022-02-18T11:39:29.080Z"
   },
   {
    "duration": 45,
    "start_time": "2022-02-18T11:39:29.402Z"
   },
   {
    "duration": 50,
    "start_time": "2022-02-18T11:39:29.556Z"
   },
   {
    "duration": 7,
    "start_time": "2022-02-18T11:39:29.731Z"
   },
   {
    "duration": 4,
    "start_time": "2022-02-18T11:39:29.899Z"
   },
   {
    "duration": 4,
    "start_time": "2022-02-18T11:39:30.081Z"
   },
   {
    "duration": 5,
    "start_time": "2022-02-18T11:39:37.015Z"
   },
   {
    "duration": 27,
    "start_time": "2022-02-18T11:39:37.794Z"
   },
   {
    "duration": 8,
    "start_time": "2022-02-18T11:39:38.199Z"
   },
   {
    "duration": 7,
    "start_time": "2022-02-18T11:39:38.415Z"
   },
   {
    "duration": 15,
    "start_time": "2022-02-18T11:39:38.607Z"
   },
   {
    "duration": 15,
    "start_time": "2022-02-18T11:39:38.822Z"
   },
   {
    "duration": 33,
    "start_time": "2022-02-18T11:39:39.037Z"
   },
   {
    "duration": 3,
    "start_time": "2022-02-18T11:39:39.514Z"
   },
   {
    "duration": 5,
    "start_time": "2022-02-18T11:39:40.231Z"
   },
   {
    "duration": 19,
    "start_time": "2022-02-18T11:39:40.483Z"
   },
   {
    "duration": 35,
    "start_time": "2022-02-18T11:39:40.706Z"
   },
   {
    "duration": 4,
    "start_time": "2022-02-18T11:39:41.101Z"
   },
   {
    "duration": 11,
    "start_time": "2022-02-18T11:39:41.286Z"
   },
   {
    "duration": 7,
    "start_time": "2022-02-18T11:39:41.480Z"
   },
   {
    "duration": 63,
    "start_time": "2022-02-18T11:39:41.628Z"
   },
   {
    "duration": 9,
    "start_time": "2022-02-18T11:39:41.880Z"
   },
   {
    "duration": 34,
    "start_time": "2022-02-18T11:39:42.666Z"
   },
   {
    "duration": 4,
    "start_time": "2022-02-18T11:39:43.921Z"
   },
   {
    "duration": 634,
    "start_time": "2022-02-19T19:18:00.718Z"
   },
   {
    "duration": 61,
    "start_time": "2022-02-19T19:18:01.864Z"
   },
   {
    "duration": 24,
    "start_time": "2022-02-19T19:18:02.438Z"
   },
   {
    "duration": 3,
    "start_time": "2022-02-19T19:18:05.159Z"
   },
   {
    "duration": 16,
    "start_time": "2022-02-19T19:18:06.157Z"
   },
   {
    "duration": 15,
    "start_time": "2022-02-19T19:19:14.371Z"
   },
   {
    "duration": 14,
    "start_time": "2022-02-19T19:19:14.731Z"
   },
   {
    "duration": 11,
    "start_time": "2022-02-19T19:20:29.558Z"
   },
   {
    "duration": 6,
    "start_time": "2022-02-19T19:20:33.998Z"
   },
   {
    "duration": 9,
    "start_time": "2022-02-19T19:22:09.208Z"
   },
   {
    "duration": 14,
    "start_time": "2022-02-19T19:22:09.528Z"
   },
   {
    "duration": 9,
    "start_time": "2022-02-19T19:22:10.190Z"
   },
   {
    "duration": 6,
    "start_time": "2022-02-19T19:22:13.029Z"
   },
   {
    "duration": 5,
    "start_time": "2022-02-19T19:23:07.809Z"
   },
   {
    "duration": 2,
    "start_time": "2022-02-19T19:23:14.527Z"
   },
   {
    "duration": 48,
    "start_time": "2022-02-19T19:23:15.224Z"
   },
   {
    "duration": 19,
    "start_time": "2022-02-19T19:23:15.274Z"
   },
   {
    "duration": 1,
    "start_time": "2022-02-19T19:23:15.295Z"
   },
   {
    "duration": 23,
    "start_time": "2022-02-19T19:23:15.298Z"
   },
   {
    "duration": 12,
    "start_time": "2022-02-19T19:23:16.121Z"
   },
   {
    "duration": 6,
    "start_time": "2022-02-19T19:23:16.917Z"
   },
   {
    "duration": 9,
    "start_time": "2022-02-19T19:23:18.825Z"
   },
   {
    "duration": 12,
    "start_time": "2022-02-19T19:23:19.880Z"
   },
   {
    "duration": 8,
    "start_time": "2022-02-19T19:23:20.359Z"
   },
   {
    "duration": 9,
    "start_time": "2022-02-19T19:23:21.083Z"
   },
   {
    "duration": 8,
    "start_time": "2022-02-19T19:23:25.956Z"
   },
   {
    "duration": 9,
    "start_time": "2022-02-19T19:23:32.826Z"
   },
   {
    "duration": 7,
    "start_time": "2022-02-19T19:23:46.948Z"
   },
   {
    "duration": 9,
    "start_time": "2022-02-19T19:23:48.391Z"
   },
   {
    "duration": 2,
    "start_time": "2022-02-19T19:24:16.598Z"
   },
   {
    "duration": 2,
    "start_time": "2022-02-19T19:24:17.001Z"
   },
   {
    "duration": 19,
    "start_time": "2022-02-19T19:24:27.966Z"
   },
   {
    "duration": 3,
    "start_time": "2022-02-19T19:24:47.128Z"
   },
   {
    "duration": 9,
    "start_time": "2022-02-19T19:24:47.476Z"
   },
   {
    "duration": 9,
    "start_time": "2022-02-19T19:24:48.409Z"
   },
   {
    "duration": 3,
    "start_time": "2022-02-19T19:24:52.757Z"
   },
   {
    "duration": 4,
    "start_time": "2022-02-19T19:24:54.528Z"
   },
   {
    "duration": 19,
    "start_time": "2022-02-19T19:24:55.165Z"
   },
   {
    "duration": 14,
    "start_time": "2022-02-19T19:25:16.139Z"
   },
   {
    "duration": 15,
    "start_time": "2022-02-19T19:25:33.155Z"
   },
   {
    "duration": 16,
    "start_time": "2022-02-19T19:25:50.928Z"
   },
   {
    "duration": 14,
    "start_time": "2022-02-19T19:26:01.662Z"
   },
   {
    "duration": 31,
    "start_time": "2022-02-19T19:26:36.025Z"
   },
   {
    "duration": 15,
    "start_time": "2022-02-19T19:26:36.448Z"
   },
   {
    "duration": 4,
    "start_time": "2022-02-19T19:28:17.876Z"
   },
   {
    "duration": 10,
    "start_time": "2022-02-19T19:28:18.097Z"
   },
   {
    "duration": 11,
    "start_time": "2022-02-19T19:28:18.738Z"
   },
   {
    "duration": 2,
    "start_time": "2022-02-19T19:28:25.978Z"
   },
   {
    "duration": 2,
    "start_time": "2022-02-19T19:28:26.966Z"
   },
   {
    "duration": 19,
    "start_time": "2022-02-19T19:28:26.970Z"
   },
   {
    "duration": 6,
    "start_time": "2022-02-19T19:28:26.991Z"
   },
   {
    "duration": 10,
    "start_time": "2022-02-19T19:28:28.590Z"
   },
   {
    "duration": 9,
    "start_time": "2022-02-19T19:28:28.602Z"
   },
   {
    "duration": 3,
    "start_time": "2022-02-19T19:28:28.613Z"
   },
   {
    "duration": 4,
    "start_time": "2022-02-19T19:28:28.618Z"
   },
   {
    "duration": 19,
    "start_time": "2022-02-19T19:28:28.624Z"
   },
   {
    "duration": 10,
    "start_time": "2022-02-19T19:28:29.344Z"
   },
   {
    "duration": 12,
    "start_time": "2022-02-19T19:28:31.059Z"
   },
   {
    "duration": 14,
    "start_time": "2022-02-19T19:28:31.197Z"
   },
   {
    "duration": 31,
    "start_time": "2022-02-19T19:29:03.768Z"
   },
   {
    "duration": 14,
    "start_time": "2022-02-19T19:29:05.354Z"
   },
   {
    "duration": 26,
    "start_time": "2022-02-19T19:29:06.476Z"
   },
   {
    "duration": 39,
    "start_time": "2022-02-19T19:29:08.536Z"
   },
   {
    "duration": 4,
    "start_time": "2022-02-19T19:29:09.380Z"
   },
   {
    "duration": 28,
    "start_time": "2022-02-19T19:32:22.986Z"
   },
   {
    "duration": 5,
    "start_time": "2022-02-19T19:32:23.147Z"
   },
   {
    "duration": 3,
    "start_time": "2022-02-19T19:32:26.939Z"
   },
   {
    "duration": 2,
    "start_time": "2022-02-19T19:32:27.418Z"
   },
   {
    "duration": 3,
    "start_time": "2022-02-19T19:32:28.083Z"
   },
   {
    "duration": 16,
    "start_time": "2022-02-19T19:32:30.138Z"
   },
   {
    "duration": 5,
    "start_time": "2022-02-19T19:32:31.240Z"
   },
   {
    "duration": 5,
    "start_time": "2022-02-19T19:32:48.034Z"
   },
   {
    "duration": 5,
    "start_time": "2022-02-19T19:33:02.154Z"
   },
   {
    "duration": 10,
    "start_time": "2022-02-19T19:33:03.670Z"
   },
   {
    "duration": 9,
    "start_time": "2022-02-19T19:33:49.569Z"
   },
   {
    "duration": 18,
    "start_time": "2022-02-19T19:33:49.892Z"
   },
   {
    "duration": 2,
    "start_time": "2022-02-19T19:34:09.726Z"
   },
   {
    "duration": 10,
    "start_time": "2022-02-19T19:34:21.760Z"
   },
   {
    "duration": 498,
    "start_time": "2022-02-19T19:34:21.975Z"
   },
   {
    "duration": 2,
    "start_time": "2022-02-19T19:34:25.826Z"
   },
   {
    "duration": 4,
    "start_time": "2022-02-19T19:34:33.437Z"
   },
   {
    "duration": 9,
    "start_time": "2022-02-19T19:34:34.796Z"
   },
   {
    "duration": 15,
    "start_time": "2022-02-19T19:34:36.126Z"
   },
   {
    "duration": 2,
    "start_time": "2022-02-19T19:34:37.097Z"
   },
   {
    "duration": 6,
    "start_time": "2022-02-19T19:34:40.514Z"
   },
   {
    "duration": 3,
    "start_time": "2022-02-19T19:34:41.140Z"
   },
   {
    "duration": 22,
    "start_time": "2022-02-19T19:34:41.998Z"
   },
   {
    "duration": 6,
    "start_time": "2022-02-19T19:34:47.522Z"
   },
   {
    "duration": 14,
    "start_time": "2022-02-19T19:34:50.929Z"
   },
   {
    "duration": 4188,
    "start_time": "2022-02-19T19:35:30.140Z"
   },
   {
    "duration": 580,
    "start_time": "2022-02-19T19:36:20.975Z"
   },
   {
    "duration": 48,
    "start_time": "2022-02-19T19:36:21.557Z"
   },
   {
    "duration": 26,
    "start_time": "2022-02-19T19:36:21.607Z"
   },
   {
    "duration": 2,
    "start_time": "2022-02-19T19:36:21.634Z"
   },
   {
    "duration": 21,
    "start_time": "2022-02-19T19:36:21.638Z"
   },
   {
    "duration": 12,
    "start_time": "2022-02-19T19:36:21.661Z"
   },
   {
    "duration": 20,
    "start_time": "2022-02-19T19:36:21.674Z"
   },
   {
    "duration": 7,
    "start_time": "2022-02-19T19:36:21.697Z"
   },
   {
    "duration": 399,
    "start_time": "2022-02-19T19:36:21.706Z"
   },
   {
    "duration": -230,
    "start_time": "2022-02-19T19:36:22.337Z"
   },
   {
    "duration": -233,
    "start_time": "2022-02-19T19:36:22.341Z"
   },
   {
    "duration": -235,
    "start_time": "2022-02-19T19:36:22.344Z"
   },
   {
    "duration": -259,
    "start_time": "2022-02-19T19:36:22.369Z"
   },
   {
    "duration": -262,
    "start_time": "2022-02-19T19:36:22.373Z"
   },
   {
    "duration": -265,
    "start_time": "2022-02-19T19:36:22.377Z"
   },
   {
    "duration": -268,
    "start_time": "2022-02-19T19:36:22.381Z"
   },
   {
    "duration": -271,
    "start_time": "2022-02-19T19:36:22.384Z"
   },
   {
    "duration": -274,
    "start_time": "2022-02-19T19:36:22.389Z"
   },
   {
    "duration": -286,
    "start_time": "2022-02-19T19:36:22.401Z"
   },
   {
    "duration": -302,
    "start_time": "2022-02-19T19:36:22.418Z"
   },
   {
    "duration": -304,
    "start_time": "2022-02-19T19:36:22.422Z"
   },
   {
    "duration": -316,
    "start_time": "2022-02-19T19:36:22.435Z"
   },
   {
    "duration": -321,
    "start_time": "2022-02-19T19:36:22.441Z"
   },
   {
    "duration": -334,
    "start_time": "2022-02-19T19:36:22.455Z"
   },
   {
    "duration": -345,
    "start_time": "2022-02-19T19:36:22.467Z"
   },
   {
    "duration": -348,
    "start_time": "2022-02-19T19:36:22.471Z"
   },
   {
    "duration": -373,
    "start_time": "2022-02-19T19:36:22.497Z"
   },
   {
    "duration": -375,
    "start_time": "2022-02-19T19:36:22.500Z"
   },
   {
    "duration": -379,
    "start_time": "2022-02-19T19:36:22.505Z"
   },
   {
    "duration": -387,
    "start_time": "2022-02-19T19:36:22.514Z"
   },
   {
    "duration": -390,
    "start_time": "2022-02-19T19:36:22.518Z"
   },
   {
    "duration": -392,
    "start_time": "2022-02-19T19:36:22.521Z"
   },
   {
    "duration": -404,
    "start_time": "2022-02-19T19:36:22.533Z"
   },
   {
    "duration": -408,
    "start_time": "2022-02-19T19:36:22.538Z"
   },
   {
    "duration": -418,
    "start_time": "2022-02-19T19:36:22.549Z"
   },
   {
    "duration": -420,
    "start_time": "2022-02-19T19:36:22.552Z"
   },
   {
    "duration": -431,
    "start_time": "2022-02-19T19:36:22.564Z"
   },
   {
    "duration": -433,
    "start_time": "2022-02-19T19:36:22.567Z"
   },
   {
    "duration": -438,
    "start_time": "2022-02-19T19:36:22.573Z"
   },
   {
    "duration": -469,
    "start_time": "2022-02-19T19:36:22.605Z"
   },
   {
    "duration": -479,
    "start_time": "2022-02-19T19:36:22.616Z"
   },
   {
    "duration": -482,
    "start_time": "2022-02-19T19:36:22.619Z"
   },
   {
    "duration": -493,
    "start_time": "2022-02-19T19:36:22.631Z"
   },
   {
    "duration": -495,
    "start_time": "2022-02-19T19:36:22.634Z"
   },
   {
    "duration": -497,
    "start_time": "2022-02-19T19:36:22.637Z"
   },
   {
    "duration": -508,
    "start_time": "2022-02-19T19:36:22.649Z"
   },
   {
    "duration": -510,
    "start_time": "2022-02-19T19:36:22.652Z"
   },
   {
    "duration": -513,
    "start_time": "2022-02-19T19:36:22.656Z"
   },
   {
    "duration": -523,
    "start_time": "2022-02-19T19:36:22.667Z"
   },
   {
    "duration": -527,
    "start_time": "2022-02-19T19:36:22.672Z"
   },
   {
    "duration": -536,
    "start_time": "2022-02-19T19:36:22.682Z"
   },
   {
    "duration": 308,
    "start_time": "2022-02-19T19:37:09.113Z"
   },
   {
    "duration": 2,
    "start_time": "2022-02-19T19:37:16.323Z"
   },
   {
    "duration": 317,
    "start_time": "2022-02-19T19:37:16.502Z"
   },
   {
    "duration": -122,
    "start_time": "2022-02-19T19:37:16.943Z"
   },
   {
    "duration": 2,
    "start_time": "2022-02-19T19:37:41.975Z"
   },
   {
    "duration": 58,
    "start_time": "2022-02-19T19:37:42.322Z"
   },
   {
    "duration": 20,
    "start_time": "2022-02-19T19:37:42.491Z"
   },
   {
    "duration": 3,
    "start_time": "2022-02-19T19:37:42.651Z"
   },
   {
    "duration": 17,
    "start_time": "2022-02-19T19:37:42.773Z"
   },
   {
    "duration": 11,
    "start_time": "2022-02-19T19:37:42.926Z"
   },
   {
    "duration": 6,
    "start_time": "2022-02-19T19:37:43.094Z"
   },
   {
    "duration": 8,
    "start_time": "2022-02-19T19:37:43.314Z"
   },
   {
    "duration": 312,
    "start_time": "2022-02-19T19:37:43.512Z"
   },
   {
    "duration": -148,
    "start_time": "2022-02-19T19:37:43.973Z"
   },
   {
    "duration": -155,
    "start_time": "2022-02-19T19:37:43.981Z"
   },
   {
    "duration": 330,
    "start_time": "2022-02-19T19:37:43.948Z"
   },
   {
    "duration": 12,
    "start_time": "2022-02-19T19:37:44.512Z"
   },
   {
    "duration": 3,
    "start_time": "2022-02-19T19:38:05.426Z"
   },
   {
    "duration": 49,
    "start_time": "2022-02-19T19:38:05.431Z"
   },
   {
    "duration": 24,
    "start_time": "2022-02-19T19:38:05.482Z"
   },
   {
    "duration": 2,
    "start_time": "2022-02-19T19:38:05.755Z"
   },
   {
    "duration": 18,
    "start_time": "2022-02-19T19:38:05.762Z"
   },
   {
    "duration": 13,
    "start_time": "2022-02-19T19:38:06.138Z"
   },
   {
    "duration": 5,
    "start_time": "2022-02-19T19:38:09.332Z"
   },
   {
    "duration": 9,
    "start_time": "2022-02-19T19:38:11.836Z"
   },
   {
    "duration": 321,
    "start_time": "2022-02-19T19:38:14.026Z"
   },
   {
    "duration": 358,
    "start_time": "2022-02-19T19:38:14.767Z"
   },
   {
    "duration": 7,
    "start_time": "2022-02-19T19:38:15.935Z"
   },
   {
    "duration": 12,
    "start_time": "2022-02-19T19:39:00.237Z"
   },
   {
    "duration": 7,
    "start_time": "2022-02-19T19:39:00.417Z"
   },
   {
    "duration": 7,
    "start_time": "2022-02-19T19:39:00.577Z"
   },
   {
    "duration": 356,
    "start_time": "2022-02-19T19:39:01.444Z"
   },
   {
    "duration": 339,
    "start_time": "2022-02-19T19:39:04.172Z"
   },
   {
    "duration": 3,
    "start_time": "2022-02-19T19:39:42.515Z"
   },
   {
    "duration": 44,
    "start_time": "2022-02-19T19:39:42.833Z"
   },
   {
    "duration": 27,
    "start_time": "2022-02-19T19:39:42.984Z"
   },
   {
    "duration": 3,
    "start_time": "2022-02-19T19:39:43.145Z"
   },
   {
    "duration": 16,
    "start_time": "2022-02-19T19:39:43.759Z"
   },
   {
    "duration": 12,
    "start_time": "2022-02-19T19:39:44.365Z"
   },
   {
    "duration": 5,
    "start_time": "2022-02-19T19:39:45.075Z"
   },
   {
    "duration": 7,
    "start_time": "2022-02-19T19:39:45.565Z"
   },
   {
    "duration": 384,
    "start_time": "2022-02-19T19:39:46.055Z"
   },
   {
    "duration": 329,
    "start_time": "2022-02-19T19:39:46.815Z"
   },
   {
    "duration": 8,
    "start_time": "2022-02-19T19:39:47.274Z"
   },
   {
    "duration": 322,
    "start_time": "2022-02-19T19:39:47.555Z"
   },
   {
    "duration": -316,
    "start_time": "2022-02-19T19:39:48.195Z"
   },
   {
    "duration": 2,
    "start_time": "2022-02-19T19:40:44.291Z"
   },
   {
    "duration": 2,
    "start_time": "2022-02-19T19:40:44.765Z"
   },
   {
    "duration": 20,
    "start_time": "2022-02-19T19:40:45.731Z"
   },
   {
    "duration": 2,
    "start_time": "2022-02-19T19:40:46.115Z"
   },
   {
    "duration": 13,
    "start_time": "2022-02-19T19:41:28.345Z"
   },
   {
    "duration": 2,
    "start_time": "2022-02-19T19:41:28.784Z"
   },
   {
    "duration": 3,
    "start_time": "2022-02-19T19:41:55.736Z"
   },
   {
    "duration": 44,
    "start_time": "2022-02-19T19:41:56.054Z"
   },
   {
    "duration": 20,
    "start_time": "2022-02-19T19:41:56.226Z"
   },
   {
    "duration": 2,
    "start_time": "2022-02-19T19:41:56.835Z"
   },
   {
    "duration": 18,
    "start_time": "2022-02-19T19:41:57.345Z"
   },
   {
    "duration": 12,
    "start_time": "2022-02-19T19:41:57.754Z"
   },
   {
    "duration": 10,
    "start_time": "2022-02-19T19:41:58.583Z"
   },
   {
    "duration": 10,
    "start_time": "2022-02-19T19:41:59.743Z"
   },
   {
    "duration": 353,
    "start_time": "2022-02-19T19:42:00.796Z"
   },
   {
    "duration": 325,
    "start_time": "2022-02-19T19:42:46.766Z"
   },
   {
    "duration": 12,
    "start_time": "2022-02-19T19:42:47.135Z"
   },
   {
    "duration": 2,
    "start_time": "2022-02-19T19:42:47.148Z"
   },
   {
    "duration": 2,
    "start_time": "2022-02-19T19:42:47.273Z"
   },
   {
    "duration": 18,
    "start_time": "2022-02-19T19:42:47.503Z"
   },
   {
    "duration": 2,
    "start_time": "2022-02-19T19:42:47.611Z"
   },
   {
    "duration": 11,
    "start_time": "2022-02-19T19:42:47.823Z"
   },
   {
    "duration": 10,
    "start_time": "2022-02-19T19:42:50.926Z"
   },
   {
    "duration": 8,
    "start_time": "2022-02-19T19:42:51.124Z"
   },
   {
    "duration": 4,
    "start_time": "2022-02-19T19:42:51.495Z"
   },
   {
    "duration": 20,
    "start_time": "2022-02-19T19:42:52.005Z"
   },
   {
    "duration": 3,
    "start_time": "2022-02-19T19:43:57.048Z"
   },
   {
    "duration": 44,
    "start_time": "2022-02-19T19:43:57.838Z"
   },
   {
    "duration": 19,
    "start_time": "2022-02-19T19:43:58.217Z"
   },
   {
    "duration": 2,
    "start_time": "2022-02-19T19:43:58.947Z"
   },
   {
    "duration": 20,
    "start_time": "2022-02-19T19:43:59.555Z"
   },
   {
    "duration": 11,
    "start_time": "2022-02-19T19:44:04.058Z"
   },
   {
    "duration": 6,
    "start_time": "2022-02-19T19:44:06.938Z"
   },
   {
    "duration": 9,
    "start_time": "2022-02-19T19:44:41.028Z"
   },
   {
    "duration": 10,
    "start_time": "2022-02-19T19:44:44.608Z"
   },
   {
    "duration": 9,
    "start_time": "2022-02-19T19:44:48.016Z"
   },
   {
    "duration": 9,
    "start_time": "2022-02-19T19:44:59.267Z"
   },
   {
    "duration": 8,
    "start_time": "2022-02-19T19:45:00.065Z"
   },
   {
    "duration": 329,
    "start_time": "2022-02-19T19:45:01.808Z"
   },
   {
    "duration": 6,
    "start_time": "2022-02-19T19:46:29.067Z"
   },
   {
    "duration": 343,
    "start_time": "2022-02-19T19:46:29.254Z"
   },
   {
    "duration": 367,
    "start_time": "2022-02-19T19:46:29.637Z"
   },
   {
    "duration": 318,
    "start_time": "2022-02-19T19:46:56.707Z"
   },
   {
    "duration": -185,
    "start_time": "2022-02-19T19:46:57.212Z"
   },
   {
    "duration": 312,
    "start_time": "2022-02-19T19:46:57.198Z"
   },
   {
    "duration": 16,
    "start_time": "2022-02-19T19:47:35.585Z"
   },
   {
    "duration": 7,
    "start_time": "2022-02-19T19:47:37.176Z"
   },
   {
    "duration": 315,
    "start_time": "2022-02-19T19:47:37.986Z"
   },
   {
    "duration": 362,
    "start_time": "2022-02-19T19:47:39.167Z"
   },
   {
    "duration": 11,
    "start_time": "2022-02-19T19:47:40.647Z"
   },
   {
    "duration": 3,
    "start_time": "2022-02-19T19:48:24.217Z"
   },
   {
    "duration": 45,
    "start_time": "2022-02-19T19:48:24.538Z"
   },
   {
    "duration": 18,
    "start_time": "2022-02-19T19:48:24.689Z"
   },
   {
    "duration": 2,
    "start_time": "2022-02-19T19:48:24.884Z"
   },
   {
    "duration": 16,
    "start_time": "2022-02-19T19:48:25.346Z"
   },
   {
    "duration": 12,
    "start_time": "2022-02-19T19:48:25.966Z"
   },
   {
    "duration": 5,
    "start_time": "2022-02-19T19:48:26.957Z"
   },
   {
    "duration": 13,
    "start_time": "2022-02-19T19:48:28.385Z"
   },
   {
    "duration": 6,
    "start_time": "2022-02-19T19:48:29.587Z"
   },
   {
    "duration": 8,
    "start_time": "2022-02-19T19:48:34.208Z"
   },
   {
    "duration": 14,
    "start_time": "2022-02-19T19:48:35.106Z"
   },
   {
    "duration": 8,
    "start_time": "2022-02-19T19:48:35.718Z"
   },
   {
    "duration": 10,
    "start_time": "2022-02-19T19:48:43.337Z"
   },
   {
    "duration": 2,
    "start_time": "2022-02-19T19:49:31.199Z"
   },
   {
    "duration": 2,
    "start_time": "2022-02-19T19:49:31.468Z"
   },
   {
    "duration": 18,
    "start_time": "2022-02-19T19:49:31.968Z"
   },
   {
    "duration": 2,
    "start_time": "2022-02-19T19:49:32.608Z"
   },
   {
    "duration": 10,
    "start_time": "2022-02-19T19:49:33.338Z"
   },
   {
    "duration": 10,
    "start_time": "2022-02-19T19:49:33.947Z"
   },
   {
    "duration": 12,
    "start_time": "2022-02-19T19:49:35.258Z"
   },
   {
    "duration": 4,
    "start_time": "2022-02-19T19:49:35.517Z"
   },
   {
    "duration": 21,
    "start_time": "2022-02-19T19:49:36.166Z"
   },
   {
    "duration": 11,
    "start_time": "2022-02-19T19:49:39.878Z"
   },
   {
    "duration": 12,
    "start_time": "2022-02-19T19:49:42.688Z"
   },
   {
    "duration": 14,
    "start_time": "2022-02-19T19:49:43.145Z"
   },
   {
    "duration": 28,
    "start_time": "2022-02-19T19:49:44.578Z"
   },
   {
    "duration": 14,
    "start_time": "2022-02-19T19:49:45.325Z"
   },
   {
    "duration": 26,
    "start_time": "2022-02-19T19:49:46.457Z"
   },
   {
    "duration": 27,
    "start_time": "2022-02-19T19:49:47.747Z"
   },
   {
    "duration": 5,
    "start_time": "2022-02-19T19:49:49.307Z"
   },
   {
    "duration": 3,
    "start_time": "2022-02-19T19:49:50.985Z"
   },
   {
    "duration": 3,
    "start_time": "2022-02-19T19:49:51.326Z"
   },
   {
    "duration": 3,
    "start_time": "2022-02-19T19:49:51.511Z"
   },
   {
    "duration": 17,
    "start_time": "2022-02-19T19:49:51.738Z"
   },
   {
    "duration": 5,
    "start_time": "2022-02-19T19:49:51.918Z"
   },
   {
    "duration": 7,
    "start_time": "2022-02-19T19:49:52.348Z"
   },
   {
    "duration": 9,
    "start_time": "2022-02-19T19:49:52.918Z"
   },
   {
    "duration": 10,
    "start_time": "2022-02-19T19:49:53.165Z"
   },
   {
    "duration": 22,
    "start_time": "2022-02-19T19:49:53.427Z"
   },
   {
    "duration": 3,
    "start_time": "2022-02-19T19:50:07.334Z"
   },
   {
    "duration": 5,
    "start_time": "2022-02-19T19:50:07.338Z"
   },
   {
    "duration": 28,
    "start_time": "2022-02-19T19:50:07.345Z"
   },
   {
    "duration": 19,
    "start_time": "2022-02-19T19:50:07.375Z"
   },
   {
    "duration": 2,
    "start_time": "2022-02-19T19:50:07.395Z"
   },
   {
    "duration": 7,
    "start_time": "2022-02-19T19:50:07.399Z"
   },
   {
    "duration": 3,
    "start_time": "2022-02-19T19:50:07.407Z"
   },
   {
    "duration": 22,
    "start_time": "2022-02-19T19:50:07.411Z"
   },
   {
    "duration": 11,
    "start_time": "2022-02-19T19:50:07.447Z"
   },
   {
    "duration": 15,
    "start_time": "2022-02-19T19:50:15.798Z"
   },
   {
    "duration": 620,
    "start_time": "2022-02-19T19:52:34.711Z"
   },
   {
    "duration": 49,
    "start_time": "2022-02-19T19:52:35.333Z"
   },
   {
    "duration": 24,
    "start_time": "2022-02-19T19:52:35.384Z"
   },
   {
    "duration": 3,
    "start_time": "2022-02-19T19:52:35.410Z"
   },
   {
    "duration": 38,
    "start_time": "2022-02-19T19:52:35.414Z"
   },
   {
    "duration": 13,
    "start_time": "2022-02-19T19:52:35.454Z"
   },
   {
    "duration": 5,
    "start_time": "2022-02-19T19:52:35.468Z"
   },
   {
    "duration": 13,
    "start_time": "2022-02-19T19:52:35.474Z"
   },
   {
    "duration": 8,
    "start_time": "2022-02-19T19:52:35.489Z"
   },
   {
    "duration": 7,
    "start_time": "2022-02-19T19:52:35.499Z"
   },
   {
    "duration": 47,
    "start_time": "2022-02-19T19:52:35.507Z"
   },
   {
    "duration": 8,
    "start_time": "2022-02-19T19:52:35.556Z"
   },
   {
    "duration": 10,
    "start_time": "2022-02-19T19:52:35.566Z"
   },
   {
    "duration": 3,
    "start_time": "2022-02-19T19:52:35.577Z"
   },
   {
    "duration": 6,
    "start_time": "2022-02-19T19:52:35.582Z"
   },
   {
    "duration": 19,
    "start_time": "2022-02-19T19:52:35.589Z"
   },
   {
    "duration": 38,
    "start_time": "2022-02-19T19:52:35.609Z"
   },
   {
    "duration": 23,
    "start_time": "2022-02-19T19:52:35.649Z"
   },
   {
    "duration": 10,
    "start_time": "2022-02-19T19:52:35.674Z"
   },
   {
    "duration": 11,
    "start_time": "2022-02-19T19:52:35.686Z"
   },
   {
    "duration": 5,
    "start_time": "2022-02-19T19:52:35.698Z"
   },
   {
    "duration": 23,
    "start_time": "2022-02-19T19:52:35.704Z"
   },
   {
    "duration": 22,
    "start_time": "2022-02-19T19:52:35.728Z"
   },
   {
    "duration": 11,
    "start_time": "2022-02-19T19:52:35.752Z"
   },
   {
    "duration": 18,
    "start_time": "2022-02-19T19:52:35.764Z"
   },
   {
    "duration": 27,
    "start_time": "2022-02-19T19:52:35.783Z"
   },
   {
    "duration": 41,
    "start_time": "2022-02-19T19:52:35.814Z"
   },
   {
    "duration": 25,
    "start_time": "2022-02-19T19:52:35.857Z"
   },
   {
    "duration": 24,
    "start_time": "2022-02-19T19:52:35.884Z"
   },
   {
    "duration": 4,
    "start_time": "2022-02-19T19:52:35.910Z"
   },
   {
    "duration": 3,
    "start_time": "2022-02-19T19:52:35.946Z"
   },
   {
    "duration": 5,
    "start_time": "2022-02-19T19:52:35.950Z"
   },
   {
    "duration": 4,
    "start_time": "2022-02-19T19:52:35.957Z"
   },
   {
    "duration": 20,
    "start_time": "2022-02-19T19:52:35.963Z"
   },
   {
    "duration": 4,
    "start_time": "2022-02-19T19:52:35.984Z"
   },
   {
    "duration": 7,
    "start_time": "2022-02-19T19:52:35.989Z"
   },
   {
    "duration": 8,
    "start_time": "2022-02-19T19:52:35.998Z"
   },
   {
    "duration": 46,
    "start_time": "2022-02-19T19:52:36.008Z"
   },
   {
    "duration": 17,
    "start_time": "2022-02-19T19:52:36.055Z"
   },
   {
    "duration": 6,
    "start_time": "2022-02-19T19:52:36.073Z"
   },
   {
    "duration": 4,
    "start_time": "2022-02-19T19:52:36.081Z"
   },
   {
    "duration": 15,
    "start_time": "2022-02-19T19:52:36.086Z"
   },
   {
    "duration": 45,
    "start_time": "2022-02-19T19:52:36.102Z"
   },
   {
    "duration": 2,
    "start_time": "2022-02-19T19:52:36.148Z"
   },
   {
    "duration": 9,
    "start_time": "2022-02-19T19:52:36.152Z"
   },
   {
    "duration": 4,
    "start_time": "2022-02-19T19:52:36.162Z"
   },
   {
    "duration": 22,
    "start_time": "2022-02-19T19:52:36.167Z"
   },
   {
    "duration": 6,
    "start_time": "2022-02-19T19:52:36.191Z"
   },
   {
    "duration": 48,
    "start_time": "2022-02-19T19:52:36.198Z"
   },
   {
    "duration": 2,
    "start_time": "2022-02-19T19:52:36.247Z"
   },
   {
    "duration": 610,
    "start_time": "2022-02-19T20:00:37.608Z"
   },
   {
    "duration": 57,
    "start_time": "2022-02-19T20:00:38.220Z"
   },
   {
    "duration": 24,
    "start_time": "2022-02-19T20:00:38.279Z"
   },
   {
    "duration": 2,
    "start_time": "2022-02-19T20:00:38.305Z"
   },
   {
    "duration": 39,
    "start_time": "2022-02-19T20:00:38.308Z"
   },
   {
    "duration": 11,
    "start_time": "2022-02-19T20:00:38.348Z"
   },
   {
    "duration": 7,
    "start_time": "2022-02-19T20:00:38.360Z"
   },
   {
    "duration": 8,
    "start_time": "2022-02-19T20:00:38.369Z"
   },
   {
    "duration": 4,
    "start_time": "2022-02-19T20:00:38.379Z"
   },
   {
    "duration": 8,
    "start_time": "2022-02-19T20:00:38.385Z"
   },
   {
    "duration": 52,
    "start_time": "2022-02-19T20:00:38.394Z"
   },
   {
    "duration": 8,
    "start_time": "2022-02-19T20:00:38.448Z"
   },
   {
    "duration": 12,
    "start_time": "2022-02-19T20:00:38.458Z"
   },
   {
    "duration": 3,
    "start_time": "2022-02-19T20:00:38.471Z"
   },
   {
    "duration": 4,
    "start_time": "2022-02-19T20:00:38.476Z"
   },
   {
    "duration": 19,
    "start_time": "2022-02-19T20:00:38.482Z"
   },
   {
    "duration": 4,
    "start_time": "2022-02-19T20:00:38.503Z"
   },
   {
    "duration": 50,
    "start_time": "2022-02-19T20:00:38.508Z"
   },
   {
    "duration": 10,
    "start_time": "2022-02-19T20:00:38.560Z"
   },
   {
    "duration": 9,
    "start_time": "2022-02-19T20:00:38.571Z"
   },
   {
    "duration": 6,
    "start_time": "2022-02-19T20:00:38.581Z"
   },
   {
    "duration": 56,
    "start_time": "2022-02-19T20:00:38.589Z"
   },
   {
    "duration": 10,
    "start_time": "2022-02-19T20:00:38.649Z"
   },
   {
    "duration": 10,
    "start_time": "2022-02-19T20:00:38.661Z"
   },
   {
    "duration": 13,
    "start_time": "2022-02-19T20:00:38.672Z"
   },
   {
    "duration": 27,
    "start_time": "2022-02-19T20:00:38.686Z"
   },
   {
    "duration": 14,
    "start_time": "2022-02-19T20:00:38.745Z"
   },
   {
    "duration": 23,
    "start_time": "2022-02-19T20:00:38.761Z"
   },
   {
    "duration": 24,
    "start_time": "2022-02-19T20:00:38.786Z"
   },
   {
    "duration": 4,
    "start_time": "2022-02-19T20:00:38.812Z"
   },
   {
    "duration": 3,
    "start_time": "2022-02-19T20:00:38.846Z"
   },
   {
    "duration": 4,
    "start_time": "2022-02-19T20:00:38.850Z"
   },
   {
    "duration": 4,
    "start_time": "2022-02-19T20:00:38.855Z"
   },
   {
    "duration": 19,
    "start_time": "2022-02-19T20:00:38.861Z"
   },
   {
    "duration": 4,
    "start_time": "2022-02-19T20:00:38.881Z"
   },
   {
    "duration": 8,
    "start_time": "2022-02-19T20:00:38.887Z"
   },
   {
    "duration": 9,
    "start_time": "2022-02-19T20:00:38.896Z"
   },
   {
    "duration": 46,
    "start_time": "2022-02-19T20:00:38.906Z"
   },
   {
    "duration": 16,
    "start_time": "2022-02-19T20:00:38.954Z"
   },
   {
    "duration": 2,
    "start_time": "2022-02-19T20:00:38.972Z"
   },
   {
    "duration": 8,
    "start_time": "2022-02-19T20:00:38.975Z"
   },
   {
    "duration": 13,
    "start_time": "2022-02-19T20:00:38.985Z"
   },
   {
    "duration": 19,
    "start_time": "2022-02-19T20:00:38.999Z"
   },
   {
    "duration": 35,
    "start_time": "2022-02-19T20:00:39.019Z"
   },
   {
    "duration": 7,
    "start_time": "2022-02-19T20:00:39.056Z"
   },
   {
    "duration": 3,
    "start_time": "2022-02-19T20:00:39.065Z"
   },
   {
    "duration": 30,
    "start_time": "2022-02-19T20:00:39.070Z"
   },
   {
    "duration": 7,
    "start_time": "2022-02-19T20:00:39.102Z"
   },
   {
    "duration": 48,
    "start_time": "2022-02-19T20:00:39.111Z"
   },
   {
    "duration": 2,
    "start_time": "2022-02-19T20:00:39.160Z"
   },
   {
    "duration": 5,
    "start_time": "2022-02-19T20:00:39.164Z"
   },
   {
    "duration": 410,
    "start_time": "2022-02-19T20:00:39.171Z"
   },
   {
    "duration": -423,
    "start_time": "2022-02-19T20:00:40.005Z"
   },
   {
    "duration": -427,
    "start_time": "2022-02-19T20:00:40.010Z"
   },
   {
    "duration": 2,
    "start_time": "2022-02-19T20:00:50.630Z"
   },
   {
    "duration": 30,
    "start_time": "2022-02-19T20:01:26.108Z"
   },
   {
    "duration": 405,
    "start_time": "2022-02-19T20:02:37.789Z"
   },
   {
    "duration": 22,
    "start_time": "2022-02-19T20:02:53.290Z"
   },
   {
    "duration": 13,
    "start_time": "2022-02-19T20:03:05.730Z"
   },
   {
    "duration": 23,
    "start_time": "2022-02-19T20:03:14.359Z"
   },
   {
    "duration": 22,
    "start_time": "2022-02-19T20:03:44.539Z"
   },
   {
    "duration": 395,
    "start_time": "2022-02-19T20:04:17.889Z"
   },
   {
    "duration": 10,
    "start_time": "2022-02-19T20:04:27.831Z"
   },
   {
    "duration": 344,
    "start_time": "2022-02-19T20:04:55.819Z"
   },
   {
    "duration": 20,
    "start_time": "2022-02-19T20:05:18.940Z"
   },
   {
    "duration": 332,
    "start_time": "2022-02-19T20:05:27.918Z"
   },
   {
    "duration": 12,
    "start_time": "2022-02-19T20:05:35.168Z"
   },
   {
    "duration": 346,
    "start_time": "2022-02-19T20:08:15.513Z"
   },
   {
    "duration": 11,
    "start_time": "2022-02-19T20:08:29.306Z"
   },
   {
    "duration": 10,
    "start_time": "2022-02-19T20:08:43.149Z"
   },
   {
    "duration": 11,
    "start_time": "2022-02-19T20:08:50.030Z"
   },
   {
    "duration": 20,
    "start_time": "2022-02-19T20:10:13.490Z"
   },
   {
    "duration": 32,
    "start_time": "2022-02-19T20:10:25.340Z"
   },
   {
    "duration": 20,
    "start_time": "2022-02-19T20:10:35.932Z"
   },
   {
    "duration": 21,
    "start_time": "2022-02-19T20:10:36.123Z"
   },
   {
    "duration": 29,
    "start_time": "2022-02-19T20:12:50.072Z"
   },
   {
    "duration": 20,
    "start_time": "2022-02-19T20:12:53.950Z"
   },
   {
    "duration": 2,
    "start_time": "2022-02-19T20:14:57.238Z"
   },
   {
    "duration": 333,
    "start_time": "2022-02-19T20:15:59.539Z"
   },
   {
    "duration": 21,
    "start_time": "2022-02-19T20:16:01.570Z"
   },
   {
    "duration": 22,
    "start_time": "2022-02-19T20:16:19.221Z"
   },
   {
    "duration": 20,
    "start_time": "2022-02-19T20:16:29.409Z"
   },
   {
    "duration": 321,
    "start_time": "2022-02-19T20:17:19.949Z"
   },
   {
    "duration": 8,
    "start_time": "2022-02-19T20:17:25.837Z"
   },
   {
    "duration": 8,
    "start_time": "2022-02-19T20:20:11.980Z"
   },
   {
    "duration": 387,
    "start_time": "2022-02-19T20:20:26.859Z"
   },
   {
    "duration": 24,
    "start_time": "2022-02-19T20:20:55.150Z"
   },
   {
    "duration": 7,
    "start_time": "2022-02-19T20:21:11.349Z"
   },
   {
    "duration": 9,
    "start_time": "2022-02-19T20:25:32.259Z"
   },
   {
    "duration": 108,
    "start_time": "2022-02-19T20:26:18.915Z"
   },
   {
    "duration": 5,
    "start_time": "2022-02-19T20:26:27.629Z"
   },
   {
    "duration": 5,
    "start_time": "2022-02-19T20:26:31.618Z"
   },
   {
    "duration": 5,
    "start_time": "2022-02-19T20:26:55.819Z"
   },
   {
    "duration": 4,
    "start_time": "2022-02-19T20:26:56.547Z"
   },
   {
    "duration": 4,
    "start_time": "2022-02-19T20:26:56.939Z"
   },
   {
    "duration": 15,
    "start_time": "2022-02-19T20:26:57.518Z"
   },
   {
    "duration": 3,
    "start_time": "2022-02-19T20:27:12.033Z"
   },
   {
    "duration": 63,
    "start_time": "2022-02-19T20:27:12.038Z"
   },
   {
    "duration": 30,
    "start_time": "2022-02-19T20:27:12.104Z"
   },
   {
    "duration": 2,
    "start_time": "2022-02-19T20:27:12.479Z"
   },
   {
    "duration": 17,
    "start_time": "2022-02-19T20:27:12.817Z"
   },
   {
    "duration": 12,
    "start_time": "2022-02-19T20:27:13.019Z"
   },
   {
    "duration": 6,
    "start_time": "2022-02-19T20:27:13.189Z"
   },
   {
    "duration": 9,
    "start_time": "2022-02-19T20:27:13.361Z"
   },
   {
    "duration": 6,
    "start_time": "2022-02-19T20:27:13.521Z"
   },
   {
    "duration": 8,
    "start_time": "2022-02-19T20:27:13.710Z"
   },
   {
    "duration": 17,
    "start_time": "2022-02-19T20:27:13.894Z"
   },
   {
    "duration": 10,
    "start_time": "2022-02-19T20:27:14.106Z"
   },
   {
    "duration": 15,
    "start_time": "2022-02-19T20:27:14.300Z"
   },
   {
    "duration": 3,
    "start_time": "2022-02-19T20:27:14.430Z"
   },
   {
    "duration": 3,
    "start_time": "2022-02-19T20:27:14.859Z"
   },
   {
    "duration": 17,
    "start_time": "2022-02-19T20:27:15.040Z"
   },
   {
    "duration": 2,
    "start_time": "2022-02-19T20:27:15.277Z"
   },
   {
    "duration": 11,
    "start_time": "2022-02-19T20:27:15.508Z"
   },
   {
    "duration": 6,
    "start_time": "2022-02-19T20:27:15.669Z"
   },
   {
    "duration": 8,
    "start_time": "2022-02-19T20:27:15.988Z"
   },
   {
    "duration": 4,
    "start_time": "2022-02-19T20:27:16.340Z"
   },
   {
    "duration": 20,
    "start_time": "2022-02-19T20:27:16.592Z"
   },
   {
    "duration": 11,
    "start_time": "2022-02-19T20:27:17.021Z"
   },
   {
    "duration": 12,
    "start_time": "2022-02-19T20:27:18.047Z"
   },
   {
    "duration": 15,
    "start_time": "2022-02-19T20:27:18.300Z"
   },
   {
    "duration": 29,
    "start_time": "2022-02-19T20:27:19.286Z"
   },
   {
    "duration": 15,
    "start_time": "2022-02-19T20:27:19.519Z"
   },
   {
    "duration": 26,
    "start_time": "2022-02-19T20:27:19.820Z"
   },
   {
    "duration": 28,
    "start_time": "2022-02-19T20:27:20.379Z"
   },
   {
    "duration": 4,
    "start_time": "2022-02-19T20:27:20.660Z"
   },
   {
    "duration": 3,
    "start_time": "2022-02-19T20:27:21.077Z"
   },
   {
    "duration": 3,
    "start_time": "2022-02-19T20:27:21.369Z"
   },
   {
    "duration": 3,
    "start_time": "2022-02-19T20:27:21.748Z"
   },
   {
    "duration": 17,
    "start_time": "2022-02-19T20:27:21.928Z"
   },
   {
    "duration": 5,
    "start_time": "2022-02-19T20:27:22.170Z"
   },
   {
    "duration": 5,
    "start_time": "2022-02-19T20:27:22.558Z"
   },
   {
    "duration": 10,
    "start_time": "2022-02-19T20:27:22.837Z"
   },
   {
    "duration": 9,
    "start_time": "2022-02-19T20:27:23.785Z"
   },
   {
    "duration": 18,
    "start_time": "2022-02-19T20:27:24.237Z"
   },
   {
    "duration": 3,
    "start_time": "2022-02-19T20:27:25.720Z"
   },
   {
    "duration": 3,
    "start_time": "2022-02-19T20:27:26.611Z"
   },
   {
    "duration": 8,
    "start_time": "2022-02-19T20:27:26.819Z"
   },
   {
    "duration": 16,
    "start_time": "2022-02-19T20:27:27.589Z"
   },
   {
    "duration": 3,
    "start_time": "2022-02-19T20:27:28.509Z"
   },
   {
    "duration": 6,
    "start_time": "2022-02-19T20:27:28.891Z"
   },
   {
    "duration": 3,
    "start_time": "2022-02-19T20:27:29.069Z"
   },
   {
    "duration": 23,
    "start_time": "2022-02-19T20:27:29.891Z"
   },
   {
    "duration": 7,
    "start_time": "2022-02-19T20:27:30.069Z"
   },
   {
    "duration": 14,
    "start_time": "2022-02-19T20:29:43.889Z"
   },
   {
    "duration": 6,
    "start_time": "2022-02-19T20:30:07.429Z"
   },
   {
    "duration": 7,
    "start_time": "2022-02-19T20:30:19.339Z"
   },
   {
    "duration": 7,
    "start_time": "2022-02-19T20:30:29.259Z"
   },
   {
    "duration": 885,
    "start_time": "2022-02-20T14:19:11.816Z"
   },
   {
    "duration": 79,
    "start_time": "2022-02-20T14:19:12.703Z"
   },
   {
    "duration": 44,
    "start_time": "2022-02-20T14:19:12.785Z"
   },
   {
    "duration": 3,
    "start_time": "2022-02-20T14:19:12.832Z"
   },
   {
    "duration": 24,
    "start_time": "2022-02-20T14:19:12.894Z"
   },
   {
    "duration": 20,
    "start_time": "2022-02-20T14:19:13.105Z"
   },
   {
    "duration": 10,
    "start_time": "2022-02-20T14:19:13.336Z"
   },
   {
    "duration": 13,
    "start_time": "2022-02-20T14:19:13.533Z"
   },
   {
    "duration": 8,
    "start_time": "2022-02-20T14:19:13.746Z"
   },
   {
    "duration": 13,
    "start_time": "2022-02-20T14:19:13.918Z"
   },
   {
    "duration": 20,
    "start_time": "2022-02-20T14:19:14.118Z"
   },
   {
    "duration": 11,
    "start_time": "2022-02-20T14:19:14.275Z"
   },
   {
    "duration": 15,
    "start_time": "2022-02-20T14:19:14.459Z"
   },
   {
    "duration": 3,
    "start_time": "2022-02-20T14:19:14.642Z"
   },
   {
    "duration": 3,
    "start_time": "2022-02-20T14:19:14.822Z"
   },
   {
    "duration": 39,
    "start_time": "2022-02-20T14:19:14.982Z"
   },
   {
    "duration": 4,
    "start_time": "2022-02-20T14:19:15.184Z"
   },
   {
    "duration": 17,
    "start_time": "2022-02-20T14:19:15.384Z"
   },
   {
    "duration": 9,
    "start_time": "2022-02-20T14:19:15.550Z"
   },
   {
    "duration": 13,
    "start_time": "2022-02-20T14:19:15.735Z"
   },
   {
    "duration": 6,
    "start_time": "2022-02-20T14:19:15.910Z"
   },
   {
    "duration": 35,
    "start_time": "2022-02-20T14:19:16.088Z"
   },
   {
    "duration": 16,
    "start_time": "2022-02-20T14:19:16.418Z"
   },
   {
    "duration": 17,
    "start_time": "2022-02-20T14:19:16.781Z"
   },
   {
    "duration": 23,
    "start_time": "2022-02-20T14:19:16.938Z"
   },
   {
    "duration": 51,
    "start_time": "2022-02-20T14:19:17.320Z"
   },
   {
    "duration": 25,
    "start_time": "2022-02-20T14:19:17.468Z"
   },
   {
    "duration": 42,
    "start_time": "2022-02-20T14:19:17.639Z"
   },
   {
    "duration": 48,
    "start_time": "2022-02-20T14:19:17.805Z"
   },
   {
    "duration": 7,
    "start_time": "2022-02-20T14:19:18.003Z"
   },
   {
    "duration": 4,
    "start_time": "2022-02-20T14:19:18.150Z"
   },
   {
    "duration": 5,
    "start_time": "2022-02-20T14:19:18.335Z"
   },
   {
    "duration": 5,
    "start_time": "2022-02-20T14:19:18.502Z"
   },
   {
    "duration": 28,
    "start_time": "2022-02-20T14:19:18.679Z"
   },
   {
    "duration": 7,
    "start_time": "2022-02-20T14:19:18.850Z"
   },
   {
    "duration": 7,
    "start_time": "2022-02-20T14:19:19.023Z"
   },
   {
    "duration": 15,
    "start_time": "2022-02-20T14:19:19.210Z"
   },
   {
    "duration": 14,
    "start_time": "2022-02-20T14:19:19.392Z"
   },
   {
    "duration": 27,
    "start_time": "2022-02-20T14:19:19.571Z"
   },
   {
    "duration": 3,
    "start_time": "2022-02-20T14:19:19.952Z"
   },
   {
    "duration": 5,
    "start_time": "2022-02-20T14:19:20.312Z"
   },
   {
    "duration": 15,
    "start_time": "2022-02-20T14:19:20.510Z"
   },
   {
    "duration": 29,
    "start_time": "2022-02-20T14:19:20.713Z"
   },
   {
    "duration": 3,
    "start_time": "2022-02-20T14:19:21.107Z"
   },
   {
    "duration": 9,
    "start_time": "2022-02-20T14:19:21.298Z"
   },
   {
    "duration": 4,
    "start_time": "2022-02-20T14:19:21.502Z"
   },
   {
    "duration": 39,
    "start_time": "2022-02-20T14:19:21.704Z"
   },
   {
    "duration": 11,
    "start_time": "2022-02-20T14:19:22.010Z"
   },
   {
    "duration": 24,
    "start_time": "2022-02-20T14:19:22.722Z"
   },
   {
    "duration": 10,
    "start_time": "2022-02-20T14:19:23.814Z"
   },
   {
    "duration": 3,
    "start_time": "2022-02-20T14:19:23.978Z"
   },
   {
    "duration": 3,
    "start_time": "2022-02-20T14:19:24.156Z"
   },
   {
    "duration": 15,
    "start_time": "2022-02-20T14:19:25.572Z"
   },
   {
    "duration": 33,
    "start_time": "2022-02-20T14:19:25.775Z"
   },
   {
    "duration": 33,
    "start_time": "2022-02-20T14:19:26.044Z"
   },
   {
    "duration": 13,
    "start_time": "2022-02-20T14:19:27.014Z"
   },
   {
    "duration": 4,
    "start_time": "2022-02-20T14:19:48.841Z"
   },
   {
    "duration": 12,
    "start_time": "2022-02-20T14:22:08.717Z"
   },
   {
    "duration": 548,
    "start_time": "2022-02-20T14:22:20.215Z"
   },
   {
    "duration": 4,
    "start_time": "2022-02-20T14:22:40.582Z"
   },
   {
    "duration": 66,
    "start_time": "2022-02-20T14:22:40.589Z"
   },
   {
    "duration": 37,
    "start_time": "2022-02-20T14:22:40.657Z"
   },
   {
    "duration": 11,
    "start_time": "2022-02-20T14:22:40.724Z"
   },
   {
    "duration": 808,
    "start_time": "2022-02-20T14:24:10.986Z"
   },
   {
    "duration": 70,
    "start_time": "2022-02-20T14:24:11.797Z"
   },
   {
    "duration": 58,
    "start_time": "2022-02-20T14:24:11.871Z"
   },
   {
    "duration": 3,
    "start_time": "2022-02-20T14:24:11.933Z"
   },
   {
    "duration": 29,
    "start_time": "2022-02-20T14:24:11.938Z"
   },
   {
    "duration": 43,
    "start_time": "2022-02-20T14:24:11.969Z"
   },
   {
    "duration": 7,
    "start_time": "2022-02-20T14:24:12.015Z"
   },
   {
    "duration": 15,
    "start_time": "2022-02-20T14:24:12.026Z"
   },
   {
    "duration": 7,
    "start_time": "2022-02-20T14:24:12.044Z"
   },
   {
    "duration": 11,
    "start_time": "2022-02-20T14:24:12.053Z"
   },
   {
    "duration": 60,
    "start_time": "2022-02-20T14:24:12.067Z"
   },
   {
    "duration": 10,
    "start_time": "2022-02-20T14:24:12.130Z"
   },
   {
    "duration": 15,
    "start_time": "2022-02-20T14:24:12.142Z"
   },
   {
    "duration": 3,
    "start_time": "2022-02-20T14:24:12.160Z"
   },
   {
    "duration": 44,
    "start_time": "2022-02-20T14:24:12.166Z"
   },
   {
    "duration": 33,
    "start_time": "2022-02-20T14:24:12.213Z"
   },
   {
    "duration": 4,
    "start_time": "2022-02-20T14:24:12.248Z"
   },
   {
    "duration": 21,
    "start_time": "2022-02-20T14:24:12.254Z"
   },
   {
    "duration": 9,
    "start_time": "2022-02-20T14:24:12.310Z"
   },
   {
    "duration": 14,
    "start_time": "2022-02-20T14:24:12.321Z"
   },
   {
    "duration": 5,
    "start_time": "2022-02-20T14:24:12.338Z"
   },
   {
    "duration": 36,
    "start_time": "2022-02-20T14:24:12.346Z"
   },
   {
    "duration": 16,
    "start_time": "2022-02-20T14:24:12.415Z"
   },
   {
    "duration": 15,
    "start_time": "2022-02-20T14:24:12.434Z"
   },
   {
    "duration": 20,
    "start_time": "2022-02-20T14:24:12.452Z"
   },
   {
    "duration": 82,
    "start_time": "2022-02-20T14:24:12.475Z"
   },
   {
    "duration": 22,
    "start_time": "2022-02-20T14:24:12.560Z"
   },
   {
    "duration": 65,
    "start_time": "2022-02-20T14:24:12.585Z"
   },
   {
    "duration": 60,
    "start_time": "2022-02-20T14:24:12.653Z"
   },
   {
    "duration": 6,
    "start_time": "2022-02-20T14:24:12.715Z"
   },
   {
    "duration": 5,
    "start_time": "2022-02-20T14:24:12.724Z"
   },
   {
    "duration": 5,
    "start_time": "2022-02-20T14:24:12.731Z"
   },
   {
    "duration": 9,
    "start_time": "2022-02-20T14:24:12.738Z"
   },
   {
    "duration": 66,
    "start_time": "2022-02-20T14:24:12.750Z"
   },
   {
    "duration": 7,
    "start_time": "2022-02-20T14:24:12.819Z"
   },
   {
    "duration": 9,
    "start_time": "2022-02-20T14:24:12.828Z"
   },
   {
    "duration": 15,
    "start_time": "2022-02-20T14:24:12.840Z"
   },
   {
    "duration": 53,
    "start_time": "2022-02-20T14:24:12.858Z"
   },
   {
    "duration": 31,
    "start_time": "2022-02-20T14:24:12.914Z"
   },
   {
    "duration": 4,
    "start_time": "2022-02-20T14:24:12.947Z"
   },
   {
    "duration": 8,
    "start_time": "2022-02-20T14:24:12.953Z"
   },
   {
    "duration": 48,
    "start_time": "2022-02-20T14:24:12.963Z"
   },
   {
    "duration": 33,
    "start_time": "2022-02-20T14:24:13.014Z"
   },
   {
    "duration": 4,
    "start_time": "2022-02-20T14:24:13.050Z"
   },
   {
    "duration": 13,
    "start_time": "2022-02-20T14:24:13.057Z"
   },
   {
    "duration": 42,
    "start_time": "2022-02-20T14:24:13.073Z"
   },
   {
    "duration": 39,
    "start_time": "2022-02-20T14:24:13.118Z"
   },
   {
    "duration": 10,
    "start_time": "2022-02-20T14:24:13.160Z"
   },
   {
    "duration": 58,
    "start_time": "2022-02-20T14:24:13.172Z"
   },
   {
    "duration": 11,
    "start_time": "2022-02-20T14:24:13.232Z"
   },
   {
    "duration": 5,
    "start_time": "2022-02-20T14:24:13.246Z"
   },
   {
    "duration": 5,
    "start_time": "2022-02-20T14:24:13.254Z"
   },
   {
    "duration": 67,
    "start_time": "2022-02-20T14:24:13.262Z"
   },
   {
    "duration": 39,
    "start_time": "2022-02-20T14:24:13.331Z"
   },
   {
    "duration": 11,
    "start_time": "2022-02-20T14:24:13.372Z"
   },
   {
    "duration": 14,
    "start_time": "2022-02-20T14:33:14.287Z"
   },
   {
    "duration": 29,
    "start_time": "2022-02-20T14:33:19.668Z"
   },
   {
    "duration": 16,
    "start_time": "2022-02-20T14:35:55.224Z"
   },
   {
    "duration": 32,
    "start_time": "2022-02-20T14:36:24.838Z"
   },
   {
    "duration": 12,
    "start_time": "2022-02-20T14:36:55.421Z"
   },
   {
    "duration": 10,
    "start_time": "2022-02-20T14:38:56.351Z"
   },
   {
    "duration": 10,
    "start_time": "2022-02-20T14:45:13.036Z"
   },
   {
    "duration": 32,
    "start_time": "2022-02-20T14:47:39.725Z"
   },
   {
    "duration": 43,
    "start_time": "2022-02-20T14:47:45.037Z"
   },
   {
    "duration": 68,
    "start_time": "2022-02-20T14:48:11.265Z"
   },
   {
    "duration": 3,
    "start_time": "2022-02-20T14:49:00.819Z"
   },
   {
    "duration": 18,
    "start_time": "2022-02-20T14:49:38.494Z"
   },
   {
    "duration": 825,
    "start_time": "2022-02-20T14:50:54.195Z"
   },
   {
    "duration": 71,
    "start_time": "2022-02-20T14:50:55.023Z"
   },
   {
    "duration": 46,
    "start_time": "2022-02-20T14:50:55.098Z"
   },
   {
    "duration": 3,
    "start_time": "2022-02-20T14:50:55.147Z"
   },
   {
    "duration": 26,
    "start_time": "2022-02-20T14:50:55.152Z"
   },
   {
    "duration": 21,
    "start_time": "2022-02-20T14:50:55.211Z"
   },
   {
    "duration": 8,
    "start_time": "2022-02-20T14:50:55.234Z"
   },
   {
    "duration": 12,
    "start_time": "2022-02-20T14:50:55.246Z"
   },
   {
    "duration": 50,
    "start_time": "2022-02-20T14:50:55.262Z"
   },
   {
    "duration": 12,
    "start_time": "2022-02-20T14:50:55.315Z"
   },
   {
    "duration": 18,
    "start_time": "2022-02-20T14:50:55.330Z"
   },
   {
    "duration": 11,
    "start_time": "2022-02-20T14:50:55.351Z"
   },
   {
    "duration": 51,
    "start_time": "2022-02-20T14:50:55.365Z"
   },
   {
    "duration": 3,
    "start_time": "2022-02-20T14:50:55.419Z"
   },
   {
    "duration": 7,
    "start_time": "2022-02-20T14:50:55.424Z"
   },
   {
    "duration": 35,
    "start_time": "2022-02-20T14:50:55.433Z"
   },
   {
    "duration": 3,
    "start_time": "2022-02-20T14:50:55.470Z"
   },
   {
    "duration": 52,
    "start_time": "2022-02-20T14:50:55.476Z"
   },
   {
    "duration": 8,
    "start_time": "2022-02-20T14:50:55.530Z"
   },
   {
    "duration": 17,
    "start_time": "2022-02-20T14:50:55.541Z"
   },
   {
    "duration": 51,
    "start_time": "2022-02-20T14:50:55.560Z"
   },
   {
    "duration": 39,
    "start_time": "2022-02-20T14:50:55.613Z"
   },
   {
    "duration": 15,
    "start_time": "2022-02-20T14:50:55.658Z"
   },
   {
    "duration": 49,
    "start_time": "2022-02-20T14:50:55.677Z"
   },
   {
    "duration": 22,
    "start_time": "2022-02-20T14:50:55.728Z"
   },
   {
    "duration": 78,
    "start_time": "2022-02-20T14:50:55.752Z"
   },
   {
    "duration": 22,
    "start_time": "2022-02-20T14:50:55.833Z"
   },
   {
    "duration": 63,
    "start_time": "2022-02-20T14:50:55.858Z"
   },
   {
    "duration": 44,
    "start_time": "2022-02-20T14:50:55.923Z"
   },
   {
    "duration": 7,
    "start_time": "2022-02-20T14:50:55.970Z"
   },
   {
    "duration": 33,
    "start_time": "2022-02-20T14:50:55.980Z"
   },
   {
    "duration": 6,
    "start_time": "2022-02-20T14:50:56.016Z"
   },
   {
    "duration": 6,
    "start_time": "2022-02-20T14:50:56.025Z"
   },
   {
    "duration": 34,
    "start_time": "2022-02-20T14:50:56.034Z"
   },
   {
    "duration": 8,
    "start_time": "2022-02-20T14:50:56.070Z"
   },
   {
    "duration": 8,
    "start_time": "2022-02-20T14:50:56.112Z"
   },
   {
    "duration": 16,
    "start_time": "2022-02-20T14:50:56.123Z"
   },
   {
    "duration": 25,
    "start_time": "2022-02-20T14:50:56.142Z"
   },
   {
    "duration": 64,
    "start_time": "2022-02-20T14:50:56.170Z"
   },
   {
    "duration": 3,
    "start_time": "2022-02-20T14:50:56.237Z"
   },
   {
    "duration": 7,
    "start_time": "2022-02-20T14:50:56.242Z"
   },
   {
    "duration": 19,
    "start_time": "2022-02-20T14:50:56.251Z"
   },
   {
    "duration": 53,
    "start_time": "2022-02-20T14:50:56.272Z"
   },
   {
    "duration": 3,
    "start_time": "2022-02-20T14:50:56.327Z"
   },
   {
    "duration": 10,
    "start_time": "2022-02-20T14:50:56.332Z"
   },
   {
    "duration": 5,
    "start_time": "2022-02-20T14:50:56.344Z"
   },
   {
    "duration": 70,
    "start_time": "2022-02-20T14:50:56.351Z"
   },
   {
    "duration": 9,
    "start_time": "2022-02-20T14:50:56.423Z"
   },
   {
    "duration": 15,
    "start_time": "2022-02-20T14:50:56.434Z"
   },
   {
    "duration": 10,
    "start_time": "2022-02-20T14:50:56.451Z"
   },
   {
    "duration": 3,
    "start_time": "2022-02-20T14:50:56.463Z"
   },
   {
    "duration": 49,
    "start_time": "2022-02-20T14:50:56.468Z"
   },
   {
    "duration": 38,
    "start_time": "2022-02-20T14:50:56.520Z"
   },
   {
    "duration": 33,
    "start_time": "2022-02-20T14:50:56.560Z"
   },
   {
    "duration": 12,
    "start_time": "2022-02-20T14:50:56.610Z"
   },
   {
    "duration": 28,
    "start_time": "2022-02-20T14:50:56.624Z"
   },
   {
    "duration": 6,
    "start_time": "2022-02-20T14:50:56.655Z"
   },
   {
    "duration": 12,
    "start_time": "2022-02-20T14:50:56.663Z"
   },
   {
    "duration": 60,
    "start_time": "2022-02-20T14:50:56.677Z"
   },
   {
    "duration": 4,
    "start_time": "2022-02-20T14:50:56.739Z"
   },
   {
    "duration": 20,
    "start_time": "2022-02-20T14:50:56.745Z"
   },
   {
    "duration": 11,
    "start_time": "2022-02-20T14:51:54.632Z"
   },
   {
    "duration": 13,
    "start_time": "2022-02-20T14:52:11.692Z"
   },
   {
    "duration": 14,
    "start_time": "2022-02-20T14:52:25.146Z"
   },
   {
    "duration": 15,
    "start_time": "2022-02-20T14:52:26.132Z"
   },
   {
    "duration": 72,
    "start_time": "2022-02-20T14:52:58.119Z"
   },
   {
    "duration": 29,
    "start_time": "2022-02-20T14:54:14.626Z"
   },
   {
    "duration": 70,
    "start_time": "2022-02-20T14:54:16.040Z"
   },
   {
    "duration": 42,
    "start_time": "2022-02-20T14:54:44.747Z"
   },
   {
    "duration": 23,
    "start_time": "2022-02-20T14:54:54.746Z"
   },
   {
    "duration": 3,
    "start_time": "2022-02-20T14:55:14.767Z"
   },
   {
    "duration": 511,
    "start_time": "2022-02-20T15:01:44.653Z"
   },
   {
    "duration": 23,
    "start_time": "2022-02-20T15:01:45.302Z"
   },
   {
    "duration": 25,
    "start_time": "2022-02-20T15:02:28.416Z"
   },
   {
    "duration": 12,
    "start_time": "2022-02-20T15:03:53.464Z"
   },
   {
    "duration": 53,
    "start_time": "2022-02-20T15:04:24.697Z"
   },
   {
    "duration": 10,
    "start_time": "2022-02-20T15:04:26.867Z"
   },
   {
    "duration": 29,
    "start_time": "2022-02-20T15:04:49.841Z"
   },
   {
    "duration": 25,
    "start_time": "2022-02-20T15:04:50.899Z"
   },
   {
    "duration": 26,
    "start_time": "2022-02-20T15:05:32.091Z"
   },
   {
    "duration": 25,
    "start_time": "2022-02-20T15:05:32.855Z"
   },
   {
    "duration": 31,
    "start_time": "2022-02-20T15:05:45.145Z"
   },
   {
    "duration": 24,
    "start_time": "2022-02-20T15:05:45.179Z"
   },
   {
    "duration": 61,
    "start_time": "2022-02-20T15:06:36.668Z"
   },
   {
    "duration": 37,
    "start_time": "2022-02-20T15:06:37.126Z"
   },
   {
    "duration": 32,
    "start_time": "2022-02-20T15:06:54.021Z"
   },
   {
    "duration": 25,
    "start_time": "2022-02-20T15:06:54.056Z"
   },
   {
    "duration": 25,
    "start_time": "2022-02-20T15:08:02.741Z"
   },
   {
    "duration": 9,
    "start_time": "2022-02-20T15:08:02.769Z"
   },
   {
    "duration": 32,
    "start_time": "2022-02-20T15:08:45.515Z"
   },
   {
    "duration": 15,
    "start_time": "2022-02-20T15:08:45.670Z"
   },
   {
    "duration": 978,
    "start_time": "2022-02-20T15:09:39.808Z"
   },
   {
    "duration": 329,
    "start_time": "2022-02-20T15:09:40.459Z"
   },
   {
    "duration": 28,
    "start_time": "2022-02-20T15:09:54.909Z"
   },
   {
    "duration": 14,
    "start_time": "2022-02-20T15:09:54.940Z"
   },
   {
    "duration": 26,
    "start_time": "2022-02-20T15:10:04.821Z"
   },
   {
    "duration": 9,
    "start_time": "2022-02-20T15:10:04.850Z"
   },
   {
    "duration": 408,
    "start_time": "2022-02-20T15:10:50.750Z"
   },
   {
    "duration": -46,
    "start_time": "2022-02-20T15:10:51.207Z"
   },
   {
    "duration": 26,
    "start_time": "2022-02-20T15:11:03.424Z"
   },
   {
    "duration": 10,
    "start_time": "2022-02-20T15:11:03.556Z"
   },
   {
    "duration": 836,
    "start_time": "2022-02-20T22:16:18.377Z"
   },
   {
    "duration": 70,
    "start_time": "2022-02-20T22:16:19.216Z"
   },
   {
    "duration": 60,
    "start_time": "2022-02-20T22:16:19.290Z"
   },
   {
    "duration": 3,
    "start_time": "2022-02-20T22:16:19.353Z"
   },
   {
    "duration": 26,
    "start_time": "2022-02-20T22:16:19.358Z"
   },
   {
    "duration": 64,
    "start_time": "2022-02-20T22:16:19.386Z"
   },
   {
    "duration": 8,
    "start_time": "2022-02-20T22:16:19.453Z"
   },
   {
    "duration": 17,
    "start_time": "2022-02-20T22:16:19.464Z"
   },
   {
    "duration": 8,
    "start_time": "2022-02-20T22:16:19.484Z"
   },
   {
    "duration": 60,
    "start_time": "2022-02-20T22:16:19.494Z"
   },
   {
    "duration": 19,
    "start_time": "2022-02-20T22:16:19.557Z"
   },
   {
    "duration": 10,
    "start_time": "2022-02-20T22:16:19.579Z"
   },
   {
    "duration": 18,
    "start_time": "2022-02-20T22:16:19.592Z"
   },
   {
    "duration": 39,
    "start_time": "2022-02-20T22:16:19.612Z"
   },
   {
    "duration": 7,
    "start_time": "2022-02-20T22:16:19.654Z"
   },
   {
    "duration": 39,
    "start_time": "2022-02-20T22:16:19.664Z"
   },
   {
    "duration": 4,
    "start_time": "2022-02-20T22:16:19.749Z"
   },
   {
    "duration": 29,
    "start_time": "2022-02-20T22:16:19.755Z"
   },
   {
    "duration": 7,
    "start_time": "2022-02-20T22:16:19.787Z"
   },
   {
    "duration": 18,
    "start_time": "2022-02-20T22:16:19.797Z"
   },
   {
    "duration": 34,
    "start_time": "2022-02-20T22:16:19.817Z"
   },
   {
    "duration": 39,
    "start_time": "2022-02-20T22:16:19.854Z"
   },
   {
    "duration": 16,
    "start_time": "2022-02-20T22:16:19.899Z"
   },
   {
    "duration": 17,
    "start_time": "2022-02-20T22:16:19.950Z"
   },
   {
    "duration": 20,
    "start_time": "2022-02-20T22:16:19.970Z"
   },
   {
    "duration": 85,
    "start_time": "2022-02-20T22:16:19.993Z"
   },
   {
    "duration": 22,
    "start_time": "2022-02-20T22:16:20.080Z"
   },
   {
    "duration": 70,
    "start_time": "2022-02-20T22:16:20.105Z"
   },
   {
    "duration": 43,
    "start_time": "2022-02-20T22:16:20.178Z"
   },
   {
    "duration": 25,
    "start_time": "2022-02-20T22:16:20.223Z"
   },
   {
    "duration": 4,
    "start_time": "2022-02-20T22:16:20.251Z"
   },
   {
    "duration": 12,
    "start_time": "2022-02-20T22:16:20.258Z"
   },
   {
    "duration": 7,
    "start_time": "2022-02-20T22:16:20.273Z"
   },
   {
    "duration": 82,
    "start_time": "2022-02-20T22:16:20.283Z"
   },
   {
    "duration": 9,
    "start_time": "2022-02-20T22:16:20.368Z"
   },
   {
    "duration": 12,
    "start_time": "2022-02-20T22:16:20.379Z"
   },
   {
    "duration": 15,
    "start_time": "2022-02-20T22:16:20.393Z"
   },
   {
    "duration": 50,
    "start_time": "2022-02-20T22:16:20.410Z"
   },
   {
    "duration": 30,
    "start_time": "2022-02-20T22:16:20.463Z"
   },
   {
    "duration": 3,
    "start_time": "2022-02-20T22:16:20.495Z"
   },
   {
    "duration": 48,
    "start_time": "2022-02-20T22:16:20.501Z"
   },
   {
    "duration": 20,
    "start_time": "2022-02-20T22:16:20.552Z"
   },
   {
    "duration": 28,
    "start_time": "2022-02-20T22:16:20.574Z"
   },
   {
    "duration": 3,
    "start_time": "2022-02-20T22:16:20.604Z"
   },
   {
    "duration": 50,
    "start_time": "2022-02-20T22:16:20.610Z"
   },
   {
    "duration": 4,
    "start_time": "2022-02-20T22:16:20.663Z"
   },
   {
    "duration": 42,
    "start_time": "2022-02-20T22:16:20.670Z"
   },
   {
    "duration": 11,
    "start_time": "2022-02-20T22:16:20.747Z"
   },
   {
    "duration": 20,
    "start_time": "2022-02-20T22:16:20.761Z"
   },
   {
    "duration": 13,
    "start_time": "2022-02-20T22:16:20.784Z"
   },
   {
    "duration": 2,
    "start_time": "2022-02-20T22:16:20.800Z"
   },
   {
    "duration": 4,
    "start_time": "2022-02-20T22:16:20.850Z"
   },
   {
    "duration": 45,
    "start_time": "2022-02-20T22:16:20.858Z"
   },
   {
    "duration": 72,
    "start_time": "2022-02-20T22:16:20.906Z"
   },
   {
    "duration": 11,
    "start_time": "2022-02-20T22:16:20.980Z"
   },
   {
    "duration": 68,
    "start_time": "2022-02-20T22:16:20.994Z"
   },
   {
    "duration": 4,
    "start_time": "2022-02-20T22:16:21.064Z"
   },
   {
    "duration": 19,
    "start_time": "2022-02-20T22:16:21.070Z"
   },
   {
    "duration": 17,
    "start_time": "2022-02-20T22:16:21.092Z"
   },
   {
    "duration": 49,
    "start_time": "2022-02-20T22:16:21.111Z"
   },
   {
    "duration": 10,
    "start_time": "2022-02-20T22:16:21.163Z"
   },
   {
    "duration": 11,
    "start_time": "2022-02-20T22:16:21.175Z"
   },
   {
    "duration": 17,
    "start_time": "2022-02-20T22:17:04.963Z"
   },
   {
    "duration": 12,
    "start_time": "2022-02-20T22:17:21.635Z"
   },
   {
    "duration": 25,
    "start_time": "2022-02-20T22:17:21.857Z"
   },
   {
    "duration": 25,
    "start_time": "2022-02-20T22:18:19.711Z"
   },
   {
    "duration": 10,
    "start_time": "2022-02-20T22:18:19.739Z"
   },
   {
    "duration": 21,
    "start_time": "2022-02-20T22:20:19.582Z"
   },
   {
    "duration": 25,
    "start_time": "2022-02-20T22:21:07.370Z"
   },
   {
    "duration": 12,
    "start_time": "2022-02-20T22:21:12.832Z"
   },
   {
    "duration": 23,
    "start_time": "2022-02-20T22:22:25.835Z"
   },
   {
    "duration": 24,
    "start_time": "2022-02-20T22:22:40.269Z"
   },
   {
    "duration": 358,
    "start_time": "2022-02-20T22:22:50.112Z"
   },
   {
    "duration": 11,
    "start_time": "2022-02-20T22:23:01.655Z"
   },
   {
    "duration": 96,
    "start_time": "2022-02-20T22:24:02.919Z"
   },
   {
    "duration": 12,
    "start_time": "2022-02-20T22:24:17.313Z"
   },
   {
    "duration": 11,
    "start_time": "2022-02-20T22:28:44.262Z"
   },
   {
    "duration": 24,
    "start_time": "2022-02-20T22:30:46.308Z"
   },
   {
    "duration": 12,
    "start_time": "2022-02-20T22:30:53.144Z"
   },
   {
    "duration": 32,
    "start_time": "2022-02-20T22:31:11.127Z"
   },
   {
    "duration": 38,
    "start_time": "2022-02-20T22:31:16.846Z"
   },
   {
    "duration": 27,
    "start_time": "2022-02-20T22:31:54.429Z"
   },
   {
    "duration": 42,
    "start_time": "2022-02-20T22:31:54.616Z"
   },
   {
    "duration": 23,
    "start_time": "2022-02-20T22:32:39.852Z"
   },
   {
    "duration": 11,
    "start_time": "2022-02-20T22:32:39.877Z"
   },
   {
    "duration": 7,
    "start_time": "2022-02-20T22:49:05.618Z"
   },
   {
    "duration": 6,
    "start_time": "2022-02-20T22:49:06.134Z"
   },
   {
    "duration": 8,
    "start_time": "2022-02-20T22:49:17.655Z"
   },
   {
    "duration": 8,
    "start_time": "2022-02-20T22:49:17.666Z"
   },
   {
    "duration": 7,
    "start_time": "2022-02-20T22:49:46.490Z"
   },
   {
    "duration": 6,
    "start_time": "2022-02-20T22:49:47.200Z"
   },
   {
    "duration": 5,
    "start_time": "2022-02-20T22:52:51.188Z"
   },
   {
    "duration": 5,
    "start_time": "2022-02-20T22:53:14.656Z"
   },
   {
    "duration": 5,
    "start_time": "2022-02-20T22:53:27.407Z"
   },
   {
    "duration": 6,
    "start_time": "2022-02-20T22:53:27.421Z"
   },
   {
    "duration": 6,
    "start_time": "2022-02-20T22:53:32.913Z"
   },
   {
    "duration": 5,
    "start_time": "2022-02-20T22:57:42.562Z"
   },
   {
    "duration": 5,
    "start_time": "2022-02-20T22:57:52.841Z"
   },
   {
    "duration": 9,
    "start_time": "2022-02-20T22:57:52.848Z"
   },
   {
    "duration": 5,
    "start_time": "2022-02-20T22:59:07.815Z"
   },
   {
    "duration": 11,
    "start_time": "2022-02-20T22:59:07.822Z"
   },
   {
    "duration": 5,
    "start_time": "2022-02-20T23:00:08.057Z"
   },
   {
    "duration": 7,
    "start_time": "2022-02-20T23:00:08.361Z"
   },
   {
    "duration": 575,
    "start_time": "2022-03-03T08:10:09.203Z"
   },
   {
    "duration": 50,
    "start_time": "2022-03-03T08:10:09.781Z"
   },
   {
    "duration": 28,
    "start_time": "2022-03-03T08:10:09.833Z"
   },
   {
    "duration": 3,
    "start_time": "2022-03-03T08:10:09.863Z"
   },
   {
    "duration": 29,
    "start_time": "2022-03-03T08:10:09.867Z"
   },
   {
    "duration": 13,
    "start_time": "2022-03-03T08:10:09.898Z"
   },
   {
    "duration": 26,
    "start_time": "2022-03-03T08:10:09.933Z"
   },
   {
    "duration": 23,
    "start_time": "2022-03-03T08:10:09.963Z"
   },
   {
    "duration": 8,
    "start_time": "2022-03-03T08:10:09.989Z"
   },
   {
    "duration": 13,
    "start_time": "2022-03-03T08:10:09.999Z"
   },
   {
    "duration": 15,
    "start_time": "2022-03-03T08:10:10.014Z"
   },
   {
    "duration": 11,
    "start_time": "2022-03-03T08:10:10.031Z"
   },
   {
    "duration": 22,
    "start_time": "2022-03-03T08:10:10.044Z"
   },
   {
    "duration": 4,
    "start_time": "2022-03-03T08:10:10.068Z"
   },
   {
    "duration": 9,
    "start_time": "2022-03-03T08:10:10.073Z"
   },
   {
    "duration": 22,
    "start_time": "2022-03-03T08:10:10.083Z"
   },
   {
    "duration": 5,
    "start_time": "2022-03-03T08:10:10.106Z"
   },
   {
    "duration": 26,
    "start_time": "2022-03-03T08:10:10.112Z"
   },
   {
    "duration": 8,
    "start_time": "2022-03-03T08:10:10.140Z"
   },
   {
    "duration": 5,
    "start_time": "2022-03-03T08:10:10.150Z"
   },
   {
    "duration": 6,
    "start_time": "2022-03-03T08:10:10.156Z"
   },
   {
    "duration": 6,
    "start_time": "2022-03-03T08:10:10.163Z"
   },
   {
    "duration": 21,
    "start_time": "2022-03-03T08:10:10.173Z"
   },
   {
    "duration": 12,
    "start_time": "2022-03-03T08:10:10.232Z"
   },
   {
    "duration": 12,
    "start_time": "2022-03-03T08:10:10.246Z"
   },
   {
    "duration": 15,
    "start_time": "2022-03-03T08:10:10.260Z"
   },
   {
    "duration": 60,
    "start_time": "2022-03-03T08:10:10.277Z"
   },
   {
    "duration": 16,
    "start_time": "2022-03-03T08:10:10.339Z"
   },
   {
    "duration": 26,
    "start_time": "2022-03-03T08:10:10.357Z"
   },
   {
    "duration": 57,
    "start_time": "2022-03-03T08:10:10.385Z"
   },
   {
    "duration": 5,
    "start_time": "2022-03-03T08:10:10.444Z"
   },
   {
    "duration": 5,
    "start_time": "2022-03-03T08:10:10.451Z"
   },
   {
    "duration": 5,
    "start_time": "2022-03-03T08:10:10.457Z"
   },
   {
    "duration": 5,
    "start_time": "2022-03-03T08:10:10.464Z"
   },
   {
    "duration": 23,
    "start_time": "2022-03-03T08:10:10.470Z"
   },
   {
    "duration": 5,
    "start_time": "2022-03-03T08:10:10.494Z"
   },
   {
    "duration": 33,
    "start_time": "2022-03-03T08:10:10.501Z"
   },
   {
    "duration": 11,
    "start_time": "2022-03-03T08:10:10.535Z"
   },
   {
    "duration": 13,
    "start_time": "2022-03-03T08:10:10.548Z"
   },
   {
    "duration": 20,
    "start_time": "2022-03-03T08:10:10.562Z"
   },
   {
    "duration": 9,
    "start_time": "2022-03-03T08:10:10.584Z"
   },
   {
    "duration": 39,
    "start_time": "2022-03-03T08:10:10.595Z"
   },
   {
    "duration": 22,
    "start_time": "2022-03-03T08:10:10.636Z"
   },
   {
    "duration": 25,
    "start_time": "2022-03-03T08:10:10.660Z"
   },
   {
    "duration": 9,
    "start_time": "2022-03-03T08:10:10.687Z"
   },
   {
    "duration": 23,
    "start_time": "2022-03-03T08:10:10.698Z"
   },
   {
    "duration": 10,
    "start_time": "2022-03-03T08:10:10.723Z"
   },
   {
    "duration": 28,
    "start_time": "2022-03-03T08:10:10.735Z"
   },
   {
    "duration": 7,
    "start_time": "2022-03-03T08:10:10.765Z"
   },
   {
    "duration": 11,
    "start_time": "2022-03-03T08:10:10.774Z"
   },
   {
    "duration": 8,
    "start_time": "2022-03-03T08:10:10.787Z"
   },
   {
    "duration": 2,
    "start_time": "2022-03-03T08:10:10.797Z"
   },
   {
    "duration": 3,
    "start_time": "2022-03-03T08:10:10.833Z"
   },
   {
    "duration": 26,
    "start_time": "2022-03-03T08:10:10.838Z"
   },
   {
    "duration": 23,
    "start_time": "2022-03-03T08:10:10.866Z"
   },
   {
    "duration": 8,
    "start_time": "2022-03-03T08:10:10.890Z"
   },
   {
    "duration": 45,
    "start_time": "2022-03-03T08:10:10.900Z"
   },
   {
    "duration": 9,
    "start_time": "2022-03-03T08:10:10.946Z"
   },
   {
    "duration": 15,
    "start_time": "2022-03-03T08:10:10.956Z"
   },
   {
    "duration": 18,
    "start_time": "2022-03-03T08:10:10.973Z"
   },
   {
    "duration": 6,
    "start_time": "2022-03-03T08:10:10.993Z"
   },
   {
    "duration": 55,
    "start_time": "2022-03-03T08:10:11.001Z"
   },
   {
    "duration": 8,
    "start_time": "2022-03-03T08:10:11.058Z"
   },
   {
    "duration": 14,
    "start_time": "2022-03-03T08:32:06.428Z"
   },
   {
    "duration": 29,
    "start_time": "2022-03-03T08:45:29.598Z"
   },
   {
    "duration": 8,
    "start_time": "2022-03-03T08:53:42.669Z"
   },
   {
    "duration": 10,
    "start_time": "2022-03-03T08:54:12.702Z"
   },
   {
    "duration": 701,
    "start_time": "2022-03-09T15:25:12.085Z"
   },
   {
    "duration": 4,
    "start_time": "2022-03-09T15:25:17.791Z"
   },
   {
    "duration": 88,
    "start_time": "2022-03-09T15:27:18.557Z"
   },
   {
    "duration": 338,
    "start_time": "2022-03-09T15:28:17.033Z"
   },
   {
    "duration": 4,
    "start_time": "2022-03-09T15:28:20.736Z"
   },
   {
    "duration": 255,
    "start_time": "2022-03-09T15:28:21.649Z"
   },
   {
    "duration": 309,
    "start_time": "2022-03-09T15:28:28.331Z"
   },
   {
    "duration": 3,
    "start_time": "2022-03-09T15:28:33.585Z"
   },
   {
    "duration": 307,
    "start_time": "2022-03-09T15:28:34.322Z"
   },
   {
    "duration": 266,
    "start_time": "2022-03-09T15:28:38.799Z"
   },
   {
    "duration": 83,
    "start_time": "2022-03-09T15:29:16.184Z"
   },
   {
    "duration": 67,
    "start_time": "2022-03-09T15:29:23.684Z"
   },
   {
    "duration": 70,
    "start_time": "2022-03-09T15:29:32.423Z"
   },
   {
    "duration": 81,
    "start_time": "2022-03-09T15:30:07.376Z"
   },
   {
    "duration": 47,
    "start_time": "2022-03-09T15:31:35.147Z"
   },
   {
    "duration": 24,
    "start_time": "2022-03-09T15:31:59.520Z"
   },
   {
    "duration": 67,
    "start_time": "2022-03-09T15:39:14.608Z"
   },
   {
    "duration": 46,
    "start_time": "2022-03-09T15:39:15.067Z"
   },
   {
    "duration": 17,
    "start_time": "2022-03-09T15:39:15.550Z"
   },
   {
    "duration": 68,
    "start_time": "2022-03-09T15:39:25.350Z"
   },
   {
    "duration": 45,
    "start_time": "2022-03-09T15:39:25.931Z"
   },
   {
    "duration": 18,
    "start_time": "2022-03-09T15:51:37.564Z"
   },
   {
    "duration": 53,
    "start_time": "2022-03-09T15:51:41.011Z"
   },
   {
    "duration": 225,
    "start_time": "2022-03-09T15:51:51.739Z"
   },
   {
    "duration": 19,
    "start_time": "2022-03-09T15:51:57.998Z"
   },
   {
    "duration": 18,
    "start_time": "2022-03-09T15:52:12.978Z"
   },
   {
    "duration": 18,
    "start_time": "2022-03-09T15:52:19.106Z"
   },
   {
    "duration": 26,
    "start_time": "2022-03-09T15:52:33.491Z"
   },
   {
    "duration": 257,
    "start_time": "2022-03-09T15:52:47.135Z"
   },
   {
    "duration": 32,
    "start_time": "2022-03-09T15:52:52.164Z"
   },
   {
    "duration": 95,
    "start_time": "2022-03-09T15:53:05.509Z"
   },
   {
    "duration": 236,
    "start_time": "2022-03-09T15:53:13.994Z"
   },
   {
    "duration": 84,
    "start_time": "2022-03-09T15:53:16.690Z"
   },
   {
    "duration": 14,
    "start_time": "2022-03-09T15:53:19.486Z"
   },
   {
    "duration": 13,
    "start_time": "2022-03-09T15:53:25.926Z"
   },
   {
    "duration": 281,
    "start_time": "2022-03-09T15:54:13.548Z"
   },
   {
    "duration": 80,
    "start_time": "2022-03-09T15:54:18.578Z"
   },
   {
    "duration": 247,
    "start_time": "2022-03-09T15:54:21.900Z"
   },
   {
    "duration": 27,
    "start_time": "2022-03-09T15:54:30.127Z"
   },
   {
    "duration": 296,
    "start_time": "2022-03-09T16:04:06.224Z"
   },
   {
    "duration": 240,
    "start_time": "2022-03-09T16:05:39.832Z"
   },
   {
    "duration": 337,
    "start_time": "2022-03-09T16:05:49.179Z"
   },
   {
    "duration": 274,
    "start_time": "2022-03-09T16:07:07.004Z"
   },
   {
    "duration": 233,
    "start_time": "2022-03-09T16:07:12.544Z"
   },
   {
    "duration": 64,
    "start_time": "2022-03-09T16:12:09.848Z"
   },
   {
    "duration": 20,
    "start_time": "2022-03-09T16:12:10.045Z"
   },
   {
    "duration": 47,
    "start_time": "2022-03-09T16:12:10.593Z"
   },
   {
    "duration": 17,
    "start_time": "2022-03-09T16:12:11.956Z"
   },
   {
    "duration": 13,
    "start_time": "2022-03-09T16:12:12.296Z"
   },
   {
    "duration": 52,
    "start_time": "2022-03-09T16:12:55.883Z"
   },
   {
    "duration": 19,
    "start_time": "2022-03-09T16:12:56.038Z"
   },
   {
    "duration": 83,
    "start_time": "2022-03-09T16:13:32.749Z"
   },
   {
    "duration": 34,
    "start_time": "2022-03-09T16:13:32.836Z"
   },
   {
    "duration": 88,
    "start_time": "2022-03-09T16:13:32.876Z"
   },
   {
    "duration": 18,
    "start_time": "2022-03-09T16:13:32.967Z"
   },
   {
    "duration": 15,
    "start_time": "2022-03-09T16:13:33.413Z"
   },
   {
    "duration": 82,
    "start_time": "2022-03-09T16:13:34.367Z"
   },
   {
    "duration": 87,
    "start_time": "2022-03-09T16:14:07.328Z"
   },
   {
    "duration": 25,
    "start_time": "2022-03-09T16:14:29.759Z"
   },
   {
    "duration": 15,
    "start_time": "2022-03-09T16:15:33.339Z"
   },
   {
    "duration": 4,
    "start_time": "2022-03-09T16:16:58.648Z"
   },
   {
    "duration": 77,
    "start_time": "2022-03-09T16:16:59.471Z"
   },
   {
    "duration": 23,
    "start_time": "2022-03-09T16:16:59.894Z"
   },
   {
    "duration": 45,
    "start_time": "2022-03-09T16:17:07.742Z"
   },
   {
    "duration": 3,
    "start_time": "2022-03-09T16:17:58.094Z"
   },
   {
    "duration": 54,
    "start_time": "2022-03-09T16:18:00.466Z"
   },
   {
    "duration": 20,
    "start_time": "2022-03-09T16:18:00.901Z"
   },
   {
    "duration": 46,
    "start_time": "2022-03-09T16:18:03.682Z"
   },
   {
    "duration": 17,
    "start_time": "2022-03-09T16:18:06.035Z"
   },
   {
    "duration": 13,
    "start_time": "2022-03-09T16:18:06.599Z"
   },
   {
    "duration": 54,
    "start_time": "2022-03-09T16:18:08.747Z"
   },
   {
    "duration": 33,
    "start_time": "2022-03-09T16:18:09.366Z"
   },
   {
    "duration": 24,
    "start_time": "2022-03-09T16:18:13.465Z"
   },
   {
    "duration": 29,
    "start_time": "2022-03-09T16:18:13.813Z"
   },
   {
    "duration": 56,
    "start_time": "2022-03-09T16:18:47.244Z"
   },
   {
    "duration": 33,
    "start_time": "2022-03-09T16:18:47.758Z"
   },
   {
    "duration": 23,
    "start_time": "2022-03-09T16:18:50.604Z"
   },
   {
    "duration": 20,
    "start_time": "2022-03-09T16:18:56.489Z"
   },
   {
    "duration": 3,
    "start_time": "2022-03-09T16:22:43.504Z"
   },
   {
    "duration": 97,
    "start_time": "2022-03-09T16:24:59.679Z"
   },
   {
    "duration": 15,
    "start_time": "2022-03-09T16:30:55.713Z"
   },
   {
    "duration": 107,
    "start_time": "2022-03-09T16:33:41.305Z"
   },
   {
    "duration": 276,
    "start_time": "2022-03-09T16:33:50.490Z"
   },
   {
    "duration": 10,
    "start_time": "2022-03-09T16:34:09.813Z"
   },
   {
    "duration": 20,
    "start_time": "2022-03-09T16:34:33.240Z"
   },
   {
    "duration": 33,
    "start_time": "2022-03-09T16:34:40.170Z"
   },
   {
    "duration": 14,
    "start_time": "2022-03-09T16:36:32.630Z"
   },
   {
    "duration": 13,
    "start_time": "2022-03-09T16:36:33.752Z"
   },
   {
    "duration": 3,
    "start_time": "2022-03-09T16:36:47.057Z"
   },
   {
    "duration": 63,
    "start_time": "2022-03-09T16:36:49.080Z"
   },
   {
    "duration": 16,
    "start_time": "2022-03-09T16:36:49.478Z"
   },
   {
    "duration": 49,
    "start_time": "2022-03-09T16:36:49.899Z"
   },
   {
    "duration": 18,
    "start_time": "2022-03-09T16:36:50.160Z"
   },
   {
    "duration": 12,
    "start_time": "2022-03-09T16:36:50.422Z"
   },
   {
    "duration": 54,
    "start_time": "2022-03-09T16:36:50.855Z"
   },
   {
    "duration": 52,
    "start_time": "2022-03-09T16:36:51.031Z"
   },
   {
    "duration": 3,
    "start_time": "2022-03-09T16:36:51.748Z"
   },
   {
    "duration": 23,
    "start_time": "2022-03-09T16:36:52.655Z"
   },
   {
    "duration": 8,
    "start_time": "2022-03-09T16:36:52.914Z"
   },
   {
    "duration": 12,
    "start_time": "2022-03-09T16:36:53.126Z"
   },
   {
    "duration": 8,
    "start_time": "2022-03-09T16:36:53.541Z"
   },
   {
    "duration": 14,
    "start_time": "2022-03-09T16:36:53.992Z"
   },
   {
    "duration": 19,
    "start_time": "2022-03-09T16:36:56.657Z"
   },
   {
    "duration": 319,
    "start_time": "2022-03-09T16:37:04.784Z"
   },
   {
    "duration": 72,
    "start_time": "2022-03-09T16:37:05.034Z"
   },
   {
    "duration": 14,
    "start_time": "2022-03-09T16:37:05.699Z"
   },
   {
    "duration": 14,
    "start_time": "2022-03-09T16:37:09.098Z"
   },
   {
    "duration": 16,
    "start_time": "2022-03-09T16:38:12.329Z"
   },
   {
    "duration": 12,
    "start_time": "2022-03-09T16:38:15.388Z"
   },
   {
    "duration": 4,
    "start_time": "2022-03-09T16:38:15.947Z"
   },
   {
    "duration": 6,
    "start_time": "2022-03-09T16:38:18.896Z"
   },
   {
    "duration": 5,
    "start_time": "2022-03-09T16:38:19.241Z"
   },
   {
    "duration": 35,
    "start_time": "2022-03-09T16:38:19.808Z"
   },
   {
    "duration": 16,
    "start_time": "2022-03-09T16:38:31.505Z"
   },
   {
    "duration": 17,
    "start_time": "2022-03-09T16:38:33.544Z"
   },
   {
    "duration": 25,
    "start_time": "2022-03-09T16:38:34.000Z"
   },
   {
    "duration": 53,
    "start_time": "2022-03-09T16:38:37.202Z"
   },
   {
    "duration": 22,
    "start_time": "2022-03-09T16:38:37.880Z"
   },
   {
    "duration": 40,
    "start_time": "2022-03-09T16:38:38.397Z"
   },
   {
    "duration": 44,
    "start_time": "2022-03-09T16:38:38.888Z"
   },
   {
    "duration": 6,
    "start_time": "2022-03-09T16:38:39.222Z"
   },
   {
    "duration": 4,
    "start_time": "2022-03-09T16:38:39.802Z"
   },
   {
    "duration": 4,
    "start_time": "2022-03-09T16:38:40.697Z"
   },
   {
    "duration": 6,
    "start_time": "2022-03-09T16:38:41.145Z"
   },
   {
    "duration": 40,
    "start_time": "2022-03-09T16:38:41.991Z"
   },
   {
    "duration": 10,
    "start_time": "2022-03-09T16:38:43.602Z"
   },
   {
    "duration": 99,
    "start_time": "2022-03-09T16:44:38.072Z"
   },
   {
    "duration": 274,
    "start_time": "2022-03-09T16:45:54.894Z"
   },
   {
    "duration": 21,
    "start_time": "2022-03-09T16:46:08.748Z"
   },
   {
    "duration": 290,
    "start_time": "2022-03-09T16:49:43.178Z"
   },
   {
    "duration": 22,
    "start_time": "2022-03-09T16:49:58.785Z"
   },
   {
    "duration": 17,
    "start_time": "2022-03-09T16:51:04.818Z"
   },
   {
    "duration": 15,
    "start_time": "2022-03-09T16:51:15.687Z"
   },
   {
    "duration": 258,
    "start_time": "2022-03-09T16:51:35.146Z"
   },
   {
    "duration": 31,
    "start_time": "2022-03-09T16:51:39.022Z"
   },
   {
    "duration": 20,
    "start_time": "2022-03-09T16:54:34.345Z"
   },
   {
    "duration": 15,
    "start_time": "2022-03-09T16:54:35.347Z"
   },
   {
    "duration": 19,
    "start_time": "2022-03-09T16:55:54.276Z"
   },
   {
    "duration": 15,
    "start_time": "2022-03-09T16:55:58.751Z"
   },
   {
    "duration": 21,
    "start_time": "2022-03-09T16:56:17.329Z"
   },
   {
    "duration": 24,
    "start_time": "2022-03-09T16:56:17.574Z"
   },
   {
    "duration": 10,
    "start_time": "2022-03-09T16:56:33.203Z"
   },
   {
    "duration": 8,
    "start_time": "2022-03-09T16:56:33.875Z"
   },
   {
    "duration": 22,
    "start_time": "2022-03-09T16:56:35.029Z"
   },
   {
    "duration": 15,
    "start_time": "2022-03-09T16:56:51.029Z"
   },
   {
    "duration": 34,
    "start_time": "2022-03-09T16:56:52.700Z"
   },
   {
    "duration": 3,
    "start_time": "2022-03-09T16:57:07.881Z"
   },
   {
    "duration": 6,
    "start_time": "2022-03-09T16:57:08.822Z"
   },
   {
    "duration": 15,
    "start_time": "2022-03-09T16:57:09.325Z"
   },
   {
    "duration": 27,
    "start_time": "2022-03-09T16:57:09.847Z"
   },
   {
    "duration": 3,
    "start_time": "2022-03-09T16:57:16.044Z"
   },
   {
    "duration": 7,
    "start_time": "2022-03-09T16:57:16.551Z"
   },
   {
    "duration": 5,
    "start_time": "2022-03-09T16:57:17.786Z"
   },
   {
    "duration": 38,
    "start_time": "2022-03-09T16:57:19.773Z"
   },
   {
    "duration": 9,
    "start_time": "2022-03-09T16:57:22.338Z"
   },
   {
    "duration": 10,
    "start_time": "2022-03-09T17:01:31.870Z"
   },
   {
    "duration": 9,
    "start_time": "2022-03-09T17:03:50.107Z"
   },
   {
    "duration": 5,
    "start_time": "2022-03-09T17:03:52.263Z"
   },
   {
    "duration": 37,
    "start_time": "2022-03-09T17:03:54.258Z"
   },
   {
    "duration": 10,
    "start_time": "2022-03-09T17:03:57.800Z"
   },
   {
    "duration": 8,
    "start_time": "2022-03-09T17:04:30.340Z"
   },
   {
    "duration": 15,
    "start_time": "2022-03-09T17:04:46.977Z"
   },
   {
    "duration": 7,
    "start_time": "2022-03-09T17:04:57.951Z"
   },
   {
    "duration": 7,
    "start_time": "2022-03-09T17:05:23.022Z"
   },
   {
    "duration": 16,
    "start_time": "2022-03-09T17:06:32.372Z"
   },
   {
    "duration": 18,
    "start_time": "2022-03-09T17:06:43.756Z"
   },
   {
    "duration": 13,
    "start_time": "2022-03-09T17:06:50.318Z"
   },
   {
    "duration": 13,
    "start_time": "2022-03-09T17:06:53.646Z"
   },
   {
    "duration": 89,
    "start_time": "2022-03-09T17:07:07.190Z"
   },
   {
    "duration": 30,
    "start_time": "2022-03-09T17:07:16.393Z"
   },
   {
    "duration": 9,
    "start_time": "2022-03-09T17:07:29.391Z"
   },
   {
    "duration": 35,
    "start_time": "2022-03-09T17:07:46.435Z"
   },
   {
    "duration": 29,
    "start_time": "2022-03-09T17:08:21.378Z"
   },
   {
    "duration": 41,
    "start_time": "2022-03-09T17:09:24.803Z"
   },
   {
    "duration": 4,
    "start_time": "2022-03-09T17:10:10.672Z"
   },
   {
    "duration": 40,
    "start_time": "2022-03-09T17:10:11.115Z"
   },
   {
    "duration": 11,
    "start_time": "2022-03-09T17:10:11.699Z"
   },
   {
    "duration": 30,
    "start_time": "2022-03-09T17:10:13.392Z"
   },
   {
    "duration": 5,
    "start_time": "2022-03-09T17:10:52.664Z"
   },
   {
    "duration": 38,
    "start_time": "2022-03-09T17:10:52.898Z"
   },
   {
    "duration": 10,
    "start_time": "2022-03-09T17:10:53.336Z"
   },
   {
    "duration": 31,
    "start_time": "2022-03-09T17:10:54.538Z"
   },
   {
    "duration": 5,
    "start_time": "2022-03-09T17:11:23.012Z"
   },
   {
    "duration": 36,
    "start_time": "2022-03-09T17:11:24.919Z"
   },
   {
    "duration": 9,
    "start_time": "2022-03-09T17:11:25.412Z"
   },
   {
    "duration": 30,
    "start_time": "2022-03-09T17:11:25.866Z"
   },
   {
    "duration": 4,
    "start_time": "2022-03-09T17:11:41.081Z"
   },
   {
    "duration": 37,
    "start_time": "2022-03-09T17:11:41.608Z"
   },
   {
    "duration": 9,
    "start_time": "2022-03-09T17:11:42.537Z"
   },
   {
    "duration": 31,
    "start_time": "2022-03-09T17:11:43.596Z"
   },
   {
    "duration": 5,
    "start_time": "2022-03-09T17:12:49.399Z"
   },
   {
    "duration": 1315,
    "start_time": "2022-03-09T17:12:50.095Z"
   },
   {
    "duration": 11,
    "start_time": "2022-03-09T17:12:51.444Z"
   },
   {
    "duration": 33,
    "start_time": "2022-03-09T17:12:52.313Z"
   },
   {
    "duration": 5,
    "start_time": "2022-03-09T17:13:45.788Z"
   },
   {
    "duration": 38,
    "start_time": "2022-03-09T17:13:46.057Z"
   },
   {
    "duration": 10,
    "start_time": "2022-03-09T17:13:46.655Z"
   },
   {
    "duration": 14,
    "start_time": "2022-03-09T17:13:47.225Z"
   },
   {
    "duration": 10,
    "start_time": "2022-03-09T17:16:33.078Z"
   },
   {
    "duration": 16,
    "start_time": "2022-03-09T17:16:42.637Z"
   },
   {
    "duration": 13,
    "start_time": "2022-03-09T17:22:31.572Z"
   },
   {
    "duration": 89,
    "start_time": "2022-03-09T17:23:14.813Z"
   },
   {
    "duration": 661,
    "start_time": "2022-03-09T20:23:17.906Z"
   },
   {
    "duration": 54,
    "start_time": "2022-03-09T20:23:18.570Z"
   },
   {
    "duration": 12,
    "start_time": "2022-03-09T20:23:18.629Z"
   },
   {
    "duration": 63,
    "start_time": "2022-03-09T20:23:18.643Z"
   },
   {
    "duration": 13,
    "start_time": "2022-03-09T20:23:18.709Z"
   },
   {
    "duration": 14,
    "start_time": "2022-03-09T20:23:18.724Z"
   },
   {
    "duration": 70,
    "start_time": "2022-03-09T20:23:18.742Z"
   },
   {
    "duration": 24,
    "start_time": "2022-03-09T20:23:18.814Z"
   },
   {
    "duration": 3,
    "start_time": "2022-03-09T20:23:18.841Z"
   },
   {
    "duration": 46,
    "start_time": "2022-03-09T20:23:18.846Z"
   },
   {
    "duration": 8,
    "start_time": "2022-03-09T20:23:18.894Z"
   },
   {
    "duration": 24,
    "start_time": "2022-03-09T20:23:18.904Z"
   },
   {
    "duration": 7,
    "start_time": "2022-03-09T20:23:18.930Z"
   },
   {
    "duration": 51,
    "start_time": "2022-03-09T20:23:18.939Z"
   },
   {
    "duration": 15,
    "start_time": "2022-03-09T20:23:18.992Z"
   },
   {
    "duration": 12,
    "start_time": "2022-03-09T20:23:19.009Z"
   },
   {
    "duration": 13,
    "start_time": "2022-03-09T20:23:19.022Z"
   },
   {
    "duration": 42,
    "start_time": "2022-03-09T20:23:19.037Z"
   },
   {
    "duration": 4,
    "start_time": "2022-03-09T20:23:19.081Z"
   },
   {
    "duration": 8,
    "start_time": "2022-03-09T20:23:19.087Z"
   },
   {
    "duration": 8,
    "start_time": "2022-03-09T20:23:19.096Z"
   },
   {
    "duration": 23,
    "start_time": "2022-03-09T20:23:19.108Z"
   },
   {
    "duration": 49,
    "start_time": "2022-03-09T20:23:19.133Z"
   },
   {
    "duration": 13,
    "start_time": "2022-03-09T20:23:19.184Z"
   },
   {
    "duration": 14,
    "start_time": "2022-03-09T20:23:19.199Z"
   },
   {
    "duration": 66,
    "start_time": "2022-03-09T20:23:19.215Z"
   },
   {
    "duration": 17,
    "start_time": "2022-03-09T20:23:19.282Z"
   },
   {
    "duration": 31,
    "start_time": "2022-03-09T20:23:19.301Z"
   },
   {
    "duration": 64,
    "start_time": "2022-03-09T20:23:19.334Z"
   },
   {
    "duration": 4,
    "start_time": "2022-03-09T20:23:19.401Z"
   },
   {
    "duration": 5,
    "start_time": "2022-03-09T20:23:19.407Z"
   },
   {
    "duration": 6,
    "start_time": "2022-03-09T20:23:19.413Z"
   },
   {
    "duration": 7,
    "start_time": "2022-03-09T20:23:19.421Z"
   },
   {
    "duration": 50,
    "start_time": "2022-03-09T20:23:19.430Z"
   },
   {
    "duration": 20,
    "start_time": "2022-03-09T20:23:19.481Z"
   },
   {
    "duration": 12,
    "start_time": "2022-03-09T20:23:19.504Z"
   },
   {
    "duration": 10,
    "start_time": "2022-03-09T20:23:19.518Z"
   },
   {
    "duration": 49,
    "start_time": "2022-03-09T20:23:19.530Z"
   },
   {
    "duration": 11,
    "start_time": "2022-03-09T20:23:19.581Z"
   },
   {
    "duration": 12,
    "start_time": "2022-03-09T20:23:19.593Z"
   },
   {
    "duration": 20,
    "start_time": "2022-03-09T20:23:19.607Z"
   },
   {
    "duration": 4,
    "start_time": "2022-03-09T20:23:19.629Z"
   },
   {
    "duration": 43,
    "start_time": "2022-03-09T20:23:19.635Z"
   },
   {
    "duration": 13,
    "start_time": "2022-03-09T20:23:19.680Z"
   },
   {
    "duration": 25,
    "start_time": "2022-03-09T20:23:19.694Z"
   },
   {
    "duration": 9,
    "start_time": "2022-03-09T20:23:19.721Z"
   },
   {
    "duration": 5,
    "start_time": "2022-03-09T20:23:19.732Z"
   },
   {
    "duration": 61,
    "start_time": "2022-03-09T20:23:19.739Z"
   },
   {
    "duration": 10,
    "start_time": "2022-03-09T20:23:19.802Z"
   },
   {
    "duration": 21,
    "start_time": "2022-03-09T20:23:19.814Z"
   },
   {
    "duration": 7,
    "start_time": "2022-03-09T20:23:19.837Z"
   },
   {
    "duration": 38,
    "start_time": "2022-03-09T20:23:19.845Z"
   },
   {
    "duration": 3,
    "start_time": "2022-03-09T20:23:19.884Z"
   },
   {
    "duration": 10,
    "start_time": "2022-03-09T20:23:19.888Z"
   },
   {
    "duration": 32,
    "start_time": "2022-03-09T20:23:19.900Z"
   },
   {
    "duration": 54,
    "start_time": "2022-03-09T20:23:19.934Z"
   },
   {
    "duration": 9,
    "start_time": "2022-03-09T20:23:19.990Z"
   },
   {
    "duration": 18,
    "start_time": "2022-03-09T20:23:20.001Z"
   },
   {
    "duration": 8,
    "start_time": "2022-03-09T20:23:20.021Z"
   },
   {
    "duration": 55,
    "start_time": "2022-03-09T20:23:20.032Z"
   },
   {
    "duration": 25,
    "start_time": "2022-03-09T20:23:20.089Z"
   },
   {
    "duration": 10,
    "start_time": "2022-03-09T20:23:20.117Z"
   },
   {
    "duration": 61,
    "start_time": "2022-03-09T20:23:20.129Z"
   },
   {
    "duration": 10,
    "start_time": "2022-03-09T20:23:20.192Z"
   },
   {
    "duration": 20,
    "start_time": "2022-03-09T20:28:31.041Z"
   },
   {
    "duration": 384,
    "start_time": "2022-03-09T20:31:30.639Z"
   },
   {
    "duration": 309,
    "start_time": "2022-03-09T20:31:33.669Z"
   },
   {
    "duration": 40,
    "start_time": "2022-03-09T20:31:44.848Z"
   },
   {
    "duration": 86,
    "start_time": "2022-03-09T20:38:40.421Z"
   },
   {
    "duration": 9,
    "start_time": "2022-03-09T20:38:48.781Z"
   },
   {
    "duration": 9,
    "start_time": "2022-03-09T20:38:58.181Z"
   },
   {
    "duration": 289,
    "start_time": "2022-03-09T20:39:24.594Z"
   },
   {
    "duration": 1268,
    "start_time": "2022-03-09T20:40:11.887Z"
   },
   {
    "duration": 9684,
    "start_time": "2022-03-09T20:40:21.562Z"
   },
   {
    "duration": 5147,
    "start_time": "2022-03-09T20:41:56.497Z"
   },
   {
    "duration": 14,
    "start_time": "2022-03-09T20:42:05.679Z"
   },
   {
    "duration": 21,
    "start_time": "2022-03-09T20:42:09.661Z"
   },
   {
    "duration": 18,
    "start_time": "2022-03-09T20:42:42.735Z"
   },
   {
    "duration": 25,
    "start_time": "2022-03-09T20:42:46.318Z"
   },
   {
    "duration": 253,
    "start_time": "2022-03-09T20:43:51.140Z"
   },
   {
    "duration": 270,
    "start_time": "2022-03-09T20:44:07.478Z"
   },
   {
    "duration": 252,
    "start_time": "2022-03-09T20:44:40.933Z"
   },
   {
    "duration": 10,
    "start_time": "2022-03-09T20:44:44.775Z"
   },
   {
    "duration": 5318,
    "start_time": "2022-03-09T20:46:12.550Z"
   },
   {
    "duration": 14,
    "start_time": "2022-03-09T20:46:17.869Z"
   },
   {
    "duration": 8,
    "start_time": "2022-03-09T20:48:23.015Z"
   },
   {
    "duration": 10,
    "start_time": "2022-03-09T20:48:23.209Z"
   },
   {
    "duration": 16,
    "start_time": "2022-03-09T20:48:23.737Z"
   },
   {
    "duration": 5290,
    "start_time": "2022-03-09T20:48:46.469Z"
   },
   {
    "duration": 8,
    "start_time": "2022-03-09T20:48:51.761Z"
   },
   {
    "duration": 21,
    "start_time": "2022-03-09T20:48:51.771Z"
   },
   {
    "duration": 93,
    "start_time": "2022-03-09T20:49:17.975Z"
   },
   {
    "duration": 8,
    "start_time": "2022-03-09T20:49:18.681Z"
   },
   {
    "duration": 15,
    "start_time": "2022-03-09T20:49:19.476Z"
   },
   {
    "duration": 29,
    "start_time": "2022-03-09T20:49:19.589Z"
   },
   {
    "duration": 5243,
    "start_time": "2022-03-09T20:49:43.454Z"
   },
   {
    "duration": 8,
    "start_time": "2022-03-09T20:49:48.699Z"
   },
   {
    "duration": 19,
    "start_time": "2022-03-09T20:49:48.709Z"
   },
   {
    "duration": 97,
    "start_time": "2022-03-09T20:50:14.102Z"
   },
   {
    "duration": 5239,
    "start_time": "2022-03-09T20:50:19.280Z"
   },
   {
    "duration": 7,
    "start_time": "2022-03-09T20:50:24.521Z"
   },
   {
    "duration": 16,
    "start_time": "2022-03-09T20:50:24.530Z"
   },
   {
    "duration": 44,
    "start_time": "2022-03-09T20:50:24.548Z"
   },
   {
    "duration": 5250,
    "start_time": "2022-03-09T20:51:42.843Z"
   },
   {
    "duration": 8,
    "start_time": "2022-03-09T20:51:48.095Z"
   },
   {
    "duration": 20,
    "start_time": "2022-03-09T20:51:48.105Z"
   },
   {
    "duration": 53,
    "start_time": "2022-03-09T20:51:48.127Z"
   },
   {
    "duration": 669,
    "start_time": "2022-03-09T20:52:32.245Z"
   },
   {
    "duration": 77,
    "start_time": "2022-03-09T20:52:32.916Z"
   },
   {
    "duration": 21,
    "start_time": "2022-03-09T20:52:32.996Z"
   },
   {
    "duration": 82,
    "start_time": "2022-03-09T20:52:33.021Z"
   },
   {
    "duration": 13,
    "start_time": "2022-03-09T20:52:33.104Z"
   },
   {
    "duration": 16,
    "start_time": "2022-03-09T20:52:33.119Z"
   },
   {
    "duration": 73,
    "start_time": "2022-03-09T20:52:33.138Z"
   },
   {
    "duration": 23,
    "start_time": "2022-03-09T20:52:33.214Z"
   },
   {
    "duration": 7,
    "start_time": "2022-03-09T20:52:33.240Z"
   },
   {
    "duration": 42,
    "start_time": "2022-03-09T20:52:33.249Z"
   },
   {
    "duration": 8,
    "start_time": "2022-03-09T20:52:33.293Z"
   },
   {
    "duration": 15,
    "start_time": "2022-03-09T20:52:33.303Z"
   },
   {
    "duration": 10,
    "start_time": "2022-03-09T20:52:33.320Z"
   },
   {
    "duration": 51,
    "start_time": "2022-03-09T20:52:33.332Z"
   },
   {
    "duration": 19,
    "start_time": "2022-03-09T20:52:33.385Z"
   },
   {
    "duration": 18,
    "start_time": "2022-03-09T20:52:33.406Z"
   },
   {
    "duration": 56,
    "start_time": "2022-03-09T20:52:33.426Z"
   },
   {
    "duration": 11,
    "start_time": "2022-03-09T20:52:33.485Z"
   },
   {
    "duration": 7,
    "start_time": "2022-03-09T20:52:33.497Z"
   },
   {
    "duration": 8,
    "start_time": "2022-03-09T20:52:33.506Z"
   },
   {
    "duration": 6,
    "start_time": "2022-03-09T20:52:33.516Z"
   },
   {
    "duration": 62,
    "start_time": "2022-03-09T20:52:33.524Z"
   },
   {
    "duration": 12,
    "start_time": "2022-03-09T20:52:33.591Z"
   },
   {
    "duration": 14,
    "start_time": "2022-03-09T20:52:33.606Z"
   },
   {
    "duration": 17,
    "start_time": "2022-03-09T20:52:33.622Z"
   },
   {
    "duration": 36,
    "start_time": "2022-03-09T20:52:33.677Z"
   },
   {
    "duration": 24,
    "start_time": "2022-03-09T20:52:33.715Z"
   },
   {
    "duration": 61,
    "start_time": "2022-03-09T20:52:33.741Z"
   },
   {
    "duration": 34,
    "start_time": "2022-03-09T20:52:33.804Z"
   },
   {
    "duration": 7,
    "start_time": "2022-03-09T20:52:33.841Z"
   },
   {
    "duration": 4,
    "start_time": "2022-03-09T20:52:33.878Z"
   },
   {
    "duration": 6,
    "start_time": "2022-03-09T20:52:33.885Z"
   },
   {
    "duration": 9,
    "start_time": "2022-03-09T20:52:33.893Z"
   },
   {
    "duration": 30,
    "start_time": "2022-03-09T20:52:33.904Z"
   },
   {
    "duration": 52,
    "start_time": "2022-03-09T20:52:33.936Z"
   },
   {
    "duration": 17,
    "start_time": "2022-03-09T20:52:33.991Z"
   },
   {
    "duration": 10,
    "start_time": "2022-03-09T20:52:34.011Z"
   },
   {
    "duration": 8,
    "start_time": "2022-03-09T20:52:34.024Z"
   },
   {
    "duration": 48,
    "start_time": "2022-03-09T20:52:34.035Z"
   },
   {
    "duration": 15,
    "start_time": "2022-03-09T20:52:34.085Z"
   },
   {
    "duration": 28,
    "start_time": "2022-03-09T20:52:34.102Z"
   },
   {
    "duration": 46,
    "start_time": "2022-03-09T20:52:34.132Z"
   },
   {
    "duration": 7,
    "start_time": "2022-03-09T20:52:34.180Z"
   },
   {
    "duration": 13,
    "start_time": "2022-03-09T20:52:34.189Z"
   },
   {
    "duration": 25,
    "start_time": "2022-03-09T20:52:34.204Z"
   },
   {
    "duration": 6,
    "start_time": "2022-03-09T20:52:34.231Z"
   },
   {
    "duration": 39,
    "start_time": "2022-03-09T20:52:34.239Z"
   },
   {
    "duration": 31,
    "start_time": "2022-03-09T20:52:34.280Z"
   },
   {
    "duration": 7,
    "start_time": "2022-03-09T20:52:34.313Z"
   },
   {
    "duration": 59,
    "start_time": "2022-03-09T20:52:34.322Z"
   },
   {
    "duration": 7,
    "start_time": "2022-03-09T20:52:34.383Z"
   },
   {
    "duration": 24,
    "start_time": "2022-03-09T20:52:34.391Z"
   },
   {
    "duration": 5205,
    "start_time": "2022-03-09T20:52:34.417Z"
   },
   {
    "duration": 8,
    "start_time": "2022-03-09T20:52:39.623Z"
   },
   {
    "duration": 18,
    "start_time": "2022-03-09T20:52:39.633Z"
   },
   {
    "duration": 46,
    "start_time": "2022-03-09T20:52:39.653Z"
   },
   {
    "duration": 34,
    "start_time": "2022-03-09T20:52:39.701Z"
   },
   {
    "duration": 2,
    "start_time": "2022-03-09T20:52:39.738Z"
   },
   {
    "duration": 7,
    "start_time": "2022-03-09T20:52:39.742Z"
   },
   {
    "duration": 27,
    "start_time": "2022-03-09T20:52:39.778Z"
   },
   {
    "duration": 25,
    "start_time": "2022-03-09T20:52:39.807Z"
   },
   {
    "duration": 9,
    "start_time": "2022-03-09T20:52:39.834Z"
   },
   {
    "duration": 21,
    "start_time": "2022-03-09T20:52:39.877Z"
   },
   {
    "duration": 11,
    "start_time": "2022-03-09T20:52:39.901Z"
   },
   {
    "duration": 9,
    "start_time": "2022-03-09T20:52:39.914Z"
   },
   {
    "duration": 57,
    "start_time": "2022-03-09T20:52:39.925Z"
   },
   {
    "duration": 8,
    "start_time": "2022-03-09T20:52:39.984Z"
   },
   {
    "duration": 17,
    "start_time": "2022-03-09T20:52:39.998Z"
   },
   {
    "duration": 9,
    "start_time": "2022-03-09T20:52:40.017Z"
   },
   {
    "duration": 5261,
    "start_time": "2022-03-09T20:53:45.527Z"
   },
   {
    "duration": 10,
    "start_time": "2022-03-09T20:53:50.790Z"
   },
   {
    "duration": 18,
    "start_time": "2022-03-09T20:53:50.803Z"
   },
   {
    "duration": 61,
    "start_time": "2022-03-09T20:53:50.823Z"
   },
   {
    "duration": 668,
    "start_time": "2022-03-09T20:54:06.040Z"
   },
   {
    "duration": 53,
    "start_time": "2022-03-09T20:54:06.710Z"
   },
   {
    "duration": 12,
    "start_time": "2022-03-09T20:54:06.765Z"
   },
   {
    "duration": 42,
    "start_time": "2022-03-09T20:54:06.779Z"
   },
   {
    "duration": 12,
    "start_time": "2022-03-09T20:54:06.823Z"
   },
   {
    "duration": 46,
    "start_time": "2022-03-09T20:54:06.837Z"
   },
   {
    "duration": 43,
    "start_time": "2022-03-09T20:54:06.885Z"
   },
   {
    "duration": 46,
    "start_time": "2022-03-09T20:54:06.931Z"
   },
   {
    "duration": 3,
    "start_time": "2022-03-09T20:54:06.979Z"
   },
   {
    "duration": 17,
    "start_time": "2022-03-09T20:54:06.984Z"
   },
   {
    "duration": 6,
    "start_time": "2022-03-09T20:54:07.003Z"
   },
   {
    "duration": 11,
    "start_time": "2022-03-09T20:54:07.011Z"
   },
   {
    "duration": 54,
    "start_time": "2022-03-09T20:54:07.024Z"
   },
   {
    "duration": 10,
    "start_time": "2022-03-09T20:54:07.080Z"
   },
   {
    "duration": 19,
    "start_time": "2022-03-09T20:54:07.091Z"
   },
   {
    "duration": 11,
    "start_time": "2022-03-09T20:54:07.112Z"
   },
   {
    "duration": 14,
    "start_time": "2022-03-09T20:54:07.125Z"
   },
   {
    "duration": 10,
    "start_time": "2022-03-09T20:54:07.177Z"
   },
   {
    "duration": 5,
    "start_time": "2022-03-09T20:54:07.189Z"
   },
   {
    "duration": 7,
    "start_time": "2022-03-09T20:54:07.195Z"
   },
   {
    "duration": 5,
    "start_time": "2022-03-09T20:54:07.204Z"
   },
   {
    "duration": 28,
    "start_time": "2022-03-09T20:54:07.211Z"
   },
   {
    "duration": 46,
    "start_time": "2022-03-09T20:54:07.243Z"
   },
   {
    "duration": 13,
    "start_time": "2022-03-09T20:54:07.292Z"
   },
   {
    "duration": 16,
    "start_time": "2022-03-09T20:54:07.307Z"
   },
   {
    "duration": 76,
    "start_time": "2022-03-09T20:54:07.325Z"
   },
   {
    "duration": 17,
    "start_time": "2022-03-09T20:54:07.403Z"
   },
   {
    "duration": 31,
    "start_time": "2022-03-09T20:54:07.422Z"
   },
   {
    "duration": 33,
    "start_time": "2022-03-09T20:54:07.477Z"
   },
   {
    "duration": 6,
    "start_time": "2022-03-09T20:54:07.513Z"
   },
   {
    "duration": 4,
    "start_time": "2022-03-09T20:54:07.521Z"
   },
   {
    "duration": 6,
    "start_time": "2022-03-09T20:54:07.527Z"
   },
   {
    "duration": 42,
    "start_time": "2022-03-09T20:54:07.535Z"
   },
   {
    "duration": 28,
    "start_time": "2022-03-09T20:54:07.579Z"
   },
   {
    "duration": 15,
    "start_time": "2022-03-09T20:54:07.609Z"
   },
   {
    "duration": 12,
    "start_time": "2022-03-09T20:54:07.626Z"
   },
   {
    "duration": 9,
    "start_time": "2022-03-09T20:54:07.640Z"
   },
   {
    "duration": 6,
    "start_time": "2022-03-09T20:54:07.678Z"
   },
   {
    "duration": 12,
    "start_time": "2022-03-09T20:54:07.686Z"
   },
   {
    "duration": 13,
    "start_time": "2022-03-09T20:54:07.701Z"
   },
   {
    "duration": 65,
    "start_time": "2022-03-09T20:54:07.716Z"
   },
   {
    "duration": 5,
    "start_time": "2022-03-09T20:54:07.783Z"
   },
   {
    "duration": 9,
    "start_time": "2022-03-09T20:54:07.790Z"
   },
   {
    "duration": 13,
    "start_time": "2022-03-09T20:54:07.801Z"
   },
   {
    "duration": 22,
    "start_time": "2022-03-09T20:54:07.816Z"
   },
   {
    "duration": 37,
    "start_time": "2022-03-09T20:54:07.840Z"
   },
   {
    "duration": 4,
    "start_time": "2022-03-09T20:54:07.879Z"
   },
   {
    "duration": 28,
    "start_time": "2022-03-09T20:54:07.885Z"
   },
   {
    "duration": 7,
    "start_time": "2022-03-09T20:54:07.915Z"
   },
   {
    "duration": 15,
    "start_time": "2022-03-09T20:54:07.924Z"
   },
   {
    "duration": 40,
    "start_time": "2022-03-09T20:54:07.941Z"
   },
   {
    "duration": 19,
    "start_time": "2022-03-09T20:54:07.983Z"
   },
   {
    "duration": 5116,
    "start_time": "2022-03-09T20:54:08.004Z"
   },
   {
    "duration": 8,
    "start_time": "2022-03-09T20:54:13.121Z"
   },
   {
    "duration": 21,
    "start_time": "2022-03-09T20:54:13.130Z"
   },
   {
    "duration": 45,
    "start_time": "2022-03-09T20:54:13.152Z"
   },
   {
    "duration": 33,
    "start_time": "2022-03-09T20:54:13.199Z"
   },
   {
    "duration": 2,
    "start_time": "2022-03-09T20:54:13.234Z"
   },
   {
    "duration": 5,
    "start_time": "2022-03-09T20:54:13.238Z"
   },
   {
    "duration": 50,
    "start_time": "2022-03-09T20:54:13.245Z"
   },
   {
    "duration": 24,
    "start_time": "2022-03-09T20:54:13.297Z"
   },
   {
    "duration": 8,
    "start_time": "2022-03-09T20:54:13.323Z"
   },
   {
    "duration": 53,
    "start_time": "2022-03-09T20:54:13.333Z"
   },
   {
    "duration": 9,
    "start_time": "2022-03-09T20:54:13.388Z"
   },
   {
    "duration": 8,
    "start_time": "2022-03-09T20:54:13.399Z"
   },
   {
    "duration": 18,
    "start_time": "2022-03-09T20:54:13.409Z"
   },
   {
    "duration": 7,
    "start_time": "2022-03-09T20:54:13.429Z"
   },
   {
    "duration": 17,
    "start_time": "2022-03-09T20:54:13.476Z"
   },
   {
    "duration": 8,
    "start_time": "2022-03-09T20:54:13.495Z"
   },
   {
    "duration": 11,
    "start_time": "2022-03-09T20:59:02.083Z"
   },
   {
    "duration": 12,
    "start_time": "2022-03-09T20:59:03.989Z"
   },
   {
    "duration": 24,
    "start_time": "2022-03-09T20:59:04.593Z"
   },
   {
    "duration": 10,
    "start_time": "2022-03-09T20:59:18.576Z"
   },
   {
    "duration": 11,
    "start_time": "2022-03-09T20:59:18.983Z"
   },
   {
    "duration": 24,
    "start_time": "2022-03-09T20:59:19.662Z"
   },
   {
    "duration": 25,
    "start_time": "2022-03-09T20:59:20.456Z"
   },
   {
    "duration": 673,
    "start_time": "2022-03-09T20:59:28.999Z"
   },
   {
    "duration": 52,
    "start_time": "2022-03-09T20:59:29.673Z"
   },
   {
    "duration": 13,
    "start_time": "2022-03-09T20:59:29.728Z"
   },
   {
    "duration": 58,
    "start_time": "2022-03-09T20:59:29.743Z"
   },
   {
    "duration": 11,
    "start_time": "2022-03-09T20:59:29.803Z"
   },
   {
    "duration": 13,
    "start_time": "2022-03-09T20:59:29.816Z"
   },
   {
    "duration": 73,
    "start_time": "2022-03-09T20:59:29.831Z"
   },
   {
    "duration": 22,
    "start_time": "2022-03-09T20:59:29.907Z"
   },
   {
    "duration": 4,
    "start_time": "2022-03-09T20:59:29.932Z"
   },
   {
    "duration": 46,
    "start_time": "2022-03-09T20:59:29.938Z"
   },
   {
    "duration": 5,
    "start_time": "2022-03-09T20:59:29.986Z"
   },
   {
    "duration": 21,
    "start_time": "2022-03-09T20:59:29.993Z"
   },
   {
    "duration": 9,
    "start_time": "2022-03-09T20:59:30.016Z"
   },
   {
    "duration": 19,
    "start_time": "2022-03-09T20:59:30.028Z"
   },
   {
    "duration": 15,
    "start_time": "2022-03-09T20:59:30.078Z"
   },
   {
    "duration": 19,
    "start_time": "2022-03-09T20:59:30.095Z"
   },
   {
    "duration": 14,
    "start_time": "2022-03-09T20:59:30.116Z"
   },
   {
    "duration": 11,
    "start_time": "2022-03-09T20:59:30.132Z"
   },
   {
    "duration": 33,
    "start_time": "2022-03-09T20:59:30.145Z"
   },
   {
    "duration": 13,
    "start_time": "2022-03-09T20:59:30.181Z"
   },
   {
    "duration": 11,
    "start_time": "2022-03-09T20:59:30.196Z"
   },
   {
    "duration": 33,
    "start_time": "2022-03-09T20:59:30.209Z"
   },
   {
    "duration": 37,
    "start_time": "2022-03-09T20:59:30.247Z"
   },
   {
    "duration": 13,
    "start_time": "2022-03-09T20:59:30.286Z"
   },
   {
    "duration": 17,
    "start_time": "2022-03-09T20:59:30.301Z"
   },
   {
    "duration": 81,
    "start_time": "2022-03-09T20:59:30.320Z"
   },
   {
    "duration": 17,
    "start_time": "2022-03-09T20:59:30.403Z"
   },
   {
    "duration": 66,
    "start_time": "2022-03-09T20:59:30.422Z"
   },
   {
    "duration": 33,
    "start_time": "2022-03-09T20:59:30.490Z"
   },
   {
    "duration": 5,
    "start_time": "2022-03-09T20:59:30.525Z"
   },
   {
    "duration": 5,
    "start_time": "2022-03-09T20:59:30.532Z"
   },
   {
    "duration": 39,
    "start_time": "2022-03-09T20:59:30.539Z"
   },
   {
    "duration": 10,
    "start_time": "2022-03-09T20:59:30.580Z"
   },
   {
    "duration": 45,
    "start_time": "2022-03-09T20:59:30.592Z"
   },
   {
    "duration": 16,
    "start_time": "2022-03-09T20:59:30.639Z"
   },
   {
    "duration": 28,
    "start_time": "2022-03-09T20:59:30.657Z"
   },
   {
    "duration": 7,
    "start_time": "2022-03-09T20:59:30.686Z"
   },
   {
    "duration": 7,
    "start_time": "2022-03-09T20:59:30.695Z"
   },
   {
    "duration": 17,
    "start_time": "2022-03-09T20:59:30.704Z"
   },
   {
    "duration": 13,
    "start_time": "2022-03-09T20:59:30.723Z"
   },
   {
    "duration": 54,
    "start_time": "2022-03-09T20:59:30.738Z"
   },
   {
    "duration": 3,
    "start_time": "2022-03-09T20:59:30.795Z"
   },
   {
    "duration": 11,
    "start_time": "2022-03-09T20:59:30.800Z"
   },
   {
    "duration": 22,
    "start_time": "2022-03-09T20:59:30.814Z"
   },
   {
    "duration": 47,
    "start_time": "2022-03-09T20:59:30.838Z"
   },
   {
    "duration": 15,
    "start_time": "2022-03-09T20:59:30.888Z"
   },
   {
    "duration": 11,
    "start_time": "2022-03-09T20:59:30.906Z"
   },
   {
    "duration": 69,
    "start_time": "2022-03-09T20:59:30.920Z"
   },
   {
    "duration": 12,
    "start_time": "2022-03-09T20:59:30.991Z"
   },
   {
    "duration": 35,
    "start_time": "2022-03-09T20:59:31.005Z"
   },
   {
    "duration": 8,
    "start_time": "2022-03-09T20:59:31.043Z"
   },
   {
    "duration": 48,
    "start_time": "2022-03-09T20:59:31.054Z"
   },
   {
    "duration": 485,
    "start_time": "2022-03-09T20:59:31.104Z"
   },
   {
    "duration": 10,
    "start_time": "2022-03-09T20:59:31.591Z"
   },
   {
    "duration": 25,
    "start_time": "2022-03-09T20:59:31.603Z"
   },
   {
    "duration": 53,
    "start_time": "2022-03-09T20:59:31.630Z"
   },
   {
    "duration": 34,
    "start_time": "2022-03-09T20:59:31.685Z"
   },
   {
    "duration": 3,
    "start_time": "2022-03-09T20:59:31.721Z"
   },
   {
    "duration": 7,
    "start_time": "2022-03-09T20:59:31.726Z"
   },
   {
    "duration": 57,
    "start_time": "2022-03-09T20:59:31.735Z"
   },
   {
    "duration": 28,
    "start_time": "2022-03-09T20:59:31.794Z"
   },
   {
    "duration": 12,
    "start_time": "2022-03-09T20:59:31.824Z"
   },
   {
    "duration": 55,
    "start_time": "2022-03-09T20:59:31.839Z"
   },
   {
    "duration": 12,
    "start_time": "2022-03-09T20:59:31.896Z"
   },
   {
    "duration": 11,
    "start_time": "2022-03-09T20:59:31.910Z"
   },
   {
    "duration": 53,
    "start_time": "2022-03-09T20:59:31.924Z"
   },
   {
    "duration": 9,
    "start_time": "2022-03-09T20:59:31.979Z"
   },
   {
    "duration": 29,
    "start_time": "2022-03-09T20:59:31.993Z"
   },
   {
    "duration": 8,
    "start_time": "2022-03-09T20:59:32.024Z"
   },
   {
    "duration": 7,
    "start_time": "2022-03-09T21:00:36.504Z"
   },
   {
    "duration": 8,
    "start_time": "2022-03-09T21:00:36.850Z"
   },
   {
    "duration": 17,
    "start_time": "2022-03-09T21:00:37.693Z"
   },
   {
    "duration": 5449,
    "start_time": "2022-03-09T21:00:59.677Z"
   },
   {
    "duration": 7,
    "start_time": "2022-03-09T21:01:05.128Z"
   },
   {
    "duration": 22,
    "start_time": "2022-03-09T21:01:05.138Z"
   },
   {
    "duration": 5105,
    "start_time": "2022-03-09T21:03:47.228Z"
   },
   {
    "duration": 9,
    "start_time": "2022-03-09T21:03:52.335Z"
   },
   {
    "duration": 36,
    "start_time": "2022-03-09T21:03:52.347Z"
   },
   {
    "duration": 327,
    "start_time": "2022-03-09T21:08:51.848Z"
   },
   {
    "duration": 683,
    "start_time": "2022-03-09T21:10:40.538Z"
   },
   {
    "duration": 1753,
    "start_time": "2022-03-09T21:10:45.716Z"
   },
   {
    "duration": 38,
    "start_time": "2022-03-09T21:10:53.775Z"
   },
   {
    "duration": 279,
    "start_time": "2022-03-09T21:11:03.952Z"
   },
   {
    "duration": 29,
    "start_time": "2022-03-09T21:11:19.156Z"
   },
   {
    "duration": 16,
    "start_time": "2022-03-09T21:11:55.611Z"
   },
   {
    "duration": 680,
    "start_time": "2022-03-09T21:29:51.971Z"
   },
   {
    "duration": 59,
    "start_time": "2022-03-09T21:29:52.653Z"
   },
   {
    "duration": 12,
    "start_time": "2022-03-09T21:29:52.714Z"
   },
   {
    "duration": 63,
    "start_time": "2022-03-09T21:29:52.729Z"
   },
   {
    "duration": 14,
    "start_time": "2022-03-09T21:29:52.793Z"
   },
   {
    "duration": 32,
    "start_time": "2022-03-09T21:29:52.809Z"
   },
   {
    "duration": 60,
    "start_time": "2022-03-09T21:29:52.843Z"
   },
   {
    "duration": 23,
    "start_time": "2022-03-09T21:29:52.906Z"
   },
   {
    "duration": 19,
    "start_time": "2022-03-09T21:29:52.931Z"
   },
   {
    "duration": 33,
    "start_time": "2022-03-09T21:29:52.952Z"
   },
   {
    "duration": 6,
    "start_time": "2022-03-09T21:29:52.986Z"
   },
   {
    "duration": 23,
    "start_time": "2022-03-09T21:29:52.993Z"
   },
   {
    "duration": 18,
    "start_time": "2022-03-09T21:29:53.018Z"
   },
   {
    "duration": 39,
    "start_time": "2022-03-09T21:29:53.039Z"
   },
   {
    "duration": 18,
    "start_time": "2022-03-09T21:29:53.080Z"
   },
   {
    "duration": 16,
    "start_time": "2022-03-09T21:29:53.101Z"
   },
   {
    "duration": 27,
    "start_time": "2022-03-09T21:29:53.119Z"
   },
   {
    "duration": 36,
    "start_time": "2022-03-09T21:29:53.149Z"
   },
   {
    "duration": 22,
    "start_time": "2022-03-09T21:29:53.187Z"
   },
   {
    "duration": 16,
    "start_time": "2022-03-09T21:29:53.211Z"
   },
   {
    "duration": 10,
    "start_time": "2022-03-09T21:29:53.229Z"
   },
   {
    "duration": 29,
    "start_time": "2022-03-09T21:29:53.241Z"
   },
   {
    "duration": 24,
    "start_time": "2022-03-09T21:29:53.275Z"
   },
   {
    "duration": 15,
    "start_time": "2022-03-09T21:29:53.303Z"
   },
   {
    "duration": 26,
    "start_time": "2022-03-09T21:29:53.323Z"
   },
   {
    "duration": 55,
    "start_time": "2022-03-09T21:29:53.351Z"
   },
   {
    "duration": 19,
    "start_time": "2022-03-09T21:29:53.408Z"
   },
   {
    "duration": 56,
    "start_time": "2022-03-09T21:29:53.429Z"
   },
   {
    "duration": 35,
    "start_time": "2022-03-09T21:29:53.487Z"
   },
   {
    "duration": 5,
    "start_time": "2022-03-09T21:29:53.524Z"
   },
   {
    "duration": 7,
    "start_time": "2022-03-09T21:29:53.531Z"
   },
   {
    "duration": 8,
    "start_time": "2022-03-09T21:29:53.539Z"
   },
   {
    "duration": 12,
    "start_time": "2022-03-09T21:29:53.578Z"
   },
   {
    "duration": 21,
    "start_time": "2022-03-09T21:29:53.592Z"
   },
   {
    "duration": 16,
    "start_time": "2022-03-09T21:29:53.615Z"
   },
   {
    "duration": 13,
    "start_time": "2022-03-09T21:29:53.633Z"
   },
   {
    "duration": 31,
    "start_time": "2022-03-09T21:29:53.648Z"
   },
   {
    "duration": 12,
    "start_time": "2022-03-09T21:29:53.682Z"
   },
   {
    "duration": 12,
    "start_time": "2022-03-09T21:29:53.696Z"
   },
   {
    "duration": 19,
    "start_time": "2022-03-09T21:29:53.710Z"
   },
   {
    "duration": 62,
    "start_time": "2022-03-09T21:29:53.732Z"
   },
   {
    "duration": 3,
    "start_time": "2022-03-09T21:29:53.796Z"
   },
   {
    "duration": 23,
    "start_time": "2022-03-09T21:29:53.802Z"
   },
   {
    "duration": 15,
    "start_time": "2022-03-09T21:29:53.827Z"
   },
   {
    "duration": 37,
    "start_time": "2022-03-09T21:29:53.844Z"
   },
   {
    "duration": 7,
    "start_time": "2022-03-09T21:29:53.883Z"
   },
   {
    "duration": 6,
    "start_time": "2022-03-09T21:29:53.892Z"
   },
   {
    "duration": 32,
    "start_time": "2022-03-09T21:29:53.901Z"
   },
   {
    "duration": 7,
    "start_time": "2022-03-09T21:29:53.935Z"
   },
   {
    "duration": 44,
    "start_time": "2022-03-09T21:29:53.944Z"
   },
   {
    "duration": 7,
    "start_time": "2022-03-09T21:29:53.990Z"
   },
   {
    "duration": 22,
    "start_time": "2022-03-09T21:29:53.999Z"
   },
   {
    "duration": 5,
    "start_time": "2022-03-09T21:29:54.023Z"
   },
   {
    "duration": 47,
    "start_time": "2022-03-09T21:29:54.030Z"
   },
   {
    "duration": 6,
    "start_time": "2022-03-09T21:29:54.079Z"
   },
   {
    "duration": 340,
    "start_time": "2022-03-09T21:29:54.087Z"
   },
   {
    "duration": -291,
    "start_time": "2022-03-09T21:29:54.721Z"
   },
   {
    "duration": -295,
    "start_time": "2022-03-09T21:29:54.726Z"
   },
   {
    "duration": -309,
    "start_time": "2022-03-09T21:29:54.742Z"
   },
   {
    "duration": -312,
    "start_time": "2022-03-09T21:29:54.746Z"
   },
   {
    "duration": -315,
    "start_time": "2022-03-09T21:29:54.751Z"
   },
   {
    "duration": -318,
    "start_time": "2022-03-09T21:29:54.755Z"
   },
   {
    "duration": -340,
    "start_time": "2022-03-09T21:29:54.778Z"
   },
   {
    "duration": -343,
    "start_time": "2022-03-09T21:29:54.782Z"
   },
   {
    "duration": -357,
    "start_time": "2022-03-09T21:29:54.797Z"
   },
   {
    "duration": -362,
    "start_time": "2022-03-09T21:29:54.804Z"
   },
   {
    "duration": -376,
    "start_time": "2022-03-09T21:29:54.819Z"
   },
   {
    "duration": -387,
    "start_time": "2022-03-09T21:29:54.832Z"
   },
   {
    "duration": -400,
    "start_time": "2022-03-09T21:29:54.846Z"
   },
   {
    "duration": -405,
    "start_time": "2022-03-09T21:29:54.852Z"
   },
   {
    "duration": -418,
    "start_time": "2022-03-09T21:29:54.866Z"
   },
   {
    "duration": -430,
    "start_time": "2022-03-09T21:29:54.879Z"
   },
   {
    "duration": 10,
    "start_time": "2022-03-09T21:31:36.404Z"
   },
   {
    "duration": 11,
    "start_time": "2022-03-09T21:31:37.706Z"
   },
   {
    "duration": 20,
    "start_time": "2022-03-09T21:31:46.509Z"
   },
   {
    "duration": 9,
    "start_time": "2022-03-09T21:32:16.094Z"
   },
   {
    "duration": 4679,
    "start_time": "2022-03-09T21:39:03.796Z"
   },
   {
    "duration": 20,
    "start_time": "2022-03-09T21:39:18.155Z"
   },
   {
    "duration": 267,
    "start_time": "2022-03-09T21:41:21.602Z"
   },
   {
    "duration": 277,
    "start_time": "2022-03-09T21:41:33.679Z"
   },
   {
    "duration": 265,
    "start_time": "2022-03-09T21:41:45.937Z"
   },
   {
    "duration": 44,
    "start_time": "2022-03-09T21:45:05.235Z"
   },
   {
    "duration": 40,
    "start_time": "2022-03-09T21:45:40.491Z"
   },
   {
    "duration": 7,
    "start_time": "2022-03-09T21:46:33.628Z"
   },
   {
    "duration": 31,
    "start_time": "2022-03-09T21:47:36.165Z"
   },
   {
    "duration": 682,
    "start_time": "2022-03-10T04:44:54.402Z"
   },
   {
    "duration": 57,
    "start_time": "2022-03-10T04:44:55.087Z"
   },
   {
    "duration": 49,
    "start_time": "2022-03-10T04:44:55.152Z"
   },
   {
    "duration": 41,
    "start_time": "2022-03-10T04:44:55.204Z"
   },
   {
    "duration": 14,
    "start_time": "2022-03-10T04:44:55.248Z"
   },
   {
    "duration": 44,
    "start_time": "2022-03-10T04:44:55.266Z"
   },
   {
    "duration": 42,
    "start_time": "2022-03-10T04:44:55.313Z"
   },
   {
    "duration": 52,
    "start_time": "2022-03-10T04:44:55.357Z"
   },
   {
    "duration": 7,
    "start_time": "2022-03-10T04:44:55.411Z"
   },
   {
    "duration": 24,
    "start_time": "2022-03-10T04:44:55.420Z"
   },
   {
    "duration": 8,
    "start_time": "2022-03-10T04:44:55.446Z"
   },
   {
    "duration": 46,
    "start_time": "2022-03-10T04:44:55.456Z"
   },
   {
    "duration": 7,
    "start_time": "2022-03-10T04:44:55.505Z"
   },
   {
    "duration": 21,
    "start_time": "2022-03-10T04:44:55.515Z"
   },
   {
    "duration": 23,
    "start_time": "2022-03-10T04:44:55.538Z"
   },
   {
    "duration": 24,
    "start_time": "2022-03-10T04:44:55.563Z"
   },
   {
    "duration": 26,
    "start_time": "2022-03-10T04:44:55.589Z"
   },
   {
    "duration": 31,
    "start_time": "2022-03-10T04:44:55.618Z"
   },
   {
    "duration": 16,
    "start_time": "2022-03-10T04:44:55.651Z"
   },
   {
    "duration": 26,
    "start_time": "2022-03-10T04:44:55.669Z"
   },
   {
    "duration": 15,
    "start_time": "2022-03-10T04:44:55.699Z"
   },
   {
    "duration": 36,
    "start_time": "2022-03-10T04:44:55.717Z"
   },
   {
    "duration": 41,
    "start_time": "2022-03-10T04:44:55.755Z"
   },
   {
    "duration": 16,
    "start_time": "2022-03-10T04:44:55.798Z"
   },
   {
    "duration": 24,
    "start_time": "2022-03-10T04:44:55.816Z"
   },
   {
    "duration": 41,
    "start_time": "2022-03-10T04:44:55.842Z"
   },
   {
    "duration": 177,
    "start_time": "2022-03-10T04:44:55.885Z"
   },
   {
    "duration": 403,
    "start_time": "2022-03-10T04:44:56.064Z"
   },
   {
    "duration": 571,
    "start_time": "2022-03-10T04:44:56.469Z"
   },
   {
    "duration": 5,
    "start_time": "2022-03-10T04:44:57.042Z"
   },
   {
    "duration": 13,
    "start_time": "2022-03-10T04:44:57.049Z"
   },
   {
    "duration": 8,
    "start_time": "2022-03-10T04:44:57.064Z"
   },
   {
    "duration": 13,
    "start_time": "2022-03-10T04:44:57.073Z"
   },
   {
    "duration": 29,
    "start_time": "2022-03-10T04:44:57.088Z"
   },
   {
    "duration": 16,
    "start_time": "2022-03-10T04:44:57.119Z"
   },
   {
    "duration": 13,
    "start_time": "2022-03-10T04:44:57.137Z"
   },
   {
    "duration": 13,
    "start_time": "2022-03-10T04:44:57.152Z"
   },
   {
    "duration": 35,
    "start_time": "2022-03-10T04:44:57.167Z"
   },
   {
    "duration": 11,
    "start_time": "2022-03-10T04:44:57.204Z"
   },
   {
    "duration": 11,
    "start_time": "2022-03-10T04:44:57.217Z"
   },
   {
    "duration": 25,
    "start_time": "2022-03-10T04:44:57.230Z"
   },
   {
    "duration": 2,
    "start_time": "2022-03-10T04:44:57.257Z"
   },
   {
    "duration": 40,
    "start_time": "2022-03-10T04:44:57.261Z"
   },
   {
    "duration": 24,
    "start_time": "2022-03-10T04:44:57.303Z"
   },
   {
    "duration": 26,
    "start_time": "2022-03-10T04:44:57.329Z"
   },
   {
    "duration": 18,
    "start_time": "2022-03-10T04:44:57.357Z"
   },
   {
    "duration": 14,
    "start_time": "2022-03-10T04:44:57.377Z"
   },
   {
    "duration": 40,
    "start_time": "2022-03-10T04:44:57.393Z"
   },
   {
    "duration": 20,
    "start_time": "2022-03-10T04:44:57.435Z"
   },
   {
    "duration": 32,
    "start_time": "2022-03-10T04:44:57.457Z"
   },
   {
    "duration": 21,
    "start_time": "2022-03-10T04:44:57.492Z"
   },
   {
    "duration": 31,
    "start_time": "2022-03-10T04:44:57.516Z"
   },
   {
    "duration": 50,
    "start_time": "2022-03-10T04:44:57.549Z"
   },
   {
    "duration": 8,
    "start_time": "2022-03-10T04:44:57.601Z"
   },
   {
    "duration": 33,
    "start_time": "2022-03-10T04:44:57.611Z"
   },
   {
    "duration": 21,
    "start_time": "2022-03-10T04:44:57.647Z"
   },
   {
    "duration": 35,
    "start_time": "2022-03-10T04:44:57.670Z"
   },
   {
    "duration": 20,
    "start_time": "2022-03-10T04:44:57.706Z"
   },
   {
    "duration": 24,
    "start_time": "2022-03-10T04:44:57.728Z"
   },
   {
    "duration": 35,
    "start_time": "2022-03-10T04:44:57.754Z"
   },
   {
    "duration": 16,
    "start_time": "2022-03-10T04:44:57.792Z"
   },
   {
    "duration": 18,
    "start_time": "2022-03-10T04:44:57.811Z"
   },
   {
    "duration": 45,
    "start_time": "2022-03-10T04:44:57.831Z"
   },
   {
    "duration": 57,
    "start_time": "2022-03-10T04:44:57.878Z"
   },
   {
    "duration": 8,
    "start_time": "2022-03-10T04:44:57.937Z"
   },
   {
    "duration": 11,
    "start_time": "2022-03-10T04:44:57.951Z"
   },
   {
    "duration": 9,
    "start_time": "2022-03-10T04:44:57.964Z"
   },
   {
    "duration": 40,
    "start_time": "2022-03-10T04:44:57.975Z"
   },
   {
    "duration": 7,
    "start_time": "2022-03-10T04:44:58.018Z"
   },
   {
    "duration": 21,
    "start_time": "2022-03-10T04:44:58.027Z"
   },
   {
    "duration": 16,
    "start_time": "2022-03-10T04:44:58.050Z"
   },
   {
    "duration": 36,
    "start_time": "2022-03-10T04:44:58.068Z"
   },
   {
    "duration": 26,
    "start_time": "2022-03-10T04:44:58.106Z"
   },
   {
    "duration": 13,
    "start_time": "2022-03-10T04:44:58.134Z"
   },
   {
    "duration": 15,
    "start_time": "2022-03-10T04:55:30.192Z"
   },
   {
    "duration": 298,
    "start_time": "2022-03-10T05:00:57.473Z"
   },
   {
    "duration": 15,
    "start_time": "2022-03-10T05:01:18.688Z"
   },
   {
    "duration": 16,
    "start_time": "2022-03-10T05:01:29.672Z"
   },
   {
    "duration": 16,
    "start_time": "2022-03-10T05:01:46.941Z"
   },
   {
    "duration": 20,
    "start_time": "2022-03-10T05:02:02.410Z"
   },
   {
    "duration": 7,
    "start_time": "2022-03-10T05:06:24.855Z"
   },
   {
    "duration": 8,
    "start_time": "2022-03-10T05:06:29.023Z"
   },
   {
    "duration": 16,
    "start_time": "2022-03-10T05:08:52.122Z"
   },
   {
    "duration": 19,
    "start_time": "2022-03-10T05:08:52.820Z"
   },
   {
    "duration": 90,
    "start_time": "2022-03-10T05:52:13.717Z"
   },
   {
    "duration": 3,
    "start_time": "2022-03-10T05:52:27.375Z"
   },
   {
    "duration": 10,
    "start_time": "2022-03-10T05:53:05.226Z"
   },
   {
    "duration": 7,
    "start_time": "2022-03-10T05:53:24.336Z"
   },
   {
    "duration": 8,
    "start_time": "2022-03-10T05:53:40.946Z"
   },
   {
    "duration": 22,
    "start_time": "2022-03-10T05:53:41.117Z"
   },
   {
    "duration": 8,
    "start_time": "2022-03-10T05:54:05.513Z"
   },
   {
    "duration": 9,
    "start_time": "2022-03-10T05:56:33.681Z"
   },
   {
    "duration": 382,
    "start_time": "2022-03-10T05:57:21.499Z"
   },
   {
    "duration": 51,
    "start_time": "2022-03-10T05:57:29.438Z"
   },
   {
    "duration": 32,
    "start_time": "2022-03-10T05:57:37.821Z"
   },
   {
    "duration": 48,
    "start_time": "2022-03-10T05:58:06.692Z"
   },
   {
    "duration": 17,
    "start_time": "2022-03-10T05:59:40.649Z"
   },
   {
    "duration": 80,
    "start_time": "2022-03-10T05:59:54.103Z"
   },
   {
    "duration": 249,
    "start_time": "2022-03-10T05:59:56.897Z"
   },
   {
    "duration": 89,
    "start_time": "2022-03-10T06:00:06.617Z"
   },
   {
    "duration": 16,
    "start_time": "2022-03-10T06:00:09.374Z"
   },
   {
    "duration": 231,
    "start_time": "2022-03-10T06:02:21.347Z"
   },
   {
    "duration": 645,
    "start_time": "2022-03-10T06:02:51.775Z"
   },
   {
    "duration": 356,
    "start_time": "2022-03-10T06:02:55.645Z"
   },
   {
    "duration": 15,
    "start_time": "2022-03-10T06:03:05.200Z"
   },
   {
    "duration": 27,
    "start_time": "2022-03-10T06:03:47.200Z"
   },
   {
    "duration": 289,
    "start_time": "2022-03-10T06:04:00.376Z"
   },
   {
    "duration": 25,
    "start_time": "2022-03-10T06:04:06.734Z"
   },
   {
    "duration": 37,
    "start_time": "2022-03-10T06:04:41.128Z"
   },
   {
    "duration": 25,
    "start_time": "2022-03-10T06:04:57.653Z"
   },
   {
    "duration": 25,
    "start_time": "2022-03-10T06:08:59.185Z"
   },
   {
    "duration": 84,
    "start_time": "2022-03-10T06:10:01.289Z"
   },
   {
    "duration": 17,
    "start_time": "2022-03-10T06:10:06.584Z"
   },
   {
    "duration": 32,
    "start_time": "2022-03-10T06:10:14.318Z"
   },
   {
    "duration": 611,
    "start_time": "2022-03-10T06:41:42.634Z"
   },
   {
    "duration": 54,
    "start_time": "2022-03-10T06:41:43.247Z"
   },
   {
    "duration": 12,
    "start_time": "2022-03-10T06:41:43.303Z"
   },
   {
    "duration": 40,
    "start_time": "2022-03-10T06:41:43.318Z"
   },
   {
    "duration": 12,
    "start_time": "2022-03-10T06:41:43.360Z"
   },
   {
    "duration": 42,
    "start_time": "2022-03-10T06:41:43.374Z"
   },
   {
    "duration": 44,
    "start_time": "2022-03-10T06:41:43.419Z"
   },
   {
    "duration": 35,
    "start_time": "2022-03-10T06:41:43.466Z"
   },
   {
    "duration": 2,
    "start_time": "2022-03-10T06:41:43.503Z"
   },
   {
    "duration": 19,
    "start_time": "2022-03-10T06:41:43.507Z"
   },
   {
    "duration": 7,
    "start_time": "2022-03-10T06:41:43.528Z"
   },
   {
    "duration": 12,
    "start_time": "2022-03-10T06:41:43.537Z"
   },
   {
    "duration": 7,
    "start_time": "2022-03-10T06:41:43.552Z"
   },
   {
    "duration": 11,
    "start_time": "2022-03-10T06:41:43.602Z"
   },
   {
    "duration": 16,
    "start_time": "2022-03-10T06:41:43.615Z"
   },
   {
    "duration": 14,
    "start_time": "2022-03-10T06:41:43.633Z"
   },
   {
    "duration": 14,
    "start_time": "2022-03-10T06:41:43.649Z"
   },
   {
    "duration": 44,
    "start_time": "2022-03-10T06:41:43.666Z"
   },
   {
    "duration": 10,
    "start_time": "2022-03-10T06:41:43.712Z"
   },
   {
    "duration": 7,
    "start_time": "2022-03-10T06:41:43.724Z"
   },
   {
    "duration": 5,
    "start_time": "2022-03-10T06:41:43.733Z"
   },
   {
    "duration": 24,
    "start_time": "2022-03-10T06:41:43.745Z"
   },
   {
    "duration": 12,
    "start_time": "2022-03-10T06:41:43.800Z"
   },
   {
    "duration": 14,
    "start_time": "2022-03-10T06:41:43.814Z"
   },
   {
    "duration": 22,
    "start_time": "2022-03-10T06:41:43.831Z"
   },
   {
    "duration": 66,
    "start_time": "2022-03-10T06:41:43.856Z"
   },
   {
    "duration": 18,
    "start_time": "2022-03-10T06:41:43.925Z"
   },
   {
    "duration": 57,
    "start_time": "2022-03-10T06:41:43.945Z"
   },
   {
    "duration": 36,
    "start_time": "2022-03-10T06:41:44.005Z"
   },
   {
    "duration": 7,
    "start_time": "2022-03-10T06:41:44.043Z"
   },
   {
    "duration": 10,
    "start_time": "2022-03-10T06:41:44.051Z"
   },
   {
    "duration": 7,
    "start_time": "2022-03-10T06:41:44.063Z"
   },
   {
    "duration": 30,
    "start_time": "2022-03-10T06:41:44.072Z"
   },
   {
    "duration": 24,
    "start_time": "2022-03-10T06:41:44.104Z"
   },
   {
    "duration": 18,
    "start_time": "2022-03-10T06:41:44.130Z"
   },
   {
    "duration": 13,
    "start_time": "2022-03-10T06:41:44.151Z"
   },
   {
    "duration": 37,
    "start_time": "2022-03-10T06:41:44.166Z"
   },
   {
    "duration": 8,
    "start_time": "2022-03-10T06:41:44.206Z"
   },
   {
    "duration": 18,
    "start_time": "2022-03-10T06:41:44.216Z"
   },
   {
    "duration": 13,
    "start_time": "2022-03-10T06:41:44.237Z"
   },
   {
    "duration": 49,
    "start_time": "2022-03-10T06:41:44.253Z"
   },
   {
    "duration": 3,
    "start_time": "2022-03-10T06:41:44.305Z"
   },
   {
    "duration": 9,
    "start_time": "2022-03-10T06:41:44.310Z"
   },
   {
    "duration": 18,
    "start_time": "2022-03-10T06:41:44.321Z"
   },
   {
    "duration": 25,
    "start_time": "2022-03-10T06:41:44.341Z"
   },
   {
    "duration": 8,
    "start_time": "2022-03-10T06:41:44.369Z"
   },
   {
    "duration": 3,
    "start_time": "2022-03-10T06:41:44.402Z"
   },
   {
    "duration": 29,
    "start_time": "2022-03-10T06:41:44.407Z"
   },
   {
    "duration": 7,
    "start_time": "2022-03-10T06:41:44.438Z"
   },
   {
    "duration": 18,
    "start_time": "2022-03-10T06:41:44.447Z"
   },
   {
    "duration": 36,
    "start_time": "2022-03-10T06:41:44.467Z"
   },
   {
    "duration": 16,
    "start_time": "2022-03-10T06:41:44.505Z"
   },
   {
    "duration": 19,
    "start_time": "2022-03-10T06:41:44.523Z"
   },
   {
    "duration": 2,
    "start_time": "2022-03-10T06:41:44.544Z"
   },
   {
    "duration": 8,
    "start_time": "2022-03-10T06:41:44.547Z"
   },
   {
    "duration": 13,
    "start_time": "2022-03-10T06:41:44.557Z"
   },
   {
    "duration": 50,
    "start_time": "2022-03-10T06:41:44.571Z"
   },
   {
    "duration": 8,
    "start_time": "2022-03-10T06:41:44.622Z"
   },
   {
    "duration": 20,
    "start_time": "2022-03-10T06:41:44.631Z"
   },
   {
    "duration": 51,
    "start_time": "2022-03-10T06:41:44.653Z"
   },
   {
    "duration": 33,
    "start_time": "2022-03-10T06:41:44.706Z"
   },
   {
    "duration": 7,
    "start_time": "2022-03-10T06:41:44.741Z"
   },
   {
    "duration": 2,
    "start_time": "2022-03-10T06:41:44.750Z"
   },
   {
    "duration": 8,
    "start_time": "2022-03-10T06:41:44.754Z"
   },
   {
    "duration": 53,
    "start_time": "2022-03-10T06:41:44.764Z"
   },
   {
    "duration": 25,
    "start_time": "2022-03-10T06:41:44.819Z"
   },
   {
    "duration": 10,
    "start_time": "2022-03-10T06:41:44.849Z"
   },
   {
    "duration": 11,
    "start_time": "2022-03-10T06:41:44.861Z"
   },
   {
    "duration": 32,
    "start_time": "2022-03-10T06:41:44.874Z"
   },
   {
    "duration": 19,
    "start_time": "2022-03-10T06:41:44.908Z"
   },
   {
    "duration": 9,
    "start_time": "2022-03-10T06:41:44.929Z"
   },
   {
    "duration": 9,
    "start_time": "2022-03-10T06:41:44.940Z"
   },
   {
    "duration": 52,
    "start_time": "2022-03-10T06:41:44.951Z"
   },
   {
    "duration": 9,
    "start_time": "2022-03-10T06:41:45.006Z"
   },
   {
    "duration": 47,
    "start_time": "2022-03-10T06:41:45.018Z"
   },
   {
    "duration": 10,
    "start_time": "2022-03-10T06:41:45.067Z"
   },
   {
    "duration": 340,
    "start_time": "2022-03-10T06:44:51.103Z"
   },
   {
    "duration": 239,
    "start_time": "2022-03-10T06:45:05.263Z"
   },
   {
    "duration": 235,
    "start_time": "2022-03-10T06:48:17.063Z"
   },
   {
    "duration": 250,
    "start_time": "2022-03-10T06:50:57.757Z"
   },
   {
    "duration": 279,
    "start_time": "2022-03-10T06:54:07.497Z"
   },
   {
    "duration": 3,
    "start_time": "2022-03-10T06:54:15.486Z"
   },
   {
    "duration": 262,
    "start_time": "2022-03-10T06:56:02.209Z"
   },
   {
    "duration": 28,
    "start_time": "2022-03-10T06:56:54.305Z"
   },
   {
    "duration": 29,
    "start_time": "2022-03-10T06:57:42.838Z"
   },
   {
    "duration": 34,
    "start_time": "2022-03-10T06:58:41.085Z"
   },
   {
    "duration": 27,
    "start_time": "2022-03-10T06:58:52.176Z"
   },
   {
    "duration": 49,
    "start_time": "2022-03-10T07:00:08.758Z"
   },
   {
    "duration": 27,
    "start_time": "2022-03-10T07:00:13.701Z"
   },
   {
    "duration": 3,
    "start_time": "2022-03-10T07:01:37.455Z"
   },
   {
    "duration": 28,
    "start_time": "2022-03-10T07:01:51.794Z"
   },
   {
    "duration": 25,
    "start_time": "2022-03-10T07:04:31.894Z"
   },
   {
    "duration": 27,
    "start_time": "2022-03-10T07:05:05.502Z"
   },
   {
    "duration": 14,
    "start_time": "2022-03-10T08:48:20.582Z"
   },
   {
    "duration": 18,
    "start_time": "2022-03-10T08:48:43.630Z"
   },
   {
    "duration": 21,
    "start_time": "2022-03-10T08:49:02.446Z"
   },
   {
    "duration": 12,
    "start_time": "2022-03-10T08:49:10.305Z"
   },
   {
    "duration": 28,
    "start_time": "2022-03-10T10:37:11.113Z"
   },
   {
    "duration": 3,
    "start_time": "2022-03-10T10:42:44.093Z"
   },
   {
    "duration": 3,
    "start_time": "2022-03-10T10:45:59.447Z"
   },
   {
    "duration": 13,
    "start_time": "2022-03-10T10:52:42.656Z"
   },
   {
    "duration": 24,
    "start_time": "2022-03-10T10:54:30.729Z"
   },
   {
    "duration": 282,
    "start_time": "2022-03-10T10:54:45.038Z"
   },
   {
    "duration": 15,
    "start_time": "2022-03-10T10:54:51.393Z"
   },
   {
    "duration": 258,
    "start_time": "2022-03-10T10:55:06.569Z"
   },
   {
    "duration": 20,
    "start_time": "2022-03-10T10:55:17.998Z"
   },
   {
    "duration": 98,
    "start_time": "2022-03-10T10:58:56.749Z"
   },
   {
    "duration": 100,
    "start_time": "2022-03-10T10:58:58.465Z"
   },
   {
    "duration": 16,
    "start_time": "2022-03-10T11:09:14.620Z"
   },
   {
    "duration": 18,
    "start_time": "2022-03-10T11:09:35.019Z"
   },
   {
    "duration": 14,
    "start_time": "2022-03-10T11:19:52.022Z"
   },
   {
    "duration": 29,
    "start_time": "2022-03-10T11:22:15.443Z"
   },
   {
    "duration": 27,
    "start_time": "2022-03-10T11:22:18.869Z"
   },
   {
    "duration": 31,
    "start_time": "2022-03-10T11:22:33.106Z"
   },
   {
    "duration": 42,
    "start_time": "2022-03-10T11:22:33.273Z"
   },
   {
    "duration": 274,
    "start_time": "2022-03-10T11:22:50.552Z"
   },
   {
    "duration": 26,
    "start_time": "2022-03-10T11:23:06.760Z"
   },
   {
    "duration": 22,
    "start_time": "2022-03-10T11:23:14.526Z"
   },
   {
    "duration": 32,
    "start_time": "2022-03-10T11:23:15.714Z"
   },
   {
    "duration": 21,
    "start_time": "2022-03-10T11:24:00.368Z"
   },
   {
    "duration": 13,
    "start_time": "2022-03-10T11:24:01.510Z"
   },
   {
    "duration": 6,
    "start_time": "2022-03-10T11:24:37.963Z"
   },
   {
    "duration": 6,
    "start_time": "2022-03-10T11:24:56.118Z"
   },
   {
    "duration": 12,
    "start_time": "2022-03-10T11:25:17.250Z"
   },
   {
    "duration": 95,
    "start_time": "2022-03-10T11:27:03.349Z"
   },
   {
    "duration": 282,
    "start_time": "2022-03-10T11:27:46.091Z"
   },
   {
    "duration": 294,
    "start_time": "2022-03-10T11:28:00.190Z"
   },
   {
    "duration": 272,
    "start_time": "2022-03-10T11:28:10.272Z"
   },
   {
    "duration": 21,
    "start_time": "2022-03-10T11:28:24.293Z"
   },
   {
    "duration": 12,
    "start_time": "2022-03-10T11:28:25.616Z"
   },
   {
    "duration": 30,
    "start_time": "2022-03-10T11:39:59.566Z"
   },
   {
    "duration": 695,
    "start_time": "2022-03-10T11:40:15.862Z"
   },
   {
    "duration": 30,
    "start_time": "2022-03-10T11:40:23.245Z"
   },
   {
    "duration": 44,
    "start_time": "2022-03-10T11:40:44.660Z"
   },
   {
    "duration": 31,
    "start_time": "2022-03-10T11:41:09.765Z"
   },
   {
    "duration": 28,
    "start_time": "2022-03-10T11:44:09.174Z"
   },
   {
    "duration": 789,
    "start_time": "2022-03-10T11:59:29.567Z"
   },
   {
    "duration": 56,
    "start_time": "2022-03-10T11:59:40.647Z"
   },
   {
    "duration": 17,
    "start_time": "2022-03-10T13:42:32.797Z"
   },
   {
    "duration": 646,
    "start_time": "2022-03-10T13:43:32.437Z"
   },
   {
    "duration": 52,
    "start_time": "2022-03-10T13:43:33.085Z"
   },
   {
    "duration": 14,
    "start_time": "2022-03-10T13:43:33.140Z"
   },
   {
    "duration": 65,
    "start_time": "2022-03-10T13:43:33.158Z"
   },
   {
    "duration": 17,
    "start_time": "2022-03-10T13:43:33.226Z"
   },
   {
    "duration": 68,
    "start_time": "2022-03-10T13:43:33.246Z"
   },
   {
    "duration": 92,
    "start_time": "2022-03-10T13:43:33.316Z"
   },
   {
    "duration": 33,
    "start_time": "2022-03-10T13:43:33.412Z"
   },
   {
    "duration": 5,
    "start_time": "2022-03-10T13:43:33.448Z"
   },
   {
    "duration": 44,
    "start_time": "2022-03-10T13:43:33.455Z"
   },
   {
    "duration": 15,
    "start_time": "2022-03-10T13:43:33.501Z"
   },
   {
    "duration": 39,
    "start_time": "2022-03-10T13:43:33.518Z"
   },
   {
    "duration": 22,
    "start_time": "2022-03-10T13:43:33.559Z"
   },
   {
    "duration": 37,
    "start_time": "2022-03-10T13:43:33.584Z"
   },
   {
    "duration": 26,
    "start_time": "2022-03-10T13:43:33.623Z"
   },
   {
    "duration": 50,
    "start_time": "2022-03-10T13:43:33.652Z"
   },
   {
    "duration": 74,
    "start_time": "2022-03-10T13:43:33.704Z"
   },
   {
    "duration": 48,
    "start_time": "2022-03-10T13:43:33.781Z"
   },
   {
    "duration": 26,
    "start_time": "2022-03-10T13:43:33.832Z"
   },
   {
    "duration": 30,
    "start_time": "2022-03-10T13:43:33.860Z"
   },
   {
    "duration": 26,
    "start_time": "2022-03-10T13:43:33.893Z"
   },
   {
    "duration": 39,
    "start_time": "2022-03-10T13:43:33.921Z"
   },
   {
    "duration": 36,
    "start_time": "2022-03-10T13:43:33.966Z"
   },
   {
    "duration": 27,
    "start_time": "2022-03-10T13:43:34.005Z"
   },
   {
    "duration": 29,
    "start_time": "2022-03-10T13:43:34.035Z"
   },
   {
    "duration": 74,
    "start_time": "2022-03-10T13:43:34.066Z"
   },
   {
    "duration": 24,
    "start_time": "2022-03-10T13:43:34.142Z"
   },
   {
    "duration": 60,
    "start_time": "2022-03-10T13:43:34.168Z"
   },
   {
    "duration": 47,
    "start_time": "2022-03-10T13:43:34.231Z"
   },
   {
    "duration": 23,
    "start_time": "2022-03-10T13:43:34.280Z"
   },
   {
    "duration": 7,
    "start_time": "2022-03-10T13:43:34.305Z"
   },
   {
    "duration": 26,
    "start_time": "2022-03-10T13:43:34.315Z"
   },
   {
    "duration": 22,
    "start_time": "2022-03-10T13:43:34.343Z"
   },
   {
    "duration": 56,
    "start_time": "2022-03-10T13:43:34.367Z"
   },
   {
    "duration": 39,
    "start_time": "2022-03-10T13:43:34.426Z"
   },
   {
    "duration": 25,
    "start_time": "2022-03-10T13:43:34.467Z"
   },
   {
    "duration": 20,
    "start_time": "2022-03-10T13:43:34.495Z"
   },
   {
    "duration": 26,
    "start_time": "2022-03-10T13:43:34.517Z"
   },
   {
    "duration": 25,
    "start_time": "2022-03-10T13:43:34.545Z"
   },
   {
    "duration": 32,
    "start_time": "2022-03-10T13:43:34.572Z"
   },
   {
    "duration": 38,
    "start_time": "2022-03-10T13:43:34.606Z"
   },
   {
    "duration": 10,
    "start_time": "2022-03-10T13:43:34.647Z"
   },
   {
    "duration": 38,
    "start_time": "2022-03-10T13:43:34.659Z"
   },
   {
    "duration": 39,
    "start_time": "2022-03-10T13:43:34.699Z"
   },
   {
    "duration": 41,
    "start_time": "2022-03-10T13:43:34.740Z"
   },
   {
    "duration": 75,
    "start_time": "2022-03-10T13:43:34.783Z"
   },
   {
    "duration": 17,
    "start_time": "2022-03-10T13:43:34.861Z"
   },
   {
    "duration": 49,
    "start_time": "2022-03-10T13:43:34.880Z"
   },
   {
    "duration": 12,
    "start_time": "2022-03-10T13:43:34.931Z"
   },
   {
    "duration": 26,
    "start_time": "2022-03-10T13:43:34.947Z"
   },
   {
    "duration": 12,
    "start_time": "2022-03-10T13:43:34.975Z"
   },
   {
    "duration": 47,
    "start_time": "2022-03-10T13:43:34.989Z"
   },
   {
    "duration": 36,
    "start_time": "2022-03-10T13:43:35.039Z"
   },
   {
    "duration": 21,
    "start_time": "2022-03-10T13:43:35.078Z"
   },
   {
    "duration": 33,
    "start_time": "2022-03-10T13:43:35.101Z"
   },
   {
    "duration": 87,
    "start_time": "2022-03-10T13:43:35.137Z"
   },
   {
    "duration": 22,
    "start_time": "2022-03-10T13:44:57.955Z"
   },
   {
    "duration": 26,
    "start_time": "2022-03-10T13:46:29.100Z"
   },
   {
    "duration": 3,
    "start_time": "2022-03-10T13:47:44.564Z"
   },
   {
    "duration": 613,
    "start_time": "2022-03-10T15:59:50.639Z"
   },
   {
    "duration": 46,
    "start_time": "2022-03-10T15:59:51.254Z"
   },
   {
    "duration": 11,
    "start_time": "2022-03-10T15:59:51.302Z"
   },
   {
    "duration": 51,
    "start_time": "2022-03-10T15:59:51.315Z"
   },
   {
    "duration": 14,
    "start_time": "2022-03-10T15:59:51.367Z"
   },
   {
    "duration": 12,
    "start_time": "2022-03-10T15:59:51.383Z"
   },
   {
    "duration": 64,
    "start_time": "2022-03-10T15:59:51.397Z"
   },
   {
    "duration": 22,
    "start_time": "2022-03-10T15:59:51.464Z"
   },
   {
    "duration": 3,
    "start_time": "2022-03-10T15:59:51.488Z"
   },
   {
    "duration": 19,
    "start_time": "2022-03-10T15:59:51.492Z"
   },
   {
    "duration": 5,
    "start_time": "2022-03-10T15:59:51.512Z"
   },
   {
    "duration": 41,
    "start_time": "2022-03-10T15:59:51.519Z"
   },
   {
    "duration": 5,
    "start_time": "2022-03-10T15:59:51.562Z"
   },
   {
    "duration": 15,
    "start_time": "2022-03-10T15:59:51.569Z"
   },
   {
    "duration": 13,
    "start_time": "2022-03-10T15:59:51.586Z"
   },
   {
    "duration": 11,
    "start_time": "2022-03-10T15:59:51.601Z"
   },
   {
    "duration": 11,
    "start_time": "2022-03-10T15:59:51.614Z"
   },
   {
    "duration": 38,
    "start_time": "2022-03-10T15:59:51.627Z"
   },
   {
    "duration": 4,
    "start_time": "2022-03-10T15:59:51.666Z"
   },
   {
    "duration": 6,
    "start_time": "2022-03-10T15:59:51.672Z"
   },
   {
    "duration": 6,
    "start_time": "2022-03-10T15:59:51.679Z"
   },
   {
    "duration": 25,
    "start_time": "2022-03-10T15:59:51.687Z"
   },
   {
    "duration": 10,
    "start_time": "2022-03-10T15:59:51.715Z"
   },
   {
    "duration": 41,
    "start_time": "2022-03-10T15:59:51.728Z"
   },
   {
    "duration": 15,
    "start_time": "2022-03-10T15:59:51.771Z"
   },
   {
    "duration": 34,
    "start_time": "2022-03-10T15:59:51.787Z"
   },
   {
    "duration": 40,
    "start_time": "2022-03-10T15:59:51.822Z"
   },
   {
    "duration": 28,
    "start_time": "2022-03-10T15:59:51.863Z"
   },
   {
    "duration": 31,
    "start_time": "2022-03-10T15:59:51.893Z"
   },
   {
    "duration": 5,
    "start_time": "2022-03-10T15:59:51.925Z"
   },
   {
    "duration": 3,
    "start_time": "2022-03-10T15:59:51.960Z"
   },
   {
    "duration": 5,
    "start_time": "2022-03-10T15:59:51.964Z"
   },
   {
    "duration": 5,
    "start_time": "2022-03-10T15:59:51.970Z"
   },
   {
    "duration": 20,
    "start_time": "2022-03-10T15:59:51.977Z"
   },
   {
    "duration": 15,
    "start_time": "2022-03-10T15:59:51.998Z"
   },
   {
    "duration": 10,
    "start_time": "2022-03-10T15:59:52.014Z"
   },
   {
    "duration": 35,
    "start_time": "2022-03-10T15:59:52.026Z"
   },
   {
    "duration": 5,
    "start_time": "2022-03-10T15:59:52.063Z"
   },
   {
    "duration": 10,
    "start_time": "2022-03-10T15:59:52.069Z"
   },
   {
    "duration": 11,
    "start_time": "2022-03-10T15:59:52.081Z"
   },
   {
    "duration": 22,
    "start_time": "2022-03-10T15:59:52.093Z"
   },
   {
    "duration": 3,
    "start_time": "2022-03-10T15:59:52.116Z"
   },
   {
    "duration": 5,
    "start_time": "2022-03-10T15:59:52.120Z"
   },
   {
    "duration": 9,
    "start_time": "2022-03-10T15:59:52.160Z"
   },
   {
    "duration": 18,
    "start_time": "2022-03-10T15:59:52.171Z"
   },
   {
    "duration": 5,
    "start_time": "2022-03-10T15:59:52.191Z"
   },
   {
    "duration": 3,
    "start_time": "2022-03-10T15:59:52.198Z"
   },
   {
    "duration": 28,
    "start_time": "2022-03-10T15:59:52.203Z"
   },
   {
    "duration": 8,
    "start_time": "2022-03-10T15:59:52.259Z"
   },
   {
    "duration": 15,
    "start_time": "2022-03-10T15:59:52.268Z"
   },
   {
    "duration": 3,
    "start_time": "2022-03-10T15:59:52.285Z"
   },
   {
    "duration": 11,
    "start_time": "2022-03-10T15:59:52.290Z"
   },
   {
    "duration": 19,
    "start_time": "2022-03-10T15:59:52.302Z"
   },
   {
    "duration": 53,
    "start_time": "2022-03-10T15:59:52.323Z"
   },
   {
    "duration": 14,
    "start_time": "2022-03-10T15:59:52.377Z"
   },
   {
    "duration": 13,
    "start_time": "2022-03-10T15:59:52.392Z"
   },
   {
    "duration": 70,
    "start_time": "2022-03-10T15:59:52.407Z"
   },
   {
    "duration": 634,
    "start_time": "2022-03-10T16:16:11.330Z"
   },
   {
    "duration": 46,
    "start_time": "2022-03-10T16:16:11.966Z"
   },
   {
    "duration": 13,
    "start_time": "2022-03-10T16:16:12.016Z"
   },
   {
    "duration": 60,
    "start_time": "2022-03-10T16:16:12.031Z"
   },
   {
    "duration": 13,
    "start_time": "2022-03-10T16:16:12.092Z"
   },
   {
    "duration": 11,
    "start_time": "2022-03-10T16:16:12.107Z"
   },
   {
    "duration": 64,
    "start_time": "2022-03-10T16:16:12.120Z"
   },
   {
    "duration": 23,
    "start_time": "2022-03-10T16:16:12.187Z"
   },
   {
    "duration": 3,
    "start_time": "2022-03-10T16:16:12.212Z"
   },
   {
    "duration": 16,
    "start_time": "2022-03-10T16:16:12.217Z"
   },
   {
    "duration": 29,
    "start_time": "2022-03-10T16:16:12.234Z"
   },
   {
    "duration": 11,
    "start_time": "2022-03-10T16:16:12.265Z"
   },
   {
    "duration": 6,
    "start_time": "2022-03-10T16:16:12.277Z"
   },
   {
    "duration": 9,
    "start_time": "2022-03-10T16:16:12.285Z"
   },
   {
    "duration": 18,
    "start_time": "2022-03-10T16:16:12.297Z"
   },
   {
    "duration": 45,
    "start_time": "2022-03-10T16:16:12.317Z"
   },
   {
    "duration": 11,
    "start_time": "2022-03-10T16:16:12.364Z"
   },
   {
    "duration": 11,
    "start_time": "2022-03-10T16:16:12.377Z"
   },
   {
    "duration": 4,
    "start_time": "2022-03-10T16:16:12.389Z"
   },
   {
    "duration": 6,
    "start_time": "2022-03-10T16:16:12.395Z"
   },
   {
    "duration": 5,
    "start_time": "2022-03-10T16:16:12.402Z"
   },
   {
    "duration": 63,
    "start_time": "2022-03-10T16:16:12.412Z"
   },
   {
    "duration": 12,
    "start_time": "2022-03-10T16:16:12.479Z"
   },
   {
    "duration": 14,
    "start_time": "2022-03-10T16:16:12.493Z"
   },
   {
    "duration": 18,
    "start_time": "2022-03-10T16:16:12.509Z"
   },
   {
    "duration": 34,
    "start_time": "2022-03-10T16:16:12.560Z"
   },
   {
    "duration": 16,
    "start_time": "2022-03-10T16:16:12.596Z"
   },
   {
    "duration": 53,
    "start_time": "2022-03-10T16:16:12.614Z"
   },
   {
    "duration": 35,
    "start_time": "2022-03-10T16:16:12.669Z"
   },
   {
    "duration": 4,
    "start_time": "2022-03-10T16:16:12.706Z"
   },
   {
    "duration": 4,
    "start_time": "2022-03-10T16:16:12.712Z"
   },
   {
    "duration": 7,
    "start_time": "2022-03-10T16:16:12.717Z"
   },
   {
    "duration": 10,
    "start_time": "2022-03-10T16:16:12.726Z"
   },
   {
    "duration": 40,
    "start_time": "2022-03-10T16:16:12.738Z"
   },
   {
    "duration": 15,
    "start_time": "2022-03-10T16:16:12.780Z"
   },
   {
    "duration": 11,
    "start_time": "2022-03-10T16:16:12.797Z"
   },
   {
    "duration": 9,
    "start_time": "2022-03-10T16:16:12.810Z"
   },
   {
    "duration": 8,
    "start_time": "2022-03-10T16:16:12.820Z"
   },
   {
    "duration": 12,
    "start_time": "2022-03-10T16:16:12.858Z"
   },
   {
    "duration": 11,
    "start_time": "2022-03-10T16:16:12.872Z"
   },
   {
    "duration": 21,
    "start_time": "2022-03-10T16:16:12.885Z"
   },
   {
    "duration": 3,
    "start_time": "2022-03-10T16:16:12.907Z"
   },
   {
    "duration": 8,
    "start_time": "2022-03-10T16:16:12.912Z"
   },
   {
    "duration": 41,
    "start_time": "2022-03-10T16:16:12.921Z"
   },
   {
    "duration": 23,
    "start_time": "2022-03-10T16:16:12.964Z"
   },
   {
    "duration": 6,
    "start_time": "2022-03-10T16:16:12.989Z"
   },
   {
    "duration": 4,
    "start_time": "2022-03-10T16:16:12.997Z"
   },
   {
    "duration": 26,
    "start_time": "2022-03-10T16:16:13.003Z"
   },
   {
    "duration": 32,
    "start_time": "2022-03-10T16:16:13.030Z"
   },
   {
    "duration": 11,
    "start_time": "2022-03-10T16:16:13.064Z"
   },
   {
    "duration": 3,
    "start_time": "2022-03-10T16:16:13.077Z"
   },
   {
    "duration": 16,
    "start_time": "2022-03-10T16:16:13.081Z"
   },
   {
    "duration": 18,
    "start_time": "2022-03-10T16:16:13.099Z"
   },
   {
    "duration": 59,
    "start_time": "2022-03-10T16:16:13.119Z"
   },
   {
    "duration": 13,
    "start_time": "2022-03-10T16:16:13.180Z"
   },
   {
    "duration": 15,
    "start_time": "2022-03-10T16:16:13.195Z"
   },
   {
    "duration": 87,
    "start_time": "2022-03-10T16:16:13.212Z"
   },
   {
    "duration": 19,
    "start_time": "2022-03-10T16:24:23.274Z"
   }
  ],
  "kernelspec": {
   "display_name": "Python 3 (ipykernel)",
   "language": "python",
   "name": "python3"
  },
  "language_info": {
   "codemirror_mode": {
    "name": "ipython",
    "version": 3
   },
   "file_extension": ".py",
   "mimetype": "text/x-python",
   "name": "python",
   "nbconvert_exporter": "python",
   "pygments_lexer": "ipython3",
   "version": "3.9.7"
  },
  "toc": {
   "base_numbering": 1,
   "nav_menu": {},
   "number_sections": true,
   "sideBar": true,
   "skip_h1_title": true,
   "title_cell": "Table of Contents",
   "title_sidebar": "Contents",
   "toc_cell": false,
   "toc_position": {},
   "toc_section_display": true,
   "toc_window_display": false
  }
 },
 "nbformat": 4,
 "nbformat_minor": 5
}
