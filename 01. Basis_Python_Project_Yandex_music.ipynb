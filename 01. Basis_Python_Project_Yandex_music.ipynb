{
 "cells": [
  {
   "cell_type": "markdown",
   "metadata": {},
   "source": [
    "<span style=\"color:green\">**Поздравляю, твой проект принят!**</span>\n",
    "\n",
    "Все замечания были исправлены, я принимаю твой проект! Надеюсь ревью было полезным:) Желаю успехов в учебе и со следующими проектами! \n",
    "\n",
    "Оформление комментариев оставим таким же, только обозначим номер проверки.\n",
    "\n",
    "<span style=\"color:blue\">**Привет еще раз!**</span>\n",
    "\n",
    "Спасибо, что доработал проект, но не все критические замечания были исправлены. Дал дополнительные комментарии с меткой `v2`.\n",
    "\n",
    "<span style=\"color:purple\">**Приветствую!**</span>\n",
    "\n",
    "Меня зовут **Василий Удинкан** и я - ревьювер, буду проверять твой проект.\n",
    "\n",
    "Если не против, я буду обращаться к тебе на \"ТЫ\". Если это неприемлемо, обязательно напиши мне в комментариях – мы прейдем на \"ВЫ\".\n",
    "\n",
    "Спасибо, что сдала проект. В тетради ты сможешь найти мои комментарии. Пострайся учесть эти комментарии в ходе выполнения дальнейших проектов.\n",
    "\n",
    "Обрати внимание, я буду выделять свои комментарии цветом, в зависимости от того, какие действия, важность и особенности тебя ждут в процессе проверки.\n",
    "\n",
    "<div class=\"alert alert-block alert-success\">\n",
    "\n",
    "**Комментарий ревьювера (все отлично)**\n",
    "    \n",
    "Такими комментариями я буду помечать хорошо проделаную работу, а так же хорошо проделаную работу над ошибками.\n",
    "</div>\n",
    "\n",
    "<div class=\"alert alert-block alert-warning\">\n",
    "\n",
    "**Комментарий ревьювера (что можно улучшить)**\n",
    "    \n",
    "После таких комментариев ничего исправлять не нужно, но я дам рекомендации на будущее и подскажу, что можно улучшить.\n",
    "</div>\n",
    "\n",
    "<div class=\"alert alert-block alert-danger\">\n",
    "    \n",
    "**Комментарий ревьювера (недочет, который нужно доработать)**\n",
    "    \n",
    "Если ты видишь такой комментарий, значит я указываю тебе на недочёт, его нужно исправить. Без такого исправления я не приму твою работу:)\n",
    "</div>\n",
    "\n",
    "**Пожалуста, не удаляй мои комментарии. При повторной проверке, я буду ориентироваться на них.**\n",
    "\n",
    "<span style=\"color:blue\"> Можешь под моими комментариями оставлять свои, в которых опиши свои испарвления. Это облегчит процесс проверки и мне, и тебе:) Например, вот так:</span>\n",
    "\n",
    "<div class=\"alert alert-block alert-info\">\n",
    "<b>Комментарий студента: </b>\n",
    "</div>\n",
    "\n",
    "</div>"
   ]
  },
  {
   "cell_type": "markdown",
   "metadata": {},
   "source": [
    "<div class=\"alert alert-block alert-warning\">\n",
    "\n",
    "**Итоговый комментарий ревьювера**\n",
    "\n",
    "Базовый питон усвоен на отлично, но проект имеет пару критических замечаний. Исправь их и я приму твой проект. Возвращаю проект обратно, чтобы убедиться - все ли мои комментарии понятны. Если вдруг у тебя возникнут вопросы, то я с радостью отвечу на них:)\n",
    "</div>"
   ]
  },
  {
   "cell_type": "markdown",
   "metadata": {
    "id": "E0vqbgi9ay0H"
   },
   "source": [
    "# Яндекс.Музыка"
   ]
  },
  {
   "cell_type": "markdown",
   "metadata": {
    "id": "VUC88oWjTJw2"
   },
   "source": [
    "Сравнение Москвы и Петербурга окружено мифами. Например:\n",
    " * Москва — мегаполис, подчинённый жёсткому ритму рабочей недели;\n",
    " * Петербург — культурная столица, со своими вкусами.\n",
    "\n",
    "На данных Яндекс.Музыки вы сравните поведение пользователей двух столиц.\n",
    "\n",
    "**Цель исследования** — проверьте три гипотезы:\n",
    "1. Активность пользователей зависит от дня недели. Причём в Москве и Петербурге это проявляется по-разному.\n",
    "2. В понедельник утром в Москве преобладают одни жанры, а в Петербурге — другие. Так же и вечером пятницы преобладают разные жанры — в зависимости от города. \n",
    "3. Москва и Петербург предпочитают разные жанры музыки. В Москве чаще слушают поп-музыку, в Петербурге — русский рэп.\n",
    "\n",
    "**Ход исследования**\n",
    "\n",
    "Данные о поведении пользователей вы получите из файла `yandex_music_project.csv`. О качестве данных ничего не известно. Поэтому перед проверкой гипотез понадобится обзор данных. \n",
    "\n",
    "Вы проверите данные на ошибки и оцените их влияние на исследование. Затем, на этапе предобработки вы поищете возможность исправить самые критичные ошибки данных.\n",
    " \n",
    "Таким образом, исследование пройдёт в три этапа:\n",
    " 1. Обзор данных.\n",
    " 2. Предобработка данных.\n",
    " 3. Проверка гипотез.\n",
    "\n"
   ]
  },
  {
   "cell_type": "markdown",
   "metadata": {
    "id": "Ml1hmfXC_Zcs"
   },
   "source": [
    "## Обзор данных\n",
    "\n",
    "Составьте первое представление о данных Яндекс.Музыки.\n",
    "\n",
    "\n"
   ]
  },
  {
   "cell_type": "markdown",
   "metadata": {
    "id": "57eAOGIz_Zcs"
   },
   "source": [
    "Основной инструмент аналитика — `pandas`. Импортируйте эту библиотеку."
   ]
  },
  {
   "cell_type": "code",
   "execution_count": 1,
   "metadata": {
    "id": "AXN7PHPN_Zcs"
   },
   "outputs": [],
   "source": [
    "# импорт библиотеки pandas\n",
    "import pandas as pd"
   ]
  },
  {
   "cell_type": "markdown",
   "metadata": {},
   "source": [
    "<div class=\"alert alert-block alert-success\">\n",
    "\n",
    "**Комментарий ревьювера (все отлично)**\n",
    "    \n",
    "Очень здорово, что ты используешь сокращение pd для Pandas, это общепринятое сокращение для этой библиотеки для удобной дальнейшей работы.\n",
    "</div>"
   ]
  },
  {
   "cell_type": "markdown",
   "metadata": {
    "id": "SG23P8tt_Zcs"
   },
   "source": [
    "Прочитайте файл `yandex_music_project.csv` из папки `/datasets` и сохраните его в переменной `df`:"
   ]
  },
  {
   "cell_type": "code",
   "execution_count": 2,
   "metadata": {
    "id": "fFVu7vqh_Zct"
   },
   "outputs": [],
   "source": [
    "# чтение файла с данными и сохранение в df\n",
    "df = pd.read_csv('/datasets/yandex_music_project.csv')"
   ]
  },
  {
   "cell_type": "markdown",
   "metadata": {},
   "source": [
    "<div class=\"alert alert-block alert-success\">\n",
    "\n",
    "**Комментарий ревьювера (все отлично)**\n",
    "    \n",
    "Указан правильный путь к файлу: слэш в начале пути очень важен, так как указывает, что нужно искать файл в корневой папке.\n",
    "</div>"
   ]
  },
  {
   "cell_type": "markdown",
   "metadata": {
    "id": "rDoOMd3uTqnZ"
   },
   "source": [
    "Выведите на экран первые десять строк таблицы:"
   ]
  },
  {
   "cell_type": "code",
   "execution_count": 3,
   "metadata": {
    "id": "oWTVX3gW_Zct"
   },
   "outputs": [
    {
     "data": {
      "text/html": [
       "<div>\n",
       "<style scoped>\n",
       "    .dataframe tbody tr th:only-of-type {\n",
       "        vertical-align: middle;\n",
       "    }\n",
       "\n",
       "    .dataframe tbody tr th {\n",
       "        vertical-align: top;\n",
       "    }\n",
       "\n",
       "    .dataframe thead th {\n",
       "        text-align: right;\n",
       "    }\n",
       "</style>\n",
       "<table border=\"1\" class=\"dataframe\">\n",
       "  <thead>\n",
       "    <tr style=\"text-align: right;\">\n",
       "      <th></th>\n",
       "      <th>userID</th>\n",
       "      <th>Track</th>\n",
       "      <th>artist</th>\n",
       "      <th>genre</th>\n",
       "      <th>City</th>\n",
       "      <th>time</th>\n",
       "      <th>Day</th>\n",
       "    </tr>\n",
       "  </thead>\n",
       "  <tbody>\n",
       "    <tr>\n",
       "      <td>0</td>\n",
       "      <td>FFB692EC</td>\n",
       "      <td>Kamigata To Boots</td>\n",
       "      <td>The Mass Missile</td>\n",
       "      <td>rock</td>\n",
       "      <td>Saint-Petersburg</td>\n",
       "      <td>20:28:33</td>\n",
       "      <td>Wednesday</td>\n",
       "    </tr>\n",
       "    <tr>\n",
       "      <td>1</td>\n",
       "      <td>55204538</td>\n",
       "      <td>Delayed Because of Accident</td>\n",
       "      <td>Andreas Rönnberg</td>\n",
       "      <td>rock</td>\n",
       "      <td>Moscow</td>\n",
       "      <td>14:07:09</td>\n",
       "      <td>Friday</td>\n",
       "    </tr>\n",
       "    <tr>\n",
       "      <td>2</td>\n",
       "      <td>20EC38</td>\n",
       "      <td>Funiculì funiculà</td>\n",
       "      <td>Mario Lanza</td>\n",
       "      <td>pop</td>\n",
       "      <td>Saint-Petersburg</td>\n",
       "      <td>20:58:07</td>\n",
       "      <td>Wednesday</td>\n",
       "    </tr>\n",
       "    <tr>\n",
       "      <td>3</td>\n",
       "      <td>A3DD03C9</td>\n",
       "      <td>Dragons in the Sunset</td>\n",
       "      <td>Fire + Ice</td>\n",
       "      <td>folk</td>\n",
       "      <td>Saint-Petersburg</td>\n",
       "      <td>08:37:09</td>\n",
       "      <td>Monday</td>\n",
       "    </tr>\n",
       "    <tr>\n",
       "      <td>4</td>\n",
       "      <td>E2DC1FAE</td>\n",
       "      <td>Soul People</td>\n",
       "      <td>Space Echo</td>\n",
       "      <td>dance</td>\n",
       "      <td>Moscow</td>\n",
       "      <td>08:34:34</td>\n",
       "      <td>Monday</td>\n",
       "    </tr>\n",
       "    <tr>\n",
       "      <td>5</td>\n",
       "      <td>842029A1</td>\n",
       "      <td>Преданная</td>\n",
       "      <td>IMPERVTOR</td>\n",
       "      <td>rusrap</td>\n",
       "      <td>Saint-Petersburg</td>\n",
       "      <td>13:09:41</td>\n",
       "      <td>Friday</td>\n",
       "    </tr>\n",
       "    <tr>\n",
       "      <td>6</td>\n",
       "      <td>4CB90AA5</td>\n",
       "      <td>True</td>\n",
       "      <td>Roman Messer</td>\n",
       "      <td>dance</td>\n",
       "      <td>Moscow</td>\n",
       "      <td>13:00:07</td>\n",
       "      <td>Wednesday</td>\n",
       "    </tr>\n",
       "    <tr>\n",
       "      <td>7</td>\n",
       "      <td>F03E1C1F</td>\n",
       "      <td>Feeling This Way</td>\n",
       "      <td>Polina Griffith</td>\n",
       "      <td>dance</td>\n",
       "      <td>Moscow</td>\n",
       "      <td>20:47:49</td>\n",
       "      <td>Wednesday</td>\n",
       "    </tr>\n",
       "    <tr>\n",
       "      <td>8</td>\n",
       "      <td>8FA1D3BE</td>\n",
       "      <td>И вновь продолжается бой</td>\n",
       "      <td>NaN</td>\n",
       "      <td>ruspop</td>\n",
       "      <td>Moscow</td>\n",
       "      <td>09:17:40</td>\n",
       "      <td>Friday</td>\n",
       "    </tr>\n",
       "    <tr>\n",
       "      <td>9</td>\n",
       "      <td>E772D5C0</td>\n",
       "      <td>Pessimist</td>\n",
       "      <td>NaN</td>\n",
       "      <td>dance</td>\n",
       "      <td>Saint-Petersburg</td>\n",
       "      <td>21:20:49</td>\n",
       "      <td>Wednesday</td>\n",
       "    </tr>\n",
       "  </tbody>\n",
       "</table>\n",
       "</div>"
      ],
      "text/plain": [
       "     userID                        Track            artist   genre  \\\n",
       "0  FFB692EC            Kamigata To Boots  The Mass Missile    rock   \n",
       "1  55204538  Delayed Because of Accident  Andreas Rönnberg    rock   \n",
       "2    20EC38            Funiculì funiculà       Mario Lanza     pop   \n",
       "3  A3DD03C9        Dragons in the Sunset        Fire + Ice    folk   \n",
       "4  E2DC1FAE                  Soul People        Space Echo   dance   \n",
       "5  842029A1                    Преданная         IMPERVTOR  rusrap   \n",
       "6  4CB90AA5                         True      Roman Messer   dance   \n",
       "7  F03E1C1F             Feeling This Way   Polina Griffith   dance   \n",
       "8  8FA1D3BE     И вновь продолжается бой               NaN  ruspop   \n",
       "9  E772D5C0                    Pessimist               NaN   dance   \n",
       "\n",
       "             City        time        Day  \n",
       "0  Saint-Petersburg  20:28:33  Wednesday  \n",
       "1            Moscow  14:07:09     Friday  \n",
       "2  Saint-Petersburg  20:58:07  Wednesday  \n",
       "3  Saint-Petersburg  08:37:09     Monday  \n",
       "4            Moscow  08:34:34     Monday  \n",
       "5  Saint-Petersburg  13:09:41     Friday  \n",
       "6            Moscow  13:00:07  Wednesday  \n",
       "7            Moscow  20:47:49  Wednesday  \n",
       "8            Moscow  09:17:40     Friday  \n",
       "9  Saint-Petersburg  21:20:49  Wednesday  "
      ]
     },
     "execution_count": 3,
     "metadata": {},
     "output_type": "execute_result"
    }
   ],
   "source": [
    "# получение первых 10 строк таблицы df\n",
    "df.head(10)"
   ]
  },
  {
   "cell_type": "markdown",
   "metadata": {},
   "source": [
    "<div class=\"alert alert-block alert-success\">\n",
    "\n",
    "**Комментарий ревьювера (все отлично)** \n",
    "    \n",
    "Все супер! А метод tail() выводит последние n строк, sample() выводит любые случайные n количество строк. \n",
    "</div>"
   ]
  },
  {
   "cell_type": "markdown",
   "metadata": {
    "id": "EO73Kwic_Zct"
   },
   "source": [
    "Одной командой получить общую информацию о таблице:"
   ]
  },
  {
   "cell_type": "code",
   "execution_count": 4,
   "metadata": {
    "id": "DSf2kIb-_Zct"
   },
   "outputs": [
    {
     "name": "stdout",
     "output_type": "stream",
     "text": [
      "<class 'pandas.core.frame.DataFrame'>\n",
      "RangeIndex: 65079 entries, 0 to 65078\n",
      "Data columns (total 7 columns):\n",
      "  userID    65079 non-null object\n",
      "Track       63848 non-null object\n",
      "artist      57876 non-null object\n",
      "genre       63881 non-null object\n",
      "  City      65079 non-null object\n",
      "time        65079 non-null object\n",
      "Day         65079 non-null object\n",
      "dtypes: object(7)\n",
      "memory usage: 3.5+ MB\n"
     ]
    }
   ],
   "source": [
    "# получение общей информации о данных в таблице df\n",
    "df.info()"
   ]
  },
  {
   "cell_type": "markdown",
   "metadata": {},
   "source": [
    "<div class=\"alert alert-block alert-success\">\n",
    "\n",
    "**Комментарий ревьювера (все отлично)** \n",
    "    \n",
    "Отличный выбор метода - info действительно показывает много информации о датафрейме.\n",
    "</div>"
   ]
  },
  {
   "cell_type": "markdown",
   "metadata": {
    "id": "TaQ2Iwbr_Zct"
   },
   "source": [
    "Итак, в таблице семь столбцов. Тип данных во всех столбцах — `object`.\n",
    "\n",
    "Согласно документации к данным:\n",
    "* `userID` — идентификатор пользователя;\n",
    "* `Track` — название трека;  \n",
    "* `artist` — имя исполнителя;\n",
    "* `genre` — название жанра;\n",
    "* `City` — город пользователя;\n",
    "* `time` — время начала прослушивания;\n",
    "* `Day` — день недели.\n",
    "\n",
    "В названиях колонок видны три нарушения стиля:\n",
    "1. Строчные буквы сочетаются с прописными.\n",
    "2. Встречаются пробелы.\n",
    "3. Найдите ещё одну проблему в названии колонок и опишите её в этом пункте.\n",
    "\n",
    "\n",
    "\n",
    "\n",
    "Количество значений в столбцах различается. Значит, в данных есть пропущенные значения.\n"
   ]
  },
  {
   "cell_type": "markdown",
   "metadata": {
    "id": "MCB6-dXG_Zct"
   },
   "source": [
    "**Выводы**\n",
    "\n",
    "В каждой строке таблицы — данные о прослушанном треке. Часть колонок описывает саму композицию: название, исполнителя и жанр. Остальные данные рассказывают о пользователе: из какого он города, когда он слушал музыку. \n",
    "\n",
    "Предварительно можно утверждать, что, данных достаточно для проверки гипотез. Но встречаются пропуски в данных, а в названиях колонок — расхождения с хорошим стилем.\n",
    "\n",
    "Чтобы двигаться дальше, нужно устранить проблемы в данных."
   ]
  },
  {
   "cell_type": "markdown",
   "metadata": {},
   "source": [
    "<div class=\"alert alert-block alert-danger\">\n",
    "\n",
    "**Комментарий ревьювера (недочет, который нужно доработать)**\n",
    "    \n",
    "Ты пропустил ответ в 3 пункте выше `Найдите ещё одну проблему в названии колонок и опишите её в этом пункте.`\n",
    "</div>"
   ]
  },
  {
   "cell_type": "markdown",
   "metadata": {},
   "source": [
    "Комментарий студента:\n",
    "    3. титры \"userID\" и \"City\"написаны некоректно, есть empty spaces + Snake writings - AaAaAa --> .lower() methode to be used\n",
    " "
   ]
  },
  {
   "cell_type": "markdown",
   "metadata": {},
   "source": [
    "<div class=\"alert alert-block alert-success\">\n",
    "\n",
    "**Комментарий ревьювера v2 (все отлично)**\n",
    "    \n",
    "Абсолютно верно!\n",
    "</div>"
   ]
  },
  {
   "cell_type": "markdown",
   "metadata": {
    "id": "SjYF6Ub9_Zct"
   },
   "source": [
    "## Предобработка данных\n",
    "Исправьте стиль в заголовках столбцов, исключите пропуски. Затем проверьте данные на дубликаты."
   ]
  },
  {
   "cell_type": "markdown",
   "metadata": {
    "id": "dIaKXr29_Zct"
   },
   "source": [
    "### Стиль заголовков\n",
    "Выведите на экран названия столбцов:"
   ]
  },
  {
   "cell_type": "code",
   "execution_count": 5,
   "metadata": {
    "id": "oKOTdF_Q_Zct",
    "scrolled": true
   },
   "outputs": [
    {
     "data": {
      "text/plain": [
       "Index(['  userID', 'Track', 'artist', 'genre', '  City  ', 'time', 'Day'], dtype='object')"
      ]
     },
     "execution_count": 5,
     "metadata": {},
     "output_type": "execute_result"
    }
   ],
   "source": [
    "# перечень названий столбцов таблицы df\n",
    "df.columns"
   ]
  },
  {
   "cell_type": "markdown",
   "metadata": {},
   "source": [
    "<div class=\"alert alert-block alert-success\">\n",
    "\n",
    "**Комментарий ревьювера (все отлично)**\n",
    "    \n",
    "Отлично, что здесь не использована функция print() для вывода: ведь это последняя строчка ячейки.\n",
    "</div>"
   ]
  },
  {
   "cell_type": "markdown",
   "metadata": {
    "id": "zj5534cv_Zct"
   },
   "source": [
    "Приведите названия в соответствие с хорошим стилем:\n",
    "* несколько слов в названии запишите в «змеином_регистре»,\n",
    "* все символы сделайте строчными,\n",
    "* устраните пробелы.\n",
    "\n",
    "Для этого переименуйте колонки так:\n",
    "* `'  userID'` → `'user_id'`;\n",
    "* `'Track'` → `'track'`;\n",
    "* `'  City  '` → `'city'`;\n",
    "* `'Day'` → `'day'`."
   ]
  },
  {
   "cell_type": "code",
   "execution_count": 6,
   "metadata": {
    "id": "ISlFqs5y_Zct"
   },
   "outputs": [],
   "source": [
    "# переименование столбцов\n",
    "df = df.rename(columns= {'  userID' : 'user_id', 'Track' : 'track', '  City  ' : 'city', 'Day' : 'day'})\n"
   ]
  },
  {
   "cell_type": "markdown",
   "metadata": {},
   "source": [
    "<div class=\"alert alert-block alert-success\">\n",
    "\n",
    "**Комментарий ревьювера (все отлично)**\n",
    "    \n",
    "Хороший выбор метода - rename сработает без ошибок, даже если изменится порядок столбцов.\n",
    "</div>"
   ]
  },
  {
   "cell_type": "markdown",
   "metadata": {
    "id": "1dqbh00J_Zct"
   },
   "source": [
    "Проверьте результат. Для этого ещё раз выведите на экран названия столбцов:"
   ]
  },
  {
   "cell_type": "code",
   "execution_count": 7,
   "metadata": {
    "id": "d4NOAmTW_Zct"
   },
   "outputs": [
    {
     "data": {
      "text/plain": [
       "Index(['user_id', 'track', 'artist', 'genre', 'city', 'time', 'day'], dtype='object')"
      ]
     },
     "execution_count": 7,
     "metadata": {},
     "output_type": "execute_result"
    }
   ],
   "source": [
    "# проверка результатов - перечень названий столбцов\n",
    "\n",
    "\n",
    "\n",
    "df.columns\n",
    "#columns = df.columns\n",
    "#display(columns)"
   ]
  },
  {
   "cell_type": "markdown",
   "metadata": {
    "id": "5ISfbcfY_Zct"
   },
   "source": [
    "### Пропуски значений\n",
    "Сначала посчитайте, сколько в таблице пропущенных значений. Для этого достаточно двух методов `pandas`:"
   ]
  },
  {
   "cell_type": "code",
   "execution_count": 8,
   "metadata": {
    "id": "RskX29qr_Zct"
   },
   "outputs": [
    {
     "data": {
      "text/plain": [
       "user_id       0\n",
       "track      1231\n",
       "artist     7203\n",
       "genre      1198\n",
       "city          0\n",
       "time          0\n",
       "day           0\n",
       "dtype: int64"
      ]
     },
     "execution_count": 8,
     "metadata": {},
     "output_type": "execute_result"
    }
   ],
   "source": [
    "# подсчёт пропусков\n",
    "df.isna().sum()"
   ]
  },
  {
   "cell_type": "markdown",
   "metadata": {},
   "source": [
    "<div class=\"alert alert-block alert-success\">\n",
    "\n",
    "**Комментарий ревьювера (все отлично)**\n",
    "    \n",
    "Выбран метод isna() для нахождения пропущенных значений, это отлично! На самом деле, isnull() и isna() делают одно и то же, но использование isna() предпочтительнее.\n",
    "</div>"
   ]
  },
  {
   "cell_type": "markdown",
   "metadata": {
    "id": "qubhgnlO_Zct"
   },
   "source": [
    "Не все пропущенные значения влияют на исследование. Так в `track` и `artist` пропуски не важны для вашей работы. Достаточно заменить их явными обозначениями.\n",
    "\n",
    "Но пропуски в `genre` могут помешать сравнению музыкальных вкусов в Москве и Санкт-Петербурге. На практике было бы правильно установить причину пропусков и восстановить данные. Такой возможности нет в учебном проекте. Придётся:\n",
    "* заполнить и эти пропуски явными обозначениями,\n",
    "* оценить, насколько они повредят расчётам. "
   ]
  },
  {
   "cell_type": "code",
   "execution_count": 9,
   "metadata": {},
   "outputs": [],
   "source": [
    "#for column in columns:\n",
    "#    print(df[column])"
   ]
  },
  {
   "cell_type": "markdown",
   "metadata": {
    "id": "fSv2laPA_Zct"
   },
   "source": [
    "Замените пропущенные значения в столбцах `track`, `artist` и `genre` на строку `'unknown'`. Для этого создайте список `columns_to_replace`, переберите его элементы циклом `for` и для каждого столбца выполните замену пропущенных значений:"
   ]
  },
  {
   "cell_type": "code",
   "execution_count": 10,
   "metadata": {
    "id": "KplB5qWs_Zct"
   },
   "outputs": [],
   "source": [
    "# перебор названий столбцов в цикле и замена пропущенных значений на 'unknown'\n",
    "\n",
    "# why do I need to use method \"for\" if Python have funtion available fillna()... \n",
    "\n",
    "#columns_to_replace = df.columns\n",
    "\n",
    "#for column in columns_to_replace:\n",
    "#    for empty_cell in df[column]: \n",
    "#        if empty_cell is None:\n",
    "#            df[column].fillna('unknown')\n",
    "\n",
    "\n",
    "df = df.fillna('unknown')\n",
    "#columns_to_replace = df['track'].fillna('unknown')\n",
    "#columns_to_replace = df['artist'].fillna('unknown')\n",
    "#columns_to_replace = df['genre'].fillna('unknown')\n"
   ]
  },
  {
   "cell_type": "markdown",
   "metadata": {},
   "source": [
    "<div class=\"alert alert-block alert-success\">\n",
    "\n",
    "**Комментарий ревьювера (все отлично)**\n",
    "    \n",
    "Согласен, так проще.\n",
    "</div>"
   ]
  },
  {
   "cell_type": "markdown",
   "metadata": {
    "id": "Ilsm-MZo_Zct"
   },
   "source": [
    "Убедитесь, что в таблице не осталось пропусков. Для этого ещё раз посчитайте пропущенные значения."
   ]
  },
  {
   "cell_type": "code",
   "execution_count": 11,
   "metadata": {
    "id": "Tq4nYRX4_Zct"
   },
   "outputs": [
    {
     "data": {
      "text/plain": [
       "user_id    0\n",
       "track      0\n",
       "artist     0\n",
       "genre      0\n",
       "city       0\n",
       "time       0\n",
       "day        0\n",
       "dtype: int64"
      ]
     },
     "execution_count": 11,
     "metadata": {},
     "output_type": "execute_result"
    }
   ],
   "source": [
    "# подсчёт пропусков\n",
    "df.isna().sum()"
   ]
  },
  {
   "cell_type": "markdown",
   "metadata": {
    "id": "BWKRtBJ3_Zct"
   },
   "source": [
    "### Дубликаты\n",
    "Посчитайте явные дубликаты в таблице одной командой:"
   ]
  },
  {
   "cell_type": "code",
   "execution_count": 12,
   "metadata": {
    "id": "36eES_S0_Zct"
   },
   "outputs": [
    {
     "data": {
      "text/plain": [
       "3826"
      ]
     },
     "execution_count": 12,
     "metadata": {},
     "output_type": "execute_result"
    }
   ],
   "source": [
    "# подсчёт явных дубликатов\n",
    "df.duplicated().sum()"
   ]
  },
  {
   "cell_type": "markdown",
   "metadata": {
    "id": "Ot25h6XR_Zct"
   },
   "source": [
    "Вызовите специальный метод `pandas`, чтобы удалить явные дубликаты:"
   ]
  },
  {
   "cell_type": "code",
   "execution_count": 13,
   "metadata": {
    "id": "exFHq6tt_Zct"
   },
   "outputs": [],
   "source": [
    "# удаление явных дубликатов (с удалением старых индексов и формированием новых)\n",
    "df = df.drop_duplicates().reset_index(drop =True)"
   ]
  },
  {
   "cell_type": "markdown",
   "metadata": {},
   "source": [
    "<div class=\"alert alert-block alert-success\">\n",
    "\n",
    "**Комментарий ревьювера (все отлично)**\n",
    "    \n",
    "Дубликаты определены и удалены оптимальными методами.\n",
    "</div>"
   ]
  },
  {
   "cell_type": "markdown",
   "metadata": {
    "id": "Im2YwBEG_Zct"
   },
   "source": [
    "Ещё раз посчитайте явные дубликаты в таблице — убедитесь, что полностью от них избавились:"
   ]
  },
  {
   "cell_type": "code",
   "execution_count": 14,
   "metadata": {
    "id": "-8PuNWQ0_Zct"
   },
   "outputs": [
    {
     "data": {
      "text/plain": [
       "0"
      ]
     },
     "execution_count": 14,
     "metadata": {},
     "output_type": "execute_result"
    }
   ],
   "source": [
    "# проверка на отсутствие дубликатов\n",
    "df.duplicated().sum()"
   ]
  },
  {
   "cell_type": "markdown",
   "metadata": {
    "id": "QlFBsxAr_Zct"
   },
   "source": [
    "Теперь избавьтесь от неявных дубликатов в колонке `genre`. Например, название одного и того же жанра может быть записано немного по-разному. Такие ошибки тоже повлияют на результат исследования."
   ]
  },
  {
   "cell_type": "markdown",
   "metadata": {
    "id": "eSjWwsOh_Zct"
   },
   "source": [
    "Выведите на экран список уникальных названий жанров, отсортированный в алфавитном порядке. Для этого:\n",
    "* извлеките нужный столбец датафрейма, \n",
    "* примените к нему метод сортировки,\n",
    "* для отсортированного столбца вызовите метод, который вернёт уникальные значения из столбца."
   ]
  },
  {
   "cell_type": "code",
   "execution_count": 15,
   "metadata": {
    "id": "JIUcqzZN_Zct"
   },
   "outputs": [
    {
     "data": {
      "text/plain": [
       "array(['acid', 'acoustic', 'action', 'adult', 'africa', 'afrikaans',\n",
       "       'alternative', 'alternativepunk', 'ambient', 'americana',\n",
       "       'animated', 'anime', 'arabesk', 'arabic', 'arena',\n",
       "       'argentinetango', 'art', 'audiobook', 'author', 'avantgarde',\n",
       "       'axé', 'baile', 'balkan', 'beats', 'bigroom', 'black', 'bluegrass',\n",
       "       'blues', 'bollywood', 'bossa', 'brazilian', 'breakbeat', 'breaks',\n",
       "       'broadway', 'cantautori', 'cantopop', 'canzone', 'caribbean',\n",
       "       'caucasian', 'celtic', 'chamber', 'chanson', 'children', 'chill',\n",
       "       'chinese', 'choral', 'christian', 'christmas', 'classical',\n",
       "       'classicmetal', 'club', 'colombian', 'comedy', 'conjazz',\n",
       "       'contemporary', 'country', 'cuban', 'dance', 'dancehall',\n",
       "       'dancepop', 'dark', 'death', 'deep', 'deutschrock', 'deutschspr',\n",
       "       'dirty', 'disco', 'dnb', 'documentary', 'downbeat', 'downtempo',\n",
       "       'drum', 'dub', 'dubstep', 'eastern', 'easy', 'electronic',\n",
       "       'electropop', 'emo', 'entehno', 'epicmetal', 'estrada', 'ethnic',\n",
       "       'eurofolk', 'european', 'experimental', 'extrememetal', 'fado',\n",
       "       'fairytail', 'film', 'fitness', 'flamenco', 'folk', 'folklore',\n",
       "       'folkmetal', 'folkrock', 'folktronica', 'forró', 'frankreich',\n",
       "       'französisch', 'french', 'funk', 'future', 'gangsta', 'garage',\n",
       "       'german', 'ghazal', 'gitarre', 'glitch', 'gospel', 'gothic',\n",
       "       'grime', 'grunge', 'gypsy', 'handsup', \"hard'n'heavy\", 'hardcore',\n",
       "       'hardstyle', 'hardtechno', 'hip', 'hip-hop', 'hiphop',\n",
       "       'historisch', 'holiday', 'hop', 'horror', 'house', 'hymn', 'idm',\n",
       "       'independent', 'indian', 'indie', 'indipop', 'industrial',\n",
       "       'inspirational', 'instrumental', 'international', 'irish', 'jam',\n",
       "       'japanese', 'jazz', 'jewish', 'jpop', 'jungle', 'k-pop',\n",
       "       'karadeniz', 'karaoke', 'kayokyoku', 'korean', 'laiko', 'latin',\n",
       "       'latino', 'leftfield', 'local', 'lounge', 'loungeelectronic',\n",
       "       'lovers', 'malaysian', 'mandopop', 'marschmusik', 'meditative',\n",
       "       'mediterranean', 'melodic', 'metal', 'metalcore', 'mexican',\n",
       "       'middle', 'minimal', 'miscellaneous', 'modern', 'mood', 'mpb',\n",
       "       'muslim', 'native', 'neoklassik', 'neue', 'new', 'newage',\n",
       "       'newwave', 'nu', 'nujazz', 'numetal', 'oceania', 'old', 'opera',\n",
       "       'orchestral', 'other', 'piano', 'podcasts', 'pop', 'popdance',\n",
       "       'popelectronic', 'popeurodance', 'poprussian', 'post',\n",
       "       'posthardcore', 'postrock', 'power', 'progmetal', 'progressive',\n",
       "       'psychedelic', 'punjabi', 'punk', 'quebecois', 'ragga', 'ram',\n",
       "       'rancheras', 'rap', 'rave', 'reggae', 'reggaeton', 'regional',\n",
       "       'relax', 'religious', 'retro', 'rhythm', 'rnb', 'rnr', 'rock',\n",
       "       'rockabilly', 'rockalternative', 'rockindie', 'rockother',\n",
       "       'romance', 'roots', 'ruspop', 'rusrap', 'rusrock', 'russian',\n",
       "       'salsa', 'samba', 'scenic', 'schlager', 'self', 'sertanejo',\n",
       "       'shanson', 'shoegazing', 'showtunes', 'singer', 'ska', 'skarock',\n",
       "       'slow', 'smooth', 'soft', 'soul', 'soulful', 'sound', 'soundtrack',\n",
       "       'southern', 'specialty', 'speech', 'spiritual', 'sport',\n",
       "       'stonerrock', 'surf', 'swing', 'synthpop', 'synthrock',\n",
       "       'sängerportrait', 'tango', 'tanzorchester', 'taraftar', 'tatar',\n",
       "       'tech', 'techno', 'teen', 'thrash', 'top', 'traditional',\n",
       "       'tradjazz', 'trance', 'tribal', 'trip', 'triphop', 'tropical',\n",
       "       'türk', 'türkçe', 'ukrrock', 'unknown', 'urban', 'uzbek',\n",
       "       'variété', 'vi', 'videogame', 'vocal', 'western', 'world',\n",
       "       'worldbeat', 'ïîï', 'электроника'], dtype=object)"
      ]
     },
     "execution_count": 15,
     "metadata": {},
     "output_type": "execute_result"
    }
   ],
   "source": [
    "# Просмотр уникальных названий жанров\n",
    "df['genre'].sort_values(ascending=True).unique()\n"
   ]
  },
  {
   "cell_type": "markdown",
   "metadata": {},
   "source": [
    "<div class=\"alert alert-block alert-success\">\n",
    "\n",
    "**Комментарий ревьювера (все отлично)**\n",
    "    \n",
    "Список совсем не маленький - наверняка многие названия дублируются.\n",
    "</div>"
   ]
  },
  {
   "cell_type": "markdown",
   "metadata": {
    "id": "qej-Qmuo_Zct"
   },
   "source": [
    "Просмотрите список и найдите неявные дубликаты названия `hiphop`. Это могут быть названия с ошибками или альтернативные названия того же жанра.\n",
    "\n",
    "Вы увидите следующие неявные дубликаты:\n",
    "* *hip*,\n",
    "* *hop*,\n",
    "* *hip-hop*.\n",
    "\n",
    "Чтобы очистить от них таблицу, напишите функцию `replace_wrong_genres()` с двумя параметрами: \n",
    "* `wrong_genres` — список дубликатов,\n",
    "* `correct_genre` — строка с правильным значением.\n",
    "\n",
    "\n",
    "Функция должна исправить колонку `genre` в таблице `df`: заменить каждое значение из списка `wrong_genres` на значение из `correct_genre`."
   ]
  },
  {
   "cell_type": "code",
   "execution_count": 16,
   "metadata": {
    "id": "ErNDkmns_Zct"
   },
   "outputs": [],
   "source": [
    "# Функция для замены неявных дубликатов\n",
    "def replace_wrong_genres(wrong_genres,correct_genre):\n",
    "    for wrong_genre in wrong_genres:\n",
    "        df['genre'] = df['genre'].replace(wrong_genre,correct_genre)\n"
   ]
  },
  {
   "cell_type": "markdown",
   "metadata": {
    "id": "aDoBJxbA_Zct"
   },
   "source": [
    "Вызовите `replace_wrong_genres()` и передайте ей такие аргументы, чтобы она устранила неявные дубликаты: вместо `hip`, `hop` и `hip-hop` в таблице должно быть значение `hiphop`:"
   ]
  },
  {
   "cell_type": "code",
   "execution_count": 17,
   "metadata": {
    "id": "YN5i2hpmSo09"
   },
   "outputs": [],
   "source": [
    "# Устранение неявных дубликатов\n",
    "wrong_genres=['hip','hop','hip-hop']\n",
    "correct_genre = 'hiphop'\n",
    "\n",
    "replace_wrong_genres(wrong_genres,correct_genre)\n",
    "\n"
   ]
  },
  {
   "cell_type": "markdown",
   "metadata": {
    "id": "zQKF16_RG15m"
   },
   "source": [
    "Проверьте, что заменили неправильные названия:\n",
    "\n",
    "*   hip\n",
    "*   hop\n",
    "*   hip-hop\n",
    "\n",
    "Выведите отсортированный список уникальных значений столбца `genre`:"
   ]
  },
  {
   "cell_type": "markdown",
   "metadata": {},
   "source": [
    "<div class=\"alert alert-block alert-success\">\n",
    "\n",
    "**Комментарий ревьювера (все отлично)**\n",
    "    \n",
    "Функция написана верно! Правильно применена, неявные дубликаты устранены.\n",
    "</div>"
   ]
  },
  {
   "cell_type": "code",
   "execution_count": 18,
   "metadata": {
    "id": "wvixALnFG15m"
   },
   "outputs": [
    {
     "data": {
      "text/plain": [
       "array(['acid', 'acoustic', 'action', 'adult', 'africa', 'afrikaans',\n",
       "       'alternative', 'alternativepunk', 'ambient', 'americana',\n",
       "       'animated', 'anime', 'arabesk', 'arabic', 'arena',\n",
       "       'argentinetango', 'art', 'audiobook', 'author', 'avantgarde',\n",
       "       'axé', 'baile', 'balkan', 'beats', 'bigroom', 'black', 'bluegrass',\n",
       "       'blues', 'bollywood', 'bossa', 'brazilian', 'breakbeat', 'breaks',\n",
       "       'broadway', 'cantautori', 'cantopop', 'canzone', 'caribbean',\n",
       "       'caucasian', 'celtic', 'chamber', 'chanson', 'children', 'chill',\n",
       "       'chinese', 'choral', 'christian', 'christmas', 'classical',\n",
       "       'classicmetal', 'club', 'colombian', 'comedy', 'conjazz',\n",
       "       'contemporary', 'country', 'cuban', 'dance', 'dancehall',\n",
       "       'dancepop', 'dark', 'death', 'deep', 'deutschrock', 'deutschspr',\n",
       "       'dirty', 'disco', 'dnb', 'documentary', 'downbeat', 'downtempo',\n",
       "       'drum', 'dub', 'dubstep', 'eastern', 'easy', 'electronic',\n",
       "       'electropop', 'emo', 'entehno', 'epicmetal', 'estrada', 'ethnic',\n",
       "       'eurofolk', 'european', 'experimental', 'extrememetal', 'fado',\n",
       "       'fairytail', 'film', 'fitness', 'flamenco', 'folk', 'folklore',\n",
       "       'folkmetal', 'folkrock', 'folktronica', 'forró', 'frankreich',\n",
       "       'französisch', 'french', 'funk', 'future', 'gangsta', 'garage',\n",
       "       'german', 'ghazal', 'gitarre', 'glitch', 'gospel', 'gothic',\n",
       "       'grime', 'grunge', 'gypsy', 'handsup', \"hard'n'heavy\", 'hardcore',\n",
       "       'hardstyle', 'hardtechno', 'hiphop', 'historisch', 'holiday',\n",
       "       'horror', 'house', 'hymn', 'idm', 'independent', 'indian', 'indie',\n",
       "       'indipop', 'industrial', 'inspirational', 'instrumental',\n",
       "       'international', 'irish', 'jam', 'japanese', 'jazz', 'jewish',\n",
       "       'jpop', 'jungle', 'k-pop', 'karadeniz', 'karaoke', 'kayokyoku',\n",
       "       'korean', 'laiko', 'latin', 'latino', 'leftfield', 'local',\n",
       "       'lounge', 'loungeelectronic', 'lovers', 'malaysian', 'mandopop',\n",
       "       'marschmusik', 'meditative', 'mediterranean', 'melodic', 'metal',\n",
       "       'metalcore', 'mexican', 'middle', 'minimal', 'miscellaneous',\n",
       "       'modern', 'mood', 'mpb', 'muslim', 'native', 'neoklassik', 'neue',\n",
       "       'new', 'newage', 'newwave', 'nu', 'nujazz', 'numetal', 'oceania',\n",
       "       'old', 'opera', 'orchestral', 'other', 'piano', 'podcasts', 'pop',\n",
       "       'popdance', 'popelectronic', 'popeurodance', 'poprussian', 'post',\n",
       "       'posthardcore', 'postrock', 'power', 'progmetal', 'progressive',\n",
       "       'psychedelic', 'punjabi', 'punk', 'quebecois', 'ragga', 'ram',\n",
       "       'rancheras', 'rap', 'rave', 'reggae', 'reggaeton', 'regional',\n",
       "       'relax', 'religious', 'retro', 'rhythm', 'rnb', 'rnr', 'rock',\n",
       "       'rockabilly', 'rockalternative', 'rockindie', 'rockother',\n",
       "       'romance', 'roots', 'ruspop', 'rusrap', 'rusrock', 'russian',\n",
       "       'salsa', 'samba', 'scenic', 'schlager', 'self', 'sertanejo',\n",
       "       'shanson', 'shoegazing', 'showtunes', 'singer', 'ska', 'skarock',\n",
       "       'slow', 'smooth', 'soft', 'soul', 'soulful', 'sound', 'soundtrack',\n",
       "       'southern', 'specialty', 'speech', 'spiritual', 'sport',\n",
       "       'stonerrock', 'surf', 'swing', 'synthpop', 'synthrock',\n",
       "       'sängerportrait', 'tango', 'tanzorchester', 'taraftar', 'tatar',\n",
       "       'tech', 'techno', 'teen', 'thrash', 'top', 'traditional',\n",
       "       'tradjazz', 'trance', 'tribal', 'trip', 'triphop', 'tropical',\n",
       "       'türk', 'türkçe', 'ukrrock', 'unknown', 'urban', 'uzbek',\n",
       "       'variété', 'vi', 'videogame', 'vocal', 'western', 'world',\n",
       "       'worldbeat', 'ïîï', 'электроника'], dtype=object)"
      ]
     },
     "execution_count": 18,
     "metadata": {},
     "output_type": "execute_result"
    }
   ],
   "source": [
    "# Проверка на неявные дубликаты\n",
    "df['genre'].sort_values(ascending=True).unique()"
   ]
  },
  {
   "cell_type": "markdown",
   "metadata": {
    "id": "jz6a9-7HQUDd"
   },
   "source": [
    "**Выводы**\n",
    "\n",
    "Предобработка обнаружила три проблемы в данных:\n",
    "\n",
    "- нарушения в стиле заголовков,\n",
    "- пропущенные значения,\n",
    "- дубликаты — явные и неявные.\n",
    "\n",
    "Вы исправили заголовки, чтобы упростить работу с таблицей. Без дубликатов исследование станет более точным.\n",
    "\n",
    "Пропущенные значения вы заменили на `'unknown'`. Ещё предстоит увидеть, не повредят ли исследованию пропуски в колонке `genre`.\n",
    "\n",
    "Теперь можно перейти к проверке гипотез. "
   ]
  },
  {
   "cell_type": "markdown",
   "metadata": {
    "id": "WttZHXH0SqKk"
   },
   "source": [
    "## Проверка гипотез"
   ]
  },
  {
   "cell_type": "markdown",
   "metadata": {
    "id": "Im936VVi_Zcu"
   },
   "source": [
    "### Сравнение поведения пользователей двух столиц"
   ]
  },
  {
   "cell_type": "markdown",
   "metadata": {
    "id": "nwt_MuaL_Zcu"
   },
   "source": [
    "Первая гипотеза утверждает, что пользователи по-разному слушают музыку в Москве и Санкт-Петербурге. Проверьте это предположение по данным о трёх днях недели — понедельнике, среде и пятнице. Для этого:\n",
    "\n",
    "* Разделите пользователей Москвы и Санкт-Петербурга\n",
    "* Сравните, сколько треков послушала каждая группа пользователей в понедельник, среду и пятницу.\n"
   ]
  },
  {
   "cell_type": "markdown",
   "metadata": {
    "id": "8Dw_YMmT_Zcu"
   },
   "source": [
    "Для тренировки сначала выполните каждый из расчётов по отдельности. \n",
    "\n",
    "Оцените активность пользователей в каждом городе. Сгруппируйте данные по городу и посчитайте прослушивания в каждой группе.\n",
    "\n"
   ]
  },
  {
   "cell_type": "code",
   "execution_count": 19,
   "metadata": {
    "id": "0_Qs96oh_Zcu"
   },
   "outputs": [
    {
     "data": {
      "text/plain": [
       "city\n",
       "Moscow              42741\n",
       "Saint-Petersburg    18512\n",
       "Name: track, dtype: int64"
      ]
     },
     "metadata": {},
     "output_type": "display_data"
    }
   ],
   "source": [
    "# Подсчёт прослушиваний в каждом городе\n",
    "#display(df)\n",
    "\n",
    "grouped_country = df.groupby('city')['track'].count()\n",
    "display(grouped_country)"
   ]
  },
  {
   "cell_type": "markdown",
   "metadata": {},
   "source": [
    "<div class=\"alert alert-block alert-success\">\n",
    "\n",
    "**Комментарий ревьювера (все отлично)**\n",
    "    \n",
    "Отличная группировка.\n",
    "</div>"
   ]
  },
  {
   "cell_type": "markdown",
   "metadata": {
    "id": "dzli3w8o_Zcu"
   },
   "source": [
    "В Москве прослушиваний больше, чем в Петербурге. Из этого не следует, что московские пользователи чаще слушают музыку. Просто самих пользователей в Москве больше.\n",
    "\n",
    "Теперь сгруппируйте данные по дню недели и подсчитайте прослушивания в понедельник, среду и пятницу. Учтите, что в данных есть информация только о прослушиваниях только за эти дни.\n"
   ]
  },
  {
   "cell_type": "code",
   "execution_count": 20,
   "metadata": {
    "id": "uZMKjiJz_Zcu"
   },
   "outputs": [
    {
     "data": {
      "text/plain": [
       "day\n",
       "Friday       21840\n",
       "Monday       21354\n",
       "Wednesday    18059\n",
       "Name: track, dtype: int64"
      ]
     },
     "metadata": {},
     "output_type": "display_data"
    }
   ],
   "source": [
    "# Подсчёт прослушиваний в каждый из трёх дней\n",
    "#print(df)\n",
    "grouped_weekday = df.groupby('day')['track'].count()\n",
    "display(grouped_weekday)"
   ]
  },
  {
   "cell_type": "markdown",
   "metadata": {
    "id": "cC2tNrlL_Zcu"
   },
   "source": [
    "В среднем пользователи из двух городов менее активны по средам. Но картина может измениться, если рассмотреть каждый город в отдельности."
   ]
  },
  {
   "cell_type": "markdown",
   "metadata": {
    "id": "POzs8bGa_Zcu"
   },
   "source": [
    "Вы видели, как работает группировка по городу и по дням недели. Теперь напишите функцию, которая объединит два эти расчёта.\n",
    "\n",
    "Создайте функцию `number_tracks()`, которая посчитает прослушивания для заданного дня и города. Ей понадобятся два параметра:\n",
    "* день недели,\n",
    "* название города.\n",
    "\n",
    "В функции сохраните в переменную строки исходной таблицы, у которых значение:\n",
    "  * в колонке `day` равно параметру `day`,\n",
    "  * в колонке `city` равно параметру `city`.\n",
    "\n",
    "Для этого примените последовательную фильтрацию с логической индексацией.\n",
    "\n",
    "Затем посчитайте значения в столбце `user_id` получившейся таблицы. Результат сохраните в новую переменную. Верните эту переменную из функции."
   ]
  },
  {
   "cell_type": "code",
   "execution_count": 21,
   "metadata": {
    "id": "Nz3GdQB1_Zcu"
   },
   "outputs": [],
   "source": [
    "# <создание функции number_tracks()>\n",
    "# Объявляется функция с двумя параметрами: day, city.\n",
    "def number_tracks(day,city):\n",
    "# В переменной track_list сохраняются те строки таблицы df, для которых \n",
    "# значение в столбце 'day' равно параметру day и одновременно значение\n",
    "    track_list = df[df['day'] == day]\n",
    "# в столбце 'city' равно параметру city (используйте последовательную фильтрацию\n",
    "# с помощью логической индексации).\n",
    "    track_list = track_list[track_list['city'] == city]\n",
    "\n",
    "# В переменной track_list_count сохраняется число значений столбца 'user_id',\n",
    "# рассчитанное методом count() для таблицы track_list.\n",
    "# Функция возвращает число - значение track_list_count.\n",
    "    track_list_count = track_list['user_id'].count()\n",
    "    return(track_list_count)\n",
    "\n",
    "# Функция для подсчёта прослушиваний для конкретного города и дня.\n",
    "# С помощью последовательной фильтрации с логической индексацией она \n",
    "# сначала получит из исходной таблицы строки с нужным днём,\n",
    "# затем из результата отфильтрует строки с нужным городом,\n",
    "# методом count() посчитает количество значений в колонке user_id. \n",
    "# Это количество функция вернёт в качестве результата"
   ]
  },
  {
   "cell_type": "code",
   "execution_count": null,
   "metadata": {},
   "outputs": [],
   "source": []
  },
  {
   "cell_type": "markdown",
   "metadata": {
    "id": "ytf7xFrFJQ2r"
   },
   "source": [
    "Вызовите `number_tracks()` шесть раз, меняя значение параметров — так, чтобы получить данные для каждого города в каждый из трёх дней."
   ]
  },
  {
   "cell_type": "code",
   "execution_count": 22,
   "metadata": {
    "id": "rJcRATNQ_Zcu"
   },
   "outputs": [
    {
     "name": "stdout",
     "output_type": "stream",
     "text": [
      "15740\n"
     ]
    }
   ],
   "source": [
    "# количество прослушиваний в Москве по понедельникам\n",
    "print(number_tracks('Monday','Moscow'))"
   ]
  },
  {
   "cell_type": "code",
   "execution_count": 23,
   "metadata": {
    "id": "hq_ncZ5T_Zcu"
   },
   "outputs": [
    {
     "name": "stdout",
     "output_type": "stream",
     "text": [
      "5614\n"
     ]
    }
   ],
   "source": [
    "# количество прослушиваний в Санкт-Петербурге по понедельникам\n",
    "print(number_tracks('Monday','Saint-Petersburg'))\n"
   ]
  },
  {
   "cell_type": "code",
   "execution_count": 24,
   "metadata": {
    "id": "_NTy2VPU_Zcu"
   },
   "outputs": [
    {
     "data": {
      "text/plain": [
       "11056"
      ]
     },
     "execution_count": 24,
     "metadata": {},
     "output_type": "execute_result"
    }
   ],
   "source": [
    "# количество прослушиваний в Москве по средам\n",
    "number_tracks('Wednesday','Moscow')"
   ]
  },
  {
   "cell_type": "code",
   "execution_count": 25,
   "metadata": {
    "id": "j2y3TAwo_Zcu",
    "scrolled": true
   },
   "outputs": [
    {
     "name": "stdout",
     "output_type": "stream",
     "text": [
      "7003\n"
     ]
    }
   ],
   "source": [
    "# количество прослушиваний в Санкт-Петербурге по средам\n",
    "print(number_tracks('Wednesday','Saint-Petersburg'))"
   ]
  },
  {
   "cell_type": "code",
   "execution_count": 26,
   "metadata": {
    "id": "vYDw5u_K_Zcu"
   },
   "outputs": [
    {
     "name": "stdout",
     "output_type": "stream",
     "text": [
      "15945\n"
     ]
    }
   ],
   "source": [
    "# количество прослушиваний в Москве по пятницам\n",
    "print(number_tracks('Friday','Moscow'))"
   ]
  },
  {
   "cell_type": "code",
   "execution_count": 27,
   "metadata": {
    "id": "8_yzFtW3_Zcu"
   },
   "outputs": [
    {
     "name": "stdout",
     "output_type": "stream",
     "text": [
      "5895\n"
     ]
    }
   ],
   "source": [
    "# количество прослушиваний в Санкт-Петербурге по пятницам\n",
    "print(number_tracks('Friday','Saint-Petersburg'))"
   ]
  },
  {
   "cell_type": "markdown",
   "metadata": {},
   "source": [
    "<div class=\"alert alert-block alert-success\">\n",
    "\n",
    "**Комментарий ревьювера (все отлично)**\n",
    "\n",
    "Все верно посчитано. print можно не использовать для вызова функции.\n",
    "</div>"
   ]
  },
  {
   "cell_type": "code",
   "execution_count": null,
   "metadata": {},
   "outputs": [],
   "source": []
  },
  {
   "cell_type": "markdown",
   "metadata": {
    "id": "7QXffbO-_Zcu"
   },
   "source": [
    "Создайте c помощью конструктора `pd.DataFrame` таблицу, где\n",
    "* названия колонок — `['city', 'monday', 'wednesday', 'friday']`;\n",
    "* данные — результаты, которые вы получили с помощью `number_tracks`."
   ]
  },
  {
   "cell_type": "code",
   "execution_count": 28,
   "metadata": {
    "id": "APAcLpOr_Zcu"
   },
   "outputs": [
    {
     "data": {
      "text/html": [
       "<div>\n",
       "<style scoped>\n",
       "    .dataframe tbody tr th:only-of-type {\n",
       "        vertical-align: middle;\n",
       "    }\n",
       "\n",
       "    .dataframe tbody tr th {\n",
       "        vertical-align: top;\n",
       "    }\n",
       "\n",
       "    .dataframe thead th {\n",
       "        text-align: right;\n",
       "    }\n",
       "</style>\n",
       "<table border=\"1\" class=\"dataframe\">\n",
       "  <thead>\n",
       "    <tr style=\"text-align: right;\">\n",
       "      <th></th>\n",
       "      <th>city</th>\n",
       "      <th>monday</th>\n",
       "      <th>wednesday</th>\n",
       "      <th>friday</th>\n",
       "    </tr>\n",
       "  </thead>\n",
       "  <tbody>\n",
       "    <tr>\n",
       "      <td>0</td>\n",
       "      <td>Moscow</td>\n",
       "      <td>15740</td>\n",
       "      <td>11056</td>\n",
       "      <td>15945</td>\n",
       "    </tr>\n",
       "    <tr>\n",
       "      <td>1</td>\n",
       "      <td>Saint-Petersburg</td>\n",
       "      <td>5614</td>\n",
       "      <td>7003</td>\n",
       "      <td>5895</td>\n",
       "    </tr>\n",
       "  </tbody>\n",
       "</table>\n",
       "</div>"
      ],
      "text/plain": [
       "               city  monday  wednesday  friday\n",
       "0            Moscow   15740      11056   15945\n",
       "1  Saint-Petersburg    5614       7003    5895"
      ]
     },
     "metadata": {},
     "output_type": "display_data"
    }
   ],
   "source": [
    "# Таблица с результатами\n",
    "data = {\n",
    "    'city'      :['Moscow', 'Saint-Petersburg'],\n",
    "    'monday'    :[15740,5614],\n",
    "    'wednesday' :[11056,7003],\n",
    "    'friday'    :[15945,5895]    \n",
    "    \n",
    "}\n",
    "display(pd.DataFrame(data))"
   ]
  },
  {
   "cell_type": "markdown",
   "metadata": {},
   "source": [
    "<div class=\"alert alert-block alert-success\">\n",
    "\n",
    "**Комментарий ревьювера (все отлично)**\n",
    "\n",
    "Табличный вид представления данных более нагляден. В следующих спринтах ты изучишь более наглядный способ представления данных – графики и диаграммы.\n",
    "</div>"
   ]
  },
  {
   "cell_type": "markdown",
   "metadata": {
    "id": "-EgPIHYu_Zcu"
   },
   "source": [
    "**Выводы**\n",
    "\n",
    "Данные показывают разницу поведения пользователей:\n",
    "\n",
    "- В Москве пик прослушиваний приходится на понедельник и пятницу, а в среду заметен спад.\n",
    "- В Петербурге, наоборот, больше слушают музыку по средам. Активность в понедельник и пятницу здесь почти в равной мере уступает среде.\n",
    "\n",
    "Значит, данные говорят в пользу первой гипотезы."
   ]
  },
  {
   "cell_type": "markdown",
   "metadata": {
    "id": "atZAxtq4_Zcu"
   },
   "source": [
    "### Музыка в начале и в конце недели"
   ]
  },
  {
   "cell_type": "markdown",
   "metadata": {
    "id": "eXrQqXFH_Zcu"
   },
   "source": [
    "Согласно второй гипотезе, утром в понедельник в Москве преобладают одни жанры, а в Петербурге — другие. Так же и вечером пятницы преобладают разные жанры — в зависимости от города."
   ]
  },
  {
   "cell_type": "markdown",
   "metadata": {
    "id": "S8UcW6Hw_Zcu"
   },
   "source": [
    "Сохраните таблицы с данными в две переменные:\n",
    "* по Москве — в `moscow_general`;\n",
    "* по Санкт-Петербургу — в `spb_general`."
   ]
  },
  {
   "cell_type": "code",
   "execution_count": 29,
   "metadata": {
    "id": "qeaFfM_P_Zcu"
   },
   "outputs": [
    {
     "data": {
      "text/html": [
       "<div>\n",
       "<style scoped>\n",
       "    .dataframe tbody tr th:only-of-type {\n",
       "        vertical-align: middle;\n",
       "    }\n",
       "\n",
       "    .dataframe tbody tr th {\n",
       "        vertical-align: top;\n",
       "    }\n",
       "\n",
       "    .dataframe thead th {\n",
       "        text-align: right;\n",
       "    }\n",
       "</style>\n",
       "<table border=\"1\" class=\"dataframe\">\n",
       "  <thead>\n",
       "    <tr style=\"text-align: right;\">\n",
       "      <th></th>\n",
       "      <th>user_id</th>\n",
       "      <th>track</th>\n",
       "      <th>artist</th>\n",
       "      <th>genre</th>\n",
       "      <th>city</th>\n",
       "      <th>time</th>\n",
       "      <th>day</th>\n",
       "    </tr>\n",
       "  </thead>\n",
       "  <tbody>\n",
       "    <tr>\n",
       "      <td>33174</td>\n",
       "      <td>7E548010</td>\n",
       "      <td>Who Said</td>\n",
       "      <td>Hannah Montana</td>\n",
       "      <td>soundtrack</td>\n",
       "      <td>Moscow</td>\n",
       "      <td>08:00:03</td>\n",
       "      <td>Monday</td>\n",
       "    </tr>\n",
       "    <tr>\n",
       "      <td>44594</td>\n",
       "      <td>AAD6E3FB</td>\n",
       "      <td>Beautiful Moment</td>\n",
       "      <td>L.V DEEJAYS</td>\n",
       "      <td>dubstep</td>\n",
       "      <td>Moscow</td>\n",
       "      <td>08:00:03</td>\n",
       "      <td>Friday</td>\n",
       "    </tr>\n",
       "    <tr>\n",
       "      <td>21944</td>\n",
       "      <td>FC4F17B5</td>\n",
       "      <td>unknown</td>\n",
       "      <td>unknown</td>\n",
       "      <td>unknown</td>\n",
       "      <td>Moscow</td>\n",
       "      <td>08:00:03</td>\n",
       "      <td>Monday</td>\n",
       "    </tr>\n",
       "    <tr>\n",
       "      <td>15694</td>\n",
       "      <td>1C8435DC</td>\n",
       "      <td>Хромая принцесса</td>\n",
       "      <td>Дмитрий Юрков</td>\n",
       "      <td>rusrock</td>\n",
       "      <td>Moscow</td>\n",
       "      <td>08:00:03</td>\n",
       "      <td>Friday</td>\n",
       "    </tr>\n",
       "    <tr>\n",
       "      <td>16688</td>\n",
       "      <td>7062B1A2</td>\n",
       "      <td>Чакыр гына мине</td>\n",
       "      <td>Марат Яруллин</td>\n",
       "      <td>pop</td>\n",
       "      <td>Moscow</td>\n",
       "      <td>08:00:04</td>\n",
       "      <td>Monday</td>\n",
       "    </tr>\n",
       "    <tr>\n",
       "      <td>57785</td>\n",
       "      <td>32CED3A8</td>\n",
       "      <td>Piano Concerto No. 1 in E-Flat Major S. 124: I...</td>\n",
       "      <td>Lazar Berman</td>\n",
       "      <td>classical</td>\n",
       "      <td>Moscow</td>\n",
       "      <td>08:00:04</td>\n",
       "      <td>Friday</td>\n",
       "    </tr>\n",
       "    <tr>\n",
       "      <td>34964</td>\n",
       "      <td>421E4179</td>\n",
       "      <td>Downgrade</td>\n",
       "      <td>PHACE</td>\n",
       "      <td>drum</td>\n",
       "      <td>Moscow</td>\n",
       "      <td>08:00:04</td>\n",
       "      <td>Wednesday</td>\n",
       "    </tr>\n",
       "    <tr>\n",
       "      <td>59337</td>\n",
       "      <td>B462391A</td>\n",
       "      <td>Buried Silence</td>\n",
       "      <td>Ice Ages</td>\n",
       "      <td>rock</td>\n",
       "      <td>Moscow</td>\n",
       "      <td>08:00:05</td>\n",
       "      <td>Friday</td>\n",
       "    </tr>\n",
       "    <tr>\n",
       "      <td>19100</td>\n",
       "      <td>4A3FBBBD</td>\n",
       "      <td>Freedom</td>\n",
       "      <td>Nano</td>\n",
       "      <td>singer</td>\n",
       "      <td>Moscow</td>\n",
       "      <td>08:00:07</td>\n",
       "      <td>Wednesday</td>\n",
       "    </tr>\n",
       "    <tr>\n",
       "      <td>11279</td>\n",
       "      <td>AEBABDA9</td>\n",
       "      <td>Touching You Again</td>\n",
       "      <td>Mike Perry</td>\n",
       "      <td>electronic</td>\n",
       "      <td>Moscow</td>\n",
       "      <td>08:00:07</td>\n",
       "      <td>Monday</td>\n",
       "    </tr>\n",
       "    <tr>\n",
       "      <td>38502</td>\n",
       "      <td>A723BC4B</td>\n",
       "      <td>Swan</td>\n",
       "      <td>Ripped</td>\n",
       "      <td>rock</td>\n",
       "      <td>Moscow</td>\n",
       "      <td>08:00:08</td>\n",
       "      <td>Friday</td>\n",
       "    </tr>\n",
       "    <tr>\n",
       "      <td>34156</td>\n",
       "      <td>621DBC10</td>\n",
       "      <td>Мелоди Джана</td>\n",
       "      <td>Герман Дрого</td>\n",
       "      <td>rusrap</td>\n",
       "      <td>Moscow</td>\n",
       "      <td>08:00:08</td>\n",
       "      <td>Wednesday</td>\n",
       "    </tr>\n",
       "    <tr>\n",
       "      <td>59077</td>\n",
       "      <td>B5CB334</td>\n",
       "      <td>Praying Mantis</td>\n",
       "      <td>Shawn Lee</td>\n",
       "      <td>hiphop</td>\n",
       "      <td>Moscow</td>\n",
       "      <td>08:00:08</td>\n",
       "      <td>Monday</td>\n",
       "    </tr>\n",
       "    <tr>\n",
       "      <td>52246</td>\n",
       "      <td>872406E8</td>\n",
       "      <td>Maniac</td>\n",
       "      <td>Art Nation</td>\n",
       "      <td>metal</td>\n",
       "      <td>Moscow</td>\n",
       "      <td>08:00:09</td>\n",
       "      <td>Friday</td>\n",
       "    </tr>\n",
       "    <tr>\n",
       "      <td>44774</td>\n",
       "      <td>4B0B9096</td>\n",
       "      <td>Cheap Thrills</td>\n",
       "      <td>Disco Fever</td>\n",
       "      <td>pop</td>\n",
       "      <td>Moscow</td>\n",
       "      <td>08:00:10</td>\n",
       "      <td>Friday</td>\n",
       "    </tr>\n",
       "    <tr>\n",
       "      <td>25915</td>\n",
       "      <td>926A747</td>\n",
       "      <td>Baba Nam Kevalam</td>\n",
       "      <td>Jerónimo Jonás</td>\n",
       "      <td>pop</td>\n",
       "      <td>Moscow</td>\n",
       "      <td>08:00:10</td>\n",
       "      <td>Wednesday</td>\n",
       "    </tr>\n",
       "    <tr>\n",
       "      <td>22567</td>\n",
       "      <td>4622E684</td>\n",
       "      <td>Strange Matter</td>\n",
       "      <td>Rony Melo</td>\n",
       "      <td>psychedelic</td>\n",
       "      <td>Moscow</td>\n",
       "      <td>08:00:11</td>\n",
       "      <td>Friday</td>\n",
       "    </tr>\n",
       "    <tr>\n",
       "      <td>27914</td>\n",
       "      <td>D545D2AD</td>\n",
       "      <td>Call Me Baby</td>\n",
       "      <td>unknown</td>\n",
       "      <td>dance</td>\n",
       "      <td>Moscow</td>\n",
       "      <td>08:00:12</td>\n",
       "      <td>Wednesday</td>\n",
       "    </tr>\n",
       "    <tr>\n",
       "      <td>34520</td>\n",
       "      <td>1F8D79D4</td>\n",
       "      <td>Armenian Dance</td>\n",
       "      <td>Daniil Shafran</td>\n",
       "      <td>classical</td>\n",
       "      <td>Moscow</td>\n",
       "      <td>08:00:12</td>\n",
       "      <td>Monday</td>\n",
       "    </tr>\n",
       "    <tr>\n",
       "      <td>26196</td>\n",
       "      <td>597B59C3</td>\n",
       "      <td>Groove Is in the Heart</td>\n",
       "      <td>Deee-Lite</td>\n",
       "      <td>pop</td>\n",
       "      <td>Moscow</td>\n",
       "      <td>08:00:12</td>\n",
       "      <td>Wednesday</td>\n",
       "    </tr>\n",
       "  </tbody>\n",
       "</table>\n",
       "</div>"
      ],
      "text/plain": [
       "        user_id                                              track  \\\n",
       "33174  7E548010                                           Who Said   \n",
       "44594  AAD6E3FB                                   Beautiful Moment   \n",
       "21944  FC4F17B5                                            unknown   \n",
       "15694  1C8435DC                                   Хромая принцесса   \n",
       "16688  7062B1A2                                    Чакыр гына мине   \n",
       "57785  32CED3A8  Piano Concerto No. 1 in E-Flat Major S. 124: I...   \n",
       "34964  421E4179                                          Downgrade   \n",
       "59337  B462391A                                     Buried Silence   \n",
       "19100  4A3FBBBD                                            Freedom   \n",
       "11279  AEBABDA9                                 Touching You Again   \n",
       "38502  A723BC4B                                               Swan   \n",
       "34156  621DBC10                                       Мелоди Джана   \n",
       "59077   B5CB334                                     Praying Mantis   \n",
       "52246  872406E8                                             Maniac   \n",
       "44774  4B0B9096                                      Cheap Thrills   \n",
       "25915   926A747                                   Baba Nam Kevalam   \n",
       "22567  4622E684                                     Strange Matter   \n",
       "27914  D545D2AD                                       Call Me Baby   \n",
       "34520  1F8D79D4                                     Armenian Dance   \n",
       "26196  597B59C3                             Groove Is in the Heart   \n",
       "\n",
       "               artist        genre    city      time        day  \n",
       "33174  Hannah Montana   soundtrack  Moscow  08:00:03     Monday  \n",
       "44594     L.V DEEJAYS      dubstep  Moscow  08:00:03     Friday  \n",
       "21944         unknown      unknown  Moscow  08:00:03     Monday  \n",
       "15694   Дмитрий Юрков      rusrock  Moscow  08:00:03     Friday  \n",
       "16688   Марат Яруллин          pop  Moscow  08:00:04     Monday  \n",
       "57785    Lazar Berman    classical  Moscow  08:00:04     Friday  \n",
       "34964           PHACE         drum  Moscow  08:00:04  Wednesday  \n",
       "59337        Ice Ages         rock  Moscow  08:00:05     Friday  \n",
       "19100            Nano       singer  Moscow  08:00:07  Wednesday  \n",
       "11279      Mike Perry   electronic  Moscow  08:00:07     Monday  \n",
       "38502          Ripped         rock  Moscow  08:00:08     Friday  \n",
       "34156    Герман Дрого       rusrap  Moscow  08:00:08  Wednesday  \n",
       "59077       Shawn Lee       hiphop  Moscow  08:00:08     Monday  \n",
       "52246      Art Nation        metal  Moscow  08:00:09     Friday  \n",
       "44774     Disco Fever          pop  Moscow  08:00:10     Friday  \n",
       "25915  Jerónimo Jonás          pop  Moscow  08:00:10  Wednesday  \n",
       "22567       Rony Melo  psychedelic  Moscow  08:00:11     Friday  \n",
       "27914         unknown        dance  Moscow  08:00:12  Wednesday  \n",
       "34520  Daniil Shafran    classical  Moscow  08:00:12     Monday  \n",
       "26196       Deee-Lite          pop  Moscow  08:00:12  Wednesday  "
      ]
     },
     "metadata": {},
     "output_type": "display_data"
    }
   ],
   "source": [
    "# получение таблицы moscow_general из тех строк таблицы df, \n",
    "# для которых значение в столбце 'city' равно 'Moscow'\n",
    "moscow_general = df[df['city']== 'Moscow']\n",
    "display(moscow_general.sort_values('time', ascending=True).head(20))\n"
   ]
  },
  {
   "cell_type": "code",
   "execution_count": 30,
   "metadata": {
    "id": "ORaVRKto_Zcu"
   },
   "outputs": [
    {
     "data": {
      "text/html": [
       "<div>\n",
       "<style scoped>\n",
       "    .dataframe tbody tr th:only-of-type {\n",
       "        vertical-align: middle;\n",
       "    }\n",
       "\n",
       "    .dataframe tbody tr th {\n",
       "        vertical-align: top;\n",
       "    }\n",
       "\n",
       "    .dataframe thead th {\n",
       "        text-align: right;\n",
       "    }\n",
       "</style>\n",
       "<table border=\"1\" class=\"dataframe\">\n",
       "  <thead>\n",
       "    <tr style=\"text-align: right;\">\n",
       "      <th></th>\n",
       "      <th>user_id</th>\n",
       "      <th>track</th>\n",
       "      <th>artist</th>\n",
       "      <th>genre</th>\n",
       "      <th>city</th>\n",
       "      <th>time</th>\n",
       "      <th>day</th>\n",
       "    </tr>\n",
       "  </thead>\n",
       "  <tbody>\n",
       "    <tr>\n",
       "      <td>27205</td>\n",
       "      <td>D5FB60A</td>\n",
       "      <td>Move For Me</td>\n",
       "      <td>Kaskade</td>\n",
       "      <td>dance</td>\n",
       "      <td>Saint-Petersburg</td>\n",
       "      <td>08:00:00</td>\n",
       "      <td>Friday</td>\n",
       "    </tr>\n",
       "    <tr>\n",
       "      <td>8056</td>\n",
       "      <td>A491D7F5</td>\n",
       "      <td>Interplay</td>\n",
       "      <td>The Paul Bley Quartet</td>\n",
       "      <td>jazz</td>\n",
       "      <td>Saint-Petersburg</td>\n",
       "      <td>08:00:00</td>\n",
       "      <td>Monday</td>\n",
       "    </tr>\n",
       "    <tr>\n",
       "      <td>59195</td>\n",
       "      <td>CC4FF47E</td>\n",
       "      <td>All About You Now</td>\n",
       "      <td>Kev</td>\n",
       "      <td>pop</td>\n",
       "      <td>Saint-Petersburg</td>\n",
       "      <td>08:00:02</td>\n",
       "      <td>Monday</td>\n",
       "    </tr>\n",
       "    <tr>\n",
       "      <td>6391</td>\n",
       "      <td>BC3D757D</td>\n",
       "      <td>Shades of Solitude</td>\n",
       "      <td>Evil Invaders</td>\n",
       "      <td>rock</td>\n",
       "      <td>Saint-Petersburg</td>\n",
       "      <td>08:00:02</td>\n",
       "      <td>Wednesday</td>\n",
       "    </tr>\n",
       "    <tr>\n",
       "      <td>49671</td>\n",
       "      <td>CC1D08BB</td>\n",
       "      <td>Fire Away</td>\n",
       "      <td>Christopher Stapleton</td>\n",
       "      <td>country</td>\n",
       "      <td>Saint-Petersburg</td>\n",
       "      <td>08:00:02</td>\n",
       "      <td>Wednesday</td>\n",
       "    </tr>\n",
       "    <tr>\n",
       "      <td>42313</td>\n",
       "      <td>1ACA485C</td>\n",
       "      <td>Yankel Doodle</td>\n",
       "      <td>The Philharmonic Experience</td>\n",
       "      <td>spiritual</td>\n",
       "      <td>Saint-Petersburg</td>\n",
       "      <td>08:00:04</td>\n",
       "      <td>Friday</td>\n",
       "    </tr>\n",
       "    <tr>\n",
       "      <td>49606</td>\n",
       "      <td>125B5279</td>\n",
       "      <td>Devout</td>\n",
       "      <td>Outlands</td>\n",
       "      <td>alternative</td>\n",
       "      <td>Saint-Petersburg</td>\n",
       "      <td>08:00:07</td>\n",
       "      <td>Friday</td>\n",
       "    </tr>\n",
       "    <tr>\n",
       "      <td>2481</td>\n",
       "      <td>3593F105</td>\n",
       "      <td>Charlie Puth - Attention - Piano Variations</td>\n",
       "      <td>Piano White</td>\n",
       "      <td>pop</td>\n",
       "      <td>Saint-Petersburg</td>\n",
       "      <td>08:00:08</td>\n",
       "      <td>Wednesday</td>\n",
       "    </tr>\n",
       "    <tr>\n",
       "      <td>34888</td>\n",
       "      <td>AF9F57E2</td>\n",
       "      <td>unknown</td>\n",
       "      <td>unknown</td>\n",
       "      <td>unknown</td>\n",
       "      <td>Saint-Petersburg</td>\n",
       "      <td>08:00:09</td>\n",
       "      <td>Wednesday</td>\n",
       "    </tr>\n",
       "    <tr>\n",
       "      <td>59376</td>\n",
       "      <td>9E2C9E74</td>\n",
       "      <td>Wir Gefühl</td>\n",
       "      <td>unknown</td>\n",
       "      <td>electronic</td>\n",
       "      <td>Saint-Petersburg</td>\n",
       "      <td>08:00:17</td>\n",
       "      <td>Friday</td>\n",
       "    </tr>\n",
       "  </tbody>\n",
       "</table>\n",
       "</div>"
      ],
      "text/plain": [
       "        user_id                                        track  \\\n",
       "27205   D5FB60A                                  Move For Me   \n",
       "8056   A491D7F5                                    Interplay   \n",
       "59195  CC4FF47E                            All About You Now   \n",
       "6391   BC3D757D                           Shades of Solitude   \n",
       "49671  CC1D08BB                                    Fire Away   \n",
       "42313  1ACA485C                                Yankel Doodle   \n",
       "49606  125B5279                                       Devout   \n",
       "2481   3593F105  Charlie Puth - Attention - Piano Variations   \n",
       "34888  AF9F57E2                                      unknown   \n",
       "59376  9E2C9E74                                   Wir Gefühl   \n",
       "\n",
       "                            artist        genre              city      time  \\\n",
       "27205                      Kaskade        dance  Saint-Petersburg  08:00:00   \n",
       "8056         The Paul Bley Quartet         jazz  Saint-Petersburg  08:00:00   \n",
       "59195                          Kev          pop  Saint-Petersburg  08:00:02   \n",
       "6391                 Evil Invaders         rock  Saint-Petersburg  08:00:02   \n",
       "49671        Christopher Stapleton      country  Saint-Petersburg  08:00:02   \n",
       "42313  The Philharmonic Experience    spiritual  Saint-Petersburg  08:00:04   \n",
       "49606                     Outlands  alternative  Saint-Petersburg  08:00:07   \n",
       "2481                   Piano White          pop  Saint-Petersburg  08:00:08   \n",
       "34888                      unknown      unknown  Saint-Petersburg  08:00:09   \n",
       "59376                      unknown   electronic  Saint-Petersburg  08:00:17   \n",
       "\n",
       "             day  \n",
       "27205     Friday  \n",
       "8056      Monday  \n",
       "59195     Monday  \n",
       "6391   Wednesday  \n",
       "49671  Wednesday  \n",
       "42313     Friday  \n",
       "49606     Friday  \n",
       "2481   Wednesday  \n",
       "34888  Wednesday  \n",
       "59376     Friday  "
      ]
     },
     "metadata": {},
     "output_type": "display_data"
    }
   ],
   "source": [
    "# получение таблицы spb_general из тех строк таблицы df,\n",
    "# для которых значение в столбце 'city' равно 'Saint-Petersburg'\n",
    "spb_general = df[df['city']== 'Saint-Petersburg']\n",
    "display(spb_general.sort_values( by  = 'time', ascending = True).head(10))"
   ]
  },
  {
   "cell_type": "code",
   "execution_count": 31,
   "metadata": {
    "id": "laJT9BYl_Zcu"
   },
   "outputs": [],
   "source": [
    "# Объявление функции genre_weekday() с параметрами table, day, time1, time2,\n",
    "\n",
    "def genre_weekday(table, day, time1, time2):\n",
    "# которая возвращает информацию о самых популярных жанрах в указанный день в\n",
    "# заданное время:\n",
    "# 1) в переменную genre_df сохраняются те строки переданного датафрейма table, для\n",
    "#    которых одновременно:\n",
    "#    - значение в столбце day равно значению аргумента day\n",
    "\n",
    "    genre_df = table[table['day'] == day]\n",
    "    \n",
    "#    - значение в столбце time больше значения аргумента time1\n",
    "    genre_df = genre_df[genre_df['time'] > time1]\n",
    "    \n",
    "#    - значение в столбце time меньше значения аргумента time2\n",
    "    genre_df = genre_df[genre_df['time'] < time2]\n",
    "#    Используйте последовательную фильтрацию с помощью логической индексации.\n",
    "# 2) сгруппировать датафрейм genre_df по столбцу genre, взять один из его\n",
    "#    столбцов и посчитать методом count() количество записей для каждого из\n",
    "#    присутствующих жанров, получившийся Series записать в переменную\n",
    "#    genre_df_count\n",
    "    genre_df_count = genre_df.groupby('genre')['genre'].count()\n",
    "# 3) отсортировать genre_df_count по убыванию встречаемости и сохранить\n",
    "#    в переменную genre_df_sorted\n",
    "    genre_df_sorted = genre_df_count.sort_values(ascending = False)\n",
    "# 4) вернуть Series из 10 первых значений genre_df_sorted, это будут топ-10\n",
    "#    популярных жанров (в указанный день, в заданное время)\n",
    "    return display(genre_df_sorted.head(10))"
   ]
  },
  {
   "cell_type": "markdown",
   "metadata": {},
   "source": [
    "<div class=\"alert alert-block alert-danger\">\n",
    "\n",
    "**Комментарий ревьювера (недочет, который нужно доработать)**\n",
    "\n",
    "Функция работает некорректно. В функции мы оперируем table, а не df.\n",
    "</div>"
   ]
  },
  {
   "cell_type": "markdown",
   "metadata": {},
   "source": [
    "<div class=\"alert alert-block alert-success\">\n",
    "\n",
    "**Комментарий ревьювера v2 (все отлично)**\n",
    "    \n",
    "Теперь функция работает корректно.\n",
    "</div>"
   ]
  },
  {
   "cell_type": "code",
   "execution_count": null,
   "metadata": {},
   "outputs": [],
   "source": []
  },
  {
   "cell_type": "markdown",
   "metadata": {
    "id": "la2s2_PF_Zcu"
   },
   "source": [
    "Cравните результаты функции `genre_weekday()` для Москвы и Санкт-Петербурга в понедельник утром (с 7:00 до 11:00) и в пятницу вечером (с 17:00 до 23:00):"
   ]
  },
  {
   "cell_type": "code",
   "execution_count": 32,
   "metadata": {
    "id": "yz7itPUQ_Zcu"
   },
   "outputs": [
    {
     "data": {
      "text/plain": [
       "genre\n",
       "pop            781\n",
       "dance          549\n",
       "electronic     480\n",
       "rock           474\n",
       "hiphop         286\n",
       "ruspop         186\n",
       "world          181\n",
       "rusrap         175\n",
       "alternative    164\n",
       "unknown        161\n",
       "Name: genre, dtype: int64"
      ]
     },
     "metadata": {},
     "output_type": "display_data"
    }
   ],
   "source": [
    "# вызов функции для утра понедельника в Москве (вместо df — таблица moscow_general)\n",
    "# объекты, хранящие время, являются строками и сравниваются как строки\n",
    "# пример вызова: genre_weekday(moscow_general, 'Monday', '07:00', '11:00')\n",
    "genre_weekday(moscow_general, 'Monday', '07:00', '11:00')"
   ]
  },
  {
   "cell_type": "code",
   "execution_count": 33,
   "metadata": {
    "id": "kwUcHPdy_Zcu"
   },
   "outputs": [
    {
     "data": {
      "text/plain": [
       "genre\n",
       "pop            218\n",
       "dance          182\n",
       "rock           162\n",
       "electronic     147\n",
       "hiphop          80\n",
       "ruspop          64\n",
       "alternative     58\n",
       "rusrap          55\n",
       "jazz            44\n",
       "classical       40\n",
       "Name: genre, dtype: int64"
      ]
     },
     "metadata": {},
     "output_type": "display_data"
    }
   ],
   "source": [
    "# вызов функции для утра понедельника в Петербурге (вместо df — таблица spb_general)\n",
    "genre_weekday(spb_general, 'Monday', '07:00', '11:00')"
   ]
  },
  {
   "cell_type": "code",
   "execution_count": 34,
   "metadata": {
    "id": "EzXVRE1o_Zcu"
   },
   "outputs": [
    {
     "data": {
      "text/plain": [
       "genre\n",
       "pop            713\n",
       "rock           517\n",
       "dance          495\n",
       "electronic     482\n",
       "hiphop         273\n",
       "world          208\n",
       "ruspop         170\n",
       "alternative    163\n",
       "classical      163\n",
       "rusrap         142\n",
       "Name: genre, dtype: int64"
      ]
     },
     "metadata": {},
     "output_type": "display_data"
    }
   ],
   "source": [
    "# вызов функции для вечера пятницы в Москве\n",
    "genre_weekday(moscow_general, 'Friday', '17:00', '23:00')"
   ]
  },
  {
   "cell_type": "code",
   "execution_count": 35,
   "metadata": {
    "id": "JZaEKu5v_Zcu"
   },
   "outputs": [
    {
     "data": {
      "text/plain": [
       "genre\n",
       "pop            256\n",
       "rock           216\n",
       "electronic     216\n",
       "dance          210\n",
       "hiphop          97\n",
       "alternative     63\n",
       "jazz            61\n",
       "classical       60\n",
       "rusrap          59\n",
       "world           54\n",
       "Name: genre, dtype: int64"
      ]
     },
     "metadata": {},
     "output_type": "display_data"
    }
   ],
   "source": [
    "# вызов функции для вечера пятницы в Петербурге\n",
    "genre_weekday(spb_general, 'Friday', '17:00', '23:00')"
   ]
  },
  {
   "cell_type": "markdown",
   "metadata": {},
   "source": [
    "<div class=\"alert alert-block alert-danger\">\n",
    "\n",
    "**Комментарий ревьювера v2 (недочет, который нужно доработать)**\n",
    "\n",
    "Теперь нужно правильно вызвать функцию. Обратимся к условию задачи: `Cравните результаты функции genre_weekday() для Москвы и Санкт-Петербурга в понедельник утром (с 7:00 до 11:00) и в пятницу вечером (с 17:00 до 23:00)`\n",
    "    \n",
    "    \n",
    "    \n",
    "</div>"
   ]
  },
  {
   "cell_type": "markdown",
   "metadata": {},
   "source": [
    "<div class=\"alert alert-block alert-success\">\n",
    "\n",
    "**Комментарий ревьювера v3 (все отлично)**\n",
    "    \n",
    "Необходимые данные получены.\n",
    "</div>"
   ]
  },
  {
   "cell_type": "markdown",
   "metadata": {
    "id": "wrCe4MNX_Zcu"
   },
   "source": [
    "**Выводы**\n",
    "\n",
    "Если сравнить топ-10 жанров в понедельник утром, можно сделать такие выводы:\n",
    "\n",
    "1. В Москве и Петербурге слушают похожую музыку. Единственное отличие — в московский рейтинг вошёл жанр “world”, а в петербургский — джаз и классика.\n",
    "\n",
    "2. В Москве пропущенных значений оказалось так много, что значение `'unknown'` заняло десятое место среди самых популярных жанров. Значит, пропущенные значения занимают существенную долю в данных и угрожают достоверности исследования.\n",
    "\n",
    "Вечер пятницы не меняет эту картину. Некоторые жанры поднимаются немного выше, другие спускаются, но в целом топ-10 остаётся тем же самым.\n",
    "\n",
    "Таким образом, вторая гипотеза подтвердилась лишь частично:\n",
    "* Пользователи слушают похожую музыку в начале недели и в конце.\n",
    "* Разница между Москвой и Петербургом не слишком выражена. В Москве чаще слушают русскую популярную музыку, в Петербурге — джаз.\n",
    "\n",
    "Однако пропуски в данных ставят под сомнение этот результат. В Москве их так много, что рейтинг топ-10 мог бы выглядеть иначе, если бы не утерянные  данные о жанрах."
   ]
  },
  {
   "cell_type": "markdown",
   "metadata": {
    "id": "JolODAqr_Zcu"
   },
   "source": [
    "### Жанровые предпочтения в Москве и Петербурге\n",
    "\n",
    "Гипотеза: Петербург — столица рэпа, музыку этого жанра там слушают чаще, чем в Москве.  А Москва — город контрастов, в котором, тем не менее, преобладает поп-музыка."
   ]
  },
  {
   "cell_type": "markdown",
   "metadata": {
    "id": "DlegSvaT_Zcu"
   },
   "source": [
    "Сгруппируйте таблицу `moscow_general` по жанру и посчитайте прослушивания треков каждого жанра методом `count()`. Затем отсортируйте результат в порядке убывания и сохраните его в таблице `moscow_genres`."
   ]
  },
  {
   "cell_type": "code",
   "execution_count": 36,
   "metadata": {
    "id": "r19lIPke_Zcu"
   },
   "outputs": [],
   "source": [
    "# одной строкой: группировка таблицы moscow_general по столбцу 'genre', \n",
    "# подсчёт числа значений 'genre' в этой группировке методом count(), \n",
    "# сортировка получившегося Series в порядке убывания и сохранение в moscow_genres\n",
    "\n",
    "\n",
    "#print(moscow_general)\n",
    "moscow_genres= moscow_general.groupby(by = 'genre',)['genre'].count().sort_values(ascending = False,)\n",
    "\n"
   ]
  },
  {
   "cell_type": "markdown",
   "metadata": {
    "id": "6kMuomxTiIr8"
   },
   "source": [
    "Выведите на экран первые десять строк `moscow_genres`:"
   ]
  },
  {
   "cell_type": "code",
   "execution_count": 37,
   "metadata": {
    "id": "WhCSooF8_Zcv"
   },
   "outputs": [
    {
     "name": "stdout",
     "output_type": "stream",
     "text": [
      "genre\n",
      "pop            5892\n",
      "dance          4435\n",
      "rock           3965\n",
      "electronic     3786\n",
      "hiphop         2096\n",
      "classical      1616\n",
      "world          1432\n",
      "alternative    1379\n",
      "ruspop         1372\n",
      "rusrap         1161\n",
      "Name: genre, dtype: int64\n"
     ]
    }
   ],
   "source": [
    "# просмотр первых 10 строк moscow_genres\n",
    "\n",
    "print(moscow_genres.head(10))"
   ]
  },
  {
   "cell_type": "markdown",
   "metadata": {},
   "source": [
    "<div class=\"alert alert-block alert-success\">\n",
    "\n",
    "**Комментарий ревьювера (все отлично)**\n",
    "\n",
    "Данные по Москве получены.\n",
    "</div>"
   ]
  },
  {
   "cell_type": "markdown",
   "metadata": {
    "id": "cnPG2vnN_Zcv"
   },
   "source": [
    "Теперь повторите то же и для Петербурга.\n",
    "\n",
    "Сгруппируйте таблицу `spb_general` по жанру. Посчитайте прослушивания треков каждого жанра. Результат отсортируйте в порядке убывания и сохраните в таблице `spb_genres`:\n"
   ]
  },
  {
   "cell_type": "code",
   "execution_count": 38,
   "metadata": {
    "id": "gluLIpE7_Zcv"
   },
   "outputs": [],
   "source": [
    "# одной строкой: группировка таблицы spb_general по столбцу 'genre', \n",
    "# подсчёт числа значений 'genre' в этой группировке методом count(), \n",
    "# сортировка получившегося Series в порядке убывания и сохранение в spb_genres\n",
    "\n",
    "spb_genres = spb_general.groupby(by = 'genre',)['genre'].count().sort_values(ascending = False,)\n",
    "\n"
   ]
  },
  {
   "cell_type": "markdown",
   "metadata": {
    "id": "5Doha_ODgyQ8"
   },
   "source": [
    "Выведите на экран первые десять строк `spb_genres`:"
   ]
  },
  {
   "cell_type": "code",
   "execution_count": 39,
   "metadata": {
    "id": "uaGJHjVU_Zcv"
   },
   "outputs": [
    {
     "data": {
      "text/plain": [
       "genre\n",
       "pop            2431\n",
       "dance          1932\n",
       "rock           1879\n",
       "electronic     1736\n",
       "hiphop          960\n",
       "alternative     649\n",
       "classical       646\n",
       "rusrap          564\n",
       "ruspop          538\n",
       "world           515\n",
       "Name: genre, dtype: int64"
      ]
     },
     "metadata": {},
     "output_type": "display_data"
    }
   ],
   "source": [
    "# просмотр первых 10 строк spb_genres\n",
    "display(spb_genres.head(10))"
   ]
  },
  {
   "cell_type": "markdown",
   "metadata": {},
   "source": [
    "<div class=\"alert alert-block alert-success\">\n",
    "\n",
    "**Комментарий ревьювера (все отлично)**\n",
    "\n",
    "Данные по Петербургу получены.\n",
    "</div>"
   ]
  },
  {
   "cell_type": "markdown",
   "metadata": {
    "id": "RY51YJYu_Zcv"
   },
   "source": [
    "**Выводы**"
   ]
  },
  {
   "cell_type": "markdown",
   "metadata": {
    "id": "nVhnJEm__Zcv"
   },
   "source": [
    "Гипотеза частично подтвердилась:\n",
    "* Поп-музыка — самый популярный жанр в Москве, как и предполагала гипотеза. Более того, в топ-10 жанров встречается близкий жанр — русская популярная музыка.\n",
    "* Вопреки ожиданиям, рэп одинаково популярен в Москве и Петербурге. \n"
   ]
  },
  {
   "cell_type": "markdown",
   "metadata": {
    "id": "ykKQ0N65_Zcv"
   },
   "source": [
    "## Итоги исследования"
   ]
  },
  {
   "cell_type": "markdown",
   "metadata": {
    "id": "tjUwbHb3_Zcv"
   },
   "source": [
    "Вы проверили три гипотезы и установили:\n",
    "\n",
    "1. День недели по-разному влияет на активность пользователей в Москве и Петербурге. \n",
    "\n",
    "Первая гипотеза полностью подтвердилась.\n",
    "\n",
    "2. Музыкальные предпочтения не сильно меняются в течение недели — будь то Москва или Петербург. Небольшие различия заметны в начале недели, по понедельникам:\n",
    "* в Москве слушают музыку жанра “world”,\n",
    "* в Петербурге — джаз и классику.\n",
    "\n",
    "Таким образом, вторая гипотеза подтвердилась лишь отчасти. Этот результат мог оказаться иным, если бы не пропуски в данных.\n",
    "\n",
    "3. Во вкусах пользователей Москвы и Петербурга больше общего чем различий. Вопреки ожиданиям, предпочтения жанров в Петербурге напоминают московские.\n",
    "\n",
    "Третья гипотеза не подтвердилась. Если различия в предпочтениях и существуют, на основной массе пользователей они незаметны.\n",
    "\n",
    "**На практике исследования содержат проверки статистических гипотез.**\n",
    "Из данных одного сервиса не всегда можно сделать вывод о всех жителях города.\n",
    "Проверки статистических гипотез покажут, насколько они достоверны, исходя из имеющихся данных. \n",
    "С методами проверок гипотез вы ещё познакомитесь в следующих темах."
   ]
  },
  {
   "cell_type": "code",
   "execution_count": null,
   "metadata": {},
   "outputs": [],
   "source": []
  },
  {
   "cell_type": "code",
   "execution_count": null,
   "metadata": {},
   "outputs": [],
   "source": []
  }
 ],
 "metadata": {
  "ExecuteTimeLog": [
   {
    "duration": 561,
    "start_time": "2022-02-01T19:20:52.886Z"
   },
   {
    "duration": 2,
    "start_time": "2022-02-01T19:20:55.499Z"
   },
   {
    "duration": 2,
    "start_time": "2022-02-01T19:20:57.577Z"
   },
   {
    "duration": 2,
    "start_time": "2022-02-01T19:21:12.906Z"
   },
   {
    "duration": 2705,
    "start_time": "2022-02-01T19:21:49.640Z"
   },
   {
    "duration": 2453,
    "start_time": "2022-02-01T19:22:24.777Z"
   },
   {
    "duration": 125,
    "start_time": "2022-02-01T19:22:46.867Z"
   },
   {
    "duration": 15,
    "start_time": "2022-02-01T19:22:58.077Z"
   },
   {
    "duration": 50,
    "start_time": "2022-02-01T19:23:19.381Z"
   },
   {
    "duration": 4,
    "start_time": "2022-02-01T19:26:15.324Z"
   },
   {
    "duration": 95,
    "start_time": "2022-02-01T19:29:32.159Z"
   },
   {
    "duration": 25,
    "start_time": "2022-02-01T19:29:50.356Z"
   },
   {
    "duration": 4,
    "start_time": "2022-02-01T19:30:09.882Z"
   },
   {
    "duration": 24,
    "start_time": "2022-02-01T19:30:29.881Z"
   },
   {
    "duration": 22,
    "start_time": "2022-02-01T19:30:30.934Z"
   },
   {
    "duration": 3,
    "start_time": "2022-02-01T19:30:51.440Z"
   },
   {
    "duration": 25,
    "start_time": "2022-02-01T19:30:53.312Z"
   },
   {
    "duration": 3,
    "start_time": "2022-02-01T19:30:59.522Z"
   },
   {
    "duration": 24,
    "start_time": "2022-02-01T19:32:34.974Z"
   },
   {
    "duration": 4,
    "start_time": "2022-02-01T19:32:56.186Z"
   },
   {
    "duration": 1180,
    "start_time": "2022-02-01T19:33:28.932Z"
   },
   {
    "duration": 14,
    "start_time": "2022-02-01T19:33:33.288Z"
   },
   {
    "duration": 4,
    "start_time": "2022-02-01T19:34:09.811Z"
   },
   {
    "duration": 15,
    "start_time": "2022-02-01T19:34:12.677Z"
   },
   {
    "duration": 640,
    "start_time": "2022-02-01T19:34:14.377Z"
   },
   {
    "duration": 18,
    "start_time": "2022-02-01T19:34:26.240Z"
   },
   {
    "duration": 294,
    "start_time": "2022-02-01T19:34:34.152Z"
   },
   {
    "duration": 3,
    "start_time": "2022-02-01T19:34:43.877Z"
   },
   {
    "duration": 2,
    "start_time": "2022-02-01T19:35:00.875Z"
   },
   {
    "duration": 137,
    "start_time": "2022-02-01T19:35:01.246Z"
   },
   {
    "duration": 9,
    "start_time": "2022-02-01T19:35:01.638Z"
   },
   {
    "duration": 52,
    "start_time": "2022-02-01T19:35:02.811Z"
   },
   {
    "duration": 4,
    "start_time": "2022-02-01T19:35:05.041Z"
   },
   {
    "duration": 23,
    "start_time": "2022-02-01T19:35:06.430Z"
   },
   {
    "duration": 4,
    "start_time": "2022-02-01T19:35:09.465Z"
   },
   {
    "duration": 4,
    "start_time": "2022-02-01T19:35:38.159Z"
   },
   {
    "duration": 4,
    "start_time": "2022-02-01T19:35:42.223Z"
   },
   {
    "duration": 105,
    "start_time": "2022-02-01T19:36:58.491Z"
   },
   {
    "duration": 100,
    "start_time": "2022-02-01T19:37:13.992Z"
   },
   {
    "duration": 98,
    "start_time": "2022-02-01T19:37:22.460Z"
   },
   {
    "duration": 3,
    "start_time": "2022-02-01T19:37:28.572Z"
   },
   {
    "duration": 4,
    "start_time": "2022-02-01T19:37:38.421Z"
   },
   {
    "duration": 115,
    "start_time": "2022-02-01T19:37:41.202Z"
   },
   {
    "duration": 21,
    "start_time": "2022-02-01T19:37:59.706Z"
   },
   {
    "duration": 117,
    "start_time": "2022-02-01T19:38:26.173Z"
   },
   {
    "duration": 23,
    "start_time": "2022-02-01T19:38:40.324Z"
   },
   {
    "duration": 329,
    "start_time": "2022-02-01T19:38:53.030Z"
   },
   {
    "duration": 332,
    "start_time": "2022-02-01T19:39:00.476Z"
   },
   {
    "duration": 309,
    "start_time": "2022-02-01T19:39:07.257Z"
   },
   {
    "duration": 283,
    "start_time": "2022-02-01T19:39:34.964Z"
   },
   {
    "duration": 285,
    "start_time": "2022-02-01T19:39:43.799Z"
   },
   {
    "duration": 369,
    "start_time": "2022-02-01T19:40:00.624Z"
   },
   {
    "duration": 1717,
    "start_time": "2022-02-01T19:40:19.824Z"
   },
   {
    "duration": 4,
    "start_time": "2022-02-01T19:41:17.039Z"
   },
   {
    "duration": 54,
    "start_time": "2022-02-01T19:41:51.737Z"
   },
   {
    "duration": 50,
    "start_time": "2022-02-01T19:41:56.144Z"
   },
   {
    "duration": 50,
    "start_time": "2022-02-01T19:43:33.192Z"
   },
   {
    "duration": 2,
    "start_time": "2022-02-01T19:43:46.335Z"
   },
   {
    "duration": 112,
    "start_time": "2022-02-01T19:43:47.705Z"
   },
   {
    "duration": 10,
    "start_time": "2022-02-01T19:43:49.406Z"
   },
   {
    "duration": 49,
    "start_time": "2022-02-01T19:43:50.626Z"
   },
   {
    "duration": 3,
    "start_time": "2022-02-01T19:43:53.554Z"
   },
   {
    "duration": 93,
    "start_time": "2022-02-01T19:43:54.989Z"
   },
   {
    "duration": 3,
    "start_time": "2022-02-01T19:44:01.717Z"
   },
   {
    "duration": 17,
    "start_time": "2022-02-01T19:44:18.876Z"
   },
   {
    "duration": 4,
    "start_time": "2022-02-01T19:44:21.280Z"
   },
   {
    "duration": 54,
    "start_time": "2022-02-01T19:44:22.924Z"
   },
   {
    "duration": 63,
    "start_time": "2022-02-01T19:46:08.874Z"
   },
   {
    "duration": 51,
    "start_time": "2022-02-01T19:46:14.775Z"
   },
   {
    "duration": 51,
    "start_time": "2022-02-01T19:47:25.999Z"
   },
   {
    "duration": 1280,
    "start_time": "2022-02-02T08:40:40.343Z"
   },
   {
    "duration": 700,
    "start_time": "2022-02-02T08:40:59.544Z"
   },
   {
    "duration": 148,
    "start_time": "2022-02-02T08:41:00.247Z"
   },
   {
    "duration": 19,
    "start_time": "2022-02-02T08:41:00.397Z"
   },
   {
    "duration": 25,
    "start_time": "2022-02-02T08:41:01.752Z"
   },
   {
    "duration": 4,
    "start_time": "2022-02-02T08:41:04.651Z"
   },
   {
    "duration": 32,
    "start_time": "2022-02-02T08:41:05.654Z"
   },
   {
    "duration": 4,
    "start_time": "2022-02-02T08:41:07.338Z"
   },
   {
    "duration": 24,
    "start_time": "2022-02-02T08:41:11.302Z"
   },
   {
    "duration": 7034,
    "start_time": "2022-02-02T08:41:14.920Z"
   },
   {
    "duration": 252,
    "start_time": "2022-02-02T08:41:37.008Z"
   },
   {
    "duration": 98,
    "start_time": "2022-02-02T08:41:52.427Z"
   },
   {
    "duration": 25,
    "start_time": "2022-02-02T08:41:55.218Z"
   },
   {
    "duration": 16,
    "start_time": "2022-02-02T08:42:52.030Z"
   },
   {
    "duration": 25,
    "start_time": "2022-02-02T08:42:59.041Z"
   },
   {
    "duration": 17,
    "start_time": "2022-02-02T08:43:03.352Z"
   },
   {
    "duration": 25,
    "start_time": "2022-02-02T08:43:05.507Z"
   },
   {
    "duration": 2,
    "start_time": "2022-02-02T08:49:17.828Z"
   },
   {
    "duration": 163,
    "start_time": "2022-02-02T08:49:19.176Z"
   },
   {
    "duration": 11,
    "start_time": "2022-02-02T08:49:20.593Z"
   },
   {
    "duration": 24,
    "start_time": "2022-02-02T08:49:22.615Z"
   },
   {
    "duration": 4,
    "start_time": "2022-02-02T08:49:26.603Z"
   },
   {
    "duration": 31,
    "start_time": "2022-02-02T08:49:32.991Z"
   },
   {
    "duration": 4,
    "start_time": "2022-02-02T08:49:44.808Z"
   },
   {
    "duration": 25,
    "start_time": "2022-02-02T08:50:01.739Z"
   },
   {
    "duration": 16,
    "start_time": "2022-02-02T08:55:54.865Z"
   },
   {
    "duration": 4,
    "start_time": "2022-02-02T08:55:57.661Z"
   },
   {
    "duration": 25,
    "start_time": "2022-02-02T08:56:02.603Z"
   },
   {
    "duration": 33,
    "start_time": "2022-02-02T08:56:22.548Z"
   },
   {
    "duration": 32,
    "start_time": "2022-02-02T08:56:22.551Z"
   },
   {
    "duration": 2,
    "start_time": "2022-02-02T08:56:34.003Z"
   },
   {
    "duration": 147,
    "start_time": "2022-02-02T08:56:34.992Z"
   },
   {
    "duration": 12,
    "start_time": "2022-02-02T08:56:35.813Z"
   },
   {
    "duration": 26,
    "start_time": "2022-02-02T08:56:36.718Z"
   },
   {
    "duration": 5,
    "start_time": "2022-02-02T08:56:38.678Z"
   },
   {
    "duration": 20,
    "start_time": "2022-02-02T08:56:39.514Z"
   },
   {
    "duration": 4,
    "start_time": "2022-02-02T08:56:40.402Z"
   },
   {
    "duration": 24,
    "start_time": "2022-02-02T08:56:41.747Z"
   },
   {
    "duration": 17,
    "start_time": "2022-02-02T08:56:43.972Z"
   },
   {
    "duration": 25,
    "start_time": "2022-02-02T08:56:46.685Z"
   },
   {
    "duration": 16,
    "start_time": "2022-02-02T08:58:43.233Z"
   },
   {
    "duration": 24,
    "start_time": "2022-02-02T08:58:45.168Z"
   },
   {
    "duration": 54,
    "start_time": "2022-02-02T09:02:19.818Z"
   },
   {
    "duration": 24,
    "start_time": "2022-02-02T09:02:21.254Z"
   },
   {
    "duration": 3,
    "start_time": "2022-02-02T09:02:48.816Z"
   },
   {
    "duration": 139,
    "start_time": "2022-02-02T09:02:49.630Z"
   },
   {
    "duration": 11,
    "start_time": "2022-02-02T09:02:50.368Z"
   },
   {
    "duration": 27,
    "start_time": "2022-02-02T09:02:52.082Z"
   },
   {
    "duration": 5,
    "start_time": "2022-02-02T09:02:54.658Z"
   },
   {
    "duration": 21,
    "start_time": "2022-02-02T09:02:55.400Z"
   },
   {
    "duration": 5,
    "start_time": "2022-02-02T09:02:56.477Z"
   },
   {
    "duration": 24,
    "start_time": "2022-02-02T09:02:58.835Z"
   },
   {
    "duration": 45,
    "start_time": "2022-02-02T09:03:00.483Z"
   },
   {
    "duration": 26,
    "start_time": "2022-02-02T09:03:01.576Z"
   },
   {
    "duration": 34,
    "start_time": "2022-02-02T09:07:05.373Z"
   },
   {
    "duration": 24,
    "start_time": "2022-02-02T09:07:08.447Z"
   },
   {
    "duration": 3,
    "start_time": "2022-02-02T09:07:30.579Z"
   },
   {
    "duration": 144,
    "start_time": "2022-02-02T09:07:31.620Z"
   },
   {
    "duration": 11,
    "start_time": "2022-02-02T09:07:32.464Z"
   },
   {
    "duration": 26,
    "start_time": "2022-02-02T09:07:33.351Z"
   },
   {
    "duration": 4,
    "start_time": "2022-02-02T09:07:35.489Z"
   },
   {
    "duration": 15,
    "start_time": "2022-02-02T09:07:36.251Z"
   },
   {
    "duration": 4,
    "start_time": "2022-02-02T09:07:36.830Z"
   },
   {
    "duration": 24,
    "start_time": "2022-02-02T09:07:37.586Z"
   },
   {
    "duration": 46,
    "start_time": "2022-02-02T09:07:39.307Z"
   },
   {
    "duration": 24,
    "start_time": "2022-02-02T09:07:40.371Z"
   },
   {
    "duration": 5,
    "start_time": "2022-02-02T09:09:45.070Z"
   },
   {
    "duration": 5,
    "start_time": "2022-02-02T09:09:52.592Z"
   },
   {
    "duration": 24,
    "start_time": "2022-02-02T09:09:53.996Z"
   },
   {
    "duration": 6,
    "start_time": "2022-02-02T09:11:14.185Z"
   },
   {
    "duration": 102,
    "start_time": "2022-02-02T09:11:37.326Z"
   },
   {
    "duration": 4,
    "start_time": "2022-02-02T09:11:50.521Z"
   },
   {
    "duration": 568,
    "start_time": "2022-02-02T09:14:56.341Z"
   },
   {
    "duration": 11,
    "start_time": "2022-02-02T09:16:28.123Z"
   },
   {
    "duration": 290,
    "start_time": "2022-02-02T09:23:37.132Z"
   },
   {
    "duration": 3,
    "start_time": "2022-02-02T09:25:16.185Z"
   },
   {
    "duration": 24,
    "start_time": "2022-02-02T09:25:17.949Z"
   },
   {
    "duration": 3,
    "start_time": "2022-02-02T09:25:39.970Z"
   },
   {
    "duration": 23,
    "start_time": "2022-02-02T09:25:41.370Z"
   },
   {
    "duration": 5,
    "start_time": "2022-02-02T09:25:57.978Z"
   },
   {
    "duration": 5,
    "start_time": "2022-02-02T09:26:31.048Z"
   },
   {
    "duration": 23,
    "start_time": "2022-02-02T09:27:10.696Z"
   },
   {
    "duration": 3,
    "start_time": "2022-02-02T09:27:25.699Z"
   },
   {
    "duration": 26,
    "start_time": "2022-02-02T09:27:27.444Z"
   },
   {
    "duration": 3,
    "start_time": "2022-02-02T12:04:20.663Z"
   },
   {
    "duration": 24,
    "start_time": "2022-02-02T12:04:21.863Z"
   },
   {
    "duration": 4,
    "start_time": "2022-02-02T12:04:38.402Z"
   },
   {
    "duration": 24,
    "start_time": "2022-02-02T12:04:39.624Z"
   },
   {
    "duration": 7,
    "start_time": "2022-02-02T12:05:30.003Z"
   },
   {
    "duration": 347,
    "start_time": "2022-02-02T12:07:37.097Z"
   },
   {
    "duration": 62,
    "start_time": "2022-02-02T12:09:11.479Z"
   },
   {
    "duration": 25,
    "start_time": "2022-02-02T12:09:13.842Z"
   },
   {
    "duration": 4,
    "start_time": "2022-02-02T12:09:42.262Z"
   },
   {
    "duration": 23,
    "start_time": "2022-02-02T12:09:44.285Z"
   },
   {
    "duration": 10,
    "start_time": "2022-02-02T12:09:45.028Z"
   },
   {
    "duration": 3,
    "start_time": "2022-02-02T12:09:51.522Z"
   },
   {
    "duration": 49,
    "start_time": "2022-02-02T12:09:52.501Z"
   },
   {
    "duration": 24,
    "start_time": "2022-02-02T12:09:53.952Z"
   },
   {
    "duration": 56,
    "start_time": "2022-02-02T12:10:03.073Z"
   },
   {
    "duration": 24,
    "start_time": "2022-02-02T12:10:04.861Z"
   },
   {
    "duration": 51,
    "start_time": "2022-02-02T12:10:13.670Z"
   },
   {
    "duration": 27,
    "start_time": "2022-02-02T12:10:14.794Z"
   },
   {
    "duration": 2,
    "start_time": "2022-02-02T12:10:24.103Z"
   },
   {
    "duration": 149,
    "start_time": "2022-02-02T12:10:24.762Z"
   },
   {
    "duration": 10,
    "start_time": "2022-02-02T12:10:25.677Z"
   },
   {
    "duration": 26,
    "start_time": "2022-02-02T12:10:26.565Z"
   },
   {
    "duration": 4,
    "start_time": "2022-02-02T12:10:28.485Z"
   },
   {
    "duration": 21,
    "start_time": "2022-02-02T12:10:29.670Z"
   },
   {
    "duration": 5,
    "start_time": "2022-02-02T12:10:30.687Z"
   },
   {
    "duration": 44,
    "start_time": "2022-02-02T12:10:31.549Z"
   },
   {
    "duration": 3,
    "start_time": "2022-02-02T12:10:33.584Z"
   },
   {
    "duration": 61,
    "start_time": "2022-02-02T12:10:34.507Z"
   },
   {
    "duration": 25,
    "start_time": "2022-02-02T12:10:36.007Z"
   },
   {
    "duration": 70,
    "start_time": "2022-02-02T12:11:10.403Z"
   },
   {
    "duration": 55,
    "start_time": "2022-02-02T12:11:24.814Z"
   },
   {
    "duration": 24,
    "start_time": "2022-02-02T12:11:26.066Z"
   },
   {
    "duration": 59,
    "start_time": "2022-02-02T12:11:59.871Z"
   },
   {
    "duration": 59,
    "start_time": "2022-02-02T12:12:06.873Z"
   },
   {
    "duration": 56,
    "start_time": "2022-02-02T12:12:49.065Z"
   },
   {
    "duration": 277,
    "start_time": "2022-02-02T12:13:06.184Z"
   },
   {
    "duration": 58,
    "start_time": "2022-02-02T12:13:18.990Z"
   },
   {
    "duration": 87,
    "start_time": "2022-02-02T12:13:37.511Z"
   },
   {
    "duration": 90,
    "start_time": "2022-02-02T12:13:40.689Z"
   },
   {
    "duration": 75,
    "start_time": "2022-02-02T12:13:42.781Z"
   },
   {
    "duration": 70,
    "start_time": "2022-02-02T12:13:57.065Z"
   },
   {
    "duration": 56,
    "start_time": "2022-02-02T12:14:06.890Z"
   },
   {
    "duration": 63,
    "start_time": "2022-02-02T12:15:48.678Z"
   },
   {
    "duration": 55,
    "start_time": "2022-02-02T12:16:02.603Z"
   },
   {
    "duration": 60,
    "start_time": "2022-02-02T12:21:16.887Z"
   },
   {
    "duration": 21,
    "start_time": "2022-02-02T12:21:17.862Z"
   },
   {
    "duration": 3,
    "start_time": "2022-02-02T12:21:24.611Z"
   },
   {
    "duration": 147,
    "start_time": "2022-02-02T12:21:25.410Z"
   },
   {
    "duration": 11,
    "start_time": "2022-02-02T12:21:26.333Z"
   },
   {
    "duration": 26,
    "start_time": "2022-02-02T12:21:27.247Z"
   },
   {
    "duration": 4,
    "start_time": "2022-02-02T12:21:29.178Z"
   },
   {
    "duration": 14,
    "start_time": "2022-02-02T12:21:29.917Z"
   },
   {
    "duration": 5,
    "start_time": "2022-02-02T12:21:31.091Z"
   },
   {
    "duration": 23,
    "start_time": "2022-02-02T12:21:31.714Z"
   },
   {
    "duration": 2,
    "start_time": "2022-02-02T12:21:32.861Z"
   },
   {
    "duration": 62,
    "start_time": "2022-02-02T12:21:33.626Z"
   },
   {
    "duration": 25,
    "start_time": "2022-02-02T12:21:34.643Z"
   },
   {
    "duration": 70,
    "start_time": "2022-02-02T12:43:16.847Z"
   },
   {
    "duration": 58,
    "start_time": "2022-02-02T12:43:49.614Z"
   },
   {
    "duration": 24,
    "start_time": "2022-02-02T12:43:50.437Z"
   },
   {
    "duration": 56,
    "start_time": "2022-02-02T12:44:10.937Z"
   },
   {
    "duration": 24,
    "start_time": "2022-02-02T12:44:11.932Z"
   },
   {
    "duration": 339,
    "start_time": "2022-02-02T12:44:55.574Z"
   },
   {
    "duration": 66,
    "start_time": "2022-02-02T12:44:59.321Z"
   },
   {
    "duration": 8,
    "start_time": "2022-02-02T12:45:00.371Z"
   },
   {
    "duration": 275,
    "start_time": "2022-02-02T12:45:16.787Z"
   },
   {
    "duration": 6,
    "start_time": "2022-02-02T12:45:21.990Z"
   },
   {
    "duration": 7,
    "start_time": "2022-02-02T12:45:23.150Z"
   },
   {
    "duration": 2,
    "start_time": "2022-02-02T12:45:31.384Z"
   },
   {
    "duration": 152,
    "start_time": "2022-02-02T12:45:32.016Z"
   },
   {
    "duration": 11,
    "start_time": "2022-02-02T12:45:32.643Z"
   },
   {
    "duration": 24,
    "start_time": "2022-02-02T12:45:33.240Z"
   },
   {
    "duration": 4,
    "start_time": "2022-02-02T12:45:34.446Z"
   },
   {
    "duration": 14,
    "start_time": "2022-02-02T12:45:34.960Z"
   },
   {
    "duration": 4,
    "start_time": "2022-02-02T12:45:35.468Z"
   },
   {
    "duration": 25,
    "start_time": "2022-02-02T12:45:36.521Z"
   },
   {
    "duration": 4,
    "start_time": "2022-02-02T12:45:37.496Z"
   },
   {
    "duration": 48,
    "start_time": "2022-02-02T12:45:38.204Z"
   },
   {
    "duration": 31,
    "start_time": "2022-02-02T12:45:39.393Z"
   },
   {
    "duration": 59,
    "start_time": "2022-02-02T12:45:40.940Z"
   },
   {
    "duration": 67,
    "start_time": "2022-02-02T12:45:42.034Z"
   },
   {
    "duration": 52,
    "start_time": "2022-02-02T12:45:43.531Z"
   },
   {
    "duration": 8,
    "start_time": "2022-02-02T12:46:30.012Z"
   },
   {
    "duration": 287,
    "start_time": "2022-02-02T12:47:13.425Z"
   },
   {
    "duration": 294,
    "start_time": "2022-02-02T12:47:19.117Z"
   },
   {
    "duration": 255,
    "start_time": "2022-02-02T12:48:55.191Z"
   },
   {
    "duration": 275,
    "start_time": "2022-02-02T12:49:28.662Z"
   },
   {
    "duration": 5,
    "start_time": "2022-02-02T12:49:52.082Z"
   },
   {
    "duration": 7,
    "start_time": "2022-02-02T12:50:17.481Z"
   },
   {
    "duration": 7,
    "start_time": "2022-02-02T12:50:41.245Z"
   },
   {
    "duration": 265,
    "start_time": "2022-02-02T12:51:11.864Z"
   },
   {
    "duration": 97,
    "start_time": "2022-02-02T12:51:56.758Z"
   },
   {
    "duration": 51,
    "start_time": "2022-02-02T12:51:59.268Z"
   },
   {
    "duration": 44,
    "start_time": "2022-02-02T12:52:06.631Z"
   },
   {
    "duration": 46,
    "start_time": "2022-02-02T12:52:10.927Z"
   },
   {
    "duration": 3,
    "start_time": "2022-02-02T13:05:56.933Z"
   },
   {
    "duration": 3,
    "start_time": "2022-02-02T13:09:10.549Z"
   },
   {
    "duration": 541,
    "start_time": "2022-02-02T13:09:50.400Z"
   },
   {
    "duration": 4,
    "start_time": "2022-02-02T13:10:48.618Z"
   },
   {
    "duration": 538,
    "start_time": "2022-02-02T13:10:48.938Z"
   },
   {
    "duration": 84,
    "start_time": "2022-02-02T13:11:18.344Z"
   },
   {
    "duration": 61,
    "start_time": "2022-02-02T13:11:58.714Z"
   },
   {
    "duration": 7,
    "start_time": "2022-02-02T13:13:03.304Z"
   },
   {
    "duration": 12,
    "start_time": "2022-02-02T13:13:21.062Z"
   },
   {
    "duration": 52,
    "start_time": "2022-02-02T13:13:27.882Z"
   },
   {
    "duration": 11,
    "start_time": "2022-02-02T13:17:20.641Z"
   },
   {
    "duration": 41,
    "start_time": "2022-02-02T13:17:21.838Z"
   },
   {
    "duration": 4,
    "start_time": "2022-02-02T13:26:36.618Z"
   },
   {
    "duration": 569,
    "start_time": "2022-02-02T13:26:38.653Z"
   },
   {
    "duration": 3,
    "start_time": "2022-02-02T13:27:08.087Z"
   },
   {
    "duration": 566,
    "start_time": "2022-02-02T13:27:09.446Z"
   },
   {
    "duration": 543,
    "start_time": "2022-02-02T13:27:27.851Z"
   },
   {
    "duration": 631,
    "start_time": "2022-02-02T13:29:50.746Z"
   },
   {
    "duration": 4,
    "start_time": "2022-02-02T13:29:52.885Z"
   },
   {
    "duration": 621,
    "start_time": "2022-02-02T13:29:54.664Z"
   },
   {
    "duration": 10,
    "start_time": "2022-02-02T13:30:29.084Z"
   },
   {
    "duration": 3,
    "start_time": "2022-02-02T13:30:35.485Z"
   },
   {
    "duration": 11,
    "start_time": "2022-02-02T13:30:36.384Z"
   },
   {
    "duration": 18,
    "start_time": "2022-02-02T13:31:08.701Z"
   },
   {
    "duration": 48,
    "start_time": "2022-02-02T13:31:10.810Z"
   },
   {
    "duration": 3,
    "start_time": "2022-02-02T13:31:19.851Z"
   },
   {
    "duration": 16,
    "start_time": "2022-02-02T13:31:20.797Z"
   },
   {
    "duration": 63,
    "start_time": "2022-02-02T13:31:22.378Z"
   },
   {
    "duration": 14,
    "start_time": "2022-02-02T13:48:36.592Z"
   },
   {
    "duration": 14,
    "start_time": "2022-02-02T13:48:40.016Z"
   },
   {
    "duration": 13,
    "start_time": "2022-02-02T13:48:46.012Z"
   },
   {
    "duration": 24,
    "start_time": "2022-02-02T13:52:32.492Z"
   },
   {
    "duration": 23,
    "start_time": "2022-02-02T13:52:45.411Z"
   },
   {
    "duration": 24,
    "start_time": "2022-02-02T13:52:54.933Z"
   },
   {
    "duration": 21,
    "start_time": "2022-02-02T13:53:06.196Z"
   },
   {
    "duration": 8,
    "start_time": "2022-02-02T13:55:48.404Z"
   },
   {
    "duration": 17,
    "start_time": "2022-02-02T13:57:10.335Z"
   },
   {
    "duration": 19,
    "start_time": "2022-02-02T13:57:26.934Z"
   },
   {
    "duration": 278,
    "start_time": "2022-02-02T13:57:58.682Z"
   },
   {
    "duration": 289,
    "start_time": "2022-02-02T13:58:08.048Z"
   },
   {
    "duration": 13,
    "start_time": "2022-02-02T13:58:44.754Z"
   },
   {
    "duration": 19,
    "start_time": "2022-02-02T13:59:00.265Z"
   },
   {
    "duration": 262,
    "start_time": "2022-02-02T14:02:36.974Z"
   },
   {
    "duration": 336,
    "start_time": "2022-02-02T14:03:45.129Z"
   },
   {
    "duration": 276,
    "start_time": "2022-02-02T14:04:10.296Z"
   },
   {
    "duration": 278,
    "start_time": "2022-02-02T14:04:19.212Z"
   },
   {
    "duration": 11,
    "start_time": "2022-02-02T14:04:29.449Z"
   },
   {
    "duration": 39,
    "start_time": "2022-02-02T14:04:48.931Z"
   },
   {
    "duration": 267,
    "start_time": "2022-02-02T14:05:03.621Z"
   },
   {
    "duration": 19,
    "start_time": "2022-02-02T14:05:08.610Z"
   },
   {
    "duration": 40,
    "start_time": "2022-02-02T14:05:21.841Z"
   },
   {
    "duration": 17,
    "start_time": "2022-02-02T14:06:16.565Z"
   },
   {
    "duration": 12,
    "start_time": "2022-02-02T14:07:38.112Z"
   },
   {
    "duration": 101,
    "start_time": "2022-02-02T14:08:04.855Z"
   },
   {
    "duration": 266,
    "start_time": "2022-02-02T14:08:08.406Z"
   },
   {
    "duration": 289,
    "start_time": "2022-02-02T14:08:26.631Z"
   },
   {
    "duration": 22,
    "start_time": "2022-02-02T14:08:33.216Z"
   },
   {
    "duration": 12,
    "start_time": "2022-02-02T14:09:30.626Z"
   },
   {
    "duration": 23,
    "start_time": "2022-02-02T14:18:43.195Z"
   },
   {
    "duration": 86,
    "start_time": "2022-02-02T14:25:57.390Z"
   },
   {
    "duration": 126,
    "start_time": "2022-02-02T14:26:04.221Z"
   },
   {
    "duration": 104,
    "start_time": "2022-02-02T14:26:13.002Z"
   },
   {
    "duration": 92,
    "start_time": "2022-02-02T14:26:20.023Z"
   },
   {
    "duration": 113,
    "start_time": "2022-02-02T14:26:22.906Z"
   },
   {
    "duration": 4,
    "start_time": "2022-02-02T14:26:41.766Z"
   },
   {
    "duration": 312,
    "start_time": "2022-02-02T14:26:44.961Z"
   },
   {
    "duration": 39,
    "start_time": "2022-02-02T14:27:16.736Z"
   },
   {
    "duration": 3879,
    "start_time": "2022-02-02T14:27:25.411Z"
   },
   {
    "duration": 3894,
    "start_time": "2022-02-02T14:27:50.341Z"
   },
   {
    "duration": 4,
    "start_time": "2022-02-02T14:29:51.210Z"
   },
   {
    "duration": 3951,
    "start_time": "2022-02-02T14:29:53.040Z"
   },
   {
    "duration": 4,
    "start_time": "2022-02-02T14:30:20.241Z"
   },
   {
    "duration": 4079,
    "start_time": "2022-02-02T14:30:22.246Z"
   },
   {
    "duration": 3,
    "start_time": "2022-02-02T14:31:11.191Z"
   },
   {
    "duration": 4959,
    "start_time": "2022-02-02T14:31:12.460Z"
   },
   {
    "duration": 4,
    "start_time": "2022-02-02T14:33:01.876Z"
   },
   {
    "duration": 4725,
    "start_time": "2022-02-02T14:33:04.013Z"
   },
   {
    "duration": 3793,
    "start_time": "2022-02-02T14:34:20.824Z"
   },
   {
    "duration": 3866,
    "start_time": "2022-02-02T14:38:10.136Z"
   },
   {
    "duration": 4,
    "start_time": "2022-02-02T14:38:56.053Z"
   },
   {
    "duration": 7482,
    "start_time": "2022-02-02T14:38:57.139Z"
   },
   {
    "duration": 4,
    "start_time": "2022-02-02T14:40:31.286Z"
   },
   {
    "duration": 14712,
    "start_time": "2022-02-02T14:40:32.359Z"
   },
   {
    "duration": 90,
    "start_time": "2022-02-02T14:42:08.525Z"
   },
   {
    "duration": 3703,
    "start_time": "2022-02-02T14:42:09.482Z"
   },
   {
    "duration": 5,
    "start_time": "2022-02-02T14:42:20.280Z"
   },
   {
    "duration": 13,
    "start_time": "2022-02-02T14:45:29.251Z"
   },
   {
    "duration": 524,
    "start_time": "2022-02-02T14:47:23.460Z"
   },
   {
    "duration": 13,
    "start_time": "2022-02-02T14:48:26.473Z"
   },
   {
    "duration": 18,
    "start_time": "2022-02-02T14:48:35.408Z"
   },
   {
    "duration": 3675,
    "start_time": "2022-02-02T14:50:10.182Z"
   },
   {
    "duration": 3470,
    "start_time": "2022-02-02T14:50:21.280Z"
   },
   {
    "duration": 3,
    "start_time": "2022-02-02T14:51:36.603Z"
   },
   {
    "duration": 159,
    "start_time": "2022-02-02T14:51:37.117Z"
   },
   {
    "duration": 20,
    "start_time": "2022-02-02T14:51:37.612Z"
   },
   {
    "duration": 25,
    "start_time": "2022-02-02T14:51:38.115Z"
   },
   {
    "duration": 9,
    "start_time": "2022-02-02T14:51:39.100Z"
   },
   {
    "duration": 16,
    "start_time": "2022-02-02T14:51:39.466Z"
   },
   {
    "duration": 5,
    "start_time": "2022-02-02T14:51:39.805Z"
   },
   {
    "duration": 24,
    "start_time": "2022-02-02T14:51:40.154Z"
   },
   {
    "duration": 3,
    "start_time": "2022-02-02T14:51:41.068Z"
   },
   {
    "duration": 60,
    "start_time": "2022-02-02T14:51:42.093Z"
   },
   {
    "duration": 25,
    "start_time": "2022-02-02T14:51:42.655Z"
   },
   {
    "duration": 65,
    "start_time": "2022-02-02T14:51:43.019Z"
   },
   {
    "duration": 65,
    "start_time": "2022-02-02T14:51:43.723Z"
   },
   {
    "duration": 58,
    "start_time": "2022-02-02T14:51:44.200Z"
   },
   {
    "duration": 52,
    "start_time": "2022-02-02T14:51:45.652Z"
   },
   {
    "duration": 4,
    "start_time": "2022-02-02T14:51:46.376Z"
   },
   {
    "duration": 19,
    "start_time": "2022-02-02T14:51:47.184Z"
   },
   {
    "duration": 73,
    "start_time": "2022-02-02T14:51:48.080Z"
   },
   {
    "duration": 13,
    "start_time": "2022-02-02T14:51:50.645Z"
   },
   {
    "duration": 12,
    "start_time": "2022-02-02T14:51:52.318Z"
   },
   {
    "duration": 3,
    "start_time": "2022-02-02T14:51:52.996Z"
   },
   {
    "duration": 5391,
    "start_time": "2022-02-02T14:51:53.222Z"
   },
   {
    "duration": 49,
    "start_time": "2022-02-02T14:51:58.566Z"
   },
   {
    "duration": 3,
    "start_time": "2022-02-02T14:54:08.492Z"
   },
   {
    "duration": 3612,
    "start_time": "2022-02-02T14:54:10.087Z"
   },
   {
    "duration": 16,
    "start_time": "2022-02-02T14:54:20.070Z"
   },
   {
    "duration": 311,
    "start_time": "2022-02-02T14:54:20.777Z"
   },
   {
    "duration": 14,
    "start_time": "2022-02-02T14:54:55.614Z"
   },
   {
    "duration": 26,
    "start_time": "2022-02-02T14:55:50.808Z"
   },
   {
    "duration": 25,
    "start_time": "2022-02-02T14:56:01.602Z"
   },
   {
    "duration": 6,
    "start_time": "2022-02-02T14:56:26.419Z"
   },
   {
    "duration": 4896,
    "start_time": "2022-02-02T14:56:28.182Z"
   },
   {
    "duration": 73,
    "start_time": "2022-02-02T14:56:33.008Z"
   },
   {
    "duration": 72,
    "start_time": "2022-02-02T14:56:33.010Z"
   },
   {
    "duration": 70,
    "start_time": "2022-02-02T14:56:33.014Z"
   },
   {
    "duration": 69,
    "start_time": "2022-02-02T14:56:33.016Z"
   },
   {
    "duration": 4,
    "start_time": "2022-02-02T14:57:06.368Z"
   },
   {
    "duration": 3782,
    "start_time": "2022-02-02T14:57:07.917Z"
   },
   {
    "duration": 4,
    "start_time": "2022-02-02T14:57:29.986Z"
   },
   {
    "duration": 559,
    "start_time": "2022-02-02T14:57:31.172Z"
   },
   {
    "duration": 618,
    "start_time": "2022-02-02T14:57:32.331Z"
   },
   {
    "duration": 4,
    "start_time": "2022-02-02T14:58:43.333Z"
   },
   {
    "duration": 16,
    "start_time": "2022-02-02T14:58:44.583Z"
   },
   {
    "duration": 17,
    "start_time": "2022-02-02T14:58:45.422Z"
   },
   {
    "duration": 18,
    "start_time": "2022-02-02T14:58:46.197Z"
   },
   {
    "duration": 17,
    "start_time": "2022-02-02T14:58:47.570Z"
   },
   {
    "duration": 20,
    "start_time": "2022-02-02T14:58:47.982Z"
   },
   {
    "duration": 18,
    "start_time": "2022-02-02T14:58:48.385Z"
   },
   {
    "duration": 25,
    "start_time": "2022-02-02T15:17:36.011Z"
   },
   {
    "duration": 20,
    "start_time": "2022-02-02T15:17:37.076Z"
   },
   {
    "duration": 24,
    "start_time": "2022-02-02T15:17:37.762Z"
   },
   {
    "duration": 18,
    "start_time": "2022-02-02T15:17:39.561Z"
   },
   {
    "duration": 32,
    "start_time": "2022-02-02T15:17:40.108Z"
   },
   {
    "duration": 9,
    "start_time": "2022-02-02T15:18:10.315Z"
   },
   {
    "duration": 23,
    "start_time": "2022-02-02T15:18:11.591Z"
   },
   {
    "duration": 16,
    "start_time": "2022-02-02T15:18:12.065Z"
   },
   {
    "duration": 21,
    "start_time": "2022-02-02T15:18:12.524Z"
   },
   {
    "duration": 17,
    "start_time": "2022-02-02T15:18:13.539Z"
   },
   {
    "duration": 24,
    "start_time": "2022-02-02T15:18:14.293Z"
   },
   {
    "duration": 17,
    "start_time": "2022-02-02T15:18:14.684Z"
   },
   {
    "duration": 1377,
    "start_time": "2022-02-02T15:20:13.723Z"
   },
   {
    "duration": 299,
    "start_time": "2022-02-02T15:20:30.854Z"
   },
   {
    "duration": 5,
    "start_time": "2022-02-02T15:22:11.978Z"
   },
   {
    "duration": 224,
    "start_time": "2022-02-02T15:22:12.619Z"
   },
   {
    "duration": 12,
    "start_time": "2022-02-02T15:22:13.290Z"
   },
   {
    "duration": 25,
    "start_time": "2022-02-02T15:22:13.915Z"
   },
   {
    "duration": 4,
    "start_time": "2022-02-02T15:22:15.257Z"
   },
   {
    "duration": 11,
    "start_time": "2022-02-02T15:22:15.749Z"
   },
   {
    "duration": 5,
    "start_time": "2022-02-02T15:22:16.240Z"
   },
   {
    "duration": 27,
    "start_time": "2022-02-02T15:22:16.672Z"
   },
   {
    "duration": 3,
    "start_time": "2022-02-02T15:22:17.059Z"
   },
   {
    "duration": 65,
    "start_time": "2022-02-02T15:22:17.399Z"
   },
   {
    "duration": 25,
    "start_time": "2022-02-02T15:22:17.725Z"
   },
   {
    "duration": 60,
    "start_time": "2022-02-02T15:22:18.041Z"
   },
   {
    "duration": 65,
    "start_time": "2022-02-02T15:22:18.373Z"
   },
   {
    "duration": 56,
    "start_time": "2022-02-02T15:22:18.719Z"
   },
   {
    "duration": 49,
    "start_time": "2022-02-02T15:22:19.279Z"
   },
   {
    "duration": 3,
    "start_time": "2022-02-02T15:22:19.824Z"
   },
   {
    "duration": 12,
    "start_time": "2022-02-02T15:22:20.284Z"
   },
   {
    "duration": 46,
    "start_time": "2022-02-02T15:22:20.867Z"
   },
   {
    "duration": 13,
    "start_time": "2022-02-02T15:22:21.961Z"
   },
   {
    "duration": 20,
    "start_time": "2022-02-02T15:22:22.362Z"
   },
   {
    "duration": 5,
    "start_time": "2022-02-02T15:22:23.340Z"
   },
   {
    "duration": 30,
    "start_time": "2022-02-02T15:22:25.829Z"
   },
   {
    "duration": 15,
    "start_time": "2022-02-02T15:22:26.262Z"
   },
   {
    "duration": 16,
    "start_time": "2022-02-02T15:22:26.465Z"
   },
   {
    "duration": 20,
    "start_time": "2022-02-02T15:22:26.635Z"
   },
   {
    "duration": 19,
    "start_time": "2022-02-02T15:22:26.823Z"
   },
   {
    "duration": 16,
    "start_time": "2022-02-02T15:22:27.565Z"
   },
   {
    "duration": 279,
    "start_time": "2022-02-02T15:22:28.741Z"
   },
   {
    "duration": 17,
    "start_time": "2022-02-02T15:22:48.433Z"
   },
   {
    "duration": 16,
    "start_time": "2022-02-02T15:22:54.034Z"
   },
   {
    "duration": 4,
    "start_time": "2022-02-02T16:05:30.706Z"
   },
   {
    "duration": 17,
    "start_time": "2022-02-02T16:05:31.820Z"
   },
   {
    "duration": 23,
    "start_time": "2022-02-02T16:05:32.022Z"
   },
   {
    "duration": 23,
    "start_time": "2022-02-02T16:05:32.249Z"
   },
   {
    "duration": 15,
    "start_time": "2022-02-02T16:05:32.470Z"
   },
   {
    "duration": 18,
    "start_time": "2022-02-02T16:05:32.627Z"
   },
   {
    "duration": 16,
    "start_time": "2022-02-02T16:05:32.842Z"
   },
   {
    "duration": 281,
    "start_time": "2022-02-02T16:06:56.439Z"
   },
   {
    "duration": 5,
    "start_time": "2022-02-02T16:34:53.513Z"
   },
   {
    "duration": 742,
    "start_time": "2022-02-02T16:35:52.311Z"
   },
   {
    "duration": 551,
    "start_time": "2022-02-02T16:36:03.584Z"
   },
   {
    "duration": 16,
    "start_time": "2022-02-02T19:09:17.448Z"
   },
   {
    "duration": 17,
    "start_time": "2022-02-02T19:09:28.374Z"
   },
   {
    "duration": 416,
    "start_time": "2022-02-03T08:39:29.089Z"
   },
   {
    "duration": 25,
    "start_time": "2022-02-03T08:39:29.482Z"
   },
   {
    "duration": -4,
    "start_time": "2022-02-03T08:39:29.512Z"
   },
   {
    "duration": 319,
    "start_time": "2022-02-03T08:39:29.541Z"
   },
   {
    "duration": 545,
    "start_time": "2022-02-03T08:39:40.259Z"
   },
   {
    "duration": 120,
    "start_time": "2022-02-03T08:39:40.806Z"
   },
   {
    "duration": 15,
    "start_time": "2022-02-03T08:39:41.005Z"
   },
   {
    "duration": 23,
    "start_time": "2022-02-03T08:39:41.397Z"
   },
   {
    "duration": 3,
    "start_time": "2022-02-03T08:39:42.970Z"
   },
   {
    "duration": 18,
    "start_time": "2022-02-03T08:39:43.274Z"
   },
   {
    "duration": 4,
    "start_time": "2022-02-03T08:39:43.607Z"
   },
   {
    "duration": 22,
    "start_time": "2022-02-03T08:39:43.946Z"
   },
   {
    "duration": 2,
    "start_time": "2022-02-03T08:39:44.276Z"
   },
   {
    "duration": 39,
    "start_time": "2022-02-03T08:39:44.611Z"
   },
   {
    "duration": 21,
    "start_time": "2022-02-03T08:39:44.931Z"
   },
   {
    "duration": 50,
    "start_time": "2022-02-03T08:39:45.705Z"
   },
   {
    "duration": 57,
    "start_time": "2022-02-03T08:39:50.419Z"
   },
   {
    "duration": 47,
    "start_time": "2022-02-03T08:39:50.922Z"
   },
   {
    "duration": 38,
    "start_time": "2022-02-03T08:39:51.766Z"
   },
   {
    "duration": 3,
    "start_time": "2022-02-03T08:39:52.889Z"
   },
   {
    "duration": 10,
    "start_time": "2022-02-03T08:39:54.228Z"
   },
   {
    "duration": 45,
    "start_time": "2022-02-03T08:39:55.242Z"
   },
   {
    "duration": 12,
    "start_time": "2022-02-03T08:40:00.721Z"
   },
   {
    "duration": 11,
    "start_time": "2022-02-03T08:40:02.747Z"
   },
   {
    "duration": 4,
    "start_time": "2022-02-03T08:40:03.801Z"
   },
   {
    "duration": 16,
    "start_time": "2022-02-03T08:40:06.286Z"
   },
   {
    "duration": 14,
    "start_time": "2022-02-03T08:40:06.902Z"
   },
   {
    "duration": 14,
    "start_time": "2022-02-03T08:40:07.192Z"
   },
   {
    "duration": 13,
    "start_time": "2022-02-03T08:40:07.415Z"
   },
   {
    "duration": 16,
    "start_time": "2022-02-03T08:40:07.618Z"
   },
   {
    "duration": 13,
    "start_time": "2022-02-03T08:40:07.816Z"
   },
   {
    "duration": 351,
    "start_time": "2022-02-03T08:48:35.069Z"
   },
   {
    "duration": 392,
    "start_time": "2022-02-03T08:48:49.340Z"
   },
   {
    "duration": 13,
    "start_time": "2022-02-03T08:48:53.797Z"
   },
   {
    "duration": 324,
    "start_time": "2022-02-03T08:48:54.844Z"
   },
   {
    "duration": 118,
    "start_time": "2022-02-03T08:52:44.104Z"
   },
   {
    "duration": 10,
    "start_time": "2022-02-03T08:53:15.842Z"
   },
   {
    "duration": 8,
    "start_time": "2022-02-03T08:53:39.017Z"
   },
   {
    "duration": 8,
    "start_time": "2022-02-03T08:54:22.932Z"
   },
   {
    "duration": 114,
    "start_time": "2022-02-03T09:09:43.146Z"
   },
   {
    "duration": 102,
    "start_time": "2022-02-03T09:09:46.775Z"
   },
   {
    "duration": 119,
    "start_time": "2022-02-03T09:11:00.095Z"
   },
   {
    "duration": 8,
    "start_time": "2022-02-03T09:11:28.736Z"
   },
   {
    "duration": 7,
    "start_time": "2022-02-03T09:11:45.903Z"
   },
   {
    "duration": 10,
    "start_time": "2022-02-03T10:01:37.104Z"
   },
   {
    "duration": 12,
    "start_time": "2022-02-03T10:07:07.630Z"
   },
   {
    "duration": 10,
    "start_time": "2022-02-03T10:07:07.768Z"
   },
   {
    "duration": 18,
    "start_time": "2022-02-03T10:07:40.242Z"
   },
   {
    "duration": 17,
    "start_time": "2022-02-03T10:07:52.195Z"
   },
   {
    "duration": 2,
    "start_time": "2022-02-03T10:43:02.418Z"
   },
   {
    "duration": 119,
    "start_time": "2022-02-03T10:45:07.855Z"
   },
   {
    "duration": 3,
    "start_time": "2022-02-03T10:45:14.748Z"
   },
   {
    "duration": 4,
    "start_time": "2022-02-03T10:45:17.456Z"
   },
   {
    "duration": 736,
    "start_time": "2022-02-03T10:45:20.232Z"
   },
   {
    "duration": 4,
    "start_time": "2022-02-03T10:45:44.121Z"
   },
   {
    "duration": 663,
    "start_time": "2022-02-03T10:45:45.399Z"
   },
   {
    "duration": 4,
    "start_time": "2022-02-03T10:46:08.027Z"
   },
   {
    "duration": 705,
    "start_time": "2022-02-03T10:46:09.783Z"
   },
   {
    "duration": 3,
    "start_time": "2022-02-03T10:47:04.270Z"
   },
   {
    "duration": 19,
    "start_time": "2022-02-03T10:47:05.514Z"
   },
   {
    "duration": 4,
    "start_time": "2022-02-03T10:47:45.082Z"
   },
   {
    "duration": 701,
    "start_time": "2022-02-03T10:47:46.543Z"
   },
   {
    "duration": 4,
    "start_time": "2022-02-03T10:47:51.304Z"
   },
   {
    "duration": 19,
    "start_time": "2022-02-03T10:47:51.903Z"
   },
   {
    "duration": 29,
    "start_time": "2022-02-03T10:49:05.181Z"
   },
   {
    "duration": 20,
    "start_time": "2022-02-03T10:50:13.386Z"
   },
   {
    "duration": 19,
    "start_time": "2022-02-03T10:50:14.053Z"
   },
   {
    "duration": 19,
    "start_time": "2022-02-03T10:50:20.494Z"
   },
   {
    "duration": 19,
    "start_time": "2022-02-03T10:50:20.657Z"
   },
   {
    "duration": 18,
    "start_time": "2022-02-03T10:50:20.831Z"
   },
   {
    "duration": 16,
    "start_time": "2022-02-03T10:50:21.251Z"
   },
   {
    "duration": 17,
    "start_time": "2022-02-03T10:50:58.066Z"
   },
   {
    "duration": 17,
    "start_time": "2022-02-03T10:51:02.957Z"
   },
   {
    "duration": 11,
    "start_time": "2022-02-03T10:52:29.521Z"
   },
   {
    "duration": 10,
    "start_time": "2022-02-03T10:52:29.993Z"
   },
   {
    "duration": 4,
    "start_time": "2022-02-03T10:52:30.811Z"
   },
   {
    "duration": 20,
    "start_time": "2022-02-03T10:52:31.247Z"
   },
   {
    "duration": 19,
    "start_time": "2022-02-03T10:52:31.703Z"
   },
   {
    "duration": 17,
    "start_time": "2022-02-03T10:52:32.113Z"
   },
   {
    "duration": 18,
    "start_time": "2022-02-03T10:52:32.473Z"
   },
   {
    "duration": 134,
    "start_time": "2022-02-03T10:53:56.068Z"
   },
   {
    "duration": 4,
    "start_time": "2022-02-03T10:54:00.291Z"
   },
   {
    "duration": 4,
    "start_time": "2022-02-03T10:54:21.933Z"
   },
   {
    "duration": 20,
    "start_time": "2022-02-03T10:54:23.136Z"
   },
   {
    "duration": 20,
    "start_time": "2022-02-03T10:54:23.342Z"
   },
   {
    "duration": 18,
    "start_time": "2022-02-03T10:54:23.528Z"
   },
   {
    "duration": 18,
    "start_time": "2022-02-03T10:54:23.928Z"
   },
   {
    "duration": 3,
    "start_time": "2022-02-03T10:54:44.168Z"
   },
   {
    "duration": 808,
    "start_time": "2022-02-03T10:54:44.555Z"
   },
   {
    "duration": 54,
    "start_time": "2022-02-03T10:54:45.310Z"
   },
   {
    "duration": 53,
    "start_time": "2022-02-03T10:54:45.312Z"
   },
   {
    "duration": 3,
    "start_time": "2022-02-03T10:54:53.843Z"
   },
   {
    "duration": 783,
    "start_time": "2022-02-03T10:54:54.162Z"
   },
   {
    "duration": 47,
    "start_time": "2022-02-03T10:54:54.900Z"
   },
   {
    "duration": 734,
    "start_time": "2022-02-03T10:54:55.176Z"
   },
   {
    "duration": 4,
    "start_time": "2022-02-03T10:55:04.518Z"
   },
   {
    "duration": 21,
    "start_time": "2022-02-03T10:55:04.966Z"
   },
   {
    "duration": 19,
    "start_time": "2022-02-03T10:55:05.146Z"
   },
   {
    "duration": 17,
    "start_time": "2022-02-03T10:55:05.474Z"
   },
   {
    "duration": 16,
    "start_time": "2022-02-03T10:55:05.683Z"
   },
   {
    "duration": 330,
    "start_time": "2022-02-03T10:56:19.624Z"
   },
   {
    "duration": 4,
    "start_time": "2022-02-03T10:56:28.261Z"
   },
   {
    "duration": 335,
    "start_time": "2022-02-03T10:56:48.745Z"
   },
   {
    "duration": 114,
    "start_time": "2022-02-03T10:56:53.014Z"
   },
   {
    "duration": 335,
    "start_time": "2022-02-03T10:57:51.241Z"
   },
   {
    "duration": 3,
    "start_time": "2022-02-03T10:58:07.702Z"
   },
   {
    "duration": 119,
    "start_time": "2022-02-03T10:58:17.805Z"
   },
   {
    "duration": 105,
    "start_time": "2022-02-03T10:58:25.771Z"
   },
   {
    "duration": 114,
    "start_time": "2022-02-03T10:58:33.860Z"
   },
   {
    "duration": 384,
    "start_time": "2022-02-03T10:59:30.446Z"
   },
   {
    "duration": 2227,
    "start_time": "2022-02-03T10:59:38.797Z"
   },
   {
    "duration": 13,
    "start_time": "2022-02-03T11:00:32.960Z"
   },
   {
    "duration": 350,
    "start_time": "2022-02-03T11:01:04.440Z"
   },
   {
    "duration": 357,
    "start_time": "2022-02-03T11:01:15.132Z"
   },
   {
    "duration": 374,
    "start_time": "2022-02-03T11:01:45.787Z"
   },
   {
    "duration": 4,
    "start_time": "2022-02-03T11:01:56.615Z"
   },
   {
    "duration": 348,
    "start_time": "2022-02-03T11:02:15.206Z"
   },
   {
    "duration": 107,
    "start_time": "2022-02-03T11:03:15.050Z"
   },
   {
    "duration": 109,
    "start_time": "2022-02-03T11:03:46.140Z"
   },
   {
    "duration": 356,
    "start_time": "2022-02-03T11:05:34.340Z"
   },
   {
    "duration": 114,
    "start_time": "2022-02-03T11:07:04.754Z"
   },
   {
    "duration": 101,
    "start_time": "2022-02-03T11:07:08.593Z"
   },
   {
    "duration": 51,
    "start_time": "2022-02-03T11:07:37.791Z"
   },
   {
    "duration": 465,
    "start_time": "2022-02-03T11:08:24.625Z"
   },
   {
    "duration": 5,
    "start_time": "2022-02-03T11:12:30.761Z"
   },
   {
    "duration": 113,
    "start_time": "2022-02-03T11:14:07.776Z"
   },
   {
    "duration": 310,
    "start_time": "2022-02-03T11:14:16.040Z"
   },
   {
    "duration": 7,
    "start_time": "2022-02-03T11:49:40.377Z"
   },
   {
    "duration": 342,
    "start_time": "2022-02-03T11:50:29.551Z"
   },
   {
    "duration": 333,
    "start_time": "2022-02-03T11:51:07.430Z"
   },
   {
    "duration": 351,
    "start_time": "2022-02-03T11:51:32.882Z"
   },
   {
    "duration": 372,
    "start_time": "2022-02-03T11:52:49.064Z"
   },
   {
    "duration": 23,
    "start_time": "2022-02-03T11:53:03.188Z"
   },
   {
    "duration": 14,
    "start_time": "2022-02-03T11:53:24.040Z"
   },
   {
    "duration": 375,
    "start_time": "2022-02-03T11:53:34.687Z"
   },
   {
    "duration": 10,
    "start_time": "2022-02-03T11:54:06.950Z"
   },
   {
    "duration": 7,
    "start_time": "2022-02-03T11:54:20.633Z"
   },
   {
    "duration": 7,
    "start_time": "2022-02-03T11:54:30.208Z"
   },
   {
    "duration": 398,
    "start_time": "2022-02-03T11:55:58.037Z"
   },
   {
    "duration": 413,
    "start_time": "2022-02-03T11:56:15.170Z"
   },
   {
    "duration": 354,
    "start_time": "2022-02-03T11:56:22.310Z"
   },
   {
    "duration": 444,
    "start_time": "2022-02-03T11:56:36.432Z"
   },
   {
    "duration": 371,
    "start_time": "2022-02-03T11:57:27.709Z"
   },
   {
    "duration": 373,
    "start_time": "2022-02-03T11:57:42.420Z"
   },
   {
    "duration": 328,
    "start_time": "2022-02-03T11:57:48.378Z"
   },
   {
    "duration": 345,
    "start_time": "2022-02-03T11:59:41.233Z"
   },
   {
    "duration": 349,
    "start_time": "2022-02-03T11:59:46.390Z"
   },
   {
    "duration": 29,
    "start_time": "2022-02-03T11:59:56.353Z"
   },
   {
    "duration": 23,
    "start_time": "2022-02-03T12:00:36.171Z"
   },
   {
    "duration": 450,
    "start_time": "2022-02-03T12:00:58.035Z"
   },
   {
    "duration": 23,
    "start_time": "2022-02-03T12:01:13.967Z"
   },
   {
    "duration": 461,
    "start_time": "2022-02-03T12:01:20.051Z"
   },
   {
    "duration": 373,
    "start_time": "2022-02-03T12:01:24.766Z"
   },
   {
    "duration": 22,
    "start_time": "2022-02-03T12:01:51.483Z"
   },
   {
    "duration": 826,
    "start_time": "2022-02-03T12:02:05.634Z"
   },
   {
    "duration": 444,
    "start_time": "2022-02-03T12:02:09.683Z"
   },
   {
    "duration": 445,
    "start_time": "2022-02-03T12:03:01.938Z"
   },
   {
    "duration": 21,
    "start_time": "2022-02-03T12:03:22.697Z"
   },
   {
    "duration": 133,
    "start_time": "2022-02-03T12:03:48.540Z"
   },
   {
    "duration": 490,
    "start_time": "2022-02-03T12:04:30.685Z"
   },
   {
    "duration": 404,
    "start_time": "2022-02-03T12:04:45.245Z"
   },
   {
    "duration": 21,
    "start_time": "2022-02-03T12:06:01.861Z"
   },
   {
    "duration": 346,
    "start_time": "2022-02-03T12:06:19.667Z"
   },
   {
    "duration": 337,
    "start_time": "2022-02-03T12:06:58.144Z"
   },
   {
    "duration": 403,
    "start_time": "2022-02-03T12:07:06.192Z"
   },
   {
    "duration": 331,
    "start_time": "2022-02-03T12:07:46.030Z"
   },
   {
    "duration": 367,
    "start_time": "2022-02-03T12:07:58.714Z"
   },
   {
    "duration": 23,
    "start_time": "2022-02-03T12:08:03.893Z"
   },
   {
    "duration": 323,
    "start_time": "2022-02-03T12:08:25.156Z"
   },
   {
    "duration": 22,
    "start_time": "2022-02-03T12:08:32.110Z"
   },
   {
    "duration": 5,
    "start_time": "2022-02-03T12:09:05.818Z"
   },
   {
    "duration": 21,
    "start_time": "2022-02-03T12:09:11.458Z"
   },
   {
    "duration": 380,
    "start_time": "2022-02-03T12:10:12.221Z"
   },
   {
    "duration": 7,
    "start_time": "2022-02-03T12:10:18.680Z"
   },
   {
    "duration": 4,
    "start_time": "2022-02-03T12:10:20.232Z"
   },
   {
    "duration": 335,
    "start_time": "2022-02-03T12:10:27.888Z"
   },
   {
    "duration": 333,
    "start_time": "2022-02-03T12:10:38.423Z"
   },
   {
    "duration": 319,
    "start_time": "2022-02-03T12:10:41.740Z"
   },
   {
    "duration": 7,
    "start_time": "2022-02-03T12:11:23.594Z"
   },
   {
    "duration": 3,
    "start_time": "2022-02-03T12:11:26.911Z"
   },
   {
    "duration": 7,
    "start_time": "2022-02-03T12:11:32.772Z"
   },
   {
    "duration": 4,
    "start_time": "2022-02-03T12:11:33.361Z"
   },
   {
    "duration": 113,
    "start_time": "2022-02-03T12:13:04.146Z"
   },
   {
    "duration": 115,
    "start_time": "2022-02-03T12:13:26.731Z"
   },
   {
    "duration": 8,
    "start_time": "2022-02-03T12:13:33.311Z"
   },
   {
    "duration": 5,
    "start_time": "2022-02-03T12:13:46.713Z"
   },
   {
    "duration": 4,
    "start_time": "2022-02-03T12:13:55.624Z"
   },
   {
    "duration": 4,
    "start_time": "2022-02-03T12:13:59.223Z"
   },
   {
    "duration": 2,
    "start_time": "2022-02-03T12:21:29.203Z"
   },
   {
    "duration": 4,
    "start_time": "2022-02-03T12:26:30.420Z"
   },
   {
    "duration": 3,
    "start_time": "2022-02-03T12:26:44.243Z"
   },
   {
    "duration": 20,
    "start_time": "2022-02-03T12:26:45.448Z"
   },
   {
    "duration": 20,
    "start_time": "2022-02-03T12:26:46.047Z"
   },
   {
    "duration": 25,
    "start_time": "2022-02-03T12:26:46.609Z"
   },
   {
    "duration": 17,
    "start_time": "2022-02-03T12:26:47.073Z"
   },
   {
    "duration": 17,
    "start_time": "2022-02-03T12:30:51.151Z"
   },
   {
    "duration": 17,
    "start_time": "2022-02-03T12:30:52.044Z"
   },
   {
    "duration": 18,
    "start_time": "2022-02-03T12:31:00.352Z"
   },
   {
    "duration": 16,
    "start_time": "2022-02-03T12:31:05.382Z"
   },
   {
    "duration": 26,
    "start_time": "2022-02-03T12:31:08.847Z"
   },
   {
    "duration": 394,
    "start_time": "2022-02-03T12:33:59.300Z"
   },
   {
    "duration": 345,
    "start_time": "2022-02-03T12:34:05.983Z"
   },
   {
    "duration": 331,
    "start_time": "2022-02-03T12:34:27.325Z"
   },
   {
    "duration": 341,
    "start_time": "2022-02-03T12:34:39.965Z"
   },
   {
    "duration": 49,
    "start_time": "2022-02-03T12:34:53.128Z"
   },
   {
    "duration": 2170,
    "start_time": "2022-02-03T12:35:04.044Z"
   },
   {
    "duration": 47,
    "start_time": "2022-02-03T12:35:42.007Z"
   },
   {
    "duration": 48,
    "start_time": "2022-02-03T12:36:00.624Z"
   },
   {
    "duration": 47,
    "start_time": "2022-02-03T12:36:28.831Z"
   },
   {
    "duration": 11,
    "start_time": "2022-02-03T12:37:16.337Z"
   },
   {
    "duration": 18,
    "start_time": "2022-02-03T12:37:26.320Z"
   },
   {
    "duration": 21,
    "start_time": "2022-02-03T12:37:27.301Z"
   },
   {
    "duration": 16,
    "start_time": "2022-02-03T12:37:40.714Z"
   },
   {
    "duration": 16,
    "start_time": "2022-02-03T12:37:43.307Z"
   },
   {
    "duration": 17,
    "start_time": "2022-02-03T12:37:49.587Z"
   },
   {
    "duration": 17,
    "start_time": "2022-02-03T12:37:51.674Z"
   },
   {
    "duration": 5,
    "start_time": "2022-02-03T12:38:51.271Z"
   },
   {
    "duration": 7,
    "start_time": "2022-02-03T12:44:22.416Z"
   },
   {
    "duration": 966,
    "start_time": "2022-02-03T12:45:04.435Z"
   },
   {
    "duration": 125,
    "start_time": "2022-02-03T12:45:24.112Z"
   },
   {
    "duration": 323,
    "start_time": "2022-02-03T12:45:44.312Z"
   },
   {
    "duration": 378,
    "start_time": "2022-02-03T12:46:12.660Z"
   },
   {
    "duration": 479,
    "start_time": "2022-02-03T12:46:52.932Z"
   },
   {
    "duration": 362,
    "start_time": "2022-02-03T12:47:18.116Z"
   },
   {
    "duration": 2778,
    "start_time": "2022-02-03T12:47:23.996Z"
   },
   {
    "duration": 6,
    "start_time": "2022-02-03T12:47:36.435Z"
   },
   {
    "duration": 6,
    "start_time": "2022-02-03T12:47:47.849Z"
   },
   {
    "duration": 4,
    "start_time": "2022-02-03T12:47:50.750Z"
   },
   {
    "duration": 19,
    "start_time": "2022-02-03T12:49:10.598Z"
   },
   {
    "duration": 19,
    "start_time": "2022-02-03T12:49:12.152Z"
   },
   {
    "duration": 19,
    "start_time": "2022-02-03T12:49:22.703Z"
   },
   {
    "duration": 19,
    "start_time": "2022-02-03T12:49:24.860Z"
   },
   {
    "duration": 19,
    "start_time": "2022-02-03T12:49:25.189Z"
   },
   {
    "duration": 18,
    "start_time": "2022-02-03T12:49:25.675Z"
   },
   {
    "duration": 18,
    "start_time": "2022-02-03T12:49:26.105Z"
   },
   {
    "duration": 20,
    "start_time": "2022-02-03T12:50:31.716Z"
   },
   {
    "duration": 19,
    "start_time": "2022-02-03T12:50:32.515Z"
   },
   {
    "duration": 22,
    "start_time": "2022-02-03T12:50:41.936Z"
   },
   {
    "duration": 19,
    "start_time": "2022-02-03T12:50:49.458Z"
   },
   {
    "duration": 19,
    "start_time": "2022-02-03T12:51:20.300Z"
   },
   {
    "duration": 29,
    "start_time": "2022-02-03T12:51:20.458Z"
   },
   {
    "duration": 28,
    "start_time": "2022-02-03T12:51:26.096Z"
   },
   {
    "duration": 28,
    "start_time": "2022-02-03T12:51:26.251Z"
   },
   {
    "duration": 11,
    "start_time": "2022-02-03T12:51:40.217Z"
   },
   {
    "duration": 5,
    "start_time": "2022-02-03T12:51:41.105Z"
   },
   {
    "duration": 8,
    "start_time": "2022-02-03T12:51:42.394Z"
   },
   {
    "duration": 6,
    "start_time": "2022-02-03T12:51:43.190Z"
   },
   {
    "duration": 543,
    "start_time": "2022-02-12T09:13:13.374Z"
   },
   {
    "duration": 117,
    "start_time": "2022-02-12T09:13:13.919Z"
   },
   {
    "duration": 15,
    "start_time": "2022-02-12T09:13:14.038Z"
   },
   {
    "duration": 31,
    "start_time": "2022-02-12T09:13:14.055Z"
   },
   {
    "duration": 10,
    "start_time": "2022-02-12T09:13:14.088Z"
   },
   {
    "duration": 26,
    "start_time": "2022-02-12T09:13:14.100Z"
   },
   {
    "duration": 3,
    "start_time": "2022-02-12T09:13:14.128Z"
   },
   {
    "duration": 30,
    "start_time": "2022-02-12T09:13:14.133Z"
   },
   {
    "duration": 2,
    "start_time": "2022-02-12T09:13:14.165Z"
   },
   {
    "duration": 38,
    "start_time": "2022-02-12T09:13:14.169Z"
   },
   {
    "duration": 18,
    "start_time": "2022-02-12T09:13:14.209Z"
   },
   {
    "duration": 60,
    "start_time": "2022-02-12T09:13:14.229Z"
   },
   {
    "duration": 51,
    "start_time": "2022-02-12T09:13:14.290Z"
   },
   {
    "duration": 55,
    "start_time": "2022-02-12T09:13:14.343Z"
   },
   {
    "duration": 37,
    "start_time": "2022-02-12T09:13:14.399Z"
   },
   {
    "duration": 3,
    "start_time": "2022-02-12T09:13:14.437Z"
   },
   {
    "duration": 12,
    "start_time": "2022-02-12T09:13:14.441Z"
   },
   {
    "duration": 50,
    "start_time": "2022-02-12T09:13:14.454Z"
   },
   {
    "duration": 11,
    "start_time": "2022-02-12T09:13:14.505Z"
   },
   {
    "duration": 10,
    "start_time": "2022-02-12T09:13:14.517Z"
   },
   {
    "duration": 3,
    "start_time": "2022-02-12T09:13:14.529Z"
   },
   {
    "duration": 16,
    "start_time": "2022-02-12T09:13:14.533Z"
   },
   {
    "duration": 11,
    "start_time": "2022-02-12T09:13:14.573Z"
   },
   {
    "duration": 12,
    "start_time": "2022-02-12T09:13:14.586Z"
   },
   {
    "duration": 10,
    "start_time": "2022-02-12T09:13:14.599Z"
   },
   {
    "duration": 13,
    "start_time": "2022-02-12T09:13:14.611Z"
   },
   {
    "duration": 11,
    "start_time": "2022-02-12T09:13:14.625Z"
   },
   {
    "duration": 38,
    "start_time": "2022-02-12T09:13:14.638Z"
   },
   {
    "duration": 20,
    "start_time": "2022-02-12T09:13:14.677Z"
   },
   {
    "duration": 12,
    "start_time": "2022-02-12T09:13:14.699Z"
   },
   {
    "duration": 20,
    "start_time": "2022-02-12T09:13:14.712Z"
   },
   {
    "duration": 28,
    "start_time": "2022-02-12T09:13:14.734Z"
   },
   {
    "duration": 32,
    "start_time": "2022-02-12T09:13:14.764Z"
   },
   {
    "duration": 17,
    "start_time": "2022-02-12T09:13:14.798Z"
   },
   {
    "duration": 17,
    "start_time": "2022-02-12T09:13:14.816Z"
   },
   {
    "duration": 7,
    "start_time": "2022-02-12T09:13:14.835Z"
   },
   {
    "duration": 14,
    "start_time": "2022-02-12T09:13:14.843Z"
   },
   {
    "duration": 24,
    "start_time": "2022-02-12T09:13:14.858Z"
   },
   {
    "duration": 16,
    "start_time": "2022-02-12T09:13:14.884Z"
   },
   {
    "duration": 65,
    "start_time": "2022-02-15T06:20:45.468Z"
   },
   {
    "duration": 72,
    "start_time": "2022-02-15T06:20:50.563Z"
   },
   {
    "duration": 233,
    "start_time": "2022-02-15T06:30:54.287Z"
   },
   {
    "duration": 591,
    "start_time": "2022-02-15T06:31:08.085Z"
   },
   {
    "duration": 129,
    "start_time": "2022-02-15T06:31:08.678Z"
   },
   {
    "duration": 16,
    "start_time": "2022-02-15T06:31:08.812Z"
   },
   {
    "duration": 23,
    "start_time": "2022-02-15T06:31:08.829Z"
   },
   {
    "duration": 4,
    "start_time": "2022-02-15T06:31:08.853Z"
   },
   {
    "duration": 20,
    "start_time": "2022-02-15T06:31:08.858Z"
   },
   {
    "duration": 4,
    "start_time": "2022-02-15T06:31:08.986Z"
   },
   {
    "duration": 21,
    "start_time": "2022-02-15T06:31:09.523Z"
   },
   {
    "duration": 2,
    "start_time": "2022-02-15T06:31:10.223Z"
   },
   {
    "duration": 42,
    "start_time": "2022-02-15T06:31:10.829Z"
   },
   {
    "duration": 21,
    "start_time": "2022-02-15T06:31:25.924Z"
   },
   {
    "duration": 53,
    "start_time": "2022-02-15T06:31:26.243Z"
   },
   {
    "duration": 57,
    "start_time": "2022-02-15T06:31:27.070Z"
   },
   {
    "duration": 46,
    "start_time": "2022-02-15T06:31:28.185Z"
   },
   {
    "duration": 39,
    "start_time": "2022-02-15T06:31:31.800Z"
   },
   {
    "duration": 3,
    "start_time": "2022-02-15T06:31:33.329Z"
   },
   {
    "duration": 9,
    "start_time": "2022-02-15T06:31:34.245Z"
   },
   {
    "duration": 38,
    "start_time": "2022-02-15T06:31:35.425Z"
   },
   {
    "duration": 12,
    "start_time": "2022-02-15T06:31:38.739Z"
   },
   {
    "duration": 12,
    "start_time": "2022-02-15T06:31:56.965Z"
   },
   {
    "duration": 4,
    "start_time": "2022-02-15T06:32:01.532Z"
   },
   {
    "duration": 10,
    "start_time": "2022-02-15T06:45:54.971Z"
   },
   {
    "duration": 8,
    "start_time": "2022-02-15T06:45:56.558Z"
   },
   {
    "duration": 3,
    "start_time": "2022-02-15T06:48:58.914Z"
   },
   {
    "duration": 29,
    "start_time": "2022-02-15T07:19:53.311Z"
   },
   {
    "duration": 24,
    "start_time": "2022-02-15T07:19:57.961Z"
   },
   {
    "duration": 23,
    "start_time": "2022-02-15T07:21:19.966Z"
   },
   {
    "duration": 55,
    "start_time": "2022-02-15T07:21:45.241Z"
   },
   {
    "duration": 62,
    "start_time": "2022-02-15T07:22:04.855Z"
   },
   {
    "duration": 20,
    "start_time": "2022-02-15T07:24:22.884Z"
   },
   {
    "duration": 34,
    "start_time": "2022-02-15T07:24:59.468Z"
   },
   {
    "duration": 27,
    "start_time": "2022-02-15T07:25:30.310Z"
   },
   {
    "duration": 23,
    "start_time": "2022-02-15T07:25:30.824Z"
   },
   {
    "duration": 21,
    "start_time": "2022-02-15T07:25:31.857Z"
   },
   {
    "duration": 21,
    "start_time": "2022-02-15T07:25:32.455Z"
   },
   {
    "duration": 4,
    "start_time": "2022-02-15T07:29:39.990Z"
   },
   {
    "duration": 410,
    "start_time": "2022-02-15T07:29:42.105Z"
   },
   {
    "duration": 365,
    "start_time": "2022-02-15T07:29:42.649Z"
   },
   {
    "duration": 6,
    "start_time": "2022-02-15T07:29:57.758Z"
   },
   {
    "duration": 21,
    "start_time": "2022-02-15T07:29:59.581Z"
   },
   {
    "duration": 25,
    "start_time": "2022-02-15T07:30:00.226Z"
   },
   {
    "duration": 5,
    "start_time": "2022-02-15T07:31:09.857Z"
   },
   {
    "duration": 21,
    "start_time": "2022-02-15T07:31:11.676Z"
   },
   {
    "duration": 28,
    "start_time": "2022-02-15T07:31:12.500Z"
   },
   {
    "duration": 33,
    "start_time": "2022-02-15T07:31:13.103Z"
   },
   {
    "duration": 23,
    "start_time": "2022-02-15T07:31:14.824Z"
   },
   {
    "duration": 8,
    "start_time": "2022-02-15T07:31:36.780Z"
   },
   {
    "duration": 4,
    "start_time": "2022-02-15T07:31:37.377Z"
   },
   {
    "duration": 6,
    "start_time": "2022-02-15T07:31:40.696Z"
   },
   {
    "duration": 5,
    "start_time": "2022-02-15T07:31:41.137Z"
   },
   {
    "duration": 40,
    "start_time": "2022-02-15T08:46:00.606Z"
   },
   {
    "duration": 234,
    "start_time": "2022-02-15T09:28:30.079Z"
   },
   {
    "duration": 23,
    "start_time": "2022-02-15T09:30:22.485Z"
   },
   {
    "duration": 189,
    "start_time": "2022-02-15T09:31:59.878Z"
   },
   {
    "duration": 21,
    "start_time": "2022-02-15T09:32:06.018Z"
   },
   {
    "duration": 5,
    "start_time": "2022-02-15T09:44:31.391Z"
   },
   {
    "duration": 5,
    "start_time": "2022-02-15T09:46:28.313Z"
   },
   {
    "duration": 19,
    "start_time": "2022-02-15T09:46:30.318Z"
   },
   {
    "duration": 13,
    "start_time": "2022-02-15T09:46:31.647Z"
   },
   {
    "duration": 18,
    "start_time": "2022-02-15T09:46:32.204Z"
   },
   {
    "duration": 12,
    "start_time": "2022-02-15T09:46:32.677Z"
   },
   {
    "duration": 4,
    "start_time": "2022-02-15T09:50:45.471Z"
   },
   {
    "duration": 19,
    "start_time": "2022-02-15T09:50:46.819Z"
   },
   {
    "duration": 548,
    "start_time": "2022-02-15T16:41:09.595Z"
   },
   {
    "duration": 114,
    "start_time": "2022-02-15T16:41:10.145Z"
   },
   {
    "duration": 14,
    "start_time": "2022-02-15T16:41:10.261Z"
   },
   {
    "duration": 21,
    "start_time": "2022-02-15T16:41:10.277Z"
   },
   {
    "duration": 3,
    "start_time": "2022-02-15T16:41:10.300Z"
   },
   {
    "duration": 17,
    "start_time": "2022-02-15T16:41:10.305Z"
   },
   {
    "duration": 3,
    "start_time": "2022-02-15T16:41:10.324Z"
   },
   {
    "duration": 19,
    "start_time": "2022-02-15T16:41:10.345Z"
   },
   {
    "duration": 3,
    "start_time": "2022-02-15T16:41:10.366Z"
   },
   {
    "duration": 37,
    "start_time": "2022-02-15T16:41:10.370Z"
   },
   {
    "duration": 19,
    "start_time": "2022-02-15T16:41:10.408Z"
   },
   {
    "duration": 63,
    "start_time": "2022-02-15T16:41:10.428Z"
   },
   {
    "duration": 65,
    "start_time": "2022-02-15T16:41:10.492Z"
   },
   {
    "duration": 40,
    "start_time": "2022-02-15T16:41:10.559Z"
   },
   {
    "duration": 49,
    "start_time": "2022-02-15T16:41:10.601Z"
   },
   {
    "duration": 3,
    "start_time": "2022-02-15T16:41:10.651Z"
   },
   {
    "duration": 10,
    "start_time": "2022-02-15T16:41:10.656Z"
   },
   {
    "duration": 35,
    "start_time": "2022-02-15T16:41:10.667Z"
   },
   {
    "duration": 9,
    "start_time": "2022-02-15T16:41:10.704Z"
   },
   {
    "duration": 33,
    "start_time": "2022-02-15T16:41:10.715Z"
   },
   {
    "duration": 3,
    "start_time": "2022-02-15T16:41:10.750Z"
   },
   {
    "duration": 19,
    "start_time": "2022-02-15T16:41:10.754Z"
   },
   {
    "duration": 12,
    "start_time": "2022-02-15T16:41:10.776Z"
   },
   {
    "duration": 11,
    "start_time": "2022-02-15T16:41:10.789Z"
   },
   {
    "duration": 9,
    "start_time": "2022-02-15T16:41:10.802Z"
   },
   {
    "duration": 37,
    "start_time": "2022-02-15T16:41:10.813Z"
   },
   {
    "duration": 11,
    "start_time": "2022-02-15T16:41:10.852Z"
   },
   {
    "duration": 6,
    "start_time": "2022-02-15T16:41:10.864Z"
   },
   {
    "duration": 50,
    "start_time": "2022-02-15T16:41:10.872Z"
   },
   {
    "duration": 46,
    "start_time": "2022-02-15T16:41:10.923Z"
   },
   {
    "duration": 3,
    "start_time": "2022-02-15T16:41:10.971Z"
   },
   {
    "duration": 20,
    "start_time": "2022-02-15T16:41:10.976Z"
   },
   {
    "duration": 10,
    "start_time": "2022-02-15T16:41:10.997Z"
   },
   {
    "duration": 14,
    "start_time": "2022-02-15T16:41:11.008Z"
   },
   {
    "duration": 28,
    "start_time": "2022-02-15T16:41:11.023Z"
   },
   {
    "duration": 7,
    "start_time": "2022-02-15T16:41:11.052Z"
   },
   {
    "duration": 3,
    "start_time": "2022-02-15T16:41:11.060Z"
   },
   {
    "duration": 6,
    "start_time": "2022-02-15T16:41:11.065Z"
   },
   {
    "duration": 6,
    "start_time": "2022-02-15T16:41:11.072Z"
   },
   {
    "duration": 557,
    "start_time": "2022-02-15T16:54:33.265Z"
   },
   {
    "duration": 112,
    "start_time": "2022-02-15T16:54:33.824Z"
   },
   {
    "duration": 14,
    "start_time": "2022-02-15T16:54:33.938Z"
   },
   {
    "duration": 23,
    "start_time": "2022-02-15T16:54:33.954Z"
   },
   {
    "duration": 4,
    "start_time": "2022-02-15T16:54:33.978Z"
   },
   {
    "duration": 16,
    "start_time": "2022-02-15T16:54:33.984Z"
   },
   {
    "duration": 4,
    "start_time": "2022-02-15T16:54:34.002Z"
   },
   {
    "duration": 49,
    "start_time": "2022-02-15T16:54:34.007Z"
   },
   {
    "duration": 9,
    "start_time": "2022-02-15T16:54:34.059Z"
   },
   {
    "duration": 41,
    "start_time": "2022-02-15T16:54:34.070Z"
   },
   {
    "duration": 20,
    "start_time": "2022-02-15T16:54:34.113Z"
   },
   {
    "duration": 53,
    "start_time": "2022-02-15T16:54:34.134Z"
   },
   {
    "duration": 69,
    "start_time": "2022-02-15T16:54:34.189Z"
   },
   {
    "duration": 44,
    "start_time": "2022-02-15T16:54:34.259Z"
   },
   {
    "duration": 54,
    "start_time": "2022-02-15T16:54:34.305Z"
   },
   {
    "duration": 3,
    "start_time": "2022-02-15T16:54:34.360Z"
   },
   {
    "duration": 13,
    "start_time": "2022-02-15T16:54:34.365Z"
   },
   {
    "duration": 36,
    "start_time": "2022-02-15T16:54:34.379Z"
   },
   {
    "duration": 30,
    "start_time": "2022-02-15T16:54:34.417Z"
   },
   {
    "duration": 11,
    "start_time": "2022-02-15T16:54:34.448Z"
   },
   {
    "duration": 4,
    "start_time": "2022-02-15T16:54:34.460Z"
   },
   {
    "duration": 16,
    "start_time": "2022-02-15T16:54:34.465Z"
   },
   {
    "duration": 12,
    "start_time": "2022-02-15T16:54:34.482Z"
   },
   {
    "duration": 12,
    "start_time": "2022-02-15T16:54:34.495Z"
   },
   {
    "duration": 44,
    "start_time": "2022-02-15T16:54:34.508Z"
   },
   {
    "duration": 12,
    "start_time": "2022-02-15T16:54:34.553Z"
   },
   {
    "duration": 10,
    "start_time": "2022-02-15T16:54:34.568Z"
   },
   {
    "duration": 7,
    "start_time": "2022-02-15T16:54:34.579Z"
   },
   {
    "duration": 67,
    "start_time": "2022-02-15T16:54:34.587Z"
   },
   {
    "duration": 26,
    "start_time": "2022-02-15T16:54:34.656Z"
   },
   {
    "duration": 3,
    "start_time": "2022-02-15T16:54:34.683Z"
   },
   {
    "duration": 19,
    "start_time": "2022-02-15T16:54:34.688Z"
   },
   {
    "duration": 9,
    "start_time": "2022-02-15T16:54:34.709Z"
   },
   {
    "duration": 37,
    "start_time": "2022-02-15T16:54:34.719Z"
   },
   {
    "duration": 10,
    "start_time": "2022-02-15T16:54:34.757Z"
   },
   {
    "duration": 6,
    "start_time": "2022-02-15T16:54:34.768Z"
   },
   {
    "duration": 4,
    "start_time": "2022-02-15T16:54:34.775Z"
   },
   {
    "duration": 8,
    "start_time": "2022-02-15T16:54:34.780Z"
   },
   {
    "duration": 12,
    "start_time": "2022-02-15T16:54:34.789Z"
   },
   {
    "duration": 740,
    "start_time": "2022-02-16T06:34:31.241Z"
   },
   {
    "duration": 162,
    "start_time": "2022-02-16T06:34:31.983Z"
   },
   {
    "duration": 20,
    "start_time": "2022-02-16T06:34:32.329Z"
   },
   {
    "duration": 25,
    "start_time": "2022-02-16T06:34:33.181Z"
   },
   {
    "duration": 4,
    "start_time": "2022-02-16T06:34:35.329Z"
   },
   {
    "duration": 20,
    "start_time": "2022-02-16T06:34:35.905Z"
   },
   {
    "duration": 5,
    "start_time": "2022-02-16T06:34:36.431Z"
   },
   {
    "duration": 24,
    "start_time": "2022-02-16T06:34:36.809Z"
   },
   {
    "duration": 3,
    "start_time": "2022-02-16T06:34:37.810Z"
   },
   {
    "duration": 47,
    "start_time": "2022-02-16T06:34:38.257Z"
   },
   {
    "duration": 24,
    "start_time": "2022-02-16T06:34:39.060Z"
   },
   {
    "duration": 65,
    "start_time": "2022-02-16T06:34:39.441Z"
   },
   {
    "duration": 72,
    "start_time": "2022-02-16T06:34:39.761Z"
   },
   {
    "duration": 57,
    "start_time": "2022-02-16T06:34:40.458Z"
   },
   {
    "duration": 44,
    "start_time": "2022-02-16T06:34:41.181Z"
   },
   {
    "duration": 4,
    "start_time": "2022-02-16T06:34:41.765Z"
   },
   {
    "duration": 11,
    "start_time": "2022-02-16T06:34:42.159Z"
   },
   {
    "duration": 45,
    "start_time": "2022-02-16T06:34:42.680Z"
   },
   {
    "duration": 14,
    "start_time": "2022-02-16T06:34:43.909Z"
   },
   {
    "duration": 12,
    "start_time": "2022-02-16T06:34:44.504Z"
   },
   {
    "duration": 4,
    "start_time": "2022-02-16T06:34:45.091Z"
   },
   {
    "duration": 17,
    "start_time": "2022-02-16T06:34:45.661Z"
   },
   {
    "duration": 18,
    "start_time": "2022-02-16T06:34:45.945Z"
   },
   {
    "duration": 19,
    "start_time": "2022-02-16T06:34:46.081Z"
   },
   {
    "duration": 15,
    "start_time": "2022-02-16T06:34:46.327Z"
   },
   {
    "duration": 18,
    "start_time": "2022-02-16T06:34:46.608Z"
   },
   {
    "duration": 16,
    "start_time": "2022-02-16T06:34:46.978Z"
   },
   {
    "duration": 11,
    "start_time": "2022-02-16T06:34:47.866Z"
   },
   {
    "duration": 64,
    "start_time": "2022-02-16T06:34:48.983Z"
   },
   {
    "duration": 35,
    "start_time": "2022-02-16T06:34:49.188Z"
   },
   {
    "duration": 4,
    "start_time": "2022-02-16T06:34:49.388Z"
   },
   {
    "duration": 20,
    "start_time": "2022-02-16T06:34:51.876Z"
   },
   {
    "duration": 15,
    "start_time": "2022-02-16T06:34:52.372Z"
   },
   {
    "duration": 22,
    "start_time": "2022-02-16T06:34:52.907Z"
   },
   {
    "duration": 13,
    "start_time": "2022-02-16T06:34:53.199Z"
   },
   {
    "duration": 22,
    "start_time": "2022-02-16T06:35:05.967Z"
   },
   {
    "duration": 15,
    "start_time": "2022-02-16T06:35:06.341Z"
   },
   {
    "duration": 18,
    "start_time": "2022-02-16T06:35:06.848Z"
   },
   {
    "duration": 15,
    "start_time": "2022-02-16T06:35:07.801Z"
   },
   {
    "duration": 811,
    "start_time": "2022-02-16T19:33:17.704Z"
   },
   {
    "duration": 180,
    "start_time": "2022-02-16T19:33:18.517Z"
   },
   {
    "duration": 34,
    "start_time": "2022-02-16T19:33:18.700Z"
   },
   {
    "duration": 34,
    "start_time": "2022-02-16T19:33:18.737Z"
   },
   {
    "duration": 7,
    "start_time": "2022-02-16T19:33:18.774Z"
   },
   {
    "duration": 56,
    "start_time": "2022-02-16T19:33:18.783Z"
   },
   {
    "duration": 7,
    "start_time": "2022-02-16T19:33:18.841Z"
   },
   {
    "duration": 36,
    "start_time": "2022-02-16T19:33:18.850Z"
   },
   {
    "duration": 8,
    "start_time": "2022-02-16T19:33:18.890Z"
   },
   {
    "duration": 82,
    "start_time": "2022-02-16T19:33:18.901Z"
   },
   {
    "duration": 31,
    "start_time": "2022-02-16T19:33:18.986Z"
   },
   {
    "duration": 83,
    "start_time": "2022-02-16T19:33:19.033Z"
   },
   {
    "duration": 105,
    "start_time": "2022-02-16T19:33:19.118Z"
   },
   {
    "duration": 74,
    "start_time": "2022-02-16T19:33:19.233Z"
   },
   {
    "duration": 70,
    "start_time": "2022-02-16T19:33:19.309Z"
   },
   {
    "duration": 5,
    "start_time": "2022-02-16T19:33:19.381Z"
   },
   {
    "duration": 17,
    "start_time": "2022-02-16T19:33:19.388Z"
   },
   {
    "duration": 82,
    "start_time": "2022-02-16T19:33:19.407Z"
   },
   {
    "duration": 18,
    "start_time": "2022-02-16T19:33:19.491Z"
   },
   {
    "duration": 35,
    "start_time": "2022-02-16T19:33:19.511Z"
   },
   {
    "duration": 5,
    "start_time": "2022-02-16T19:33:19.548Z"
   },
   {
    "duration": 35,
    "start_time": "2022-02-16T19:33:19.556Z"
   },
   {
    "duration": 55,
    "start_time": "2022-02-16T19:33:19.594Z"
   },
   {
    "duration": 28,
    "start_time": "2022-02-16T19:33:19.652Z"
   },
   {
    "duration": 61,
    "start_time": "2022-02-16T19:33:19.683Z"
   },
   {
    "duration": 29,
    "start_time": "2022-02-16T19:33:19.747Z"
   },
   {
    "duration": 19,
    "start_time": "2022-02-16T19:33:19.781Z"
   },
   {
    "duration": 38,
    "start_time": "2022-02-16T19:33:19.803Z"
   },
   {
    "duration": 145,
    "start_time": "2022-02-16T19:33:19.844Z"
   },
   {
    "duration": 79,
    "start_time": "2022-02-16T19:33:19.992Z"
   },
   {
    "duration": 6,
    "start_time": "2022-02-16T19:33:20.073Z"
   },
   {
    "duration": 47,
    "start_time": "2022-02-16T19:33:20.081Z"
   },
   {
    "duration": 16,
    "start_time": "2022-02-16T19:33:20.132Z"
   },
   {
    "duration": 24,
    "start_time": "2022-02-16T19:33:20.151Z"
   },
   {
    "duration": 18,
    "start_time": "2022-02-16T19:33:20.179Z"
   },
   {
    "duration": 45,
    "start_time": "2022-02-16T19:33:20.199Z"
   },
   {
    "duration": 6,
    "start_time": "2022-02-16T19:33:20.248Z"
   },
   {
    "duration": 10,
    "start_time": "2022-02-16T19:33:20.257Z"
   },
   {
    "duration": 7,
    "start_time": "2022-02-16T19:33:20.270Z"
   }
  ],
  "colab": {
   "collapsed_sections": [
    "E0vqbgi9ay0H",
    "VUC88oWjTJw2"
   ],
   "name": "yandex_music_project_2021.2.ipynb",
   "provenance": []
  },
  "kernelspec": {
   "display_name": "Python 3 (ipykernel)",
   "language": "python",
   "name": "python3"
  },
  "language_info": {
   "codemirror_mode": {
    "name": "ipython",
    "version": 3
   },
   "file_extension": ".py",
   "mimetype": "text/x-python",
   "name": "python",
   "nbconvert_exporter": "python",
   "pygments_lexer": "ipython3",
   "version": "3.9.7"
  },
  "toc": {
   "base_numbering": 1,
   "nav_menu": {},
   "number_sections": true,
   "sideBar": true,
   "skip_h1_title": true,
   "title_cell": "Table of Contents",
   "title_sidebar": "Contents",
   "toc_cell": false,
   "toc_position": {},
   "toc_section_display": true,
   "toc_window_display": false
  }
 },
 "nbformat": 4,
 "nbformat_minor": 1
}
