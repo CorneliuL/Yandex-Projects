{
 "cells": [
  {
   "cell_type": "markdown",
   "metadata": {},
   "source": [
    "<blockquote>\n",
    "    \n",
    "<b>Привет!</b>\n",
    "    \n",
    "Меня зовут Макаев Андрей, я буду ревьюером твоего проекта. Ты можешь обращаться ко мне на \"ты\" Надеюсь, тебя также не смутит, если я буду обращаться к тебе на \"ты\", но если это неудобно, обязательно скажи об этом!\n",
    "\n",
    "Пожалуйста, не удаляй мои комментарии, они будут особенно полезны для нашей работы в случае повторной проверки проекта.\n",
    "\n",
    "Ты также можешь реагировать на мои комментарии своими, выделяя их цветами и наиболее понравившимся тебе способом оформления, но явно отличающимся от моих комментариев. Это нужно, чтобы не создавалась путаница\n",
    "\n",
    "Можешь оформлять их так:\n",
    "\n",
    "<div class=\"alert alert-info\"> <b>Комментарий студента:</b> \n",
    "    \n",
    " </div>\n",
    "    \n",
    "Ты можешь найти мои комментарии, обозначенные <font color='green'>зеленым</font>, <font color='gold'>желтым</font> и <font color='red'>красным</font> цветами, например:\n",
    "\n",
    "<br/>\n",
    "\n",
    "<div class=\"alert alert-success\">\n",
    "<h2> Комментарий ревьюера <a class=\"tocSkip\"> </h2>\n",
    "\n",
    "<b>Все отлично!👍:</b> В случае, если решение на отдельном шаге является полностью правильным.\n",
    "</div>\n",
    "\n",
    "<br/>\n",
    "\n",
    "<div class=\"alert alert-warning\">\n",
    "<h2> Комментарий ревьюера <a class=\"tocSkip\"> </h2>\n",
    "\n",
    "<b>Некоторые замечания и рекомендации💡:</b> В случае, когда решение на отдельном шаге станет еще лучше, если внести небольшие коррективы.\n",
    "</div>\n",
    "\n",
    "\n",
    "<br/>\n",
    "<div class=\"alert alert-block alert-danger\">\n",
    "<h2> Комментарий ревьюера <a class=\"tocSkip\"></h2>\n",
    "\n",
    "\n",
    "<b>На доработку🤔:</b>\n",
    "В случае, когда решение на отдельном шаге требует существенной переработки и внесения правок. Напоминаю, что проект не может быть принят с первого раза, если ревью содержит комментарии, рекомендующие доработать шаги.\n",
    "</div>\n",
    "\n",
    "Увидев у тебя неточность, в первый раз я лишь укажу на ее наличие и дам тебе возможность самому найти и исправить ее. На реальной работе твой руководитель будет поступать также, и я пытаюсь подготовить тебя именно к работе аналитиком. Но если ты пока не справишься с такой задачей - при следующей проверке я дам более точную подсказку!🤓\n",
    "</blockquote>"
   ]
  },
  {
   "cell_type": "markdown",
   "metadata": {},
   "source": [
    "# Описание проекта\n",
    "Я участвую в разрабатывание стратегию взаимодействия с клиентами на основе аналитических данных. Провести анализ причины проблема фитнес-клубов и других сервисов — отток клиентов.\n",
    "\n",
    "Вопрос: Как понять, что клиент больше не с вами?\n",
    "\n",
    "    Для фитнес-центра можно считать, что клиент попал в отток, если за последний месяц ни разу не посетил спортзал. Конечно, не исключено, что он уехал на Бали и по приезде обязательно продолжит ходить на фитнес. Однако чаще бывает наоборот. Если клиент начал новую жизнь с понедельника, немного походил в спортзал, а потом пропал — скорее всего, он не вернётся\n",
    "\n",
    "    \n",
    "\n",
    "- Моя задача — провести анализ и подготовить план действий по удержанию клиентов. ( отдел по работе с клиентами «Культуриста-датасаентиста» перевёл в электронный вид множество клиентских анкет)"
   ]
  },
  {
   "cell_type": "code",
   "execution_count": 1,
   "metadata": {},
   "outputs": [],
   "source": [
    "import pandas as pd\n",
    "import seaborn as sns\n",
    "import matplotlib.pyplot as plt\n",
    "from sklearn.preprocessing import StandardScaler\n",
    "from sklearn.model_selection import train_test_split\n",
    "from sklearn.linear_model import LogisticRegression\n",
    "from sklearn.tree import DecisionTreeClassifier\n",
    "from sklearn.preprocessing import StandardScaler\n",
    "from sklearn.ensemble import RandomForestRegressor, GradientBoostingRegressor\n",
    "from sklearn.metrics import mean_absolute_error, mean_squared_error, r2_score\n",
    "from scipy.cluster.hierarchy import dendrogram, linkage\n",
    "from sklearn.cluster import KMeans\n",
    "import itertools\n",
    "\n",
    "from sklearn.ensemble import RandomForestClassifier, GradientBoostingClassifier\n",
    "\n",
    "from sklearn.metrics import accuracy_score, precision_score, recall_score, f1_score\n",
    "from sklearn.metrics import roc_auc_score"
   ]
  },
  {
   "cell_type": "code",
   "execution_count": 2,
   "metadata": {},
   "outputs": [],
   "source": [
    "df = pd.read_csv(r'C:\\Users\\corneliu.leahu\\OneDrive - Overseas Administration Management\\Main Work Folder\\Screen docs\\STUDIES\\CV - Financial Controller Linkedin\\Yandex\\1. Yandex_Prakctikum\\08. machine Learning\\01. Project\\gym_churn.csv')"
   ]
  },
  {
   "cell_type": "code",
   "execution_count": 3,
   "metadata": {},
   "outputs": [
    {
     "data": {
      "text/html": [
       "<div>\n",
       "<style scoped>\n",
       "    .dataframe tbody tr th:only-of-type {\n",
       "        vertical-align: middle;\n",
       "    }\n",
       "\n",
       "    .dataframe tbody tr th {\n",
       "        vertical-align: top;\n",
       "    }\n",
       "\n",
       "    .dataframe thead th {\n",
       "        text-align: right;\n",
       "    }\n",
       "</style>\n",
       "<table border=\"1\" class=\"dataframe\">\n",
       "  <thead>\n",
       "    <tr style=\"text-align: right;\">\n",
       "      <th></th>\n",
       "      <th>gender</th>\n",
       "      <th>Near_Location</th>\n",
       "      <th>Partner</th>\n",
       "      <th>Promo_friends</th>\n",
       "      <th>Phone</th>\n",
       "      <th>Contract_period</th>\n",
       "      <th>Group_visits</th>\n",
       "      <th>Age</th>\n",
       "      <th>Avg_additional_charges_total</th>\n",
       "      <th>Month_to_end_contract</th>\n",
       "      <th>Lifetime</th>\n",
       "      <th>Avg_class_frequency_total</th>\n",
       "      <th>Avg_class_frequency_current_month</th>\n",
       "      <th>Churn</th>\n",
       "    </tr>\n",
       "  </thead>\n",
       "  <tbody>\n",
       "    <tr>\n",
       "      <th>0</th>\n",
       "      <td>1</td>\n",
       "      <td>1</td>\n",
       "      <td>1</td>\n",
       "      <td>1</td>\n",
       "      <td>0</td>\n",
       "      <td>6</td>\n",
       "      <td>1</td>\n",
       "      <td>29</td>\n",
       "      <td>14.227470</td>\n",
       "      <td>5.0</td>\n",
       "      <td>3</td>\n",
       "      <td>0.020398</td>\n",
       "      <td>0.000000</td>\n",
       "      <td>0</td>\n",
       "    </tr>\n",
       "    <tr>\n",
       "      <th>1</th>\n",
       "      <td>0</td>\n",
       "      <td>1</td>\n",
       "      <td>0</td>\n",
       "      <td>0</td>\n",
       "      <td>1</td>\n",
       "      <td>12</td>\n",
       "      <td>1</td>\n",
       "      <td>31</td>\n",
       "      <td>113.202938</td>\n",
       "      <td>12.0</td>\n",
       "      <td>7</td>\n",
       "      <td>1.922936</td>\n",
       "      <td>1.910244</td>\n",
       "      <td>0</td>\n",
       "    </tr>\n",
       "    <tr>\n",
       "      <th>2</th>\n",
       "      <td>0</td>\n",
       "      <td>1</td>\n",
       "      <td>1</td>\n",
       "      <td>0</td>\n",
       "      <td>1</td>\n",
       "      <td>1</td>\n",
       "      <td>0</td>\n",
       "      <td>28</td>\n",
       "      <td>129.448479</td>\n",
       "      <td>1.0</td>\n",
       "      <td>2</td>\n",
       "      <td>1.859098</td>\n",
       "      <td>1.736502</td>\n",
       "      <td>0</td>\n",
       "    </tr>\n",
       "    <tr>\n",
       "      <th>3</th>\n",
       "      <td>0</td>\n",
       "      <td>1</td>\n",
       "      <td>1</td>\n",
       "      <td>1</td>\n",
       "      <td>1</td>\n",
       "      <td>12</td>\n",
       "      <td>1</td>\n",
       "      <td>33</td>\n",
       "      <td>62.669863</td>\n",
       "      <td>12.0</td>\n",
       "      <td>2</td>\n",
       "      <td>3.205633</td>\n",
       "      <td>3.357215</td>\n",
       "      <td>0</td>\n",
       "    </tr>\n",
       "    <tr>\n",
       "      <th>4</th>\n",
       "      <td>1</td>\n",
       "      <td>1</td>\n",
       "      <td>1</td>\n",
       "      <td>1</td>\n",
       "      <td>1</td>\n",
       "      <td>1</td>\n",
       "      <td>0</td>\n",
       "      <td>26</td>\n",
       "      <td>198.362265</td>\n",
       "      <td>1.0</td>\n",
       "      <td>3</td>\n",
       "      <td>1.113884</td>\n",
       "      <td>1.120078</td>\n",
       "      <td>0</td>\n",
       "    </tr>\n",
       "    <tr>\n",
       "      <th>...</th>\n",
       "      <td>...</td>\n",
       "      <td>...</td>\n",
       "      <td>...</td>\n",
       "      <td>...</td>\n",
       "      <td>...</td>\n",
       "      <td>...</td>\n",
       "      <td>...</td>\n",
       "      <td>...</td>\n",
       "      <td>...</td>\n",
       "      <td>...</td>\n",
       "      <td>...</td>\n",
       "      <td>...</td>\n",
       "      <td>...</td>\n",
       "      <td>...</td>\n",
       "    </tr>\n",
       "    <tr>\n",
       "      <th>3995</th>\n",
       "      <td>1</td>\n",
       "      <td>1</td>\n",
       "      <td>1</td>\n",
       "      <td>0</td>\n",
       "      <td>1</td>\n",
       "      <td>12</td>\n",
       "      <td>0</td>\n",
       "      <td>33</td>\n",
       "      <td>2.406023</td>\n",
       "      <td>12.0</td>\n",
       "      <td>8</td>\n",
       "      <td>2.284497</td>\n",
       "      <td>2.349070</td>\n",
       "      <td>0</td>\n",
       "    </tr>\n",
       "    <tr>\n",
       "      <th>3996</th>\n",
       "      <td>0</td>\n",
       "      <td>1</td>\n",
       "      <td>0</td>\n",
       "      <td>0</td>\n",
       "      <td>1</td>\n",
       "      <td>1</td>\n",
       "      <td>1</td>\n",
       "      <td>29</td>\n",
       "      <td>68.883764</td>\n",
       "      <td>1.0</td>\n",
       "      <td>1</td>\n",
       "      <td>1.277168</td>\n",
       "      <td>0.292859</td>\n",
       "      <td>1</td>\n",
       "    </tr>\n",
       "    <tr>\n",
       "      <th>3997</th>\n",
       "      <td>1</td>\n",
       "      <td>1</td>\n",
       "      <td>1</td>\n",
       "      <td>1</td>\n",
       "      <td>1</td>\n",
       "      <td>12</td>\n",
       "      <td>0</td>\n",
       "      <td>28</td>\n",
       "      <td>78.250542</td>\n",
       "      <td>11.0</td>\n",
       "      <td>2</td>\n",
       "      <td>2.786146</td>\n",
       "      <td>2.831439</td>\n",
       "      <td>0</td>\n",
       "    </tr>\n",
       "    <tr>\n",
       "      <th>3998</th>\n",
       "      <td>0</td>\n",
       "      <td>1</td>\n",
       "      <td>1</td>\n",
       "      <td>1</td>\n",
       "      <td>1</td>\n",
       "      <td>6</td>\n",
       "      <td>0</td>\n",
       "      <td>32</td>\n",
       "      <td>61.912657</td>\n",
       "      <td>5.0</td>\n",
       "      <td>3</td>\n",
       "      <td>1.630108</td>\n",
       "      <td>1.596237</td>\n",
       "      <td>0</td>\n",
       "    </tr>\n",
       "    <tr>\n",
       "      <th>3999</th>\n",
       "      <td>1</td>\n",
       "      <td>0</td>\n",
       "      <td>1</td>\n",
       "      <td>0</td>\n",
       "      <td>0</td>\n",
       "      <td>12</td>\n",
       "      <td>1</td>\n",
       "      <td>30</td>\n",
       "      <td>178.861814</td>\n",
       "      <td>12.0</td>\n",
       "      <td>1</td>\n",
       "      <td>1.101832</td>\n",
       "      <td>1.035270</td>\n",
       "      <td>0</td>\n",
       "    </tr>\n",
       "  </tbody>\n",
       "</table>\n",
       "<p>4000 rows × 14 columns</p>\n",
       "</div>"
      ],
      "text/plain": [
       "      gender  Near_Location  Partner  Promo_friends  Phone  Contract_period  \\\n",
       "0          1              1        1              1      0                6   \n",
       "1          0              1        0              0      1               12   \n",
       "2          0              1        1              0      1                1   \n",
       "3          0              1        1              1      1               12   \n",
       "4          1              1        1              1      1                1   \n",
       "...      ...            ...      ...            ...    ...              ...   \n",
       "3995       1              1        1              0      1               12   \n",
       "3996       0              1        0              0      1                1   \n",
       "3997       1              1        1              1      1               12   \n",
       "3998       0              1        1              1      1                6   \n",
       "3999       1              0        1              0      0               12   \n",
       "\n",
       "      Group_visits  Age  Avg_additional_charges_total  Month_to_end_contract  \\\n",
       "0                1   29                     14.227470                    5.0   \n",
       "1                1   31                    113.202938                   12.0   \n",
       "2                0   28                    129.448479                    1.0   \n",
       "3                1   33                     62.669863                   12.0   \n",
       "4                0   26                    198.362265                    1.0   \n",
       "...            ...  ...                           ...                    ...   \n",
       "3995             0   33                      2.406023                   12.0   \n",
       "3996             1   29                     68.883764                    1.0   \n",
       "3997             0   28                     78.250542                   11.0   \n",
       "3998             0   32                     61.912657                    5.0   \n",
       "3999             1   30                    178.861814                   12.0   \n",
       "\n",
       "      Lifetime  Avg_class_frequency_total  Avg_class_frequency_current_month  \\\n",
       "0            3                   0.020398                           0.000000   \n",
       "1            7                   1.922936                           1.910244   \n",
       "2            2                   1.859098                           1.736502   \n",
       "3            2                   3.205633                           3.357215   \n",
       "4            3                   1.113884                           1.120078   \n",
       "...        ...                        ...                                ...   \n",
       "3995         8                   2.284497                           2.349070   \n",
       "3996         1                   1.277168                           0.292859   \n",
       "3997         2                   2.786146                           2.831439   \n",
       "3998         3                   1.630108                           1.596237   \n",
       "3999         1                   1.101832                           1.035270   \n",
       "\n",
       "      Churn  \n",
       "0         0  \n",
       "1         0  \n",
       "2         0  \n",
       "3         0  \n",
       "4         0  \n",
       "...     ...  \n",
       "3995      0  \n",
       "3996      1  \n",
       "3997      0  \n",
       "3998      0  \n",
       "3999      0  \n",
       "\n",
       "[4000 rows x 14 columns]"
      ]
     },
     "metadata": {},
     "output_type": "display_data"
    }
   ],
   "source": [
    "display(df)"
   ]
  },
  {
   "cell_type": "code",
   "execution_count": 4,
   "metadata": {},
   "outputs": [
    {
     "data": {
      "text/plain": [
       "(4000, 14)"
      ]
     },
     "execution_count": 4,
     "metadata": {},
     "output_type": "execute_result"
    }
   ],
   "source": [
    "df.shape"
   ]
  },
  {
   "cell_type": "markdown",
   "metadata": {},
   "source": [
    "- мы видим что датсает не такой большой 4000 линии и 14 столбцов, то 13 признаков и целевая переменна\n",
    "-  мы видим бинарные значения 1/0 как да/нет\n",
    "- есть числовые (месяцов осталось до окончания абонемента, затраты добавычные..) и категориальные признаки(возраст, в/не в оттоке)\n",
    "- целевая переменная имеет временную структуру\n",
    "- пропущенных значений мало(увидим ниже...)\n"
   ]
  },
  {
   "cell_type": "markdown",
   "metadata": {},
   "source": [
    "## Шаг 2. Проведите исследовательский анализ данных (EDA)"
   ]
  },
  {
   "cell_type": "markdown",
   "metadata": {},
   "source": [
    "#### Посмотрите на датасет: есть ли в нем отсутствующие признаки, изучите средние значения и стандартные отклонения (пригодится метод describe());"
   ]
  },
  {
   "cell_type": "code",
   "execution_count": 5,
   "metadata": {},
   "outputs": [
    {
     "data": {
      "text/html": [
       "<div>\n",
       "<style scoped>\n",
       "    .dataframe tbody tr th:only-of-type {\n",
       "        vertical-align: middle;\n",
       "    }\n",
       "\n",
       "    .dataframe tbody tr th {\n",
       "        vertical-align: top;\n",
       "    }\n",
       "\n",
       "    .dataframe thead th {\n",
       "        text-align: right;\n",
       "    }\n",
       "</style>\n",
       "<table border=\"1\" class=\"dataframe\">\n",
       "  <thead>\n",
       "    <tr style=\"text-align: right;\">\n",
       "      <th></th>\n",
       "      <th>gender</th>\n",
       "      <th>Near_Location</th>\n",
       "      <th>Partner</th>\n",
       "      <th>Promo_friends</th>\n",
       "      <th>Phone</th>\n",
       "      <th>Contract_period</th>\n",
       "      <th>Group_visits</th>\n",
       "      <th>Age</th>\n",
       "      <th>Avg_additional_charges_total</th>\n",
       "      <th>Month_to_end_contract</th>\n",
       "      <th>Lifetime</th>\n",
       "      <th>Avg_class_frequency_total</th>\n",
       "      <th>Avg_class_frequency_current_month</th>\n",
       "      <th>Churn</th>\n",
       "    </tr>\n",
       "  </thead>\n",
       "  <tbody>\n",
       "    <tr>\n",
       "      <th>count</th>\n",
       "      <td>4000.000000</td>\n",
       "      <td>4000.000000</td>\n",
       "      <td>4000.000000</td>\n",
       "      <td>4000.000000</td>\n",
       "      <td>4000.000000</td>\n",
       "      <td>4000.000000</td>\n",
       "      <td>4000.000000</td>\n",
       "      <td>4000.000000</td>\n",
       "      <td>4000.000000</td>\n",
       "      <td>4000.000000</td>\n",
       "      <td>4000.000000</td>\n",
       "      <td>4000.000000</td>\n",
       "      <td>4000.000000</td>\n",
       "      <td>4000.000000</td>\n",
       "    </tr>\n",
       "    <tr>\n",
       "      <th>mean</th>\n",
       "      <td>0.510250</td>\n",
       "      <td>0.845250</td>\n",
       "      <td>0.486750</td>\n",
       "      <td>0.308500</td>\n",
       "      <td>0.903500</td>\n",
       "      <td>4.681250</td>\n",
       "      <td>0.412250</td>\n",
       "      <td>29.184250</td>\n",
       "      <td>146.943728</td>\n",
       "      <td>4.322750</td>\n",
       "      <td>3.724750</td>\n",
       "      <td>1.879020</td>\n",
       "      <td>1.767052</td>\n",
       "      <td>0.265250</td>\n",
       "    </tr>\n",
       "    <tr>\n",
       "      <th>std</th>\n",
       "      <td>0.499957</td>\n",
       "      <td>0.361711</td>\n",
       "      <td>0.499887</td>\n",
       "      <td>0.461932</td>\n",
       "      <td>0.295313</td>\n",
       "      <td>4.549706</td>\n",
       "      <td>0.492301</td>\n",
       "      <td>3.258367</td>\n",
       "      <td>96.355602</td>\n",
       "      <td>4.191297</td>\n",
       "      <td>3.749267</td>\n",
       "      <td>0.972245</td>\n",
       "      <td>1.052906</td>\n",
       "      <td>0.441521</td>\n",
       "    </tr>\n",
       "    <tr>\n",
       "      <th>min</th>\n",
       "      <td>0.000000</td>\n",
       "      <td>0.000000</td>\n",
       "      <td>0.000000</td>\n",
       "      <td>0.000000</td>\n",
       "      <td>0.000000</td>\n",
       "      <td>1.000000</td>\n",
       "      <td>0.000000</td>\n",
       "      <td>18.000000</td>\n",
       "      <td>0.148205</td>\n",
       "      <td>1.000000</td>\n",
       "      <td>0.000000</td>\n",
       "      <td>0.000000</td>\n",
       "      <td>0.000000</td>\n",
       "      <td>0.000000</td>\n",
       "    </tr>\n",
       "    <tr>\n",
       "      <th>25%</th>\n",
       "      <td>0.000000</td>\n",
       "      <td>1.000000</td>\n",
       "      <td>0.000000</td>\n",
       "      <td>0.000000</td>\n",
       "      <td>1.000000</td>\n",
       "      <td>1.000000</td>\n",
       "      <td>0.000000</td>\n",
       "      <td>27.000000</td>\n",
       "      <td>68.868830</td>\n",
       "      <td>1.000000</td>\n",
       "      <td>1.000000</td>\n",
       "      <td>1.180875</td>\n",
       "      <td>0.963003</td>\n",
       "      <td>0.000000</td>\n",
       "    </tr>\n",
       "    <tr>\n",
       "      <th>50%</th>\n",
       "      <td>1.000000</td>\n",
       "      <td>1.000000</td>\n",
       "      <td>0.000000</td>\n",
       "      <td>0.000000</td>\n",
       "      <td>1.000000</td>\n",
       "      <td>1.000000</td>\n",
       "      <td>0.000000</td>\n",
       "      <td>29.000000</td>\n",
       "      <td>136.220159</td>\n",
       "      <td>1.000000</td>\n",
       "      <td>3.000000</td>\n",
       "      <td>1.832768</td>\n",
       "      <td>1.719574</td>\n",
       "      <td>0.000000</td>\n",
       "    </tr>\n",
       "    <tr>\n",
       "      <th>75%</th>\n",
       "      <td>1.000000</td>\n",
       "      <td>1.000000</td>\n",
       "      <td>1.000000</td>\n",
       "      <td>1.000000</td>\n",
       "      <td>1.000000</td>\n",
       "      <td>6.000000</td>\n",
       "      <td>1.000000</td>\n",
       "      <td>31.000000</td>\n",
       "      <td>210.949625</td>\n",
       "      <td>6.000000</td>\n",
       "      <td>5.000000</td>\n",
       "      <td>2.536078</td>\n",
       "      <td>2.510336</td>\n",
       "      <td>1.000000</td>\n",
       "    </tr>\n",
       "    <tr>\n",
       "      <th>max</th>\n",
       "      <td>1.000000</td>\n",
       "      <td>1.000000</td>\n",
       "      <td>1.000000</td>\n",
       "      <td>1.000000</td>\n",
       "      <td>1.000000</td>\n",
       "      <td>12.000000</td>\n",
       "      <td>1.000000</td>\n",
       "      <td>41.000000</td>\n",
       "      <td>552.590740</td>\n",
       "      <td>12.000000</td>\n",
       "      <td>31.000000</td>\n",
       "      <td>6.023668</td>\n",
       "      <td>6.146783</td>\n",
       "      <td>1.000000</td>\n",
       "    </tr>\n",
       "  </tbody>\n",
       "</table>\n",
       "</div>"
      ],
      "text/plain": [
       "            gender  Near_Location      Partner  Promo_friends        Phone  \\\n",
       "count  4000.000000    4000.000000  4000.000000    4000.000000  4000.000000   \n",
       "mean      0.510250       0.845250     0.486750       0.308500     0.903500   \n",
       "std       0.499957       0.361711     0.499887       0.461932     0.295313   \n",
       "min       0.000000       0.000000     0.000000       0.000000     0.000000   \n",
       "25%       0.000000       1.000000     0.000000       0.000000     1.000000   \n",
       "50%       1.000000       1.000000     0.000000       0.000000     1.000000   \n",
       "75%       1.000000       1.000000     1.000000       1.000000     1.000000   \n",
       "max       1.000000       1.000000     1.000000       1.000000     1.000000   \n",
       "\n",
       "       Contract_period  Group_visits          Age  \\\n",
       "count      4000.000000   4000.000000  4000.000000   \n",
       "mean          4.681250      0.412250    29.184250   \n",
       "std           4.549706      0.492301     3.258367   \n",
       "min           1.000000      0.000000    18.000000   \n",
       "25%           1.000000      0.000000    27.000000   \n",
       "50%           1.000000      0.000000    29.000000   \n",
       "75%           6.000000      1.000000    31.000000   \n",
       "max          12.000000      1.000000    41.000000   \n",
       "\n",
       "       Avg_additional_charges_total  Month_to_end_contract     Lifetime  \\\n",
       "count                   4000.000000            4000.000000  4000.000000   \n",
       "mean                     146.943728               4.322750     3.724750   \n",
       "std                       96.355602               4.191297     3.749267   \n",
       "min                        0.148205               1.000000     0.000000   \n",
       "25%                       68.868830               1.000000     1.000000   \n",
       "50%                      136.220159               1.000000     3.000000   \n",
       "75%                      210.949625               6.000000     5.000000   \n",
       "max                      552.590740              12.000000    31.000000   \n",
       "\n",
       "       Avg_class_frequency_total  Avg_class_frequency_current_month  \\\n",
       "count                4000.000000                        4000.000000   \n",
       "mean                    1.879020                           1.767052   \n",
       "std                     0.972245                           1.052906   \n",
       "min                     0.000000                           0.000000   \n",
       "25%                     1.180875                           0.963003   \n",
       "50%                     1.832768                           1.719574   \n",
       "75%                     2.536078                           2.510336   \n",
       "max                     6.023668                           6.146783   \n",
       "\n",
       "             Churn  \n",
       "count  4000.000000  \n",
       "mean      0.265250  \n",
       "std       0.441521  \n",
       "min       0.000000  \n",
       "25%       0.000000  \n",
       "50%       0.000000  \n",
       "75%       1.000000  \n",
       "max       1.000000  "
      ]
     },
     "execution_count": 5,
     "metadata": {},
     "output_type": "execute_result"
    }
   ],
   "source": [
    "df.describe()"
   ]
  },
  {
   "cell_type": "code",
   "execution_count": 6,
   "metadata": {},
   "outputs": [],
   "source": [
    "df.columns= df.columns.str.lower()"
   ]
  },
  {
   "cell_type": "code",
   "execution_count": 7,
   "metadata": {},
   "outputs": [
    {
     "data": {
      "text/plain": [
       "gender                               0\n",
       "near_location                        0\n",
       "partner                              0\n",
       "promo_friends                        0\n",
       "phone                                0\n",
       "contract_period                      0\n",
       "group_visits                         0\n",
       "age                                  0\n",
       "avg_additional_charges_total         0\n",
       "month_to_end_contract                0\n",
       "lifetime                             0\n",
       "avg_class_frequency_total            0\n",
       "avg_class_frequency_current_month    0\n",
       "churn                                0\n",
       "dtype: int64"
      ]
     },
     "execution_count": 7,
     "metadata": {},
     "output_type": "execute_result"
    }
   ],
   "source": [
    "df.isna().sum()"
   ]
  },
  {
   "cell_type": "markdown",
   "metadata": {},
   "source": [
    "нету пустых значения в датасете"
   ]
  },
  {
   "cell_type": "code",
   "execution_count": 8,
   "metadata": {},
   "outputs": [
    {
     "name": "stdout",
     "output_type": "stream",
     "text": [
      "<class 'pandas.core.frame.DataFrame'>\n",
      "RangeIndex: 4000 entries, 0 to 3999\n",
      "Data columns (total 14 columns):\n",
      " #   Column                             Non-Null Count  Dtype  \n",
      "---  ------                             --------------  -----  \n",
      " 0   gender                             4000 non-null   int64  \n",
      " 1   near_location                      4000 non-null   int64  \n",
      " 2   partner                            4000 non-null   int64  \n",
      " 3   promo_friends                      4000 non-null   int64  \n",
      " 4   phone                              4000 non-null   int64  \n",
      " 5   contract_period                    4000 non-null   int64  \n",
      " 6   group_visits                       4000 non-null   int64  \n",
      " 7   age                                4000 non-null   int64  \n",
      " 8   avg_additional_charges_total       4000 non-null   float64\n",
      " 9   month_to_end_contract              4000 non-null   float64\n",
      " 10  lifetime                           4000 non-null   int64  \n",
      " 11  avg_class_frequency_total          4000 non-null   float64\n",
      " 12  avg_class_frequency_current_month  4000 non-null   float64\n",
      " 13  churn                              4000 non-null   int64  \n",
      "dtypes: float64(4), int64(10)\n",
      "memory usage: 437.6 KB\n"
     ]
    }
   ],
   "source": [
    "df.info()"
   ]
  },
  {
   "cell_type": "markdown",
   "metadata": {},
   "source": [
    "тип данных в порядке..."
   ]
  },
  {
   "cell_type": "code",
   "execution_count": 9,
   "metadata": {},
   "outputs": [
    {
     "data": {
      "text/plain": [
       "gender                               0.0\n",
       "near_location                        0.0\n",
       "partner                              0.0\n",
       "promo_friends                        0.0\n",
       "phone                                0.0\n",
       "contract_period                      0.0\n",
       "group_visits                         0.0\n",
       "age                                  0.0\n",
       "avg_additional_charges_total         0.0\n",
       "month_to_end_contract                0.0\n",
       "lifetime                             0.0\n",
       "avg_class_frequency_total            0.0\n",
       "avg_class_frequency_current_month    0.0\n",
       "churn                                0.0\n",
       "dtype: float64"
      ]
     },
     "execution_count": 9,
     "metadata": {},
     "output_type": "execute_result"
    }
   ],
   "source": [
    "df[df.duplicated(keep = False)].sum()"
   ]
  },
  {
   "cell_type": "markdown",
   "metadata": {},
   "source": [
    "нет дубликатов... то что логично.. у нас нету такой столбец который бы содержал уникальные данные..."
   ]
  },
  {
   "cell_type": "markdown",
   "metadata": {},
   "source": [
    "<div class=\"alert alert-success\">\n",
    "<h2> Комментарий ревьюера<a class=\"tocSkip\"> </h2>\n",
    "\n",
    "<b>Все отлично!👍:</b>\n",
    "    \n",
    "Все необходимые проверки сделаны, данные подготовлены.\n",
    "\n",
    "Лучше проверять данные до их анализа, то есть сперва сделать проверки на пропуски и дубликаты, а потом анализировать. Например, по таблице полученной с помощью метода describe() можно описать портрет типичного клиента фитнес-центра"
   ]
  },
  {
   "cell_type": "markdown",
   "metadata": {},
   "source": [
    "<div class=\"alert alert-info\"> <b>Комментарий студента:</b> \n",
    "\n",
    "согласен, спасибо !\n",
    "\n",
    " </div>"
   ]
  },
  {
   "cell_type": "markdown",
   "metadata": {},
   "source": [
    "#### Посмотрите на средние значения признаков в двух группах — тех, кто ушел в отток и тех, кто остался (воспользуйтесь методом groupby())"
   ]
  },
  {
   "cell_type": "code",
   "execution_count": 10,
   "metadata": {},
   "outputs": [
    {
     "data": {
      "text/html": [
       "<div>\n",
       "<style scoped>\n",
       "    .dataframe tbody tr th:only-of-type {\n",
       "        vertical-align: middle;\n",
       "    }\n",
       "\n",
       "    .dataframe tbody tr th {\n",
       "        vertical-align: top;\n",
       "    }\n",
       "\n",
       "    .dataframe thead th {\n",
       "        text-align: right;\n",
       "    }\n",
       "</style>\n",
       "<table border=\"1\" class=\"dataframe\">\n",
       "  <thead>\n",
       "    <tr style=\"text-align: right;\">\n",
       "      <th></th>\n",
       "      <th>gender</th>\n",
       "      <th>near_location</th>\n",
       "      <th>partner</th>\n",
       "      <th>promo_friends</th>\n",
       "      <th>phone</th>\n",
       "      <th>contract_period</th>\n",
       "      <th>group_visits</th>\n",
       "      <th>age</th>\n",
       "      <th>avg_additional_charges_total</th>\n",
       "      <th>month_to_end_contract</th>\n",
       "      <th>lifetime</th>\n",
       "      <th>avg_class_frequency_total</th>\n",
       "      <th>avg_class_frequency_current_month</th>\n",
       "    </tr>\n",
       "    <tr>\n",
       "      <th>churn</th>\n",
       "      <th></th>\n",
       "      <th></th>\n",
       "      <th></th>\n",
       "      <th></th>\n",
       "      <th></th>\n",
       "      <th></th>\n",
       "      <th></th>\n",
       "      <th></th>\n",
       "      <th></th>\n",
       "      <th></th>\n",
       "      <th></th>\n",
       "      <th></th>\n",
       "      <th></th>\n",
       "    </tr>\n",
       "  </thead>\n",
       "  <tbody>\n",
       "    <tr>\n",
       "      <th>0</th>\n",
       "      <td>0.510037</td>\n",
       "      <td>0.873086</td>\n",
       "      <td>0.534195</td>\n",
       "      <td>0.353522</td>\n",
       "      <td>0.903709</td>\n",
       "      <td>5.747193</td>\n",
       "      <td>0.464103</td>\n",
       "      <td>29.976523</td>\n",
       "      <td>158.445715</td>\n",
       "      <td>5.283089</td>\n",
       "      <td>4.711807</td>\n",
       "      <td>2.024876</td>\n",
       "      <td>2.027882</td>\n",
       "    </tr>\n",
       "    <tr>\n",
       "      <th>1</th>\n",
       "      <td>0.510839</td>\n",
       "      <td>0.768143</td>\n",
       "      <td>0.355325</td>\n",
       "      <td>0.183789</td>\n",
       "      <td>0.902922</td>\n",
       "      <td>1.728558</td>\n",
       "      <td>0.268615</td>\n",
       "      <td>26.989632</td>\n",
       "      <td>115.082899</td>\n",
       "      <td>1.662582</td>\n",
       "      <td>0.990575</td>\n",
       "      <td>1.474995</td>\n",
       "      <td>1.044546</td>\n",
       "    </tr>\n",
       "  </tbody>\n",
       "</table>\n",
       "</div>"
      ],
      "text/plain": [
       "         gender  near_location   partner  promo_friends     phone  \\\n",
       "churn                                                               \n",
       "0      0.510037       0.873086  0.534195       0.353522  0.903709   \n",
       "1      0.510839       0.768143  0.355325       0.183789  0.902922   \n",
       "\n",
       "       contract_period  group_visits        age  avg_additional_charges_total  \\\n",
       "churn                                                                           \n",
       "0             5.747193      0.464103  29.976523                    158.445715   \n",
       "1             1.728558      0.268615  26.989632                    115.082899   \n",
       "\n",
       "       month_to_end_contract  lifetime  avg_class_frequency_total  \\\n",
       "churn                                                               \n",
       "0                   5.283089  4.711807                   2.024876   \n",
       "1                   1.662582  0.990575                   1.474995   \n",
       "\n",
       "       avg_class_frequency_current_month  \n",
       "churn                                     \n",
       "0                               2.027882  \n",
       "1                               1.044546  "
      ]
     },
     "execution_count": 10,
     "metadata": {},
     "output_type": "execute_result"
    }
   ],
   "source": [
    "df.groupby('churn').mean()"
   ]
  },
  {
   "cell_type": "markdown",
   "metadata": {},
   "source": [
    "Интересные факты:\n",
    "\n",
    "- те кто ушел, обенимент уже почти заканчивался, в среднем меньше 2 месяца остался абонементу. можно подумать что чем ближе абонемент к завершению тем шансы что пользователей уйдет\n",
    "- осталось в оттоке те которые проводят групове занятия, в двое больше пользователей чем те которые ушли - можно их називать \"активными пользователями\"\n",
    "- те которые остоются на 30% больше расходов на добавчные сервисы чем те которые уходят.\n",
    "- средняя посещаемость зала выше у тех кто остоется, но не факт (нужно проверять на выбросы)\n"
   ]
  },
  {
   "cell_type": "markdown",
   "metadata": {},
   "source": [
    "<div class=\"alert alert-success\">\n",
    "<h2> Комментарий ревьюера<a class=\"tocSkip\"> </h2>\n",
    "\n",
    "<b>Все отлично!👍:</b>\n",
    "    \n",
    "Основные признаки, влияющие на отток выделены."
   ]
  },
  {
   "cell_type": "markdown",
   "metadata": {},
   "source": [
    "#### Постройте столбчатые гистограммы и распределения признаков для тех, кто ушёл (отток) и тех, кто остался (не попали в отток);"
   ]
  },
  {
   "cell_type": "code",
   "execution_count": 11,
   "metadata": {},
   "outputs": [
    {
     "data": {
      "text/plain": [
       "Index(['gender', 'near_location', 'partner', 'promo_friends', 'phone',\n",
       "       'contract_period', 'group_visits', 'age',\n",
       "       'avg_additional_charges_total', 'month_to_end_contract', 'lifetime',\n",
       "       'avg_class_frequency_total', 'avg_class_frequency_current_month',\n",
       "       'churn'],\n",
       "      dtype='object')"
      ]
     },
     "execution_count": 11,
     "metadata": {},
     "output_type": "execute_result"
    }
   ],
   "source": [
    "df.columns"
   ]
  },
  {
   "cell_type": "markdown",
   "metadata": {},
   "source": [
    "создаю две таблички для каждой категории по столбцу \"churn\": leave/not_leave "
   ]
  },
  {
   "cell_type": "code",
   "execution_count": 12,
   "metadata": {},
   "outputs": [],
   "source": [
    "not_leave=df[df['churn']==0]"
   ]
  },
  {
   "cell_type": "code",
   "execution_count": 13,
   "metadata": {},
   "outputs": [],
   "source": [
    "leave =df[df['churn']==1]"
   ]
  },
  {
   "cell_type": "markdown",
   "metadata": {},
   "source": [
    "строю столбчатые гистограммы и распределения по признаков: "
   ]
  },
  {
   "cell_type": "code",
   "execution_count": 14,
   "metadata": {},
   "outputs": [
    {
     "data": {
      "image/png": "[encoded data removed]",
      "text/plain": [
       "<Figure size 432x288 with 1 Axes>"
      ]
     },
     "metadata": {
      "needs_background": "light"
     },
     "output_type": "display_data"
    },
    {
     "data": {
      "image/png": "[encoded data removed]",
      "text/plain": [
       "<Figure size 432x288 with 1 Axes>"
      ]
     },
     "metadata": {
      "needs_background": "light"
     },
     "output_type": "display_data"
    },
    {
     "data": {
      "image/png": "[encoded data removed]",
      "text/plain": [
       "<Figure size 432x288 with 1 Axes>"
      ]
     },
     "metadata": {
      "needs_background": "light"
     },
     "output_type": "display_data"
    },
    {
     "data": {
      "image/png": "[encoded data removed]",
      "text/plain": [
       "<Figure size 432x288 with 1 Axes>"
      ]
     },
     "metadata": {
      "needs_background": "light"
     },
     "output_type": "display_data"
    },
    {
     "data": {
      "image/png": "[encoded data removed]",
      "text/plain": [
       "<Figure size 432x288 with 1 Axes>"
      ]
     },
     "metadata": {
      "needs_background": "light"
     },
     "output_type": "display_data"
    },
    {
     "data": {
      "image/png": "[encoded data removed]",
      "text/plain": [
       "<Figure size 432x288 with 1 Axes>"
      ]
     },
     "metadata": {
      "needs_background": "light"
     },
     "output_type": "display_data"
    },
    {
     "data": {
      "image/png": "[encoded data removed]",
      "text/plain": [
       "<Figure size 432x288 with 1 Axes>"
      ]
     },
     "metadata": {
      "needs_background": "light"
     },
     "output_type": "display_data"
    },
    {
     "data": {
      "image/png": "[encoded data removed]",
      "text/plain": [
       "<Figure size 432x288 with 1 Axes>"
      ]
     },
     "metadata": {
      "needs_background": "light"
     },
     "output_type": "display_data"
    },
    {
     "data": {
      "image/png": "[encoded data removed]",
      "text/plain": [
       "<Figure size 432x288 with 1 Axes>"
      ]
     },
     "metadata": {
      "needs_background": "light"
     },
     "output_type": "display_data"
    },
    {
     "data": {
      "image/png": "[encoded data removed]",
      "text/plain": [
       "<Figure size 432x288 with 1 Axes>"
      ]
     },
     "metadata": {
      "needs_background": "light"
     },
     "output_type": "display_data"
    },
    {
     "data": {
      "image/png": "[encoded data removed]",
      "text/plain": [
       "<Figure size 432x288 with 1 Axes>"
      ]
     },
     "metadata": {
      "needs_background": "light"
     },
     "output_type": "display_data"
    },
    {
     "data": {
      "image/png": "[encoded data removed]",
      "text/plain": [
       "<Figure size 432x288 with 1 Axes>"
      ]
     },
     "metadata": {
      "needs_background": "light"
     },
     "output_type": "display_data"
    },
    {
     "data": {
      "image/png": "[encoded data removed]",
      "text/plain": [
       "<Figure size 432x288 with 1 Axes>"
      ]
     },
     "metadata": {
      "needs_background": "light"
     },
     "output_type": "display_data"
    }
   ],
   "source": [
    "for col in leave.drop('churn', axis = 1).columns:\n",
    "    sns.histplot(x=leave[col], y=leave['churn'])#ваш код здесь\n",
    "    plt.show()"
   ]
  },
  {
   "cell_type": "markdown",
   "metadata": {},
   "source": [
    "У категории клиентов которые ушли, следуйщие призднаки пресудствуют:\n",
    "- жилвут на районе с фитнес клуба, небыли записаны по акции «приведи друга», у большентсво заканчивались абонементы < 2 месяца, не ходили часто на групповые занятия,возраст 25-29, большентсво тратят до 120 на другие услуг фитнес-центра, средняя частота посещений в неделю  1.5 -2 раза."
   ]
  },
  {
   "cell_type": "code",
   "execution_count": 15,
   "metadata": {},
   "outputs": [
    {
     "data": {
      "image/png": "[encoded data removed]",
      "text/plain": [
       "<Figure size 432x288 with 1 Axes>"
      ]
     },
     "metadata": {
      "needs_background": "light"
     },
     "output_type": "display_data"
    },
    {
     "data": {
      "image/png": "[encoded data removed]",
      "text/plain": [
       "<Figure size 432x288 with 1 Axes>"
      ]
     },
     "metadata": {
      "needs_background": "light"
     },
     "output_type": "display_data"
    },
    {
     "data": {
      "image/png": "[encoded data removed]",
      "text/plain": [
       "<Figure size 432x288 with 1 Axes>"
      ]
     },
     "metadata": {
      "needs_background": "light"
     },
     "output_type": "display_data"
    },
    {
     "data": {
      "image/png": "[encoded data removed]",
      "text/plain": [
       "<Figure size 432x288 with 1 Axes>"
      ]
     },
     "metadata": {
      "needs_background": "light"
     },
     "output_type": "display_data"
    },
    {
     "data": {
      "image/png": "[encoded data removed]",
      "text/plain": [
       "<Figure size 432x288 with 1 Axes>"
      ]
     },
     "metadata": {
      "needs_background": "light"
     },
     "output_type": "display_data"
    },
    {
     "data": {
      "image/png": "[encoded data removed]",
      "text/plain": [
       "<Figure size 432x288 with 1 Axes>"
      ]
     },
     "metadata": {
      "needs_background": "light"
     },
     "output_type": "display_data"
    },
    {
     "data": {
      "image/png": "[encoded data removed]",
      "text/plain": [
       "<Figure size 432x288 with 1 Axes>"
      ]
     },
     "metadata": {
      "needs_background": "light"
     },
     "output_type": "display_data"
    },
    {
     "data": {
      "image/png": "[encoded data removed]",
      "text/plain": [
       "<Figure size 432x288 with 1 Axes>"
      ]
     },
     "metadata": {
      "needs_background": "light"
     },
     "output_type": "display_data"
    },
    {
     "data": {
      "image/png": "[encoded data removed]",
      "text/plain": [
       "<Figure size 432x288 with 1 Axes>"
      ]
     },
     "metadata": {
      "needs_background": "light"
     },
     "output_type": "display_data"
    },
    {
     "data": {
      "image/png": "[encoded data removed]",
      "text/plain": [
       "<Figure size 432x288 with 1 Axes>"
      ]
     },
     "metadata": {
      "needs_background": "light"
     },
     "output_type": "display_data"
    },
    {
     "data": {
      "image/png": "[encoded data removed]",
      "text/plain": [
       "<Figure size 432x288 with 1 Axes>"
      ]
     },
     "metadata": {
      "needs_background": "light"
     },
     "output_type": "display_data"
    },
    {
     "data": {
      "image/png": "[encoded data removed]",
      "text/plain": [
       "<Figure size 432x288 with 1 Axes>"
      ]
     },
     "metadata": {
      "needs_background": "light"
     },
     "output_type": "display_data"
    },
    {
     "data": {
      "image/png": "[encoded data removed]",
      "text/plain": [
       "<Figure size 432x288 with 1 Axes>"
      ]
     },
     "metadata": {
      "needs_background": "light"
     },
     "output_type": "display_data"
    }
   ],
   "source": [
    "for col in not_leave.drop('churn', axis = 1).columns:\n",
    "    sns.histplot(x=not_leave[col], y=not_leave['churn'])\n",
    "    plt.show()"
   ]
  },
  {
   "cell_type": "markdown",
   "metadata": {},
   "source": [
    "У категории клиентов которые остались, следуйщие призднаки пресудствуют:\n",
    " - большентсво живут рядом с клубам, являются сотрудник компании-партнёра клуба, меньшенство записались записи в рамках акции «приведи друга», средняя  длительность текущего действующего абонемента 6 месяцов, средний возраст 27-32, до 250 суммарная выручка от других услуг фитнес-центра,  средняя частота посещений в неделю в среднем больше 2 раза,  с момента первого обращения в фитнес-центр есть клиенты у которых прошло уже 30 месяцов - опыт занятии намного выше чем у уходящих клиентов."
   ]
  },
  {
   "cell_type": "markdown",
   "metadata": {},
   "source": [
    "<div class=\"alert alert-block alert-danger\">\n",
    "<h2> Комментарий ревьюера <a class=\"tocSkip\"></h2>\n",
    "\n",
    "\n",
    "<b>На доработку🤔:</b>\n",
    "    \n",
    "Графики получились непонятные, их тяжело интерпретировать, и делать по ним какие-то корректные выводы. Лучше перестроить, по ссылке ниже гайд как можно визуализировать распределения признаков. \n",
    "\n",
    "https://seaborn.pydata.org/tutorial/categorical.html \n",
    "    \n",
    "Также удобно для анализа визуализирвать распределения признаков по категории оттока на одном графике"
   ]
  },
  {
   "cell_type": "markdown",
   "metadata": {},
   "source": [
    "\n",
    "<div class=\"alert alert-info\"> <b>Комментарий студента:</b> \n",
    "\n",
    "спасибо ! пробую ниже : распределяю признаки по категории оттока на одном графике\n",
    "    \n",
    " </div>"
   ]
  },
  {
   "cell_type": "code",
   "execution_count": 16,
   "metadata": {},
   "outputs": [
    {
     "data": {
      "image/png": "[encoded data removed]",
      "text/plain": [
       "<Figure size 360x360 with 1 Axes>"
      ]
     },
     "metadata": {
      "needs_background": "light"
     },
     "output_type": "display_data"
    },
    {
     "data": {
      "image/png": "[encoded data removed]",
      "text/plain": [
       "<Figure size 360x360 with 1 Axes>"
      ]
     },
     "metadata": {
      "needs_background": "light"
     },
     "output_type": "display_data"
    },
    {
     "data": {
      "image/png": "[encoded data removed]",
      "text/plain": [
       "<Figure size 360x360 with 1 Axes>"
      ]
     },
     "metadata": {
      "needs_background": "light"
     },
     "output_type": "display_data"
    },
    {
     "data": {
      "image/png": "[encoded data removed]",
      "text/plain": [
       "<Figure size 360x360 with 1 Axes>"
      ]
     },
     "metadata": {
      "needs_background": "light"
     },
     "output_type": "display_data"
    },
    {
     "data": {
      "image/png": "[encoded data removed]",
      "text/plain": [
       "<Figure size 360x360 with 1 Axes>"
      ]
     },
     "metadata": {
      "needs_background": "light"
     },
     "output_type": "display_data"
    },
    {
     "data": {
      "image/png": "[encoded data removed]",
      "text/plain": [
       "<Figure size 360x360 with 1 Axes>"
      ]
     },
     "metadata": {
      "needs_background": "light"
     },
     "output_type": "display_data"
    },
    {
     "data": {
      "image/png": "[encoded data removed]",
      "text/plain": [
       "<Figure size 360x360 with 1 Axes>"
      ]
     },
     "metadata": {
      "needs_background": "light"
     },
     "output_type": "display_data"
    },
    {
     "data": {
      "image/png": "[encoded data removed]",
      "text/plain": [
       "<Figure size 360x360 with 1 Axes>"
      ]
     },
     "metadata": {
      "needs_background": "light"
     },
     "output_type": "display_data"
    },
    {
     "data": {
      "image/png": "[encoded data removed]",
      "text/plain": [
       "<Figure size 360x360 with 1 Axes>"
      ]
     },
     "metadata": {
      "needs_background": "light"
     },
     "output_type": "display_data"
    },
    {
     "data": {
      "image/png": "[encoded data removed]",
      "text/plain": [
       "<Figure size 360x360 with 1 Axes>"
      ]
     },
     "metadata": {
      "needs_background": "light"
     },
     "output_type": "display_data"
    },
    {
     "data": {
      "image/png": "[encoded data removed]",
      "text/plain": [
       "<Figure size 360x360 with 1 Axes>"
      ]
     },
     "metadata": {
      "needs_background": "light"
     },
     "output_type": "display_data"
    },
    {
     "data": {
      "image/png": "[encoded data removed]",
      "text/plain": [
       "<Figure size 360x360 with 1 Axes>"
      ]
     },
     "metadata": {
      "needs_background": "light"
     },
     "output_type": "display_data"
    },
    {
     "data": {
      "image/png": "[encoded data removed]",
      "text/plain": [
       "<Figure size 360x360 with 1 Axes>"
      ]
     },
     "metadata": {
      "needs_background": "light"
     },
     "output_type": "display_data"
    }
   ],
   "source": [
    "for col in leave.drop('churn', axis = 1).columns:\n",
    "    sns.catplot(y=col, x='churn', hue = 'churn',kind=\"bar\", data=df)\n",
    "    plt.show()"
   ]
  },
  {
   "cell_type": "markdown",
   "metadata": {},
   "source": [
    "<div class=\"alert alert-success\">\n",
    "<h2> Комментарий ревьюера-2<a class=\"tocSkip\"> </h2>\n",
    "\n",
    "<b>Все отлично!👍:</b>\n",
    "    \n",
    "Этот вариант гораздо лучше"
   ]
  },
  {
   "cell_type": "markdown",
   "metadata": {},
   "source": [
    "#### Постройте матрицу корреляций и отобразите её."
   ]
  },
  {
   "cell_type": "code",
   "execution_count": 17,
   "metadata": {},
   "outputs": [
    {
     "data": {
      "image/png": "[encoded data removed]",
      "text/plain": [
       "<Figure size 1080x720 with 2 Axes>"
      ]
     },
     "metadata": {
      "needs_background": "light"
     },
     "output_type": "display_data"
    }
   ],
   "source": [
    "cm_1 = leave.corr()\n",
    "fig, ax = plt.subplots()\n",
    "sns.heatmap(cm_1, annot=True, square=True) \n",
    "ax.set_ylim(\n",
    "    14, 0\n",
    ")\n",
    "ax.set_title(\"матрицу корреляций - соотношение всех приздноков\")\n",
    "ax.figure.set_size_inches(15,10)\n",
    "plt.show()\n"
   ]
  },
  {
   "cell_type": "markdown",
   "metadata": {},
   "source": [
    "<br/>\n",
    "<div class=\"alert alert-block alert-danger\">\n",
    "<h2> Комментарий ревьюера <a class=\"tocSkip\"></h2>\n",
    "\n",
    "\n",
    "<b>На доработку🤔:</b>\n",
    "    \n",
    "Перед отправкой проекта стоит проверять работоспособность кода — это можно сделать, нажав на панели Jupiter Hub ``Kernel`` и ``Restart & Run All`` (см скриншот ниже).\n",
    "![](https://i.postimg.cc/yd19rYf6/Screenshot-428.png)"
   ]
  },
  {
   "cell_type": "markdown",
   "metadata": {},
   "source": [
    "\n",
    "<div class=\"alert alert-info\"> <b>Комментарий студента:</b> \n",
    "вижу, спасибо! от куда-то взялость две буквы лишние \"мы\"...:) исправил\n",
    "    \n",
    " </div>"
   ]
  },
  {
   "cell_type": "markdown",
   "metadata": {},
   "source": [
    "<div class=\"alert alert-success\">\n",
    "<h2> Комментарий ревьюера-2<a class=\"tocSkip\"> </h2>\n",
    "\n",
    "<b>Все отлично!👍:</b>"
   ]
  },
  {
   "cell_type": "code",
   "execution_count": 18,
   "metadata": {},
   "outputs": [
    {
     "data": {
      "image/png": "[encoded data removed]",
      "text/plain": [
       "<Figure size 1080x720 with 2 Axes>"
      ]
     },
     "metadata": {
      "needs_background": "light"
     },
     "output_type": "display_data"
    }
   ],
   "source": [
    "cm_2 = not_leave.corr() \n",
    "fig, ax = plt.subplots()\n",
    "sns.heatmap(cm_2, annot=True, square=True) \n",
    "ax.set_ylim(\n",
    "    14, 0\n",
    ")\n",
    "ax.set_title(\"матрицу корреляций - соотношение всех приздноков\")\n",
    "ax.figure.set_size_inches(15,10)\n",
    "plt.show()"
   ]
  },
  {
   "cell_type": "markdown",
   "metadata": {},
   "source": [
    "что мы видим:\n",
    "\n",
    "- мы видим что матрица кореляции отличаются немножко если взять расчет факт оттока в текущем месяце.\n",
    "- мы тоже видим явные призднаки для которых существует явное соотношение между ними: как partner-promo friends, contract period- partner, promo friends-near location. Причем это соотношения сущесвтует для обя категории:и те кто ушёл (отток) и тех, кто остался (не попали в отток). Кажется фактор рекомендации очень важен(promo fiends), так и привлечь сотрудников компании-партнёра клуба."
   ]
  },
  {
   "cell_type": "markdown",
   "metadata": {},
   "source": [
    "\n",
    "<div class=\"alert alert-warning\">\n",
    "<h2> Комментарий ревьюера <a class=\"tocSkip\"> </h2>\n",
    "\n",
    "<b>Некоторые замечания и рекомендации💡:</b>\n",
    "    \n",
    "Матрицу корреляций можно было построить на всех данных. Наблюдения корректные, но также можно заметить две пары сильно коррелирующих признаков - белые квадраты вне диагонали. Это называется мультиколлинеарностью, её наличие в данных может вредить обучению линейных моделей.\n",
    "    \n",
    "https://habr.com/ru/company/akbarsdigital/blog/592493/ - тут в начале статьи можно посмотреть на примере чем она может быть плоха"
   ]
  },
  {
   "cell_type": "markdown",
   "metadata": {},
   "source": [
    "## Шаг 3. Постройте модель прогнозирования оттока клиентов\n",
    "Постройте модель бинарной классификации клиентов, где целевой признак — факт оттока клиента в следующем месяце:"
   ]
  },
  {
   "cell_type": "markdown",
   "metadata": {},
   "source": [
    "#### Разбейте данные на обучающую и валидационную выборку функцией train_test_split()."
   ]
  },
  {
   "cell_type": "code",
   "execution_count": 19,
   "metadata": {},
   "outputs": [],
   "source": [
    "#разделяю наши данные на признаки (матрица X) и целевую переменную (y)\n",
    "X = df.drop('churn', axis = 1)\n",
    "y = df['churn']\n",
    "\n",
    "#разделяю модель на обучающую и валидационную выборки\n",
    "X_train, X_test, y_train, y_test = train_test_split(X,y,test_size = 0.2)\n",
    "\n",
    "#создаю объект класса StandardScaler и применим его к обучающей выборке\n",
    "scaler = StandardScaler()\n",
    "\n",
    "X_train_st = scaler.fit_transform(X_train) #обучаяю scaler и одновременно трансформируем матрицу для обучающей выборки\n",
    "\n",
    "#применяю стандартизацию к матрице признаков для тестовой выборки\n",
    "X_test_st = scaler.transform(X_test) \n"
   ]
  },
  {
   "cell_type": "markdown",
   "metadata": {},
   "source": [
    "<div class=\"alert alert-warning\">\n",
    "<h2> Комментарий ревьюера <a class=\"tocSkip\"> </h2>\n",
    "\n",
    "<b>Некоторые замечания и рекомендации💡:</b>\n",
    "    \n",
    "Всё верно.\n",
    "    \n",
    "Советы на будущее:\n",
    "* Стоит стратифицировать выборки по таргету - чтобы в тесте и трейне была одинаковая доля ушедших и оставшихся. Это можно сделать с помощью параметра stratify\n",
    "* На более сложных задачах стоит не забывать про деление на 3 выборки - обучающую, тестовую и валидационную"
   ]
  },
  {
   "cell_type": "markdown",
   "metadata": {},
   "source": [
    "\n",
    "<div class=\"alert alert-info\"> <b>Комментарий студента:</b> \n",
    "\n",
    "понял, спасибо ! буду иметь ввиду!\n",
    "    \n",
    "X_train, X_test, y_train, y_test = train_test_split(X,y,test_size = 0.2, random_state=0, stratify =y)\n",
    "    \n",
    " </div>"
   ]
  },
  {
   "cell_type": "markdown",
   "metadata": {},
   "source": [
    "<div class=\"alert alert-success\">\n",
    "<h2> Комментарий ревьюера-2<a class=\"tocSkip\"> </h2>\n",
    "\n",
    "<b>Все отлично!👍:</b>\n",
    "    \n",
    "Всё верно"
   ]
  },
  {
   "cell_type": "code",
   "execution_count": 20,
   "metadata": {},
   "outputs": [],
   "source": [
    "# определим функцию, которая будет выводить наши метрики\n",
    "def print_all_metrics(y_true, y_pred, y_proba, title='Метрики классификации'):\n",
    "    print(title)\n",
    "    print('\\tAccuracy: {:.2f}'.format(accuracy_score(y_true, y_pred)))\n",
    "    print('\\tPrecision: {:.2f}'.format(precision_score(y_true, y_pred)))\n",
    "    print('\\tRecall: {:.2f}'.format(recall_score(y_true, y_pred)))\n",
    "    print('\\tF1: {:.2f}'.format(f1_score(y_true, y_pred)))\n",
    "    print('\\tROC_AUC: {:.2f}'.format(roc_auc_score(y_true, y_proba)))\n"
   ]
  },
  {
   "cell_type": "markdown",
   "metadata": {},
   "source": [
    "#### Обучите модель на train-выборке двумя способами:\n",
    "логистической регрессией,\n",
    "случайным лесом."
   ]
  },
  {
   "cell_type": "code",
   "execution_count": 21,
   "metadata": {},
   "outputs": [
    {
     "name": "stdout",
     "output_type": "stream",
     "text": [
      "Метрики для модели логистической регрессии:\n",
      "\tAccuracy: 0.92\n",
      "\tPrecision: 0.88\n",
      "\tRecall: 0.84\n",
      "\tF1: 0.86\n",
      "\tROC_AUC: 0.97\n"
     ]
    }
   ],
   "source": [
    "# зададим алгоритм для модели логистической регрессии\n",
    "lr_model = LogisticRegression(random_state=0)\n",
    "# обучим модель\n",
    "lr_model.fit(X_train_st, y_train)\n",
    "# воспользуемся уже обученной моделью, чтобы сделать прогнозы\n",
    "lr_predictions = lr_model.predict(X_test_st)\n",
    "lr_probabilities = lr_model.predict_proba(X_test_st)[:, 1]\n",
    "# выведем все метрики\n",
    "print_all_metrics(\n",
    "    y_test,\n",
    "    lr_predictions,\n",
    "    lr_probabilities,\n",
    "    title='Метрики для модели логистической регрессии:',\n",
    ")"
   ]
  },
  {
   "cell_type": "code",
   "execution_count": 22,
   "metadata": {},
   "outputs": [
    {
     "name": "stdout",
     "output_type": "stream",
     "text": [
      "Метрики для модели случайного леса:\n",
      "\tAccuracy: 0.91\n",
      "\tPrecision: 0.85\n",
      "\tRecall: 0.82\n",
      "\tF1: 0.84\n",
      "\tROC_AUC: 0.96\n"
     ]
    }
   ],
   "source": [
    "rf_model = RandomForestClassifier(n_estimators = 100,random_state = 0)\n",
    "rf_model.fit(X_train_st, y_train)\n",
    "rf_predictions = rf_model.predict(X_test_st) # Ваш код здесь\n",
    "rf_probabilities = rf_model.predict_proba(X_test_st)[:, 1]\n",
    "\n",
    "# Ваш код здесь\n",
    "# выведем все метрики\n",
    "print_all_metrics(\n",
    "    y_test,\n",
    "    rf_predictions,\n",
    "    rf_probabilities, \n",
    "    title='Метрики для модели случайного леса:'\n",
    ")"
   ]
  },
  {
   "cell_type": "markdown",
   "metadata": {},
   "source": [
    "#### Оцените метрики accuracy, precision и recall для обеих моделей на валидационной выборке. Сравните по ним модели. Какая модель показала себя лучше на основании метрик?"
   ]
  },
  {
   "cell_type": "markdown",
   "metadata": {},
   "source": [
    "\n",
    "- recall\n",
    "Обя модели показиыают себя хорошо на валидационной выборке  на основании метрик. При повторения (индикатор Recall) ухутшается в случае модели случайного леса - с 0.83 до 0.81, наверное при повторения модель переобучается на тренеровычные данные или  обычно лгоритм случайного леса усредняет ответы всех деревьев (в задаче регрессии) и за этого меньше реакции модели на ошибку.\n",
    "\n",
    "- accuracy\n",
    "Доля правильных ответов тоже высока, 0.93 у модели логистической регрессии и 0.92 у случайного леса. Это доля верно угаданных ответов из всех прогнозов. Пости на все вопросы обя модели будут отвечать правельно. \n",
    "\n",
    "- precision\n",
    " с точки время точности, обя моели достаточно точны, 0.88 высокий покозатель точности.\n"
   ]
  },
  {
   "cell_type": "markdown",
   "metadata": {},
   "source": [
    "<div class=\"alert alert-success\">\n",
    "<h2> Комментарий ревьюера <a class=\"tocSkip\"> </h2>\n",
    "\n",
    "<b>Все отлично!👍:</b>\n",
    "    \n",
    "Модели показали хорошее качество, отлично.\n",
    "    \n",
    "Также в будущих работах можно посмотреть на важные для модели признаки, с помощью коэффициентов у лог регрессии(метод coef_) или с помощью метода .feature_importances_ у случайного леса"
   ]
  },
  {
   "cell_type": "markdown",
   "metadata": {},
   "source": [
    "\n",
    "<div class=\"alert alert-info\"> <b>Комментарий студента:</b> \n",
    "\n",
    "понял, спасибоза совет!\n",
    "    \n",
    " </div>"
   ]
  },
  {
   "cell_type": "code",
   "execution_count": 23,
   "metadata": {},
   "outputs": [
    {
     "name": "stdout",
     "output_type": "stream",
     "text": [
      "[[-6.61002873e-02 -1.65279510e-02 -1.14777329e-01 -2.38697959e-01\n",
      "   3.64973964e-03 -7.83890143e-01 -4.68451563e-01 -1.16527168e+00\n",
      "  -5.49856684e-01 -6.31848621e-01 -4.01291271e+00  3.24800852e+00\n",
      "  -4.34279257e+00]]\n"
     ]
    }
   ],
   "source": [
    "feature_weights = lr_model.coef_\n",
    "print(feature_weights)"
   ]
  },
  {
   "cell_type": "code",
   "execution_count": 24,
   "metadata": {},
   "outputs": [
    {
     "name": "stdout",
     "output_type": "stream",
     "text": [
      "[0.01118858 0.00881782 0.01134092 0.0108596  0.0056088  0.06585713\n",
      " 0.01810776 0.11645503 0.08773385 0.08070474 0.28244086 0.12922584\n",
      " 0.17165906]\n"
     ]
    }
   ],
   "source": [
    "feature_weights = rf_model.feature_importances_ \n",
    "print(feature_weights)"
   ]
  },
  {
   "cell_type": "markdown",
   "metadata": {},
   "source": [
    "## Шаг 4. Сделайте кластеризацию клиентов"
   ]
  },
  {
   "cell_type": "markdown",
   "metadata": {},
   "source": [
    "#### Стандартизируйте данные."
   ]
  },
  {
   "cell_type": "code",
   "execution_count": 25,
   "metadata": {},
   "outputs": [],
   "source": [
    "# обязательная стандартизация данных перед работой с алгоритмами\n",
    "sc = StandardScaler()\n",
    "X_sc = sc.fit_transform(X)"
   ]
  },
  {
   "cell_type": "markdown",
   "metadata": {},
   "source": [
    "#### Постройте матрицу расстояний функцией linkage() на стандартизованной матрице признаков и нарисуйте дендрограмму. Внимание: отрисовка дендрограммы может занять время! На основании полученного графика предположите, какое количество кластеров можно выделить."
   ]
  },
  {
   "cell_type": "code",
   "execution_count": 26,
   "metadata": {},
   "outputs": [
    {
     "data": {
      "image/png": "[encoded data removed]",
      "text/plain": [
       "<Figure size 1080x720 with 1 Axes>"
      ]
     },
     "metadata": {
      "needs_background": "light"
     },
     "output_type": "display_data"
    }
   ],
   "source": [
    "linked = linkage(X_sc, method = 'ward')\n",
    "plt.figure(figsize=(15, 10))\n",
    "dendrogram(linked, orientation='top',no_labels=True)\n",
    "plt.title('Hierarchial clustering for GYM')\n",
    "plt.show()"
   ]
  },
  {
   "cell_type": "markdown",
   "metadata": {},
   "source": [
    "что мы видим:\n",
    "- мы видим что уже выделяется 5 кластеров рассположены иерархически друг к другу.\n"
   ]
  },
  {
   "cell_type": "markdown",
   "metadata": {},
   "source": [
    "<div class=\"alert alert-success\">\n",
    "<h2> Комментарий ревьюера <a class=\"tocSkip\"> </h2>\n",
    "\n",
    "<b>Все отлично!👍:</b>\n",
    "    \n"
   ]
  },
  {
   "cell_type": "markdown",
   "metadata": {},
   "source": [
    "#### Обучите модель кластеризации на основании алгоритма K-Means и спрогнозируйте кластеры клиентов. Договоримся за число кластеров принять n=5, чтобы ваши результаты можно было сравнивать с результатами остальных студентов. Однако, конечно, в жизни никто не скажет вам правильный ответ, и решение остаётся за вами (на основании изучения графика из предыдущего пункта)."
   ]
  },
  {
   "cell_type": "markdown",
   "metadata": {},
   "source": [
    "#### Посмотрите на средние значения признаков для кластеров. Можно ли сразу что-то заметить?"
   ]
  },
  {
   "cell_type": "code",
   "execution_count": 27,
   "metadata": {},
   "outputs": [
    {
     "data": {
      "text/html": [
       "<div>\n",
       "<style scoped>\n",
       "    .dataframe tbody tr th:only-of-type {\n",
       "        vertical-align: middle;\n",
       "    }\n",
       "\n",
       "    .dataframe tbody tr th {\n",
       "        vertical-align: top;\n",
       "    }\n",
       "\n",
       "    .dataframe thead th {\n",
       "        text-align: right;\n",
       "    }\n",
       "</style>\n",
       "<table border=\"1\" class=\"dataframe\">\n",
       "  <thead>\n",
       "    <tr style=\"text-align: right;\">\n",
       "      <th></th>\n",
       "      <th>gender</th>\n",
       "      <th>near_location</th>\n",
       "      <th>partner</th>\n",
       "      <th>promo_friends</th>\n",
       "      <th>phone</th>\n",
       "      <th>contract_period</th>\n",
       "      <th>group_visits</th>\n",
       "      <th>age</th>\n",
       "      <th>avg_additional_charges_total</th>\n",
       "      <th>month_to_end_contract</th>\n",
       "      <th>lifetime</th>\n",
       "      <th>avg_class_frequency_total</th>\n",
       "      <th>avg_class_frequency_current_month</th>\n",
       "      <th>churn</th>\n",
       "    </tr>\n",
       "    <tr>\n",
       "      <th>clusters_gym</th>\n",
       "      <th></th>\n",
       "      <th></th>\n",
       "      <th></th>\n",
       "      <th></th>\n",
       "      <th></th>\n",
       "      <th></th>\n",
       "      <th></th>\n",
       "      <th></th>\n",
       "      <th></th>\n",
       "      <th></th>\n",
       "      <th></th>\n",
       "      <th></th>\n",
       "      <th></th>\n",
       "      <th></th>\n",
       "    </tr>\n",
       "  </thead>\n",
       "  <tbody>\n",
       "    <tr>\n",
       "      <th>0</th>\n",
       "      <td>0.502970</td>\n",
       "      <td>0.959406</td>\n",
       "      <td>0.783168</td>\n",
       "      <td>0.574257</td>\n",
       "      <td>1.000000</td>\n",
       "      <td>10.889109</td>\n",
       "      <td>0.542574</td>\n",
       "      <td>29.982178</td>\n",
       "      <td>160.761016</td>\n",
       "      <td>9.954455</td>\n",
       "      <td>4.736634</td>\n",
       "      <td>1.982055</td>\n",
       "      <td>1.974789</td>\n",
       "      <td>0.027723</td>\n",
       "    </tr>\n",
       "    <tr>\n",
       "      <th>1</th>\n",
       "      <td>0.522078</td>\n",
       "      <td>0.862338</td>\n",
       "      <td>0.470130</td>\n",
       "      <td>0.306494</td>\n",
       "      <td>0.000000</td>\n",
       "      <td>4.787013</td>\n",
       "      <td>0.425974</td>\n",
       "      <td>29.301299</td>\n",
       "      <td>143.957664</td>\n",
       "      <td>4.475325</td>\n",
       "      <td>3.924675</td>\n",
       "      <td>1.847220</td>\n",
       "      <td>1.716369</td>\n",
       "      <td>0.267532</td>\n",
       "    </tr>\n",
       "    <tr>\n",
       "      <th>2</th>\n",
       "      <td>0.495050</td>\n",
       "      <td>0.000000</td>\n",
       "      <td>0.463366</td>\n",
       "      <td>0.079208</td>\n",
       "      <td>1.000000</td>\n",
       "      <td>2.352475</td>\n",
       "      <td>0.215842</td>\n",
       "      <td>28.477228</td>\n",
       "      <td>135.457501</td>\n",
       "      <td>2.198020</td>\n",
       "      <td>2.809901</td>\n",
       "      <td>1.660461</td>\n",
       "      <td>1.477324</td>\n",
       "      <td>0.443564</td>\n",
       "    </tr>\n",
       "    <tr>\n",
       "      <th>3</th>\n",
       "      <td>0.485737</td>\n",
       "      <td>1.000000</td>\n",
       "      <td>0.350238</td>\n",
       "      <td>0.240095</td>\n",
       "      <td>1.000000</td>\n",
       "      <td>1.948494</td>\n",
       "      <td>0.341521</td>\n",
       "      <td>28.167987</td>\n",
       "      <td>131.622204</td>\n",
       "      <td>1.856577</td>\n",
       "      <td>2.440571</td>\n",
       "      <td>1.247634</td>\n",
       "      <td>1.012983</td>\n",
       "      <td>0.514263</td>\n",
       "    </tr>\n",
       "    <tr>\n",
       "      <th>4</th>\n",
       "      <td>0.559666</td>\n",
       "      <td>0.976134</td>\n",
       "      <td>0.356802</td>\n",
       "      <td>0.230310</td>\n",
       "      <td>0.998807</td>\n",
       "      <td>2.669451</td>\n",
       "      <td>0.473747</td>\n",
       "      <td>30.125298</td>\n",
       "      <td>161.657905</td>\n",
       "      <td>2.459427</td>\n",
       "      <td>4.898568</td>\n",
       "      <td>2.852002</td>\n",
       "      <td>2.850161</td>\n",
       "      <td>0.068019</td>\n",
       "    </tr>\n",
       "  </tbody>\n",
       "</table>\n",
       "</div>"
      ],
      "text/plain": [
       "                gender  near_location   partner  promo_friends     phone  \\\n",
       "clusters_gym                                                               \n",
       "0             0.502970       0.959406  0.783168       0.574257  1.000000   \n",
       "1             0.522078       0.862338  0.470130       0.306494  0.000000   \n",
       "2             0.495050       0.000000  0.463366       0.079208  1.000000   \n",
       "3             0.485737       1.000000  0.350238       0.240095  1.000000   \n",
       "4             0.559666       0.976134  0.356802       0.230310  0.998807   \n",
       "\n",
       "              contract_period  group_visits        age  \\\n",
       "clusters_gym                                             \n",
       "0                   10.889109      0.542574  29.982178   \n",
       "1                    4.787013      0.425974  29.301299   \n",
       "2                    2.352475      0.215842  28.477228   \n",
       "3                    1.948494      0.341521  28.167987   \n",
       "4                    2.669451      0.473747  30.125298   \n",
       "\n",
       "              avg_additional_charges_total  month_to_end_contract  lifetime  \\\n",
       "clusters_gym                                                                  \n",
       "0                               160.761016               9.954455  4.736634   \n",
       "1                               143.957664               4.475325  3.924675   \n",
       "2                               135.457501               2.198020  2.809901   \n",
       "3                               131.622204               1.856577  2.440571   \n",
       "4                               161.657905               2.459427  4.898568   \n",
       "\n",
       "              avg_class_frequency_total  avg_class_frequency_current_month  \\\n",
       "clusters_gym                                                                 \n",
       "0                              1.982055                           1.974789   \n",
       "1                              1.847220                           1.716369   \n",
       "2                              1.660461                           1.477324   \n",
       "3                              1.247634                           1.012983   \n",
       "4                              2.852002                           2.850161   \n",
       "\n",
       "                 churn  \n",
       "clusters_gym            \n",
       "0             0.027723  \n",
       "1             0.267532  \n",
       "2             0.443564  \n",
       "3             0.514263  \n",
       "4             0.068019  "
      ]
     },
     "metadata": {},
     "output_type": "display_data"
    }
   ],
   "source": [
    "sc = StandardScaler()\n",
    "X_sc = sc.fit_transform(X)\n",
    "\n",
    "km = KMeans(n_clusters=5, random_state=0) # задаю число кластеров, равное 5, и фиксируем значение random_state для воспроизводимости результата\n",
    "labels = km.fit_predict(X_sc) # применяю алгоритм к данным и формируем вектор кластеров \n",
    "\n",
    "df['clusters_gym'] = labels\n",
    "\n",
    "clusters = df.groupby(['clusters_gym']).mean()\n",
    "display(clusters)\n"
   ]
  },
  {
   "cell_type": "markdown",
   "metadata": {},
   "source": [
    "да, можно уже заметить что :\n",
    " - в кластере 0 попали большинство сотрудники компании-партнёра клуба, у них абонемент не давно начался и у них суммарная выручка от других услуг фитнес-центра. У таких клиентов самое низкое доля ухода.\n",
    " - у клиентов второго и третиего кластера истекает абонемент через 2 месяца, они жиыут далеко от фитнес центра и среди них много перестали ходить в спортзал. "
   ]
  },
  {
   "cell_type": "markdown",
   "metadata": {},
   "source": [
    "<div class=\"alert alert-warning\">\n",
    "<h2> Комментарий ревьюера <a class=\"tocSkip\"> </h2>\n",
    "\n",
    "<b>Некоторые замечания и рекомендации💡:</b>\n",
    "    \n",
    "Всё верно.\n",
    "    \n",
    "Тут можно выписать ключевые характеристики для всех кластеров, это будет удобно для последующего анализа, и для читателя.\n",
    "    \n",
    "Также перед анализом кластеров стоит посмотреть на количество клиентов попавших в каждоый кластер"
   ]
  },
  {
   "cell_type": "markdown",
   "metadata": {},
   "source": [
    "\n",
    "<div class=\"alert alert-info\"> <b>Комментарий студента:</b> \n",
    "\n",
    "спасибо ! а как выписать ключевые характеристики для всех кластеров? как находить количество клиентов попавших в каждый кластер?\n",
    "\n",
    "можешь пожалуйста покозать поимер ?\n",
    "    \n",
    " </div>"
   ]
  },
  {
   "cell_type": "markdown",
   "metadata": {},
   "source": [
    "<div class=\"alert alert-success\">\n",
    "<h2> Комментарий ревьюера-2<a class=\"tocSkip\"> </h2>\n",
    "\n",
    "<b>Все отлично!👍:</b>\n",
    "    \n",
    "Количество клиентов в кластерах можно найти с помощью метода .value_counts()\n",
    "\n",
    "    df['cluster'].value_counts()\n",
    "    \n",
    "Характеристики кластеров, ну, просто начать выписывать по порядку смотря на табличку, и всё, какого-то другого совета нет=)\n",
    "\n",
    "* Кластер 1 - не оставили телефон, отток средний,\n",
    "* Кластер 2 - далеко живут/работают, отток высокий\n",
    " и т.д."
   ]
  },
  {
   "cell_type": "code",
   "execution_count": 28,
   "metadata": {
    "scrolled": true
   },
   "outputs": [
    {
     "name": "stdout",
     "output_type": "stream",
     "text": [
      "Silhouette_score: 0.14\n"
     ]
    }
   ],
   "source": [
    "from sklearn.metrics import silhouette_score\n",
    "silhouette_score(X_sc, labels)\n",
    "print('Silhouette_score: {:.2f}'.format(silhouette_score(X_sc, labels)))"
   ]
  },
  {
   "cell_type": "markdown",
   "metadata": {},
   "source": [
    "Значение метрики силуэта принимает значения от -1 до 1. Чем ближе к 1, тем качественнее кластеризация. \n",
    "- Соотвественно индикатор 0.14 показиывает слабый индикатор качество кластеризация."
   ]
  },
  {
   "cell_type": "code",
   "execution_count": 29,
   "metadata": {},
   "outputs": [
    {
     "data": {
      "text/html": [
       "<div>\n",
       "<style scoped>\n",
       "    .dataframe tbody tr th:only-of-type {\n",
       "        vertical-align: middle;\n",
       "    }\n",
       "\n",
       "    .dataframe tbody tr th {\n",
       "        vertical-align: top;\n",
       "    }\n",
       "\n",
       "    .dataframe thead th {\n",
       "        text-align: right;\n",
       "    }\n",
       "</style>\n",
       "<table border=\"1\" class=\"dataframe\">\n",
       "  <thead>\n",
       "    <tr style=\"text-align: right;\">\n",
       "      <th></th>\n",
       "      <th>index</th>\n",
       "      <th>clusters_gym</th>\n",
       "    </tr>\n",
       "  </thead>\n",
       "  <tbody>\n",
       "    <tr>\n",
       "      <th>1</th>\n",
       "      <td>0</td>\n",
       "      <td>1010</td>\n",
       "    </tr>\n",
       "    <tr>\n",
       "      <th>4</th>\n",
       "      <td>1</td>\n",
       "      <td>385</td>\n",
       "    </tr>\n",
       "    <tr>\n",
       "      <th>3</th>\n",
       "      <td>2</td>\n",
       "      <td>505</td>\n",
       "    </tr>\n",
       "    <tr>\n",
       "      <th>0</th>\n",
       "      <td>3</td>\n",
       "      <td>1262</td>\n",
       "    </tr>\n",
       "    <tr>\n",
       "      <th>2</th>\n",
       "      <td>4</td>\n",
       "      <td>838</td>\n",
       "    </tr>\n",
       "  </tbody>\n",
       "</table>\n",
       "</div>"
      ],
      "text/plain": [
       "   index  clusters_gym\n",
       "1      0          1010\n",
       "4      1           385\n",
       "3      2           505\n",
       "0      3          1262\n",
       "2      4           838"
      ]
     },
     "execution_count": 29,
     "metadata": {},
     "output_type": "execute_result"
    }
   ],
   "source": [
    "df['clusters_gym'].value_counts().reset_index().sort_values(by = 'index')"
   ]
  },
  {
   "cell_type": "markdown",
   "metadata": {},
   "source": [
    "#### Постройте распределения признаков для кластеров. Можно ли что-то заметить по ним?"
   ]
  },
  {
   "cell_type": "code",
   "execution_count": 30,
   "metadata": {},
   "outputs": [],
   "source": [
    "# определяю функцию отрисовки графиков попарных признаков для кластеров\n",
    "def show_clusters_on_plot(df, x_name, y_name, cluster_name):\n",
    "    plt.figure(figsize=(5, 5))\n",
    "    sns.catplot(\n",
    "        x_name, y_name, hue= cluster_name,kind = 'box', data=df\n",
    "    )\n",
    "    plt.title('{} vs {}'.format(x_name, y_name))\n",
    "    plt.show()"
   ]
  },
  {
   "cell_type": "code",
   "execution_count": 31,
   "metadata": {},
   "outputs": [],
   "source": [
    "#col_pairs = list(itertools.combinations(df.drop('clusters_gym', axis=1).columns, 2))\n",
    "#for pair in col_pairs:\n",
    "#    show_clusters_on_plot(df, pair[0], pair[1], 'clusters_gym')"
   ]
  },
  {
   "cell_type": "markdown",
   "metadata": {},
   "source": [
    "В общем признаки не имеют большую кореляцию и их разбть по коастеры не самая лучшея идея для визуализации выше... при этом модем видить достаточно понятлевые графики длс призднака: contract_period (<2, 6 и 12 месяцов), group visits, age (кореляцию возраста и посещаемость, сумма затрат на добавычные сервисы...). lifetime (кореляцию между периода занятия  и посещаемость)"
   ]
  },
  {
   "cell_type": "markdown",
   "metadata": {},
   "source": [
    "<br/>\n",
    "<div class=\"alert alert-block alert-danger\">\n",
    "<h2> Комментарий ревьюера <a class=\"tocSkip\"></h2>\n",
    "\n",
    "\n",
    "<b>На доработку🤔:</b>\n",
    "    \n",
    "По точечным графикам ничего не понять, а также точки могут накладываться друг на друга и скрывать данные. Лучше использовать гистограммы, для вещесственных признаков также удобно визуализировать распределения с помощью ящиков с усами"
   ]
  },
  {
   "cell_type": "markdown",
   "metadata": {},
   "source": [
    "\n",
    "<div class=\"alert alert-info\"> <b>Комментарий студента:</b> \n",
    "\n",
    "спасибо ха совет! переделал графики в тип \"ящиков с усами\" для хорошей визуализацией! \n",
    "    \n",
    " </div>"
   ]
  },
  {
   "cell_type": "markdown",
   "metadata": {},
   "source": [
    "<div class=\"alert alert-warning\">\n",
    "<h2> Комментарий ревьюера-2<a class=\"tocSkip\"> </h2>\n",
    "\n",
    "<b>Некоторые замечания и рекомендации💡:</b>\n",
    "    \n",
    "Стало лучше=) Но, этот код долго выполняется, и некоторые графики всё равно выглядят не очень понятно. Можно сделать так:"
   ]
  },
  {
   "cell_type": "code",
   "execution_count": 32,
   "metadata": {},
   "outputs": [
    {
     "data": {
      "image/png": "[encoded data removed]",
      "text/plain": [
       "<Figure size 1800x1800 with 12 Axes>"
      ]
     },
     "metadata": {
      "needs_background": "light"
     },
     "output_type": "display_data"
    }
   ],
   "source": [
    "#Код ревьювера\n",
    "boxplot = ['age', 'avg_additional_charges_total', 'lifetime', 'avg_class_frequency_total', \n",
    "           'avg_class_frequency_current_month','month_to_end_contract']\n",
    "\n",
    "plt.figure(figsize=(25, 25))\n",
    "for i, column in enumerate(df.drop(['churn', 'clusters_gym','avg_class_frequency_current_month'], axis=1).columns): \n",
    "    if column in boxplot:\n",
    "        ax = plt.subplot(4, 3, i + 1)\n",
    "        sns.boxplot(x=df['clusters_gym'], y=df[column])\n",
    "    else:\n",
    "        ax = plt.subplot(4, 3, i + 1)\n",
    "        sns.countplot(data=df, x=column, hue='clusters_gym')"
   ]
  },
  {
   "cell_type": "markdown",
   "metadata": {},
   "source": [
    "#### Для каждого полученного кластера посчитайте долю оттока (методом groupby()). Отличаются ли они по доле оттока? Какие кластеры склонны к оттоку, а какие — надёжны?"
   ]
  },
  {
   "cell_type": "code",
   "execution_count": 33,
   "metadata": {},
   "outputs": [
    {
     "data": {
      "text/html": [
       "<div>\n",
       "<style scoped>\n",
       "    .dataframe tbody tr th:only-of-type {\n",
       "        vertical-align: middle;\n",
       "    }\n",
       "\n",
       "    .dataframe tbody tr th {\n",
       "        vertical-align: top;\n",
       "    }\n",
       "\n",
       "    .dataframe thead th {\n",
       "        text-align: right;\n",
       "    }\n",
       "</style>\n",
       "<table border=\"1\" class=\"dataframe\">\n",
       "  <thead>\n",
       "    <tr style=\"text-align: right;\">\n",
       "      <th></th>\n",
       "      <th></th>\n",
       "      <th>gender</th>\n",
       "      <th>near_location</th>\n",
       "      <th>partner</th>\n",
       "      <th>promo_friends</th>\n",
       "      <th>phone</th>\n",
       "      <th>contract_period</th>\n",
       "      <th>group_visits</th>\n",
       "      <th>age</th>\n",
       "      <th>avg_additional_charges_total</th>\n",
       "      <th>month_to_end_contract</th>\n",
       "      <th>lifetime</th>\n",
       "      <th>avg_class_frequency_total</th>\n",
       "      <th>avg_class_frequency_current_month</th>\n",
       "    </tr>\n",
       "    <tr>\n",
       "      <th>clusters_gym</th>\n",
       "      <th>churn</th>\n",
       "      <th></th>\n",
       "      <th></th>\n",
       "      <th></th>\n",
       "      <th></th>\n",
       "      <th></th>\n",
       "      <th></th>\n",
       "      <th></th>\n",
       "      <th></th>\n",
       "      <th></th>\n",
       "      <th></th>\n",
       "      <th></th>\n",
       "      <th></th>\n",
       "      <th></th>\n",
       "    </tr>\n",
       "  </thead>\n",
       "  <tbody>\n",
       "    <tr>\n",
       "      <th rowspan=\"2\" valign=\"top\">0</th>\n",
       "      <th>0</th>\n",
       "      <td>0.500000</td>\n",
       "      <td>0.959267</td>\n",
       "      <td>0.782077</td>\n",
       "      <td>0.573320</td>\n",
       "      <td>1.00000</td>\n",
       "      <td>10.918534</td>\n",
       "      <td>0.547862</td>\n",
       "      <td>30.076375</td>\n",
       "      <td>161.794603</td>\n",
       "      <td>9.978615</td>\n",
       "      <td>4.845214</td>\n",
       "      <td>1.989601</td>\n",
       "      <td>1.992325</td>\n",
       "    </tr>\n",
       "    <tr>\n",
       "      <th>1</th>\n",
       "      <td>0.607143</td>\n",
       "      <td>0.964286</td>\n",
       "      <td>0.821429</td>\n",
       "      <td>0.607143</td>\n",
       "      <td>1.00000</td>\n",
       "      <td>9.857143</td>\n",
       "      <td>0.357143</td>\n",
       "      <td>26.678571</td>\n",
       "      <td>124.511659</td>\n",
       "      <td>9.107143</td>\n",
       "      <td>0.928571</td>\n",
       "      <td>1.717399</td>\n",
       "      <td>1.359790</td>\n",
       "    </tr>\n",
       "    <tr>\n",
       "      <th rowspan=\"2\" valign=\"top\">1</th>\n",
       "      <th>0</th>\n",
       "      <td>0.521277</td>\n",
       "      <td>0.886525</td>\n",
       "      <td>0.500000</td>\n",
       "      <td>0.361702</td>\n",
       "      <td>0.00000</td>\n",
       "      <td>5.879433</td>\n",
       "      <td>0.460993</td>\n",
       "      <td>30.088652</td>\n",
       "      <td>156.755592</td>\n",
       "      <td>5.468085</td>\n",
       "      <td>5.010638</td>\n",
       "      <td>1.958705</td>\n",
       "      <td>1.957864</td>\n",
       "    </tr>\n",
       "    <tr>\n",
       "      <th>1</th>\n",
       "      <td>0.524272</td>\n",
       "      <td>0.796117</td>\n",
       "      <td>0.388350</td>\n",
       "      <td>0.155340</td>\n",
       "      <td>0.00000</td>\n",
       "      <td>1.796117</td>\n",
       "      <td>0.330097</td>\n",
       "      <td>27.145631</td>\n",
       "      <td>108.918677</td>\n",
       "      <td>1.757282</td>\n",
       "      <td>0.951456</td>\n",
       "      <td>1.541987</td>\n",
       "      <td>1.055188</td>\n",
       "    </tr>\n",
       "    <tr>\n",
       "      <th rowspan=\"2\" valign=\"top\">2</th>\n",
       "      <th>0</th>\n",
       "      <td>0.491103</td>\n",
       "      <td>0.000000</td>\n",
       "      <td>0.523132</td>\n",
       "      <td>0.110320</td>\n",
       "      <td>1.00000</td>\n",
       "      <td>3.067616</td>\n",
       "      <td>0.259786</td>\n",
       "      <td>29.669039</td>\n",
       "      <td>149.149338</td>\n",
       "      <td>2.832740</td>\n",
       "      <td>4.256228</td>\n",
       "      <td>1.858190</td>\n",
       "      <td>1.862332</td>\n",
       "    </tr>\n",
       "    <tr>\n",
       "      <th>1</th>\n",
       "      <td>0.500000</td>\n",
       "      <td>0.000000</td>\n",
       "      <td>0.388393</td>\n",
       "      <td>0.040179</td>\n",
       "      <td>1.00000</td>\n",
       "      <td>1.455357</td>\n",
       "      <td>0.160714</td>\n",
       "      <td>26.982143</td>\n",
       "      <td>118.281581</td>\n",
       "      <td>1.401786</td>\n",
       "      <td>0.995536</td>\n",
       "      <td>1.412416</td>\n",
       "      <td>0.994344</td>\n",
       "    </tr>\n",
       "    <tr>\n",
       "      <th rowspan=\"2\" valign=\"top\">3</th>\n",
       "      <th>0</th>\n",
       "      <td>0.466558</td>\n",
       "      <td>1.000000</td>\n",
       "      <td>0.378467</td>\n",
       "      <td>0.256117</td>\n",
       "      <td>1.00000</td>\n",
       "      <td>2.453507</td>\n",
       "      <td>0.406199</td>\n",
       "      <td>29.533442</td>\n",
       "      <td>150.465296</td>\n",
       "      <td>2.313214</td>\n",
       "      <td>3.973899</td>\n",
       "      <td>1.109487</td>\n",
       "      <td>1.108158</td>\n",
       "    </tr>\n",
       "    <tr>\n",
       "      <th>1</th>\n",
       "      <td>0.503852</td>\n",
       "      <td>1.000000</td>\n",
       "      <td>0.323575</td>\n",
       "      <td>0.224961</td>\n",
       "      <td>1.00000</td>\n",
       "      <td>1.471495</td>\n",
       "      <td>0.280431</td>\n",
       "      <td>26.878274</td>\n",
       "      <td>113.824339</td>\n",
       "      <td>1.425270</td>\n",
       "      <td>0.992296</td>\n",
       "      <td>1.378118</td>\n",
       "      <td>0.923088</td>\n",
       "    </tr>\n",
       "    <tr>\n",
       "      <th rowspan=\"2\" valign=\"top\">4</th>\n",
       "      <th>0</th>\n",
       "      <td>0.559539</td>\n",
       "      <td>0.974392</td>\n",
       "      <td>0.361076</td>\n",
       "      <td>0.238156</td>\n",
       "      <td>0.99872</td>\n",
       "      <td>2.746479</td>\n",
       "      <td>0.478873</td>\n",
       "      <td>30.268886</td>\n",
       "      <td>164.453763</td>\n",
       "      <td>2.524968</td>\n",
       "      <td>5.179257</td>\n",
       "      <td>2.871574</td>\n",
       "      <td>2.879319</td>\n",
       "    </tr>\n",
       "    <tr>\n",
       "      <th>1</th>\n",
       "      <td>0.561404</td>\n",
       "      <td>1.000000</td>\n",
       "      <td>0.298246</td>\n",
       "      <td>0.122807</td>\n",
       "      <td>1.00000</td>\n",
       "      <td>1.614035</td>\n",
       "      <td>0.403509</td>\n",
       "      <td>28.157895</td>\n",
       "      <td>123.349744</td>\n",
       "      <td>1.561404</td>\n",
       "      <td>1.052632</td>\n",
       "      <td>2.583825</td>\n",
       "      <td>2.450654</td>\n",
       "    </tr>\n",
       "  </tbody>\n",
       "</table>\n",
       "</div>"
      ],
      "text/plain": [
       "                      gender  near_location   partner  promo_friends    phone  \\\n",
       "clusters_gym churn                                                              \n",
       "0            0      0.500000       0.959267  0.782077       0.573320  1.00000   \n",
       "             1      0.607143       0.964286  0.821429       0.607143  1.00000   \n",
       "1            0      0.521277       0.886525  0.500000       0.361702  0.00000   \n",
       "             1      0.524272       0.796117  0.388350       0.155340  0.00000   \n",
       "2            0      0.491103       0.000000  0.523132       0.110320  1.00000   \n",
       "             1      0.500000       0.000000  0.388393       0.040179  1.00000   \n",
       "3            0      0.466558       1.000000  0.378467       0.256117  1.00000   \n",
       "             1      0.503852       1.000000  0.323575       0.224961  1.00000   \n",
       "4            0      0.559539       0.974392  0.361076       0.238156  0.99872   \n",
       "             1      0.561404       1.000000  0.298246       0.122807  1.00000   \n",
       "\n",
       "                    contract_period  group_visits        age  \\\n",
       "clusters_gym churn                                             \n",
       "0            0            10.918534      0.547862  30.076375   \n",
       "             1             9.857143      0.357143  26.678571   \n",
       "1            0             5.879433      0.460993  30.088652   \n",
       "             1             1.796117      0.330097  27.145631   \n",
       "2            0             3.067616      0.259786  29.669039   \n",
       "             1             1.455357      0.160714  26.982143   \n",
       "3            0             2.453507      0.406199  29.533442   \n",
       "             1             1.471495      0.280431  26.878274   \n",
       "4            0             2.746479      0.478873  30.268886   \n",
       "             1             1.614035      0.403509  28.157895   \n",
       "\n",
       "                    avg_additional_charges_total  month_to_end_contract  \\\n",
       "clusters_gym churn                                                        \n",
       "0            0                        161.794603               9.978615   \n",
       "             1                        124.511659               9.107143   \n",
       "1            0                        156.755592               5.468085   \n",
       "             1                        108.918677               1.757282   \n",
       "2            0                        149.149338               2.832740   \n",
       "             1                        118.281581               1.401786   \n",
       "3            0                        150.465296               2.313214   \n",
       "             1                        113.824339               1.425270   \n",
       "4            0                        164.453763               2.524968   \n",
       "             1                        123.349744               1.561404   \n",
       "\n",
       "                    lifetime  avg_class_frequency_total  \\\n",
       "clusters_gym churn                                        \n",
       "0            0      4.845214                   1.989601   \n",
       "             1      0.928571                   1.717399   \n",
       "1            0      5.010638                   1.958705   \n",
       "             1      0.951456                   1.541987   \n",
       "2            0      4.256228                   1.858190   \n",
       "             1      0.995536                   1.412416   \n",
       "3            0      3.973899                   1.109487   \n",
       "             1      0.992296                   1.378118   \n",
       "4            0      5.179257                   2.871574   \n",
       "             1      1.052632                   2.583825   \n",
       "\n",
       "                    avg_class_frequency_current_month  \n",
       "clusters_gym churn                                     \n",
       "0            0                               1.992325  \n",
       "             1                               1.359790  \n",
       "1            0                               1.957864  \n",
       "             1                               1.055188  \n",
       "2            0                               1.862332  \n",
       "             1                               0.994344  \n",
       "3            0                               1.108158  \n",
       "             1                               0.923088  \n",
       "4            0                               2.879319  \n",
       "             1                               2.450654  "
      ]
     },
     "metadata": {},
     "output_type": "display_data"
    }
   ],
   "source": [
    "sc = StandardScaler()\n",
    "X_sc = sc.fit_transform(X)\n",
    "\n",
    "km = KMeans(n_clusters=5, random_state=0) # задаём число кластеров, равное 5, и фиксируем значение random_state для воспроизводимости результата\n",
    "labels = km.fit_predict(X_sc) # применяем алгоритм к данным и формируем вектор кластеров \n",
    "\n",
    "df['clusters_gym'] = labels\n",
    "\n",
    "clusters = df.groupby(['clusters_gym','churn']).mean()\n",
    "display(clusters)"
   ]
  },
  {
   "cell_type": "code",
   "execution_count": 34,
   "metadata": {},
   "outputs": [
    {
     "data": {
      "text/html": [
       "<div>\n",
       "<style scoped>\n",
       "    .dataframe tbody tr th:only-of-type {\n",
       "        vertical-align: middle;\n",
       "    }\n",
       "\n",
       "    .dataframe tbody tr th {\n",
       "        vertical-align: top;\n",
       "    }\n",
       "\n",
       "    .dataframe thead th {\n",
       "        text-align: right;\n",
       "    }\n",
       "</style>\n",
       "<table border=\"1\" class=\"dataframe\">\n",
       "  <thead>\n",
       "    <tr style=\"text-align: right;\">\n",
       "      <th></th>\n",
       "      <th>churn</th>\n",
       "    </tr>\n",
       "    <tr>\n",
       "      <th>clusters_gym</th>\n",
       "      <th></th>\n",
       "    </tr>\n",
       "  </thead>\n",
       "  <tbody>\n",
       "    <tr>\n",
       "      <th>0</th>\n",
       "      <td>0.027723</td>\n",
       "    </tr>\n",
       "    <tr>\n",
       "      <th>1</th>\n",
       "      <td>0.267532</td>\n",
       "    </tr>\n",
       "    <tr>\n",
       "      <th>2</th>\n",
       "      <td>0.443564</td>\n",
       "    </tr>\n",
       "    <tr>\n",
       "      <th>3</th>\n",
       "      <td>0.514263</td>\n",
       "    </tr>\n",
       "    <tr>\n",
       "      <th>4</th>\n",
       "      <td>0.068019</td>\n",
       "    </tr>\n",
       "  </tbody>\n",
       "</table>\n",
       "</div>"
      ],
      "text/plain": [
       "                 churn\n",
       "clusters_gym          \n",
       "0             0.027723\n",
       "1             0.267532\n",
       "2             0.443564\n",
       "3             0.514263\n",
       "4             0.068019"
      ]
     },
     "metadata": {},
     "output_type": "display_data"
    }
   ],
   "source": [
    "clusters = df.groupby(['clusters_gym']).mean()[['churn']]\n",
    "display(clusters)"
   ]
  },
  {
   "cell_type": "markdown",
   "metadata": {},
   "source": [
    "Нулевя и четвертая модель самая надежная\n",
    "\n",
    "логика здесь: чем меньше доля оттока, то-есть коефициент близко к нулю тем надежнее кластер. а это знаит пользователи этого кластера имеют меньше склоность уходить.\n",
    "В этом соучае надо ответить несколько характеристик надежных кластеров:\n",
    "-  высокая суммарная выручка от других услуг фитнес-центра >150\n",
    "- факт посещения групповых занятий тндткатор >0.45\n",
    "- возраст тоже модет играит роль : доля осавшихся в оттоке возраст 30 лет\n",
    "- средняя частота посещений в неделю больше 2 раза"
   ]
  },
  {
   "cell_type": "markdown",
   "metadata": {},
   "source": [
    "<div class=\"alert alert-success\">\n",
    "<h2> Комментарий ревьюера<a class=\"tocSkip\"> </h2>\n",
    "\n",
    "<b>Все отлично!👍:</b>"
   ]
  },
  {
   "cell_type": "markdown",
   "metadata": {},
   "source": [
    "## Шаг 5. Сформулируйте выводы и сделайте базовые рекомендации по работе с клиентами"
   ]
  },
  {
   "cell_type": "markdown",
   "metadata": {},
   "source": [
    "Достаточно соблюдать несколько принципов  для успешной стратегии взаимодействия с клиентами и их удержания.\n",
    " - клиенты должны иметь доступ к большому выбору групповых занятий и их по больше вовлекть в них. Чем больше групповых занятия клиент постетит тем больше вероятность остатся в этот же клуб на долго.\n",
    " - Привлекательный ассортимент продуктов который входят в других услуг фитнес-центра: кафе, спорттовары, косметический и массажный салон. Я бы добавил еще спа, салон красоты, парехмакерская. Лоялный клиенты имею тенденция тратить на разыные услуги вне зала, может быть они ищут удобство...\n",
    " - Посторатся привлекать не только студентов, но и \"корпоративных рабочих - юнные таланты\" - который имеют возраст 30 лет и жизнерадучные. Аккцент поставить на здоровое питание и важность занятия вне оффис.\n",
    " - постаратся всеми силами следить за занятия и посещаемость каждого: можно предумать разные смс/напоминяия про занятия."
   ]
  },
  {
   "cell_type": "markdown",
   "metadata": {},
   "source": [
    "<div class=\"alert alert-success\">\n",
    "<h2> Комментарий ревьюера <a class=\"tocSkip\"> </h2>\n",
    "\n",
    "<b>Все отлично!👍:</b>\n",
    "    \n",
    "Хорошие рекомендации, также их можно сделать по кластерам - клиенты из кластеров различаются, и для них можно выбрать разные подходы к удержанию"
   ]
  },
  {
   "cell_type": "markdown",
   "metadata": {},
   "source": [
    "<blockquote>\n",
    "\n",
    "**Общий вывод по проекту**\n",
    "\n",
    "Спасибо за твой проект! Ты приложил много усилий, чтобы довести его до конца, проделана огромная работа, и это видно невооруженным глазом, ты большой молодец! Есть несколько важных моментов, которые я отметил и которые можно было бы улучшить, подсказки ты найдешь в моих комментариях.\n",
    "\n",
    "**Отмечу отдельные положительные моменты проекта**:\n",
    "\n",
    "* На разных шагах проекта ты предлагал очень интересные решения и методы для их реализации. Хорошая работа!\n",
    "* Хорошее оформление проекта\n",
    "* Интересные рекомендации\n",
    "    \n",
    "**Что нужно исправить:**\n",
    "* Ошибки при выполнении кода\n",
    "* Графики распределения признаков по оттоку\n",
    "* Графики для распределения признаков по кластерам\n",
    "    \n",
    "    \n",
    "Если есть вопросы, я готов на них ответить.\n",
    "    \n",
    "Для будущего развития в плане визуализации советую обратить внимание на этот гайд по seaborn, может ты найдешь там для себя новые моменты \n",
    "https://nbviewer.org/urls/mipt-stats.gitlab.io/courses/python/09_seaborn.ipynb\n",
    "    \n",
    "**Желаю удачи и жду твой проект на повторное ревью!**\n",
    "</blockquote>"
   ]
  },
  {
   "cell_type": "markdown",
   "metadata": {},
   "source": [
    "<blockquote>\n",
    "\n",
    "**Общий вывод по проекту-2**\n",
    "\n",
    "Проект принят\n",
    "\n",
    "**Удачи в дальнейшем обучении, у тебя всё получится!**"
   ]
  },
  {
   "cell_type": "code",
   "execution_count": null,
   "metadata": {},
   "outputs": [],
   "source": []
  }
 ],
 "metadata": {
  "ExecuteTimeLog": [
   {
    "duration": 122,
    "start_time": "2022-08-16T08:34:48.834Z"
   },
   {
    "duration": 4654,
    "start_time": "2022-08-16T08:35:08.958Z"
   },
   {
    "duration": 142,
    "start_time": "2022-08-16T08:35:49.746Z"
   },
   {
    "duration": 19,
    "start_time": "2022-08-16T08:35:51.791Z"
   },
   {
    "duration": 17,
    "start_time": "2022-08-16T08:36:00.197Z"
   },
   {
    "duration": 97,
    "start_time": "2022-08-16T08:36:58.684Z"
   },
   {
    "duration": 10,
    "start_time": "2022-08-16T08:37:17.756Z"
   },
   {
    "duration": 16,
    "start_time": "2022-08-16T08:37:32.273Z"
   },
   {
    "duration": 8,
    "start_time": "2022-08-16T08:37:37.250Z"
   },
   {
    "duration": 5,
    "start_time": "2022-08-16T08:37:42.475Z"
   },
   {
    "duration": 43,
    "start_time": "2022-08-16T08:37:51.324Z"
   },
   {
    "duration": 8,
    "start_time": "2022-08-16T08:44:32.071Z"
   },
   {
    "duration": 7,
    "start_time": "2022-08-16T08:44:45.178Z"
   },
   {
    "duration": 39,
    "start_time": "2022-08-16T08:44:53.952Z"
   },
   {
    "duration": 18,
    "start_time": "2022-08-16T08:45:30.788Z"
   },
   {
    "duration": 11,
    "start_time": "2022-08-16T08:45:34.111Z"
   },
   {
    "duration": 13,
    "start_time": "2022-08-16T08:48:42.014Z"
   },
   {
    "duration": 10,
    "start_time": "2022-08-16T08:49:57.606Z"
   },
   {
    "duration": 4,
    "start_time": "2022-08-16T08:59:21.133Z"
   },
   {
    "duration": 16,
    "start_time": "2022-08-16T08:59:29.939Z"
   },
   {
    "duration": 11,
    "start_time": "2022-08-16T08:59:37.808Z"
   },
   {
    "duration": 72,
    "start_time": "2022-08-16T09:00:23.793Z"
   },
   {
    "duration": 15,
    "start_time": "2022-08-16T09:00:47.491Z"
   },
   {
    "duration": 4,
    "start_time": "2022-08-16T09:20:47.053Z"
   },
   {
    "duration": 4,
    "start_time": "2022-08-16T09:52:37.334Z"
   },
   {
    "duration": 8,
    "start_time": "2022-08-16T09:52:38.720Z"
   },
   {
    "duration": 4,
    "start_time": "2022-08-16T09:52:50.745Z"
   },
   {
    "duration": 17,
    "start_time": "2022-08-16T09:53:01.617Z"
   },
   {
    "duration": 3,
    "start_time": "2022-08-16T09:53:22.579Z"
   },
   {
    "duration": 4,
    "start_time": "2022-08-16T09:53:30.837Z"
   },
   {
    "duration": 11,
    "start_time": "2022-08-16T09:53:53.954Z"
   },
   {
    "duration": 11,
    "start_time": "2022-08-16T09:53:59.339Z"
   },
   {
    "duration": 1749,
    "start_time": "2022-08-16T09:54:09.597Z"
   },
   {
    "duration": 1929,
    "start_time": "2022-08-16T09:55:05.164Z"
   },
   {
    "duration": 13,
    "start_time": "2022-08-16T09:55:30.796Z"
   },
   {
    "duration": 1506,
    "start_time": "2022-08-16T09:55:48.788Z"
   },
   {
    "duration": 1569,
    "start_time": "2022-08-16T09:55:59.245Z"
   },
   {
    "duration": 1797,
    "start_time": "2022-08-16T09:57:26.344Z"
   },
   {
    "duration": 1749,
    "start_time": "2022-08-16T09:57:45.650Z"
   },
   {
    "duration": 5,
    "start_time": "2022-08-16T10:01:35.021Z"
   },
   {
    "duration": 14,
    "start_time": "2022-08-16T10:02:29.485Z"
   },
   {
    "duration": 1404,
    "start_time": "2022-08-16T10:02:41.146Z"
   },
   {
    "duration": 1539,
    "start_time": "2022-08-16T10:02:47.876Z"
   },
   {
    "duration": 1173,
    "start_time": "2022-08-16T10:03:14.367Z"
   },
   {
    "duration": 1231,
    "start_time": "2022-08-16T10:04:18.835Z"
   },
   {
    "duration": 1391,
    "start_time": "2022-08-16T10:04:25.497Z"
   },
   {
    "duration": 1209,
    "start_time": "2022-08-16T10:05:23.430Z"
   },
   {
    "duration": 13,
    "start_time": "2022-08-16T10:05:58.987Z"
   },
   {
    "duration": 1213,
    "start_time": "2022-08-16T10:06:03.948Z"
   },
   {
    "duration": 1625,
    "start_time": "2022-08-16T10:08:06.054Z"
   },
   {
    "duration": 1822,
    "start_time": "2022-08-16T10:08:12.726Z"
   },
   {
    "duration": 1749,
    "start_time": "2022-08-16T10:08:20.991Z"
   },
   {
    "duration": 4,
    "start_time": "2022-08-16T10:09:10.320Z"
   },
   {
    "duration": 1349,
    "start_time": "2022-08-16T10:09:19.321Z"
   },
   {
    "duration": 35,
    "start_time": "2022-08-16T10:09:20.672Z"
   },
   {
    "duration": 20,
    "start_time": "2022-08-16T10:09:20.709Z"
   },
   {
    "duration": 3,
    "start_time": "2022-08-16T10:09:20.731Z"
   },
   {
    "duration": 42,
    "start_time": "2022-08-16T10:09:20.736Z"
   },
   {
    "duration": 3,
    "start_time": "2022-08-16T10:09:20.807Z"
   },
   {
    "duration": 10,
    "start_time": "2022-08-16T10:09:20.811Z"
   },
   {
    "duration": 14,
    "start_time": "2022-08-16T10:09:20.822Z"
   },
   {
    "duration": 13,
    "start_time": "2022-08-16T10:09:20.838Z"
   },
   {
    "duration": 138,
    "start_time": "2022-08-16T10:09:20.854Z"
   },
   {
    "duration": 0,
    "start_time": "2022-08-16T10:09:20.994Z"
   },
   {
    "duration": 0,
    "start_time": "2022-08-16T10:09:21.005Z"
   },
   {
    "duration": 0,
    "start_time": "2022-08-16T10:09:21.006Z"
   },
   {
    "duration": 0,
    "start_time": "2022-08-16T10:09:21.008Z"
   },
   {
    "duration": 0,
    "start_time": "2022-08-16T10:09:21.009Z"
   },
   {
    "duration": 0,
    "start_time": "2022-08-16T10:09:21.010Z"
   },
   {
    "duration": 0,
    "start_time": "2022-08-16T10:09:21.011Z"
   },
   {
    "duration": 0,
    "start_time": "2022-08-16T10:09:21.012Z"
   },
   {
    "duration": 0,
    "start_time": "2022-08-16T10:09:21.013Z"
   },
   {
    "duration": 14,
    "start_time": "2022-08-16T10:09:30.917Z"
   },
   {
    "duration": 1310,
    "start_time": "2022-08-16T10:09:37.237Z"
   },
   {
    "duration": 34,
    "start_time": "2022-08-16T10:09:38.549Z"
   },
   {
    "duration": 21,
    "start_time": "2022-08-16T10:09:38.585Z"
   },
   {
    "duration": 4,
    "start_time": "2022-08-16T10:09:38.608Z"
   },
   {
    "duration": 43,
    "start_time": "2022-08-16T10:09:38.615Z"
   },
   {
    "duration": 3,
    "start_time": "2022-08-16T10:09:38.660Z"
   },
   {
    "duration": 10,
    "start_time": "2022-08-16T10:09:38.664Z"
   },
   {
    "duration": 39,
    "start_time": "2022-08-16T10:09:38.676Z"
   },
   {
    "duration": 12,
    "start_time": "2022-08-16T10:09:38.717Z"
   },
   {
    "duration": 14,
    "start_time": "2022-08-16T10:09:38.730Z"
   },
   {
    "duration": 149,
    "start_time": "2022-08-16T10:09:38.745Z"
   },
   {
    "duration": 0,
    "start_time": "2022-08-16T10:09:38.896Z"
   },
   {
    "duration": 0,
    "start_time": "2022-08-16T10:09:38.897Z"
   },
   {
    "duration": 0,
    "start_time": "2022-08-16T10:09:38.898Z"
   },
   {
    "duration": 0,
    "start_time": "2022-08-16T10:09:38.905Z"
   },
   {
    "duration": 0,
    "start_time": "2022-08-16T10:09:38.907Z"
   },
   {
    "duration": 0,
    "start_time": "2022-08-16T10:09:38.908Z"
   },
   {
    "duration": 0,
    "start_time": "2022-08-16T10:09:38.909Z"
   },
   {
    "duration": 0,
    "start_time": "2022-08-16T10:09:38.911Z"
   },
   {
    "duration": 17,
    "start_time": "2022-08-16T10:09:49.639Z"
   },
   {
    "duration": 1352,
    "start_time": "2022-08-16T10:09:56.669Z"
   },
   {
    "duration": 36,
    "start_time": "2022-08-16T10:09:58.022Z"
   },
   {
    "duration": 20,
    "start_time": "2022-08-16T10:09:58.063Z"
   },
   {
    "duration": 4,
    "start_time": "2022-08-16T10:09:58.084Z"
   },
   {
    "duration": 53,
    "start_time": "2022-08-16T10:09:58.089Z"
   },
   {
    "duration": 2,
    "start_time": "2022-08-16T10:09:58.144Z"
   },
   {
    "duration": 22,
    "start_time": "2022-08-16T10:09:58.148Z"
   },
   {
    "duration": 23,
    "start_time": "2022-08-16T10:09:58.172Z"
   },
   {
    "duration": 24,
    "start_time": "2022-08-16T10:09:58.197Z"
   },
   {
    "duration": 17,
    "start_time": "2022-08-16T10:09:58.224Z"
   },
   {
    "duration": 17,
    "start_time": "2022-08-16T10:09:58.243Z"
   },
   {
    "duration": 112,
    "start_time": "2022-08-16T10:09:58.261Z"
   },
   {
    "duration": 0,
    "start_time": "2022-08-16T10:09:58.375Z"
   },
   {
    "duration": 0,
    "start_time": "2022-08-16T10:09:58.376Z"
   },
   {
    "duration": 0,
    "start_time": "2022-08-16T10:09:58.377Z"
   },
   {
    "duration": 0,
    "start_time": "2022-08-16T10:09:58.378Z"
   },
   {
    "duration": 0,
    "start_time": "2022-08-16T10:09:58.379Z"
   },
   {
    "duration": 0,
    "start_time": "2022-08-16T10:09:58.380Z"
   },
   {
    "duration": 0,
    "start_time": "2022-08-16T10:09:58.381Z"
   },
   {
    "duration": 15,
    "start_time": "2022-08-16T10:10:12.321Z"
   },
   {
    "duration": 4,
    "start_time": "2022-08-16T10:10:14.700Z"
   },
   {
    "duration": 6,
    "start_time": "2022-08-16T10:10:15.004Z"
   },
   {
    "duration": 5,
    "start_time": "2022-08-16T10:10:15.153Z"
   },
   {
    "duration": 1622,
    "start_time": "2022-08-16T10:10:15.442Z"
   },
   {
    "duration": 1541,
    "start_time": "2022-08-16T10:10:17.066Z"
   },
   {
    "duration": 1210,
    "start_time": "2022-08-16T10:10:18.609Z"
   },
   {
    "duration": 1287,
    "start_time": "2022-08-16T10:10:19.821Z"
   },
   {
    "duration": 135,
    "start_time": "2022-08-16T10:12:21.726Z"
   },
   {
    "duration": 1623,
    "start_time": "2022-08-16T10:12:36.100Z"
   },
   {
    "duration": 10,
    "start_time": "2022-08-16T10:12:52.945Z"
   },
   {
    "duration": 90,
    "start_time": "2022-08-16T10:13:15.541Z"
   },
   {
    "duration": 12,
    "start_time": "2022-08-16T10:13:28.943Z"
   },
   {
    "duration": 110,
    "start_time": "2022-08-16T10:13:48.235Z"
   },
   {
    "duration": 10,
    "start_time": "2022-08-16T10:13:53.768Z"
   },
   {
    "duration": 10,
    "start_time": "2022-08-16T10:14:15.337Z"
   },
   {
    "duration": 13,
    "start_time": "2022-08-16T10:14:43.427Z"
   },
   {
    "duration": 9,
    "start_time": "2022-08-16T10:15:40.908Z"
   },
   {
    "duration": 3,
    "start_time": "2022-08-16T10:15:47.700Z"
   },
   {
    "duration": 10,
    "start_time": "2022-08-16T10:15:55.889Z"
   },
   {
    "duration": 19,
    "start_time": "2022-08-16T10:16:47.051Z"
   },
   {
    "duration": 1453,
    "start_time": "2022-08-16T10:18:06.353Z"
   },
   {
    "duration": 1473,
    "start_time": "2022-08-16T10:18:16.468Z"
   },
   {
    "duration": 1560,
    "start_time": "2022-08-16T10:18:25.481Z"
   },
   {
    "duration": 1352,
    "start_time": "2022-08-16T10:18:32.144Z"
   },
   {
    "duration": 1736,
    "start_time": "2022-08-16T10:18:40.442Z"
   },
   {
    "duration": 1594,
    "start_time": "2022-08-16T10:18:51.255Z"
   },
   {
    "duration": 1604,
    "start_time": "2022-08-16T10:19:01.296Z"
   },
   {
    "duration": 1565,
    "start_time": "2022-08-16T10:19:11.819Z"
   },
   {
    "duration": 1767,
    "start_time": "2022-08-16T10:19:27.914Z"
   },
   {
    "duration": 1673,
    "start_time": "2022-08-16T10:20:22.627Z"
   },
   {
    "duration": 1710,
    "start_time": "2022-08-16T10:21:30.390Z"
   },
   {
    "duration": 102,
    "start_time": "2022-08-16T10:32:59.557Z"
   },
   {
    "duration": 4,
    "start_time": "2022-08-16T10:36:48.165Z"
   },
   {
    "duration": 4,
    "start_time": "2022-08-16T10:37:13.633Z"
   },
   {
    "duration": 6,
    "start_time": "2022-08-16T10:37:33.820Z"
   },
   {
    "duration": 18,
    "start_time": "2022-08-16T10:38:52.705Z"
   },
   {
    "duration": 12,
    "start_time": "2022-08-16T10:39:04.742Z"
   },
   {
    "duration": 10,
    "start_time": "2022-08-16T10:44:33.739Z"
   },
   {
    "duration": 12,
    "start_time": "2022-08-16T10:45:48.002Z"
   },
   {
    "duration": 10,
    "start_time": "2022-08-16T10:45:48.281Z"
   },
   {
    "duration": 9,
    "start_time": "2022-08-16T10:45:48.503Z"
   },
   {
    "duration": 4,
    "start_time": "2022-08-16T10:46:55.062Z"
   },
   {
    "duration": 33,
    "start_time": "2022-08-16T10:46:57.033Z"
   },
   {
    "duration": 16,
    "start_time": "2022-08-16T10:46:57.212Z"
   },
   {
    "duration": 4,
    "start_time": "2022-08-16T10:46:57.722Z"
   },
   {
    "duration": 39,
    "start_time": "2022-08-16T10:46:57.845Z"
   },
   {
    "duration": 3,
    "start_time": "2022-08-16T10:46:57.886Z"
   },
   {
    "duration": 6,
    "start_time": "2022-08-16T10:46:57.910Z"
   },
   {
    "duration": 10,
    "start_time": "2022-08-16T10:46:57.978Z"
   },
   {
    "duration": 9,
    "start_time": "2022-08-16T10:46:58.031Z"
   },
   {
    "duration": 13,
    "start_time": "2022-08-16T10:46:58.127Z"
   },
   {
    "duration": 9,
    "start_time": "2022-08-16T10:46:58.175Z"
   },
   {
    "duration": 15,
    "start_time": "2022-08-16T10:46:58.191Z"
   },
   {
    "duration": 4,
    "start_time": "2022-08-16T10:46:58.284Z"
   },
   {
    "duration": 4,
    "start_time": "2022-08-16T10:46:58.349Z"
   },
   {
    "duration": 3,
    "start_time": "2022-08-16T10:46:58.382Z"
   },
   {
    "duration": 1533,
    "start_time": "2022-08-16T10:46:58.437Z"
   },
   {
    "duration": 1443,
    "start_time": "2022-08-16T10:46:59.972Z"
   },
   {
    "duration": 1268,
    "start_time": "2022-08-16T10:47:01.416Z"
   },
   {
    "duration": 1209,
    "start_time": "2022-08-16T10:47:02.687Z"
   },
   {
    "duration": 16,
    "start_time": "2022-08-16T10:47:03.897Z"
   },
   {
    "duration": 292,
    "start_time": "2022-08-16T10:47:03.915Z"
   },
   {
    "duration": 0,
    "start_time": "2022-08-16T10:47:04.209Z"
   },
   {
    "duration": 3,
    "start_time": "2022-08-16T10:48:05.395Z"
   },
   {
    "duration": 155,
    "start_time": "2022-08-16T10:48:06.055Z"
   },
   {
    "duration": 9,
    "start_time": "2022-08-16T10:48:06.405Z"
   },
   {
    "duration": 4,
    "start_time": "2022-08-16T10:49:31.529Z"
   },
   {
    "duration": 130,
    "start_time": "2022-08-16T10:49:32.078Z"
   },
   {
    "duration": 3,
    "start_time": "2022-08-16T10:50:10.734Z"
   },
   {
    "duration": 1357,
    "start_time": "2022-08-16T10:50:18.693Z"
   },
   {
    "duration": 35,
    "start_time": "2022-08-16T10:50:20.052Z"
   },
   {
    "duration": 19,
    "start_time": "2022-08-16T10:50:20.089Z"
   },
   {
    "duration": 3,
    "start_time": "2022-08-16T10:50:20.110Z"
   },
   {
    "duration": 44,
    "start_time": "2022-08-16T10:50:20.115Z"
   },
   {
    "duration": 2,
    "start_time": "2022-08-16T10:50:20.161Z"
   },
   {
    "duration": 7,
    "start_time": "2022-08-16T10:50:20.165Z"
   },
   {
    "duration": 33,
    "start_time": "2022-08-16T10:50:20.173Z"
   },
   {
    "duration": 11,
    "start_time": "2022-08-16T10:50:20.207Z"
   },
   {
    "duration": 11,
    "start_time": "2022-08-16T10:50:20.220Z"
   },
   {
    "duration": 8,
    "start_time": "2022-08-16T10:50:20.233Z"
   },
   {
    "duration": 13,
    "start_time": "2022-08-16T10:50:20.242Z"
   },
   {
    "duration": 4,
    "start_time": "2022-08-16T10:50:20.256Z"
   },
   {
    "duration": 47,
    "start_time": "2022-08-16T10:50:20.261Z"
   },
   {
    "duration": 4,
    "start_time": "2022-08-16T10:50:20.310Z"
   },
   {
    "duration": 1523,
    "start_time": "2022-08-16T10:50:20.315Z"
   },
   {
    "duration": 1517,
    "start_time": "2022-08-16T10:50:21.839Z"
   },
   {
    "duration": 1260,
    "start_time": "2022-08-16T10:50:23.357Z"
   },
   {
    "duration": 1275,
    "start_time": "2022-08-16T10:50:24.618Z"
   },
   {
    "duration": 21,
    "start_time": "2022-08-16T10:50:25.894Z"
   },
   {
    "duration": 6,
    "start_time": "2022-08-16T10:50:25.916Z"
   },
   {
    "duration": 184,
    "start_time": "2022-08-16T10:50:25.923Z"
   },
   {
    "duration": 458,
    "start_time": "2022-08-16T10:50:26.108Z"
   },
   {
    "duration": 3,
    "start_time": "2022-08-16T10:53:32.667Z"
   },
   {
    "duration": 131,
    "start_time": "2022-08-16T12:09:51.474Z"
   },
   {
    "duration": 1333,
    "start_time": "2022-08-16T12:16:32.061Z"
   },
   {
    "duration": 1144,
    "start_time": "2022-08-16T12:16:35.371Z"
   },
   {
    "duration": 4,
    "start_time": "2022-08-16T12:18:37.359Z"
   },
   {
    "duration": 101650,
    "start_time": "2022-08-16T12:19:16.094Z"
   },
   {
    "duration": 9,
    "start_time": "2022-08-16T12:21:52.304Z"
   },
   {
    "duration": 406,
    "start_time": "2022-08-16T12:21:57.967Z"
   },
   {
    "duration": 1161,
    "start_time": "2022-08-16T12:25:04.848Z"
   },
   {
    "duration": 116,
    "start_time": "2022-08-16T12:25:23.811Z"
   },
   {
    "duration": 1255,
    "start_time": "2022-08-16T12:25:25.966Z"
   },
   {
    "duration": 1209,
    "start_time": "2022-08-16T12:28:11.398Z"
   },
   {
    "duration": 1216,
    "start_time": "2022-08-16T12:28:46.293Z"
   },
   {
    "duration": 11,
    "start_time": "2022-08-16T12:31:38.907Z"
   },
   {
    "duration": 3,
    "start_time": "2022-08-16T12:32:32.914Z"
   },
   {
    "duration": 34675,
    "start_time": "2022-08-16T12:32:33.166Z"
   },
   {
    "duration": 1152,
    "start_time": "2022-08-16T12:43:26.775Z"
   },
   {
    "duration": 1144,
    "start_time": "2022-08-16T12:43:36.479Z"
   },
   {
    "duration": 1193,
    "start_time": "2022-08-16T12:44:39.014Z"
   },
   {
    "duration": 1087,
    "start_time": "2022-08-16T12:44:48.825Z"
   },
   {
    "duration": 3,
    "start_time": "2022-08-16T12:46:09.966Z"
   },
   {
    "duration": 11,
    "start_time": "2022-08-16T12:46:59.643Z"
   },
   {
    "duration": 35436,
    "start_time": "2022-08-16T12:47:03.103Z"
   },
   {
    "duration": 452,
    "start_time": "2022-08-16T14:08:02.726Z"
   },
   {
    "duration": 1058,
    "start_time": "2022-08-16T14:08:08.912Z"
   },
   {
    "duration": 1098,
    "start_time": "2022-08-16T14:09:05.625Z"
   },
   {
    "duration": 12,
    "start_time": "2022-08-16T14:14:30.773Z"
   },
   {
    "duration": 11,
    "start_time": "2022-08-16T14:14:37.041Z"
   },
   {
    "duration": 36135,
    "start_time": "2022-08-16T14:14:41.883Z"
   },
   {
    "duration": 1298,
    "start_time": "2022-08-16T14:17:13.024Z"
   },
   {
    "duration": 139,
    "start_time": "2022-08-16T14:17:30.229Z"
   },
   {
    "duration": 1327,
    "start_time": "2022-08-16T14:17:34.899Z"
   },
   {
    "duration": 1244,
    "start_time": "2022-08-16T14:18:06.865Z"
   },
   {
    "duration": 1162,
    "start_time": "2022-08-16T14:18:14.446Z"
   },
   {
    "duration": 94,
    "start_time": "2022-08-16T14:18:20.529Z"
   },
   {
    "duration": 1183,
    "start_time": "2022-08-16T14:18:24.424Z"
   },
   {
    "duration": 11,
    "start_time": "2022-08-16T14:18:37.101Z"
   },
   {
    "duration": 1356,
    "start_time": "2022-08-16T18:27:21.131Z"
   },
   {
    "duration": 41,
    "start_time": "2022-08-16T18:27:22.489Z"
   },
   {
    "duration": 22,
    "start_time": "2022-08-16T18:27:22.532Z"
   },
   {
    "duration": 3,
    "start_time": "2022-08-16T18:27:22.556Z"
   },
   {
    "duration": 57,
    "start_time": "2022-08-16T18:27:22.561Z"
   },
   {
    "duration": 3,
    "start_time": "2022-08-16T18:27:22.623Z"
   },
   {
    "duration": 8,
    "start_time": "2022-08-16T18:27:22.627Z"
   },
   {
    "duration": 11,
    "start_time": "2022-08-16T18:27:22.637Z"
   },
   {
    "duration": 9,
    "start_time": "2022-08-16T18:27:22.649Z"
   },
   {
    "duration": 11,
    "start_time": "2022-08-16T18:27:22.660Z"
   },
   {
    "duration": 45,
    "start_time": "2022-08-16T18:27:22.672Z"
   },
   {
    "duration": 15,
    "start_time": "2022-08-16T18:27:22.718Z"
   },
   {
    "duration": 4,
    "start_time": "2022-08-16T18:27:22.734Z"
   },
   {
    "duration": 7,
    "start_time": "2022-08-16T18:27:22.739Z"
   },
   {
    "duration": 4,
    "start_time": "2022-08-16T18:27:22.747Z"
   },
   {
    "duration": 1634,
    "start_time": "2022-08-16T18:27:22.752Z"
   },
   {
    "duration": 1634,
    "start_time": "2022-08-16T18:27:24.388Z"
   },
   {
    "duration": 1343,
    "start_time": "2022-08-16T18:27:26.023Z"
   },
   {
    "duration": 1381,
    "start_time": "2022-08-16T18:27:27.368Z"
   },
   {
    "duration": 14,
    "start_time": "2022-08-16T18:27:28.751Z"
   },
   {
    "duration": 10,
    "start_time": "2022-08-16T18:27:28.766Z"
   },
   {
    "duration": 441,
    "start_time": "2022-08-16T18:27:28.778Z"
   },
   {
    "duration": 450,
    "start_time": "2022-08-16T18:27:29.220Z"
   },
   {
    "duration": 7,
    "start_time": "2022-08-16T18:27:29.672Z"
   },
   {
    "duration": 0,
    "start_time": "2022-08-16T18:29:16.970Z"
   },
   {
    "duration": 0,
    "start_time": "2022-08-16T18:29:16.971Z"
   },
   {
    "duration": 0,
    "start_time": "2022-08-16T18:29:16.972Z"
   },
   {
    "duration": 0,
    "start_time": "2022-08-16T18:29:17.008Z"
   },
   {
    "duration": 0,
    "start_time": "2022-08-16T18:29:17.009Z"
   },
   {
    "duration": 0,
    "start_time": "2022-08-16T18:29:17.010Z"
   },
   {
    "duration": 0,
    "start_time": "2022-08-16T18:29:17.011Z"
   },
   {
    "duration": 0,
    "start_time": "2022-08-16T18:29:17.012Z"
   },
   {
    "duration": 0,
    "start_time": "2022-08-16T18:29:17.013Z"
   },
   {
    "duration": 0,
    "start_time": "2022-08-16T18:29:17.014Z"
   },
   {
    "duration": 0,
    "start_time": "2022-08-16T18:29:17.014Z"
   },
   {
    "duration": 0,
    "start_time": "2022-08-16T18:29:17.015Z"
   },
   {
    "duration": 0,
    "start_time": "2022-08-16T18:29:17.016Z"
   },
   {
    "duration": 1331,
    "start_time": "2022-08-16T18:32:18.964Z"
   },
   {
    "duration": 1257,
    "start_time": "2022-08-16T18:32:20.297Z"
   },
   {
    "duration": 21,
    "start_time": "2022-08-16T18:32:21.594Z"
   },
   {
    "duration": 8,
    "start_time": "2022-08-16T18:32:22.904Z"
   },
   {
    "duration": 124,
    "start_time": "2022-08-16T18:32:23.991Z"
   },
   {
    "duration": 355,
    "start_time": "2022-08-16T18:32:24.368Z"
   },
   {
    "duration": 8,
    "start_time": "2022-08-16T18:32:26.978Z"
   },
   {
    "duration": 108925,
    "start_time": "2022-08-16T18:32:28.049Z"
   },
   {
    "duration": 9,
    "start_time": "2022-08-16T18:34:16.975Z"
   },
   {
    "duration": 0,
    "start_time": "2022-08-16T18:34:16.985Z"
   },
   {
    "duration": 0,
    "start_time": "2022-08-16T18:34:16.986Z"
   },
   {
    "duration": 0,
    "start_time": "2022-08-16T18:34:16.987Z"
   },
   {
    "duration": 0,
    "start_time": "2022-08-16T18:34:16.988Z"
   },
   {
    "duration": 0,
    "start_time": "2022-08-16T18:34:16.989Z"
   },
   {
    "duration": 1073,
    "start_time": "2022-08-16T18:35:52.052Z"
   },
   {
    "duration": 1050,
    "start_time": "2022-08-16T18:35:53.127Z"
   },
   {
    "duration": 113,
    "start_time": "2022-08-16T19:36:44.487Z"
   },
   {
    "duration": 863,
    "start_time": "2022-08-16T19:36:48.813Z"
   },
   {
    "duration": 3,
    "start_time": "2022-08-16T20:33:45.293Z"
   },
   {
    "duration": 37963,
    "start_time": "2022-08-16T20:33:45.478Z"
   },
   {
    "duration": 1932,
    "start_time": "2022-08-17T03:54:39.341Z"
   },
   {
    "duration": 131,
    "start_time": "2022-08-17T03:54:41.275Z"
   },
   {
    "duration": 26,
    "start_time": "2022-08-17T03:54:41.408Z"
   },
   {
    "duration": 5,
    "start_time": "2022-08-17T03:54:41.435Z"
   },
   {
    "duration": 78,
    "start_time": "2022-08-17T03:54:41.443Z"
   },
   {
    "duration": 4,
    "start_time": "2022-08-17T03:54:41.523Z"
   },
   {
    "duration": 12,
    "start_time": "2022-08-17T03:54:41.529Z"
   },
   {
    "duration": 15,
    "start_time": "2022-08-17T03:54:41.543Z"
   },
   {
    "duration": 34,
    "start_time": "2022-08-17T03:54:41.560Z"
   },
   {
    "duration": 18,
    "start_time": "2022-08-17T03:54:41.596Z"
   },
   {
    "duration": 5,
    "start_time": "2022-08-17T03:54:41.615Z"
   },
   {
    "duration": 7,
    "start_time": "2022-08-17T03:54:41.622Z"
   },
   {
    "duration": 6,
    "start_time": "2022-08-17T03:54:41.631Z"
   },
   {
    "duration": 2153,
    "start_time": "2022-08-17T03:54:41.640Z"
   },
   {
    "duration": 2033,
    "start_time": "2022-08-17T03:54:43.794Z"
   },
   {
    "duration": 132,
    "start_time": "2022-08-17T03:54:45.830Z"
   },
   {
    "duration": 0,
    "start_time": "2022-08-17T03:54:45.964Z"
   },
   {
    "duration": 0,
    "start_time": "2022-08-17T03:54:45.966Z"
   },
   {
    "duration": 0,
    "start_time": "2022-08-17T03:54:45.968Z"
   },
   {
    "duration": 0,
    "start_time": "2022-08-17T03:54:45.970Z"
   },
   {
    "duration": 0,
    "start_time": "2022-08-17T03:54:45.971Z"
   },
   {
    "duration": 0,
    "start_time": "2022-08-17T03:54:45.973Z"
   },
   {
    "duration": 0,
    "start_time": "2022-08-17T03:54:45.975Z"
   },
   {
    "duration": 0,
    "start_time": "2022-08-17T03:54:45.977Z"
   },
   {
    "duration": 0,
    "start_time": "2022-08-17T03:54:45.979Z"
   },
   {
    "duration": 0,
    "start_time": "2022-08-17T03:54:45.980Z"
   },
   {
    "duration": 0,
    "start_time": "2022-08-17T03:54:45.982Z"
   },
   {
    "duration": 0,
    "start_time": "2022-08-17T03:54:45.983Z"
   },
   {
    "duration": 0,
    "start_time": "2022-08-17T03:54:45.986Z"
   },
   {
    "duration": 1788,
    "start_time": "2022-08-17T03:55:32.147Z"
   },
   {
    "duration": 13,
    "start_time": "2022-08-17T03:55:36.576Z"
   },
   {
    "duration": 4,
    "start_time": "2022-08-17T03:55:36.971Z"
   },
   {
    "duration": 714,
    "start_time": "2022-08-17T03:55:37.878Z"
   },
   {
    "duration": 438,
    "start_time": "2022-08-17T03:55:38.595Z"
   },
   {
    "duration": 10,
    "start_time": "2022-08-17T03:55:39.706Z"
   },
   {
    "duration": 1169,
    "start_time": "2022-08-17T03:55:40.166Z"
   },
   {
    "duration": 1559,
    "start_time": "2022-08-17T03:55:41.338Z"
   },
   {
    "duration": 1092,
    "start_time": "2022-08-17T03:55:42.899Z"
   },
   {
    "duration": 4,
    "start_time": "2022-08-17T03:55:44.349Z"
   },
   {
    "duration": 40341,
    "start_time": "2022-08-17T03:55:44.585Z"
   },
   {
    "duration": 1574,
    "start_time": "2022-08-17T03:56:24.929Z"
   },
   {
    "duration": 12,
    "start_time": "2022-08-17T03:56:26.504Z"
   },
   {
    "duration": 1673,
    "start_time": "2022-08-17T14:02:06.346Z"
   },
   {
    "duration": 71,
    "start_time": "2022-08-17T14:02:08.021Z"
   },
   {
    "duration": 22,
    "start_time": "2022-08-17T14:02:08.093Z"
   },
   {
    "duration": 4,
    "start_time": "2022-08-17T14:02:08.117Z"
   },
   {
    "duration": 79,
    "start_time": "2022-08-17T14:02:08.124Z"
   },
   {
    "duration": 4,
    "start_time": "2022-08-17T14:02:08.204Z"
   },
   {
    "duration": 17,
    "start_time": "2022-08-17T14:02:08.210Z"
   },
   {
    "duration": 17,
    "start_time": "2022-08-17T14:02:08.229Z"
   },
   {
    "duration": 12,
    "start_time": "2022-08-17T14:02:08.248Z"
   },
   {
    "duration": 47,
    "start_time": "2022-08-17T14:02:08.263Z"
   },
   {
    "duration": 5,
    "start_time": "2022-08-17T14:02:08.311Z"
   },
   {
    "duration": 7,
    "start_time": "2022-08-17T14:02:08.317Z"
   },
   {
    "duration": 4,
    "start_time": "2022-08-17T14:02:08.325Z"
   },
   {
    "duration": 1833,
    "start_time": "2022-08-17T14:02:08.332Z"
   },
   {
    "duration": 1764,
    "start_time": "2022-08-17T14:02:10.167Z"
   },
   {
    "duration": 56,
    "start_time": "2022-08-17T14:02:11.932Z"
   },
   {
    "duration": 0,
    "start_time": "2022-08-17T14:02:11.990Z"
   },
   {
    "duration": 0,
    "start_time": "2022-08-17T14:02:11.991Z"
   },
   {
    "duration": 0,
    "start_time": "2022-08-17T14:02:11.993Z"
   },
   {
    "duration": 0,
    "start_time": "2022-08-17T14:02:11.994Z"
   },
   {
    "duration": 0,
    "start_time": "2022-08-17T14:02:11.995Z"
   },
   {
    "duration": 0,
    "start_time": "2022-08-17T14:02:11.996Z"
   },
   {
    "duration": 0,
    "start_time": "2022-08-17T14:02:11.999Z"
   },
   {
    "duration": 0,
    "start_time": "2022-08-17T14:02:12.000Z"
   },
   {
    "duration": 0,
    "start_time": "2022-08-17T14:02:12.001Z"
   },
   {
    "duration": 0,
    "start_time": "2022-08-17T14:02:12.002Z"
   },
   {
    "duration": 0,
    "start_time": "2022-08-17T14:02:12.004Z"
   },
   {
    "duration": 0,
    "start_time": "2022-08-17T14:02:12.005Z"
   },
   {
    "duration": 0,
    "start_time": "2022-08-17T14:02:12.006Z"
   },
   {
    "duration": 1384,
    "start_time": "2022-08-17T14:04:02.698Z"
   },
   {
    "duration": 1345,
    "start_time": "2022-08-17T14:04:28.604Z"
   },
   {
    "duration": 36,
    "start_time": "2022-08-17T14:04:29.951Z"
   },
   {
    "duration": 21,
    "start_time": "2022-08-17T14:04:29.988Z"
   },
   {
    "duration": 12,
    "start_time": "2022-08-17T14:04:30.011Z"
   },
   {
    "duration": 75,
    "start_time": "2022-08-17T14:04:30.025Z"
   },
   {
    "duration": 4,
    "start_time": "2022-08-17T14:04:30.103Z"
   },
   {
    "duration": 24,
    "start_time": "2022-08-17T14:04:30.109Z"
   },
   {
    "duration": 19,
    "start_time": "2022-08-17T14:04:30.135Z"
   },
   {
    "duration": 27,
    "start_time": "2022-08-17T14:04:30.156Z"
   },
   {
    "duration": 21,
    "start_time": "2022-08-17T14:04:30.185Z"
   },
   {
    "duration": 26,
    "start_time": "2022-08-17T14:04:30.208Z"
   },
   {
    "duration": 26,
    "start_time": "2022-08-17T14:04:30.236Z"
   },
   {
    "duration": 12,
    "start_time": "2022-08-17T14:04:30.264Z"
   },
   {
    "duration": 1742,
    "start_time": "2022-08-17T14:04:30.278Z"
   },
   {
    "duration": 1627,
    "start_time": "2022-08-17T14:04:32.022Z"
   },
   {
    "duration": 1369,
    "start_time": "2022-08-17T14:04:33.650Z"
   },
   {
    "duration": 1452,
    "start_time": "2022-08-17T14:04:35.021Z"
   },
   {
    "duration": 29,
    "start_time": "2022-08-17T14:04:36.475Z"
   },
   {
    "duration": 10,
    "start_time": "2022-08-17T14:04:36.506Z"
   },
   {
    "duration": 189,
    "start_time": "2022-08-17T14:04:36.518Z"
   },
   {
    "duration": 473,
    "start_time": "2022-08-17T14:04:36.709Z"
   },
   {
    "duration": 16,
    "start_time": "2022-08-17T14:04:37.184Z"
   },
   {
    "duration": 966,
    "start_time": "2022-08-17T14:04:37.201Z"
   },
   {
    "duration": 1149,
    "start_time": "2022-08-17T14:04:38.170Z"
   },
   {
    "duration": 1182,
    "start_time": "2022-08-17T14:04:39.322Z"
   },
   {
    "duration": 5,
    "start_time": "2022-08-17T14:04:40.506Z"
   },
   {
    "duration": 36738,
    "start_time": "2022-08-17T14:04:40.514Z"
   },
   {
    "duration": 1558,
    "start_time": "2022-08-17T14:05:17.256Z"
   },
   {
    "duration": 15,
    "start_time": "2022-08-17T14:05:18.816Z"
   },
   {
    "duration": 1646,
    "start_time": "2022-08-17T14:19:19.566Z"
   },
   {
    "duration": 361,
    "start_time": "2022-08-17T14:24:01.852Z"
   },
   {
    "duration": 25,
    "start_time": "2022-08-17T14:25:36.384Z"
   },
   {
    "duration": 13,
    "start_time": "2022-08-17T14:25:41.654Z"
   },
   {
    "duration": 121,
    "start_time": "2022-08-17T14:25:54.706Z"
   },
   {
    "duration": 134,
    "start_time": "2022-08-17T14:26:00.398Z"
   },
   {
    "duration": 1620,
    "start_time": "2022-08-17T14:28:54.962Z"
   },
   {
    "duration": 34,
    "start_time": "2022-08-17T14:28:56.585Z"
   },
   {
    "duration": 21,
    "start_time": "2022-08-17T14:28:56.621Z"
   },
   {
    "duration": 5,
    "start_time": "2022-08-17T14:28:56.645Z"
   },
   {
    "duration": 66,
    "start_time": "2022-08-17T14:28:56.651Z"
   },
   {
    "duration": 3,
    "start_time": "2022-08-17T14:28:56.719Z"
   },
   {
    "duration": 11,
    "start_time": "2022-08-17T14:28:56.724Z"
   },
   {
    "duration": 14,
    "start_time": "2022-08-17T14:28:56.736Z"
   },
   {
    "duration": 10,
    "start_time": "2022-08-17T14:28:56.751Z"
   },
   {
    "duration": 55,
    "start_time": "2022-08-17T14:28:56.763Z"
   },
   {
    "duration": 5,
    "start_time": "2022-08-17T14:28:56.820Z"
   },
   {
    "duration": 14,
    "start_time": "2022-08-17T14:28:56.827Z"
   },
   {
    "duration": 11,
    "start_time": "2022-08-17T14:28:56.843Z"
   },
   {
    "duration": 1692,
    "start_time": "2022-08-17T14:28:56.856Z"
   },
   {
    "duration": 1782,
    "start_time": "2022-08-17T14:28:58.549Z"
   },
   {
    "duration": 18807,
    "start_time": "2022-08-17T14:29:00.333Z"
   },
   {
    "duration": 0,
    "start_time": "2022-08-17T14:29:19.142Z"
   },
   {
    "duration": 0,
    "start_time": "2022-08-17T14:29:19.143Z"
   },
   {
    "duration": 0,
    "start_time": "2022-08-17T14:29:19.144Z"
   },
   {
    "duration": 0,
    "start_time": "2022-08-17T14:29:19.146Z"
   },
   {
    "duration": 0,
    "start_time": "2022-08-17T14:29:19.146Z"
   },
   {
    "duration": 0,
    "start_time": "2022-08-17T14:29:19.147Z"
   },
   {
    "duration": 0,
    "start_time": "2022-08-17T14:29:19.148Z"
   },
   {
    "duration": 0,
    "start_time": "2022-08-17T14:29:19.150Z"
   },
   {
    "duration": 0,
    "start_time": "2022-08-17T14:29:19.151Z"
   },
   {
    "duration": 0,
    "start_time": "2022-08-17T14:29:19.152Z"
   },
   {
    "duration": 0,
    "start_time": "2022-08-17T14:29:19.153Z"
   },
   {
    "duration": 0,
    "start_time": "2022-08-17T14:29:19.154Z"
   },
   {
    "duration": 0,
    "start_time": "2022-08-17T14:29:19.155Z"
   },
   {
    "duration": 0,
    "start_time": "2022-08-17T14:29:19.157Z"
   },
   {
    "duration": 0,
    "start_time": "2022-08-17T14:29:19.158Z"
   },
   {
    "duration": 177,
    "start_time": "2022-08-17T14:30:02.802Z"
   },
   {
    "duration": 3427,
    "start_time": "2022-08-17T14:30:18.807Z"
   },
   {
    "duration": 54,
    "start_time": "2022-08-17T14:30:44.253Z"
   },
   {
    "duration": 267,
    "start_time": "2022-08-17T14:30:46.780Z"
   },
   {
    "duration": 289,
    "start_time": "2022-08-17T14:31:11.452Z"
   },
   {
    "duration": 3155,
    "start_time": "2022-08-17T14:31:22.303Z"
   },
   {
    "duration": 1448,
    "start_time": "2022-08-17T14:35:20.460Z"
   },
   {
    "duration": 33,
    "start_time": "2022-08-17T14:35:21.910Z"
   },
   {
    "duration": 21,
    "start_time": "2022-08-17T14:35:21.945Z"
   },
   {
    "duration": 4,
    "start_time": "2022-08-17T14:35:21.968Z"
   },
   {
    "duration": 67,
    "start_time": "2022-08-17T14:35:21.974Z"
   },
   {
    "duration": 4,
    "start_time": "2022-08-17T14:35:22.042Z"
   },
   {
    "duration": 9,
    "start_time": "2022-08-17T14:35:22.048Z"
   },
   {
    "duration": 12,
    "start_time": "2022-08-17T14:35:22.059Z"
   },
   {
    "duration": 12,
    "start_time": "2022-08-17T14:35:22.100Z"
   },
   {
    "duration": 17,
    "start_time": "2022-08-17T14:35:22.115Z"
   },
   {
    "duration": 4,
    "start_time": "2022-08-17T14:35:22.134Z"
   },
   {
    "duration": 10,
    "start_time": "2022-08-17T14:35:22.140Z"
   },
   {
    "duration": 19,
    "start_time": "2022-08-17T14:35:22.151Z"
   },
   {
    "duration": 1748,
    "start_time": "2022-08-17T14:35:22.201Z"
   },
   {
    "duration": 1677,
    "start_time": "2022-08-17T14:35:23.951Z"
   },
   {
    "duration": 0,
    "start_time": "2022-08-17T14:37:35.942Z"
   },
   {
    "duration": 0,
    "start_time": "2022-08-17T14:37:35.943Z"
   },
   {
    "duration": 0,
    "start_time": "2022-08-17T14:37:35.943Z"
   },
   {
    "duration": 0,
    "start_time": "2022-08-17T14:37:35.944Z"
   },
   {
    "duration": 0,
    "start_time": "2022-08-17T14:37:35.945Z"
   },
   {
    "duration": 0,
    "start_time": "2022-08-17T14:37:35.946Z"
   },
   {
    "duration": 0,
    "start_time": "2022-08-17T14:37:35.947Z"
   },
   {
    "duration": 0,
    "start_time": "2022-08-17T14:37:35.948Z"
   },
   {
    "duration": 0,
    "start_time": "2022-08-17T14:37:35.950Z"
   },
   {
    "duration": 0,
    "start_time": "2022-08-17T14:37:35.950Z"
   },
   {
    "duration": 0,
    "start_time": "2022-08-17T14:37:35.952Z"
   },
   {
    "duration": 0,
    "start_time": "2022-08-17T14:37:35.952Z"
   },
   {
    "duration": 0,
    "start_time": "2022-08-17T14:37:35.954Z"
   },
   {
    "duration": 0,
    "start_time": "2022-08-17T14:37:35.954Z"
   },
   {
    "duration": 0,
    "start_time": "2022-08-17T14:37:35.956Z"
   },
   {
    "duration": 1,
    "start_time": "2022-08-17T14:37:35.956Z"
   },
   {
    "duration": 0,
    "start_time": "2022-08-17T14:37:35.958Z"
   },
   {
    "duration": 1361,
    "start_time": "2022-08-17T14:39:19.406Z"
   },
   {
    "duration": 35,
    "start_time": "2022-08-17T14:39:20.769Z"
   },
   {
    "duration": 20,
    "start_time": "2022-08-17T14:39:20.806Z"
   },
   {
    "duration": 15,
    "start_time": "2022-08-17T14:39:20.828Z"
   },
   {
    "duration": 61,
    "start_time": "2022-08-17T14:39:20.844Z"
   },
   {
    "duration": 3,
    "start_time": "2022-08-17T14:39:20.907Z"
   },
   {
    "duration": 8,
    "start_time": "2022-08-17T14:39:20.912Z"
   },
   {
    "duration": 23,
    "start_time": "2022-08-17T14:39:20.922Z"
   },
   {
    "duration": 14,
    "start_time": "2022-08-17T14:39:20.947Z"
   },
   {
    "duration": 55,
    "start_time": "2022-08-17T14:39:20.963Z"
   },
   {
    "duration": 19,
    "start_time": "2022-08-17T14:39:21.020Z"
   },
   {
    "duration": 7,
    "start_time": "2022-08-17T14:39:21.041Z"
   },
   {
    "duration": 6,
    "start_time": "2022-08-17T14:39:21.050Z"
   },
   {
    "duration": 1738,
    "start_time": "2022-08-17T14:39:21.058Z"
   },
   {
    "duration": 1622,
    "start_time": "2022-08-17T14:39:22.800Z"
   },
   {
    "duration": 120,
    "start_time": "2022-08-17T14:39:24.424Z"
   },
   {
    "duration": 0,
    "start_time": "2022-08-17T14:39:24.546Z"
   },
   {
    "duration": 0,
    "start_time": "2022-08-17T14:39:24.548Z"
   },
   {
    "duration": 0,
    "start_time": "2022-08-17T14:39:24.549Z"
   },
   {
    "duration": 0,
    "start_time": "2022-08-17T14:39:24.551Z"
   },
   {
    "duration": 0,
    "start_time": "2022-08-17T14:39:24.552Z"
   },
   {
    "duration": 0,
    "start_time": "2022-08-17T14:39:24.553Z"
   },
   {
    "duration": 0,
    "start_time": "2022-08-17T14:39:24.555Z"
   },
   {
    "duration": 0,
    "start_time": "2022-08-17T14:39:24.556Z"
   },
   {
    "duration": 0,
    "start_time": "2022-08-17T14:39:24.557Z"
   },
   {
    "duration": 0,
    "start_time": "2022-08-17T14:39:24.559Z"
   },
   {
    "duration": 0,
    "start_time": "2022-08-17T14:39:24.560Z"
   },
   {
    "duration": 0,
    "start_time": "2022-08-17T14:39:24.562Z"
   },
   {
    "duration": 0,
    "start_time": "2022-08-17T14:39:24.564Z"
   },
   {
    "duration": 0,
    "start_time": "2022-08-17T14:39:24.565Z"
   },
   {
    "duration": 0,
    "start_time": "2022-08-17T14:39:24.601Z"
   },
   {
    "duration": 0,
    "start_time": "2022-08-17T14:39:24.602Z"
   },
   {
    "duration": 4046,
    "start_time": "2022-08-17T14:39:34.058Z"
   },
   {
    "duration": 4146,
    "start_time": "2022-08-17T14:43:48.985Z"
   },
   {
    "duration": 279,
    "start_time": "2022-08-17T14:44:13.166Z"
   },
   {
    "duration": 4075,
    "start_time": "2022-08-17T14:44:16.739Z"
   },
   {
    "duration": 86,
    "start_time": "2022-08-17T14:47:39.615Z"
   },
   {
    "duration": 1490,
    "start_time": "2022-08-17T14:52:03.558Z"
   },
   {
    "duration": 34,
    "start_time": "2022-08-17T14:52:05.050Z"
   },
   {
    "duration": 23,
    "start_time": "2022-08-17T14:52:05.086Z"
   },
   {
    "duration": 4,
    "start_time": "2022-08-17T14:52:05.111Z"
   },
   {
    "duration": 53,
    "start_time": "2022-08-17T14:52:05.117Z"
   },
   {
    "duration": 4,
    "start_time": "2022-08-17T14:52:05.171Z"
   },
   {
    "duration": 7,
    "start_time": "2022-08-17T14:52:05.200Z"
   },
   {
    "duration": 15,
    "start_time": "2022-08-17T14:52:05.209Z"
   },
   {
    "duration": 10,
    "start_time": "2022-08-17T14:52:05.226Z"
   },
   {
    "duration": 61,
    "start_time": "2022-08-17T14:52:05.239Z"
   },
   {
    "duration": 5,
    "start_time": "2022-08-17T14:52:05.302Z"
   },
   {
    "duration": 13,
    "start_time": "2022-08-17T14:52:05.309Z"
   },
   {
    "duration": 8,
    "start_time": "2022-08-17T14:52:05.324Z"
   },
   {
    "duration": 1743,
    "start_time": "2022-08-17T14:52:05.334Z"
   },
   {
    "duration": 1733,
    "start_time": "2022-08-17T14:52:07.079Z"
   },
   {
    "duration": 4297,
    "start_time": "2022-08-17T14:52:08.814Z"
   },
   {
    "duration": 1260,
    "start_time": "2022-08-17T14:52:13.113Z"
   },
   {
    "duration": 1456,
    "start_time": "2022-08-17T14:52:14.374Z"
   },
   {
    "duration": 13,
    "start_time": "2022-08-17T14:52:15.832Z"
   },
   {
    "duration": 4,
    "start_time": "2022-08-17T14:52:15.846Z"
   },
   {
    "duration": 453,
    "start_time": "2022-08-17T14:52:15.851Z"
   },
   {
    "duration": 435,
    "start_time": "2022-08-17T14:52:16.306Z"
   },
   {
    "duration": 7,
    "start_time": "2022-08-17T14:52:16.742Z"
   },
   {
    "duration": 963,
    "start_time": "2022-08-17T14:52:16.751Z"
   },
   {
    "duration": 1307,
    "start_time": "2022-08-17T14:52:17.715Z"
   },
   {
    "duration": 1069,
    "start_time": "2022-08-17T14:52:19.023Z"
   },
   {
    "duration": 4,
    "start_time": "2022-08-17T14:52:20.100Z"
   },
   {
    "duration": 36041,
    "start_time": "2022-08-17T14:52:20.107Z"
   },
   {
    "duration": 1365,
    "start_time": "2022-08-17T14:52:56.150Z"
   },
   {
    "duration": 9,
    "start_time": "2022-08-17T14:52:57.517Z"
   },
   {
    "duration": 113,
    "start_time": "2022-08-17T14:54:41.171Z"
   },
   {
    "duration": 5,
    "start_time": "2022-08-17T14:55:09.469Z"
   },
   {
    "duration": 8,
    "start_time": "2022-08-17T14:55:38.234Z"
   },
   {
    "duration": 10,
    "start_time": "2022-08-17T14:55:44.424Z"
   },
   {
    "duration": 15,
    "start_time": "2022-08-17T14:55:50.359Z"
   },
   {
    "duration": 73,
    "start_time": "2022-08-17T14:57:29.832Z"
   },
   {
    "duration": 3,
    "start_time": "2022-08-17T15:01:16.369Z"
   },
   {
    "duration": 4,
    "start_time": "2022-08-17T15:01:21.241Z"
   },
   {
    "duration": 35741,
    "start_time": "2022-08-17T15:02:04.424Z"
   },
   {
    "duration": 16,
    "start_time": "2022-08-17T15:06:26.331Z"
   },
   {
    "duration": 70,
    "start_time": "2022-08-17T15:06:49.715Z"
   },
   {
    "duration": 7,
    "start_time": "2022-08-17T15:09:03.923Z"
   },
   {
    "duration": 4,
    "start_time": "2022-08-17T15:10:43.408Z"
   },
   {
    "duration": 28,
    "start_time": "2022-08-17T15:11:05.972Z"
   },
   {
    "duration": 5,
    "start_time": "2022-08-17T15:13:35.113Z"
   },
   {
    "duration": 26,
    "start_time": "2022-08-17T15:13:35.338Z"
   },
   {
    "duration": 4,
    "start_time": "2022-08-17T15:13:48.381Z"
   },
   {
    "duration": 3,
    "start_time": "2022-08-17T15:13:55.248Z"
   },
   {
    "duration": 22,
    "start_time": "2022-08-17T15:13:55.916Z"
   },
   {
    "duration": 4,
    "start_time": "2022-08-17T15:14:28.272Z"
   },
   {
    "duration": 24,
    "start_time": "2022-08-17T15:14:28.516Z"
   },
   {
    "duration": 58,
    "start_time": "2022-08-17T15:15:29.065Z"
   },
   {
    "duration": 24,
    "start_time": "2022-08-17T15:15:29.688Z"
   },
   {
    "duration": 3,
    "start_time": "2022-08-17T15:16:01.181Z"
   },
   {
    "duration": 4,
    "start_time": "2022-08-17T15:16:10.938Z"
   },
   {
    "duration": 1351,
    "start_time": "2022-08-17T15:25:36.958Z"
   },
   {
    "duration": 33,
    "start_time": "2022-08-17T15:25:38.311Z"
   },
   {
    "duration": 21,
    "start_time": "2022-08-17T15:25:38.345Z"
   },
   {
    "duration": 15,
    "start_time": "2022-08-17T15:25:38.367Z"
   },
   {
    "duration": 60,
    "start_time": "2022-08-17T15:25:38.383Z"
   },
   {
    "duration": 4,
    "start_time": "2022-08-17T15:25:38.444Z"
   },
   {
    "duration": 18,
    "start_time": "2022-08-17T15:25:38.449Z"
   },
   {
    "duration": 31,
    "start_time": "2022-08-17T15:25:38.469Z"
   },
   {
    "duration": 16,
    "start_time": "2022-08-17T15:25:38.502Z"
   },
   {
    "duration": 32,
    "start_time": "2022-08-17T15:25:38.520Z"
   },
   {
    "duration": 25,
    "start_time": "2022-08-17T15:25:38.554Z"
   },
   {
    "duration": 25,
    "start_time": "2022-08-17T15:25:38.580Z"
   },
   {
    "duration": 29,
    "start_time": "2022-08-17T15:25:38.607Z"
   },
   {
    "duration": 1709,
    "start_time": "2022-08-17T15:25:38.639Z"
   },
   {
    "duration": 1726,
    "start_time": "2022-08-17T15:25:40.349Z"
   },
   {
    "duration": 4036,
    "start_time": "2022-08-17T15:25:42.076Z"
   },
   {
    "duration": 1300,
    "start_time": "2022-08-17T15:25:46.114Z"
   },
   {
    "duration": 1341,
    "start_time": "2022-08-17T15:25:47.416Z"
   },
   {
    "duration": 13,
    "start_time": "2022-08-17T15:25:48.758Z"
   },
   {
    "duration": 4,
    "start_time": "2022-08-17T15:25:48.773Z"
   },
   {
    "duration": 205,
    "start_time": "2022-08-17T15:25:48.800Z"
   },
   {
    "duration": 441,
    "start_time": "2022-08-17T15:25:49.007Z"
   },
   {
    "duration": 112,
    "start_time": "2022-08-17T15:25:49.451Z"
   },
   {
    "duration": 1,
    "start_time": "2022-08-17T15:25:49.564Z"
   },
   {
    "duration": 0,
    "start_time": "2022-08-17T15:25:49.565Z"
   },
   {
    "duration": 0,
    "start_time": "2022-08-17T15:25:49.566Z"
   },
   {
    "duration": 0,
    "start_time": "2022-08-17T15:25:49.568Z"
   },
   {
    "duration": 0,
    "start_time": "2022-08-17T15:25:49.569Z"
   },
   {
    "duration": 0,
    "start_time": "2022-08-17T15:25:49.570Z"
   },
   {
    "duration": 0,
    "start_time": "2022-08-17T15:25:49.571Z"
   },
   {
    "duration": 0,
    "start_time": "2022-08-17T15:25:49.572Z"
   },
   {
    "duration": 0,
    "start_time": "2022-08-17T15:25:49.573Z"
   },
   {
    "duration": 0,
    "start_time": "2022-08-17T15:25:49.574Z"
   },
   {
    "duration": 0,
    "start_time": "2022-08-17T15:25:49.575Z"
   },
   {
    "duration": 0,
    "start_time": "2022-08-17T15:25:49.576Z"
   },
   {
    "duration": 3,
    "start_time": "2022-08-17T15:26:35.859Z"
   },
   {
    "duration": 12,
    "start_time": "2022-08-17T15:26:37.073Z"
   },
   {
    "duration": 7,
    "start_time": "2022-08-17T15:26:38.432Z"
   },
   {
    "duration": 880,
    "start_time": "2022-08-17T15:26:38.801Z"
   },
   {
    "duration": 1097,
    "start_time": "2022-08-17T15:26:40.521Z"
   },
   {
    "duration": 1150,
    "start_time": "2022-08-17T15:26:41.620Z"
   },
   {
    "duration": 4,
    "start_time": "2022-08-17T15:26:42.772Z"
   },
   {
    "duration": 1332,
    "start_time": "2022-08-17T15:34:55.032Z"
   },
   {
    "duration": 32,
    "start_time": "2022-08-17T15:34:56.366Z"
   },
   {
    "duration": 21,
    "start_time": "2022-08-17T15:34:56.400Z"
   },
   {
    "duration": 19,
    "start_time": "2022-08-17T15:34:56.422Z"
   },
   {
    "duration": 59,
    "start_time": "2022-08-17T15:34:56.442Z"
   },
   {
    "duration": 3,
    "start_time": "2022-08-17T15:34:56.503Z"
   },
   {
    "duration": 22,
    "start_time": "2022-08-17T15:34:56.507Z"
   },
   {
    "duration": 32,
    "start_time": "2022-08-17T15:34:56.530Z"
   },
   {
    "duration": 12,
    "start_time": "2022-08-17T15:34:56.564Z"
   },
   {
    "duration": 32,
    "start_time": "2022-08-17T15:34:56.578Z"
   },
   {
    "duration": 3,
    "start_time": "2022-08-17T15:34:56.612Z"
   },
   {
    "duration": 28,
    "start_time": "2022-08-17T15:34:56.617Z"
   },
   {
    "duration": 18,
    "start_time": "2022-08-17T15:34:56.646Z"
   },
   {
    "duration": 1600,
    "start_time": "2022-08-17T15:34:56.665Z"
   },
   {
    "duration": 1638,
    "start_time": "2022-08-17T15:34:58.267Z"
   },
   {
    "duration": 4048,
    "start_time": "2022-08-17T15:34:59.907Z"
   },
   {
    "duration": 1309,
    "start_time": "2022-08-17T15:35:03.956Z"
   },
   {
    "duration": 1371,
    "start_time": "2022-08-17T15:35:05.266Z"
   },
   {
    "duration": 13,
    "start_time": "2022-08-17T15:35:06.638Z"
   },
   {
    "duration": 9,
    "start_time": "2022-08-17T15:35:06.652Z"
   },
   {
    "duration": 246,
    "start_time": "2022-08-17T15:35:06.662Z"
   },
   {
    "duration": 446,
    "start_time": "2022-08-17T15:35:06.910Z"
   },
   {
    "duration": 3,
    "start_time": "2022-08-17T15:35:07.357Z"
   },
   {
    "duration": 19,
    "start_time": "2022-08-17T15:35:07.362Z"
   },
   {
    "duration": 22,
    "start_time": "2022-08-17T15:35:07.382Z"
   },
   {
    "duration": 865,
    "start_time": "2022-08-17T15:35:07.406Z"
   },
   {
    "duration": 1137,
    "start_time": "2022-08-17T15:35:08.273Z"
   },
   {
    "duration": 1056,
    "start_time": "2022-08-17T15:35:09.413Z"
   },
   {
    "duration": 3,
    "start_time": "2022-08-17T15:35:10.471Z"
   },
   {
    "duration": 1381,
    "start_time": "2022-08-17T15:41:34.173Z"
   },
   {
    "duration": 33,
    "start_time": "2022-08-17T15:41:35.556Z"
   },
   {
    "duration": 24,
    "start_time": "2022-08-17T15:41:35.590Z"
   },
   {
    "duration": 14,
    "start_time": "2022-08-17T15:41:35.616Z"
   },
   {
    "duration": 60,
    "start_time": "2022-08-17T15:41:35.632Z"
   },
   {
    "duration": 4,
    "start_time": "2022-08-17T15:41:35.694Z"
   },
   {
    "duration": 32,
    "start_time": "2022-08-17T15:41:35.701Z"
   },
   {
    "duration": 26,
    "start_time": "2022-08-17T15:41:35.735Z"
   },
   {
    "duration": 24,
    "start_time": "2022-08-17T15:41:35.763Z"
   },
   {
    "duration": 35,
    "start_time": "2022-08-17T15:41:35.791Z"
   },
   {
    "duration": 7,
    "start_time": "2022-08-17T15:41:35.827Z"
   },
   {
    "duration": 25,
    "start_time": "2022-08-17T15:41:35.835Z"
   },
   {
    "duration": 28,
    "start_time": "2022-08-17T15:41:35.861Z"
   },
   {
    "duration": 1582,
    "start_time": "2022-08-17T15:41:35.890Z"
   },
   {
    "duration": 1604,
    "start_time": "2022-08-17T15:41:37.474Z"
   },
   {
    "duration": 4152,
    "start_time": "2022-08-17T15:41:39.079Z"
   },
   {
    "duration": 1261,
    "start_time": "2022-08-17T15:41:43.232Z"
   },
   {
    "duration": 1357,
    "start_time": "2022-08-17T15:41:44.495Z"
   },
   {
    "duration": 13,
    "start_time": "2022-08-17T15:41:45.853Z"
   },
   {
    "duration": 6,
    "start_time": "2022-08-17T15:41:45.868Z"
   },
   {
    "duration": 200,
    "start_time": "2022-08-17T15:41:45.900Z"
   },
   {
    "duration": 430,
    "start_time": "2022-08-17T15:41:46.102Z"
   },
   {
    "duration": 3,
    "start_time": "2022-08-17T15:41:46.533Z"
   },
   {
    "duration": 14,
    "start_time": "2022-08-17T15:41:46.538Z"
   },
   {
    "duration": 7,
    "start_time": "2022-08-17T15:41:46.553Z"
   },
   {
    "duration": 914,
    "start_time": "2022-08-17T15:41:46.561Z"
   },
   {
    "duration": 1133,
    "start_time": "2022-08-17T15:41:47.477Z"
   },
   {
    "duration": 1069,
    "start_time": "2022-08-17T15:41:48.614Z"
   },
   {
    "duration": 4,
    "start_time": "2022-08-17T15:41:49.685Z"
   },
   {
    "duration": 1397,
    "start_time": "2022-08-17T15:50:59.102Z"
   },
   {
    "duration": 35,
    "start_time": "2022-08-17T15:51:00.501Z"
   },
   {
    "duration": 28,
    "start_time": "2022-08-17T15:51:00.538Z"
   },
   {
    "duration": 23,
    "start_time": "2022-08-17T15:51:00.568Z"
   },
   {
    "duration": 54,
    "start_time": "2022-08-17T15:51:00.593Z"
   },
   {
    "duration": 4,
    "start_time": "2022-08-17T15:51:00.649Z"
   },
   {
    "duration": 37,
    "start_time": "2022-08-17T15:51:00.655Z"
   },
   {
    "duration": 33,
    "start_time": "2022-08-17T15:51:00.694Z"
   },
   {
    "duration": 29,
    "start_time": "2022-08-17T15:51:00.729Z"
   },
   {
    "duration": 22,
    "start_time": "2022-08-17T15:51:00.761Z"
   },
   {
    "duration": 14,
    "start_time": "2022-08-17T15:51:00.785Z"
   },
   {
    "duration": 26,
    "start_time": "2022-08-17T15:51:00.800Z"
   },
   {
    "duration": 22,
    "start_time": "2022-08-17T15:51:00.828Z"
   },
   {
    "duration": 1727,
    "start_time": "2022-08-17T15:51:00.851Z"
   },
   {
    "duration": 1741,
    "start_time": "2022-08-17T15:51:02.580Z"
   },
   {
    "duration": 4112,
    "start_time": "2022-08-17T15:51:04.323Z"
   },
   {
    "duration": 1362,
    "start_time": "2022-08-17T15:51:08.436Z"
   },
   {
    "duration": 1469,
    "start_time": "2022-08-17T15:51:09.799Z"
   },
   {
    "duration": 30,
    "start_time": "2022-08-17T15:51:11.270Z"
   },
   {
    "duration": 4,
    "start_time": "2022-08-17T15:51:11.302Z"
   },
   {
    "duration": 492,
    "start_time": "2022-08-17T15:51:11.308Z"
   },
   {
    "duration": 349,
    "start_time": "2022-08-17T15:51:11.802Z"
   },
   {
    "duration": 4,
    "start_time": "2022-08-17T15:51:12.153Z"
   },
   {
    "duration": 16,
    "start_time": "2022-08-17T15:51:12.158Z"
   },
   {
    "duration": 25,
    "start_time": "2022-08-17T15:51:12.176Z"
   },
   {
    "duration": 874,
    "start_time": "2022-08-17T15:51:12.202Z"
   },
   {
    "duration": 1332,
    "start_time": "2022-08-17T15:51:13.078Z"
   },
   {
    "duration": 1066,
    "start_time": "2022-08-17T15:51:14.413Z"
   },
   {
    "duration": 3,
    "start_time": "2022-08-17T15:51:15.481Z"
   },
   {
    "duration": 1791,
    "start_time": "2022-08-18T03:53:54.083Z"
   },
   {
    "duration": 86,
    "start_time": "2022-08-18T03:53:55.876Z"
   },
   {
    "duration": 26,
    "start_time": "2022-08-18T03:53:55.964Z"
   },
   {
    "duration": 5,
    "start_time": "2022-08-18T03:53:55.992Z"
   },
   {
    "duration": 78,
    "start_time": "2022-08-18T03:53:55.999Z"
   },
   {
    "duration": 3,
    "start_time": "2022-08-18T03:53:56.079Z"
   },
   {
    "duration": 10,
    "start_time": "2022-08-18T03:53:56.084Z"
   },
   {
    "duration": 33,
    "start_time": "2022-08-18T03:53:56.096Z"
   },
   {
    "duration": 10,
    "start_time": "2022-08-18T03:53:56.131Z"
   },
   {
    "duration": 18,
    "start_time": "2022-08-18T03:53:56.143Z"
   },
   {
    "duration": 4,
    "start_time": "2022-08-18T03:53:56.163Z"
   },
   {
    "duration": 6,
    "start_time": "2022-08-18T03:53:56.169Z"
   },
   {
    "duration": 5,
    "start_time": "2022-08-18T03:53:56.177Z"
   },
   {
    "duration": 2050,
    "start_time": "2022-08-18T03:53:56.206Z"
   },
   {
    "duration": 2031,
    "start_time": "2022-08-18T03:53:58.258Z"
   },
   {
    "duration": 4553,
    "start_time": "2022-08-18T03:54:00.290Z"
   },
   {
    "duration": 1531,
    "start_time": "2022-08-18T03:54:04.846Z"
   },
   {
    "duration": 1655,
    "start_time": "2022-08-18T03:54:06.379Z"
   },
   {
    "duration": 15,
    "start_time": "2022-08-18T03:54:08.036Z"
   },
   {
    "duration": 4,
    "start_time": "2022-08-18T03:54:08.053Z"
   },
   {
    "duration": 648,
    "start_time": "2022-08-18T03:54:08.059Z"
   },
   {
    "duration": 527,
    "start_time": "2022-08-18T03:54:08.713Z"
   },
   {
    "duration": 4,
    "start_time": "2022-08-18T03:54:09.242Z"
   },
   {
    "duration": 37,
    "start_time": "2022-08-18T03:54:09.248Z"
   },
   {
    "duration": 12,
    "start_time": "2022-08-18T03:54:09.288Z"
   },
   {
    "duration": 1032,
    "start_time": "2022-08-18T03:54:09.303Z"
   },
   {
    "duration": 1393,
    "start_time": "2022-08-18T03:54:10.337Z"
   },
   {
    "duration": 1116,
    "start_time": "2022-08-18T03:54:11.732Z"
   },
   {
    "duration": 5,
    "start_time": "2022-08-18T03:54:12.849Z"
   },
   {
    "duration": 223605,
    "start_time": "2022-08-18T03:54:12.855Z"
   },
   {
    "duration": 0,
    "start_time": "2022-08-18T03:57:56.463Z"
   },
   {
    "duration": 0,
    "start_time": "2022-08-18T03:57:56.465Z"
   },
   {
    "duration": 0,
    "start_time": "2022-08-18T03:57:56.468Z"
   },
   {
    "duration": 1946,
    "start_time": "2022-08-18T03:58:01.043Z"
   },
   {
    "duration": 1285,
    "start_time": "2022-08-18T03:58:54.322Z"
   },
   {
    "duration": 15,
    "start_time": "2022-08-18T03:58:55.610Z"
   },
   {
    "duration": 1564,
    "start_time": "2022-08-18T05:34:32.680Z"
   },
   {
    "duration": 69,
    "start_time": "2022-08-18T05:34:34.247Z"
   },
   {
    "duration": 23,
    "start_time": "2022-08-18T05:34:34.318Z"
   },
   {
    "duration": 6,
    "start_time": "2022-08-18T05:34:34.344Z"
   },
   {
    "duration": 41,
    "start_time": "2022-08-18T05:34:34.352Z"
   },
   {
    "duration": 16,
    "start_time": "2022-08-18T05:34:34.395Z"
   },
   {
    "duration": 6,
    "start_time": "2022-08-18T05:34:34.412Z"
   },
   {
    "duration": 22,
    "start_time": "2022-08-18T05:34:34.419Z"
   },
   {
    "duration": 11,
    "start_time": "2022-08-18T05:34:34.442Z"
   },
   {
    "duration": 12,
    "start_time": "2022-08-18T05:34:34.455Z"
   },
   {
    "duration": 3,
    "start_time": "2022-08-18T05:34:34.469Z"
   },
   {
    "duration": 5,
    "start_time": "2022-08-18T05:34:34.474Z"
   },
   {
    "duration": 4,
    "start_time": "2022-08-18T05:34:34.512Z"
   },
   {
    "duration": 1594,
    "start_time": "2022-08-18T05:34:34.518Z"
   },
   {
    "duration": 1591,
    "start_time": "2022-08-18T05:34:36.114Z"
   },
   {
    "duration": 3901,
    "start_time": "2022-08-18T05:34:37.707Z"
   },
   {
    "duration": 1245,
    "start_time": "2022-08-18T05:34:41.610Z"
   },
   {
    "duration": 1205,
    "start_time": "2022-08-18T05:34:42.856Z"
   },
   {
    "duration": 11,
    "start_time": "2022-08-18T05:34:44.063Z"
   },
   {
    "duration": 5,
    "start_time": "2022-08-18T05:34:44.076Z"
   },
   {
    "duration": 137,
    "start_time": "2022-08-18T05:34:44.082Z"
   },
   {
    "duration": 563,
    "start_time": "2022-08-18T05:34:44.221Z"
   },
   {
    "duration": 3,
    "start_time": "2022-08-18T05:34:44.786Z"
   },
   {
    "duration": 21,
    "start_time": "2022-08-18T05:34:44.790Z"
   },
   {
    "duration": 7,
    "start_time": "2022-08-18T05:34:44.812Z"
   },
   {
    "duration": 770,
    "start_time": "2022-08-18T05:34:44.820Z"
   },
   {
    "duration": 1130,
    "start_time": "2022-08-18T05:34:45.592Z"
   },
   {
    "duration": 895,
    "start_time": "2022-08-18T05:34:46.725Z"
   },
   {
    "duration": 3,
    "start_time": "2022-08-18T05:34:47.622Z"
   },
   {
    "duration": 1305621,
    "start_time": "2022-08-18T05:34:47.626Z"
   },
   {
    "duration": 1763,
    "start_time": "2022-08-18T05:56:33.248Z"
   },
   {
    "duration": 1119,
    "start_time": "2022-08-18T05:56:35.013Z"
   },
   {
    "duration": 11,
    "start_time": "2022-08-18T05:56:36.134Z"
   },
   {
    "duration": 1852,
    "start_time": "2022-08-18T12:13:41.643Z"
   },
   {
    "duration": 154,
    "start_time": "2022-08-18T12:13:43.497Z"
   },
   {
    "duration": 22,
    "start_time": "2022-08-18T12:13:43.653Z"
   },
   {
    "duration": 4,
    "start_time": "2022-08-18T12:13:43.677Z"
   },
   {
    "duration": 47,
    "start_time": "2022-08-18T12:13:43.682Z"
   },
   {
    "duration": 3,
    "start_time": "2022-08-18T12:13:43.732Z"
   },
   {
    "duration": 7,
    "start_time": "2022-08-18T12:13:43.737Z"
   },
   {
    "duration": 33,
    "start_time": "2022-08-18T12:13:43.746Z"
   },
   {
    "duration": 10,
    "start_time": "2022-08-18T12:13:43.781Z"
   },
   {
    "duration": 15,
    "start_time": "2022-08-18T12:13:43.794Z"
   },
   {
    "duration": 4,
    "start_time": "2022-08-18T12:13:43.810Z"
   },
   {
    "duration": 8,
    "start_time": "2022-08-18T12:13:43.816Z"
   },
   {
    "duration": 4,
    "start_time": "2022-08-18T12:13:43.825Z"
   },
   {
    "duration": 1701,
    "start_time": "2022-08-18T12:13:43.831Z"
   },
   {
    "duration": 1690,
    "start_time": "2022-08-18T12:13:45.534Z"
   },
   {
    "duration": 4165,
    "start_time": "2022-08-18T12:13:47.225Z"
   },
   {
    "duration": 1353,
    "start_time": "2022-08-18T12:13:51.392Z"
   },
   {
    "duration": 1440,
    "start_time": "2022-08-18T12:13:52.747Z"
   },
   {
    "duration": 15,
    "start_time": "2022-08-18T12:13:54.189Z"
   },
   {
    "duration": 4,
    "start_time": "2022-08-18T12:13:54.206Z"
   },
   {
    "duration": 259,
    "start_time": "2022-08-18T12:13:54.211Z"
   },
   {
    "duration": 454,
    "start_time": "2022-08-18T12:13:54.472Z"
   },
   {
    "duration": 4,
    "start_time": "2022-08-18T12:13:54.928Z"
   },
   {
    "duration": 15,
    "start_time": "2022-08-18T12:13:54.934Z"
   },
   {
    "duration": 22,
    "start_time": "2022-08-18T12:13:54.950Z"
   },
   {
    "duration": 845,
    "start_time": "2022-08-18T12:13:54.974Z"
   },
   {
    "duration": 1248,
    "start_time": "2022-08-18T12:13:55.821Z"
   },
   {
    "duration": 1062,
    "start_time": "2022-08-18T12:13:57.074Z"
   },
   {
    "duration": 3,
    "start_time": "2022-08-18T12:13:58.137Z"
   },
   {
    "duration": 1657,
    "start_time": "2022-08-18T12:23:25.719Z"
   },
   {
    "duration": 35,
    "start_time": "2022-08-18T12:23:27.378Z"
   },
   {
    "duration": 33,
    "start_time": "2022-08-18T12:23:27.415Z"
   },
   {
    "duration": 5,
    "start_time": "2022-08-18T12:23:27.449Z"
   },
   {
    "duration": 57,
    "start_time": "2022-08-18T12:23:27.458Z"
   },
   {
    "duration": 7,
    "start_time": "2022-08-18T12:23:27.517Z"
   },
   {
    "duration": 13,
    "start_time": "2022-08-18T12:23:27.525Z"
   },
   {
    "duration": 19,
    "start_time": "2022-08-18T12:23:27.539Z"
   },
   {
    "duration": 11,
    "start_time": "2022-08-18T12:23:27.567Z"
   },
   {
    "duration": 27,
    "start_time": "2022-08-18T12:23:27.580Z"
   },
   {
    "duration": 4,
    "start_time": "2022-08-18T12:23:27.609Z"
   },
   {
    "duration": 8,
    "start_time": "2022-08-18T12:23:27.614Z"
   },
   {
    "duration": 5,
    "start_time": "2022-08-18T12:23:27.624Z"
   },
   {
    "duration": 1684,
    "start_time": "2022-08-18T12:23:27.631Z"
   },
   {
    "duration": 1729,
    "start_time": "2022-08-18T12:23:29.316Z"
   },
   {
    "duration": 4156,
    "start_time": "2022-08-18T12:23:31.047Z"
   },
   {
    "duration": 1365,
    "start_time": "2022-08-18T12:23:35.204Z"
   },
   {
    "duration": 1507,
    "start_time": "2022-08-18T12:23:36.571Z"
   },
   {
    "duration": 13,
    "start_time": "2022-08-18T12:23:38.080Z"
   },
   {
    "duration": 38,
    "start_time": "2022-08-18T12:23:38.095Z"
   },
   {
    "duration": 534,
    "start_time": "2022-08-18T12:23:38.135Z"
   },
   {
    "duration": 404,
    "start_time": "2022-08-18T12:23:38.670Z"
   },
   {
    "duration": 3,
    "start_time": "2022-08-18T12:23:39.076Z"
   },
   {
    "duration": 14,
    "start_time": "2022-08-18T12:23:39.081Z"
   },
   {
    "duration": 7,
    "start_time": "2022-08-18T12:23:39.097Z"
   },
   {
    "duration": 1020,
    "start_time": "2022-08-18T12:23:39.105Z"
   },
   {
    "duration": 1262,
    "start_time": "2022-08-18T12:23:40.127Z"
   },
   {
    "duration": 1062,
    "start_time": "2022-08-18T12:23:41.391Z"
   },
   {
    "duration": 4,
    "start_time": "2022-08-18T12:23:42.455Z"
   },
   {
    "duration": 3,
    "start_time": "2022-08-18T12:23:42.467Z"
   },
   {
    "duration": 2217,
    "start_time": "2022-08-18T12:23:42.471Z"
   },
   {
    "duration": 3,
    "start_time": "2022-08-18T12:23:44.690Z"
   },
   {
    "duration": 1276,
    "start_time": "2022-08-18T12:23:44.694Z"
   },
   {
    "duration": 13,
    "start_time": "2022-08-18T12:23:45.974Z"
   },
   {
    "duration": 4350,
    "start_time": "2022-08-18T12:40:27.614Z"
   },
   {
    "duration": 6,
    "start_time": "2022-08-18T12:41:29.753Z"
   },
   {
    "duration": 19,
    "start_time": "2022-08-18T12:41:38.577Z"
   },
   {
    "duration": 6,
    "start_time": "2022-08-18T12:43:00.681Z"
   },
   {
    "duration": 11,
    "start_time": "2022-08-18T12:43:30.752Z"
   },
   {
    "duration": 10,
    "start_time": "2022-08-18T12:43:37.021Z"
   },
   {
    "duration": 18,
    "start_time": "2022-08-18T12:43:44.168Z"
   },
   {
    "duration": 14,
    "start_time": "2022-08-18T12:43:46.618Z"
   },
   {
    "duration": 12,
    "start_time": "2022-08-18T12:44:05.811Z"
   },
   {
    "duration": 10,
    "start_time": "2022-08-18T12:44:08.987Z"
   },
   {
    "duration": 17,
    "start_time": "2022-08-18T12:44:15.932Z"
   },
   {
    "duration": 6,
    "start_time": "2022-08-18T12:44:23.449Z"
   },
   {
    "duration": 9,
    "start_time": "2022-08-18T12:44:43.026Z"
   },
   {
    "duration": 16,
    "start_time": "2022-08-18T12:45:17.762Z"
   },
   {
    "duration": 19,
    "start_time": "2022-08-18T12:45:43.863Z"
   },
   {
    "duration": 9,
    "start_time": "2022-08-18T12:45:48.984Z"
   },
   {
    "duration": 13,
    "start_time": "2022-08-18T12:46:02.376Z"
   },
   {
    "duration": 10,
    "start_time": "2022-08-18T12:46:16.263Z"
   },
   {
    "duration": 10,
    "start_time": "2022-08-18T12:46:19.823Z"
   },
   {
    "duration": 11,
    "start_time": "2022-08-18T12:46:31.773Z"
   },
   {
    "duration": 14,
    "start_time": "2022-08-18T12:46:37.171Z"
   },
   {
    "duration": 157,
    "start_time": "2022-08-18T12:46:40.008Z"
   },
   {
    "duration": 12,
    "start_time": "2022-08-18T12:46:43.112Z"
   },
   {
    "duration": 14,
    "start_time": "2022-08-18T12:47:03.354Z"
   },
   {
    "duration": 14,
    "start_time": "2022-08-18T12:47:10.295Z"
   },
   {
    "duration": 20,
    "start_time": "2022-08-18T12:47:16.473Z"
   },
   {
    "duration": 10,
    "start_time": "2022-08-18T12:47:19.805Z"
   }
  ],
  "kernelspec": {
   "display_name": "Python 3 (ipykernel)",
   "language": "python",
   "name": "python3"
  },
  "language_info": {
   "codemirror_mode": {
    "name": "ipython",
    "version": 3
   },
   "file_extension": ".py",
   "mimetype": "text/x-python",
   "name": "python",
   "nbconvert_exporter": "python",
   "pygments_lexer": "ipython3",
   "version": "3.9.7"
  },
  "toc": {
   "base_numbering": 1,
   "nav_menu": {},
   "number_sections": true,
   "sideBar": true,
   "skip_h1_title": true,
   "title_cell": "Table of Contents",
   "title_sidebar": "Contents",
   "toc_cell": false,
   "toc_position": {},
   "toc_section_display": true,
   "toc_window_display": false
  }
 },
 "nbformat": 4,
 "nbformat_minor": 2
}
